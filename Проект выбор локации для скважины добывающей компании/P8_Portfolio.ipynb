{
 "cells": [
  {
   "cell_type": "markdown",
   "metadata": {},
   "source": [
    "# Выбор локации для скважины"
   ]
  },
  {
   "cell_type": "markdown",
   "metadata": {},
   "source": [
    "Добывающей компании «ГлавРосГосНефть» нужно решить, где бурить новую скважину.\n",
    "\n",
    "Предоставлены пробы нефти в трёх регионах: в каждом 10 000 месторождений, где измерили качество нефти и объём её запасов. \n",
    "\n",
    "Необходимо построить модель машинного обучения, которая поможет определить регион, где добыча принесёт наибольшую прибыль. \n",
    "\n",
    "Так же необходимо проанализировать возможную прибыль и риски техникой *Bootstrap.*\n",
    "\n",
    "Шаги для выбора локации:\n",
    "\n",
    "- В избранном регионе собирать характеристики для скважин: качество нефти и объём её запасов;\n",
    "- Построить модель для предсказания объёма запасов в новых скважинах;\n",
    "- Выбирать скважины с самыми высокими оценками значений;\n",
    "- Определить регион с максимальной суммарной прибылью отобранных скважин."
   ]
  },
  {
   "cell_type": "markdown",
   "metadata": {},
   "source": [
    "## Загрузка и подготовка данных"
   ]
  },
  {
   "cell_type": "code",
   "execution_count": 1,
   "metadata": {},
   "outputs": [],
   "source": [
    "!pip install scikit-learn==1.4.2 -q\n",
    "!pip install imblearn -q"
   ]
  },
  {
   "cell_type": "code",
   "execution_count": 2,
   "metadata": {},
   "outputs": [],
   "source": [
    "import pandas as pd\n",
    "import matplotlib.pyplot as plt\n",
    "import numpy as np\n",
    "import seaborn as sns\n",
    "from scipy import stats as st\n",
    "\n",
    "from sklearn.linear_model import LinearRegression\n",
    "from sklearn.model_selection import train_test_split\n",
    "from sklearn.metrics import mean_absolute_error, mean_squared_error\n",
    "\n",
    "plt.rcParams[\"figure.figsize\"] = (15, 10)"
   ]
  },
  {
   "cell_type": "code",
   "execution_count": 3,
   "metadata": {},
   "outputs": [],
   "source": [
    "try:\n",
    "    df_0 = pd.read_csv('/datasets/geo_data_0.csv', sep=',')\n",
    "    df_1 = pd.read_csv('/datasets/geo_data_1.csv', sep=',')\n",
    "    df_2 = pd.read_csv('/datasets/geo_data_2.csv', sep=',')\n",
    "except:\n",
    "    df_0 = pd.read_csv('https://code.s3.yandex.net/datasets/geo_data_0.csv', sep=',')\n",
    "    df_1 = pd.read_csv('https://code.s3.yandex.net/datasets/geo_data_0.csv', sep=',')\n",
    "    df_2 = pd.read_csv('https://code.s3.yandex.net/datasets/geo_data_0.csv', sep=',')"
   ]
  },
  {
   "cell_type": "code",
   "execution_count": 4,
   "metadata": {},
   "outputs": [
    {
     "name": "stdout",
     "output_type": "stream",
     "text": [
      "1 регион\n"
     ]
    },
    {
     "data": {
      "text/html": [
       "<div>\n",
       "<style scoped>\n",
       "    .dataframe tbody tr th:only-of-type {\n",
       "        vertical-align: middle;\n",
       "    }\n",
       "\n",
       "    .dataframe tbody tr th {\n",
       "        vertical-align: top;\n",
       "    }\n",
       "\n",
       "    .dataframe thead th {\n",
       "        text-align: right;\n",
       "    }\n",
       "</style>\n",
       "<table border=\"1\" class=\"dataframe\">\n",
       "  <thead>\n",
       "    <tr style=\"text-align: right;\">\n",
       "      <th></th>\n",
       "      <th>id</th>\n",
       "      <th>f0</th>\n",
       "      <th>f1</th>\n",
       "      <th>f2</th>\n",
       "      <th>product</th>\n",
       "    </tr>\n",
       "  </thead>\n",
       "  <tbody>\n",
       "    <tr>\n",
       "      <th>0</th>\n",
       "      <td>txEyH</td>\n",
       "      <td>0.705745</td>\n",
       "      <td>-0.497823</td>\n",
       "      <td>1.221170</td>\n",
       "      <td>105.280062</td>\n",
       "    </tr>\n",
       "    <tr>\n",
       "      <th>1</th>\n",
       "      <td>2acmU</td>\n",
       "      <td>1.334711</td>\n",
       "      <td>-0.340164</td>\n",
       "      <td>4.365080</td>\n",
       "      <td>73.037750</td>\n",
       "    </tr>\n",
       "    <tr>\n",
       "      <th>2</th>\n",
       "      <td>409Wp</td>\n",
       "      <td>1.022732</td>\n",
       "      <td>0.151990</td>\n",
       "      <td>1.419926</td>\n",
       "      <td>85.265647</td>\n",
       "    </tr>\n",
       "    <tr>\n",
       "      <th>3</th>\n",
       "      <td>iJLyR</td>\n",
       "      <td>-0.032172</td>\n",
       "      <td>0.139033</td>\n",
       "      <td>2.978566</td>\n",
       "      <td>168.620776</td>\n",
       "    </tr>\n",
       "    <tr>\n",
       "      <th>4</th>\n",
       "      <td>Xdl7t</td>\n",
       "      <td>1.988431</td>\n",
       "      <td>0.155413</td>\n",
       "      <td>4.751769</td>\n",
       "      <td>154.036647</td>\n",
       "    </tr>\n",
       "  </tbody>\n",
       "</table>\n",
       "</div>"
      ],
      "text/plain": [
       "      id        f0        f1        f2     product\n",
       "0  txEyH  0.705745 -0.497823  1.221170  105.280062\n",
       "1  2acmU  1.334711 -0.340164  4.365080   73.037750\n",
       "2  409Wp  1.022732  0.151990  1.419926   85.265647\n",
       "3  iJLyR -0.032172  0.139033  2.978566  168.620776\n",
       "4  Xdl7t  1.988431  0.155413  4.751769  154.036647"
      ]
     },
     "metadata": {},
     "output_type": "display_data"
    },
    {
     "name": "stdout",
     "output_type": "stream",
     "text": [
      "2 регион\n"
     ]
    },
    {
     "data": {
      "text/html": [
       "<div>\n",
       "<style scoped>\n",
       "    .dataframe tbody tr th:only-of-type {\n",
       "        vertical-align: middle;\n",
       "    }\n",
       "\n",
       "    .dataframe tbody tr th {\n",
       "        vertical-align: top;\n",
       "    }\n",
       "\n",
       "    .dataframe thead th {\n",
       "        text-align: right;\n",
       "    }\n",
       "</style>\n",
       "<table border=\"1\" class=\"dataframe\">\n",
       "  <thead>\n",
       "    <tr style=\"text-align: right;\">\n",
       "      <th></th>\n",
       "      <th>id</th>\n",
       "      <th>f0</th>\n",
       "      <th>f1</th>\n",
       "      <th>f2</th>\n",
       "      <th>product</th>\n",
       "    </tr>\n",
       "  </thead>\n",
       "  <tbody>\n",
       "    <tr>\n",
       "      <th>0</th>\n",
       "      <td>kBEdx</td>\n",
       "      <td>-15.001348</td>\n",
       "      <td>-8.276000</td>\n",
       "      <td>-0.005876</td>\n",
       "      <td>3.179103</td>\n",
       "    </tr>\n",
       "    <tr>\n",
       "      <th>1</th>\n",
       "      <td>62mP7</td>\n",
       "      <td>14.272088</td>\n",
       "      <td>-3.475083</td>\n",
       "      <td>0.999183</td>\n",
       "      <td>26.953261</td>\n",
       "    </tr>\n",
       "    <tr>\n",
       "      <th>2</th>\n",
       "      <td>vyE1P</td>\n",
       "      <td>6.263187</td>\n",
       "      <td>-5.948386</td>\n",
       "      <td>5.001160</td>\n",
       "      <td>134.766305</td>\n",
       "    </tr>\n",
       "    <tr>\n",
       "      <th>3</th>\n",
       "      <td>KcrkZ</td>\n",
       "      <td>-13.081196</td>\n",
       "      <td>-11.506057</td>\n",
       "      <td>4.999415</td>\n",
       "      <td>137.945408</td>\n",
       "    </tr>\n",
       "    <tr>\n",
       "      <th>4</th>\n",
       "      <td>AHL4O</td>\n",
       "      <td>12.702195</td>\n",
       "      <td>-8.147433</td>\n",
       "      <td>5.004363</td>\n",
       "      <td>134.766305</td>\n",
       "    </tr>\n",
       "  </tbody>\n",
       "</table>\n",
       "</div>"
      ],
      "text/plain": [
       "      id         f0         f1        f2     product\n",
       "0  kBEdx -15.001348  -8.276000 -0.005876    3.179103\n",
       "1  62mP7  14.272088  -3.475083  0.999183   26.953261\n",
       "2  vyE1P   6.263187  -5.948386  5.001160  134.766305\n",
       "3  KcrkZ -13.081196 -11.506057  4.999415  137.945408\n",
       "4  AHL4O  12.702195  -8.147433  5.004363  134.766305"
      ]
     },
     "metadata": {},
     "output_type": "display_data"
    },
    {
     "name": "stdout",
     "output_type": "stream",
     "text": [
      "3 регион\n"
     ]
    },
    {
     "data": {
      "text/html": [
       "<div>\n",
       "<style scoped>\n",
       "    .dataframe tbody tr th:only-of-type {\n",
       "        vertical-align: middle;\n",
       "    }\n",
       "\n",
       "    .dataframe tbody tr th {\n",
       "        vertical-align: top;\n",
       "    }\n",
       "\n",
       "    .dataframe thead th {\n",
       "        text-align: right;\n",
       "    }\n",
       "</style>\n",
       "<table border=\"1\" class=\"dataframe\">\n",
       "  <thead>\n",
       "    <tr style=\"text-align: right;\">\n",
       "      <th></th>\n",
       "      <th>id</th>\n",
       "      <th>f0</th>\n",
       "      <th>f1</th>\n",
       "      <th>f2</th>\n",
       "      <th>product</th>\n",
       "    </tr>\n",
       "  </thead>\n",
       "  <tbody>\n",
       "    <tr>\n",
       "      <th>0</th>\n",
       "      <td>fwXo0</td>\n",
       "      <td>-1.146987</td>\n",
       "      <td>0.963328</td>\n",
       "      <td>-0.828965</td>\n",
       "      <td>27.758673</td>\n",
       "    </tr>\n",
       "    <tr>\n",
       "      <th>1</th>\n",
       "      <td>WJtFt</td>\n",
       "      <td>0.262778</td>\n",
       "      <td>0.269839</td>\n",
       "      <td>-2.530187</td>\n",
       "      <td>56.069697</td>\n",
       "    </tr>\n",
       "    <tr>\n",
       "      <th>2</th>\n",
       "      <td>ovLUW</td>\n",
       "      <td>0.194587</td>\n",
       "      <td>0.289035</td>\n",
       "      <td>-5.586433</td>\n",
       "      <td>62.871910</td>\n",
       "    </tr>\n",
       "    <tr>\n",
       "      <th>3</th>\n",
       "      <td>q6cA6</td>\n",
       "      <td>2.236060</td>\n",
       "      <td>-0.553760</td>\n",
       "      <td>0.930038</td>\n",
       "      <td>114.572842</td>\n",
       "    </tr>\n",
       "    <tr>\n",
       "      <th>4</th>\n",
       "      <td>WPMUX</td>\n",
       "      <td>-0.515993</td>\n",
       "      <td>1.716266</td>\n",
       "      <td>5.899011</td>\n",
       "      <td>149.600746</td>\n",
       "    </tr>\n",
       "  </tbody>\n",
       "</table>\n",
       "</div>"
      ],
      "text/plain": [
       "      id        f0        f1        f2     product\n",
       "0  fwXo0 -1.146987  0.963328 -0.828965   27.758673\n",
       "1  WJtFt  0.262778  0.269839 -2.530187   56.069697\n",
       "2  ovLUW  0.194587  0.289035 -5.586433   62.871910\n",
       "3  q6cA6  2.236060 -0.553760  0.930038  114.572842\n",
       "4  WPMUX -0.515993  1.716266  5.899011  149.600746"
      ]
     },
     "execution_count": 4,
     "metadata": {},
     "output_type": "execute_result"
    }
   ],
   "source": [
    "print('1 регион')\n",
    "display(df_0.head())\n",
    "print('2 регион')\n",
    "display(df_1.head())\n",
    "print('3 регион')\n",
    "df_2.head()"
   ]
  },
  {
   "cell_type": "code",
   "execution_count": 5,
   "metadata": {},
   "outputs": [
    {
     "name": "stdout",
     "output_type": "stream",
     "text": [
      "1 регион\n",
      "<class 'pandas.core.frame.DataFrame'>\n",
      "RangeIndex: 100000 entries, 0 to 99999\n",
      "Data columns (total 5 columns):\n",
      " #   Column   Non-Null Count   Dtype  \n",
      "---  ------   --------------   -----  \n",
      " 0   id       100000 non-null  object \n",
      " 1   f0       100000 non-null  float64\n",
      " 2   f1       100000 non-null  float64\n",
      " 3   f2       100000 non-null  float64\n",
      " 4   product  100000 non-null  float64\n",
      "dtypes: float64(4), object(1)\n",
      "memory usage: 3.8+ MB\n"
     ]
    },
    {
     "data": {
      "text/plain": [
       "None"
      ]
     },
     "metadata": {},
     "output_type": "display_data"
    },
    {
     "name": "stdout",
     "output_type": "stream",
     "text": [
      "2 регион\n",
      "<class 'pandas.core.frame.DataFrame'>\n",
      "RangeIndex: 100000 entries, 0 to 99999\n",
      "Data columns (total 5 columns):\n",
      " #   Column   Non-Null Count   Dtype  \n",
      "---  ------   --------------   -----  \n",
      " 0   id       100000 non-null  object \n",
      " 1   f0       100000 non-null  float64\n",
      " 2   f1       100000 non-null  float64\n",
      " 3   f2       100000 non-null  float64\n",
      " 4   product  100000 non-null  float64\n",
      "dtypes: float64(4), object(1)\n",
      "memory usage: 3.8+ MB\n"
     ]
    },
    {
     "data": {
      "text/plain": [
       "None"
      ]
     },
     "metadata": {},
     "output_type": "display_data"
    },
    {
     "name": "stdout",
     "output_type": "stream",
     "text": [
      "3 регион\n",
      "<class 'pandas.core.frame.DataFrame'>\n",
      "RangeIndex: 100000 entries, 0 to 99999\n",
      "Data columns (total 5 columns):\n",
      " #   Column   Non-Null Count   Dtype  \n",
      "---  ------   --------------   -----  \n",
      " 0   id       100000 non-null  object \n",
      " 1   f0       100000 non-null  float64\n",
      " 2   f1       100000 non-null  float64\n",
      " 3   f2       100000 non-null  float64\n",
      " 4   product  100000 non-null  float64\n",
      "dtypes: float64(4), object(1)\n",
      "memory usage: 3.8+ MB\n"
     ]
    }
   ],
   "source": [
    "print('1 регион')\n",
    "display(df_0.info())\n",
    "print('2 регион')\n",
    "display(df_1.info())\n",
    "print('3 регион')\n",
    "df_2.info()"
   ]
  },
  {
   "cell_type": "code",
   "execution_count": 6,
   "metadata": {},
   "outputs": [
    {
     "name": "stdout",
     "output_type": "stream",
     "text": [
      "1 регион\n"
     ]
    },
    {
     "data": {
      "text/html": [
       "<div>\n",
       "<style scoped>\n",
       "    .dataframe tbody tr th:only-of-type {\n",
       "        vertical-align: middle;\n",
       "    }\n",
       "\n",
       "    .dataframe tbody tr th {\n",
       "        vertical-align: top;\n",
       "    }\n",
       "\n",
       "    .dataframe thead th {\n",
       "        text-align: right;\n",
       "    }\n",
       "</style>\n",
       "<table border=\"1\" class=\"dataframe\">\n",
       "  <thead>\n",
       "    <tr style=\"text-align: right;\">\n",
       "      <th></th>\n",
       "      <th>count</th>\n",
       "      <th>unique</th>\n",
       "      <th>top</th>\n",
       "      <th>freq</th>\n",
       "      <th>mean</th>\n",
       "      <th>std</th>\n",
       "      <th>min</th>\n",
       "      <th>25%</th>\n",
       "      <th>50%</th>\n",
       "      <th>75%</th>\n",
       "      <th>max</th>\n",
       "    </tr>\n",
       "  </thead>\n",
       "  <tbody>\n",
       "    <tr>\n",
       "      <th>id</th>\n",
       "      <td>100000</td>\n",
       "      <td>99990</td>\n",
       "      <td>HZww2</td>\n",
       "      <td>2</td>\n",
       "      <td>NaN</td>\n",
       "      <td>NaN</td>\n",
       "      <td>NaN</td>\n",
       "      <td>NaN</td>\n",
       "      <td>NaN</td>\n",
       "      <td>NaN</td>\n",
       "      <td>NaN</td>\n",
       "    </tr>\n",
       "    <tr>\n",
       "      <th>f0</th>\n",
       "      <td>100000.0</td>\n",
       "      <td>NaN</td>\n",
       "      <td>NaN</td>\n",
       "      <td>NaN</td>\n",
       "      <td>0.500419</td>\n",
       "      <td>0.871832</td>\n",
       "      <td>-1.408605</td>\n",
       "      <td>-0.07258</td>\n",
       "      <td>0.50236</td>\n",
       "      <td>1.073581</td>\n",
       "      <td>2.362331</td>\n",
       "    </tr>\n",
       "    <tr>\n",
       "      <th>f1</th>\n",
       "      <td>100000.0</td>\n",
       "      <td>NaN</td>\n",
       "      <td>NaN</td>\n",
       "      <td>NaN</td>\n",
       "      <td>0.250143</td>\n",
       "      <td>0.504433</td>\n",
       "      <td>-0.848218</td>\n",
       "      <td>-0.200881</td>\n",
       "      <td>0.250252</td>\n",
       "      <td>0.700646</td>\n",
       "      <td>1.343769</td>\n",
       "    </tr>\n",
       "    <tr>\n",
       "      <th>f2</th>\n",
       "      <td>100000.0</td>\n",
       "      <td>NaN</td>\n",
       "      <td>NaN</td>\n",
       "      <td>NaN</td>\n",
       "      <td>2.502647</td>\n",
       "      <td>3.248248</td>\n",
       "      <td>-12.088328</td>\n",
       "      <td>0.287748</td>\n",
       "      <td>2.515969</td>\n",
       "      <td>4.715088</td>\n",
       "      <td>16.00379</td>\n",
       "    </tr>\n",
       "    <tr>\n",
       "      <th>product</th>\n",
       "      <td>100000.0</td>\n",
       "      <td>NaN</td>\n",
       "      <td>NaN</td>\n",
       "      <td>NaN</td>\n",
       "      <td>92.5</td>\n",
       "      <td>44.288691</td>\n",
       "      <td>0.0</td>\n",
       "      <td>56.497507</td>\n",
       "      <td>91.849972</td>\n",
       "      <td>128.564089</td>\n",
       "      <td>185.364347</td>\n",
       "    </tr>\n",
       "  </tbody>\n",
       "</table>\n",
       "</div>"
      ],
      "text/plain": [
       "            count unique    top freq      mean        std        min  \\\n",
       "id         100000  99990  HZww2    2       NaN        NaN        NaN   \n",
       "f0       100000.0    NaN    NaN  NaN  0.500419   0.871832  -1.408605   \n",
       "f1       100000.0    NaN    NaN  NaN  0.250143   0.504433  -0.848218   \n",
       "f2       100000.0    NaN    NaN  NaN  2.502647   3.248248 -12.088328   \n",
       "product  100000.0    NaN    NaN  NaN      92.5  44.288691        0.0   \n",
       "\n",
       "               25%        50%         75%         max  \n",
       "id             NaN        NaN         NaN         NaN  \n",
       "f0        -0.07258    0.50236    1.073581    2.362331  \n",
       "f1       -0.200881   0.250252    0.700646    1.343769  \n",
       "f2        0.287748   2.515969    4.715088    16.00379  \n",
       "product  56.497507  91.849972  128.564089  185.364347  "
      ]
     },
     "metadata": {},
     "output_type": "display_data"
    },
    {
     "name": "stdout",
     "output_type": "stream",
     "text": [
      "2 регион\n"
     ]
    },
    {
     "data": {
      "text/html": [
       "<div>\n",
       "<style scoped>\n",
       "    .dataframe tbody tr th:only-of-type {\n",
       "        vertical-align: middle;\n",
       "    }\n",
       "\n",
       "    .dataframe tbody tr th {\n",
       "        vertical-align: top;\n",
       "    }\n",
       "\n",
       "    .dataframe thead th {\n",
       "        text-align: right;\n",
       "    }\n",
       "</style>\n",
       "<table border=\"1\" class=\"dataframe\">\n",
       "  <thead>\n",
       "    <tr style=\"text-align: right;\">\n",
       "      <th></th>\n",
       "      <th>count</th>\n",
       "      <th>unique</th>\n",
       "      <th>top</th>\n",
       "      <th>freq</th>\n",
       "      <th>mean</th>\n",
       "      <th>std</th>\n",
       "      <th>min</th>\n",
       "      <th>25%</th>\n",
       "      <th>50%</th>\n",
       "      <th>75%</th>\n",
       "      <th>max</th>\n",
       "    </tr>\n",
       "  </thead>\n",
       "  <tbody>\n",
       "    <tr>\n",
       "      <th>id</th>\n",
       "      <td>100000</td>\n",
       "      <td>99996</td>\n",
       "      <td>5ltQ6</td>\n",
       "      <td>2</td>\n",
       "      <td>NaN</td>\n",
       "      <td>NaN</td>\n",
       "      <td>NaN</td>\n",
       "      <td>NaN</td>\n",
       "      <td>NaN</td>\n",
       "      <td>NaN</td>\n",
       "      <td>NaN</td>\n",
       "    </tr>\n",
       "    <tr>\n",
       "      <th>f0</th>\n",
       "      <td>100000.0</td>\n",
       "      <td>NaN</td>\n",
       "      <td>NaN</td>\n",
       "      <td>NaN</td>\n",
       "      <td>1.141296</td>\n",
       "      <td>8.965932</td>\n",
       "      <td>-31.609576</td>\n",
       "      <td>-6.298551</td>\n",
       "      <td>1.153055</td>\n",
       "      <td>8.621015</td>\n",
       "      <td>29.421755</td>\n",
       "    </tr>\n",
       "    <tr>\n",
       "      <th>f1</th>\n",
       "      <td>100000.0</td>\n",
       "      <td>NaN</td>\n",
       "      <td>NaN</td>\n",
       "      <td>NaN</td>\n",
       "      <td>-4.796579</td>\n",
       "      <td>5.119872</td>\n",
       "      <td>-26.358598</td>\n",
       "      <td>-8.267985</td>\n",
       "      <td>-4.813172</td>\n",
       "      <td>-1.332816</td>\n",
       "      <td>18.734063</td>\n",
       "    </tr>\n",
       "    <tr>\n",
       "      <th>f2</th>\n",
       "      <td>100000.0</td>\n",
       "      <td>NaN</td>\n",
       "      <td>NaN</td>\n",
       "      <td>NaN</td>\n",
       "      <td>2.494541</td>\n",
       "      <td>1.703572</td>\n",
       "      <td>-0.018144</td>\n",
       "      <td>1.000021</td>\n",
       "      <td>2.011479</td>\n",
       "      <td>3.999904</td>\n",
       "      <td>5.019721</td>\n",
       "    </tr>\n",
       "    <tr>\n",
       "      <th>product</th>\n",
       "      <td>100000.0</td>\n",
       "      <td>NaN</td>\n",
       "      <td>NaN</td>\n",
       "      <td>NaN</td>\n",
       "      <td>68.825</td>\n",
       "      <td>45.944423</td>\n",
       "      <td>0.0</td>\n",
       "      <td>26.953261</td>\n",
       "      <td>57.085625</td>\n",
       "      <td>107.813044</td>\n",
       "      <td>137.945408</td>\n",
       "    </tr>\n",
       "  </tbody>\n",
       "</table>\n",
       "</div>"
      ],
      "text/plain": [
       "            count unique    top freq      mean        std        min  \\\n",
       "id         100000  99996  5ltQ6    2       NaN        NaN        NaN   \n",
       "f0       100000.0    NaN    NaN  NaN  1.141296   8.965932 -31.609576   \n",
       "f1       100000.0    NaN    NaN  NaN -4.796579   5.119872 -26.358598   \n",
       "f2       100000.0    NaN    NaN  NaN  2.494541   1.703572  -0.018144   \n",
       "product  100000.0    NaN    NaN  NaN    68.825  45.944423        0.0   \n",
       "\n",
       "               25%        50%         75%         max  \n",
       "id             NaN        NaN         NaN         NaN  \n",
       "f0       -6.298551   1.153055    8.621015   29.421755  \n",
       "f1       -8.267985  -4.813172   -1.332816   18.734063  \n",
       "f2        1.000021   2.011479    3.999904    5.019721  \n",
       "product  26.953261  57.085625  107.813044  137.945408  "
      ]
     },
     "metadata": {},
     "output_type": "display_data"
    },
    {
     "name": "stdout",
     "output_type": "stream",
     "text": [
      "3 регион\n"
     ]
    },
    {
     "data": {
      "text/html": [
       "<div>\n",
       "<style scoped>\n",
       "    .dataframe tbody tr th:only-of-type {\n",
       "        vertical-align: middle;\n",
       "    }\n",
       "\n",
       "    .dataframe tbody tr th {\n",
       "        vertical-align: top;\n",
       "    }\n",
       "\n",
       "    .dataframe thead th {\n",
       "        text-align: right;\n",
       "    }\n",
       "</style>\n",
       "<table border=\"1\" class=\"dataframe\">\n",
       "  <thead>\n",
       "    <tr style=\"text-align: right;\">\n",
       "      <th></th>\n",
       "      <th>count</th>\n",
       "      <th>unique</th>\n",
       "      <th>top</th>\n",
       "      <th>freq</th>\n",
       "      <th>mean</th>\n",
       "      <th>std</th>\n",
       "      <th>min</th>\n",
       "      <th>25%</th>\n",
       "      <th>50%</th>\n",
       "      <th>75%</th>\n",
       "      <th>max</th>\n",
       "    </tr>\n",
       "  </thead>\n",
       "  <tbody>\n",
       "    <tr>\n",
       "      <th>id</th>\n",
       "      <td>100000</td>\n",
       "      <td>99996</td>\n",
       "      <td>KUPhW</td>\n",
       "      <td>2</td>\n",
       "      <td>NaN</td>\n",
       "      <td>NaN</td>\n",
       "      <td>NaN</td>\n",
       "      <td>NaN</td>\n",
       "      <td>NaN</td>\n",
       "      <td>NaN</td>\n",
       "      <td>NaN</td>\n",
       "    </tr>\n",
       "    <tr>\n",
       "      <th>f0</th>\n",
       "      <td>100000.0</td>\n",
       "      <td>NaN</td>\n",
       "      <td>NaN</td>\n",
       "      <td>NaN</td>\n",
       "      <td>0.002023</td>\n",
       "      <td>1.732045</td>\n",
       "      <td>-8.760004</td>\n",
       "      <td>-1.162288</td>\n",
       "      <td>0.009424</td>\n",
       "      <td>1.158535</td>\n",
       "      <td>7.238262</td>\n",
       "    </tr>\n",
       "    <tr>\n",
       "      <th>f1</th>\n",
       "      <td>100000.0</td>\n",
       "      <td>NaN</td>\n",
       "      <td>NaN</td>\n",
       "      <td>NaN</td>\n",
       "      <td>-0.002081</td>\n",
       "      <td>1.730417</td>\n",
       "      <td>-7.08402</td>\n",
       "      <td>-1.17482</td>\n",
       "      <td>-0.009482</td>\n",
       "      <td>1.163678</td>\n",
       "      <td>7.844801</td>\n",
       "    </tr>\n",
       "    <tr>\n",
       "      <th>f2</th>\n",
       "      <td>100000.0</td>\n",
       "      <td>NaN</td>\n",
       "      <td>NaN</td>\n",
       "      <td>NaN</td>\n",
       "      <td>2.495128</td>\n",
       "      <td>3.473445</td>\n",
       "      <td>-11.970335</td>\n",
       "      <td>0.130359</td>\n",
       "      <td>2.484236</td>\n",
       "      <td>4.858794</td>\n",
       "      <td>16.739402</td>\n",
       "    </tr>\n",
       "    <tr>\n",
       "      <th>product</th>\n",
       "      <td>100000.0</td>\n",
       "      <td>NaN</td>\n",
       "      <td>NaN</td>\n",
       "      <td>NaN</td>\n",
       "      <td>95.0</td>\n",
       "      <td>44.749921</td>\n",
       "      <td>0.0</td>\n",
       "      <td>59.450441</td>\n",
       "      <td>94.925613</td>\n",
       "      <td>130.595027</td>\n",
       "      <td>190.029838</td>\n",
       "    </tr>\n",
       "  </tbody>\n",
       "</table>\n",
       "</div>"
      ],
      "text/plain": [
       "            count unique    top freq      mean        std        min  \\\n",
       "id         100000  99996  KUPhW    2       NaN        NaN        NaN   \n",
       "f0       100000.0    NaN    NaN  NaN  0.002023   1.732045  -8.760004   \n",
       "f1       100000.0    NaN    NaN  NaN -0.002081   1.730417   -7.08402   \n",
       "f2       100000.0    NaN    NaN  NaN  2.495128   3.473445 -11.970335   \n",
       "product  100000.0    NaN    NaN  NaN      95.0  44.749921        0.0   \n",
       "\n",
       "               25%        50%         75%         max  \n",
       "id             NaN        NaN         NaN         NaN  \n",
       "f0       -1.162288   0.009424    1.158535    7.238262  \n",
       "f1        -1.17482  -0.009482    1.163678    7.844801  \n",
       "f2        0.130359   2.484236    4.858794   16.739402  \n",
       "product  59.450441  94.925613  130.595027  190.029838  "
      ]
     },
     "execution_count": 6,
     "metadata": {},
     "output_type": "execute_result"
    }
   ],
   "source": [
    "print('1 регион')\n",
    "display(df_0.describe(include='all').T)\n",
    "print('2 регион')\n",
    "display(df_1.describe(include='all').T)\n",
    "print('3 регион')\n",
    "df_2.describe(include='all').T"
   ]
  },
  {
   "cell_type": "code",
   "execution_count": 7,
   "metadata": {},
   "outputs": [
    {
     "data": {
      "text/plain": [
       "0"
      ]
     },
     "metadata": {},
     "output_type": "display_data"
    },
    {
     "data": {
      "text/plain": [
       "0"
      ]
     },
     "metadata": {},
     "output_type": "display_data"
    },
    {
     "data": {
      "text/plain": [
       "0"
      ]
     },
     "execution_count": 7,
     "metadata": {},
     "output_type": "execute_result"
    }
   ],
   "source": [
    "display(df_0.duplicated().sum())\n",
    "display(df_1.duplicated().sum())\n",
    "df_2.duplicated().sum()"
   ]
  },
  {
   "cell_type": "code",
   "execution_count": 8,
   "metadata": {},
   "outputs": [
    {
     "name": "stderr",
     "output_type": "stream",
     "text": [
      "/opt/conda/lib/python3.9/site-packages/seaborn/_decorators.py:36: FutureWarning: Pass the following variable as a keyword arg: x. From version 0.12, the only valid positional argument will be `data`, and passing other arguments without an explicit keyword will result in an error or misinterpretation.\n",
      "  warnings.warn(\n",
      "/opt/conda/lib/python3.9/site-packages/seaborn/_decorators.py:36: FutureWarning: Pass the following variable as a keyword arg: x. From version 0.12, the only valid positional argument will be `data`, and passing other arguments without an explicit keyword will result in an error or misinterpretation.\n",
      "  warnings.warn(\n",
      "/opt/conda/lib/python3.9/site-packages/seaborn/_decorators.py:36: FutureWarning: Pass the following variable as a keyword arg: x. From version 0.12, the only valid positional argument will be `data`, and passing other arguments without an explicit keyword will result in an error or misinterpretation.\n",
      "  warnings.warn(\n"
     ]
    },
    {
     "data": {
      "image/png": "[encoded data removed]",
      "text/plain": [
       "<Figure size 1080x720 with 3 Axes>"
      ]
     },
     "metadata": {
      "needs_background": "light"
     },
     "output_type": "display_data"
    }
   ],
   "source": [
    "fig, axes = plt.subplots(3,1, sharex=True)\n",
    "\n",
    "sns.boxplot(df_0['product'], ax=axes[0], color='brown')\n",
    "sns.boxplot(df_1['product'], ax=axes[1], color='khaki')\n",
    "sns.boxplot(df_2['product'], ax=axes[2], color='green')\n",
    "\n",
    "axes[0].set_xlabel('1 регион', fontsize=14)\n",
    "axes[1].set_xlabel('2 регион', fontsize=14)\n",
    "axes[2].set_xlabel('3 регион', fontsize=14)\n",
    "\n",
    "fig.suptitle('Диаграмма размаха запасов нефти по регионам', fontsize=18)\n",
    "plt.show()"
   ]
  },
  {
   "cell_type": "code",
   "execution_count": 9,
   "metadata": {},
   "outputs": [
    {
     "data": {
      "image/png": "[encoded data removed]",
      "text/plain": [
       "<Figure size 1080x720 with 2 Axes>"
      ]
     },
     "metadata": {
      "needs_background": "light"
     },
     "output_type": "display_data"
    }
   ],
   "source": [
    "fig, ax = plt.subplots()\n",
    "\n",
    "sns.heatmap(df_0.corr(), annot = True, cbar_kws= {'orientation': 'horizontal'});"
   ]
  },
  {
   "cell_type": "code",
   "execution_count": 10,
   "metadata": {},
   "outputs": [
    {
     "data": {
      "image/png": "[encoded data removed]",
      "text/plain": [
       "<Figure size 1080x720 with 2 Axes>"
      ]
     },
     "metadata": {
      "needs_background": "light"
     },
     "output_type": "display_data"
    }
   ],
   "source": [
    "fig, ax = plt.subplots()\n",
    "\n",
    "sns.heatmap(df_1.corr(), annot = True, cbar_kws= {'orientation': 'horizontal'});"
   ]
  },
  {
   "cell_type": "code",
   "execution_count": 11,
   "metadata": {},
   "outputs": [
    {
     "data": {
      "image/png": "[encoded data removed]",
      "text/plain": [
       "<Figure size 1080x720 with 2 Axes>"
      ]
     },
     "metadata": {
      "needs_background": "light"
     },
     "output_type": "display_data"
    }
   ],
   "source": [
    "fig, ax = plt.subplots()\n",
    "\n",
    "sns.heatmap(df_2.corr(), annot = True, cbar_kws= {'orientation': 'horizontal'});"
   ]
  },
  {
   "cell_type": "markdown",
   "metadata": {},
   "source": [
    "**Вывод:** Данные загружены, выведены первые пять строк 3-х таблиц, вывел сводную статистику всех столбцов, видим что есть совпадения по *id*, хотя пропусков и дубикатов по всем столбцам нет.Т.к мы не знаем кикие значения верные у дубирущих скважин,оставим всё как есть.Построив диаграмму размаха видно,что в 1 и 3 регионе средний объём запасов в скважине и размах примерно одинаковый, во 2-м регионе средний запас значительно меньше так же как и размах.Взглянув на корреляцию признаков,наблюдаю линейную зависимость во 2 регионе целевого признака от f2,остальные признаки не коррелируют."
   ]
  },
  {
   "cell_type": "markdown",
   "metadata": {},
   "source": [
    "## Обучение и проверка модели"
   ]
  },
  {
   "cell_type": "code",
   "execution_count": 12,
   "metadata": {},
   "outputs": [],
   "source": [
    "RANDOM_STATE = 12345\n",
    "TEST_SIZE = 0.25\n",
    "\n",
    "\n",
    "def split_function(df):\n",
    "    X = df.drop(['product', 'id'], axis=1)\n",
    "    y = df['product']\n",
    "    \n",
    "    X_train, X_valid, y_train, y_valid = train_test_split(X, y, test_size=TEST_SIZE, random_state=RANDOM_STATE)\n",
    "    \n",
    "    model = LinearRegression()\n",
    "    model.fit(X_train, y_train)\n",
    "    predicted_valid = model.predict(X_valid)\n",
    "    \n",
    "    rmse = mean_squared_error(y_valid, predicted_valid) ** 0.5\n",
    "    \n",
    "    predicted_valid_mean =  predicted_valid.sum()/len(predicted_valid)\n",
    "    \n",
    "    return y_valid, predicted_valid, rmse,  predicted_valid_mean                  "
   ]
  },
  {
   "cell_type": "markdown",
   "metadata": {},
   "source": [
    "Данные разбиты на обучающую и валидационную выборку с соотношением 75:25.Обучена модель *LinearRegression()*"
   ]
  },
  {
   "cell_type": "code",
   "execution_count": 13,
   "metadata": {},
   "outputs": [],
   "source": [
    "y_valid_df_0, predicted_valid_df_0, rmse_df_0,  predicted_valid_mean_df_0 = split_function(df_0)\n",
    "y_valid_df_1, predicted_valid_df_1, rmse_df_1,  predicted_valid_mean_df_1 = split_function(df_1)\n",
    "y_valid_df_2, predicted_valid_df_2, rmse_df_2,  predicted_valid_mean_df_2 = split_function(df_2)"
   ]
  },
  {
   "cell_type": "code",
   "execution_count": 14,
   "metadata": {},
   "outputs": [
    {
     "name": "stdout",
     "output_type": "stream",
     "text": [
      "Средний запас предсказанного сырья в 1 регионе = 92.59\n",
      "RMSE в 1 регионе = 37.58\n"
     ]
    }
   ],
   "source": [
    "print(f'Средний запас предсказанного сырья в 1 регионе = {round(predicted_valid_mean_df_0,2)}')\n",
    "print(f'RMSE в 1 регионе = {round(rmse_df_0,2)}')"
   ]
  },
  {
   "cell_type": "code",
   "execution_count": 15,
   "metadata": {},
   "outputs": [
    {
     "name": "stdout",
     "output_type": "stream",
     "text": [
      "Средний запас предсказанного сырья во 2 регионе = 68.73\n",
      "RMSE во 2 регионе = 0.89\n"
     ]
    }
   ],
   "source": [
    "print(f'Средний запас предсказанного сырья во 2 регионе = {round(predicted_valid_mean_df_1,2)}')\n",
    "print(f'RMSE во 2 регионе = {round(rmse_df_1,2)}')"
   ]
  },
  {
   "cell_type": "code",
   "execution_count": 16,
   "metadata": {},
   "outputs": [
    {
     "name": "stdout",
     "output_type": "stream",
     "text": [
      "Средний запас предсказанного сырья в 3 регионе = 94.97\n",
      "RMSE в 3 регионе = 40.03\n"
     ]
    }
   ],
   "source": [
    "print(f'Средний запас предсказанного сырья в 3 регионе = {round(predicted_valid_mean_df_2,2)}')\n",
    "print(f'RMSE в 3 регионе = {round(rmse_df_2,2)}')"
   ]
  },
  {
   "cell_type": "markdown",
   "metadata": {},
   "source": [
    "**Вывод:** По уровню среднего запаса сырья среди всех скважен конкретного региона,лучшей оказался 3 регион (94.97 тыс. баррелей), лучший RMSE во 2 регионе (0.89)"
   ]
  },
  {
   "cell_type": "markdown",
   "metadata": {},
   "source": [
    "## Подготовка к расчёту прибыли"
   ]
  },
  {
   "cell_type": "code",
   "execution_count": 17,
   "metadata": {},
   "outputs": [],
   "source": [
    "POINTS = 500\n",
    "BEST_POINTS = 200\n",
    "BUDGET = 10**10\n",
    "PRODUCT_PROFIT = 450*1000\n",
    "LOSS_PROBABILITY_THRESHOLD = 2.5"
   ]
  },
  {
   "cell_type": "code",
   "execution_count": 18,
   "metadata": {},
   "outputs": [
    {
     "data": {
      "text/plain": [
       "111.11111111111111"
      ]
     },
     "execution_count": 18,
     "metadata": {},
     "output_type": "execute_result"
    }
   ],
   "source": [
    "min_product = BUDGET / (PRODUCT_PROFIT * BEST_POINTS)\n",
    "min_product"
   ]
  },
  {
   "cell_type": "markdown",
   "metadata": {},
   "source": [
    "Достаточный объём сырья для безубыточной разработки новой скважины равняется 111,1 тыс. баррелей. В каждом из трёх регионов средний запас сырья скважин, меньше чем достаточный объём сырья, поэтому нужно выбрать именно те скважины,которые принесут прибыль.\n",
    "- Средний запас предсказанного сырья в 1 регионе = 92.59(отклонение на -18.5)\n",
    "- Средний запас предсказанного сырья во 2 регионе  = 68.73(отклонение на -42.3)\n",
    "- Средний запас предсказанного сырья в 3 регионе = 94.97(отклонение на -16.1)"
   ]
  },
  {
   "cell_type": "markdown",
   "metadata": {},
   "source": [
    "## Расчёт прибыли и рисков "
   ]
  },
  {
   "cell_type": "code",
   "execution_count": 19,
   "metadata": {},
   "outputs": [],
   "source": [
    "def series_type(target, pred):\n",
    "    target = target.reset_index(drop=True)\n",
    "    pred = pd.Series(pred)\n",
    "    return target, pred\n",
    "\n",
    "y_valid_df_0, predicted_valid_df_0 = series_type(y_valid_df_0, predicted_valid_df_0)\n",
    "y_valid_df_1, predicted_valid_df_1 = series_type(y_valid_df_1, predicted_valid_df_1)\n",
    "y_valid_df_2, predicted_valid_df_2 = series_type(y_valid_df_2, predicted_valid_df_2)"
   ]
  },
  {
   "cell_type": "code",
   "execution_count": 20,
   "metadata": {},
   "outputs": [],
   "source": [
    "def revenue(target, probabilities, count):\n",
    "    probs_sorted = probabilities.sort_values(ascending=False)\n",
    "    selected = target[probs_sorted.index][:count]\n",
    "    return (PRODUCT_PROFIT * selected.sum() - BUDGET)"
   ]
  },
  {
   "cell_type": "code",
   "execution_count": 21,
   "metadata": {},
   "outputs": [],
   "source": [
    "def make_bootstrap(target, probabilities):\n",
    "    \n",
    "    state = np.random.RandomState(12345)\n",
    "\n",
    "    values = []\n",
    "    for i in range(1000):\n",
    "        target_subsample = target.sample(n=POINTS, replace=True, random_state=state)\n",
    "        probs_subsample = probabilities[target_subsample.index]\n",
    "    \n",
    "        values.append(revenue(target_subsample, probs_subsample, BEST_POINTS))\n",
    "\n",
    "    values = pd.Series(values)\n",
    "    \n",
    "    alpha = .95\n",
    "    df = values.count() - 1\n",
    "    confidence_interval = st.t.interval(alpha, df, loc=values.mean(), scale=values.sem())\n",
    " \n",
    "    mean = values.mean()\n",
    "    print('Средняя прибыль:', mean/10**6, 'млн. руб')\n",
    "    print('Доверительный интервал (истинное среднее)', confidence_interval)\n",
    "    interval = (values.quantile(.025), values.quantile(.975))\n",
    "    print('Доверительный интервал (прогноз)', interval)\n",
    "    \n",
    "    loss_probability = values[values < 0].count() / values.count()\n",
    "    print('Вероятность убытка региона : {:.2%}'.format(loss_probability))  "
   ]
  },
  {
   "cell_type": "code",
   "execution_count": 22,
   "metadata": {},
   "outputs": [
    {
     "name": "stdout",
     "output_type": "stream",
     "text": [
      "Модель 1 региона\n",
      "Средняя прибыль: 425.93852691059243 млн. руб\n",
      "Доверительный интервал (истинное среднее) (408732207.06869864, 443144846.7524862)\n",
      "Доверительный интервал (прогноз) (-102090094.83793654, 947976353.3583689)\n",
      "Вероятность убытка региона : 6.00%\n",
      "Модель 2 региона\n",
      "Средняя прибыль: 515.2227734432898 млн. руб\n",
      "Доверительный интервал (истинное среднее) (501621476.17632174, 528824070.710258)\n",
      "Доверительный интервал (прогноз) (68873225.37050176, 931547591.2570494)\n",
      "Вероятность убытка региона : 1.00%\n",
      "Модель 3 региона\n",
      "Средняя прибыль: 435.0083627827556 млн. руб\n",
      "Доверительный интервал (истинное среднее) (417453552.0413578, 452563173.5241534)\n",
      "Доверительный интервал (прогноз) (-128880547.32978901, 969706954.1802661)\n",
      "Вероятность убытка региона : 6.40%\n"
     ]
    }
   ],
   "source": [
    "print('Модель 1 региона');\n",
    "make_bootstrap(y_valid_df_0, predicted_valid_df_0)\n",
    "print('Модель 2 региона');\n",
    "make_bootstrap(y_valid_df_1, predicted_valid_df_1)\n",
    "print('Модель 3 региона');\n",
    "make_bootstrap(y_valid_df_2, predicted_valid_df_2)"
   ]
  },
  {
   "cell_type": "markdown",
   "metadata": {},
   "source": [
    "**Вывод:** Второй регион является лучшим для разработки, тут самая высока прибыль 515 млн. руб, вероятность убытка данного региона равняется 1%(меньше 2,5%),что соответствует критериям выбора."
   ]
  },
  {
   "cell_type": "markdown",
   "metadata": {},
   "source": [
    "## Вывод:\n",
    "\n",
    "Проведена загрузка и подготовка данных\n",
    "\n",
    "Данные разбиты на тренировочную и валидационную выборки соотношением *75:25*\n",
    "\n",
    "Обучена модель *линейной регрессии*\n",
    "\n",
    "Средний объём сырья для безубыточной разработки новой скважины равен *111.111* тыс. барреля\n",
    "\n",
    "Данные по 1 региону:\n",
    "- Средний запас предсказанного сырья в 1 регионе = 92.59\n",
    "- RMSE в 1 регионе = 37.58\n",
    "- Применив технику Bootstrap с 1000 выборок, найдена средняя прибыль: 425.93852691059243 млн. руб\n",
    "- Применив технику Bootstrap с 1000 выборок, найдена вероятность убытка региона : 6.00%\n",
    "- Доверительный интервал (истинное среднее) (408732207.06869864, 443144846.7524862)\n",
    "- Доверительный интервал (прогноз) (-102090094.83793654, 947976353.3583689)\n",
    "\n",
    "Данные по 2 региону:\n",
    "- Средний запас предсказанного сырья в 1 регионе = 68.73\n",
    "- RMSE в 1 регионе = 0.89\n",
    "- Применив технику Bootstrap с 1000 выборок, найдена средняя прибыль: 515.2227734432898 млн. руб\n",
    "- Применив технику Bootstrap с 1000 выборок, найдена вероятность убытка региона : 1.00%\n",
    "- Доверительный интервал (истинное среднее) (501621476.17632174, 528824070.710258)\n",
    "- Доверительный интервал (прогноз) (68873225.37050176, 931547591.2570494)\n",
    "\n",
    "Данные по 3 региону:\n",
    "- Средний запас предсказанного сырья в 1 регионе = 94.97\n",
    "- RMSE в 1 регионе = 40.03\n",
    "- Применив технику Bootstrap с 1000 выборок, найдена средняя прибыль: 435.0083627827556 млн. руб\n",
    "- Применив технику Bootstrap с 1000 выборок, найдена вероятность убытка региона : 6.40%\n",
    "- Доверительный интервал (истинное среднее) (417453552.0413578, 452563173.5241534)\n",
    "- Доверительный интервал (прогноз) (-128880547.32978901, 969706954.1802661)\n",
    "\n",
    "Второй регион является лучшим для разработки, тут самая высока прибыль 515 млн. руб, вероятность убытка данного региона равняется 1%(меньше 2,5%),что соответствует критериям выбора."
   ]
  },
  {
   "cell_type": "markdown",
   "metadata": {},
   "source": [
    "## Чек-лист готовности проекта"
   ]
  },
  {
   "cell_type": "markdown",
   "metadata": {},
   "source": [
    "Поставьте 'x' в выполненных пунктах. Далее нажмите Shift+Enter."
   ]
  },
  {
   "cell_type": "markdown",
   "metadata": {},
   "source": [
    "- [x]  Jupyter Notebook открыт\n",
    "- [x]  Весь код выполняется без ошибок\n",
    "- [x]  Ячейки с кодом расположены в порядке исполнения\n",
    "- [x]  Выполнен шаг 1: данные подготовлены\n",
    "- [x]  Выполнен шаг 2: модели обучены и проверены\n",
    "    - [x]  Данные корректно разбиты на обучающую и валидационную выборки\n",
    "    - [x]  Модели обучены, предсказания сделаны\n",
    "    - [x]  Предсказания и правильные ответы на валидационной выборке сохранены\n",
    "    - [x]  На экране напечатаны результаты\n",
    "    - [x]  Сделаны выводы\n",
    "- [x]  Выполнен шаг 3: проведена подготовка к расчёту прибыли\n",
    "    - [x]  Для всех ключевых значений созданы константы Python\n",
    "    - [x]  Посчитано минимальное среднее количество продукта в месторождениях региона, достаточное для разработки\n",
    "    - [x]  По предыдущему пункту сделаны выводы\n",
    "    - [x]  Написана функция расчёта прибыли\n",
    "- [x]  Выполнен шаг 4: посчитаны риски и прибыль\n",
    "    - [x]  Проведена процедура *Bootstrap*\n",
    "    - [x]  Все параметры бутстрепа соответствуют условию\n",
    "    - [x]  Найдены все нужные величины\n",
    "    - [x]  Предложен регион для разработки месторождения\n",
    "    - [x]  Выбор региона обоснован"
   ]
  },
  {
   "cell_type": "code",
   "execution_count": null,
   "metadata": {},
   "outputs": [],
   "source": []
  }
 ],
 "metadata": {
  "ExecuteTimeLog": [
   {
    "duration": 4993,
    "start_time": "2023-11-29T17:01:41.312Z"
   },
   {
    "duration": 1444,
    "start_time": "2023-11-29T17:01:46.307Z"
   },
   {
    "duration": 375,
    "start_time": "2023-11-29T17:01:47.753Z"
   },
   {
    "duration": 201,
    "start_time": "2023-11-29T17:01:48.130Z"
   },
   {
    "duration": 203,
    "start_time": "2023-11-29T17:01:48.335Z"
   },
   {
    "duration": 15,
    "start_time": "2023-11-29T17:02:29.254Z"
   },
   {
    "duration": 10,
    "start_time": "2023-11-29T17:02:30.253Z"
   },
   {
    "duration": 10,
    "start_time": "2023-11-29T17:02:31.745Z"
   },
   {
    "duration": 16,
    "start_time": "2023-11-29T17:03:03.209Z"
   },
   {
    "duration": 14,
    "start_time": "2023-11-29T17:03:03.879Z"
   },
   {
    "duration": 15,
    "start_time": "2023-11-29T17:03:04.571Z"
   },
   {
    "duration": 44,
    "start_time": "2023-11-29T17:03:50.222Z"
   },
   {
    "duration": 42,
    "start_time": "2023-11-29T17:03:53.421Z"
   },
   {
    "duration": 46,
    "start_time": "2023-11-29T17:03:57.034Z"
   },
   {
    "duration": 402,
    "start_time": "2023-11-29T17:04:18.527Z"
   },
   {
    "duration": 369,
    "start_time": "2023-11-29T17:12:58.812Z"
   },
   {
    "duration": 361,
    "start_time": "2023-11-29T17:13:01.059Z"
   },
   {
    "duration": 412,
    "start_time": "2023-11-29T17:16:05.932Z"
   },
   {
    "duration": 10,
    "start_time": "2023-11-29T17:16:07.551Z"
   },
   {
    "duration": 10,
    "start_time": "2023-11-29T17:16:15.190Z"
   },
   {
    "duration": 10,
    "start_time": "2023-11-29T17:16:16.086Z"
   },
   {
    "duration": 15,
    "start_time": "2023-11-29T17:16:17.655Z"
   },
   {
    "duration": 15,
    "start_time": "2023-11-29T17:16:18.424Z"
   },
   {
    "duration": 16,
    "start_time": "2023-11-29T17:16:19.148Z"
   },
   {
    "duration": 5,
    "start_time": "2023-11-29T17:22:27.281Z"
   },
   {
    "duration": 4,
    "start_time": "2023-11-29T17:22:50.946Z"
   },
   {
    "duration": 115,
    "start_time": "2023-11-29T17:26:38.447Z"
   },
   {
    "duration": 90,
    "start_time": "2023-11-29T17:26:55.059Z"
   },
   {
    "duration": 109,
    "start_time": "2023-11-29T17:27:02.315Z"
   },
   {
    "duration": 94,
    "start_time": "2023-11-29T17:27:13.171Z"
   },
   {
    "duration": 107,
    "start_time": "2023-11-29T17:27:14.684Z"
   },
   {
    "duration": 4,
    "start_time": "2023-11-29T17:28:03.119Z"
   },
   {
    "duration": 47,
    "start_time": "2023-11-29T17:28:08.567Z"
   },
   {
    "duration": 4,
    "start_time": "2023-11-29T17:35:10.391Z"
   },
   {
    "duration": 124,
    "start_time": "2023-11-29T17:35:10.591Z"
   },
   {
    "duration": 6,
    "start_time": "2023-11-29T17:41:42.168Z"
   },
   {
    "duration": 444,
    "start_time": "2023-11-29T17:41:42.696Z"
   },
   {
    "duration": 10,
    "start_time": "2023-11-29T17:41:43.707Z"
   },
   {
    "duration": 11,
    "start_time": "2023-11-29T17:41:44.225Z"
   },
   {
    "duration": 12,
    "start_time": "2023-11-29T17:41:44.776Z"
   },
   {
    "duration": 15,
    "start_time": "2023-11-29T17:41:45.290Z"
   },
   {
    "duration": 15,
    "start_time": "2023-11-29T17:41:45.703Z"
   },
   {
    "duration": 15,
    "start_time": "2023-11-29T17:41:46.833Z"
   },
   {
    "duration": 97,
    "start_time": "2023-11-29T17:41:47.652Z"
   },
   {
    "duration": 103,
    "start_time": "2023-11-29T17:41:48.307Z"
   },
   {
    "duration": 100,
    "start_time": "2023-11-29T17:41:48.713Z"
   },
   {
    "duration": 347,
    "start_time": "2023-11-29T17:41:49.156Z"
   },
   {
    "duration": 433,
    "start_time": "2023-11-29T17:41:49.638Z"
   },
   {
    "duration": 338,
    "start_time": "2023-11-29T17:41:50.444Z"
   },
   {
    "duration": 4,
    "start_time": "2023-11-29T17:41:55.783Z"
   },
   {
    "duration": 40,
    "start_time": "2023-11-29T17:41:56.540Z"
   },
   {
    "duration": 3,
    "start_time": "2023-11-29T17:47:46.552Z"
   },
   {
    "duration": 53,
    "start_time": "2023-11-29T17:47:47.101Z"
   },
   {
    "duration": 10,
    "start_time": "2023-12-03T13:03:17.347Z"
   },
   {
    "duration": 41,
    "start_time": "2023-12-03T13:03:18.817Z"
   },
   {
    "duration": 14379,
    "start_time": "2023-12-03T13:03:29.798Z"
   },
   {
    "duration": 1556,
    "start_time": "2023-12-03T13:03:44.180Z"
   },
   {
    "duration": 786,
    "start_time": "2023-12-03T13:03:45.738Z"
   },
   {
    "duration": 16,
    "start_time": "2023-12-03T13:03:46.526Z"
   },
   {
    "duration": 11,
    "start_time": "2023-12-03T13:03:46.543Z"
   },
   {
    "duration": 10,
    "start_time": "2023-12-03T13:03:46.556Z"
   },
   {
    "duration": 27,
    "start_time": "2023-12-03T13:03:46.568Z"
   },
   {
    "duration": 15,
    "start_time": "2023-12-03T13:03:46.597Z"
   },
   {
    "duration": 14,
    "start_time": "2023-12-03T13:03:46.614Z"
   },
   {
    "duration": 113,
    "start_time": "2023-12-03T13:03:46.630Z"
   },
   {
    "duration": 94,
    "start_time": "2023-12-03T13:03:46.745Z"
   },
   {
    "duration": 98,
    "start_time": "2023-12-03T13:03:46.841Z"
   },
   {
    "duration": 403,
    "start_time": "2023-12-03T13:03:46.941Z"
   },
   {
    "duration": 330,
    "start_time": "2023-12-03T13:03:47.346Z"
   },
   {
    "duration": 304,
    "start_time": "2023-12-03T13:03:47.683Z"
   },
   {
    "duration": 3,
    "start_time": "2023-12-03T13:03:47.989Z"
   },
   {
    "duration": 52,
    "start_time": "2023-12-03T13:03:47.994Z"
   },
   {
    "duration": 107,
    "start_time": "2023-12-03T13:14:27.663Z"
   },
   {
    "duration": 8,
    "start_time": "2023-12-03T13:14:49.327Z"
   },
   {
    "duration": 4,
    "start_time": "2023-12-03T13:15:09.278Z"
   },
   {
    "duration": 3,
    "start_time": "2023-12-03T13:15:53.756Z"
   },
   {
    "duration": 4,
    "start_time": "2023-12-03T13:15:55.162Z"
   },
   {
    "duration": 2,
    "start_time": "2023-12-03T13:20:44.157Z"
   },
   {
    "duration": 3,
    "start_time": "2023-12-03T13:21:08.855Z"
   },
   {
    "duration": 59,
    "start_time": "2023-12-03T13:21:12.426Z"
   },
   {
    "duration": 4455,
    "start_time": "2023-12-03T13:22:54.538Z"
   },
   {
    "duration": 1184,
    "start_time": "2023-12-03T13:22:58.995Z"
   },
   {
    "duration": 388,
    "start_time": "2023-12-03T13:23:00.180Z"
   },
   {
    "duration": 13,
    "start_time": "2023-12-03T13:23:00.570Z"
   },
   {
    "duration": 37,
    "start_time": "2023-12-03T13:23:00.584Z"
   },
   {
    "duration": 24,
    "start_time": "2023-12-03T13:23:00.622Z"
   },
   {
    "duration": 39,
    "start_time": "2023-12-03T13:23:00.647Z"
   },
   {
    "duration": 15,
    "start_time": "2023-12-03T13:23:00.687Z"
   },
   {
    "duration": 31,
    "start_time": "2023-12-03T13:23:00.703Z"
   },
   {
    "duration": 109,
    "start_time": "2023-12-03T13:23:00.737Z"
   },
   {
    "duration": 83,
    "start_time": "2023-12-03T13:23:00.847Z"
   },
   {
    "duration": 89,
    "start_time": "2023-12-03T13:23:00.931Z"
   },
   {
    "duration": 329,
    "start_time": "2023-12-03T13:23:01.021Z"
   },
   {
    "duration": 337,
    "start_time": "2023-12-03T13:23:01.351Z"
   },
   {
    "duration": 310,
    "start_time": "2023-12-03T13:23:01.690Z"
   },
   {
    "duration": 2,
    "start_time": "2023-12-03T13:23:02.002Z"
   },
   {
    "duration": 11,
    "start_time": "2023-12-03T13:23:02.006Z"
   },
   {
    "duration": 166,
    "start_time": "2023-12-03T13:23:02.018Z"
   },
   {
    "duration": 0,
    "start_time": "2023-12-03T13:23:02.186Z"
   },
   {
    "duration": 0,
    "start_time": "2023-12-03T13:23:02.187Z"
   },
   {
    "duration": 0,
    "start_time": "2023-12-03T13:23:02.188Z"
   },
   {
    "duration": 10,
    "start_time": "2023-12-03T13:30:37.904Z"
   },
   {
    "duration": 56,
    "start_time": "2023-12-03T13:30:55.685Z"
   },
   {
    "duration": 55,
    "start_time": "2023-12-03T13:31:26.034Z"
   },
   {
    "duration": 9,
    "start_time": "2023-12-03T13:31:30.864Z"
   },
   {
    "duration": 9,
    "start_time": "2023-12-03T13:31:32.310Z"
   },
   {
    "duration": 4,
    "start_time": "2023-12-03T13:32:14.703Z"
   },
   {
    "duration": 54,
    "start_time": "2023-12-03T13:32:15.418Z"
   },
   {
    "duration": 4,
    "start_time": "2023-12-03T13:32:17.145Z"
   },
   {
    "duration": 3,
    "start_time": "2023-12-03T13:32:17.756Z"
   },
   {
    "duration": 3,
    "start_time": "2023-12-03T13:32:18.396Z"
   },
   {
    "duration": 4,
    "start_time": "2023-12-03T13:49:17.717Z"
   },
   {
    "duration": 32,
    "start_time": "2023-12-03T13:49:19.083Z"
   },
   {
    "duration": 9,
    "start_time": "2023-12-03T13:50:29.265Z"
   },
   {
    "duration": 378,
    "start_time": "2023-12-03T13:50:30.196Z"
   },
   {
    "duration": 9,
    "start_time": "2023-12-03T13:50:30.871Z"
   },
   {
    "duration": 10,
    "start_time": "2023-12-03T13:50:31.243Z"
   },
   {
    "duration": 9,
    "start_time": "2023-12-03T13:50:31.584Z"
   },
   {
    "duration": 14,
    "start_time": "2023-12-03T13:50:31.935Z"
   },
   {
    "duration": 13,
    "start_time": "2023-12-03T13:50:32.251Z"
   },
   {
    "duration": 14,
    "start_time": "2023-12-03T13:50:32.666Z"
   },
   {
    "duration": 85,
    "start_time": "2023-12-03T13:50:32.951Z"
   },
   {
    "duration": 83,
    "start_time": "2023-12-03T13:50:33.362Z"
   },
   {
    "duration": 94,
    "start_time": "2023-12-03T13:50:33.796Z"
   },
   {
    "duration": 349,
    "start_time": "2023-12-03T13:50:34.170Z"
   },
   {
    "duration": 359,
    "start_time": "2023-12-03T13:50:34.552Z"
   },
   {
    "duration": 280,
    "start_time": "2023-12-03T13:50:35.004Z"
   },
   {
    "duration": 4,
    "start_time": "2023-12-03T13:50:37.595Z"
   },
   {
    "duration": 43,
    "start_time": "2023-12-03T13:50:38.945Z"
   },
   {
    "duration": 3,
    "start_time": "2023-12-03T13:52:19.096Z"
   },
   {
    "duration": 48,
    "start_time": "2023-12-03T13:52:19.584Z"
   },
   {
    "duration": 64,
    "start_time": "2023-12-03T13:54:24.705Z"
   },
   {
    "duration": 4,
    "start_time": "2023-12-03T13:55:25.121Z"
   },
   {
    "duration": 361,
    "start_time": "2023-12-03T13:55:25.723Z"
   },
   {
    "duration": 4,
    "start_time": "2023-12-03T13:55:27.434Z"
   },
   {
    "duration": 4,
    "start_time": "2023-12-03T13:55:28.075Z"
   },
   {
    "duration": 4,
    "start_time": "2023-12-03T13:55:28.461Z"
   },
   {
    "duration": 4,
    "start_time": "2023-12-03T13:56:27.274Z"
   },
   {
    "duration": 4,
    "start_time": "2023-12-03T13:57:30.520Z"
   },
   {
    "duration": 443,
    "start_time": "2023-12-03T13:57:31.141Z"
   },
   {
    "duration": 4,
    "start_time": "2023-12-03T13:57:31.842Z"
   },
   {
    "duration": 4,
    "start_time": "2023-12-03T13:59:09.502Z"
   },
   {
    "duration": 10,
    "start_time": "2023-12-04T18:08:37.329Z"
   },
   {
    "duration": 45,
    "start_time": "2023-12-04T18:08:37.937Z"
   },
   {
    "duration": 10979,
    "start_time": "2023-12-04T18:08:47.203Z"
   },
   {
    "duration": 1568,
    "start_time": "2023-12-04T18:08:58.184Z"
   },
   {
    "duration": 785,
    "start_time": "2023-12-04T18:08:59.753Z"
   },
   {
    "duration": 17,
    "start_time": "2023-12-04T18:09:00.541Z"
   },
   {
    "duration": 42,
    "start_time": "2023-12-04T18:09:00.560Z"
   },
   {
    "duration": 49,
    "start_time": "2023-12-04T18:09:00.604Z"
   },
   {
    "duration": 55,
    "start_time": "2023-12-04T18:09:00.654Z"
   },
   {
    "duration": 32,
    "start_time": "2023-12-04T18:09:00.711Z"
   },
   {
    "duration": 28,
    "start_time": "2023-12-04T18:09:00.746Z"
   },
   {
    "duration": 115,
    "start_time": "2023-12-04T18:09:00.776Z"
   },
   {
    "duration": 114,
    "start_time": "2023-12-04T18:09:00.893Z"
   },
   {
    "duration": 117,
    "start_time": "2023-12-04T18:09:01.009Z"
   },
   {
    "duration": 405,
    "start_time": "2023-12-04T18:09:01.128Z"
   },
   {
    "duration": 316,
    "start_time": "2023-12-04T18:09:01.535Z"
   },
   {
    "duration": 333,
    "start_time": "2023-12-04T18:09:01.852Z"
   },
   {
    "duration": 5,
    "start_time": "2023-12-04T18:09:02.186Z"
   },
   {
    "duration": 533,
    "start_time": "2023-12-04T18:09:02.192Z"
   },
   {
    "duration": 79,
    "start_time": "2023-12-04T18:09:02.728Z"
   },
   {
    "duration": 5,
    "start_time": "2023-12-04T18:13:36.035Z"
   },
   {
    "duration": 280,
    "start_time": "2023-12-04T18:13:36.645Z"
   },
   {
    "duration": 5,
    "start_time": "2023-12-04T18:14:01.396Z"
   },
   {
    "duration": 4997,
    "start_time": "2023-12-04T18:14:07.113Z"
   },
   {
    "duration": 1344,
    "start_time": "2023-12-04T18:14:12.112Z"
   },
   {
    "duration": 411,
    "start_time": "2023-12-04T18:14:13.458Z"
   },
   {
    "duration": 14,
    "start_time": "2023-12-04T18:14:13.871Z"
   },
   {
    "duration": 22,
    "start_time": "2023-12-04T18:14:13.886Z"
   },
   {
    "duration": 18,
    "start_time": "2023-12-04T18:14:13.910Z"
   },
   {
    "duration": 17,
    "start_time": "2023-12-04T18:14:13.929Z"
   },
   {
    "duration": 14,
    "start_time": "2023-12-04T18:14:13.948Z"
   },
   {
    "duration": 14,
    "start_time": "2023-12-04T18:14:13.963Z"
   },
   {
    "duration": 102,
    "start_time": "2023-12-04T18:14:14.007Z"
   },
   {
    "duration": 97,
    "start_time": "2023-12-04T18:14:14.110Z"
   },
   {
    "duration": 102,
    "start_time": "2023-12-04T18:14:14.209Z"
   },
   {
    "duration": 347,
    "start_time": "2023-12-04T18:14:14.312Z"
   },
   {
    "duration": 363,
    "start_time": "2023-12-04T18:14:14.660Z"
   },
   {
    "duration": 318,
    "start_time": "2023-12-04T18:14:15.024Z"
   },
   {
    "duration": 5,
    "start_time": "2023-12-04T18:14:15.343Z"
   },
   {
    "duration": 472,
    "start_time": "2023-12-04T18:14:15.349Z"
   },
   {
    "duration": 89,
    "start_time": "2023-12-04T18:14:15.823Z"
   },
   {
    "duration": 3,
    "start_time": "2023-12-04T18:20:14.917Z"
   },
   {
    "duration": 4,
    "start_time": "2023-12-04T18:20:27.407Z"
   },
   {
    "duration": 2,
    "start_time": "2023-12-04T18:50:11.669Z"
   },
   {
    "duration": 5,
    "start_time": "2023-12-04T18:50:12.630Z"
   },
   {
    "duration": 3,
    "start_time": "2023-12-04T18:50:33.968Z"
   },
   {
    "duration": 4,
    "start_time": "2023-12-04T18:50:34.320Z"
   },
   {
    "duration": 8,
    "start_time": "2023-12-09T12:37:19.114Z"
   },
   {
    "duration": 10058,
    "start_time": "2023-12-09T12:48:41.034Z"
   },
   {
    "duration": 1424,
    "start_time": "2023-12-09T12:48:51.094Z"
   },
   {
    "duration": 738,
    "start_time": "2023-12-09T12:48:52.519Z"
   },
   {
    "duration": 13,
    "start_time": "2023-12-09T12:48:53.259Z"
   },
   {
    "duration": 15,
    "start_time": "2023-12-09T12:48:53.273Z"
   },
   {
    "duration": 13,
    "start_time": "2023-12-09T12:48:53.290Z"
   },
   {
    "duration": 34,
    "start_time": "2023-12-09T12:48:53.304Z"
   },
   {
    "duration": 14,
    "start_time": "2023-12-09T12:48:53.339Z"
   },
   {
    "duration": 14,
    "start_time": "2023-12-09T12:48:53.355Z"
   },
   {
    "duration": 91,
    "start_time": "2023-12-09T12:48:53.371Z"
   },
   {
    "duration": 99,
    "start_time": "2023-12-09T12:48:53.464Z"
   },
   {
    "duration": 89,
    "start_time": "2023-12-09T12:48:53.565Z"
   },
   {
    "duration": 416,
    "start_time": "2023-12-09T12:48:53.655Z"
   },
   {
    "duration": 342,
    "start_time": "2023-12-09T12:48:54.073Z"
   },
   {
    "duration": 324,
    "start_time": "2023-12-09T12:48:54.416Z"
   },
   {
    "duration": 4,
    "start_time": "2023-12-09T12:48:54.741Z"
   },
   {
    "duration": 371,
    "start_time": "2023-12-09T12:48:54.747Z"
   },
   {
    "duration": 5,
    "start_time": "2023-12-09T12:48:55.120Z"
   },
   {
    "duration": 8,
    "start_time": "2023-12-09T12:48:55.211Z"
   },
   {
    "duration": 93,
    "start_time": "2023-12-09T12:48:55.221Z"
   },
   {
    "duration": 30,
    "start_time": "2023-12-09T12:48:55.315Z"
   },
   {
    "duration": 26,
    "start_time": "2023-12-09T12:48:55.346Z"
   },
   {
    "duration": 13,
    "start_time": "2023-12-09T12:48:55.373Z"
   },
   {
    "duration": 107,
    "start_time": "2023-12-09T12:48:55.388Z"
   },
   {
    "duration": 10,
    "start_time": "2023-12-09T12:50:01.334Z"
   },
   {
    "duration": 4,
    "start_time": "2023-12-09T12:50:43.519Z"
   },
   {
    "duration": 4,
    "start_time": "2023-12-09T12:50:46.348Z"
   },
   {
    "duration": 3,
    "start_time": "2023-12-09T12:50:58.441Z"
   },
   {
    "duration": 4,
    "start_time": "2023-12-09T12:51:09.221Z"
   },
   {
    "duration": 4,
    "start_time": "2023-12-09T12:51:10.315Z"
   },
   {
    "duration": 4,
    "start_time": "2023-12-09T12:51:11.427Z"
   },
   {
    "duration": 13,
    "start_time": "2023-12-09T12:51:12.642Z"
   },
   {
    "duration": 4,
    "start_time": "2023-12-09T13:01:10.006Z"
   },
   {
    "duration": 3,
    "start_time": "2023-12-09T13:01:10.569Z"
   },
   {
    "duration": 3,
    "start_time": "2023-12-09T13:01:13.416Z"
   },
   {
    "duration": 3,
    "start_time": "2023-12-09T13:01:15.765Z"
   },
   {
    "duration": 5,
    "start_time": "2023-12-09T13:01:44.954Z"
   },
   {
    "duration": 5,
    "start_time": "2023-12-09T13:01:54.336Z"
   },
   {
    "duration": 4564,
    "start_time": "2023-12-09T13:02:19.640Z"
   },
   {
    "duration": 1269,
    "start_time": "2023-12-09T13:02:24.207Z"
   },
   {
    "duration": 395,
    "start_time": "2023-12-09T13:02:25.478Z"
   },
   {
    "duration": 13,
    "start_time": "2023-12-09T13:02:25.875Z"
   },
   {
    "duration": 11,
    "start_time": "2023-12-09T13:02:25.890Z"
   },
   {
    "duration": 16,
    "start_time": "2023-12-09T13:02:25.902Z"
   },
   {
    "duration": 17,
    "start_time": "2023-12-09T13:02:25.920Z"
   },
   {
    "duration": 13,
    "start_time": "2023-12-09T13:02:25.938Z"
   },
   {
    "duration": 13,
    "start_time": "2023-12-09T13:02:25.953Z"
   },
   {
    "duration": 108,
    "start_time": "2023-12-09T13:02:25.968Z"
   },
   {
    "duration": 88,
    "start_time": "2023-12-09T13:02:26.078Z"
   },
   {
    "duration": 103,
    "start_time": "2023-12-09T13:02:26.168Z"
   },
   {
    "duration": 390,
    "start_time": "2023-12-09T13:02:26.273Z"
   },
   {
    "duration": 334,
    "start_time": "2023-12-09T13:02:26.665Z"
   },
   {
    "duration": 317,
    "start_time": "2023-12-09T13:02:27.001Z"
   },
   {
    "duration": 4,
    "start_time": "2023-12-09T13:02:27.319Z"
   },
   {
    "duration": 391,
    "start_time": "2023-12-09T13:02:27.325Z"
   },
   {
    "duration": 6,
    "start_time": "2023-12-09T13:02:27.718Z"
   },
   {
    "duration": 4,
    "start_time": "2023-12-09T13:02:27.811Z"
   },
   {
    "duration": 209,
    "start_time": "2023-12-09T13:02:27.816Z"
   },
   {
    "duration": 0,
    "start_time": "2023-12-09T13:02:28.026Z"
   },
   {
    "duration": 0,
    "start_time": "2023-12-09T13:02:28.027Z"
   },
   {
    "duration": 0,
    "start_time": "2023-12-09T13:02:28.029Z"
   },
   {
    "duration": 3,
    "start_time": "2023-12-09T13:03:10.137Z"
   },
   {
    "duration": 3,
    "start_time": "2023-12-09T13:03:12.859Z"
   },
   {
    "duration": 3,
    "start_time": "2023-12-09T13:03:13.702Z"
   },
   {
    "duration": 5,
    "start_time": "2023-12-09T13:03:14.565Z"
   },
   {
    "duration": 10,
    "start_time": "2023-12-09T13:03:31.243Z"
   },
   {
    "duration": 9,
    "start_time": "2023-12-09T13:04:02.753Z"
   },
   {
    "duration": 14,
    "start_time": "2023-12-09T13:05:21.900Z"
   },
   {
    "duration": 5,
    "start_time": "2023-12-09T13:07:02.671Z"
   },
   {
    "duration": 2,
    "start_time": "2023-12-09T13:07:03.472Z"
   },
   {
    "duration": 5,
    "start_time": "2023-12-09T13:07:04.821Z"
   },
   {
    "duration": 7,
    "start_time": "2023-12-09T13:07:05.646Z"
   },
   {
    "duration": 1339,
    "start_time": "2023-12-09T13:07:07.053Z"
   },
   {
    "duration": 4587,
    "start_time": "2023-12-09T13:09:05.359Z"
   },
   {
    "duration": 1168,
    "start_time": "2023-12-09T13:09:09.948Z"
   },
   {
    "duration": 376,
    "start_time": "2023-12-09T13:09:11.118Z"
   },
   {
    "duration": 17,
    "start_time": "2023-12-09T13:09:11.496Z"
   },
   {
    "duration": 10,
    "start_time": "2023-12-09T13:09:11.514Z"
   },
   {
    "duration": 10,
    "start_time": "2023-12-09T13:09:11.525Z"
   },
   {
    "duration": 15,
    "start_time": "2023-12-09T13:09:11.537Z"
   },
   {
    "duration": 14,
    "start_time": "2023-12-09T13:09:11.553Z"
   },
   {
    "duration": 47,
    "start_time": "2023-12-09T13:09:11.568Z"
   },
   {
    "duration": 106,
    "start_time": "2023-12-09T13:09:11.618Z"
   },
   {
    "duration": 123,
    "start_time": "2023-12-09T13:09:11.726Z"
   },
   {
    "duration": 108,
    "start_time": "2023-12-09T13:09:11.851Z"
   },
   {
    "duration": 378,
    "start_time": "2023-12-09T13:09:11.960Z"
   },
   {
    "duration": 301,
    "start_time": "2023-12-09T13:09:12.340Z"
   },
   {
    "duration": 289,
    "start_time": "2023-12-09T13:09:12.643Z"
   },
   {
    "duration": 4,
    "start_time": "2023-12-09T13:09:12.934Z"
   },
   {
    "duration": 378,
    "start_time": "2023-12-09T13:09:12.939Z"
   },
   {
    "duration": 5,
    "start_time": "2023-12-09T13:09:13.319Z"
   },
   {
    "duration": 4,
    "start_time": "2023-12-09T13:09:13.411Z"
   },
   {
    "duration": 95,
    "start_time": "2023-12-09T13:09:13.417Z"
   },
   {
    "duration": 5,
    "start_time": "2023-12-09T13:09:13.513Z"
   },
   {
    "duration": 6,
    "start_time": "2023-12-09T13:09:13.520Z"
   },
   {
    "duration": 4,
    "start_time": "2023-12-09T13:09:13.528Z"
   },
   {
    "duration": 5,
    "start_time": "2023-12-09T13:09:13.533Z"
   },
   {
    "duration": 3847,
    "start_time": "2023-12-09T13:09:13.539Z"
   },
   {
    "duration": 5,
    "start_time": "2023-12-09T13:15:45.070Z"
   },
   {
    "duration": 3946,
    "start_time": "2023-12-09T13:15:45.644Z"
   },
   {
    "duration": 5,
    "start_time": "2023-12-09T14:04:19.184Z"
   },
   {
    "duration": 3678,
    "start_time": "2023-12-09T14:04:22.992Z"
   },
   {
    "duration": 5,
    "start_time": "2023-12-09T14:26:07.220Z"
   },
   {
    "duration": 5,
    "start_time": "2023-12-09T14:26:26.853Z"
   },
   {
    "duration": 3660,
    "start_time": "2023-12-09T14:26:28.632Z"
   },
   {
    "duration": 4491,
    "start_time": "2023-12-09T15:09:46.361Z"
   },
   {
    "duration": 1191,
    "start_time": "2023-12-09T15:09:50.855Z"
   },
   {
    "duration": 384,
    "start_time": "2023-12-09T15:09:52.048Z"
   },
   {
    "duration": 12,
    "start_time": "2023-12-09T15:09:52.434Z"
   },
   {
    "duration": 12,
    "start_time": "2023-12-09T15:09:52.448Z"
   },
   {
    "duration": 15,
    "start_time": "2023-12-09T15:09:52.461Z"
   },
   {
    "duration": 28,
    "start_time": "2023-12-09T15:09:52.477Z"
   },
   {
    "duration": 14,
    "start_time": "2023-12-09T15:09:52.507Z"
   },
   {
    "duration": 13,
    "start_time": "2023-12-09T15:09:52.522Z"
   },
   {
    "duration": 103,
    "start_time": "2023-12-09T15:09:52.537Z"
   },
   {
    "duration": 99,
    "start_time": "2023-12-09T15:09:52.642Z"
   },
   {
    "duration": 92,
    "start_time": "2023-12-09T15:09:52.742Z"
   },
   {
    "duration": 317,
    "start_time": "2023-12-09T15:09:52.836Z"
   },
   {
    "duration": 314,
    "start_time": "2023-12-09T15:09:53.155Z"
   },
   {
    "duration": 346,
    "start_time": "2023-12-09T15:09:53.471Z"
   },
   {
    "duration": 5,
    "start_time": "2023-12-09T15:09:53.818Z"
   },
   {
    "duration": 393,
    "start_time": "2023-12-09T15:09:53.824Z"
   },
   {
    "duration": 91,
    "start_time": "2023-12-09T15:09:54.220Z"
   },
   {
    "duration": 5,
    "start_time": "2023-12-09T15:09:54.313Z"
   },
   {
    "duration": 94,
    "start_time": "2023-12-09T15:09:54.319Z"
   },
   {
    "duration": 4,
    "start_time": "2023-12-09T15:09:54.415Z"
   },
   {
    "duration": 3,
    "start_time": "2023-12-09T15:09:54.420Z"
   },
   {
    "duration": 9,
    "start_time": "2023-12-09T15:09:54.424Z"
   },
   {
    "duration": 126,
    "start_time": "2023-12-09T15:09:54.434Z"
   },
   {
    "duration": 9232,
    "start_time": "2024-05-05T10:23:42.482Z"
   },
   {
    "duration": 1256,
    "start_time": "2024-05-05T10:23:51.716Z"
   },
   {
    "duration": 595,
    "start_time": "2024-05-05T10:23:52.973Z"
   },
   {
    "duration": 12,
    "start_time": "2024-05-05T10:23:53.570Z"
   },
   {
    "duration": 9,
    "start_time": "2024-05-05T10:23:53.583Z"
   },
   {
    "duration": 9,
    "start_time": "2024-05-05T10:23:53.593Z"
   },
   {
    "duration": 14,
    "start_time": "2024-05-05T10:23:53.603Z"
   },
   {
    "duration": 12,
    "start_time": "2024-05-05T10:23:53.619Z"
   },
   {
    "duration": 35,
    "start_time": "2024-05-05T10:23:53.632Z"
   },
   {
    "duration": 78,
    "start_time": "2024-05-05T10:23:53.669Z"
   },
   {
    "duration": 93,
    "start_time": "2024-05-05T10:23:53.749Z"
   },
   {
    "duration": 92,
    "start_time": "2024-05-05T10:23:53.844Z"
   },
   {
    "duration": 407,
    "start_time": "2024-05-05T10:23:53.938Z"
   },
   {
    "duration": 309,
    "start_time": "2024-05-05T10:23:54.346Z"
   },
   {
    "duration": 311,
    "start_time": "2024-05-05T10:23:54.657Z"
   },
   {
    "duration": 4,
    "start_time": "2024-05-05T10:23:54.970Z"
   },
   {
    "duration": 407,
    "start_time": "2024-05-05T10:23:54.975Z"
   },
   {
    "duration": 83,
    "start_time": "2024-05-05T10:23:55.385Z"
   },
   {
    "duration": 94,
    "start_time": "2024-05-05T10:23:55.471Z"
   },
   {
    "duration": 8,
    "start_time": "2024-05-05T10:23:55.567Z"
   },
   {
    "duration": 73,
    "start_time": "2024-05-05T10:23:55.577Z"
   },
   {
    "duration": 14,
    "start_time": "2024-05-05T10:23:55.651Z"
   },
   {
    "duration": 13,
    "start_time": "2024-05-05T10:23:55.667Z"
   },
   {
    "duration": 3635,
    "start_time": "2024-05-05T10:23:55.682Z"
   },
   {
    "duration": 23,
    "start_time": "2024-05-05T10:31:29.254Z"
   },
   {
    "duration": 38,
    "start_time": "2024-05-05T10:32:24.931Z"
   },
   {
    "duration": 10,
    "start_time": "2024-05-05T13:13:20.532Z"
   },
   {
    "duration": 49,
    "start_time": "2024-05-05T13:13:21.204Z"
   },
   {
    "duration": 5,
    "start_time": "2024-05-05T13:14:15.883Z"
   },
   {
    "duration": 8,
    "start_time": "2024-05-05T13:14:16.317Z"
   },
   {
    "duration": 6,
    "start_time": "2024-05-05T13:14:31.118Z"
   },
   {
    "duration": 5,
    "start_time": "2024-05-05T13:16:05.856Z"
   },
   {
    "duration": 6,
    "start_time": "2024-05-05T13:16:06.362Z"
   },
   {
    "duration": 5,
    "start_time": "2024-05-05T13:16:07.334Z"
   },
   {
    "duration": 5,
    "start_time": "2024-05-05T13:16:58.397Z"
   },
   {
    "duration": 7,
    "start_time": "2024-05-05T13:16:58.837Z"
   },
   {
    "duration": 6,
    "start_time": "2024-05-05T13:16:59.408Z"
   },
   {
    "duration": 11342,
    "start_time": "2024-05-05T13:17:04.914Z"
   },
   {
    "duration": 1530,
    "start_time": "2024-05-05T13:17:16.258Z"
   },
   {
    "duration": 1641,
    "start_time": "2024-05-05T13:17:17.789Z"
   },
   {
    "duration": 26,
    "start_time": "2024-05-05T13:17:19.431Z"
   },
   {
    "duration": 48,
    "start_time": "2024-05-05T13:17:19.459Z"
   },
   {
    "duration": 127,
    "start_time": "2024-05-05T13:17:19.508Z"
   },
   {
    "duration": 104,
    "start_time": "2024-05-05T13:17:19.637Z"
   },
   {
    "duration": 137,
    "start_time": "2024-05-05T13:17:19.743Z"
   },
   {
    "duration": 11,
    "start_time": "2024-05-05T13:17:19.881Z"
   },
   {
    "duration": 413,
    "start_time": "2024-05-05T13:17:19.894Z"
   },
   {
    "duration": 84,
    "start_time": "2024-05-05T13:17:20.309Z"
   },
   {
    "duration": 97,
    "start_time": "2024-05-05T13:17:20.395Z"
   },
   {
    "duration": 10,
    "start_time": "2024-05-05T13:17:20.494Z"
   },
   {
    "duration": 124,
    "start_time": "2024-05-05T13:17:20.507Z"
   },
   {
    "duration": 0,
    "start_time": "2024-05-05T13:17:20.633Z"
   },
   {
    "duration": 0,
    "start_time": "2024-05-05T13:17:20.634Z"
   },
   {
    "duration": 0,
    "start_time": "2024-05-05T13:17:20.635Z"
   },
   {
    "duration": 142,
    "start_time": "2024-05-05T13:18:18.809Z"
   },
   {
    "duration": 10,
    "start_time": "2024-05-05T13:35:25.871Z"
   },
   {
    "duration": 5,
    "start_time": "2024-05-05T13:35:34.953Z"
   },
   {
    "duration": 9,
    "start_time": "2024-05-05T13:35:35.306Z"
   },
   {
    "duration": 3,
    "start_time": "2024-05-05T13:37:09.019Z"
   },
   {
    "duration": 4,
    "start_time": "2024-05-05T13:37:56.133Z"
   },
   {
    "duration": 4,
    "start_time": "2024-05-05T13:38:25.030Z"
   },
   {
    "duration": 3,
    "start_time": "2024-05-05T13:38:25.492Z"
   },
   {
    "duration": 3,
    "start_time": "2024-05-05T13:38:25.844Z"
   },
   {
    "duration": 4,
    "start_time": "2024-05-05T13:43:25.977Z"
   },
   {
    "duration": 4,
    "start_time": "2024-05-05T13:43:50.472Z"
   },
   {
    "duration": 13,
    "start_time": "2024-05-05T14:00:51.169Z"
   },
   {
    "duration": 3,
    "start_time": "2024-05-05T14:00:54.106Z"
   },
   {
    "duration": 4,
    "start_time": "2024-05-05T14:00:54.487Z"
   },
   {
    "duration": 4,
    "start_time": "2024-05-05T14:01:24.744Z"
   },
   {
    "duration": 5,
    "start_time": "2024-05-05T14:02:21.345Z"
   },
   {
    "duration": 3,
    "start_time": "2024-05-05T14:02:25.411Z"
   },
   {
    "duration": 5,
    "start_time": "2024-05-05T14:02:26.140Z"
   },
   {
    "duration": 10,
    "start_time": "2024-05-05T14:02:27.582Z"
   },
   {
    "duration": 3988,
    "start_time": "2024-05-05T14:02:41.844Z"
   },
   {
    "duration": 4974,
    "start_time": "2024-05-05T14:12:27.866Z"
   },
   {
    "duration": 1271,
    "start_time": "2024-05-05T14:12:32.843Z"
   },
   {
    "duration": 400,
    "start_time": "2024-05-05T14:12:34.116Z"
   },
   {
    "duration": 24,
    "start_time": "2024-05-05T14:12:34.518Z"
   },
   {
    "duration": 52,
    "start_time": "2024-05-05T14:12:34.544Z"
   },
   {
    "duration": 112,
    "start_time": "2024-05-05T14:12:34.598Z"
   },
   {
    "duration": 101,
    "start_time": "2024-05-05T14:12:34.712Z"
   },
   {
    "duration": 125,
    "start_time": "2024-05-05T14:12:34.815Z"
   },
   {
    "duration": 138,
    "start_time": "2024-05-05T14:12:34.941Z"
   },
   {
    "duration": 142,
    "start_time": "2024-05-05T14:12:35.081Z"
   },
   {
    "duration": 0,
    "start_time": "2024-05-05T14:12:35.225Z"
   },
   {
    "duration": 0,
    "start_time": "2024-05-05T14:12:35.226Z"
   },
   {
    "duration": 0,
    "start_time": "2024-05-05T14:12:35.228Z"
   },
   {
    "duration": 0,
    "start_time": "2024-05-05T14:12:35.229Z"
   },
   {
    "duration": 0,
    "start_time": "2024-05-05T14:12:35.230Z"
   },
   {
    "duration": 0,
    "start_time": "2024-05-05T14:12:35.232Z"
   },
   {
    "duration": 0,
    "start_time": "2024-05-05T14:12:35.234Z"
   },
   {
    "duration": 0,
    "start_time": "2024-05-05T14:12:35.235Z"
   },
   {
    "duration": 0,
    "start_time": "2024-05-05T14:12:35.237Z"
   },
   {
    "duration": 0,
    "start_time": "2024-05-05T14:12:35.238Z"
   },
   {
    "duration": 0,
    "start_time": "2024-05-05T14:12:35.239Z"
   },
   {
    "duration": 0,
    "start_time": "2024-05-05T14:12:35.240Z"
   },
   {
    "duration": 2,
    "start_time": "2024-05-05T14:17:17.340Z"
   },
   {
    "duration": 4,
    "start_time": "2024-05-05T14:17:18.969Z"
   },
   {
    "duration": 9,
    "start_time": "2024-05-05T14:17:19.448Z"
   },
   {
    "duration": 387,
    "start_time": "2024-05-05T14:22:30.818Z"
   },
   {
    "duration": 4,
    "start_time": "2024-05-05T14:22:37.612Z"
   },
   {
    "duration": 3,
    "start_time": "2024-05-05T14:22:39.256Z"
   },
   {
    "duration": 4,
    "start_time": "2024-05-05T14:22:40.010Z"
   },
   {
    "duration": 3,
    "start_time": "2024-05-05T14:22:42.108Z"
   },
   {
    "duration": 4,
    "start_time": "2024-05-05T14:22:42.766Z"
   },
   {
    "duration": 6,
    "start_time": "2024-05-05T14:22:44.839Z"
   },
   {
    "duration": 4,
    "start_time": "2024-05-05T14:22:46.245Z"
   },
   {
    "duration": 7,
    "start_time": "2024-05-05T14:22:48.910Z"
   },
   {
    "duration": 3208,
    "start_time": "2024-05-05T14:22:50.567Z"
   },
   {
    "duration": 3,
    "start_time": "2024-05-05T14:24:51.409Z"
   },
   {
    "duration": 5,
    "start_time": "2024-05-05T14:24:52.165Z"
   },
   {
    "duration": 3238,
    "start_time": "2024-05-05T14:24:52.978Z"
   },
   {
    "duration": 4813,
    "start_time": "2024-05-05T14:47:42.833Z"
   },
   {
    "duration": 1280,
    "start_time": "2024-05-05T14:47:47.649Z"
   },
   {
    "duration": 433,
    "start_time": "2024-05-05T14:47:48.931Z"
   },
   {
    "duration": 32,
    "start_time": "2024-05-05T14:47:49.366Z"
   },
   {
    "duration": 40,
    "start_time": "2024-05-05T14:47:49.400Z"
   },
   {
    "duration": 124,
    "start_time": "2024-05-05T14:47:49.442Z"
   },
   {
    "duration": 109,
    "start_time": "2024-05-05T14:47:49.568Z"
   },
   {
    "duration": 125,
    "start_time": "2024-05-05T14:47:49.678Z"
   },
   {
    "duration": 153,
    "start_time": "2024-05-05T14:47:49.805Z"
   },
   {
    "duration": 3,
    "start_time": "2024-05-05T14:47:49.961Z"
   },
   {
    "duration": 24,
    "start_time": "2024-05-05T14:47:49.965Z"
   },
   {
    "duration": 88,
    "start_time": "2024-05-05T14:47:49.991Z"
   },
   {
    "duration": 0,
    "start_time": "2024-05-05T14:47:50.081Z"
   },
   {
    "duration": 0,
    "start_time": "2024-05-05T14:47:50.082Z"
   },
   {
    "duration": 0,
    "start_time": "2024-05-05T14:47:50.084Z"
   },
   {
    "duration": 0,
    "start_time": "2024-05-05T14:47:50.085Z"
   },
   {
    "duration": 0,
    "start_time": "2024-05-05T14:47:50.091Z"
   },
   {
    "duration": 0,
    "start_time": "2024-05-05T14:47:50.092Z"
   },
   {
    "duration": 0,
    "start_time": "2024-05-05T14:47:50.093Z"
   },
   {
    "duration": 0,
    "start_time": "2024-05-05T14:47:50.095Z"
   },
   {
    "duration": 0,
    "start_time": "2024-05-05T14:47:50.096Z"
   },
   {
    "duration": 0,
    "start_time": "2024-05-05T14:47:50.097Z"
   },
   {
    "duration": 0,
    "start_time": "2024-05-05T14:47:50.098Z"
   },
   {
    "duration": 0,
    "start_time": "2024-05-05T14:47:50.099Z"
   },
   {
    "duration": 3,
    "start_time": "2024-05-05T14:47:53.356Z"
   },
   {
    "duration": 417,
    "start_time": "2024-05-05T14:47:53.885Z"
   },
   {
    "duration": 4,
    "start_time": "2024-05-05T14:47:54.492Z"
   },
   {
    "duration": 4,
    "start_time": "2024-05-05T14:47:55.042Z"
   },
   {
    "duration": 3,
    "start_time": "2024-05-05T14:47:55.674Z"
   },
   {
    "duration": 3,
    "start_time": "2024-05-05T14:47:57.116Z"
   },
   {
    "duration": 4,
    "start_time": "2024-05-05T14:47:58.201Z"
   },
   {
    "duration": 6,
    "start_time": "2024-05-05T14:48:00.964Z"
   },
   {
    "duration": 3,
    "start_time": "2024-05-05T14:48:03.036Z"
   },
   {
    "duration": 2,
    "start_time": "2024-05-05T14:48:03.380Z"
   },
   {
    "duration": 4,
    "start_time": "2024-05-05T14:48:03.883Z"
   },
   {
    "duration": 7,
    "start_time": "2024-05-05T14:48:05.632Z"
   },
   {
    "duration": 4192,
    "start_time": "2024-05-05T14:48:06.309Z"
   },
   {
    "duration": 4776,
    "start_time": "2024-05-05T14:48:49.048Z"
   },
   {
    "duration": 1204,
    "start_time": "2024-05-05T14:48:53.827Z"
   },
   {
    "duration": 397,
    "start_time": "2024-05-05T14:48:55.032Z"
   },
   {
    "duration": 24,
    "start_time": "2024-05-05T14:48:55.431Z"
   },
   {
    "duration": 50,
    "start_time": "2024-05-05T14:48:55.457Z"
   },
   {
    "duration": 110,
    "start_time": "2024-05-05T14:48:55.509Z"
   },
   {
    "duration": 99,
    "start_time": "2024-05-05T14:48:55.620Z"
   },
   {
    "duration": 96,
    "start_time": "2024-05-05T14:48:55.720Z"
   },
   {
    "duration": 132,
    "start_time": "2024-05-05T14:48:55.818Z"
   },
   {
    "duration": 3,
    "start_time": "2024-05-05T14:48:55.952Z"
   },
   {
    "duration": 27,
    "start_time": "2024-05-05T14:48:55.956Z"
   },
   {
    "duration": 8,
    "start_time": "2024-05-05T14:48:55.985Z"
   },
   {
    "duration": 410,
    "start_time": "2024-05-05T14:48:55.995Z"
   },
   {
    "duration": 6,
    "start_time": "2024-05-05T14:48:56.407Z"
   },
   {
    "duration": 179,
    "start_time": "2024-05-05T14:48:56.414Z"
   },
   {
    "duration": 6,
    "start_time": "2024-05-05T14:48:56.594Z"
   },
   {
    "duration": 4,
    "start_time": "2024-05-05T14:48:56.601Z"
   },
   {
    "duration": 17,
    "start_time": "2024-05-05T14:48:56.607Z"
   },
   {
    "duration": 9,
    "start_time": "2024-05-05T14:48:56.625Z"
   },
   {
    "duration": 9,
    "start_time": "2024-05-05T14:48:56.636Z"
   },
   {
    "duration": 11,
    "start_time": "2024-05-05T14:48:56.646Z"
   },
   {
    "duration": 16,
    "start_time": "2024-05-05T14:48:56.658Z"
   },
   {
    "duration": 18,
    "start_time": "2024-05-05T14:48:56.676Z"
   },
   {
    "duration": 3977,
    "start_time": "2024-05-05T14:48:56.695Z"
   },
   {
    "duration": 10831,
    "start_time": "2024-05-06T14:33:31.448Z"
   },
   {
    "duration": 1431,
    "start_time": "2024-05-06T14:33:42.282Z"
   },
   {
    "duration": 687,
    "start_time": "2024-05-06T14:33:43.714Z"
   },
   {
    "duration": 24,
    "start_time": "2024-05-06T14:33:44.403Z"
   },
   {
    "duration": 40,
    "start_time": "2024-05-06T14:33:44.429Z"
   },
   {
    "duration": 113,
    "start_time": "2024-05-06T14:33:44.471Z"
   },
   {
    "duration": 104,
    "start_time": "2024-05-06T14:33:44.585Z"
   },
   {
    "duration": 114,
    "start_time": "2024-05-06T14:33:44.690Z"
   },
   {
    "duration": 164,
    "start_time": "2024-05-06T14:33:44.807Z"
   },
   {
    "duration": 3,
    "start_time": "2024-05-06T14:33:44.973Z"
   },
   {
    "duration": 54,
    "start_time": "2024-05-06T14:33:44.978Z"
   },
   {
    "duration": 119,
    "start_time": "2024-05-06T14:33:45.034Z"
   },
   {
    "duration": 525,
    "start_time": "2024-05-06T14:33:45.154Z"
   },
   {
    "duration": 4,
    "start_time": "2024-05-06T14:33:45.684Z"
   },
   {
    "duration": 107,
    "start_time": "2024-05-06T14:33:45.764Z"
   },
   {
    "duration": 99,
    "start_time": "2024-05-06T14:33:45.873Z"
   },
   {
    "duration": 809,
    "start_time": "2024-05-06T14:33:45.974Z"
   },
   {
    "duration": 336,
    "start_time": "2024-05-06T14:33:46.785Z"
   },
   {
    "duration": 26,
    "start_time": "2024-05-06T14:33:47.123Z"
   },
   {
    "duration": 7,
    "start_time": "2024-05-06T14:33:47.151Z"
   },
   {
    "duration": 22,
    "start_time": "2024-05-06T14:33:47.160Z"
   },
   {
    "duration": 59,
    "start_time": "2024-05-06T14:33:47.183Z"
   },
   {
    "duration": 20,
    "start_time": "2024-05-06T14:33:47.244Z"
   },
   {
    "duration": 161,
    "start_time": "2024-05-06T14:33:47.266Z"
   },
   {
    "duration": 5,
    "start_time": "2024-05-06T14:34:48.090Z"
   },
   {
    "duration": 4009,
    "start_time": "2024-05-06T14:34:48.722Z"
   },
   {
    "duration": 6,
    "start_time": "2024-05-06T15:58:33.258Z"
   },
   {
    "duration": 4029,
    "start_time": "2024-05-06T15:58:33.892Z"
   },
   {
    "duration": 5,
    "start_time": "2024-05-06T15:58:55.679Z"
   },
   {
    "duration": 4038,
    "start_time": "2024-05-06T15:58:56.361Z"
   },
   {
    "duration": 5,
    "start_time": "2024-05-06T16:02:06.523Z"
   },
   {
    "duration": 5,
    "start_time": "2024-05-06T16:02:12.021Z"
   },
   {
    "duration": 1446,
    "start_time": "2024-05-06T16:02:13.016Z"
   },
   {
    "duration": 8,
    "start_time": "2024-05-06T16:02:44.334Z"
   },
   {
    "duration": 4053,
    "start_time": "2024-05-06T16:02:44.722Z"
   },
   {
    "duration": 6,
    "start_time": "2024-05-06T16:04:23.474Z"
   },
   {
    "duration": 3985,
    "start_time": "2024-05-06T16:04:24.246Z"
   },
   {
    "duration": 6,
    "start_time": "2024-05-06T16:04:40.955Z"
   },
   {
    "duration": 3980,
    "start_time": "2024-05-06T16:04:41.674Z"
   },
   {
    "duration": 9,
    "start_time": "2024-05-06T16:05:17.390Z"
   },
   {
    "duration": 3934,
    "start_time": "2024-05-06T16:05:17.808Z"
   },
   {
    "duration": 5,
    "start_time": "2024-05-06T16:06:02.726Z"
   },
   {
    "duration": 4045,
    "start_time": "2024-05-06T16:06:03.290Z"
   },
   {
    "duration": 5,
    "start_time": "2024-05-06T16:06:24.239Z"
   },
   {
    "duration": 4051,
    "start_time": "2024-05-06T16:06:25.245Z"
   },
   {
    "duration": 5,
    "start_time": "2024-05-06T16:06:56.071Z"
   },
   {
    "duration": 4197,
    "start_time": "2024-05-06T16:06:56.843Z"
   },
   {
    "duration": 4033,
    "start_time": "2024-05-06T16:11:36.427Z"
   },
   {
    "duration": 4950,
    "start_time": "2024-05-06T16:12:14.638Z"
   },
   {
    "duration": 1340,
    "start_time": "2024-05-06T16:12:19.591Z"
   },
   {
    "duration": 412,
    "start_time": "2024-05-06T16:12:20.933Z"
   },
   {
    "duration": 27,
    "start_time": "2024-05-06T16:12:21.347Z"
   },
   {
    "duration": 39,
    "start_time": "2024-05-06T16:12:21.376Z"
   },
   {
    "duration": 119,
    "start_time": "2024-05-06T16:12:21.416Z"
   },
   {
    "duration": 99,
    "start_time": "2024-05-06T16:12:21.536Z"
   },
   {
    "duration": 103,
    "start_time": "2024-05-06T16:12:21.637Z"
   },
   {
    "duration": 160,
    "start_time": "2024-05-06T16:12:21.741Z"
   },
   {
    "duration": 5,
    "start_time": "2024-05-06T16:12:21.903Z"
   },
   {
    "duration": 12,
    "start_time": "2024-05-06T16:12:21.909Z"
   },
   {
    "duration": 12,
    "start_time": "2024-05-06T16:12:21.923Z"
   },
   {
    "duration": 435,
    "start_time": "2024-05-06T16:12:21.937Z"
   },
   {
    "duration": 4,
    "start_time": "2024-05-06T16:12:22.374Z"
   },
   {
    "duration": 101,
    "start_time": "2024-05-06T16:12:22.461Z"
   },
   {
    "duration": 5,
    "start_time": "2024-05-06T16:12:22.564Z"
   },
   {
    "duration": 18,
    "start_time": "2024-05-06T16:12:22.570Z"
   },
   {
    "duration": 15,
    "start_time": "2024-05-06T16:12:22.589Z"
   },
   {
    "duration": 18,
    "start_time": "2024-05-06T16:12:22.605Z"
   },
   {
    "duration": 23,
    "start_time": "2024-05-06T16:12:22.624Z"
   },
   {
    "duration": 10,
    "start_time": "2024-05-06T16:12:22.649Z"
   },
   {
    "duration": 29,
    "start_time": "2024-05-06T16:12:22.660Z"
   },
   {
    "duration": 18,
    "start_time": "2024-05-06T16:12:22.690Z"
   },
   {
    "duration": 114,
    "start_time": "2024-05-06T16:12:22.710Z"
   },
   {
    "duration": 5,
    "start_time": "2024-05-06T16:16:55.884Z"
   },
   {
    "duration": 3,
    "start_time": "2024-05-06T16:16:57.197Z"
   },
   {
    "duration": 6,
    "start_time": "2024-05-06T16:16:57.848Z"
   },
   {
    "duration": 4299,
    "start_time": "2024-05-06T16:16:58.708Z"
   },
   {
    "duration": 7,
    "start_time": "2024-05-06T16:26:41.019Z"
   },
   {
    "duration": 4077,
    "start_time": "2024-05-06T16:26:41.721Z"
   },
   {
    "duration": 4776,
    "start_time": "2024-05-06T16:26:54.119Z"
   },
   {
    "duration": 1292,
    "start_time": "2024-05-06T16:26:58.898Z"
   },
   {
    "duration": 427,
    "start_time": "2024-05-06T16:27:00.194Z"
   },
   {
    "duration": 26,
    "start_time": "2024-05-06T16:27:00.623Z"
   },
   {
    "duration": 85,
    "start_time": "2024-05-06T16:27:00.661Z"
   },
   {
    "duration": 120,
    "start_time": "2024-05-06T16:27:00.747Z"
   },
   {
    "duration": 108,
    "start_time": "2024-05-06T16:27:00.869Z"
   },
   {
    "duration": 130,
    "start_time": "2024-05-06T16:27:00.979Z"
   },
   {
    "duration": 149,
    "start_time": "2024-05-06T16:27:01.112Z"
   },
   {
    "duration": 3,
    "start_time": "2024-05-06T16:27:01.263Z"
   },
   {
    "duration": 53,
    "start_time": "2024-05-06T16:27:01.268Z"
   },
   {
    "duration": 10,
    "start_time": "2024-05-06T16:27:01.322Z"
   },
   {
    "duration": 434,
    "start_time": "2024-05-06T16:27:01.334Z"
   },
   {
    "duration": 5,
    "start_time": "2024-05-06T16:27:01.770Z"
   },
   {
    "duration": 96,
    "start_time": "2024-05-06T16:27:01.777Z"
   },
   {
    "duration": 16,
    "start_time": "2024-05-06T16:27:01.961Z"
   },
   {
    "duration": 10,
    "start_time": "2024-05-06T16:27:01.978Z"
   },
   {
    "duration": 16,
    "start_time": "2024-05-06T16:27:01.989Z"
   },
   {
    "duration": 12,
    "start_time": "2024-05-06T16:27:02.006Z"
   },
   {
    "duration": 17,
    "start_time": "2024-05-06T16:27:02.019Z"
   },
   {
    "duration": 12,
    "start_time": "2024-05-06T16:27:02.037Z"
   },
   {
    "duration": 14,
    "start_time": "2024-05-06T16:27:02.050Z"
   },
   {
    "duration": 53,
    "start_time": "2024-05-06T16:27:02.065Z"
   },
   {
    "duration": 3946,
    "start_time": "2024-05-06T16:27:02.120Z"
   },
   {
    "duration": 7,
    "start_time": "2024-05-06T16:27:25.706Z"
   },
   {
    "duration": 3958,
    "start_time": "2024-05-06T16:27:26.332Z"
   },
   {
    "duration": 2,
    "start_time": "2024-05-06T16:30:23.465Z"
   },
   {
    "duration": 4,
    "start_time": "2024-05-06T16:30:24.143Z"
   },
   {
    "duration": 2,
    "start_time": "2024-05-06T16:30:52.329Z"
   },
   {
    "duration": 4,
    "start_time": "2024-05-06T16:30:52.906Z"
   },
   {
    "duration": 5,
    "start_time": "2024-05-06T16:33:54.979Z"
   },
   {
    "duration": 4016,
    "start_time": "2024-05-06T16:33:55.374Z"
   },
   {
    "duration": 4751,
    "start_time": "2024-05-06T16:41:20.246Z"
   },
   {
    "duration": 1226,
    "start_time": "2024-05-06T16:41:25.000Z"
   },
   {
    "duration": 409,
    "start_time": "2024-05-06T16:41:26.228Z"
   },
   {
    "duration": 27,
    "start_time": "2024-05-06T16:41:26.639Z"
   },
   {
    "duration": 39,
    "start_time": "2024-05-06T16:41:26.667Z"
   },
   {
    "duration": 119,
    "start_time": "2024-05-06T16:41:26.707Z"
   },
   {
    "duration": 105,
    "start_time": "2024-05-06T16:41:26.827Z"
   },
   {
    "duration": 109,
    "start_time": "2024-05-06T16:41:26.933Z"
   },
   {
    "duration": 168,
    "start_time": "2024-05-06T16:41:27.044Z"
   },
   {
    "duration": 3,
    "start_time": "2024-05-06T16:41:27.214Z"
   },
   {
    "duration": 6,
    "start_time": "2024-05-06T16:41:27.218Z"
   },
   {
    "duration": 8,
    "start_time": "2024-05-06T16:41:27.226Z"
   },
   {
    "duration": 435,
    "start_time": "2024-05-06T16:41:27.235Z"
   },
   {
    "duration": 5,
    "start_time": "2024-05-06T16:41:27.672Z"
   },
   {
    "duration": 84,
    "start_time": "2024-05-06T16:41:27.678Z"
   },
   {
    "duration": 5,
    "start_time": "2024-05-06T16:41:27.764Z"
   },
   {
    "duration": 4,
    "start_time": "2024-05-06T16:41:27.862Z"
   },
   {
    "duration": 19,
    "start_time": "2024-05-06T16:41:27.868Z"
   },
   {
    "duration": 6,
    "start_time": "2024-05-06T16:41:27.889Z"
   },
   {
    "duration": 5,
    "start_time": "2024-05-06T16:41:27.897Z"
   },
   {
    "duration": 7,
    "start_time": "2024-05-06T16:41:27.904Z"
   },
   {
    "duration": 1481,
    "start_time": "2024-05-06T16:41:27.912Z"
   },
   {
    "duration": 4877,
    "start_time": "2024-05-06T16:55:30.524Z"
   },
   {
    "duration": 1357,
    "start_time": "2024-05-06T16:55:35.404Z"
   },
   {
    "duration": 452,
    "start_time": "2024-05-06T16:55:36.763Z"
   },
   {
    "duration": 25,
    "start_time": "2024-05-06T16:55:37.217Z"
   },
   {
    "duration": 51,
    "start_time": "2024-05-06T16:55:37.244Z"
   },
   {
    "duration": 127,
    "start_time": "2024-05-06T16:55:37.297Z"
   },
   {
    "duration": 120,
    "start_time": "2024-05-06T16:55:37.426Z"
   },
   {
    "duration": 103,
    "start_time": "2024-05-06T16:55:37.547Z"
   },
   {
    "duration": 152,
    "start_time": "2024-05-06T16:55:37.661Z"
   },
   {
    "duration": 3,
    "start_time": "2024-05-06T16:55:37.814Z"
   },
   {
    "duration": 34,
    "start_time": "2024-05-06T16:55:37.818Z"
   },
   {
    "duration": 5,
    "start_time": "2024-05-06T16:55:37.854Z"
   },
   {
    "duration": 412,
    "start_time": "2024-05-06T16:55:37.861Z"
   },
   {
    "duration": 85,
    "start_time": "2024-05-06T16:55:38.277Z"
   },
   {
    "duration": 99,
    "start_time": "2024-05-06T16:55:38.363Z"
   },
   {
    "duration": 6,
    "start_time": "2024-05-06T16:55:38.464Z"
   },
   {
    "duration": 10,
    "start_time": "2024-05-06T16:55:38.472Z"
   },
   {
    "duration": 5,
    "start_time": "2024-05-06T16:55:38.483Z"
   },
   {
    "duration": 6,
    "start_time": "2024-05-06T16:55:38.490Z"
   },
   {
    "duration": 8,
    "start_time": "2024-05-06T16:55:38.497Z"
   },
   {
    "duration": 18,
    "start_time": "2024-05-06T16:55:38.506Z"
   },
   {
    "duration": 4059,
    "start_time": "2024-05-06T16:55:38.526Z"
   },
   {
    "duration": 7,
    "start_time": "2024-05-06T17:10:14.594Z"
   },
   {
    "duration": 4059,
    "start_time": "2024-05-06T17:10:15.382Z"
   },
   {
    "duration": 4921,
    "start_time": "2024-05-06T17:10:33.734Z"
   },
   {
    "duration": 1293,
    "start_time": "2024-05-06T17:10:38.658Z"
   },
   {
    "duration": 424,
    "start_time": "2024-05-06T17:10:39.952Z"
   },
   {
    "duration": 26,
    "start_time": "2024-05-06T17:10:40.378Z"
   },
   {
    "duration": 59,
    "start_time": "2024-05-06T17:10:40.405Z"
   },
   {
    "duration": 109,
    "start_time": "2024-05-06T17:10:40.466Z"
   },
   {
    "duration": 107,
    "start_time": "2024-05-06T17:10:40.577Z"
   },
   {
    "duration": 99,
    "start_time": "2024-05-06T17:10:40.685Z"
   },
   {
    "duration": 134,
    "start_time": "2024-05-06T17:10:40.786Z"
   },
   {
    "duration": 3,
    "start_time": "2024-05-06T17:10:40.922Z"
   },
   {
    "duration": 10,
    "start_time": "2024-05-06T17:10:40.926Z"
   },
   {
    "duration": 6,
    "start_time": "2024-05-06T17:10:40.938Z"
   },
   {
    "duration": 428,
    "start_time": "2024-05-06T17:10:40.945Z"
   },
   {
    "duration": 4,
    "start_time": "2024-05-06T17:10:41.375Z"
   },
   {
    "duration": 88,
    "start_time": "2024-05-06T17:10:41.381Z"
   },
   {
    "duration": 4,
    "start_time": "2024-05-06T17:10:41.471Z"
   },
   {
    "duration": 3,
    "start_time": "2024-05-06T17:10:41.561Z"
   },
   {
    "duration": 6,
    "start_time": "2024-05-06T17:10:41.566Z"
   },
   {
    "duration": 8,
    "start_time": "2024-05-06T17:10:41.574Z"
   },
   {
    "duration": 3,
    "start_time": "2024-05-06T17:10:41.584Z"
   },
   {
    "duration": 6,
    "start_time": "2024-05-06T17:10:41.589Z"
   },
   {
    "duration": 4135,
    "start_time": "2024-05-06T17:10:41.597Z"
   },
   {
    "duration": 5,
    "start_time": "2024-05-06T17:11:15.618Z"
   },
   {
    "duration": 3970,
    "start_time": "2024-05-06T17:11:16.356Z"
   },
   {
    "duration": 5,
    "start_time": "2024-05-06T17:12:20.862Z"
   },
   {
    "duration": 3992,
    "start_time": "2024-05-06T17:12:21.281Z"
   },
   {
    "duration": 6,
    "start_time": "2024-05-06T17:13:23.083Z"
   },
   {
    "duration": 4032,
    "start_time": "2024-05-06T17:13:23.629Z"
   },
   {
    "duration": 4827,
    "start_time": "2024-05-06T17:14:26.893Z"
   },
   {
    "duration": 1388,
    "start_time": "2024-05-06T17:14:31.723Z"
   },
   {
    "duration": 401,
    "start_time": "2024-05-06T17:14:33.113Z"
   },
   {
    "duration": 24,
    "start_time": "2024-05-06T17:14:33.516Z"
   },
   {
    "duration": 54,
    "start_time": "2024-05-06T17:14:33.541Z"
   },
   {
    "duration": 107,
    "start_time": "2024-05-06T17:14:33.596Z"
   },
   {
    "duration": 102,
    "start_time": "2024-05-06T17:14:33.705Z"
   },
   {
    "duration": 117,
    "start_time": "2024-05-06T17:14:33.808Z"
   },
   {
    "duration": 146,
    "start_time": "2024-05-06T17:14:33.926Z"
   },
   {
    "duration": 3,
    "start_time": "2024-05-06T17:14:34.074Z"
   },
   {
    "duration": 12,
    "start_time": "2024-05-06T17:14:34.078Z"
   },
   {
    "duration": 12,
    "start_time": "2024-05-06T17:14:34.092Z"
   },
   {
    "duration": 463,
    "start_time": "2024-05-06T17:14:34.106Z"
   },
   {
    "duration": 5,
    "start_time": "2024-05-06T17:14:34.571Z"
   },
   {
    "duration": 90,
    "start_time": "2024-05-06T17:14:34.577Z"
   },
   {
    "duration": 95,
    "start_time": "2024-05-06T17:14:34.669Z"
   },
   {
    "duration": 13,
    "start_time": "2024-05-06T17:14:34.765Z"
   },
   {
    "duration": 17,
    "start_time": "2024-05-06T17:14:34.779Z"
   },
   {
    "duration": 7,
    "start_time": "2024-05-06T17:14:34.798Z"
   },
   {
    "duration": 4,
    "start_time": "2024-05-06T17:14:34.806Z"
   },
   {
    "duration": 11,
    "start_time": "2024-05-06T17:14:34.811Z"
   },
   {
    "duration": 4076,
    "start_time": "2024-05-06T17:14:34.824Z"
   },
   {
    "duration": 4965,
    "start_time": "2024-05-06T17:20:15.976Z"
   },
   {
    "duration": 1389,
    "start_time": "2024-05-06T17:20:20.943Z"
   },
   {
    "duration": 444,
    "start_time": "2024-05-06T17:20:22.334Z"
   },
   {
    "duration": 25,
    "start_time": "2024-05-06T17:20:22.781Z"
   },
   {
    "duration": 72,
    "start_time": "2024-05-06T17:20:22.808Z"
   },
   {
    "duration": 123,
    "start_time": "2024-05-06T17:20:22.883Z"
   },
   {
    "duration": 111,
    "start_time": "2024-05-06T17:20:23.007Z"
   },
   {
    "duration": 107,
    "start_time": "2024-05-06T17:20:23.119Z"
   },
   {
    "duration": 141,
    "start_time": "2024-05-06T17:20:23.227Z"
   },
   {
    "duration": 3,
    "start_time": "2024-05-06T17:20:23.370Z"
   },
   {
    "duration": 38,
    "start_time": "2024-05-06T17:20:23.374Z"
   },
   {
    "duration": 41,
    "start_time": "2024-05-06T17:20:23.414Z"
   },
   {
    "duration": 412,
    "start_time": "2024-05-06T17:20:23.457Z"
   },
   {
    "duration": 5,
    "start_time": "2024-05-06T17:20:23.873Z"
   },
   {
    "duration": 5,
    "start_time": "2024-05-06T17:20:23.962Z"
   },
   {
    "duration": 3,
    "start_time": "2024-05-06T17:20:24.062Z"
   },
   {
    "duration": 19,
    "start_time": "2024-05-06T17:20:24.067Z"
   },
   {
    "duration": 19,
    "start_time": "2024-05-06T17:20:24.088Z"
   },
   {
    "duration": 19,
    "start_time": "2024-05-06T17:20:24.109Z"
   },
   {
    "duration": 7,
    "start_time": "2024-05-06T17:20:24.130Z"
   },
   {
    "duration": 35,
    "start_time": "2024-05-06T17:20:24.138Z"
   },
   {
    "duration": 4124,
    "start_time": "2024-05-06T17:20:24.175Z"
   },
   {
    "duration": 127,
    "start_time": "2024-05-06T17:43:31.153Z"
   },
   {
    "duration": 9,
    "start_time": "2024-05-06T17:44:06.165Z"
   },
   {
    "duration": 10,
    "start_time": "2024-05-06T17:44:31.167Z"
   },
   {
    "duration": 14,
    "start_time": "2024-05-06T17:44:32.367Z"
   },
   {
    "duration": 4779,
    "start_time": "2024-05-06T17:44:40.197Z"
   },
   {
    "duration": 1263,
    "start_time": "2024-05-06T17:44:44.979Z"
   },
   {
    "duration": 428,
    "start_time": "2024-05-06T17:44:46.244Z"
   },
   {
    "duration": 27,
    "start_time": "2024-05-06T17:44:46.674Z"
   },
   {
    "duration": 67,
    "start_time": "2024-05-06T17:44:46.703Z"
   },
   {
    "duration": 109,
    "start_time": "2024-05-06T17:44:46.772Z"
   },
   {
    "duration": 113,
    "start_time": "2024-05-06T17:44:46.883Z"
   },
   {
    "duration": 131,
    "start_time": "2024-05-06T17:44:46.998Z"
   },
   {
    "duration": 149,
    "start_time": "2024-05-06T17:44:47.131Z"
   },
   {
    "duration": 119,
    "start_time": "2024-05-06T17:44:47.282Z"
   },
   {
    "duration": 0,
    "start_time": "2024-05-06T17:44:47.403Z"
   },
   {
    "duration": 0,
    "start_time": "2024-05-06T17:44:47.404Z"
   },
   {
    "duration": 0,
    "start_time": "2024-05-06T17:44:47.406Z"
   },
   {
    "duration": 0,
    "start_time": "2024-05-06T17:44:47.408Z"
   },
   {
    "duration": 0,
    "start_time": "2024-05-06T17:44:47.409Z"
   },
   {
    "duration": 0,
    "start_time": "2024-05-06T17:44:47.410Z"
   },
   {
    "duration": 0,
    "start_time": "2024-05-06T17:44:47.412Z"
   },
   {
    "duration": 0,
    "start_time": "2024-05-06T17:44:47.414Z"
   },
   {
    "duration": 0,
    "start_time": "2024-05-06T17:44:47.415Z"
   },
   {
    "duration": 0,
    "start_time": "2024-05-06T17:44:47.416Z"
   },
   {
    "duration": 0,
    "start_time": "2024-05-06T17:44:47.418Z"
   },
   {
    "duration": 0,
    "start_time": "2024-05-06T17:44:47.419Z"
   },
   {
    "duration": 3177,
    "start_time": "2024-05-06T17:45:11.508Z"
   },
   {
    "duration": 834,
    "start_time": "2024-05-06T17:45:14.688Z"
   },
   {
    "duration": 234,
    "start_time": "2024-05-06T17:52:54.312Z"
   },
   {
    "duration": 229,
    "start_time": "2024-05-06T17:53:18.124Z"
   },
   {
    "duration": 314,
    "start_time": "2024-05-06T17:53:20.982Z"
   },
   {
    "duration": 283,
    "start_time": "2024-05-06T17:57:25.086Z"
   },
   {
    "duration": 312,
    "start_time": "2024-05-06T17:57:42.854Z"
   },
   {
    "duration": 170,
    "start_time": "2024-05-06T17:58:33.066Z"
   },
   {
    "duration": 150,
    "start_time": "2024-05-06T17:58:45.290Z"
   },
   {
    "duration": 166,
    "start_time": "2024-05-06T17:58:52.912Z"
   },
   {
    "duration": 146,
    "start_time": "2024-05-06T17:59:15.788Z"
   },
   {
    "duration": 250,
    "start_time": "2024-05-06T17:59:33.417Z"
   },
   {
    "duration": 403,
    "start_time": "2024-05-06T17:59:44.854Z"
   },
   {
    "duration": 313,
    "start_time": "2024-05-06T18:06:46.750Z"
   },
   {
    "duration": 301,
    "start_time": "2024-05-06T18:07:19.344Z"
   },
   {
    "duration": 19,
    "start_time": "2024-05-06T18:08:01.737Z"
   },
   {
    "duration": 313,
    "start_time": "2024-05-06T18:09:17.462Z"
   },
   {
    "duration": 297,
    "start_time": "2024-05-06T18:10:30.854Z"
   },
   {
    "duration": 14423,
    "start_time": "2024-05-06T18:12:48.150Z"
   },
   {
    "duration": 1304,
    "start_time": "2024-05-06T18:13:02.575Z"
   },
   {
    "duration": 426,
    "start_time": "2024-05-06T18:13:03.881Z"
   },
   {
    "duration": 31,
    "start_time": "2024-05-06T18:13:04.309Z"
   },
   {
    "duration": 59,
    "start_time": "2024-05-06T18:13:04.342Z"
   },
   {
    "duration": 126,
    "start_time": "2024-05-06T18:13:04.403Z"
   },
   {
    "duration": 107,
    "start_time": "2024-05-06T18:13:04.531Z"
   },
   {
    "duration": 111,
    "start_time": "2024-05-06T18:13:04.639Z"
   },
   {
    "duration": 163,
    "start_time": "2024-05-06T18:13:04.751Z"
   },
   {
    "duration": 331,
    "start_time": "2024-05-06T18:13:04.917Z"
   },
   {
    "duration": 247,
    "start_time": "2024-05-06T18:13:05.249Z"
   },
   {
    "duration": 225,
    "start_time": "2024-05-06T18:13:05.497Z"
   },
   {
    "duration": 241,
    "start_time": "2024-05-06T18:13:05.723Z"
   },
   {
    "duration": 2566,
    "start_time": "2024-05-06T18:13:05.966Z"
   },
   {
    "duration": 800,
    "start_time": "2024-05-06T18:13:08.534Z"
   },
   {
    "duration": 4,
    "start_time": "2024-05-06T18:13:09.336Z"
   },
   {
    "duration": 521,
    "start_time": "2024-05-06T18:13:09.342Z"
   },
   {
    "duration": 5,
    "start_time": "2024-05-06T18:13:09.865Z"
   },
   {
    "duration": 93,
    "start_time": "2024-05-06T18:13:09.871Z"
   },
   {
    "duration": 4,
    "start_time": "2024-05-06T18:13:09.965Z"
   },
   {
    "duration": 5,
    "start_time": "2024-05-06T18:13:09.971Z"
   },
   {
    "duration": 8,
    "start_time": "2024-05-06T18:13:09.977Z"
   },
   {
    "duration": 4,
    "start_time": "2024-05-06T18:13:10.062Z"
   },
   {
    "duration": 7,
    "start_time": "2024-05-06T18:13:10.067Z"
   },
   {
    "duration": 6,
    "start_time": "2024-05-06T18:13:10.076Z"
   },
   {
    "duration": 3956,
    "start_time": "2024-05-06T18:13:10.084Z"
   },
   {
    "duration": 302,
    "start_time": "2024-05-06T18:13:50.896Z"
   },
   {
    "duration": 320,
    "start_time": "2024-05-06T18:16:33.464Z"
   },
   {
    "duration": 289,
    "start_time": "2024-05-06T18:17:47.802Z"
   },
   {
    "duration": 10165,
    "start_time": "2024-05-06T18:23:51.105Z"
   },
   {
    "duration": 3,
    "start_time": "2024-05-06T18:24:01.273Z"
   },
   {
    "duration": 1426,
    "start_time": "2024-05-06T18:24:01.278Z"
   },
   {
    "duration": 424,
    "start_time": "2024-05-06T18:24:02.706Z"
   },
   {
    "duration": 30,
    "start_time": "2024-05-06T18:24:03.132Z"
   },
   {
    "duration": 40,
    "start_time": "2024-05-06T18:24:03.164Z"
   },
   {
    "duration": 319,
    "start_time": "2024-05-06T18:24:03.206Z"
   },
   {
    "duration": 138,
    "start_time": "2024-05-06T18:24:03.527Z"
   },
   {
    "duration": 343,
    "start_time": "2024-05-06T18:24:03.666Z"
   },
   {
    "duration": 796,
    "start_time": "2024-05-06T18:24:04.011Z"
   },
   {
    "duration": 4,
    "start_time": "2024-05-06T18:24:04.809Z"
   },
   {
    "duration": 349,
    "start_time": "2024-05-06T18:24:04.814Z"
   },
   {
    "duration": 4,
    "start_time": "2024-05-06T18:24:05.165Z"
   },
   {
    "duration": 95,
    "start_time": "2024-05-06T18:24:05.173Z"
   },
   {
    "duration": 92,
    "start_time": "2024-05-06T18:24:05.270Z"
   },
   {
    "duration": 19,
    "start_time": "2024-05-06T18:24:05.364Z"
   },
   {
    "duration": 25,
    "start_time": "2024-05-06T18:24:05.384Z"
   },
   {
    "duration": 7,
    "start_time": "2024-05-06T18:24:05.411Z"
   },
   {
    "duration": 9,
    "start_time": "2024-05-06T18:24:05.420Z"
   },
   {
    "duration": 7,
    "start_time": "2024-05-06T18:24:05.431Z"
   },
   {
    "duration": 1602,
    "start_time": "2024-05-06T18:24:05.440Z"
   },
   {
    "duration": 7311,
    "start_time": "2024-05-06T18:26:36.261Z"
   },
   {
    "duration": 3,
    "start_time": "2024-05-06T18:26:43.575Z"
   },
   {
    "duration": 1289,
    "start_time": "2024-05-06T18:26:43.580Z"
   },
   {
    "duration": 435,
    "start_time": "2024-05-06T18:26:44.871Z"
   },
   {
    "duration": 24,
    "start_time": "2024-05-06T18:26:45.307Z"
   },
   {
    "duration": 60,
    "start_time": "2024-05-06T18:26:45.333Z"
   },
   {
    "duration": 319,
    "start_time": "2024-05-06T18:26:45.395Z"
   },
   {
    "duration": 146,
    "start_time": "2024-05-06T18:26:45.715Z"
   },
   {
    "duration": 345,
    "start_time": "2024-05-06T18:26:45.863Z"
   },
   {
    "duration": 802,
    "start_time": "2024-05-06T18:26:46.211Z"
   },
   {
    "duration": 7,
    "start_time": "2024-05-06T18:26:47.015Z"
   },
   {
    "duration": 338,
    "start_time": "2024-05-06T18:26:47.027Z"
   },
   {
    "duration": 5,
    "start_time": "2024-05-06T18:26:47.367Z"
   },
   {
    "duration": 94,
    "start_time": "2024-05-06T18:26:47.373Z"
   },
   {
    "duration": 99,
    "start_time": "2024-05-06T18:26:47.468Z"
   },
   {
    "duration": 4,
    "start_time": "2024-05-06T18:26:47.569Z"
   },
   {
    "duration": 6,
    "start_time": "2024-05-06T18:26:47.575Z"
   },
   {
    "duration": 6,
    "start_time": "2024-05-06T18:26:47.583Z"
   },
   {
    "duration": 8,
    "start_time": "2024-05-06T18:26:47.591Z"
   },
   {
    "duration": 7,
    "start_time": "2024-05-06T18:26:47.601Z"
   },
   {
    "duration": 4182,
    "start_time": "2024-05-06T18:26:47.609Z"
   },
   {
    "duration": 303,
    "start_time": "2024-05-06T18:28:02.152Z"
   },
   {
    "duration": 313,
    "start_time": "2024-05-06T18:28:16.091Z"
   },
   {
    "duration": 701,
    "start_time": "2024-05-06T18:31:34.823Z"
   },
   {
    "duration": 657,
    "start_time": "2024-05-06T18:32:24.338Z"
   },
   {
    "duration": 5,
    "start_time": "2024-05-06T19:13:17.100Z"
   },
   {
    "duration": 7198,
    "start_time": "2024-05-06T19:14:46.931Z"
   },
   {
    "duration": 1246,
    "start_time": "2024-05-06T19:14:54.131Z"
   },
   {
    "duration": 415,
    "start_time": "2024-05-06T19:14:55.379Z"
   },
   {
    "duration": 34,
    "start_time": "2024-05-06T19:14:55.797Z"
   },
   {
    "duration": 82,
    "start_time": "2024-05-06T19:14:55.833Z"
   },
   {
    "duration": 400,
    "start_time": "2024-05-06T19:14:55.917Z"
   },
   {
    "duration": 156,
    "start_time": "2024-05-06T19:14:56.319Z"
   },
   {
    "duration": 359,
    "start_time": "2024-05-06T19:14:56.477Z"
   },
   {
    "duration": 5,
    "start_time": "2024-05-06T19:14:56.837Z"
   },
   {
    "duration": 132,
    "start_time": "2024-05-06T19:14:56.845Z"
   },
   {
    "duration": 0,
    "start_time": "2024-05-06T19:14:56.978Z"
   },
   {
    "duration": 0,
    "start_time": "2024-05-06T19:14:56.980Z"
   },
   {
    "duration": 0,
    "start_time": "2024-05-06T19:14:56.981Z"
   },
   {
    "duration": 0,
    "start_time": "2024-05-06T19:14:56.982Z"
   },
   {
    "duration": 0,
    "start_time": "2024-05-06T19:14:56.983Z"
   },
   {
    "duration": 0,
    "start_time": "2024-05-06T19:14:56.984Z"
   },
   {
    "duration": 0,
    "start_time": "2024-05-06T19:14:56.985Z"
   },
   {
    "duration": 0,
    "start_time": "2024-05-06T19:14:56.986Z"
   },
   {
    "duration": 0,
    "start_time": "2024-05-06T19:14:56.988Z"
   },
   {
    "duration": 7435,
    "start_time": "2024-05-06T19:17:44.335Z"
   },
   {
    "duration": 1322,
    "start_time": "2024-05-06T19:17:51.773Z"
   },
   {
    "duration": 413,
    "start_time": "2024-05-06T19:17:53.098Z"
   },
   {
    "duration": 28,
    "start_time": "2024-05-06T19:17:53.513Z"
   },
   {
    "duration": 58,
    "start_time": "2024-05-06T19:17:53.543Z"
   },
   {
    "duration": 337,
    "start_time": "2024-05-06T19:17:53.602Z"
   },
   {
    "duration": 150,
    "start_time": "2024-05-06T19:17:53.941Z"
   },
   {
    "duration": 359,
    "start_time": "2024-05-06T19:17:54.092Z"
   },
   {
    "duration": 9,
    "start_time": "2024-05-06T19:17:54.452Z"
   },
   {
    "duration": 306,
    "start_time": "2024-05-06T19:17:54.463Z"
   },
   {
    "duration": 4,
    "start_time": "2024-05-06T19:17:54.771Z"
   },
   {
    "duration": 87,
    "start_time": "2024-05-06T19:17:54.777Z"
   },
   {
    "duration": 4,
    "start_time": "2024-05-06T19:17:54.868Z"
   },
   {
    "duration": 90,
    "start_time": "2024-05-06T19:17:54.876Z"
   },
   {
    "duration": 6,
    "start_time": "2024-05-06T19:17:54.968Z"
   },
   {
    "duration": 12,
    "start_time": "2024-05-06T19:17:54.975Z"
   },
   {
    "duration": 4,
    "start_time": "2024-05-06T19:17:54.988Z"
   },
   {
    "duration": 11,
    "start_time": "2024-05-06T19:17:54.993Z"
   },
   {
    "duration": 4165,
    "start_time": "2024-05-06T19:17:55.005Z"
   },
   {
    "duration": 9307,
    "start_time": "2024-05-07T16:45:33.132Z"
   },
   {
    "duration": 1377,
    "start_time": "2024-05-07T16:45:42.442Z"
   },
   {
    "duration": 0,
    "start_time": "2024-05-07T16:45:43.821Z"
   },
   {
    "duration": 0,
    "start_time": "2024-05-07T16:45:43.822Z"
   },
   {
    "duration": 0,
    "start_time": "2024-05-07T16:45:43.824Z"
   },
   {
    "duration": 0,
    "start_time": "2024-05-07T16:45:43.824Z"
   },
   {
    "duration": 0,
    "start_time": "2024-05-07T16:45:43.826Z"
   },
   {
    "duration": 0,
    "start_time": "2024-05-07T16:45:43.827Z"
   },
   {
    "duration": 0,
    "start_time": "2024-05-07T16:45:43.828Z"
   },
   {
    "duration": 0,
    "start_time": "2024-05-07T16:45:43.828Z"
   },
   {
    "duration": 0,
    "start_time": "2024-05-07T16:45:43.829Z"
   },
   {
    "duration": 0,
    "start_time": "2024-05-07T16:45:43.830Z"
   },
   {
    "duration": 0,
    "start_time": "2024-05-07T16:45:43.832Z"
   },
   {
    "duration": 0,
    "start_time": "2024-05-07T16:45:43.833Z"
   },
   {
    "duration": 0,
    "start_time": "2024-05-07T16:45:43.834Z"
   },
   {
    "duration": 0,
    "start_time": "2024-05-07T16:45:43.835Z"
   },
   {
    "duration": 0,
    "start_time": "2024-05-07T16:45:43.836Z"
   },
   {
    "duration": 0,
    "start_time": "2024-05-07T16:45:43.837Z"
   },
   {
    "duration": 0,
    "start_time": "2024-05-07T16:45:43.838Z"
   },
   {
    "duration": 4687,
    "start_time": "2024-05-07T16:46:16.880Z"
   },
   {
    "duration": 1223,
    "start_time": "2024-05-07T16:46:21.570Z"
   },
   {
    "duration": 0,
    "start_time": "2024-05-07T16:46:22.795Z"
   },
   {
    "duration": 0,
    "start_time": "2024-05-07T16:46:22.797Z"
   },
   {
    "duration": 0,
    "start_time": "2024-05-07T16:46:22.798Z"
   },
   {
    "duration": 0,
    "start_time": "2024-05-07T16:46:22.799Z"
   },
   {
    "duration": 0,
    "start_time": "2024-05-07T16:46:22.800Z"
   },
   {
    "duration": 0,
    "start_time": "2024-05-07T16:46:22.801Z"
   },
   {
    "duration": 0,
    "start_time": "2024-05-07T16:46:22.802Z"
   },
   {
    "duration": 0,
    "start_time": "2024-05-07T16:46:22.803Z"
   },
   {
    "duration": 0,
    "start_time": "2024-05-07T16:46:22.817Z"
   },
   {
    "duration": 0,
    "start_time": "2024-05-07T16:46:22.818Z"
   },
   {
    "duration": 0,
    "start_time": "2024-05-07T16:46:22.819Z"
   },
   {
    "duration": 0,
    "start_time": "2024-05-07T16:46:22.820Z"
   },
   {
    "duration": 0,
    "start_time": "2024-05-07T16:46:22.821Z"
   },
   {
    "duration": 0,
    "start_time": "2024-05-07T16:46:22.822Z"
   },
   {
    "duration": 0,
    "start_time": "2024-05-07T16:46:22.823Z"
   },
   {
    "duration": 0,
    "start_time": "2024-05-07T16:46:22.824Z"
   },
   {
    "duration": 0,
    "start_time": "2024-05-07T16:46:22.825Z"
   },
   {
    "duration": 4559,
    "start_time": "2024-05-07T16:46:46.876Z"
   },
   {
    "duration": 1172,
    "start_time": "2024-05-07T16:46:51.438Z"
   },
   {
    "duration": 633,
    "start_time": "2024-05-07T16:46:52.611Z"
   },
   {
    "duration": 26,
    "start_time": "2024-05-07T16:46:53.246Z"
   },
   {
    "duration": 51,
    "start_time": "2024-05-07T16:46:53.273Z"
   },
   {
    "duration": 290,
    "start_time": "2024-05-07T16:46:53.325Z"
   },
   {
    "duration": 157,
    "start_time": "2024-05-07T16:46:53.616Z"
   },
   {
    "duration": 321,
    "start_time": "2024-05-07T16:46:53.775Z"
   },
   {
    "duration": 5,
    "start_time": "2024-05-07T16:46:54.097Z"
   },
   {
    "duration": 324,
    "start_time": "2024-05-07T16:46:54.104Z"
   },
   {
    "duration": 5,
    "start_time": "2024-05-07T16:46:54.519Z"
   },
   {
    "duration": 105,
    "start_time": "2024-05-07T16:46:54.526Z"
   },
   {
    "duration": 9,
    "start_time": "2024-05-07T16:46:54.633Z"
   },
   {
    "duration": 6,
    "start_time": "2024-05-07T16:46:54.643Z"
   },
   {
    "duration": 5,
    "start_time": "2024-05-07T16:46:54.650Z"
   },
   {
    "duration": 8,
    "start_time": "2024-05-07T16:46:54.657Z"
   },
   {
    "duration": 9,
    "start_time": "2024-05-07T16:46:54.666Z"
   },
   {
    "duration": 6,
    "start_time": "2024-05-07T16:46:54.676Z"
   },
   {
    "duration": 3812,
    "start_time": "2024-05-07T16:46:54.684Z"
   },
   {
    "duration": 97,
    "start_time": "2024-05-07T16:49:20.078Z"
   },
   {
    "duration": 46,
    "start_time": "2024-05-07T16:50:06.374Z"
   },
   {
    "duration": 39,
    "start_time": "2024-05-07T16:50:18.394Z"
   },
   {
    "duration": 22619,
    "start_time": "2024-05-07T16:50:37.320Z"
   },
   {
    "duration": 1132,
    "start_time": "2024-05-07T16:51:11.150Z"
   },
   {
    "duration": 2701,
    "start_time": "2024-05-07T16:56:11.068Z"
   },
   {
    "duration": 3090,
    "start_time": "2024-05-07T16:57:05.606Z"
   },
   {
    "duration": 51,
    "start_time": "2024-05-07T19:33:16.783Z"
   },
   {
    "duration": 10362,
    "start_time": "2024-05-07T19:34:11.485Z"
   },
   {
    "duration": 1384,
    "start_time": "2024-05-07T19:34:21.850Z"
   },
   {
    "duration": 1623,
    "start_time": "2024-05-07T19:34:23.236Z"
   },
   {
    "duration": 27,
    "start_time": "2024-05-07T19:34:24.861Z"
   },
   {
    "duration": 42,
    "start_time": "2024-05-07T19:34:24.890Z"
   },
   {
    "duration": 286,
    "start_time": "2024-05-07T19:34:24.934Z"
   },
   {
    "duration": 126,
    "start_time": "2024-05-07T19:34:25.221Z"
   },
   {
    "duration": 325,
    "start_time": "2024-05-07T19:34:25.348Z"
   },
   {
    "duration": 410,
    "start_time": "2024-05-07T19:34:25.674Z"
   },
   {
    "duration": 4,
    "start_time": "2024-05-07T19:34:26.093Z"
   },
   {
    "duration": 395,
    "start_time": "2024-05-07T19:34:26.099Z"
   },
   {
    "duration": 4,
    "start_time": "2024-05-07T19:34:26.497Z"
   },
   {
    "duration": 52,
    "start_time": "2024-05-07T19:34:26.593Z"
   },
   {
    "duration": 24,
    "start_time": "2024-05-07T19:34:26.647Z"
   },
   {
    "duration": 29,
    "start_time": "2024-05-07T19:34:26.672Z"
   },
   {
    "duration": 27,
    "start_time": "2024-05-07T19:34:26.703Z"
   },
   {
    "duration": 41,
    "start_time": "2024-05-07T19:34:26.731Z"
   },
   {
    "duration": 46,
    "start_time": "2024-05-07T19:34:26.773Z"
   },
   {
    "duration": 29,
    "start_time": "2024-05-07T19:34:26.820Z"
   },
   {
    "duration": 4036,
    "start_time": "2024-05-07T19:34:26.850Z"
   },
   {
    "duration": 372,
    "start_time": "2024-05-07T19:34:54.947Z"
   },
   {
    "duration": 367,
    "start_time": "2024-05-07T19:34:56.164Z"
   },
   {
    "duration": 64,
    "start_time": "2024-05-07T19:37:26.417Z"
   },
   {
    "duration": 71,
    "start_time": "2024-05-07T19:37:32.850Z"
   },
   {
    "duration": 789,
    "start_time": "2024-05-07T19:37:48.763Z"
   },
   {
    "duration": 754,
    "start_time": "2024-05-07T19:38:32.915Z"
   },
   {
    "duration": 500,
    "start_time": "2024-05-07T19:38:49.531Z"
   },
   {
    "duration": 311,
    "start_time": "2024-05-07T19:39:09.422Z"
   },
   {
    "duration": 4,
    "start_time": "2024-05-07T19:53:01.277Z"
   },
   {
    "duration": 5004,
    "start_time": "2024-05-07T20:01:16.001Z"
   },
   {
    "duration": 1219,
    "start_time": "2024-05-07T20:01:21.007Z"
   },
   {
    "duration": 422,
    "start_time": "2024-05-07T20:01:22.228Z"
   },
   {
    "duration": 29,
    "start_time": "2024-05-07T20:01:22.652Z"
   },
   {
    "duration": 40,
    "start_time": "2024-05-07T20:01:22.694Z"
   },
   {
    "duration": 320,
    "start_time": "2024-05-07T20:01:22.736Z"
   },
   {
    "duration": 147,
    "start_time": "2024-05-07T20:01:23.057Z"
   },
   {
    "duration": 345,
    "start_time": "2024-05-07T20:01:23.206Z"
   },
   {
    "duration": 390,
    "start_time": "2024-05-07T20:01:23.553Z"
   },
   {
    "duration": 366,
    "start_time": "2024-05-07T20:01:23.947Z"
   },
   {
    "duration": 330,
    "start_time": "2024-05-07T20:01:24.315Z"
   },
   {
    "duration": 5,
    "start_time": "2024-05-07T20:01:24.648Z"
   },
   {
    "duration": 343,
    "start_time": "2024-05-07T20:01:24.655Z"
   },
   {
    "duration": 4,
    "start_time": "2024-05-07T20:01:25.000Z"
   },
   {
    "duration": 215,
    "start_time": "2024-05-07T20:01:25.008Z"
   },
   {
    "duration": 24,
    "start_time": "2024-05-07T20:01:25.224Z"
   },
   {
    "duration": 7,
    "start_time": "2024-05-07T20:01:25.250Z"
   },
   {
    "duration": 24,
    "start_time": "2024-05-07T20:01:25.258Z"
   },
   {
    "duration": 44,
    "start_time": "2024-05-07T20:01:25.284Z"
   },
   {
    "duration": 56,
    "start_time": "2024-05-07T20:01:25.329Z"
   },
   {
    "duration": 18,
    "start_time": "2024-05-07T20:01:25.386Z"
   },
   {
    "duration": 4155,
    "start_time": "2024-05-07T20:01:25.405Z"
   }
  ],
  "kernelspec": {
   "display_name": "Python 3 (ipykernel)",
   "language": "python",
   "name": "python3"
  },
  "language_info": {
   "codemirror_mode": {
    "name": "ipython",
    "version": 3
   },
   "file_extension": ".py",
   "mimetype": "text/x-python",
   "name": "python",
   "nbconvert_exporter": "python",
   "pygments_lexer": "ipython3",
   "version": "3.9.16"
  },
  "toc": {
   "base_numbering": 1,
   "nav_menu": {},
   "number_sections": true,
   "sideBar": true,
   "skip_h1_title": true,
   "title_cell": "Table of Contents",
   "title_sidebar": "Contents",
   "toc_cell": false,
   "toc_position": {},
   "toc_section_display": true,
   "toc_window_display": false
  }
 },
 "nbformat": 4,
 "nbformat_minor": 2
}
