{
 "cells": [
  {
   "cell_type": "markdown",
   "metadata": {
    "toc": true
   },
   "source": [
    "<h1>Содержание<span class=\"tocSkip\"></span></h1>\n",
    "<div class=\"toc\"><ul class=\"toc-item\"><li><span><a href=\"#Подготовка-данных\" data-toc-modified-id=\"Подготовка-данных-1\"><span class=\"toc-item-num\">1&nbsp;&nbsp;</span>Подготовка данных</a></span></li><li><span><a href=\"#Исследование-задачи\" data-toc-modified-id=\"Исследование-задачи-2\"><span class=\"toc-item-num\">2&nbsp;&nbsp;</span>Исследование задачи</a></span><ul class=\"toc-item\"><li><span><a href=\"#Подготовка-данных\" data-toc-modified-id=\"Подготовка-данных-2.1\"><span class=\"toc-item-num\">2.1&nbsp;&nbsp;</span>Подготовка данных</a></span></li><li><span><a href=\"#Исследование-модели\" data-toc-modified-id=\"Исследование-модели-2.2\"><span class=\"toc-item-num\">2.2&nbsp;&nbsp;</span>Исследование модели</a></span></li></ul></li><li><span><a href=\"#Борьба-с-дисбалансом\" data-toc-modified-id=\"Борьба-с-дисбалансом-3\"><span class=\"toc-item-num\">3&nbsp;&nbsp;</span>Борьба с дисбалансом</a></span><ul class=\"toc-item\"><li><span><a href=\"#Матрица-ошибок\" data-toc-modified-id=\"Матрица-ошибок-3.1\"><span class=\"toc-item-num\">3.1&nbsp;&nbsp;</span>Матрица ошибок</a></span></li><li><span><a href=\"#Взвешивание-классов\" data-toc-modified-id=\"Взвешивание-классов-3.2\"><span class=\"toc-item-num\">3.2&nbsp;&nbsp;</span>Взвешивание классов</a></span></li><li><span><a href=\"#Увеличение-выборки\" data-toc-modified-id=\"Увеличение-выборки-3.3\"><span class=\"toc-item-num\">3.3&nbsp;&nbsp;</span>Увеличение выборки</a></span></li><li><span><a href=\"#Уменьшение-выборки\" data-toc-modified-id=\"Уменьшение-выборки-3.4\"><span class=\"toc-item-num\">3.4&nbsp;&nbsp;</span>Уменьшение выборки</a></span></li><li><span><a href=\"#Графики-ROC-кривая\" data-toc-modified-id=\"Графики-ROC-кривая-3.5\"><span class=\"toc-item-num\">3.5&nbsp;&nbsp;</span>Графики ROC-кривая</a></span></li></ul></li><li><span><a href=\"#Тестирование-модели\" data-toc-modified-id=\"Тестирование-модели-4\"><span class=\"toc-item-num\">4&nbsp;&nbsp;</span>Тестирование модели</a></span></li><li><span><a href=\"#Вывод\" data-toc-modified-id=\"Вывод-5\"><span class=\"toc-item-num\">5&nbsp;&nbsp;</span>Вывод</a></span></li><li><span><a href=\"#Чек-лист-готовности-проекта\" data-toc-modified-id=\"Чек-лист-готовности-проекта-6\"><span class=\"toc-item-num\">6&nbsp;&nbsp;</span>Чек-лист готовности проекта</a></span></li></ul></div>"
   ]
  },
  {
   "cell_type": "markdown",
   "metadata": {},
   "source": [
    "# Отток клиентов"
   ]
  },
  {
   "cell_type": "markdown",
   "metadata": {},
   "source": [
    "Из «Бета-Банка» стали уходить клиенты. Каждый месяц. Немного, но заметно. Банковские маркетологи посчитали: сохранять текущих клиентов дешевле, чем привлекать новых.\n",
    "\n",
    "Нужно спрогнозировать, уйдёт клиент из банка в ближайшее время или нет. Вам предоставлены исторические данные о поведении клиентов и расторжении договоров с банком. \n",
    "\n",
    "Постройте модель с предельно большим значением *F1*-меры. Чтобы сдать проект успешно, нужно довести метрику до 0.59. Проверьте *F1*-меру на тестовой выборке самостоятельно.\n",
    "\n",
    "Дополнительно измеряйте *AUC-ROC*, сравнивайте её значение с *F1*-мерой.\n",
    "\n",
    "Источник данных: [https://www.kaggle.com/barelydedicated/bank-customer-churn-modeling](https://www.kaggle.com/barelydedicated/bank-customer-churn-modeling)"
   ]
  },
  {
   "cell_type": "markdown",
   "metadata": {},
   "source": [
    "## Подготовка данных"
   ]
  },
  {
   "cell_type": "code",
   "execution_count": 1,
   "metadata": {},
   "outputs": [],
   "source": [
    "!pip install scikit-learn==1.1.3 -q\n",
    "!pip install imblearn -q"
   ]
  },
  {
   "cell_type": "code",
   "execution_count": 2,
   "metadata": {},
   "outputs": [],
   "source": [
    "import pandas as pd\n",
    "import numpy as np\n",
    "import matplotlib.pyplot as plt\n",
    "import seaborn as sns\n",
    "import re\n",
    "\n",
    "from imblearn.under_sampling import RandomUnderSampler\n",
    "from imblearn.over_sampling import SMOTE\n",
    "from sklearn.tree import DecisionTreeClassifier, plot_tree \n",
    "from sklearn import tree\n",
    "from sklearn.ensemble import RandomForestClassifier\n",
    "from sklearn.linear_model import LogisticRegression\n",
    "from sklearn.dummy import DummyClassifier\n",
    "from sklearn.metrics import accuracy_score, confusion_matrix, roc_curve\n",
    "from sklearn.model_selection import train_test_split\n",
    "from sklearn.compose import make_column_transformer\n",
    "from tqdm import tqdm\n",
    "\n",
    "from sklearn.preprocessing import StandardScaler, OneHotEncoder\n",
    "from sklearn.metrics import f1_score, roc_auc_score\n",
    "from sklearn.utils import shuffle\n",
    "from sklearn.metrics import recall_score"
   ]
  },
  {
   "cell_type": "code",
   "execution_count": 3,
   "metadata": {},
   "outputs": [],
   "source": [
    "try:\n",
    "    df = pd.read_csv('/datasets/Churn.csv', sep=',')\n",
    "except:\n",
    "    df = pd.read_csv('https://code.s3.yandex.net/datasets/Churn.csv', sep=',')"
   ]
  },
  {
   "cell_type": "code",
   "execution_count": 4,
   "metadata": {},
   "outputs": [
    {
     "data": {
      "text/plain": [
       "array(['France', 'Spain', 'Germany'], dtype=object)"
      ]
     },
     "execution_count": 4,
     "metadata": {},
     "output_type": "execute_result"
    }
   ],
   "source": [
    "top_platforms = df['Geography'].unique()\n",
    "top_platforms"
   ]
  },
  {
   "cell_type": "code",
   "execution_count": 5,
   "metadata": {},
   "outputs": [
    {
     "data": {
      "text/html": [
       "<div>\n",
       "<style scoped>\n",
       "    .dataframe tbody tr th:only-of-type {\n",
       "        vertical-align: middle;\n",
       "    }\n",
       "\n",
       "    .dataframe tbody tr th {\n",
       "        vertical-align: top;\n",
       "    }\n",
       "\n",
       "    .dataframe thead th {\n",
       "        text-align: right;\n",
       "    }\n",
       "</style>\n",
       "<table border=\"1\" class=\"dataframe\">\n",
       "  <thead>\n",
       "    <tr style=\"text-align: right;\">\n",
       "      <th></th>\n",
       "      <th>RowNumber</th>\n",
       "      <th>CustomerId</th>\n",
       "      <th>Surname</th>\n",
       "      <th>CreditScore</th>\n",
       "      <th>Geography</th>\n",
       "      <th>Gender</th>\n",
       "      <th>Age</th>\n",
       "      <th>Tenure</th>\n",
       "      <th>Balance</th>\n",
       "      <th>NumOfProducts</th>\n",
       "      <th>HasCrCard</th>\n",
       "      <th>IsActiveMember</th>\n",
       "      <th>EstimatedSalary</th>\n",
       "      <th>Exited</th>\n",
       "    </tr>\n",
       "  </thead>\n",
       "  <tbody>\n",
       "    <tr>\n",
       "      <th>0</th>\n",
       "      <td>1</td>\n",
       "      <td>15634602</td>\n",
       "      <td>Hargrave</td>\n",
       "      <td>619</td>\n",
       "      <td>France</td>\n",
       "      <td>Female</td>\n",
       "      <td>42</td>\n",
       "      <td>2.0</td>\n",
       "      <td>0.00</td>\n",
       "      <td>1</td>\n",
       "      <td>1</td>\n",
       "      <td>1</td>\n",
       "      <td>101348.88</td>\n",
       "      <td>1</td>\n",
       "    </tr>\n",
       "    <tr>\n",
       "      <th>1</th>\n",
       "      <td>2</td>\n",
       "      <td>15647311</td>\n",
       "      <td>Hill</td>\n",
       "      <td>608</td>\n",
       "      <td>Spain</td>\n",
       "      <td>Female</td>\n",
       "      <td>41</td>\n",
       "      <td>1.0</td>\n",
       "      <td>83807.86</td>\n",
       "      <td>1</td>\n",
       "      <td>0</td>\n",
       "      <td>1</td>\n",
       "      <td>112542.58</td>\n",
       "      <td>0</td>\n",
       "    </tr>\n",
       "    <tr>\n",
       "      <th>2</th>\n",
       "      <td>3</td>\n",
       "      <td>15619304</td>\n",
       "      <td>Onio</td>\n",
       "      <td>502</td>\n",
       "      <td>France</td>\n",
       "      <td>Female</td>\n",
       "      <td>42</td>\n",
       "      <td>8.0</td>\n",
       "      <td>159660.80</td>\n",
       "      <td>3</td>\n",
       "      <td>1</td>\n",
       "      <td>0</td>\n",
       "      <td>113931.57</td>\n",
       "      <td>1</td>\n",
       "    </tr>\n",
       "    <tr>\n",
       "      <th>3</th>\n",
       "      <td>4</td>\n",
       "      <td>15701354</td>\n",
       "      <td>Boni</td>\n",
       "      <td>699</td>\n",
       "      <td>France</td>\n",
       "      <td>Female</td>\n",
       "      <td>39</td>\n",
       "      <td>1.0</td>\n",
       "      <td>0.00</td>\n",
       "      <td>2</td>\n",
       "      <td>0</td>\n",
       "      <td>0</td>\n",
       "      <td>93826.63</td>\n",
       "      <td>0</td>\n",
       "    </tr>\n",
       "    <tr>\n",
       "      <th>4</th>\n",
       "      <td>5</td>\n",
       "      <td>15737888</td>\n",
       "      <td>Mitchell</td>\n",
       "      <td>850</td>\n",
       "      <td>Spain</td>\n",
       "      <td>Female</td>\n",
       "      <td>43</td>\n",
       "      <td>2.0</td>\n",
       "      <td>125510.82</td>\n",
       "      <td>1</td>\n",
       "      <td>1</td>\n",
       "      <td>1</td>\n",
       "      <td>79084.10</td>\n",
       "      <td>0</td>\n",
       "    </tr>\n",
       "    <tr>\n",
       "      <th>5</th>\n",
       "      <td>6</td>\n",
       "      <td>15574012</td>\n",
       "      <td>Chu</td>\n",
       "      <td>645</td>\n",
       "      <td>Spain</td>\n",
       "      <td>Male</td>\n",
       "      <td>44</td>\n",
       "      <td>8.0</td>\n",
       "      <td>113755.78</td>\n",
       "      <td>2</td>\n",
       "      <td>1</td>\n",
       "      <td>0</td>\n",
       "      <td>149756.71</td>\n",
       "      <td>1</td>\n",
       "    </tr>\n",
       "    <tr>\n",
       "      <th>6</th>\n",
       "      <td>7</td>\n",
       "      <td>15592531</td>\n",
       "      <td>Bartlett</td>\n",
       "      <td>822</td>\n",
       "      <td>France</td>\n",
       "      <td>Male</td>\n",
       "      <td>50</td>\n",
       "      <td>7.0</td>\n",
       "      <td>0.00</td>\n",
       "      <td>2</td>\n",
       "      <td>1</td>\n",
       "      <td>1</td>\n",
       "      <td>10062.80</td>\n",
       "      <td>0</td>\n",
       "    </tr>\n",
       "    <tr>\n",
       "      <th>7</th>\n",
       "      <td>8</td>\n",
       "      <td>15656148</td>\n",
       "      <td>Obinna</td>\n",
       "      <td>376</td>\n",
       "      <td>Germany</td>\n",
       "      <td>Female</td>\n",
       "      <td>29</td>\n",
       "      <td>4.0</td>\n",
       "      <td>115046.74</td>\n",
       "      <td>4</td>\n",
       "      <td>1</td>\n",
       "      <td>0</td>\n",
       "      <td>119346.88</td>\n",
       "      <td>1</td>\n",
       "    </tr>\n",
       "    <tr>\n",
       "      <th>8</th>\n",
       "      <td>9</td>\n",
       "      <td>15792365</td>\n",
       "      <td>He</td>\n",
       "      <td>501</td>\n",
       "      <td>France</td>\n",
       "      <td>Male</td>\n",
       "      <td>44</td>\n",
       "      <td>4.0</td>\n",
       "      <td>142051.07</td>\n",
       "      <td>2</td>\n",
       "      <td>0</td>\n",
       "      <td>1</td>\n",
       "      <td>74940.50</td>\n",
       "      <td>0</td>\n",
       "    </tr>\n",
       "    <tr>\n",
       "      <th>9</th>\n",
       "      <td>10</td>\n",
       "      <td>15592389</td>\n",
       "      <td>H?</td>\n",
       "      <td>684</td>\n",
       "      <td>France</td>\n",
       "      <td>Male</td>\n",
       "      <td>27</td>\n",
       "      <td>2.0</td>\n",
       "      <td>134603.88</td>\n",
       "      <td>1</td>\n",
       "      <td>1</td>\n",
       "      <td>1</td>\n",
       "      <td>71725.73</td>\n",
       "      <td>0</td>\n",
       "    </tr>\n",
       "  </tbody>\n",
       "</table>\n",
       "</div>"
      ],
      "text/plain": [
       "   RowNumber  CustomerId   Surname  CreditScore Geography  Gender  Age  \\\n",
       "0          1    15634602  Hargrave          619    France  Female   42   \n",
       "1          2    15647311      Hill          608     Spain  Female   41   \n",
       "2          3    15619304      Onio          502    France  Female   42   \n",
       "3          4    15701354      Boni          699    France  Female   39   \n",
       "4          5    15737888  Mitchell          850     Spain  Female   43   \n",
       "5          6    15574012       Chu          645     Spain    Male   44   \n",
       "6          7    15592531  Bartlett          822    France    Male   50   \n",
       "7          8    15656148    Obinna          376   Germany  Female   29   \n",
       "8          9    15792365        He          501    France    Male   44   \n",
       "9         10    15592389        H?          684    France    Male   27   \n",
       "\n",
       "   Tenure    Balance  NumOfProducts  HasCrCard  IsActiveMember  \\\n",
       "0     2.0       0.00              1          1               1   \n",
       "1     1.0   83807.86              1          0               1   \n",
       "2     8.0  159660.80              3          1               0   \n",
       "3     1.0       0.00              2          0               0   \n",
       "4     2.0  125510.82              1          1               1   \n",
       "5     8.0  113755.78              2          1               0   \n",
       "6     7.0       0.00              2          1               1   \n",
       "7     4.0  115046.74              4          1               0   \n",
       "8     4.0  142051.07              2          0               1   \n",
       "9     2.0  134603.88              1          1               1   \n",
       "\n",
       "   EstimatedSalary  Exited  \n",
       "0        101348.88       1  \n",
       "1        112542.58       0  \n",
       "2        113931.57       1  \n",
       "3         93826.63       0  \n",
       "4         79084.10       0  \n",
       "5        149756.71       1  \n",
       "6         10062.80       0  \n",
       "7        119346.88       1  \n",
       "8         74940.50       0  \n",
       "9         71725.73       0  "
      ]
     },
     "execution_count": 5,
     "metadata": {},
     "output_type": "execute_result"
    }
   ],
   "source": [
    "df.head(10)"
   ]
  },
  {
   "cell_type": "code",
   "execution_count": 6,
   "metadata": {},
   "outputs": [
    {
     "name": "stdout",
     "output_type": "stream",
     "text": [
      "<class 'pandas.core.frame.DataFrame'>\n",
      "RangeIndex: 10000 entries, 0 to 9999\n",
      "Data columns (total 14 columns):\n",
      " #   Column           Non-Null Count  Dtype  \n",
      "---  ------           --------------  -----  \n",
      " 0   RowNumber        10000 non-null  int64  \n",
      " 1   CustomerId       10000 non-null  int64  \n",
      " 2   Surname          10000 non-null  object \n",
      " 3   CreditScore      10000 non-null  int64  \n",
      " 4   Geography        10000 non-null  object \n",
      " 5   Gender           10000 non-null  object \n",
      " 6   Age              10000 non-null  int64  \n",
      " 7   Tenure           9091 non-null   float64\n",
      " 8   Balance          10000 non-null  float64\n",
      " 9   NumOfProducts    10000 non-null  int64  \n",
      " 10  HasCrCard        10000 non-null  int64  \n",
      " 11  IsActiveMember   10000 non-null  int64  \n",
      " 12  EstimatedSalary  10000 non-null  float64\n",
      " 13  Exited           10000 non-null  int64  \n",
      "dtypes: float64(3), int64(8), object(3)\n",
      "memory usage: 1.1+ MB\n"
     ]
    }
   ],
   "source": [
    "df.info()"
   ]
  },
  {
   "cell_type": "code",
   "execution_count": 7,
   "metadata": {},
   "outputs": [
    {
     "data": {
      "text/html": [
       "<div>\n",
       "<style scoped>\n",
       "    .dataframe tbody tr th:only-of-type {\n",
       "        vertical-align: middle;\n",
       "    }\n",
       "\n",
       "    .dataframe tbody tr th {\n",
       "        vertical-align: top;\n",
       "    }\n",
       "\n",
       "    .dataframe thead th {\n",
       "        text-align: right;\n",
       "    }\n",
       "</style>\n",
       "<table border=\"1\" class=\"dataframe\">\n",
       "  <thead>\n",
       "    <tr style=\"text-align: right;\">\n",
       "      <th></th>\n",
       "      <th>count</th>\n",
       "      <th>unique</th>\n",
       "      <th>top</th>\n",
       "      <th>freq</th>\n",
       "      <th>mean</th>\n",
       "      <th>std</th>\n",
       "      <th>min</th>\n",
       "      <th>25%</th>\n",
       "      <th>50%</th>\n",
       "      <th>75%</th>\n",
       "      <th>max</th>\n",
       "    </tr>\n",
       "  </thead>\n",
       "  <tbody>\n",
       "    <tr>\n",
       "      <th>RowNumber</th>\n",
       "      <td>10000.0</td>\n",
       "      <td>NaN</td>\n",
       "      <td>NaN</td>\n",
       "      <td>NaN</td>\n",
       "      <td>5000.5</td>\n",
       "      <td>2886.89568</td>\n",
       "      <td>1.0</td>\n",
       "      <td>2500.75</td>\n",
       "      <td>5000.5</td>\n",
       "      <td>7500.25</td>\n",
       "      <td>10000.0</td>\n",
       "    </tr>\n",
       "    <tr>\n",
       "      <th>CustomerId</th>\n",
       "      <td>10000.0</td>\n",
       "      <td>NaN</td>\n",
       "      <td>NaN</td>\n",
       "      <td>NaN</td>\n",
       "      <td>15690940.5694</td>\n",
       "      <td>71936.186123</td>\n",
       "      <td>15565701.0</td>\n",
       "      <td>15628528.25</td>\n",
       "      <td>15690738.0</td>\n",
       "      <td>15753233.75</td>\n",
       "      <td>15815690.0</td>\n",
       "    </tr>\n",
       "    <tr>\n",
       "      <th>Surname</th>\n",
       "      <td>10000</td>\n",
       "      <td>2932</td>\n",
       "      <td>Smith</td>\n",
       "      <td>32</td>\n",
       "      <td>NaN</td>\n",
       "      <td>NaN</td>\n",
       "      <td>NaN</td>\n",
       "      <td>NaN</td>\n",
       "      <td>NaN</td>\n",
       "      <td>NaN</td>\n",
       "      <td>NaN</td>\n",
       "    </tr>\n",
       "    <tr>\n",
       "      <th>CreditScore</th>\n",
       "      <td>10000.0</td>\n",
       "      <td>NaN</td>\n",
       "      <td>NaN</td>\n",
       "      <td>NaN</td>\n",
       "      <td>650.5288</td>\n",
       "      <td>96.653299</td>\n",
       "      <td>350.0</td>\n",
       "      <td>584.0</td>\n",
       "      <td>652.0</td>\n",
       "      <td>718.0</td>\n",
       "      <td>850.0</td>\n",
       "    </tr>\n",
       "    <tr>\n",
       "      <th>Geography</th>\n",
       "      <td>10000</td>\n",
       "      <td>3</td>\n",
       "      <td>France</td>\n",
       "      <td>5014</td>\n",
       "      <td>NaN</td>\n",
       "      <td>NaN</td>\n",
       "      <td>NaN</td>\n",
       "      <td>NaN</td>\n",
       "      <td>NaN</td>\n",
       "      <td>NaN</td>\n",
       "      <td>NaN</td>\n",
       "    </tr>\n",
       "    <tr>\n",
       "      <th>Gender</th>\n",
       "      <td>10000</td>\n",
       "      <td>2</td>\n",
       "      <td>Male</td>\n",
       "      <td>5457</td>\n",
       "      <td>NaN</td>\n",
       "      <td>NaN</td>\n",
       "      <td>NaN</td>\n",
       "      <td>NaN</td>\n",
       "      <td>NaN</td>\n",
       "      <td>NaN</td>\n",
       "      <td>NaN</td>\n",
       "    </tr>\n",
       "    <tr>\n",
       "      <th>Age</th>\n",
       "      <td>10000.0</td>\n",
       "      <td>NaN</td>\n",
       "      <td>NaN</td>\n",
       "      <td>NaN</td>\n",
       "      <td>38.9218</td>\n",
       "      <td>10.487806</td>\n",
       "      <td>18.0</td>\n",
       "      <td>32.0</td>\n",
       "      <td>37.0</td>\n",
       "      <td>44.0</td>\n",
       "      <td>92.0</td>\n",
       "    </tr>\n",
       "    <tr>\n",
       "      <th>Tenure</th>\n",
       "      <td>9091.0</td>\n",
       "      <td>NaN</td>\n",
       "      <td>NaN</td>\n",
       "      <td>NaN</td>\n",
       "      <td>4.99769</td>\n",
       "      <td>2.894723</td>\n",
       "      <td>0.0</td>\n",
       "      <td>2.0</td>\n",
       "      <td>5.0</td>\n",
       "      <td>7.0</td>\n",
       "      <td>10.0</td>\n",
       "    </tr>\n",
       "    <tr>\n",
       "      <th>Balance</th>\n",
       "      <td>10000.0</td>\n",
       "      <td>NaN</td>\n",
       "      <td>NaN</td>\n",
       "      <td>NaN</td>\n",
       "      <td>76485.889288</td>\n",
       "      <td>62397.405202</td>\n",
       "      <td>0.0</td>\n",
       "      <td>0.0</td>\n",
       "      <td>97198.54</td>\n",
       "      <td>127644.24</td>\n",
       "      <td>250898.09</td>\n",
       "    </tr>\n",
       "    <tr>\n",
       "      <th>NumOfProducts</th>\n",
       "      <td>10000.0</td>\n",
       "      <td>NaN</td>\n",
       "      <td>NaN</td>\n",
       "      <td>NaN</td>\n",
       "      <td>1.5302</td>\n",
       "      <td>0.581654</td>\n",
       "      <td>1.0</td>\n",
       "      <td>1.0</td>\n",
       "      <td>1.0</td>\n",
       "      <td>2.0</td>\n",
       "      <td>4.0</td>\n",
       "    </tr>\n",
       "    <tr>\n",
       "      <th>HasCrCard</th>\n",
       "      <td>10000.0</td>\n",
       "      <td>NaN</td>\n",
       "      <td>NaN</td>\n",
       "      <td>NaN</td>\n",
       "      <td>0.7055</td>\n",
       "      <td>0.45584</td>\n",
       "      <td>0.0</td>\n",
       "      <td>0.0</td>\n",
       "      <td>1.0</td>\n",
       "      <td>1.0</td>\n",
       "      <td>1.0</td>\n",
       "    </tr>\n",
       "    <tr>\n",
       "      <th>IsActiveMember</th>\n",
       "      <td>10000.0</td>\n",
       "      <td>NaN</td>\n",
       "      <td>NaN</td>\n",
       "      <td>NaN</td>\n",
       "      <td>0.5151</td>\n",
       "      <td>0.499797</td>\n",
       "      <td>0.0</td>\n",
       "      <td>0.0</td>\n",
       "      <td>1.0</td>\n",
       "      <td>1.0</td>\n",
       "      <td>1.0</td>\n",
       "    </tr>\n",
       "    <tr>\n",
       "      <th>EstimatedSalary</th>\n",
       "      <td>10000.0</td>\n",
       "      <td>NaN</td>\n",
       "      <td>NaN</td>\n",
       "      <td>NaN</td>\n",
       "      <td>100090.239881</td>\n",
       "      <td>57510.492818</td>\n",
       "      <td>11.58</td>\n",
       "      <td>51002.11</td>\n",
       "      <td>100193.915</td>\n",
       "      <td>149388.2475</td>\n",
       "      <td>199992.48</td>\n",
       "    </tr>\n",
       "    <tr>\n",
       "      <th>Exited</th>\n",
       "      <td>10000.0</td>\n",
       "      <td>NaN</td>\n",
       "      <td>NaN</td>\n",
       "      <td>NaN</td>\n",
       "      <td>0.2037</td>\n",
       "      <td>0.402769</td>\n",
       "      <td>0.0</td>\n",
       "      <td>0.0</td>\n",
       "      <td>0.0</td>\n",
       "      <td>0.0</td>\n",
       "      <td>1.0</td>\n",
       "    </tr>\n",
       "  </tbody>\n",
       "</table>\n",
       "</div>"
      ],
      "text/plain": [
       "                   count unique     top  freq           mean           std  \\\n",
       "RowNumber        10000.0    NaN     NaN   NaN         5000.5    2886.89568   \n",
       "CustomerId       10000.0    NaN     NaN   NaN  15690940.5694  71936.186123   \n",
       "Surname            10000   2932   Smith    32            NaN           NaN   \n",
       "CreditScore      10000.0    NaN     NaN   NaN       650.5288     96.653299   \n",
       "Geography          10000      3  France  5014            NaN           NaN   \n",
       "Gender             10000      2    Male  5457            NaN           NaN   \n",
       "Age              10000.0    NaN     NaN   NaN        38.9218     10.487806   \n",
       "Tenure            9091.0    NaN     NaN   NaN        4.99769      2.894723   \n",
       "Balance          10000.0    NaN     NaN   NaN   76485.889288  62397.405202   \n",
       "NumOfProducts    10000.0    NaN     NaN   NaN         1.5302      0.581654   \n",
       "HasCrCard        10000.0    NaN     NaN   NaN         0.7055       0.45584   \n",
       "IsActiveMember   10000.0    NaN     NaN   NaN         0.5151      0.499797   \n",
       "EstimatedSalary  10000.0    NaN     NaN   NaN  100090.239881  57510.492818   \n",
       "Exited           10000.0    NaN     NaN   NaN         0.2037      0.402769   \n",
       "\n",
       "                        min          25%         50%          75%         max  \n",
       "RowNumber               1.0      2500.75      5000.5      7500.25     10000.0  \n",
       "CustomerId       15565701.0  15628528.25  15690738.0  15753233.75  15815690.0  \n",
       "Surname                 NaN          NaN         NaN          NaN         NaN  \n",
       "CreditScore           350.0        584.0       652.0        718.0       850.0  \n",
       "Geography               NaN          NaN         NaN          NaN         NaN  \n",
       "Gender                  NaN          NaN         NaN          NaN         NaN  \n",
       "Age                    18.0         32.0        37.0         44.0        92.0  \n",
       "Tenure                  0.0          2.0         5.0          7.0        10.0  \n",
       "Balance                 0.0          0.0    97198.54    127644.24   250898.09  \n",
       "NumOfProducts           1.0          1.0         1.0          2.0         4.0  \n",
       "HasCrCard               0.0          0.0         1.0          1.0         1.0  \n",
       "IsActiveMember          0.0          0.0         1.0          1.0         1.0  \n",
       "EstimatedSalary       11.58     51002.11  100193.915  149388.2475   199992.48  \n",
       "Exited                  0.0          0.0         0.0          0.0         1.0  "
      ]
     },
     "execution_count": 7,
     "metadata": {},
     "output_type": "execute_result"
    }
   ],
   "source": [
    "df.describe(include='all').T"
   ]
  },
  {
   "cell_type": "code",
   "execution_count": 8,
   "metadata": {},
   "outputs": [
    {
     "data": {
      "text/plain": [
       "0"
      ]
     },
     "execution_count": 8,
     "metadata": {},
     "output_type": "execute_result"
    }
   ],
   "source": [
    "df.duplicated().sum()"
   ]
  },
  {
   "cell_type": "code",
   "execution_count": 9,
   "metadata": {},
   "outputs": [
    {
     "data": {
      "text/plain": [
       "<AxesSubplot:>"
      ]
     },
     "execution_count": 9,
     "metadata": {},
     "output_type": "execute_result"
    },
    {
     "data": {
      "image/png": "[encoded data removed]",
      "text/plain": [
       "<Figure size 432x288 with 2 Axes>"
      ]
     },
     "metadata": {
      "needs_background": "light"
     },
     "output_type": "display_data"
    }
   ],
   "source": [
    "sns.heatmap(df.corr())"
   ]
  },
  {
   "cell_type": "code",
   "execution_count": 10,
   "metadata": {},
   "outputs": [
    {
     "data": {
      "image/png": "[encoded data removed]",
      "text/plain": [
       "<Figure size 720x720 with 2 Axes>"
      ]
     },
     "metadata": {
      "needs_background": "light"
     },
     "output_type": "display_data"
    }
   ],
   "source": [
    "fig, ax = plt.subplots(figsize=(10, 10))\n",
    "\n",
    "sns.heatmap(df.corr(), annot = True, cbar_kws= {'orientation': 'horizontal'} );"
   ]
  },
  {
   "cell_type": "code",
   "execution_count": 11,
   "metadata": {},
   "outputs": [],
   "source": [
    "df = df.drop(['RowNumber', 'CustomerId', 'Surname'], axis=1)"
   ]
  },
  {
   "cell_type": "markdown",
   "metadata": {},
   "source": [
    "Удалил часть ненужной информации,она не понадобится в проекте,возможно из-за нее будет искожение данных."
   ]
  },
  {
   "cell_type": "code",
   "execution_count": 12,
   "metadata": {},
   "outputs": [],
   "source": [
    "new_columns = []\n",
    "for col in df.columns:\n",
    "    new_columns.append(re.sub(r'(?<!^)(?=[A-Z])', '_', col).lower())\n",
    "df.columns = new_columns"
   ]
  },
  {
   "cell_type": "code",
   "execution_count": 13,
   "metadata": {},
   "outputs": [
    {
     "data": {
      "text/plain": [
       "'2.00%'"
      ]
     },
     "execution_count": 13,
     "metadata": {},
     "output_type": "execute_result"
    }
   ],
   "source": [
    "f\"{df['tenure'].isna().sum() / df['tenure'].sum():.2%}\""
   ]
  },
  {
   "cell_type": "code",
   "execution_count": 14,
   "metadata": {},
   "outputs": [],
   "source": [
    "df = df.dropna(subset=['tenure'])\n"
   ]
  },
  {
   "cell_type": "markdown",
   "metadata": {},
   "source": [
    "Удалил пропуски в столбце **tenure**,пропуски заполнить нечем, так как мы не можем определить сколько лет человек является клиентом банка и процент потери информации небольшой."
   ]
  },
  {
   "cell_type": "code",
   "execution_count": 15,
   "metadata": {},
   "outputs": [],
   "source": [
    "df['tenure'] = df['tenure'].astype('int')"
   ]
  },
  {
   "cell_type": "code",
   "execution_count": 16,
   "metadata": {},
   "outputs": [
    {
     "name": "stdout",
     "output_type": "stream",
     "text": [
      "Доля объектов положительного класса : 0.2039379606204001\n",
      "Доля объектов отрицательного класса : 0.7960620393795999\n"
     ]
    }
   ],
   "source": [
    "print(f\"Доля объектов положительного класса : {sum(df['exited']/len(df))}\")\n",
    "print(f\"Доля объектов отрицательного класса : {1 - sum(df['exited']/len(df))}\")"
   ]
  },
  {
   "cell_type": "markdown",
   "metadata": {},
   "source": [
    "**Вывод:** Файл открыт и изучен,у нас в наличии 14 столбца и 10000 строк,строки с пропусками в столбце \"Tenure\" удалил и поменял на целочисленное,остальные столбцы имеют нужный формат,дубликатов в файле нет.Сильной корреляции между признаками не обнаружено. Так же замечен разный масштаб у признаков.  Привел название столбцов к единому стилю и посмотрел на долю положительных и отрицательных значений в целевом принзнаке,соотношение 1 к 4 соответственно."
   ]
  },
  {
   "cell_type": "markdown",
   "metadata": {},
   "source": [
    "## Исследование задачи"
   ]
  },
  {
   "cell_type": "markdown",
   "metadata": {},
   "source": [
    "### Подготовка данных"
   ]
  },
  {
   "cell_type": "markdown",
   "metadata": {},
   "source": [
    "Привел признаки в столбцах 'credit_score', 'balance', 'num_of_products', 'age', 'tenure', 'has_cr_card', 'is_active_member', 'estimated_salary' к одному масштабу."
   ]
  },
  {
   "cell_type": "code",
   "execution_count": 17,
   "metadata": {},
   "outputs": [],
   "source": [
    "features = df.drop(['exited'], axis=1)\n",
    "target = df['exited']"
   ]
  },
  {
   "cell_type": "code",
   "execution_count": 18,
   "metadata": {},
   "outputs": [],
   "source": [
    "features_train, features_test, target_train, target_test = train_test_split(features, target, \n",
    "                                                                            test_size=0.4, random_state=12345,\n",
    "                                                                            stratify=target)\n",
    "features_valid, features_test, target_valid, target_test = train_test_split(features_test, target_test, \n",
    "                                                                            test_size=0.5, random_state=12345, \n",
    "                                                                            stratify=target_test)"
   ]
  },
  {
   "cell_type": "code",
   "execution_count": 19,
   "metadata": {},
   "outputs": [
    {
     "name": "stdout",
     "output_type": "stream",
     "text": [
      "(5454, 10)\n",
      "(1818, 10)\n",
      "(5454,)\n",
      "(1818,)\n",
      "(1819, 10)\n",
      "(1819,)\n"
     ]
    }
   ],
   "source": [
    "for i in [features_train, features_valid, target_train, target_valid, features_test, target_test]:\n",
    "    print(i.shape)"
   ]
  },
  {
   "cell_type": "markdown",
   "metadata": {},
   "source": [
    "Данные были разбиты на *признаки* и *целевые признаки*,далее с соотношением 3:1:1 разбили на *тренировочную*,*тестовую* и *валидационную* соответственно,при проверке все соотношения совпадают."
   ]
  },
  {
   "cell_type": "code",
   "execution_count": 20,
   "metadata": {},
   "outputs": [
    {
     "data": {
      "text/plain": [
       "['geography', 'gender']"
      ]
     },
     "execution_count": 20,
     "metadata": {},
     "output_type": "execute_result"
    }
   ],
   "source": [
    "ohe_features = features_train.select_dtypes(include='object').columns.to_list()\n",
    "ohe_features"
   ]
  },
  {
   "cell_type": "code",
   "execution_count": 21,
   "metadata": {},
   "outputs": [],
   "source": [
    "X_train = features_train.copy()\n",
    "X_valid = features_valid.copy()"
   ]
  },
  {
   "cell_type": "code",
   "execution_count": 22,
   "metadata": {},
   "outputs": [],
   "source": [
    "encoder_ohe = OneHotEncoder(drop='first', handle_unknown='ignore', sparse=False)\n",
    "\n",
    "encoder_ohe.fit(X_train[ohe_features])\n",
    "\n",
    "X_train[\n",
    "    encoder_ohe.get_feature_names_out()\n",
    "] = encoder_ohe.transform(X_train[ohe_features])\n",
    "\n",
    "X_train = X_train.drop(ohe_features, axis=1)"
   ]
  },
  {
   "cell_type": "code",
   "execution_count": 23,
   "metadata": {},
   "outputs": [
    {
     "data": {
      "text/html": [
       "<div>\n",
       "<style scoped>\n",
       "    .dataframe tbody tr th:only-of-type {\n",
       "        vertical-align: middle;\n",
       "    }\n",
       "\n",
       "    .dataframe tbody tr th {\n",
       "        vertical-align: top;\n",
       "    }\n",
       "\n",
       "    .dataframe thead th {\n",
       "        text-align: right;\n",
       "    }\n",
       "</style>\n",
       "<table border=\"1\" class=\"dataframe\">\n",
       "  <thead>\n",
       "    <tr style=\"text-align: right;\">\n",
       "      <th></th>\n",
       "      <th>credit_score</th>\n",
       "      <th>age</th>\n",
       "      <th>tenure</th>\n",
       "      <th>balance</th>\n",
       "      <th>num_of_products</th>\n",
       "      <th>has_cr_card</th>\n",
       "      <th>is_active_member</th>\n",
       "      <th>estimated_salary</th>\n",
       "      <th>geography_Germany</th>\n",
       "      <th>geography_Spain</th>\n",
       "      <th>gender_Male</th>\n",
       "    </tr>\n",
       "  </thead>\n",
       "  <tbody>\n",
       "    <tr>\n",
       "      <th>9723</th>\n",
       "      <td>-1.292898</td>\n",
       "      <td>-0.660843</td>\n",
       "      <td>0.686341</td>\n",
       "      <td>0.786636</td>\n",
       "      <td>-0.910943</td>\n",
       "      <td>-1.554765</td>\n",
       "      <td>-1.036226</td>\n",
       "      <td>-0.223548</td>\n",
       "      <td>0.0</td>\n",
       "      <td>0.0</td>\n",
       "      <td>1.0</td>\n",
       "    </tr>\n",
       "    <tr>\n",
       "      <th>1224</th>\n",
       "      <td>-1.563714</td>\n",
       "      <td>0.778434</td>\n",
       "      <td>1.034232</td>\n",
       "      <td>0.833795</td>\n",
       "      <td>-0.910943</td>\n",
       "      <td>0.643184</td>\n",
       "      <td>-1.036226</td>\n",
       "      <td>1.383021</td>\n",
       "      <td>0.0</td>\n",
       "      <td>1.0</td>\n",
       "      <td>0.0</td>\n",
       "    </tr>\n",
       "    <tr>\n",
       "      <th>8377</th>\n",
       "      <td>1.581914</td>\n",
       "      <td>0.106771</td>\n",
       "      <td>-0.357331</td>\n",
       "      <td>-1.222967</td>\n",
       "      <td>0.789359</td>\n",
       "      <td>0.643184</td>\n",
       "      <td>0.965040</td>\n",
       "      <td>-0.308331</td>\n",
       "      <td>0.0</td>\n",
       "      <td>1.0</td>\n",
       "      <td>1.0</td>\n",
       "    </tr>\n",
       "    <tr>\n",
       "      <th>8014</th>\n",
       "      <td>0.842379</td>\n",
       "      <td>0.010820</td>\n",
       "      <td>-1.053112</td>\n",
       "      <td>0.807063</td>\n",
       "      <td>-0.910943</td>\n",
       "      <td>0.643184</td>\n",
       "      <td>0.965040</td>\n",
       "      <td>-0.430980</td>\n",
       "      <td>0.0</td>\n",
       "      <td>1.0</td>\n",
       "      <td>0.0</td>\n",
       "    </tr>\n",
       "    <tr>\n",
       "      <th>2491</th>\n",
       "      <td>-0.397123</td>\n",
       "      <td>-1.236554</td>\n",
       "      <td>-0.357331</td>\n",
       "      <td>-1.222967</td>\n",
       "      <td>0.789359</td>\n",
       "      <td>0.643184</td>\n",
       "      <td>0.965040</td>\n",
       "      <td>1.392642</td>\n",
       "      <td>0.0</td>\n",
       "      <td>1.0</td>\n",
       "      <td>0.0</td>\n",
       "    </tr>\n",
       "  </tbody>\n",
       "</table>\n",
       "</div>"
      ],
      "text/plain": [
       "      credit_score       age    tenure   balance  num_of_products  \\\n",
       "9723     -1.292898 -0.660843  0.686341  0.786636        -0.910943   \n",
       "1224     -1.563714  0.778434  1.034232  0.833795        -0.910943   \n",
       "8377      1.581914  0.106771 -0.357331 -1.222967         0.789359   \n",
       "8014      0.842379  0.010820 -1.053112  0.807063        -0.910943   \n",
       "2491     -0.397123 -1.236554 -0.357331 -1.222967         0.789359   \n",
       "\n",
       "      has_cr_card  is_active_member  estimated_salary  geography_Germany  \\\n",
       "9723    -1.554765         -1.036226         -0.223548                0.0   \n",
       "1224     0.643184         -1.036226          1.383021                0.0   \n",
       "8377     0.643184          0.965040         -0.308331                0.0   \n",
       "8014     0.643184          0.965040         -0.430980                0.0   \n",
       "2491     0.643184          0.965040          1.392642                0.0   \n",
       "\n",
       "      geography_Spain  gender_Male  \n",
       "9723              0.0          1.0  \n",
       "1224              1.0          0.0  \n",
       "8377              1.0          1.0  \n",
       "8014              1.0          0.0  \n",
       "2491              1.0          0.0  "
      ]
     },
     "execution_count": 23,
     "metadata": {},
     "output_type": "execute_result"
    }
   ],
   "source": [
    "num_features = features_train.select_dtypes(exclude='object').columns.to_list()\n",
    "\n",
    "scaler = StandardScaler()\n",
    "X_train[num_features] = scaler.fit_transform(X_train[num_features])\n",
    "\n",
    "X_train.head()"
   ]
  },
  {
   "cell_type": "markdown",
   "metadata": {},
   "source": [
    "Кодируем категориальные признаки методом ОНЕ,обучаем тренировочную и трансформируем."
   ]
  },
  {
   "cell_type": "code",
   "execution_count": 24,
   "metadata": {},
   "outputs": [
    {
     "data": {
      "text/html": [
       "<div>\n",
       "<style scoped>\n",
       "    .dataframe tbody tr th:only-of-type {\n",
       "        vertical-align: middle;\n",
       "    }\n",
       "\n",
       "    .dataframe tbody tr th {\n",
       "        vertical-align: top;\n",
       "    }\n",
       "\n",
       "    .dataframe thead th {\n",
       "        text-align: right;\n",
       "    }\n",
       "</style>\n",
       "<table border=\"1\" class=\"dataframe\">\n",
       "  <thead>\n",
       "    <tr style=\"text-align: right;\">\n",
       "      <th></th>\n",
       "      <th>credit_score</th>\n",
       "      <th>age</th>\n",
       "      <th>tenure</th>\n",
       "      <th>balance</th>\n",
       "      <th>num_of_products</th>\n",
       "      <th>has_cr_card</th>\n",
       "      <th>is_active_member</th>\n",
       "      <th>estimated_salary</th>\n",
       "      <th>geography_Germany</th>\n",
       "      <th>geography_Spain</th>\n",
       "      <th>gender_Male</th>\n",
       "    </tr>\n",
       "  </thead>\n",
       "  <tbody>\n",
       "    <tr>\n",
       "      <th>7493</th>\n",
       "      <td>-0.417955</td>\n",
       "      <td>-0.181084</td>\n",
       "      <td>1.730013</td>\n",
       "      <td>1.023931</td>\n",
       "      <td>0.789359</td>\n",
       "      <td>0.643184</td>\n",
       "      <td>0.96504</td>\n",
       "      <td>0.519901</td>\n",
       "      <td>0.0</td>\n",
       "      <td>1.0</td>\n",
       "      <td>0.0</td>\n",
       "    </tr>\n",
       "    <tr>\n",
       "      <th>5460</th>\n",
       "      <td>0.113260</td>\n",
       "      <td>0.202723</td>\n",
       "      <td>-0.009440</td>\n",
       "      <td>0.738812</td>\n",
       "      <td>0.789359</td>\n",
       "      <td>-1.554765</td>\n",
       "      <td>0.96504</td>\n",
       "      <td>0.364920</td>\n",
       "      <td>1.0</td>\n",
       "      <td>0.0</td>\n",
       "      <td>1.0</td>\n",
       "    </tr>\n",
       "    <tr>\n",
       "      <th>9126</th>\n",
       "      <td>1.071531</td>\n",
       "      <td>1.162241</td>\n",
       "      <td>-0.357331</td>\n",
       "      <td>0.054632</td>\n",
       "      <td>0.789359</td>\n",
       "      <td>-1.554765</td>\n",
       "      <td>0.96504</td>\n",
       "      <td>-0.545522</td>\n",
       "      <td>0.0</td>\n",
       "      <td>1.0</td>\n",
       "      <td>1.0</td>\n",
       "    </tr>\n",
       "    <tr>\n",
       "      <th>9801</th>\n",
       "      <td>-0.845011</td>\n",
       "      <td>-0.852747</td>\n",
       "      <td>-0.705222</td>\n",
       "      <td>1.010554</td>\n",
       "      <td>-0.910943</td>\n",
       "      <td>0.643184</td>\n",
       "      <td>0.96504</td>\n",
       "      <td>-1.154323</td>\n",
       "      <td>0.0</td>\n",
       "      <td>1.0</td>\n",
       "      <td>0.0</td>\n",
       "    </tr>\n",
       "    <tr>\n",
       "      <th>9101</th>\n",
       "      <td>-0.553363</td>\n",
       "      <td>-0.085132</td>\n",
       "      <td>0.338450</td>\n",
       "      <td>0.629162</td>\n",
       "      <td>0.789359</td>\n",
       "      <td>0.643184</td>\n",
       "      <td>0.96504</td>\n",
       "      <td>-1.296336</td>\n",
       "      <td>0.0</td>\n",
       "      <td>1.0</td>\n",
       "      <td>1.0</td>\n",
       "    </tr>\n",
       "  </tbody>\n",
       "</table>\n",
       "</div>"
      ],
      "text/plain": [
       "      credit_score       age    tenure   balance  num_of_products  \\\n",
       "7493     -0.417955 -0.181084  1.730013  1.023931         0.789359   \n",
       "5460      0.113260  0.202723 -0.009440  0.738812         0.789359   \n",
       "9126      1.071531  1.162241 -0.357331  0.054632         0.789359   \n",
       "9801     -0.845011 -0.852747 -0.705222  1.010554        -0.910943   \n",
       "9101     -0.553363 -0.085132  0.338450  0.629162         0.789359   \n",
       "\n",
       "      has_cr_card  is_active_member  estimated_salary  geography_Germany  \\\n",
       "7493     0.643184           0.96504          0.519901                0.0   \n",
       "5460    -1.554765           0.96504          0.364920                1.0   \n",
       "9126    -1.554765           0.96504         -0.545522                0.0   \n",
       "9801     0.643184           0.96504         -1.154323                0.0   \n",
       "9101     0.643184           0.96504         -1.296336                0.0   \n",
       "\n",
       "      geography_Spain  gender_Male  \n",
       "7493              1.0          0.0  \n",
       "5460              0.0          1.0  \n",
       "9126              1.0          1.0  \n",
       "9801              1.0          0.0  \n",
       "9101              1.0          1.0  "
      ]
     },
     "execution_count": 24,
     "metadata": {},
     "output_type": "execute_result"
    }
   ],
   "source": [
    "X_valid[\n",
    "    encoder_ohe.get_feature_names_out()\n",
    "] = encoder_ohe.transform(X_valid[ohe_features])\n",
    "\n",
    "X_valid = X_valid.drop(ohe_features, axis=1)\n",
    "\n",
    "X_valid[num_features] = scaler.transform(\n",
    "    X_valid[num_features]\n",
    ")\n",
    "\n",
    "X_valid.head()"
   ]
  },
  {
   "cell_type": "markdown",
   "metadata": {},
   "source": [
    "Энкодером, который обучен на ТРЕНИРОВОЧНОЙ ВЫБОРКЕ, кодируем валидационную и масштабируем."
   ]
  },
  {
   "cell_type": "code",
   "execution_count": 25,
   "metadata": {},
   "outputs": [
    {
     "data": {
      "text/plain": [
       "((5454, 11), (1818, 11))"
      ]
     },
     "execution_count": 25,
     "metadata": {},
     "output_type": "execute_result"
    }
   ],
   "source": [
    "X_train.shape, X_valid.shape"
   ]
  },
  {
   "cell_type": "markdown",
   "metadata": {},
   "source": [
    "Получилось одинаковое количество признаков."
   ]
  },
  {
   "cell_type": "code",
   "execution_count": 26,
   "metadata": {},
   "outputs": [
    {
     "data": {
      "text/plain": [
       "0"
      ]
     },
     "execution_count": 26,
     "metadata": {},
     "output_type": "execute_result"
    }
   ],
   "source": [
    "(X_train.columns != X_valid.columns).sum()"
   ]
  },
  {
   "cell_type": "markdown",
   "metadata": {},
   "source": [
    "Получились одинаковые признаки в тренировочной и валидационной выборках."
   ]
  },
  {
   "cell_type": "markdown",
   "metadata": {},
   "source": [
    "**Вывод:** Подготовил данные,разделил на признаки,техникой OHE кодировали категориальные признаки."
   ]
  },
  {
   "cell_type": "markdown",
   "metadata": {},
   "source": [
    "### Исследование модели"
   ]
  },
  {
   "cell_type": "code",
   "execution_count": 27,
   "metadata": {},
   "outputs": [
    {
     "name": "stderr",
     "output_type": "stream",
     "text": [
      "100%|██████████| 29/29 [00:16<00:00,  1.76it/s]"
     ]
    },
    {
     "name": "stdout",
     "output_type": "stream",
     "text": [
      "Depth: 9\n",
      "Число деревьев: 24\n",
      "F1: 0.5986622073578596\n",
      "AUC-ROC: 0.875684798178963\n"
     ]
    },
    {
     "name": "stderr",
     "output_type": "stream",
     "text": [
      "\n"
     ]
    }
   ],
   "source": [
    "best_depth_rf = 0\n",
    "best_est_rf = 0\n",
    "best_f1_rf = 0\n",
    "best_roc_auc_score_rf = 0\n",
    "for est in tqdm(range(1,30)):\n",
    "    for depth in range(1,10):\n",
    "        model_rf = RandomForestClassifier(random_state=12345, n_estimators=est, max_depth=depth) \n",
    "        model_rf.fit(X_train, target_train)\n",
    "        predictions_valid_rf = model_rf.predict(X_valid)\n",
    "        f1_rf = f1_score(target_valid, predictions_valid_rf)\n",
    "        roc_auc_score_rf = roc_auc_score(target_valid, model_rf.predict_proba(X_valid)[:,1])\n",
    "        if f1_rf > best_f1_rf:\n",
    "            best_f1_rf = f1_rf\n",
    "            best_depth_rf = depth\n",
    "            best_est_rf = est\n",
    "            best_roc_auc_score_rf = roc_auc_score_rf\n",
    "            \n",
    "print('Depth:', best_depth_rf)\n",
    "print('Число деревьев:', best_est_rf)\n",
    "print('F1:', best_f1_rf)\n",
    "print('AUC-ROC:', best_roc_auc_score_rf)"
   ]
  },
  {
   "cell_type": "markdown",
   "metadata": {},
   "source": [
    "**Вывод:** Исследован алгоритм *случайный лес*(без дисбаланса), взята глубина от 1 до 10 и числом деревьев от 1 до 30.Наилучшая модель на валидационной выборке с глубиной 9 и числом деревьев равных 24, ресурсозатратность же равна 1.79it/s."
   ]
  },
  {
   "cell_type": "code",
   "execution_count": 28,
   "metadata": {},
   "outputs": [
    {
     "name": "stdout",
     "output_type": "stream",
     "text": [
      "F1: 0.3615819209039548\n",
      "AUC-ROC: 0.7880064153551263\n"
     ]
    }
   ],
   "source": [
    "model_lr = LogisticRegression(random_state=12345, solver='liblinear', max_iter=1000).fit(X_valid, target_valid)\n",
    "predictions_lr = model_lr.predict(X_valid) \n",
    "        \n",
    "print('F1:', f1_score(target_valid, predictions_lr))\n",
    "print('AUC-ROC:', roc_auc_score(target_valid, model_lr.predict_proba(X_valid)[:, 1]))"
   ]
  },
  {
   "cell_type": "markdown",
   "metadata": {},
   "source": [
    "**Вывод:** При проверки валидационной выборки алгоритма *логической регрессии* F1 = 0.36"
   ]
  },
  {
   "cell_type": "code",
   "execution_count": 29,
   "metadata": {},
   "outputs": [
    {
     "name": "stderr",
     "output_type": "stream",
     "text": [
      "100%|██████████| 14/14 [00:00<00:00, 46.68it/s]"
     ]
    },
    {
     "name": "stdout",
     "output_type": "stream",
     "text": [
      "Depth: 7\n",
      "F1: 0.5815126050420169\n",
      "AUC-ROC: 0.8245379882534177\n"
     ]
    },
    {
     "name": "stderr",
     "output_type": "stream",
     "text": [
      "\n"
     ]
    }
   ],
   "source": [
    "best_depth_dt = 0\n",
    "best_f1_dt = 0\n",
    "best_roc_auc_score_dt = 0\n",
    "for depth in tqdm(range(1, 15)):\n",
    "    model_dt = DecisionTreeClassifier(random_state=12345, max_depth = depth).fit(X_train, target_train)\n",
    "    predictions_valid_dt = model_dt.predict(X_valid)\n",
    "    f1_dt = f1_score(target_valid, predictions_valid_dt)\n",
    "    roc_auc_score_dt = roc_auc_score(target_valid, model_dt.predict_proba(X_valid)[:,1])\n",
    "    if f1_dt > best_f1_dt:\n",
    "        best_f1_dt = f1_dt\n",
    "        best_depth_dt = depth\n",
    "        best_roc_auc_score_dt = roc_auc_score_dt\n",
    "            \n",
    "print('Depth:', best_depth_dt)\n",
    "print('F1:', best_f1_dt)\n",
    "print('AUC-ROC:', best_roc_auc_score_dt)"
   ]
  },
  {
   "cell_type": "markdown",
   "metadata": {},
   "source": [
    "**Вывод:** При проверки валидационной выборки алгоритма *дерево решений*, лучшая F1 = 0.58 при *глубине* = 7,ресурсозатратность  равна 40.49it/s."
   ]
  },
  {
   "cell_type": "markdown",
   "metadata": {},
   "source": [
    "**Общий вывод:** Исследованы три алгоритма без учета дисбаланса,лучшую агрегирующую метрику *полноты* и *точности*,*F1-мера*   показал *случайный лес* с глубиной 9 и количеством деревьев 24,лучшая метрика *AUC-ROC* так же у *случайного леса* и равна 0,87,что лучше чем у случайной модели,но не идеальна."
   ]
  },
  {
   "cell_type": "markdown",
   "metadata": {},
   "source": [
    "## Борьба с дисбалансом"
   ]
  },
  {
   "cell_type": "markdown",
   "metadata": {},
   "source": [
    "### Матрица ошибок"
   ]
  },
  {
   "cell_type": "code",
   "execution_count": 30,
   "metadata": {},
   "outputs": [
    {
     "data": {
      "text/plain": [
       "array([[1291,  156],\n",
       "       [ 199,  172]])"
      ]
     },
     "execution_count": 30,
     "metadata": {},
     "output_type": "execute_result"
    }
   ],
   "source": [
    "confusion_matrix_dt= confusion_matrix(target_valid, predictions_valid_dt)\n",
    "\n",
    "confusion_matrix_dt"
   ]
  },
  {
   "cell_type": "code",
   "execution_count": 31,
   "metadata": {},
   "outputs": [
    {
     "data": {
      "text/plain": [
       "array([[1404,   43],\n",
       "       [ 196,  175]])"
      ]
     },
     "execution_count": 31,
     "metadata": {},
     "output_type": "execute_result"
    }
   ],
   "source": [
    "confusion_matrix_rf= confusion_matrix(target_valid, predictions_valid_rf)\n",
    "\n",
    "confusion_matrix_rf"
   ]
  },
  {
   "cell_type": "markdown",
   "metadata": {},
   "source": [
    "Построил матрицу ошибок для *дерева решений* и *случайного леса*,наблюдаем большой дисбаланс. "
   ]
  },
  {
   "cell_type": "markdown",
   "metadata": {},
   "source": [
    "### Взвешивание классов"
   ]
  },
  {
   "cell_type": "code",
   "execution_count": 32,
   "metadata": {},
   "outputs": [
    {
     "name": "stderr",
     "output_type": "stream",
     "text": [
      "100%|██████████| 14/14 [00:00<00:00, 45.79it/s]"
     ]
    },
    {
     "name": "stdout",
     "output_type": "stream",
     "text": [
      "Depth: 6\n",
      "F1: 0.583084577114428\n",
      "AUC-ROC: 0.8353643657199484\n"
     ]
    },
    {
     "name": "stderr",
     "output_type": "stream",
     "text": [
      "\n"
     ]
    }
   ],
   "source": [
    "best_depth_dt = 0\n",
    "best_f1_dt = 0\n",
    "best_roc_auc_score_dt = 0\n",
    "for depth in tqdm(range(1, 15)):\n",
    "    model_dt = DecisionTreeClassifier(random_state=12345, max_depth = depth, class_weight = 'balanced')\n",
    "    model_dt.fit(X_train, target_train)\n",
    "    predictions_valid_dt = model_dt.predict(X_valid)\n",
    "    f1_dt = f1_score(target_valid, predictions_valid_dt)\n",
    "    roc_auc_score_dt = roc_auc_score(target_valid, model_dt.predict_proba(X_valid)[:,1])\n",
    "    if f1_dt > best_f1_dt:\n",
    "        best_f1_dt = f1_dt\n",
    "        best_depth_dt = depth\n",
    "        best_roc_auc_score_dt = roc_auc_score_dt\n",
    "            \n",
    "print('Depth:', best_depth_dt)\n",
    "print('F1:', best_f1_dt)\n",
    "print('AUC-ROC:', best_roc_auc_score_dt)\n"
   ]
  },
  {
   "cell_type": "markdown",
   "metadata": {},
   "source": [
    "**Вывод:** Исследован алгоритм *дерево решений*(с учетом баланса дисбаланса), взята глубина от 1 до 15.Наилучшая модель на валидационной выборке с глубиной 6, мера F1 осталась прежней."
   ]
  },
  {
   "cell_type": "code",
   "execution_count": 33,
   "metadata": {
    "scrolled": true
   },
   "outputs": [
    {
     "name": "stderr",
     "output_type": "stream",
     "text": [
      "100%|██████████| 29/29 [00:16<00:00,  1.74it/s]"
     ]
    },
    {
     "name": "stdout",
     "output_type": "stream",
     "text": [
      "Depth: 9\n",
      "Число деревьев: 15\n",
      "F1: 0.640506329113924\n",
      "AUC-ROC: 0.8662629438730938\n"
     ]
    },
    {
     "name": "stderr",
     "output_type": "stream",
     "text": [
      "\n"
     ]
    }
   ],
   "source": [
    "best_depth_rf = 0\n",
    "best_est_rf = 0\n",
    "best_f1_rf = 0\n",
    "best_roc_auc_score_rf = 0\n",
    "for est in tqdm(range(1,30)):\n",
    "    for depth in range(1,10):\n",
    "        model_rf = RandomForestClassifier(random_state=12345, n_estimators=est, max_depth=depth, class_weight = 'balanced') \n",
    "        model_rf.fit(X_train, target_train)\n",
    "        predictions_valid_rf = model_rf.predict(X_valid)\n",
    "        f1_rf = f1_score(target_valid, predictions_valid_rf)\n",
    "        roc_auc_score_rf = roc_auc_score(target_valid, model_rf.predict_proba(X_valid)[:,1])\n",
    "        if f1_rf > best_f1_rf:\n",
    "            best_f1_rf = f1_rf\n",
    "            best_depth_rf = depth\n",
    "            best_est_rf = est\n",
    "            best_roc_auc_score_rf = roc_auc_score_rf\n",
    "            \n",
    "print('Depth:', best_depth_rf)\n",
    "print('Число деревьев:', best_est_rf)\n",
    "print('F1:', best_f1_rf)\n",
    "print('AUC-ROC:', best_roc_auc_score_rf)"
   ]
  },
  {
   "cell_type": "markdown",
   "metadata": {},
   "source": [
    "**Вывод:** Исследован алгоритм *случайный лес*(с учетом баланса дисбаланса), взята глубина от 1 до 10 и количество деревьев от 1 до 30.Наилучшая модель на валидационной выборке с глубиной 9 и деревьев 15, мера F1 заметно улучшелась."
   ]
  },
  {
   "cell_type": "code",
   "execution_count": 34,
   "metadata": {},
   "outputs": [
    {
     "name": "stdout",
     "output_type": "stream",
     "text": [
      "F1: 0.5065420560747663\n"
     ]
    }
   ],
   "source": [
    "model = LogisticRegression(random_state=12345, solver='liblinear', max_iter=1000, class_weight='balanced')\n",
    "model.fit(X_train, target_train)\n",
    "predicted_valid = model.predict(X_valid)\n",
    "print(\"F1:\", f1_score(target_valid, predicted_valid))"
   ]
  },
  {
   "cell_type": "markdown",
   "metadata": {},
   "source": [
    "**Вывод:** После балансирования классов,показатель F1 у *логической регрессии* заметно улучшился."
   ]
  },
  {
   "cell_type": "markdown",
   "metadata": {},
   "source": [
    "### Увеличение выборки"
   ]
  },
  {
   "cell_type": "code",
   "execution_count": 35,
   "metadata": {},
   "outputs": [],
   "source": [
    "oversample = SMOTE(random_state=12345, k_neighbors=4)\n",
    "features_upsampled, target_upsampled = oversample.fit_resample(X_train, target_train)"
   ]
  },
  {
   "cell_type": "markdown",
   "metadata": {},
   "source": [
    "Использовал SMOTE для увеличения выборки."
   ]
  },
  {
   "cell_type": "code",
   "execution_count": 36,
   "metadata": {},
   "outputs": [
    {
     "data": {
      "image/png": "[encoded data removed]",
      "text/plain": [
       "<Figure size 144x144 with 1 Axes>"
      ]
     },
     "metadata": {
      "needs_background": "light"
     },
     "output_type": "display_data"
    }
   ],
   "source": [
    "target_upsampled.plot(kind ='hist', bins=3, figsize=(2,2));"
   ]
  },
  {
   "cell_type": "markdown",
   "metadata": {},
   "source": [
    "Наблюдаем баланс после увеличения выборки."
   ]
  },
  {
   "cell_type": "code",
   "execution_count": 37,
   "metadata": {},
   "outputs": [
    {
     "name": "stderr",
     "output_type": "stream",
     "text": [
      "100%|██████████| 29/29 [00:24<00:00,  1.19it/s]"
     ]
    },
    {
     "name": "stdout",
     "output_type": "stream",
     "text": [
      "Depth: 7\n",
      "Число деревьев: 5\n",
      "F1: 0.6375442739079102\n",
      "AUC-ROC: 0.8660245102330876\n"
     ]
    },
    {
     "name": "stderr",
     "output_type": "stream",
     "text": [
      "\n"
     ]
    }
   ],
   "source": [
    "best_depth_rf = 0\n",
    "best_est_rf = 0\n",
    "best_f1_rf = 0\n",
    "best_roc_auc_score_rf = 0\n",
    "for est in tqdm(range(1,30)):\n",
    "    for depth in range(1,10):\n",
    "        model_rf = RandomForestClassifier(random_state=12345, n_estimators=est, max_depth=depth) \n",
    "        model_rf.fit(features_upsampled, target_upsampled)\n",
    "        predictions_valid_rf = model_rf.predict(X_valid)\n",
    "        f1_rf = f1_score(target_valid, predictions_valid_rf)\n",
    "        roc_auc_score_rf = roc_auc_score(target_valid, model_rf.predict_proba(X_valid)[:,1])\n",
    "        if f1_rf > best_f1_rf:\n",
    "            best_f1_rf = f1_rf\n",
    "            best_depth_rf = depth\n",
    "            best_est_rf = est\n",
    "            best_roc_auc_score_rf = roc_auc_score_rf\n",
    "            \n",
    "print('Depth:', best_depth_rf)\n",
    "print('Число деревьев:', best_est_rf)\n",
    "print('F1:', best_f1_rf)\n",
    "print('AUC-ROC:', best_roc_auc_score_rf)"
   ]
  },
  {
   "cell_type": "markdown",
   "metadata": {},
   "source": [
    "**Вывод:** После проверки *случайного леса* на увеличенной выборке,мера F1 заметно лучше,чем без учета дисбаланса."
   ]
  },
  {
   "cell_type": "code",
   "execution_count": 38,
   "metadata": {},
   "outputs": [
    {
     "name": "stdout",
     "output_type": "stream",
     "text": [
      "F1: 0.5098777046095955\n"
     ]
    }
   ],
   "source": [
    "model_lr = LogisticRegression(solver='liblinear', random_state=12345, max_iter=1000).fit(features_upsampled, target_upsampled)\n",
    "predictions_valid_lr = model_lr.predict(X_valid)\n",
    "\n",
    "print(\"F1:\", f1_score(target_valid, predictions_valid_lr))"
   ]
  },
  {
   "cell_type": "markdown",
   "metadata": {},
   "source": [
    "**Вывод:** Мера F1 у *логической регрессии* улучшилась."
   ]
  },
  {
   "cell_type": "code",
   "execution_count": 39,
   "metadata": {},
   "outputs": [
    {
     "name": "stderr",
     "output_type": "stream",
     "text": [
      "100%|██████████| 14/14 [00:00<00:00, 27.97it/s]"
     ]
    },
    {
     "name": "stdout",
     "output_type": "stream",
     "text": [
      "Depth: 12\n",
      "F1: 0.5957972805933252\n",
      "AUC-ROC: 0.7803700192050846\n"
     ]
    },
    {
     "name": "stderr",
     "output_type": "stream",
     "text": [
      "\n"
     ]
    }
   ],
   "source": [
    "best_depth_dt = 0\n",
    "best_f1_dt = 0\n",
    "best_roc_auc_score_dt = 0\n",
    "for depth in tqdm(range(1, 15)):\n",
    "    model_dt = DecisionTreeClassifier(random_state=12345, max_depth = depth).fit(features_upsampled, target_upsampled)\n",
    "    predictions_valid_dt = model_dt.predict(X_valid)\n",
    "    f1_dt = f1_score(target_valid, predictions_valid_dt)\n",
    "    roc_auc_score_dt = roc_auc_score(target_valid, model_dt.predict_proba(X_valid)[:,1])\n",
    "    if f1_dt > best_f1_dt:\n",
    "        best_f1_dt = f1_dt\n",
    "        best_depth_dt = depth\n",
    "        best_roc_auc_score_dt = roc_auc_score_dt\n",
    "            \n",
    "print('Depth:', best_depth_dt)\n",
    "print('F1:', best_f1_dt)\n",
    "print('AUC-ROC:', best_roc_auc_score_dt)"
   ]
  },
  {
   "cell_type": "markdown",
   "metadata": {},
   "source": [
    "**Вывод:** Мера F1 у *дерева решений* улучшилась,глубина 12."
   ]
  },
  {
   "cell_type": "markdown",
   "metadata": {},
   "source": [
    "**Вывод:** Для увеличения выборки,был выбран SMOTE,метрика F1 заметно улучшилась у всех моделей после увеличения выборки."
   ]
  },
  {
   "cell_type": "markdown",
   "metadata": {},
   "source": [
    "### Уменьшение выборки"
   ]
  },
  {
   "cell_type": "code",
   "execution_count": 40,
   "metadata": {},
   "outputs": [],
   "source": [
    "rus = RandomUnderSampler(random_state=12345)\n",
    "features_downsampled, target_downsampled = rus.fit_resample(X_train, target_train)"
   ]
  },
  {
   "cell_type": "code",
   "execution_count": 41,
   "metadata": {},
   "outputs": [
    {
     "data": {
      "image/png": "[encoded data removed]",
      "text/plain": [
       "<Figure size 144x144 with 1 Axes>"
      ]
     },
     "metadata": {
      "needs_background": "light"
     },
     "output_type": "display_data"
    }
   ],
   "source": [
    "target_downsampled.plot(kind ='hist', bins=3, figsize=(2,2));"
   ]
  },
  {
   "cell_type": "code",
   "execution_count": 42,
   "metadata": {},
   "outputs": [
    {
     "name": "stderr",
     "output_type": "stream",
     "text": [
      "100%|██████████| 29/29 [00:11<00:00,  2.54it/s]"
     ]
    },
    {
     "name": "stdout",
     "output_type": "stream",
     "text": [
      "Depth: 6\n",
      "Число деревьев: 25\n",
      "F1: 0.6153846153846154\n",
      "AUC-ROC: 0.8730331553153006\n"
     ]
    },
    {
     "name": "stderr",
     "output_type": "stream",
     "text": [
      "\n"
     ]
    }
   ],
   "source": [
    "best_depth_rf = 0\n",
    "best_est_rf = 0\n",
    "best_f1_rf = 0\n",
    "best_roc_auc_score_rf = 0\n",
    "for est in tqdm(range(1,30)):\n",
    "    for depth in range(1,10):\n",
    "        model_rf = RandomForestClassifier(random_state=12345, n_estimators=est, max_depth=depth) \n",
    "        model_rf.fit(features_downsampled, target_downsampled)\n",
    "        predictions_valid_rf = model_rf.predict(X_valid)\n",
    "        f1_rf = f1_score(target_valid, predictions_valid_rf)\n",
    "        roc_auc_score_rf = roc_auc_score(target_valid, model_rf.predict_proba(X_valid)[:,1])\n",
    "        if f1_rf > best_f1_rf:\n",
    "            best_f1_rf = f1_rf\n",
    "            best_depth_rf = depth\n",
    "            best_est_rf = est\n",
    "            best_roc_auc_score_rf = roc_auc_score_rf\n",
    "            \n",
    "print('Depth:', best_depth_rf)\n",
    "print('Число деревьев:', best_est_rf)\n",
    "print('F1:', best_f1_rf)\n",
    "print('AUC-ROC:', best_roc_auc_score_rf)"
   ]
  },
  {
   "cell_type": "markdown",
   "metadata": {},
   "source": [
    "**Вывод:** Исследован алгоритм *случайный лес*, взята глубина от 1 до 10 и количество деревьев от 1 до 30.Наилучшая модель на валидационной выборке с глубиной 6 и деревьев 25, мера F1 стала хуже в сравнении  с увеличенной выборкой."
   ]
  },
  {
   "cell_type": "code",
   "execution_count": 43,
   "metadata": {},
   "outputs": [
    {
     "name": "stderr",
     "output_type": "stream",
     "text": [
      "100%|██████████| 14/14 [00:00<00:00, 74.17it/s]"
     ]
    },
    {
     "name": "stdout",
     "output_type": "stream",
     "text": [
      "Depth: 4\n",
      "F1: 0.5623721881390594\n",
      "AUC-ROC: 0.827097424357859\n"
     ]
    },
    {
     "name": "stderr",
     "output_type": "stream",
     "text": [
      "\n"
     ]
    }
   ],
   "source": [
    "best_depth_dt = 0\n",
    "best_f1_dt = 0\n",
    "best_roc_auc_score_dt = 0\n",
    "for depth in tqdm(range(1, 15)):\n",
    "    model_dt = DecisionTreeClassifier(random_state=12345, max_depth = depth).fit(features_downsampled, target_downsampled)\n",
    "    predictions_valid_dt = model_dt.predict(X_valid)\n",
    "    f1_dt = f1_score(target_valid, predictions_valid_dt)\n",
    "    roc_auc_score_dt = roc_auc_score(target_valid, model_dt.predict_proba(X_valid)[:,1])\n",
    "    if f1_dt > best_f1_dt:\n",
    "        best_f1_dt = f1_dt\n",
    "        best_depth_dt = depth\n",
    "        best_roc_auc_score_dt = roc_auc_score_dt\n",
    "            \n",
    "print('Depth:', best_depth_dt)\n",
    "print('F1:', best_f1_dt)\n",
    "print('AUC-ROC:', best_roc_auc_score_dt)"
   ]
  },
  {
   "cell_type": "markdown",
   "metadata": {},
   "source": [
    "**Вывод:** Исследован алгоритм *дерево решений*, взята глубина от 1 до 15.Наилучшая модель на валидационной выборке с глубиной 4, мера F1 стала хуже в сравнении  с увеличенной выборкой."
   ]
  },
  {
   "cell_type": "code",
   "execution_count": 44,
   "metadata": {},
   "outputs": [
    {
     "name": "stdout",
     "output_type": "stream",
     "text": [
      "F1: 0.5134883720930233\n"
     ]
    }
   ],
   "source": [
    "model_lr = LogisticRegression(solver='liblinear', random_state=12345, max_iter=1000)\n",
    "model_lr.fit(features_downsampled, target_downsampled)\n",
    "predictions_valid_lr = model_lr.predict(X_valid)\n",
    "\n",
    "print(\"F1:\", f1_score(target_valid, predictions_valid_lr))"
   ]
  },
  {
   "cell_type": "markdown",
   "metadata": {},
   "source": [
    "**Вывод:** Исследован алгоритм *логическая регрессия*,  мера F1 самая лучшая после уменьшения выборки."
   ]
  },
  {
   "cell_type": "markdown",
   "metadata": {},
   "source": [
    "**Вывод:** Для уменьшения выборке выбрал RandomUnderSampler.Показатели метрик хуже чем у *увеличиной выборки*."
   ]
  },
  {
   "cell_type": "markdown",
   "metadata": {},
   "source": [
    "### Графики ROC-кривая"
   ]
  },
  {
   "cell_type": "code",
   "execution_count": 45,
   "metadata": {},
   "outputs": [
    {
     "name": "stdout",
     "output_type": "stream",
     "text": [
      "0.7911004643867692\n"
     ]
    },
    {
     "data": {
      "image/png": "[encoded data removed]",
      "text/plain": [
       "<Figure size 432x288 with 1 Axes>"
      ]
     },
     "metadata": {
      "needs_background": "light"
     },
     "output_type": "display_data"
    }
   ],
   "source": [
    "probabilities_valid_lr = model_lr.predict_proba(X_valid)\n",
    "probabilities_one_valid = probabilities_valid_lr[:, 1]\n",
    "\n",
    "fpr, tpr, thresholds = roc_curve(target_valid, probabilities_one_valid) # < напишите код здесь >\n",
    "\n",
    "print(roc_auc_score(target_valid, probabilities_one_valid))\n",
    "\n",
    "plt.figure()\n",
    "\n",
    "plt.plot(fpr, tpr)# < постройте график >\n",
    "\n",
    "# ROC-кривая случайной модели (выглядит как прямая)\n",
    "plt.plot([0, 1], [0, 1], linestyle='--')\n",
    "\n",
    "plt.xlim([0.0, 1.0])\n",
    "plt.ylim([0.0, 1.0])\n",
    "plt.xlabel('False Positive Rate')\n",
    "plt.ylabel('True Positive Rate')\n",
    "plt.title('ROC-кривая')\n",
    "plt.show() "
   ]
  },
  {
   "cell_type": "code",
   "execution_count": 46,
   "metadata": {},
   "outputs": [
    {
     "name": "stdout",
     "output_type": "stream",
     "text": [
      "0.7115455901884556\n"
     ]
    },
    {
     "data": {
      "image/png": "[encoded data removed]",
      "text/plain": [
       "<Figure size 432x288 with 1 Axes>"
      ]
     },
     "metadata": {
      "needs_background": "light"
     },
     "output_type": "display_data"
    }
   ],
   "source": [
    "probabilities_valid_dt = model_dt.predict_proba(X_valid)\n",
    "probabilities_one_valid = probabilities_valid_dt[:, 1]\n",
    "\n",
    "fpr, tpr, thresholds = roc_curve(target_valid, probabilities_one_valid)\n",
    "\n",
    "print(roc_auc_score(target_valid, probabilities_one_valid))\n",
    "\n",
    "plt.figure()\n",
    "\n",
    "plt.plot(fpr, tpr)\n",
    "\n",
    "plt.plot([0, 1], [0, 1], linestyle='--')\n",
    "\n",
    "plt.xlim([0.0, 1.0])\n",
    "plt.ylim([0.0, 1.0])\n",
    "plt.xlabel('False Positive Rate')\n",
    "plt.ylabel('True Positive Rate')\n",
    "plt.title('ROC-кривая')\n",
    "plt.show() "
   ]
  },
  {
   "cell_type": "code",
   "execution_count": 47,
   "metadata": {},
   "outputs": [
    {
     "name": "stdout",
     "output_type": "stream",
     "text": [
      "0.874159195435486\n"
     ]
    },
    {
     "data": {
      "image/png": "[encoded data removed]",
      "text/plain": [
       "<Figure size 432x288 with 1 Axes>"
      ]
     },
     "metadata": {
      "needs_background": "light"
     },
     "output_type": "display_data"
    }
   ],
   "source": [
    "probabilities_valid_rf = model_rf.predict_proba(X_valid)\n",
    "probabilities_one_valid = probabilities_valid_rf[:, 1]\n",
    "\n",
    "fpr, tpr, thresholds = roc_curve(target_valid, probabilities_one_valid)\n",
    "\n",
    "print(roc_auc_score(target_valid, probabilities_one_valid))\n",
    "\n",
    "\n",
    "plt.figure()\n",
    "\n",
    "plt.plot(fpr, tpr)\n",
    "\n",
    "plt.plot([0, 1], [0, 1], linestyle='--')\n",
    "\n",
    "plt.xlim([0.0, 1.0])\n",
    "plt.ylim([0.0, 1.0])\n",
    "plt.xlabel('False Positive Rate')\n",
    "plt.ylabel('True Positive Rate')\n",
    "plt.title('ROC-кривая')\n",
    "plt.show() "
   ]
  },
  {
   "cell_type": "markdown",
   "metadata": {},
   "source": [
    "**Вывод:** Ожидаемо площадь больше(между случайной моделью и кривой) и соответственно метрика выше у *случайного леса*."
   ]
  },
  {
   "cell_type": "markdown",
   "metadata": {},
   "source": [
    "**Вывод:** Лучшей моделью оказался *случайный лес*,после взвешивания классов с гиперпараметрами Depth: 9 и числом деревьев: 15, метрика F1 = 0.64."
   ]
  },
  {
   "cell_type": "markdown",
   "metadata": {},
   "source": [
    "## Тестирование модели"
   ]
  },
  {
   "cell_type": "markdown",
   "metadata": {},
   "source": [
    "Проведем тестирование лучшей модели *случайный лес* (такая модель показала лучшую метрику)."
   ]
  },
  {
   "cell_type": "code",
   "execution_count": 48,
   "metadata": {},
   "outputs": [],
   "source": [
    "features_train_valid = pd.concat([features_train] + [features_valid])\n",
    "target_train_valid = pd.concat([target_train] + [target_valid]) "
   ]
  },
  {
   "cell_type": "markdown",
   "metadata": {},
   "source": [
    "Обьеденил *обучающую* и *валидационную* выборку для улучшения качества обучения и увеличил выборку."
   ]
  },
  {
   "cell_type": "code",
   "execution_count": 49,
   "metadata": {},
   "outputs": [
    {
     "data": {
      "text/plain": [
       "['geography', 'gender']"
      ]
     },
     "execution_count": 49,
     "metadata": {},
     "output_type": "execute_result"
    }
   ],
   "source": [
    "ohe_features = features_train_valid.select_dtypes(include='object').columns.to_list()\n",
    "ohe_features"
   ]
  },
  {
   "cell_type": "code",
   "execution_count": null,
   "metadata": {},
   "outputs": [],
   "source": [
    "X_train_valid = features_train_valid.copy()\n",
    "X_test = features_test.copy()"
   ]
  },
  {
   "cell_type": "code",
   "execution_count": null,
   "metadata": {},
   "outputs": [],
   "source": [
    "encoder_ohe = OneHotEncoder(drop='first', handle_unknown='ignore', sparse=False)\n",
    "\n",
    "encoder_ohe.fit(X_train_valid[ohe_features])\n",
    "\n",
    "X_train_valid[\n",
    "    encoder_ohe.get_feature_names_out()\n",
    "] = encoder_ohe.transform(X_train_valid[ohe_features])\n",
    "\n",
    "X_train_valid = X_train_valid.drop(ohe_features, axis=1)"
   ]
  },
  {
   "cell_type": "code",
   "execution_count": null,
   "metadata": {},
   "outputs": [],
   "source": [
    "num_features = features_train_valid.select_dtypes(exclude='object').columns.to_list()\n",
    "\n",
    "scaler = StandardScaler()\n",
    "X_train_valid[num_features] = scaler.fit_transform(X_train_valid[num_features])\n",
    "\n",
    "X_train_valid.head()"
   ]
  },
  {
   "cell_type": "code",
   "execution_count": null,
   "metadata": {},
   "outputs": [],
   "source": [
    "X_test[\n",
    "    encoder_ohe.get_feature_names_out()\n",
    "] = encoder_ohe.transform(X_test[ohe_features])\n",
    "\n",
    "X_test = X_test.drop(ohe_features, axis=1)\n",
    "\n",
    "X_test[num_features] = scaler.transform(\n",
    "    X_test[num_features]\n",
    ")\n",
    "\n",
    "X_test.head()"
   ]
  },
  {
   "cell_type": "markdown",
   "metadata": {},
   "source": [
    "Энкодером, который обучен на объедененой выборке, кодируем тестовую и масштабируем."
   ]
  },
  {
   "cell_type": "code",
   "execution_count": null,
   "metadata": {},
   "outputs": [],
   "source": [
    "X_train_valid.shape, X_test.shape"
   ]
  },
  {
   "cell_type": "markdown",
   "metadata": {},
   "source": [
    "Получилось одинаковое количество признаков."
   ]
  },
  {
   "cell_type": "code",
   "execution_count": null,
   "metadata": {},
   "outputs": [],
   "source": [
    "(X_train_valid.columns != X_test.columns).sum()"
   ]
  },
  {
   "cell_type": "code",
   "execution_count": null,
   "metadata": {},
   "outputs": [],
   "source": [
    "model_final_rf = RandomForestClassifier(random_state=12345, n_estimators=15, max_depth=9, class_weight = 'balanced')\n",
    "model_final_rf.fit(X_train_valid, target_train_valid)\n",
    "predictions_test_rf = model_final_rf.predict(X_test)\n",
    "print(\"F1:\", f1_score(target_test, predictions_test_rf))\n",
    "print('Accuracy:' ,accuracy_score(target_test, predictions_test_rf))\n",
    "print('AUC-ROC:', roc_auc_score(target_test, model_final_rf.predict_proba(X_test)[:,1]))\n"
   ]
  },
  {
   "cell_type": "markdown",
   "metadata": {},
   "source": [
    "**Вывод:** После проверки модели на *тестовой* выборке,метрика F1 = 0.5939, что соответствует минимальному порогу задания в 0.59, AUC-ROC = 0.83"
   ]
  },
  {
   "cell_type": "markdown",
   "metadata": {},
   "source": [
    "## Вывод"
   ]
  },
  {
   "cell_type": "markdown",
   "metadata": {},
   "source": [
    "- Предоставленные данные изучены, DataFrame имеет 14 столбцов и 10000 строк,строки с пропусками в столбце \"Tenure\" удалил и поменял на целочисленное,остальные столбцы имеют нужный формат,дубликатов в файле нет.Сильной корреляции между признаками не обнаружено. Так же замечен разный масштаб у признаков.  Привел название столбцов к единому стилю и посмотрел на долю положительных и отрицательных значений в целевом принзнаке.\n",
    "- Привел признаки в столбцах 'credit_score', 'balance', 'num_of_products', 'age', 'tenure', 'has_cr_card', 'is_active_member', 'estimated_salary' к одному масштабу.\n",
    "- Преобразовал категориальные признаки в столбцах 'gender', 'geography' в численные,техникой прямого кодирования.\n",
    "- Данные были разбиты на *признаки* и *целевые признаки*,далее с соотношением 3:1:1 разбили на *тренировочную*,*тестовую* и *валидационную* соответственно.\n",
    "- Были исследованы алгоритмы Decision Tree Classifier,Logistic Regression и RandomForestClassifier, наилучший показатель F1 у RandomForestClassifier с гиперпараметрами *n_estimators* равным - 15 и *max_depth* равным 9 и *F1* равен значению 0.64.\n",
    "- Провел взвешивание классов,а так же увеличил и уменьшил выборку и выбрал наилучшую модель для проверки на тестовой выборке.\n",
    "- После проверки модели на тестовой выборке,метрика F1 = 0.594, что соответствует минимальному порогу задания в 0.59, AUC-ROC = 0.83.Вероятность ухода клиента из банка,меньше чем вероятность того что останется."
   ]
  },
  {
   "cell_type": "markdown",
   "metadata": {},
   "source": [
    "## Чек-лист готовности проекта"
   ]
  },
  {
   "cell_type": "markdown",
   "metadata": {},
   "source": [
    "Поставьте 'x' в выполненных пунктах. Далее нажмите Shift+Enter."
   ]
  },
  {
   "cell_type": "markdown",
   "metadata": {},
   "source": [
    "- [x]  Jupyter Notebook открыт\n",
    "- [x]  Весь код выполняется без ошибок\n",
    "- [x]  Ячейки с кодом расположены в порядке исполнения\n",
    "- [x]  Выполнен шаг 1: данные подготовлены\n",
    "- [x]  Выполнен шаг 2: задача исследована\n",
    "    - [x]  Исследован баланс классов\n",
    "    - [x]  Изучены модели без учёта дисбаланса\n",
    "    - [x]  Написаны выводы по результатам исследования\n",
    "- [x]  Выполнен шаг 3: учтён дисбаланс\n",
    "    - [x]  Применено несколько способов борьбы с дисбалансом\n",
    "    - [x]  Написаны выводы по результатам исследования\n",
    "- [x]  Выполнен шаг 4: проведено тестирование\n",
    "- [x]  Удалось достичь *F1*-меры не менее 0.59\n",
    "- [x]  Исследована метрика *AUC-ROC*"
   ]
  }
 ],
 "metadata": {
  "ExecuteTimeLog": [
   {
    "duration": 1734,
    "start_time": "2023-06-26T15:35:14.627Z"
   },
   {
    "duration": 356,
    "start_time": "2023-06-26T15:35:16.364Z"
   },
   {
    "duration": 21,
    "start_time": "2023-06-26T15:35:31.843Z"
   },
   {
    "duration": 15,
    "start_time": "2023-06-26T15:35:40.091Z"
   },
   {
    "duration": 13,
    "start_time": "2023-06-26T15:37:50.476Z"
   },
   {
    "duration": 46,
    "start_time": "2023-06-26T15:37:55.555Z"
   },
   {
    "duration": 11,
    "start_time": "2023-06-26T15:42:35.100Z"
   },
   {
    "duration": 32,
    "start_time": "2023-06-26T15:44:03.356Z"
   },
   {
    "duration": 888,
    "start_time": "2023-06-26T15:45:04.901Z"
   },
   {
    "duration": 115,
    "start_time": "2023-06-26T15:47:43.501Z"
   },
   {
    "duration": 147,
    "start_time": "2023-06-26T15:48:00.313Z"
   },
   {
    "duration": 135,
    "start_time": "2023-06-26T15:48:16.656Z"
   },
   {
    "duration": 119,
    "start_time": "2023-06-26T15:48:54.166Z"
   },
   {
    "duration": 4,
    "start_time": "2023-06-26T15:49:27.555Z"
   },
   {
    "duration": 6,
    "start_time": "2023-06-26T15:50:20.650Z"
   },
   {
    "duration": 5,
    "start_time": "2023-06-26T15:51:16.243Z"
   },
   {
    "duration": 12,
    "start_time": "2023-06-26T15:53:38.844Z"
   },
   {
    "duration": 34,
    "start_time": "2023-06-26T16:19:07.216Z"
   },
   {
    "duration": 131,
    "start_time": "2023-06-26T16:57:17.329Z"
   },
   {
    "duration": 4,
    "start_time": "2023-06-26T16:58:16.374Z"
   },
   {
    "duration": 4,
    "start_time": "2023-06-26T16:58:20.972Z"
   },
   {
    "duration": 21,
    "start_time": "2023-06-26T16:58:33.112Z"
   },
   {
    "duration": 1621,
    "start_time": "2023-07-01T08:13:44.647Z"
   },
   {
    "duration": 154,
    "start_time": "2023-07-01T08:13:46.270Z"
   },
   {
    "duration": 18,
    "start_time": "2023-07-01T08:13:46.426Z"
   },
   {
    "duration": 14,
    "start_time": "2023-07-01T08:13:46.446Z"
   },
   {
    "duration": 40,
    "start_time": "2023-07-01T08:13:46.463Z"
   },
   {
    "duration": 11,
    "start_time": "2023-07-01T08:13:46.504Z"
   },
   {
    "duration": 25,
    "start_time": "2023-07-01T08:13:46.517Z"
   },
   {
    "duration": 3,
    "start_time": "2023-07-01T08:13:46.543Z"
   },
   {
    "duration": 25,
    "start_time": "2023-07-01T08:13:46.567Z"
   },
   {
    "duration": 1843,
    "start_time": "2023-07-01T08:13:46.594Z"
   },
   {
    "duration": 0,
    "start_time": "2023-07-01T08:13:48.439Z"
   },
   {
    "duration": 7,
    "start_time": "2023-07-01T08:14:20.502Z"
   },
   {
    "duration": 7,
    "start_time": "2023-07-01T08:14:23.718Z"
   },
   {
    "duration": 4,
    "start_time": "2023-07-01T08:14:46.363Z"
   },
   {
    "duration": 12,
    "start_time": "2023-07-01T08:14:54.222Z"
   },
   {
    "duration": 182,
    "start_time": "2023-07-01T08:23:24.882Z"
   },
   {
    "duration": 5,
    "start_time": "2023-07-01T08:23:49.735Z"
   },
   {
    "duration": 87,
    "start_time": "2023-07-01T08:24:09.084Z"
   },
   {
    "duration": 10,
    "start_time": "2023-07-01T08:24:27.008Z"
   },
   {
    "duration": 19,
    "start_time": "2023-07-01T08:24:50.338Z"
   },
   {
    "duration": 188,
    "start_time": "2023-07-01T08:27:00.639Z"
   },
   {
    "duration": 26,
    "start_time": "2023-07-01T08:27:01.252Z"
   },
   {
    "duration": 24,
    "start_time": "2023-07-01T08:27:11.420Z"
   },
   {
    "duration": 21,
    "start_time": "2023-07-01T08:27:33.493Z"
   },
   {
    "duration": 24,
    "start_time": "2023-07-01T08:27:46.897Z"
   },
   {
    "duration": 51,
    "start_time": "2023-07-02T10:57:08.010Z"
   },
   {
    "duration": 1597,
    "start_time": "2023-07-02T10:57:14.280Z"
   },
   {
    "duration": 88,
    "start_time": "2023-07-02T10:57:15.879Z"
   },
   {
    "duration": 19,
    "start_time": "2023-07-02T10:57:15.969Z"
   },
   {
    "duration": 12,
    "start_time": "2023-07-02T10:57:15.990Z"
   },
   {
    "duration": 46,
    "start_time": "2023-07-02T10:57:16.004Z"
   },
   {
    "duration": 14,
    "start_time": "2023-07-02T10:57:16.054Z"
   },
   {
    "duration": 43,
    "start_time": "2023-07-02T10:57:16.070Z"
   },
   {
    "duration": 4,
    "start_time": "2023-07-02T10:57:16.114Z"
   },
   {
    "duration": 23,
    "start_time": "2023-07-02T10:57:16.119Z"
   },
   {
    "duration": 8,
    "start_time": "2023-07-02T10:57:16.144Z"
   },
   {
    "duration": 5,
    "start_time": "2023-07-02T10:57:16.154Z"
   },
   {
    "duration": 15,
    "start_time": "2023-07-02T10:57:16.161Z"
   },
   {
    "duration": 209,
    "start_time": "2023-07-02T10:57:16.202Z"
   },
   {
    "duration": 26,
    "start_time": "2023-07-02T10:57:16.413Z"
   },
   {
    "duration": 86,
    "start_time": "2023-07-02T10:57:16.441Z"
   },
   {
    "duration": 102,
    "start_time": "2023-07-02T10:58:21.291Z"
   },
   {
    "duration": 6,
    "start_time": "2023-07-02T10:58:22.057Z"
   },
   {
    "duration": 6,
    "start_time": "2023-07-02T11:09:29.506Z"
   },
   {
    "duration": 109,
    "start_time": "2023-07-02T13:23:50.908Z"
   },
   {
    "duration": 23,
    "start_time": "2023-07-02T13:24:03.105Z"
   },
   {
    "duration": 21,
    "start_time": "2023-07-02T13:26:49.442Z"
   },
   {
    "duration": 24,
    "start_time": "2023-07-02T13:32:31.317Z"
   },
   {
    "duration": 18,
    "start_time": "2023-07-02T13:33:14.563Z"
   },
   {
    "duration": 1417,
    "start_time": "2023-07-02T13:33:24.928Z"
   },
   {
    "duration": 42,
    "start_time": "2023-07-02T13:33:26.347Z"
   },
   {
    "duration": 21,
    "start_time": "2023-07-02T13:33:26.390Z"
   },
   {
    "duration": 12,
    "start_time": "2023-07-02T13:33:26.412Z"
   },
   {
    "duration": 51,
    "start_time": "2023-07-02T13:33:26.426Z"
   },
   {
    "duration": 30,
    "start_time": "2023-07-02T13:33:26.479Z"
   },
   {
    "duration": 71,
    "start_time": "2023-07-02T13:33:26.511Z"
   },
   {
    "duration": 5,
    "start_time": "2023-07-02T13:33:26.584Z"
   },
   {
    "duration": 6,
    "start_time": "2023-07-02T13:33:26.590Z"
   },
   {
    "duration": 21,
    "start_time": "2023-07-02T13:33:26.598Z"
   },
   {
    "duration": 8,
    "start_time": "2023-07-02T13:33:26.621Z"
   },
   {
    "duration": 15,
    "start_time": "2023-07-02T13:33:26.631Z"
   },
   {
    "duration": 25,
    "start_time": "2023-07-02T13:33:26.647Z"
   },
   {
    "duration": 14,
    "start_time": "2023-07-02T13:33:26.674Z"
   },
   {
    "duration": 24,
    "start_time": "2023-07-02T13:33:26.690Z"
   },
   {
    "duration": 5,
    "start_time": "2023-07-02T13:33:26.716Z"
   },
   {
    "duration": 13,
    "start_time": "2023-07-02T13:33:26.723Z"
   },
   {
    "duration": 5,
    "start_time": "2023-07-02T13:33:26.738Z"
   },
   {
    "duration": 29,
    "start_time": "2023-07-02T13:33:26.745Z"
   },
   {
    "duration": 6659,
    "start_time": "2023-07-02T13:33:26.776Z"
   },
   {
    "duration": 78,
    "start_time": "2023-07-02T13:33:33.437Z"
   },
   {
    "duration": 239,
    "start_time": "2023-07-02T13:33:33.605Z"
   },
   {
    "duration": 327953,
    "start_time": "2023-07-02T13:38:56.441Z"
   },
   {
    "duration": 122,
    "start_time": "2023-07-02T13:47:44.766Z"
   },
   {
    "duration": 26,
    "start_time": "2023-07-02T13:47:57.615Z"
   },
   {
    "duration": 22,
    "start_time": "2023-07-02T13:48:38.705Z"
   },
   {
    "duration": 30,
    "start_time": "2023-07-02T13:48:40.359Z"
   },
   {
    "duration": 23,
    "start_time": "2023-07-02T13:48:43.217Z"
   },
   {
    "duration": 25,
    "start_time": "2023-07-02T13:49:22.817Z"
   },
   {
    "duration": 22,
    "start_time": "2023-07-02T13:52:27.932Z"
   },
   {
    "duration": 33,
    "start_time": "2023-07-02T13:53:45.397Z"
   },
   {
    "duration": 1450,
    "start_time": "2023-07-02T13:55:20.211Z"
   },
   {
    "duration": 50,
    "start_time": "2023-07-02T13:55:21.664Z"
   },
   {
    "duration": 19,
    "start_time": "2023-07-02T13:55:21.716Z"
   },
   {
    "duration": 13,
    "start_time": "2023-07-02T13:55:21.738Z"
   },
   {
    "duration": 56,
    "start_time": "2023-07-02T13:55:21.753Z"
   },
   {
    "duration": 15,
    "start_time": "2023-07-02T13:55:21.811Z"
   },
   {
    "duration": 19,
    "start_time": "2023-07-02T13:55:21.828Z"
   },
   {
    "duration": 3,
    "start_time": "2023-07-02T13:55:21.850Z"
   },
   {
    "duration": 5,
    "start_time": "2023-07-02T13:55:21.855Z"
   },
   {
    "duration": 50,
    "start_time": "2023-07-02T13:55:21.863Z"
   },
   {
    "duration": 9,
    "start_time": "2023-07-02T13:55:21.915Z"
   },
   {
    "duration": 4,
    "start_time": "2023-07-02T13:55:21.926Z"
   },
   {
    "duration": 13,
    "start_time": "2023-07-02T13:55:21.932Z"
   },
   {
    "duration": 10,
    "start_time": "2023-07-02T13:55:21.946Z"
   },
   {
    "duration": 17,
    "start_time": "2023-07-02T13:55:21.958Z"
   },
   {
    "duration": 38,
    "start_time": "2023-07-02T13:55:21.977Z"
   },
   {
    "duration": 12,
    "start_time": "2023-07-02T13:55:22.017Z"
   },
   {
    "duration": 4,
    "start_time": "2023-07-02T13:55:22.031Z"
   },
   {
    "duration": 27,
    "start_time": "2023-07-02T13:55:22.036Z"
   },
   {
    "duration": 151,
    "start_time": "2023-07-02T13:55:22.065Z"
   },
   {
    "duration": 0,
    "start_time": "2023-07-02T13:55:22.218Z"
   },
   {
    "duration": 0,
    "start_time": "2023-07-02T13:55:22.219Z"
   },
   {
    "duration": 23,
    "start_time": "2023-07-02T13:58:14.329Z"
   },
   {
    "duration": 30,
    "start_time": "2023-07-02T13:58:19.102Z"
   },
   {
    "duration": 1565,
    "start_time": "2023-07-02T14:01:22.648Z"
   },
   {
    "duration": 42,
    "start_time": "2023-07-02T14:01:24.215Z"
   },
   {
    "duration": 19,
    "start_time": "2023-07-02T14:01:24.259Z"
   },
   {
    "duration": 12,
    "start_time": "2023-07-02T14:01:24.279Z"
   },
   {
    "duration": 44,
    "start_time": "2023-07-02T14:01:24.293Z"
   },
   {
    "duration": 11,
    "start_time": "2023-07-02T14:01:24.338Z"
   },
   {
    "duration": 20,
    "start_time": "2023-07-02T14:01:24.350Z"
   },
   {
    "duration": 4,
    "start_time": "2023-07-02T14:01:24.372Z"
   },
   {
    "duration": 36,
    "start_time": "2023-07-02T14:01:24.377Z"
   },
   {
    "duration": 24,
    "start_time": "2023-07-02T14:01:24.415Z"
   },
   {
    "duration": 7,
    "start_time": "2023-07-02T14:01:24.440Z"
   },
   {
    "duration": 12,
    "start_time": "2023-07-02T14:01:24.449Z"
   },
   {
    "duration": 11,
    "start_time": "2023-07-02T14:01:24.463Z"
   },
   {
    "duration": 9,
    "start_time": "2023-07-02T14:01:24.477Z"
   },
   {
    "duration": 34,
    "start_time": "2023-07-02T14:01:24.488Z"
   },
   {
    "duration": 5,
    "start_time": "2023-07-02T14:01:24.524Z"
   },
   {
    "duration": 35,
    "start_time": "2023-07-02T14:01:24.530Z"
   },
   {
    "duration": 6,
    "start_time": "2023-07-02T14:01:24.567Z"
   },
   {
    "duration": 39,
    "start_time": "2023-07-02T14:01:24.574Z"
   },
   {
    "duration": 141,
    "start_time": "2023-07-02T14:01:24.614Z"
   },
   {
    "duration": 0,
    "start_time": "2023-07-02T14:01:24.757Z"
   },
   {
    "duration": 0,
    "start_time": "2023-07-02T14:01:24.758Z"
   },
   {
    "duration": 374153,
    "start_time": "2023-07-02T14:01:39.739Z"
   },
   {
    "duration": 23812,
    "start_time": "2023-07-02T14:14:16.147Z"
   },
   {
    "duration": 23696,
    "start_time": "2023-07-02T14:14:49.058Z"
   },
   {
    "duration": 8693,
    "start_time": "2023-07-02T14:16:51.006Z"
   },
   {
    "duration": 15790,
    "start_time": "2023-07-02T14:17:19.761Z"
   },
   {
    "duration": 187416,
    "start_time": "2023-07-02T14:17:51.898Z"
   },
   {
    "duration": 93,
    "start_time": "2023-07-02T14:20:59.317Z"
   },
   {
    "duration": 15747,
    "start_time": "2023-07-02T14:21:09.447Z"
   },
   {
    "duration": 21,
    "start_time": "2023-07-02T14:21:39.299Z"
   },
   {
    "duration": 115,
    "start_time": "2023-07-02T14:26:16.570Z"
   },
   {
    "duration": 192,
    "start_time": "2023-07-02T14:26:32.242Z"
   },
   {
    "duration": 168,
    "start_time": "2023-07-02T14:26:47.563Z"
   },
   {
    "duration": 332,
    "start_time": "2023-07-02T14:28:33.829Z"
   },
   {
    "duration": 373,
    "start_time": "2023-07-02T14:31:58.930Z"
   },
   {
    "duration": 345,
    "start_time": "2023-07-02T14:33:04.266Z"
   },
   {
    "duration": 372,
    "start_time": "2023-07-02T14:34:24.586Z"
   },
   {
    "duration": 43,
    "start_time": "2023-07-02T14:35:42.860Z"
   },
   {
    "duration": 331,
    "start_time": "2023-07-02T14:35:58.335Z"
   },
   {
    "duration": 19,
    "start_time": "2023-07-02T14:47:11.139Z"
   },
   {
    "duration": 19,
    "start_time": "2023-07-02T14:47:42.903Z"
   },
   {
    "duration": 1608,
    "start_time": "2023-07-02T14:48:29.906Z"
   },
   {
    "duration": 45,
    "start_time": "2023-07-02T14:48:31.516Z"
   },
   {
    "duration": 23,
    "start_time": "2023-07-02T14:48:31.562Z"
   },
   {
    "duration": 28,
    "start_time": "2023-07-02T14:48:31.586Z"
   },
   {
    "duration": 53,
    "start_time": "2023-07-02T14:48:31.616Z"
   },
   {
    "duration": 12,
    "start_time": "2023-07-02T14:48:31.671Z"
   },
   {
    "duration": 47,
    "start_time": "2023-07-02T14:48:31.685Z"
   },
   {
    "duration": 9,
    "start_time": "2023-07-02T14:48:31.734Z"
   },
   {
    "duration": 21,
    "start_time": "2023-07-02T14:48:31.745Z"
   },
   {
    "duration": 44,
    "start_time": "2023-07-02T14:48:31.768Z"
   },
   {
    "duration": 27,
    "start_time": "2023-07-02T14:48:31.815Z"
   },
   {
    "duration": 12,
    "start_time": "2023-07-02T14:48:31.844Z"
   },
   {
    "duration": 35,
    "start_time": "2023-07-02T14:48:31.857Z"
   },
   {
    "duration": 14,
    "start_time": "2023-07-02T14:48:31.896Z"
   },
   {
    "duration": 26,
    "start_time": "2023-07-02T14:48:31.912Z"
   },
   {
    "duration": 6,
    "start_time": "2023-07-02T14:48:31.940Z"
   },
   {
    "duration": 18,
    "start_time": "2023-07-02T14:48:31.948Z"
   },
   {
    "duration": 29,
    "start_time": "2023-07-02T14:48:31.969Z"
   },
   {
    "duration": 41,
    "start_time": "2023-07-02T14:48:32.001Z"
   },
   {
    "duration": 16672,
    "start_time": "2023-07-02T14:48:32.045Z"
   },
   {
    "duration": 97,
    "start_time": "2023-07-02T14:48:48.718Z"
   },
   {
    "duration": 441,
    "start_time": "2023-07-02T14:48:48.902Z"
   },
   {
    "duration": 14,
    "start_time": "2023-07-02T14:48:49.345Z"
   },
   {
    "duration": 11,
    "start_time": "2023-07-02T15:17:04.480Z"
   },
   {
    "duration": 124,
    "start_time": "2023-07-02T15:19:38.601Z"
   },
   {
    "duration": 68,
    "start_time": "2023-07-02T15:20:39.560Z"
   },
   {
    "duration": 10,
    "start_time": "2023-07-02T15:20:52.036Z"
   },
   {
    "duration": 45,
    "start_time": "2023-07-02T15:20:53.250Z"
   },
   {
    "duration": 31,
    "start_time": "2023-07-02T15:20:59.731Z"
   },
   {
    "duration": 287,
    "start_time": "2023-07-02T15:21:00.229Z"
   },
   {
    "duration": 10,
    "start_time": "2023-07-02T15:21:04.551Z"
   },
   {
    "duration": 39,
    "start_time": "2023-07-02T15:21:05.133Z"
   },
   {
    "duration": 10,
    "start_time": "2023-07-02T15:21:09.649Z"
   },
   {
    "duration": 47,
    "start_time": "2023-07-02T15:21:10.167Z"
   },
   {
    "duration": 10,
    "start_time": "2023-07-02T15:21:13.989Z"
   },
   {
    "duration": 49,
    "start_time": "2023-07-02T15:21:14.443Z"
   },
   {
    "duration": 12,
    "start_time": "2023-07-02T15:21:19.519Z"
   },
   {
    "duration": 61,
    "start_time": "2023-07-02T15:21:20.000Z"
   },
   {
    "duration": 14,
    "start_time": "2023-07-02T15:21:23.404Z"
   },
   {
    "duration": 57,
    "start_time": "2023-07-02T15:21:23.828Z"
   },
   {
    "duration": 17,
    "start_time": "2023-07-02T15:21:28.593Z"
   },
   {
    "duration": 51,
    "start_time": "2023-07-02T15:21:29.042Z"
   },
   {
    "duration": 11,
    "start_time": "2023-07-02T15:21:31.633Z"
   },
   {
    "duration": 49,
    "start_time": "2023-07-02T15:21:32.141Z"
   },
   {
    "duration": 14,
    "start_time": "2023-07-02T15:21:34.394Z"
   },
   {
    "duration": 46,
    "start_time": "2023-07-02T15:21:34.840Z"
   },
   {
    "duration": 12,
    "start_time": "2023-07-02T15:21:39.632Z"
   },
   {
    "duration": 66,
    "start_time": "2023-07-02T15:21:40.031Z"
   },
   {
    "duration": 12,
    "start_time": "2023-07-02T15:21:42.866Z"
   },
   {
    "duration": 69,
    "start_time": "2023-07-02T15:21:43.254Z"
   },
   {
    "duration": 12,
    "start_time": "2023-07-02T15:21:45.167Z"
   },
   {
    "duration": 74,
    "start_time": "2023-07-02T15:21:45.492Z"
   },
   {
    "duration": 11,
    "start_time": "2023-07-02T15:21:47.739Z"
   },
   {
    "duration": 72,
    "start_time": "2023-07-02T15:21:48.112Z"
   },
   {
    "duration": 15,
    "start_time": "2023-07-02T15:21:50.593Z"
   },
   {
    "duration": 111,
    "start_time": "2023-07-02T15:21:51.084Z"
   },
   {
    "duration": 13,
    "start_time": "2023-07-02T15:21:56.338Z"
   },
   {
    "duration": 66,
    "start_time": "2023-07-02T15:21:56.754Z"
   },
   {
    "duration": 12,
    "start_time": "2023-07-02T15:22:03.453Z"
   },
   {
    "duration": 61,
    "start_time": "2023-07-02T15:22:04.636Z"
   },
   {
    "duration": 10,
    "start_time": "2023-07-02T15:22:07.090Z"
   },
   {
    "duration": 62,
    "start_time": "2023-07-02T15:22:07.606Z"
   },
   {
    "duration": 13,
    "start_time": "2023-07-02T15:22:09.544Z"
   },
   {
    "duration": 59,
    "start_time": "2023-07-02T15:22:10.965Z"
   },
   {
    "duration": 13,
    "start_time": "2023-07-02T15:22:13.932Z"
   },
   {
    "duration": 56,
    "start_time": "2023-07-02T15:22:14.302Z"
   },
   {
    "duration": 11,
    "start_time": "2023-07-02T15:22:16.732Z"
   },
   {
    "duration": 59,
    "start_time": "2023-07-02T15:22:17.141Z"
   },
   {
    "duration": 10,
    "start_time": "2023-07-02T15:22:19.250Z"
   },
   {
    "duration": 46,
    "start_time": "2023-07-02T15:22:19.644Z"
   },
   {
    "duration": 19,
    "start_time": "2023-07-02T15:22:22.292Z"
   },
   {
    "duration": 51,
    "start_time": "2023-07-02T15:22:22.701Z"
   },
   {
    "duration": 10,
    "start_time": "2023-07-02T15:22:25.247Z"
   },
   {
    "duration": 46,
    "start_time": "2023-07-02T15:22:25.733Z"
   },
   {
    "duration": 11,
    "start_time": "2023-07-02T15:22:31.640Z"
   },
   {
    "duration": 48,
    "start_time": "2023-07-02T15:22:32.529Z"
   },
   {
    "duration": 10,
    "start_time": "2023-07-02T15:22:37.129Z"
   },
   {
    "duration": 47,
    "start_time": "2023-07-02T15:22:37.646Z"
   },
   {
    "duration": 57,
    "start_time": "2023-07-02T15:23:01.677Z"
   },
   {
    "duration": 41,
    "start_time": "2023-07-02T15:24:35.364Z"
   },
   {
    "duration": 14,
    "start_time": "2023-07-02T15:24:45.503Z"
   },
   {
    "duration": 932,
    "start_time": "2023-07-02T15:26:49.100Z"
   },
   {
    "duration": 1035,
    "start_time": "2023-07-02T15:26:59.844Z"
   },
   {
    "duration": 995,
    "start_time": "2023-07-02T15:31:41.348Z"
   },
   {
    "duration": 82,
    "start_time": "2023-07-02T15:31:43.236Z"
   },
   {
    "duration": 47,
    "start_time": "2023-07-02T15:31:44.417Z"
   },
   {
    "duration": 16,
    "start_time": "2023-07-02T15:31:52.513Z"
   },
   {
    "duration": 406,
    "start_time": "2023-07-02T15:31:53.865Z"
   },
   {
    "duration": 21,
    "start_time": "2023-07-02T15:31:55.353Z"
   },
   {
    "duration": 25,
    "start_time": "2023-07-02T15:31:56.295Z"
   },
   {
    "duration": 14,
    "start_time": "2023-07-02T15:33:17.237Z"
   },
   {
    "duration": 511,
    "start_time": "2023-07-02T15:33:22.480Z"
   },
   {
    "duration": 93,
    "start_time": "2023-07-02T15:33:28.011Z"
   },
   {
    "duration": 30,
    "start_time": "2023-07-02T15:33:31.296Z"
   },
   {
    "duration": 18,
    "start_time": "2023-07-02T15:33:38.999Z"
   },
   {
    "duration": 779,
    "start_time": "2023-07-02T15:33:40.143Z"
   },
   {
    "duration": 100,
    "start_time": "2023-07-02T15:33:42.108Z"
   },
   {
    "duration": 41,
    "start_time": "2023-07-02T15:33:44.991Z"
   },
   {
    "duration": 11,
    "start_time": "2023-07-02T15:33:49.853Z"
   },
   {
    "duration": 431,
    "start_time": "2023-07-02T15:33:50.940Z"
   },
   {
    "duration": 34,
    "start_time": "2023-07-02T15:33:52.696Z"
   },
   {
    "duration": 24,
    "start_time": "2023-07-02T15:33:54.242Z"
   },
   {
    "duration": 11,
    "start_time": "2023-07-02T15:33:58.574Z"
   },
   {
    "duration": 502,
    "start_time": "2023-07-02T15:33:59.195Z"
   },
   {
    "duration": 16,
    "start_time": "2023-07-02T15:34:00.332Z"
   },
   {
    "duration": 28,
    "start_time": "2023-07-02T15:34:01.959Z"
   },
   {
    "duration": 12,
    "start_time": "2023-07-02T15:34:07.638Z"
   },
   {
    "duration": 548,
    "start_time": "2023-07-02T15:34:08.148Z"
   },
   {
    "duration": 22,
    "start_time": "2023-07-02T15:34:10.343Z"
   },
   {
    "duration": 30,
    "start_time": "2023-07-02T15:34:11.446Z"
   },
   {
    "duration": 10,
    "start_time": "2023-07-02T15:34:21.241Z"
   },
   {
    "duration": 545,
    "start_time": "2023-07-02T15:34:23.799Z"
   },
   {
    "duration": 19,
    "start_time": "2023-07-02T15:34:26.553Z"
   },
   {
    "duration": 29,
    "start_time": "2023-07-02T15:34:31.447Z"
   },
   {
    "duration": 15,
    "start_time": "2023-07-02T15:34:37.300Z"
   },
   {
    "duration": 513,
    "start_time": "2023-07-02T15:34:39.038Z"
   },
   {
    "duration": 23,
    "start_time": "2023-07-02T15:34:41.096Z"
   },
   {
    "duration": 28,
    "start_time": "2023-07-02T15:34:42.636Z"
   },
   {
    "duration": 1747,
    "start_time": "2023-07-08T09:38:49.715Z"
   },
   {
    "duration": 160,
    "start_time": "2023-07-08T09:38:51.465Z"
   },
   {
    "duration": 30,
    "start_time": "2023-07-08T09:38:51.627Z"
   },
   {
    "duration": 18,
    "start_time": "2023-07-08T09:38:51.662Z"
   },
   {
    "duration": 87,
    "start_time": "2023-07-08T09:38:51.684Z"
   },
   {
    "duration": 13,
    "start_time": "2023-07-08T09:38:51.773Z"
   },
   {
    "duration": 40,
    "start_time": "2023-07-08T09:38:51.788Z"
   },
   {
    "duration": 5,
    "start_time": "2023-07-08T09:38:51.829Z"
   },
   {
    "duration": 5,
    "start_time": "2023-07-08T09:38:51.836Z"
   },
   {
    "duration": 62,
    "start_time": "2023-07-08T09:38:51.843Z"
   },
   {
    "duration": 9,
    "start_time": "2023-07-08T09:38:51.907Z"
   },
   {
    "duration": 5,
    "start_time": "2023-07-08T09:38:51.918Z"
   },
   {
    "duration": 21,
    "start_time": "2023-07-08T09:38:51.925Z"
   },
   {
    "duration": 14,
    "start_time": "2023-07-08T09:38:51.950Z"
   },
   {
    "duration": 49,
    "start_time": "2023-07-08T09:38:51.966Z"
   },
   {
    "duration": 6,
    "start_time": "2023-07-08T09:38:52.017Z"
   },
   {
    "duration": 26,
    "start_time": "2023-07-08T09:38:52.025Z"
   },
   {
    "duration": 5,
    "start_time": "2023-07-08T09:38:52.053Z"
   },
   {
    "duration": 45,
    "start_time": "2023-07-08T09:38:52.060Z"
   },
   {
    "duration": 17052,
    "start_time": "2023-07-08T09:38:52.113Z"
   },
   {
    "duration": 53,
    "start_time": "2023-07-08T09:39:09.167Z"
   },
   {
    "duration": 553,
    "start_time": "2023-07-08T09:39:09.223Z"
   },
   {
    "duration": 12,
    "start_time": "2023-07-08T09:39:09.778Z"
   },
   {
    "duration": 1097,
    "start_time": "2023-07-08T09:39:09.793Z"
   },
   {
    "duration": 124,
    "start_time": "2023-07-08T09:39:10.892Z"
   },
   {
    "duration": 131,
    "start_time": "2023-07-08T09:39:11.023Z"
   },
   {
    "duration": 13,
    "start_time": "2023-07-08T09:39:11.156Z"
   },
   {
    "duration": 549,
    "start_time": "2023-07-08T09:39:11.171Z"
   },
   {
    "duration": 16,
    "start_time": "2023-07-08T09:39:11.722Z"
   },
   {
    "duration": 197,
    "start_time": "2023-07-08T09:39:11.740Z"
   },
   {
    "duration": 1405,
    "start_time": "2023-07-08T09:39:11.938Z"
   },
   {
    "duration": 0,
    "start_time": "2023-07-08T09:39:13.344Z"
   },
   {
    "duration": 1397,
    "start_time": "2023-07-08T09:39:24.142Z"
   },
   {
    "duration": 130,
    "start_time": "2023-07-08T09:42:51.227Z"
   },
   {
    "duration": 227,
    "start_time": "2023-07-08T10:43:05.840Z"
   },
   {
    "duration": 120,
    "start_time": "2023-07-08T10:44:45.045Z"
   },
   {
    "duration": 1481,
    "start_time": "2023-07-08T10:44:56.521Z"
   },
   {
    "duration": 48,
    "start_time": "2023-07-08T10:44:58.004Z"
   },
   {
    "duration": 20,
    "start_time": "2023-07-08T10:44:58.055Z"
   },
   {
    "duration": 30,
    "start_time": "2023-07-08T10:44:58.077Z"
   },
   {
    "duration": 57,
    "start_time": "2023-07-08T10:44:58.109Z"
   },
   {
    "duration": 13,
    "start_time": "2023-07-08T10:44:58.168Z"
   },
   {
    "duration": 40,
    "start_time": "2023-07-08T10:44:58.183Z"
   },
   {
    "duration": 5,
    "start_time": "2023-07-08T10:44:58.225Z"
   },
   {
    "duration": 11,
    "start_time": "2023-07-08T10:44:58.233Z"
   },
   {
    "duration": 29,
    "start_time": "2023-07-08T10:44:58.247Z"
   },
   {
    "duration": 24,
    "start_time": "2023-07-08T10:44:58.278Z"
   },
   {
    "duration": 9,
    "start_time": "2023-07-08T10:44:58.304Z"
   },
   {
    "duration": 14,
    "start_time": "2023-07-08T10:44:58.316Z"
   },
   {
    "duration": 11,
    "start_time": "2023-07-08T10:44:58.333Z"
   },
   {
    "duration": 27,
    "start_time": "2023-07-08T10:44:58.345Z"
   },
   {
    "duration": 20,
    "start_time": "2023-07-08T10:44:58.374Z"
   },
   {
    "duration": 34,
    "start_time": "2023-07-08T10:44:58.396Z"
   },
   {
    "duration": 30,
    "start_time": "2023-07-08T10:44:58.432Z"
   },
   {
    "duration": 46,
    "start_time": "2023-07-08T10:44:58.464Z"
   },
   {
    "duration": 16012,
    "start_time": "2023-07-08T10:44:58.512Z"
   },
   {
    "duration": 94,
    "start_time": "2023-07-08T10:45:14.525Z"
   },
   {
    "duration": 523,
    "start_time": "2023-07-08T10:45:14.621Z"
   },
   {
    "duration": 10,
    "start_time": "2023-07-08T10:45:15.146Z"
   },
   {
    "duration": 982,
    "start_time": "2023-07-08T10:45:15.158Z"
   },
   {
    "duration": 71,
    "start_time": "2023-07-08T10:45:16.141Z"
   },
   {
    "duration": 129,
    "start_time": "2023-07-08T10:45:16.215Z"
   },
   {
    "duration": 10,
    "start_time": "2023-07-08T10:45:16.346Z"
   },
   {
    "duration": 503,
    "start_time": "2023-07-08T10:45:16.359Z"
   },
   {
    "duration": 52,
    "start_time": "2023-07-08T10:45:16.864Z"
   },
   {
    "duration": 111,
    "start_time": "2023-07-08T10:45:16.918Z"
   },
   {
    "duration": 258,
    "start_time": "2023-07-08T10:45:17.031Z"
   },
   {
    "duration": 0,
    "start_time": "2023-07-08T10:45:17.291Z"
   },
   {
    "duration": 0,
    "start_time": "2023-07-08T10:45:17.292Z"
   },
   {
    "duration": 0,
    "start_time": "2023-07-08T10:45:17.293Z"
   },
   {
    "duration": 143,
    "start_time": "2023-07-08T10:45:59.065Z"
   },
   {
    "duration": 123,
    "start_time": "2023-07-08T10:46:12.270Z"
   },
   {
    "duration": 127,
    "start_time": "2023-07-08T10:46:55.463Z"
   },
   {
    "duration": 1312,
    "start_time": "2023-07-08T10:46:56.902Z"
   },
   {
    "duration": 132,
    "start_time": "2023-07-08T10:47:02.732Z"
   },
   {
    "duration": 139,
    "start_time": "2023-07-08T10:47:25.410Z"
   },
   {
    "duration": 49,
    "start_time": "2023-07-08T10:49:28.039Z"
   },
   {
    "duration": 1521,
    "start_time": "2023-07-08T10:49:39.260Z"
   },
   {
    "duration": 39,
    "start_time": "2023-07-08T10:49:41.760Z"
   },
   {
    "duration": 29,
    "start_time": "2023-07-08T10:49:44.083Z"
   },
   {
    "duration": 19,
    "start_time": "2023-07-08T10:49:46.777Z"
   },
   {
    "duration": 58,
    "start_time": "2023-07-08T10:49:49.089Z"
   },
   {
    "duration": 12,
    "start_time": "2023-07-08T10:49:50.227Z"
   },
   {
    "duration": 20,
    "start_time": "2023-07-08T10:49:52.683Z"
   },
   {
    "duration": 4,
    "start_time": "2023-07-08T10:49:56.199Z"
   },
   {
    "duration": 5,
    "start_time": "2023-07-08T10:49:58.831Z"
   },
   {
    "duration": 29,
    "start_time": "2023-07-08T10:50:00.473Z"
   },
   {
    "duration": 11,
    "start_time": "2023-07-08T10:50:01.943Z"
   },
   {
    "duration": 8,
    "start_time": "2023-07-08T10:50:03.912Z"
   },
   {
    "duration": 21,
    "start_time": "2023-07-08T10:50:05.208Z"
   },
   {
    "duration": 16,
    "start_time": "2023-07-08T10:50:05.742Z"
   },
   {
    "duration": 33,
    "start_time": "2023-07-08T10:50:07.073Z"
   },
   {
    "duration": 8,
    "start_time": "2023-07-08T10:50:07.895Z"
   },
   {
    "duration": 17,
    "start_time": "2023-07-08T10:50:21.952Z"
   },
   {
    "duration": 4,
    "start_time": "2023-07-08T10:50:24.253Z"
   },
   {
    "duration": 5,
    "start_time": "2023-07-08T10:50:29.411Z"
   },
   {
    "duration": 29,
    "start_time": "2023-07-08T10:50:29.920Z"
   },
   {
    "duration": 17951,
    "start_time": "2023-07-08T10:50:31.679Z"
   },
   {
    "duration": 147,
    "start_time": "2023-07-08T10:50:51.639Z"
   },
   {
    "duration": 23,
    "start_time": "2023-07-08T10:50:54.358Z"
   },
   {
    "duration": 693,
    "start_time": "2023-07-08T10:52:27.123Z"
   },
   {
    "duration": 1569,
    "start_time": "2023-07-08T10:54:49.002Z"
   },
   {
    "duration": 41,
    "start_time": "2023-07-08T10:54:50.573Z"
   },
   {
    "duration": 23,
    "start_time": "2023-07-08T10:54:50.628Z"
   },
   {
    "duration": 13,
    "start_time": "2023-07-08T10:54:50.653Z"
   },
   {
    "duration": 69,
    "start_time": "2023-07-08T10:54:50.670Z"
   },
   {
    "duration": 12,
    "start_time": "2023-07-08T10:54:50.740Z"
   },
   {
    "duration": 20,
    "start_time": "2023-07-08T10:54:50.754Z"
   },
   {
    "duration": 4,
    "start_time": "2023-07-08T10:54:50.776Z"
   },
   {
    "duration": 17,
    "start_time": "2023-07-08T10:54:50.781Z"
   },
   {
    "duration": 34,
    "start_time": "2023-07-08T10:54:50.800Z"
   },
   {
    "duration": 49,
    "start_time": "2023-07-08T10:54:50.835Z"
   },
   {
    "duration": 15,
    "start_time": "2023-07-08T10:54:50.886Z"
   },
   {
    "duration": 16,
    "start_time": "2023-07-08T10:54:50.903Z"
   },
   {
    "duration": 11,
    "start_time": "2023-07-08T10:54:50.922Z"
   },
   {
    "duration": 39,
    "start_time": "2023-07-08T10:54:50.934Z"
   },
   {
    "duration": 24,
    "start_time": "2023-07-08T10:54:50.975Z"
   },
   {
    "duration": 42,
    "start_time": "2023-07-08T10:54:51.001Z"
   },
   {
    "duration": 52,
    "start_time": "2023-07-08T10:54:51.045Z"
   },
   {
    "duration": 70,
    "start_time": "2023-07-08T10:54:51.099Z"
   },
   {
    "duration": 16622,
    "start_time": "2023-07-08T10:54:51.171Z"
   },
   {
    "duration": 694,
    "start_time": "2023-07-08T10:55:07.794Z"
   },
   {
    "duration": 129,
    "start_time": "2023-07-08T10:55:08.490Z"
   },
   {
    "duration": 447,
    "start_time": "2023-07-08T10:55:08.621Z"
   },
   {
    "duration": 11,
    "start_time": "2023-07-08T10:55:09.069Z"
   },
   {
    "duration": 1033,
    "start_time": "2023-07-08T10:55:09.081Z"
   },
   {
    "duration": 102,
    "start_time": "2023-07-08T10:55:10.115Z"
   },
   {
    "duration": 130,
    "start_time": "2023-07-08T10:55:10.219Z"
   },
   {
    "duration": 10,
    "start_time": "2023-07-08T10:55:10.351Z"
   },
   {
    "duration": 523,
    "start_time": "2023-07-08T10:55:10.362Z"
   },
   {
    "duration": 31,
    "start_time": "2023-07-08T10:55:10.886Z"
   },
   {
    "duration": 206,
    "start_time": "2023-07-08T10:55:10.919Z"
   },
   {
    "duration": 252,
    "start_time": "2023-07-08T10:55:11.127Z"
   },
   {
    "duration": 0,
    "start_time": "2023-07-08T10:55:11.380Z"
   },
   {
    "duration": 0,
    "start_time": "2023-07-08T10:55:11.382Z"
   },
   {
    "duration": 0,
    "start_time": "2023-07-08T10:55:11.383Z"
   },
   {
    "duration": 661,
    "start_time": "2023-07-08T10:55:28.532Z"
   },
   {
    "duration": 213,
    "start_time": "2023-07-08T10:57:38.363Z"
   },
   {
    "duration": 1813,
    "start_time": "2023-07-08T11:00:57.621Z"
   },
   {
    "duration": 48,
    "start_time": "2023-07-08T11:00:59.437Z"
   },
   {
    "duration": 34,
    "start_time": "2023-07-08T11:00:59.488Z"
   },
   {
    "duration": 14,
    "start_time": "2023-07-08T11:00:59.524Z"
   },
   {
    "duration": 51,
    "start_time": "2023-07-08T11:00:59.540Z"
   },
   {
    "duration": 18,
    "start_time": "2023-07-08T11:00:59.615Z"
   },
   {
    "duration": 30,
    "start_time": "2023-07-08T11:00:59.635Z"
   },
   {
    "duration": 46,
    "start_time": "2023-07-08T11:00:59.669Z"
   },
   {
    "duration": 5,
    "start_time": "2023-07-08T11:00:59.718Z"
   },
   {
    "duration": 33,
    "start_time": "2023-07-08T11:00:59.728Z"
   },
   {
    "duration": 20,
    "start_time": "2023-07-08T11:00:59.763Z"
   },
   {
    "duration": 7,
    "start_time": "2023-07-08T11:00:59.786Z"
   },
   {
    "duration": 23,
    "start_time": "2023-07-08T11:00:59.815Z"
   },
   {
    "duration": 16,
    "start_time": "2023-07-08T11:00:59.841Z"
   },
   {
    "duration": 47,
    "start_time": "2023-07-08T11:00:59.859Z"
   },
   {
    "duration": 9,
    "start_time": "2023-07-08T11:00:59.908Z"
   },
   {
    "duration": 14,
    "start_time": "2023-07-08T11:00:59.920Z"
   },
   {
    "duration": 126,
    "start_time": "2023-07-08T11:00:59.936Z"
   },
   {
    "duration": 80,
    "start_time": "2023-07-08T11:01:00.064Z"
   },
   {
    "duration": 16606,
    "start_time": "2023-07-08T11:01:00.146Z"
   },
   {
    "duration": 160,
    "start_time": "2023-07-08T11:01:16.753Z"
   },
   {
    "duration": 440,
    "start_time": "2023-07-08T11:01:16.916Z"
   },
   {
    "duration": 11,
    "start_time": "2023-07-08T11:01:17.358Z"
   },
   {
    "duration": 1079,
    "start_time": "2023-07-08T11:01:17.370Z"
   },
   {
    "duration": 71,
    "start_time": "2023-07-08T11:01:18.451Z"
   },
   {
    "duration": 139,
    "start_time": "2023-07-08T11:01:18.527Z"
   },
   {
    "duration": 53,
    "start_time": "2023-07-08T11:01:18.668Z"
   },
   {
    "duration": 518,
    "start_time": "2023-07-08T11:01:18.725Z"
   },
   {
    "duration": 20,
    "start_time": "2023-07-08T11:01:19.245Z"
   },
   {
    "duration": 133,
    "start_time": "2023-07-08T11:01:19.314Z"
   },
   {
    "duration": 851,
    "start_time": "2023-07-08T11:01:19.450Z"
   },
   {
    "duration": 160,
    "start_time": "2023-07-08T11:01:20.313Z"
   },
   {
    "duration": 141,
    "start_time": "2023-07-08T11:01:20.475Z"
   },
   {
    "duration": 1365,
    "start_time": "2023-07-08T11:01:20.618Z"
   },
   {
    "duration": 136,
    "start_time": "2023-07-08T11:01:21.985Z"
   },
   {
    "duration": 134,
    "start_time": "2023-07-08T11:37:59.035Z"
   },
   {
    "duration": 1418,
    "start_time": "2023-07-08T11:38:04.865Z"
   },
   {
    "duration": 56,
    "start_time": "2023-07-08T11:38:06.286Z"
   },
   {
    "duration": 25,
    "start_time": "2023-07-08T11:38:06.345Z"
   },
   {
    "duration": 26,
    "start_time": "2023-07-08T11:38:06.372Z"
   },
   {
    "duration": 59,
    "start_time": "2023-07-08T11:38:06.401Z"
   },
   {
    "duration": 16,
    "start_time": "2023-07-08T11:38:06.464Z"
   },
   {
    "duration": 38,
    "start_time": "2023-07-08T11:38:06.482Z"
   },
   {
    "duration": 7,
    "start_time": "2023-07-08T11:38:06.523Z"
   },
   {
    "duration": 10,
    "start_time": "2023-07-08T11:38:06.532Z"
   },
   {
    "duration": 36,
    "start_time": "2023-07-08T11:38:06.544Z"
   },
   {
    "duration": 11,
    "start_time": "2023-07-08T11:38:06.583Z"
   },
   {
    "duration": 20,
    "start_time": "2023-07-08T11:38:06.596Z"
   },
   {
    "duration": 33,
    "start_time": "2023-07-08T11:38:06.618Z"
   },
   {
    "duration": 127,
    "start_time": "2023-07-08T11:38:06.655Z"
   },
   {
    "duration": 0,
    "start_time": "2023-07-08T11:38:06.784Z"
   },
   {
    "duration": 0,
    "start_time": "2023-07-08T11:38:06.785Z"
   },
   {
    "duration": 0,
    "start_time": "2023-07-08T11:38:06.786Z"
   },
   {
    "duration": 0,
    "start_time": "2023-07-08T11:38:06.787Z"
   },
   {
    "duration": 0,
    "start_time": "2023-07-08T11:38:06.788Z"
   },
   {
    "duration": 0,
    "start_time": "2023-07-08T11:38:06.789Z"
   },
   {
    "duration": 0,
    "start_time": "2023-07-08T11:38:06.790Z"
   },
   {
    "duration": 0,
    "start_time": "2023-07-08T11:38:06.792Z"
   },
   {
    "duration": 0,
    "start_time": "2023-07-08T11:38:06.793Z"
   },
   {
    "duration": 0,
    "start_time": "2023-07-08T11:38:06.795Z"
   },
   {
    "duration": 0,
    "start_time": "2023-07-08T11:38:06.814Z"
   },
   {
    "duration": 0,
    "start_time": "2023-07-08T11:38:06.815Z"
   },
   {
    "duration": 0,
    "start_time": "2023-07-08T11:38:06.816Z"
   },
   {
    "duration": 0,
    "start_time": "2023-07-08T11:38:06.818Z"
   },
   {
    "duration": 0,
    "start_time": "2023-07-08T11:38:06.819Z"
   },
   {
    "duration": 0,
    "start_time": "2023-07-08T11:38:06.821Z"
   },
   {
    "duration": 0,
    "start_time": "2023-07-08T11:38:06.823Z"
   },
   {
    "duration": 0,
    "start_time": "2023-07-08T11:38:06.824Z"
   },
   {
    "duration": 0,
    "start_time": "2023-07-08T11:38:06.826Z"
   },
   {
    "duration": 0,
    "start_time": "2023-07-08T11:38:06.827Z"
   },
   {
    "duration": 0,
    "start_time": "2023-07-08T11:38:06.828Z"
   },
   {
    "duration": 0,
    "start_time": "2023-07-08T11:38:06.830Z"
   },
   {
    "duration": 1504,
    "start_time": "2023-07-08T11:46:46.210Z"
   },
   {
    "duration": 40,
    "start_time": "2023-07-08T11:46:47.716Z"
   },
   {
    "duration": 19,
    "start_time": "2023-07-08T11:46:47.758Z"
   },
   {
    "duration": 13,
    "start_time": "2023-07-08T11:46:47.780Z"
   },
   {
    "duration": 57,
    "start_time": "2023-07-08T11:46:47.795Z"
   },
   {
    "duration": 12,
    "start_time": "2023-07-08T11:46:47.853Z"
   },
   {
    "duration": 23,
    "start_time": "2023-07-08T11:46:47.867Z"
   },
   {
    "duration": 24,
    "start_time": "2023-07-08T11:46:47.892Z"
   },
   {
    "duration": 11,
    "start_time": "2023-07-08T11:46:47.918Z"
   },
   {
    "duration": 92,
    "start_time": "2023-07-08T11:46:47.934Z"
   },
   {
    "duration": 20,
    "start_time": "2023-07-08T11:46:48.028Z"
   },
   {
    "duration": 8,
    "start_time": "2023-07-08T11:46:48.050Z"
   },
   {
    "duration": 18,
    "start_time": "2023-07-08T11:46:48.060Z"
   },
   {
    "duration": 38,
    "start_time": "2023-07-08T11:46:48.082Z"
   },
   {
    "duration": 13,
    "start_time": "2023-07-08T11:46:48.123Z"
   },
   {
    "duration": 26,
    "start_time": "2023-07-08T11:46:48.139Z"
   },
   {
    "duration": 5,
    "start_time": "2023-07-08T11:46:48.168Z"
   },
   {
    "duration": 46,
    "start_time": "2023-07-08T11:46:48.175Z"
   },
   {
    "duration": 6,
    "start_time": "2023-07-08T11:46:48.224Z"
   },
   {
    "duration": 18307,
    "start_time": "2023-07-08T11:46:48.233Z"
   },
   {
    "duration": 180,
    "start_time": "2023-07-08T11:47:06.542Z"
   },
   {
    "duration": 583,
    "start_time": "2023-07-08T11:47:06.723Z"
   },
   {
    "duration": 13,
    "start_time": "2023-07-08T11:47:07.315Z"
   },
   {
    "duration": 1144,
    "start_time": "2023-07-08T11:47:07.330Z"
   },
   {
    "duration": 57,
    "start_time": "2023-07-08T11:47:08.477Z"
   },
   {
    "duration": 134,
    "start_time": "2023-07-08T11:47:08.616Z"
   },
   {
    "duration": 17,
    "start_time": "2023-07-08T11:47:08.753Z"
   },
   {
    "duration": 593,
    "start_time": "2023-07-08T11:47:08.773Z"
   },
   {
    "duration": 49,
    "start_time": "2023-07-08T11:47:09.368Z"
   },
   {
    "duration": 110,
    "start_time": "2023-07-08T11:47:09.419Z"
   },
   {
    "duration": 865,
    "start_time": "2023-07-08T11:47:09.531Z"
   },
   {
    "duration": 815,
    "start_time": "2023-07-08T11:47:10.398Z"
   },
   {
    "duration": 211,
    "start_time": "2023-07-08T11:47:11.215Z"
   },
   {
    "duration": 200,
    "start_time": "2023-07-08T11:47:11.428Z"
   },
   {
    "duration": 1453,
    "start_time": "2023-07-08T11:47:11.630Z"
   },
   {
    "duration": 146,
    "start_time": "2023-07-08T11:47:13.085Z"
   },
   {
    "duration": 1488,
    "start_time": "2023-07-08T11:52:50.225Z"
   },
   {
    "duration": 41,
    "start_time": "2023-07-08T11:52:51.715Z"
   },
   {
    "duration": 20,
    "start_time": "2023-07-08T11:52:51.758Z"
   },
   {
    "duration": 12,
    "start_time": "2023-07-08T11:52:51.780Z"
   },
   {
    "duration": 46,
    "start_time": "2023-07-08T11:52:51.793Z"
   },
   {
    "duration": 10,
    "start_time": "2023-07-08T11:52:51.841Z"
   },
   {
    "duration": 27,
    "start_time": "2023-07-08T11:52:51.853Z"
   },
   {
    "duration": 4,
    "start_time": "2023-07-08T11:52:51.881Z"
   },
   {
    "duration": 4,
    "start_time": "2023-07-08T11:52:51.887Z"
   },
   {
    "duration": 33,
    "start_time": "2023-07-08T11:52:51.894Z"
   },
   {
    "duration": 6,
    "start_time": "2023-07-08T11:52:51.929Z"
   },
   {
    "duration": 7,
    "start_time": "2023-07-08T11:52:51.937Z"
   },
   {
    "duration": 14,
    "start_time": "2023-07-08T11:52:51.945Z"
   },
   {
    "duration": 25,
    "start_time": "2023-07-08T11:52:51.961Z"
   },
   {
    "duration": 32,
    "start_time": "2023-07-08T11:52:51.988Z"
   },
   {
    "duration": 31,
    "start_time": "2023-07-08T11:52:52.022Z"
   },
   {
    "duration": 5,
    "start_time": "2023-07-08T11:52:52.055Z"
   },
   {
    "duration": 27,
    "start_time": "2023-07-08T11:52:52.061Z"
   },
   {
    "duration": 11,
    "start_time": "2023-07-08T11:52:52.090Z"
   },
   {
    "duration": 17034,
    "start_time": "2023-07-08T11:52:52.103Z"
   },
   {
    "duration": 75,
    "start_time": "2023-07-08T11:53:09.139Z"
   },
   {
    "duration": 469,
    "start_time": "2023-07-08T11:53:09.216Z"
   },
   {
    "duration": 9,
    "start_time": "2023-07-08T11:53:09.689Z"
   },
   {
    "duration": 24,
    "start_time": "2023-07-08T11:53:09.700Z"
   },
   {
    "duration": 49,
    "start_time": "2023-07-08T11:53:09.726Z"
   },
   {
    "duration": 676,
    "start_time": "2023-07-08T11:53:09.777Z"
   },
   {
    "duration": 11,
    "start_time": "2023-07-08T11:53:10.455Z"
   },
   {
    "duration": 1031,
    "start_time": "2023-07-08T11:53:10.469Z"
   },
   {
    "duration": 37,
    "start_time": "2023-07-08T11:53:11.503Z"
   },
   {
    "duration": 203,
    "start_time": "2023-07-08T11:53:11.543Z"
   },
   {
    "duration": 11,
    "start_time": "2023-07-08T11:53:11.748Z"
   },
   {
    "duration": 521,
    "start_time": "2023-07-08T11:53:11.761Z"
   },
   {
    "duration": 130,
    "start_time": "2023-07-08T11:53:12.284Z"
   },
   {
    "duration": 105,
    "start_time": "2023-07-08T11:53:12.416Z"
   },
   {
    "duration": 782,
    "start_time": "2023-07-08T11:53:12.523Z"
   },
   {
    "duration": 734,
    "start_time": "2023-07-08T11:53:13.308Z"
   },
   {
    "duration": 259,
    "start_time": "2023-07-08T11:53:14.044Z"
   },
   {
    "duration": 137,
    "start_time": "2023-07-08T11:53:14.305Z"
   },
   {
    "duration": 1394,
    "start_time": "2023-07-08T11:53:14.443Z"
   },
   {
    "duration": 144,
    "start_time": "2023-07-08T11:53:15.839Z"
   },
   {
    "duration": 1482,
    "start_time": "2023-07-08T11:54:23.420Z"
   },
   {
    "duration": 42,
    "start_time": "2023-07-08T11:54:24.904Z"
   },
   {
    "duration": 62,
    "start_time": "2023-07-08T11:54:24.948Z"
   },
   {
    "duration": 26,
    "start_time": "2023-07-08T11:54:25.012Z"
   },
   {
    "duration": 60,
    "start_time": "2023-07-08T11:54:25.041Z"
   },
   {
    "duration": 12,
    "start_time": "2023-07-08T11:54:25.104Z"
   },
   {
    "duration": 28,
    "start_time": "2023-07-08T11:54:25.119Z"
   },
   {
    "duration": 33,
    "start_time": "2023-07-08T11:54:25.149Z"
   },
   {
    "duration": 22,
    "start_time": "2023-07-08T11:54:25.184Z"
   },
   {
    "duration": 42,
    "start_time": "2023-07-08T11:54:25.208Z"
   },
   {
    "duration": 40,
    "start_time": "2023-07-08T11:54:25.252Z"
   },
   {
    "duration": 33,
    "start_time": "2023-07-08T11:54:25.294Z"
   },
   {
    "duration": 33,
    "start_time": "2023-07-08T11:54:25.329Z"
   },
   {
    "duration": 26,
    "start_time": "2023-07-08T11:54:25.367Z"
   },
   {
    "duration": 16,
    "start_time": "2023-07-08T11:54:25.395Z"
   },
   {
    "duration": 23,
    "start_time": "2023-07-08T11:54:25.412Z"
   },
   {
    "duration": 20,
    "start_time": "2023-07-08T11:54:25.436Z"
   },
   {
    "duration": 16,
    "start_time": "2023-07-08T11:54:25.457Z"
   },
   {
    "duration": 38,
    "start_time": "2023-07-08T11:54:25.475Z"
   },
   {
    "duration": 1529,
    "start_time": "2023-07-08T11:54:34.496Z"
   },
   {
    "duration": 41,
    "start_time": "2023-07-08T11:54:36.027Z"
   },
   {
    "duration": 26,
    "start_time": "2023-07-08T11:54:36.070Z"
   },
   {
    "duration": 19,
    "start_time": "2023-07-08T11:54:36.098Z"
   },
   {
    "duration": 48,
    "start_time": "2023-07-08T11:54:36.120Z"
   },
   {
    "duration": 11,
    "start_time": "2023-07-08T11:54:36.170Z"
   },
   {
    "duration": 43,
    "start_time": "2023-07-08T11:54:36.183Z"
   },
   {
    "duration": 5,
    "start_time": "2023-07-08T11:54:36.228Z"
   },
   {
    "duration": 6,
    "start_time": "2023-07-08T11:54:36.235Z"
   },
   {
    "duration": 21,
    "start_time": "2023-07-08T11:54:36.243Z"
   },
   {
    "duration": 15,
    "start_time": "2023-07-08T11:54:36.266Z"
   },
   {
    "duration": 4,
    "start_time": "2023-07-08T11:54:36.283Z"
   },
   {
    "duration": 40,
    "start_time": "2023-07-08T11:54:36.289Z"
   },
   {
    "duration": 24,
    "start_time": "2023-07-08T11:54:36.332Z"
   },
   {
    "duration": 10,
    "start_time": "2023-07-08T11:54:36.357Z"
   },
   {
    "duration": 47,
    "start_time": "2023-07-08T11:54:36.369Z"
   },
   {
    "duration": 5,
    "start_time": "2023-07-08T11:54:36.418Z"
   },
   {
    "duration": 20,
    "start_time": "2023-07-08T11:54:36.425Z"
   },
   {
    "duration": 33,
    "start_time": "2023-07-08T11:54:36.447Z"
   },
   {
    "duration": 16795,
    "start_time": "2023-07-08T11:54:36.482Z"
   },
   {
    "duration": 38,
    "start_time": "2023-07-08T11:54:53.279Z"
   },
   {
    "duration": 557,
    "start_time": "2023-07-08T11:54:53.319Z"
   },
   {
    "duration": 9,
    "start_time": "2023-07-08T11:54:53.878Z"
   },
   {
    "duration": 29,
    "start_time": "2023-07-08T11:54:53.888Z"
   },
   {
    "duration": 37,
    "start_time": "2023-07-08T11:54:53.919Z"
   },
   {
    "duration": 633,
    "start_time": "2023-07-08T11:54:53.958Z"
   },
   {
    "duration": 11,
    "start_time": "2023-07-08T11:54:54.593Z"
   },
   {
    "duration": 1032,
    "start_time": "2023-07-08T11:54:54.614Z"
   },
   {
    "duration": 75,
    "start_time": "2023-07-08T11:54:55.649Z"
   },
   {
    "duration": 132,
    "start_time": "2023-07-08T11:54:55.726Z"
   },
   {
    "duration": 62,
    "start_time": "2023-07-08T11:54:55.859Z"
   },
   {
    "duration": 525,
    "start_time": "2023-07-08T11:54:55.923Z"
   },
   {
    "duration": 67,
    "start_time": "2023-07-08T11:54:56.450Z"
   },
   {
    "duration": 110,
    "start_time": "2023-07-08T11:54:56.519Z"
   },
   {
    "duration": 285,
    "start_time": "2023-07-08T11:54:56.631Z"
   },
   {
    "duration": 824,
    "start_time": "2023-07-08T11:54:56.918Z"
   },
   {
    "duration": 189,
    "start_time": "2023-07-08T11:54:57.745Z"
   },
   {
    "duration": 142,
    "start_time": "2023-07-08T11:54:57.936Z"
   },
   {
    "duration": 1500,
    "start_time": "2023-07-08T11:54:58.080Z"
   },
   {
    "duration": 170,
    "start_time": "2023-07-08T11:54:59.582Z"
   },
   {
    "duration": 1651,
    "start_time": "2023-07-08T11:56:49.094Z"
   },
   {
    "duration": 40,
    "start_time": "2023-07-08T11:56:50.747Z"
   },
   {
    "duration": 21,
    "start_time": "2023-07-08T11:56:50.788Z"
   },
   {
    "duration": 15,
    "start_time": "2023-07-08T11:56:50.811Z"
   },
   {
    "duration": 51,
    "start_time": "2023-07-08T11:56:50.829Z"
   },
   {
    "duration": 12,
    "start_time": "2023-07-08T11:56:50.881Z"
   },
   {
    "duration": 31,
    "start_time": "2023-07-08T11:56:50.895Z"
   },
   {
    "duration": 5,
    "start_time": "2023-07-08T11:56:50.927Z"
   },
   {
    "duration": 8,
    "start_time": "2023-07-08T11:56:50.933Z"
   },
   {
    "duration": 27,
    "start_time": "2023-07-08T11:56:50.943Z"
   },
   {
    "duration": 10,
    "start_time": "2023-07-08T11:56:50.973Z"
   },
   {
    "duration": 28,
    "start_time": "2023-07-08T11:56:50.985Z"
   },
   {
    "duration": 15,
    "start_time": "2023-07-08T11:56:51.015Z"
   },
   {
    "duration": 25,
    "start_time": "2023-07-08T11:56:51.033Z"
   },
   {
    "duration": 11,
    "start_time": "2023-07-08T11:56:51.060Z"
   },
   {
    "duration": 53,
    "start_time": "2023-07-08T11:56:51.073Z"
   },
   {
    "duration": 5,
    "start_time": "2023-07-08T11:56:51.129Z"
   },
   {
    "duration": 21,
    "start_time": "2023-07-08T11:56:51.136Z"
   },
   {
    "duration": 22,
    "start_time": "2023-07-08T11:56:51.159Z"
   },
   {
    "duration": 17280,
    "start_time": "2023-07-08T11:56:51.183Z"
   },
   {
    "duration": 58,
    "start_time": "2023-07-08T11:57:08.466Z"
   },
   {
    "duration": 594,
    "start_time": "2023-07-08T11:57:08.527Z"
   },
   {
    "duration": 9,
    "start_time": "2023-07-08T11:57:09.123Z"
   },
   {
    "duration": 10,
    "start_time": "2023-07-08T11:57:09.134Z"
   },
   {
    "duration": 27,
    "start_time": "2023-07-08T11:57:09.146Z"
   },
   {
    "duration": 174,
    "start_time": "2023-07-08T11:57:09.175Z"
   },
   {
    "duration": 12,
    "start_time": "2023-07-08T11:57:09.351Z"
   },
   {
    "duration": 1126,
    "start_time": "2023-07-08T11:57:09.364Z"
   },
   {
    "duration": 48,
    "start_time": "2023-07-08T11:57:10.491Z"
   },
   {
    "duration": 207,
    "start_time": "2023-07-08T11:57:10.543Z"
   },
   {
    "duration": 13,
    "start_time": "2023-07-08T11:57:10.752Z"
   },
   {
    "duration": 577,
    "start_time": "2023-07-08T11:57:10.767Z"
   },
   {
    "duration": 71,
    "start_time": "2023-07-08T11:57:11.346Z"
   },
   {
    "duration": 112,
    "start_time": "2023-07-08T11:57:11.419Z"
   },
   {
    "duration": 287,
    "start_time": "2023-07-08T11:57:11.533Z"
   },
   {
    "duration": 897,
    "start_time": "2023-07-08T11:57:11.822Z"
   },
   {
    "duration": 192,
    "start_time": "2023-07-08T11:57:12.722Z"
   },
   {
    "duration": 154,
    "start_time": "2023-07-08T11:57:12.916Z"
   },
   {
    "duration": 1518,
    "start_time": "2023-07-08T11:57:13.072Z"
   },
   {
    "duration": 152,
    "start_time": "2023-07-08T11:57:14.592Z"
   },
   {
    "duration": 148,
    "start_time": "2023-07-08T12:00:53.654Z"
   },
   {
    "duration": 149,
    "start_time": "2023-07-08T12:01:17.055Z"
   },
   {
    "duration": 1557,
    "start_time": "2023-07-08T12:02:28.943Z"
   },
   {
    "duration": 165,
    "start_time": "2023-07-08T12:02:42.988Z"
   },
   {
    "duration": 1753,
    "start_time": "2023-07-09T09:52:29.268Z"
   },
   {
    "duration": 85,
    "start_time": "2023-07-09T09:52:31.023Z"
   },
   {
    "duration": 22,
    "start_time": "2023-07-09T09:52:31.110Z"
   },
   {
    "duration": 66,
    "start_time": "2023-07-09T09:52:31.134Z"
   },
   {
    "duration": 68,
    "start_time": "2023-07-09T09:52:31.204Z"
   },
   {
    "duration": 12,
    "start_time": "2023-07-09T09:52:31.274Z"
   },
   {
    "duration": 71,
    "start_time": "2023-07-09T09:52:31.287Z"
   },
   {
    "duration": 29,
    "start_time": "2023-07-09T09:52:31.360Z"
   },
   {
    "duration": 30,
    "start_time": "2023-07-09T09:52:31.391Z"
   },
   {
    "duration": 61,
    "start_time": "2023-07-09T09:52:31.423Z"
   },
   {
    "duration": 37,
    "start_time": "2023-07-09T09:52:31.486Z"
   },
   {
    "duration": 31,
    "start_time": "2023-07-09T09:52:31.526Z"
   },
   {
    "duration": 30,
    "start_time": "2023-07-09T09:52:31.559Z"
   },
   {
    "duration": 53,
    "start_time": "2023-07-09T09:52:31.594Z"
   },
   {
    "duration": 34,
    "start_time": "2023-07-09T09:52:31.649Z"
   },
   {
    "duration": 54,
    "start_time": "2023-07-09T09:52:31.684Z"
   },
   {
    "duration": 41,
    "start_time": "2023-07-09T09:52:31.739Z"
   },
   {
    "duration": 52,
    "start_time": "2023-07-09T09:52:31.782Z"
   },
   {
    "duration": 36,
    "start_time": "2023-07-09T09:52:31.836Z"
   },
   {
    "duration": 16806,
    "start_time": "2023-07-09T09:52:31.874Z"
   },
   {
    "duration": 35,
    "start_time": "2023-07-09T09:52:48.683Z"
   },
   {
    "duration": 460,
    "start_time": "2023-07-09T09:52:48.810Z"
   },
   {
    "duration": 7,
    "start_time": "2023-07-09T09:52:49.272Z"
   },
   {
    "duration": 9,
    "start_time": "2023-07-09T09:52:49.281Z"
   },
   {
    "duration": 32,
    "start_time": "2023-07-09T09:52:49.313Z"
   },
   {
    "duration": 184,
    "start_time": "2023-07-09T09:52:49.347Z"
   },
   {
    "duration": 13,
    "start_time": "2023-07-09T09:52:49.534Z"
   },
   {
    "duration": 1061,
    "start_time": "2023-07-09T09:52:49.549Z"
   },
   {
    "duration": 104,
    "start_time": "2023-07-09T09:52:50.612Z"
   },
   {
    "duration": 132,
    "start_time": "2023-07-09T09:52:50.718Z"
   },
   {
    "duration": 10,
    "start_time": "2023-07-09T09:52:50.852Z"
   },
   {
    "duration": 561,
    "start_time": "2023-07-09T09:52:50.864Z"
   },
   {
    "duration": 19,
    "start_time": "2023-07-09T09:52:51.427Z"
   },
   {
    "duration": 133,
    "start_time": "2023-07-09T09:52:51.514Z"
   },
   {
    "duration": 1438,
    "start_time": "2023-07-09T09:52:51.649Z"
   },
   {
    "duration": 286,
    "start_time": "2023-07-09T09:52:53.089Z"
   },
   {
    "duration": 851,
    "start_time": "2023-07-09T09:52:53.377Z"
   },
   {
    "duration": 187,
    "start_time": "2023-07-09T09:52:54.230Z"
   },
   {
    "duration": 140,
    "start_time": "2023-07-09T09:52:54.419Z"
   },
   {
    "duration": 1495,
    "start_time": "2023-07-09T09:52:54.561Z"
   },
   {
    "duration": 162,
    "start_time": "2023-07-09T09:52:56.060Z"
   },
   {
    "duration": 1417,
    "start_time": "2023-07-09T09:55:21.162Z"
   },
   {
    "duration": 44,
    "start_time": "2023-07-09T09:55:23.262Z"
   },
   {
    "duration": 22,
    "start_time": "2023-07-09T09:55:24.940Z"
   },
   {
    "duration": 15,
    "start_time": "2023-07-09T09:55:27.352Z"
   },
   {
    "duration": 55,
    "start_time": "2023-07-09T09:55:29.393Z"
   },
   {
    "duration": 13,
    "start_time": "2023-07-09T09:55:31.118Z"
   },
   {
    "duration": 21,
    "start_time": "2023-07-09T09:55:31.422Z"
   },
   {
    "duration": 4,
    "start_time": "2023-07-09T09:55:34.245Z"
   },
   {
    "duration": 3,
    "start_time": "2023-07-09T09:55:35.406Z"
   },
   {
    "duration": 27,
    "start_time": "2023-07-09T09:55:36.298Z"
   },
   {
    "duration": 9,
    "start_time": "2023-07-09T09:55:39.120Z"
   },
   {
    "duration": 9,
    "start_time": "2023-07-09T09:55:40.854Z"
   },
   {
    "duration": 17,
    "start_time": "2023-07-09T09:55:41.809Z"
   },
   {
    "duration": 25,
    "start_time": "2023-07-09T09:56:04.338Z"
   },
   {
    "duration": 12,
    "start_time": "2023-07-09T09:56:05.327Z"
   },
   {
    "duration": 26,
    "start_time": "2023-07-09T09:56:05.950Z"
   },
   {
    "duration": 6,
    "start_time": "2023-07-09T09:56:06.623Z"
   },
   {
    "duration": 13,
    "start_time": "2023-07-09T09:56:08.078Z"
   },
   {
    "duration": 5,
    "start_time": "2023-07-09T09:56:09.280Z"
   },
   {
    "duration": 18481,
    "start_time": "2023-07-09T09:56:15.724Z"
   },
   {
    "duration": 366,
    "start_time": "2023-07-09T09:56:40.320Z"
   },
   {
    "duration": 14,
    "start_time": "2023-07-09T09:56:53.902Z"
   },
   {
    "duration": 1096,
    "start_time": "2023-07-09T09:56:58.963Z"
   },
   {
    "duration": 33,
    "start_time": "2023-07-09T09:57:01.007Z"
   },
   {
    "duration": 50,
    "start_time": "2023-07-09T09:57:04.023Z"
   },
   {
    "duration": 11,
    "start_time": "2023-07-09T09:57:05.724Z"
   },
   {
    "duration": 535,
    "start_time": "2023-07-09T09:57:07.331Z"
   },
   {
    "duration": 16,
    "start_time": "2023-07-09T09:57:09.778Z"
   },
   {
    "duration": 29,
    "start_time": "2023-07-09T09:57:12.234Z"
   },
   {
    "duration": 1417,
    "start_time": "2023-07-09T09:57:16.668Z"
   },
   {
    "duration": 1440,
    "start_time": "2023-07-09T09:57:23.145Z"
   },
   {
    "duration": 290,
    "start_time": "2023-07-09T09:57:24.588Z"
   },
   {
    "duration": 241,
    "start_time": "2023-07-09T09:58:26.561Z"
   },
   {
    "duration": 1514,
    "start_time": "2023-07-09T10:10:38.541Z"
   },
   {
    "duration": 43,
    "start_time": "2023-07-09T10:10:40.058Z"
   },
   {
    "duration": 20,
    "start_time": "2023-07-09T10:10:40.103Z"
   },
   {
    "duration": 22,
    "start_time": "2023-07-09T10:10:40.125Z"
   },
   {
    "duration": 53,
    "start_time": "2023-07-09T10:10:40.150Z"
   },
   {
    "duration": 15,
    "start_time": "2023-07-09T10:10:40.204Z"
   },
   {
    "duration": 25,
    "start_time": "2023-07-09T10:10:40.221Z"
   },
   {
    "duration": 20,
    "start_time": "2023-07-09T10:10:40.248Z"
   },
   {
    "duration": 18,
    "start_time": "2023-07-09T10:10:40.270Z"
   },
   {
    "duration": 57,
    "start_time": "2023-07-09T10:10:40.289Z"
   },
   {
    "duration": 20,
    "start_time": "2023-07-09T10:10:40.348Z"
   },
   {
    "duration": 23,
    "start_time": "2023-07-09T10:10:40.370Z"
   },
   {
    "duration": 42,
    "start_time": "2023-07-09T10:10:40.395Z"
   },
   {
    "duration": 26,
    "start_time": "2023-07-09T10:10:40.441Z"
   },
   {
    "duration": 9,
    "start_time": "2023-07-09T10:10:40.469Z"
   },
   {
    "duration": 140,
    "start_time": "2023-07-09T10:10:40.480Z"
   },
   {
    "duration": 0,
    "start_time": "2023-07-09T10:10:40.622Z"
   },
   {
    "duration": 0,
    "start_time": "2023-07-09T10:10:40.624Z"
   },
   {
    "duration": 0,
    "start_time": "2023-07-09T10:10:40.626Z"
   },
   {
    "duration": 0,
    "start_time": "2023-07-09T10:10:40.627Z"
   },
   {
    "duration": 0,
    "start_time": "2023-07-09T10:10:40.629Z"
   },
   {
    "duration": 0,
    "start_time": "2023-07-09T10:10:40.629Z"
   },
   {
    "duration": 0,
    "start_time": "2023-07-09T10:10:40.631Z"
   },
   {
    "duration": 0,
    "start_time": "2023-07-09T10:10:40.632Z"
   },
   {
    "duration": 0,
    "start_time": "2023-07-09T10:10:40.634Z"
   },
   {
    "duration": 0,
    "start_time": "2023-07-09T10:10:40.635Z"
   },
   {
    "duration": 0,
    "start_time": "2023-07-09T10:10:40.637Z"
   },
   {
    "duration": 0,
    "start_time": "2023-07-09T10:10:40.638Z"
   },
   {
    "duration": 0,
    "start_time": "2023-07-09T10:10:40.640Z"
   },
   {
    "duration": 1,
    "start_time": "2023-07-09T10:10:40.641Z"
   },
   {
    "duration": 0,
    "start_time": "2023-07-09T10:10:40.644Z"
   },
   {
    "duration": 0,
    "start_time": "2023-07-09T10:10:40.645Z"
   },
   {
    "duration": 0,
    "start_time": "2023-07-09T10:10:40.646Z"
   },
   {
    "duration": 0,
    "start_time": "2023-07-09T10:10:40.648Z"
   },
   {
    "duration": 0,
    "start_time": "2023-07-09T10:10:40.649Z"
   },
   {
    "duration": 0,
    "start_time": "2023-07-09T10:10:40.651Z"
   },
   {
    "duration": 0,
    "start_time": "2023-07-09T10:10:40.652Z"
   },
   {
    "duration": 0,
    "start_time": "2023-07-09T10:10:40.653Z"
   },
   {
    "duration": 0,
    "start_time": "2023-07-09T10:10:40.655Z"
   },
   {
    "duration": 0,
    "start_time": "2023-07-09T10:10:40.656Z"
   },
   {
    "duration": 0,
    "start_time": "2023-07-09T10:10:40.657Z"
   },
   {
    "duration": 21,
    "start_time": "2023-07-09T10:11:13.252Z"
   },
   {
    "duration": 1680,
    "start_time": "2023-07-09T10:11:30.447Z"
   },
   {
    "duration": 45,
    "start_time": "2023-07-09T10:11:32.129Z"
   },
   {
    "duration": 23,
    "start_time": "2023-07-09T10:11:32.176Z"
   },
   {
    "duration": 48,
    "start_time": "2023-07-09T10:11:32.202Z"
   },
   {
    "duration": 81,
    "start_time": "2023-07-09T10:11:32.252Z"
   },
   {
    "duration": 16,
    "start_time": "2023-07-09T10:11:32.335Z"
   },
   {
    "duration": 25,
    "start_time": "2023-07-09T10:11:32.353Z"
   },
   {
    "duration": 33,
    "start_time": "2023-07-09T10:11:32.380Z"
   },
   {
    "duration": 19,
    "start_time": "2023-07-09T10:11:32.415Z"
   },
   {
    "duration": 36,
    "start_time": "2023-07-09T10:11:32.438Z"
   },
   {
    "duration": 20,
    "start_time": "2023-07-09T10:11:32.477Z"
   },
   {
    "duration": 42,
    "start_time": "2023-07-09T10:11:32.499Z"
   },
   {
    "duration": 45,
    "start_time": "2023-07-09T10:11:32.543Z"
   },
   {
    "duration": 49,
    "start_time": "2023-07-09T10:11:32.591Z"
   },
   {
    "duration": 9,
    "start_time": "2023-07-09T10:11:32.642Z"
   },
   {
    "duration": 19,
    "start_time": "2023-07-09T10:11:32.654Z"
   },
   {
    "duration": 8,
    "start_time": "2023-07-09T10:11:32.676Z"
   },
   {
    "duration": 28,
    "start_time": "2023-07-09T10:11:32.686Z"
   },
   {
    "duration": 13,
    "start_time": "2023-07-09T10:11:32.716Z"
   },
   {
    "duration": 17248,
    "start_time": "2023-07-09T10:11:32.731Z"
   },
   {
    "duration": 38,
    "start_time": "2023-07-09T10:11:49.981Z"
   },
   {
    "duration": 460,
    "start_time": "2023-07-09T10:11:50.110Z"
   },
   {
    "duration": 8,
    "start_time": "2023-07-09T10:11:50.572Z"
   },
   {
    "duration": 20,
    "start_time": "2023-07-09T10:11:50.582Z"
   },
   {
    "duration": 36,
    "start_time": "2023-07-09T10:11:50.609Z"
   },
   {
    "duration": 156,
    "start_time": "2023-07-09T10:11:50.647Z"
   },
   {
    "duration": 13,
    "start_time": "2023-07-09T10:11:50.808Z"
   },
   {
    "duration": 1036,
    "start_time": "2023-07-09T10:11:50.824Z"
   },
   {
    "duration": 53,
    "start_time": "2023-07-09T10:11:51.862Z"
   },
   {
    "duration": 136,
    "start_time": "2023-07-09T10:11:51.918Z"
   },
   {
    "duration": 11,
    "start_time": "2023-07-09T10:11:52.056Z"
   },
   {
    "duration": 593,
    "start_time": "2023-07-09T10:11:52.069Z"
   },
   {
    "duration": 45,
    "start_time": "2023-07-09T10:11:52.665Z"
   },
   {
    "duration": 120,
    "start_time": "2023-07-09T10:11:52.712Z"
   },
   {
    "duration": 1478,
    "start_time": "2023-07-09T10:11:52.834Z"
   },
   {
    "duration": 279,
    "start_time": "2023-07-09T10:11:54.314Z"
   },
   {
    "duration": 829,
    "start_time": "2023-07-09T10:11:54.595Z"
   },
   {
    "duration": 192,
    "start_time": "2023-07-09T10:11:55.426Z"
   },
   {
    "duration": 156,
    "start_time": "2023-07-09T10:11:55.620Z"
   },
   {
    "duration": 1463,
    "start_time": "2023-07-09T10:11:55.778Z"
   },
   {
    "duration": 152,
    "start_time": "2023-07-09T10:11:57.243Z"
   },
   {
    "duration": 1792,
    "start_time": "2023-07-09T10:13:44.112Z"
   },
   {
    "duration": 43,
    "start_time": "2023-07-09T10:13:45.907Z"
   },
   {
    "duration": 26,
    "start_time": "2023-07-09T10:13:45.952Z"
   },
   {
    "duration": 20,
    "start_time": "2023-07-09T10:13:45.981Z"
   },
   {
    "duration": 67,
    "start_time": "2023-07-09T10:13:46.004Z"
   },
   {
    "duration": 15,
    "start_time": "2023-07-09T10:13:46.073Z"
   },
   {
    "duration": 45,
    "start_time": "2023-07-09T10:13:46.090Z"
   },
   {
    "duration": 5,
    "start_time": "2023-07-09T10:13:46.138Z"
   },
   {
    "duration": 11,
    "start_time": "2023-07-09T10:13:46.145Z"
   },
   {
    "duration": 52,
    "start_time": "2023-07-09T10:13:46.158Z"
   },
   {
    "duration": 9,
    "start_time": "2023-07-09T10:13:46.213Z"
   },
   {
    "duration": 19,
    "start_time": "2023-07-09T10:13:46.224Z"
   },
   {
    "duration": 18,
    "start_time": "2023-07-09T10:13:46.246Z"
   },
   {
    "duration": 22,
    "start_time": "2023-07-09T10:13:46.268Z"
   },
   {
    "duration": 20,
    "start_time": "2023-07-09T10:13:46.292Z"
   },
   {
    "duration": 28,
    "start_time": "2023-07-09T10:13:46.315Z"
   },
   {
    "duration": 6,
    "start_time": "2023-07-09T10:13:46.345Z"
   },
   {
    "duration": 17,
    "start_time": "2023-07-09T10:13:46.353Z"
   },
   {
    "duration": 5,
    "start_time": "2023-07-09T10:13:46.372Z"
   },
   {
    "duration": 16926,
    "start_time": "2023-07-09T10:13:46.378Z"
   },
   {
    "duration": 102,
    "start_time": "2023-07-09T10:14:03.309Z"
   },
   {
    "duration": 447,
    "start_time": "2023-07-09T10:14:03.413Z"
   },
   {
    "duration": 7,
    "start_time": "2023-07-09T10:14:03.862Z"
   },
   {
    "duration": 31,
    "start_time": "2023-07-09T10:14:03.871Z"
   },
   {
    "duration": 34,
    "start_time": "2023-07-09T10:14:03.904Z"
   },
   {
    "duration": 157,
    "start_time": "2023-07-09T10:14:03.940Z"
   },
   {
    "duration": 20,
    "start_time": "2023-07-09T10:14:04.099Z"
   },
   {
    "duration": 1074,
    "start_time": "2023-07-09T10:14:04.121Z"
   },
   {
    "duration": 41,
    "start_time": "2023-07-09T10:14:05.197Z"
   },
   {
    "duration": 134,
    "start_time": "2023-07-09T10:14:05.309Z"
   },
   {
    "duration": 13,
    "start_time": "2023-07-09T10:14:05.445Z"
   },
   {
    "duration": 586,
    "start_time": "2023-07-09T10:14:05.460Z"
   },
   {
    "duration": 20,
    "start_time": "2023-07-09T10:14:06.048Z"
   },
   {
    "duration": 121,
    "start_time": "2023-07-09T10:14:06.109Z"
   },
   {
    "duration": 1453,
    "start_time": "2023-07-09T10:14:06.231Z"
   },
   {
    "duration": 282,
    "start_time": "2023-07-09T10:14:07.685Z"
   },
   {
    "duration": 844,
    "start_time": "2023-07-09T10:14:07.969Z"
   },
   {
    "duration": 191,
    "start_time": "2023-07-09T10:14:08.815Z"
   },
   {
    "duration": 143,
    "start_time": "2023-07-09T10:14:09.009Z"
   },
   {
    "duration": 1478,
    "start_time": "2023-07-09T10:14:09.154Z"
   },
   {
    "duration": 150,
    "start_time": "2023-07-09T10:14:10.636Z"
   },
   {
    "duration": 55,
    "start_time": "2023-09-09T16:26:28.712Z"
   },
   {
    "duration": 1688,
    "start_time": "2023-09-09T16:27:06.789Z"
   },
   {
    "duration": 83,
    "start_time": "2023-09-09T16:27:08.479Z"
   },
   {
    "duration": 30,
    "start_time": "2023-09-09T16:27:08.564Z"
   },
   {
    "duration": 20,
    "start_time": "2023-09-09T16:27:08.596Z"
   },
   {
    "duration": 73,
    "start_time": "2023-09-09T16:27:08.618Z"
   },
   {
    "duration": 12,
    "start_time": "2023-09-09T16:27:08.693Z"
   },
   {
    "duration": 21,
    "start_time": "2023-09-09T16:27:08.707Z"
   },
   {
    "duration": 4,
    "start_time": "2023-09-09T16:27:08.748Z"
   },
   {
    "duration": 21,
    "start_time": "2023-09-09T16:27:08.754Z"
   },
   {
    "duration": 21,
    "start_time": "2023-09-09T16:27:08.778Z"
   },
   {
    "duration": 8,
    "start_time": "2023-09-09T16:27:08.802Z"
   },
   {
    "duration": 12,
    "start_time": "2023-09-09T16:27:08.812Z"
   },
   {
    "duration": 41,
    "start_time": "2023-09-09T16:27:08.826Z"
   },
   {
    "duration": 18,
    "start_time": "2023-09-09T16:27:08.870Z"
   },
   {
    "duration": 10,
    "start_time": "2023-09-09T16:27:08.889Z"
   },
   {
    "duration": 20,
    "start_time": "2023-09-09T16:27:08.900Z"
   },
   {
    "duration": 26,
    "start_time": "2023-09-09T16:27:08.922Z"
   },
   {
    "duration": 14,
    "start_time": "2023-09-09T16:27:08.950Z"
   },
   {
    "duration": 24,
    "start_time": "2023-09-09T16:27:08.965Z"
   },
   {
    "duration": 18212,
    "start_time": "2023-09-09T16:27:08.991Z"
   },
   {
    "duration": 142,
    "start_time": "2023-09-09T16:27:27.205Z"
   },
   {
    "duration": 458,
    "start_time": "2023-09-09T16:27:27.349Z"
   },
   {
    "duration": 7,
    "start_time": "2023-09-09T16:27:27.809Z"
   },
   {
    "duration": 19,
    "start_time": "2023-09-09T16:27:27.817Z"
   },
   {
    "duration": 34,
    "start_time": "2023-09-09T16:27:27.839Z"
   },
   {
    "duration": 162,
    "start_time": "2023-09-09T16:27:27.876Z"
   },
   {
    "duration": 15,
    "start_time": "2023-09-09T16:27:28.046Z"
   },
   {
    "duration": 1108,
    "start_time": "2023-09-09T16:27:28.066Z"
   },
   {
    "duration": 72,
    "start_time": "2023-09-09T16:27:29.177Z"
   },
   {
    "duration": 135,
    "start_time": "2023-09-09T16:27:29.253Z"
   },
   {
    "duration": 37,
    "start_time": "2023-09-09T16:27:29.389Z"
   },
   {
    "duration": 595,
    "start_time": "2023-09-09T16:27:29.428Z"
   },
   {
    "duration": 38,
    "start_time": "2023-09-09T16:27:30.025Z"
   },
   {
    "duration": 199,
    "start_time": "2023-09-09T16:27:30.066Z"
   },
   {
    "duration": 1504,
    "start_time": "2023-09-09T16:27:30.267Z"
   },
   {
    "duration": 278,
    "start_time": "2023-09-09T16:27:31.773Z"
   },
   {
    "duration": 852,
    "start_time": "2023-09-09T16:27:32.053Z"
   },
   {
    "duration": 187,
    "start_time": "2023-09-09T16:27:32.907Z"
   },
   {
    "duration": 146,
    "start_time": "2023-09-09T16:27:33.096Z"
   },
   {
    "duration": 1540,
    "start_time": "2023-09-09T16:27:33.247Z"
   },
   {
    "duration": 149,
    "start_time": "2023-09-09T16:27:34.789Z"
   },
   {
    "duration": 4,
    "start_time": "2023-09-09T16:27:54.949Z"
   },
   {
    "duration": 1868,
    "start_time": "2023-09-14T09:28:49.968Z"
   },
   {
    "duration": 181,
    "start_time": "2023-09-14T09:28:51.838Z"
   },
   {
    "duration": 19,
    "start_time": "2023-09-14T09:28:52.021Z"
   },
   {
    "duration": 37,
    "start_time": "2023-09-14T09:28:52.042Z"
   },
   {
    "duration": 70,
    "start_time": "2023-09-14T09:28:52.081Z"
   },
   {
    "duration": 20,
    "start_time": "2023-09-14T09:28:52.153Z"
   },
   {
    "duration": 22,
    "start_time": "2023-09-14T09:28:52.175Z"
   },
   {
    "duration": 4,
    "start_time": "2023-09-14T09:28:52.199Z"
   },
   {
    "duration": 18,
    "start_time": "2023-09-14T09:28:52.205Z"
   },
   {
    "duration": 41,
    "start_time": "2023-09-14T09:28:52.227Z"
   },
   {
    "duration": 36,
    "start_time": "2023-09-14T09:28:52.270Z"
   },
   {
    "duration": 11,
    "start_time": "2023-09-14T09:28:52.308Z"
   },
   {
    "duration": 14,
    "start_time": "2023-09-14T09:28:52.321Z"
   },
   {
    "duration": 48,
    "start_time": "2023-09-14T09:28:52.337Z"
   },
   {
    "duration": 12,
    "start_time": "2023-09-14T09:28:52.387Z"
   },
   {
    "duration": 33,
    "start_time": "2023-09-14T09:28:52.400Z"
   },
   {
    "duration": 19,
    "start_time": "2023-09-14T09:28:52.434Z"
   },
   {
    "duration": 43,
    "start_time": "2023-09-14T09:28:52.455Z"
   },
   {
    "duration": 13,
    "start_time": "2023-09-14T09:28:52.500Z"
   },
   {
    "duration": 18906,
    "start_time": "2023-09-14T09:28:52.515Z"
   },
   {
    "duration": 53,
    "start_time": "2023-09-14T09:29:11.423Z"
   },
   {
    "duration": 533,
    "start_time": "2023-09-14T09:29:11.481Z"
   },
   {
    "duration": 7,
    "start_time": "2023-09-14T09:29:12.016Z"
   },
   {
    "duration": 24,
    "start_time": "2023-09-14T09:29:12.025Z"
   },
   {
    "duration": 50,
    "start_time": "2023-09-14T09:29:12.055Z"
   },
   {
    "duration": 150,
    "start_time": "2023-09-14T09:29:12.108Z"
   },
   {
    "duration": 17,
    "start_time": "2023-09-14T09:29:12.263Z"
   },
   {
    "duration": 1141,
    "start_time": "2023-09-14T09:29:12.285Z"
   },
   {
    "duration": 135,
    "start_time": "2023-09-14T09:29:13.429Z"
   },
   {
    "duration": 138,
    "start_time": "2023-09-14T09:29:13.569Z"
   },
   {
    "duration": 15,
    "start_time": "2023-09-14T09:29:13.709Z"
   },
   {
    "duration": 592,
    "start_time": "2023-09-14T09:29:13.726Z"
   },
   {
    "duration": 46,
    "start_time": "2023-09-14T09:29:14.320Z"
   },
   {
    "duration": 190,
    "start_time": "2023-09-14T09:29:14.370Z"
   },
   {
    "duration": 1528,
    "start_time": "2023-09-14T09:29:14.562Z"
   },
   {
    "duration": 292,
    "start_time": "2023-09-14T09:29:16.093Z"
   },
   {
    "duration": 910,
    "start_time": "2023-09-14T09:29:16.387Z"
   },
   {
    "duration": 202,
    "start_time": "2023-09-14T09:29:17.300Z"
   },
   {
    "duration": 153,
    "start_time": "2023-09-14T09:29:17.504Z"
   },
   {
    "duration": 1576,
    "start_time": "2023-09-14T09:29:17.659Z"
   },
   {
    "duration": 172,
    "start_time": "2023-09-14T09:29:19.237Z"
   },
   {
    "duration": 74,
    "start_time": "2023-09-14T09:30:22.370Z"
   },
   {
    "duration": 5,
    "start_time": "2023-09-14T09:31:59.066Z"
   },
   {
    "duration": 72,
    "start_time": "2023-09-14T09:31:59.073Z"
   },
   {
    "duration": 17,
    "start_time": "2023-09-14T09:31:59.147Z"
   },
   {
    "duration": 31,
    "start_time": "2023-09-14T09:31:59.166Z"
   },
   {
    "duration": 55,
    "start_time": "2023-09-14T09:31:59.200Z"
   },
   {
    "duration": 16,
    "start_time": "2023-09-14T09:31:59.257Z"
   },
   {
    "duration": 24,
    "start_time": "2023-09-14T09:31:59.275Z"
   },
   {
    "duration": 5,
    "start_time": "2023-09-14T09:31:59.302Z"
   },
   {
    "duration": 9,
    "start_time": "2023-09-14T09:31:59.309Z"
   },
   {
    "duration": 54,
    "start_time": "2023-09-14T09:31:59.320Z"
   },
   {
    "duration": 19,
    "start_time": "2023-09-14T09:31:59.376Z"
   },
   {
    "duration": 7,
    "start_time": "2023-09-14T09:31:59.397Z"
   },
   {
    "duration": 13,
    "start_time": "2023-09-14T09:31:59.406Z"
   },
   {
    "duration": 55,
    "start_time": "2023-09-14T09:31:59.424Z"
   },
   {
    "duration": 17,
    "start_time": "2023-09-14T09:31:59.481Z"
   },
   {
    "duration": 59,
    "start_time": "2023-09-14T09:31:59.500Z"
   },
   {
    "duration": 6,
    "start_time": "2023-09-14T09:31:59.561Z"
   },
   {
    "duration": 16,
    "start_time": "2023-09-14T09:31:59.569Z"
   },
   {
    "duration": 5,
    "start_time": "2023-09-14T09:31:59.587Z"
   },
   {
    "duration": 19683,
    "start_time": "2023-09-14T09:32:06.667Z"
   },
   {
    "duration": 96,
    "start_time": "2023-09-14T09:32:36.472Z"
   },
   {
    "duration": 424,
    "start_time": "2023-09-14T09:32:37.707Z"
   },
   {
    "duration": 8,
    "start_time": "2023-09-14T11:05:04.111Z"
   },
   {
    "duration": 44,
    "start_time": "2023-09-14T11:05:07.981Z"
   },
   {
    "duration": 37,
    "start_time": "2023-09-14T11:05:37.742Z"
   },
   {
    "duration": 164,
    "start_time": "2023-09-14T11:13:16.584Z"
   },
   {
    "duration": 1504,
    "start_time": "2023-09-14T13:53:35.575Z"
   },
   {
    "duration": 81,
    "start_time": "2023-09-14T13:53:37.082Z"
   },
   {
    "duration": 20,
    "start_time": "2023-09-14T13:53:37.165Z"
   },
   {
    "duration": 15,
    "start_time": "2023-09-14T13:53:37.187Z"
   },
   {
    "duration": 44,
    "start_time": "2023-09-14T13:53:37.204Z"
   },
   {
    "duration": 11,
    "start_time": "2023-09-14T13:53:37.250Z"
   },
   {
    "duration": 51,
    "start_time": "2023-09-14T13:53:37.263Z"
   },
   {
    "duration": 5,
    "start_time": "2023-09-14T13:53:37.315Z"
   },
   {
    "duration": 17,
    "start_time": "2023-09-14T13:53:37.321Z"
   },
   {
    "duration": 35,
    "start_time": "2023-09-14T13:53:37.340Z"
   },
   {
    "duration": 17,
    "start_time": "2023-09-14T13:53:37.377Z"
   },
   {
    "duration": 14,
    "start_time": "2023-09-14T13:53:37.395Z"
   },
   {
    "duration": 13,
    "start_time": "2023-09-14T13:53:37.410Z"
   },
   {
    "duration": 13,
    "start_time": "2023-09-14T13:53:37.424Z"
   },
   {
    "duration": 9,
    "start_time": "2023-09-14T13:53:37.438Z"
   },
   {
    "duration": 20,
    "start_time": "2023-09-14T13:53:37.448Z"
   },
   {
    "duration": 5,
    "start_time": "2023-09-14T13:53:37.471Z"
   },
   {
    "duration": 22,
    "start_time": "2023-09-14T13:53:37.477Z"
   },
   {
    "duration": 23,
    "start_time": "2023-09-14T13:53:37.500Z"
   },
   {
    "duration": 14886,
    "start_time": "2023-09-14T13:53:37.525Z"
   },
   {
    "duration": 134,
    "start_time": "2023-09-14T13:53:52.413Z"
   },
   {
    "duration": 396,
    "start_time": "2023-09-14T13:53:52.550Z"
   },
   {
    "duration": 7,
    "start_time": "2023-09-14T13:53:52.947Z"
   },
   {
    "duration": 20,
    "start_time": "2023-09-14T13:53:52.955Z"
   },
   {
    "duration": 189,
    "start_time": "2023-09-14T13:53:52.976Z"
   },
   {
    "duration": 0,
    "start_time": "2023-09-14T13:53:53.167Z"
   },
   {
    "duration": 0,
    "start_time": "2023-09-14T13:53:53.169Z"
   },
   {
    "duration": 0,
    "start_time": "2023-09-14T13:53:53.170Z"
   },
   {
    "duration": 0,
    "start_time": "2023-09-14T13:53:53.171Z"
   },
   {
    "duration": 0,
    "start_time": "2023-09-14T13:53:53.172Z"
   },
   {
    "duration": 0,
    "start_time": "2023-09-14T13:53:53.173Z"
   },
   {
    "duration": 0,
    "start_time": "2023-09-14T13:53:53.174Z"
   },
   {
    "duration": 0,
    "start_time": "2023-09-14T13:53:53.176Z"
   },
   {
    "duration": 0,
    "start_time": "2023-09-14T13:53:53.177Z"
   },
   {
    "duration": 0,
    "start_time": "2023-09-14T13:53:53.178Z"
   },
   {
    "duration": 0,
    "start_time": "2023-09-14T13:53:53.179Z"
   },
   {
    "duration": 0,
    "start_time": "2023-09-14T13:53:53.180Z"
   },
   {
    "duration": 0,
    "start_time": "2023-09-14T13:53:53.181Z"
   },
   {
    "duration": 0,
    "start_time": "2023-09-14T13:53:53.182Z"
   },
   {
    "duration": 0,
    "start_time": "2023-09-14T13:53:53.183Z"
   },
   {
    "duration": 0,
    "start_time": "2023-09-14T13:53:53.184Z"
   },
   {
    "duration": 26,
    "start_time": "2023-09-14T13:54:22.447Z"
   },
   {
    "duration": 10,
    "start_time": "2023-09-14T13:55:15.912Z"
   },
   {
    "duration": 9,
    "start_time": "2023-09-14T13:55:46.534Z"
   },
   {
    "duration": 7,
    "start_time": "2023-09-14T13:55:59.807Z"
   },
   {
    "duration": 4,
    "start_time": "2023-09-14T13:56:48.755Z"
   },
   {
    "duration": 115,
    "start_time": "2023-09-14T13:56:52.472Z"
   },
   {
    "duration": 100,
    "start_time": "2023-09-14T13:59:15.274Z"
   },
   {
    "duration": 157,
    "start_time": "2023-09-14T13:59:27.681Z"
   },
   {
    "duration": 10,
    "start_time": "2023-09-14T14:00:06.431Z"
   },
   {
    "duration": 62,
    "start_time": "2023-09-14T14:00:15.703Z"
   },
   {
    "duration": 102,
    "start_time": "2023-09-14T14:00:19.814Z"
   },
   {
    "duration": 63,
    "start_time": "2023-09-14T14:00:21.992Z"
   },
   {
    "duration": 92,
    "start_time": "2023-09-14T14:00:28.687Z"
   },
   {
    "duration": 69,
    "start_time": "2023-09-14T14:00:29.879Z"
   },
   {
    "duration": 64,
    "start_time": "2023-09-14T14:00:39.269Z"
   },
   {
    "duration": 105,
    "start_time": "2023-09-14T14:00:40.620Z"
   },
   {
    "duration": 108,
    "start_time": "2023-09-14T14:01:52.944Z"
   },
   {
    "duration": 118,
    "start_time": "2023-09-14T14:01:59.469Z"
   },
   {
    "duration": 12,
    "start_time": "2023-09-14T14:23:43.788Z"
   },
   {
    "duration": 1342,
    "start_time": "2023-09-14T14:23:58.026Z"
   },
   {
    "duration": 41,
    "start_time": "2023-09-14T14:23:59.370Z"
   },
   {
    "duration": 17,
    "start_time": "2023-09-14T14:23:59.412Z"
   },
   {
    "duration": 38,
    "start_time": "2023-09-14T14:23:59.431Z"
   },
   {
    "duration": 61,
    "start_time": "2023-09-14T14:23:59.471Z"
   },
   {
    "duration": 10,
    "start_time": "2023-09-14T14:23:59.534Z"
   },
   {
    "duration": 20,
    "start_time": "2023-09-14T14:23:59.546Z"
   },
   {
    "duration": 4,
    "start_time": "2023-09-14T14:23:59.567Z"
   },
   {
    "duration": 11,
    "start_time": "2023-09-14T14:23:59.572Z"
   },
   {
    "duration": 55,
    "start_time": "2023-09-14T14:23:59.585Z"
   },
   {
    "duration": 14,
    "start_time": "2023-09-14T14:23:59.642Z"
   },
   {
    "duration": 7,
    "start_time": "2023-09-14T14:23:59.658Z"
   },
   {
    "duration": 25,
    "start_time": "2023-09-14T14:23:59.667Z"
   },
   {
    "duration": 27,
    "start_time": "2023-09-14T14:23:59.694Z"
   },
   {
    "duration": 33,
    "start_time": "2023-09-14T14:23:59.723Z"
   },
   {
    "duration": 26,
    "start_time": "2023-09-14T14:23:59.757Z"
   },
   {
    "duration": 12,
    "start_time": "2023-09-14T14:23:59.784Z"
   },
   {
    "duration": 13,
    "start_time": "2023-09-14T14:23:59.797Z"
   },
   {
    "duration": 17,
    "start_time": "2023-09-14T14:23:59.811Z"
   },
   {
    "duration": 14731,
    "start_time": "2023-09-14T14:23:59.830Z"
   },
   {
    "duration": 82,
    "start_time": "2023-09-14T14:24:14.563Z"
   },
   {
    "duration": 409,
    "start_time": "2023-09-14T14:24:14.648Z"
   },
   {
    "duration": 8,
    "start_time": "2023-09-14T14:24:15.059Z"
   },
   {
    "duration": 45,
    "start_time": "2023-09-14T14:24:15.069Z"
   },
   {
    "duration": 29,
    "start_time": "2023-09-14T14:24:15.115Z"
   },
   {
    "duration": 116,
    "start_time": "2023-09-14T14:24:15.146Z"
   },
   {
    "duration": 147,
    "start_time": "2023-09-14T14:24:15.264Z"
   },
   {
    "duration": 0,
    "start_time": "2023-09-14T14:24:15.413Z"
   },
   {
    "duration": 0,
    "start_time": "2023-09-14T14:24:15.414Z"
   },
   {
    "duration": 0,
    "start_time": "2023-09-14T14:24:15.415Z"
   },
   {
    "duration": 0,
    "start_time": "2023-09-14T14:24:15.416Z"
   },
   {
    "duration": 0,
    "start_time": "2023-09-14T14:24:15.417Z"
   },
   {
    "duration": 0,
    "start_time": "2023-09-14T14:24:15.418Z"
   },
   {
    "duration": 0,
    "start_time": "2023-09-14T14:24:15.419Z"
   },
   {
    "duration": 0,
    "start_time": "2023-09-14T14:24:15.421Z"
   },
   {
    "duration": 0,
    "start_time": "2023-09-14T14:24:15.422Z"
   },
   {
    "duration": 0,
    "start_time": "2023-09-14T14:24:15.444Z"
   },
   {
    "duration": 0,
    "start_time": "2023-09-14T14:24:15.446Z"
   },
   {
    "duration": 0,
    "start_time": "2023-09-14T14:24:15.447Z"
   },
   {
    "duration": 0,
    "start_time": "2023-09-14T14:24:15.448Z"
   },
   {
    "duration": 0,
    "start_time": "2023-09-14T14:24:15.450Z"
   },
   {
    "duration": 0,
    "start_time": "2023-09-14T14:24:15.451Z"
   },
   {
    "duration": 0,
    "start_time": "2023-09-14T14:24:15.452Z"
   },
   {
    "duration": 0,
    "start_time": "2023-09-14T14:24:15.453Z"
   },
   {
    "duration": 17,
    "start_time": "2023-09-14T14:24:58.113Z"
   },
   {
    "duration": 6,
    "start_time": "2023-09-14T14:27:07.460Z"
   },
   {
    "duration": 6,
    "start_time": "2023-09-14T14:27:26.103Z"
   },
   {
    "duration": 10,
    "start_time": "2023-09-14T14:28:37.842Z"
   },
   {
    "duration": 59,
    "start_time": "2023-09-14T14:28:56.683Z"
   },
   {
    "duration": 6,
    "start_time": "2023-09-14T14:29:01.109Z"
   },
   {
    "duration": 106,
    "start_time": "2023-09-14T14:29:48.102Z"
   },
   {
    "duration": 14,
    "start_time": "2023-09-14T14:29:54.534Z"
   },
   {
    "duration": 7,
    "start_time": "2023-09-14T14:31:50.674Z"
   },
   {
    "duration": 60,
    "start_time": "2023-09-14T14:35:00.554Z"
   },
   {
    "duration": 34,
    "start_time": "2023-09-14T15:19:34.348Z"
   },
   {
    "duration": 14,
    "start_time": "2023-09-14T15:37:45.026Z"
   },
   {
    "duration": 1150,
    "start_time": "2023-09-14T15:37:54.874Z"
   },
   {
    "duration": 87,
    "start_time": "2023-09-14T15:37:58.660Z"
   },
   {
    "duration": 44,
    "start_time": "2023-09-14T15:38:01.174Z"
   },
   {
    "duration": 12,
    "start_time": "2023-09-14T15:53:32.082Z"
   },
   {
    "duration": 498,
    "start_time": "2023-09-14T15:53:34.176Z"
   },
   {
    "duration": 24,
    "start_time": "2023-09-14T15:53:35.647Z"
   },
   {
    "duration": 27,
    "start_time": "2023-09-14T15:53:36.886Z"
   },
   {
    "duration": 1274,
    "start_time": "2023-09-14T15:58:55.379Z"
   },
   {
    "duration": 248,
    "start_time": "2023-09-14T15:58:58.845Z"
   },
   {
    "duration": 125,
    "start_time": "2023-09-14T16:07:48.032Z"
   },
   {
    "duration": 3,
    "start_time": "2023-09-14T16:08:10.320Z"
   },
   {
    "duration": 254,
    "start_time": "2023-09-14T16:08:10.979Z"
   },
   {
    "duration": 115,
    "start_time": "2023-09-14T16:09:22.478Z"
   },
   {
    "duration": 157,
    "start_time": "2023-09-14T16:09:45.248Z"
   },
   {
    "duration": 168,
    "start_time": "2023-09-14T16:12:49.160Z"
   },
   {
    "duration": 193,
    "start_time": "2023-09-14T16:13:04.312Z"
   },
   {
    "duration": 125,
    "start_time": "2023-09-14T16:13:32.529Z"
   },
   {
    "duration": 295,
    "start_time": "2023-09-14T16:14:04.956Z"
   },
   {
    "duration": 9,
    "start_time": "2023-09-14T16:29:41.407Z"
   },
   {
    "duration": 5,
    "start_time": "2023-09-14T16:29:57.170Z"
   },
   {
    "duration": 9,
    "start_time": "2023-09-14T16:30:27.590Z"
   },
   {
    "duration": 4,
    "start_time": "2023-09-14T16:31:12.454Z"
   },
   {
    "duration": 115,
    "start_time": "2023-09-14T16:46:59.602Z"
   },
   {
    "duration": 1727,
    "start_time": "2023-09-15T15:11:00.028Z"
   },
   {
    "duration": 83,
    "start_time": "2023-09-15T15:11:01.759Z"
   },
   {
    "duration": 21,
    "start_time": "2023-09-15T15:11:01.844Z"
   },
   {
    "duration": 19,
    "start_time": "2023-09-15T15:11:01.867Z"
   },
   {
    "duration": 68,
    "start_time": "2023-09-15T15:11:01.888Z"
   },
   {
    "duration": 12,
    "start_time": "2023-09-15T15:11:01.958Z"
   },
   {
    "duration": 41,
    "start_time": "2023-09-15T15:11:01.972Z"
   },
   {
    "duration": 90,
    "start_time": "2023-09-15T15:11:02.014Z"
   },
   {
    "duration": 57,
    "start_time": "2023-09-15T15:11:02.106Z"
   },
   {
    "duration": 62,
    "start_time": "2023-09-15T15:11:02.166Z"
   },
   {
    "duration": 44,
    "start_time": "2023-09-15T15:11:02.231Z"
   },
   {
    "duration": 24,
    "start_time": "2023-09-15T15:11:02.276Z"
   },
   {
    "duration": 21,
    "start_time": "2023-09-15T15:11:02.302Z"
   },
   {
    "duration": 39,
    "start_time": "2023-09-15T15:11:02.325Z"
   },
   {
    "duration": 14,
    "start_time": "2023-09-15T15:11:02.366Z"
   },
   {
    "duration": 30,
    "start_time": "2023-09-15T15:11:02.381Z"
   },
   {
    "duration": 17,
    "start_time": "2023-09-15T15:11:02.413Z"
   },
   {
    "duration": 28,
    "start_time": "2023-09-15T15:11:02.432Z"
   },
   {
    "duration": 24,
    "start_time": "2023-09-15T15:11:02.462Z"
   },
   {
    "duration": 4,
    "start_time": "2023-09-15T15:11:19.025Z"
   },
   {
    "duration": 64,
    "start_time": "2023-09-15T15:11:19.043Z"
   },
   {
    "duration": 13,
    "start_time": "2023-09-15T15:11:19.109Z"
   },
   {
    "duration": 19,
    "start_time": "2023-09-15T15:11:19.124Z"
   },
   {
    "duration": 57,
    "start_time": "2023-09-15T15:11:19.145Z"
   },
   {
    "duration": 10,
    "start_time": "2023-09-15T15:11:19.204Z"
   },
   {
    "duration": 41,
    "start_time": "2023-09-15T15:11:19.215Z"
   },
   {
    "duration": 4,
    "start_time": "2023-09-15T15:11:19.258Z"
   },
   {
    "duration": 15,
    "start_time": "2023-09-15T15:11:19.264Z"
   },
   {
    "duration": 25,
    "start_time": "2023-09-15T15:11:19.281Z"
   },
   {
    "duration": 25,
    "start_time": "2023-09-15T15:11:19.307Z"
   },
   {
    "duration": 4,
    "start_time": "2023-09-15T15:11:19.334Z"
   },
   {
    "duration": 31,
    "start_time": "2023-09-15T15:11:19.340Z"
   },
   {
    "duration": 25,
    "start_time": "2023-09-15T15:11:19.373Z"
   },
   {
    "duration": 19,
    "start_time": "2023-09-15T15:11:19.400Z"
   },
   {
    "duration": 29,
    "start_time": "2023-09-15T15:11:19.421Z"
   },
   {
    "duration": 8,
    "start_time": "2023-09-15T15:11:19.453Z"
   },
   {
    "duration": 24,
    "start_time": "2023-09-15T15:11:19.463Z"
   },
   {
    "duration": 29,
    "start_time": "2023-09-15T15:11:19.488Z"
   },
   {
    "duration": 15638,
    "start_time": "2023-09-15T15:11:19.518Z"
   },
   {
    "duration": 91,
    "start_time": "2023-09-15T15:11:35.158Z"
   },
   {
    "duration": 426,
    "start_time": "2023-09-15T15:11:35.251Z"
   },
   {
    "duration": 6,
    "start_time": "2023-09-15T15:11:35.679Z"
   },
   {
    "duration": 17,
    "start_time": "2023-09-15T15:11:35.686Z"
   },
   {
    "duration": 55,
    "start_time": "2023-09-15T15:11:35.704Z"
   },
   {
    "duration": 109,
    "start_time": "2023-09-15T15:11:35.760Z"
   },
   {
    "duration": 60,
    "start_time": "2023-09-15T15:11:35.871Z"
   },
   {
    "duration": 131,
    "start_time": "2023-09-15T15:11:35.933Z"
   },
   {
    "duration": 98,
    "start_time": "2023-09-15T15:11:36.065Z"
   },
   {
    "duration": 11,
    "start_time": "2023-09-15T15:11:50.281Z"
   },
   {
    "duration": 928,
    "start_time": "2023-09-15T15:12:00.888Z"
   },
   {
    "duration": 15,
    "start_time": "2023-09-15T15:12:14.268Z"
   },
   {
    "duration": 1226,
    "start_time": "2023-09-15T15:12:16.353Z"
   },
   {
    "duration": 40,
    "start_time": "2023-09-15T15:12:26.239Z"
   },
   {
    "duration": 3838,
    "start_time": "2023-09-15T15:12:26.799Z"
   },
   {
    "duration": 15,
    "start_time": "2023-09-15T15:12:38.466Z"
   },
   {
    "duration": 1325,
    "start_time": "2023-09-15T15:12:40.991Z"
   },
   {
    "duration": 13,
    "start_time": "2023-09-15T15:12:49.728Z"
   },
   {
    "duration": 1204,
    "start_time": "2023-09-15T15:12:52.469Z"
   },
   {
    "duration": 91,
    "start_time": "2023-09-15T15:12:58.968Z"
   },
   {
    "duration": 57,
    "start_time": "2023-09-15T15:13:00.772Z"
   },
   {
    "duration": 21,
    "start_time": "2023-09-15T15:13:13.240Z"
   },
   {
    "duration": 1143,
    "start_time": "2023-09-15T15:13:14.439Z"
   },
   {
    "duration": 50,
    "start_time": "2023-09-15T15:13:20.438Z"
   },
   {
    "duration": 48,
    "start_time": "2023-09-15T15:13:22.760Z"
   },
   {
    "duration": 12,
    "start_time": "2023-09-15T15:13:34.209Z"
   },
   {
    "duration": 1036,
    "start_time": "2023-09-15T15:13:35.579Z"
   },
   {
    "duration": 40,
    "start_time": "2023-09-15T15:13:40.490Z"
   },
   {
    "duration": 45,
    "start_time": "2023-09-15T15:13:42.968Z"
   },
   {
    "duration": 12,
    "start_time": "2023-09-15T15:14:07.500Z"
   },
   {
    "duration": 538,
    "start_time": "2023-09-15T15:14:08.831Z"
   },
   {
    "duration": 33,
    "start_time": "2023-09-15T15:14:14.303Z"
   },
   {
    "duration": 25,
    "start_time": "2023-09-15T15:14:16.081Z"
   },
   {
    "duration": 2,
    "start_time": "2023-09-15T15:14:21.458Z"
   },
   {
    "duration": 261,
    "start_time": "2023-09-15T15:14:58.623Z"
   },
   {
    "duration": 124,
    "start_time": "2023-09-15T15:15:00.533Z"
   },
   {
    "duration": 169,
    "start_time": "2023-09-15T15:15:07.882Z"
   },
   {
    "duration": 126,
    "start_time": "2023-09-15T15:32:06.473Z"
   },
   {
    "duration": 113,
    "start_time": "2023-09-15T15:32:16.323Z"
   },
   {
    "duration": 1158,
    "start_time": "2023-09-15T15:32:37.300Z"
   },
   {
    "duration": 78,
    "start_time": "2023-09-15T15:33:04.398Z"
   },
   {
    "duration": 100,
    "start_time": "2023-09-15T15:35:51.861Z"
   },
   {
    "duration": 79,
    "start_time": "2023-09-15T15:44:02.783Z"
   },
   {
    "duration": 101,
    "start_time": "2023-09-15T15:57:24.358Z"
   },
   {
    "duration": 105,
    "start_time": "2023-09-15T15:57:51.194Z"
   },
   {
    "duration": 94,
    "start_time": "2023-09-15T16:00:08.736Z"
   },
   {
    "duration": 103,
    "start_time": "2023-09-15T16:00:17.197Z"
   },
   {
    "duration": 101,
    "start_time": "2023-09-15T16:02:13.144Z"
   },
   {
    "duration": 1526,
    "start_time": "2023-09-15T16:03:33.127Z"
   },
   {
    "duration": 51,
    "start_time": "2023-09-15T16:03:34.656Z"
   },
   {
    "duration": 25,
    "start_time": "2023-09-15T16:03:34.710Z"
   },
   {
    "duration": 31,
    "start_time": "2023-09-15T16:03:34.737Z"
   },
   {
    "duration": 51,
    "start_time": "2023-09-15T16:03:34.770Z"
   },
   {
    "duration": 11,
    "start_time": "2023-09-15T16:03:34.823Z"
   },
   {
    "duration": 35,
    "start_time": "2023-09-15T16:03:34.836Z"
   },
   {
    "duration": 4,
    "start_time": "2023-09-15T16:03:34.873Z"
   },
   {
    "duration": 143,
    "start_time": "2023-09-15T16:03:34.880Z"
   },
   {
    "duration": 53,
    "start_time": "2023-09-15T16:03:35.025Z"
   },
   {
    "duration": 8,
    "start_time": "2023-09-15T16:03:35.079Z"
   },
   {
    "duration": 79,
    "start_time": "2023-09-15T16:03:35.088Z"
   },
   {
    "duration": 13,
    "start_time": "2023-09-15T16:03:35.169Z"
   },
   {
    "duration": 22,
    "start_time": "2023-09-15T16:03:35.183Z"
   },
   {
    "duration": 24,
    "start_time": "2023-09-15T16:03:35.206Z"
   },
   {
    "duration": 55,
    "start_time": "2023-09-15T16:03:35.232Z"
   },
   {
    "duration": 5,
    "start_time": "2023-09-15T16:03:35.289Z"
   },
   {
    "duration": 32,
    "start_time": "2023-09-15T16:03:35.295Z"
   },
   {
    "duration": 15,
    "start_time": "2023-09-15T16:03:35.329Z"
   },
   {
    "duration": 16008,
    "start_time": "2023-09-15T16:03:35.346Z"
   },
   {
    "duration": 102,
    "start_time": "2023-09-15T16:03:51.356Z"
   },
   {
    "duration": 457,
    "start_time": "2023-09-15T16:03:51.460Z"
   },
   {
    "duration": 7,
    "start_time": "2023-09-15T16:03:51.919Z"
   },
   {
    "duration": 24,
    "start_time": "2023-09-15T16:03:51.928Z"
   },
   {
    "duration": 37,
    "start_time": "2023-09-15T16:03:51.953Z"
   },
   {
    "duration": 124,
    "start_time": "2023-09-15T16:03:51.992Z"
   },
   {
    "duration": 72,
    "start_time": "2023-09-15T16:03:52.118Z"
   },
   {
    "duration": 123,
    "start_time": "2023-09-15T16:03:52.195Z"
   },
   {
    "duration": 46,
    "start_time": "2023-09-15T16:03:52.320Z"
   },
   {
    "duration": 85,
    "start_time": "2023-09-15T16:03:52.368Z"
   },
   {
    "duration": 1172,
    "start_time": "2023-09-15T16:03:52.455Z"
   },
   {
    "duration": 118,
    "start_time": "2023-09-15T16:03:53.628Z"
   },
   {
    "duration": 154,
    "start_time": "2023-09-15T16:03:53.749Z"
   },
   {
    "duration": 22,
    "start_time": "2023-09-15T16:03:53.906Z"
   },
   {
    "duration": 491,
    "start_time": "2023-09-15T16:03:53.945Z"
   },
   {
    "duration": 31,
    "start_time": "2023-09-15T16:03:54.438Z"
   },
   {
    "duration": 20,
    "start_time": "2023-09-15T16:03:54.472Z"
   },
   {
    "duration": 3,
    "start_time": "2023-09-15T16:03:54.549Z"
   },
   {
    "duration": 390,
    "start_time": "2023-09-15T16:03:54.554Z"
   },
   {
    "duration": 126,
    "start_time": "2023-09-15T16:03:54.946Z"
   },
   {
    "duration": 200,
    "start_time": "2023-09-15T16:03:55.075Z"
   },
   {
    "duration": 98,
    "start_time": "2023-09-15T16:03:55.276Z"
   },
   {
    "duration": 1006,
    "start_time": "2023-09-15T16:03:55.376Z"
   },
   {
    "duration": 1291,
    "start_time": "2023-09-15T16:03:56.384Z"
   },
   {
    "duration": 277,
    "start_time": "2023-09-15T16:03:57.677Z"
   },
   {
    "duration": 687,
    "start_time": "2023-09-15T16:03:57.956Z"
   },
   {
    "duration": 164,
    "start_time": "2023-09-15T16:03:58.645Z"
   },
   {
    "duration": 134,
    "start_time": "2023-09-15T16:03:58.811Z"
   },
   {
    "duration": 1344,
    "start_time": "2023-09-15T16:03:58.946Z"
   },
   {
    "duration": 21,
    "start_time": "2023-09-15T16:07:16.656Z"
   },
   {
    "duration": 944,
    "start_time": "2023-09-15T16:07:18.057Z"
   },
   {
    "duration": 104,
    "start_time": "2023-09-15T16:07:39.377Z"
   },
   {
    "duration": 19,
    "start_time": "2023-09-15T16:09:24.587Z"
   },
   {
    "duration": 1326,
    "start_time": "2023-09-15T16:09:26.285Z"
   },
   {
    "duration": 13,
    "start_time": "2023-09-15T16:09:38.015Z"
   },
   {
    "duration": 768,
    "start_time": "2023-09-15T16:09:38.606Z"
   },
   {
    "duration": 16,
    "start_time": "2023-09-15T16:09:42.827Z"
   },
   {
    "duration": 954,
    "start_time": "2023-09-15T16:09:43.468Z"
   },
   {
    "duration": 12,
    "start_time": "2023-09-15T16:09:52.786Z"
   },
   {
    "duration": 933,
    "start_time": "2023-09-15T16:09:54.666Z"
   },
   {
    "duration": 16,
    "start_time": "2023-09-15T16:10:00.116Z"
   },
   {
    "duration": 891,
    "start_time": "2023-09-15T16:10:00.926Z"
   },
   {
    "duration": 82,
    "start_time": "2023-09-15T16:10:09.316Z"
   },
   {
    "duration": 109,
    "start_time": "2023-09-15T16:12:36.977Z"
   },
   {
    "duration": 55,
    "start_time": "2023-09-15T16:16:19.886Z"
   },
   {
    "duration": 56,
    "start_time": "2023-09-15T16:16:28.245Z"
   },
   {
    "duration": 14,
    "start_time": "2023-09-15T16:16:55.334Z"
   },
   {
    "duration": 327,
    "start_time": "2023-09-15T16:16:56.695Z"
   },
   {
    "duration": 42,
    "start_time": "2023-09-15T16:17:07.638Z"
   },
   {
    "duration": 1827,
    "start_time": "2023-09-18T16:15:14.346Z"
   },
   {
    "duration": 170,
    "start_time": "2023-09-18T16:15:16.175Z"
   },
   {
    "duration": 20,
    "start_time": "2023-09-18T16:15:16.347Z"
   },
   {
    "duration": 65,
    "start_time": "2023-09-18T16:15:16.369Z"
   },
   {
    "duration": 52,
    "start_time": "2023-09-18T16:15:16.436Z"
   },
   {
    "duration": 11,
    "start_time": "2023-09-18T16:15:16.490Z"
   },
   {
    "duration": 31,
    "start_time": "2023-09-18T16:15:16.503Z"
   },
   {
    "duration": 5,
    "start_time": "2023-09-18T16:15:16.536Z"
   },
   {
    "duration": 7,
    "start_time": "2023-09-18T16:15:16.556Z"
   },
   {
    "duration": 33,
    "start_time": "2023-09-18T16:15:16.566Z"
   },
   {
    "duration": 14,
    "start_time": "2023-09-18T16:15:16.601Z"
   },
   {
    "duration": 6,
    "start_time": "2023-09-18T16:15:16.617Z"
   },
   {
    "duration": 13,
    "start_time": "2023-09-18T16:15:16.624Z"
   },
   {
    "duration": 35,
    "start_time": "2023-09-18T16:15:16.639Z"
   },
   {
    "duration": 20,
    "start_time": "2023-09-18T16:15:16.676Z"
   },
   {
    "duration": 35,
    "start_time": "2023-09-18T16:15:16.699Z"
   },
   {
    "duration": 6,
    "start_time": "2023-09-18T16:15:16.736Z"
   },
   {
    "duration": 15,
    "start_time": "2023-09-18T16:15:16.744Z"
   },
   {
    "duration": 14,
    "start_time": "2023-09-18T16:15:16.761Z"
   },
   {
    "duration": 17272,
    "start_time": "2023-09-18T16:15:16.777Z"
   },
   {
    "duration": 102,
    "start_time": "2023-09-18T16:15:34.058Z"
   },
   {
    "duration": 458,
    "start_time": "2023-09-18T16:15:34.162Z"
   },
   {
    "duration": 7,
    "start_time": "2023-09-18T16:15:34.623Z"
   },
   {
    "duration": 25,
    "start_time": "2023-09-18T16:15:34.632Z"
   },
   {
    "duration": 27,
    "start_time": "2023-09-18T16:15:34.659Z"
   },
   {
    "duration": 154,
    "start_time": "2023-09-18T16:15:34.687Z"
   },
   {
    "duration": 69,
    "start_time": "2023-09-18T16:15:34.843Z"
   },
   {
    "duration": 140,
    "start_time": "2023-09-18T16:15:34.916Z"
   },
   {
    "duration": 102,
    "start_time": "2023-09-18T16:15:35.058Z"
   },
   {
    "duration": 101,
    "start_time": "2023-09-18T16:15:35.164Z"
   },
   {
    "duration": 1022,
    "start_time": "2023-09-18T16:15:35.267Z"
   },
   {
    "duration": 67,
    "start_time": "2023-09-18T16:15:36.291Z"
   },
   {
    "duration": 143,
    "start_time": "2023-09-18T16:15:36.361Z"
   },
   {
    "duration": 16,
    "start_time": "2023-09-18T16:15:36.506Z"
   },
   {
    "duration": 377,
    "start_time": "2023-09-18T16:15:36.525Z"
   },
   {
    "duration": 20,
    "start_time": "2023-09-18T16:15:36.904Z"
   },
   {
    "duration": 44,
    "start_time": "2023-09-18T16:15:36.925Z"
   },
   {
    "duration": 90,
    "start_time": "2023-09-18T16:15:36.971Z"
   },
   {
    "duration": 315,
    "start_time": "2023-09-18T16:15:37.064Z"
   },
   {
    "duration": 145,
    "start_time": "2023-09-18T16:15:37.381Z"
   },
   {
    "duration": 200,
    "start_time": "2023-09-18T16:15:37.529Z"
   },
   {
    "duration": 56,
    "start_time": "2023-09-18T16:15:37.732Z"
   },
   {
    "duration": 1147,
    "start_time": "2023-09-18T16:15:37.790Z"
   },
   {
    "duration": 1517,
    "start_time": "2023-09-18T16:15:38.940Z"
   },
   {
    "duration": 285,
    "start_time": "2023-09-18T16:15:40.460Z"
   },
   {
    "duration": 754,
    "start_time": "2023-09-18T16:15:40.756Z"
   },
   {
    "duration": 199,
    "start_time": "2023-09-18T16:15:41.512Z"
   },
   {
    "duration": 152,
    "start_time": "2023-09-18T16:15:41.713Z"
   },
   {
    "duration": 1456,
    "start_time": "2023-09-18T16:15:41.867Z"
   },
   {
    "duration": 166,
    "start_time": "2023-09-18T16:16:46.533Z"
   },
   {
    "duration": 405,
    "start_time": "2023-09-18T16:17:52.172Z"
   },
   {
    "duration": 20,
    "start_time": "2023-09-18T16:19:19.618Z"
   },
   {
    "duration": 1116,
    "start_time": "2023-09-18T16:19:21.559Z"
   },
   {
    "duration": 101,
    "start_time": "2023-09-18T16:19:25.565Z"
   },
   {
    "duration": 53,
    "start_time": "2023-09-18T16:19:26.659Z"
   },
   {
    "duration": 21,
    "start_time": "2023-09-18T16:19:30.184Z"
   },
   {
    "duration": 392,
    "start_time": "2023-09-18T16:19:31.765Z"
   },
   {
    "duration": 28,
    "start_time": "2023-09-18T16:19:32.848Z"
   },
   {
    "duration": 20,
    "start_time": "2023-09-18T16:19:45.677Z"
   },
   {
    "duration": 561,
    "start_time": "2023-09-18T16:19:46.924Z"
   },
   {
    "duration": 43,
    "start_time": "2023-09-18T16:19:49.936Z"
   },
   {
    "duration": 106,
    "start_time": "2023-09-18T16:19:51.254Z"
   },
   {
    "duration": 4,
    "start_time": "2023-09-18T16:19:53.227Z"
   },
   {
    "duration": 284,
    "start_time": "2023-09-18T16:19:54.292Z"
   },
   {
    "duration": 138,
    "start_time": "2023-09-18T16:19:55.437Z"
   },
   {
    "duration": 194,
    "start_time": "2023-09-18T16:19:57.095Z"
   },
   {
    "duration": 187,
    "start_time": "2023-09-18T16:20:00.316Z"
   },
   {
    "duration": 336,
    "start_time": "2023-09-18T16:20:09.583Z"
   },
   {
    "duration": 65,
    "start_time": "2023-09-18T16:21:23.301Z"
   },
   {
    "duration": 66,
    "start_time": "2023-09-18T16:22:29.847Z"
   },
   {
    "duration": 90,
    "start_time": "2023-09-18T16:22:38.574Z"
   },
   {
    "duration": 69,
    "start_time": "2023-09-18T16:22:48.065Z"
   },
   {
    "duration": 354,
    "start_time": "2023-09-18T16:23:03.332Z"
   },
   {
    "duration": 17,
    "start_time": "2023-09-18T16:28:23.908Z"
   },
   {
    "duration": 1056,
    "start_time": "2023-09-18T16:28:24.642Z"
   },
   {
    "duration": 55,
    "start_time": "2023-09-18T16:28:27.207Z"
   },
   {
    "duration": 59,
    "start_time": "2023-09-18T16:28:28.982Z"
   },
   {
    "duration": 14,
    "start_time": "2023-09-18T16:28:37.346Z"
   },
   {
    "duration": 584,
    "start_time": "2023-09-18T16:28:39.087Z"
   },
   {
    "duration": 13,
    "start_time": "2023-09-18T16:28:47.621Z"
   },
   {
    "duration": 428,
    "start_time": "2023-09-18T16:28:48.731Z"
   },
   {
    "duration": 15,
    "start_time": "2023-09-18T16:28:53.968Z"
   },
   {
    "duration": 534,
    "start_time": "2023-09-18T16:28:55.076Z"
   },
   {
    "duration": 69,
    "start_time": "2023-09-18T16:29:03.838Z"
   },
   {
    "duration": 290,
    "start_time": "2023-09-18T16:29:06.869Z"
   },
   {
    "duration": 146,
    "start_time": "2023-09-18T16:29:19.030Z"
   },
   {
    "duration": 145,
    "start_time": "2023-09-18T16:29:26.452Z"
   },
   {
    "duration": 387,
    "start_time": "2023-09-18T16:29:28.879Z"
   },
   {
    "duration": 374,
    "start_time": "2023-09-18T16:29:54.878Z"
   },
   {
    "duration": 48,
    "start_time": "2023-09-18T16:30:02.266Z"
   },
   {
    "duration": 8,
    "start_time": "2023-09-18T16:30:17.942Z"
   },
   {
    "duration": 57,
    "start_time": "2023-09-18T16:30:17.953Z"
   },
   {
    "duration": 16,
    "start_time": "2023-09-18T16:30:18.013Z"
   },
   {
    "duration": 16,
    "start_time": "2023-09-18T16:30:18.031Z"
   },
   {
    "duration": 61,
    "start_time": "2023-09-18T16:30:18.060Z"
   },
   {
    "duration": 12,
    "start_time": "2023-09-18T16:30:18.123Z"
   },
   {
    "duration": 38,
    "start_time": "2023-09-18T16:30:18.137Z"
   },
   {
    "duration": 5,
    "start_time": "2023-09-18T16:30:18.178Z"
   },
   {
    "duration": 10,
    "start_time": "2023-09-18T16:30:18.185Z"
   },
   {
    "duration": 22,
    "start_time": "2023-09-18T16:30:18.198Z"
   },
   {
    "duration": 38,
    "start_time": "2023-09-18T16:30:18.222Z"
   },
   {
    "duration": 8,
    "start_time": "2023-09-18T16:30:18.261Z"
   },
   {
    "duration": 13,
    "start_time": "2023-09-18T16:30:18.271Z"
   },
   {
    "duration": 15,
    "start_time": "2023-09-18T16:30:18.287Z"
   },
   {
    "duration": 10,
    "start_time": "2023-09-18T16:30:18.304Z"
   },
   {
    "duration": 50,
    "start_time": "2023-09-18T16:30:18.316Z"
   },
   {
    "duration": 6,
    "start_time": "2023-09-18T16:30:18.368Z"
   },
   {
    "duration": 35,
    "start_time": "2023-09-18T16:30:18.376Z"
   },
   {
    "duration": 17,
    "start_time": "2023-09-18T16:30:18.413Z"
   },
   {
    "duration": 18230,
    "start_time": "2023-09-18T16:30:18.432Z"
   },
   {
    "duration": 100,
    "start_time": "2023-09-18T16:30:36.665Z"
   },
   {
    "duration": 575,
    "start_time": "2023-09-18T16:30:36.767Z"
   },
   {
    "duration": 19,
    "start_time": "2023-09-18T16:30:37.344Z"
   },
   {
    "duration": 15,
    "start_time": "2023-09-18T16:30:37.365Z"
   },
   {
    "duration": 38,
    "start_time": "2023-09-18T16:30:37.382Z"
   },
   {
    "duration": 142,
    "start_time": "2023-09-18T16:30:37.423Z"
   },
   {
    "duration": 89,
    "start_time": "2023-09-18T16:30:37.567Z"
   },
   {
    "duration": 166,
    "start_time": "2023-09-18T16:30:37.659Z"
   },
   {
    "duration": 45,
    "start_time": "2023-09-18T16:30:37.828Z"
   },
   {
    "duration": 181,
    "start_time": "2023-09-18T16:30:37.876Z"
   },
   {
    "duration": 1114,
    "start_time": "2023-09-18T16:30:38.059Z"
   },
   {
    "duration": 84,
    "start_time": "2023-09-18T16:30:39.175Z"
   },
   {
    "duration": 154,
    "start_time": "2023-09-18T16:30:39.262Z"
   },
   {
    "duration": 12,
    "start_time": "2023-09-18T16:30:39.419Z"
   },
   {
    "duration": 572,
    "start_time": "2023-09-18T16:30:39.433Z"
   },
   {
    "duration": 48,
    "start_time": "2023-09-18T16:30:40.007Z"
   },
   {
    "duration": 100,
    "start_time": "2023-09-18T16:30:40.058Z"
   },
   {
    "duration": 5,
    "start_time": "2023-09-18T16:30:40.159Z"
   },
   {
    "duration": 394,
    "start_time": "2023-09-18T16:30:40.168Z"
   },
   {
    "duration": 269,
    "start_time": "2023-09-18T16:30:40.565Z"
   },
   {
    "duration": 209,
    "start_time": "2023-09-18T16:30:40.840Z"
   },
   {
    "duration": 63,
    "start_time": "2023-09-18T16:30:46.223Z"
   },
   {
    "duration": 141,
    "start_time": "2023-09-18T16:30:52.102Z"
   },
   {
    "duration": 81,
    "start_time": "2023-09-18T16:31:49.755Z"
   },
   {
    "duration": 54,
    "start_time": "2023-09-18T16:32:06.198Z"
   },
   {
    "duration": 44,
    "start_time": "2023-09-18T16:32:18.245Z"
   },
   {
    "duration": 45,
    "start_time": "2023-09-18T16:32:26.471Z"
   },
   {
    "duration": 139,
    "start_time": "2023-09-18T16:32:28.025Z"
   },
   {
    "duration": 33,
    "start_time": "2023-09-18T16:34:29.324Z"
   },
   {
    "duration": 69,
    "start_time": "2023-09-18T16:35:05.005Z"
   },
   {
    "duration": 122,
    "start_time": "2023-09-18T16:35:06.197Z"
   },
   {
    "duration": 28,
    "start_time": "2023-09-18T16:35:40.234Z"
   },
   {
    "duration": 1033,
    "start_time": "2023-09-18T16:35:41.119Z"
   },
   {
    "duration": 15,
    "start_time": "2023-09-18T16:36:01.833Z"
   },
   {
    "duration": 552,
    "start_time": "2023-09-18T16:36:02.321Z"
   },
   {
    "duration": 14,
    "start_time": "2023-09-18T16:36:08.202Z"
   },
   {
    "duration": 363,
    "start_time": "2023-09-18T16:36:10.610Z"
   },
   {
    "duration": 17,
    "start_time": "2023-09-18T16:36:18.065Z"
   },
   {
    "duration": 640,
    "start_time": "2023-09-18T16:36:18.697Z"
   },
   {
    "duration": 15,
    "start_time": "2023-09-18T16:36:25.823Z"
   },
   {
    "duration": 523,
    "start_time": "2023-09-18T16:36:26.514Z"
   },
   {
    "duration": 14,
    "start_time": "2023-09-18T16:36:35.180Z"
   },
   {
    "duration": 595,
    "start_time": "2023-09-18T16:36:35.777Z"
   },
   {
    "duration": 50,
    "start_time": "2023-09-18T16:36:48.813Z"
   },
   {
    "duration": 136,
    "start_time": "2023-09-18T16:36:50.429Z"
   },
   {
    "duration": 217,
    "start_time": "2023-09-18T16:37:15.698Z"
   },
   {
    "duration": 101,
    "start_time": "2023-09-18T16:39:38.558Z"
   },
   {
    "duration": 14,
    "start_time": "2023-09-18T16:39:44.192Z"
   },
   {
    "duration": 109,
    "start_time": "2023-09-18T16:39:44.734Z"
   },
   {
    "duration": 14,
    "start_time": "2023-09-18T16:39:48.259Z"
   },
   {
    "duration": 144,
    "start_time": "2023-09-18T16:39:49.135Z"
   },
   {
    "duration": 98,
    "start_time": "2023-09-18T16:40:15.619Z"
   },
   {
    "duration": 15,
    "start_time": "2023-09-18T16:40:19.978Z"
   },
   {
    "duration": 90,
    "start_time": "2023-09-18T16:40:20.509Z"
   },
   {
    "duration": 13,
    "start_time": "2023-09-18T16:40:24.882Z"
   },
   {
    "duration": 96,
    "start_time": "2023-09-18T16:40:25.332Z"
   },
   {
    "duration": 17,
    "start_time": "2023-09-18T16:40:29.482Z"
   },
   {
    "duration": 128,
    "start_time": "2023-09-18T16:40:30.257Z"
   },
   {
    "duration": 19,
    "start_time": "2023-09-18T16:40:33.646Z"
   },
   {
    "duration": 106,
    "start_time": "2023-09-18T16:40:34.206Z"
   },
   {
    "duration": 14,
    "start_time": "2023-09-18T16:40:37.208Z"
   },
   {
    "duration": 217,
    "start_time": "2023-09-18T16:40:37.840Z"
   },
   {
    "duration": 14,
    "start_time": "2023-09-18T16:40:40.732Z"
   },
   {
    "duration": 98,
    "start_time": "2023-09-18T16:40:41.074Z"
   },
   {
    "duration": 19,
    "start_time": "2023-09-18T16:40:45.321Z"
   },
   {
    "duration": 102,
    "start_time": "2023-09-18T16:40:45.741Z"
   },
   {
    "duration": 44,
    "start_time": "2023-09-18T16:40:57.513Z"
   },
   {
    "duration": 273,
    "start_time": "2023-09-18T16:40:58.964Z"
   },
   {
    "duration": 106,
    "start_time": "2023-09-18T16:41:08.165Z"
   },
   {
    "duration": 107,
    "start_time": "2023-09-18T16:41:51.985Z"
   },
   {
    "duration": 38,
    "start_time": "2023-09-18T16:42:04.850Z"
   },
   {
    "duration": 35,
    "start_time": "2023-09-18T16:44:59.286Z"
   },
   {
    "duration": 14,
    "start_time": "2023-09-18T16:45:14.088Z"
   },
   {
    "duration": 103,
    "start_time": "2023-09-18T16:45:14.579Z"
   },
   {
    "duration": 15,
    "start_time": "2023-09-18T16:45:18.124Z"
   },
   {
    "duration": 104,
    "start_time": "2023-09-18T16:45:18.644Z"
   },
   {
    "duration": 1250,
    "start_time": "2023-09-18T16:45:26.522Z"
   },
   {
    "duration": 63,
    "start_time": "2023-09-18T16:45:32.992Z"
   },
   {
    "duration": 67,
    "start_time": "2023-09-18T16:45:34.833Z"
   },
   {
    "duration": 17,
    "start_time": "2023-09-18T16:45:38.947Z"
   },
   {
    "duration": 103,
    "start_time": "2023-09-18T16:45:40.072Z"
   },
   {
    "duration": 509,
    "start_time": "2023-09-18T16:45:44.079Z"
   },
   {
    "duration": 135,
    "start_time": "2023-09-18T16:46:04.163Z"
   },
   {
    "duration": 70,
    "start_time": "2023-09-18T16:46:30.345Z"
   },
   {
    "duration": 118,
    "start_time": "2023-09-18T16:46:37.169Z"
   },
   {
    "duration": 44,
    "start_time": "2023-09-18T16:46:39.572Z"
   },
   {
    "duration": 43,
    "start_time": "2023-09-18T16:46:51.536Z"
   },
   {
    "duration": 27,
    "start_time": "2023-09-18T16:46:54.683Z"
   },
   {
    "duration": 183,
    "start_time": "2023-09-18T16:47:04.209Z"
   },
   {
    "duration": 41559,
    "start_time": "2023-09-18T16:47:22.782Z"
   },
   {
    "duration": 18431,
    "start_time": "2023-09-18T16:48:15.165Z"
   },
   {
    "duration": 15388,
    "start_time": "2023-09-18T16:48:36.832Z"
   },
   {
    "duration": 21905,
    "start_time": "2023-09-18T16:48:57.957Z"
   },
   {
    "duration": 29374,
    "start_time": "2023-09-18T16:49:27.470Z"
   },
   {
    "duration": 190,
    "start_time": "2023-09-18T16:51:03.826Z"
   },
   {
    "duration": 132,
    "start_time": "2023-09-18T16:51:06.403Z"
   },
   {
    "duration": 70,
    "start_time": "2023-09-18T16:51:15.106Z"
   },
   {
    "duration": 125,
    "start_time": "2023-09-18T16:51:17.272Z"
   },
   {
    "duration": 194,
    "start_time": "2023-09-18T16:51:31.751Z"
   },
   {
    "duration": 14,
    "start_time": "2023-09-18T16:51:43.229Z"
   },
   {
    "duration": 124,
    "start_time": "2023-09-18T16:51:44.099Z"
   },
   {
    "duration": 1188,
    "start_time": "2023-09-18T16:51:45.979Z"
   },
   {
    "duration": 172,
    "start_time": "2023-09-18T16:52:11.199Z"
   },
   {
    "duration": 267,
    "start_time": "2023-09-18T16:52:25.727Z"
   },
   {
    "duration": 1611,
    "start_time": "2023-09-18T16:52:35.370Z"
   },
   {
    "duration": 47,
    "start_time": "2023-09-18T16:52:36.986Z"
   },
   {
    "duration": 35,
    "start_time": "2023-09-18T16:52:37.035Z"
   },
   {
    "duration": 18,
    "start_time": "2023-09-18T16:52:37.075Z"
   },
   {
    "duration": 55,
    "start_time": "2023-09-18T16:52:37.095Z"
   },
   {
    "duration": 22,
    "start_time": "2023-09-18T16:52:37.152Z"
   },
   {
    "duration": 20,
    "start_time": "2023-09-18T16:52:37.177Z"
   },
   {
    "duration": 4,
    "start_time": "2023-09-18T16:52:37.198Z"
   },
   {
    "duration": 7,
    "start_time": "2023-09-18T16:52:37.204Z"
   },
   {
    "duration": 22,
    "start_time": "2023-09-18T16:52:37.214Z"
   },
   {
    "duration": 27,
    "start_time": "2023-09-18T16:52:37.238Z"
   },
   {
    "duration": 7,
    "start_time": "2023-09-18T16:52:37.267Z"
   },
   {
    "duration": 19,
    "start_time": "2023-09-18T16:52:37.276Z"
   },
   {
    "duration": 23,
    "start_time": "2023-09-18T16:52:37.297Z"
   },
   {
    "duration": 11,
    "start_time": "2023-09-18T16:52:37.322Z"
   },
   {
    "duration": 46,
    "start_time": "2023-09-18T16:52:37.335Z"
   },
   {
    "duration": 7,
    "start_time": "2023-09-18T16:52:37.384Z"
   },
   {
    "duration": 17,
    "start_time": "2023-09-18T16:52:37.393Z"
   },
   {
    "duration": 13,
    "start_time": "2023-09-18T16:52:37.412Z"
   },
   {
    "duration": 27620,
    "start_time": "2023-09-18T16:52:37.427Z"
   },
   {
    "duration": 105,
    "start_time": "2023-09-18T16:53:05.059Z"
   },
   {
    "duration": 530,
    "start_time": "2023-09-18T16:53:05.167Z"
   },
   {
    "duration": 6,
    "start_time": "2023-09-18T16:53:05.699Z"
   },
   {
    "duration": 18,
    "start_time": "2023-09-18T16:53:05.707Z"
   },
   {
    "duration": 46,
    "start_time": "2023-09-18T16:53:05.727Z"
   },
   {
    "duration": 134,
    "start_time": "2023-09-18T16:53:05.776Z"
   },
   {
    "duration": 197,
    "start_time": "2023-09-18T16:53:05.912Z"
   },
   {
    "duration": 223,
    "start_time": "2023-09-18T16:53:06.112Z"
   },
   {
    "duration": 51,
    "start_time": "2023-09-18T16:53:06.336Z"
   },
   {
    "duration": 96,
    "start_time": "2023-09-18T16:53:06.467Z"
   },
   {
    "duration": 113,
    "start_time": "2023-09-18T16:53:06.565Z"
   },
   {
    "duration": 1147,
    "start_time": "2023-09-18T16:53:06.680Z"
   },
   {
    "duration": 60,
    "start_time": "2023-09-18T16:53:07.829Z"
   },
   {
    "duration": 207,
    "start_time": "2023-09-18T16:53:07.892Z"
   },
   {
    "duration": 13,
    "start_time": "2023-09-18T16:53:08.101Z"
   },
   {
    "duration": 129,
    "start_time": "2023-09-18T16:53:08.116Z"
   },
   {
    "duration": 469,
    "start_time": "2023-09-18T16:53:08.247Z"
   },
   {
    "duration": 25,
    "start_time": "2023-09-18T16:53:08.718Z"
   },
   {
    "duration": 51,
    "start_time": "2023-09-18T16:53:08.756Z"
   },
   {
    "duration": 7,
    "start_time": "2023-09-18T16:53:08.860Z"
   },
   {
    "duration": 431,
    "start_time": "2023-09-18T16:53:08.871Z"
   },
   {
    "duration": 144,
    "start_time": "2023-09-18T16:53:09.304Z"
   },
   {
    "duration": 198,
    "start_time": "2023-09-18T16:53:09.456Z"
   },
   {
    "duration": 285,
    "start_time": "2023-09-18T16:53:09.656Z"
   },
   {
    "duration": 62,
    "start_time": "2023-09-18T16:53:09.943Z"
   },
   {
    "duration": 1168,
    "start_time": "2023-09-18T16:53:10.008Z"
   },
   {
    "duration": 1494,
    "start_time": "2023-09-18T16:53:11.178Z"
   },
   {
    "duration": 274,
    "start_time": "2023-09-18T16:53:12.674Z"
   },
   {
    "duration": 791,
    "start_time": "2023-09-18T16:53:12.956Z"
   },
   {
    "duration": 183,
    "start_time": "2023-09-18T16:53:13.759Z"
   },
   {
    "duration": 153,
    "start_time": "2023-09-18T16:53:13.955Z"
   },
   {
    "duration": 1515,
    "start_time": "2023-09-18T16:53:14.110Z"
   },
   {
    "duration": 17972,
    "start_time": "2023-09-18T16:54:04.949Z"
   },
   {
    "duration": 93,
    "start_time": "2023-09-18T16:54:38.808Z"
   },
   {
    "duration": 132,
    "start_time": "2023-09-18T16:55:25.110Z"
   },
   {
    "duration": 53,
    "start_time": "2023-09-18T16:55:50.480Z"
   },
   {
    "duration": 135,
    "start_time": "2023-09-18T16:56:04.974Z"
   },
   {
    "duration": 39,
    "start_time": "2023-09-18T16:56:17.837Z"
   },
   {
    "duration": 162,
    "start_time": "2023-09-18T16:56:30.015Z"
   },
   {
    "duration": 143,
    "start_time": "2023-09-18T16:56:35.854Z"
   },
   {
    "duration": 162,
    "start_time": "2023-09-18T16:57:12.511Z"
   },
   {
    "duration": 141,
    "start_time": "2023-09-18T16:58:33.976Z"
   },
   {
    "duration": 17,
    "start_time": "2023-09-18T16:59:09.542Z"
   },
   {
    "duration": 114,
    "start_time": "2023-09-18T16:59:10.229Z"
   },
   {
    "duration": 14,
    "start_time": "2023-09-18T16:59:17.528Z"
   },
   {
    "duration": 116,
    "start_time": "2023-09-18T16:59:17.968Z"
   },
   {
    "duration": 18,
    "start_time": "2023-09-18T16:59:20.945Z"
   },
   {
    "duration": 97,
    "start_time": "2023-09-18T16:59:21.439Z"
   },
   {
    "duration": 100,
    "start_time": "2023-09-18T16:59:27.308Z"
   },
   {
    "duration": 1631,
    "start_time": "2023-09-18T16:59:43.149Z"
   },
   {
    "duration": 47,
    "start_time": "2023-09-18T16:59:44.782Z"
   },
   {
    "duration": 22,
    "start_time": "2023-09-18T16:59:44.831Z"
   },
   {
    "duration": 23,
    "start_time": "2023-09-18T16:59:44.855Z"
   },
   {
    "duration": 44,
    "start_time": "2023-09-18T16:59:44.880Z"
   },
   {
    "duration": 12,
    "start_time": "2023-09-18T16:59:44.926Z"
   },
   {
    "duration": 28,
    "start_time": "2023-09-18T16:59:44.958Z"
   },
   {
    "duration": 4,
    "start_time": "2023-09-18T16:59:44.988Z"
   },
   {
    "duration": 79,
    "start_time": "2023-09-18T16:59:44.994Z"
   },
   {
    "duration": 46,
    "start_time": "2023-09-18T16:59:45.075Z"
   },
   {
    "duration": 50,
    "start_time": "2023-09-18T16:59:45.123Z"
   },
   {
    "duration": 13,
    "start_time": "2023-09-18T16:59:45.177Z"
   },
   {
    "duration": 19,
    "start_time": "2023-09-18T16:59:45.192Z"
   },
   {
    "duration": 16,
    "start_time": "2023-09-18T16:59:45.214Z"
   },
   {
    "duration": 15,
    "start_time": "2023-09-18T16:59:45.232Z"
   },
   {
    "duration": 29,
    "start_time": "2023-09-18T16:59:45.249Z"
   },
   {
    "duration": 7,
    "start_time": "2023-09-18T16:59:45.279Z"
   },
   {
    "duration": 17,
    "start_time": "2023-09-18T16:59:45.288Z"
   },
   {
    "duration": 5,
    "start_time": "2023-09-18T16:59:45.307Z"
   },
   {
    "duration": 19010,
    "start_time": "2023-09-18T16:59:45.314Z"
   },
   {
    "duration": 146,
    "start_time": "2023-09-18T17:00:04.327Z"
   },
   {
    "duration": 465,
    "start_time": "2023-09-18T17:00:04.477Z"
   },
   {
    "duration": 28,
    "start_time": "2023-09-18T17:00:04.943Z"
   },
   {
    "duration": 20,
    "start_time": "2023-09-18T17:00:04.976Z"
   },
   {
    "duration": 46,
    "start_time": "2023-09-18T17:00:04.998Z"
   },
   {
    "duration": 177,
    "start_time": "2023-09-18T17:00:05.046Z"
   },
   {
    "duration": 82,
    "start_time": "2023-09-18T17:00:05.225Z"
   },
   {
    "duration": 141,
    "start_time": "2023-09-18T17:00:05.309Z"
   },
   {
    "duration": 117,
    "start_time": "2023-09-18T17:00:05.452Z"
   },
   {
    "duration": 94,
    "start_time": "2023-09-18T17:00:05.571Z"
   },
   {
    "duration": 257,
    "start_time": "2023-09-18T17:00:05.672Z"
   },
   {
    "duration": 106,
    "start_time": "2023-09-18T17:00:05.931Z"
   },
   {
    "duration": 123,
    "start_time": "2023-09-18T17:00:06.040Z"
   },
   {
    "duration": 130,
    "start_time": "2023-09-18T17:00:06.166Z"
   },
   {
    "duration": 15,
    "start_time": "2023-09-18T17:00:06.298Z"
   },
   {
    "duration": 162,
    "start_time": "2023-09-18T17:00:06.315Z"
   },
   {
    "duration": 54,
    "start_time": "2023-09-18T17:00:06.479Z"
   },
   {
    "duration": 42,
    "start_time": "2023-09-18T17:00:06.535Z"
   },
   {
    "duration": 82,
    "start_time": "2023-09-18T17:00:06.579Z"
   },
   {
    "duration": 5,
    "start_time": "2023-09-18T17:00:06.666Z"
   },
   {
    "duration": 414,
    "start_time": "2023-09-18T17:00:06.676Z"
   },
   {
    "duration": 140,
    "start_time": "2023-09-18T17:00:07.093Z"
   },
   {
    "duration": 162,
    "start_time": "2023-09-18T17:00:07.236Z"
   },
   {
    "duration": 129,
    "start_time": "2023-09-18T17:00:07.400Z"
   },
   {
    "duration": 1228,
    "start_time": "2023-09-18T17:00:07.533Z"
   },
   {
    "duration": 1586,
    "start_time": "2023-09-18T17:00:08.763Z"
   },
   {
    "duration": 317,
    "start_time": "2023-09-18T17:00:10.361Z"
   },
   {
    "duration": 806,
    "start_time": "2023-09-18T17:00:10.680Z"
   },
   {
    "duration": 249,
    "start_time": "2023-09-18T17:00:11.489Z"
   },
   {
    "duration": 187,
    "start_time": "2023-09-18T17:00:11.740Z"
   },
   {
    "duration": 1654,
    "start_time": "2023-09-18T17:00:11.929Z"
   },
   {
    "duration": 133,
    "start_time": "2023-09-18T17:01:20.442Z"
   },
   {
    "duration": 455,
    "start_time": "2023-09-18T17:01:39.385Z"
   },
   {
    "duration": 138,
    "start_time": "2023-09-18T17:02:12.542Z"
   },
   {
    "duration": 142,
    "start_time": "2023-09-18T17:02:31.130Z"
   },
   {
    "duration": 152,
    "start_time": "2023-09-18T17:02:53.289Z"
   },
   {
    "duration": 126,
    "start_time": "2023-09-18T17:03:08.670Z"
   },
   {
    "duration": 123,
    "start_time": "2023-09-18T17:03:18.518Z"
   },
   {
    "duration": 130,
    "start_time": "2023-09-18T17:03:43.434Z"
   },
   {
    "duration": 97,
    "start_time": "2023-09-18T17:03:52.570Z"
   },
   {
    "duration": 64,
    "start_time": "2023-09-18T17:03:54.422Z"
   },
   {
    "duration": 1544,
    "start_time": "2023-09-18T17:04:03.600Z"
   },
   {
    "duration": 57,
    "start_time": "2023-09-18T17:04:05.147Z"
   },
   {
    "duration": 38,
    "start_time": "2023-09-18T17:04:05.205Z"
   },
   {
    "duration": 17,
    "start_time": "2023-09-18T17:04:05.244Z"
   },
   {
    "duration": 49,
    "start_time": "2023-09-18T17:04:05.265Z"
   },
   {
    "duration": 13,
    "start_time": "2023-09-18T17:04:05.315Z"
   },
   {
    "duration": 54,
    "start_time": "2023-09-18T17:04:05.329Z"
   },
   {
    "duration": 4,
    "start_time": "2023-09-18T17:04:05.385Z"
   },
   {
    "duration": 13,
    "start_time": "2023-09-18T17:04:05.391Z"
   },
   {
    "duration": 37,
    "start_time": "2023-09-18T17:04:05.406Z"
   },
   {
    "duration": 26,
    "start_time": "2023-09-18T17:04:05.444Z"
   },
   {
    "duration": 21,
    "start_time": "2023-09-18T17:04:05.472Z"
   },
   {
    "duration": 21,
    "start_time": "2023-09-18T17:04:05.495Z"
   },
   {
    "duration": 16,
    "start_time": "2023-09-18T17:04:05.519Z"
   },
   {
    "duration": 52,
    "start_time": "2023-09-18T17:04:05.537Z"
   },
   {
    "duration": 43,
    "start_time": "2023-09-18T17:04:05.591Z"
   },
   {
    "duration": 13,
    "start_time": "2023-09-18T17:04:05.635Z"
   },
   {
    "duration": 50,
    "start_time": "2023-09-18T17:04:05.650Z"
   },
   {
    "duration": 45,
    "start_time": "2023-09-18T17:04:05.702Z"
   },
   {
    "duration": 18177,
    "start_time": "2023-09-18T17:04:05.749Z"
   },
   {
    "duration": 157,
    "start_time": "2023-09-18T17:04:23.928Z"
   },
   {
    "duration": 479,
    "start_time": "2023-09-18T17:04:24.156Z"
   },
   {
    "duration": 8,
    "start_time": "2023-09-18T17:04:24.636Z"
   },
   {
    "duration": 10,
    "start_time": "2023-09-18T17:04:24.656Z"
   },
   {
    "duration": 30,
    "start_time": "2023-09-18T17:04:24.672Z"
   },
   {
    "duration": 158,
    "start_time": "2023-09-18T17:04:24.704Z"
   },
   {
    "duration": 71,
    "start_time": "2023-09-18T17:04:24.868Z"
   },
   {
    "duration": 140,
    "start_time": "2023-09-18T17:04:24.941Z"
   },
   {
    "duration": 84,
    "start_time": "2023-09-18T17:04:25.083Z"
   },
   {
    "duration": 98,
    "start_time": "2023-09-18T17:04:25.169Z"
   },
   {
    "duration": 183,
    "start_time": "2023-09-18T17:04:25.269Z"
   },
   {
    "duration": 113,
    "start_time": "2023-09-18T17:04:25.454Z"
   },
   {
    "duration": 96,
    "start_time": "2023-09-18T17:04:25.569Z"
   },
   {
    "duration": 132,
    "start_time": "2023-09-18T17:04:25.669Z"
   },
   {
    "duration": 13,
    "start_time": "2023-09-18T17:04:25.803Z"
   },
   {
    "duration": 114,
    "start_time": "2023-09-18T17:04:25.818Z"
   },
   {
    "duration": 460,
    "start_time": "2023-09-18T17:04:25.934Z"
   },
   {
    "duration": 27,
    "start_time": "2023-09-18T17:04:26.396Z"
   },
   {
    "duration": 50,
    "start_time": "2023-09-18T17:04:26.425Z"
   },
   {
    "duration": 82,
    "start_time": "2023-09-18T17:04:26.477Z"
   },
   {
    "duration": 319,
    "start_time": "2023-09-18T17:04:26.567Z"
   },
   {
    "duration": 160,
    "start_time": "2023-09-18T17:04:26.888Z"
   },
   {
    "duration": 191,
    "start_time": "2023-09-18T17:04:27.050Z"
   },
   {
    "duration": 121,
    "start_time": "2023-09-18T17:04:27.243Z"
   },
   {
    "duration": 1155,
    "start_time": "2023-09-18T17:04:27.366Z"
   },
   {
    "duration": 1590,
    "start_time": "2023-09-18T17:04:28.523Z"
   },
   {
    "duration": 313,
    "start_time": "2023-09-18T17:04:30.115Z"
   },
   {
    "duration": 830,
    "start_time": "2023-09-18T17:04:30.430Z"
   },
   {
    "duration": 175,
    "start_time": "2023-09-18T17:04:31.270Z"
   },
   {
    "duration": 156,
    "start_time": "2023-09-18T17:04:31.447Z"
   },
   {
    "duration": 1501,
    "start_time": "2023-09-18T17:04:31.605Z"
   },
   {
    "duration": 30,
    "start_time": "2023-09-18T17:11:32.978Z"
   },
   {
    "duration": 68,
    "start_time": "2023-09-18T17:11:37.774Z"
   },
   {
    "duration": 1716,
    "start_time": "2023-09-18T17:34:42.373Z"
   },
   {
    "duration": 46,
    "start_time": "2023-09-18T17:34:44.093Z"
   },
   {
    "duration": 49,
    "start_time": "2023-09-18T17:34:44.141Z"
   },
   {
    "duration": 17,
    "start_time": "2023-09-18T17:34:44.193Z"
   },
   {
    "duration": 52,
    "start_time": "2023-09-18T17:34:44.213Z"
   },
   {
    "duration": 22,
    "start_time": "2023-09-18T17:34:44.269Z"
   },
   {
    "duration": 21,
    "start_time": "2023-09-18T17:34:44.294Z"
   },
   {
    "duration": 5,
    "start_time": "2023-09-18T17:34:44.317Z"
   },
   {
    "duration": 5,
    "start_time": "2023-09-18T17:34:44.324Z"
   },
   {
    "duration": 40,
    "start_time": "2023-09-18T17:34:44.331Z"
   },
   {
    "duration": 14,
    "start_time": "2023-09-18T17:34:44.376Z"
   },
   {
    "duration": 13,
    "start_time": "2023-09-18T17:34:44.393Z"
   },
   {
    "duration": 22,
    "start_time": "2023-09-18T17:34:44.408Z"
   },
   {
    "duration": 32,
    "start_time": "2023-09-18T17:34:44.435Z"
   },
   {
    "duration": 15,
    "start_time": "2023-09-18T17:34:44.472Z"
   },
   {
    "duration": 27,
    "start_time": "2023-09-18T17:34:44.489Z"
   },
   {
    "duration": 7,
    "start_time": "2023-09-18T17:34:44.518Z"
   },
   {
    "duration": 16,
    "start_time": "2023-09-18T17:34:44.527Z"
   },
   {
    "duration": 34,
    "start_time": "2023-09-18T17:34:44.545Z"
   },
   {
    "duration": 18806,
    "start_time": "2023-09-18T17:34:44.581Z"
   },
   {
    "duration": 173,
    "start_time": "2023-09-18T17:35:03.391Z"
   },
   {
    "duration": 507,
    "start_time": "2023-09-18T17:35:03.567Z"
   },
   {
    "duration": 8,
    "start_time": "2023-09-18T17:35:04.076Z"
   },
   {
    "duration": 15,
    "start_time": "2023-09-18T17:35:04.086Z"
   },
   {
    "duration": 43,
    "start_time": "2023-09-18T17:35:04.104Z"
   },
   {
    "duration": 155,
    "start_time": "2023-09-18T17:35:04.156Z"
   },
   {
    "duration": 103,
    "start_time": "2023-09-18T17:35:04.313Z"
   },
   {
    "duration": 150,
    "start_time": "2023-09-18T17:35:04.419Z"
   },
   {
    "duration": 104,
    "start_time": "2023-09-18T17:35:04.573Z"
   },
   {
    "duration": 94,
    "start_time": "2023-09-18T17:35:04.685Z"
   },
   {
    "duration": 209,
    "start_time": "2023-09-18T17:35:04.782Z"
   },
   {
    "duration": 116,
    "start_time": "2023-09-18T17:35:04.994Z"
   },
   {
    "duration": 145,
    "start_time": "2023-09-18T17:35:05.111Z"
   },
   {
    "duration": 158,
    "start_time": "2023-09-18T17:35:05.258Z"
   },
   {
    "duration": 12,
    "start_time": "2023-09-18T17:35:05.418Z"
   },
   {
    "duration": 109,
    "start_time": "2023-09-18T17:35:05.432Z"
   },
   {
    "duration": 502,
    "start_time": "2023-09-18T17:35:05.544Z"
   },
   {
    "duration": 41,
    "start_time": "2023-09-18T17:35:06.048Z"
   },
   {
    "duration": 61,
    "start_time": "2023-09-18T17:35:06.097Z"
   },
   {
    "duration": 17,
    "start_time": "2023-09-18T17:35:06.162Z"
   },
   {
    "duration": 404,
    "start_time": "2023-09-18T17:35:06.189Z"
   },
   {
    "duration": 150,
    "start_time": "2023-09-18T17:35:06.595Z"
   },
   {
    "duration": 249,
    "start_time": "2023-09-18T17:35:06.747Z"
   },
   {
    "duration": 118,
    "start_time": "2023-09-18T17:35:06.999Z"
   },
   {
    "duration": 1278,
    "start_time": "2023-09-18T17:35:07.119Z"
   },
   {
    "duration": 1730,
    "start_time": "2023-09-18T17:35:08.400Z"
   },
   {
    "duration": 286,
    "start_time": "2023-09-18T17:35:10.133Z"
   },
   {
    "duration": 866,
    "start_time": "2023-09-18T17:35:10.421Z"
   },
   {
    "duration": 202,
    "start_time": "2023-09-18T17:35:11.295Z"
   },
   {
    "duration": 149,
    "start_time": "2023-09-18T17:35:11.500Z"
   },
   {
    "duration": 1658,
    "start_time": "2023-09-18T17:35:11.651Z"
   },
   {
    "duration": 1600,
    "start_time": "2023-09-18T17:36:57.688Z"
   },
   {
    "duration": 1680,
    "start_time": "2023-09-18T17:37:12.682Z"
   },
   {
    "duration": 61,
    "start_time": "2023-09-18T17:37:14.365Z"
   },
   {
    "duration": 19,
    "start_time": "2023-09-18T17:37:14.428Z"
   },
   {
    "duration": 26,
    "start_time": "2023-09-18T17:37:14.449Z"
   },
   {
    "duration": 46,
    "start_time": "2023-09-18T17:37:14.480Z"
   },
   {
    "duration": 11,
    "start_time": "2023-09-18T17:37:14.528Z"
   },
   {
    "duration": 47,
    "start_time": "2023-09-18T17:37:14.541Z"
   },
   {
    "duration": 5,
    "start_time": "2023-09-18T17:37:14.590Z"
   },
   {
    "duration": 28,
    "start_time": "2023-09-18T17:37:14.597Z"
   },
   {
    "duration": 27,
    "start_time": "2023-09-18T17:37:14.628Z"
   },
   {
    "duration": 40,
    "start_time": "2023-09-18T17:37:14.664Z"
   },
   {
    "duration": 17,
    "start_time": "2023-09-18T17:37:14.706Z"
   },
   {
    "duration": 25,
    "start_time": "2023-09-18T17:37:14.724Z"
   },
   {
    "duration": 40,
    "start_time": "2023-09-18T17:37:14.751Z"
   },
   {
    "duration": 24,
    "start_time": "2023-09-18T17:37:14.793Z"
   },
   {
    "duration": 26,
    "start_time": "2023-09-18T17:37:14.819Z"
   },
   {
    "duration": 6,
    "start_time": "2023-09-18T17:37:14.847Z"
   },
   {
    "duration": 33,
    "start_time": "2023-09-18T17:37:14.855Z"
   },
   {
    "duration": 21,
    "start_time": "2023-09-18T17:37:14.890Z"
   },
   {
    "duration": 18672,
    "start_time": "2023-09-18T17:37:14.913Z"
   },
   {
    "duration": 91,
    "start_time": "2023-09-18T17:37:33.587Z"
   },
   {
    "duration": 504,
    "start_time": "2023-09-18T17:37:33.684Z"
   },
   {
    "duration": 7,
    "start_time": "2023-09-18T17:37:34.191Z"
   },
   {
    "duration": 12,
    "start_time": "2023-09-18T17:37:34.200Z"
   },
   {
    "duration": 31,
    "start_time": "2023-09-18T17:37:34.214Z"
   },
   {
    "duration": 154,
    "start_time": "2023-09-18T17:37:34.261Z"
   },
   {
    "duration": 100,
    "start_time": "2023-09-18T17:37:34.417Z"
   },
   {
    "duration": 161,
    "start_time": "2023-09-18T17:37:34.521Z"
   },
   {
    "duration": 74,
    "start_time": "2023-09-18T17:37:34.689Z"
   },
   {
    "duration": 102,
    "start_time": "2023-09-18T17:37:34.773Z"
   },
   {
    "duration": 218,
    "start_time": "2023-09-18T17:37:34.877Z"
   },
   {
    "duration": 1146,
    "start_time": "2023-09-18T17:37:35.097Z"
   },
   {
    "duration": 122,
    "start_time": "2023-09-18T17:37:36.245Z"
   },
   {
    "duration": 137,
    "start_time": "2023-09-18T17:37:36.369Z"
   },
   {
    "duration": 14,
    "start_time": "2023-09-18T17:37:36.509Z"
   },
   {
    "duration": 118,
    "start_time": "2023-09-18T17:37:36.525Z"
   },
   {
    "duration": 487,
    "start_time": "2023-09-18T17:37:36.645Z"
   },
   {
    "duration": 37,
    "start_time": "2023-09-18T17:37:37.134Z"
   },
   {
    "duration": 83,
    "start_time": "2023-09-18T17:37:37.180Z"
   },
   {
    "duration": 8,
    "start_time": "2023-09-18T17:37:37.268Z"
   },
   {
    "duration": 333,
    "start_time": "2023-09-18T17:37:37.280Z"
   },
   {
    "duration": 159,
    "start_time": "2023-09-18T17:37:37.615Z"
   },
   {
    "duration": 210,
    "start_time": "2023-09-18T17:37:37.780Z"
   },
   {
    "duration": 148,
    "start_time": "2023-09-18T17:37:37.992Z"
   },
   {
    "duration": 1249,
    "start_time": "2023-09-18T17:37:38.142Z"
   },
   {
    "duration": 1571,
    "start_time": "2023-09-18T17:37:39.394Z"
   },
   {
    "duration": 296,
    "start_time": "2023-09-18T17:37:40.973Z"
   },
   {
    "duration": 804,
    "start_time": "2023-09-18T17:37:41.279Z"
   },
   {
    "duration": 188,
    "start_time": "2023-09-18T17:37:42.090Z"
   },
   {
    "duration": 149,
    "start_time": "2023-09-18T17:37:42.285Z"
   },
   {
    "duration": 1614,
    "start_time": "2023-09-18T17:37:42.436Z"
   },
   {
    "duration": 16,
    "start_time": "2023-09-18T17:38:53.423Z"
   },
   {
    "duration": 105,
    "start_time": "2023-09-18T17:38:54.288Z"
   },
   {
    "duration": 14,
    "start_time": "2023-09-18T17:38:59.794Z"
   },
   {
    "duration": 108,
    "start_time": "2023-09-18T17:39:00.560Z"
   },
   {
    "duration": 14,
    "start_time": "2023-09-18T17:39:06.534Z"
   },
   {
    "duration": 101,
    "start_time": "2023-09-18T17:39:07.530Z"
   },
   {
    "duration": 13,
    "start_time": "2023-09-18T17:39:13.224Z"
   },
   {
    "duration": 106,
    "start_time": "2023-09-18T17:39:13.832Z"
   },
   {
    "duration": 482,
    "start_time": "2023-09-18T17:39:16.224Z"
   },
   {
    "duration": 34,
    "start_time": "2023-09-18T17:39:23.806Z"
   },
   {
    "duration": 196,
    "start_time": "2023-09-18T17:39:26.061Z"
   },
   {
    "duration": 1600,
    "start_time": "2023-09-18T17:39:34.291Z"
   },
   {
    "duration": 128,
    "start_time": "2023-09-18T17:39:55.816Z"
   },
   {
    "duration": 1708,
    "start_time": "2023-09-18T17:40:07.487Z"
   },
   {
    "duration": 48,
    "start_time": "2023-09-18T17:40:09.198Z"
   },
   {
    "duration": 39,
    "start_time": "2023-09-18T17:40:09.249Z"
   },
   {
    "duration": 18,
    "start_time": "2023-09-18T17:40:09.290Z"
   },
   {
    "duration": 79,
    "start_time": "2023-09-18T17:40:09.312Z"
   },
   {
    "duration": 11,
    "start_time": "2023-09-18T17:40:09.393Z"
   },
   {
    "duration": 30,
    "start_time": "2023-09-18T17:40:09.406Z"
   },
   {
    "duration": 4,
    "start_time": "2023-09-18T17:40:09.438Z"
   },
   {
    "duration": 44,
    "start_time": "2023-09-18T17:40:09.444Z"
   },
   {
    "duration": 53,
    "start_time": "2023-09-18T17:40:09.491Z"
   },
   {
    "duration": 91,
    "start_time": "2023-09-18T17:40:09.546Z"
   },
   {
    "duration": 47,
    "start_time": "2023-09-18T17:40:09.639Z"
   },
   {
    "duration": 26,
    "start_time": "2023-09-18T17:40:09.688Z"
   },
   {
    "duration": 63,
    "start_time": "2023-09-18T17:40:09.718Z"
   },
   {
    "duration": 11,
    "start_time": "2023-09-18T17:40:09.787Z"
   },
   {
    "duration": 45,
    "start_time": "2023-09-18T17:40:09.800Z"
   },
   {
    "duration": 125,
    "start_time": "2023-09-18T17:40:09.846Z"
   },
   {
    "duration": 20,
    "start_time": "2023-09-18T17:40:09.975Z"
   },
   {
    "duration": 5,
    "start_time": "2023-09-18T17:40:09.997Z"
   },
   {
    "duration": 18280,
    "start_time": "2023-09-18T17:40:10.004Z"
   },
   {
    "duration": 88,
    "start_time": "2023-09-18T17:40:28.286Z"
   },
   {
    "duration": 454,
    "start_time": "2023-09-18T17:40:28.378Z"
   },
   {
    "duration": 10,
    "start_time": "2023-09-18T17:40:28.834Z"
   },
   {
    "duration": 42,
    "start_time": "2023-09-18T17:40:28.846Z"
   },
   {
    "duration": 35,
    "start_time": "2023-09-18T17:40:28.890Z"
   },
   {
    "duration": 162,
    "start_time": "2023-09-18T17:40:28.927Z"
   },
   {
    "duration": 110,
    "start_time": "2023-09-18T17:40:29.092Z"
   },
   {
    "duration": 170,
    "start_time": "2023-09-18T17:40:29.205Z"
   },
   {
    "duration": 80,
    "start_time": "2023-09-18T17:40:29.377Z"
   },
   {
    "duration": 30,
    "start_time": "2023-09-18T17:40:29.464Z"
   },
   {
    "duration": 230,
    "start_time": "2023-09-18T17:40:29.558Z"
   },
   {
    "duration": 1241,
    "start_time": "2023-09-18T17:40:29.791Z"
   },
   {
    "duration": 133,
    "start_time": "2023-09-18T17:40:31.034Z"
   },
   {
    "duration": 137,
    "start_time": "2023-09-18T17:40:31.170Z"
   },
   {
    "duration": 14,
    "start_time": "2023-09-18T17:40:31.310Z"
   },
   {
    "duration": 151,
    "start_time": "2023-09-18T17:40:31.326Z"
   },
   {
    "duration": 600,
    "start_time": "2023-09-18T17:40:31.479Z"
   },
   {
    "duration": 25,
    "start_time": "2023-09-18T17:40:32.088Z"
   },
   {
    "duration": 85,
    "start_time": "2023-09-18T17:40:32.115Z"
   },
   {
    "duration": 8,
    "start_time": "2023-09-18T17:40:32.258Z"
   },
   {
    "duration": 341,
    "start_time": "2023-09-18T17:40:32.274Z"
   },
   {
    "duration": 178,
    "start_time": "2023-09-18T17:40:32.618Z"
   },
   {
    "duration": 220,
    "start_time": "2023-09-18T17:40:32.798Z"
   },
   {
    "duration": 122,
    "start_time": "2023-09-18T17:40:33.021Z"
   },
   {
    "duration": 1248,
    "start_time": "2023-09-18T17:40:33.145Z"
   },
   {
    "duration": 1535,
    "start_time": "2023-09-18T17:40:34.395Z"
   },
   {
    "duration": 275,
    "start_time": "2023-09-18T17:40:35.932Z"
   },
   {
    "duration": 827,
    "start_time": "2023-09-18T17:40:36.209Z"
   },
   {
    "duration": 191,
    "start_time": "2023-09-18T17:40:37.038Z"
   },
   {
    "duration": 163,
    "start_time": "2023-09-18T17:40:37.231Z"
   },
   {
    "duration": 1600,
    "start_time": "2023-09-18T17:40:37.396Z"
   },
   {
    "duration": 21390,
    "start_time": "2023-09-18T17:47:51.902Z"
   },
   {
    "duration": 28964,
    "start_time": "2023-09-18T17:48:23.843Z"
   },
   {
    "duration": 138,
    "start_time": "2023-09-18T17:49:23.728Z"
   },
   {
    "duration": 323,
    "start_time": "2023-09-18T17:49:32.867Z"
   },
   {
    "duration": 1614,
    "start_time": "2023-09-18T17:49:40.922Z"
   },
   {
    "duration": 59,
    "start_time": "2023-09-18T17:49:42.539Z"
   },
   {
    "duration": 22,
    "start_time": "2023-09-18T17:49:42.600Z"
   },
   {
    "duration": 16,
    "start_time": "2023-09-18T17:49:42.624Z"
   },
   {
    "duration": 60,
    "start_time": "2023-09-18T17:49:42.642Z"
   },
   {
    "duration": 13,
    "start_time": "2023-09-18T17:49:42.704Z"
   },
   {
    "duration": 42,
    "start_time": "2023-09-18T17:49:42.719Z"
   },
   {
    "duration": 40,
    "start_time": "2023-09-18T17:49:42.772Z"
   },
   {
    "duration": 99,
    "start_time": "2023-09-18T17:49:42.815Z"
   },
   {
    "duration": 98,
    "start_time": "2023-09-18T17:49:42.918Z"
   },
   {
    "duration": 30,
    "start_time": "2023-09-18T17:49:43.018Z"
   },
   {
    "duration": 46,
    "start_time": "2023-09-18T17:49:43.050Z"
   },
   {
    "duration": 54,
    "start_time": "2023-09-18T17:49:43.098Z"
   },
   {
    "duration": 38,
    "start_time": "2023-09-18T17:49:43.155Z"
   },
   {
    "duration": 18,
    "start_time": "2023-09-18T17:49:43.195Z"
   },
   {
    "duration": 49,
    "start_time": "2023-09-18T17:49:43.215Z"
   },
   {
    "duration": 8,
    "start_time": "2023-09-18T17:49:43.267Z"
   },
   {
    "duration": 32,
    "start_time": "2023-09-18T17:49:43.278Z"
   },
   {
    "duration": 5,
    "start_time": "2023-09-18T17:49:43.312Z"
   },
   {
    "duration": 29250,
    "start_time": "2023-09-18T17:49:43.319Z"
   },
   {
    "duration": 108,
    "start_time": "2023-09-18T17:50:12.571Z"
   },
   {
    "duration": 573,
    "start_time": "2023-09-18T17:50:12.681Z"
   },
   {
    "duration": 9,
    "start_time": "2023-09-18T17:50:13.264Z"
   },
   {
    "duration": 52,
    "start_time": "2023-09-18T17:50:13.276Z"
   },
   {
    "duration": 84,
    "start_time": "2023-09-18T17:50:13.330Z"
   },
   {
    "duration": 164,
    "start_time": "2023-09-18T17:50:13.416Z"
   },
   {
    "duration": 99,
    "start_time": "2023-09-18T17:50:13.582Z"
   },
   {
    "duration": 296,
    "start_time": "2023-09-18T17:50:13.686Z"
   },
   {
    "duration": 95,
    "start_time": "2023-09-18T17:50:13.986Z"
   },
   {
    "duration": 16,
    "start_time": "2023-09-18T17:50:14.159Z"
   },
   {
    "duration": 266,
    "start_time": "2023-09-18T17:50:14.179Z"
   },
   {
    "duration": 1245,
    "start_time": "2023-09-18T17:50:14.447Z"
   },
   {
    "duration": 79,
    "start_time": "2023-09-18T17:50:15.701Z"
   },
   {
    "duration": 119,
    "start_time": "2023-09-18T17:50:15.856Z"
   },
   {
    "duration": 19,
    "start_time": "2023-09-18T17:50:15.977Z"
   },
   {
    "duration": 192,
    "start_time": "2023-09-18T17:50:15.998Z"
   },
   {
    "duration": 543,
    "start_time": "2023-09-18T17:50:16.192Z"
   },
   {
    "duration": 40,
    "start_time": "2023-09-18T17:50:16.738Z"
   },
   {
    "duration": 76,
    "start_time": "2023-09-18T17:50:16.788Z"
   },
   {
    "duration": 8,
    "start_time": "2023-09-18T17:50:16.877Z"
   },
   {
    "duration": 342,
    "start_time": "2023-09-18T17:50:16.957Z"
   },
   {
    "duration": 148,
    "start_time": "2023-09-18T17:50:17.302Z"
   },
   {
    "duration": 215,
    "start_time": "2023-09-18T17:50:17.456Z"
   },
   {
    "duration": 248,
    "start_time": "2023-09-18T17:50:17.674Z"
   },
   {
    "duration": 1351,
    "start_time": "2023-09-18T17:50:17.923Z"
   },
   {
    "duration": 1645,
    "start_time": "2023-09-18T17:50:19.285Z"
   },
   {
    "duration": 294,
    "start_time": "2023-09-18T17:50:20.932Z"
   },
   {
    "duration": 822,
    "start_time": "2023-09-18T17:50:21.228Z"
   },
   {
    "duration": 191,
    "start_time": "2023-09-18T17:50:22.055Z"
   },
   {
    "duration": 164,
    "start_time": "2023-09-18T17:50:22.248Z"
   },
   {
    "duration": 1631,
    "start_time": "2023-09-18T17:50:22.414Z"
   },
   {
    "duration": 63013,
    "start_time": "2023-09-18T17:50:44.369Z"
   },
   {
    "duration": 477,
    "start_time": "2023-09-18T17:52:34.852Z"
   },
   {
    "duration": 1759,
    "start_time": "2023-09-18T17:52:43.881Z"
   },
   {
    "duration": 58,
    "start_time": "2023-09-18T17:52:45.643Z"
   },
   {
    "duration": 26,
    "start_time": "2023-09-18T17:52:45.703Z"
   },
   {
    "duration": 19,
    "start_time": "2023-09-18T17:52:45.733Z"
   },
   {
    "duration": 58,
    "start_time": "2023-09-18T17:52:45.761Z"
   },
   {
    "duration": 14,
    "start_time": "2023-09-18T17:52:45.821Z"
   },
   {
    "duration": 46,
    "start_time": "2023-09-18T17:52:45.837Z"
   },
   {
    "duration": 6,
    "start_time": "2023-09-18T17:52:45.885Z"
   },
   {
    "duration": 19,
    "start_time": "2023-09-18T17:52:45.893Z"
   },
   {
    "duration": 24,
    "start_time": "2023-09-18T17:52:45.914Z"
   },
   {
    "duration": 24,
    "start_time": "2023-09-18T17:52:45.940Z"
   },
   {
    "duration": 12,
    "start_time": "2023-09-18T17:52:45.966Z"
   },
   {
    "duration": 21,
    "start_time": "2023-09-18T17:52:45.980Z"
   },
   {
    "duration": 20,
    "start_time": "2023-09-18T17:52:46.006Z"
   },
   {
    "duration": 28,
    "start_time": "2023-09-18T17:52:46.029Z"
   },
   {
    "duration": 36,
    "start_time": "2023-09-18T17:52:46.059Z"
   },
   {
    "duration": 33,
    "start_time": "2023-09-18T17:52:46.097Z"
   },
   {
    "duration": 31,
    "start_time": "2023-09-18T17:52:46.131Z"
   },
   {
    "duration": 6,
    "start_time": "2023-09-18T17:52:46.169Z"
   },
   {
    "duration": 63050,
    "start_time": "2023-09-18T17:52:46.177Z"
   },
   {
    "duration": 39,
    "start_time": "2023-09-18T17:53:49.230Z"
   },
   {
    "duration": 688,
    "start_time": "2023-09-18T17:53:49.272Z"
   },
   {
    "duration": 11,
    "start_time": "2023-09-18T17:53:49.962Z"
   },
   {
    "duration": 24,
    "start_time": "2023-09-18T17:53:49.975Z"
   },
   {
    "duration": 30,
    "start_time": "2023-09-18T17:53:50.001Z"
   },
   {
    "duration": 164,
    "start_time": "2023-09-18T17:53:50.033Z"
   },
   {
    "duration": 94,
    "start_time": "2023-09-18T17:53:50.199Z"
   },
   {
    "duration": 159,
    "start_time": "2023-09-18T17:53:50.295Z"
   },
   {
    "duration": 44,
    "start_time": "2023-09-18T17:53:50.458Z"
   },
   {
    "duration": 27,
    "start_time": "2023-09-18T17:53:50.559Z"
   },
   {
    "duration": 202,
    "start_time": "2023-09-18T17:53:50.589Z"
   },
   {
    "duration": 1250,
    "start_time": "2023-09-18T17:53:50.793Z"
   },
   {
    "duration": 70,
    "start_time": "2023-09-18T17:53:52.045Z"
   },
   {
    "duration": 150,
    "start_time": "2023-09-18T17:53:52.157Z"
   },
   {
    "duration": 12,
    "start_time": "2023-09-18T17:53:52.309Z"
   },
   {
    "duration": 165,
    "start_time": "2023-09-18T17:53:52.322Z"
   },
   {
    "duration": 495,
    "start_time": "2023-09-18T17:53:52.493Z"
   },
   {
    "duration": 27,
    "start_time": "2023-09-18T17:53:52.995Z"
   },
   {
    "duration": 58,
    "start_time": "2023-09-18T17:53:53.025Z"
   },
   {
    "duration": 70,
    "start_time": "2023-09-18T17:53:53.086Z"
   },
   {
    "duration": 350,
    "start_time": "2023-09-18T17:53:53.162Z"
   },
   {
    "duration": 148,
    "start_time": "2023-09-18T17:53:53.514Z"
   },
   {
    "duration": 211,
    "start_time": "2023-09-18T17:53:53.664Z"
   },
   {
    "duration": 362,
    "start_time": "2023-09-18T17:53:53.877Z"
   },
   {
    "duration": 1263,
    "start_time": "2023-09-18T17:53:54.242Z"
   },
   {
    "duration": 1591,
    "start_time": "2023-09-18T17:53:55.508Z"
   },
   {
    "duration": 284,
    "start_time": "2023-09-18T17:53:57.101Z"
   },
   {
    "duration": 832,
    "start_time": "2023-09-18T17:53:57.387Z"
   },
   {
    "duration": 200,
    "start_time": "2023-09-18T17:53:58.221Z"
   },
   {
    "duration": 172,
    "start_time": "2023-09-18T17:53:58.423Z"
   },
   {
    "duration": 1718,
    "start_time": "2023-09-18T17:53:58.597Z"
   },
   {
    "duration": 12,
    "start_time": "2023-09-18T17:55:13.914Z"
   },
   {
    "duration": 116,
    "start_time": "2023-09-18T17:55:15.524Z"
   },
   {
    "duration": 507,
    "start_time": "2023-09-18T17:55:19.518Z"
   },
   {
    "duration": 466,
    "start_time": "2023-09-18T17:55:54.330Z"
   },
   {
    "duration": 5,
    "start_time": "2023-09-18T17:56:12.086Z"
   },
   {
    "duration": 115,
    "start_time": "2023-09-18T17:56:12.093Z"
   },
   {
    "duration": 16,
    "start_time": "2023-09-18T17:56:12.210Z"
   },
   {
    "duration": 34,
    "start_time": "2023-09-18T17:56:12.228Z"
   },
   {
    "duration": 83,
    "start_time": "2023-09-18T17:56:12.264Z"
   },
   {
    "duration": 15,
    "start_time": "2023-09-18T17:56:12.349Z"
   },
   {
    "duration": 30,
    "start_time": "2023-09-18T17:56:12.367Z"
   },
   {
    "duration": 5,
    "start_time": "2023-09-18T17:56:12.399Z"
   },
   {
    "duration": 18,
    "start_time": "2023-09-18T17:56:12.406Z"
   },
   {
    "duration": 30,
    "start_time": "2023-09-18T17:56:12.428Z"
   },
   {
    "duration": 20,
    "start_time": "2023-09-18T17:56:12.459Z"
   },
   {
    "duration": 48,
    "start_time": "2023-09-18T17:56:12.480Z"
   },
   {
    "duration": 30,
    "start_time": "2023-09-18T17:56:12.530Z"
   },
   {
    "duration": 29,
    "start_time": "2023-09-18T17:56:12.564Z"
   },
   {
    "duration": 13,
    "start_time": "2023-09-18T17:56:12.595Z"
   },
   {
    "duration": 32,
    "start_time": "2023-09-18T17:56:12.610Z"
   },
   {
    "duration": 17,
    "start_time": "2023-09-18T17:56:12.644Z"
   },
   {
    "duration": 21,
    "start_time": "2023-09-18T17:56:12.663Z"
   },
   {
    "duration": 38,
    "start_time": "2023-09-18T17:56:12.686Z"
   },
   {
    "duration": 63649,
    "start_time": "2023-09-18T17:56:12.726Z"
   },
   {
    "duration": 96,
    "start_time": "2023-09-18T17:57:16.377Z"
   },
   {
    "duration": 537,
    "start_time": "2023-09-18T17:57:16.478Z"
   },
   {
    "duration": 7,
    "start_time": "2023-09-18T17:57:17.018Z"
   },
   {
    "duration": 118,
    "start_time": "2023-09-18T17:57:17.026Z"
   },
   {
    "duration": 52,
    "start_time": "2023-09-18T17:57:17.146Z"
   },
   {
    "duration": 151,
    "start_time": "2023-09-18T17:57:17.200Z"
   },
   {
    "duration": 110,
    "start_time": "2023-09-18T17:57:17.353Z"
   },
   {
    "duration": 151,
    "start_time": "2023-09-18T17:57:17.468Z"
   },
   {
    "duration": 52,
    "start_time": "2023-09-18T17:57:17.620Z"
   },
   {
    "duration": 106,
    "start_time": "2023-09-18T17:57:17.673Z"
   },
   {
    "duration": 174,
    "start_time": "2023-09-18T17:57:17.784Z"
   },
   {
    "duration": 1303,
    "start_time": "2023-09-18T17:57:17.963Z"
   },
   {
    "duration": 97,
    "start_time": "2023-09-18T17:57:19.268Z"
   },
   {
    "duration": 144,
    "start_time": "2023-09-18T17:57:19.368Z"
   },
   {
    "duration": 12,
    "start_time": "2023-09-18T17:57:19.514Z"
   },
   {
    "duration": 125,
    "start_time": "2023-09-18T17:57:19.528Z"
   },
   {
    "duration": 537,
    "start_time": "2023-09-18T17:57:19.656Z"
   },
   {
    "duration": 26,
    "start_time": "2023-09-18T17:57:20.195Z"
   },
   {
    "duration": 70,
    "start_time": "2023-09-18T17:57:20.223Z"
   },
   {
    "duration": 24,
    "start_time": "2023-09-18T17:57:20.357Z"
   },
   {
    "duration": 317,
    "start_time": "2023-09-18T17:57:20.384Z"
   },
   {
    "duration": 196,
    "start_time": "2023-09-18T17:57:20.703Z"
   },
   {
    "duration": 212,
    "start_time": "2023-09-18T17:57:20.902Z"
   },
   {
    "duration": 391,
    "start_time": "2023-09-18T17:57:32.729Z"
   },
   {
    "duration": 148,
    "start_time": "2023-09-18T17:57:41.831Z"
   },
   {
    "duration": 16130,
    "start_time": "2023-09-18T17:58:04.374Z"
   },
   {
    "duration": 5755,
    "start_time": "2023-09-18T17:58:30.447Z"
   },
   {
    "duration": 81,
    "start_time": "2023-09-18T17:58:53.846Z"
   },
   {
    "duration": 13,
    "start_time": "2023-09-18T17:59:09.703Z"
   },
   {
    "duration": 102,
    "start_time": "2023-09-18T17:59:10.826Z"
   },
   {
    "duration": 500,
    "start_time": "2023-09-18T17:59:17.913Z"
   },
   {
    "duration": 1181,
    "start_time": "2023-09-18T17:59:34.126Z"
   },
   {
    "duration": 107,
    "start_time": "2023-09-18T17:59:59.517Z"
   },
   {
    "duration": 95,
    "start_time": "2023-09-18T18:02:15.131Z"
   },
   {
    "duration": 114,
    "start_time": "2023-09-18T18:05:27.821Z"
   },
   {
    "duration": 339,
    "start_time": "2023-09-18T18:05:35.651Z"
   },
   {
    "duration": 423,
    "start_time": "2023-09-18T18:05:41.878Z"
   },
   {
    "duration": 613,
    "start_time": "2023-09-18T18:05:47.176Z"
   },
   {
    "duration": 151992,
    "start_time": "2023-09-18T18:06:08.583Z"
   },
   {
    "duration": 657,
    "start_time": "2023-09-18T18:08:56.774Z"
   },
   {
    "duration": 532,
    "start_time": "2023-09-18T18:09:04.734Z"
   },
   {
    "duration": 5861,
    "start_time": "2023-09-18T18:09:25.866Z"
   },
   {
    "duration": 78,
    "start_time": "2023-09-18T18:09:50.483Z"
   },
   {
    "duration": 67,
    "start_time": "2023-09-18T18:09:56.568Z"
   },
   {
    "duration": 96,
    "start_time": "2023-09-18T18:10:20.847Z"
   },
   {
    "duration": 106,
    "start_time": "2023-09-18T18:10:24.223Z"
   },
   {
    "duration": 2775,
    "start_time": "2023-09-18T18:10:37.458Z"
   },
   {
    "duration": 54,
    "start_time": "2023-09-18T18:10:57.403Z"
   },
   {
    "duration": 61,
    "start_time": "2023-09-18T18:11:02.200Z"
   },
   {
    "duration": 71,
    "start_time": "2023-09-18T18:11:05.489Z"
   },
   {
    "duration": 115,
    "start_time": "2023-09-18T18:11:08.925Z"
   },
   {
    "duration": 123,
    "start_time": "2023-09-18T18:11:12.574Z"
   },
   {
    "duration": 153,
    "start_time": "2023-09-18T18:11:15.452Z"
   },
   {
    "duration": 5535,
    "start_time": "2023-09-18T18:11:26.106Z"
   },
   {
    "duration": 14472,
    "start_time": "2023-09-18T18:11:40.538Z"
   },
   {
    "duration": 19829,
    "start_time": "2023-09-18T18:12:04.898Z"
   },
   {
    "duration": 55707,
    "start_time": "2023-09-18T18:12:35.188Z"
   },
   {
    "duration": 353,
    "start_time": "2023-09-18T18:14:02.222Z"
   },
   {
    "duration": 1067,
    "start_time": "2023-09-18T18:14:26.814Z"
   },
   {
    "duration": 1536,
    "start_time": "2023-09-18T18:14:42.343Z"
   },
   {
    "duration": 45,
    "start_time": "2023-09-18T18:14:43.881Z"
   },
   {
    "duration": 22,
    "start_time": "2023-09-18T18:14:43.928Z"
   },
   {
    "duration": 14,
    "start_time": "2023-09-18T18:14:43.952Z"
   },
   {
    "duration": 59,
    "start_time": "2023-09-18T18:14:43.968Z"
   },
   {
    "duration": 12,
    "start_time": "2023-09-18T18:14:44.029Z"
   },
   {
    "duration": 27,
    "start_time": "2023-09-18T18:14:44.042Z"
   },
   {
    "duration": 5,
    "start_time": "2023-09-18T18:14:44.071Z"
   },
   {
    "duration": 27,
    "start_time": "2023-09-18T18:14:44.078Z"
   },
   {
    "duration": 28,
    "start_time": "2023-09-18T18:14:44.107Z"
   },
   {
    "duration": 11,
    "start_time": "2023-09-18T18:14:44.137Z"
   },
   {
    "duration": 30,
    "start_time": "2023-09-18T18:14:44.150Z"
   },
   {
    "duration": 17,
    "start_time": "2023-09-18T18:14:44.182Z"
   },
   {
    "duration": 15,
    "start_time": "2023-09-18T18:14:44.202Z"
   },
   {
    "duration": 11,
    "start_time": "2023-09-18T18:14:44.219Z"
   },
   {
    "duration": 30,
    "start_time": "2023-09-18T18:14:44.232Z"
   },
   {
    "duration": 26,
    "start_time": "2023-09-18T18:14:44.264Z"
   },
   {
    "duration": 19,
    "start_time": "2023-09-18T18:14:44.292Z"
   },
   {
    "duration": 5,
    "start_time": "2023-09-18T18:14:44.313Z"
   },
   {
    "duration": 25565,
    "start_time": "2023-09-18T18:14:44.319Z"
   },
   {
    "duration": 77,
    "start_time": "2023-09-18T18:15:09.886Z"
   },
   {
    "duration": 564,
    "start_time": "2023-09-18T18:15:09.967Z"
   },
   {
    "duration": 9,
    "start_time": "2023-09-18T18:15:10.533Z"
   },
   {
    "duration": 19,
    "start_time": "2023-09-18T18:15:10.544Z"
   },
   {
    "duration": 57,
    "start_time": "2023-09-18T18:15:10.566Z"
   },
   {
    "duration": 134,
    "start_time": "2023-09-18T18:15:10.625Z"
   },
   {
    "duration": 69,
    "start_time": "2023-09-18T18:15:10.761Z"
   },
   {
    "duration": 226,
    "start_time": "2023-09-18T18:15:10.832Z"
   },
   {
    "duration": 98,
    "start_time": "2023-09-18T18:15:11.060Z"
   },
   {
    "duration": 104,
    "start_time": "2023-09-18T18:15:11.160Z"
   },
   {
    "duration": 113,
    "start_time": "2023-09-18T18:15:11.266Z"
   },
   {
    "duration": 1108,
    "start_time": "2023-09-18T18:15:11.381Z"
   },
   {
    "duration": 73,
    "start_time": "2023-09-18T18:15:12.491Z"
   },
   {
    "duration": 53,
    "start_time": "2023-09-18T18:15:12.656Z"
   },
   {
    "duration": 13,
    "start_time": "2023-09-18T18:15:12.711Z"
   },
   {
    "duration": 115,
    "start_time": "2023-09-18T18:15:12.726Z"
   },
   {
    "duration": 446,
    "start_time": "2023-09-18T18:15:12.849Z"
   },
   {
    "duration": 24,
    "start_time": "2023-09-18T18:15:13.297Z"
   },
   {
    "duration": 35,
    "start_time": "2023-09-18T18:15:13.323Z"
   },
   {
    "duration": 5,
    "start_time": "2023-09-18T18:15:13.362Z"
   },
   {
    "duration": 397,
    "start_time": "2023-09-18T18:15:13.373Z"
   },
   {
    "duration": 138,
    "start_time": "2023-09-18T18:15:13.773Z"
   },
   {
    "duration": 195,
    "start_time": "2023-09-18T18:15:13.913Z"
   },
   {
    "duration": 317,
    "start_time": "2023-09-18T18:15:14.109Z"
   },
   {
    "duration": 1066,
    "start_time": "2023-09-18T18:15:14.428Z"
   },
   {
    "duration": 1419,
    "start_time": "2023-09-18T18:15:15.496Z"
   },
   {
    "duration": 266,
    "start_time": "2023-09-18T18:15:16.917Z"
   },
   {
    "duration": 703,
    "start_time": "2023-09-18T18:15:17.185Z"
   },
   {
    "duration": 188,
    "start_time": "2023-09-18T18:15:17.890Z"
   },
   {
    "duration": 141,
    "start_time": "2023-09-18T18:15:18.079Z"
   },
   {
    "duration": 1469,
    "start_time": "2023-09-18T18:15:18.223Z"
   },
   {
    "duration": 123,
    "start_time": "2023-09-18T18:15:52.920Z"
   },
   {
    "duration": 124,
    "start_time": "2023-09-18T18:15:58.245Z"
   },
   {
    "duration": 269,
    "start_time": "2023-09-18T18:16:24.338Z"
   },
   {
    "duration": 1450,
    "start_time": "2023-09-18T18:16:32.905Z"
   },
   {
    "duration": 46,
    "start_time": "2023-09-18T18:16:34.357Z"
   },
   {
    "duration": 22,
    "start_time": "2023-09-18T18:16:34.405Z"
   },
   {
    "duration": 18,
    "start_time": "2023-09-18T18:16:34.429Z"
   },
   {
    "duration": 48,
    "start_time": "2023-09-18T18:16:34.449Z"
   },
   {
    "duration": 12,
    "start_time": "2023-09-18T18:16:34.498Z"
   },
   {
    "duration": 19,
    "start_time": "2023-09-18T18:16:34.512Z"
   },
   {
    "duration": 4,
    "start_time": "2023-09-18T18:16:34.556Z"
   },
   {
    "duration": 8,
    "start_time": "2023-09-18T18:16:34.562Z"
   },
   {
    "duration": 29,
    "start_time": "2023-09-18T18:16:34.572Z"
   },
   {
    "duration": 20,
    "start_time": "2023-09-18T18:16:34.603Z"
   },
   {
    "duration": 16,
    "start_time": "2023-09-18T18:16:34.624Z"
   },
   {
    "duration": 19,
    "start_time": "2023-09-18T18:16:34.642Z"
   },
   {
    "duration": 14,
    "start_time": "2023-09-18T18:16:34.663Z"
   },
   {
    "duration": 14,
    "start_time": "2023-09-18T18:16:34.679Z"
   },
   {
    "duration": 21,
    "start_time": "2023-09-18T18:16:34.695Z"
   },
   {
    "duration": 32,
    "start_time": "2023-09-18T18:16:34.717Z"
   },
   {
    "duration": 21,
    "start_time": "2023-09-18T18:16:34.751Z"
   },
   {
    "duration": 21,
    "start_time": "2023-09-18T18:16:34.774Z"
   },
   {
    "duration": 26944,
    "start_time": "2023-09-18T18:16:34.797Z"
   },
   {
    "duration": 230,
    "start_time": "2023-09-18T18:17:01.742Z"
   },
   {
    "duration": 560,
    "start_time": "2023-09-18T18:17:01.980Z"
   },
   {
    "duration": 17,
    "start_time": "2023-09-18T18:17:02.542Z"
   },
   {
    "duration": 54,
    "start_time": "2023-09-18T18:17:02.561Z"
   },
   {
    "duration": 60,
    "start_time": "2023-09-18T18:17:02.617Z"
   },
   {
    "duration": 131,
    "start_time": "2023-09-18T18:17:02.680Z"
   },
   {
    "duration": 112,
    "start_time": "2023-09-18T18:17:02.814Z"
   },
   {
    "duration": 234,
    "start_time": "2023-09-18T18:17:02.930Z"
   },
   {
    "duration": 33,
    "start_time": "2023-09-18T18:17:03.166Z"
   },
   {
    "duration": 156,
    "start_time": "2023-09-18T18:17:03.201Z"
   },
   {
    "duration": 167,
    "start_time": "2023-09-18T18:17:03.359Z"
   },
   {
    "duration": 1177,
    "start_time": "2023-09-18T18:17:03.529Z"
   },
   {
    "duration": 60,
    "start_time": "2023-09-18T18:17:04.708Z"
   },
   {
    "duration": 221,
    "start_time": "2023-09-18T18:17:04.770Z"
   },
   {
    "duration": 14,
    "start_time": "2023-09-18T18:17:04.993Z"
   },
   {
    "duration": 120,
    "start_time": "2023-09-18T18:17:05.010Z"
   },
   {
    "duration": 474,
    "start_time": "2023-09-18T18:17:05.132Z"
   },
   {
    "duration": 27,
    "start_time": "2023-09-18T18:17:05.609Z"
   },
   {
    "duration": 52,
    "start_time": "2023-09-18T18:17:05.639Z"
   },
   {
    "duration": 3,
    "start_time": "2023-09-18T18:17:05.759Z"
   },
   {
    "duration": 459,
    "start_time": "2023-09-18T18:17:05.764Z"
   },
   {
    "duration": 215,
    "start_time": "2023-09-18T18:17:06.226Z"
   },
   {
    "duration": 235,
    "start_time": "2023-09-18T18:17:06.443Z"
   },
   {
    "duration": 254,
    "start_time": "2023-09-18T18:17:06.680Z"
   },
   {
    "duration": 1194,
    "start_time": "2023-09-18T18:17:06.936Z"
   },
   {
    "duration": 1533,
    "start_time": "2023-09-18T18:17:08.132Z"
   },
   {
    "duration": 304,
    "start_time": "2023-09-18T18:17:09.668Z"
   },
   {
    "duration": 766,
    "start_time": "2023-09-18T18:17:09.975Z"
   },
   {
    "duration": 234,
    "start_time": "2023-09-18T18:17:10.743Z"
   },
   {
    "duration": 141,
    "start_time": "2023-09-18T18:17:10.979Z"
   },
   {
    "duration": 1455,
    "start_time": "2023-09-18T18:17:11.122Z"
   },
   {
    "duration": 123,
    "start_time": "2023-09-18T18:17:20.271Z"
   },
   {
    "duration": 17208,
    "start_time": "2023-09-18T18:17:34.105Z"
   },
   {
    "duration": 1662,
    "start_time": "2023-09-18T18:20:58.344Z"
   },
   {
    "duration": 56,
    "start_time": "2023-09-18T18:21:00.008Z"
   },
   {
    "duration": 48,
    "start_time": "2023-09-18T18:21:00.066Z"
   },
   {
    "duration": 26,
    "start_time": "2023-09-18T18:21:00.117Z"
   },
   {
    "duration": 86,
    "start_time": "2023-09-18T18:21:00.145Z"
   },
   {
    "duration": 13,
    "start_time": "2023-09-18T18:21:00.233Z"
   },
   {
    "duration": 102,
    "start_time": "2023-09-18T18:21:00.249Z"
   },
   {
    "duration": 99,
    "start_time": "2023-09-18T18:21:00.353Z"
   },
   {
    "duration": 144,
    "start_time": "2023-09-18T18:21:00.454Z"
   },
   {
    "duration": 102,
    "start_time": "2023-09-18T18:21:00.600Z"
   },
   {
    "duration": 103,
    "start_time": "2023-09-18T18:21:00.703Z"
   },
   {
    "duration": 270,
    "start_time": "2023-09-18T18:21:00.808Z"
   },
   {
    "duration": 61,
    "start_time": "2023-09-18T18:21:01.080Z"
   },
   {
    "duration": 123,
    "start_time": "2023-09-18T18:21:01.145Z"
   },
   {
    "duration": 85,
    "start_time": "2023-09-18T18:21:01.270Z"
   },
   {
    "duration": 78,
    "start_time": "2023-09-18T18:21:01.358Z"
   },
   {
    "duration": 112,
    "start_time": "2023-09-18T18:21:01.438Z"
   },
   {
    "duration": 130,
    "start_time": "2023-09-18T18:21:01.552Z"
   },
   {
    "duration": 60,
    "start_time": "2023-09-18T18:21:01.684Z"
   },
   {
    "duration": 17093,
    "start_time": "2023-09-18T18:21:01.746Z"
   },
   {
    "duration": 123,
    "start_time": "2023-09-18T18:21:18.841Z"
   },
   {
    "duration": 563,
    "start_time": "2023-09-18T18:21:18.967Z"
   },
   {
    "duration": 8,
    "start_time": "2023-09-18T18:21:19.532Z"
   },
   {
    "duration": 105,
    "start_time": "2023-09-18T18:21:19.542Z"
   },
   {
    "duration": 37,
    "start_time": "2023-09-18T18:21:19.649Z"
   },
   {
    "duration": 131,
    "start_time": "2023-09-18T18:21:19.688Z"
   },
   {
    "duration": 82,
    "start_time": "2023-09-18T18:21:19.821Z"
   },
   {
    "duration": 144,
    "start_time": "2023-09-18T18:21:19.905Z"
   },
   {
    "duration": 111,
    "start_time": "2023-09-18T18:21:20.057Z"
   },
   {
    "duration": 99,
    "start_time": "2023-09-18T18:21:20.170Z"
   },
   {
    "duration": 236,
    "start_time": "2023-09-18T18:21:20.271Z"
   },
   {
    "duration": 1109,
    "start_time": "2023-09-18T18:21:20.508Z"
   },
   {
    "duration": 140,
    "start_time": "2023-09-18T18:21:21.618Z"
   },
   {
    "duration": 136,
    "start_time": "2023-09-18T18:21:21.761Z"
   },
   {
    "duration": 13,
    "start_time": "2023-09-18T18:21:21.899Z"
   },
   {
    "duration": 123,
    "start_time": "2023-09-18T18:21:21.914Z"
   },
   {
    "duration": 455,
    "start_time": "2023-09-18T18:21:22.039Z"
   },
   {
    "duration": 26,
    "start_time": "2023-09-18T18:21:22.496Z"
   },
   {
    "duration": 48,
    "start_time": "2023-09-18T18:21:22.524Z"
   },
   {
    "duration": 86,
    "start_time": "2023-09-18T18:21:22.574Z"
   },
   {
    "duration": 396,
    "start_time": "2023-09-18T18:21:22.666Z"
   },
   {
    "duration": 145,
    "start_time": "2023-09-18T18:21:23.065Z"
   },
   {
    "duration": 204,
    "start_time": "2023-09-18T18:21:23.212Z"
   },
   {
    "duration": 120,
    "start_time": "2023-09-18T18:21:23.419Z"
   },
   {
    "duration": 1216,
    "start_time": "2023-09-18T18:21:23.541Z"
   },
   {
    "duration": 1452,
    "start_time": "2023-09-18T18:21:24.759Z"
   },
   {
    "duration": 274,
    "start_time": "2023-09-18T18:21:26.213Z"
   },
   {
    "duration": 769,
    "start_time": "2023-09-18T18:21:26.489Z"
   },
   {
    "duration": 198,
    "start_time": "2023-09-18T18:21:27.260Z"
   },
   {
    "duration": 148,
    "start_time": "2023-09-18T18:21:27.460Z"
   },
   {
    "duration": 1564,
    "start_time": "2023-09-18T18:21:27.610Z"
   },
   {
    "duration": 1767,
    "start_time": "2023-09-21T15:01:33.765Z"
   },
   {
    "duration": 96,
    "start_time": "2023-09-21T15:01:35.535Z"
   },
   {
    "duration": 21,
    "start_time": "2023-09-21T15:01:35.634Z"
   },
   {
    "duration": 61,
    "start_time": "2023-09-21T15:01:35.657Z"
   },
   {
    "duration": 119,
    "start_time": "2023-09-21T15:01:35.721Z"
   },
   {
    "duration": 84,
    "start_time": "2023-09-21T15:01:35.842Z"
   },
   {
    "duration": 47,
    "start_time": "2023-09-21T15:01:35.927Z"
   },
   {
    "duration": 10,
    "start_time": "2023-09-21T15:01:35.976Z"
   },
   {
    "duration": 32,
    "start_time": "2023-09-21T15:01:35.987Z"
   },
   {
    "duration": 69,
    "start_time": "2023-09-21T15:01:36.023Z"
   },
   {
    "duration": 57,
    "start_time": "2023-09-21T15:01:36.094Z"
   },
   {
    "duration": 69,
    "start_time": "2023-09-21T15:01:36.153Z"
   },
   {
    "duration": 37,
    "start_time": "2023-09-21T15:01:36.224Z"
   },
   {
    "duration": 26,
    "start_time": "2023-09-21T15:01:36.263Z"
   },
   {
    "duration": 36,
    "start_time": "2023-09-21T15:01:36.291Z"
   },
   {
    "duration": 45,
    "start_time": "2023-09-21T15:01:36.329Z"
   },
   {
    "duration": 57,
    "start_time": "2023-09-21T15:01:36.377Z"
   },
   {
    "duration": 74,
    "start_time": "2023-09-21T15:01:36.436Z"
   },
   {
    "duration": 197,
    "start_time": "2023-09-21T15:01:36.512Z"
   },
   {
    "duration": 17009,
    "start_time": "2023-09-21T15:01:36.711Z"
   },
   {
    "duration": 85,
    "start_time": "2023-09-21T15:01:53.722Z"
   },
   {
    "duration": 553,
    "start_time": "2023-09-21T15:01:53.809Z"
   },
   {
    "duration": 6,
    "start_time": "2023-09-21T15:01:54.364Z"
   },
   {
    "duration": 24,
    "start_time": "2023-09-21T15:01:54.372Z"
   },
   {
    "duration": 35,
    "start_time": "2023-09-21T15:01:54.398Z"
   },
   {
    "duration": 136,
    "start_time": "2023-09-21T15:01:54.435Z"
   },
   {
    "duration": 100,
    "start_time": "2023-09-21T15:01:54.573Z"
   },
   {
    "duration": 145,
    "start_time": "2023-09-21T15:01:54.678Z"
   },
   {
    "duration": 80,
    "start_time": "2023-09-21T15:01:54.825Z"
   },
   {
    "duration": 103,
    "start_time": "2023-09-21T15:01:54.907Z"
   },
   {
    "duration": 272,
    "start_time": "2023-09-21T15:01:55.012Z"
   },
   {
    "duration": 1132,
    "start_time": "2023-09-21T15:01:55.286Z"
   },
   {
    "duration": 85,
    "start_time": "2023-09-21T15:01:56.419Z"
   },
   {
    "duration": 141,
    "start_time": "2023-09-21T15:01:56.507Z"
   },
   {
    "duration": 39,
    "start_time": "2023-09-21T15:01:56.650Z"
   },
   {
    "duration": 93,
    "start_time": "2023-09-21T15:01:56.690Z"
   },
   {
    "duration": 473,
    "start_time": "2023-09-21T15:01:56.785Z"
   },
   {
    "duration": 27,
    "start_time": "2023-09-21T15:01:57.260Z"
   },
   {
    "duration": 52,
    "start_time": "2023-09-21T15:01:57.302Z"
   },
   {
    "duration": 103,
    "start_time": "2023-09-21T15:01:57.402Z"
   },
   {
    "duration": 309,
    "start_time": "2023-09-21T15:01:57.507Z"
   },
   {
    "duration": 143,
    "start_time": "2023-09-21T15:01:57.818Z"
   },
   {
    "duration": 211,
    "start_time": "2023-09-21T15:01:57.963Z"
   },
   {
    "duration": 104,
    "start_time": "2023-09-21T15:01:58.176Z"
   },
   {
    "duration": 1129,
    "start_time": "2023-09-21T15:01:58.282Z"
   },
   {
    "duration": 1473,
    "start_time": "2023-09-21T15:01:59.413Z"
   },
   {
    "duration": 305,
    "start_time": "2023-09-21T15:02:00.887Z"
   },
   {
    "duration": 757,
    "start_time": "2023-09-21T15:02:01.194Z"
   },
   {
    "duration": 181,
    "start_time": "2023-09-21T15:02:01.953Z"
   },
   {
    "duration": 1112,
    "start_time": "2023-09-21T15:02:02.136Z"
   },
   {
    "duration": 1654,
    "start_time": "2023-09-21T15:02:03.250Z"
   },
   {
    "duration": 109,
    "start_time": "2023-09-21T15:05:04.344Z"
   },
   {
    "duration": 1420,
    "start_time": "2023-09-21T15:05:38.758Z"
   },
   {
    "duration": 45,
    "start_time": "2023-09-21T15:05:40.181Z"
   },
   {
    "duration": 21,
    "start_time": "2023-09-21T15:05:40.228Z"
   },
   {
    "duration": 41,
    "start_time": "2023-09-21T15:05:40.251Z"
   },
   {
    "duration": 82,
    "start_time": "2023-09-21T15:05:40.295Z"
   },
   {
    "duration": 12,
    "start_time": "2023-09-21T15:05:40.379Z"
   },
   {
    "duration": 45,
    "start_time": "2023-09-21T15:05:40.393Z"
   },
   {
    "duration": 13,
    "start_time": "2023-09-21T15:05:40.440Z"
   },
   {
    "duration": 23,
    "start_time": "2023-09-21T15:05:40.455Z"
   },
   {
    "duration": 67,
    "start_time": "2023-09-21T15:05:40.480Z"
   },
   {
    "duration": 53,
    "start_time": "2023-09-21T15:05:40.549Z"
   },
   {
    "duration": 49,
    "start_time": "2023-09-21T15:05:40.604Z"
   },
   {
    "duration": 43,
    "start_time": "2023-09-21T15:05:40.654Z"
   },
   {
    "duration": 37,
    "start_time": "2023-09-21T15:05:40.700Z"
   },
   {
    "duration": 32,
    "start_time": "2023-09-21T15:05:40.738Z"
   },
   {
    "duration": 38,
    "start_time": "2023-09-21T15:05:40.772Z"
   },
   {
    "duration": 52,
    "start_time": "2023-09-21T15:05:40.812Z"
   },
   {
    "duration": 44,
    "start_time": "2023-09-21T15:05:40.866Z"
   },
   {
    "duration": 50,
    "start_time": "2023-09-21T15:05:40.913Z"
   },
   {
    "duration": 17183,
    "start_time": "2023-09-21T15:05:40.965Z"
   },
   {
    "duration": 60,
    "start_time": "2023-09-21T15:05:58.150Z"
   },
   {
    "duration": 473,
    "start_time": "2023-09-21T15:05:58.303Z"
   },
   {
    "duration": 7,
    "start_time": "2023-09-21T15:05:58.778Z"
   },
   {
    "duration": 19,
    "start_time": "2023-09-21T15:05:58.786Z"
   },
   {
    "duration": 41,
    "start_time": "2023-09-21T15:05:58.807Z"
   },
   {
    "duration": 131,
    "start_time": "2023-09-21T15:05:58.850Z"
   },
   {
    "duration": 82,
    "start_time": "2023-09-21T15:05:58.982Z"
   },
   {
    "duration": 138,
    "start_time": "2023-09-21T15:05:59.065Z"
   },
   {
    "duration": 101,
    "start_time": "2023-09-21T15:05:59.204Z"
   },
   {
    "duration": 284,
    "start_time": "2023-09-21T15:05:59.307Z"
   },
   {
    "duration": 254,
    "start_time": "2023-09-21T15:05:59.593Z"
   },
   {
    "duration": 1135,
    "start_time": "2023-09-21T15:05:59.849Z"
   },
   {
    "duration": 116,
    "start_time": "2023-09-21T15:06:00.986Z"
   },
   {
    "duration": 265,
    "start_time": "2023-09-21T15:06:01.108Z"
   },
   {
    "duration": 849,
    "start_time": "2023-09-21T15:06:01.376Z"
   },
   {
    "duration": 356,
    "start_time": "2023-09-21T15:06:02.227Z"
   },
   {
    "duration": 469,
    "start_time": "2023-09-21T15:06:02.585Z"
   },
   {
    "duration": 25,
    "start_time": "2023-09-21T15:06:03.056Z"
   },
   {
    "duration": 59,
    "start_time": "2023-09-21T15:06:03.083Z"
   },
   {
    "duration": 199,
    "start_time": "2023-09-21T15:06:03.202Z"
   },
   {
    "duration": 2,
    "start_time": "2023-09-21T15:06:03.407Z"
   },
   {
    "duration": 308,
    "start_time": "2023-09-21T15:06:03.411Z"
   },
   {
    "duration": 137,
    "start_time": "2023-09-21T15:06:03.722Z"
   },
   {
    "duration": 196,
    "start_time": "2023-09-21T15:06:03.861Z"
   },
   {
    "duration": 1153,
    "start_time": "2023-09-21T15:06:04.060Z"
   },
   {
    "duration": 1448,
    "start_time": "2023-09-21T15:06:05.215Z"
   },
   {
    "duration": 269,
    "start_time": "2023-09-21T15:06:06.665Z"
   },
   {
    "duration": 724,
    "start_time": "2023-09-21T15:06:06.937Z"
   },
   {
    "duration": 183,
    "start_time": "2023-09-21T15:06:07.663Z"
   },
   {
    "duration": 147,
    "start_time": "2023-09-21T15:06:07.848Z"
   },
   {
    "duration": 1469,
    "start_time": "2023-09-21T15:06:08.001Z"
   },
   {
    "duration": 24,
    "start_time": "2023-09-21T15:16:09.325Z"
   },
   {
    "duration": 1538,
    "start_time": "2023-09-21T15:18:43.819Z"
   },
   {
    "duration": 45,
    "start_time": "2023-09-21T15:18:45.360Z"
   },
   {
    "duration": 396,
    "start_time": "2023-09-21T15:18:45.407Z"
   },
   {
    "duration": 440,
    "start_time": "2023-09-21T15:18:45.805Z"
   },
   {
    "duration": 82,
    "start_time": "2023-09-21T15:18:46.246Z"
   },
   {
    "duration": 12,
    "start_time": "2023-09-21T15:18:46.330Z"
   },
   {
    "duration": 51,
    "start_time": "2023-09-21T15:18:46.344Z"
   },
   {
    "duration": 19,
    "start_time": "2023-09-21T15:18:46.397Z"
   },
   {
    "duration": 57,
    "start_time": "2023-09-21T15:18:46.417Z"
   },
   {
    "duration": 74,
    "start_time": "2023-09-21T15:18:46.477Z"
   },
   {
    "duration": 27,
    "start_time": "2023-09-21T15:18:46.554Z"
   },
   {
    "duration": 48,
    "start_time": "2023-09-21T15:18:46.583Z"
   },
   {
    "duration": 44,
    "start_time": "2023-09-21T15:18:46.633Z"
   },
   {
    "duration": 18,
    "start_time": "2023-09-21T15:18:46.680Z"
   },
   {
    "duration": 38,
    "start_time": "2023-09-21T15:18:46.700Z"
   },
   {
    "duration": 25,
    "start_time": "2023-09-21T15:18:46.740Z"
   },
   {
    "duration": 65,
    "start_time": "2023-09-21T15:18:46.767Z"
   },
   {
    "duration": 39,
    "start_time": "2023-09-21T15:18:46.834Z"
   },
   {
    "duration": 66,
    "start_time": "2023-09-21T15:18:46.875Z"
   },
   {
    "duration": 16980,
    "start_time": "2023-09-21T15:18:46.943Z"
   },
   {
    "duration": 83,
    "start_time": "2023-09-21T15:19:03.924Z"
   },
   {
    "duration": 779,
    "start_time": "2023-09-21T15:19:04.010Z"
   },
   {
    "duration": 10,
    "start_time": "2023-09-21T15:19:04.802Z"
   },
   {
    "duration": 107,
    "start_time": "2023-09-21T15:19:04.814Z"
   },
   {
    "duration": 54,
    "start_time": "2023-09-21T15:19:04.923Z"
   },
   {
    "duration": 130,
    "start_time": "2023-09-21T15:19:04.978Z"
   },
   {
    "duration": 75,
    "start_time": "2023-09-21T15:19:05.111Z"
   },
   {
    "duration": 142,
    "start_time": "2023-09-21T15:19:05.202Z"
   },
   {
    "duration": 68,
    "start_time": "2023-09-21T15:19:05.346Z"
   },
   {
    "duration": 104,
    "start_time": "2023-09-21T15:19:05.416Z"
   },
   {
    "duration": 207,
    "start_time": "2023-09-21T15:19:05.601Z"
   },
   {
    "duration": 1115,
    "start_time": "2023-09-21T15:19:05.810Z"
   },
   {
    "duration": 79,
    "start_time": "2023-09-21T15:19:06.926Z"
   },
   {
    "duration": 147,
    "start_time": "2023-09-21T15:19:07.007Z"
   },
   {
    "duration": 24,
    "start_time": "2023-09-21T15:19:07.155Z"
   },
   {
    "duration": 104,
    "start_time": "2023-09-21T15:19:07.180Z"
   },
   {
    "duration": 446,
    "start_time": "2023-09-21T15:19:07.286Z"
   },
   {
    "duration": 22,
    "start_time": "2023-09-21T15:19:07.734Z"
   },
   {
    "duration": 45,
    "start_time": "2023-09-21T15:19:07.758Z"
   },
   {
    "duration": 197,
    "start_time": "2023-09-21T15:19:07.805Z"
   },
   {
    "duration": 311,
    "start_time": "2023-09-21T15:19:08.004Z"
   },
   {
    "duration": 137,
    "start_time": "2023-09-21T15:19:08.317Z"
   },
   {
    "duration": 209,
    "start_time": "2023-09-21T15:19:08.456Z"
   },
   {
    "duration": 102,
    "start_time": "2023-09-21T15:19:08.667Z"
   },
   {
    "duration": 1088,
    "start_time": "2023-09-21T15:19:08.771Z"
   },
   {
    "duration": 1418,
    "start_time": "2023-09-21T15:19:09.861Z"
   },
   {
    "duration": 271,
    "start_time": "2023-09-21T15:19:11.281Z"
   },
   {
    "duration": 759,
    "start_time": "2023-09-21T15:19:11.555Z"
   },
   {
    "duration": 181,
    "start_time": "2023-09-21T15:19:12.316Z"
   },
   {
    "duration": 150,
    "start_time": "2023-09-21T15:19:12.502Z"
   },
   {
    "duration": 1448,
    "start_time": "2023-09-21T15:19:12.654Z"
   },
   {
    "duration": 76778,
    "start_time": "2023-09-21T15:21:21.824Z"
   },
   {
    "duration": 163,
    "start_time": "2023-09-21T15:22:48.742Z"
   },
   {
    "duration": 125,
    "start_time": "2023-09-21T15:24:10.889Z"
   },
   {
    "duration": 1435,
    "start_time": "2023-09-21T15:24:20.846Z"
   },
   {
    "duration": 45,
    "start_time": "2023-09-21T15:24:22.283Z"
   },
   {
    "duration": 58,
    "start_time": "2023-09-21T15:24:22.330Z"
   },
   {
    "duration": 53,
    "start_time": "2023-09-21T15:24:22.391Z"
   },
   {
    "duration": 79,
    "start_time": "2023-09-21T15:24:22.446Z"
   },
   {
    "duration": 13,
    "start_time": "2023-09-21T15:24:22.526Z"
   },
   {
    "duration": 22,
    "start_time": "2023-09-21T15:24:22.542Z"
   },
   {
    "duration": 8,
    "start_time": "2023-09-21T15:24:22.567Z"
   },
   {
    "duration": 69,
    "start_time": "2023-09-21T15:24:22.577Z"
   },
   {
    "duration": 97,
    "start_time": "2023-09-21T15:24:22.650Z"
   },
   {
    "duration": 110,
    "start_time": "2023-09-21T15:24:22.749Z"
   },
   {
    "duration": 53,
    "start_time": "2023-09-21T15:24:22.861Z"
   },
   {
    "duration": 65,
    "start_time": "2023-09-21T15:24:22.916Z"
   },
   {
    "duration": 33,
    "start_time": "2023-09-21T15:24:22.983Z"
   },
   {
    "duration": 68,
    "start_time": "2023-09-21T15:24:23.018Z"
   },
   {
    "duration": 28,
    "start_time": "2023-09-21T15:24:23.087Z"
   },
   {
    "duration": 51,
    "start_time": "2023-09-21T15:24:23.117Z"
   },
   {
    "duration": 34,
    "start_time": "2023-09-21T15:24:23.170Z"
   },
   {
    "duration": 135,
    "start_time": "2023-09-21T15:24:23.206Z"
   },
   {
    "duration": 0,
    "start_time": "2023-09-21T15:24:23.344Z"
   },
   {
    "duration": 0,
    "start_time": "2023-09-21T15:24:23.345Z"
   },
   {
    "duration": 0,
    "start_time": "2023-09-21T15:24:23.346Z"
   },
   {
    "duration": 0,
    "start_time": "2023-09-21T15:24:23.347Z"
   },
   {
    "duration": 0,
    "start_time": "2023-09-21T15:24:23.348Z"
   },
   {
    "duration": 0,
    "start_time": "2023-09-21T15:24:23.350Z"
   },
   {
    "duration": 0,
    "start_time": "2023-09-21T15:24:23.351Z"
   },
   {
    "duration": 0,
    "start_time": "2023-09-21T15:24:23.352Z"
   },
   {
    "duration": 0,
    "start_time": "2023-09-21T15:24:23.353Z"
   },
   {
    "duration": 0,
    "start_time": "2023-09-21T15:24:23.354Z"
   },
   {
    "duration": 0,
    "start_time": "2023-09-21T15:24:23.355Z"
   },
   {
    "duration": 0,
    "start_time": "2023-09-21T15:24:23.356Z"
   },
   {
    "duration": 0,
    "start_time": "2023-09-21T15:24:23.357Z"
   },
   {
    "duration": 0,
    "start_time": "2023-09-21T15:24:23.358Z"
   },
   {
    "duration": 0,
    "start_time": "2023-09-21T15:24:23.358Z"
   },
   {
    "duration": 0,
    "start_time": "2023-09-21T15:24:23.359Z"
   },
   {
    "duration": 0,
    "start_time": "2023-09-21T15:24:23.360Z"
   },
   {
    "duration": 0,
    "start_time": "2023-09-21T15:24:23.361Z"
   },
   {
    "duration": 1,
    "start_time": "2023-09-21T15:24:23.362Z"
   },
   {
    "duration": 0,
    "start_time": "2023-09-21T15:24:23.363Z"
   },
   {
    "duration": 0,
    "start_time": "2023-09-21T15:24:23.365Z"
   },
   {
    "duration": 0,
    "start_time": "2023-09-21T15:24:23.366Z"
   },
   {
    "duration": 0,
    "start_time": "2023-09-21T15:24:23.367Z"
   },
   {
    "duration": 0,
    "start_time": "2023-09-21T15:24:23.368Z"
   },
   {
    "duration": 0,
    "start_time": "2023-09-21T15:24:23.368Z"
   },
   {
    "duration": 0,
    "start_time": "2023-09-21T15:24:23.369Z"
   },
   {
    "duration": 0,
    "start_time": "2023-09-21T15:24:23.370Z"
   },
   {
    "duration": 0,
    "start_time": "2023-09-21T15:24:23.371Z"
   },
   {
    "duration": 0,
    "start_time": "2023-09-21T15:24:23.373Z"
   },
   {
    "duration": 0,
    "start_time": "2023-09-21T15:24:23.374Z"
   },
   {
    "duration": 0,
    "start_time": "2023-09-21T15:24:23.375Z"
   },
   {
    "duration": 0,
    "start_time": "2023-09-21T15:24:23.375Z"
   },
   {
    "duration": 1581,
    "start_time": "2023-09-21T15:24:44.637Z"
   },
   {
    "duration": 45,
    "start_time": "2023-09-21T15:24:46.220Z"
   },
   {
    "duration": 21,
    "start_time": "2023-09-21T15:24:46.267Z"
   },
   {
    "duration": 48,
    "start_time": "2023-09-21T15:24:46.290Z"
   },
   {
    "duration": 90,
    "start_time": "2023-09-21T15:24:46.340Z"
   },
   {
    "duration": 13,
    "start_time": "2023-09-21T15:24:46.432Z"
   },
   {
    "duration": 103,
    "start_time": "2023-09-21T15:24:46.447Z"
   },
   {
    "duration": 64,
    "start_time": "2023-09-21T15:24:46.552Z"
   },
   {
    "duration": 24,
    "start_time": "2023-09-21T15:24:46.618Z"
   },
   {
    "duration": 29,
    "start_time": "2023-09-21T15:24:46.644Z"
   },
   {
    "duration": 40,
    "start_time": "2023-09-21T15:24:46.675Z"
   },
   {
    "duration": 44,
    "start_time": "2023-09-21T15:24:46.716Z"
   },
   {
    "duration": 54,
    "start_time": "2023-09-21T15:24:46.761Z"
   },
   {
    "duration": 9,
    "start_time": "2023-09-21T15:24:46.818Z"
   },
   {
    "duration": 47,
    "start_time": "2023-09-21T15:24:46.829Z"
   },
   {
    "duration": 40,
    "start_time": "2023-09-21T15:24:46.877Z"
   },
   {
    "duration": 49,
    "start_time": "2023-09-21T15:24:46.919Z"
   },
   {
    "duration": 48,
    "start_time": "2023-09-21T15:24:46.970Z"
   },
   {
    "duration": 93,
    "start_time": "2023-09-21T15:24:47.020Z"
   },
   {
    "duration": 67153,
    "start_time": "2023-09-21T15:24:47.115Z"
   },
   {
    "duration": 43,
    "start_time": "2023-09-21T15:25:54.270Z"
   },
   {
    "duration": 432,
    "start_time": "2023-09-21T15:25:54.401Z"
   },
   {
    "duration": 7,
    "start_time": "2023-09-21T15:25:54.835Z"
   },
   {
    "duration": 31,
    "start_time": "2023-09-21T15:25:54.844Z"
   },
   {
    "duration": 59,
    "start_time": "2023-09-21T15:25:54.877Z"
   },
   {
    "duration": 128,
    "start_time": "2023-09-21T15:25:54.938Z"
   },
   {
    "duration": 65,
    "start_time": "2023-09-21T15:25:55.067Z"
   },
   {
    "duration": 160,
    "start_time": "2023-09-21T15:25:55.134Z"
   },
   {
    "duration": 35,
    "start_time": "2023-09-21T15:25:55.301Z"
   },
   {
    "duration": 75,
    "start_time": "2023-09-21T15:25:55.338Z"
   },
   {
    "duration": 107,
    "start_time": "2023-09-21T15:25:55.501Z"
   },
   {
    "duration": 983,
    "start_time": "2023-09-21T15:25:55.611Z"
   },
   {
    "duration": 40,
    "start_time": "2023-09-21T15:25:56.596Z"
   },
   {
    "duration": 130,
    "start_time": "2023-09-21T15:25:56.705Z"
   },
   {
    "duration": 13,
    "start_time": "2023-09-21T15:25:56.838Z"
   },
   {
    "duration": 124,
    "start_time": "2023-09-21T15:25:56.853Z"
   },
   {
    "duration": 414,
    "start_time": "2023-09-21T15:25:56.979Z"
   },
   {
    "duration": 27,
    "start_time": "2023-09-21T15:25:57.395Z"
   },
   {
    "duration": 77,
    "start_time": "2023-09-21T15:25:57.423Z"
   },
   {
    "duration": 96,
    "start_time": "2023-09-21T15:25:57.506Z"
   },
   {
    "duration": 318,
    "start_time": "2023-09-21T15:25:57.606Z"
   },
   {
    "duration": 144,
    "start_time": "2023-09-21T15:25:57.926Z"
   },
   {
    "duration": 190,
    "start_time": "2023-09-21T15:25:58.072Z"
   },
   {
    "duration": 94,
    "start_time": "2023-09-21T15:25:58.264Z"
   },
   {
    "duration": 982,
    "start_time": "2023-09-21T15:25:58.360Z"
   },
   {
    "duration": 1252,
    "start_time": "2023-09-21T15:25:59.344Z"
   },
   {
    "duration": 246,
    "start_time": "2023-09-21T15:26:00.601Z"
   },
   {
    "duration": 679,
    "start_time": "2023-09-21T15:26:00.849Z"
   },
   {
    "duration": 181,
    "start_time": "2023-09-21T15:26:01.530Z"
   },
   {
    "duration": 1246,
    "start_time": "2023-09-21T15:26:01.713Z"
   },
   {
    "duration": 1266,
    "start_time": "2023-09-21T15:26:02.961Z"
   },
   {
    "duration": 534,
    "start_time": "2023-09-21T15:27:12.705Z"
   },
   {
    "duration": 1532,
    "start_time": "2023-09-21T15:27:20.576Z"
   },
   {
    "duration": 45,
    "start_time": "2023-09-21T15:27:22.111Z"
   },
   {
    "duration": 22,
    "start_time": "2023-09-21T15:27:22.158Z"
   },
   {
    "duration": 34,
    "start_time": "2023-09-21T15:27:22.182Z"
   },
   {
    "duration": 71,
    "start_time": "2023-09-21T15:27:22.220Z"
   },
   {
    "duration": 12,
    "start_time": "2023-09-21T15:27:22.293Z"
   },
   {
    "duration": 36,
    "start_time": "2023-09-21T15:27:22.307Z"
   },
   {
    "duration": 36,
    "start_time": "2023-09-21T15:27:22.345Z"
   },
   {
    "duration": 45,
    "start_time": "2023-09-21T15:27:22.382Z"
   },
   {
    "duration": 60,
    "start_time": "2023-09-21T15:27:22.430Z"
   },
   {
    "duration": 51,
    "start_time": "2023-09-21T15:27:22.492Z"
   },
   {
    "duration": 40,
    "start_time": "2023-09-21T15:27:22.546Z"
   },
   {
    "duration": 89,
    "start_time": "2023-09-21T15:27:22.588Z"
   },
   {
    "duration": 70,
    "start_time": "2023-09-21T15:27:22.680Z"
   },
   {
    "duration": 41,
    "start_time": "2023-09-21T15:27:22.752Z"
   },
   {
    "duration": 35,
    "start_time": "2023-09-21T15:27:22.795Z"
   },
   {
    "duration": 62,
    "start_time": "2023-09-21T15:27:22.831Z"
   },
   {
    "duration": 81,
    "start_time": "2023-09-21T15:27:22.895Z"
   },
   {
    "duration": 57,
    "start_time": "2023-09-21T15:27:22.978Z"
   },
   {
    "duration": 67258,
    "start_time": "2023-09-21T15:27:23.037Z"
   },
   {
    "duration": 102,
    "start_time": "2023-09-21T15:28:30.301Z"
   },
   {
    "duration": 490,
    "start_time": "2023-09-21T15:28:30.405Z"
   },
   {
    "duration": 8,
    "start_time": "2023-09-21T15:28:30.901Z"
   },
   {
    "duration": 259,
    "start_time": "2023-09-21T15:28:30.911Z"
   },
   {
    "duration": 112,
    "start_time": "2023-09-21T15:28:31.172Z"
   },
   {
    "duration": 254,
    "start_time": "2023-09-21T15:28:31.286Z"
   },
   {
    "duration": 166,
    "start_time": "2023-09-21T15:28:31.542Z"
   },
   {
    "duration": 375,
    "start_time": "2023-09-21T15:28:31.710Z"
   },
   {
    "duration": 114,
    "start_time": "2023-09-21T15:28:32.087Z"
   },
   {
    "duration": 104,
    "start_time": "2023-09-21T15:28:32.204Z"
   },
   {
    "duration": 125,
    "start_time": "2023-09-21T15:28:32.309Z"
   },
   {
    "duration": 981,
    "start_time": "2023-09-21T15:28:32.436Z"
   },
   {
    "duration": 35,
    "start_time": "2023-09-21T15:28:33.419Z"
   },
   {
    "duration": 127,
    "start_time": "2023-09-21T15:28:33.502Z"
   },
   {
    "duration": 23,
    "start_time": "2023-09-21T15:28:33.631Z"
   },
   {
    "duration": 124,
    "start_time": "2023-09-21T15:28:33.656Z"
   },
   {
    "duration": 420,
    "start_time": "2023-09-21T15:28:33.781Z"
   },
   {
    "duration": 25,
    "start_time": "2023-09-21T15:28:34.203Z"
   },
   {
    "duration": 124,
    "start_time": "2023-09-21T15:28:34.230Z"
   },
   {
    "duration": 6,
    "start_time": "2023-09-21T15:28:34.401Z"
   },
   {
    "duration": 428,
    "start_time": "2023-09-21T15:28:34.412Z"
   },
   {
    "duration": 135,
    "start_time": "2023-09-21T15:28:34.842Z"
   },
   {
    "duration": 200,
    "start_time": "2023-09-21T15:28:34.979Z"
   },
   {
    "duration": 463,
    "start_time": "2023-09-21T15:28:35.181Z"
   },
   {
    "duration": 978,
    "start_time": "2023-09-21T15:28:35.646Z"
   },
   {
    "duration": 1280,
    "start_time": "2023-09-21T15:28:36.626Z"
   },
   {
    "duration": 261,
    "start_time": "2023-09-21T15:28:37.908Z"
   },
   {
    "duration": 724,
    "start_time": "2023-09-21T15:28:38.171Z"
   },
   {
    "duration": 205,
    "start_time": "2023-09-21T15:28:38.902Z"
   },
   {
    "duration": 135,
    "start_time": "2023-09-21T15:28:39.109Z"
   },
   {
    "duration": 1296,
    "start_time": "2023-09-21T15:28:39.246Z"
   },
   {
    "duration": 580,
    "start_time": "2023-09-21T15:29:47.071Z"
   },
   {
    "duration": 588,
    "start_time": "2023-09-21T15:29:51.263Z"
   },
   {
    "duration": 620,
    "start_time": "2023-09-21T15:29:54.605Z"
   },
   {
    "duration": 1574,
    "start_time": "2023-09-21T15:47:36.572Z"
   },
   {
    "duration": 45,
    "start_time": "2023-09-21T15:47:38.149Z"
   },
   {
    "duration": 21,
    "start_time": "2023-09-21T15:47:38.196Z"
   },
   {
    "duration": 17,
    "start_time": "2023-09-21T15:47:38.219Z"
   },
   {
    "duration": 46,
    "start_time": "2023-09-21T15:47:38.238Z"
   },
   {
    "duration": 15,
    "start_time": "2023-09-21T15:47:38.301Z"
   },
   {
    "duration": 24,
    "start_time": "2023-09-21T15:47:38.318Z"
   },
   {
    "duration": 15,
    "start_time": "2023-09-21T15:47:38.344Z"
   },
   {
    "duration": 14,
    "start_time": "2023-09-21T15:47:38.361Z"
   },
   {
    "duration": 32,
    "start_time": "2023-09-21T15:47:38.378Z"
   },
   {
    "duration": 26,
    "start_time": "2023-09-21T15:47:38.411Z"
   },
   {
    "duration": 29,
    "start_time": "2023-09-21T15:47:38.439Z"
   },
   {
    "duration": 27,
    "start_time": "2023-09-21T15:47:38.470Z"
   },
   {
    "duration": 12,
    "start_time": "2023-09-21T15:47:38.501Z"
   },
   {
    "duration": 30,
    "start_time": "2023-09-21T15:47:38.515Z"
   },
   {
    "duration": 82,
    "start_time": "2023-09-21T15:47:38.547Z"
   },
   {
    "duration": 65,
    "start_time": "2023-09-21T15:47:38.631Z"
   },
   {
    "duration": 20,
    "start_time": "2023-09-21T15:47:38.698Z"
   },
   {
    "duration": 66,
    "start_time": "2023-09-21T15:47:38.721Z"
   },
   {
    "duration": 67970,
    "start_time": "2023-09-21T15:47:38.789Z"
   },
   {
    "duration": 49,
    "start_time": "2023-09-21T15:48:46.761Z"
   },
   {
    "duration": 388,
    "start_time": "2023-09-21T15:48:46.901Z"
   },
   {
    "duration": 7,
    "start_time": "2023-09-21T15:48:47.301Z"
   },
   {
    "duration": 31,
    "start_time": "2023-09-21T15:48:47.310Z"
   },
   {
    "duration": 83,
    "start_time": "2023-09-21T15:48:47.343Z"
   },
   {
    "duration": 138,
    "start_time": "2023-09-21T15:48:47.428Z"
   },
   {
    "duration": 70,
    "start_time": "2023-09-21T15:48:47.567Z"
   },
   {
    "duration": 130,
    "start_time": "2023-09-21T15:48:47.639Z"
   },
   {
    "duration": 43,
    "start_time": "2023-09-21T15:48:47.771Z"
   },
   {
    "duration": 187,
    "start_time": "2023-09-21T15:48:47.817Z"
   },
   {
    "duration": 108,
    "start_time": "2023-09-21T15:48:48.006Z"
   },
   {
    "duration": 1017,
    "start_time": "2023-09-21T15:48:48.115Z"
   },
   {
    "duration": 71,
    "start_time": "2023-09-21T15:48:49.134Z"
   },
   {
    "duration": 170,
    "start_time": "2023-09-21T15:48:49.207Z"
   },
   {
    "duration": 47,
    "start_time": "2023-09-21T15:48:49.379Z"
   },
   {
    "duration": 151,
    "start_time": "2023-09-21T15:48:49.428Z"
   },
   {
    "duration": 426,
    "start_time": "2023-09-21T15:48:49.581Z"
   },
   {
    "duration": 22,
    "start_time": "2023-09-21T15:48:50.009Z"
   },
   {
    "duration": 87,
    "start_time": "2023-09-21T15:48:50.033Z"
   },
   {
    "duration": 180,
    "start_time": "2023-09-21T15:48:50.122Z"
   },
   {
    "duration": 399,
    "start_time": "2023-09-21T15:48:50.307Z"
   },
   {
    "duration": 143,
    "start_time": "2023-09-21T15:48:50.708Z"
   },
   {
    "duration": 194,
    "start_time": "2023-09-21T15:48:50.853Z"
   },
   {
    "duration": 453,
    "start_time": "2023-09-21T15:48:51.049Z"
   },
   {
    "duration": 972,
    "start_time": "2023-09-21T15:48:51.504Z"
   },
   {
    "duration": 1263,
    "start_time": "2023-09-21T15:48:52.478Z"
   },
   {
    "duration": 264,
    "start_time": "2023-09-21T15:48:53.743Z"
   },
   {
    "duration": 743,
    "start_time": "2023-09-21T15:48:54.010Z"
   },
   {
    "duration": 195,
    "start_time": "2023-09-21T15:48:54.756Z"
   },
   {
    "duration": 132,
    "start_time": "2023-09-21T15:48:54.952Z"
   },
   {
    "duration": 1316,
    "start_time": "2023-09-21T15:48:55.086Z"
   },
   {
    "duration": 7,
    "start_time": "2023-09-21T15:54:34.320Z"
   },
   {
    "duration": 5,
    "start_time": "2023-09-21T15:55:26.406Z"
   },
   {
    "duration": 291,
    "start_time": "2023-09-21T15:58:04.277Z"
   },
   {
    "duration": 161,
    "start_time": "2023-09-21T15:58:11.098Z"
   },
   {
    "duration": 155,
    "start_time": "2023-09-21T15:58:16.751Z"
   },
   {
    "duration": 277,
    "start_time": "2023-09-21T15:59:11.550Z"
   },
   {
    "duration": 38380,
    "start_time": "2023-09-21T15:59:41.548Z"
   },
   {
    "duration": 57,
    "start_time": "2023-09-21T16:00:30.545Z"
   },
   {
    "duration": 1487,
    "start_time": "2023-09-21T16:04:43.513Z"
   },
   {
    "duration": 45,
    "start_time": "2023-09-21T16:04:51.335Z"
   },
   {
    "duration": 21,
    "start_time": "2023-09-21T16:04:52.392Z"
   },
   {
    "duration": 13,
    "start_time": "2023-09-21T16:04:53.139Z"
   },
   {
    "duration": 44,
    "start_time": "2023-09-21T16:04:53.765Z"
   },
   {
    "duration": 13,
    "start_time": "2023-09-21T16:04:54.184Z"
   },
   {
    "duration": 26,
    "start_time": "2023-09-21T16:04:54.784Z"
   },
   {
    "duration": 5,
    "start_time": "2023-09-21T16:04:56.643Z"
   },
   {
    "duration": 4,
    "start_time": "2023-09-21T16:04:57.468Z"
   },
   {
    "duration": 18,
    "start_time": "2023-09-21T16:04:58.061Z"
   },
   {
    "duration": 262,
    "start_time": "2023-09-21T16:04:58.817Z"
   },
   {
    "duration": 8,
    "start_time": "2023-09-21T16:04:59.391Z"
   },
   {
    "duration": 13,
    "start_time": "2023-09-21T16:04:59.966Z"
   },
   {
    "duration": 11,
    "start_time": "2023-09-21T16:05:00.522Z"
   },
   {
    "duration": 18,
    "start_time": "2023-09-21T16:05:01.055Z"
   },
   {
    "duration": 6,
    "start_time": "2023-09-21T16:05:01.562Z"
   },
   {
    "duration": 646,
    "start_time": "2023-09-21T16:05:01.968Z"
   },
   {
    "duration": 55,
    "start_time": "2023-09-21T16:05:02.616Z"
   },
   {
    "duration": 2,
    "start_time": "2023-09-21T16:05:03.632Z"
   },
   {
    "duration": 136,
    "start_time": "2023-09-21T16:05:05.195Z"
   },
   {
    "duration": 1472,
    "start_time": "2023-09-21T16:05:45.685Z"
   },
   {
    "duration": 44,
    "start_time": "2023-09-21T16:05:47.159Z"
   },
   {
    "duration": 21,
    "start_time": "2023-09-21T16:05:47.204Z"
   },
   {
    "duration": 15,
    "start_time": "2023-09-21T16:05:47.227Z"
   },
   {
    "duration": 73,
    "start_time": "2023-09-21T16:05:47.245Z"
   },
   {
    "duration": 14,
    "start_time": "2023-09-21T16:05:47.320Z"
   },
   {
    "duration": 31,
    "start_time": "2023-09-21T16:05:47.336Z"
   },
   {
    "duration": 6,
    "start_time": "2023-09-21T16:05:47.369Z"
   },
   {
    "duration": 12,
    "start_time": "2023-09-21T16:05:47.376Z"
   },
   {
    "duration": 25,
    "start_time": "2023-09-21T16:05:47.390Z"
   },
   {
    "duration": 7,
    "start_time": "2023-09-21T16:05:47.416Z"
   },
   {
    "duration": 10,
    "start_time": "2023-09-21T16:05:47.425Z"
   },
   {
    "duration": 12,
    "start_time": "2023-09-21T16:05:47.437Z"
   },
   {
    "duration": 8,
    "start_time": "2023-09-21T16:05:47.453Z"
   },
   {
    "duration": 43,
    "start_time": "2023-09-21T16:05:47.463Z"
   },
   {
    "duration": 12,
    "start_time": "2023-09-21T16:05:47.508Z"
   },
   {
    "duration": 14,
    "start_time": "2023-09-21T16:05:47.522Z"
   },
   {
    "duration": 15,
    "start_time": "2023-09-21T16:05:47.538Z"
   },
   {
    "duration": 7,
    "start_time": "2023-09-21T16:05:47.555Z"
   },
   {
    "duration": 141,
    "start_time": "2023-09-21T16:05:47.563Z"
   },
   {
    "duration": 0,
    "start_time": "2023-09-21T16:05:47.706Z"
   },
   {
    "duration": 0,
    "start_time": "2023-09-21T16:05:47.708Z"
   },
   {
    "duration": 0,
    "start_time": "2023-09-21T16:05:47.709Z"
   },
   {
    "duration": 0,
    "start_time": "2023-09-21T16:05:47.710Z"
   },
   {
    "duration": 0,
    "start_time": "2023-09-21T16:05:47.711Z"
   },
   {
    "duration": 0,
    "start_time": "2023-09-21T16:05:47.712Z"
   },
   {
    "duration": 0,
    "start_time": "2023-09-21T16:05:47.714Z"
   },
   {
    "duration": 0,
    "start_time": "2023-09-21T16:05:47.715Z"
   },
   {
    "duration": 0,
    "start_time": "2023-09-21T16:05:47.716Z"
   },
   {
    "duration": 0,
    "start_time": "2023-09-21T16:05:47.717Z"
   },
   {
    "duration": 0,
    "start_time": "2023-09-21T16:05:47.718Z"
   },
   {
    "duration": 0,
    "start_time": "2023-09-21T16:05:47.719Z"
   },
   {
    "duration": 0,
    "start_time": "2023-09-21T16:05:47.720Z"
   },
   {
    "duration": 0,
    "start_time": "2023-09-21T16:05:47.721Z"
   },
   {
    "duration": 0,
    "start_time": "2023-09-21T16:05:47.722Z"
   },
   {
    "duration": 0,
    "start_time": "2023-09-21T16:05:47.724Z"
   },
   {
    "duration": 0,
    "start_time": "2023-09-21T16:05:47.725Z"
   },
   {
    "duration": 0,
    "start_time": "2023-09-21T16:05:47.726Z"
   },
   {
    "duration": 0,
    "start_time": "2023-09-21T16:05:47.727Z"
   },
   {
    "duration": 0,
    "start_time": "2023-09-21T16:05:47.728Z"
   },
   {
    "duration": 0,
    "start_time": "2023-09-21T16:05:47.729Z"
   },
   {
    "duration": 0,
    "start_time": "2023-09-21T16:05:47.730Z"
   },
   {
    "duration": 0,
    "start_time": "2023-09-21T16:05:47.731Z"
   },
   {
    "duration": 0,
    "start_time": "2023-09-21T16:05:47.732Z"
   },
   {
    "duration": 0,
    "start_time": "2023-09-21T16:05:47.733Z"
   },
   {
    "duration": 0,
    "start_time": "2023-09-21T16:05:47.734Z"
   },
   {
    "duration": 0,
    "start_time": "2023-09-21T16:05:47.735Z"
   },
   {
    "duration": 0,
    "start_time": "2023-09-21T16:05:47.736Z"
   },
   {
    "duration": 0,
    "start_time": "2023-09-21T16:05:47.737Z"
   },
   {
    "duration": 0,
    "start_time": "2023-09-21T16:05:47.739Z"
   },
   {
    "duration": 0,
    "start_time": "2023-09-21T16:05:47.739Z"
   },
   {
    "duration": 1516,
    "start_time": "2023-09-21T16:06:59.773Z"
   },
   {
    "duration": 44,
    "start_time": "2023-09-21T16:07:01.292Z"
   },
   {
    "duration": 41,
    "start_time": "2023-09-21T16:07:01.338Z"
   },
   {
    "duration": 150,
    "start_time": "2023-09-21T16:07:01.381Z"
   },
   {
    "duration": 111,
    "start_time": "2023-09-21T16:07:01.534Z"
   },
   {
    "duration": 262,
    "start_time": "2023-09-21T16:07:01.647Z"
   },
   {
    "duration": 444,
    "start_time": "2023-09-21T16:07:01.911Z"
   },
   {
    "duration": 178,
    "start_time": "2023-09-21T16:07:02.357Z"
   },
   {
    "duration": 39,
    "start_time": "2023-09-21T16:07:02.538Z"
   },
   {
    "duration": 48,
    "start_time": "2023-09-21T16:07:02.579Z"
   },
   {
    "duration": 47,
    "start_time": "2023-09-21T16:07:02.628Z"
   },
   {
    "duration": 116,
    "start_time": "2023-09-21T16:07:02.677Z"
   },
   {
    "duration": 440,
    "start_time": "2023-09-21T16:07:02.795Z"
   },
   {
    "duration": 342,
    "start_time": "2023-09-21T16:07:03.238Z"
   },
   {
    "duration": 189,
    "start_time": "2023-09-21T16:07:03.582Z"
   },
   {
    "duration": 99,
    "start_time": "2023-09-21T16:07:03.773Z"
   },
   {
    "duration": 44,
    "start_time": "2023-09-21T16:07:03.874Z"
   },
   {
    "duration": 46,
    "start_time": "2023-09-21T16:07:03.920Z"
   },
   {
    "duration": 278,
    "start_time": "2023-09-21T16:07:03.967Z"
   },
   {
    "duration": 707,
    "start_time": "2023-09-21T16:07:04.247Z"
   },
   {
    "duration": 0,
    "start_time": "2023-09-21T16:07:04.956Z"
   },
   {
    "duration": 0,
    "start_time": "2023-09-21T16:07:04.957Z"
   },
   {
    "duration": 0,
    "start_time": "2023-09-21T16:07:04.958Z"
   },
   {
    "duration": 0,
    "start_time": "2023-09-21T16:07:04.959Z"
   },
   {
    "duration": 0,
    "start_time": "2023-09-21T16:07:04.961Z"
   },
   {
    "duration": 0,
    "start_time": "2023-09-21T16:07:04.962Z"
   },
   {
    "duration": 0,
    "start_time": "2023-09-21T16:07:04.964Z"
   },
   {
    "duration": 0,
    "start_time": "2023-09-21T16:07:04.965Z"
   },
   {
    "duration": 0,
    "start_time": "2023-09-21T16:07:04.966Z"
   },
   {
    "duration": 0,
    "start_time": "2023-09-21T16:07:04.967Z"
   },
   {
    "duration": 0,
    "start_time": "2023-09-21T16:07:04.968Z"
   },
   {
    "duration": 0,
    "start_time": "2023-09-21T16:07:04.970Z"
   },
   {
    "duration": 0,
    "start_time": "2023-09-21T16:07:04.971Z"
   },
   {
    "duration": 0,
    "start_time": "2023-09-21T16:07:04.972Z"
   },
   {
    "duration": 0,
    "start_time": "2023-09-21T16:07:04.973Z"
   },
   {
    "duration": 0,
    "start_time": "2023-09-21T16:07:05.002Z"
   },
   {
    "duration": 0,
    "start_time": "2023-09-21T16:07:05.003Z"
   },
   {
    "duration": 0,
    "start_time": "2023-09-21T16:07:05.004Z"
   },
   {
    "duration": 0,
    "start_time": "2023-09-21T16:07:05.005Z"
   },
   {
    "duration": 0,
    "start_time": "2023-09-21T16:07:05.006Z"
   },
   {
    "duration": 0,
    "start_time": "2023-09-21T16:07:05.007Z"
   },
   {
    "duration": 0,
    "start_time": "2023-09-21T16:07:05.009Z"
   },
   {
    "duration": 0,
    "start_time": "2023-09-21T16:07:05.010Z"
   },
   {
    "duration": 0,
    "start_time": "2023-09-21T16:07:05.011Z"
   },
   {
    "duration": 0,
    "start_time": "2023-09-21T16:07:05.012Z"
   },
   {
    "duration": 0,
    "start_time": "2023-09-21T16:07:05.013Z"
   },
   {
    "duration": 1,
    "start_time": "2023-09-21T16:07:05.014Z"
   },
   {
    "duration": 0,
    "start_time": "2023-09-21T16:07:05.015Z"
   },
   {
    "duration": 0,
    "start_time": "2023-09-21T16:07:05.017Z"
   },
   {
    "duration": 0,
    "start_time": "2023-09-21T16:07:05.018Z"
   },
   {
    "duration": 0,
    "start_time": "2023-09-21T16:07:05.019Z"
   },
   {
    "duration": 19,
    "start_time": "2023-09-21T16:07:35.167Z"
   },
   {
    "duration": 1515,
    "start_time": "2023-09-21T16:08:20.502Z"
   },
   {
    "duration": 47,
    "start_time": "2023-09-21T16:08:22.019Z"
   },
   {
    "duration": 20,
    "start_time": "2023-09-21T16:08:22.067Z"
   },
   {
    "duration": 35,
    "start_time": "2023-09-21T16:08:22.090Z"
   },
   {
    "duration": 51,
    "start_time": "2023-09-21T16:08:22.128Z"
   },
   {
    "duration": 12,
    "start_time": "2023-09-21T16:08:22.182Z"
   },
   {
    "duration": 33,
    "start_time": "2023-09-21T16:08:22.196Z"
   },
   {
    "duration": 13,
    "start_time": "2023-09-21T16:08:22.231Z"
   },
   {
    "duration": 34,
    "start_time": "2023-09-21T16:08:22.246Z"
   },
   {
    "duration": 38,
    "start_time": "2023-09-21T16:08:22.283Z"
   },
   {
    "duration": 23,
    "start_time": "2023-09-21T16:08:22.323Z"
   },
   {
    "duration": 42,
    "start_time": "2023-09-21T16:08:22.348Z"
   },
   {
    "duration": 29,
    "start_time": "2023-09-21T16:08:22.392Z"
   },
   {
    "duration": 30,
    "start_time": "2023-09-21T16:08:22.423Z"
   },
   {
    "duration": 30,
    "start_time": "2023-09-21T16:08:22.454Z"
   },
   {
    "duration": 9,
    "start_time": "2023-09-21T16:08:22.486Z"
   },
   {
    "duration": 20,
    "start_time": "2023-09-21T16:08:22.497Z"
   },
   {
    "duration": 8,
    "start_time": "2023-09-21T16:08:22.519Z"
   },
   {
    "duration": 36,
    "start_time": "2023-09-21T16:08:22.529Z"
   },
   {
    "duration": 132,
    "start_time": "2023-09-21T16:08:22.567Z"
   },
   {
    "duration": 0,
    "start_time": "2023-09-21T16:08:22.702Z"
   },
   {
    "duration": 0,
    "start_time": "2023-09-21T16:08:22.703Z"
   },
   {
    "duration": 0,
    "start_time": "2023-09-21T16:08:22.704Z"
   },
   {
    "duration": 0,
    "start_time": "2023-09-21T16:08:22.705Z"
   },
   {
    "duration": 0,
    "start_time": "2023-09-21T16:08:22.706Z"
   },
   {
    "duration": 0,
    "start_time": "2023-09-21T16:08:22.707Z"
   },
   {
    "duration": 0,
    "start_time": "2023-09-21T16:08:22.707Z"
   },
   {
    "duration": 0,
    "start_time": "2023-09-21T16:08:22.708Z"
   },
   {
    "duration": 0,
    "start_time": "2023-09-21T16:08:22.709Z"
   },
   {
    "duration": 0,
    "start_time": "2023-09-21T16:08:22.710Z"
   },
   {
    "duration": 0,
    "start_time": "2023-09-21T16:08:22.711Z"
   },
   {
    "duration": 0,
    "start_time": "2023-09-21T16:08:22.712Z"
   },
   {
    "duration": 0,
    "start_time": "2023-09-21T16:08:22.713Z"
   },
   {
    "duration": 0,
    "start_time": "2023-09-21T16:08:22.715Z"
   },
   {
    "duration": 0,
    "start_time": "2023-09-21T16:08:22.716Z"
   },
   {
    "duration": 0,
    "start_time": "2023-09-21T16:08:22.717Z"
   },
   {
    "duration": 0,
    "start_time": "2023-09-21T16:08:22.718Z"
   },
   {
    "duration": 0,
    "start_time": "2023-09-21T16:08:22.719Z"
   },
   {
    "duration": 0,
    "start_time": "2023-09-21T16:08:22.720Z"
   },
   {
    "duration": 0,
    "start_time": "2023-09-21T16:08:22.721Z"
   },
   {
    "duration": 0,
    "start_time": "2023-09-21T16:08:22.722Z"
   },
   {
    "duration": 0,
    "start_time": "2023-09-21T16:08:22.723Z"
   },
   {
    "duration": 0,
    "start_time": "2023-09-21T16:08:22.724Z"
   },
   {
    "duration": 0,
    "start_time": "2023-09-21T16:08:22.725Z"
   },
   {
    "duration": 0,
    "start_time": "2023-09-21T16:08:22.726Z"
   },
   {
    "duration": 0,
    "start_time": "2023-09-21T16:08:22.727Z"
   },
   {
    "duration": 0,
    "start_time": "2023-09-21T16:08:22.728Z"
   },
   {
    "duration": 0,
    "start_time": "2023-09-21T16:08:22.729Z"
   },
   {
    "duration": 0,
    "start_time": "2023-09-21T16:08:22.730Z"
   },
   {
    "duration": 0,
    "start_time": "2023-09-21T16:08:22.731Z"
   },
   {
    "duration": 0,
    "start_time": "2023-09-21T16:08:22.732Z"
   },
   {
    "duration": 10,
    "start_time": "2023-09-21T16:08:53.882Z"
   },
   {
    "duration": 8,
    "start_time": "2023-09-21T16:09:06.645Z"
   },
   {
    "duration": 7,
    "start_time": "2023-09-21T16:09:07.385Z"
   },
   {
    "duration": 11,
    "start_time": "2023-09-21T16:09:07.817Z"
   },
   {
    "duration": 8,
    "start_time": "2023-09-21T16:09:08.310Z"
   },
   {
    "duration": 16,
    "start_time": "2023-09-21T16:09:08.962Z"
   },
   {
    "duration": 4,
    "start_time": "2023-09-21T16:09:09.710Z"
   },
   {
    "duration": 12,
    "start_time": "2023-09-21T16:09:10.244Z"
   },
   {
    "duration": 3,
    "start_time": "2023-09-21T16:09:10.956Z"
   },
   {
    "duration": 21,
    "start_time": "2023-09-21T16:09:11.737Z"
   },
   {
    "duration": 34745,
    "start_time": "2023-09-21T16:09:12.635Z"
   },
   {
    "duration": 24,
    "start_time": "2023-09-21T16:09:50.278Z"
   },
   {
    "duration": 262,
    "start_time": "2023-09-21T16:09:51.560Z"
   },
   {
    "duration": 7,
    "start_time": "2023-09-21T16:09:54.950Z"
   },
   {
    "duration": 7,
    "start_time": "2023-09-21T16:09:56.012Z"
   },
   {
    "duration": 23,
    "start_time": "2023-09-21T16:10:11.479Z"
   },
   {
    "duration": 186,
    "start_time": "2023-09-21T16:10:13.982Z"
   },
   {
    "duration": 58,
    "start_time": "2023-09-21T16:10:16.374Z"
   },
   {
    "duration": 117,
    "start_time": "2023-09-21T16:10:17.276Z"
   },
   {
    "duration": 21,
    "start_time": "2023-09-21T16:10:18.066Z"
   },
   {
    "duration": 9,
    "start_time": "2023-09-21T16:10:21.116Z"
   },
   {
    "duration": 106,
    "start_time": "2023-09-21T16:10:22.302Z"
   },
   {
    "duration": 949,
    "start_time": "2023-09-21T16:10:23.817Z"
   },
   {
    "duration": 26,
    "start_time": "2023-09-21T16:10:25.743Z"
   },
   {
    "duration": 37,
    "start_time": "2023-09-21T16:10:27.724Z"
   },
   {
    "duration": 11,
    "start_time": "2023-09-21T16:10:28.738Z"
   },
   {
    "duration": 101,
    "start_time": "2023-09-21T16:10:30.665Z"
   },
   {
    "duration": 393,
    "start_time": "2023-09-21T16:10:31.426Z"
   },
   {
    "duration": 20,
    "start_time": "2023-09-21T16:10:35.191Z"
   },
   {
    "duration": 15,
    "start_time": "2023-09-21T16:10:37.543Z"
   },
   {
    "duration": 3,
    "start_time": "2023-09-21T16:10:39.611Z"
   },
   {
    "duration": 317,
    "start_time": "2023-09-21T16:10:42.003Z"
   },
   {
    "duration": 137,
    "start_time": "2023-09-21T16:10:42.449Z"
   },
   {
    "duration": 175,
    "start_time": "2023-09-21T16:10:42.668Z"
   },
   {
    "duration": 90,
    "start_time": "2023-09-21T16:10:57.855Z"
   },
   {
    "duration": 904,
    "start_time": "2023-09-21T16:12:20.082Z"
   },
   {
    "duration": 1811,
    "start_time": "2023-09-21T16:12:53.512Z"
   },
   {
    "duration": 45,
    "start_time": "2023-09-21T16:12:55.324Z"
   },
   {
    "duration": 21,
    "start_time": "2023-09-21T16:12:55.370Z"
   },
   {
    "duration": 22,
    "start_time": "2023-09-21T16:12:55.393Z"
   },
   {
    "duration": 68,
    "start_time": "2023-09-21T16:12:55.417Z"
   },
   {
    "duration": 37,
    "start_time": "2023-09-21T16:12:55.487Z"
   },
   {
    "duration": 30,
    "start_time": "2023-09-21T16:12:55.526Z"
   },
   {
    "duration": 5,
    "start_time": "2023-09-21T16:12:55.559Z"
   },
   {
    "duration": 8,
    "start_time": "2023-09-21T16:12:55.566Z"
   },
   {
    "duration": 19,
    "start_time": "2023-09-21T16:12:55.576Z"
   },
   {
    "duration": 18,
    "start_time": "2023-09-21T16:12:55.597Z"
   },
   {
    "duration": 31,
    "start_time": "2023-09-21T16:12:55.617Z"
   },
   {
    "duration": 32,
    "start_time": "2023-09-21T16:12:55.650Z"
   },
   {
    "duration": 14,
    "start_time": "2023-09-21T16:12:55.684Z"
   },
   {
    "duration": 49,
    "start_time": "2023-09-21T16:12:55.699Z"
   },
   {
    "duration": 20,
    "start_time": "2023-09-21T16:12:55.750Z"
   },
   {
    "duration": 29,
    "start_time": "2023-09-21T16:12:55.772Z"
   },
   {
    "duration": 10,
    "start_time": "2023-09-21T16:12:55.802Z"
   },
   {
    "duration": 48,
    "start_time": "2023-09-21T16:12:55.814Z"
   },
   {
    "duration": 37115,
    "start_time": "2023-09-21T16:12:55.864Z"
   },
   {
    "duration": 142,
    "start_time": "2023-09-21T16:13:32.980Z"
   },
   {
    "duration": 288,
    "start_time": "2023-09-21T16:13:33.202Z"
   },
   {
    "duration": 16,
    "start_time": "2023-09-21T16:13:33.492Z"
   },
   {
    "duration": 34,
    "start_time": "2023-09-21T16:13:33.517Z"
   },
   {
    "duration": 30,
    "start_time": "2023-09-21T16:13:33.553Z"
   },
   {
    "duration": 135,
    "start_time": "2023-09-21T16:13:33.585Z"
   },
   {
    "duration": 60,
    "start_time": "2023-09-21T16:13:33.722Z"
   },
   {
    "duration": 139,
    "start_time": "2023-09-21T16:13:33.800Z"
   },
   {
    "duration": 70,
    "start_time": "2023-09-21T16:13:33.942Z"
   },
   {
    "duration": 98,
    "start_time": "2023-09-21T16:13:34.014Z"
   },
   {
    "duration": 167,
    "start_time": "2023-09-21T16:13:34.115Z"
   },
   {
    "duration": 990,
    "start_time": "2023-09-21T16:13:34.284Z"
   },
   {
    "duration": 51,
    "start_time": "2023-09-21T16:13:35.276Z"
   },
   {
    "duration": 201,
    "start_time": "2023-09-21T16:13:35.330Z"
   },
   {
    "duration": 31,
    "start_time": "2023-09-21T16:13:35.532Z"
   },
   {
    "duration": 231,
    "start_time": "2023-09-21T16:13:35.564Z"
   },
   {
    "duration": 419,
    "start_time": "2023-09-21T16:13:35.797Z"
   },
   {
    "duration": 22,
    "start_time": "2023-09-21T16:13:36.218Z"
   },
   {
    "duration": 78,
    "start_time": "2023-09-21T16:13:36.242Z"
   },
   {
    "duration": 177,
    "start_time": "2023-09-21T16:13:36.323Z"
   },
   {
    "duration": 333,
    "start_time": "2023-09-21T16:13:36.503Z"
   },
   {
    "duration": 149,
    "start_time": "2023-09-21T16:13:36.839Z"
   },
   {
    "duration": 196,
    "start_time": "2023-09-21T16:13:36.989Z"
   },
   {
    "duration": 999,
    "start_time": "2023-09-21T16:13:37.186Z"
   },
   {
    "duration": 1028,
    "start_time": "2023-09-21T16:13:38.187Z"
   },
   {
    "duration": 1213,
    "start_time": "2023-09-21T16:13:39.217Z"
   },
   {
    "duration": 252,
    "start_time": "2023-09-21T16:13:40.432Z"
   },
   {
    "duration": 643,
    "start_time": "2023-09-21T16:13:40.686Z"
   },
   {
    "duration": 194,
    "start_time": "2023-09-21T16:13:41.331Z"
   },
   {
    "duration": 132,
    "start_time": "2023-09-21T16:13:41.527Z"
   },
   {
    "duration": 1212,
    "start_time": "2023-09-21T16:13:41.662Z"
   },
   {
    "duration": 66,
    "start_time": "2023-09-21T16:15:46.009Z"
   },
   {
    "duration": 22,
    "start_time": "2023-09-21T16:19:18.208Z"
   },
   {
    "duration": 20,
    "start_time": "2023-09-21T16:19:30.038Z"
   },
   {
    "duration": 36375,
    "start_time": "2023-09-21T16:19:35.252Z"
   },
   {
    "duration": 12615,
    "start_time": "2023-09-21T16:20:13.453Z"
   },
   {
    "duration": 33,
    "start_time": "2023-09-21T16:20:37.271Z"
   },
   {
    "duration": 272,
    "start_time": "2023-09-21T16:20:41.823Z"
   },
   {
    "duration": 23,
    "start_time": "2023-09-21T16:20:48.295Z"
   },
   {
    "duration": 104,
    "start_time": "2023-09-21T16:20:49.114Z"
   },
   {
    "duration": 42,
    "start_time": "2023-09-21T16:20:54.265Z"
   },
   {
    "duration": 74,
    "start_time": "2023-09-21T16:21:12.183Z"
   },
   {
    "duration": 217,
    "start_time": "2023-09-21T16:21:14.234Z"
   },
   {
    "duration": 13,
    "start_time": "2023-09-21T16:21:26.036Z"
   },
   {
    "duration": 106,
    "start_time": "2023-09-21T16:21:27.174Z"
   },
   {
    "duration": 882,
    "start_time": "2023-09-21T16:21:29.911Z"
   },
   {
    "duration": 105,
    "start_time": "2023-09-21T16:21:35.600Z"
   },
   {
    "duration": 48,
    "start_time": "2023-09-21T16:21:40.046Z"
   },
   {
    "duration": 36,
    "start_time": "2023-09-21T16:21:41.792Z"
   },
   {
    "duration": 11,
    "start_time": "2023-09-21T16:21:43.764Z"
   },
   {
    "duration": 390,
    "start_time": "2023-09-21T16:21:46.174Z"
   },
   {
    "duration": 19,
    "start_time": "2023-09-21T16:21:50.347Z"
   },
   {
    "duration": 880,
    "start_time": "2023-09-21T16:21:58.954Z"
   },
   {
    "duration": 936,
    "start_time": "2023-09-21T16:22:34.326Z"
   },
   {
    "duration": 102,
    "start_time": "2023-09-21T16:22:40.218Z"
   },
   {
    "duration": 860,
    "start_time": "2023-09-21T16:22:50.007Z"
   },
   {
    "duration": 13,
    "start_time": "2023-09-21T16:24:25.163Z"
   },
   {
    "duration": 1120,
    "start_time": "2023-09-21T16:24:26.684Z"
   },
   {
    "duration": 1466,
    "start_time": "2023-09-21T16:24:35.648Z"
   },
   {
    "duration": 44,
    "start_time": "2023-09-21T16:24:37.116Z"
   },
   {
    "duration": 21,
    "start_time": "2023-09-21T16:24:37.162Z"
   },
   {
    "duration": 68,
    "start_time": "2023-09-21T16:24:37.184Z"
   },
   {
    "duration": 63,
    "start_time": "2023-09-21T16:24:37.255Z"
   },
   {
    "duration": 12,
    "start_time": "2023-09-21T16:24:37.320Z"
   },
   {
    "duration": 49,
    "start_time": "2023-09-21T16:24:37.333Z"
   },
   {
    "duration": 7,
    "start_time": "2023-09-21T16:24:37.383Z"
   },
   {
    "duration": 15,
    "start_time": "2023-09-21T16:24:37.392Z"
   },
   {
    "duration": 39,
    "start_time": "2023-09-21T16:24:37.410Z"
   },
   {
    "duration": 25,
    "start_time": "2023-09-21T16:24:37.451Z"
   },
   {
    "duration": 28,
    "start_time": "2023-09-21T16:24:37.479Z"
   },
   {
    "duration": 12,
    "start_time": "2023-09-21T16:24:37.509Z"
   },
   {
    "duration": 24,
    "start_time": "2023-09-21T16:24:37.525Z"
   },
   {
    "duration": 34,
    "start_time": "2023-09-21T16:24:37.551Z"
   },
   {
    "duration": 29,
    "start_time": "2023-09-21T16:24:37.587Z"
   },
   {
    "duration": 38,
    "start_time": "2023-09-21T16:24:37.618Z"
   },
   {
    "duration": 27,
    "start_time": "2023-09-21T16:24:37.658Z"
   },
   {
    "duration": 40,
    "start_time": "2023-09-21T16:24:37.686Z"
   },
   {
    "duration": 12564,
    "start_time": "2023-09-21T16:24:37.728Z"
   },
   {
    "duration": 102,
    "start_time": "2023-09-21T16:24:50.302Z"
   },
   {
    "duration": 373,
    "start_time": "2023-09-21T16:24:50.410Z"
   },
   {
    "duration": 19,
    "start_time": "2023-09-21T16:24:50.785Z"
   },
   {
    "duration": 16,
    "start_time": "2023-09-21T16:24:50.806Z"
   },
   {
    "duration": 43,
    "start_time": "2023-09-21T16:24:50.824Z"
   },
   {
    "duration": 135,
    "start_time": "2023-09-21T16:24:50.869Z"
   },
   {
    "duration": 81,
    "start_time": "2023-09-21T16:24:51.006Z"
   },
   {
    "duration": 143,
    "start_time": "2023-09-21T16:24:51.102Z"
   },
   {
    "duration": 59,
    "start_time": "2023-09-21T16:24:51.247Z"
   },
   {
    "duration": 104,
    "start_time": "2023-09-21T16:24:51.308Z"
   },
   {
    "duration": 240,
    "start_time": "2023-09-21T16:24:51.414Z"
   },
   {
    "duration": 922,
    "start_time": "2023-09-21T16:24:51.656Z"
   },
   {
    "duration": 45,
    "start_time": "2023-09-21T16:24:52.579Z"
   },
   {
    "duration": 212,
    "start_time": "2023-09-21T16:24:52.628Z"
   },
   {
    "duration": 16,
    "start_time": "2023-09-21T16:24:52.842Z"
   },
   {
    "duration": 124,
    "start_time": "2023-09-21T16:24:52.859Z"
   },
   {
    "duration": 427,
    "start_time": "2023-09-21T16:24:52.985Z"
   },
   {
    "duration": 20,
    "start_time": "2023-09-21T16:24:53.414Z"
   },
   {
    "duration": 172,
    "start_time": "2023-09-21T16:24:53.436Z"
   },
   {
    "duration": 477,
    "start_time": "2023-09-21T16:24:53.611Z"
   },
   {
    "duration": 332,
    "start_time": "2023-09-21T16:24:54.092Z"
   },
   {
    "duration": 155,
    "start_time": "2023-09-21T16:24:54.426Z"
   },
   {
    "duration": 224,
    "start_time": "2023-09-21T16:24:54.584Z"
   },
   {
    "duration": 14,
    "start_time": "2023-09-21T16:24:54.810Z"
   },
   {
    "duration": 1142,
    "start_time": "2023-09-21T16:24:54.826Z"
   },
   {
    "duration": 1145,
    "start_time": "2023-09-21T16:24:55.970Z"
   },
   {
    "duration": 1149,
    "start_time": "2023-09-21T16:24:57.118Z"
   },
   {
    "duration": 235,
    "start_time": "2023-09-21T16:24:58.269Z"
   },
   {
    "duration": 645,
    "start_time": "2023-09-21T16:24:58.506Z"
   },
   {
    "duration": 183,
    "start_time": "2023-09-21T16:24:59.153Z"
   },
   {
    "duration": 124,
    "start_time": "2023-09-21T16:24:59.338Z"
   },
   {
    "duration": 1190,
    "start_time": "2023-09-21T16:24:59.464Z"
   },
   {
    "duration": 1478,
    "start_time": "2023-09-21T16:28:46.488Z"
   },
   {
    "duration": 46,
    "start_time": "2023-09-21T16:28:47.968Z"
   },
   {
    "duration": 21,
    "start_time": "2023-09-21T16:28:48.015Z"
   },
   {
    "duration": 44,
    "start_time": "2023-09-21T16:28:48.038Z"
   },
   {
    "duration": 54,
    "start_time": "2023-09-21T16:28:48.084Z"
   },
   {
    "duration": 12,
    "start_time": "2023-09-21T16:28:48.140Z"
   },
   {
    "duration": 26,
    "start_time": "2023-09-21T16:28:48.154Z"
   },
   {
    "duration": 30,
    "start_time": "2023-09-21T16:28:48.181Z"
   },
   {
    "duration": 66,
    "start_time": "2023-09-21T16:28:48.213Z"
   },
   {
    "duration": 40,
    "start_time": "2023-09-21T16:28:48.282Z"
   },
   {
    "duration": 44,
    "start_time": "2023-09-21T16:28:48.324Z"
   },
   {
    "duration": 39,
    "start_time": "2023-09-21T16:28:48.370Z"
   },
   {
    "duration": 52,
    "start_time": "2023-09-21T16:28:48.411Z"
   },
   {
    "duration": 41,
    "start_time": "2023-09-21T16:28:48.465Z"
   },
   {
    "duration": 23,
    "start_time": "2023-09-21T16:28:48.508Z"
   },
   {
    "duration": 21,
    "start_time": "2023-09-21T16:28:48.534Z"
   },
   {
    "duration": 30,
    "start_time": "2023-09-21T16:28:48.557Z"
   },
   {
    "duration": 28,
    "start_time": "2023-09-21T16:28:48.589Z"
   },
   {
    "duration": 42,
    "start_time": "2023-09-21T16:28:48.619Z"
   },
   {
    "duration": 12383,
    "start_time": "2023-09-21T16:28:48.663Z"
   },
   {
    "duration": 62,
    "start_time": "2023-09-21T16:29:01.047Z"
   },
   {
    "duration": 429,
    "start_time": "2023-09-21T16:29:01.113Z"
   },
   {
    "duration": 7,
    "start_time": "2023-09-21T16:29:01.543Z"
   },
   {
    "duration": 97,
    "start_time": "2023-09-21T16:29:01.551Z"
   },
   {
    "duration": 87,
    "start_time": "2023-09-21T16:29:01.650Z"
   },
   {
    "duration": 168,
    "start_time": "2023-09-21T16:29:01.738Z"
   },
   {
    "duration": 200,
    "start_time": "2023-09-21T16:29:01.907Z"
   },
   {
    "duration": 138,
    "start_time": "2023-09-21T16:29:02.111Z"
   },
   {
    "duration": 56,
    "start_time": "2023-09-21T16:29:02.251Z"
   },
   {
    "duration": 102,
    "start_time": "2023-09-21T16:29:02.310Z"
   },
   {
    "duration": 344,
    "start_time": "2023-09-21T16:29:02.414Z"
   },
   {
    "duration": 935,
    "start_time": "2023-09-21T16:29:02.760Z"
   },
   {
    "duration": 102,
    "start_time": "2023-09-21T16:29:03.700Z"
   },
   {
    "duration": 151,
    "start_time": "2023-09-21T16:29:03.805Z"
   },
   {
    "duration": 67,
    "start_time": "2023-09-21T16:29:03.958Z"
   },
   {
    "duration": 208,
    "start_time": "2023-09-21T16:29:04.027Z"
   },
   {
    "duration": 432,
    "start_time": "2023-09-21T16:29:04.237Z"
   },
   {
    "duration": 40,
    "start_time": "2023-09-21T16:29:04.672Z"
   },
   {
    "duration": 92,
    "start_time": "2023-09-21T16:29:04.715Z"
   },
   {
    "duration": 293,
    "start_time": "2023-09-21T16:29:04.810Z"
   },
   {
    "duration": 318,
    "start_time": "2023-09-21T16:29:05.105Z"
   },
   {
    "duration": 137,
    "start_time": "2023-09-21T16:29:05.426Z"
   },
   {
    "duration": 177,
    "start_time": "2023-09-21T16:29:05.564Z"
   },
   {
    "duration": 2,
    "start_time": "2023-09-21T16:29:05.743Z"
   },
   {
    "duration": 885,
    "start_time": "2023-09-21T16:29:05.747Z"
   },
   {
    "duration": 66,
    "start_time": "2023-09-22T16:37:21.222Z"
   },
   {
    "duration": 1810,
    "start_time": "2023-09-22T16:37:32.883Z"
   },
   {
    "duration": 382,
    "start_time": "2023-09-22T16:37:35.487Z"
   },
   {
    "duration": 20,
    "start_time": "2023-09-22T16:37:37.192Z"
   },
   {
    "duration": 15,
    "start_time": "2023-09-22T16:37:39.314Z"
   },
   {
    "duration": 56,
    "start_time": "2023-09-22T16:37:40.742Z"
   },
   {
    "duration": 13,
    "start_time": "2023-09-22T16:37:42.916Z"
   },
   {
    "duration": 19,
    "start_time": "2023-09-22T16:37:44.032Z"
   },
   {
    "duration": 5,
    "start_time": "2023-09-22T16:37:47.959Z"
   },
   {
    "duration": 4,
    "start_time": "2023-09-22T16:37:49.230Z"
   },
   {
    "duration": 1947,
    "start_time": "2023-09-22T16:37:50.365Z"
   },
   {
    "duration": 7,
    "start_time": "2023-09-22T16:38:04.581Z"
   },
   {
    "duration": 8,
    "start_time": "2023-09-22T16:38:06.428Z"
   },
   {
    "duration": 11,
    "start_time": "2023-09-22T16:38:11.895Z"
   },
   {
    "duration": 18,
    "start_time": "2023-09-22T16:38:12.533Z"
   },
   {
    "duration": 6,
    "start_time": "2023-09-22T16:38:15.797Z"
   },
   {
    "duration": 15,
    "start_time": "2023-09-22T16:38:16.284Z"
   },
   {
    "duration": 5,
    "start_time": "2023-09-22T16:38:16.852Z"
   },
   {
    "duration": 26,
    "start_time": "2023-09-22T16:38:17.781Z"
   },
   {
    "duration": 14221,
    "start_time": "2023-09-22T16:38:18.956Z"
   },
   {
    "duration": 45,
    "start_time": "2023-09-22T16:39:11.018Z"
   },
   {
    "duration": 292,
    "start_time": "2023-09-22T16:39:13.092Z"
   },
   {
    "duration": 11,
    "start_time": "2023-09-22T16:39:16.475Z"
   },
   {
    "duration": 7,
    "start_time": "2023-09-22T16:39:17.290Z"
   },
   {
    "duration": 23,
    "start_time": "2023-09-22T16:39:20.018Z"
   },
   {
    "duration": 146,
    "start_time": "2023-09-22T16:39:22.377Z"
   },
   {
    "duration": 86,
    "start_time": "2023-09-22T16:39:27.424Z"
   },
   {
    "duration": 223,
    "start_time": "2023-09-22T16:39:28.977Z"
   },
   {
    "duration": 56,
    "start_time": "2023-09-22T16:39:32.405Z"
   },
   {
    "duration": 16,
    "start_time": "2023-09-22T16:39:35.258Z"
   },
   {
    "duration": 94,
    "start_time": "2023-09-22T16:39:37.535Z"
   },
   {
    "duration": 1029,
    "start_time": "2023-09-22T16:39:38.979Z"
   },
   {
    "duration": 40,
    "start_time": "2023-09-22T16:39:41.358Z"
   },
   {
    "duration": 42,
    "start_time": "2023-09-22T16:39:44.010Z"
   },
   {
    "duration": 14,
    "start_time": "2023-09-22T16:39:45.177Z"
   },
   {
    "duration": 89,
    "start_time": "2023-09-22T16:39:46.497Z"
   },
   {
    "duration": 421,
    "start_time": "2023-09-22T16:39:47.088Z"
   },
   {
    "duration": 30,
    "start_time": "2023-09-22T16:39:48.266Z"
   },
   {
    "duration": 48,
    "start_time": "2023-09-22T16:39:49.018Z"
   },
   {
    "duration": 3,
    "start_time": "2023-09-22T16:39:52.321Z"
   },
   {
    "duration": 998,
    "start_time": "2023-09-22T16:39:57.698Z"
   },
   {
    "duration": 980,
    "start_time": "2023-09-22T16:40:35.114Z"
   },
   {
    "duration": 14,
    "start_time": "2023-09-22T16:40:42.321Z"
   },
   {
    "duration": 1288,
    "start_time": "2023-09-22T16:40:43.744Z"
   },
   {
    "duration": 1256,
    "start_time": "2023-09-22T16:41:16.262Z"
   },
   {
    "duration": 128,
    "start_time": "2023-09-22T16:41:43.249Z"
   },
   {
    "duration": 207,
    "start_time": "2023-09-22T16:41:59.699Z"
   },
   {
    "duration": 1584,
    "start_time": "2023-09-22T16:42:10.241Z"
   },
   {
    "duration": 47,
    "start_time": "2023-09-22T16:42:11.827Z"
   },
   {
    "duration": 23,
    "start_time": "2023-09-22T16:42:11.876Z"
   },
   {
    "duration": 31,
    "start_time": "2023-09-22T16:42:11.901Z"
   },
   {
    "duration": 70,
    "start_time": "2023-09-22T16:42:11.934Z"
   },
   {
    "duration": 12,
    "start_time": "2023-09-22T16:42:12.006Z"
   },
   {
    "duration": 39,
    "start_time": "2023-09-22T16:42:12.019Z"
   },
   {
    "duration": 6,
    "start_time": "2023-09-22T16:42:12.061Z"
   },
   {
    "duration": 26,
    "start_time": "2023-09-22T16:42:12.070Z"
   },
   {
    "duration": 10,
    "start_time": "2023-09-22T16:42:12.099Z"
   },
   {
    "duration": 33,
    "start_time": "2023-09-22T16:42:12.110Z"
   },
   {
    "duration": 28,
    "start_time": "2023-09-22T16:42:12.145Z"
   },
   {
    "duration": 22,
    "start_time": "2023-09-22T16:42:12.176Z"
   },
   {
    "duration": 19,
    "start_time": "2023-09-22T16:42:12.200Z"
   },
   {
    "duration": 31,
    "start_time": "2023-09-22T16:42:12.221Z"
   },
   {
    "duration": 28,
    "start_time": "2023-09-22T16:42:12.254Z"
   },
   {
    "duration": 41,
    "start_time": "2023-09-22T16:42:12.284Z"
   },
   {
    "duration": 13823,
    "start_time": "2023-09-22T16:42:12.327Z"
   },
   {
    "duration": 111,
    "start_time": "2023-09-22T16:42:26.157Z"
   },
   {
    "duration": 400,
    "start_time": "2023-09-22T16:42:26.275Z"
   },
   {
    "duration": 8,
    "start_time": "2023-09-22T16:42:26.677Z"
   },
   {
    "duration": 11,
    "start_time": "2023-09-22T16:42:26.687Z"
   },
   {
    "duration": 23,
    "start_time": "2023-09-22T16:42:26.700Z"
   },
   {
    "duration": 187,
    "start_time": "2023-09-22T16:42:26.725Z"
   },
   {
    "duration": 137,
    "start_time": "2023-09-22T16:42:26.914Z"
   },
   {
    "duration": 142,
    "start_time": "2023-09-22T16:42:27.057Z"
   },
   {
    "duration": 66,
    "start_time": "2023-09-22T16:42:27.200Z"
   },
   {
    "duration": 101,
    "start_time": "2023-09-22T16:42:27.273Z"
   },
   {
    "duration": 232,
    "start_time": "2023-09-22T16:42:27.376Z"
   },
   {
    "duration": 1026,
    "start_time": "2023-09-22T16:42:27.610Z"
   },
   {
    "duration": 121,
    "start_time": "2023-09-22T16:42:28.637Z"
   },
   {
    "duration": 143,
    "start_time": "2023-09-22T16:42:28.760Z"
   },
   {
    "duration": 15,
    "start_time": "2023-09-22T16:42:28.905Z"
   },
   {
    "duration": 156,
    "start_time": "2023-09-22T16:42:28.922Z"
   },
   {
    "duration": 462,
    "start_time": "2023-09-22T16:42:29.081Z"
   },
   {
    "duration": 39,
    "start_time": "2023-09-22T16:42:29.545Z"
   },
   {
    "duration": 80,
    "start_time": "2023-09-22T16:42:29.586Z"
   },
   {
    "duration": 5,
    "start_time": "2023-09-22T16:42:29.669Z"
   },
   {
    "duration": 330,
    "start_time": "2023-09-22T16:42:29.757Z"
   },
   {
    "duration": 158,
    "start_time": "2023-09-22T16:42:30.089Z"
   },
   {
    "duration": 196,
    "start_time": "2023-09-22T16:42:30.249Z"
   },
   {
    "duration": 23,
    "start_time": "2023-09-22T16:42:30.447Z"
   },
   {
    "duration": 295,
    "start_time": "2023-09-22T16:42:30.472Z"
   },
   {
    "duration": 1678,
    "start_time": "2023-09-22T16:42:52.660Z"
   },
   {
    "duration": 54,
    "start_time": "2023-09-22T16:42:54.341Z"
   },
   {
    "duration": 20,
    "start_time": "2023-09-22T16:42:54.397Z"
   },
   {
    "duration": 13,
    "start_time": "2023-09-22T16:42:54.418Z"
   },
   {
    "duration": 67,
    "start_time": "2023-09-22T16:42:54.434Z"
   },
   {
    "duration": 13,
    "start_time": "2023-09-22T16:42:54.503Z"
   },
   {
    "duration": 39,
    "start_time": "2023-09-22T16:42:54.519Z"
   },
   {
    "duration": 7,
    "start_time": "2023-09-22T16:42:54.561Z"
   },
   {
    "duration": 13,
    "start_time": "2023-09-22T16:42:54.570Z"
   },
   {
    "duration": 25,
    "start_time": "2023-09-22T16:42:54.585Z"
   },
   {
    "duration": 19,
    "start_time": "2023-09-22T16:42:54.612Z"
   },
   {
    "duration": 19,
    "start_time": "2023-09-22T16:42:54.633Z"
   },
   {
    "duration": 20,
    "start_time": "2023-09-22T16:42:54.654Z"
   },
   {
    "duration": 19,
    "start_time": "2023-09-22T16:42:54.679Z"
   },
   {
    "duration": 19,
    "start_time": "2023-09-22T16:42:54.700Z"
   },
   {
    "duration": 5,
    "start_time": "2023-09-22T16:42:54.721Z"
   },
   {
    "duration": 45,
    "start_time": "2023-09-22T16:42:54.728Z"
   },
   {
    "duration": 14217,
    "start_time": "2023-09-22T16:42:54.776Z"
   },
   {
    "duration": 70,
    "start_time": "2023-09-22T16:43:08.996Z"
   },
   {
    "duration": 463,
    "start_time": "2023-09-22T16:43:09.070Z"
   },
   {
    "duration": 6,
    "start_time": "2023-09-22T16:43:09.535Z"
   },
   {
    "duration": 8,
    "start_time": "2023-09-22T16:43:09.556Z"
   },
   {
    "duration": 30,
    "start_time": "2023-09-22T16:43:09.566Z"
   },
   {
    "duration": 169,
    "start_time": "2023-09-22T16:43:09.598Z"
   },
   {
    "duration": 119,
    "start_time": "2023-09-22T16:43:09.770Z"
   },
   {
    "duration": 135,
    "start_time": "2023-09-22T16:43:09.891Z"
   },
   {
    "duration": 51,
    "start_time": "2023-09-22T16:43:10.028Z"
   },
   {
    "duration": 105,
    "start_time": "2023-09-22T16:43:10.157Z"
   },
   {
    "duration": 220,
    "start_time": "2023-09-22T16:43:10.265Z"
   },
   {
    "duration": 991,
    "start_time": "2023-09-22T16:43:10.487Z"
   },
   {
    "duration": 80,
    "start_time": "2023-09-22T16:43:11.480Z"
   },
   {
    "duration": 137,
    "start_time": "2023-09-22T16:43:11.562Z"
   },
   {
    "duration": 11,
    "start_time": "2023-09-22T16:43:11.701Z"
   },
   {
    "duration": 127,
    "start_time": "2023-09-22T16:43:11.714Z"
   },
   {
    "duration": 460,
    "start_time": "2023-09-22T16:43:11.843Z"
   },
   {
    "duration": 24,
    "start_time": "2023-09-22T16:43:12.305Z"
   },
   {
    "duration": 140,
    "start_time": "2023-09-22T16:43:12.331Z"
   },
   {
    "duration": 4,
    "start_time": "2023-09-22T16:43:12.559Z"
   },
   {
    "duration": 341,
    "start_time": "2023-09-22T16:43:12.565Z"
   },
   {
    "duration": 148,
    "start_time": "2023-09-22T16:43:12.908Z"
   },
   {
    "duration": 199,
    "start_time": "2023-09-22T16:43:13.061Z"
   },
   {
    "duration": 3,
    "start_time": "2023-09-22T16:43:13.262Z"
   },
   {
    "duration": 187,
    "start_time": "2023-09-22T16:43:13.267Z"
   },
   {
    "duration": 166,
    "start_time": "2023-09-22T16:43:32.168Z"
   },
   {
    "duration": 152,
    "start_time": "2023-09-22T16:43:34.888Z"
   },
   {
    "duration": 13,
    "start_time": "2023-09-22T16:43:42.746Z"
   },
   {
    "duration": 217,
    "start_time": "2023-09-22T16:43:43.217Z"
   },
   {
    "duration": 1550,
    "start_time": "2023-09-22T16:43:57.001Z"
   },
   {
    "duration": 46,
    "start_time": "2023-09-22T16:43:58.554Z"
   },
   {
    "duration": 21,
    "start_time": "2023-09-22T16:43:58.602Z"
   },
   {
    "duration": 24,
    "start_time": "2023-09-22T16:43:58.625Z"
   },
   {
    "duration": 51,
    "start_time": "2023-09-22T16:43:58.652Z"
   },
   {
    "duration": 13,
    "start_time": "2023-09-22T16:43:58.705Z"
   },
   {
    "duration": 27,
    "start_time": "2023-09-22T16:43:58.720Z"
   },
   {
    "duration": 6,
    "start_time": "2023-09-22T16:43:58.758Z"
   },
   {
    "duration": 6,
    "start_time": "2023-09-22T16:43:58.766Z"
   },
   {
    "duration": 6,
    "start_time": "2023-09-22T16:43:58.774Z"
   },
   {
    "duration": 12,
    "start_time": "2023-09-22T16:43:58.782Z"
   },
   {
    "duration": 13,
    "start_time": "2023-09-22T16:43:58.796Z"
   },
   {
    "duration": 55,
    "start_time": "2023-09-22T16:43:58.813Z"
   },
   {
    "duration": 14,
    "start_time": "2023-09-22T16:43:58.873Z"
   },
   {
    "duration": 27,
    "start_time": "2023-09-22T16:43:58.890Z"
   },
   {
    "duration": 5,
    "start_time": "2023-09-22T16:43:58.919Z"
   },
   {
    "duration": 53,
    "start_time": "2023-09-22T16:43:58.926Z"
   },
   {
    "duration": 14214,
    "start_time": "2023-09-22T16:43:58.982Z"
   },
   {
    "duration": 73,
    "start_time": "2023-09-22T16:44:13.198Z"
   },
   {
    "duration": 403,
    "start_time": "2023-09-22T16:44:13.360Z"
   },
   {
    "duration": 12,
    "start_time": "2023-09-22T16:44:13.766Z"
   },
   {
    "duration": 18,
    "start_time": "2023-09-22T16:44:13.780Z"
   },
   {
    "duration": 31,
    "start_time": "2023-09-22T16:44:13.800Z"
   },
   {
    "duration": 174,
    "start_time": "2023-09-22T16:44:13.833Z"
   },
   {
    "duration": 127,
    "start_time": "2023-09-22T16:44:14.009Z"
   },
   {
    "duration": 173,
    "start_time": "2023-09-22T16:44:14.138Z"
   },
   {
    "duration": 144,
    "start_time": "2023-09-22T16:44:14.313Z"
   },
   {
    "duration": 98,
    "start_time": "2023-09-22T16:44:14.459Z"
   },
   {
    "duration": 225,
    "start_time": "2023-09-22T16:44:14.561Z"
   },
   {
    "duration": 1042,
    "start_time": "2023-09-22T16:44:14.788Z"
   },
   {
    "duration": 124,
    "start_time": "2023-09-22T16:44:15.832Z"
   },
   {
    "duration": 132,
    "start_time": "2023-09-22T16:44:15.965Z"
   },
   {
    "duration": 13,
    "start_time": "2023-09-22T16:44:16.099Z"
   },
   {
    "duration": 123,
    "start_time": "2023-09-22T16:44:16.114Z"
   },
   {
    "duration": 421,
    "start_time": "2023-09-22T16:44:16.239Z"
   },
   {
    "duration": 31,
    "start_time": "2023-09-22T16:44:16.663Z"
   },
   {
    "duration": 68,
    "start_time": "2023-09-22T16:44:16.696Z"
   },
   {
    "duration": 4,
    "start_time": "2023-09-22T16:44:16.767Z"
   },
   {
    "duration": 327,
    "start_time": "2023-09-22T16:44:16.858Z"
   },
   {
    "duration": 157,
    "start_time": "2023-09-22T16:44:17.188Z"
   },
   {
    "duration": 199,
    "start_time": "2023-09-22T16:44:17.358Z"
   },
   {
    "duration": 21,
    "start_time": "2023-09-22T16:44:17.560Z"
   },
   {
    "duration": 212,
    "start_time": "2023-09-22T16:44:17.584Z"
   },
   {
    "duration": 204,
    "start_time": "2023-09-22T16:44:32.574Z"
   },
   {
    "duration": 1644,
    "start_time": "2023-09-22T16:44:39.173Z"
   },
   {
    "duration": 49,
    "start_time": "2023-09-22T16:44:40.819Z"
   },
   {
    "duration": 27,
    "start_time": "2023-09-22T16:44:40.871Z"
   },
   {
    "duration": 14,
    "start_time": "2023-09-22T16:44:40.900Z"
   },
   {
    "duration": 67,
    "start_time": "2023-09-22T16:44:40.916Z"
   },
   {
    "duration": 12,
    "start_time": "2023-09-22T16:44:40.986Z"
   },
   {
    "duration": 22,
    "start_time": "2023-09-22T16:44:41.000Z"
   },
   {
    "duration": 5,
    "start_time": "2023-09-22T16:44:41.023Z"
   },
   {
    "duration": 30,
    "start_time": "2023-09-22T16:44:41.030Z"
   },
   {
    "duration": 6,
    "start_time": "2023-09-22T16:44:41.067Z"
   },
   {
    "duration": 24,
    "start_time": "2023-09-22T16:44:41.075Z"
   },
   {
    "duration": 10,
    "start_time": "2023-09-22T16:44:41.101Z"
   },
   {
    "duration": 15,
    "start_time": "2023-09-22T16:44:41.113Z"
   },
   {
    "duration": 27,
    "start_time": "2023-09-22T16:44:41.130Z"
   },
   {
    "duration": 17,
    "start_time": "2023-09-22T16:44:41.160Z"
   },
   {
    "duration": 5,
    "start_time": "2023-09-22T16:44:41.180Z"
   },
   {
    "duration": 39,
    "start_time": "2023-09-22T16:44:41.188Z"
   },
   {
    "duration": 13766,
    "start_time": "2023-09-22T16:44:41.229Z"
   },
   {
    "duration": 162,
    "start_time": "2023-09-22T16:44:54.997Z"
   },
   {
    "duration": 415,
    "start_time": "2023-09-22T16:44:55.162Z"
   },
   {
    "duration": 9,
    "start_time": "2023-09-22T16:44:55.579Z"
   },
   {
    "duration": 16,
    "start_time": "2023-09-22T16:44:55.590Z"
   },
   {
    "duration": 24,
    "start_time": "2023-09-22T16:44:55.608Z"
   },
   {
    "duration": 177,
    "start_time": "2023-09-22T16:44:55.633Z"
   },
   {
    "duration": 125,
    "start_time": "2023-09-22T16:44:55.812Z"
   },
   {
    "duration": 150,
    "start_time": "2023-09-22T16:44:55.938Z"
   },
   {
    "duration": 85,
    "start_time": "2023-09-22T16:44:56.090Z"
   },
   {
    "duration": 20,
    "start_time": "2023-09-22T16:44:56.260Z"
   },
   {
    "duration": 216,
    "start_time": "2023-09-22T16:44:56.282Z"
   },
   {
    "duration": 1036,
    "start_time": "2023-09-22T16:44:56.500Z"
   },
   {
    "duration": 122,
    "start_time": "2023-09-22T16:44:57.538Z"
   },
   {
    "duration": 134,
    "start_time": "2023-09-22T16:44:57.664Z"
   },
   {
    "duration": 13,
    "start_time": "2023-09-22T16:44:57.800Z"
   },
   {
    "duration": 144,
    "start_time": "2023-09-22T16:44:57.815Z"
   },
   {
    "duration": 474,
    "start_time": "2023-09-22T16:44:57.961Z"
   },
   {
    "duration": 37,
    "start_time": "2023-09-22T16:44:58.437Z"
   },
   {
    "duration": 83,
    "start_time": "2023-09-22T16:44:58.476Z"
   },
   {
    "duration": 4,
    "start_time": "2023-09-22T16:44:58.562Z"
   },
   {
    "duration": 437,
    "start_time": "2023-09-22T16:44:58.569Z"
   },
   {
    "duration": 194,
    "start_time": "2023-09-22T16:44:59.009Z"
   },
   {
    "duration": 217,
    "start_time": "2023-09-22T16:44:59.205Z"
   },
   {
    "duration": 14,
    "start_time": "2023-09-22T16:44:59.424Z"
   },
   {
    "duration": 200,
    "start_time": "2023-09-22T16:44:59.440Z"
   },
   {
    "duration": 209,
    "start_time": "2023-09-22T16:45:19.408Z"
   },
   {
    "duration": 147,
    "start_time": "2023-09-22T17:15:03.155Z"
   },
   {
    "duration": 1605,
    "start_time": "2023-09-22T17:15:18.505Z"
   },
   {
    "duration": 48,
    "start_time": "2023-09-22T17:15:20.113Z"
   },
   {
    "duration": 24,
    "start_time": "2023-09-22T17:15:20.163Z"
   },
   {
    "duration": 16,
    "start_time": "2023-09-22T17:15:20.190Z"
   },
   {
    "duration": 75,
    "start_time": "2023-09-22T17:15:20.210Z"
   },
   {
    "duration": 12,
    "start_time": "2023-09-22T17:15:20.288Z"
   },
   {
    "duration": 31,
    "start_time": "2023-09-22T17:15:20.302Z"
   },
   {
    "duration": 5,
    "start_time": "2023-09-22T17:15:20.334Z"
   },
   {
    "duration": 20,
    "start_time": "2023-09-22T17:15:20.341Z"
   },
   {
    "duration": 11,
    "start_time": "2023-09-22T17:15:20.363Z"
   },
   {
    "duration": 13,
    "start_time": "2023-09-22T17:15:20.376Z"
   },
   {
    "duration": 10,
    "start_time": "2023-09-22T17:15:20.391Z"
   },
   {
    "duration": 18,
    "start_time": "2023-09-22T17:15:20.402Z"
   },
   {
    "duration": 38,
    "start_time": "2023-09-22T17:15:20.423Z"
   },
   {
    "duration": 22,
    "start_time": "2023-09-22T17:15:20.464Z"
   },
   {
    "duration": 5,
    "start_time": "2023-09-22T17:15:20.488Z"
   },
   {
    "duration": 29,
    "start_time": "2023-09-22T17:15:20.495Z"
   },
   {
    "duration": 15233,
    "start_time": "2023-09-22T17:15:20.526Z"
   },
   {
    "duration": 195,
    "start_time": "2023-09-22T17:15:35.761Z"
   },
   {
    "duration": 464,
    "start_time": "2023-09-22T17:15:35.965Z"
   },
   {
    "duration": 7,
    "start_time": "2023-09-22T17:15:36.430Z"
   },
   {
    "duration": 19,
    "start_time": "2023-09-22T17:15:36.438Z"
   },
   {
    "duration": 35,
    "start_time": "2023-09-22T17:15:36.460Z"
   },
   {
    "duration": 135,
    "start_time": "2023-09-22T17:15:36.496Z"
   },
   {
    "duration": 128,
    "start_time": "2023-09-22T17:15:36.632Z"
   },
   {
    "duration": 159,
    "start_time": "2023-09-22T17:15:36.763Z"
   },
   {
    "duration": 132,
    "start_time": "2023-09-22T17:15:36.924Z"
   },
   {
    "duration": 103,
    "start_time": "2023-09-22T17:15:37.059Z"
   },
   {
    "duration": 194,
    "start_time": "2023-09-22T17:15:37.164Z"
   },
   {
    "duration": 1102,
    "start_time": "2023-09-22T17:15:37.360Z"
   },
   {
    "duration": 44,
    "start_time": "2023-09-22T17:15:38.464Z"
   },
   {
    "duration": 135,
    "start_time": "2023-09-22T17:15:38.558Z"
   },
   {
    "duration": 15,
    "start_time": "2023-09-22T17:15:38.695Z"
   },
   {
    "duration": 133,
    "start_time": "2023-09-22T17:15:38.712Z"
   },
   {
    "duration": 527,
    "start_time": "2023-09-22T17:15:38.855Z"
   },
   {
    "duration": 29,
    "start_time": "2023-09-22T17:15:39.385Z"
   },
   {
    "duration": 46,
    "start_time": "2023-09-22T17:15:39.416Z"
   },
   {
    "duration": 89,
    "start_time": "2023-09-22T17:15:39.470Z"
   },
   {
    "duration": 307,
    "start_time": "2023-09-22T17:15:39.561Z"
   },
   {
    "duration": 165,
    "start_time": "2023-09-22T17:15:39.871Z"
   },
   {
    "duration": 212,
    "start_time": "2023-09-22T17:15:40.040Z"
   },
   {
    "duration": 26,
    "start_time": "2023-09-22T17:15:40.253Z"
   },
   {
    "duration": 229,
    "start_time": "2023-09-22T17:15:40.281Z"
   },
   {
    "duration": 114,
    "start_time": "2023-09-22T17:16:08.752Z"
   },
   {
    "duration": 23,
    "start_time": "2023-09-22T17:16:10.172Z"
   },
   {
    "duration": 97,
    "start_time": "2023-09-22T17:16:10.740Z"
   },
   {
    "duration": 1634,
    "start_time": "2023-09-22T17:16:28.817Z"
   },
   {
    "duration": 48,
    "start_time": "2023-09-22T17:16:30.455Z"
   },
   {
    "duration": 67,
    "start_time": "2023-09-22T17:16:30.505Z"
   },
   {
    "duration": 76,
    "start_time": "2023-09-22T17:16:30.575Z"
   },
   {
    "duration": 84,
    "start_time": "2023-09-22T17:16:30.654Z"
   },
   {
    "duration": 39,
    "start_time": "2023-09-22T17:16:30.740Z"
   },
   {
    "duration": 228,
    "start_time": "2023-09-22T17:16:30.781Z"
   },
   {
    "duration": 49,
    "start_time": "2023-09-22T17:16:31.011Z"
   },
   {
    "duration": 80,
    "start_time": "2023-09-22T17:16:31.063Z"
   },
   {
    "duration": 56,
    "start_time": "2023-09-22T17:16:31.145Z"
   },
   {
    "duration": 65,
    "start_time": "2023-09-22T17:16:31.203Z"
   },
   {
    "duration": 39,
    "start_time": "2023-09-22T17:16:31.271Z"
   },
   {
    "duration": 59,
    "start_time": "2023-09-22T17:16:31.312Z"
   },
   {
    "duration": 32,
    "start_time": "2023-09-22T17:16:31.376Z"
   },
   {
    "duration": 29,
    "start_time": "2023-09-22T17:16:31.410Z"
   },
   {
    "duration": 49,
    "start_time": "2023-09-22T17:16:31.441Z"
   },
   {
    "duration": 47,
    "start_time": "2023-09-22T17:16:31.492Z"
   },
   {
    "duration": 15652,
    "start_time": "2023-09-22T17:16:31.541Z"
   },
   {
    "duration": 162,
    "start_time": "2023-09-22T17:16:47.195Z"
   },
   {
    "duration": 494,
    "start_time": "2023-09-22T17:16:47.360Z"
   },
   {
    "duration": 8,
    "start_time": "2023-09-22T17:16:47.857Z"
   },
   {
    "duration": 29,
    "start_time": "2023-09-22T17:16:47.867Z"
   },
   {
    "duration": 52,
    "start_time": "2023-09-22T17:16:47.898Z"
   },
   {
    "duration": 161,
    "start_time": "2023-09-22T17:16:47.952Z"
   },
   {
    "duration": 134,
    "start_time": "2023-09-22T17:16:48.115Z"
   },
   {
    "duration": 155,
    "start_time": "2023-09-22T17:16:48.251Z"
   },
   {
    "duration": 66,
    "start_time": "2023-09-22T17:16:48.408Z"
   },
   {
    "duration": 107,
    "start_time": "2023-09-22T17:16:48.558Z"
   },
   {
    "duration": 236,
    "start_time": "2023-09-22T17:16:48.667Z"
   },
   {
    "duration": 1180,
    "start_time": "2023-09-22T17:16:48.905Z"
   },
   {
    "duration": 80,
    "start_time": "2023-09-22T17:16:50.088Z"
   },
   {
    "duration": 143,
    "start_time": "2023-09-22T17:16:50.172Z"
   },
   {
    "duration": 14,
    "start_time": "2023-09-22T17:16:50.317Z"
   },
   {
    "duration": 130,
    "start_time": "2023-09-22T17:16:50.358Z"
   },
   {
    "duration": 472,
    "start_time": "2023-09-22T17:16:50.489Z"
   },
   {
    "duration": 33,
    "start_time": "2023-09-22T17:16:50.964Z"
   },
   {
    "duration": 68,
    "start_time": "2023-09-22T17:16:50.998Z"
   },
   {
    "duration": 88,
    "start_time": "2023-09-22T17:16:51.069Z"
   },
   {
    "duration": 323,
    "start_time": "2023-09-22T17:16:51.160Z"
   },
   {
    "duration": 160,
    "start_time": "2023-09-22T17:16:51.485Z"
   },
   {
    "duration": 220,
    "start_time": "2023-09-22T17:16:51.655Z"
   },
   {
    "duration": 20,
    "start_time": "2023-09-22T17:16:51.877Z"
   },
   {
    "duration": 124,
    "start_time": "2023-09-22T17:16:51.899Z"
   },
   {
    "duration": 1526,
    "start_time": "2023-09-22T17:18:19.719Z"
   },
   {
    "duration": 47,
    "start_time": "2023-09-22T17:18:21.247Z"
   },
   {
    "duration": 24,
    "start_time": "2023-09-22T17:18:21.296Z"
   },
   {
    "duration": 29,
    "start_time": "2023-09-22T17:18:21.323Z"
   },
   {
    "duration": 55,
    "start_time": "2023-09-22T17:18:21.356Z"
   },
   {
    "duration": 13,
    "start_time": "2023-09-22T17:18:21.413Z"
   },
   {
    "duration": 50,
    "start_time": "2023-09-22T17:18:21.428Z"
   },
   {
    "duration": 7,
    "start_time": "2023-09-22T17:18:21.481Z"
   },
   {
    "duration": 20,
    "start_time": "2023-09-22T17:18:21.490Z"
   },
   {
    "duration": 9,
    "start_time": "2023-09-22T17:18:21.512Z"
   },
   {
    "duration": 22,
    "start_time": "2023-09-22T17:18:21.523Z"
   },
   {
    "duration": 25,
    "start_time": "2023-09-22T17:18:21.547Z"
   },
   {
    "duration": 18,
    "start_time": "2023-09-22T17:18:21.575Z"
   },
   {
    "duration": 6,
    "start_time": "2023-09-22T17:18:21.596Z"
   },
   {
    "duration": 14,
    "start_time": "2023-09-22T17:18:21.604Z"
   },
   {
    "duration": 4,
    "start_time": "2023-09-22T17:18:21.620Z"
   },
   {
    "duration": 64,
    "start_time": "2023-09-22T17:18:21.626Z"
   },
   {
    "duration": 13681,
    "start_time": "2023-09-22T17:18:21.692Z"
   },
   {
    "duration": 93,
    "start_time": "2023-09-22T17:18:35.375Z"
   },
   {
    "duration": 426,
    "start_time": "2023-09-22T17:18:35.559Z"
   },
   {
    "duration": 7,
    "start_time": "2023-09-22T17:18:35.987Z"
   },
   {
    "duration": 50,
    "start_time": "2023-09-22T17:18:35.996Z"
   },
   {
    "duration": 69,
    "start_time": "2023-09-22T17:18:36.048Z"
   },
   {
    "duration": 122,
    "start_time": "2023-09-22T17:18:36.119Z"
   },
   {
    "duration": 113,
    "start_time": "2023-09-22T17:18:36.243Z"
   },
   {
    "duration": 146,
    "start_time": "2023-09-22T17:18:36.358Z"
   },
   {
    "duration": 52,
    "start_time": "2023-09-22T17:18:36.506Z"
   },
   {
    "duration": 104,
    "start_time": "2023-09-22T17:18:36.563Z"
   },
   {
    "duration": 440,
    "start_time": "2023-09-22T17:18:36.670Z"
   },
   {
    "duration": 960,
    "start_time": "2023-09-22T17:18:37.111Z"
   },
   {
    "duration": 85,
    "start_time": "2023-09-22T17:18:38.073Z"
   },
   {
    "duration": 131,
    "start_time": "2023-09-22T17:18:38.160Z"
   },
   {
    "duration": 13,
    "start_time": "2023-09-22T17:18:38.293Z"
   },
   {
    "duration": 133,
    "start_time": "2023-09-22T17:18:38.308Z"
   },
   {
    "duration": 467,
    "start_time": "2023-09-22T17:18:38.443Z"
   },
   {
    "duration": 28,
    "start_time": "2023-09-22T17:18:38.913Z"
   },
   {
    "duration": 104,
    "start_time": "2023-09-22T17:18:38.956Z"
   },
   {
    "duration": 4,
    "start_time": "2023-09-22T17:18:39.063Z"
   },
   {
    "duration": 400,
    "start_time": "2023-09-22T17:18:39.070Z"
   },
   {
    "duration": 143,
    "start_time": "2023-09-22T17:18:39.473Z"
   },
   {
    "duration": 186,
    "start_time": "2023-09-22T17:18:39.620Z"
   },
   {
    "duration": 13,
    "start_time": "2023-09-22T17:18:39.808Z"
   },
   {
    "duration": 94,
    "start_time": "2023-09-22T17:18:39.823Z"
   },
   {
    "duration": 193,
    "start_time": "2023-09-22T18:19:37.427Z"
   },
   {
    "duration": 1479,
    "start_time": "2023-09-22T18:19:48.899Z"
   },
   {
    "duration": 46,
    "start_time": "2023-09-22T18:19:50.380Z"
   },
   {
    "duration": 197,
    "start_time": "2023-09-22T18:19:50.428Z"
   },
   {
    "duration": 16,
    "start_time": "2023-09-22T18:19:50.627Z"
   },
   {
    "duration": 69,
    "start_time": "2023-09-22T18:19:50.645Z"
   },
   {
    "duration": 13,
    "start_time": "2023-09-22T18:19:50.716Z"
   },
   {
    "duration": 20,
    "start_time": "2023-09-22T18:19:50.731Z"
   },
   {
    "duration": 5,
    "start_time": "2023-09-22T18:19:50.756Z"
   },
   {
    "duration": 32,
    "start_time": "2023-09-22T18:19:50.762Z"
   },
   {
    "duration": 28,
    "start_time": "2023-09-22T18:19:50.797Z"
   },
   {
    "duration": 17,
    "start_time": "2023-09-22T18:19:50.828Z"
   },
   {
    "duration": 220,
    "start_time": "2023-09-22T18:19:50.847Z"
   },
   {
    "duration": 58,
    "start_time": "2023-09-22T18:19:51.069Z"
   },
   {
    "duration": 22,
    "start_time": "2023-09-22T18:19:51.129Z"
   },
   {
    "duration": 37,
    "start_time": "2023-09-22T18:19:51.153Z"
   },
   {
    "duration": 115,
    "start_time": "2023-09-22T18:19:51.192Z"
   },
   {
    "duration": 43,
    "start_time": "2023-09-22T18:19:51.309Z"
   },
   {
    "duration": 13159,
    "start_time": "2023-09-22T18:19:51.354Z"
   },
   {
    "duration": 47,
    "start_time": "2023-09-22T18:20:04.515Z"
   },
   {
    "duration": 513,
    "start_time": "2023-09-22T18:20:04.564Z"
   },
   {
    "duration": 7,
    "start_time": "2023-09-22T18:20:05.078Z"
   },
   {
    "duration": 15,
    "start_time": "2023-09-22T18:20:05.086Z"
   },
   {
    "duration": 33,
    "start_time": "2023-09-22T18:20:05.102Z"
   },
   {
    "duration": 127,
    "start_time": "2023-09-22T18:20:05.137Z"
   },
   {
    "duration": 122,
    "start_time": "2023-09-22T18:20:05.265Z"
   },
   {
    "duration": 209,
    "start_time": "2023-09-22T18:20:05.395Z"
   },
   {
    "duration": 154,
    "start_time": "2023-09-22T18:20:05.605Z"
   },
   {
    "duration": 102,
    "start_time": "2023-09-22T18:20:05.766Z"
   },
   {
    "duration": 219,
    "start_time": "2023-09-22T18:20:05.870Z"
   },
   {
    "duration": 950,
    "start_time": "2023-09-22T18:20:06.091Z"
   },
   {
    "duration": 116,
    "start_time": "2023-09-22T18:20:07.042Z"
   },
   {
    "duration": 127,
    "start_time": "2023-09-22T18:20:07.160Z"
   },
   {
    "duration": 11,
    "start_time": "2023-09-22T18:20:07.289Z"
   },
   {
    "duration": 114,
    "start_time": "2023-09-22T18:20:07.302Z"
   },
   {
    "duration": 394,
    "start_time": "2023-09-22T18:20:07.417Z"
   },
   {
    "duration": 21,
    "start_time": "2023-09-22T18:20:07.813Z"
   },
   {
    "duration": 37,
    "start_time": "2023-09-22T18:20:07.835Z"
   },
   {
    "duration": 83,
    "start_time": "2023-09-22T18:20:07.874Z"
   },
   {
    "duration": 405,
    "start_time": "2023-09-22T18:20:07.960Z"
   },
   {
    "duration": 130,
    "start_time": "2023-09-22T18:20:08.368Z"
   },
   {
    "duration": 195,
    "start_time": "2023-09-22T18:20:08.501Z"
   },
   {
    "duration": 15,
    "start_time": "2023-09-22T18:20:08.698Z"
   },
   {
    "duration": 214,
    "start_time": "2023-09-22T18:20:08.715Z"
   },
   {
    "duration": 160,
    "start_time": "2023-09-22T18:21:25.140Z"
   },
   {
    "duration": 174,
    "start_time": "2023-09-22T18:21:40.007Z"
   },
   {
    "duration": 1238,
    "start_time": "2023-09-22T18:21:53.219Z"
   },
   {
    "duration": 1712,
    "start_time": "2023-09-22T18:22:04.238Z"
   },
   {
    "duration": 46,
    "start_time": "2023-09-22T18:22:05.953Z"
   },
   {
    "duration": 21,
    "start_time": "2023-09-22T18:22:06.001Z"
   },
   {
    "duration": 23,
    "start_time": "2023-09-22T18:22:06.024Z"
   },
   {
    "duration": 52,
    "start_time": "2023-09-22T18:22:06.049Z"
   },
   {
    "duration": 14,
    "start_time": "2023-09-22T18:22:06.103Z"
   },
   {
    "duration": 20,
    "start_time": "2023-09-22T18:22:06.119Z"
   },
   {
    "duration": 5,
    "start_time": "2023-09-22T18:22:06.157Z"
   },
   {
    "duration": 6,
    "start_time": "2023-09-22T18:22:06.164Z"
   },
   {
    "duration": 5,
    "start_time": "2023-09-22T18:22:06.173Z"
   },
   {
    "duration": 15,
    "start_time": "2023-09-22T18:22:06.180Z"
   },
   {
    "duration": 13,
    "start_time": "2023-09-22T18:22:06.196Z"
   },
   {
    "duration": 55,
    "start_time": "2023-09-22T18:22:06.211Z"
   },
   {
    "duration": 7,
    "start_time": "2023-09-22T18:22:06.268Z"
   },
   {
    "duration": 42,
    "start_time": "2023-09-22T18:22:06.277Z"
   },
   {
    "duration": 6,
    "start_time": "2023-09-22T18:22:06.322Z"
   },
   {
    "duration": 47,
    "start_time": "2023-09-22T18:22:06.330Z"
   },
   {
    "duration": 13161,
    "start_time": "2023-09-22T18:22:06.379Z"
   },
   {
    "duration": 114,
    "start_time": "2023-09-22T18:22:19.543Z"
   },
   {
    "duration": 406,
    "start_time": "2023-09-22T18:22:19.660Z"
   },
   {
    "duration": 8,
    "start_time": "2023-09-22T18:22:20.068Z"
   },
   {
    "duration": 26,
    "start_time": "2023-09-22T18:22:20.078Z"
   },
   {
    "duration": 24,
    "start_time": "2023-09-22T18:22:20.106Z"
   },
   {
    "duration": 154,
    "start_time": "2023-09-22T18:22:20.132Z"
   },
   {
    "duration": 113,
    "start_time": "2023-09-22T18:22:20.288Z"
   },
   {
    "duration": 132,
    "start_time": "2023-09-22T18:22:20.403Z"
   },
   {
    "duration": 48,
    "start_time": "2023-09-22T18:22:20.538Z"
   },
   {
    "duration": 171,
    "start_time": "2023-09-22T18:22:20.590Z"
   },
   {
    "duration": 186,
    "start_time": "2023-09-22T18:22:20.763Z"
   },
   {
    "duration": 946,
    "start_time": "2023-09-22T18:22:20.956Z"
   },
   {
    "duration": 57,
    "start_time": "2023-09-22T18:22:21.904Z"
   },
   {
    "duration": 203,
    "start_time": "2023-09-22T18:22:21.964Z"
   },
   {
    "duration": 11,
    "start_time": "2023-09-22T18:22:22.169Z"
   },
   {
    "duration": 110,
    "start_time": "2023-09-22T18:22:22.182Z"
   },
   {
    "duration": 421,
    "start_time": "2023-09-22T18:22:22.293Z"
   },
   {
    "duration": 23,
    "start_time": "2023-09-22T18:22:22.716Z"
   },
   {
    "duration": 102,
    "start_time": "2023-09-22T18:22:22.757Z"
   },
   {
    "duration": 95,
    "start_time": "2023-09-22T18:22:22.862Z"
   },
   {
    "duration": 318,
    "start_time": "2023-09-22T18:22:22.958Z"
   },
   {
    "duration": 146,
    "start_time": "2023-09-22T18:22:23.278Z"
   },
   {
    "duration": 196,
    "start_time": "2023-09-22T18:22:23.426Z"
   },
   {
    "duration": 3,
    "start_time": "2023-09-22T18:22:23.624Z"
   },
   {
    "duration": 1013,
    "start_time": "2023-09-22T18:22:23.628Z"
   },
   {
    "duration": 136,
    "start_time": "2023-09-22T18:22:49.174Z"
   },
   {
    "duration": 18,
    "start_time": "2023-09-22T18:22:57.967Z"
   },
   {
    "duration": 182,
    "start_time": "2023-09-22T18:22:58.434Z"
   },
   {
    "duration": 1452,
    "start_time": "2023-09-22T18:23:24.904Z"
   },
   {
    "duration": 47,
    "start_time": "2023-09-22T18:23:26.359Z"
   },
   {
    "duration": 22,
    "start_time": "2023-09-22T18:23:26.408Z"
   },
   {
    "duration": 16,
    "start_time": "2023-09-22T18:23:26.433Z"
   },
   {
    "duration": 50,
    "start_time": "2023-09-22T18:23:26.451Z"
   },
   {
    "duration": 14,
    "start_time": "2023-09-22T18:23:26.503Z"
   },
   {
    "duration": 50,
    "start_time": "2023-09-22T18:23:26.519Z"
   },
   {
    "duration": 5,
    "start_time": "2023-09-22T18:23:26.572Z"
   },
   {
    "duration": 13,
    "start_time": "2023-09-22T18:23:26.578Z"
   },
   {
    "duration": 5,
    "start_time": "2023-09-22T18:23:26.594Z"
   },
   {
    "duration": 9,
    "start_time": "2023-09-22T18:23:26.601Z"
   },
   {
    "duration": 11,
    "start_time": "2023-09-22T18:23:26.611Z"
   },
   {
    "duration": 44,
    "start_time": "2023-09-22T18:23:26.624Z"
   },
   {
    "duration": 7,
    "start_time": "2023-09-22T18:23:26.669Z"
   },
   {
    "duration": 28,
    "start_time": "2023-09-22T18:23:26.678Z"
   },
   {
    "duration": 4,
    "start_time": "2023-09-22T18:23:26.708Z"
   },
   {
    "duration": 44,
    "start_time": "2023-09-22T18:23:26.713Z"
   },
   {
    "duration": 14726,
    "start_time": "2023-09-22T18:23:26.759Z"
   },
   {
    "duration": 76,
    "start_time": "2023-09-22T18:23:41.486Z"
   },
   {
    "duration": 546,
    "start_time": "2023-09-22T18:23:41.564Z"
   },
   {
    "duration": 8,
    "start_time": "2023-09-22T18:23:42.112Z"
   },
   {
    "duration": 7,
    "start_time": "2023-09-22T18:23:42.122Z"
   },
   {
    "duration": 48,
    "start_time": "2023-09-22T18:23:42.131Z"
   },
   {
    "duration": 148,
    "start_time": "2023-09-22T18:23:42.181Z"
   },
   {
    "duration": 138,
    "start_time": "2023-09-22T18:23:42.331Z"
   },
   {
    "duration": 136,
    "start_time": "2023-09-22T18:23:42.471Z"
   },
   {
    "duration": 147,
    "start_time": "2023-09-22T18:23:42.609Z"
   },
   {
    "duration": 110,
    "start_time": "2023-09-22T18:23:42.762Z"
   },
   {
    "duration": 201,
    "start_time": "2023-09-22T18:23:42.874Z"
   },
   {
    "duration": 1111,
    "start_time": "2023-09-22T18:23:43.078Z"
   },
   {
    "duration": 67,
    "start_time": "2023-09-22T18:23:44.191Z"
   },
   {
    "duration": 146,
    "start_time": "2023-09-22T18:23:44.260Z"
   },
   {
    "duration": 13,
    "start_time": "2023-09-22T18:23:44.408Z"
   },
   {
    "duration": 103,
    "start_time": "2023-09-22T18:23:44.458Z"
   },
   {
    "duration": 457,
    "start_time": "2023-09-22T18:23:44.563Z"
   },
   {
    "duration": 37,
    "start_time": "2023-09-22T18:23:45.022Z"
   },
   {
    "duration": 42,
    "start_time": "2023-09-22T18:23:45.061Z"
   },
   {
    "duration": 57,
    "start_time": "2023-09-22T18:23:45.105Z"
   },
   {
    "duration": 409,
    "start_time": "2023-09-22T18:23:45.165Z"
   },
   {
    "duration": 145,
    "start_time": "2023-09-22T18:23:45.576Z"
   },
   {
    "duration": 205,
    "start_time": "2023-09-22T18:23:45.723Z"
   },
   {
    "duration": 31,
    "start_time": "2023-09-22T18:23:45.930Z"
   },
   {
    "duration": 211,
    "start_time": "2023-09-22T18:23:45.963Z"
   },
   {
    "duration": 105,
    "start_time": "2023-09-22T18:24:14.193Z"
   },
   {
    "duration": 201,
    "start_time": "2023-09-22T18:24:43.616Z"
   },
   {
    "duration": 133,
    "start_time": "2023-09-22T18:25:00.011Z"
   },
   {
    "duration": 1515,
    "start_time": "2023-09-22T18:25:08.868Z"
   },
   {
    "duration": 46,
    "start_time": "2023-09-22T18:25:10.385Z"
   },
   {
    "duration": 19,
    "start_time": "2023-09-22T18:25:10.433Z"
   },
   {
    "duration": 14,
    "start_time": "2023-09-22T18:25:10.454Z"
   },
   {
    "duration": 43,
    "start_time": "2023-09-22T18:25:10.470Z"
   },
   {
    "duration": 12,
    "start_time": "2023-09-22T18:25:10.514Z"
   },
   {
    "duration": 44,
    "start_time": "2023-09-22T18:25:10.527Z"
   },
   {
    "duration": 4,
    "start_time": "2023-09-22T18:25:10.573Z"
   },
   {
    "duration": 6,
    "start_time": "2023-09-22T18:25:10.578Z"
   },
   {
    "duration": 5,
    "start_time": "2023-09-22T18:25:10.587Z"
   },
   {
    "duration": 9,
    "start_time": "2023-09-22T18:25:10.594Z"
   },
   {
    "duration": 10,
    "start_time": "2023-09-22T18:25:10.604Z"
   },
   {
    "duration": 55,
    "start_time": "2023-09-22T18:25:10.615Z"
   },
   {
    "duration": 5,
    "start_time": "2023-09-22T18:25:10.672Z"
   },
   {
    "duration": 13,
    "start_time": "2023-09-22T18:25:10.679Z"
   },
   {
    "duration": 3,
    "start_time": "2023-09-22T18:25:10.694Z"
   },
   {
    "duration": 58,
    "start_time": "2023-09-22T18:25:10.699Z"
   },
   {
    "duration": 12874,
    "start_time": "2023-09-22T18:25:10.759Z"
   },
   {
    "duration": 39,
    "start_time": "2023-09-22T18:25:23.635Z"
   },
   {
    "duration": 499,
    "start_time": "2023-09-22T18:25:23.676Z"
   },
   {
    "duration": 8,
    "start_time": "2023-09-22T18:25:24.177Z"
   },
   {
    "duration": 16,
    "start_time": "2023-09-22T18:25:24.187Z"
   },
   {
    "duration": 23,
    "start_time": "2023-09-22T18:25:24.206Z"
   },
   {
    "duration": 163,
    "start_time": "2023-09-22T18:25:24.231Z"
   },
   {
    "duration": 109,
    "start_time": "2023-09-22T18:25:24.396Z"
   },
   {
    "duration": 130,
    "start_time": "2023-09-22T18:25:24.507Z"
   },
   {
    "duration": 41,
    "start_time": "2023-09-22T18:25:24.638Z"
   },
   {
    "duration": 173,
    "start_time": "2023-09-22T18:25:24.686Z"
   },
   {
    "duration": 197,
    "start_time": "2023-09-22T18:25:24.861Z"
   },
   {
    "duration": 998,
    "start_time": "2023-09-22T18:25:25.060Z"
   },
   {
    "duration": 38,
    "start_time": "2023-09-22T18:25:26.060Z"
   },
   {
    "duration": 128,
    "start_time": "2023-09-22T18:25:26.158Z"
   },
   {
    "duration": 13,
    "start_time": "2023-09-22T18:25:26.288Z"
   },
   {
    "duration": 112,
    "start_time": "2023-09-22T18:25:26.303Z"
   },
   {
    "duration": 411,
    "start_time": "2023-09-22T18:25:26.417Z"
   },
   {
    "duration": 39,
    "start_time": "2023-09-22T18:25:26.830Z"
   },
   {
    "duration": 86,
    "start_time": "2023-09-22T18:25:26.871Z"
   },
   {
    "duration": 3,
    "start_time": "2023-09-22T18:25:27.056Z"
   },
   {
    "duration": 304,
    "start_time": "2023-09-22T18:25:27.060Z"
   },
   {
    "duration": 139,
    "start_time": "2023-09-22T18:25:27.365Z"
   },
   {
    "duration": 185,
    "start_time": "2023-09-22T18:25:27.506Z"
   },
   {
    "duration": 13,
    "start_time": "2023-09-22T18:25:27.693Z"
   },
   {
    "duration": 184,
    "start_time": "2023-09-22T18:25:27.708Z"
   },
   {
    "duration": 6228,
    "start_time": "2023-09-22T18:31:44.146Z"
   },
   {
    "duration": 110,
    "start_time": "2023-09-22T18:32:01.712Z"
   },
   {
    "duration": 14,
    "start_time": "2023-09-22T18:32:03.706Z"
   },
   {
    "duration": 98,
    "start_time": "2023-09-22T18:32:04.558Z"
   },
   {
    "duration": 1635,
    "start_time": "2023-09-22T18:32:13.485Z"
   },
   {
    "duration": 51,
    "start_time": "2023-09-22T18:32:15.122Z"
   },
   {
    "duration": 27,
    "start_time": "2023-09-22T18:32:15.175Z"
   },
   {
    "duration": 14,
    "start_time": "2023-09-22T18:32:15.205Z"
   },
   {
    "duration": 70,
    "start_time": "2023-09-22T18:32:15.221Z"
   },
   {
    "duration": 14,
    "start_time": "2023-09-22T18:32:15.293Z"
   },
   {
    "duration": 28,
    "start_time": "2023-09-22T18:32:15.309Z"
   },
   {
    "duration": 19,
    "start_time": "2023-09-22T18:32:15.339Z"
   },
   {
    "duration": 16,
    "start_time": "2023-09-22T18:32:15.360Z"
   },
   {
    "duration": 8,
    "start_time": "2023-09-22T18:32:15.379Z"
   },
   {
    "duration": 23,
    "start_time": "2023-09-22T18:32:15.389Z"
   },
   {
    "duration": 24,
    "start_time": "2023-09-22T18:32:15.414Z"
   },
   {
    "duration": 20,
    "start_time": "2023-09-22T18:32:15.440Z"
   },
   {
    "duration": 13,
    "start_time": "2023-09-22T18:32:15.462Z"
   },
   {
    "duration": 14,
    "start_time": "2023-09-22T18:32:15.477Z"
   },
   {
    "duration": 3,
    "start_time": "2023-09-22T18:32:15.493Z"
   },
   {
    "duration": 46,
    "start_time": "2023-09-22T18:32:15.498Z"
   },
   {
    "duration": 6431,
    "start_time": "2023-09-22T18:32:15.546Z"
   },
   {
    "duration": 178,
    "start_time": "2023-09-22T18:32:21.979Z"
   },
   {
    "duration": 402,
    "start_time": "2023-09-22T18:32:22.160Z"
   },
   {
    "duration": 7,
    "start_time": "2023-09-22T18:32:22.564Z"
   },
   {
    "duration": 42,
    "start_time": "2023-09-22T18:32:22.573Z"
   },
   {
    "duration": 45,
    "start_time": "2023-09-22T18:32:22.617Z"
   },
   {
    "duration": 150,
    "start_time": "2023-09-22T18:32:22.664Z"
   },
   {
    "duration": 115,
    "start_time": "2023-09-22T18:32:22.817Z"
   },
   {
    "duration": 138,
    "start_time": "2023-09-22T18:32:22.934Z"
   },
   {
    "duration": 36,
    "start_time": "2023-09-22T18:32:23.074Z"
   },
   {
    "duration": 105,
    "start_time": "2023-09-22T18:32:23.162Z"
   },
   {
    "duration": 125,
    "start_time": "2023-09-22T18:32:23.269Z"
   },
   {
    "duration": 1018,
    "start_time": "2023-09-22T18:32:23.396Z"
   },
   {
    "duration": 57,
    "start_time": "2023-09-22T18:32:24.416Z"
   },
   {
    "duration": 133,
    "start_time": "2023-09-22T18:32:24.556Z"
   },
   {
    "duration": 118,
    "start_time": "2023-09-22T18:32:24.691Z"
   },
   {
    "duration": 110,
    "start_time": "2023-09-22T18:32:24.811Z"
   },
   {
    "duration": 427,
    "start_time": "2023-09-22T18:32:24.924Z"
   },
   {
    "duration": 23,
    "start_time": "2023-09-22T18:32:25.357Z"
   },
   {
    "duration": 76,
    "start_time": "2023-09-22T18:32:25.382Z"
   },
   {
    "duration": 4,
    "start_time": "2023-09-22T18:32:25.460Z"
   },
   {
    "duration": 413,
    "start_time": "2023-09-22T18:32:25.466Z"
   },
   {
    "duration": 141,
    "start_time": "2023-09-22T18:32:25.882Z"
   },
   {
    "duration": 196,
    "start_time": "2023-09-22T18:32:26.025Z"
   },
   {
    "duration": 16,
    "start_time": "2023-09-22T18:32:26.223Z"
   },
   {
    "duration": 119,
    "start_time": "2023-09-22T18:32:26.240Z"
   },
   {
    "duration": 23231,
    "start_time": "2023-09-22T18:32:45.100Z"
   },
   {
    "duration": 207,
    "start_time": "2023-09-22T18:33:20.150Z"
   },
   {
    "duration": 17,
    "start_time": "2023-09-22T18:33:23.856Z"
   },
   {
    "duration": 206,
    "start_time": "2023-09-22T18:33:24.442Z"
   },
   {
    "duration": 82,
    "start_time": "2023-09-22T18:33:37.827Z"
   },
   {
    "duration": 6388,
    "start_time": "2023-09-22T18:34:19.527Z"
   },
   {
    "duration": 105,
    "start_time": "2023-09-22T18:34:49.442Z"
   },
   {
    "duration": 13,
    "start_time": "2023-09-22T18:34:52.241Z"
   },
   {
    "duration": 98,
    "start_time": "2023-09-22T18:34:52.950Z"
   },
   {
    "duration": 13,
    "start_time": "2023-09-22T18:35:12.875Z"
   },
   {
    "duration": 105,
    "start_time": "2023-09-22T18:35:13.425Z"
   },
   {
    "duration": 1444,
    "start_time": "2023-09-22T18:36:20.115Z"
   },
   {
    "duration": 50,
    "start_time": "2023-09-22T18:36:21.562Z"
   },
   {
    "duration": 19,
    "start_time": "2023-09-22T18:36:21.613Z"
   },
   {
    "duration": 15,
    "start_time": "2023-09-22T18:36:21.634Z"
   },
   {
    "duration": 57,
    "start_time": "2023-09-22T18:36:21.651Z"
   },
   {
    "duration": 12,
    "start_time": "2023-09-22T18:36:21.710Z"
   },
   {
    "duration": 38,
    "start_time": "2023-09-22T18:36:21.724Z"
   },
   {
    "duration": 5,
    "start_time": "2023-09-22T18:36:21.765Z"
   },
   {
    "duration": 14,
    "start_time": "2023-09-22T18:36:21.772Z"
   },
   {
    "duration": 7,
    "start_time": "2023-09-22T18:36:21.788Z"
   },
   {
    "duration": 9,
    "start_time": "2023-09-22T18:36:21.797Z"
   },
   {
    "duration": 23,
    "start_time": "2023-09-22T18:36:21.807Z"
   },
   {
    "duration": 12,
    "start_time": "2023-09-22T18:36:21.857Z"
   },
   {
    "duration": 21,
    "start_time": "2023-09-22T18:36:21.874Z"
   },
   {
    "duration": 6,
    "start_time": "2023-09-22T18:36:21.897Z"
   },
   {
    "duration": 13,
    "start_time": "2023-09-22T18:36:21.905Z"
   },
   {
    "duration": 5,
    "start_time": "2023-09-22T18:36:21.920Z"
   },
   {
    "duration": 6229,
    "start_time": "2023-09-22T18:36:21.957Z"
   },
   {
    "duration": 78,
    "start_time": "2023-09-22T18:36:28.189Z"
   },
   {
    "duration": 474,
    "start_time": "2023-09-22T18:36:28.270Z"
   },
   {
    "duration": 7,
    "start_time": "2023-09-22T18:36:28.758Z"
   },
   {
    "duration": 38,
    "start_time": "2023-09-22T18:36:28.767Z"
   },
   {
    "duration": 32,
    "start_time": "2023-09-22T18:36:28.807Z"
   },
   {
    "duration": 165,
    "start_time": "2023-09-22T18:36:28.841Z"
   },
   {
    "duration": 137,
    "start_time": "2023-09-22T18:36:29.009Z"
   },
   {
    "duration": 142,
    "start_time": "2023-09-22T18:36:29.148Z"
   },
   {
    "duration": 65,
    "start_time": "2023-09-22T18:36:29.293Z"
   },
   {
    "duration": 106,
    "start_time": "2023-09-22T18:36:29.364Z"
   },
   {
    "duration": 158,
    "start_time": "2023-09-22T18:36:29.473Z"
   },
   {
    "duration": 1039,
    "start_time": "2023-09-22T18:36:29.633Z"
   },
   {
    "duration": 30,
    "start_time": "2023-09-22T18:36:30.675Z"
   },
   {
    "duration": 151,
    "start_time": "2023-09-22T18:36:30.761Z"
   },
   {
    "duration": 34,
    "start_time": "2023-09-22T18:36:30.914Z"
   },
   {
    "duration": 141,
    "start_time": "2023-09-22T18:36:30.950Z"
   },
   {
    "duration": 441,
    "start_time": "2023-09-22T18:36:31.093Z"
   },
   {
    "duration": 31,
    "start_time": "2023-09-22T18:36:31.536Z"
   },
   {
    "duration": 89,
    "start_time": "2023-09-22T18:36:31.569Z"
   },
   {
    "duration": 114,
    "start_time": "2023-09-22T18:36:31.660Z"
   },
   {
    "duration": 301,
    "start_time": "2023-09-22T18:36:31.777Z"
   },
   {
    "duration": 135,
    "start_time": "2023-09-22T18:36:32.079Z"
   },
   {
    "duration": 239,
    "start_time": "2023-09-22T18:36:32.218Z"
   },
   {
    "duration": 11,
    "start_time": "2023-09-22T18:36:32.459Z"
   },
   {
    "duration": 117,
    "start_time": "2023-09-22T18:36:32.471Z"
   },
   {
    "duration": 13450,
    "start_time": "2023-09-22T18:37:01.232Z"
   },
   {
    "duration": 1616,
    "start_time": "2023-09-22T18:37:48.809Z"
   },
   {
    "duration": 47,
    "start_time": "2023-09-22T18:37:50.428Z"
   },
   {
    "duration": 22,
    "start_time": "2023-09-22T18:37:50.477Z"
   },
   {
    "duration": 14,
    "start_time": "2023-09-22T18:37:50.501Z"
   },
   {
    "duration": 75,
    "start_time": "2023-09-22T18:37:50.518Z"
   },
   {
    "duration": 14,
    "start_time": "2023-09-22T18:37:50.596Z"
   },
   {
    "duration": 27,
    "start_time": "2023-09-22T18:37:50.612Z"
   },
   {
    "duration": 7,
    "start_time": "2023-09-22T18:37:50.657Z"
   },
   {
    "duration": 15,
    "start_time": "2023-09-22T18:37:50.666Z"
   },
   {
    "duration": 19,
    "start_time": "2023-09-22T18:37:50.684Z"
   },
   {
    "duration": 32,
    "start_time": "2023-09-22T18:37:50.705Z"
   },
   {
    "duration": 50,
    "start_time": "2023-09-22T18:37:50.739Z"
   },
   {
    "duration": 10,
    "start_time": "2023-09-22T18:37:50.791Z"
   },
   {
    "duration": 21,
    "start_time": "2023-09-22T18:37:50.806Z"
   },
   {
    "duration": 6,
    "start_time": "2023-09-22T18:37:50.829Z"
   },
   {
    "duration": 31,
    "start_time": "2023-09-22T18:37:50.837Z"
   },
   {
    "duration": 6,
    "start_time": "2023-09-22T18:37:50.870Z"
   },
   {
    "duration": 13359,
    "start_time": "2023-09-22T18:37:50.878Z"
   },
   {
    "duration": 128,
    "start_time": "2023-09-22T18:38:04.238Z"
   },
   {
    "duration": 438,
    "start_time": "2023-09-22T18:38:04.368Z"
   },
   {
    "duration": 7,
    "start_time": "2023-09-22T18:38:04.808Z"
   },
   {
    "duration": 7,
    "start_time": "2023-09-22T18:38:04.817Z"
   },
   {
    "duration": 50,
    "start_time": "2023-09-22T18:38:04.826Z"
   },
   {
    "duration": 129,
    "start_time": "2023-09-22T18:38:04.878Z"
   },
   {
    "duration": 108,
    "start_time": "2023-09-22T18:38:05.009Z"
   },
   {
    "duration": 246,
    "start_time": "2023-09-22T18:38:05.118Z"
   },
   {
    "duration": 25,
    "start_time": "2023-09-22T18:38:05.365Z"
   },
   {
    "duration": 99,
    "start_time": "2023-09-22T18:38:05.458Z"
   },
   {
    "duration": 252,
    "start_time": "2023-09-22T18:38:05.558Z"
   },
   {
    "duration": 977,
    "start_time": "2023-09-22T18:38:05.811Z"
   },
   {
    "duration": 78,
    "start_time": "2023-09-22T18:38:06.790Z"
   },
   {
    "duration": 204,
    "start_time": "2023-09-22T18:38:06.870Z"
   },
   {
    "duration": 11,
    "start_time": "2023-09-22T18:38:07.076Z"
   },
   {
    "duration": 113,
    "start_time": "2023-09-22T18:38:07.089Z"
   },
   {
    "duration": 426,
    "start_time": "2023-09-22T18:38:07.204Z"
   },
   {
    "duration": 30,
    "start_time": "2023-09-22T18:38:07.631Z"
   },
   {
    "duration": 102,
    "start_time": "2023-09-22T18:38:07.663Z"
   },
   {
    "duration": 88,
    "start_time": "2023-09-22T18:38:07.769Z"
   },
   {
    "duration": 314,
    "start_time": "2023-09-22T18:38:07.859Z"
   },
   {
    "duration": 145,
    "start_time": "2023-09-22T18:38:08.176Z"
   },
   {
    "duration": 187,
    "start_time": "2023-09-22T18:38:08.324Z"
   },
   {
    "duration": 13,
    "start_time": "2023-09-22T18:38:08.513Z"
   },
   {
    "duration": 142,
    "start_time": "2023-09-22T18:38:08.528Z"
   },
   {
    "duration": 64,
    "start_time": "2023-09-22T18:38:28.687Z"
   },
   {
    "duration": 12,
    "start_time": "2023-09-22T18:38:42.463Z"
   },
   {
    "duration": 99,
    "start_time": "2023-09-22T18:38:43.020Z"
   },
   {
    "duration": 3,
    "start_time": "2023-09-22T18:38:58.831Z"
   },
   {
    "duration": 99,
    "start_time": "2023-09-22T18:38:59.446Z"
   },
   {
    "duration": 1515,
    "start_time": "2023-09-22T18:39:48.908Z"
   },
   {
    "duration": 46,
    "start_time": "2023-09-22T18:39:50.425Z"
   },
   {
    "duration": 20,
    "start_time": "2023-09-22T18:39:50.473Z"
   },
   {
    "duration": 42,
    "start_time": "2023-09-22T18:39:50.495Z"
   },
   {
    "duration": 51,
    "start_time": "2023-09-22T18:39:50.540Z"
   },
   {
    "duration": 17,
    "start_time": "2023-09-22T18:39:50.592Z"
   },
   {
    "duration": 37,
    "start_time": "2023-09-22T18:39:50.611Z"
   },
   {
    "duration": 11,
    "start_time": "2023-09-22T18:39:50.649Z"
   },
   {
    "duration": 27,
    "start_time": "2023-09-22T18:39:50.662Z"
   },
   {
    "duration": 19,
    "start_time": "2023-09-22T18:39:50.691Z"
   },
   {
    "duration": 32,
    "start_time": "2023-09-22T18:39:50.712Z"
   },
   {
    "duration": 69,
    "start_time": "2023-09-22T18:39:50.746Z"
   },
   {
    "duration": 24,
    "start_time": "2023-09-22T18:39:50.818Z"
   },
   {
    "duration": 40,
    "start_time": "2023-09-22T18:39:50.846Z"
   },
   {
    "duration": 28,
    "start_time": "2023-09-22T18:39:50.889Z"
   },
   {
    "duration": 43,
    "start_time": "2023-09-22T18:39:50.919Z"
   },
   {
    "duration": 30,
    "start_time": "2023-09-22T18:39:50.964Z"
   },
   {
    "duration": 13685,
    "start_time": "2023-09-22T18:39:50.996Z"
   },
   {
    "duration": 74,
    "start_time": "2023-09-22T18:40:04.682Z"
   },
   {
    "duration": 387,
    "start_time": "2023-09-22T18:40:04.759Z"
   },
   {
    "duration": 13,
    "start_time": "2023-09-22T18:40:05.149Z"
   },
   {
    "duration": 8,
    "start_time": "2023-09-22T18:40:05.164Z"
   },
   {
    "duration": 29,
    "start_time": "2023-09-22T18:40:05.174Z"
   },
   {
    "duration": 278,
    "start_time": "2023-09-22T18:40:05.205Z"
   },
   {
    "duration": 99,
    "start_time": "2023-09-22T18:40:05.485Z"
   },
   {
    "duration": 159,
    "start_time": "2023-09-22T18:40:05.587Z"
   },
   {
    "duration": 110,
    "start_time": "2023-09-22T18:40:05.757Z"
   },
   {
    "duration": 96,
    "start_time": "2023-09-22T18:40:05.869Z"
   },
   {
    "duration": 366,
    "start_time": "2023-09-22T18:40:05.968Z"
   },
   {
    "duration": 986,
    "start_time": "2023-09-22T18:40:06.336Z"
   },
   {
    "duration": 131,
    "start_time": "2023-09-22T18:40:07.326Z"
   },
   {
    "duration": 138,
    "start_time": "2023-09-22T18:40:07.459Z"
   },
   {
    "duration": 11,
    "start_time": "2023-09-22T18:40:07.599Z"
   },
   {
    "duration": 107,
    "start_time": "2023-09-22T18:40:07.612Z"
   },
   {
    "duration": 438,
    "start_time": "2023-09-22T18:40:07.721Z"
   },
   {
    "duration": 24,
    "start_time": "2023-09-22T18:40:08.161Z"
   },
   {
    "duration": 71,
    "start_time": "2023-09-22T18:40:08.187Z"
   },
   {
    "duration": 11,
    "start_time": "2023-09-22T18:40:08.259Z"
   },
   {
    "duration": 317,
    "start_time": "2023-09-22T18:40:08.358Z"
   },
   {
    "duration": 180,
    "start_time": "2023-09-22T18:40:08.678Z"
   },
   {
    "duration": 246,
    "start_time": "2023-09-22T18:40:08.864Z"
   },
   {
    "duration": 7,
    "start_time": "2023-09-22T18:40:09.112Z"
   },
   {
    "duration": 122,
    "start_time": "2023-09-22T18:40:09.122Z"
   },
   {
    "duration": 16,
    "start_time": "2023-09-22T18:40:59.062Z"
   },
   {
    "duration": 113,
    "start_time": "2023-09-22T18:40:59.956Z"
   },
   {
    "duration": 3,
    "start_time": "2023-09-22T18:43:06.692Z"
   },
   {
    "duration": 1500,
    "start_time": "2023-09-22T18:43:18.885Z"
   },
   {
    "duration": 48,
    "start_time": "2023-09-22T18:43:20.387Z"
   },
   {
    "duration": 20,
    "start_time": "2023-09-22T18:43:20.437Z"
   },
   {
    "duration": 19,
    "start_time": "2023-09-22T18:43:20.459Z"
   },
   {
    "duration": 43,
    "start_time": "2023-09-22T18:43:20.480Z"
   },
   {
    "duration": 33,
    "start_time": "2023-09-22T18:43:20.525Z"
   },
   {
    "duration": 27,
    "start_time": "2023-09-22T18:43:20.560Z"
   },
   {
    "duration": 9,
    "start_time": "2023-09-22T18:43:20.589Z"
   },
   {
    "duration": 11,
    "start_time": "2023-09-22T18:43:20.599Z"
   },
   {
    "duration": 10,
    "start_time": "2023-09-22T18:43:20.613Z"
   },
   {
    "duration": 13,
    "start_time": "2023-09-22T18:43:20.624Z"
   },
   {
    "duration": 3,
    "start_time": "2023-09-22T18:43:20.660Z"
   },
   {
    "duration": 19,
    "start_time": "2023-09-22T18:43:20.668Z"
   },
   {
    "duration": 22,
    "start_time": "2023-09-22T18:43:20.689Z"
   },
   {
    "duration": 50,
    "start_time": "2023-09-22T18:43:20.713Z"
   },
   {
    "duration": 71,
    "start_time": "2023-09-22T18:43:20.765Z"
   },
   {
    "duration": 38,
    "start_time": "2023-09-22T18:43:20.838Z"
   },
   {
    "duration": 13070,
    "start_time": "2023-09-22T18:43:20.878Z"
   },
   {
    "duration": 111,
    "start_time": "2023-09-22T18:43:33.949Z"
   },
   {
    "duration": 407,
    "start_time": "2023-09-22T18:43:34.062Z"
   },
   {
    "duration": 7,
    "start_time": "2023-09-22T18:43:34.471Z"
   },
   {
    "duration": 8,
    "start_time": "2023-09-22T18:43:34.480Z"
   },
   {
    "duration": 27,
    "start_time": "2023-09-22T18:43:34.491Z"
   },
   {
    "duration": 166,
    "start_time": "2023-09-22T18:43:34.520Z"
   },
   {
    "duration": 71,
    "start_time": "2023-09-22T18:43:34.687Z"
   },
   {
    "duration": 146,
    "start_time": "2023-09-22T18:43:34.760Z"
   },
   {
    "duration": 35,
    "start_time": "2023-09-22T18:43:34.908Z"
   },
   {
    "duration": 97,
    "start_time": "2023-09-22T18:43:34.960Z"
   },
   {
    "duration": 253,
    "start_time": "2023-09-22T18:43:35.060Z"
   },
   {
    "duration": 962,
    "start_time": "2023-09-22T18:43:35.314Z"
   },
   {
    "duration": 83,
    "start_time": "2023-09-22T18:43:36.278Z"
   },
   {
    "duration": 134,
    "start_time": "2023-09-22T18:43:36.365Z"
   },
   {
    "duration": 13,
    "start_time": "2023-09-22T18:43:36.501Z"
   },
   {
    "duration": 117,
    "start_time": "2023-09-22T18:43:36.516Z"
   },
   {
    "duration": 428,
    "start_time": "2023-09-22T18:43:36.635Z"
   },
   {
    "duration": 23,
    "start_time": "2023-09-22T18:43:37.064Z"
   },
   {
    "duration": 77,
    "start_time": "2023-09-22T18:43:37.089Z"
   },
   {
    "duration": 88,
    "start_time": "2023-09-22T18:43:37.169Z"
   },
   {
    "duration": 304,
    "start_time": "2023-09-22T18:43:37.259Z"
   },
   {
    "duration": 137,
    "start_time": "2023-09-22T18:43:37.564Z"
   },
   {
    "duration": 175,
    "start_time": "2023-09-22T18:43:37.703Z"
   },
   {
    "duration": 13,
    "start_time": "2023-09-22T18:43:37.880Z"
   },
   {
    "duration": 122,
    "start_time": "2023-09-22T18:43:37.895Z"
   },
   {
    "duration": 160,
    "start_time": "2023-09-22T18:43:52.913Z"
   },
   {
    "duration": 12,
    "start_time": "2023-09-22T18:43:55.123Z"
   },
   {
    "duration": 174,
    "start_time": "2023-09-22T18:43:55.786Z"
   },
   {
    "duration": 1677,
    "start_time": "2023-09-28T12:26:24.527Z"
   },
   {
    "duration": 89,
    "start_time": "2023-09-28T12:26:26.206Z"
   },
   {
    "duration": 21,
    "start_time": "2023-09-28T12:26:26.297Z"
   },
   {
    "duration": 16,
    "start_time": "2023-09-28T12:26:26.321Z"
   },
   {
    "duration": 50,
    "start_time": "2023-09-28T12:26:26.339Z"
   },
   {
    "duration": 12,
    "start_time": "2023-09-28T12:26:26.391Z"
   },
   {
    "duration": 20,
    "start_time": "2023-09-28T12:26:26.404Z"
   },
   {
    "duration": 5,
    "start_time": "2023-09-28T12:26:26.425Z"
   },
   {
    "duration": 12,
    "start_time": "2023-09-28T12:26:26.431Z"
   },
   {
    "duration": 9,
    "start_time": "2023-09-28T12:26:26.445Z"
   },
   {
    "duration": 30,
    "start_time": "2023-09-28T12:26:26.456Z"
   },
   {
    "duration": 9,
    "start_time": "2023-09-28T12:26:26.488Z"
   },
   {
    "duration": 17,
    "start_time": "2023-09-28T12:26:26.498Z"
   },
   {
    "duration": 17,
    "start_time": "2023-09-28T12:26:26.517Z"
   },
   {
    "duration": 11,
    "start_time": "2023-09-28T12:26:26.536Z"
   },
   {
    "duration": 13,
    "start_time": "2023-09-28T12:26:26.549Z"
   },
   {
    "duration": 18,
    "start_time": "2023-09-28T12:26:26.564Z"
   },
   {
    "duration": 12906,
    "start_time": "2023-09-28T12:26:26.585Z"
   },
   {
    "duration": 94,
    "start_time": "2023-09-28T12:26:39.492Z"
   },
   {
    "duration": 459,
    "start_time": "2023-09-28T12:26:39.588Z"
   },
   {
    "duration": 7,
    "start_time": "2023-09-28T12:26:40.049Z"
   },
   {
    "duration": 25,
    "start_time": "2023-09-28T12:26:40.057Z"
   },
   {
    "duration": 22,
    "start_time": "2023-09-28T12:26:40.084Z"
   },
   {
    "duration": 139,
    "start_time": "2023-09-28T12:26:40.108Z"
   },
   {
    "duration": 65,
    "start_time": "2023-09-28T12:26:40.249Z"
   },
   {
    "duration": 129,
    "start_time": "2023-09-28T12:26:40.315Z"
   },
   {
    "duration": 42,
    "start_time": "2023-09-28T12:26:40.445Z"
   },
   {
    "duration": 190,
    "start_time": "2023-09-28T12:26:40.491Z"
   },
   {
    "duration": 174,
    "start_time": "2023-09-28T12:26:40.684Z"
   },
   {
    "duration": 927,
    "start_time": "2023-09-28T12:26:40.859Z"
   },
   {
    "duration": 38,
    "start_time": "2023-09-28T12:26:41.788Z"
   },
   {
    "duration": 136,
    "start_time": "2023-09-28T12:26:41.882Z"
   },
   {
    "duration": 12,
    "start_time": "2023-09-28T12:26:42.020Z"
   },
   {
    "duration": 110,
    "start_time": "2023-09-28T12:26:42.034Z"
   },
   {
    "duration": 389,
    "start_time": "2023-09-28T12:26:42.145Z"
   },
   {
    "duration": 20,
    "start_time": "2023-09-28T12:26:42.536Z"
   },
   {
    "duration": 29,
    "start_time": "2023-09-28T12:26:42.557Z"
   },
   {
    "duration": 94,
    "start_time": "2023-09-28T12:26:42.588Z"
   },
   {
    "duration": 402,
    "start_time": "2023-09-28T12:26:42.684Z"
   },
   {
    "duration": 136,
    "start_time": "2023-09-28T12:26:43.088Z"
   },
   {
    "duration": 180,
    "start_time": "2023-09-28T12:26:43.225Z"
   },
   {
    "duration": 12,
    "start_time": "2023-09-28T12:26:43.406Z"
   },
   {
    "duration": 184,
    "start_time": "2023-09-28T12:26:43.419Z"
   },
   {
    "duration": 1518,
    "start_time": "2023-09-28T12:27:45.777Z"
   },
   {
    "duration": 43,
    "start_time": "2023-09-28T12:27:47.297Z"
   },
   {
    "duration": 18,
    "start_time": "2023-09-28T12:27:47.342Z"
   },
   {
    "duration": 14,
    "start_time": "2023-09-28T12:27:47.363Z"
   },
   {
    "duration": 54,
    "start_time": "2023-09-28T12:27:47.378Z"
   },
   {
    "duration": 11,
    "start_time": "2023-09-28T12:27:47.434Z"
   },
   {
    "duration": 20,
    "start_time": "2023-09-28T12:27:47.447Z"
   },
   {
    "duration": 12,
    "start_time": "2023-09-28T12:27:47.469Z"
   },
   {
    "duration": 4,
    "start_time": "2023-09-28T12:27:47.483Z"
   },
   {
    "duration": 17,
    "start_time": "2023-09-28T12:27:47.489Z"
   },
   {
    "duration": 32,
    "start_time": "2023-09-28T12:27:47.508Z"
   },
   {
    "duration": 26,
    "start_time": "2023-09-28T12:27:47.541Z"
   },
   {
    "duration": 8,
    "start_time": "2023-09-28T12:27:47.569Z"
   },
   {
    "duration": 32,
    "start_time": "2023-09-28T12:27:47.578Z"
   },
   {
    "duration": 6,
    "start_time": "2023-09-28T12:27:47.612Z"
   },
   {
    "duration": 19,
    "start_time": "2023-09-28T12:27:47.620Z"
   },
   {
    "duration": 18,
    "start_time": "2023-09-28T12:27:47.641Z"
   },
   {
    "duration": 12389,
    "start_time": "2023-09-28T12:27:47.661Z"
   },
   {
    "duration": 37,
    "start_time": "2023-09-28T12:28:00.051Z"
   },
   {
    "duration": 470,
    "start_time": "2023-09-28T12:28:00.089Z"
   },
   {
    "duration": 6,
    "start_time": "2023-09-28T12:28:00.561Z"
   },
   {
    "duration": 61,
    "start_time": "2023-09-28T12:28:00.568Z"
   },
   {
    "duration": 83,
    "start_time": "2023-09-28T12:28:00.631Z"
   },
   {
    "duration": 162,
    "start_time": "2023-09-28T12:28:00.716Z"
   },
   {
    "duration": 56,
    "start_time": "2023-09-28T12:28:00.881Z"
   },
   {
    "duration": 130,
    "start_time": "2023-09-28T12:28:00.939Z"
   },
   {
    "duration": 28,
    "start_time": "2023-09-28T12:28:01.071Z"
   },
   {
    "duration": 100,
    "start_time": "2023-09-28T12:28:01.181Z"
   },
   {
    "duration": 225,
    "start_time": "2023-09-28T12:28:01.283Z"
   },
   {
    "duration": 956,
    "start_time": "2023-09-28T12:28:01.510Z"
   },
   {
    "duration": 38,
    "start_time": "2023-09-28T12:28:02.468Z"
   },
   {
    "duration": 184,
    "start_time": "2023-09-28T12:28:02.583Z"
   },
   {
    "duration": 55,
    "start_time": "2023-09-28T12:28:02.769Z"
   },
   {
    "duration": 187,
    "start_time": "2023-09-28T12:28:02.828Z"
   },
   {
    "duration": 457,
    "start_time": "2023-09-28T12:28:03.017Z"
   },
   {
    "duration": 28,
    "start_time": "2023-09-28T12:28:03.481Z"
   },
   {
    "duration": 19,
    "start_time": "2023-09-28T12:28:03.511Z"
   },
   {
    "duration": 6,
    "start_time": "2023-09-28T12:28:03.583Z"
   },
   {
    "duration": 408,
    "start_time": "2023-09-28T12:28:03.591Z"
   },
   {
    "duration": 153,
    "start_time": "2023-09-28T12:28:04.001Z"
   },
   {
    "duration": 199,
    "start_time": "2023-09-28T12:28:04.155Z"
   },
   {
    "duration": 25,
    "start_time": "2023-09-28T12:28:04.356Z"
   },
   {
    "duration": 186,
    "start_time": "2023-09-28T12:28:04.383Z"
   },
   {
    "duration": 94,
    "start_time": "2023-09-28T12:28:35.536Z"
   },
   {
    "duration": 1444,
    "start_time": "2023-09-28T12:28:42.775Z"
   },
   {
    "duration": 43,
    "start_time": "2023-09-28T12:28:44.221Z"
   },
   {
    "duration": 18,
    "start_time": "2023-09-28T12:28:44.266Z"
   },
   {
    "duration": 13,
    "start_time": "2023-09-28T12:28:44.286Z"
   },
   {
    "duration": 48,
    "start_time": "2023-09-28T12:28:44.301Z"
   },
   {
    "duration": 11,
    "start_time": "2023-09-28T12:28:44.352Z"
   },
   {
    "duration": 31,
    "start_time": "2023-09-28T12:28:44.365Z"
   },
   {
    "duration": 11,
    "start_time": "2023-09-28T12:28:44.398Z"
   },
   {
    "duration": 24,
    "start_time": "2023-09-28T12:28:44.411Z"
   },
   {
    "duration": 33,
    "start_time": "2023-09-28T12:28:44.437Z"
   },
   {
    "duration": 35,
    "start_time": "2023-09-28T12:28:44.472Z"
   },
   {
    "duration": 70,
    "start_time": "2023-09-28T12:28:44.509Z"
   },
   {
    "duration": 15,
    "start_time": "2023-09-28T12:28:44.581Z"
   },
   {
    "duration": 46,
    "start_time": "2023-09-28T12:28:44.599Z"
   },
   {
    "duration": 39,
    "start_time": "2023-09-28T12:28:44.647Z"
   },
   {
    "duration": 29,
    "start_time": "2023-09-28T12:28:44.688Z"
   },
   {
    "duration": 38,
    "start_time": "2023-09-28T12:28:44.718Z"
   },
   {
    "duration": 12371,
    "start_time": "2023-09-28T12:28:44.758Z"
   },
   {
    "duration": 59,
    "start_time": "2023-09-28T12:28:57.131Z"
   },
   {
    "duration": 358,
    "start_time": "2023-09-28T12:28:57.283Z"
   },
   {
    "duration": 7,
    "start_time": "2023-09-28T12:28:57.642Z"
   },
   {
    "duration": 8,
    "start_time": "2023-09-28T12:28:57.650Z"
   },
   {
    "duration": 35,
    "start_time": "2023-09-28T12:28:57.660Z"
   },
   {
    "duration": 130,
    "start_time": "2023-09-28T12:28:57.696Z"
   },
   {
    "duration": 64,
    "start_time": "2023-09-28T12:28:57.828Z"
   },
   {
    "duration": 123,
    "start_time": "2023-09-28T12:28:57.893Z"
   },
   {
    "duration": 69,
    "start_time": "2023-09-28T12:28:58.017Z"
   },
   {
    "duration": 100,
    "start_time": "2023-09-28T12:28:58.089Z"
   },
   {
    "duration": 181,
    "start_time": "2023-09-28T12:28:58.191Z"
   },
   {
    "duration": 902,
    "start_time": "2023-09-28T12:28:58.374Z"
   },
   {
    "duration": 28,
    "start_time": "2023-09-28T12:28:59.281Z"
   },
   {
    "duration": 134,
    "start_time": "2023-09-28T12:28:59.383Z"
   },
   {
    "duration": 63,
    "start_time": "2023-09-28T12:28:59.520Z"
   },
   {
    "duration": 139,
    "start_time": "2023-09-28T12:28:59.585Z"
   },
   {
    "duration": 414,
    "start_time": "2023-09-28T12:28:59.726Z"
   },
   {
    "duration": 23,
    "start_time": "2023-09-28T12:29:00.142Z"
   },
   {
    "duration": 41,
    "start_time": "2023-09-28T12:29:00.167Z"
   },
   {
    "duration": 169,
    "start_time": "2023-09-28T12:29:00.213Z"
   },
   {
    "duration": 304,
    "start_time": "2023-09-28T12:29:00.384Z"
   },
   {
    "duration": 135,
    "start_time": "2023-09-28T12:29:00.690Z"
   },
   {
    "duration": 201,
    "start_time": "2023-09-28T12:29:00.829Z"
   },
   {
    "duration": 12,
    "start_time": "2023-09-28T12:29:01.032Z"
   },
   {
    "duration": 315,
    "start_time": "2023-09-28T12:29:01.046Z"
   },
   {
    "duration": 3,
    "start_time": "2023-09-28T12:30:02.474Z"
   },
   {
    "duration": 103,
    "start_time": "2023-09-28T12:30:02.969Z"
   },
   {
    "duration": 113,
    "start_time": "2023-09-28T12:47:17.393Z"
   },
   {
    "duration": 1440,
    "start_time": "2023-09-28T12:47:24.927Z"
   },
   {
    "duration": 44,
    "start_time": "2023-09-28T12:47:26.369Z"
   },
   {
    "duration": 19,
    "start_time": "2023-09-28T12:47:26.415Z"
   },
   {
    "duration": 18,
    "start_time": "2023-09-28T12:47:26.436Z"
   },
   {
    "duration": 54,
    "start_time": "2023-09-28T12:47:26.456Z"
   },
   {
    "duration": 12,
    "start_time": "2023-09-28T12:47:26.512Z"
   },
   {
    "duration": 21,
    "start_time": "2023-09-28T12:47:26.525Z"
   },
   {
    "duration": 6,
    "start_time": "2023-09-28T12:47:26.549Z"
   },
   {
    "duration": 26,
    "start_time": "2023-09-28T12:47:26.557Z"
   },
   {
    "duration": 10,
    "start_time": "2023-09-28T12:47:26.587Z"
   },
   {
    "duration": 15,
    "start_time": "2023-09-28T12:47:26.599Z"
   },
   {
    "duration": 46,
    "start_time": "2023-09-28T12:47:26.616Z"
   },
   {
    "duration": 17,
    "start_time": "2023-09-28T12:47:26.664Z"
   },
   {
    "duration": 24,
    "start_time": "2023-09-28T12:47:26.684Z"
   },
   {
    "duration": 15,
    "start_time": "2023-09-28T12:47:26.710Z"
   },
   {
    "duration": 29,
    "start_time": "2023-09-28T12:47:26.727Z"
   },
   {
    "duration": 4,
    "start_time": "2023-09-28T12:47:26.758Z"
   },
   {
    "duration": 14453,
    "start_time": "2023-09-28T12:47:26.764Z"
   },
   {
    "duration": 67,
    "start_time": "2023-09-28T12:47:41.219Z"
   },
   {
    "duration": 507,
    "start_time": "2023-09-28T12:47:41.288Z"
   },
   {
    "duration": 6,
    "start_time": "2023-09-28T12:47:41.797Z"
   },
   {
    "duration": 11,
    "start_time": "2023-09-28T12:47:41.805Z"
   },
   {
    "duration": 40,
    "start_time": "2023-09-28T12:47:41.818Z"
   },
   {
    "duration": 134,
    "start_time": "2023-09-28T12:47:41.860Z"
   },
   {
    "duration": 59,
    "start_time": "2023-09-28T12:47:41.996Z"
   },
   {
    "duration": 127,
    "start_time": "2023-09-28T12:47:42.057Z"
   },
   {
    "duration": 97,
    "start_time": "2023-09-28T12:47:42.186Z"
   },
   {
    "duration": 101,
    "start_time": "2023-09-28T12:47:42.288Z"
   },
   {
    "duration": 161,
    "start_time": "2023-09-28T12:47:42.391Z"
   },
   {
    "duration": 1019,
    "start_time": "2023-09-28T12:47:42.555Z"
   },
   {
    "duration": 41,
    "start_time": "2023-09-28T12:47:43.576Z"
   },
   {
    "duration": 139,
    "start_time": "2023-09-28T12:47:43.682Z"
   },
   {
    "duration": 10,
    "start_time": "2023-09-28T12:47:43.823Z"
   },
   {
    "duration": 99,
    "start_time": "2023-09-28T12:47:43.834Z"
   },
   {
    "duration": 427,
    "start_time": "2023-09-28T12:47:43.935Z"
   },
   {
    "duration": 26,
    "start_time": "2023-09-28T12:47:44.364Z"
   },
   {
    "duration": 90,
    "start_time": "2023-09-28T12:47:44.392Z"
   },
   {
    "duration": 4,
    "start_time": "2023-09-28T12:47:44.484Z"
   },
   {
    "duration": 403,
    "start_time": "2023-09-28T12:47:44.490Z"
   },
   {
    "duration": 132,
    "start_time": "2023-09-28T12:47:44.894Z"
   },
   {
    "duration": 192,
    "start_time": "2023-09-28T12:47:45.028Z"
   },
   {
    "duration": 10,
    "start_time": "2023-09-28T12:47:45.222Z"
   },
   {
    "duration": 124,
    "start_time": "2023-09-28T12:47:45.234Z"
   },
   {
    "duration": 69,
    "start_time": "2023-09-28T12:49:55.280Z"
   },
   {
    "duration": 12,
    "start_time": "2023-09-28T12:50:04.530Z"
   },
   {
    "duration": 95,
    "start_time": "2023-09-28T12:50:05.562Z"
   },
   {
    "duration": 4,
    "start_time": "2023-09-28T12:51:04.130Z"
   },
   {
    "duration": 8,
    "start_time": "2023-09-28T12:51:05.981Z"
   },
   {
    "duration": 25,
    "start_time": "2023-09-28T12:51:08.572Z"
   },
   {
    "duration": 9,
    "start_time": "2023-09-28T12:51:09.225Z"
   },
   {
    "duration": 19,
    "start_time": "2023-09-28T12:51:09.860Z"
   },
   {
    "duration": 4,
    "start_time": "2023-09-28T12:51:11.340Z"
   },
   {
    "duration": 11,
    "start_time": "2023-09-28T12:51:11.989Z"
   },
   {
    "duration": 4,
    "start_time": "2023-09-28T12:51:12.484Z"
   },
   {
    "duration": 14556,
    "start_time": "2023-09-28T12:51:15.138Z"
   },
   {
    "duration": 199,
    "start_time": "2023-09-28T12:51:48.811Z"
   },
   {
    "duration": 10,
    "start_time": "2023-09-28T12:51:50.322Z"
   },
   {
    "duration": 185,
    "start_time": "2023-09-28T12:51:50.927Z"
   },
   {
    "duration": 4,
    "start_time": "2023-09-28T12:52:46.370Z"
   },
   {
    "duration": 1461,
    "start_time": "2023-09-28T12:52:57.499Z"
   },
   {
    "duration": 43,
    "start_time": "2023-09-28T12:52:58.963Z"
   },
   {
    "duration": 20,
    "start_time": "2023-09-28T12:52:59.008Z"
   },
   {
    "duration": 13,
    "start_time": "2023-09-28T12:52:59.030Z"
   },
   {
    "duration": 55,
    "start_time": "2023-09-28T12:52:59.045Z"
   },
   {
    "duration": 11,
    "start_time": "2023-09-28T12:52:59.102Z"
   },
   {
    "duration": 23,
    "start_time": "2023-09-28T12:52:59.115Z"
   },
   {
    "duration": 4,
    "start_time": "2023-09-28T12:52:59.140Z"
   },
   {
    "duration": 21,
    "start_time": "2023-09-28T12:52:59.146Z"
   },
   {
    "duration": 29,
    "start_time": "2023-09-28T12:52:59.170Z"
   },
   {
    "duration": 19,
    "start_time": "2023-09-28T12:52:59.200Z"
   },
   {
    "duration": 19,
    "start_time": "2023-09-28T12:52:59.221Z"
   },
   {
    "duration": 60,
    "start_time": "2023-09-28T12:52:59.241Z"
   },
   {
    "duration": 13,
    "start_time": "2023-09-28T12:52:59.302Z"
   },
   {
    "duration": 24,
    "start_time": "2023-09-28T12:52:59.316Z"
   },
   {
    "duration": 17,
    "start_time": "2023-09-28T12:52:59.341Z"
   },
   {
    "duration": 35,
    "start_time": "2023-09-28T12:52:59.359Z"
   },
   {
    "duration": 8,
    "start_time": "2023-09-28T12:52:59.396Z"
   },
   {
    "duration": 133,
    "start_time": "2023-09-28T12:52:59.406Z"
   },
   {
    "duration": 0,
    "start_time": "2023-09-28T12:52:59.542Z"
   },
   {
    "duration": 0,
    "start_time": "2023-09-28T12:52:59.544Z"
   },
   {
    "duration": 0,
    "start_time": "2023-09-28T12:52:59.545Z"
   },
   {
    "duration": 0,
    "start_time": "2023-09-28T12:52:59.547Z"
   },
   {
    "duration": 0,
    "start_time": "2023-09-28T12:52:59.549Z"
   },
   {
    "duration": 0,
    "start_time": "2023-09-28T12:52:59.551Z"
   },
   {
    "duration": 0,
    "start_time": "2023-09-28T12:52:59.553Z"
   },
   {
    "duration": 0,
    "start_time": "2023-09-28T12:52:59.554Z"
   },
   {
    "duration": 0,
    "start_time": "2023-09-28T12:52:59.555Z"
   },
   {
    "duration": 0,
    "start_time": "2023-09-28T12:52:59.556Z"
   },
   {
    "duration": 0,
    "start_time": "2023-09-28T12:52:59.581Z"
   },
   {
    "duration": 0,
    "start_time": "2023-09-28T12:52:59.582Z"
   },
   {
    "duration": 0,
    "start_time": "2023-09-28T12:52:59.583Z"
   },
   {
    "duration": 0,
    "start_time": "2023-09-28T12:52:59.584Z"
   },
   {
    "duration": 0,
    "start_time": "2023-09-28T12:52:59.585Z"
   },
   {
    "duration": 0,
    "start_time": "2023-09-28T12:52:59.587Z"
   },
   {
    "duration": 0,
    "start_time": "2023-09-28T12:52:59.588Z"
   },
   {
    "duration": 0,
    "start_time": "2023-09-28T12:52:59.589Z"
   },
   {
    "duration": 0,
    "start_time": "2023-09-28T12:52:59.590Z"
   },
   {
    "duration": 0,
    "start_time": "2023-09-28T12:52:59.591Z"
   },
   {
    "duration": 0,
    "start_time": "2023-09-28T12:52:59.592Z"
   },
   {
    "duration": 0,
    "start_time": "2023-09-28T12:52:59.593Z"
   },
   {
    "duration": 0,
    "start_time": "2023-09-28T12:52:59.594Z"
   },
   {
    "duration": 0,
    "start_time": "2023-09-28T12:52:59.595Z"
   },
   {
    "duration": 0,
    "start_time": "2023-09-28T12:52:59.596Z"
   },
   {
    "duration": 348,
    "start_time": "2023-09-28T12:54:36.717Z"
   },
   {
    "duration": 1494,
    "start_time": "2023-09-28T12:54:46.782Z"
   },
   {
    "duration": 43,
    "start_time": "2023-09-28T12:54:48.278Z"
   },
   {
    "duration": 19,
    "start_time": "2023-09-28T12:54:48.322Z"
   },
   {
    "duration": 34,
    "start_time": "2023-09-28T12:54:48.343Z"
   },
   {
    "duration": 45,
    "start_time": "2023-09-28T12:54:48.379Z"
   },
   {
    "duration": 11,
    "start_time": "2023-09-28T12:54:48.426Z"
   },
   {
    "duration": 20,
    "start_time": "2023-09-28T12:54:48.439Z"
   },
   {
    "duration": 21,
    "start_time": "2023-09-28T12:54:48.460Z"
   },
   {
    "duration": 13,
    "start_time": "2023-09-28T12:54:48.483Z"
   },
   {
    "duration": 24,
    "start_time": "2023-09-28T12:54:48.498Z"
   },
   {
    "duration": 511,
    "start_time": "2023-09-28T12:54:48.523Z"
   },
   {
    "duration": 0,
    "start_time": "2023-09-28T12:54:49.038Z"
   },
   {
    "duration": 0,
    "start_time": "2023-09-28T12:54:49.040Z"
   },
   {
    "duration": 0,
    "start_time": "2023-09-28T12:54:49.041Z"
   },
   {
    "duration": 0,
    "start_time": "2023-09-28T12:54:49.043Z"
   },
   {
    "duration": 0,
    "start_time": "2023-09-28T12:54:49.044Z"
   },
   {
    "duration": 0,
    "start_time": "2023-09-28T12:54:49.046Z"
   },
   {
    "duration": 0,
    "start_time": "2023-09-28T12:54:49.047Z"
   },
   {
    "duration": 0,
    "start_time": "2023-09-28T12:54:49.049Z"
   },
   {
    "duration": 0,
    "start_time": "2023-09-28T12:54:49.050Z"
   },
   {
    "duration": 0,
    "start_time": "2023-09-28T12:54:49.052Z"
   },
   {
    "duration": 0,
    "start_time": "2023-09-28T12:54:49.053Z"
   },
   {
    "duration": 0,
    "start_time": "2023-09-28T12:54:49.054Z"
   },
   {
    "duration": 0,
    "start_time": "2023-09-28T12:54:49.056Z"
   },
   {
    "duration": 0,
    "start_time": "2023-09-28T12:54:49.056Z"
   },
   {
    "duration": 0,
    "start_time": "2023-09-28T12:54:49.057Z"
   },
   {
    "duration": 0,
    "start_time": "2023-09-28T12:54:49.058Z"
   },
   {
    "duration": 0,
    "start_time": "2023-09-28T12:54:49.059Z"
   },
   {
    "duration": 0,
    "start_time": "2023-09-28T12:54:49.060Z"
   },
   {
    "duration": 0,
    "start_time": "2023-09-28T12:54:49.061Z"
   },
   {
    "duration": 0,
    "start_time": "2023-09-28T12:54:49.062Z"
   },
   {
    "duration": 0,
    "start_time": "2023-09-28T12:54:49.063Z"
   },
   {
    "duration": 0,
    "start_time": "2023-09-28T12:54:49.065Z"
   },
   {
    "duration": 0,
    "start_time": "2023-09-28T12:54:49.065Z"
   },
   {
    "duration": 0,
    "start_time": "2023-09-28T12:54:49.066Z"
   },
   {
    "duration": 0,
    "start_time": "2023-09-28T12:54:49.067Z"
   },
   {
    "duration": 0,
    "start_time": "2023-09-28T12:54:49.068Z"
   },
   {
    "duration": 0,
    "start_time": "2023-09-28T12:54:49.069Z"
   },
   {
    "duration": 0,
    "start_time": "2023-09-28T12:54:49.070Z"
   },
   {
    "duration": 0,
    "start_time": "2023-09-28T12:54:49.071Z"
   },
   {
    "duration": 0,
    "start_time": "2023-09-28T12:54:49.072Z"
   },
   {
    "duration": 0,
    "start_time": "2023-09-28T12:54:49.073Z"
   },
   {
    "duration": 0,
    "start_time": "2023-09-28T12:54:49.081Z"
   },
   {
    "duration": 0,
    "start_time": "2023-09-28T12:54:49.082Z"
   },
   {
    "duration": 0,
    "start_time": "2023-09-28T12:54:49.083Z"
   },
   {
    "duration": 6,
    "start_time": "2023-09-28T12:55:54.878Z"
   },
   {
    "duration": 5,
    "start_time": "2023-09-28T12:55:56.002Z"
   },
   {
    "duration": 2,
    "start_time": "2023-09-28T12:55:58.551Z"
   },
   {
    "duration": 5,
    "start_time": "2023-09-28T12:55:59.056Z"
   },
   {
    "duration": 1588,
    "start_time": "2023-09-28T12:56:06.058Z"
   },
   {
    "duration": 46,
    "start_time": "2023-09-28T12:56:07.648Z"
   },
   {
    "duration": 21,
    "start_time": "2023-09-28T12:56:07.695Z"
   },
   {
    "duration": 14,
    "start_time": "2023-09-28T12:56:07.717Z"
   },
   {
    "duration": 91,
    "start_time": "2023-09-28T12:56:07.733Z"
   },
   {
    "duration": 65,
    "start_time": "2023-09-28T12:56:07.826Z"
   },
   {
    "duration": 20,
    "start_time": "2023-09-28T12:56:07.893Z"
   },
   {
    "duration": 5,
    "start_time": "2023-09-28T12:56:07.915Z"
   },
   {
    "duration": 59,
    "start_time": "2023-09-28T12:56:07.922Z"
   },
   {
    "duration": 10,
    "start_time": "2023-09-28T12:56:07.983Z"
   },
   {
    "duration": 15,
    "start_time": "2023-09-28T12:56:07.994Z"
   },
   {
    "duration": 7,
    "start_time": "2023-09-28T12:56:08.011Z"
   },
   {
    "duration": 6,
    "start_time": "2023-09-28T12:56:08.019Z"
   },
   {
    "duration": 11,
    "start_time": "2023-09-28T12:56:08.028Z"
   },
   {
    "duration": 40,
    "start_time": "2023-09-28T12:56:08.041Z"
   },
   {
    "duration": 10,
    "start_time": "2023-09-28T12:56:08.082Z"
   },
   {
    "duration": 43,
    "start_time": "2023-09-28T12:56:08.093Z"
   },
   {
    "duration": 32,
    "start_time": "2023-09-28T12:56:08.138Z"
   },
   {
    "duration": 17,
    "start_time": "2023-09-28T12:56:08.172Z"
   },
   {
    "duration": 4,
    "start_time": "2023-09-28T12:56:08.191Z"
   },
   {
    "duration": 13762,
    "start_time": "2023-09-28T12:56:08.197Z"
   },
   {
    "duration": 120,
    "start_time": "2023-09-28T12:56:21.961Z"
   },
   {
    "duration": 420,
    "start_time": "2023-09-28T12:56:22.084Z"
   },
   {
    "duration": 8,
    "start_time": "2023-09-28T12:56:22.506Z"
   },
   {
    "duration": 15,
    "start_time": "2023-09-28T12:56:22.516Z"
   },
   {
    "duration": 28,
    "start_time": "2023-09-28T12:56:22.533Z"
   },
   {
    "duration": 141,
    "start_time": "2023-09-28T12:56:22.563Z"
   },
   {
    "duration": 58,
    "start_time": "2023-09-28T12:56:22.706Z"
   },
   {
    "duration": 136,
    "start_time": "2023-09-28T12:56:22.766Z"
   },
   {
    "duration": 81,
    "start_time": "2023-09-28T12:56:22.904Z"
   },
   {
    "duration": 100,
    "start_time": "2023-09-28T12:56:22.988Z"
   },
   {
    "duration": 184,
    "start_time": "2023-09-28T12:56:23.090Z"
   },
   {
    "duration": 1011,
    "start_time": "2023-09-28T12:56:23.275Z"
   },
   {
    "duration": 94,
    "start_time": "2023-09-28T12:56:24.287Z"
   },
   {
    "duration": 139,
    "start_time": "2023-09-28T12:56:24.384Z"
   },
   {
    "duration": 11,
    "start_time": "2023-09-28T12:56:24.525Z"
   },
   {
    "duration": 122,
    "start_time": "2023-09-28T12:56:24.538Z"
   },
   {
    "duration": 407,
    "start_time": "2023-09-28T12:56:24.662Z"
   },
   {
    "duration": 27,
    "start_time": "2023-09-28T12:56:25.071Z"
   },
   {
    "duration": 19,
    "start_time": "2023-09-28T12:56:25.100Z"
   },
   {
    "duration": 3,
    "start_time": "2023-09-28T12:56:25.280Z"
   },
   {
    "duration": 311,
    "start_time": "2023-09-28T12:56:25.285Z"
   },
   {
    "duration": 142,
    "start_time": "2023-09-28T12:56:25.598Z"
   },
   {
    "duration": 226,
    "start_time": "2023-09-28T12:56:25.742Z"
   },
   {
    "duration": 16,
    "start_time": "2023-09-28T12:56:25.969Z"
   },
   {
    "duration": 277,
    "start_time": "2023-09-28T12:56:25.986Z"
   },
   {
    "duration": 105,
    "start_time": "2023-09-28T12:56:47.730Z"
   },
   {
    "duration": 176,
    "start_time": "2023-09-28T12:57:03.350Z"
   },
   {
    "duration": 1594,
    "start_time": "2023-09-28T12:57:14.825Z"
   },
   {
    "duration": 45,
    "start_time": "2023-09-28T12:57:16.421Z"
   },
   {
    "duration": 21,
    "start_time": "2023-09-28T12:57:16.468Z"
   },
   {
    "duration": 20,
    "start_time": "2023-09-28T12:57:16.492Z"
   },
   {
    "duration": 68,
    "start_time": "2023-09-28T12:57:16.516Z"
   },
   {
    "duration": 15,
    "start_time": "2023-09-28T12:57:16.587Z"
   },
   {
    "duration": 31,
    "start_time": "2023-09-28T12:57:16.605Z"
   },
   {
    "duration": 5,
    "start_time": "2023-09-28T12:57:16.639Z"
   },
   {
    "duration": 17,
    "start_time": "2023-09-28T12:57:16.646Z"
   },
   {
    "duration": 7,
    "start_time": "2023-09-28T12:57:16.680Z"
   },
   {
    "duration": 18,
    "start_time": "2023-09-28T12:57:16.689Z"
   },
   {
    "duration": 9,
    "start_time": "2023-09-28T12:57:16.709Z"
   },
   {
    "duration": 21,
    "start_time": "2023-09-28T12:57:16.720Z"
   },
   {
    "duration": 21,
    "start_time": "2023-09-28T12:57:16.745Z"
   },
   {
    "duration": 48,
    "start_time": "2023-09-28T12:57:16.768Z"
   },
   {
    "duration": 11,
    "start_time": "2023-09-28T12:57:16.818Z"
   },
   {
    "duration": 31,
    "start_time": "2023-09-28T12:57:16.831Z"
   },
   {
    "duration": 22,
    "start_time": "2023-09-28T12:57:16.863Z"
   },
   {
    "duration": 31,
    "start_time": "2023-09-28T12:57:16.887Z"
   },
   {
    "duration": 11,
    "start_time": "2023-09-28T12:57:16.919Z"
   },
   {
    "duration": 13816,
    "start_time": "2023-09-28T12:57:16.932Z"
   },
   {
    "duration": 38,
    "start_time": "2023-09-28T12:57:30.750Z"
   },
   {
    "duration": 537,
    "start_time": "2023-09-28T12:57:30.790Z"
   },
   {
    "duration": 6,
    "start_time": "2023-09-28T12:57:31.329Z"
   },
   {
    "duration": 90,
    "start_time": "2023-09-28T12:57:31.337Z"
   },
   {
    "duration": 118,
    "start_time": "2023-09-28T12:57:31.429Z"
   },
   {
    "duration": 170,
    "start_time": "2023-09-28T12:57:31.549Z"
   },
   {
    "duration": 100,
    "start_time": "2023-09-28T12:57:31.721Z"
   },
   {
    "duration": 105,
    "start_time": "2023-09-28T12:57:31.823Z"
   },
   {
    "duration": 57,
    "start_time": "2023-09-28T12:57:31.929Z"
   },
   {
    "duration": 333,
    "start_time": "2023-09-28T12:57:31.991Z"
   },
   {
    "duration": 253,
    "start_time": "2023-09-28T12:57:32.326Z"
   },
   {
    "duration": 984,
    "start_time": "2023-09-28T12:57:32.581Z"
   },
   {
    "duration": 37,
    "start_time": "2023-09-28T12:57:33.566Z"
   },
   {
    "duration": 209,
    "start_time": "2023-09-28T12:57:33.606Z"
   },
   {
    "duration": 10,
    "start_time": "2023-09-28T12:57:33.817Z"
   },
   {
    "duration": 113,
    "start_time": "2023-09-28T12:57:33.828Z"
   },
   {
    "duration": 408,
    "start_time": "2023-09-28T12:57:33.942Z"
   },
   {
    "duration": 31,
    "start_time": "2023-09-28T12:57:34.352Z"
   },
   {
    "duration": 14,
    "start_time": "2023-09-28T12:57:34.385Z"
   },
   {
    "duration": 79,
    "start_time": "2023-09-28T12:57:34.404Z"
   },
   {
    "duration": 402,
    "start_time": "2023-09-28T12:57:34.491Z"
   },
   {
    "duration": 127,
    "start_time": "2023-09-28T12:57:34.894Z"
   },
   {
    "duration": 192,
    "start_time": "2023-09-28T12:57:35.022Z"
   },
   {
    "duration": 11,
    "start_time": "2023-09-28T12:57:35.216Z"
   },
   {
    "duration": 190,
    "start_time": "2023-09-28T12:57:35.228Z"
   },
   {
    "duration": 123,
    "start_time": "2023-09-28T13:03:39.043Z"
   },
   {
    "duration": 69,
    "start_time": "2023-09-28T13:04:34.730Z"
   },
   {
    "duration": 10,
    "start_time": "2023-09-28T13:05:37.594Z"
   },
   {
    "duration": 69,
    "start_time": "2023-09-28T13:05:39.095Z"
   },
   {
    "duration": 1402,
    "start_time": "2023-09-28T13:05:48.742Z"
   },
   {
    "duration": 43,
    "start_time": "2023-09-28T13:05:50.146Z"
   },
   {
    "duration": 18,
    "start_time": "2023-09-28T13:05:50.190Z"
   },
   {
    "duration": 16,
    "start_time": "2023-09-28T13:05:50.210Z"
   },
   {
    "duration": 53,
    "start_time": "2023-09-28T13:05:50.228Z"
   },
   {
    "duration": 11,
    "start_time": "2023-09-28T13:05:50.283Z"
   },
   {
    "duration": 24,
    "start_time": "2023-09-28T13:05:50.295Z"
   },
   {
    "duration": 3,
    "start_time": "2023-09-28T13:05:50.321Z"
   },
   {
    "duration": 5,
    "start_time": "2023-09-28T13:05:50.326Z"
   },
   {
    "duration": 24,
    "start_time": "2023-09-28T13:05:50.332Z"
   },
   {
    "duration": 27,
    "start_time": "2023-09-28T13:05:50.358Z"
   },
   {
    "duration": 11,
    "start_time": "2023-09-28T13:05:50.386Z"
   },
   {
    "duration": 12,
    "start_time": "2023-09-28T13:05:50.399Z"
   },
   {
    "duration": 15,
    "start_time": "2023-09-28T13:05:50.414Z"
   },
   {
    "duration": 40,
    "start_time": "2023-09-28T13:05:50.430Z"
   },
   {
    "duration": 9,
    "start_time": "2023-09-28T13:05:50.472Z"
   },
   {
    "duration": 23,
    "start_time": "2023-09-28T13:05:50.482Z"
   },
   {
    "duration": 9,
    "start_time": "2023-09-28T13:05:50.507Z"
   },
   {
    "duration": 17,
    "start_time": "2023-09-28T13:05:50.518Z"
   },
   {
    "duration": 11,
    "start_time": "2023-09-28T13:05:50.537Z"
   },
   {
    "duration": 13794,
    "start_time": "2023-09-28T13:05:50.550Z"
   },
   {
    "duration": 139,
    "start_time": "2023-09-28T13:06:04.346Z"
   },
   {
    "duration": 464,
    "start_time": "2023-09-28T13:06:04.488Z"
   },
   {
    "duration": 8,
    "start_time": "2023-09-28T13:06:04.954Z"
   },
   {
    "duration": 20,
    "start_time": "2023-09-28T13:06:04.964Z"
   },
   {
    "duration": 152,
    "start_time": "2023-09-28T13:06:04.987Z"
   },
   {
    "duration": 139,
    "start_time": "2023-09-28T13:06:05.141Z"
   },
   {
    "duration": 110,
    "start_time": "2023-09-28T13:06:05.282Z"
   },
   {
    "duration": 114,
    "start_time": "2023-09-28T13:06:05.393Z"
   },
   {
    "duration": 79,
    "start_time": "2023-09-28T13:06:05.509Z"
   },
   {
    "duration": 99,
    "start_time": "2023-09-28T13:06:05.590Z"
   },
   {
    "duration": 220,
    "start_time": "2023-09-28T13:06:05.691Z"
   },
   {
    "duration": 1034,
    "start_time": "2023-09-28T13:06:05.913Z"
   },
   {
    "duration": 36,
    "start_time": "2023-09-28T13:06:06.949Z"
   },
   {
    "duration": 231,
    "start_time": "2023-09-28T13:06:06.988Z"
   },
   {
    "duration": 65,
    "start_time": "2023-09-28T13:06:07.221Z"
   },
   {
    "duration": 111,
    "start_time": "2023-09-28T13:06:07.288Z"
   },
   {
    "duration": 496,
    "start_time": "2023-09-28T13:06:07.401Z"
   },
   {
    "duration": 24,
    "start_time": "2023-09-28T13:06:07.898Z"
   },
   {
    "duration": 61,
    "start_time": "2023-09-28T13:06:07.924Z"
   },
   {
    "duration": 3,
    "start_time": "2023-09-28T13:06:07.990Z"
   },
   {
    "duration": 356,
    "start_time": "2023-09-28T13:06:08.080Z"
   },
   {
    "duration": 135,
    "start_time": "2023-09-28T13:06:08.438Z"
   },
   {
    "duration": 176,
    "start_time": "2023-09-28T13:06:08.575Z"
   },
   {
    "duration": 9,
    "start_time": "2023-09-28T13:06:08.753Z"
   },
   {
    "duration": 81,
    "start_time": "2023-09-28T13:06:08.763Z"
   },
   {
    "duration": 1961,
    "start_time": "2023-09-28T14:39:40.256Z"
   },
   {
    "duration": 206,
    "start_time": "2023-09-28T14:39:42.219Z"
   },
   {
    "duration": 23,
    "start_time": "2023-09-28T14:39:42.428Z"
   },
   {
    "duration": 35,
    "start_time": "2023-09-28T14:39:42.453Z"
   },
   {
    "duration": 54,
    "start_time": "2023-09-28T14:39:42.490Z"
   },
   {
    "duration": 13,
    "start_time": "2023-09-28T14:39:42.546Z"
   },
   {
    "duration": 23,
    "start_time": "2023-09-28T14:39:42.560Z"
   },
   {
    "duration": 5,
    "start_time": "2023-09-28T14:39:42.585Z"
   },
   {
    "duration": 9,
    "start_time": "2023-09-28T14:39:42.591Z"
   },
   {
    "duration": 7,
    "start_time": "2023-09-28T14:39:42.604Z"
   },
   {
    "duration": 7,
    "start_time": "2023-09-28T14:39:42.613Z"
   },
   {
    "duration": 4,
    "start_time": "2023-09-28T14:39:42.622Z"
   },
   {
    "duration": 30,
    "start_time": "2023-09-28T14:39:42.628Z"
   },
   {
    "duration": 20,
    "start_time": "2023-09-28T14:39:42.660Z"
   },
   {
    "duration": 27,
    "start_time": "2023-09-28T14:39:42.682Z"
   },
   {
    "duration": 9,
    "start_time": "2023-09-28T14:39:42.711Z"
   },
   {
    "duration": 16,
    "start_time": "2023-09-28T14:39:42.722Z"
   },
   {
    "duration": 20,
    "start_time": "2023-09-28T14:39:42.740Z"
   },
   {
    "duration": 18,
    "start_time": "2023-09-28T14:39:42.761Z"
   },
   {
    "duration": 4,
    "start_time": "2023-09-28T14:39:42.781Z"
   },
   {
    "duration": 1621,
    "start_time": "2023-09-28T14:41:14.761Z"
   },
   {
    "duration": 47,
    "start_time": "2023-09-28T14:41:16.385Z"
   },
   {
    "duration": 21,
    "start_time": "2023-09-28T14:41:16.434Z"
   },
   {
    "duration": 14,
    "start_time": "2023-09-28T14:41:16.457Z"
   },
   {
    "duration": 47,
    "start_time": "2023-09-28T14:41:16.475Z"
   },
   {
    "duration": 34,
    "start_time": "2023-09-28T14:41:16.524Z"
   },
   {
    "duration": 22,
    "start_time": "2023-09-28T14:41:16.560Z"
   },
   {
    "duration": 5,
    "start_time": "2023-09-28T14:41:16.584Z"
   },
   {
    "duration": 14,
    "start_time": "2023-09-28T14:41:16.591Z"
   },
   {
    "duration": 19,
    "start_time": "2023-09-28T14:41:16.607Z"
   },
   {
    "duration": 27,
    "start_time": "2023-09-28T14:41:16.629Z"
   },
   {
    "duration": 6,
    "start_time": "2023-09-28T14:41:16.658Z"
   },
   {
    "duration": 9,
    "start_time": "2023-09-28T14:41:16.666Z"
   },
   {
    "duration": 14,
    "start_time": "2023-09-28T14:41:16.679Z"
   },
   {
    "duration": 30,
    "start_time": "2023-09-28T14:41:16.695Z"
   },
   {
    "duration": 11,
    "start_time": "2023-09-28T14:41:16.726Z"
   },
   {
    "duration": 33,
    "start_time": "2023-09-28T14:41:16.739Z"
   },
   {
    "duration": 10,
    "start_time": "2023-09-28T14:41:16.775Z"
   },
   {
    "duration": 21,
    "start_time": "2023-09-28T14:41:16.786Z"
   },
   {
    "duration": 19,
    "start_time": "2023-09-28T14:41:16.809Z"
   },
   {
    "duration": 14474,
    "start_time": "2023-09-28T14:41:16.830Z"
   },
   {
    "duration": 152,
    "start_time": "2023-09-28T14:41:31.306Z"
   },
   {
    "duration": 440,
    "start_time": "2023-09-28T14:41:31.461Z"
   },
   {
    "duration": 8,
    "start_time": "2023-09-28T14:41:31.902Z"
   },
   {
    "duration": 57,
    "start_time": "2023-09-28T14:41:31.911Z"
   },
   {
    "duration": 54,
    "start_time": "2023-09-28T14:41:31.970Z"
   },
   {
    "duration": 250,
    "start_time": "2023-09-28T14:41:32.026Z"
   },
   {
    "duration": 133,
    "start_time": "2023-09-28T14:41:32.279Z"
   },
   {
    "duration": 198,
    "start_time": "2023-09-28T14:41:32.415Z"
   },
   {
    "duration": 50,
    "start_time": "2023-09-28T14:41:32.615Z"
   },
   {
    "duration": 12,
    "start_time": "2023-09-28T14:41:32.758Z"
   },
   {
    "duration": 257,
    "start_time": "2023-09-28T14:41:32.772Z"
   },
   {
    "duration": 1044,
    "start_time": "2023-09-28T14:41:33.031Z"
   },
   {
    "duration": 83,
    "start_time": "2023-09-28T14:41:34.076Z"
   },
   {
    "duration": 138,
    "start_time": "2023-09-28T14:41:34.162Z"
   },
   {
    "duration": 12,
    "start_time": "2023-09-28T14:41:34.302Z"
   },
   {
    "duration": 142,
    "start_time": "2023-09-28T14:41:34.316Z"
   },
   {
    "duration": 433,
    "start_time": "2023-09-28T14:41:34.460Z"
   },
   {
    "duration": 24,
    "start_time": "2023-09-28T14:41:34.895Z"
   },
   {
    "duration": 37,
    "start_time": "2023-09-28T14:41:34.921Z"
   },
   {
    "duration": 93,
    "start_time": "2023-09-28T14:41:34.965Z"
   },
   {
    "duration": 325,
    "start_time": "2023-09-28T14:41:35.061Z"
   },
   {
    "duration": 140,
    "start_time": "2023-09-28T14:41:35.388Z"
   },
   {
    "duration": 187,
    "start_time": "2023-09-28T14:41:35.530Z"
   },
   {
    "duration": 10,
    "start_time": "2023-09-28T14:41:35.719Z"
   },
   {
    "duration": 116,
    "start_time": "2023-09-28T14:41:35.731Z"
   },
   {
    "duration": 152,
    "start_time": "2023-09-28T14:42:46.119Z"
   },
   {
    "duration": 35,
    "start_time": "2023-09-28T14:42:48.322Z"
   },
   {
    "duration": 45,
    "start_time": "2023-09-28T14:42:49.194Z"
   },
   {
    "duration": 11,
    "start_time": "2023-09-28T14:42:49.970Z"
   },
   {
    "duration": 103,
    "start_time": "2023-09-28T14:42:50.601Z"
   },
   {
    "duration": 70,
    "start_time": "2023-09-28T14:42:52.440Z"
   },
   {
    "duration": 12,
    "start_time": "2023-09-28T14:44:43.598Z"
   },
   {
    "duration": 191,
    "start_time": "2023-09-28T14:44:44.485Z"
   },
   {
    "duration": 1565,
    "start_time": "2023-09-28T14:44:53.055Z"
   },
   {
    "duration": 46,
    "start_time": "2023-09-28T14:44:54.623Z"
   },
   {
    "duration": 20,
    "start_time": "2023-09-28T14:44:54.671Z"
   },
   {
    "duration": 15,
    "start_time": "2023-09-28T14:44:54.693Z"
   },
   {
    "duration": 65,
    "start_time": "2023-09-28T14:44:54.710Z"
   },
   {
    "duration": 12,
    "start_time": "2023-09-28T14:44:54.777Z"
   },
   {
    "duration": 20,
    "start_time": "2023-09-28T14:44:54.790Z"
   },
   {
    "duration": 12,
    "start_time": "2023-09-28T14:44:54.812Z"
   },
   {
    "duration": 25,
    "start_time": "2023-09-28T14:44:54.826Z"
   },
   {
    "duration": 12,
    "start_time": "2023-09-28T14:44:54.853Z"
   },
   {
    "duration": 11,
    "start_time": "2023-09-28T14:44:54.867Z"
   },
   {
    "duration": 11,
    "start_time": "2023-09-28T14:44:54.880Z"
   },
   {
    "duration": 14,
    "start_time": "2023-09-28T14:44:54.893Z"
   },
   {
    "duration": 34,
    "start_time": "2023-09-28T14:44:54.910Z"
   },
   {
    "duration": 35,
    "start_time": "2023-09-28T14:44:54.946Z"
   },
   {
    "duration": 9,
    "start_time": "2023-09-28T14:44:54.983Z"
   },
   {
    "duration": 39,
    "start_time": "2023-09-28T14:44:54.994Z"
   },
   {
    "duration": 25,
    "start_time": "2023-09-28T14:44:55.035Z"
   },
   {
    "duration": 19,
    "start_time": "2023-09-28T14:44:55.062Z"
   },
   {
    "duration": 16,
    "start_time": "2023-09-28T14:44:55.083Z"
   },
   {
    "duration": 14144,
    "start_time": "2023-09-28T14:44:55.101Z"
   },
   {
    "duration": 198,
    "start_time": "2023-09-28T14:45:09.257Z"
   },
   {
    "duration": 442,
    "start_time": "2023-09-28T14:45:09.459Z"
   },
   {
    "duration": 7,
    "start_time": "2023-09-28T14:45:09.903Z"
   },
   {
    "duration": 11,
    "start_time": "2023-09-28T14:45:09.912Z"
   },
   {
    "duration": 44,
    "start_time": "2023-09-28T14:45:09.925Z"
   },
   {
    "duration": 141,
    "start_time": "2023-09-28T14:45:09.970Z"
   },
   {
    "duration": 115,
    "start_time": "2023-09-28T14:45:10.113Z"
   },
   {
    "duration": 108,
    "start_time": "2023-09-28T14:45:10.229Z"
   },
   {
    "duration": 39,
    "start_time": "2023-09-28T14:45:10.339Z"
   },
   {
    "duration": 99,
    "start_time": "2023-09-28T14:45:10.459Z"
   },
   {
    "duration": 200,
    "start_time": "2023-09-28T14:45:10.560Z"
   },
   {
    "duration": 161,
    "start_time": "2023-09-28T14:45:10.762Z"
   },
   {
    "duration": 44,
    "start_time": "2023-09-28T14:45:10.925Z"
   },
   {
    "duration": 221,
    "start_time": "2023-09-28T14:45:10.972Z"
   },
   {
    "duration": 17,
    "start_time": "2023-09-28T14:45:11.195Z"
   },
   {
    "duration": 113,
    "start_time": "2023-09-28T14:45:11.213Z"
   },
   {
    "duration": 80,
    "start_time": "2023-09-28T14:45:11.328Z"
   },
   {
    "duration": 25,
    "start_time": "2023-09-28T14:45:11.411Z"
   },
   {
    "duration": 34,
    "start_time": "2023-09-28T14:45:11.438Z"
   },
   {
    "duration": 85,
    "start_time": "2023-09-28T14:45:11.476Z"
   },
   {
    "duration": 411,
    "start_time": "2023-09-28T14:45:11.563Z"
   },
   {
    "duration": 144,
    "start_time": "2023-09-28T14:45:11.975Z"
   },
   {
    "duration": 151,
    "start_time": "2023-09-28T14:45:12.121Z"
   },
   {
    "duration": 12,
    "start_time": "2023-09-28T14:45:12.274Z"
   },
   {
    "duration": 199,
    "start_time": "2023-09-28T14:45:12.288Z"
   },
   {
    "duration": 181,
    "start_time": "2023-09-28T14:46:06.503Z"
   },
   {
    "duration": 1560,
    "start_time": "2023-09-28T14:46:16.623Z"
   },
   {
    "duration": 46,
    "start_time": "2023-09-28T14:46:18.185Z"
   },
   {
    "duration": 21,
    "start_time": "2023-09-28T14:46:18.233Z"
   },
   {
    "duration": 23,
    "start_time": "2023-09-28T14:46:18.256Z"
   },
   {
    "duration": 48,
    "start_time": "2023-09-28T14:46:18.281Z"
   },
   {
    "duration": 12,
    "start_time": "2023-09-28T14:46:18.331Z"
   },
   {
    "duration": 32,
    "start_time": "2023-09-28T14:46:18.357Z"
   },
   {
    "duration": 4,
    "start_time": "2023-09-28T14:46:18.391Z"
   },
   {
    "duration": 31,
    "start_time": "2023-09-28T14:46:18.397Z"
   },
   {
    "duration": 17,
    "start_time": "2023-09-28T14:46:18.432Z"
   },
   {
    "duration": 21,
    "start_time": "2023-09-28T14:46:18.451Z"
   },
   {
    "duration": 14,
    "start_time": "2023-09-28T14:46:18.474Z"
   },
   {
    "duration": 5,
    "start_time": "2023-09-28T14:46:18.490Z"
   },
   {
    "duration": 19,
    "start_time": "2023-09-28T14:46:18.497Z"
   },
   {
    "duration": 55,
    "start_time": "2023-09-28T14:46:18.518Z"
   },
   {
    "duration": 9,
    "start_time": "2023-09-28T14:46:18.575Z"
   },
   {
    "duration": 21,
    "start_time": "2023-09-28T14:46:18.586Z"
   },
   {
    "duration": 10,
    "start_time": "2023-09-28T14:46:18.608Z"
   },
   {
    "duration": 17,
    "start_time": "2023-09-28T14:46:18.620Z"
   },
   {
    "duration": 15,
    "start_time": "2023-09-28T14:46:18.639Z"
   },
   {
    "duration": 13921,
    "start_time": "2023-09-28T14:46:18.657Z"
   },
   {
    "duration": 82,
    "start_time": "2023-09-28T14:46:32.580Z"
   },
   {
    "duration": 520,
    "start_time": "2023-09-28T14:46:32.665Z"
   },
   {
    "duration": 7,
    "start_time": "2023-09-28T14:46:33.187Z"
   },
   {
    "duration": 9,
    "start_time": "2023-09-28T14:46:33.195Z"
   },
   {
    "duration": 51,
    "start_time": "2023-09-28T14:46:33.205Z"
   },
   {
    "duration": 133,
    "start_time": "2023-09-28T14:46:33.259Z"
   },
   {
    "duration": 112,
    "start_time": "2023-09-28T14:46:33.395Z"
   },
   {
    "duration": 119,
    "start_time": "2023-09-28T14:46:33.508Z"
   },
   {
    "duration": 37,
    "start_time": "2023-09-28T14:46:33.629Z"
   },
   {
    "duration": 192,
    "start_time": "2023-09-28T14:46:33.668Z"
   },
   {
    "duration": 204,
    "start_time": "2023-09-28T14:46:33.861Z"
   },
   {
    "duration": 155,
    "start_time": "2023-09-28T14:46:34.067Z"
   },
   {
    "duration": 131,
    "start_time": "2023-09-28T14:46:34.225Z"
   },
   {
    "duration": 44,
    "start_time": "2023-09-28T14:46:34.456Z"
   },
   {
    "duration": 11,
    "start_time": "2023-09-28T14:46:34.501Z"
   },
   {
    "duration": 122,
    "start_time": "2023-09-28T14:46:34.514Z"
   },
   {
    "duration": 77,
    "start_time": "2023-09-28T14:46:34.638Z"
   },
   {
    "duration": 41,
    "start_time": "2023-09-28T14:46:34.717Z"
   },
   {
    "duration": 18,
    "start_time": "2023-09-28T14:46:34.761Z"
   },
   {
    "duration": 75,
    "start_time": "2023-09-28T14:46:34.782Z"
   },
   {
    "duration": 414,
    "start_time": "2023-09-28T14:46:34.860Z"
   },
   {
    "duration": 140,
    "start_time": "2023-09-28T14:46:35.276Z"
   },
   {
    "duration": 168,
    "start_time": "2023-09-28T14:46:35.418Z"
   },
   {
    "duration": 2,
    "start_time": "2023-09-28T14:46:35.588Z"
   },
   {
    "duration": 187,
    "start_time": "2023-09-28T14:46:35.592Z"
   },
   {
    "duration": 148,
    "start_time": "2023-09-28T14:46:51.298Z"
   },
   {
    "duration": 1517,
    "start_time": "2023-09-28T14:46:58.673Z"
   },
   {
    "duration": 47,
    "start_time": "2023-09-28T14:47:00.193Z"
   },
   {
    "duration": 24,
    "start_time": "2023-09-28T14:47:00.242Z"
   },
   {
    "duration": 27,
    "start_time": "2023-09-28T14:47:00.267Z"
   },
   {
    "duration": 77,
    "start_time": "2023-09-28T14:47:00.297Z"
   },
   {
    "duration": 27,
    "start_time": "2023-09-28T14:47:00.376Z"
   },
   {
    "duration": 131,
    "start_time": "2023-09-28T14:47:00.405Z"
   },
   {
    "duration": 125,
    "start_time": "2023-09-28T14:47:00.538Z"
   },
   {
    "duration": 127,
    "start_time": "2023-09-28T14:47:00.665Z"
   },
   {
    "duration": 243,
    "start_time": "2023-09-28T14:47:00.794Z"
   },
   {
    "duration": 64,
    "start_time": "2023-09-28T14:47:01.039Z"
   },
   {
    "duration": 109,
    "start_time": "2023-09-28T14:47:01.105Z"
   },
   {
    "duration": 333,
    "start_time": "2023-09-28T14:47:01.216Z"
   },
   {
    "duration": 37,
    "start_time": "2023-09-28T14:47:01.552Z"
   },
   {
    "duration": 60,
    "start_time": "2023-09-28T14:47:01.590Z"
   },
   {
    "duration": 29,
    "start_time": "2023-09-28T14:47:01.652Z"
   },
   {
    "duration": 52,
    "start_time": "2023-09-28T14:47:01.683Z"
   },
   {
    "duration": 19,
    "start_time": "2023-09-28T14:47:01.737Z"
   },
   {
    "duration": 51,
    "start_time": "2023-09-28T14:47:01.758Z"
   },
   {
    "duration": 16,
    "start_time": "2023-09-28T14:47:01.811Z"
   },
   {
    "duration": 14263,
    "start_time": "2023-09-28T14:47:01.830Z"
   },
   {
    "duration": 68,
    "start_time": "2023-09-28T14:47:16.095Z"
   },
   {
    "duration": 429,
    "start_time": "2023-09-28T14:47:16.256Z"
   },
   {
    "duration": 7,
    "start_time": "2023-09-28T14:47:16.687Z"
   },
   {
    "duration": 21,
    "start_time": "2023-09-28T14:47:16.696Z"
   },
   {
    "duration": 46,
    "start_time": "2023-09-28T14:47:16.719Z"
   },
   {
    "duration": 175,
    "start_time": "2023-09-28T14:47:16.768Z"
   },
   {
    "duration": 129,
    "start_time": "2023-09-28T14:47:16.946Z"
   },
   {
    "duration": 133,
    "start_time": "2023-09-28T14:47:17.077Z"
   },
   {
    "duration": 46,
    "start_time": "2023-09-28T14:47:17.212Z"
   },
   {
    "duration": 103,
    "start_time": "2023-09-28T14:47:17.261Z"
   },
   {
    "duration": 249,
    "start_time": "2023-09-28T14:47:17.366Z"
   },
   {
    "duration": 150,
    "start_time": "2023-09-28T14:47:17.617Z"
   },
   {
    "duration": 89,
    "start_time": "2023-09-28T14:47:17.769Z"
   },
   {
    "duration": 195,
    "start_time": "2023-09-28T14:47:17.860Z"
   },
   {
    "duration": 14,
    "start_time": "2023-09-28T14:47:18.057Z"
   },
   {
    "duration": 128,
    "start_time": "2023-09-28T14:47:18.073Z"
   },
   {
    "duration": 79,
    "start_time": "2023-09-28T14:47:18.203Z"
   },
   {
    "duration": 24,
    "start_time": "2023-09-28T14:47:18.285Z"
   },
   {
    "duration": 54,
    "start_time": "2023-09-28T14:47:18.311Z"
   },
   {
    "duration": 3,
    "start_time": "2023-09-28T14:47:18.456Z"
   },
   {
    "duration": 327,
    "start_time": "2023-09-28T14:47:18.461Z"
   },
   {
    "duration": 181,
    "start_time": "2023-09-28T14:47:18.790Z"
   },
   {
    "duration": 172,
    "start_time": "2023-09-28T14:47:18.973Z"
   },
   {
    "duration": 10,
    "start_time": "2023-09-28T14:47:19.147Z"
   },
   {
    "duration": 152,
    "start_time": "2023-09-28T14:47:19.159Z"
   },
   {
    "duration": 1025,
    "start_time": "2023-09-28T14:48:08.987Z"
   },
   {
    "duration": 1518,
    "start_time": "2023-09-28T14:48:19.572Z"
   },
   {
    "duration": 46,
    "start_time": "2023-09-28T14:48:21.092Z"
   },
   {
    "duration": 20,
    "start_time": "2023-09-28T14:48:21.140Z"
   },
   {
    "duration": 17,
    "start_time": "2023-09-28T14:48:21.162Z"
   },
   {
    "duration": 59,
    "start_time": "2023-09-28T14:48:21.182Z"
   },
   {
    "duration": 18,
    "start_time": "2023-09-28T14:48:21.243Z"
   },
   {
    "duration": 29,
    "start_time": "2023-09-28T14:48:21.263Z"
   },
   {
    "duration": 4,
    "start_time": "2023-09-28T14:48:21.294Z"
   },
   {
    "duration": 31,
    "start_time": "2023-09-28T14:48:21.301Z"
   },
   {
    "duration": 113,
    "start_time": "2023-09-28T14:48:21.334Z"
   },
   {
    "duration": 29,
    "start_time": "2023-09-28T14:48:21.449Z"
   },
   {
    "duration": 22,
    "start_time": "2023-09-28T14:48:21.480Z"
   },
   {
    "duration": 22,
    "start_time": "2023-09-28T14:48:21.504Z"
   },
   {
    "duration": 50,
    "start_time": "2023-09-28T14:48:21.530Z"
   },
   {
    "duration": 56,
    "start_time": "2023-09-28T14:48:21.582Z"
   },
   {
    "duration": 9,
    "start_time": "2023-09-28T14:48:21.641Z"
   },
   {
    "duration": 51,
    "start_time": "2023-09-28T14:48:21.653Z"
   },
   {
    "duration": 8,
    "start_time": "2023-09-28T14:48:21.706Z"
   },
   {
    "duration": 31,
    "start_time": "2023-09-28T14:48:21.716Z"
   },
   {
    "duration": 12,
    "start_time": "2023-09-28T14:48:21.749Z"
   },
   {
    "duration": 14244,
    "start_time": "2023-09-28T14:48:21.763Z"
   },
   {
    "duration": 56,
    "start_time": "2023-09-28T14:48:36.009Z"
   },
   {
    "duration": 523,
    "start_time": "2023-09-28T14:48:36.067Z"
   },
   {
    "duration": 6,
    "start_time": "2023-09-28T14:48:36.592Z"
   },
   {
    "duration": 18,
    "start_time": "2023-09-28T14:48:36.599Z"
   },
   {
    "duration": 46,
    "start_time": "2023-09-28T14:48:36.619Z"
   },
   {
    "duration": 147,
    "start_time": "2023-09-28T14:48:36.667Z"
   },
   {
    "duration": 116,
    "start_time": "2023-09-28T14:48:36.816Z"
   },
   {
    "duration": 151,
    "start_time": "2023-09-28T14:48:36.935Z"
   },
   {
    "duration": 68,
    "start_time": "2023-09-28T14:48:37.088Z"
   },
   {
    "duration": 102,
    "start_time": "2023-09-28T14:48:37.159Z"
   },
   {
    "duration": 196,
    "start_time": "2023-09-28T14:48:37.263Z"
   },
   {
    "duration": 154,
    "start_time": "2023-09-28T14:48:37.461Z"
   },
   {
    "duration": 41,
    "start_time": "2023-09-28T14:48:37.617Z"
   },
   {
    "duration": 219,
    "start_time": "2023-09-28T14:48:37.662Z"
   },
   {
    "duration": 12,
    "start_time": "2023-09-28T14:48:37.883Z"
   },
   {
    "duration": 136,
    "start_time": "2023-09-28T14:48:37.897Z"
   },
   {
    "duration": 89,
    "start_time": "2023-09-28T14:48:38.036Z"
   },
   {
    "duration": 45,
    "start_time": "2023-09-28T14:48:38.126Z"
   },
   {
    "duration": 17,
    "start_time": "2023-09-28T14:48:38.173Z"
   },
   {
    "duration": 92,
    "start_time": "2023-09-28T14:48:38.265Z"
   },
   {
    "duration": 328,
    "start_time": "2023-09-28T14:48:38.359Z"
   },
   {
    "duration": 167,
    "start_time": "2023-09-28T14:48:38.689Z"
   },
   {
    "duration": 208,
    "start_time": "2023-09-28T14:48:38.859Z"
   },
   {
    "duration": 2,
    "start_time": "2023-09-28T14:48:39.070Z"
   },
   {
    "duration": 1064,
    "start_time": "2023-09-28T14:48:39.075Z"
   },
   {
    "duration": 13,
    "start_time": "2023-09-28T14:48:50.483Z"
   },
   {
    "duration": 1250,
    "start_time": "2023-09-28T14:48:52.161Z"
   },
   {
    "duration": 191,
    "start_time": "2023-09-28T14:49:19.115Z"
   },
   {
    "duration": 3,
    "start_time": "2023-09-28T14:49:41.506Z"
   },
   {
    "duration": 188,
    "start_time": "2023-09-28T14:49:41.923Z"
   },
   {
    "duration": 1521,
    "start_time": "2023-09-28T14:49:47.985Z"
   },
   {
    "duration": 48,
    "start_time": "2023-09-28T14:49:49.508Z"
   },
   {
    "duration": 20,
    "start_time": "2023-09-28T14:49:49.558Z"
   },
   {
    "duration": 14,
    "start_time": "2023-09-28T14:49:49.580Z"
   },
   {
    "duration": 65,
    "start_time": "2023-09-28T14:49:49.597Z"
   },
   {
    "duration": 14,
    "start_time": "2023-09-28T14:49:49.664Z"
   },
   {
    "duration": 22,
    "start_time": "2023-09-28T14:49:49.679Z"
   },
   {
    "duration": 4,
    "start_time": "2023-09-28T14:49:49.703Z"
   },
   {
    "duration": 7,
    "start_time": "2023-09-28T14:49:49.709Z"
   },
   {
    "duration": 9,
    "start_time": "2023-09-28T14:49:49.718Z"
   },
   {
    "duration": 8,
    "start_time": "2023-09-28T14:49:49.757Z"
   },
   {
    "duration": 5,
    "start_time": "2023-09-28T14:49:49.767Z"
   },
   {
    "duration": 16,
    "start_time": "2023-09-28T14:49:49.773Z"
   },
   {
    "duration": 17,
    "start_time": "2023-09-28T14:49:49.793Z"
   },
   {
    "duration": 31,
    "start_time": "2023-09-28T14:49:49.811Z"
   },
   {
    "duration": 26,
    "start_time": "2023-09-28T14:49:49.844Z"
   },
   {
    "duration": 49,
    "start_time": "2023-09-28T14:49:49.872Z"
   },
   {
    "duration": 27,
    "start_time": "2023-09-28T14:49:49.923Z"
   },
   {
    "duration": 30,
    "start_time": "2023-09-28T14:49:49.951Z"
   },
   {
    "duration": 7,
    "start_time": "2023-09-28T14:49:49.983Z"
   },
   {
    "duration": 14050,
    "start_time": "2023-09-28T14:49:49.992Z"
   },
   {
    "duration": 115,
    "start_time": "2023-09-28T14:50:04.044Z"
   },
   {
    "duration": 450,
    "start_time": "2023-09-28T14:50:04.162Z"
   },
   {
    "duration": 8,
    "start_time": "2023-09-28T14:50:04.614Z"
   },
   {
    "duration": 59,
    "start_time": "2023-09-28T14:50:04.623Z"
   },
   {
    "duration": 40,
    "start_time": "2023-09-28T14:50:04.684Z"
   },
   {
    "duration": 131,
    "start_time": "2023-09-28T14:50:04.726Z"
   },
   {
    "duration": 113,
    "start_time": "2023-09-28T14:50:04.859Z"
   },
   {
    "duration": 121,
    "start_time": "2023-09-28T14:50:04.974Z"
   },
   {
    "duration": 63,
    "start_time": "2023-09-28T14:50:05.097Z"
   },
   {
    "duration": 102,
    "start_time": "2023-09-28T14:50:05.162Z"
   },
   {
    "duration": 204,
    "start_time": "2023-09-28T14:50:05.266Z"
   },
   {
    "duration": 153,
    "start_time": "2023-09-28T14:50:05.472Z"
   },
   {
    "duration": 41,
    "start_time": "2023-09-28T14:50:05.626Z"
   },
   {
    "duration": 137,
    "start_time": "2023-09-28T14:50:05.759Z"
   },
   {
    "duration": 12,
    "start_time": "2023-09-28T14:50:05.898Z"
   },
   {
    "duration": 130,
    "start_time": "2023-09-28T14:50:05.911Z"
   },
   {
    "duration": 75,
    "start_time": "2023-09-28T14:50:06.043Z"
   },
   {
    "duration": 39,
    "start_time": "2023-09-28T14:50:06.120Z"
   },
   {
    "duration": 98,
    "start_time": "2023-09-28T14:50:06.161Z"
   },
   {
    "duration": 93,
    "start_time": "2023-09-28T14:50:06.266Z"
   },
   {
    "duration": 309,
    "start_time": "2023-09-28T14:50:06.360Z"
   },
   {
    "duration": 143,
    "start_time": "2023-09-28T14:50:06.671Z"
   },
   {
    "duration": 166,
    "start_time": "2023-09-28T14:50:06.816Z"
   },
   {
    "duration": 2,
    "start_time": "2023-09-28T14:50:06.984Z"
   },
   {
    "duration": 176,
    "start_time": "2023-09-28T14:50:06.988Z"
   },
   {
    "duration": 145,
    "start_time": "2023-09-28T14:50:24.206Z"
   },
   {
    "duration": 16,
    "start_time": "2023-09-28T14:51:24.812Z"
   },
   {
    "duration": 1279,
    "start_time": "2023-09-28T14:51:25.231Z"
   },
   {
    "duration": 25,
    "start_time": "2023-09-28T14:55:16.845Z"
   },
   {
    "duration": 110,
    "start_time": "2023-09-28T15:15:01.824Z"
   },
   {
    "duration": 114,
    "start_time": "2023-09-28T15:15:09.292Z"
   },
   {
    "duration": 32,
    "start_time": "2023-09-28T15:15:10.812Z"
   },
   {
    "duration": 1525,
    "start_time": "2023-09-28T15:17:36.293Z"
   },
   {
    "duration": 48,
    "start_time": "2023-09-28T15:17:37.821Z"
   },
   {
    "duration": 22,
    "start_time": "2023-09-28T15:17:37.871Z"
   },
   {
    "duration": 15,
    "start_time": "2023-09-28T15:17:37.895Z"
   },
   {
    "duration": 75,
    "start_time": "2023-09-28T15:17:37.912Z"
   },
   {
    "duration": 15,
    "start_time": "2023-09-28T15:17:37.990Z"
   },
   {
    "duration": 23,
    "start_time": "2023-09-28T15:17:38.007Z"
   },
   {
    "duration": 27,
    "start_time": "2023-09-28T15:17:38.032Z"
   },
   {
    "duration": 14,
    "start_time": "2023-09-28T15:17:38.061Z"
   },
   {
    "duration": 10,
    "start_time": "2023-09-28T15:17:38.078Z"
   },
   {
    "duration": 14,
    "start_time": "2023-09-28T15:17:38.090Z"
   },
   {
    "duration": 8,
    "start_time": "2023-09-28T15:17:38.106Z"
   },
   {
    "duration": 6,
    "start_time": "2023-09-28T15:17:38.116Z"
   },
   {
    "duration": 18,
    "start_time": "2023-09-28T15:17:38.124Z"
   },
   {
    "duration": 44,
    "start_time": "2023-09-28T15:17:38.144Z"
   },
   {
    "duration": 9,
    "start_time": "2023-09-28T15:17:38.190Z"
   },
   {
    "duration": 21,
    "start_time": "2023-09-28T15:17:38.201Z"
   },
   {
    "duration": 5,
    "start_time": "2023-09-28T15:17:38.223Z"
   },
   {
    "duration": 50,
    "start_time": "2023-09-28T15:17:38.230Z"
   },
   {
    "duration": 12,
    "start_time": "2023-09-28T15:17:38.282Z"
   },
   {
    "duration": 13807,
    "start_time": "2023-09-28T15:17:38.296Z"
   },
   {
    "duration": 59,
    "start_time": "2023-09-28T15:17:52.105Z"
   },
   {
    "duration": 552,
    "start_time": "2023-09-28T15:17:52.166Z"
   },
   {
    "duration": 8,
    "start_time": "2023-09-28T15:17:52.721Z"
   },
   {
    "duration": 28,
    "start_time": "2023-09-28T15:17:52.731Z"
   },
   {
    "duration": 144,
    "start_time": "2023-09-28T15:17:52.761Z"
   },
   {
    "duration": 0,
    "start_time": "2023-09-28T15:17:52.908Z"
   },
   {
    "duration": 0,
    "start_time": "2023-09-28T15:17:52.909Z"
   },
   {
    "duration": 0,
    "start_time": "2023-09-28T15:17:52.911Z"
   },
   {
    "duration": 0,
    "start_time": "2023-09-28T15:17:52.912Z"
   },
   {
    "duration": 0,
    "start_time": "2023-09-28T15:17:52.913Z"
   },
   {
    "duration": 0,
    "start_time": "2023-09-28T15:17:52.915Z"
   },
   {
    "duration": 0,
    "start_time": "2023-09-28T15:17:52.916Z"
   },
   {
    "duration": 0,
    "start_time": "2023-09-28T15:17:52.917Z"
   },
   {
    "duration": 0,
    "start_time": "2023-09-28T15:17:52.918Z"
   },
   {
    "duration": 0,
    "start_time": "2023-09-28T15:17:52.920Z"
   },
   {
    "duration": 0,
    "start_time": "2023-09-28T15:17:52.921Z"
   },
   {
    "duration": 0,
    "start_time": "2023-09-28T15:17:52.922Z"
   },
   {
    "duration": 0,
    "start_time": "2023-09-28T15:17:52.924Z"
   },
   {
    "duration": 0,
    "start_time": "2023-09-28T15:17:52.925Z"
   },
   {
    "duration": 0,
    "start_time": "2023-09-28T15:17:52.926Z"
   },
   {
    "duration": 0,
    "start_time": "2023-09-28T15:17:52.957Z"
   },
   {
    "duration": 0,
    "start_time": "2023-09-28T15:17:52.958Z"
   },
   {
    "duration": 0,
    "start_time": "2023-09-28T15:17:52.959Z"
   },
   {
    "duration": 0,
    "start_time": "2023-09-28T15:17:52.960Z"
   },
   {
    "duration": 0,
    "start_time": "2023-09-28T15:17:52.962Z"
   },
   {
    "duration": 31,
    "start_time": "2023-09-28T15:23:46.989Z"
   },
   {
    "duration": 136,
    "start_time": "2023-09-28T15:23:47.692Z"
   },
   {
    "duration": 111,
    "start_time": "2023-09-28T15:23:48.712Z"
   },
   {
    "duration": 118,
    "start_time": "2023-09-28T15:23:49.246Z"
   },
   {
    "duration": 25,
    "start_time": "2023-09-28T15:23:59.131Z"
   },
   {
    "duration": 3,
    "start_time": "2023-09-28T15:30:45.125Z"
   },
   {
    "duration": 15,
    "start_time": "2023-09-28T15:34:12.892Z"
   },
   {
    "duration": 1522,
    "start_time": "2023-09-28T15:50:02.756Z"
   },
   {
    "duration": 46,
    "start_time": "2023-09-28T15:50:04.280Z"
   },
   {
    "duration": 20,
    "start_time": "2023-09-28T15:50:04.328Z"
   },
   {
    "duration": 15,
    "start_time": "2023-09-28T15:50:04.350Z"
   },
   {
    "duration": 42,
    "start_time": "2023-09-28T15:50:04.367Z"
   },
   {
    "duration": 12,
    "start_time": "2023-09-28T15:50:04.411Z"
   },
   {
    "duration": 42,
    "start_time": "2023-09-28T15:50:04.425Z"
   },
   {
    "duration": 5,
    "start_time": "2023-09-28T15:50:04.469Z"
   },
   {
    "duration": 31,
    "start_time": "2023-09-28T15:50:04.476Z"
   },
   {
    "duration": 39,
    "start_time": "2023-09-28T15:50:04.510Z"
   },
   {
    "duration": 47,
    "start_time": "2023-09-28T15:50:04.551Z"
   },
   {
    "duration": 19,
    "start_time": "2023-09-28T15:50:04.600Z"
   },
   {
    "duration": 9,
    "start_time": "2023-09-28T15:50:04.621Z"
   },
   {
    "duration": 16,
    "start_time": "2023-09-28T15:50:04.632Z"
   },
   {
    "duration": 65,
    "start_time": "2023-09-28T15:50:04.650Z"
   },
   {
    "duration": 9,
    "start_time": "2023-09-28T15:50:04.718Z"
   },
   {
    "duration": 26,
    "start_time": "2023-09-28T15:50:04.730Z"
   },
   {
    "duration": 29,
    "start_time": "2023-09-28T15:50:04.758Z"
   },
   {
    "duration": 23,
    "start_time": "2023-09-28T15:50:04.789Z"
   },
   {
    "duration": 6,
    "start_time": "2023-09-28T15:50:04.817Z"
   },
   {
    "duration": 14044,
    "start_time": "2023-09-28T15:50:04.825Z"
   },
   {
    "duration": 87,
    "start_time": "2023-09-28T15:50:18.872Z"
   },
   {
    "duration": 437,
    "start_time": "2023-09-28T15:50:18.961Z"
   },
   {
    "duration": 7,
    "start_time": "2023-09-28T15:50:19.400Z"
   },
   {
    "duration": 8,
    "start_time": "2023-09-28T15:50:19.409Z"
   },
   {
    "duration": 53,
    "start_time": "2023-09-28T15:50:19.418Z"
   },
   {
    "duration": 139,
    "start_time": "2023-09-28T15:50:19.473Z"
   },
   {
    "duration": 115,
    "start_time": "2023-09-28T15:50:19.616Z"
   },
   {
    "duration": 115,
    "start_time": "2023-09-28T15:50:19.733Z"
   },
   {
    "duration": 28,
    "start_time": "2023-09-28T15:50:19.850Z"
   },
   {
    "duration": 177,
    "start_time": "2023-09-28T15:50:19.880Z"
   },
   {
    "duration": 220,
    "start_time": "2023-09-28T15:50:20.059Z"
   },
   {
    "duration": 153,
    "start_time": "2023-09-28T15:50:20.281Z"
   },
   {
    "duration": 38,
    "start_time": "2023-09-28T15:50:20.436Z"
   },
   {
    "duration": 213,
    "start_time": "2023-09-28T15:50:20.477Z"
   },
   {
    "duration": 282,
    "start_time": "2023-09-28T15:50:20.692Z"
   },
   {
    "duration": 121,
    "start_time": "2023-09-28T15:50:20.976Z"
   },
   {
    "duration": 76,
    "start_time": "2023-09-28T15:50:21.098Z"
   },
   {
    "duration": 23,
    "start_time": "2023-09-28T15:50:21.176Z"
   },
   {
    "duration": 58,
    "start_time": "2023-09-28T15:50:21.201Z"
   },
   {
    "duration": 4,
    "start_time": "2023-09-28T15:50:21.355Z"
   },
   {
    "duration": 319,
    "start_time": "2023-09-28T15:50:21.361Z"
   },
   {
    "duration": 145,
    "start_time": "2023-09-28T15:50:21.682Z"
   },
   {
    "duration": 153,
    "start_time": "2023-09-28T15:50:21.829Z"
   },
   {
    "duration": 12,
    "start_time": "2023-09-28T15:50:21.984Z"
   },
   {
    "duration": 1501,
    "start_time": "2023-09-28T15:50:21.997Z"
   },
   {
    "duration": 11,
    "start_time": "2023-09-28T15:59:21.213Z"
   },
   {
    "duration": 100,
    "start_time": "2023-09-28T15:59:21.745Z"
   },
   {
    "duration": 11,
    "start_time": "2023-09-28T15:59:25.676Z"
   },
   {
    "duration": 102,
    "start_time": "2023-09-28T15:59:26.598Z"
   },
   {
    "duration": 97,
    "start_time": "2023-09-28T16:05:33.730Z"
   },
   {
    "duration": 99,
    "start_time": "2023-09-28T16:05:44.122Z"
   },
   {
    "duration": 144,
    "start_time": "2023-09-28T16:07:44.926Z"
   },
   {
    "duration": 136,
    "start_time": "2023-09-28T16:10:14.286Z"
   },
   {
    "duration": 1492,
    "start_time": "2023-09-28T16:35:59.315Z"
   },
   {
    "duration": 50,
    "start_time": "2023-09-28T16:36:00.811Z"
   },
   {
    "duration": 73,
    "start_time": "2023-09-28T16:36:00.863Z"
   },
   {
    "duration": 90,
    "start_time": "2023-09-28T16:36:00.938Z"
   },
   {
    "duration": 120,
    "start_time": "2023-09-28T16:36:01.032Z"
   },
   {
    "duration": 86,
    "start_time": "2023-09-28T16:36:01.154Z"
   },
   {
    "duration": 73,
    "start_time": "2023-09-28T16:36:01.242Z"
   },
   {
    "duration": 22,
    "start_time": "2023-09-28T16:36:01.316Z"
   },
   {
    "duration": 47,
    "start_time": "2023-09-28T16:36:01.339Z"
   },
   {
    "duration": 32,
    "start_time": "2023-09-28T16:36:01.388Z"
   },
   {
    "duration": 37,
    "start_time": "2023-09-28T16:36:01.422Z"
   },
   {
    "duration": 40,
    "start_time": "2023-09-28T16:36:01.461Z"
   },
   {
    "duration": 24,
    "start_time": "2023-09-28T16:36:01.503Z"
   },
   {
    "duration": 31,
    "start_time": "2023-09-28T16:36:01.530Z"
   },
   {
    "duration": 48,
    "start_time": "2023-09-28T16:36:01.563Z"
   },
   {
    "duration": 23,
    "start_time": "2023-09-28T16:36:01.614Z"
   },
   {
    "duration": 63,
    "start_time": "2023-09-28T16:36:01.639Z"
   },
   {
    "duration": 16,
    "start_time": "2023-09-28T16:36:01.704Z"
   },
   {
    "duration": 20,
    "start_time": "2023-09-28T16:36:01.722Z"
   },
   {
    "duration": 26,
    "start_time": "2023-09-28T16:36:01.745Z"
   },
   {
    "duration": 13919,
    "start_time": "2023-09-28T16:36:01.773Z"
   },
   {
    "duration": 68,
    "start_time": "2023-09-28T16:36:15.694Z"
   },
   {
    "duration": 469,
    "start_time": "2023-09-28T16:36:15.765Z"
   },
   {
    "duration": 26,
    "start_time": "2023-09-28T16:36:16.235Z"
   },
   {
    "duration": 7,
    "start_time": "2023-09-28T16:36:16.263Z"
   },
   {
    "duration": 27,
    "start_time": "2023-09-28T16:36:16.272Z"
   },
   {
    "duration": 166,
    "start_time": "2023-09-28T16:36:16.301Z"
   },
   {
    "duration": 113,
    "start_time": "2023-09-28T16:36:16.469Z"
   },
   {
    "duration": 139,
    "start_time": "2023-09-28T16:36:16.584Z"
   },
   {
    "duration": 44,
    "start_time": "2023-09-28T16:36:16.725Z"
   },
   {
    "duration": 95,
    "start_time": "2023-09-28T16:36:16.772Z"
   },
   {
    "duration": 290,
    "start_time": "2023-09-28T16:36:16.869Z"
   },
   {
    "duration": 159,
    "start_time": "2023-09-28T16:36:17.161Z"
   },
   {
    "duration": 41,
    "start_time": "2023-09-28T16:36:17.322Z"
   },
   {
    "duration": 227,
    "start_time": "2023-09-28T16:36:17.366Z"
   },
   {
    "duration": 11,
    "start_time": "2023-09-28T16:36:17.595Z"
   },
   {
    "duration": 148,
    "start_time": "2023-09-28T16:36:17.607Z"
   },
   {
    "duration": 69,
    "start_time": "2023-09-28T16:36:17.757Z"
   },
   {
    "duration": 42,
    "start_time": "2023-09-28T16:36:17.828Z"
   },
   {
    "duration": 84,
    "start_time": "2023-09-28T16:36:17.872Z"
   },
   {
    "duration": 606,
    "start_time": "2023-09-28T16:36:17.963Z"
   },
   {
    "duration": 146,
    "start_time": "2023-09-28T16:36:18.572Z"
   },
   {
    "duration": 249,
    "start_time": "2023-09-28T16:36:18.720Z"
   },
   {
    "duration": 15,
    "start_time": "2023-09-28T16:36:18.971Z"
   },
   {
    "duration": 1321,
    "start_time": "2023-09-28T16:36:18.989Z"
   },
   {
    "duration": 1600,
    "start_time": "2023-09-28T16:49:37.701Z"
   },
   {
    "duration": 49,
    "start_time": "2023-09-28T16:49:39.303Z"
   },
   {
    "duration": 21,
    "start_time": "2023-09-28T16:49:39.354Z"
   },
   {
    "duration": 15,
    "start_time": "2023-09-28T16:49:39.377Z"
   },
   {
    "duration": 74,
    "start_time": "2023-09-28T16:49:39.394Z"
   },
   {
    "duration": 13,
    "start_time": "2023-09-28T16:49:39.470Z"
   },
   {
    "duration": 28,
    "start_time": "2023-09-28T16:49:39.484Z"
   },
   {
    "duration": 4,
    "start_time": "2023-09-28T16:49:39.514Z"
   },
   {
    "duration": 6,
    "start_time": "2023-09-28T16:49:39.520Z"
   },
   {
    "duration": 32,
    "start_time": "2023-09-28T16:49:39.528Z"
   },
   {
    "duration": 25,
    "start_time": "2023-09-28T16:49:39.561Z"
   },
   {
    "duration": 26,
    "start_time": "2023-09-28T16:49:39.587Z"
   },
   {
    "duration": 15,
    "start_time": "2023-09-28T16:49:39.615Z"
   },
   {
    "duration": 16,
    "start_time": "2023-09-28T16:49:39.632Z"
   },
   {
    "duration": 42,
    "start_time": "2023-09-28T16:49:39.650Z"
   },
   {
    "duration": 10,
    "start_time": "2023-09-28T16:49:39.694Z"
   },
   {
    "duration": 26,
    "start_time": "2023-09-28T16:49:39.706Z"
   },
   {
    "duration": 23,
    "start_time": "2023-09-28T16:49:39.734Z"
   },
   {
    "duration": 41,
    "start_time": "2023-09-28T16:49:39.759Z"
   },
   {
    "duration": 10,
    "start_time": "2023-09-28T16:49:39.807Z"
   },
   {
    "duration": 13767,
    "start_time": "2023-09-28T16:49:39.819Z"
   },
   {
    "duration": 72,
    "start_time": "2023-09-28T16:49:53.588Z"
   },
   {
    "duration": 444,
    "start_time": "2023-09-28T16:49:53.662Z"
   },
   {
    "duration": 7,
    "start_time": "2023-09-28T16:49:54.108Z"
   },
   {
    "duration": 14,
    "start_time": "2023-09-28T16:49:54.117Z"
   },
   {
    "duration": 46,
    "start_time": "2023-09-28T16:49:54.133Z"
   },
   {
    "duration": 140,
    "start_time": "2023-09-28T16:49:54.181Z"
   },
   {
    "duration": 107,
    "start_time": "2023-09-28T16:49:54.325Z"
   },
   {
    "duration": 123,
    "start_time": "2023-09-28T16:49:54.434Z"
   },
   {
    "duration": 22,
    "start_time": "2023-09-28T16:49:54.559Z"
   },
   {
    "duration": 178,
    "start_time": "2023-09-28T16:49:54.583Z"
   },
   {
    "duration": 200,
    "start_time": "2023-09-28T16:49:54.762Z"
   },
   {
    "duration": 149,
    "start_time": "2023-09-28T16:49:54.964Z"
   },
   {
    "duration": 45,
    "start_time": "2023-09-28T16:49:55.115Z"
   },
   {
    "duration": 205,
    "start_time": "2023-09-28T16:49:55.162Z"
   },
   {
    "duration": 13,
    "start_time": "2023-09-28T16:49:55.370Z"
   },
   {
    "duration": 119,
    "start_time": "2023-09-28T16:49:55.385Z"
   },
   {
    "duration": 83,
    "start_time": "2023-09-28T16:49:55.507Z"
   },
   {
    "duration": 26,
    "start_time": "2023-09-28T16:49:55.592Z"
   },
   {
    "duration": 46,
    "start_time": "2023-09-28T16:49:55.621Z"
   },
   {
    "duration": 401,
    "start_time": "2023-09-28T16:49:55.669Z"
   },
   {
    "duration": 137,
    "start_time": "2023-09-28T16:49:56.072Z"
   },
   {
    "duration": 151,
    "start_time": "2023-09-28T16:49:56.211Z"
   },
   {
    "duration": 11,
    "start_time": "2023-09-28T16:49:56.364Z"
   },
   {
    "duration": 1263,
    "start_time": "2023-09-28T16:49:56.377Z"
   },
   {
    "duration": 102,
    "start_time": "2023-09-28T16:51:50.273Z"
   },
   {
    "duration": 123,
    "start_time": "2023-09-28T16:51:58.927Z"
   },
   {
    "duration": 2358,
    "start_time": "2023-09-28T17:01:09.143Z"
   },
   {
    "duration": 82,
    "start_time": "2023-09-28T17:01:11.503Z"
   },
   {
    "duration": 19,
    "start_time": "2023-09-28T17:01:11.588Z"
   },
   {
    "duration": 55,
    "start_time": "2023-09-28T17:01:11.609Z"
   },
   {
    "duration": 61,
    "start_time": "2023-09-28T17:01:11.666Z"
   },
   {
    "duration": 12,
    "start_time": "2023-09-28T17:01:11.729Z"
   },
   {
    "duration": 24,
    "start_time": "2023-09-28T17:01:11.743Z"
   },
   {
    "duration": 10,
    "start_time": "2023-09-28T17:01:11.769Z"
   },
   {
    "duration": 32,
    "start_time": "2023-09-28T17:01:11.781Z"
   },
   {
    "duration": 22,
    "start_time": "2023-09-28T17:01:11.815Z"
   },
   {
    "duration": 22,
    "start_time": "2023-09-28T17:01:11.839Z"
   },
   {
    "duration": 25,
    "start_time": "2023-09-28T17:01:11.863Z"
   },
   {
    "duration": 15,
    "start_time": "2023-09-28T17:01:11.890Z"
   },
   {
    "duration": 45,
    "start_time": "2023-09-28T17:01:11.906Z"
   },
   {
    "duration": 46,
    "start_time": "2023-09-28T17:01:11.953Z"
   },
   {
    "duration": 10,
    "start_time": "2023-09-28T17:01:12.001Z"
   },
   {
    "duration": 34,
    "start_time": "2023-09-28T17:01:12.012Z"
   },
   {
    "duration": 38,
    "start_time": "2023-09-28T17:01:12.049Z"
   },
   {
    "duration": 34,
    "start_time": "2023-09-28T17:01:12.089Z"
   },
   {
    "duration": 51,
    "start_time": "2023-09-28T17:01:12.125Z"
   },
   {
    "duration": 14768,
    "start_time": "2023-09-28T17:01:12.178Z"
   },
   {
    "duration": 60,
    "start_time": "2023-09-28T17:01:26.947Z"
   },
   {
    "duration": 394,
    "start_time": "2023-09-28T17:01:27.100Z"
   },
   {
    "duration": 6,
    "start_time": "2023-09-28T17:01:27.502Z"
   },
   {
    "duration": 6,
    "start_time": "2023-09-28T17:01:27.510Z"
   },
   {
    "duration": 28,
    "start_time": "2023-09-28T17:01:27.518Z"
   },
   {
    "duration": 143,
    "start_time": "2023-09-28T17:01:27.547Z"
   },
   {
    "duration": 103,
    "start_time": "2023-09-28T17:01:27.700Z"
   },
   {
    "duration": 116,
    "start_time": "2023-09-28T17:01:27.805Z"
   },
   {
    "duration": 83,
    "start_time": "2023-09-28T17:01:27.922Z"
   },
   {
    "duration": 108,
    "start_time": "2023-09-28T17:01:28.008Z"
   },
   {
    "duration": 188,
    "start_time": "2023-09-28T17:01:28.118Z"
   },
   {
    "duration": 147,
    "start_time": "2023-09-28T17:01:28.307Z"
   },
   {
    "duration": 146,
    "start_time": "2023-09-28T17:01:28.456Z"
   },
   {
    "duration": 97,
    "start_time": "2023-09-28T17:01:28.604Z"
   },
   {
    "duration": 12,
    "start_time": "2023-09-28T17:01:28.703Z"
   },
   {
    "duration": 133,
    "start_time": "2023-09-28T17:01:28.717Z"
   },
   {
    "duration": 74,
    "start_time": "2023-09-28T17:01:28.851Z"
   },
   {
    "duration": 24,
    "start_time": "2023-09-28T17:01:28.927Z"
   },
   {
    "duration": 51,
    "start_time": "2023-09-28T17:01:28.953Z"
   },
   {
    "duration": 447,
    "start_time": "2023-09-28T17:01:29.006Z"
   },
   {
    "duration": 137,
    "start_time": "2023-09-28T17:01:29.455Z"
   },
   {
    "duration": 147,
    "start_time": "2023-09-28T17:01:29.601Z"
   },
   {
    "duration": 11,
    "start_time": "2023-09-28T17:01:29.750Z"
   },
   {
    "duration": 1296,
    "start_time": "2023-09-28T17:01:29.763Z"
   },
   {
    "duration": 53,
    "start_time": "2023-09-28T19:19:42.988Z"
   },
   {
    "duration": 1535,
    "start_time": "2023-09-28T19:20:18.578Z"
   },
   {
    "duration": 161,
    "start_time": "2023-09-28T19:20:20.116Z"
   },
   {
    "duration": 19,
    "start_time": "2023-09-28T19:20:20.279Z"
   },
   {
    "duration": 13,
    "start_time": "2023-09-28T19:20:21.390Z"
   },
   {
    "duration": 46,
    "start_time": "2023-09-28T19:20:21.930Z"
   },
   {
    "duration": 63,
    "start_time": "2023-09-28T19:25:26.251Z"
   },
   {
    "duration": 140,
    "start_time": "2023-09-28T19:25:36.314Z"
   },
   {
    "duration": 1089,
    "start_time": "2023-09-28T19:25:43.203Z"
   },
   {
    "duration": 976,
    "start_time": "2023-09-28T19:25:54.855Z"
   },
   {
    "duration": 9,
    "start_time": "2023-09-28T19:26:42.398Z"
   },
   {
    "duration": 976,
    "start_time": "2023-09-28T19:26:47.885Z"
   },
   {
    "duration": 117,
    "start_time": "2023-09-28T19:28:59.845Z"
   },
   {
    "duration": 973,
    "start_time": "2023-09-28T19:30:08.358Z"
   },
   {
    "duration": 950,
    "start_time": "2023-09-28T19:30:21.013Z"
   },
   {
    "duration": 994,
    "start_time": "2023-09-28T19:30:36.160Z"
   },
   {
    "duration": 17,
    "start_time": "2023-09-28T19:41:27.858Z"
   },
   {
    "duration": 1413,
    "start_time": "2023-09-28T19:42:04.829Z"
   },
   {
    "duration": 43,
    "start_time": "2023-09-28T19:42:06.244Z"
   },
   {
    "duration": 19,
    "start_time": "2023-09-28T19:42:06.289Z"
   },
   {
    "duration": 13,
    "start_time": "2023-09-28T19:42:06.311Z"
   },
   {
    "duration": 59,
    "start_time": "2023-09-28T19:42:06.326Z"
   },
   {
    "duration": 11,
    "start_time": "2023-09-28T19:42:06.388Z"
   },
   {
    "duration": 977,
    "start_time": "2023-09-28T19:42:06.401Z"
   },
   {
    "duration": 4,
    "start_time": "2023-09-28T19:42:07.379Z"
   },
   {
    "duration": 15,
    "start_time": "2023-09-28T19:42:07.385Z"
   },
   {
    "duration": 11,
    "start_time": "2023-09-28T19:42:07.402Z"
   },
   {
    "duration": 10,
    "start_time": "2023-09-28T19:42:07.415Z"
   },
   {
    "duration": 4,
    "start_time": "2023-09-28T19:42:07.426Z"
   },
   {
    "duration": 3,
    "start_time": "2023-09-28T19:42:07.432Z"
   },
   {
    "duration": 11,
    "start_time": "2023-09-28T19:42:07.436Z"
   },
   {
    "duration": 5,
    "start_time": "2023-09-28T19:42:07.449Z"
   },
   {
    "duration": 10,
    "start_time": "2023-09-28T19:42:07.455Z"
   },
   {
    "duration": 3,
    "start_time": "2023-09-28T19:42:07.467Z"
   },
   {
    "duration": 24,
    "start_time": "2023-09-28T19:42:07.471Z"
   },
   {
    "duration": 8,
    "start_time": "2023-09-28T19:42:07.497Z"
   },
   {
    "duration": 146,
    "start_time": "2023-09-28T19:42:07.506Z"
   },
   {
    "duration": 0,
    "start_time": "2023-09-28T19:42:07.654Z"
   },
   {
    "duration": 0,
    "start_time": "2023-09-28T19:42:07.655Z"
   },
   {
    "duration": 0,
    "start_time": "2023-09-28T19:42:07.657Z"
   },
   {
    "duration": 0,
    "start_time": "2023-09-28T19:42:07.657Z"
   },
   {
    "duration": 0,
    "start_time": "2023-09-28T19:42:07.659Z"
   },
   {
    "duration": 0,
    "start_time": "2023-09-28T19:42:07.660Z"
   },
   {
    "duration": 0,
    "start_time": "2023-09-28T19:42:07.661Z"
   },
   {
    "duration": 0,
    "start_time": "2023-09-28T19:42:07.662Z"
   },
   {
    "duration": 0,
    "start_time": "2023-09-28T19:42:07.662Z"
   },
   {
    "duration": 0,
    "start_time": "2023-09-28T19:42:07.663Z"
   },
   {
    "duration": 0,
    "start_time": "2023-09-28T19:42:07.664Z"
   },
   {
    "duration": 0,
    "start_time": "2023-09-28T19:42:07.665Z"
   },
   {
    "duration": 0,
    "start_time": "2023-09-28T19:42:07.666Z"
   },
   {
    "duration": 0,
    "start_time": "2023-09-28T19:42:07.667Z"
   },
   {
    "duration": 0,
    "start_time": "2023-09-28T19:42:07.668Z"
   },
   {
    "duration": 0,
    "start_time": "2023-09-28T19:42:07.669Z"
   },
   {
    "duration": 0,
    "start_time": "2023-09-28T19:42:07.670Z"
   },
   {
    "duration": 0,
    "start_time": "2023-09-28T19:42:07.670Z"
   },
   {
    "duration": 0,
    "start_time": "2023-09-28T19:42:07.671Z"
   },
   {
    "duration": 0,
    "start_time": "2023-09-28T19:42:07.672Z"
   },
   {
    "duration": 0,
    "start_time": "2023-09-28T19:42:07.673Z"
   },
   {
    "duration": 0,
    "start_time": "2023-09-28T19:42:07.674Z"
   },
   {
    "duration": 0,
    "start_time": "2023-09-28T19:42:07.675Z"
   },
   {
    "duration": 0,
    "start_time": "2023-09-28T19:42:07.676Z"
   },
   {
    "duration": 1368,
    "start_time": "2023-09-28T19:43:54.992Z"
   },
   {
    "duration": 41,
    "start_time": "2023-09-28T19:43:56.362Z"
   },
   {
    "duration": 53,
    "start_time": "2023-09-28T19:43:56.405Z"
   },
   {
    "duration": 13,
    "start_time": "2023-09-28T19:43:56.460Z"
   },
   {
    "duration": 334,
    "start_time": "2023-09-28T19:43:56.475Z"
   },
   {
    "duration": 12,
    "start_time": "2023-09-28T19:43:56.810Z"
   },
   {
    "duration": 975,
    "start_time": "2023-09-28T19:43:56.823Z"
   },
   {
    "duration": 5,
    "start_time": "2023-09-28T19:43:57.799Z"
   },
   {
    "duration": 10,
    "start_time": "2023-09-28T19:43:57.805Z"
   },
   {
    "duration": 10,
    "start_time": "2023-09-28T19:43:57.817Z"
   },
   {
    "duration": 7,
    "start_time": "2023-09-28T19:43:57.828Z"
   },
   {
    "duration": 3,
    "start_time": "2023-09-28T19:43:57.837Z"
   },
   {
    "duration": 5,
    "start_time": "2023-09-28T19:43:57.842Z"
   },
   {
    "duration": 10,
    "start_time": "2023-09-28T19:43:57.848Z"
   },
   {
    "duration": 20,
    "start_time": "2023-09-28T19:43:57.859Z"
   },
   {
    "duration": 11,
    "start_time": "2023-09-28T19:43:57.881Z"
   },
   {
    "duration": 4,
    "start_time": "2023-09-28T19:43:57.893Z"
   },
   {
    "duration": 23,
    "start_time": "2023-09-28T19:43:57.898Z"
   },
   {
    "duration": 8,
    "start_time": "2023-09-28T19:43:57.923Z"
   },
   {
    "duration": 125,
    "start_time": "2023-09-28T19:43:57.933Z"
   },
   {
    "duration": 0,
    "start_time": "2023-09-28T19:43:58.060Z"
   },
   {
    "duration": 0,
    "start_time": "2023-09-28T19:43:58.061Z"
   },
   {
    "duration": 0,
    "start_time": "2023-09-28T19:43:58.061Z"
   },
   {
    "duration": 0,
    "start_time": "2023-09-28T19:43:58.062Z"
   },
   {
    "duration": 0,
    "start_time": "2023-09-28T19:43:58.063Z"
   },
   {
    "duration": 0,
    "start_time": "2023-09-28T19:43:58.064Z"
   },
   {
    "duration": 0,
    "start_time": "2023-09-28T19:43:58.066Z"
   },
   {
    "duration": 0,
    "start_time": "2023-09-28T19:43:58.067Z"
   },
   {
    "duration": 0,
    "start_time": "2023-09-28T19:43:58.067Z"
   },
   {
    "duration": 0,
    "start_time": "2023-09-28T19:43:58.068Z"
   },
   {
    "duration": 0,
    "start_time": "2023-09-28T19:43:58.069Z"
   },
   {
    "duration": 0,
    "start_time": "2023-09-28T19:43:58.071Z"
   },
   {
    "duration": 0,
    "start_time": "2023-09-28T19:43:58.071Z"
   },
   {
    "duration": 0,
    "start_time": "2023-09-28T19:43:58.072Z"
   },
   {
    "duration": 0,
    "start_time": "2023-09-28T19:43:58.073Z"
   },
   {
    "duration": 0,
    "start_time": "2023-09-28T19:43:58.074Z"
   },
   {
    "duration": 0,
    "start_time": "2023-09-28T19:43:58.075Z"
   },
   {
    "duration": 0,
    "start_time": "2023-09-28T19:43:58.076Z"
   },
   {
    "duration": 0,
    "start_time": "2023-09-28T19:43:58.077Z"
   },
   {
    "duration": 0,
    "start_time": "2023-09-28T19:43:58.078Z"
   },
   {
    "duration": 0,
    "start_time": "2023-09-28T19:43:58.079Z"
   },
   {
    "duration": 0,
    "start_time": "2023-09-28T19:43:58.080Z"
   },
   {
    "duration": 0,
    "start_time": "2023-09-28T19:43:58.081Z"
   },
   {
    "duration": 0,
    "start_time": "2023-09-28T19:43:58.082Z"
   },
   {
    "duration": 22,
    "start_time": "2023-09-28T19:46:28.444Z"
   },
   {
    "duration": 19,
    "start_time": "2023-09-28T19:46:30.822Z"
   },
   {
    "duration": 22,
    "start_time": "2023-09-28T19:46:40.855Z"
   },
   {
    "duration": 1491,
    "start_time": "2023-09-28T19:47:45.530Z"
   },
   {
    "duration": 47,
    "start_time": "2023-09-28T19:47:47.023Z"
   },
   {
    "duration": 21,
    "start_time": "2023-09-28T19:47:47.072Z"
   },
   {
    "duration": 12,
    "start_time": "2023-09-28T19:47:47.095Z"
   },
   {
    "duration": 62,
    "start_time": "2023-09-28T19:47:47.108Z"
   },
   {
    "duration": 14,
    "start_time": "2023-09-28T19:47:47.172Z"
   },
   {
    "duration": 1098,
    "start_time": "2023-09-28T19:47:47.188Z"
   },
   {
    "duration": 4,
    "start_time": "2023-09-28T19:47:48.287Z"
   },
   {
    "duration": 7,
    "start_time": "2023-09-28T19:47:48.293Z"
   },
   {
    "duration": 6,
    "start_time": "2023-09-28T19:47:48.303Z"
   },
   {
    "duration": 8,
    "start_time": "2023-09-28T19:47:48.311Z"
   },
   {
    "duration": 4,
    "start_time": "2023-09-28T19:47:48.320Z"
   },
   {
    "duration": 6,
    "start_time": "2023-09-28T19:47:48.326Z"
   },
   {
    "duration": 11,
    "start_time": "2023-09-28T19:47:48.334Z"
   },
   {
    "duration": 6,
    "start_time": "2023-09-28T19:47:48.346Z"
   },
   {
    "duration": 16,
    "start_time": "2023-09-28T19:47:48.353Z"
   },
   {
    "duration": 5,
    "start_time": "2023-09-28T19:47:48.370Z"
   },
   {
    "duration": 13,
    "start_time": "2023-09-28T19:47:48.377Z"
   },
   {
    "duration": 52,
    "start_time": "2023-09-28T19:47:48.392Z"
   },
   {
    "duration": 133,
    "start_time": "2023-09-28T19:47:48.446Z"
   },
   {
    "duration": 0,
    "start_time": "2023-09-28T19:47:48.581Z"
   },
   {
    "duration": 0,
    "start_time": "2023-09-28T19:47:48.583Z"
   },
   {
    "duration": 1,
    "start_time": "2023-09-28T19:47:48.584Z"
   },
   {
    "duration": 0,
    "start_time": "2023-09-28T19:47:48.586Z"
   },
   {
    "duration": 0,
    "start_time": "2023-09-28T19:47:48.587Z"
   },
   {
    "duration": 0,
    "start_time": "2023-09-28T19:47:48.589Z"
   },
   {
    "duration": 0,
    "start_time": "2023-09-28T19:47:48.590Z"
   },
   {
    "duration": 0,
    "start_time": "2023-09-28T19:47:48.592Z"
   },
   {
    "duration": 0,
    "start_time": "2023-09-28T19:47:48.594Z"
   },
   {
    "duration": 0,
    "start_time": "2023-09-28T19:47:48.596Z"
   },
   {
    "duration": 0,
    "start_time": "2023-09-28T19:47:48.597Z"
   },
   {
    "duration": 0,
    "start_time": "2023-09-28T19:47:48.598Z"
   },
   {
    "duration": 0,
    "start_time": "2023-09-28T19:47:48.600Z"
   },
   {
    "duration": 0,
    "start_time": "2023-09-28T19:47:48.601Z"
   },
   {
    "duration": 0,
    "start_time": "2023-09-28T19:47:48.645Z"
   },
   {
    "duration": 0,
    "start_time": "2023-09-28T19:47:48.646Z"
   },
   {
    "duration": 0,
    "start_time": "2023-09-28T19:47:48.648Z"
   },
   {
    "duration": 0,
    "start_time": "2023-09-28T19:47:48.649Z"
   },
   {
    "duration": 0,
    "start_time": "2023-09-28T19:47:48.650Z"
   },
   {
    "duration": 1,
    "start_time": "2023-09-28T19:47:48.651Z"
   },
   {
    "duration": 0,
    "start_time": "2023-09-28T19:47:48.652Z"
   },
   {
    "duration": 0,
    "start_time": "2023-09-28T19:47:48.654Z"
   },
   {
    "duration": 0,
    "start_time": "2023-09-28T19:47:48.655Z"
   },
   {
    "duration": 0,
    "start_time": "2023-09-28T19:47:48.656Z"
   },
   {
    "duration": 1778,
    "start_time": "2023-09-29T08:13:33.232Z"
   },
   {
    "duration": 84,
    "start_time": "2023-09-29T08:13:35.012Z"
   },
   {
    "duration": 30,
    "start_time": "2023-09-29T08:13:35.097Z"
   },
   {
    "duration": 40,
    "start_time": "2023-09-29T08:13:35.129Z"
   },
   {
    "duration": 117,
    "start_time": "2023-09-29T08:13:35.170Z"
   },
   {
    "duration": 13,
    "start_time": "2023-09-29T08:13:35.289Z"
   },
   {
    "duration": 1163,
    "start_time": "2023-09-29T08:13:35.303Z"
   },
   {
    "duration": 4,
    "start_time": "2023-09-29T08:13:36.468Z"
   },
   {
    "duration": 542,
    "start_time": "2023-09-29T08:13:36.474Z"
   },
   {
    "duration": 134,
    "start_time": "2023-09-29T08:13:37.020Z"
   },
   {
    "duration": 46,
    "start_time": "2023-09-29T08:13:37.156Z"
   },
   {
    "duration": 54,
    "start_time": "2023-09-29T08:13:37.204Z"
   },
   {
    "duration": 71,
    "start_time": "2023-09-29T08:13:37.260Z"
   },
   {
    "duration": 34,
    "start_time": "2023-09-29T08:13:37.332Z"
   },
   {
    "duration": 60,
    "start_time": "2023-09-29T08:13:37.368Z"
   },
   {
    "duration": 16,
    "start_time": "2023-09-29T08:13:37.430Z"
   },
   {
    "duration": 34,
    "start_time": "2023-09-29T08:13:37.448Z"
   },
   {
    "duration": 262,
    "start_time": "2023-09-29T08:13:37.484Z"
   },
   {
    "duration": 341,
    "start_time": "2023-09-29T08:13:37.748Z"
   },
   {
    "duration": 0,
    "start_time": "2023-09-29T08:13:38.091Z"
   },
   {
    "duration": 0,
    "start_time": "2023-09-29T08:13:38.093Z"
   },
   {
    "duration": 0,
    "start_time": "2023-09-29T08:13:38.094Z"
   },
   {
    "duration": 0,
    "start_time": "2023-09-29T08:13:38.101Z"
   },
   {
    "duration": 0,
    "start_time": "2023-09-29T08:13:38.103Z"
   },
   {
    "duration": 0,
    "start_time": "2023-09-29T08:13:38.104Z"
   },
   {
    "duration": 0,
    "start_time": "2023-09-29T08:13:38.105Z"
   },
   {
    "duration": 0,
    "start_time": "2023-09-29T08:13:38.106Z"
   },
   {
    "duration": 0,
    "start_time": "2023-09-29T08:13:38.107Z"
   },
   {
    "duration": 0,
    "start_time": "2023-09-29T08:13:38.108Z"
   },
   {
    "duration": 0,
    "start_time": "2023-09-29T08:13:38.110Z"
   },
   {
    "duration": 0,
    "start_time": "2023-09-29T08:13:38.111Z"
   },
   {
    "duration": 0,
    "start_time": "2023-09-29T08:13:38.112Z"
   },
   {
    "duration": 0,
    "start_time": "2023-09-29T08:13:38.113Z"
   },
   {
    "duration": 0,
    "start_time": "2023-09-29T08:13:38.115Z"
   },
   {
    "duration": 0,
    "start_time": "2023-09-29T08:13:38.116Z"
   },
   {
    "duration": 0,
    "start_time": "2023-09-29T08:13:38.117Z"
   },
   {
    "duration": 0,
    "start_time": "2023-09-29T08:13:38.118Z"
   },
   {
    "duration": 0,
    "start_time": "2023-09-29T08:13:38.119Z"
   },
   {
    "duration": 0,
    "start_time": "2023-09-29T08:13:38.121Z"
   },
   {
    "duration": 0,
    "start_time": "2023-09-29T08:13:38.121Z"
   },
   {
    "duration": 0,
    "start_time": "2023-09-29T08:13:38.122Z"
   },
   {
    "duration": 0,
    "start_time": "2023-09-29T08:13:38.124Z"
   },
   {
    "duration": 0,
    "start_time": "2023-09-29T08:13:38.125Z"
   },
   {
    "duration": 4,
    "start_time": "2023-09-29T08:47:05.952Z"
   },
   {
    "duration": 83,
    "start_time": "2023-09-29T08:47:05.958Z"
   },
   {
    "duration": 19,
    "start_time": "2023-09-29T08:47:06.043Z"
   },
   {
    "duration": 90,
    "start_time": "2023-09-29T08:47:06.063Z"
   },
   {
    "duration": 72,
    "start_time": "2023-09-29T08:47:06.155Z"
   },
   {
    "duration": 58,
    "start_time": "2023-09-29T08:47:06.229Z"
   },
   {
    "duration": 1189,
    "start_time": "2023-09-29T08:47:06.289Z"
   },
   {
    "duration": 4,
    "start_time": "2023-09-29T08:47:07.480Z"
   },
   {
    "duration": 184,
    "start_time": "2023-09-29T08:47:07.486Z"
   },
   {
    "duration": 77,
    "start_time": "2023-09-29T08:47:07.672Z"
   },
   {
    "duration": 26,
    "start_time": "2023-09-29T08:47:07.751Z"
   },
   {
    "duration": 21,
    "start_time": "2023-09-29T08:47:07.778Z"
   },
   {
    "duration": 25,
    "start_time": "2023-09-29T08:47:07.800Z"
   },
   {
    "duration": 61,
    "start_time": "2023-09-29T08:47:07.827Z"
   },
   {
    "duration": 70,
    "start_time": "2023-09-29T08:47:07.890Z"
   },
   {
    "duration": 96,
    "start_time": "2023-09-29T08:47:07.961Z"
   },
   {
    "duration": 374,
    "start_time": "2023-09-29T08:47:08.058Z"
   },
   {
    "duration": 160,
    "start_time": "2023-09-29T08:47:08.434Z"
   },
   {
    "duration": 0,
    "start_time": "2023-09-29T08:47:08.596Z"
   },
   {
    "duration": 0,
    "start_time": "2023-09-29T08:47:08.598Z"
   },
   {
    "duration": 0,
    "start_time": "2023-09-29T08:47:08.605Z"
   },
   {
    "duration": 0,
    "start_time": "2023-09-29T08:47:08.606Z"
   },
   {
    "duration": 0,
    "start_time": "2023-09-29T08:47:08.607Z"
   },
   {
    "duration": 0,
    "start_time": "2023-09-29T08:47:08.607Z"
   },
   {
    "duration": 0,
    "start_time": "2023-09-29T08:47:08.608Z"
   },
   {
    "duration": 0,
    "start_time": "2023-09-29T08:47:08.609Z"
   },
   {
    "duration": 0,
    "start_time": "2023-09-29T08:47:08.613Z"
   },
   {
    "duration": 0,
    "start_time": "2023-09-29T08:47:08.614Z"
   },
   {
    "duration": 0,
    "start_time": "2023-09-29T08:47:08.614Z"
   },
   {
    "duration": 0,
    "start_time": "2023-09-29T08:47:08.616Z"
   },
   {
    "duration": 0,
    "start_time": "2023-09-29T08:47:08.618Z"
   },
   {
    "duration": 0,
    "start_time": "2023-09-29T08:47:08.619Z"
   },
   {
    "duration": 0,
    "start_time": "2023-09-29T08:47:08.620Z"
   },
   {
    "duration": 0,
    "start_time": "2023-09-29T08:47:08.621Z"
   },
   {
    "duration": 0,
    "start_time": "2023-09-29T08:47:08.623Z"
   },
   {
    "duration": 0,
    "start_time": "2023-09-29T08:47:08.624Z"
   },
   {
    "duration": 0,
    "start_time": "2023-09-29T08:47:08.625Z"
   },
   {
    "duration": 0,
    "start_time": "2023-09-29T08:47:08.626Z"
   },
   {
    "duration": 0,
    "start_time": "2023-09-29T08:47:08.628Z"
   },
   {
    "duration": 0,
    "start_time": "2023-09-29T08:47:08.629Z"
   },
   {
    "duration": 0,
    "start_time": "2023-09-29T08:47:08.630Z"
   },
   {
    "duration": 0,
    "start_time": "2023-09-29T08:47:08.632Z"
   },
   {
    "duration": 0,
    "start_time": "2023-09-29T08:47:08.633Z"
   },
   {
    "duration": 0,
    "start_time": "2023-09-29T08:47:12.018Z"
   },
   {
    "duration": 0,
    "start_time": "2023-09-29T08:47:12.019Z"
   },
   {
    "duration": 0,
    "start_time": "2023-09-29T08:47:12.021Z"
   },
   {
    "duration": 0,
    "start_time": "2023-09-29T08:47:12.021Z"
   },
   {
    "duration": 0,
    "start_time": "2023-09-29T08:47:12.022Z"
   },
   {
    "duration": 0,
    "start_time": "2023-09-29T08:47:12.023Z"
   },
   {
    "duration": 0,
    "start_time": "2023-09-29T08:47:12.024Z"
   },
   {
    "duration": 0,
    "start_time": "2023-09-29T08:47:12.028Z"
   },
   {
    "duration": 0,
    "start_time": "2023-09-29T08:47:12.029Z"
   },
   {
    "duration": 0,
    "start_time": "2023-09-29T08:47:12.030Z"
   },
   {
    "duration": 0,
    "start_time": "2023-09-29T08:47:12.031Z"
   },
   {
    "duration": 0,
    "start_time": "2023-09-29T08:47:12.032Z"
   },
   {
    "duration": 0,
    "start_time": "2023-09-29T08:47:12.033Z"
   },
   {
    "duration": 0,
    "start_time": "2023-09-29T08:47:12.034Z"
   },
   {
    "duration": 0,
    "start_time": "2023-09-29T08:47:12.035Z"
   },
   {
    "duration": 0,
    "start_time": "2023-09-29T08:47:12.035Z"
   },
   {
    "duration": 0,
    "start_time": "2023-09-29T08:47:12.036Z"
   },
   {
    "duration": 0,
    "start_time": "2023-09-29T08:47:12.038Z"
   },
   {
    "duration": 0,
    "start_time": "2023-09-29T08:47:12.039Z"
   },
   {
    "duration": 0,
    "start_time": "2023-09-29T08:47:12.040Z"
   },
   {
    "duration": 0,
    "start_time": "2023-09-29T08:47:12.043Z"
   },
   {
    "duration": 0,
    "start_time": "2023-09-29T08:47:12.044Z"
   },
   {
    "duration": 0,
    "start_time": "2023-09-29T08:47:12.045Z"
   },
   {
    "duration": 0,
    "start_time": "2023-09-29T08:47:12.105Z"
   },
   {
    "duration": 0,
    "start_time": "2023-09-29T08:47:12.106Z"
   },
   {
    "duration": 0,
    "start_time": "2023-09-29T08:47:12.106Z"
   },
   {
    "duration": 0,
    "start_time": "2023-09-29T08:47:12.107Z"
   },
   {
    "duration": 0,
    "start_time": "2023-09-29T08:47:12.108Z"
   },
   {
    "duration": 0,
    "start_time": "2023-09-29T08:47:12.108Z"
   },
   {
    "duration": 0,
    "start_time": "2023-09-29T08:47:12.109Z"
   },
   {
    "duration": 0,
    "start_time": "2023-09-29T08:47:12.110Z"
   },
   {
    "duration": 0,
    "start_time": "2023-09-29T08:47:12.110Z"
   },
   {
    "duration": 0,
    "start_time": "2023-09-29T08:47:12.111Z"
   },
   {
    "duration": 0,
    "start_time": "2023-09-29T08:47:12.111Z"
   },
   {
    "duration": 0,
    "start_time": "2023-09-29T08:47:12.112Z"
   },
   {
    "duration": 1,
    "start_time": "2023-09-29T08:47:12.113Z"
   },
   {
    "duration": 0,
    "start_time": "2023-09-29T08:47:12.114Z"
   },
   {
    "duration": 0,
    "start_time": "2023-09-29T08:47:12.115Z"
   },
   {
    "duration": 0,
    "start_time": "2023-09-29T08:47:12.116Z"
   },
   {
    "duration": 0,
    "start_time": "2023-09-29T08:47:12.117Z"
   },
   {
    "duration": 0,
    "start_time": "2023-09-29T08:47:12.119Z"
   },
   {
    "duration": 0,
    "start_time": "2023-09-29T08:47:12.120Z"
   },
   {
    "duration": 0,
    "start_time": "2023-09-29T08:47:12.121Z"
   },
   {
    "duration": 1746,
    "start_time": "2023-09-29T08:51:37.347Z"
   },
   {
    "duration": 53,
    "start_time": "2023-09-29T08:51:39.096Z"
   },
   {
    "duration": 42,
    "start_time": "2023-09-29T08:51:39.150Z"
   },
   {
    "duration": 65,
    "start_time": "2023-09-29T08:51:39.195Z"
   },
   {
    "duration": 110,
    "start_time": "2023-09-29T08:51:39.262Z"
   },
   {
    "duration": 22,
    "start_time": "2023-09-29T08:51:39.374Z"
   },
   {
    "duration": 1453,
    "start_time": "2023-09-29T08:51:39.398Z"
   },
   {
    "duration": 6,
    "start_time": "2023-09-29T08:51:40.853Z"
   },
   {
    "duration": 58,
    "start_time": "2023-09-29T08:51:40.861Z"
   },
   {
    "duration": 38,
    "start_time": "2023-09-29T08:51:40.922Z"
   },
   {
    "duration": 60,
    "start_time": "2023-09-29T08:51:40.962Z"
   },
   {
    "duration": 30,
    "start_time": "2023-09-29T08:51:41.024Z"
   },
   {
    "duration": 66,
    "start_time": "2023-09-29T08:51:41.056Z"
   },
   {
    "duration": 29,
    "start_time": "2023-09-29T08:51:41.124Z"
   },
   {
    "duration": 55,
    "start_time": "2023-09-29T08:51:41.156Z"
   },
   {
    "duration": 22,
    "start_time": "2023-09-29T08:51:41.213Z"
   },
   {
    "duration": 60,
    "start_time": "2023-09-29T08:51:41.237Z"
   },
   {
    "duration": 179,
    "start_time": "2023-09-29T08:51:41.299Z"
   },
   {
    "duration": 0,
    "start_time": "2023-09-29T08:51:41.481Z"
   },
   {
    "duration": 0,
    "start_time": "2023-09-29T08:51:41.483Z"
   },
   {
    "duration": 0,
    "start_time": "2023-09-29T08:51:41.485Z"
   },
   {
    "duration": 0,
    "start_time": "2023-09-29T08:51:41.501Z"
   },
   {
    "duration": 0,
    "start_time": "2023-09-29T08:51:41.502Z"
   },
   {
    "duration": 0,
    "start_time": "2023-09-29T08:51:41.503Z"
   },
   {
    "duration": 0,
    "start_time": "2023-09-29T08:51:41.505Z"
   },
   {
    "duration": 0,
    "start_time": "2023-09-29T08:51:41.507Z"
   },
   {
    "duration": 0,
    "start_time": "2023-09-29T08:51:41.508Z"
   },
   {
    "duration": 1,
    "start_time": "2023-09-29T08:51:41.511Z"
   },
   {
    "duration": 0,
    "start_time": "2023-09-29T08:51:41.513Z"
   },
   {
    "duration": 0,
    "start_time": "2023-09-29T08:51:41.514Z"
   },
   {
    "duration": 0,
    "start_time": "2023-09-29T08:51:41.516Z"
   },
   {
    "duration": 0,
    "start_time": "2023-09-29T08:51:41.521Z"
   },
   {
    "duration": 0,
    "start_time": "2023-09-29T08:51:41.523Z"
   },
   {
    "duration": 0,
    "start_time": "2023-09-29T08:51:41.525Z"
   },
   {
    "duration": 0,
    "start_time": "2023-09-29T08:51:41.526Z"
   },
   {
    "duration": 0,
    "start_time": "2023-09-29T08:51:41.528Z"
   },
   {
    "duration": 0,
    "start_time": "2023-09-29T08:51:41.529Z"
   },
   {
    "duration": 0,
    "start_time": "2023-09-29T08:51:41.531Z"
   },
   {
    "duration": 0,
    "start_time": "2023-09-29T08:51:41.533Z"
   },
   {
    "duration": 0,
    "start_time": "2023-09-29T08:51:41.534Z"
   },
   {
    "duration": 0,
    "start_time": "2023-09-29T08:51:41.535Z"
   },
   {
    "duration": 0,
    "start_time": "2023-09-29T08:51:41.537Z"
   },
   {
    "duration": 0,
    "start_time": "2023-09-29T08:51:41.539Z"
   },
   {
    "duration": 1567,
    "start_time": "2023-09-29T08:52:26.420Z"
   },
   {
    "duration": 56,
    "start_time": "2023-09-29T08:52:27.989Z"
   },
   {
    "duration": 24,
    "start_time": "2023-09-29T08:52:28.047Z"
   },
   {
    "duration": 20,
    "start_time": "2023-09-29T08:52:28.073Z"
   },
   {
    "duration": 79,
    "start_time": "2023-09-29T08:52:28.096Z"
   },
   {
    "duration": 12,
    "start_time": "2023-09-29T08:52:28.178Z"
   },
   {
    "duration": 1227,
    "start_time": "2023-09-29T08:52:28.192Z"
   },
   {
    "duration": 5,
    "start_time": "2023-09-29T08:52:29.421Z"
   },
   {
    "duration": 109,
    "start_time": "2023-09-29T08:52:29.428Z"
   },
   {
    "duration": 39,
    "start_time": "2023-09-29T08:52:29.539Z"
   },
   {
    "duration": 33,
    "start_time": "2023-09-29T08:52:29.580Z"
   },
   {
    "duration": 29,
    "start_time": "2023-09-29T08:52:29.615Z"
   },
   {
    "duration": 67,
    "start_time": "2023-09-29T08:52:29.646Z"
   },
   {
    "duration": 16,
    "start_time": "2023-09-29T08:52:29.720Z"
   },
   {
    "duration": 29,
    "start_time": "2023-09-29T08:52:29.738Z"
   },
   {
    "duration": 30,
    "start_time": "2023-09-29T08:52:29.769Z"
   },
   {
    "duration": 25,
    "start_time": "2023-09-29T08:52:29.801Z"
   },
   {
    "duration": 144,
    "start_time": "2023-09-29T08:52:29.828Z"
   },
   {
    "duration": 0,
    "start_time": "2023-09-29T08:52:29.975Z"
   },
   {
    "duration": 0,
    "start_time": "2023-09-29T08:52:29.976Z"
   },
   {
    "duration": 0,
    "start_time": "2023-09-29T08:52:29.977Z"
   },
   {
    "duration": 0,
    "start_time": "2023-09-29T08:52:29.978Z"
   },
   {
    "duration": 0,
    "start_time": "2023-09-29T08:52:29.979Z"
   },
   {
    "duration": 0,
    "start_time": "2023-09-29T08:52:29.980Z"
   },
   {
    "duration": 0,
    "start_time": "2023-09-29T08:52:29.981Z"
   },
   {
    "duration": 0,
    "start_time": "2023-09-29T08:52:29.982Z"
   },
   {
    "duration": 0,
    "start_time": "2023-09-29T08:52:29.983Z"
   },
   {
    "duration": 0,
    "start_time": "2023-09-29T08:52:29.985Z"
   },
   {
    "duration": 0,
    "start_time": "2023-09-29T08:52:30.005Z"
   },
   {
    "duration": 0,
    "start_time": "2023-09-29T08:52:30.006Z"
   },
   {
    "duration": 0,
    "start_time": "2023-09-29T08:52:30.007Z"
   },
   {
    "duration": 0,
    "start_time": "2023-09-29T08:52:30.008Z"
   },
   {
    "duration": 0,
    "start_time": "2023-09-29T08:52:30.009Z"
   },
   {
    "duration": 0,
    "start_time": "2023-09-29T08:52:30.010Z"
   },
   {
    "duration": 0,
    "start_time": "2023-09-29T08:52:30.011Z"
   },
   {
    "duration": 0,
    "start_time": "2023-09-29T08:52:30.012Z"
   },
   {
    "duration": 0,
    "start_time": "2023-09-29T08:52:30.013Z"
   },
   {
    "duration": 0,
    "start_time": "2023-09-29T08:52:30.014Z"
   },
   {
    "duration": 0,
    "start_time": "2023-09-29T08:52:30.015Z"
   },
   {
    "duration": 0,
    "start_time": "2023-09-29T08:52:30.016Z"
   },
   {
    "duration": 0,
    "start_time": "2023-09-29T08:52:30.017Z"
   },
   {
    "duration": 0,
    "start_time": "2023-09-29T08:52:30.018Z"
   },
   {
    "duration": 0,
    "start_time": "2023-09-29T08:52:30.019Z"
   },
   {
    "duration": 1545,
    "start_time": "2023-09-29T08:53:07.821Z"
   },
   {
    "duration": 50,
    "start_time": "2023-09-29T08:53:09.368Z"
   },
   {
    "duration": 32,
    "start_time": "2023-09-29T08:53:09.421Z"
   },
   {
    "duration": 68,
    "start_time": "2023-09-29T08:53:09.456Z"
   },
   {
    "duration": 232,
    "start_time": "2023-09-29T08:53:09.527Z"
   },
   {
    "duration": 260,
    "start_time": "2023-09-29T08:53:09.761Z"
   },
   {
    "duration": 1358,
    "start_time": "2023-09-29T08:53:10.024Z"
   },
   {
    "duration": 5,
    "start_time": "2023-09-29T08:53:11.384Z"
   },
   {
    "duration": 59,
    "start_time": "2023-09-29T08:53:11.391Z"
   },
   {
    "duration": 79,
    "start_time": "2023-09-29T08:53:11.451Z"
   },
   {
    "duration": 15,
    "start_time": "2023-09-29T08:53:11.532Z"
   },
   {
    "duration": 14,
    "start_time": "2023-09-29T08:53:11.549Z"
   },
   {
    "duration": 46,
    "start_time": "2023-09-29T08:53:11.565Z"
   },
   {
    "duration": 24,
    "start_time": "2023-09-29T08:53:11.615Z"
   },
   {
    "duration": 32,
    "start_time": "2023-09-29T08:53:11.641Z"
   },
   {
    "duration": 18,
    "start_time": "2023-09-29T08:53:11.675Z"
   },
   {
    "duration": 21,
    "start_time": "2023-09-29T08:53:11.695Z"
   },
   {
    "duration": 71,
    "start_time": "2023-09-29T08:53:11.718Z"
   },
   {
    "duration": 240,
    "start_time": "2023-09-29T08:53:11.791Z"
   },
   {
    "duration": 0,
    "start_time": "2023-09-29T08:53:12.035Z"
   },
   {
    "duration": 0,
    "start_time": "2023-09-29T08:53:12.037Z"
   },
   {
    "duration": 0,
    "start_time": "2023-09-29T08:53:12.038Z"
   },
   {
    "duration": 0,
    "start_time": "2023-09-29T08:53:12.038Z"
   },
   {
    "duration": 0,
    "start_time": "2023-09-29T08:53:12.039Z"
   },
   {
    "duration": 0,
    "start_time": "2023-09-29T08:53:12.040Z"
   },
   {
    "duration": 0,
    "start_time": "2023-09-29T08:53:12.041Z"
   },
   {
    "duration": 0,
    "start_time": "2023-09-29T08:53:12.042Z"
   },
   {
    "duration": 0,
    "start_time": "2023-09-29T08:53:12.043Z"
   },
   {
    "duration": 0,
    "start_time": "2023-09-29T08:53:12.044Z"
   },
   {
    "duration": 0,
    "start_time": "2023-09-29T08:53:12.045Z"
   },
   {
    "duration": 0,
    "start_time": "2023-09-29T08:53:12.046Z"
   },
   {
    "duration": 0,
    "start_time": "2023-09-29T08:53:12.047Z"
   },
   {
    "duration": 0,
    "start_time": "2023-09-29T08:53:12.048Z"
   },
   {
    "duration": 0,
    "start_time": "2023-09-29T08:53:12.049Z"
   },
   {
    "duration": 0,
    "start_time": "2023-09-29T08:53:12.050Z"
   },
   {
    "duration": 0,
    "start_time": "2023-09-29T08:53:12.051Z"
   },
   {
    "duration": 0,
    "start_time": "2023-09-29T08:53:12.052Z"
   },
   {
    "duration": 0,
    "start_time": "2023-09-29T08:53:12.053Z"
   },
   {
    "duration": 0,
    "start_time": "2023-09-29T08:53:12.053Z"
   },
   {
    "duration": 0,
    "start_time": "2023-09-29T08:53:12.055Z"
   },
   {
    "duration": 0,
    "start_time": "2023-09-29T08:53:12.058Z"
   },
   {
    "duration": 0,
    "start_time": "2023-09-29T08:53:12.060Z"
   },
   {
    "duration": 0,
    "start_time": "2023-09-29T08:53:12.101Z"
   },
   {
    "duration": 1569,
    "start_time": "2023-09-29T08:53:56.618Z"
   },
   {
    "duration": 51,
    "start_time": "2023-09-29T08:53:58.189Z"
   },
   {
    "duration": 63,
    "start_time": "2023-09-29T08:53:58.242Z"
   },
   {
    "duration": 54,
    "start_time": "2023-09-29T08:53:58.307Z"
   },
   {
    "duration": 166,
    "start_time": "2023-09-29T08:53:58.364Z"
   },
   {
    "duration": 13,
    "start_time": "2023-09-29T08:53:58.533Z"
   },
   {
    "duration": 1199,
    "start_time": "2023-09-29T08:53:58.547Z"
   },
   {
    "duration": 5,
    "start_time": "2023-09-29T08:53:59.748Z"
   },
   {
    "duration": 22,
    "start_time": "2023-09-29T08:53:59.755Z"
   },
   {
    "duration": 37,
    "start_time": "2023-09-29T08:53:59.779Z"
   },
   {
    "duration": 19,
    "start_time": "2023-09-29T08:53:59.818Z"
   },
   {
    "duration": 23,
    "start_time": "2023-09-29T08:53:59.839Z"
   },
   {
    "duration": 26,
    "start_time": "2023-09-29T08:53:59.864Z"
   },
   {
    "duration": 23,
    "start_time": "2023-09-29T08:53:59.894Z"
   },
   {
    "duration": 33,
    "start_time": "2023-09-29T08:53:59.919Z"
   },
   {
    "duration": 10,
    "start_time": "2023-09-29T08:53:59.954Z"
   },
   {
    "duration": 51,
    "start_time": "2023-09-29T08:53:59.966Z"
   },
   {
    "duration": 66,
    "start_time": "2023-09-29T08:54:00.019Z"
   },
   {
    "duration": 193,
    "start_time": "2023-09-29T08:54:00.087Z"
   },
   {
    "duration": 0,
    "start_time": "2023-09-29T08:54:00.282Z"
   },
   {
    "duration": 0,
    "start_time": "2023-09-29T08:54:00.283Z"
   },
   {
    "duration": 0,
    "start_time": "2023-09-29T08:54:00.284Z"
   },
   {
    "duration": 0,
    "start_time": "2023-09-29T08:54:00.285Z"
   },
   {
    "duration": 0,
    "start_time": "2023-09-29T08:54:00.286Z"
   },
   {
    "duration": 0,
    "start_time": "2023-09-29T08:54:00.288Z"
   },
   {
    "duration": 0,
    "start_time": "2023-09-29T08:54:00.303Z"
   },
   {
    "duration": 0,
    "start_time": "2023-09-29T08:54:00.304Z"
   },
   {
    "duration": 0,
    "start_time": "2023-09-29T08:54:00.305Z"
   },
   {
    "duration": 0,
    "start_time": "2023-09-29T08:54:00.305Z"
   },
   {
    "duration": 0,
    "start_time": "2023-09-29T08:54:00.306Z"
   },
   {
    "duration": 0,
    "start_time": "2023-09-29T08:54:00.308Z"
   },
   {
    "duration": 0,
    "start_time": "2023-09-29T08:54:00.309Z"
   },
   {
    "duration": 0,
    "start_time": "2023-09-29T08:54:00.310Z"
   },
   {
    "duration": 0,
    "start_time": "2023-09-29T08:54:00.311Z"
   },
   {
    "duration": 0,
    "start_time": "2023-09-29T08:54:00.312Z"
   },
   {
    "duration": 0,
    "start_time": "2023-09-29T08:54:00.313Z"
   },
   {
    "duration": 0,
    "start_time": "2023-09-29T08:54:00.314Z"
   },
   {
    "duration": 0,
    "start_time": "2023-09-29T08:54:00.314Z"
   },
   {
    "duration": 0,
    "start_time": "2023-09-29T08:54:00.315Z"
   },
   {
    "duration": 0,
    "start_time": "2023-09-29T08:54:00.316Z"
   },
   {
    "duration": 0,
    "start_time": "2023-09-29T08:54:00.320Z"
   },
   {
    "duration": 0,
    "start_time": "2023-09-29T08:54:00.321Z"
   },
   {
    "duration": 0,
    "start_time": "2023-09-29T08:54:00.322Z"
   },
   {
    "duration": 11,
    "start_time": "2023-09-29T08:54:12.585Z"
   },
   {
    "duration": 24,
    "start_time": "2023-09-29T08:54:13.938Z"
   },
   {
    "duration": 33,
    "start_time": "2023-09-29T08:54:17.089Z"
   },
   {
    "duration": 9312,
    "start_time": "2023-09-29T08:57:01.918Z"
   },
   {
    "duration": 1313,
    "start_time": "2023-09-29T08:57:11.233Z"
   },
   {
    "duration": 43,
    "start_time": "2023-09-29T08:57:12.547Z"
   },
   {
    "duration": 28,
    "start_time": "2023-09-29T08:57:12.592Z"
   },
   {
    "duration": 34,
    "start_time": "2023-09-29T08:57:12.623Z"
   },
   {
    "duration": 68,
    "start_time": "2023-09-29T08:57:12.660Z"
   },
   {
    "duration": 11,
    "start_time": "2023-09-29T08:57:12.730Z"
   },
   {
    "duration": 1123,
    "start_time": "2023-09-29T08:57:12.743Z"
   },
   {
    "duration": 5,
    "start_time": "2023-09-29T08:57:13.869Z"
   },
   {
    "duration": 11,
    "start_time": "2023-09-29T08:57:13.876Z"
   },
   {
    "duration": 7,
    "start_time": "2023-09-29T08:57:13.889Z"
   },
   {
    "duration": 21,
    "start_time": "2023-09-29T08:57:13.897Z"
   },
   {
    "duration": 5,
    "start_time": "2023-09-29T08:57:13.920Z"
   },
   {
    "duration": 7,
    "start_time": "2023-09-29T08:57:13.928Z"
   },
   {
    "duration": 11,
    "start_time": "2023-09-29T08:57:13.936Z"
   },
   {
    "duration": 19,
    "start_time": "2023-09-29T08:57:13.949Z"
   },
   {
    "duration": 6,
    "start_time": "2023-09-29T08:57:13.970Z"
   },
   {
    "duration": 22,
    "start_time": "2023-09-29T08:57:13.978Z"
   },
   {
    "duration": 27,
    "start_time": "2023-09-29T08:57:14.008Z"
   },
   {
    "duration": 141,
    "start_time": "2023-09-29T08:57:14.036Z"
   },
   {
    "duration": 0,
    "start_time": "2023-09-29T08:57:14.178Z"
   },
   {
    "duration": 0,
    "start_time": "2023-09-29T08:57:14.179Z"
   },
   {
    "duration": 0,
    "start_time": "2023-09-29T08:57:14.180Z"
   },
   {
    "duration": 0,
    "start_time": "2023-09-29T08:57:14.181Z"
   },
   {
    "duration": 0,
    "start_time": "2023-09-29T08:57:14.182Z"
   },
   {
    "duration": 0,
    "start_time": "2023-09-29T08:57:14.183Z"
   },
   {
    "duration": 0,
    "start_time": "2023-09-29T08:57:14.184Z"
   },
   {
    "duration": 0,
    "start_time": "2023-09-29T08:57:14.185Z"
   },
   {
    "duration": 0,
    "start_time": "2023-09-29T08:57:14.205Z"
   },
   {
    "duration": 0,
    "start_time": "2023-09-29T08:57:14.206Z"
   },
   {
    "duration": 0,
    "start_time": "2023-09-29T08:57:14.207Z"
   },
   {
    "duration": 0,
    "start_time": "2023-09-29T08:57:14.207Z"
   },
   {
    "duration": 0,
    "start_time": "2023-09-29T08:57:14.209Z"
   },
   {
    "duration": 0,
    "start_time": "2023-09-29T08:57:14.210Z"
   },
   {
    "duration": 0,
    "start_time": "2023-09-29T08:57:14.210Z"
   },
   {
    "duration": 0,
    "start_time": "2023-09-29T08:57:14.213Z"
   },
   {
    "duration": 0,
    "start_time": "2023-09-29T08:57:14.214Z"
   },
   {
    "duration": 0,
    "start_time": "2023-09-29T08:57:14.214Z"
   },
   {
    "duration": 0,
    "start_time": "2023-09-29T08:57:14.215Z"
   },
   {
    "duration": 0,
    "start_time": "2023-09-29T08:57:14.217Z"
   },
   {
    "duration": 0,
    "start_time": "2023-09-29T08:57:14.219Z"
   },
   {
    "duration": 0,
    "start_time": "2023-09-29T08:57:14.221Z"
   },
   {
    "duration": 0,
    "start_time": "2023-09-29T08:57:14.223Z"
   },
   {
    "duration": 0,
    "start_time": "2023-09-29T08:57:14.224Z"
   },
   {
    "duration": 2432,
    "start_time": "2023-09-29T08:57:48.864Z"
   },
   {
    "duration": 1358,
    "start_time": "2023-09-29T08:57:51.299Z"
   },
   {
    "duration": 45,
    "start_time": "2023-09-29T08:57:52.659Z"
   },
   {
    "duration": 21,
    "start_time": "2023-09-29T08:57:52.711Z"
   },
   {
    "duration": 41,
    "start_time": "2023-09-29T08:57:52.734Z"
   },
   {
    "duration": 52,
    "start_time": "2023-09-29T08:57:52.777Z"
   },
   {
    "duration": 11,
    "start_time": "2023-09-29T08:57:52.831Z"
   },
   {
    "duration": 1171,
    "start_time": "2023-09-29T08:57:52.844Z"
   },
   {
    "duration": 8,
    "start_time": "2023-09-29T08:57:54.017Z"
   },
   {
    "duration": 41,
    "start_time": "2023-09-29T08:57:54.029Z"
   },
   {
    "duration": 22,
    "start_time": "2023-09-29T08:57:54.072Z"
   },
   {
    "duration": 17,
    "start_time": "2023-09-29T08:57:54.096Z"
   },
   {
    "duration": 38,
    "start_time": "2023-09-29T08:57:54.115Z"
   },
   {
    "duration": 10,
    "start_time": "2023-09-29T08:57:54.155Z"
   },
   {
    "duration": 21,
    "start_time": "2023-09-29T08:57:54.167Z"
   },
   {
    "duration": 39,
    "start_time": "2023-09-29T08:57:54.190Z"
   },
   {
    "duration": 39,
    "start_time": "2023-09-29T08:57:54.232Z"
   },
   {
    "duration": 31,
    "start_time": "2023-09-29T08:57:54.273Z"
   },
   {
    "duration": 30,
    "start_time": "2023-09-29T08:57:54.306Z"
   },
   {
    "duration": 142,
    "start_time": "2023-09-29T08:57:54.338Z"
   },
   {
    "duration": 0,
    "start_time": "2023-09-29T08:57:54.482Z"
   },
   {
    "duration": 0,
    "start_time": "2023-09-29T08:57:54.484Z"
   },
   {
    "duration": 0,
    "start_time": "2023-09-29T08:57:54.485Z"
   },
   {
    "duration": 0,
    "start_time": "2023-09-29T08:57:54.486Z"
   },
   {
    "duration": 0,
    "start_time": "2023-09-29T08:57:54.487Z"
   },
   {
    "duration": 0,
    "start_time": "2023-09-29T08:57:54.512Z"
   },
   {
    "duration": 0,
    "start_time": "2023-09-29T08:57:54.513Z"
   },
   {
    "duration": 0,
    "start_time": "2023-09-29T08:57:54.515Z"
   },
   {
    "duration": 0,
    "start_time": "2023-09-29T08:57:54.517Z"
   },
   {
    "duration": 0,
    "start_time": "2023-09-29T08:57:54.518Z"
   },
   {
    "duration": 0,
    "start_time": "2023-09-29T08:57:54.519Z"
   },
   {
    "duration": 0,
    "start_time": "2023-09-29T08:57:54.520Z"
   },
   {
    "duration": 0,
    "start_time": "2023-09-29T08:57:54.521Z"
   },
   {
    "duration": 0,
    "start_time": "2023-09-29T08:57:54.522Z"
   },
   {
    "duration": 0,
    "start_time": "2023-09-29T08:57:54.523Z"
   },
   {
    "duration": 0,
    "start_time": "2023-09-29T08:57:54.525Z"
   },
   {
    "duration": 0,
    "start_time": "2023-09-29T08:57:54.525Z"
   },
   {
    "duration": 0,
    "start_time": "2023-09-29T08:57:54.526Z"
   },
   {
    "duration": 0,
    "start_time": "2023-09-29T08:57:54.529Z"
   },
   {
    "duration": 0,
    "start_time": "2023-09-29T08:57:54.530Z"
   },
   {
    "duration": 0,
    "start_time": "2023-09-29T08:57:54.531Z"
   },
   {
    "duration": 0,
    "start_time": "2023-09-29T08:57:54.532Z"
   },
   {
    "duration": 0,
    "start_time": "2023-09-29T08:57:54.533Z"
   },
   {
    "duration": 0,
    "start_time": "2023-09-29T08:57:54.534Z"
   },
   {
    "duration": 11,
    "start_time": "2023-09-29T09:48:39.948Z"
   },
   {
    "duration": 4,
    "start_time": "2023-09-29T09:48:50.283Z"
   },
   {
    "duration": 11,
    "start_time": "2023-09-29T09:48:55.944Z"
   },
   {
    "duration": 6,
    "start_time": "2023-09-29T09:50:36.571Z"
   },
   {
    "duration": 14,
    "start_time": "2023-09-29T09:50:40.449Z"
   },
   {
    "duration": 6,
    "start_time": "2023-09-29T09:50:54.563Z"
   },
   {
    "duration": 15,
    "start_time": "2023-09-29T09:50:55.377Z"
   },
   {
    "duration": 3,
    "start_time": "2023-09-29T09:50:59.316Z"
   },
   {
    "duration": 23,
    "start_time": "2023-09-29T09:51:00.080Z"
   },
   {
    "duration": 30,
    "start_time": "2023-09-29T09:51:02.563Z"
   },
   {
    "duration": 3134,
    "start_time": "2023-09-29T09:51:10.886Z"
   },
   {
    "duration": 1444,
    "start_time": "2023-09-29T09:51:14.023Z"
   },
   {
    "duration": 44,
    "start_time": "2023-09-29T09:51:15.469Z"
   },
   {
    "duration": 55,
    "start_time": "2023-09-29T09:51:15.515Z"
   },
   {
    "duration": 40,
    "start_time": "2023-09-29T09:51:15.573Z"
   },
   {
    "duration": 100,
    "start_time": "2023-09-29T09:51:15.615Z"
   },
   {
    "duration": 12,
    "start_time": "2023-09-29T09:51:15.716Z"
   },
   {
    "duration": 1274,
    "start_time": "2023-09-29T09:51:15.741Z"
   },
   {
    "duration": 7,
    "start_time": "2023-09-29T09:51:17.017Z"
   },
   {
    "duration": 12,
    "start_time": "2023-09-29T09:51:17.026Z"
   },
   {
    "duration": 17,
    "start_time": "2023-09-29T09:51:17.040Z"
   },
   {
    "duration": 19,
    "start_time": "2023-09-29T09:51:17.059Z"
   },
   {
    "duration": 5,
    "start_time": "2023-09-29T09:51:17.081Z"
   },
   {
    "duration": 11,
    "start_time": "2023-09-29T09:51:17.090Z"
   },
   {
    "duration": 39,
    "start_time": "2023-09-29T09:51:17.103Z"
   },
   {
    "duration": 16,
    "start_time": "2023-09-29T09:51:17.144Z"
   },
   {
    "duration": 57,
    "start_time": "2023-09-29T09:51:17.162Z"
   },
   {
    "duration": 21,
    "start_time": "2023-09-29T09:51:17.221Z"
   },
   {
    "duration": 49,
    "start_time": "2023-09-29T09:51:17.243Z"
   },
   {
    "duration": 3,
    "start_time": "2023-09-29T09:51:17.294Z"
   },
   {
    "duration": 36,
    "start_time": "2023-09-29T09:51:17.298Z"
   },
   {
    "duration": 135,
    "start_time": "2023-09-29T09:51:17.337Z"
   },
   {
    "duration": 0,
    "start_time": "2023-09-29T09:51:17.473Z"
   },
   {
    "duration": 0,
    "start_time": "2023-09-29T09:51:17.475Z"
   },
   {
    "duration": 0,
    "start_time": "2023-09-29T09:51:17.476Z"
   },
   {
    "duration": 0,
    "start_time": "2023-09-29T09:51:17.477Z"
   },
   {
    "duration": 0,
    "start_time": "2023-09-29T09:51:17.478Z"
   },
   {
    "duration": 0,
    "start_time": "2023-09-29T09:51:17.479Z"
   },
   {
    "duration": 0,
    "start_time": "2023-09-29T09:51:17.480Z"
   },
   {
    "duration": 0,
    "start_time": "2023-09-29T09:51:17.502Z"
   },
   {
    "duration": 0,
    "start_time": "2023-09-29T09:51:17.504Z"
   },
   {
    "duration": 0,
    "start_time": "2023-09-29T09:51:17.505Z"
   },
   {
    "duration": 0,
    "start_time": "2023-09-29T09:51:17.506Z"
   },
   {
    "duration": 0,
    "start_time": "2023-09-29T09:51:17.508Z"
   },
   {
    "duration": 0,
    "start_time": "2023-09-29T09:51:17.509Z"
   },
   {
    "duration": 0,
    "start_time": "2023-09-29T09:51:17.510Z"
   },
   {
    "duration": 0,
    "start_time": "2023-09-29T09:51:17.511Z"
   },
   {
    "duration": 0,
    "start_time": "2023-09-29T09:51:17.512Z"
   },
   {
    "duration": 0,
    "start_time": "2023-09-29T09:51:17.514Z"
   },
   {
    "duration": 0,
    "start_time": "2023-09-29T09:51:17.515Z"
   },
   {
    "duration": 0,
    "start_time": "2023-09-29T09:51:17.516Z"
   },
   {
    "duration": 0,
    "start_time": "2023-09-29T09:51:17.517Z"
   },
   {
    "duration": 0,
    "start_time": "2023-09-29T09:51:17.518Z"
   },
   {
    "duration": 0,
    "start_time": "2023-09-29T09:51:17.519Z"
   },
   {
    "duration": 0,
    "start_time": "2023-09-29T09:51:17.520Z"
   },
   {
    "duration": 0,
    "start_time": "2023-09-29T09:51:17.522Z"
   },
   {
    "duration": 13,
    "start_time": "2023-09-29T09:53:32.319Z"
   },
   {
    "duration": 12,
    "start_time": "2023-09-29T09:53:56.250Z"
   },
   {
    "duration": 17,
    "start_time": "2023-09-29T09:53:58.201Z"
   },
   {
    "duration": 2,
    "start_time": "2023-09-29T09:53:59.007Z"
   },
   {
    "duration": 12,
    "start_time": "2023-09-29T09:53:59.386Z"
   },
   {
    "duration": 8,
    "start_time": "2023-09-29T09:54:51.395Z"
   },
   {
    "duration": 32,
    "start_time": "2023-09-29T09:57:35.516Z"
   },
   {
    "duration": 3,
    "start_time": "2023-09-29T09:57:43.146Z"
   },
   {
    "duration": 22,
    "start_time": "2023-09-29T09:57:44.364Z"
   },
   {
    "duration": 17,
    "start_time": "2023-09-29T10:10:55.649Z"
   },
   {
    "duration": 30,
    "start_time": "2023-09-29T10:11:19.833Z"
   },
   {
    "duration": 21,
    "start_time": "2023-09-29T10:14:18.422Z"
   },
   {
    "duration": 30,
    "start_time": "2023-09-29T10:15:47.178Z"
   },
   {
    "duration": 2531,
    "start_time": "2023-09-29T10:16:02.835Z"
   },
   {
    "duration": 6,
    "start_time": "2023-09-29T10:16:05.368Z"
   },
   {
    "duration": 121,
    "start_time": "2023-09-29T10:16:05.376Z"
   },
   {
    "duration": 37,
    "start_time": "2023-09-29T10:16:05.498Z"
   },
   {
    "duration": 18,
    "start_time": "2023-09-29T10:16:33.867Z"
   },
   {
    "duration": 18,
    "start_time": "2023-09-29T10:18:34.292Z"
   },
   {
    "duration": 7,
    "start_time": "2023-09-29T10:18:54.618Z"
   },
   {
    "duration": 20,
    "start_time": "2023-09-29T10:19:07.360Z"
   },
   {
    "duration": 166,
    "start_time": "2023-09-29T10:19:15.176Z"
   },
   {
    "duration": 21,
    "start_time": "2023-09-29T10:19:19.954Z"
   },
   {
    "duration": 25,
    "start_time": "2023-09-29T10:19:50.419Z"
   },
   {
    "duration": 5,
    "start_time": "2023-09-29T10:20:59.279Z"
   },
   {
    "duration": 235,
    "start_time": "2023-09-29T10:22:21.499Z"
   },
   {
    "duration": 16,
    "start_time": "2023-09-29T10:22:45.401Z"
   },
   {
    "duration": 2464,
    "start_time": "2023-09-29T10:22:56.659Z"
   },
   {
    "duration": 1335,
    "start_time": "2023-09-29T10:22:59.125Z"
   },
   {
    "duration": 44,
    "start_time": "2023-09-29T10:23:00.462Z"
   },
   {
    "duration": 19,
    "start_time": "2023-09-29T10:23:00.508Z"
   },
   {
    "duration": 69,
    "start_time": "2023-09-29T10:23:00.529Z"
   },
   {
    "duration": 175,
    "start_time": "2023-09-29T10:23:00.599Z"
   },
   {
    "duration": 97,
    "start_time": "2023-09-29T10:23:00.776Z"
   },
   {
    "duration": 112,
    "start_time": "2023-09-29T10:23:00.875Z"
   },
   {
    "duration": 1238,
    "start_time": "2023-09-29T10:23:00.988Z"
   },
   {
    "duration": 5,
    "start_time": "2023-09-29T10:23:02.230Z"
   },
   {
    "duration": 95,
    "start_time": "2023-09-29T10:23:02.237Z"
   },
   {
    "duration": 201,
    "start_time": "2023-09-29T10:23:02.335Z"
   },
   {
    "duration": 108,
    "start_time": "2023-09-29T10:23:02.538Z"
   },
   {
    "duration": 103,
    "start_time": "2023-09-29T10:23:02.648Z"
   },
   {
    "duration": 92,
    "start_time": "2023-09-29T10:23:02.753Z"
   },
   {
    "duration": 52,
    "start_time": "2023-09-29T10:23:02.846Z"
   },
   {
    "duration": 58,
    "start_time": "2023-09-29T10:23:02.901Z"
   },
   {
    "duration": 98,
    "start_time": "2023-09-29T10:23:02.961Z"
   },
   {
    "duration": 49,
    "start_time": "2023-09-29T10:23:03.061Z"
   },
   {
    "duration": 39,
    "start_time": "2023-09-29T10:23:03.112Z"
   },
   {
    "duration": 249,
    "start_time": "2023-09-29T10:23:03.153Z"
   },
   {
    "duration": 125,
    "start_time": "2023-09-29T10:23:03.404Z"
   },
   {
    "duration": 106,
    "start_time": "2023-09-29T10:23:03.531Z"
   },
   {
    "duration": 20,
    "start_time": "2023-09-29T10:23:03.639Z"
   },
   {
    "duration": 14582,
    "start_time": "2023-09-29T10:23:03.661Z"
   },
   {
    "duration": 64,
    "start_time": "2023-09-29T10:23:18.244Z"
   },
   {
    "duration": 558,
    "start_time": "2023-09-29T10:23:18.310Z"
   },
   {
    "duration": 7,
    "start_time": "2023-09-29T10:23:18.873Z"
   },
   {
    "duration": 25,
    "start_time": "2023-09-29T10:23:18.882Z"
   },
   {
    "duration": 87,
    "start_time": "2023-09-29T10:23:18.910Z"
   },
   {
    "duration": 0,
    "start_time": "2023-09-29T10:23:18.999Z"
   },
   {
    "duration": 0,
    "start_time": "2023-09-29T10:23:19.001Z"
   },
   {
    "duration": 0,
    "start_time": "2023-09-29T10:23:19.001Z"
   },
   {
    "duration": 0,
    "start_time": "2023-09-29T10:23:19.003Z"
   },
   {
    "duration": 0,
    "start_time": "2023-09-29T10:23:19.004Z"
   },
   {
    "duration": 0,
    "start_time": "2023-09-29T10:23:19.005Z"
   },
   {
    "duration": 0,
    "start_time": "2023-09-29T10:23:19.005Z"
   },
   {
    "duration": 0,
    "start_time": "2023-09-29T10:23:19.007Z"
   },
   {
    "duration": 0,
    "start_time": "2023-09-29T10:23:19.008Z"
   },
   {
    "duration": 0,
    "start_time": "2023-09-29T10:23:19.009Z"
   },
   {
    "duration": 0,
    "start_time": "2023-09-29T10:23:19.010Z"
   },
   {
    "duration": 0,
    "start_time": "2023-09-29T10:23:19.011Z"
   },
   {
    "duration": 0,
    "start_time": "2023-09-29T10:23:19.012Z"
   },
   {
    "duration": 0,
    "start_time": "2023-09-29T10:23:19.013Z"
   },
   {
    "duration": 0,
    "start_time": "2023-09-29T10:23:19.014Z"
   },
   {
    "duration": 0,
    "start_time": "2023-09-29T10:23:19.015Z"
   },
   {
    "duration": 0,
    "start_time": "2023-09-29T10:23:19.017Z"
   },
   {
    "duration": 0,
    "start_time": "2023-09-29T10:23:19.018Z"
   },
   {
    "duration": 0,
    "start_time": "2023-09-29T10:23:19.019Z"
   },
   {
    "duration": 93,
    "start_time": "2023-09-29T10:23:47.353Z"
   },
   {
    "duration": 365,
    "start_time": "2023-09-29T10:24:01.746Z"
   },
   {
    "duration": 114,
    "start_time": "2023-09-29T10:24:07.176Z"
   },
   {
    "duration": 14240,
    "start_time": "2023-09-29T10:24:28.828Z"
   },
   {
    "duration": 115,
    "start_time": "2023-09-29T10:24:46.421Z"
   },
   {
    "duration": 102,
    "start_time": "2023-09-29T10:24:55.247Z"
   },
   {
    "duration": 51,
    "start_time": "2023-09-29T10:24:57.765Z"
   },
   {
    "duration": 13,
    "start_time": "2023-09-29T10:25:02.967Z"
   },
   {
    "duration": 117,
    "start_time": "2023-09-29T10:25:06.635Z"
   },
   {
    "duration": 17757,
    "start_time": "2023-09-29T10:25:08.756Z"
   },
   {
    "duration": 46,
    "start_time": "2023-09-29T10:25:46.358Z"
   },
   {
    "duration": 429,
    "start_time": "2023-09-29T10:25:48.210Z"
   },
   {
    "duration": 12,
    "start_time": "2023-09-29T10:25:52.284Z"
   },
   {
    "duration": 102,
    "start_time": "2023-09-29T10:25:53.739Z"
   },
   {
    "duration": 9286,
    "start_time": "2023-09-29T10:25:54.987Z"
   },
   {
    "duration": 200,
    "start_time": "2023-09-29T10:26:07.611Z"
   },
   {
    "duration": 24,
    "start_time": "2023-09-29T10:26:10.184Z"
   },
   {
    "duration": 5,
    "start_time": "2023-09-29T10:28:19.080Z"
   },
   {
    "duration": 14832,
    "start_time": "2023-09-29T10:29:14.821Z"
   },
   {
    "duration": 2432,
    "start_time": "2023-09-29T10:29:56.168Z"
   },
   {
    "duration": 1365,
    "start_time": "2023-09-29T10:29:58.602Z"
   },
   {
    "duration": 46,
    "start_time": "2023-09-29T10:29:59.970Z"
   },
   {
    "duration": 9,
    "start_time": "2023-09-29T10:30:00.019Z"
   },
   {
    "duration": 147,
    "start_time": "2023-09-29T10:30:00.031Z"
   },
   {
    "duration": 379,
    "start_time": "2023-09-29T10:30:00.180Z"
   },
   {
    "duration": 105,
    "start_time": "2023-09-29T10:30:00.561Z"
   },
   {
    "duration": 14,
    "start_time": "2023-09-29T10:30:00.670Z"
   },
   {
    "duration": 1293,
    "start_time": "2023-09-29T10:30:00.686Z"
   },
   {
    "duration": 6,
    "start_time": "2023-09-29T10:30:01.981Z"
   },
   {
    "duration": 258,
    "start_time": "2023-09-29T10:30:01.989Z"
   },
   {
    "duration": 190,
    "start_time": "2023-09-29T10:30:02.249Z"
   },
   {
    "duration": 75,
    "start_time": "2023-09-29T10:30:02.441Z"
   },
   {
    "duration": 74,
    "start_time": "2023-09-29T10:30:02.520Z"
   },
   {
    "duration": 69,
    "start_time": "2023-09-29T10:30:02.596Z"
   },
   {
    "duration": 34,
    "start_time": "2023-09-29T10:30:02.666Z"
   },
   {
    "duration": 51,
    "start_time": "2023-09-29T10:30:02.702Z"
   },
   {
    "duration": 38,
    "start_time": "2023-09-29T10:30:02.755Z"
   },
   {
    "duration": 65,
    "start_time": "2023-09-29T10:30:02.794Z"
   },
   {
    "duration": 24,
    "start_time": "2023-09-29T10:30:02.861Z"
   },
   {
    "duration": 84,
    "start_time": "2023-09-29T10:30:02.887Z"
   },
   {
    "duration": 30,
    "start_time": "2023-09-29T10:30:02.973Z"
   },
   {
    "duration": 445,
    "start_time": "2023-09-29T10:30:03.004Z"
   },
   {
    "duration": 606,
    "start_time": "2023-09-29T10:30:03.451Z"
   },
   {
    "duration": 360,
    "start_time": "2023-09-29T10:30:04.059Z"
   },
   {
    "duration": 0,
    "start_time": "2023-09-29T10:30:04.422Z"
   },
   {
    "duration": 0,
    "start_time": "2023-09-29T10:30:04.424Z"
   },
   {
    "duration": 0,
    "start_time": "2023-09-29T10:30:04.426Z"
   },
   {
    "duration": 0,
    "start_time": "2023-09-29T10:30:04.427Z"
   },
   {
    "duration": 0,
    "start_time": "2023-09-29T10:30:04.429Z"
   },
   {
    "duration": 0,
    "start_time": "2023-09-29T10:30:04.430Z"
   },
   {
    "duration": 0,
    "start_time": "2023-09-29T10:30:04.432Z"
   },
   {
    "duration": 0,
    "start_time": "2023-09-29T10:30:04.433Z"
   },
   {
    "duration": 0,
    "start_time": "2023-09-29T10:30:04.435Z"
   },
   {
    "duration": 0,
    "start_time": "2023-09-29T10:30:04.437Z"
   },
   {
    "duration": 0,
    "start_time": "2023-09-29T10:30:04.438Z"
   },
   {
    "duration": 0,
    "start_time": "2023-09-29T10:30:04.440Z"
   },
   {
    "duration": 0,
    "start_time": "2023-09-29T10:30:04.441Z"
   },
   {
    "duration": 0,
    "start_time": "2023-09-29T10:30:04.443Z"
   },
   {
    "duration": 0,
    "start_time": "2023-09-29T10:30:04.444Z"
   },
   {
    "duration": 0,
    "start_time": "2023-09-29T10:30:04.446Z"
   },
   {
    "duration": 0,
    "start_time": "2023-09-29T10:30:04.447Z"
   },
   {
    "duration": 0,
    "start_time": "2023-09-29T10:30:04.449Z"
   },
   {
    "duration": 0,
    "start_time": "2023-09-29T10:30:04.450Z"
   },
   {
    "duration": 0,
    "start_time": "2023-09-29T10:30:04.452Z"
   },
   {
    "duration": 0,
    "start_time": "2023-09-29T10:30:04.453Z"
   },
   {
    "duration": 0,
    "start_time": "2023-09-29T10:30:04.502Z"
   },
   {
    "duration": 0,
    "start_time": "2023-09-29T10:30:04.504Z"
   },
   {
    "duration": 0,
    "start_time": "2023-09-29T10:30:04.505Z"
   },
   {
    "duration": 10,
    "start_time": "2023-09-29T10:38:18.970Z"
   },
   {
    "duration": 12,
    "start_time": "2023-09-29T10:38:28.639Z"
   },
   {
    "duration": 5,
    "start_time": "2023-09-29T10:40:45.703Z"
   },
   {
    "duration": 31,
    "start_time": "2023-09-29T10:40:53.248Z"
   },
   {
    "duration": 2,
    "start_time": "2023-09-29T10:40:57.488Z"
   },
   {
    "duration": 33,
    "start_time": "2023-09-29T10:40:58.014Z"
   },
   {
    "duration": 3,
    "start_time": "2023-09-29T10:40:59.228Z"
   },
   {
    "duration": 31,
    "start_time": "2023-09-29T10:41:01.194Z"
   },
   {
    "duration": 4,
    "start_time": "2023-09-29T10:44:07.216Z"
   },
   {
    "duration": 18,
    "start_time": "2023-09-29T10:44:08.727Z"
   },
   {
    "duration": 10,
    "start_time": "2023-09-29T10:50:30.538Z"
   },
   {
    "duration": 16,
    "start_time": "2023-09-29T10:50:39.920Z"
   },
   {
    "duration": 2536,
    "start_time": "2023-09-29T10:50:53.735Z"
   },
   {
    "duration": 5,
    "start_time": "2023-09-29T10:50:56.274Z"
   },
   {
    "duration": 70,
    "start_time": "2023-09-29T10:50:56.281Z"
   },
   {
    "duration": 19,
    "start_time": "2023-09-29T10:50:56.353Z"
   },
   {
    "duration": 33,
    "start_time": "2023-09-29T10:50:56.374Z"
   },
   {
    "duration": 34,
    "start_time": "2023-09-29T10:50:56.409Z"
   },
   {
    "duration": 103,
    "start_time": "2023-09-29T10:50:56.445Z"
   },
   {
    "duration": 13,
    "start_time": "2023-09-29T10:50:56.551Z"
   },
   {
    "duration": 1159,
    "start_time": "2023-09-29T10:50:56.567Z"
   },
   {
    "duration": 6,
    "start_time": "2023-09-29T10:50:57.729Z"
   },
   {
    "duration": 31,
    "start_time": "2023-09-29T10:50:57.737Z"
   },
   {
    "duration": 17,
    "start_time": "2023-09-29T10:50:57.770Z"
   },
   {
    "duration": 19,
    "start_time": "2023-09-29T10:50:57.789Z"
   },
   {
    "duration": 16,
    "start_time": "2023-09-29T10:50:57.810Z"
   },
   {
    "duration": 11,
    "start_time": "2023-09-29T10:50:57.828Z"
   },
   {
    "duration": 19,
    "start_time": "2023-09-29T10:50:57.841Z"
   },
   {
    "duration": 16,
    "start_time": "2023-09-29T10:50:57.862Z"
   },
   {
    "duration": 28,
    "start_time": "2023-09-29T10:50:57.880Z"
   },
   {
    "duration": 20,
    "start_time": "2023-09-29T10:50:57.910Z"
   },
   {
    "duration": 10,
    "start_time": "2023-09-29T10:50:57.932Z"
   },
   {
    "duration": 2362,
    "start_time": "2023-09-29T10:51:13.469Z"
   },
   {
    "duration": 6,
    "start_time": "2023-09-29T10:51:15.834Z"
   },
   {
    "duration": 46,
    "start_time": "2023-09-29T10:51:16.282Z"
   },
   {
    "duration": 5,
    "start_time": "2023-09-29T10:51:17.100Z"
   },
   {
    "duration": 15,
    "start_time": "2023-09-29T10:51:17.701Z"
   },
   {
    "duration": 2394,
    "start_time": "2023-09-29T10:51:24.502Z"
   },
   {
    "duration": 1326,
    "start_time": "2023-09-29T10:51:26.898Z"
   },
   {
    "duration": 42,
    "start_time": "2023-09-29T10:51:28.226Z"
   },
   {
    "duration": 6,
    "start_time": "2023-09-29T10:51:28.271Z"
   },
   {
    "duration": 38,
    "start_time": "2023-09-29T10:51:28.279Z"
   },
   {
    "duration": 13,
    "start_time": "2023-09-29T10:51:28.318Z"
   },
   {
    "duration": 56,
    "start_time": "2023-09-29T10:51:28.333Z"
   },
   {
    "duration": 11,
    "start_time": "2023-09-29T10:51:28.402Z"
   },
   {
    "duration": 1059,
    "start_time": "2023-09-29T10:51:28.415Z"
   },
   {
    "duration": 5,
    "start_time": "2023-09-29T10:51:29.477Z"
   },
   {
    "duration": 26,
    "start_time": "2023-09-29T10:51:29.483Z"
   },
   {
    "duration": 16,
    "start_time": "2023-09-29T10:51:29.511Z"
   },
   {
    "duration": 31,
    "start_time": "2023-09-29T10:51:29.529Z"
   },
   {
    "duration": 27,
    "start_time": "2023-09-29T10:51:29.563Z"
   },
   {
    "duration": 52,
    "start_time": "2023-09-29T10:51:29.592Z"
   },
   {
    "duration": 51,
    "start_time": "2023-09-29T10:51:29.646Z"
   },
   {
    "duration": 29,
    "start_time": "2023-09-29T10:51:29.699Z"
   },
   {
    "duration": 30,
    "start_time": "2023-09-29T10:51:29.730Z"
   },
   {
    "duration": 20,
    "start_time": "2023-09-29T10:51:29.762Z"
   },
   {
    "duration": 142,
    "start_time": "2023-09-29T10:51:29.784Z"
   },
   {
    "duration": 0,
    "start_time": "2023-09-29T10:51:29.928Z"
   },
   {
    "duration": 0,
    "start_time": "2023-09-29T10:51:29.929Z"
   },
   {
    "duration": 0,
    "start_time": "2023-09-29T10:51:29.930Z"
   },
   {
    "duration": 0,
    "start_time": "2023-09-29T10:51:29.932Z"
   },
   {
    "duration": 0,
    "start_time": "2023-09-29T10:51:29.933Z"
   },
   {
    "duration": 0,
    "start_time": "2023-09-29T10:51:29.933Z"
   },
   {
    "duration": 0,
    "start_time": "2023-09-29T10:51:29.934Z"
   },
   {
    "duration": 0,
    "start_time": "2023-09-29T10:51:29.935Z"
   },
   {
    "duration": 0,
    "start_time": "2023-09-29T10:51:29.936Z"
   },
   {
    "duration": 0,
    "start_time": "2023-09-29T10:51:29.937Z"
   },
   {
    "duration": 0,
    "start_time": "2023-09-29T10:51:29.938Z"
   },
   {
    "duration": 0,
    "start_time": "2023-09-29T10:51:29.939Z"
   },
   {
    "duration": 0,
    "start_time": "2023-09-29T10:51:29.940Z"
   },
   {
    "duration": 0,
    "start_time": "2023-09-29T10:51:29.941Z"
   },
   {
    "duration": 0,
    "start_time": "2023-09-29T10:51:29.942Z"
   },
   {
    "duration": 0,
    "start_time": "2023-09-29T10:51:29.943Z"
   },
   {
    "duration": 0,
    "start_time": "2023-09-29T10:51:29.944Z"
   },
   {
    "duration": 0,
    "start_time": "2023-09-29T10:51:29.945Z"
   },
   {
    "duration": 0,
    "start_time": "2023-09-29T10:51:29.946Z"
   },
   {
    "duration": 0,
    "start_time": "2023-09-29T10:51:29.947Z"
   },
   {
    "duration": 0,
    "start_time": "2023-09-29T10:51:29.949Z"
   },
   {
    "duration": 0,
    "start_time": "2023-09-29T10:51:29.950Z"
   },
   {
    "duration": 0,
    "start_time": "2023-09-29T10:51:29.951Z"
   },
   {
    "duration": 0,
    "start_time": "2023-09-29T10:51:29.952Z"
   },
   {
    "duration": 0,
    "start_time": "2023-09-29T10:51:29.953Z"
   },
   {
    "duration": 0,
    "start_time": "2023-09-29T10:51:29.954Z"
   },
   {
    "duration": 0,
    "start_time": "2023-09-29T10:51:29.955Z"
   },
   {
    "duration": 0,
    "start_time": "2023-09-29T10:51:29.957Z"
   },
   {
    "duration": 0,
    "start_time": "2023-09-29T10:51:30.002Z"
   },
   {
    "duration": 0,
    "start_time": "2023-09-29T10:51:30.003Z"
   },
   {
    "duration": 0,
    "start_time": "2023-09-29T10:51:30.004Z"
   },
   {
    "duration": 5,
    "start_time": "2023-09-29T10:52:32.831Z"
   },
   {
    "duration": 11,
    "start_time": "2023-09-29T10:52:33.822Z"
   },
   {
    "duration": 7,
    "start_time": "2023-09-29T10:53:50.772Z"
   },
   {
    "duration": 12,
    "start_time": "2023-09-29T10:53:58.237Z"
   },
   {
    "duration": 12,
    "start_time": "2023-09-29T10:55:40.682Z"
   },
   {
    "duration": 6,
    "start_time": "2023-09-29T10:56:07.124Z"
   },
   {
    "duration": 39,
    "start_time": "2023-09-29T10:56:35.134Z"
   },
   {
    "duration": 13,
    "start_time": "2023-09-29T10:57:48.662Z"
   },
   {
    "duration": 8,
    "start_time": "2023-09-29T10:58:05.759Z"
   },
   {
    "duration": 32,
    "start_time": "2023-09-29T10:58:11.036Z"
   },
   {
    "duration": 11,
    "start_time": "2023-09-29T11:03:27.402Z"
   },
   {
    "duration": 28,
    "start_time": "2023-09-29T11:03:42.469Z"
   },
   {
    "duration": 36,
    "start_time": "2023-09-29T11:04:32.648Z"
   },
   {
    "duration": 2537,
    "start_time": "2023-09-29T11:04:41.939Z"
   },
   {
    "duration": 5,
    "start_time": "2023-09-29T11:04:44.479Z"
   },
   {
    "duration": 67,
    "start_time": "2023-09-29T11:04:44.486Z"
   },
   {
    "duration": 7,
    "start_time": "2023-09-29T11:04:44.556Z"
   },
   {
    "duration": 337,
    "start_time": "2023-09-29T11:04:44.565Z"
   },
   {
    "duration": 101,
    "start_time": "2023-09-29T11:04:44.904Z"
   },
   {
    "duration": 223,
    "start_time": "2023-09-29T11:04:45.007Z"
   },
   {
    "duration": 11,
    "start_time": "2023-09-29T11:04:45.232Z"
   },
   {
    "duration": 1131,
    "start_time": "2023-09-29T11:04:45.245Z"
   },
   {
    "duration": 4,
    "start_time": "2023-09-29T11:04:46.378Z"
   },
   {
    "duration": 27,
    "start_time": "2023-09-29T11:04:46.384Z"
   },
   {
    "duration": 30,
    "start_time": "2023-09-29T11:04:46.413Z"
   },
   {
    "duration": 26,
    "start_time": "2023-09-29T11:04:46.445Z"
   },
   {
    "duration": 19,
    "start_time": "2023-09-29T11:04:46.472Z"
   },
   {
    "duration": 32,
    "start_time": "2023-09-29T11:04:46.492Z"
   },
   {
    "duration": 17,
    "start_time": "2023-09-29T11:04:46.526Z"
   },
   {
    "duration": 15,
    "start_time": "2023-09-29T11:04:46.546Z"
   },
   {
    "duration": 34,
    "start_time": "2023-09-29T11:04:46.563Z"
   },
   {
    "duration": 14,
    "start_time": "2023-09-29T11:04:46.598Z"
   },
   {
    "duration": 37,
    "start_time": "2023-09-29T11:05:07.406Z"
   },
   {
    "duration": 8290,
    "start_time": "2023-09-29T14:19:26.041Z"
   },
   {
    "duration": 1394,
    "start_time": "2023-09-29T14:19:34.334Z"
   },
   {
    "duration": 162,
    "start_time": "2023-09-29T14:19:35.729Z"
   },
   {
    "duration": 5,
    "start_time": "2023-09-29T14:19:35.893Z"
   },
   {
    "duration": 23,
    "start_time": "2023-09-29T14:19:35.900Z"
   },
   {
    "duration": 10,
    "start_time": "2023-09-29T14:19:35.925Z"
   },
   {
    "duration": 49,
    "start_time": "2023-09-29T14:19:35.937Z"
   },
   {
    "duration": 12,
    "start_time": "2023-09-29T14:19:35.988Z"
   },
   {
    "duration": 1062,
    "start_time": "2023-09-29T14:19:36.001Z"
   },
   {
    "duration": 4,
    "start_time": "2023-09-29T14:19:37.065Z"
   },
   {
    "duration": 8,
    "start_time": "2023-09-29T14:19:37.071Z"
   },
   {
    "duration": 7,
    "start_time": "2023-09-29T14:19:37.080Z"
   },
   {
    "duration": 9,
    "start_time": "2023-09-29T14:19:37.088Z"
   },
   {
    "duration": 7,
    "start_time": "2023-09-29T14:19:37.099Z"
   },
   {
    "duration": 9,
    "start_time": "2023-09-29T14:19:37.108Z"
   },
   {
    "duration": 9,
    "start_time": "2023-09-29T14:19:37.119Z"
   },
   {
    "duration": 16,
    "start_time": "2023-09-29T14:19:37.129Z"
   },
   {
    "duration": 17,
    "start_time": "2023-09-29T14:19:37.147Z"
   },
   {
    "duration": 4,
    "start_time": "2023-09-29T14:19:37.166Z"
   },
   {
    "duration": 34,
    "start_time": "2023-09-29T14:19:37.172Z"
   },
   {
    "duration": 7,
    "start_time": "2023-09-29T14:19:37.207Z"
   },
   {
    "duration": 174,
    "start_time": "2023-09-29T14:19:37.215Z"
   },
   {
    "duration": 0,
    "start_time": "2023-09-29T14:19:37.393Z"
   },
   {
    "duration": 0,
    "start_time": "2023-09-29T14:19:37.395Z"
   },
   {
    "duration": 0,
    "start_time": "2023-09-29T14:19:37.396Z"
   },
   {
    "duration": 0,
    "start_time": "2023-09-29T14:19:37.398Z"
   },
   {
    "duration": 0,
    "start_time": "2023-09-29T14:19:37.399Z"
   },
   {
    "duration": 0,
    "start_time": "2023-09-29T14:19:37.401Z"
   },
   {
    "duration": 0,
    "start_time": "2023-09-29T14:19:37.402Z"
   },
   {
    "duration": 0,
    "start_time": "2023-09-29T14:19:37.404Z"
   },
   {
    "duration": 0,
    "start_time": "2023-09-29T14:19:37.406Z"
   },
   {
    "duration": 1,
    "start_time": "2023-09-29T14:19:37.407Z"
   },
   {
    "duration": 0,
    "start_time": "2023-09-29T14:19:37.409Z"
   },
   {
    "duration": 0,
    "start_time": "2023-09-29T14:19:37.410Z"
   },
   {
    "duration": 0,
    "start_time": "2023-09-29T14:19:37.444Z"
   },
   {
    "duration": 0,
    "start_time": "2023-09-29T14:19:37.447Z"
   },
   {
    "duration": 0,
    "start_time": "2023-09-29T14:19:37.448Z"
   },
   {
    "duration": 0,
    "start_time": "2023-09-29T14:19:37.449Z"
   },
   {
    "duration": 0,
    "start_time": "2023-09-29T14:19:37.450Z"
   },
   {
    "duration": 0,
    "start_time": "2023-09-29T14:19:37.454Z"
   },
   {
    "duration": 0,
    "start_time": "2023-09-29T14:19:37.454Z"
   },
   {
    "duration": 0,
    "start_time": "2023-09-29T14:19:37.455Z"
   },
   {
    "duration": 0,
    "start_time": "2023-09-29T14:19:37.455Z"
   },
   {
    "duration": 0,
    "start_time": "2023-09-29T14:19:37.456Z"
   },
   {
    "duration": 0,
    "start_time": "2023-09-29T14:19:37.457Z"
   },
   {
    "duration": 0,
    "start_time": "2023-09-29T14:19:37.458Z"
   },
   {
    "duration": 0,
    "start_time": "2023-09-29T14:19:37.459Z"
   },
   {
    "duration": 0,
    "start_time": "2023-09-29T14:19:37.463Z"
   },
   {
    "duration": 0,
    "start_time": "2023-09-29T14:19:37.467Z"
   },
   {
    "duration": 0,
    "start_time": "2023-09-29T14:19:37.467Z"
   },
   {
    "duration": 0,
    "start_time": "2023-09-29T14:19:37.468Z"
   },
   {
    "duration": 0,
    "start_time": "2023-09-29T14:19:37.469Z"
   },
   {
    "duration": 2082,
    "start_time": "2023-09-29T14:25:40.592Z"
   },
   {
    "duration": 4,
    "start_time": "2023-09-29T14:25:42.677Z"
   },
   {
    "duration": 80,
    "start_time": "2023-09-29T14:25:42.682Z"
   },
   {
    "duration": 5,
    "start_time": "2023-09-29T14:25:42.763Z"
   },
   {
    "duration": 17,
    "start_time": "2023-09-29T14:25:42.769Z"
   },
   {
    "duration": 13,
    "start_time": "2023-09-29T14:25:42.787Z"
   },
   {
    "duration": 59,
    "start_time": "2023-09-29T14:25:42.801Z"
   },
   {
    "duration": 9,
    "start_time": "2023-09-29T14:25:42.862Z"
   },
   {
    "duration": 987,
    "start_time": "2023-09-29T14:25:42.873Z"
   },
   {
    "duration": 5,
    "start_time": "2023-09-29T14:25:43.862Z"
   },
   {
    "duration": 11,
    "start_time": "2023-09-29T14:25:43.868Z"
   },
   {
    "duration": 9,
    "start_time": "2023-09-29T14:25:43.880Z"
   },
   {
    "duration": 9,
    "start_time": "2023-09-29T14:25:43.890Z"
   },
   {
    "duration": 10,
    "start_time": "2023-09-29T14:25:43.901Z"
   },
   {
    "duration": 21,
    "start_time": "2023-09-29T14:25:43.912Z"
   },
   {
    "duration": 21,
    "start_time": "2023-09-29T14:25:43.934Z"
   },
   {
    "duration": 22,
    "start_time": "2023-09-29T14:25:43.957Z"
   },
   {
    "duration": 28,
    "start_time": "2023-09-29T14:25:43.980Z"
   },
   {
    "duration": 20,
    "start_time": "2023-09-29T14:25:44.010Z"
   },
   {
    "duration": 8,
    "start_time": "2023-09-29T14:25:44.032Z"
   },
   {
    "duration": 2196,
    "start_time": "2023-09-29T14:25:51.194Z"
   },
   {
    "duration": 1175,
    "start_time": "2023-09-29T14:25:53.393Z"
   },
   {
    "duration": 41,
    "start_time": "2023-09-29T14:25:54.569Z"
   },
   {
    "duration": 6,
    "start_time": "2023-09-29T14:25:54.613Z"
   },
   {
    "duration": 36,
    "start_time": "2023-09-29T14:25:54.620Z"
   },
   {
    "duration": 35,
    "start_time": "2023-09-29T14:25:54.658Z"
   },
   {
    "duration": 63,
    "start_time": "2023-09-29T14:25:54.694Z"
   },
   {
    "duration": 10,
    "start_time": "2023-09-29T14:25:54.758Z"
   },
   {
    "duration": 992,
    "start_time": "2023-09-29T14:25:54.770Z"
   },
   {
    "duration": 4,
    "start_time": "2023-09-29T14:25:55.764Z"
   },
   {
    "duration": 36,
    "start_time": "2023-09-29T14:25:55.769Z"
   },
   {
    "duration": 8,
    "start_time": "2023-09-29T14:25:55.807Z"
   },
   {
    "duration": 39,
    "start_time": "2023-09-29T14:25:55.816Z"
   },
   {
    "duration": 11,
    "start_time": "2023-09-29T14:25:55.856Z"
   },
   {
    "duration": 15,
    "start_time": "2023-09-29T14:25:55.869Z"
   },
   {
    "duration": 10,
    "start_time": "2023-09-29T14:25:55.885Z"
   },
   {
    "duration": 14,
    "start_time": "2023-09-29T14:25:55.896Z"
   },
   {
    "duration": 19,
    "start_time": "2023-09-29T14:25:55.911Z"
   },
   {
    "duration": 22,
    "start_time": "2023-09-29T14:25:55.931Z"
   },
   {
    "duration": 13,
    "start_time": "2023-09-29T14:25:55.955Z"
   },
   {
    "duration": 114,
    "start_time": "2023-09-29T14:25:55.970Z"
   },
   {
    "duration": 0,
    "start_time": "2023-09-29T14:25:56.086Z"
   },
   {
    "duration": 0,
    "start_time": "2023-09-29T14:25:56.087Z"
   },
   {
    "duration": 0,
    "start_time": "2023-09-29T14:25:56.088Z"
   },
   {
    "duration": 0,
    "start_time": "2023-09-29T14:25:56.090Z"
   },
   {
    "duration": 0,
    "start_time": "2023-09-29T14:25:56.091Z"
   },
   {
    "duration": 0,
    "start_time": "2023-09-29T14:25:56.092Z"
   },
   {
    "duration": 0,
    "start_time": "2023-09-29T14:25:56.093Z"
   },
   {
    "duration": 0,
    "start_time": "2023-09-29T14:25:56.094Z"
   },
   {
    "duration": 0,
    "start_time": "2023-09-29T14:25:56.094Z"
   },
   {
    "duration": 0,
    "start_time": "2023-09-29T14:25:56.095Z"
   },
   {
    "duration": 0,
    "start_time": "2023-09-29T14:25:56.096Z"
   },
   {
    "duration": 0,
    "start_time": "2023-09-29T14:25:56.097Z"
   },
   {
    "duration": 0,
    "start_time": "2023-09-29T14:25:56.098Z"
   },
   {
    "duration": 0,
    "start_time": "2023-09-29T14:25:56.099Z"
   },
   {
    "duration": 0,
    "start_time": "2023-09-29T14:25:56.099Z"
   },
   {
    "duration": 0,
    "start_time": "2023-09-29T14:25:56.100Z"
   },
   {
    "duration": 0,
    "start_time": "2023-09-29T14:25:56.101Z"
   },
   {
    "duration": 0,
    "start_time": "2023-09-29T14:25:56.102Z"
   },
   {
    "duration": 0,
    "start_time": "2023-09-29T14:25:56.103Z"
   },
   {
    "duration": 1,
    "start_time": "2023-09-29T14:25:56.103Z"
   },
   {
    "duration": 0,
    "start_time": "2023-09-29T14:25:56.104Z"
   },
   {
    "duration": 0,
    "start_time": "2023-09-29T14:25:56.106Z"
   },
   {
    "duration": 0,
    "start_time": "2023-09-29T14:25:56.107Z"
   },
   {
    "duration": 0,
    "start_time": "2023-09-29T14:25:56.108Z"
   },
   {
    "duration": 0,
    "start_time": "2023-09-29T14:25:56.108Z"
   },
   {
    "duration": 0,
    "start_time": "2023-09-29T14:25:56.145Z"
   },
   {
    "duration": 0,
    "start_time": "2023-09-29T14:25:56.146Z"
   },
   {
    "duration": 0,
    "start_time": "2023-09-29T14:25:56.146Z"
   },
   {
    "duration": 0,
    "start_time": "2023-09-29T14:25:56.149Z"
   },
   {
    "duration": 0,
    "start_time": "2023-09-29T14:25:56.150Z"
   },
   {
    "duration": 0,
    "start_time": "2023-09-29T14:25:56.150Z"
   },
   {
    "duration": 0,
    "start_time": "2023-09-29T14:25:56.155Z"
   },
   {
    "duration": 0,
    "start_time": "2023-09-29T14:25:56.155Z"
   },
   {
    "duration": 11,
    "start_time": "2023-09-29T14:26:22.110Z"
   },
   {
    "duration": 134,
    "start_time": "2023-09-29T14:31:45.060Z"
   },
   {
    "duration": 37,
    "start_time": "2023-09-29T14:32:30.621Z"
   },
   {
    "duration": 32,
    "start_time": "2023-09-29T14:32:55.559Z"
   },
   {
    "duration": 33,
    "start_time": "2023-09-29T14:32:59.605Z"
   },
   {
    "duration": 11,
    "start_time": "2023-09-29T14:34:04.402Z"
   },
   {
    "duration": 12,
    "start_time": "2023-09-29T14:34:20.487Z"
   },
   {
    "duration": 130,
    "start_time": "2023-09-29T14:34:51.422Z"
   },
   {
    "duration": 125,
    "start_time": "2023-09-29T14:38:21.874Z"
   },
   {
    "duration": 11,
    "start_time": "2023-09-29T14:38:25.993Z"
   },
   {
    "duration": 9,
    "start_time": "2023-09-29T14:38:33.700Z"
   },
   {
    "duration": 11,
    "start_time": "2023-09-29T14:39:14.789Z"
   },
   {
    "duration": 16,
    "start_time": "2023-09-29T14:39:27.460Z"
   },
   {
    "duration": 15,
    "start_time": "2023-09-29T14:39:41.431Z"
   },
   {
    "duration": 2085,
    "start_time": "2023-09-29T14:39:46.930Z"
   },
   {
    "duration": 1285,
    "start_time": "2023-09-29T14:39:49.017Z"
   },
   {
    "duration": 41,
    "start_time": "2023-09-29T14:39:50.304Z"
   },
   {
    "duration": 7,
    "start_time": "2023-09-29T14:39:50.347Z"
   },
   {
    "duration": 36,
    "start_time": "2023-09-29T14:39:50.355Z"
   },
   {
    "duration": 14,
    "start_time": "2023-09-29T14:39:50.393Z"
   },
   {
    "duration": 80,
    "start_time": "2023-09-29T14:39:50.409Z"
   },
   {
    "duration": 20,
    "start_time": "2023-09-29T14:39:50.491Z"
   },
   {
    "duration": 1064,
    "start_time": "2023-09-29T14:39:50.514Z"
   },
   {
    "duration": 4,
    "start_time": "2023-09-29T14:39:51.580Z"
   },
   {
    "duration": 49,
    "start_time": "2023-09-29T14:39:51.586Z"
   },
   {
    "duration": 26,
    "start_time": "2023-09-29T14:39:51.636Z"
   },
   {
    "duration": 38,
    "start_time": "2023-09-29T14:39:51.664Z"
   },
   {
    "duration": 34,
    "start_time": "2023-09-29T14:39:51.705Z"
   },
   {
    "duration": 33,
    "start_time": "2023-09-29T14:39:51.741Z"
   },
   {
    "duration": 34,
    "start_time": "2023-09-29T14:39:51.776Z"
   },
   {
    "duration": 49,
    "start_time": "2023-09-29T14:39:51.812Z"
   },
   {
    "duration": 22,
    "start_time": "2023-09-29T14:39:51.863Z"
   },
   {
    "duration": 35,
    "start_time": "2023-09-29T14:39:51.886Z"
   },
   {
    "duration": 161,
    "start_time": "2023-09-29T14:39:51.923Z"
   },
   {
    "duration": 3,
    "start_time": "2023-09-29T14:39:52.086Z"
   },
   {
    "duration": 43,
    "start_time": "2023-09-29T14:39:52.091Z"
   },
   {
    "duration": 28,
    "start_time": "2023-09-29T14:39:52.135Z"
   },
   {
    "duration": 28,
    "start_time": "2023-09-29T14:39:52.165Z"
   },
   {
    "duration": 43,
    "start_time": "2023-09-29T14:39:52.194Z"
   },
   {
    "duration": 28,
    "start_time": "2023-09-29T14:39:52.239Z"
   },
   {
    "duration": 40,
    "start_time": "2023-09-29T14:39:52.268Z"
   },
   {
    "duration": 171,
    "start_time": "2023-09-29T14:39:52.310Z"
   },
   {
    "duration": 0,
    "start_time": "2023-09-29T14:39:52.483Z"
   },
   {
    "duration": 0,
    "start_time": "2023-09-29T14:39:52.484Z"
   },
   {
    "duration": 0,
    "start_time": "2023-09-29T14:39:52.485Z"
   },
   {
    "duration": 0,
    "start_time": "2023-09-29T14:39:52.487Z"
   },
   {
    "duration": 0,
    "start_time": "2023-09-29T14:39:52.488Z"
   },
   {
    "duration": 0,
    "start_time": "2023-09-29T14:39:52.489Z"
   },
   {
    "duration": 0,
    "start_time": "2023-09-29T14:39:52.490Z"
   },
   {
    "duration": 0,
    "start_time": "2023-09-29T14:39:52.491Z"
   },
   {
    "duration": 0,
    "start_time": "2023-09-29T14:39:52.492Z"
   },
   {
    "duration": 0,
    "start_time": "2023-09-29T14:39:52.493Z"
   },
   {
    "duration": 0,
    "start_time": "2023-09-29T14:39:52.494Z"
   },
   {
    "duration": 0,
    "start_time": "2023-09-29T14:39:52.494Z"
   },
   {
    "duration": 0,
    "start_time": "2023-09-29T14:39:52.496Z"
   },
   {
    "duration": 0,
    "start_time": "2023-09-29T14:39:52.497Z"
   },
   {
    "duration": 0,
    "start_time": "2023-09-29T14:39:52.498Z"
   },
   {
    "duration": 0,
    "start_time": "2023-09-29T14:39:52.499Z"
   },
   {
    "duration": 0,
    "start_time": "2023-09-29T14:39:52.500Z"
   },
   {
    "duration": 0,
    "start_time": "2023-09-29T14:39:52.501Z"
   },
   {
    "duration": 0,
    "start_time": "2023-09-29T14:39:52.502Z"
   },
   {
    "duration": 0,
    "start_time": "2023-09-29T14:39:52.503Z"
   },
   {
    "duration": 0,
    "start_time": "2023-09-29T14:39:52.504Z"
   },
   {
    "duration": 0,
    "start_time": "2023-09-29T14:39:52.505Z"
   },
   {
    "duration": 0,
    "start_time": "2023-09-29T14:39:52.505Z"
   },
   {
    "duration": 0,
    "start_time": "2023-09-29T14:39:52.545Z"
   },
   {
    "duration": 0,
    "start_time": "2023-09-29T14:39:52.546Z"
   },
   {
    "duration": 0,
    "start_time": "2023-09-29T14:39:52.547Z"
   },
   {
    "duration": 27,
    "start_time": "2023-09-29T14:40:35.456Z"
   },
   {
    "duration": 24,
    "start_time": "2023-09-29T14:40:43.650Z"
   },
   {
    "duration": 2053,
    "start_time": "2023-09-29T14:41:11.439Z"
   },
   {
    "duration": 1273,
    "start_time": "2023-09-29T14:41:13.494Z"
   },
   {
    "duration": 46,
    "start_time": "2023-09-29T14:41:14.769Z"
   },
   {
    "duration": 7,
    "start_time": "2023-09-29T14:41:14.818Z"
   },
   {
    "duration": 36,
    "start_time": "2023-09-29T14:41:14.827Z"
   },
   {
    "duration": 23,
    "start_time": "2023-09-29T14:41:14.865Z"
   },
   {
    "duration": 63,
    "start_time": "2023-09-29T14:41:14.890Z"
   },
   {
    "duration": 12,
    "start_time": "2023-09-29T14:41:14.955Z"
   },
   {
    "duration": 1078,
    "start_time": "2023-09-29T14:41:14.968Z"
   },
   {
    "duration": 4,
    "start_time": "2023-09-29T14:41:16.048Z"
   },
   {
    "duration": 20,
    "start_time": "2023-09-29T14:41:16.054Z"
   },
   {
    "duration": 17,
    "start_time": "2023-09-29T14:41:16.075Z"
   },
   {
    "duration": 13,
    "start_time": "2023-09-29T14:41:16.093Z"
   },
   {
    "duration": 6,
    "start_time": "2023-09-29T14:41:16.107Z"
   },
   {
    "duration": 8,
    "start_time": "2023-09-29T14:41:16.115Z"
   },
   {
    "duration": 12,
    "start_time": "2023-09-29T14:41:16.124Z"
   },
   {
    "duration": 12,
    "start_time": "2023-09-29T14:41:16.138Z"
   },
   {
    "duration": 14,
    "start_time": "2023-09-29T14:41:16.151Z"
   },
   {
    "duration": 4,
    "start_time": "2023-09-29T14:41:16.166Z"
   },
   {
    "duration": 132,
    "start_time": "2023-09-29T14:41:16.171Z"
   },
   {
    "duration": 2,
    "start_time": "2023-09-29T14:41:16.304Z"
   },
   {
    "duration": 6,
    "start_time": "2023-09-29T14:41:16.308Z"
   },
   {
    "duration": 4,
    "start_time": "2023-09-29T14:41:16.316Z"
   },
   {
    "duration": 4,
    "start_time": "2023-09-29T14:41:16.322Z"
   },
   {
    "duration": 6,
    "start_time": "2023-09-29T14:41:16.328Z"
   },
   {
    "duration": 3,
    "start_time": "2023-09-29T14:41:16.345Z"
   },
   {
    "duration": 8,
    "start_time": "2023-09-29T14:41:16.350Z"
   },
   {
    "duration": 27,
    "start_time": "2023-09-29T14:41:16.362Z"
   },
   {
    "duration": 2,
    "start_time": "2023-09-29T14:41:16.391Z"
   },
   {
    "duration": 140,
    "start_time": "2023-09-29T14:41:16.395Z"
   },
   {
    "duration": 0,
    "start_time": "2023-09-29T14:41:16.537Z"
   },
   {
    "duration": 0,
    "start_time": "2023-09-29T14:41:16.538Z"
   },
   {
    "duration": 0,
    "start_time": "2023-09-29T14:41:16.544Z"
   },
   {
    "duration": 0,
    "start_time": "2023-09-29T14:41:16.545Z"
   },
   {
    "duration": 0,
    "start_time": "2023-09-29T14:41:16.546Z"
   },
   {
    "duration": 0,
    "start_time": "2023-09-29T14:41:16.547Z"
   },
   {
    "duration": 0,
    "start_time": "2023-09-29T14:41:16.548Z"
   },
   {
    "duration": 0,
    "start_time": "2023-09-29T14:41:16.549Z"
   },
   {
    "duration": 0,
    "start_time": "2023-09-29T14:41:16.550Z"
   },
   {
    "duration": 0,
    "start_time": "2023-09-29T14:41:16.550Z"
   },
   {
    "duration": 0,
    "start_time": "2023-09-29T14:41:16.551Z"
   },
   {
    "duration": 0,
    "start_time": "2023-09-29T14:41:16.552Z"
   },
   {
    "duration": 0,
    "start_time": "2023-09-29T14:41:16.553Z"
   },
   {
    "duration": 0,
    "start_time": "2023-09-29T14:41:16.554Z"
   },
   {
    "duration": 0,
    "start_time": "2023-09-29T14:41:16.555Z"
   },
   {
    "duration": 0,
    "start_time": "2023-09-29T14:41:16.556Z"
   },
   {
    "duration": 0,
    "start_time": "2023-09-29T14:41:16.557Z"
   },
   {
    "duration": 0,
    "start_time": "2023-09-29T14:41:16.558Z"
   },
   {
    "duration": 0,
    "start_time": "2023-09-29T14:41:16.559Z"
   },
   {
    "duration": 0,
    "start_time": "2023-09-29T14:41:16.560Z"
   },
   {
    "duration": 0,
    "start_time": "2023-09-29T14:41:16.561Z"
   },
   {
    "duration": 0,
    "start_time": "2023-09-29T14:41:16.562Z"
   },
   {
    "duration": 0,
    "start_time": "2023-09-29T14:41:16.563Z"
   },
   {
    "duration": 0,
    "start_time": "2023-09-29T14:41:16.564Z"
   },
   {
    "duration": 5,
    "start_time": "2023-09-29T14:42:18.304Z"
   },
   {
    "duration": 3,
    "start_time": "2023-09-29T14:42:30.314Z"
   },
   {
    "duration": 15,
    "start_time": "2023-09-29T14:44:18.873Z"
   },
   {
    "duration": 36,
    "start_time": "2023-09-29T14:44:35.822Z"
   },
   {
    "duration": 15,
    "start_time": "2023-09-29T14:44:42.986Z"
   },
   {
    "duration": 6,
    "start_time": "2023-09-29T14:51:29.587Z"
   },
   {
    "duration": 2153,
    "start_time": "2023-09-29T14:51:32.731Z"
   },
   {
    "duration": 3,
    "start_time": "2023-09-29T14:53:08.121Z"
   },
   {
    "duration": 3,
    "start_time": "2023-09-29T14:53:56.016Z"
   },
   {
    "duration": 8,
    "start_time": "2023-09-29T14:54:28.863Z"
   },
   {
    "duration": 14,
    "start_time": "2023-09-29T14:57:11.910Z"
   },
   {
    "duration": 24,
    "start_time": "2023-09-29T14:57:58.468Z"
   },
   {
    "duration": 21,
    "start_time": "2023-09-29T14:58:47.919Z"
   },
   {
    "duration": 27,
    "start_time": "2023-09-29T15:01:13.669Z"
   },
   {
    "duration": 4,
    "start_time": "2023-09-29T15:01:52.060Z"
   },
   {
    "duration": 5,
    "start_time": "2023-09-29T15:02:13.662Z"
   },
   {
    "duration": 10,
    "start_time": "2023-09-29T15:03:14.875Z"
   },
   {
    "duration": 23,
    "start_time": "2023-09-29T15:06:47.065Z"
   },
   {
    "duration": 2068,
    "start_time": "2023-09-29T15:06:55.271Z"
   },
   {
    "duration": 1189,
    "start_time": "2023-09-29T15:06:57.341Z"
   },
   {
    "duration": 40,
    "start_time": "2023-09-29T15:06:58.532Z"
   },
   {
    "duration": 6,
    "start_time": "2023-09-29T15:06:58.573Z"
   },
   {
    "duration": 16,
    "start_time": "2023-09-29T15:06:58.581Z"
   },
   {
    "duration": 12,
    "start_time": "2023-09-29T15:06:58.598Z"
   },
   {
    "duration": 46,
    "start_time": "2023-09-29T15:06:58.611Z"
   },
   {
    "duration": 9,
    "start_time": "2023-09-29T15:06:58.659Z"
   },
   {
    "duration": 925,
    "start_time": "2023-09-29T15:06:58.669Z"
   },
   {
    "duration": 4,
    "start_time": "2023-09-29T15:06:59.595Z"
   },
   {
    "duration": 23,
    "start_time": "2023-09-29T15:06:59.601Z"
   },
   {
    "duration": 8,
    "start_time": "2023-09-29T15:06:59.626Z"
   },
   {
    "duration": 8,
    "start_time": "2023-09-29T15:06:59.635Z"
   },
   {
    "duration": 3,
    "start_time": "2023-09-29T15:06:59.646Z"
   },
   {
    "duration": 12,
    "start_time": "2023-09-29T15:06:59.650Z"
   },
   {
    "duration": 27,
    "start_time": "2023-09-29T15:06:59.664Z"
   },
   {
    "duration": 10,
    "start_time": "2023-09-29T15:06:59.692Z"
   },
   {
    "duration": 12,
    "start_time": "2023-09-29T15:06:59.703Z"
   },
   {
    "duration": 4,
    "start_time": "2023-09-29T15:06:59.716Z"
   },
   {
    "duration": 19,
    "start_time": "2023-09-29T15:06:59.722Z"
   },
   {
    "duration": 6,
    "start_time": "2023-09-29T15:06:59.742Z"
   },
   {
    "duration": 23,
    "start_time": "2023-09-29T15:06:59.749Z"
   },
   {
    "duration": 10,
    "start_time": "2023-09-29T15:06:59.774Z"
   },
   {
    "duration": 7,
    "start_time": "2023-09-29T15:06:59.785Z"
   },
   {
    "duration": 5,
    "start_time": "2023-09-29T15:06:59.793Z"
   },
   {
    "duration": 5,
    "start_time": "2023-09-29T15:06:59.799Z"
   },
   {
    "duration": 9,
    "start_time": "2023-09-29T15:06:59.805Z"
   },
   {
    "duration": 29,
    "start_time": "2023-09-29T15:06:59.815Z"
   },
   {
    "duration": 26,
    "start_time": "2023-09-29T15:06:59.846Z"
   },
   {
    "duration": 4,
    "start_time": "2023-09-29T15:06:59.873Z"
   },
   {
    "duration": 8,
    "start_time": "2023-09-29T15:06:59.878Z"
   },
   {
    "duration": 149,
    "start_time": "2023-09-29T15:06:59.887Z"
   },
   {
    "duration": 0,
    "start_time": "2023-09-29T15:07:00.045Z"
   },
   {
    "duration": 0,
    "start_time": "2023-09-29T15:07:00.046Z"
   },
   {
    "duration": 0,
    "start_time": "2023-09-29T15:07:00.047Z"
   },
   {
    "duration": 0,
    "start_time": "2023-09-29T15:07:00.049Z"
   },
   {
    "duration": 0,
    "start_time": "2023-09-29T15:07:00.050Z"
   },
   {
    "duration": 0,
    "start_time": "2023-09-29T15:07:00.051Z"
   },
   {
    "duration": 0,
    "start_time": "2023-09-29T15:07:00.052Z"
   },
   {
    "duration": 0,
    "start_time": "2023-09-29T15:07:00.053Z"
   },
   {
    "duration": 0,
    "start_time": "2023-09-29T15:07:00.054Z"
   },
   {
    "duration": 0,
    "start_time": "2023-09-29T15:07:00.055Z"
   },
   {
    "duration": 0,
    "start_time": "2023-09-29T15:07:00.057Z"
   },
   {
    "duration": 0,
    "start_time": "2023-09-29T15:07:00.058Z"
   },
   {
    "duration": 0,
    "start_time": "2023-09-29T15:07:00.059Z"
   },
   {
    "duration": 0,
    "start_time": "2023-09-29T15:07:00.060Z"
   },
   {
    "duration": 0,
    "start_time": "2023-09-29T15:07:00.062Z"
   },
   {
    "duration": 0,
    "start_time": "2023-09-29T15:07:00.063Z"
   },
   {
    "duration": 0,
    "start_time": "2023-09-29T15:07:00.064Z"
   },
   {
    "duration": 0,
    "start_time": "2023-09-29T15:07:00.065Z"
   },
   {
    "duration": 0,
    "start_time": "2023-09-29T15:07:00.066Z"
   },
   {
    "duration": 0,
    "start_time": "2023-09-29T15:07:00.067Z"
   },
   {
    "duration": 0,
    "start_time": "2023-09-29T15:07:00.068Z"
   },
   {
    "duration": 0,
    "start_time": "2023-09-29T15:07:00.069Z"
   },
   {
    "duration": 0,
    "start_time": "2023-09-29T15:07:00.070Z"
   },
   {
    "duration": 0,
    "start_time": "2023-09-29T15:07:00.071Z"
   },
   {
    "duration": 7932,
    "start_time": "2023-10-05T16:04:43.215Z"
   },
   {
    "duration": 1692,
    "start_time": "2023-10-05T16:04:51.150Z"
   },
   {
    "duration": 180,
    "start_time": "2023-10-05T16:04:52.845Z"
   },
   {
    "duration": 7,
    "start_time": "2023-10-05T16:04:53.028Z"
   },
   {
    "duration": 48,
    "start_time": "2023-10-05T16:04:53.036Z"
   },
   {
    "duration": 20,
    "start_time": "2023-10-05T16:04:53.086Z"
   },
   {
    "duration": 89,
    "start_time": "2023-10-05T16:04:53.108Z"
   },
   {
    "duration": 13,
    "start_time": "2023-10-05T16:04:53.199Z"
   },
   {
    "duration": 1277,
    "start_time": "2023-10-05T16:04:53.213Z"
   },
   {
    "duration": 6,
    "start_time": "2023-10-05T16:04:54.494Z"
   },
   {
    "duration": 63,
    "start_time": "2023-10-05T16:04:54.502Z"
   },
   {
    "duration": 28,
    "start_time": "2023-10-05T16:04:54.569Z"
   },
   {
    "duration": 21,
    "start_time": "2023-10-05T16:04:54.599Z"
   },
   {
    "duration": 24,
    "start_time": "2023-10-05T16:04:54.622Z"
   },
   {
    "duration": 31,
    "start_time": "2023-10-05T16:04:54.648Z"
   },
   {
    "duration": 28,
    "start_time": "2023-10-05T16:04:54.682Z"
   },
   {
    "duration": 41,
    "start_time": "2023-10-05T16:04:54.712Z"
   },
   {
    "duration": 33,
    "start_time": "2023-10-05T16:04:54.755Z"
   },
   {
    "duration": 13,
    "start_time": "2023-10-05T16:04:54.791Z"
   },
   {
    "duration": 16,
    "start_time": "2023-10-05T16:04:54.808Z"
   },
   {
    "duration": 36,
    "start_time": "2023-10-05T16:04:54.826Z"
   },
   {
    "duration": 42,
    "start_time": "2023-10-05T16:04:54.864Z"
   },
   {
    "duration": 21,
    "start_time": "2023-10-05T16:04:54.907Z"
   },
   {
    "duration": 38,
    "start_time": "2023-10-05T16:04:54.931Z"
   },
   {
    "duration": 93,
    "start_time": "2023-10-05T16:04:54.972Z"
   },
   {
    "duration": 24,
    "start_time": "2023-10-05T16:04:55.076Z"
   },
   {
    "duration": 17,
    "start_time": "2023-10-05T16:04:55.102Z"
   },
   {
    "duration": 86,
    "start_time": "2023-10-05T16:04:55.123Z"
   },
   {
    "duration": 31,
    "start_time": "2023-10-05T16:04:55.211Z"
   },
   {
    "duration": 28,
    "start_time": "2023-10-05T16:04:55.244Z"
   },
   {
    "duration": 19,
    "start_time": "2023-10-05T16:04:55.275Z"
   },
   {
    "duration": 189,
    "start_time": "2023-10-05T16:04:55.295Z"
   },
   {
    "duration": 0,
    "start_time": "2023-10-05T16:04:55.486Z"
   },
   {
    "duration": 0,
    "start_time": "2023-10-05T16:04:55.489Z"
   },
   {
    "duration": 0,
    "start_time": "2023-10-05T16:04:55.490Z"
   },
   {
    "duration": 0,
    "start_time": "2023-10-05T16:04:55.492Z"
   },
   {
    "duration": 0,
    "start_time": "2023-10-05T16:04:55.494Z"
   },
   {
    "duration": 0,
    "start_time": "2023-10-05T16:04:55.496Z"
   },
   {
    "duration": 0,
    "start_time": "2023-10-05T16:04:55.497Z"
   },
   {
    "duration": 0,
    "start_time": "2023-10-05T16:04:55.499Z"
   },
   {
    "duration": 0,
    "start_time": "2023-10-05T16:04:55.501Z"
   },
   {
    "duration": 0,
    "start_time": "2023-10-05T16:04:55.502Z"
   },
   {
    "duration": 0,
    "start_time": "2023-10-05T16:04:55.504Z"
   },
   {
    "duration": 0,
    "start_time": "2023-10-05T16:04:55.506Z"
   },
   {
    "duration": 0,
    "start_time": "2023-10-05T16:04:55.507Z"
   },
   {
    "duration": 1,
    "start_time": "2023-10-05T16:04:55.508Z"
   },
   {
    "duration": 0,
    "start_time": "2023-10-05T16:04:55.510Z"
   },
   {
    "duration": 0,
    "start_time": "2023-10-05T16:04:55.568Z"
   },
   {
    "duration": 0,
    "start_time": "2023-10-05T16:04:55.574Z"
   },
   {
    "duration": 0,
    "start_time": "2023-10-05T16:04:55.576Z"
   },
   {
    "duration": 0,
    "start_time": "2023-10-05T16:04:55.578Z"
   },
   {
    "duration": 0,
    "start_time": "2023-10-05T16:04:55.579Z"
   },
   {
    "duration": 0,
    "start_time": "2023-10-05T16:04:55.581Z"
   },
   {
    "duration": 0,
    "start_time": "2023-10-05T16:04:55.583Z"
   },
   {
    "duration": 0,
    "start_time": "2023-10-05T16:04:55.585Z"
   },
   {
    "duration": 0,
    "start_time": "2023-10-05T16:04:55.587Z"
   },
   {
    "duration": 2774,
    "start_time": "2023-10-05T16:16:46.917Z"
   },
   {
    "duration": 1549,
    "start_time": "2023-10-05T16:16:49.695Z"
   },
   {
    "duration": 45,
    "start_time": "2023-10-05T16:16:51.246Z"
   },
   {
    "duration": 8,
    "start_time": "2023-10-05T16:16:51.293Z"
   },
   {
    "duration": 41,
    "start_time": "2023-10-05T16:16:51.304Z"
   },
   {
    "duration": 13,
    "start_time": "2023-10-05T16:16:51.348Z"
   },
   {
    "duration": 69,
    "start_time": "2023-10-05T16:16:51.363Z"
   },
   {
    "duration": 26,
    "start_time": "2023-10-05T16:16:51.434Z"
   },
   {
    "duration": 1147,
    "start_time": "2023-10-05T16:16:51.462Z"
   },
   {
    "duration": 7,
    "start_time": "2023-10-05T16:16:52.614Z"
   },
   {
    "duration": 34,
    "start_time": "2023-10-05T16:16:52.623Z"
   },
   {
    "duration": 37,
    "start_time": "2023-10-05T16:16:52.659Z"
   },
   {
    "duration": 7,
    "start_time": "2023-10-05T16:16:52.699Z"
   },
   {
    "duration": 30,
    "start_time": "2023-10-05T16:16:52.708Z"
   },
   {
    "duration": 24,
    "start_time": "2023-10-05T16:16:52.740Z"
   },
   {
    "duration": 20,
    "start_time": "2023-10-05T16:16:52.767Z"
   },
   {
    "duration": 19,
    "start_time": "2023-10-05T16:16:52.791Z"
   },
   {
    "duration": 21,
    "start_time": "2023-10-05T16:16:52.813Z"
   },
   {
    "duration": 31,
    "start_time": "2023-10-05T16:16:52.837Z"
   },
   {
    "duration": 37,
    "start_time": "2023-10-05T16:16:52.870Z"
   },
   {
    "duration": 9,
    "start_time": "2023-10-05T16:16:52.910Z"
   },
   {
    "duration": 28,
    "start_time": "2023-10-05T16:16:52.922Z"
   },
   {
    "duration": 3,
    "start_time": "2023-10-05T16:16:52.953Z"
   },
   {
    "duration": 9,
    "start_time": "2023-10-05T16:16:52.958Z"
   },
   {
    "duration": 20,
    "start_time": "2023-10-05T16:16:52.969Z"
   },
   {
    "duration": 15,
    "start_time": "2023-10-05T16:16:52.992Z"
   },
   {
    "duration": 29,
    "start_time": "2023-10-05T16:16:53.010Z"
   },
   {
    "duration": 56,
    "start_time": "2023-10-05T16:16:53.045Z"
   },
   {
    "duration": 39,
    "start_time": "2023-10-05T16:16:53.104Z"
   },
   {
    "duration": 15,
    "start_time": "2023-10-05T16:16:53.145Z"
   },
   {
    "duration": 20,
    "start_time": "2023-10-05T16:16:53.162Z"
   },
   {
    "duration": 217,
    "start_time": "2023-10-05T16:16:53.184Z"
   },
   {
    "duration": 0,
    "start_time": "2023-10-05T16:16:53.404Z"
   },
   {
    "duration": 0,
    "start_time": "2023-10-05T16:16:53.406Z"
   },
   {
    "duration": 0,
    "start_time": "2023-10-05T16:16:53.408Z"
   },
   {
    "duration": 0,
    "start_time": "2023-10-05T16:16:53.409Z"
   },
   {
    "duration": 0,
    "start_time": "2023-10-05T16:16:53.411Z"
   },
   {
    "duration": 0,
    "start_time": "2023-10-05T16:16:53.412Z"
   },
   {
    "duration": 0,
    "start_time": "2023-10-05T16:16:53.414Z"
   },
   {
    "duration": 0,
    "start_time": "2023-10-05T16:16:53.416Z"
   },
   {
    "duration": 0,
    "start_time": "2023-10-05T16:16:53.418Z"
   },
   {
    "duration": 0,
    "start_time": "2023-10-05T16:16:53.420Z"
   },
   {
    "duration": 0,
    "start_time": "2023-10-05T16:16:53.421Z"
   },
   {
    "duration": 0,
    "start_time": "2023-10-05T16:16:53.457Z"
   },
   {
    "duration": 0,
    "start_time": "2023-10-05T16:16:53.459Z"
   },
   {
    "duration": 0,
    "start_time": "2023-10-05T16:16:53.461Z"
   },
   {
    "duration": 0,
    "start_time": "2023-10-05T16:16:53.462Z"
   },
   {
    "duration": 0,
    "start_time": "2023-10-05T16:16:53.465Z"
   },
   {
    "duration": 0,
    "start_time": "2023-10-05T16:16:53.466Z"
   },
   {
    "duration": 0,
    "start_time": "2023-10-05T16:16:53.468Z"
   },
   {
    "duration": 0,
    "start_time": "2023-10-05T16:16:53.470Z"
   },
   {
    "duration": 0,
    "start_time": "2023-10-05T16:16:53.471Z"
   },
   {
    "duration": 0,
    "start_time": "2023-10-05T16:16:53.472Z"
   },
   {
    "duration": 0,
    "start_time": "2023-10-05T16:16:53.474Z"
   },
   {
    "duration": 0,
    "start_time": "2023-10-05T16:16:53.477Z"
   },
   {
    "duration": 0,
    "start_time": "2023-10-05T16:16:53.479Z"
   },
   {
    "duration": 2508,
    "start_time": "2023-10-05T16:18:36.074Z"
   },
   {
    "duration": 1572,
    "start_time": "2023-10-05T16:18:38.585Z"
   },
   {
    "duration": 45,
    "start_time": "2023-10-05T16:18:40.160Z"
   },
   {
    "duration": 9,
    "start_time": "2023-10-05T16:18:40.207Z"
   },
   {
    "duration": 50,
    "start_time": "2023-10-05T16:18:40.218Z"
   },
   {
    "duration": 25,
    "start_time": "2023-10-05T16:18:40.271Z"
   },
   {
    "duration": 67,
    "start_time": "2023-10-05T16:18:40.298Z"
   },
   {
    "duration": 17,
    "start_time": "2023-10-05T16:18:40.367Z"
   },
   {
    "duration": 1247,
    "start_time": "2023-10-05T16:18:40.387Z"
   },
   {
    "duration": 7,
    "start_time": "2023-10-05T16:18:41.638Z"
   },
   {
    "duration": 12,
    "start_time": "2023-10-05T16:18:41.647Z"
   },
   {
    "duration": 18,
    "start_time": "2023-10-05T16:18:41.661Z"
   },
   {
    "duration": 8,
    "start_time": "2023-10-05T16:18:41.681Z"
   },
   {
    "duration": 21,
    "start_time": "2023-10-05T16:18:41.691Z"
   },
   {
    "duration": 9,
    "start_time": "2023-10-05T16:18:41.714Z"
   },
   {
    "duration": 8,
    "start_time": "2023-10-05T16:18:41.725Z"
   },
   {
    "duration": 42,
    "start_time": "2023-10-05T16:18:41.735Z"
   },
   {
    "duration": 33,
    "start_time": "2023-10-05T16:18:41.780Z"
   },
   {
    "duration": 5,
    "start_time": "2023-10-05T16:18:41.816Z"
   },
   {
    "duration": 24,
    "start_time": "2023-10-05T16:18:41.823Z"
   },
   {
    "duration": 58,
    "start_time": "2023-10-05T16:18:41.849Z"
   },
   {
    "duration": 39,
    "start_time": "2023-10-05T16:18:41.909Z"
   },
   {
    "duration": 33,
    "start_time": "2023-10-05T16:18:41.950Z"
   },
   {
    "duration": 12,
    "start_time": "2023-10-05T16:18:41.986Z"
   },
   {
    "duration": 30,
    "start_time": "2023-10-05T16:18:42.001Z"
   },
   {
    "duration": 44,
    "start_time": "2023-10-05T16:18:42.034Z"
   },
   {
    "duration": 29,
    "start_time": "2023-10-05T16:18:42.080Z"
   },
   {
    "duration": 68,
    "start_time": "2023-10-05T16:18:42.115Z"
   },
   {
    "duration": 29,
    "start_time": "2023-10-05T16:18:42.185Z"
   },
   {
    "duration": 12,
    "start_time": "2023-10-05T16:18:42.216Z"
   },
   {
    "duration": 30,
    "start_time": "2023-10-05T16:18:42.231Z"
   },
   {
    "duration": 15171,
    "start_time": "2023-10-05T16:18:42.263Z"
   },
   {
    "duration": 149,
    "start_time": "2023-10-05T16:18:57.437Z"
   },
   {
    "duration": 0,
    "start_time": "2023-10-05T16:18:57.589Z"
   },
   {
    "duration": 0,
    "start_time": "2023-10-05T16:18:57.590Z"
   },
   {
    "duration": 0,
    "start_time": "2023-10-05T16:18:57.592Z"
   },
   {
    "duration": 0,
    "start_time": "2023-10-05T16:18:57.594Z"
   },
   {
    "duration": 0,
    "start_time": "2023-10-05T16:18:57.596Z"
   },
   {
    "duration": 0,
    "start_time": "2023-10-05T16:18:57.597Z"
   },
   {
    "duration": 0,
    "start_time": "2023-10-05T16:18:57.599Z"
   },
   {
    "duration": 0,
    "start_time": "2023-10-05T16:18:57.600Z"
   },
   {
    "duration": 0,
    "start_time": "2023-10-05T16:18:57.602Z"
   },
   {
    "duration": 0,
    "start_time": "2023-10-05T16:18:57.603Z"
   },
   {
    "duration": 0,
    "start_time": "2023-10-05T16:18:57.605Z"
   },
   {
    "duration": 0,
    "start_time": "2023-10-05T16:18:57.607Z"
   },
   {
    "duration": 0,
    "start_time": "2023-10-05T16:18:57.609Z"
   },
   {
    "duration": 0,
    "start_time": "2023-10-05T16:18:57.610Z"
   },
   {
    "duration": 0,
    "start_time": "2023-10-05T16:18:57.611Z"
   },
   {
    "duration": 0,
    "start_time": "2023-10-05T16:18:57.613Z"
   },
   {
    "duration": 0,
    "start_time": "2023-10-05T16:18:57.657Z"
   },
   {
    "duration": 0,
    "start_time": "2023-10-05T16:18:57.659Z"
   },
   {
    "duration": 0,
    "start_time": "2023-10-05T16:18:57.660Z"
   },
   {
    "duration": 0,
    "start_time": "2023-10-05T16:18:57.662Z"
   },
   {
    "duration": 0,
    "start_time": "2023-10-05T16:18:57.664Z"
   },
   {
    "duration": 0,
    "start_time": "2023-10-05T16:18:57.666Z"
   },
   {
    "duration": 0,
    "start_time": "2023-10-05T16:18:57.667Z"
   },
   {
    "duration": 2719,
    "start_time": "2023-10-05T16:27:40.069Z"
   },
   {
    "duration": 1513,
    "start_time": "2023-10-05T16:27:42.790Z"
   },
   {
    "duration": 55,
    "start_time": "2023-10-05T16:27:44.305Z"
   },
   {
    "duration": 10,
    "start_time": "2023-10-05T16:27:44.362Z"
   },
   {
    "duration": 28,
    "start_time": "2023-10-05T16:27:44.375Z"
   },
   {
    "duration": 17,
    "start_time": "2023-10-05T16:27:44.406Z"
   },
   {
    "duration": 95,
    "start_time": "2023-10-05T16:27:44.426Z"
   },
   {
    "duration": 16,
    "start_time": "2023-10-05T16:27:44.524Z"
   },
   {
    "duration": 1184,
    "start_time": "2023-10-05T16:27:44.542Z"
   },
   {
    "duration": 5,
    "start_time": "2023-10-05T16:27:45.728Z"
   },
   {
    "duration": 24,
    "start_time": "2023-10-05T16:27:45.736Z"
   },
   {
    "duration": 20,
    "start_time": "2023-10-05T16:27:45.761Z"
   },
   {
    "duration": 34,
    "start_time": "2023-10-05T16:27:45.783Z"
   },
   {
    "duration": 16,
    "start_time": "2023-10-05T16:27:45.821Z"
   },
   {
    "duration": 15,
    "start_time": "2023-10-05T16:27:45.840Z"
   },
   {
    "duration": 22,
    "start_time": "2023-10-05T16:27:45.858Z"
   },
   {
    "duration": 23,
    "start_time": "2023-10-05T16:27:45.883Z"
   },
   {
    "duration": 20,
    "start_time": "2023-10-05T16:27:45.908Z"
   },
   {
    "duration": 18,
    "start_time": "2023-10-05T16:27:45.930Z"
   },
   {
    "duration": 10,
    "start_time": "2023-10-05T16:27:45.950Z"
   },
   {
    "duration": 27,
    "start_time": "2023-10-05T16:27:45.961Z"
   },
   {
    "duration": 44,
    "start_time": "2023-10-05T16:27:45.990Z"
   },
   {
    "duration": 33,
    "start_time": "2023-10-05T16:27:46.036Z"
   },
   {
    "duration": 33,
    "start_time": "2023-10-05T16:27:46.071Z"
   },
   {
    "duration": 5,
    "start_time": "2023-10-05T16:27:46.105Z"
   },
   {
    "duration": 148,
    "start_time": "2023-10-05T16:27:46.112Z"
   },
   {
    "duration": 0,
    "start_time": "2023-10-05T16:27:46.262Z"
   },
   {
    "duration": 0,
    "start_time": "2023-10-05T16:27:46.264Z"
   },
   {
    "duration": 0,
    "start_time": "2023-10-05T16:27:46.265Z"
   },
   {
    "duration": 0,
    "start_time": "2023-10-05T16:27:46.266Z"
   },
   {
    "duration": 0,
    "start_time": "2023-10-05T16:27:46.268Z"
   },
   {
    "duration": 0,
    "start_time": "2023-10-05T16:27:46.269Z"
   },
   {
    "duration": 0,
    "start_time": "2023-10-05T16:27:46.271Z"
   },
   {
    "duration": 0,
    "start_time": "2023-10-05T16:27:46.272Z"
   },
   {
    "duration": 0,
    "start_time": "2023-10-05T16:27:46.274Z"
   },
   {
    "duration": 0,
    "start_time": "2023-10-05T16:27:46.276Z"
   },
   {
    "duration": 0,
    "start_time": "2023-10-05T16:27:46.277Z"
   },
   {
    "duration": 0,
    "start_time": "2023-10-05T16:27:46.279Z"
   },
   {
    "duration": 0,
    "start_time": "2023-10-05T16:27:46.280Z"
   },
   {
    "duration": 0,
    "start_time": "2023-10-05T16:27:46.281Z"
   },
   {
    "duration": 0,
    "start_time": "2023-10-05T16:27:46.283Z"
   },
   {
    "duration": 0,
    "start_time": "2023-10-05T16:27:46.284Z"
   },
   {
    "duration": 0,
    "start_time": "2023-10-05T16:27:46.285Z"
   },
   {
    "duration": 0,
    "start_time": "2023-10-05T16:27:46.286Z"
   },
   {
    "duration": 0,
    "start_time": "2023-10-05T16:27:46.287Z"
   },
   {
    "duration": 0,
    "start_time": "2023-10-05T16:27:46.288Z"
   },
   {
    "duration": 0,
    "start_time": "2023-10-05T16:27:46.290Z"
   },
   {
    "duration": 0,
    "start_time": "2023-10-05T16:27:46.291Z"
   },
   {
    "duration": 0,
    "start_time": "2023-10-05T16:27:46.292Z"
   },
   {
    "duration": 0,
    "start_time": "2023-10-05T16:27:46.293Z"
   },
   {
    "duration": 0,
    "start_time": "2023-10-05T16:27:46.295Z"
   },
   {
    "duration": 17,
    "start_time": "2023-10-05T16:28:33.070Z"
   },
   {
    "duration": 20,
    "start_time": "2023-10-05T16:28:58.627Z"
   },
   {
    "duration": 3703,
    "start_time": "2023-10-05T16:29:03.424Z"
   },
   {
    "duration": 1879,
    "start_time": "2023-10-05T16:29:07.131Z"
   },
   {
    "duration": 55,
    "start_time": "2023-10-05T16:29:09.012Z"
   },
   {
    "duration": 11,
    "start_time": "2023-10-05T16:29:09.070Z"
   },
   {
    "duration": 28,
    "start_time": "2023-10-05T16:29:09.084Z"
   },
   {
    "duration": 44,
    "start_time": "2023-10-05T16:29:09.114Z"
   },
   {
    "duration": 81,
    "start_time": "2023-10-05T16:29:09.161Z"
   },
   {
    "duration": 26,
    "start_time": "2023-10-05T16:29:09.244Z"
   },
   {
    "duration": 1630,
    "start_time": "2023-10-05T16:29:09.272Z"
   },
   {
    "duration": 6,
    "start_time": "2023-10-05T16:29:10.910Z"
   },
   {
    "duration": 27,
    "start_time": "2023-10-05T16:29:10.918Z"
   },
   {
    "duration": 13,
    "start_time": "2023-10-05T16:29:10.948Z"
   },
   {
    "duration": 13,
    "start_time": "2023-10-05T16:29:10.963Z"
   },
   {
    "duration": 12,
    "start_time": "2023-10-05T16:29:10.979Z"
   },
   {
    "duration": 10,
    "start_time": "2023-10-05T16:29:10.993Z"
   },
   {
    "duration": 4,
    "start_time": "2023-10-05T16:29:11.005Z"
   },
   {
    "duration": 12,
    "start_time": "2023-10-05T16:29:11.012Z"
   },
   {
    "duration": 43,
    "start_time": "2023-10-05T16:29:11.026Z"
   },
   {
    "duration": 5,
    "start_time": "2023-10-05T16:29:11.071Z"
   },
   {
    "duration": 8,
    "start_time": "2023-10-05T16:29:11.078Z"
   },
   {
    "duration": 5,
    "start_time": "2023-10-05T16:29:11.088Z"
   },
   {
    "duration": 29,
    "start_time": "2023-10-05T16:29:11.095Z"
   },
   {
    "duration": 76,
    "start_time": "2023-10-05T16:29:11.126Z"
   },
   {
    "duration": 61,
    "start_time": "2023-10-05T16:29:11.206Z"
   },
   {
    "duration": 10,
    "start_time": "2023-10-05T16:29:11.270Z"
   },
   {
    "duration": 204,
    "start_time": "2023-10-05T16:29:11.283Z"
   },
   {
    "duration": 0,
    "start_time": "2023-10-05T16:29:11.490Z"
   },
   {
    "duration": 0,
    "start_time": "2023-10-05T16:29:11.492Z"
   },
   {
    "duration": 0,
    "start_time": "2023-10-05T16:29:11.493Z"
   },
   {
    "duration": 0,
    "start_time": "2023-10-05T16:29:11.494Z"
   },
   {
    "duration": 0,
    "start_time": "2023-10-05T16:29:11.495Z"
   },
   {
    "duration": 0,
    "start_time": "2023-10-05T16:29:11.497Z"
   },
   {
    "duration": 0,
    "start_time": "2023-10-05T16:29:11.498Z"
   },
   {
    "duration": 0,
    "start_time": "2023-10-05T16:29:11.500Z"
   },
   {
    "duration": 0,
    "start_time": "2023-10-05T16:29:11.502Z"
   },
   {
    "duration": 0,
    "start_time": "2023-10-05T16:29:11.503Z"
   },
   {
    "duration": 0,
    "start_time": "2023-10-05T16:29:11.505Z"
   },
   {
    "duration": 0,
    "start_time": "2023-10-05T16:29:11.506Z"
   },
   {
    "duration": 0,
    "start_time": "2023-10-05T16:29:11.508Z"
   },
   {
    "duration": 0,
    "start_time": "2023-10-05T16:29:11.509Z"
   },
   {
    "duration": 0,
    "start_time": "2023-10-05T16:29:11.510Z"
   },
   {
    "duration": 0,
    "start_time": "2023-10-05T16:29:11.511Z"
   },
   {
    "duration": 0,
    "start_time": "2023-10-05T16:29:11.512Z"
   },
   {
    "duration": 0,
    "start_time": "2023-10-05T16:29:11.514Z"
   },
   {
    "duration": 0,
    "start_time": "2023-10-05T16:29:11.515Z"
   },
   {
    "duration": 0,
    "start_time": "2023-10-05T16:29:11.556Z"
   },
   {
    "duration": 0,
    "start_time": "2023-10-05T16:29:11.558Z"
   },
   {
    "duration": 0,
    "start_time": "2023-10-05T16:29:11.561Z"
   },
   {
    "duration": 0,
    "start_time": "2023-10-05T16:29:11.562Z"
   },
   {
    "duration": 0,
    "start_time": "2023-10-05T16:29:11.564Z"
   },
   {
    "duration": 0,
    "start_time": "2023-10-05T16:29:11.565Z"
   },
   {
    "duration": 68,
    "start_time": "2023-10-05T16:30:08.847Z"
   },
   {
    "duration": 8,
    "start_time": "2023-10-05T16:30:45.896Z"
   },
   {
    "duration": 7,
    "start_time": "2023-10-05T16:30:52.257Z"
   },
   {
    "duration": 8695,
    "start_time": "2023-10-06T15:14:09.562Z"
   },
   {
    "duration": 1449,
    "start_time": "2023-10-06T15:14:18.259Z"
   },
   {
    "duration": 100,
    "start_time": "2023-10-06T15:14:19.709Z"
   },
   {
    "duration": 5,
    "start_time": "2023-10-06T15:14:19.811Z"
   },
   {
    "duration": 15,
    "start_time": "2023-10-06T15:14:19.817Z"
   },
   {
    "duration": 26,
    "start_time": "2023-10-06T15:14:19.833Z"
   },
   {
    "duration": 52,
    "start_time": "2023-10-06T15:14:19.860Z"
   },
   {
    "duration": 9,
    "start_time": "2023-10-06T15:14:19.913Z"
   },
   {
    "duration": 1009,
    "start_time": "2023-10-06T15:14:19.923Z"
   },
   {
    "duration": 4,
    "start_time": "2023-10-06T15:14:20.934Z"
   },
   {
    "duration": 22,
    "start_time": "2023-10-06T15:14:20.940Z"
   },
   {
    "duration": 20,
    "start_time": "2023-10-06T15:14:20.963Z"
   },
   {
    "duration": 21,
    "start_time": "2023-10-06T15:14:20.988Z"
   },
   {
    "duration": 27,
    "start_time": "2023-10-06T15:14:21.010Z"
   },
   {
    "duration": 30,
    "start_time": "2023-10-06T15:14:21.038Z"
   },
   {
    "duration": 13,
    "start_time": "2023-10-06T15:14:21.076Z"
   },
   {
    "duration": 19,
    "start_time": "2023-10-06T15:14:21.091Z"
   },
   {
    "duration": 49,
    "start_time": "2023-10-06T15:14:21.111Z"
   },
   {
    "duration": 26,
    "start_time": "2023-10-06T15:14:21.170Z"
   },
   {
    "duration": 8,
    "start_time": "2023-10-06T15:14:21.198Z"
   },
   {
    "duration": 16,
    "start_time": "2023-10-06T15:14:21.207Z"
   },
   {
    "duration": 56,
    "start_time": "2023-10-06T15:14:21.224Z"
   },
   {
    "duration": 30,
    "start_time": "2023-10-06T15:14:21.281Z"
   },
   {
    "duration": 21,
    "start_time": "2023-10-06T15:14:21.313Z"
   },
   {
    "duration": 26,
    "start_time": "2023-10-06T15:14:21.336Z"
   },
   {
    "duration": 158,
    "start_time": "2023-10-06T15:14:21.375Z"
   },
   {
    "duration": 0,
    "start_time": "2023-10-06T15:14:21.535Z"
   },
   {
    "duration": 0,
    "start_time": "2023-10-06T15:14:21.536Z"
   },
   {
    "duration": 0,
    "start_time": "2023-10-06T15:14:21.537Z"
   },
   {
    "duration": 0,
    "start_time": "2023-10-06T15:14:21.538Z"
   },
   {
    "duration": 0,
    "start_time": "2023-10-06T15:14:21.539Z"
   },
   {
    "duration": 0,
    "start_time": "2023-10-06T15:14:21.539Z"
   },
   {
    "duration": 0,
    "start_time": "2023-10-06T15:14:21.540Z"
   },
   {
    "duration": 0,
    "start_time": "2023-10-06T15:14:21.540Z"
   },
   {
    "duration": 0,
    "start_time": "2023-10-06T15:14:21.541Z"
   },
   {
    "duration": 0,
    "start_time": "2023-10-06T15:14:21.541Z"
   },
   {
    "duration": 0,
    "start_time": "2023-10-06T15:14:21.542Z"
   },
   {
    "duration": 0,
    "start_time": "2023-10-06T15:14:21.542Z"
   },
   {
    "duration": 0,
    "start_time": "2023-10-06T15:14:21.543Z"
   },
   {
    "duration": 0,
    "start_time": "2023-10-06T15:14:21.544Z"
   },
   {
    "duration": 0,
    "start_time": "2023-10-06T15:14:21.544Z"
   },
   {
    "duration": 0,
    "start_time": "2023-10-06T15:14:21.545Z"
   },
   {
    "duration": 0,
    "start_time": "2023-10-06T15:14:21.546Z"
   },
   {
    "duration": 0,
    "start_time": "2023-10-06T15:14:21.548Z"
   },
   {
    "duration": 0,
    "start_time": "2023-10-06T15:14:21.548Z"
   },
   {
    "duration": 0,
    "start_time": "2023-10-06T15:14:21.549Z"
   },
   {
    "duration": 0,
    "start_time": "2023-10-06T15:14:21.549Z"
   },
   {
    "duration": 0,
    "start_time": "2023-10-06T15:14:21.550Z"
   },
   {
    "duration": 0,
    "start_time": "2023-10-06T15:14:21.550Z"
   },
   {
    "duration": 0,
    "start_time": "2023-10-06T15:14:21.551Z"
   },
   {
    "duration": 61,
    "start_time": "2023-10-06T15:23:03.127Z"
   },
   {
    "duration": 4,
    "start_time": "2023-10-06T15:23:05.114Z"
   },
   {
    "duration": 13635,
    "start_time": "2023-10-06T15:23:09.504Z"
   },
   {
    "duration": 38639,
    "start_time": "2023-10-06T15:24:16.641Z"
   },
   {
    "duration": 58,
    "start_time": "2023-10-06T15:25:27.336Z"
   },
   {
    "duration": 47,
    "start_time": "2023-10-06T15:25:41.533Z"
   },
   {
    "duration": 20,
    "start_time": "2023-10-06T15:25:56.288Z"
   },
   {
    "duration": 333,
    "start_time": "2023-10-06T15:26:28.597Z"
   },
   {
    "duration": 5,
    "start_time": "2023-10-06T15:26:45.088Z"
   },
   {
    "duration": 7,
    "start_time": "2023-10-06T15:26:45.983Z"
   },
   {
    "duration": 374,
    "start_time": "2023-10-06T15:27:18.609Z"
   },
   {
    "duration": 4,
    "start_time": "2023-10-06T15:29:45.530Z"
   },
   {
    "duration": 151368,
    "start_time": "2023-10-06T15:41:39.600Z"
   },
   {
    "duration": 6983,
    "start_time": "2023-10-09T14:21:35.465Z"
   },
   {
    "duration": 1342,
    "start_time": "2023-10-09T14:21:42.450Z"
   },
   {
    "duration": 81,
    "start_time": "2023-10-09T14:21:43.794Z"
   },
   {
    "duration": 6,
    "start_time": "2023-10-09T14:21:43.877Z"
   },
   {
    "duration": 15,
    "start_time": "2023-10-09T14:21:43.884Z"
   },
   {
    "duration": 10,
    "start_time": "2023-10-09T14:21:43.901Z"
   },
   {
    "duration": 41,
    "start_time": "2023-10-09T14:21:43.912Z"
   },
   {
    "duration": 10,
    "start_time": "2023-10-09T14:21:43.954Z"
   },
   {
    "duration": 883,
    "start_time": "2023-10-09T14:21:43.966Z"
   },
   {
    "duration": 3,
    "start_time": "2023-10-09T14:21:44.852Z"
   },
   {
    "duration": 4,
    "start_time": "2023-10-09T14:21:44.857Z"
   },
   {
    "duration": 6,
    "start_time": "2023-10-09T14:21:44.862Z"
   },
   {
    "duration": 7,
    "start_time": "2023-10-09T14:21:44.869Z"
   },
   {
    "duration": 5,
    "start_time": "2023-10-09T14:21:44.877Z"
   },
   {
    "duration": 4,
    "start_time": "2023-10-09T14:21:44.883Z"
   },
   {
    "duration": 4,
    "start_time": "2023-10-09T14:21:44.889Z"
   },
   {
    "duration": 9,
    "start_time": "2023-10-09T14:21:44.895Z"
   },
   {
    "duration": 3,
    "start_time": "2023-10-09T14:21:44.905Z"
   },
   {
    "duration": 5,
    "start_time": "2023-10-09T14:21:44.909Z"
   },
   {
    "duration": 2,
    "start_time": "2023-10-09T14:21:44.939Z"
   },
   {
    "duration": 14,
    "start_time": "2023-10-09T14:21:44.943Z"
   },
   {
    "duration": 25,
    "start_time": "2023-10-09T14:21:44.958Z"
   },
   {
    "duration": 26,
    "start_time": "2023-10-09T14:21:44.984Z"
   },
   {
    "duration": 7,
    "start_time": "2023-10-09T14:21:45.011Z"
   },
   {
    "duration": 113,
    "start_time": "2023-10-09T14:21:45.019Z"
   },
   {
    "duration": 146047,
    "start_time": "2023-10-09T14:21:45.133Z"
   },
   {
    "duration": 60,
    "start_time": "2023-10-09T14:24:11.182Z"
   },
   {
    "duration": 407,
    "start_time": "2023-10-09T14:24:11.246Z"
   },
   {
    "duration": 4,
    "start_time": "2023-10-09T14:24:11.654Z"
   },
   {
    "duration": 12,
    "start_time": "2023-10-09T14:24:11.659Z"
   },
   {
    "duration": 330,
    "start_time": "2023-10-09T14:24:11.672Z"
   },
   {
    "duration": 125,
    "start_time": "2023-10-09T14:24:12.004Z"
   },
   {
    "duration": 0,
    "start_time": "2023-10-09T14:24:12.130Z"
   },
   {
    "duration": 0,
    "start_time": "2023-10-09T14:24:12.131Z"
   },
   {
    "duration": 0,
    "start_time": "2023-10-09T14:24:12.139Z"
   },
   {
    "duration": 0,
    "start_time": "2023-10-09T14:24:12.139Z"
   },
   {
    "duration": 0,
    "start_time": "2023-10-09T14:24:12.140Z"
   },
   {
    "duration": 0,
    "start_time": "2023-10-09T14:24:12.141Z"
   },
   {
    "duration": 0,
    "start_time": "2023-10-09T14:24:12.142Z"
   },
   {
    "duration": 0,
    "start_time": "2023-10-09T14:24:12.143Z"
   },
   {
    "duration": 0,
    "start_time": "2023-10-09T14:24:12.144Z"
   },
   {
    "duration": 0,
    "start_time": "2023-10-09T14:24:12.145Z"
   },
   {
    "duration": 0,
    "start_time": "2023-10-09T14:24:12.146Z"
   },
   {
    "duration": 0,
    "start_time": "2023-10-09T14:24:12.147Z"
   },
   {
    "duration": 0,
    "start_time": "2023-10-09T14:24:12.148Z"
   },
   {
    "duration": 0,
    "start_time": "2023-10-09T14:24:12.149Z"
   },
   {
    "duration": 0,
    "start_time": "2023-10-09T14:24:12.150Z"
   },
   {
    "duration": 0,
    "start_time": "2023-10-09T14:24:12.151Z"
   },
   {
    "duration": 0,
    "start_time": "2023-10-09T14:24:12.152Z"
   },
   {
    "duration": 0,
    "start_time": "2023-10-09T14:24:12.152Z"
   },
   {
    "duration": 23065,
    "start_time": "2023-10-09T14:26:10.475Z"
   },
   {
    "duration": 2094,
    "start_time": "2023-10-09T14:26:52.988Z"
   },
   {
    "duration": 1208,
    "start_time": "2023-10-09T14:26:55.084Z"
   },
   {
    "duration": 42,
    "start_time": "2023-10-09T14:26:56.294Z"
   },
   {
    "duration": 10,
    "start_time": "2023-10-09T14:26:56.338Z"
   },
   {
    "duration": 43,
    "start_time": "2023-10-09T14:26:56.350Z"
   },
   {
    "duration": 27,
    "start_time": "2023-10-09T14:26:56.396Z"
   },
   {
    "duration": 65,
    "start_time": "2023-10-09T14:26:56.425Z"
   },
   {
    "duration": 10,
    "start_time": "2023-10-09T14:26:56.491Z"
   },
   {
    "duration": 1003,
    "start_time": "2023-10-09T14:26:56.502Z"
   },
   {
    "duration": 4,
    "start_time": "2023-10-09T14:26:57.508Z"
   },
   {
    "duration": 47,
    "start_time": "2023-10-09T14:26:57.513Z"
   },
   {
    "duration": 23,
    "start_time": "2023-10-09T14:26:57.562Z"
   },
   {
    "duration": 16,
    "start_time": "2023-10-09T14:26:57.586Z"
   },
   {
    "duration": 22,
    "start_time": "2023-10-09T14:26:57.604Z"
   },
   {
    "duration": 8,
    "start_time": "2023-10-09T14:26:57.627Z"
   },
   {
    "duration": 21,
    "start_time": "2023-10-09T14:26:57.637Z"
   },
   {
    "duration": 33,
    "start_time": "2023-10-09T14:26:57.659Z"
   },
   {
    "duration": 20,
    "start_time": "2023-10-09T14:26:57.694Z"
   },
   {
    "duration": 9,
    "start_time": "2023-10-09T14:26:57.715Z"
   },
   {
    "duration": 3,
    "start_time": "2023-10-09T14:26:57.725Z"
   },
   {
    "duration": 39,
    "start_time": "2023-10-09T14:26:57.730Z"
   },
   {
    "duration": 49,
    "start_time": "2023-10-09T14:26:57.771Z"
   },
   {
    "duration": 24,
    "start_time": "2023-10-09T14:26:57.822Z"
   },
   {
    "duration": 4,
    "start_time": "2023-10-09T14:26:57.847Z"
   },
   {
    "duration": 21,
    "start_time": "2023-10-09T14:26:57.852Z"
   },
   {
    "duration": 22641,
    "start_time": "2023-10-09T14:26:57.875Z"
   },
   {
    "duration": 132,
    "start_time": "2023-10-09T14:27:20.518Z"
   },
   {
    "duration": 448,
    "start_time": "2023-10-09T14:27:20.656Z"
   },
   {
    "duration": 5,
    "start_time": "2023-10-09T14:27:21.106Z"
   },
   {
    "duration": 20,
    "start_time": "2023-10-09T14:27:21.112Z"
   },
   {
    "duration": 347,
    "start_time": "2023-10-09T14:27:21.134Z"
   },
   {
    "duration": 121,
    "start_time": "2023-10-09T14:27:21.483Z"
   },
   {
    "duration": 0,
    "start_time": "2023-10-09T14:27:21.606Z"
   },
   {
    "duration": 0,
    "start_time": "2023-10-09T14:27:21.607Z"
   },
   {
    "duration": 0,
    "start_time": "2023-10-09T14:27:21.608Z"
   },
   {
    "duration": 0,
    "start_time": "2023-10-09T14:27:21.609Z"
   },
   {
    "duration": 0,
    "start_time": "2023-10-09T14:27:21.610Z"
   },
   {
    "duration": 0,
    "start_time": "2023-10-09T14:27:21.611Z"
   },
   {
    "duration": 0,
    "start_time": "2023-10-09T14:27:21.612Z"
   },
   {
    "duration": 0,
    "start_time": "2023-10-09T14:27:21.613Z"
   },
   {
    "duration": 0,
    "start_time": "2023-10-09T14:27:21.615Z"
   },
   {
    "duration": 0,
    "start_time": "2023-10-09T14:27:21.647Z"
   },
   {
    "duration": 0,
    "start_time": "2023-10-09T14:27:21.648Z"
   },
   {
    "duration": 0,
    "start_time": "2023-10-09T14:27:21.649Z"
   },
   {
    "duration": 0,
    "start_time": "2023-10-09T14:27:21.650Z"
   },
   {
    "duration": 0,
    "start_time": "2023-10-09T14:27:21.651Z"
   },
   {
    "duration": 0,
    "start_time": "2023-10-09T14:27:21.651Z"
   },
   {
    "duration": 0,
    "start_time": "2023-10-09T14:27:21.652Z"
   },
   {
    "duration": 0,
    "start_time": "2023-10-09T14:27:21.654Z"
   },
   {
    "duration": 0,
    "start_time": "2023-10-09T14:27:21.654Z"
   },
   {
    "duration": 16115,
    "start_time": "2023-10-09T14:29:00.974Z"
   },
   {
    "duration": 100,
    "start_time": "2023-10-09T14:30:30.465Z"
   },
   {
    "duration": 20,
    "start_time": "2023-10-09T14:31:29.272Z"
   },
   {
    "duration": 13492,
    "start_time": "2023-10-09T14:31:40.928Z"
   },
   {
    "duration": 15,
    "start_time": "2023-10-09T14:32:28.034Z"
   },
   {
    "duration": 90,
    "start_time": "2023-10-09T14:32:33.575Z"
   },
   {
    "duration": 18,
    "start_time": "2023-10-09T14:34:28.918Z"
   },
   {
    "duration": 11,
    "start_time": "2023-10-09T14:36:52.618Z"
   },
   {
    "duration": 20,
    "start_time": "2023-10-09T14:38:18.293Z"
   },
   {
    "duration": 21,
    "start_time": "2023-10-09T14:38:43.694Z"
   },
   {
    "duration": 16,
    "start_time": "2023-10-09T14:41:57.517Z"
   },
   {
    "duration": 20,
    "start_time": "2023-10-09T14:42:12.603Z"
   },
   {
    "duration": 12,
    "start_time": "2023-10-09T14:43:11.537Z"
   },
   {
    "duration": 11,
    "start_time": "2023-10-09T14:47:45.316Z"
   },
   {
    "duration": 75,
    "start_time": "2023-10-09T14:48:00.378Z"
   },
   {
    "duration": 24,
    "start_time": "2023-10-09T14:48:02.515Z"
   },
   {
    "duration": 18,
    "start_time": "2023-10-09T14:49:35.541Z"
   },
   {
    "duration": 2148,
    "start_time": "2023-10-09T14:51:20.865Z"
   },
   {
    "duration": 1222,
    "start_time": "2023-10-09T14:51:23.015Z"
   },
   {
    "duration": 40,
    "start_time": "2023-10-09T14:51:24.239Z"
   },
   {
    "duration": 31,
    "start_time": "2023-10-09T14:51:24.281Z"
   },
   {
    "duration": 52,
    "start_time": "2023-10-09T14:51:24.313Z"
   },
   {
    "duration": 14,
    "start_time": "2023-10-09T14:51:24.367Z"
   },
   {
    "duration": 43,
    "start_time": "2023-10-09T14:51:24.382Z"
   },
   {
    "duration": 10,
    "start_time": "2023-10-09T14:51:24.426Z"
   },
   {
    "duration": 864,
    "start_time": "2023-10-09T14:51:24.437Z"
   },
   {
    "duration": 3,
    "start_time": "2023-10-09T14:51:25.304Z"
   },
   {
    "duration": 24,
    "start_time": "2023-10-09T14:51:25.308Z"
   },
   {
    "duration": 14,
    "start_time": "2023-10-09T14:51:25.334Z"
   },
   {
    "duration": 16,
    "start_time": "2023-10-09T14:51:25.349Z"
   },
   {
    "duration": 7,
    "start_time": "2023-10-09T14:51:25.366Z"
   },
   {
    "duration": 14,
    "start_time": "2023-10-09T14:51:25.374Z"
   },
   {
    "duration": 15,
    "start_time": "2023-10-09T14:51:25.389Z"
   },
   {
    "duration": 29,
    "start_time": "2023-10-09T14:51:25.405Z"
   },
   {
    "duration": 2,
    "start_time": "2023-10-09T14:51:25.436Z"
   },
   {
    "duration": 16,
    "start_time": "2023-10-09T14:51:25.439Z"
   },
   {
    "duration": 7,
    "start_time": "2023-10-09T14:51:25.456Z"
   },
   {
    "duration": 30,
    "start_time": "2023-10-09T14:51:25.464Z"
   },
   {
    "duration": 29,
    "start_time": "2023-10-09T14:51:25.495Z"
   },
   {
    "duration": 24,
    "start_time": "2023-10-09T14:51:25.525Z"
   },
   {
    "duration": 4,
    "start_time": "2023-10-09T14:51:25.550Z"
   },
   {
    "duration": 4,
    "start_time": "2023-10-09T14:51:25.556Z"
   },
   {
    "duration": 14778,
    "start_time": "2023-10-09T14:51:25.562Z"
   },
   {
    "duration": 17,
    "start_time": "2023-10-09T14:51:40.341Z"
   },
   {
    "duration": 489,
    "start_time": "2023-10-09T14:51:40.362Z"
   },
   {
    "duration": 4,
    "start_time": "2023-10-09T14:51:40.852Z"
   },
   {
    "duration": 15,
    "start_time": "2023-10-09T14:51:40.857Z"
   },
   {
    "duration": 323,
    "start_time": "2023-10-09T14:51:40.873Z"
   },
   {
    "duration": 155,
    "start_time": "2023-10-09T14:51:41.198Z"
   },
   {
    "duration": 12785,
    "start_time": "2023-10-09T14:51:41.354Z"
   },
   {
    "duration": 83,
    "start_time": "2023-10-09T14:51:54.141Z"
   },
   {
    "duration": 27,
    "start_time": "2023-10-09T14:51:54.226Z"
   },
   {
    "duration": 194,
    "start_time": "2023-10-09T14:51:54.254Z"
   },
   {
    "duration": 119,
    "start_time": "2023-10-09T14:51:54.449Z"
   },
   {
    "duration": 124,
    "start_time": "2023-10-09T14:51:54.569Z"
   },
   {
    "duration": 0,
    "start_time": "2023-10-09T14:51:54.694Z"
   },
   {
    "duration": 0,
    "start_time": "2023-10-09T14:51:54.696Z"
   },
   {
    "duration": 0,
    "start_time": "2023-10-09T14:51:54.696Z"
   },
   {
    "duration": 0,
    "start_time": "2023-10-09T14:51:54.697Z"
   },
   {
    "duration": 0,
    "start_time": "2023-10-09T14:51:54.698Z"
   },
   {
    "duration": 0,
    "start_time": "2023-10-09T14:51:54.699Z"
   },
   {
    "duration": 0,
    "start_time": "2023-10-09T14:51:54.700Z"
   },
   {
    "duration": 0,
    "start_time": "2023-10-09T14:51:54.701Z"
   },
   {
    "duration": 0,
    "start_time": "2023-10-09T14:51:54.702Z"
   },
   {
    "duration": 0,
    "start_time": "2023-10-09T14:51:54.702Z"
   },
   {
    "duration": 0,
    "start_time": "2023-10-09T14:51:54.703Z"
   },
   {
    "duration": 0,
    "start_time": "2023-10-09T14:51:54.704Z"
   },
   {
    "duration": 16,
    "start_time": "2023-10-09T14:55:09.658Z"
   },
   {
    "duration": 3986,
    "start_time": "2023-10-09T14:57:22.501Z"
   },
   {
    "duration": 2060,
    "start_time": "2023-10-09T15:05:51.201Z"
   },
   {
    "duration": 1967,
    "start_time": "2023-10-09T15:09:38.424Z"
   },
   {
    "duration": 2027,
    "start_time": "2023-10-09T15:10:37.836Z"
   },
   {
    "duration": 2052,
    "start_time": "2023-10-09T15:11:15.375Z"
   },
   {
    "duration": 101,
    "start_time": "2023-10-09T15:11:18.326Z"
   },
   {
    "duration": 19529,
    "start_time": "2023-10-09T15:11:26.089Z"
   },
   {
    "duration": 24,
    "start_time": "2023-10-09T15:12:02.225Z"
   },
   {
    "duration": 514,
    "start_time": "2023-10-09T15:12:15.597Z"
   },
   {
    "duration": 12,
    "start_time": "2023-10-09T15:21:41.018Z"
   },
   {
    "duration": 7,
    "start_time": "2023-10-09T15:21:49.010Z"
   },
   {
    "duration": 104,
    "start_time": "2023-10-09T15:21:52.426Z"
   },
   {
    "duration": 7,
    "start_time": "2023-10-09T15:23:07.140Z"
   },
   {
    "duration": 78,
    "start_time": "2023-10-09T15:23:08.385Z"
   },
   {
    "duration": 25,
    "start_time": "2023-10-09T15:23:10.118Z"
   },
   {
    "duration": 8218,
    "start_time": "2023-10-09T15:23:26.783Z"
   },
   {
    "duration": 182,
    "start_time": "2023-10-09T15:23:53.103Z"
   },
   {
    "duration": 16,
    "start_time": "2023-10-09T15:24:02.362Z"
   },
   {
    "duration": 254,
    "start_time": "2023-10-09T15:24:11.465Z"
   },
   {
    "duration": 111,
    "start_time": "2023-10-09T15:24:28.810Z"
   },
   {
    "duration": 266,
    "start_time": "2023-10-09T15:24:31.054Z"
   },
   {
    "duration": 2002,
    "start_time": "2023-10-09T15:24:49.103Z"
   },
   {
    "duration": 1083,
    "start_time": "2023-10-09T15:24:51.107Z"
   },
   {
    "duration": 40,
    "start_time": "2023-10-09T15:24:52.192Z"
   },
   {
    "duration": 6,
    "start_time": "2023-10-09T15:24:52.233Z"
   },
   {
    "duration": 41,
    "start_time": "2023-10-09T15:24:52.241Z"
   },
   {
    "duration": 26,
    "start_time": "2023-10-09T15:24:52.283Z"
   },
   {
    "duration": 59,
    "start_time": "2023-10-09T15:24:52.310Z"
   },
   {
    "duration": 9,
    "start_time": "2023-10-09T15:24:52.371Z"
   },
   {
    "duration": 987,
    "start_time": "2023-10-09T15:24:52.382Z"
   },
   {
    "duration": 4,
    "start_time": "2023-10-09T15:24:53.372Z"
   },
   {
    "duration": 50,
    "start_time": "2023-10-09T15:24:53.377Z"
   },
   {
    "duration": 216,
    "start_time": "2023-10-09T15:24:53.428Z"
   },
   {
    "duration": 143,
    "start_time": "2023-10-09T15:24:53.646Z"
   },
   {
    "duration": 202,
    "start_time": "2023-10-09T15:24:53.790Z"
   },
   {
    "duration": 46,
    "start_time": "2023-10-09T15:24:53.993Z"
   },
   {
    "duration": 61,
    "start_time": "2023-10-09T15:24:54.040Z"
   },
   {
    "duration": 47,
    "start_time": "2023-10-09T15:24:54.102Z"
   },
   {
    "duration": 48,
    "start_time": "2023-10-09T15:24:54.150Z"
   },
   {
    "duration": 45,
    "start_time": "2023-10-09T15:24:54.199Z"
   },
   {
    "duration": 21,
    "start_time": "2023-10-09T15:24:54.245Z"
   },
   {
    "duration": 84,
    "start_time": "2023-10-09T15:24:54.268Z"
   },
   {
    "duration": 44,
    "start_time": "2023-10-09T15:24:54.354Z"
   },
   {
    "duration": 21,
    "start_time": "2023-10-09T15:24:54.400Z"
   },
   {
    "duration": 3,
    "start_time": "2023-10-09T15:24:54.423Z"
   },
   {
    "duration": 19,
    "start_time": "2023-10-09T15:24:54.427Z"
   },
   {
    "duration": 14312,
    "start_time": "2023-10-09T15:24:54.447Z"
   },
   {
    "duration": 81,
    "start_time": "2023-10-09T15:25:08.760Z"
   },
   {
    "duration": 408,
    "start_time": "2023-10-09T15:25:08.846Z"
   },
   {
    "duration": 5,
    "start_time": "2023-10-09T15:25:09.255Z"
   },
   {
    "duration": 24,
    "start_time": "2023-10-09T15:25:09.261Z"
   },
   {
    "duration": 322,
    "start_time": "2023-10-09T15:25:09.287Z"
   },
   {
    "duration": 157,
    "start_time": "2023-10-09T15:25:09.610Z"
   },
   {
    "duration": 12516,
    "start_time": "2023-10-09T15:25:09.768Z"
   },
   {
    "duration": 95,
    "start_time": "2023-10-09T15:25:22.285Z"
   },
   {
    "duration": 62,
    "start_time": "2023-10-09T15:25:22.381Z"
   },
   {
    "duration": 3,
    "start_time": "2023-10-09T15:25:22.445Z"
   },
   {
    "duration": 2200,
    "start_time": "2023-10-09T15:25:22.451Z"
   },
   {
    "duration": 90,
    "start_time": "2023-10-09T15:25:24.652Z"
   },
   {
    "duration": 19524,
    "start_time": "2023-10-09T15:25:24.743Z"
   },
   {
    "duration": 73,
    "start_time": "2023-10-09T15:25:44.268Z"
   },
   {
    "duration": 620,
    "start_time": "2023-10-09T15:25:44.344Z"
   },
   {
    "duration": 3,
    "start_time": "2023-10-09T15:25:44.966Z"
   },
   {
    "duration": 33,
    "start_time": "2023-10-09T15:25:44.970Z"
   },
   {
    "duration": 118,
    "start_time": "2023-10-09T15:25:45.004Z"
   },
   {
    "duration": 7973,
    "start_time": "2023-10-09T15:25:45.124Z"
   },
   {
    "duration": 190,
    "start_time": "2023-10-09T15:25:53.098Z"
   },
   {
    "duration": 56,
    "start_time": "2023-10-09T15:25:53.290Z"
   },
   {
    "duration": 367,
    "start_time": "2023-10-09T15:25:53.348Z"
   },
   {
    "duration": 134,
    "start_time": "2023-10-09T15:25:53.716Z"
   },
   {
    "duration": 121,
    "start_time": "2023-10-09T15:25:53.852Z"
   },
   {
    "duration": 123,
    "start_time": "2023-10-09T15:25:53.975Z"
   },
   {
    "duration": 0,
    "start_time": "2023-10-09T15:25:54.100Z"
   },
   {
    "duration": 30,
    "start_time": "2023-10-09T15:30:28.423Z"
   },
   {
    "duration": 155,
    "start_time": "2023-10-09T15:31:27.105Z"
   },
   {
    "duration": 22,
    "start_time": "2023-10-09T15:35:04.539Z"
   },
   {
    "duration": 3989,
    "start_time": "2023-10-09T15:35:16.641Z"
   },
   {
    "duration": 1169,
    "start_time": "2023-10-09T15:35:20.632Z"
   },
   {
    "duration": 40,
    "start_time": "2023-10-09T15:35:21.802Z"
   },
   {
    "duration": 5,
    "start_time": "2023-10-09T15:35:21.844Z"
   },
   {
    "duration": 16,
    "start_time": "2023-10-09T15:35:21.851Z"
   },
   {
    "duration": 11,
    "start_time": "2023-10-09T15:35:21.868Z"
   },
   {
    "duration": 40,
    "start_time": "2023-10-09T15:35:21.880Z"
   },
   {
    "duration": 10,
    "start_time": "2023-10-09T15:35:21.940Z"
   },
   {
    "duration": 914,
    "start_time": "2023-10-09T15:35:21.951Z"
   },
   {
    "duration": 4,
    "start_time": "2023-10-09T15:35:22.867Z"
   },
   {
    "duration": 30,
    "start_time": "2023-10-09T15:35:22.872Z"
   },
   {
    "duration": 13,
    "start_time": "2023-10-09T15:35:22.903Z"
   },
   {
    "duration": 9,
    "start_time": "2023-10-09T15:35:22.918Z"
   },
   {
    "duration": 17,
    "start_time": "2023-10-09T15:35:22.929Z"
   },
   {
    "duration": 26,
    "start_time": "2023-10-09T15:35:22.947Z"
   },
   {
    "duration": 9,
    "start_time": "2023-10-09T15:35:22.975Z"
   },
   {
    "duration": 25,
    "start_time": "2023-10-09T15:35:22.986Z"
   },
   {
    "duration": 11,
    "start_time": "2023-10-09T15:35:23.012Z"
   },
   {
    "duration": 24,
    "start_time": "2023-10-09T15:35:23.024Z"
   },
   {
    "duration": 23,
    "start_time": "2023-10-09T15:35:23.049Z"
   },
   {
    "duration": 58,
    "start_time": "2023-10-09T15:35:23.073Z"
   },
   {
    "duration": 75,
    "start_time": "2023-10-09T15:35:23.132Z"
   },
   {
    "duration": 65,
    "start_time": "2023-10-09T15:35:23.209Z"
   },
   {
    "duration": 3,
    "start_time": "2023-10-09T15:35:23.275Z"
   },
   {
    "duration": 48,
    "start_time": "2023-10-09T15:35:23.280Z"
   },
   {
    "duration": 14552,
    "start_time": "2023-10-09T15:35:23.329Z"
   },
   {
    "duration": 59,
    "start_time": "2023-10-09T15:35:37.883Z"
   },
   {
    "duration": 429,
    "start_time": "2023-10-09T15:35:37.944Z"
   },
   {
    "duration": 5,
    "start_time": "2023-10-09T15:35:38.375Z"
   },
   {
    "duration": 9,
    "start_time": "2023-10-09T15:35:38.382Z"
   },
   {
    "duration": 350,
    "start_time": "2023-10-09T15:35:38.392Z"
   },
   {
    "duration": 155,
    "start_time": "2023-10-09T15:35:38.743Z"
   },
   {
    "duration": 12598,
    "start_time": "2023-10-09T15:35:38.900Z"
   },
   {
    "duration": 93,
    "start_time": "2023-10-09T15:35:51.499Z"
   },
   {
    "duration": 49,
    "start_time": "2023-10-09T15:35:51.593Z"
   },
   {
    "duration": 3,
    "start_time": "2023-10-09T15:35:51.645Z"
   },
   {
    "duration": 143,
    "start_time": "2023-10-09T15:35:51.649Z"
   },
   {
    "duration": 91,
    "start_time": "2023-10-09T15:35:51.794Z"
   },
   {
    "duration": 19192,
    "start_time": "2023-10-09T15:35:51.886Z"
   },
   {
    "duration": 65,
    "start_time": "2023-10-09T15:36:11.079Z"
   },
   {
    "duration": 627,
    "start_time": "2023-10-09T15:36:11.148Z"
   },
   {
    "duration": 2,
    "start_time": "2023-10-09T15:36:11.776Z"
   },
   {
    "duration": 29,
    "start_time": "2023-10-09T15:36:11.779Z"
   },
   {
    "duration": 90,
    "start_time": "2023-10-09T15:36:11.809Z"
   },
   {
    "duration": 7713,
    "start_time": "2023-10-09T15:36:11.900Z"
   },
   {
    "duration": 203,
    "start_time": "2023-10-09T15:36:19.615Z"
   },
   {
    "duration": 27,
    "start_time": "2023-10-09T15:36:19.819Z"
   },
   {
    "duration": 280,
    "start_time": "2023-10-09T15:36:19.847Z"
   },
   {
    "duration": 106,
    "start_time": "2023-10-09T15:36:20.139Z"
   },
   {
    "duration": 114,
    "start_time": "2023-10-09T15:36:20.246Z"
   },
   {
    "duration": 138,
    "start_time": "2023-10-09T15:36:20.362Z"
   },
   {
    "duration": 0,
    "start_time": "2023-10-09T15:36:20.502Z"
   },
   {
    "duration": 6,
    "start_time": "2023-10-09T15:36:50.274Z"
   },
   {
    "duration": 3,
    "start_time": "2023-10-09T15:38:54.686Z"
   },
   {
    "duration": 4,
    "start_time": "2023-10-09T15:41:14.093Z"
   },
   {
    "duration": 3,
    "start_time": "2023-10-09T15:41:15.286Z"
   },
   {
    "duration": 37,
    "start_time": "2023-10-09T15:41:16.736Z"
   },
   {
    "duration": 3,
    "start_time": "2023-10-09T15:44:12.960Z"
   },
   {
    "duration": 3,
    "start_time": "2023-10-09T15:44:14.354Z"
   },
   {
    "duration": 14,
    "start_time": "2023-10-09T15:44:15.040Z"
   },
   {
    "duration": 19,
    "start_time": "2023-10-09T15:44:23.237Z"
   },
   {
    "duration": 11,
    "start_time": "2023-10-09T15:44:24.959Z"
   },
   {
    "duration": 5,
    "start_time": "2023-10-09T15:44:51.290Z"
   },
   {
    "duration": 3,
    "start_time": "2023-10-09T15:44:52.157Z"
   },
   {
    "duration": 12,
    "start_time": "2023-10-09T15:44:53.245Z"
   },
   {
    "duration": 18,
    "start_time": "2023-10-09T15:44:54.817Z"
   },
   {
    "duration": 10,
    "start_time": "2023-10-09T15:44:58.595Z"
   },
   {
    "duration": 3,
    "start_time": "2023-10-09T15:44:59.247Z"
   },
   {
    "duration": 12,
    "start_time": "2023-10-09T15:45:00.193Z"
   },
   {
    "duration": 47,
    "start_time": "2023-10-09T15:45:02.484Z"
   },
   {
    "duration": 5,
    "start_time": "2023-10-09T15:45:59.182Z"
   },
   {
    "duration": 2,
    "start_time": "2023-10-09T15:46:00.583Z"
   },
   {
    "duration": 5,
    "start_time": "2023-10-09T15:46:01.397Z"
   },
   {
    "duration": 18,
    "start_time": "2023-10-09T15:46:02.334Z"
   },
   {
    "duration": 19,
    "start_time": "2023-10-09T15:46:03.157Z"
   },
   {
    "duration": 3,
    "start_time": "2023-10-09T15:46:05.866Z"
   },
   {
    "duration": 10,
    "start_time": "2023-10-09T15:46:07.337Z"
   },
   {
    "duration": 17,
    "start_time": "2023-10-09T15:50:33.999Z"
   },
   {
    "duration": 13,
    "start_time": "2023-10-09T15:50:35.729Z"
   },
   {
    "duration": 5,
    "start_time": "2023-10-09T15:52:57.041Z"
   },
   {
    "duration": 5,
    "start_time": "2023-10-09T15:53:02.793Z"
   },
   {
    "duration": 2,
    "start_time": "2023-10-09T15:53:14.333Z"
   },
   {
    "duration": 12,
    "start_time": "2023-10-09T15:53:14.777Z"
   },
   {
    "duration": 3,
    "start_time": "2023-10-09T15:54:33.745Z"
   },
   {
    "duration": 12,
    "start_time": "2023-10-09T15:54:51.015Z"
   },
   {
    "duration": 4031,
    "start_time": "2023-10-09T15:55:05.202Z"
   },
   {
    "duration": 1177,
    "start_time": "2023-10-09T15:55:09.235Z"
   },
   {
    "duration": 40,
    "start_time": "2023-10-09T15:55:10.415Z"
   },
   {
    "duration": 6,
    "start_time": "2023-10-09T15:55:10.456Z"
   },
   {
    "duration": 18,
    "start_time": "2023-10-09T15:55:10.464Z"
   },
   {
    "duration": 13,
    "start_time": "2023-10-09T15:55:10.483Z"
   },
   {
    "duration": 64,
    "start_time": "2023-10-09T15:55:10.498Z"
   },
   {
    "duration": 9,
    "start_time": "2023-10-09T15:55:10.564Z"
   },
   {
    "duration": 877,
    "start_time": "2023-10-09T15:55:10.576Z"
   },
   {
    "duration": 4,
    "start_time": "2023-10-09T15:55:11.454Z"
   },
   {
    "duration": 7,
    "start_time": "2023-10-09T15:55:11.459Z"
   },
   {
    "duration": 5,
    "start_time": "2023-10-09T15:55:11.467Z"
   },
   {
    "duration": 5,
    "start_time": "2023-10-09T15:55:11.473Z"
   },
   {
    "duration": 3,
    "start_time": "2023-10-09T15:55:11.480Z"
   },
   {
    "duration": 12,
    "start_time": "2023-10-09T15:55:11.485Z"
   },
   {
    "duration": 4,
    "start_time": "2023-10-09T15:55:11.498Z"
   },
   {
    "duration": 43,
    "start_time": "2023-10-09T15:55:11.504Z"
   },
   {
    "duration": 8,
    "start_time": "2023-10-09T15:55:11.549Z"
   },
   {
    "duration": 5,
    "start_time": "2023-10-09T15:55:11.559Z"
   },
   {
    "duration": 3,
    "start_time": "2023-10-09T15:55:11.566Z"
   },
   {
    "duration": 13,
    "start_time": "2023-10-09T15:55:11.570Z"
   },
   {
    "duration": 57,
    "start_time": "2023-10-09T15:55:11.585Z"
   },
   {
    "duration": 23,
    "start_time": "2023-10-09T15:55:11.644Z"
   },
   {
    "duration": 3,
    "start_time": "2023-10-09T15:55:11.669Z"
   },
   {
    "duration": 5,
    "start_time": "2023-10-09T15:55:11.673Z"
   },
   {
    "duration": 14436,
    "start_time": "2023-10-09T15:55:11.679Z"
   },
   {
    "duration": 30,
    "start_time": "2023-10-09T15:55:26.118Z"
   },
   {
    "duration": 518,
    "start_time": "2023-10-09T15:55:26.149Z"
   },
   {
    "duration": 4,
    "start_time": "2023-10-09T15:55:26.668Z"
   },
   {
    "duration": 3,
    "start_time": "2023-10-09T15:55:26.674Z"
   },
   {
    "duration": 342,
    "start_time": "2023-10-09T15:55:26.679Z"
   },
   {
    "duration": 155,
    "start_time": "2023-10-09T15:55:27.023Z"
   },
   {
    "duration": 20,
    "start_time": "2023-10-09T16:05:09.067Z"
   },
   {
    "duration": 12,
    "start_time": "2023-10-09T16:05:10.271Z"
   },
   {
    "duration": 47,
    "start_time": "2023-10-09T16:05:34.938Z"
   },
   {
    "duration": 6,
    "start_time": "2023-10-09T16:05:55.709Z"
   },
   {
    "duration": 7,
    "start_time": "2023-10-09T16:06:06.062Z"
   },
   {
    "duration": 4045,
    "start_time": "2023-10-09T16:06:14.978Z"
   },
   {
    "duration": 1176,
    "start_time": "2023-10-09T16:06:19.025Z"
   },
   {
    "duration": 39,
    "start_time": "2023-10-09T16:06:20.203Z"
   },
   {
    "duration": 6,
    "start_time": "2023-10-09T16:06:20.244Z"
   },
   {
    "duration": 17,
    "start_time": "2023-10-09T16:06:20.252Z"
   },
   {
    "duration": 15,
    "start_time": "2023-10-09T16:06:20.271Z"
   },
   {
    "duration": 52,
    "start_time": "2023-10-09T16:06:20.288Z"
   },
   {
    "duration": 10,
    "start_time": "2023-10-09T16:06:20.341Z"
   },
   {
    "duration": 884,
    "start_time": "2023-10-09T16:06:20.353Z"
   },
   {
    "duration": 4,
    "start_time": "2023-10-09T16:06:21.239Z"
   },
   {
    "duration": 31,
    "start_time": "2023-10-09T16:06:21.244Z"
   },
   {
    "duration": 29,
    "start_time": "2023-10-09T16:06:21.276Z"
   },
   {
    "duration": 14,
    "start_time": "2023-10-09T16:06:21.306Z"
   },
   {
    "duration": 4,
    "start_time": "2023-10-09T16:06:21.322Z"
   },
   {
    "duration": 30,
    "start_time": "2023-10-09T16:06:21.327Z"
   },
   {
    "duration": 15,
    "start_time": "2023-10-09T16:06:21.358Z"
   },
   {
    "duration": 31,
    "start_time": "2023-10-09T16:06:21.374Z"
   },
   {
    "duration": 12,
    "start_time": "2023-10-09T16:06:21.406Z"
   },
   {
    "duration": 9,
    "start_time": "2023-10-09T16:06:21.419Z"
   },
   {
    "duration": 3,
    "start_time": "2023-10-09T16:06:21.429Z"
   },
   {
    "duration": 31,
    "start_time": "2023-10-09T16:06:21.434Z"
   },
   {
    "duration": 47,
    "start_time": "2023-10-09T16:06:21.466Z"
   },
   {
    "duration": 35,
    "start_time": "2023-10-09T16:06:21.515Z"
   },
   {
    "duration": 3,
    "start_time": "2023-10-09T16:06:21.551Z"
   },
   {
    "duration": 11,
    "start_time": "2023-10-09T16:06:21.556Z"
   },
   {
    "duration": 14666,
    "start_time": "2023-10-09T16:06:21.568Z"
   },
   {
    "duration": 18,
    "start_time": "2023-10-09T16:06:36.235Z"
   },
   {
    "duration": 424,
    "start_time": "2023-10-09T16:06:36.340Z"
   },
   {
    "duration": 5,
    "start_time": "2023-10-09T16:06:36.765Z"
   },
   {
    "duration": 5,
    "start_time": "2023-10-09T16:06:36.771Z"
   },
   {
    "duration": 356,
    "start_time": "2023-10-09T16:06:36.777Z"
   },
   {
    "duration": 159,
    "start_time": "2023-10-09T16:06:37.134Z"
   },
   {
    "duration": 12725,
    "start_time": "2023-10-09T16:06:37.295Z"
   },
   {
    "duration": 98,
    "start_time": "2023-10-09T16:06:50.021Z"
   },
   {
    "duration": 22,
    "start_time": "2023-10-09T16:06:50.121Z"
   },
   {
    "duration": 95,
    "start_time": "2023-10-09T16:06:50.149Z"
   },
   {
    "duration": 162,
    "start_time": "2023-10-09T16:06:50.245Z"
   },
   {
    "duration": 80,
    "start_time": "2023-10-09T16:06:50.408Z"
   },
   {
    "duration": 19524,
    "start_time": "2023-10-09T16:06:50.490Z"
   },
   {
    "duration": 38,
    "start_time": "2023-10-09T16:07:10.016Z"
   },
   {
    "duration": 717,
    "start_time": "2023-10-09T16:07:10.059Z"
   },
   {
    "duration": 2,
    "start_time": "2023-10-09T16:07:10.777Z"
   },
   {
    "duration": 35,
    "start_time": "2023-10-09T16:07:10.781Z"
   },
   {
    "duration": 89,
    "start_time": "2023-10-09T16:07:10.817Z"
   },
   {
    "duration": 8074,
    "start_time": "2023-10-09T16:07:10.908Z"
   },
   {
    "duration": 191,
    "start_time": "2023-10-09T16:07:18.983Z"
   },
   {
    "duration": 13,
    "start_time": "2023-10-09T16:07:19.176Z"
   },
   {
    "duration": 298,
    "start_time": "2023-10-09T16:07:19.243Z"
   },
   {
    "duration": 118,
    "start_time": "2023-10-09T16:07:19.542Z"
   },
   {
    "duration": 124,
    "start_time": "2023-10-09T16:07:19.661Z"
   },
   {
    "duration": 2,
    "start_time": "2023-10-09T16:07:19.787Z"
   },
   {
    "duration": 26,
    "start_time": "2023-10-09T16:07:19.790Z"
   },
   {
    "duration": 13,
    "start_time": "2023-10-09T16:07:19.818Z"
   },
   {
    "duration": 114,
    "start_time": "2023-10-09T16:07:19.832Z"
   },
   {
    "duration": 0,
    "start_time": "2023-10-09T16:07:19.948Z"
   },
   {
    "duration": 0,
    "start_time": "2023-10-09T16:07:19.950Z"
   },
   {
    "duration": 0,
    "start_time": "2023-10-09T16:07:19.951Z"
   },
   {
    "duration": 0,
    "start_time": "2023-10-09T16:07:19.952Z"
   },
   {
    "duration": 0,
    "start_time": "2023-10-09T16:07:19.953Z"
   },
   {
    "duration": 0,
    "start_time": "2023-10-09T16:07:19.955Z"
   },
   {
    "duration": 14,
    "start_time": "2023-10-09T16:07:42.272Z"
   },
   {
    "duration": 26,
    "start_time": "2023-10-09T16:07:43.294Z"
   },
   {
    "duration": 25,
    "start_time": "2023-10-09T16:07:44.969Z"
   },
   {
    "duration": 3,
    "start_time": "2023-10-09T16:07:46.856Z"
   },
   {
    "duration": 8,
    "start_time": "2023-10-09T16:07:48.208Z"
   },
   {
    "duration": 3,
    "start_time": "2023-10-09T16:07:53.577Z"
   },
   {
    "duration": 8,
    "start_time": "2023-10-09T16:07:54.485Z"
   },
   {
    "duration": 29,
    "start_time": "2023-10-09T16:08:02.147Z"
   },
   {
    "duration": 160,
    "start_time": "2023-10-09T16:08:03.659Z"
   },
   {
    "duration": 4108,
    "start_time": "2023-10-09T16:08:10.686Z"
   },
   {
    "duration": 1106,
    "start_time": "2023-10-09T16:08:14.796Z"
   },
   {
    "duration": 40,
    "start_time": "2023-10-09T16:08:15.903Z"
   },
   {
    "duration": 7,
    "start_time": "2023-10-09T16:08:15.945Z"
   },
   {
    "duration": 28,
    "start_time": "2023-10-09T16:08:15.953Z"
   },
   {
    "duration": 10,
    "start_time": "2023-10-09T16:08:15.983Z"
   },
   {
    "duration": 48,
    "start_time": "2023-10-09T16:08:15.994Z"
   },
   {
    "duration": 9,
    "start_time": "2023-10-09T16:08:16.044Z"
   },
   {
    "duration": 891,
    "start_time": "2023-10-09T16:08:16.054Z"
   },
   {
    "duration": 3,
    "start_time": "2023-10-09T16:08:16.948Z"
   },
   {
    "duration": 22,
    "start_time": "2023-10-09T16:08:16.953Z"
   },
   {
    "duration": 20,
    "start_time": "2023-10-09T16:08:16.976Z"
   },
   {
    "duration": 15,
    "start_time": "2023-10-09T16:08:16.997Z"
   },
   {
    "duration": 11,
    "start_time": "2023-10-09T16:08:17.013Z"
   },
   {
    "duration": 18,
    "start_time": "2023-10-09T16:08:17.026Z"
   },
   {
    "duration": 11,
    "start_time": "2023-10-09T16:08:17.046Z"
   },
   {
    "duration": 25,
    "start_time": "2023-10-09T16:08:17.058Z"
   },
   {
    "duration": 9,
    "start_time": "2023-10-09T16:08:17.085Z"
   },
   {
    "duration": 16,
    "start_time": "2023-10-09T16:08:17.096Z"
   },
   {
    "duration": 22,
    "start_time": "2023-10-09T16:08:17.114Z"
   },
   {
    "duration": 39,
    "start_time": "2023-10-09T16:08:17.138Z"
   },
   {
    "duration": 36,
    "start_time": "2023-10-09T16:08:17.179Z"
   },
   {
    "duration": 22,
    "start_time": "2023-10-09T16:08:17.217Z"
   },
   {
    "duration": 3,
    "start_time": "2023-10-09T16:08:17.241Z"
   },
   {
    "duration": 16,
    "start_time": "2023-10-09T16:08:17.245Z"
   },
   {
    "duration": 14633,
    "start_time": "2023-10-09T16:08:17.263Z"
   },
   {
    "duration": 45,
    "start_time": "2023-10-09T16:08:31.897Z"
   },
   {
    "duration": 511,
    "start_time": "2023-10-09T16:08:31.947Z"
   },
   {
    "duration": 6,
    "start_time": "2023-10-09T16:08:32.460Z"
   },
   {
    "duration": 21,
    "start_time": "2023-10-09T16:08:32.468Z"
   },
   {
    "duration": 364,
    "start_time": "2023-10-09T16:08:32.491Z"
   },
   {
    "duration": 153,
    "start_time": "2023-10-09T16:08:32.857Z"
   },
   {
    "duration": 12690,
    "start_time": "2023-10-09T16:08:33.012Z"
   },
   {
    "duration": 94,
    "start_time": "2023-10-09T16:08:45.704Z"
   },
   {
    "duration": 42,
    "start_time": "2023-10-09T16:08:45.799Z"
   },
   {
    "duration": 3,
    "start_time": "2023-10-09T16:08:45.843Z"
   },
   {
    "duration": 145,
    "start_time": "2023-10-09T16:08:45.849Z"
   },
   {
    "duration": 110,
    "start_time": "2023-10-09T16:08:45.996Z"
   },
   {
    "duration": 19375,
    "start_time": "2023-10-09T16:08:46.107Z"
   },
   {
    "duration": 61,
    "start_time": "2023-10-09T16:09:05.484Z"
   },
   {
    "duration": 647,
    "start_time": "2023-10-09T16:09:05.546Z"
   },
   {
    "duration": 3,
    "start_time": "2023-10-09T16:09:06.194Z"
   },
   {
    "duration": 82,
    "start_time": "2023-10-09T16:09:06.198Z"
   },
   {
    "duration": 171,
    "start_time": "2023-10-09T16:09:06.282Z"
   },
   {
    "duration": 7897,
    "start_time": "2023-10-09T16:09:06.455Z"
   },
   {
    "duration": 190,
    "start_time": "2023-10-09T16:09:14.353Z"
   },
   {
    "duration": 18,
    "start_time": "2023-10-09T16:09:14.544Z"
   },
   {
    "duration": 303,
    "start_time": "2023-10-09T16:09:14.640Z"
   },
   {
    "duration": 114,
    "start_time": "2023-10-09T16:09:14.945Z"
   },
   {
    "duration": 124,
    "start_time": "2023-10-09T16:09:15.061Z"
   },
   {
    "duration": 2,
    "start_time": "2023-10-09T16:09:15.187Z"
   },
   {
    "duration": 34,
    "start_time": "2023-10-09T16:09:15.191Z"
   },
   {
    "duration": 23,
    "start_time": "2023-10-09T16:09:15.226Z"
   },
   {
    "duration": 52,
    "start_time": "2023-10-09T16:09:15.251Z"
   },
   {
    "duration": 24,
    "start_time": "2023-10-09T16:09:15.305Z"
   },
   {
    "duration": 22,
    "start_time": "2023-10-09T16:09:15.330Z"
   },
   {
    "duration": 15,
    "start_time": "2023-10-09T16:09:15.353Z"
   },
   {
    "duration": 56,
    "start_time": "2023-10-09T16:09:15.369Z"
   },
   {
    "duration": 44,
    "start_time": "2023-10-09T16:09:15.427Z"
   },
   {
    "duration": 163,
    "start_time": "2023-10-09T16:09:15.473Z"
   },
   {
    "duration": 117,
    "start_time": "2023-10-09T16:10:12.238Z"
   },
   {
    "duration": 2,
    "start_time": "2023-10-09T16:10:17.070Z"
   },
   {
    "duration": 2,
    "start_time": "2023-10-09T16:10:18.356Z"
   },
   {
    "duration": 3,
    "start_time": "2023-10-09T16:10:19.626Z"
   },
   {
    "duration": 2,
    "start_time": "2023-10-09T16:10:22.342Z"
   },
   {
    "duration": 2,
    "start_time": "2023-10-09T16:10:22.778Z"
   },
   {
    "duration": 23,
    "start_time": "2023-10-09T16:10:24.859Z"
   },
   {
    "duration": 3,
    "start_time": "2023-10-09T16:10:29.431Z"
   },
   {
    "duration": 3,
    "start_time": "2023-10-09T16:10:30.568Z"
   },
   {
    "duration": 27,
    "start_time": "2023-10-09T16:10:31.666Z"
   },
   {
    "duration": 161,
    "start_time": "2023-10-09T16:10:33.322Z"
   },
   {
    "duration": 4152,
    "start_time": "2023-10-09T16:10:38.887Z"
   },
   {
    "duration": 1249,
    "start_time": "2023-10-09T16:10:43.041Z"
   },
   {
    "duration": 40,
    "start_time": "2023-10-09T16:10:44.291Z"
   },
   {
    "duration": 6,
    "start_time": "2023-10-09T16:10:44.332Z"
   },
   {
    "duration": 15,
    "start_time": "2023-10-09T16:10:44.340Z"
   },
   {
    "duration": 10,
    "start_time": "2023-10-09T16:10:44.356Z"
   },
   {
    "duration": 50,
    "start_time": "2023-10-09T16:10:44.368Z"
   },
   {
    "duration": 25,
    "start_time": "2023-10-09T16:10:44.419Z"
   },
   {
    "duration": 876,
    "start_time": "2023-10-09T16:10:44.445Z"
   },
   {
    "duration": 3,
    "start_time": "2023-10-09T16:10:45.323Z"
   },
   {
    "duration": 8,
    "start_time": "2023-10-09T16:10:45.327Z"
   },
   {
    "duration": 5,
    "start_time": "2023-10-09T16:10:45.336Z"
   },
   {
    "duration": 11,
    "start_time": "2023-10-09T16:10:45.342Z"
   },
   {
    "duration": 3,
    "start_time": "2023-10-09T16:10:45.356Z"
   },
   {
    "duration": 15,
    "start_time": "2023-10-09T16:10:45.360Z"
   },
   {
    "duration": 4,
    "start_time": "2023-10-09T16:10:45.376Z"
   },
   {
    "duration": 15,
    "start_time": "2023-10-09T16:10:45.382Z"
   },
   {
    "duration": 6,
    "start_time": "2023-10-09T16:10:45.398Z"
   },
   {
    "duration": 9,
    "start_time": "2023-10-09T16:10:45.406Z"
   },
   {
    "duration": 12,
    "start_time": "2023-10-09T16:10:45.416Z"
   },
   {
    "duration": 17,
    "start_time": "2023-10-09T16:10:45.429Z"
   },
   {
    "duration": 23,
    "start_time": "2023-10-09T16:10:45.448Z"
   },
   {
    "duration": 24,
    "start_time": "2023-10-09T16:10:45.473Z"
   },
   {
    "duration": 3,
    "start_time": "2023-10-09T16:10:45.499Z"
   },
   {
    "duration": 17,
    "start_time": "2023-10-09T16:10:45.503Z"
   },
   {
    "duration": 14270,
    "start_time": "2023-10-09T16:10:45.521Z"
   },
   {
    "duration": 52,
    "start_time": "2023-10-09T16:10:59.792Z"
   },
   {
    "duration": 482,
    "start_time": "2023-10-09T16:10:59.845Z"
   },
   {
    "duration": 11,
    "start_time": "2023-10-09T16:11:00.328Z"
   },
   {
    "duration": 64,
    "start_time": "2023-10-09T16:11:00.341Z"
   },
   {
    "duration": 439,
    "start_time": "2023-10-09T16:11:00.406Z"
   },
   {
    "duration": 154,
    "start_time": "2023-10-09T16:11:00.846Z"
   },
   {
    "duration": 12625,
    "start_time": "2023-10-09T16:11:01.002Z"
   },
   {
    "duration": 91,
    "start_time": "2023-10-09T16:11:13.629Z"
   },
   {
    "duration": 24,
    "start_time": "2023-10-09T16:11:13.722Z"
   },
   {
    "duration": 3,
    "start_time": "2023-10-09T16:11:13.747Z"
   },
   {
    "duration": 274,
    "start_time": "2023-10-09T16:11:13.751Z"
   },
   {
    "duration": 82,
    "start_time": "2023-10-09T16:11:14.026Z"
   },
   {
    "duration": 19365,
    "start_time": "2023-10-09T16:11:14.109Z"
   },
   {
    "duration": 71,
    "start_time": "2023-10-09T16:11:33.475Z"
   },
   {
    "duration": 612,
    "start_time": "2023-10-09T16:11:33.550Z"
   },
   {
    "duration": 2,
    "start_time": "2023-10-09T16:11:34.163Z"
   },
   {
    "duration": 14,
    "start_time": "2023-10-09T16:11:34.167Z"
   },
   {
    "duration": 84,
    "start_time": "2023-10-09T16:11:34.182Z"
   },
   {
    "duration": 7668,
    "start_time": "2023-10-09T16:11:34.268Z"
   },
   {
    "duration": 192,
    "start_time": "2023-10-09T16:11:41.939Z"
   },
   {
    "duration": 14,
    "start_time": "2023-10-09T16:11:42.133Z"
   },
   {
    "duration": 338,
    "start_time": "2023-10-09T16:11:42.149Z"
   },
   {
    "duration": 144,
    "start_time": "2023-10-09T16:11:42.491Z"
   },
   {
    "duration": 131,
    "start_time": "2023-10-09T16:11:42.640Z"
   },
   {
    "duration": 2,
    "start_time": "2023-10-09T16:11:42.773Z"
   },
   {
    "duration": 6,
    "start_time": "2023-10-09T16:11:42.776Z"
   },
   {
    "duration": 9,
    "start_time": "2023-10-09T16:11:42.783Z"
   },
   {
    "duration": 7,
    "start_time": "2023-10-09T16:11:42.793Z"
   },
   {
    "duration": 6,
    "start_time": "2023-10-09T16:11:42.801Z"
   },
   {
    "duration": 32,
    "start_time": "2023-10-09T16:11:42.809Z"
   },
   {
    "duration": 3,
    "start_time": "2023-10-09T16:11:42.843Z"
   },
   {
    "duration": 7,
    "start_time": "2023-10-09T16:11:42.847Z"
   },
   {
    "duration": 29,
    "start_time": "2023-10-09T16:11:42.856Z"
   },
   {
    "duration": 172,
    "start_time": "2023-10-09T16:11:42.886Z"
   },
   {
    "duration": 3,
    "start_time": "2023-10-09T16:14:14.559Z"
   },
   {
    "duration": 14,
    "start_time": "2023-10-09T16:14:15.155Z"
   },
   {
    "duration": 26,
    "start_time": "2023-10-09T16:14:16.085Z"
   },
   {
    "duration": 24,
    "start_time": "2023-10-09T16:14:18.314Z"
   },
   {
    "duration": 4,
    "start_time": "2023-10-09T16:14:19.759Z"
   },
   {
    "duration": 3,
    "start_time": "2023-10-09T16:14:20.701Z"
   },
   {
    "duration": 27,
    "start_time": "2023-10-09T16:14:21.726Z"
   },
   {
    "duration": 238,
    "start_time": "2023-10-09T16:14:23.235Z"
   },
   {
    "duration": 4154,
    "start_time": "2023-10-09T16:14:32.007Z"
   },
   {
    "duration": 1133,
    "start_time": "2023-10-09T16:14:36.163Z"
   },
   {
    "duration": 41,
    "start_time": "2023-10-09T16:14:37.297Z"
   },
   {
    "duration": 6,
    "start_time": "2023-10-09T16:14:37.339Z"
   },
   {
    "duration": 33,
    "start_time": "2023-10-09T16:14:37.347Z"
   },
   {
    "duration": 11,
    "start_time": "2023-10-09T16:14:37.382Z"
   },
   {
    "duration": 46,
    "start_time": "2023-10-09T16:14:37.394Z"
   },
   {
    "duration": 11,
    "start_time": "2023-10-09T16:14:37.441Z"
   },
   {
    "duration": 872,
    "start_time": "2023-10-09T16:14:37.453Z"
   },
   {
    "duration": 4,
    "start_time": "2023-10-09T16:14:38.327Z"
   },
   {
    "duration": 5,
    "start_time": "2023-10-09T16:14:38.332Z"
   },
   {
    "duration": 5,
    "start_time": "2023-10-09T16:14:38.338Z"
   },
   {
    "duration": 6,
    "start_time": "2023-10-09T16:14:38.345Z"
   },
   {
    "duration": 3,
    "start_time": "2023-10-09T16:14:38.354Z"
   },
   {
    "duration": 5,
    "start_time": "2023-10-09T16:14:38.358Z"
   },
   {
    "duration": 3,
    "start_time": "2023-10-09T16:14:38.365Z"
   },
   {
    "duration": 11,
    "start_time": "2023-10-09T16:14:38.370Z"
   },
   {
    "duration": 4,
    "start_time": "2023-10-09T16:14:38.382Z"
   },
   {
    "duration": 6,
    "start_time": "2023-10-09T16:14:38.388Z"
   },
   {
    "duration": 3,
    "start_time": "2023-10-09T16:14:38.396Z"
   },
   {
    "duration": 55,
    "start_time": "2023-10-09T16:14:38.400Z"
   },
   {
    "duration": 28,
    "start_time": "2023-10-09T16:14:38.457Z"
   },
   {
    "duration": 24,
    "start_time": "2023-10-09T16:14:38.487Z"
   },
   {
    "duration": 3,
    "start_time": "2023-10-09T16:14:38.513Z"
   },
   {
    "duration": 7,
    "start_time": "2023-10-09T16:14:38.540Z"
   },
   {
    "duration": 14299,
    "start_time": "2023-10-09T16:14:38.548Z"
   },
   {
    "duration": 92,
    "start_time": "2023-10-09T16:14:52.849Z"
   },
   {
    "duration": 425,
    "start_time": "2023-10-09T16:14:52.942Z"
   },
   {
    "duration": 5,
    "start_time": "2023-10-09T16:14:53.368Z"
   },
   {
    "duration": 26,
    "start_time": "2023-10-09T16:14:53.374Z"
   },
   {
    "duration": 368,
    "start_time": "2023-10-09T16:14:53.401Z"
   },
   {
    "duration": 162,
    "start_time": "2023-10-09T16:14:53.771Z"
   },
   {
    "duration": 12632,
    "start_time": "2023-10-09T16:14:53.934Z"
   },
   {
    "duration": 93,
    "start_time": "2023-10-09T16:15:06.567Z"
   },
   {
    "duration": 80,
    "start_time": "2023-10-09T16:15:06.661Z"
   },
   {
    "duration": 97,
    "start_time": "2023-10-09T16:15:06.742Z"
   },
   {
    "duration": 52,
    "start_time": "2023-10-09T16:15:06.841Z"
   },
   {
    "duration": 95,
    "start_time": "2023-10-09T16:15:06.894Z"
   },
   {
    "duration": 19329,
    "start_time": "2023-10-09T16:15:06.990Z"
   },
   {
    "duration": 41,
    "start_time": "2023-10-09T16:15:26.321Z"
   },
   {
    "duration": 628,
    "start_time": "2023-10-09T16:15:26.442Z"
   },
   {
    "duration": 2,
    "start_time": "2023-10-09T16:15:27.071Z"
   },
   {
    "duration": 19,
    "start_time": "2023-10-09T16:15:27.075Z"
   },
   {
    "duration": 88,
    "start_time": "2023-10-09T16:15:27.095Z"
   },
   {
    "duration": 7923,
    "start_time": "2023-10-09T16:15:27.185Z"
   },
   {
    "duration": 188,
    "start_time": "2023-10-09T16:15:35.110Z"
   },
   {
    "duration": 52,
    "start_time": "2023-10-09T16:15:35.299Z"
   },
   {
    "duration": 367,
    "start_time": "2023-10-09T16:15:35.352Z"
   },
   {
    "duration": 121,
    "start_time": "2023-10-09T16:15:35.721Z"
   },
   {
    "duration": 125,
    "start_time": "2023-10-09T16:15:35.844Z"
   },
   {
    "duration": 3,
    "start_time": "2023-10-09T16:15:35.971Z"
   },
   {
    "duration": 61,
    "start_time": "2023-10-09T16:15:35.975Z"
   },
   {
    "duration": 33,
    "start_time": "2023-10-09T16:15:36.037Z"
   },
   {
    "duration": 41,
    "start_time": "2023-10-09T16:15:36.072Z"
   },
   {
    "duration": 73,
    "start_time": "2023-10-09T16:15:36.115Z"
   },
   {
    "duration": 37,
    "start_time": "2023-10-09T16:15:36.190Z"
   },
   {
    "duration": 5,
    "start_time": "2023-10-09T16:15:36.228Z"
   },
   {
    "duration": 38,
    "start_time": "2023-10-09T16:15:36.235Z"
   },
   {
    "duration": 71,
    "start_time": "2023-10-09T16:15:36.275Z"
   },
   {
    "duration": 171,
    "start_time": "2023-10-09T16:15:36.348Z"
   },
   {
    "duration": 5,
    "start_time": "2023-10-09T16:16:07.245Z"
   },
   {
    "duration": 3,
    "start_time": "2023-10-09T16:16:08.739Z"
   },
   {
    "duration": 14,
    "start_time": "2023-10-09T16:16:09.383Z"
   },
   {
    "duration": 26,
    "start_time": "2023-10-09T16:16:10.339Z"
   },
   {
    "duration": 25,
    "start_time": "2023-10-09T16:16:11.432Z"
   },
   {
    "duration": 4,
    "start_time": "2023-10-09T16:16:12.468Z"
   },
   {
    "duration": 4,
    "start_time": "2023-10-09T16:16:13.251Z"
   },
   {
    "duration": 28,
    "start_time": "2023-10-09T16:16:14.148Z"
   },
   {
    "duration": 165,
    "start_time": "2023-10-09T16:16:15.439Z"
   },
   {
    "duration": 109,
    "start_time": "2023-10-09T16:16:41.706Z"
   },
   {
    "duration": 4,
    "start_time": "2023-10-09T16:16:44.556Z"
   },
   {
    "duration": 5,
    "start_time": "2023-10-09T16:16:45.538Z"
   },
   {
    "duration": 3,
    "start_time": "2023-10-09T16:19:48.946Z"
   },
   {
    "duration": 2,
    "start_time": "2023-10-09T16:19:59.194Z"
   },
   {
    "duration": 6,
    "start_time": "2023-10-09T16:20:25.078Z"
   },
   {
    "duration": 18,
    "start_time": "2023-10-09T16:20:40.530Z"
   },
   {
    "duration": 18,
    "start_time": "2023-10-09T16:21:09.171Z"
   },
   {
    "duration": 4,
    "start_time": "2023-10-09T16:21:22.820Z"
   },
   {
    "duration": 4,
    "start_time": "2023-10-09T16:21:37.619Z"
   },
   {
    "duration": 11,
    "start_time": "2023-10-09T16:21:56.091Z"
   },
   {
    "duration": 17,
    "start_time": "2023-10-09T16:22:52.909Z"
   },
   {
    "duration": 16,
    "start_time": "2023-10-09T16:22:55.166Z"
   },
   {
    "duration": 5,
    "start_time": "2023-10-09T16:30:38.133Z"
   },
   {
    "duration": 4,
    "start_time": "2023-10-09T16:30:39.285Z"
   },
   {
    "duration": 5,
    "start_time": "2023-10-09T16:31:14.009Z"
   },
   {
    "duration": 6,
    "start_time": "2023-10-09T16:31:16.581Z"
   },
   {
    "duration": 5,
    "start_time": "2023-10-09T16:31:23.798Z"
   },
   {
    "duration": 6,
    "start_time": "2023-10-09T16:31:25.709Z"
   },
   {
    "duration": 3,
    "start_time": "2023-10-09T16:31:26.409Z"
   },
   {
    "duration": 12,
    "start_time": "2023-10-09T16:31:27.585Z"
   },
   {
    "duration": 15,
    "start_time": "2023-10-09T16:31:54.223Z"
   },
   {
    "duration": 26,
    "start_time": "2023-10-09T16:31:57.411Z"
   },
   {
    "duration": 32,
    "start_time": "2023-10-09T16:32:02.538Z"
   },
   {
    "duration": 5,
    "start_time": "2023-10-09T16:32:04.183Z"
   },
   {
    "duration": 4,
    "start_time": "2023-10-09T16:32:06.405Z"
   },
   {
    "duration": 37,
    "start_time": "2023-10-09T16:32:07.645Z"
   },
   {
    "duration": 208,
    "start_time": "2023-10-09T16:32:08.995Z"
   },
   {
    "duration": 4099,
    "start_time": "2023-10-09T16:32:16.810Z"
   },
   {
    "duration": 1201,
    "start_time": "2023-10-09T16:32:20.912Z"
   },
   {
    "duration": 41,
    "start_time": "2023-10-09T16:32:22.114Z"
   },
   {
    "duration": 18,
    "start_time": "2023-10-09T16:32:22.156Z"
   },
   {
    "duration": 47,
    "start_time": "2023-10-09T16:32:22.176Z"
   },
   {
    "duration": 18,
    "start_time": "2023-10-09T16:32:22.224Z"
   },
   {
    "duration": 54,
    "start_time": "2023-10-09T16:32:22.243Z"
   },
   {
    "duration": 10,
    "start_time": "2023-10-09T16:32:22.298Z"
   },
   {
    "duration": 980,
    "start_time": "2023-10-09T16:32:22.309Z"
   },
   {
    "duration": 3,
    "start_time": "2023-10-09T16:32:23.291Z"
   },
   {
    "duration": 92,
    "start_time": "2023-10-09T16:32:23.296Z"
   },
   {
    "duration": 106,
    "start_time": "2023-10-09T16:32:23.390Z"
   },
   {
    "duration": 21,
    "start_time": "2023-10-09T16:32:23.498Z"
   },
   {
    "duration": 20,
    "start_time": "2023-10-09T16:32:23.521Z"
   },
   {
    "duration": 20,
    "start_time": "2023-10-09T16:32:23.543Z"
   },
   {
    "duration": 24,
    "start_time": "2023-10-09T16:32:23.564Z"
   },
   {
    "duration": 38,
    "start_time": "2023-10-09T16:32:23.590Z"
   },
   {
    "duration": 29,
    "start_time": "2023-10-09T16:32:23.629Z"
   },
   {
    "duration": 21,
    "start_time": "2023-10-09T16:32:23.660Z"
   },
   {
    "duration": 99,
    "start_time": "2023-10-09T16:32:23.683Z"
   },
   {
    "duration": 169,
    "start_time": "2023-10-09T16:32:23.783Z"
   },
   {
    "duration": 33,
    "start_time": "2023-10-09T16:32:23.953Z"
   },
   {
    "duration": 23,
    "start_time": "2023-10-09T16:32:23.987Z"
   },
   {
    "duration": 20,
    "start_time": "2023-10-09T16:32:24.011Z"
   },
   {
    "duration": 12,
    "start_time": "2023-10-09T16:32:24.032Z"
   },
   {
    "duration": 14737,
    "start_time": "2023-10-09T16:32:24.046Z"
   },
   {
    "duration": 56,
    "start_time": "2023-10-09T16:32:38.784Z"
   },
   {
    "duration": 418,
    "start_time": "2023-10-09T16:32:38.841Z"
   },
   {
    "duration": 4,
    "start_time": "2023-10-09T16:32:39.261Z"
   },
   {
    "duration": 6,
    "start_time": "2023-10-09T16:32:39.266Z"
   },
   {
    "duration": 353,
    "start_time": "2023-10-09T16:32:39.273Z"
   },
   {
    "duration": 158,
    "start_time": "2023-10-09T16:32:39.627Z"
   },
   {
    "duration": 12704,
    "start_time": "2023-10-09T16:32:39.786Z"
   },
   {
    "duration": 118,
    "start_time": "2023-10-09T16:32:52.492Z"
   },
   {
    "duration": 28,
    "start_time": "2023-10-09T16:32:52.612Z"
   },
   {
    "duration": 9,
    "start_time": "2023-10-09T16:32:52.643Z"
   },
   {
    "duration": 148,
    "start_time": "2023-10-09T16:32:52.740Z"
   },
   {
    "duration": 87,
    "start_time": "2023-10-09T16:32:52.889Z"
   },
   {
    "duration": 19220,
    "start_time": "2023-10-09T16:32:52.977Z"
   },
   {
    "duration": 49,
    "start_time": "2023-10-09T16:33:12.199Z"
   },
   {
    "duration": 623,
    "start_time": "2023-10-09T16:33:12.343Z"
   },
   {
    "duration": 3,
    "start_time": "2023-10-09T16:33:12.968Z"
   },
   {
    "duration": 25,
    "start_time": "2023-10-09T16:33:12.973Z"
   },
   {
    "duration": 82,
    "start_time": "2023-10-09T16:33:12.999Z"
   },
   {
    "duration": 7758,
    "start_time": "2023-10-09T16:33:13.083Z"
   },
   {
    "duration": 187,
    "start_time": "2023-10-09T16:33:20.842Z"
   },
   {
    "duration": 19,
    "start_time": "2023-10-09T16:33:21.030Z"
   },
   {
    "duration": 470,
    "start_time": "2023-10-09T16:33:21.051Z"
   },
   {
    "duration": 132,
    "start_time": "2023-10-09T16:33:21.522Z"
   },
   {
    "duration": 117,
    "start_time": "2023-10-09T16:33:21.656Z"
   },
   {
    "duration": 5,
    "start_time": "2023-10-09T16:33:21.774Z"
   },
   {
    "duration": 5,
    "start_time": "2023-10-09T16:33:21.781Z"
   },
   {
    "duration": 4,
    "start_time": "2023-10-09T16:33:21.788Z"
   },
   {
    "duration": 15,
    "start_time": "2023-10-09T16:33:21.794Z"
   },
   {
    "duration": 48,
    "start_time": "2023-10-09T16:33:21.810Z"
   },
   {
    "duration": 23,
    "start_time": "2023-10-09T16:33:21.859Z"
   },
   {
    "duration": 3,
    "start_time": "2023-10-09T16:33:21.884Z"
   },
   {
    "duration": 7,
    "start_time": "2023-10-09T16:33:21.889Z"
   },
   {
    "duration": 57,
    "start_time": "2023-10-09T16:33:21.897Z"
   },
   {
    "duration": 220,
    "start_time": "2023-10-09T16:33:21.956Z"
   },
   {
    "duration": 5885,
    "start_time": "2023-10-09T16:34:36.319Z"
   },
   {
    "duration": 140314,
    "start_time": "2023-10-09T16:34:56.689Z"
   },
   {
    "duration": 446,
    "start_time": "2023-10-09T16:37:51.223Z"
   },
   {
    "duration": 4097,
    "start_time": "2023-10-09T16:38:29.923Z"
   },
   {
    "duration": 1171,
    "start_time": "2023-10-09T16:38:34.022Z"
   },
   {
    "duration": 50,
    "start_time": "2023-10-09T16:38:35.194Z"
   },
   {
    "duration": 9,
    "start_time": "2023-10-09T16:38:35.253Z"
   },
   {
    "duration": 20,
    "start_time": "2023-10-09T16:38:35.265Z"
   },
   {
    "duration": 10,
    "start_time": "2023-10-09T16:38:35.286Z"
   },
   {
    "duration": 46,
    "start_time": "2023-10-09T16:38:35.298Z"
   },
   {
    "duration": 10,
    "start_time": "2023-10-09T16:38:35.346Z"
   },
   {
    "duration": 876,
    "start_time": "2023-10-09T16:38:35.357Z"
   },
   {
    "duration": 4,
    "start_time": "2023-10-09T16:38:36.235Z"
   },
   {
    "duration": 7,
    "start_time": "2023-10-09T16:38:36.240Z"
   },
   {
    "duration": 20,
    "start_time": "2023-10-09T16:38:36.248Z"
   },
   {
    "duration": 7,
    "start_time": "2023-10-09T16:38:36.270Z"
   },
   {
    "duration": 4,
    "start_time": "2023-10-09T16:38:36.280Z"
   },
   {
    "duration": 14,
    "start_time": "2023-10-09T16:38:36.285Z"
   },
   {
    "duration": 20,
    "start_time": "2023-10-09T16:38:36.301Z"
   },
   {
    "duration": 25,
    "start_time": "2023-10-09T16:38:36.323Z"
   },
   {
    "duration": 8,
    "start_time": "2023-10-09T16:38:36.350Z"
   },
   {
    "duration": 7,
    "start_time": "2023-10-09T16:38:36.360Z"
   },
   {
    "duration": 4,
    "start_time": "2023-10-09T16:38:36.369Z"
   },
   {
    "duration": 16,
    "start_time": "2023-10-09T16:38:36.376Z"
   },
   {
    "duration": 47,
    "start_time": "2023-10-09T16:38:36.394Z"
   },
   {
    "duration": 22,
    "start_time": "2023-10-09T16:38:36.443Z"
   },
   {
    "duration": 3,
    "start_time": "2023-10-09T16:38:36.467Z"
   },
   {
    "duration": 5,
    "start_time": "2023-10-09T16:38:36.471Z"
   },
   {
    "duration": 140594,
    "start_time": "2023-10-09T16:38:36.478Z"
   },
   {
    "duration": 70,
    "start_time": "2023-10-09T16:40:57.073Z"
   },
   {
    "duration": 429,
    "start_time": "2023-10-09T16:40:57.145Z"
   },
   {
    "duration": 4,
    "start_time": "2023-10-09T16:40:57.576Z"
   },
   {
    "duration": 15,
    "start_time": "2023-10-09T16:40:57.582Z"
   },
   {
    "duration": 354,
    "start_time": "2023-10-09T16:40:57.599Z"
   },
   {
    "duration": 107,
    "start_time": "2023-10-09T16:40:57.954Z"
   },
   {
    "duration": 12494,
    "start_time": "2023-10-09T16:40:58.062Z"
   },
   {
    "duration": 94,
    "start_time": "2023-10-09T16:41:10.557Z"
   },
   {
    "duration": 87,
    "start_time": "2023-10-09T16:41:10.653Z"
   },
   {
    "duration": 3,
    "start_time": "2023-10-09T16:41:10.741Z"
   },
   {
    "duration": 144,
    "start_time": "2023-10-09T16:41:10.745Z"
   },
   {
    "duration": 90,
    "start_time": "2023-10-09T16:41:10.890Z"
   },
   {
    "duration": 75541,
    "start_time": "2023-10-09T16:41:10.981Z"
   },
   {
    "duration": 32,
    "start_time": "2023-10-09T16:42:26.524Z"
   },
   {
    "duration": 614,
    "start_time": "2023-10-09T16:42:26.639Z"
   },
   {
    "duration": 2,
    "start_time": "2023-10-09T16:42:27.255Z"
   },
   {
    "duration": 16,
    "start_time": "2023-10-09T16:42:27.259Z"
   },
   {
    "duration": 94,
    "start_time": "2023-10-09T16:42:27.277Z"
   },
   {
    "duration": 7789,
    "start_time": "2023-10-09T16:42:27.373Z"
   },
   {
    "duration": 188,
    "start_time": "2023-10-09T16:42:35.163Z"
   },
   {
    "duration": 12,
    "start_time": "2023-10-09T16:42:35.352Z"
   },
   {
    "duration": 358,
    "start_time": "2023-10-09T16:42:35.366Z"
   },
   {
    "duration": 119,
    "start_time": "2023-10-09T16:42:35.726Z"
   },
   {
    "duration": 123,
    "start_time": "2023-10-09T16:42:35.846Z"
   },
   {
    "duration": 5,
    "start_time": "2023-10-09T16:42:35.970Z"
   },
   {
    "duration": 49,
    "start_time": "2023-10-09T16:42:35.977Z"
   },
   {
    "duration": 17,
    "start_time": "2023-10-09T16:42:36.028Z"
   },
   {
    "duration": 28,
    "start_time": "2023-10-09T16:42:36.047Z"
   },
   {
    "duration": 45,
    "start_time": "2023-10-09T16:42:36.077Z"
   },
   {
    "duration": 49,
    "start_time": "2023-10-09T16:42:36.124Z"
   },
   {
    "duration": 4,
    "start_time": "2023-10-09T16:42:36.174Z"
   },
   {
    "duration": 41,
    "start_time": "2023-10-09T16:42:36.180Z"
   },
   {
    "duration": 73,
    "start_time": "2023-10-09T16:42:36.222Z"
   },
   {
    "duration": 461,
    "start_time": "2023-10-09T16:42:36.296Z"
   },
   {
    "duration": 46187,
    "start_time": "2023-10-09T16:48:24.390Z"
   },
   {
    "duration": 27566,
    "start_time": "2023-10-09T16:49:54.165Z"
   },
   {
    "duration": 267,
    "start_time": "2023-10-09T16:51:33.992Z"
   },
   {
    "duration": 164084,
    "start_time": "2023-10-09T16:52:06.522Z"
   },
   {
    "duration": 4105,
    "start_time": "2023-10-09T16:55:06.032Z"
   },
   {
    "duration": 1151,
    "start_time": "2023-10-09T16:55:10.139Z"
   },
   {
    "duration": 40,
    "start_time": "2023-10-09T16:55:11.291Z"
   },
   {
    "duration": 101,
    "start_time": "2023-10-09T16:55:11.332Z"
   },
   {
    "duration": 27,
    "start_time": "2023-10-09T16:55:11.434Z"
   },
   {
    "duration": 67,
    "start_time": "2023-10-09T16:55:11.462Z"
   },
   {
    "duration": 220,
    "start_time": "2023-10-09T16:55:11.530Z"
   },
   {
    "duration": 62,
    "start_time": "2023-10-09T16:55:11.752Z"
   },
   {
    "duration": 955,
    "start_time": "2023-10-09T16:55:11.815Z"
   },
   {
    "duration": 4,
    "start_time": "2023-10-09T16:55:12.771Z"
   },
   {
    "duration": 79,
    "start_time": "2023-10-09T16:55:12.776Z"
   },
   {
    "duration": 95,
    "start_time": "2023-10-09T16:55:12.856Z"
   },
   {
    "duration": 136,
    "start_time": "2023-10-09T16:55:12.953Z"
   },
   {
    "duration": 26,
    "start_time": "2023-10-09T16:55:13.092Z"
   },
   {
    "duration": 24,
    "start_time": "2023-10-09T16:55:13.120Z"
   },
   {
    "duration": 16,
    "start_time": "2023-10-09T16:55:13.151Z"
   },
   {
    "duration": 20,
    "start_time": "2023-10-09T16:55:13.168Z"
   },
   {
    "duration": 15,
    "start_time": "2023-10-09T16:55:13.190Z"
   },
   {
    "duration": 27,
    "start_time": "2023-10-09T16:55:13.207Z"
   },
   {
    "duration": 30,
    "start_time": "2023-10-09T16:55:13.235Z"
   },
   {
    "duration": 31,
    "start_time": "2023-10-09T16:55:13.266Z"
   },
   {
    "duration": 25,
    "start_time": "2023-10-09T16:55:13.299Z"
   },
   {
    "duration": 28,
    "start_time": "2023-10-09T16:55:13.326Z"
   },
   {
    "duration": 3,
    "start_time": "2023-10-09T16:55:13.355Z"
   },
   {
    "duration": 30,
    "start_time": "2023-10-09T16:55:13.359Z"
   },
   {
    "duration": 47415,
    "start_time": "2023-10-09T16:55:13.390Z"
   },
   {
    "duration": 58,
    "start_time": "2023-10-09T16:56:00.806Z"
   },
   {
    "duration": 421,
    "start_time": "2023-10-09T16:56:00.950Z"
   },
   {
    "duration": 5,
    "start_time": "2023-10-09T16:56:01.373Z"
   },
   {
    "duration": 105,
    "start_time": "2023-10-09T16:56:01.379Z"
   },
   {
    "duration": 442,
    "start_time": "2023-10-09T16:56:01.485Z"
   },
   {
    "duration": 105,
    "start_time": "2023-10-09T16:56:01.929Z"
   },
   {
    "duration": 49039,
    "start_time": "2023-10-09T16:56:02.035Z"
   },
   {
    "duration": 105,
    "start_time": "2023-10-09T16:56:51.075Z"
   },
   {
    "duration": 62,
    "start_time": "2023-10-09T16:56:51.182Z"
   },
   {
    "duration": 3,
    "start_time": "2023-10-09T16:56:51.250Z"
   },
   {
    "duration": 152,
    "start_time": "2023-10-09T16:56:51.254Z"
   },
   {
    "duration": 81,
    "start_time": "2023-10-09T16:56:51.408Z"
   },
   {
    "duration": 128241,
    "start_time": "2023-10-09T16:56:51.490Z"
   },
   {
    "duration": 32,
    "start_time": "2023-10-09T16:58:59.739Z"
   },
   {
    "duration": 703,
    "start_time": "2023-10-09T16:58:59.774Z"
   },
   {
    "duration": 3,
    "start_time": "2023-10-09T16:59:00.479Z"
   },
   {
    "duration": 55,
    "start_time": "2023-10-09T16:59:00.483Z"
   },
   {
    "duration": 119,
    "start_time": "2023-10-09T16:59:00.539Z"
   },
   {
    "duration": 28225,
    "start_time": "2023-10-09T16:59:00.660Z"
   },
   {
    "duration": 195,
    "start_time": "2023-10-09T16:59:28.886Z"
   },
   {
    "duration": 74,
    "start_time": "2023-10-09T16:59:29.083Z"
   },
   {
    "duration": 390,
    "start_time": "2023-10-09T16:59:29.158Z"
   },
   {
    "duration": 113,
    "start_time": "2023-10-09T16:59:29.552Z"
   },
   {
    "duration": 120,
    "start_time": "2023-10-09T16:59:29.666Z"
   },
   {
    "duration": 5,
    "start_time": "2023-10-09T16:59:29.788Z"
   },
   {
    "duration": 15,
    "start_time": "2023-10-09T16:59:29.794Z"
   },
   {
    "duration": 10,
    "start_time": "2023-10-09T16:59:29.810Z"
   },
   {
    "duration": 34,
    "start_time": "2023-10-09T16:59:29.821Z"
   },
   {
    "duration": 26,
    "start_time": "2023-10-09T16:59:29.856Z"
   },
   {
    "duration": 22,
    "start_time": "2023-10-09T16:59:29.883Z"
   },
   {
    "duration": 38,
    "start_time": "2023-10-09T16:59:29.906Z"
   },
   {
    "duration": 33,
    "start_time": "2023-10-09T16:59:29.957Z"
   },
   {
    "duration": 82,
    "start_time": "2023-10-09T16:59:29.991Z"
   },
   {
    "duration": 330,
    "start_time": "2023-10-09T16:59:30.075Z"
   },
   {
    "duration": 186,
    "start_time": "2023-10-09T17:01:21.524Z"
   },
   {
    "duration": 98560,
    "start_time": "2023-10-09T17:03:48.163Z"
   },
   {
    "duration": 4596,
    "start_time": "2023-10-09T17:05:58.782Z"
   },
   {
    "duration": 1129,
    "start_time": "2023-10-09T17:06:03.380Z"
   },
   {
    "duration": 46,
    "start_time": "2023-10-09T17:06:04.510Z"
   },
   {
    "duration": 6,
    "start_time": "2023-10-09T17:06:04.558Z"
   },
   {
    "duration": 16,
    "start_time": "2023-10-09T17:06:04.566Z"
   },
   {
    "duration": 14,
    "start_time": "2023-10-09T17:06:04.584Z"
   },
   {
    "duration": 64,
    "start_time": "2023-10-09T17:06:04.600Z"
   },
   {
    "duration": 10,
    "start_time": "2023-10-09T17:06:04.665Z"
   },
   {
    "duration": 984,
    "start_time": "2023-10-09T17:06:04.677Z"
   },
   {
    "duration": 4,
    "start_time": "2023-10-09T17:06:05.663Z"
   },
   {
    "duration": 65,
    "start_time": "2023-10-09T17:06:05.669Z"
   },
   {
    "duration": 49,
    "start_time": "2023-10-09T17:06:05.736Z"
   },
   {
    "duration": 13,
    "start_time": "2023-10-09T17:06:05.787Z"
   },
   {
    "duration": 28,
    "start_time": "2023-10-09T17:06:05.803Z"
   },
   {
    "duration": 11,
    "start_time": "2023-10-09T17:06:05.832Z"
   },
   {
    "duration": 58,
    "start_time": "2023-10-09T17:06:05.845Z"
   },
   {
    "duration": 31,
    "start_time": "2023-10-09T17:06:05.904Z"
   },
   {
    "duration": 14,
    "start_time": "2023-10-09T17:06:05.936Z"
   },
   {
    "duration": 23,
    "start_time": "2023-10-09T17:06:05.952Z"
   },
   {
    "duration": 13,
    "start_time": "2023-10-09T17:06:05.977Z"
   },
   {
    "duration": 21,
    "start_time": "2023-10-09T17:06:05.993Z"
   },
   {
    "duration": 36,
    "start_time": "2023-10-09T17:06:06.016Z"
   },
   {
    "duration": 32,
    "start_time": "2023-10-09T17:06:06.054Z"
   },
   {
    "duration": 4,
    "start_time": "2023-10-09T17:06:06.088Z"
   },
   {
    "duration": 16,
    "start_time": "2023-10-09T17:06:06.094Z"
   },
   {
    "duration": 47862,
    "start_time": "2023-10-09T17:06:06.112Z"
   },
   {
    "duration": 179,
    "start_time": "2023-10-09T17:06:53.976Z"
   },
   {
    "duration": 579,
    "start_time": "2023-10-09T17:06:54.156Z"
   },
   {
    "duration": 6,
    "start_time": "2023-10-09T17:06:54.740Z"
   },
   {
    "duration": 21,
    "start_time": "2023-10-09T17:06:54.747Z"
   },
   {
    "duration": 447,
    "start_time": "2023-10-09T17:06:54.770Z"
   },
   {
    "duration": 146,
    "start_time": "2023-10-09T17:06:55.218Z"
   },
   {
    "duration": 47753,
    "start_time": "2023-10-09T17:06:55.366Z"
   },
   {
    "duration": 100,
    "start_time": "2023-10-09T17:07:43.120Z"
   },
   {
    "duration": 131,
    "start_time": "2023-10-09T17:07:43.221Z"
   },
   {
    "duration": 85,
    "start_time": "2023-10-09T17:07:43.355Z"
   },
   {
    "duration": 64,
    "start_time": "2023-10-09T17:07:43.442Z"
   },
   {
    "duration": 90,
    "start_time": "2023-10-09T17:07:43.508Z"
   },
   {
    "duration": 74600,
    "start_time": "2023-10-09T17:07:43.599Z"
   },
   {
    "duration": 140,
    "start_time": "2023-10-09T17:08:58.200Z"
   },
   {
    "duration": 579,
    "start_time": "2023-10-09T17:08:58.345Z"
   },
   {
    "duration": 3,
    "start_time": "2023-10-09T17:08:58.925Z"
   },
   {
    "duration": 22,
    "start_time": "2023-10-09T17:08:58.939Z"
   },
   {
    "duration": 85,
    "start_time": "2023-10-09T17:08:58.962Z"
   },
   {
    "duration": 27894,
    "start_time": "2023-10-09T17:08:59.049Z"
   },
   {
    "duration": 196,
    "start_time": "2023-10-09T17:09:26.945Z"
   },
   {
    "duration": 98,
    "start_time": "2023-10-09T17:09:27.142Z"
   },
   {
    "duration": 373,
    "start_time": "2023-10-09T17:09:27.241Z"
   },
   {
    "duration": 116,
    "start_time": "2023-10-09T17:09:27.616Z"
   },
   {
    "duration": 119,
    "start_time": "2023-10-09T17:09:27.740Z"
   },
   {
    "duration": 5,
    "start_time": "2023-10-09T17:09:27.860Z"
   },
   {
    "duration": 28,
    "start_time": "2023-10-09T17:09:27.867Z"
   },
   {
    "duration": 29,
    "start_time": "2023-10-09T17:09:27.897Z"
   },
   {
    "duration": 47,
    "start_time": "2023-10-09T17:09:27.927Z"
   },
   {
    "duration": 47,
    "start_time": "2023-10-09T17:09:27.976Z"
   },
   {
    "duration": 37,
    "start_time": "2023-10-09T17:09:28.024Z"
   },
   {
    "duration": 14,
    "start_time": "2023-10-09T17:09:28.063Z"
   },
   {
    "duration": 19,
    "start_time": "2023-10-09T17:09:28.078Z"
   },
   {
    "duration": 58,
    "start_time": "2023-10-09T17:09:28.098Z"
   },
   {
    "duration": 185,
    "start_time": "2023-10-09T17:09:28.157Z"
   },
   {
    "duration": 278,
    "start_time": "2023-10-09T17:10:38.294Z"
   },
   {
    "duration": 30153,
    "start_time": "2023-10-09T17:12:25.945Z"
   },
   {
    "duration": 10221,
    "start_time": "2023-10-09T17:13:12.101Z"
   },
   {
    "duration": 8190,
    "start_time": "2023-10-09T17:13:41.891Z"
   },
   {
    "duration": 22682,
    "start_time": "2023-10-09T17:14:03.092Z"
   },
   {
    "duration": 2,
    "start_time": "2023-10-09T17:14:48.918Z"
   },
   {
    "duration": 4418,
    "start_time": "2023-10-09T17:14:54.269Z"
   },
   {
    "duration": 1224,
    "start_time": "2023-10-09T17:14:58.689Z"
   },
   {
    "duration": 46,
    "start_time": "2023-10-09T17:14:59.915Z"
   },
   {
    "duration": 7,
    "start_time": "2023-10-09T17:14:59.962Z"
   },
   {
    "duration": 22,
    "start_time": "2023-10-09T17:14:59.971Z"
   },
   {
    "duration": 14,
    "start_time": "2023-10-09T17:14:59.994Z"
   },
   {
    "duration": 80,
    "start_time": "2023-10-09T17:15:00.010Z"
   },
   {
    "duration": 105,
    "start_time": "2023-10-09T17:15:00.092Z"
   },
   {
    "duration": 1115,
    "start_time": "2023-10-09T17:15:00.198Z"
   },
   {
    "duration": 5,
    "start_time": "2023-10-09T17:15:01.315Z"
   },
   {
    "duration": 74,
    "start_time": "2023-10-09T17:15:01.322Z"
   },
   {
    "duration": 187,
    "start_time": "2023-10-09T17:15:01.398Z"
   },
   {
    "duration": 30,
    "start_time": "2023-10-09T17:15:01.587Z"
   },
   {
    "duration": 74,
    "start_time": "2023-10-09T17:15:01.620Z"
   },
   {
    "duration": 102,
    "start_time": "2023-10-09T17:15:01.695Z"
   },
   {
    "duration": 69,
    "start_time": "2023-10-09T17:15:01.799Z"
   },
   {
    "duration": 108,
    "start_time": "2023-10-09T17:15:01.870Z"
   },
   {
    "duration": 79,
    "start_time": "2023-10-09T17:15:01.979Z"
   },
   {
    "duration": 47,
    "start_time": "2023-10-09T17:15:02.059Z"
   },
   {
    "duration": 26,
    "start_time": "2023-10-09T17:15:02.108Z"
   },
   {
    "duration": 53,
    "start_time": "2023-10-09T17:15:02.135Z"
   },
   {
    "duration": 46,
    "start_time": "2023-10-09T17:15:02.190Z"
   },
   {
    "duration": 59,
    "start_time": "2023-10-09T17:15:02.238Z"
   },
   {
    "duration": 59,
    "start_time": "2023-10-09T17:15:02.299Z"
   },
   {
    "duration": 62,
    "start_time": "2023-10-09T17:15:02.360Z"
   },
   {
    "duration": 49667,
    "start_time": "2023-10-09T17:15:02.423Z"
   },
   {
    "duration": 65,
    "start_time": "2023-10-09T17:15:52.091Z"
   },
   {
    "duration": 474,
    "start_time": "2023-10-09T17:15:52.158Z"
   },
   {
    "duration": 20,
    "start_time": "2023-10-09T17:15:52.634Z"
   },
   {
    "duration": 8,
    "start_time": "2023-10-09T17:15:52.656Z"
   },
   {
    "duration": 334,
    "start_time": "2023-10-09T17:15:52.666Z"
   },
   {
    "duration": 103,
    "start_time": "2023-10-09T17:15:53.002Z"
   },
   {
    "duration": 48055,
    "start_time": "2023-10-09T17:15:53.107Z"
   },
   {
    "duration": 103,
    "start_time": "2023-10-09T17:16:41.163Z"
   },
   {
    "duration": 17,
    "start_time": "2023-10-09T17:16:41.267Z"
   },
   {
    "duration": 6,
    "start_time": "2023-10-09T17:16:41.347Z"
   },
   {
    "duration": 136,
    "start_time": "2023-10-09T17:16:41.355Z"
   },
   {
    "duration": 85,
    "start_time": "2023-10-09T17:16:41.492Z"
   },
   {
    "duration": 74453,
    "start_time": "2023-10-09T17:16:41.579Z"
   },
   {
    "duration": 25,
    "start_time": "2023-10-09T17:17:56.033Z"
   },
   {
    "duration": 622,
    "start_time": "2023-10-09T17:17:56.140Z"
   },
   {
    "duration": 2,
    "start_time": "2023-10-09T17:17:56.764Z"
   },
   {
    "duration": 47,
    "start_time": "2023-10-09T17:17:56.767Z"
   },
   {
    "duration": 89,
    "start_time": "2023-10-09T17:17:56.816Z"
   },
   {
    "duration": 28156,
    "start_time": "2023-10-09T17:17:56.906Z"
   },
   {
    "duration": 187,
    "start_time": "2023-10-09T17:18:25.064Z"
   },
   {
    "duration": 88,
    "start_time": "2023-10-09T17:18:25.252Z"
   },
   {
    "duration": 371,
    "start_time": "2023-10-09T17:18:25.344Z"
   },
   {
    "duration": 124,
    "start_time": "2023-10-09T17:18:25.716Z"
   },
   {
    "duration": 114,
    "start_time": "2023-10-09T17:18:25.841Z"
   },
   {
    "duration": 5,
    "start_time": "2023-10-09T17:18:25.957Z"
   },
   {
    "duration": 24,
    "start_time": "2023-10-09T17:18:25.963Z"
   },
   {
    "duration": 8,
    "start_time": "2023-10-09T17:18:25.989Z"
   },
   {
    "duration": 21,
    "start_time": "2023-10-09T17:18:25.998Z"
   },
   {
    "duration": 24,
    "start_time": "2023-10-09T17:18:26.020Z"
   },
   {
    "duration": 21,
    "start_time": "2023-10-09T17:18:26.046Z"
   },
   {
    "duration": 3,
    "start_time": "2023-10-09T17:18:26.068Z"
   },
   {
    "duration": 9,
    "start_time": "2023-10-09T17:18:26.073Z"
   },
   {
    "duration": 40,
    "start_time": "2023-10-09T17:18:26.083Z"
   },
   {
    "duration": 2,
    "start_time": "2023-10-09T17:18:26.124Z"
   },
   {
    "duration": 20755,
    "start_time": "2023-10-09T17:18:26.127Z"
   },
   {
    "duration": 6,
    "start_time": "2023-10-09T17:20:52.074Z"
   },
   {
    "duration": 268,
    "start_time": "2023-10-09T17:22:46.706Z"
   },
   {
    "duration": 285,
    "start_time": "2023-10-09T17:23:29.151Z"
   },
   {
    "duration": 16174,
    "start_time": "2023-10-09T17:24:05.922Z"
   },
   {
    "duration": 16463,
    "start_time": "2023-10-09T17:24:42.081Z"
   },
   {
    "duration": 30856,
    "start_time": "2023-10-09T17:25:10.727Z"
   },
   {
    "duration": 10642,
    "start_time": "2023-10-09T17:25:55.865Z"
   },
   {
    "duration": 213,
    "start_time": "2023-10-09T17:26:24.239Z"
   },
   {
    "duration": 4149,
    "start_time": "2023-10-09T17:26:29.802Z"
   },
   {
    "duration": 1145,
    "start_time": "2023-10-09T17:26:33.953Z"
   },
   {
    "duration": 40,
    "start_time": "2023-10-09T17:26:35.099Z"
   },
   {
    "duration": 6,
    "start_time": "2023-10-09T17:26:35.141Z"
   },
   {
    "duration": 43,
    "start_time": "2023-10-09T17:26:35.148Z"
   },
   {
    "duration": 20,
    "start_time": "2023-10-09T17:26:35.192Z"
   },
   {
    "duration": 42,
    "start_time": "2023-10-09T17:26:35.213Z"
   },
   {
    "duration": 9,
    "start_time": "2023-10-09T17:26:35.256Z"
   },
   {
    "duration": 851,
    "start_time": "2023-10-09T17:26:35.266Z"
   },
   {
    "duration": 4,
    "start_time": "2023-10-09T17:26:36.119Z"
   },
   {
    "duration": 6,
    "start_time": "2023-10-09T17:26:36.124Z"
   },
   {
    "duration": 6,
    "start_time": "2023-10-09T17:26:36.131Z"
   },
   {
    "duration": 6,
    "start_time": "2023-10-09T17:26:36.138Z"
   },
   {
    "duration": 4,
    "start_time": "2023-10-09T17:26:36.145Z"
   },
   {
    "duration": 6,
    "start_time": "2023-10-09T17:26:36.151Z"
   },
   {
    "duration": 12,
    "start_time": "2023-10-09T17:26:36.158Z"
   },
   {
    "duration": 9,
    "start_time": "2023-10-09T17:26:36.172Z"
   },
   {
    "duration": 13,
    "start_time": "2023-10-09T17:26:36.182Z"
   },
   {
    "duration": 10,
    "start_time": "2023-10-09T17:26:36.197Z"
   },
   {
    "duration": 17,
    "start_time": "2023-10-09T17:26:36.208Z"
   },
   {
    "duration": 17,
    "start_time": "2023-10-09T17:26:36.226Z"
   },
   {
    "duration": 27,
    "start_time": "2023-10-09T17:26:36.244Z"
   },
   {
    "duration": 24,
    "start_time": "2023-10-09T17:26:36.273Z"
   },
   {
    "duration": 4,
    "start_time": "2023-10-09T17:26:36.298Z"
   },
   {
    "duration": 19,
    "start_time": "2023-10-09T17:26:36.303Z"
   },
   {
    "duration": 16062,
    "start_time": "2023-10-09T17:26:36.323Z"
   },
   {
    "duration": 66,
    "start_time": "2023-10-09T17:26:52.387Z"
   },
   {
    "duration": 400,
    "start_time": "2023-10-09T17:26:52.541Z"
   },
   {
    "duration": 5,
    "start_time": "2023-10-09T17:26:52.942Z"
   },
   {
    "duration": 10,
    "start_time": "2023-10-09T17:26:52.948Z"
   },
   {
    "duration": 325,
    "start_time": "2023-10-09T17:26:52.959Z"
   },
   {
    "duration": 146,
    "start_time": "2023-10-09T17:26:53.286Z"
   },
   {
    "duration": 16293,
    "start_time": "2023-10-09T17:26:53.433Z"
   },
   {
    "duration": 103,
    "start_time": "2023-10-09T17:27:09.727Z"
   },
   {
    "duration": 21,
    "start_time": "2023-10-09T17:27:09.831Z"
   },
   {
    "duration": 86,
    "start_time": "2023-10-09T17:27:09.854Z"
   },
   {
    "duration": 162,
    "start_time": "2023-10-09T17:27:09.942Z"
   },
   {
    "duration": 77,
    "start_time": "2023-10-09T17:27:10.106Z"
   },
   {
    "duration": 24998,
    "start_time": "2023-10-09T17:27:10.184Z"
   },
   {
    "duration": 60,
    "start_time": "2023-10-09T17:27:35.183Z"
   },
   {
    "duration": 644,
    "start_time": "2023-10-09T17:27:35.245Z"
   },
   {
    "duration": 2,
    "start_time": "2023-10-09T17:27:35.890Z"
   },
   {
    "duration": 22,
    "start_time": "2023-10-09T17:27:35.893Z"
   },
   {
    "duration": 97,
    "start_time": "2023-10-09T17:27:35.917Z"
   },
   {
    "duration": 10571,
    "start_time": "2023-10-09T17:27:36.016Z"
   },
   {
    "duration": 184,
    "start_time": "2023-10-09T17:27:46.588Z"
   },
   {
    "duration": 10,
    "start_time": "2023-10-09T17:27:46.774Z"
   },
   {
    "duration": 355,
    "start_time": "2023-10-09T17:27:46.785Z"
   },
   {
    "duration": 106,
    "start_time": "2023-10-09T17:27:47.141Z"
   },
   {
    "duration": 121,
    "start_time": "2023-10-09T17:27:47.248Z"
   },
   {
    "duration": 6,
    "start_time": "2023-10-09T17:27:47.370Z"
   },
   {
    "duration": 10,
    "start_time": "2023-10-09T17:27:47.377Z"
   },
   {
    "duration": 6,
    "start_time": "2023-10-09T17:27:47.388Z"
   },
   {
    "duration": 16,
    "start_time": "2023-10-09T17:27:47.395Z"
   },
   {
    "duration": 41,
    "start_time": "2023-10-09T17:27:47.412Z"
   },
   {
    "duration": 23,
    "start_time": "2023-10-09T17:27:47.454Z"
   },
   {
    "duration": 4,
    "start_time": "2023-10-09T17:27:47.479Z"
   },
   {
    "duration": 4,
    "start_time": "2023-10-09T17:27:47.485Z"
   },
   {
    "duration": 57,
    "start_time": "2023-10-09T17:27:47.491Z"
   },
   {
    "duration": 223,
    "start_time": "2023-10-09T17:27:47.550Z"
   },
   {
    "duration": 7,
    "start_time": "2023-10-09T17:27:47.774Z"
   },
   {
    "duration": 65,
    "start_time": "2023-10-09T17:28:21.642Z"
   },
   {
    "duration": 106,
    "start_time": "2023-10-09T17:29:36.307Z"
   },
   {
    "duration": 4035,
    "start_time": "2023-10-09T17:29:45.802Z"
   },
   {
    "duration": 1158,
    "start_time": "2023-10-09T17:29:49.839Z"
   },
   {
    "duration": 40,
    "start_time": "2023-10-09T17:29:50.999Z"
   },
   {
    "duration": 6,
    "start_time": "2023-10-09T17:29:51.041Z"
   },
   {
    "duration": 27,
    "start_time": "2023-10-09T17:29:51.050Z"
   },
   {
    "duration": 11,
    "start_time": "2023-10-09T17:29:51.079Z"
   },
   {
    "duration": 54,
    "start_time": "2023-10-09T17:29:51.092Z"
   },
   {
    "duration": 10,
    "start_time": "2023-10-09T17:29:51.148Z"
   },
   {
    "duration": 942,
    "start_time": "2023-10-09T17:29:51.159Z"
   },
   {
    "duration": 4,
    "start_time": "2023-10-09T17:29:52.102Z"
   },
   {
    "duration": 69,
    "start_time": "2023-10-09T17:29:52.107Z"
   },
   {
    "duration": 36,
    "start_time": "2023-10-09T17:29:52.177Z"
   },
   {
    "duration": 20,
    "start_time": "2023-10-09T17:29:52.214Z"
   },
   {
    "duration": 17,
    "start_time": "2023-10-09T17:29:52.236Z"
   },
   {
    "duration": 30,
    "start_time": "2023-10-09T17:29:52.255Z"
   },
   {
    "duration": 29,
    "start_time": "2023-10-09T17:29:52.287Z"
   },
   {
    "duration": 12,
    "start_time": "2023-10-09T17:29:52.317Z"
   },
   {
    "duration": 34,
    "start_time": "2023-10-09T17:29:52.330Z"
   },
   {
    "duration": 33,
    "start_time": "2023-10-09T17:29:52.365Z"
   },
   {
    "duration": 23,
    "start_time": "2023-10-09T17:29:52.400Z"
   },
   {
    "duration": 34,
    "start_time": "2023-10-09T17:29:52.425Z"
   },
   {
    "duration": 38,
    "start_time": "2023-10-09T17:29:52.461Z"
   },
   {
    "duration": 26,
    "start_time": "2023-10-09T17:29:52.501Z"
   },
   {
    "duration": 10,
    "start_time": "2023-10-09T17:29:52.529Z"
   },
   {
    "duration": 4,
    "start_time": "2023-10-09T17:29:52.541Z"
   },
   {
    "duration": 16195,
    "start_time": "2023-10-09T17:29:52.547Z"
   },
   {
    "duration": 96,
    "start_time": "2023-10-09T17:30:08.744Z"
   },
   {
    "duration": 414,
    "start_time": "2023-10-09T17:30:08.842Z"
   },
   {
    "duration": 6,
    "start_time": "2023-10-09T17:30:09.258Z"
   },
   {
    "duration": 10,
    "start_time": "2023-10-09T17:30:09.265Z"
   },
   {
    "duration": 341,
    "start_time": "2023-10-09T17:30:09.276Z"
   },
   {
    "duration": 154,
    "start_time": "2023-10-09T17:30:09.619Z"
   },
   {
    "duration": 16671,
    "start_time": "2023-10-09T17:30:09.775Z"
   },
   {
    "duration": 102,
    "start_time": "2023-10-09T17:30:26.447Z"
   },
   {
    "duration": 90,
    "start_time": "2023-10-09T17:30:26.550Z"
   },
   {
    "duration": 3,
    "start_time": "2023-10-09T17:30:26.641Z"
   },
   {
    "duration": 145,
    "start_time": "2023-10-09T17:30:26.646Z"
   },
   {
    "duration": 92,
    "start_time": "2023-10-09T17:30:26.793Z"
   },
   {
    "duration": 24976,
    "start_time": "2023-10-09T17:30:26.886Z"
   },
   {
    "duration": 22,
    "start_time": "2023-10-09T17:30:51.863Z"
   },
   {
    "duration": 628,
    "start_time": "2023-10-09T17:30:51.943Z"
   },
   {
    "duration": 3,
    "start_time": "2023-10-09T17:30:52.573Z"
   },
   {
    "duration": 21,
    "start_time": "2023-10-09T17:30:52.577Z"
   },
   {
    "duration": 90,
    "start_time": "2023-10-09T17:30:52.599Z"
   },
   {
    "duration": 10487,
    "start_time": "2023-10-09T17:30:52.690Z"
   },
   {
    "duration": 183,
    "start_time": "2023-10-09T17:31:03.179Z"
   },
   {
    "duration": 12,
    "start_time": "2023-10-09T17:31:03.363Z"
   },
   {
    "duration": 337,
    "start_time": "2023-10-09T17:31:03.377Z"
   },
   {
    "duration": 123,
    "start_time": "2023-10-09T17:31:03.716Z"
   },
   {
    "duration": 121,
    "start_time": "2023-10-09T17:31:03.841Z"
   },
   {
    "duration": 5,
    "start_time": "2023-10-09T17:31:03.964Z"
   },
   {
    "duration": 40,
    "start_time": "2023-10-09T17:31:03.970Z"
   },
   {
    "duration": 8,
    "start_time": "2023-10-09T17:31:04.011Z"
   },
   {
    "duration": 17,
    "start_time": "2023-10-09T17:31:04.020Z"
   },
   {
    "duration": 25,
    "start_time": "2023-10-09T17:31:04.038Z"
   },
   {
    "duration": 25,
    "start_time": "2023-10-09T17:31:04.064Z"
   },
   {
    "duration": 3,
    "start_time": "2023-10-09T17:31:04.091Z"
   },
   {
    "duration": 16,
    "start_time": "2023-10-09T17:31:04.095Z"
   },
   {
    "duration": 41,
    "start_time": "2023-10-09T17:31:04.112Z"
   },
   {
    "duration": 99,
    "start_time": "2023-10-09T17:31:04.154Z"
   },
   {
    "duration": 210,
    "start_time": "2023-10-09T17:31:04.254Z"
   },
   {
    "duration": 0,
    "start_time": "2023-10-09T17:31:04.466Z"
   },
   {
    "duration": 108,
    "start_time": "2023-10-09T19:04:39.559Z"
   },
   {
    "duration": 233,
    "start_time": "2023-10-09T19:38:20.706Z"
   },
   {
    "duration": 82,
    "start_time": "2023-10-09T19:38:35.094Z"
   },
   {
    "duration": 73,
    "start_time": "2023-10-09T19:58:37.185Z"
   },
   {
    "duration": 129,
    "start_time": "2023-10-09T19:59:30.616Z"
   },
   {
    "duration": 127,
    "start_time": "2023-10-09T19:59:51.913Z"
   },
   {
    "duration": 5307,
    "start_time": "2023-10-09T20:00:45.897Z"
   },
   {
    "duration": 1265,
    "start_time": "2023-10-09T20:00:51.207Z"
   },
   {
    "duration": 49,
    "start_time": "2023-10-09T20:00:52.474Z"
   },
   {
    "duration": 9,
    "start_time": "2023-10-09T20:00:52.526Z"
   },
   {
    "duration": 22,
    "start_time": "2023-10-09T20:00:52.538Z"
   },
   {
    "duration": 17,
    "start_time": "2023-10-09T20:00:52.561Z"
   },
   {
    "duration": 89,
    "start_time": "2023-10-09T20:00:52.580Z"
   },
   {
    "duration": 16,
    "start_time": "2023-10-09T20:00:52.671Z"
   },
   {
    "duration": 953,
    "start_time": "2023-10-09T20:00:52.690Z"
   },
   {
    "duration": 6,
    "start_time": "2023-10-09T20:00:53.645Z"
   },
   {
    "duration": 25,
    "start_time": "2023-10-09T20:00:53.653Z"
   },
   {
    "duration": 36,
    "start_time": "2023-10-09T20:00:53.680Z"
   },
   {
    "duration": 9,
    "start_time": "2023-10-09T20:00:53.718Z"
   },
   {
    "duration": 25,
    "start_time": "2023-10-09T20:00:53.731Z"
   },
   {
    "duration": 35,
    "start_time": "2023-10-09T20:00:53.758Z"
   },
   {
    "duration": 8,
    "start_time": "2023-10-09T20:00:53.795Z"
   },
   {
    "duration": 11,
    "start_time": "2023-10-09T20:00:53.805Z"
   },
   {
    "duration": 14,
    "start_time": "2023-10-09T20:00:53.817Z"
   },
   {
    "duration": 11,
    "start_time": "2023-10-09T20:00:53.833Z"
   },
   {
    "duration": 27,
    "start_time": "2023-10-09T20:00:53.846Z"
   },
   {
    "duration": 35,
    "start_time": "2023-10-09T20:00:53.875Z"
   },
   {
    "duration": 38,
    "start_time": "2023-10-09T20:00:53.912Z"
   },
   {
    "duration": 36,
    "start_time": "2023-10-09T20:00:53.952Z"
   },
   {
    "duration": 4,
    "start_time": "2023-10-09T20:00:53.989Z"
   },
   {
    "duration": 5,
    "start_time": "2023-10-09T20:00:53.994Z"
   },
   {
    "duration": 17567,
    "start_time": "2023-10-09T20:00:54.001Z"
   },
   {
    "duration": 79,
    "start_time": "2023-10-09T20:01:11.570Z"
   },
   {
    "duration": 520,
    "start_time": "2023-10-09T20:01:11.651Z"
   },
   {
    "duration": 6,
    "start_time": "2023-10-09T20:01:12.173Z"
   },
   {
    "duration": 42,
    "start_time": "2023-10-09T20:01:12.180Z"
   },
   {
    "duration": 415,
    "start_time": "2023-10-09T20:01:12.224Z"
   },
   {
    "duration": 162,
    "start_time": "2023-10-09T20:01:12.641Z"
   },
   {
    "duration": 17583,
    "start_time": "2023-10-09T20:01:12.805Z"
   },
   {
    "duration": 115,
    "start_time": "2023-10-09T20:01:30.389Z"
   },
   {
    "duration": 136,
    "start_time": "2023-10-09T20:01:30.506Z"
   },
   {
    "duration": 132,
    "start_time": "2023-10-09T20:01:30.645Z"
   },
   {
    "duration": 116,
    "start_time": "2023-10-09T20:01:30.779Z"
   },
   {
    "duration": 26933,
    "start_time": "2023-10-09T20:01:30.896Z"
   },
   {
    "duration": 26,
    "start_time": "2023-10-09T20:01:57.839Z"
   },
   {
    "duration": 724,
    "start_time": "2023-10-09T20:01:57.867Z"
   },
   {
    "duration": 7,
    "start_time": "2023-10-09T20:01:58.594Z"
   },
   {
    "duration": 98,
    "start_time": "2023-10-09T20:01:58.603Z"
   },
   {
    "duration": 11934,
    "start_time": "2023-10-09T20:01:58.702Z"
   },
   {
    "duration": 219,
    "start_time": "2023-10-09T20:02:10.642Z"
   },
   {
    "duration": 13,
    "start_time": "2023-10-09T20:02:10.862Z"
   },
   {
    "duration": 365,
    "start_time": "2023-10-09T20:02:10.877Z"
   },
   {
    "duration": 131,
    "start_time": "2023-10-09T20:02:11.243Z"
   },
   {
    "duration": 131,
    "start_time": "2023-10-09T20:02:11.375Z"
   },
   {
    "duration": 6,
    "start_time": "2023-10-09T20:02:11.507Z"
   },
   {
    "duration": 31,
    "start_time": "2023-10-09T20:02:11.514Z"
   },
   {
    "duration": 20,
    "start_time": "2023-10-09T20:02:11.546Z"
   },
   {
    "duration": 22,
    "start_time": "2023-10-09T20:02:11.567Z"
   },
   {
    "duration": 62,
    "start_time": "2023-10-09T20:02:11.591Z"
   },
   {
    "duration": 32,
    "start_time": "2023-10-09T20:02:11.655Z"
   },
   {
    "duration": 4,
    "start_time": "2023-10-09T20:02:11.689Z"
   },
   {
    "duration": 26,
    "start_time": "2023-10-09T20:02:11.694Z"
   },
   {
    "duration": 166,
    "start_time": "2023-10-09T20:02:11.722Z"
   },
   {
    "duration": 4451,
    "start_time": "2023-10-09T20:14:49.026Z"
   },
   {
    "duration": 1199,
    "start_time": "2023-10-09T20:14:53.479Z"
   },
   {
    "duration": 41,
    "start_time": "2023-10-09T20:14:54.679Z"
   },
   {
    "duration": 7,
    "start_time": "2023-10-09T20:14:54.722Z"
   },
   {
    "duration": 26,
    "start_time": "2023-10-09T20:14:54.731Z"
   },
   {
    "duration": 28,
    "start_time": "2023-10-09T20:14:54.759Z"
   },
   {
    "duration": 49,
    "start_time": "2023-10-09T20:14:54.789Z"
   },
   {
    "duration": 14,
    "start_time": "2023-10-09T20:14:54.839Z"
   },
   {
    "duration": 920,
    "start_time": "2023-10-09T20:14:54.855Z"
   },
   {
    "duration": 4,
    "start_time": "2023-10-09T20:14:55.777Z"
   },
   {
    "duration": 12,
    "start_time": "2023-10-09T20:14:55.782Z"
   },
   {
    "duration": 29,
    "start_time": "2023-10-09T20:14:55.795Z"
   },
   {
    "duration": 12,
    "start_time": "2023-10-09T20:14:55.825Z"
   },
   {
    "duration": 7,
    "start_time": "2023-10-09T20:14:55.839Z"
   },
   {
    "duration": 21,
    "start_time": "2023-10-09T20:14:55.848Z"
   },
   {
    "duration": 11,
    "start_time": "2023-10-09T20:14:55.870Z"
   },
   {
    "duration": 34,
    "start_time": "2023-10-09T20:14:55.883Z"
   },
   {
    "duration": 59,
    "start_time": "2023-10-09T20:14:55.919Z"
   },
   {
    "duration": 53,
    "start_time": "2023-10-09T20:14:55.980Z"
   },
   {
    "duration": 4,
    "start_time": "2023-10-09T20:14:56.035Z"
   },
   {
    "duration": 30,
    "start_time": "2023-10-09T20:14:56.041Z"
   },
   {
    "duration": 35,
    "start_time": "2023-10-09T20:14:56.073Z"
   },
   {
    "duration": 42,
    "start_time": "2023-10-09T20:14:56.110Z"
   },
   {
    "duration": 6,
    "start_time": "2023-10-09T20:14:56.156Z"
   },
   {
    "duration": 26,
    "start_time": "2023-10-09T20:14:56.164Z"
   },
   {
    "duration": 19281,
    "start_time": "2023-10-09T20:14:56.192Z"
   },
   {
    "duration": 95,
    "start_time": "2023-10-09T20:15:15.474Z"
   },
   {
    "duration": 468,
    "start_time": "2023-10-09T20:15:15.651Z"
   },
   {
    "duration": 7,
    "start_time": "2023-10-09T20:15:16.121Z"
   },
   {
    "duration": 23,
    "start_time": "2023-10-09T20:15:16.129Z"
   },
   {
    "duration": 443,
    "start_time": "2023-10-09T20:15:16.154Z"
   },
   {
    "duration": 19684,
    "start_time": "2023-10-09T20:15:16.599Z"
   },
   {
    "duration": 55,
    "start_time": "2023-10-09T20:15:36.285Z"
   },
   {
    "duration": 121,
    "start_time": "2023-10-09T20:15:36.343Z"
   },
   {
    "duration": 108,
    "start_time": "2023-10-09T20:15:36.465Z"
   },
   {
    "duration": 28917,
    "start_time": "2023-10-09T20:15:36.575Z"
   },
   {
    "duration": 152,
    "start_time": "2023-10-09T20:16:05.494Z"
   },
   {
    "duration": 781,
    "start_time": "2023-10-09T20:16:05.649Z"
   },
   {
    "duration": 12,
    "start_time": "2023-10-09T20:16:06.431Z"
   },
   {
    "duration": 99,
    "start_time": "2023-10-09T20:16:06.446Z"
   },
   {
    "duration": 11594,
    "start_time": "2023-10-09T20:16:06.547Z"
   },
   {
    "duration": 206,
    "start_time": "2023-10-09T20:16:18.143Z"
   },
   {
    "duration": 192,
    "start_time": "2023-10-09T20:16:18.351Z"
   },
   {
    "duration": 306,
    "start_time": "2023-10-09T20:16:18.545Z"
   },
   {
    "duration": 125,
    "start_time": "2023-10-09T20:16:18.853Z"
   },
   {
    "duration": 139,
    "start_time": "2023-10-09T20:16:18.980Z"
   },
   {
    "duration": 18,
    "start_time": "2023-10-09T20:16:19.122Z"
   },
   {
    "duration": 8,
    "start_time": "2023-10-09T20:16:19.142Z"
   },
   {
    "duration": 12,
    "start_time": "2023-10-09T20:16:19.151Z"
   },
   {
    "duration": 41,
    "start_time": "2023-10-09T20:16:19.165Z"
   },
   {
    "duration": 34,
    "start_time": "2023-10-09T20:16:19.208Z"
   },
   {
    "duration": 30,
    "start_time": "2023-10-09T20:16:19.243Z"
   },
   {
    "duration": 4,
    "start_time": "2023-10-09T20:16:19.274Z"
   },
   {
    "duration": 42,
    "start_time": "2023-10-09T20:16:19.280Z"
   },
   {
    "duration": 126,
    "start_time": "2023-10-09T20:16:19.323Z"
   },
   {
    "duration": 37,
    "start_time": "2023-10-09T20:17:19.027Z"
   },
   {
    "duration": 4257,
    "start_time": "2023-10-09T20:17:50.899Z"
   },
   {
    "duration": 1236,
    "start_time": "2023-10-09T20:17:55.159Z"
   },
   {
    "duration": 49,
    "start_time": "2023-10-09T20:17:56.399Z"
   },
   {
    "duration": 10,
    "start_time": "2023-10-09T20:17:56.450Z"
   },
   {
    "duration": 18,
    "start_time": "2023-10-09T20:17:56.462Z"
   },
   {
    "duration": 16,
    "start_time": "2023-10-09T20:17:56.482Z"
   },
   {
    "duration": 67,
    "start_time": "2023-10-09T20:17:56.499Z"
   },
   {
    "duration": 11,
    "start_time": "2023-10-09T20:17:56.568Z"
   },
   {
    "duration": 988,
    "start_time": "2023-10-09T20:17:56.581Z"
   },
   {
    "duration": 5,
    "start_time": "2023-10-09T20:17:57.571Z"
   },
   {
    "duration": 7,
    "start_time": "2023-10-09T20:17:57.578Z"
   },
   {
    "duration": 12,
    "start_time": "2023-10-09T20:17:57.587Z"
   },
   {
    "duration": 16,
    "start_time": "2023-10-09T20:17:57.601Z"
   },
   {
    "duration": 4,
    "start_time": "2023-10-09T20:17:57.623Z"
   },
   {
    "duration": 8,
    "start_time": "2023-10-09T20:17:57.629Z"
   },
   {
    "duration": 5,
    "start_time": "2023-10-09T20:17:57.639Z"
   },
   {
    "duration": 19,
    "start_time": "2023-10-09T20:17:57.646Z"
   },
   {
    "duration": 3,
    "start_time": "2023-10-09T20:17:57.667Z"
   },
   {
    "duration": 10,
    "start_time": "2023-10-09T20:17:57.672Z"
   },
   {
    "duration": 4,
    "start_time": "2023-10-09T20:17:57.684Z"
   },
   {
    "duration": 15,
    "start_time": "2023-10-09T20:17:57.689Z"
   },
   {
    "duration": 64,
    "start_time": "2023-10-09T20:17:57.706Z"
   },
   {
    "duration": 24,
    "start_time": "2023-10-09T20:17:57.772Z"
   },
   {
    "duration": 5,
    "start_time": "2023-10-09T20:17:57.797Z"
   },
   {
    "duration": 5,
    "start_time": "2023-10-09T20:17:57.803Z"
   },
   {
    "duration": 17549,
    "start_time": "2023-10-09T20:17:57.810Z"
   },
   {
    "duration": 185,
    "start_time": "2023-10-09T20:18:15.361Z"
   },
   {
    "duration": 584,
    "start_time": "2023-10-09T20:18:15.548Z"
   },
   {
    "duration": 7,
    "start_time": "2023-10-09T20:18:16.150Z"
   },
   {
    "duration": 8,
    "start_time": "2023-10-09T20:18:16.159Z"
   },
   {
    "duration": 495,
    "start_time": "2023-10-09T20:18:16.169Z"
   },
   {
    "duration": 20035,
    "start_time": "2023-10-09T20:18:16.668Z"
   },
   {
    "duration": 145,
    "start_time": "2023-10-09T20:18:36.705Z"
   },
   {
    "duration": 118,
    "start_time": "2023-10-09T20:18:36.853Z"
   },
   {
    "duration": 176,
    "start_time": "2023-10-09T20:18:36.973Z"
   },
   {
    "duration": 28995,
    "start_time": "2023-10-09T20:18:37.151Z"
   },
   {
    "duration": 123,
    "start_time": "2023-10-09T20:19:06.147Z"
   },
   {
    "duration": 592,
    "start_time": "2023-10-09T20:19:06.340Z"
   },
   {
    "duration": 11,
    "start_time": "2023-10-09T20:19:06.934Z"
   },
   {
    "duration": 109,
    "start_time": "2023-10-09T20:19:06.947Z"
   },
   {
    "duration": 12208,
    "start_time": "2023-10-09T20:19:07.060Z"
   },
   {
    "duration": 215,
    "start_time": "2023-10-09T20:19:19.270Z"
   },
   {
    "duration": 65,
    "start_time": "2023-10-09T20:19:19.487Z"
   },
   {
    "duration": 300,
    "start_time": "2023-10-09T20:19:19.553Z"
   },
   {
    "duration": 128,
    "start_time": "2023-10-09T20:19:19.855Z"
   },
   {
    "duration": 152,
    "start_time": "2023-10-09T20:19:19.984Z"
   },
   {
    "duration": 6,
    "start_time": "2023-10-09T20:19:20.138Z"
   },
   {
    "duration": 20,
    "start_time": "2023-10-09T20:19:20.146Z"
   },
   {
    "duration": 16,
    "start_time": "2023-10-09T20:19:20.167Z"
   },
   {
    "duration": 35,
    "start_time": "2023-10-09T20:19:20.186Z"
   },
   {
    "duration": 44,
    "start_time": "2023-10-09T20:19:20.224Z"
   },
   {
    "duration": 24,
    "start_time": "2023-10-09T20:19:20.269Z"
   },
   {
    "duration": 4,
    "start_time": "2023-10-09T20:19:20.294Z"
   },
   {
    "duration": 17,
    "start_time": "2023-10-09T20:19:20.299Z"
   },
   {
    "duration": 138,
    "start_time": "2023-10-09T20:19:20.317Z"
   },
   {
    "duration": 4849,
    "start_time": "2023-11-29T16:42:24.513Z"
   },
   {
    "duration": 45,
    "start_time": "2023-11-29T17:04:50.027Z"
   },
   {
    "duration": 4945,
    "start_time": "2023-11-29T17:05:00.283Z"
   },
   {
    "duration": 1277,
    "start_time": "2023-11-29T17:05:05.230Z"
   },
   {
    "duration": 79,
    "start_time": "2023-11-29T17:05:06.509Z"
   },
   {
    "duration": 8,
    "start_time": "2023-11-29T17:05:06.590Z"
   },
   {
    "duration": 21,
    "start_time": "2023-11-29T17:05:06.599Z"
   },
   {
    "duration": 13,
    "start_time": "2023-11-29T17:05:06.621Z"
   },
   {
    "duration": 53,
    "start_time": "2023-11-29T17:05:06.636Z"
   },
   {
    "duration": 13,
    "start_time": "2023-11-29T17:05:06.691Z"
   },
   {
    "duration": 1115,
    "start_time": "2023-11-29T17:05:06.705Z"
   },
   {
    "duration": 5,
    "start_time": "2023-11-29T17:05:07.822Z"
   },
   {
    "duration": 4,
    "start_time": "2023-11-29T17:05:07.828Z"
   },
   {
    "duration": 6,
    "start_time": "2023-11-29T17:05:07.834Z"
   },
   {
    "duration": 6,
    "start_time": "2023-11-29T17:05:07.842Z"
   },
   {
    "duration": 10,
    "start_time": "2023-11-29T17:05:07.849Z"
   },
   {
    "duration": 7,
    "start_time": "2023-11-29T17:05:07.860Z"
   },
   {
    "duration": 5,
    "start_time": "2023-11-29T17:05:07.869Z"
   },
   {
    "duration": 17,
    "start_time": "2023-11-29T17:05:07.875Z"
   },
   {
    "duration": 7,
    "start_time": "2023-11-29T17:05:07.894Z"
   },
   {
    "duration": 6,
    "start_time": "2023-11-29T17:05:07.902Z"
   },
   {
    "duration": 3,
    "start_time": "2023-11-29T17:05:07.910Z"
   },
   {
    "duration": 43,
    "start_time": "2023-11-29T17:05:07.915Z"
   },
   {
    "duration": 29,
    "start_time": "2023-11-29T17:05:07.960Z"
   },
   {
    "duration": 27,
    "start_time": "2023-11-29T17:05:07.990Z"
   },
   {
    "duration": 4,
    "start_time": "2023-11-29T17:05:08.018Z"
   },
   {
    "duration": 8,
    "start_time": "2023-11-29T17:05:08.023Z"
   },
   {
    "duration": 16692,
    "start_time": "2023-11-29T17:05:08.033Z"
   },
   {
    "duration": 38,
    "start_time": "2023-11-29T17:05:24.726Z"
   },
   {
    "duration": 502,
    "start_time": "2023-11-29T17:05:24.768Z"
   },
   {
    "duration": 5,
    "start_time": "2023-11-29T17:05:25.272Z"
   },
   {
    "duration": 11,
    "start_time": "2023-11-29T17:05:25.279Z"
   },
   {
    "duration": 326,
    "start_time": "2023-11-29T17:05:25.292Z"
   },
   {
    "duration": 17023,
    "start_time": "2023-11-29T17:05:25.619Z"
   },
   {
    "duration": 37,
    "start_time": "2023-11-29T17:05:42.644Z"
   },
   {
    "duration": 124,
    "start_time": "2023-11-29T17:05:42.760Z"
   },
   {
    "duration": 110,
    "start_time": "2023-11-29T17:05:42.886Z"
   },
   {
    "duration": 25164,
    "start_time": "2023-11-29T17:05:42.998Z"
   },
   {
    "duration": 24,
    "start_time": "2023-11-29T17:06:08.163Z"
   },
   {
    "duration": 672,
    "start_time": "2023-11-29T17:06:08.189Z"
   },
   {
    "duration": 8,
    "start_time": "2023-11-29T17:06:08.862Z"
   },
   {
    "duration": 102,
    "start_time": "2023-11-29T17:06:08.872Z"
   },
   {
    "duration": 11523,
    "start_time": "2023-11-29T17:06:08.976Z"
   },
   {
    "duration": 195,
    "start_time": "2023-11-29T17:06:20.500Z"
   },
   {
    "duration": 14,
    "start_time": "2023-11-29T17:06:20.697Z"
   },
   {
    "duration": 389,
    "start_time": "2023-11-29T17:06:20.760Z"
   },
   {
    "duration": 128,
    "start_time": "2023-11-29T17:06:21.150Z"
   },
   {
    "duration": 133,
    "start_time": "2023-11-29T17:06:21.279Z"
   },
   {
    "duration": 6,
    "start_time": "2023-11-29T17:06:21.413Z"
   },
   {
    "duration": 9,
    "start_time": "2023-11-29T17:06:21.421Z"
   },
   {
    "duration": 3,
    "start_time": "2023-11-29T17:06:21.432Z"
   },
   {
    "duration": 36,
    "start_time": "2023-11-29T17:06:21.436Z"
   },
   {
    "duration": 29,
    "start_time": "2023-11-29T17:06:21.473Z"
   },
   {
    "duration": 25,
    "start_time": "2023-11-29T17:06:21.503Z"
   },
   {
    "duration": 3,
    "start_time": "2023-11-29T17:06:21.530Z"
   },
   {
    "duration": 4,
    "start_time": "2023-11-29T17:06:21.559Z"
   },
   {
    "duration": 122,
    "start_time": "2023-11-29T17:06:21.565Z"
   },
   {
    "duration": 4,
    "start_time": "2023-11-29T17:06:21.689Z"
   },
   {
    "duration": 51,
    "start_time": "2024-03-17T15:45:46.649Z"
   },
   {
    "duration": 5115,
    "start_time": "2024-03-17T15:45:55.575Z"
   },
   {
    "duration": 1466,
    "start_time": "2024-03-17T15:46:00.693Z"
   },
   {
    "duration": 85,
    "start_time": "2024-03-17T15:46:02.161Z"
   },
   {
    "duration": 8,
    "start_time": "2024-03-17T15:46:02.249Z"
   },
   {
    "duration": 71,
    "start_time": "2024-03-17T15:46:02.259Z"
   },
   {
    "duration": 20,
    "start_time": "2024-03-17T15:46:02.332Z"
   },
   {
    "duration": 76,
    "start_time": "2024-03-17T15:46:02.353Z"
   },
   {
    "duration": 12,
    "start_time": "2024-03-17T15:46:02.431Z"
   },
   {
    "duration": 1042,
    "start_time": "2024-03-17T15:46:02.445Z"
   },
   {
    "duration": 4,
    "start_time": "2024-03-17T15:46:03.490Z"
   },
   {
    "duration": 4,
    "start_time": "2024-03-17T15:46:03.496Z"
   },
   {
    "duration": 17,
    "start_time": "2024-03-17T15:46:03.501Z"
   },
   {
    "duration": 7,
    "start_time": "2024-03-17T15:46:03.519Z"
   },
   {
    "duration": 8,
    "start_time": "2024-03-17T15:46:03.528Z"
   },
   {
    "duration": 11,
    "start_time": "2024-03-17T15:46:03.537Z"
   },
   {
    "duration": 14,
    "start_time": "2024-03-17T15:46:03.549Z"
   },
   {
    "duration": 14,
    "start_time": "2024-03-17T15:46:03.565Z"
   },
   {
    "duration": 5,
    "start_time": "2024-03-17T15:46:03.580Z"
   },
   {
    "duration": 28,
    "start_time": "2024-03-17T15:46:03.587Z"
   },
   {
    "duration": 3,
    "start_time": "2024-03-17T15:46:03.617Z"
   },
   {
    "duration": 20,
    "start_time": "2024-03-17T15:46:03.621Z"
   },
   {
    "duration": 36,
    "start_time": "2024-03-17T15:46:03.642Z"
   },
   {
    "duration": 53,
    "start_time": "2024-03-17T15:46:03.679Z"
   },
   {
    "duration": 4,
    "start_time": "2024-03-17T15:46:03.733Z"
   },
   {
    "duration": 5,
    "start_time": "2024-03-17T15:46:03.739Z"
   },
   {
    "duration": 17947,
    "start_time": "2024-03-17T15:46:03.746Z"
   },
   {
    "duration": 31,
    "start_time": "2024-03-17T15:46:21.695Z"
   },
   {
    "duration": 460,
    "start_time": "2024-03-17T15:46:21.819Z"
   },
   {
    "duration": 6,
    "start_time": "2024-03-17T15:46:22.280Z"
   },
   {
    "duration": 5,
    "start_time": "2024-03-17T15:46:22.287Z"
   },
   {
    "duration": 355,
    "start_time": "2024-03-17T15:46:22.294Z"
   },
   {
    "duration": 17819,
    "start_time": "2024-03-17T15:46:22.651Z"
   },
   {
    "duration": 45,
    "start_time": "2024-03-17T15:46:40.471Z"
   },
   {
    "duration": 123,
    "start_time": "2024-03-17T15:46:40.518Z"
   },
   {
    "duration": 120,
    "start_time": "2024-03-17T15:46:40.642Z"
   },
   {
    "duration": 26172,
    "start_time": "2024-03-17T15:46:40.764Z"
   },
   {
    "duration": 25,
    "start_time": "2024-03-17T15:47:06.938Z"
   },
   {
    "duration": 621,
    "start_time": "2024-03-17T15:47:07.016Z"
   },
   {
    "duration": 7,
    "start_time": "2024-03-17T15:47:07.639Z"
   },
   {
    "duration": 104,
    "start_time": "2024-03-17T15:47:07.648Z"
   },
   {
    "duration": 12136,
    "start_time": "2024-03-17T15:47:07.754Z"
   },
   {
    "duration": 199,
    "start_time": "2024-03-17T15:47:19.891Z"
   },
   {
    "duration": 124,
    "start_time": "2024-03-17T15:47:20.091Z"
   },
   {
    "duration": 386,
    "start_time": "2024-03-17T15:47:20.218Z"
   },
   {
    "duration": 140,
    "start_time": "2024-03-17T15:47:20.606Z"
   },
   {
    "duration": 152,
    "start_time": "2024-03-17T15:47:20.748Z"
   },
   {
    "duration": 14,
    "start_time": "2024-03-17T15:47:20.902Z"
   },
   {
    "duration": 11,
    "start_time": "2024-03-17T15:47:20.918Z"
   },
   {
    "duration": 3,
    "start_time": "2024-03-17T15:47:20.930Z"
   },
   {
    "duration": 23,
    "start_time": "2024-03-17T15:47:20.935Z"
   },
   {
    "duration": 37,
    "start_time": "2024-03-17T15:47:20.960Z"
   },
   {
    "duration": 36,
    "start_time": "2024-03-17T15:47:20.998Z"
   },
   {
    "duration": 4,
    "start_time": "2024-03-17T15:47:21.036Z"
   },
   {
    "duration": 9,
    "start_time": "2024-03-17T15:47:21.041Z"
   },
   {
    "duration": 151,
    "start_time": "2024-03-17T15:47:21.051Z"
   },
   {
    "duration": 12,
    "start_time": "2024-03-17T15:47:21.206Z"
   },
   {
    "duration": 4,
    "start_time": "2024-03-17T17:02:59.657Z"
   },
   {
    "duration": 5358,
    "start_time": "2024-03-17T19:20:18.910Z"
   },
   {
    "duration": 1532,
    "start_time": "2024-03-17T19:20:24.272Z"
   },
   {
    "duration": 46,
    "start_time": "2024-03-17T19:20:25.806Z"
   },
   {
    "duration": 6,
    "start_time": "2024-03-17T19:20:25.854Z"
   },
   {
    "duration": 22,
    "start_time": "2024-03-17T19:20:25.863Z"
   },
   {
    "duration": 11,
    "start_time": "2024-03-17T19:20:25.887Z"
   },
   {
    "duration": 41,
    "start_time": "2024-03-17T19:20:25.900Z"
   },
   {
    "duration": 9,
    "start_time": "2024-03-17T19:20:25.943Z"
   },
   {
    "duration": 278,
    "start_time": "2024-03-17T19:20:25.954Z"
   },
   {
    "duration": 0,
    "start_time": "2024-03-17T19:20:26.236Z"
   },
   {
    "duration": 0,
    "start_time": "2024-03-17T19:20:26.238Z"
   },
   {
    "duration": 0,
    "start_time": "2024-03-17T19:20:26.239Z"
   },
   {
    "duration": 0,
    "start_time": "2024-03-17T19:20:26.241Z"
   },
   {
    "duration": 0,
    "start_time": "2024-03-17T19:20:26.242Z"
   },
   {
    "duration": 0,
    "start_time": "2024-03-17T19:20:26.243Z"
   },
   {
    "duration": 0,
    "start_time": "2024-03-17T19:20:26.245Z"
   },
   {
    "duration": 0,
    "start_time": "2024-03-17T19:20:26.246Z"
   },
   {
    "duration": 0,
    "start_time": "2024-03-17T19:20:26.247Z"
   },
   {
    "duration": 0,
    "start_time": "2024-03-17T19:20:26.249Z"
   },
   {
    "duration": 0,
    "start_time": "2024-03-17T19:20:26.250Z"
   },
   {
    "duration": 0,
    "start_time": "2024-03-17T19:20:26.251Z"
   },
   {
    "duration": 0,
    "start_time": "2024-03-17T19:20:26.253Z"
   },
   {
    "duration": 0,
    "start_time": "2024-03-17T19:20:26.254Z"
   },
   {
    "duration": 0,
    "start_time": "2024-03-17T19:20:26.255Z"
   },
   {
    "duration": 0,
    "start_time": "2024-03-17T19:20:26.257Z"
   },
   {
    "duration": 0,
    "start_time": "2024-03-17T19:20:26.258Z"
   },
   {
    "duration": 0,
    "start_time": "2024-03-17T19:20:26.259Z"
   },
   {
    "duration": 0,
    "start_time": "2024-03-17T19:20:26.260Z"
   },
   {
    "duration": 0,
    "start_time": "2024-03-17T19:20:26.262Z"
   },
   {
    "duration": 0,
    "start_time": "2024-03-17T19:20:26.263Z"
   },
   {
    "duration": 0,
    "start_time": "2024-03-17T19:20:26.315Z"
   },
   {
    "duration": 0,
    "start_time": "2024-03-17T19:20:26.317Z"
   },
   {
    "duration": 0,
    "start_time": "2024-03-17T19:20:26.318Z"
   },
   {
    "duration": 0,
    "start_time": "2024-03-17T19:20:26.319Z"
   },
   {
    "duration": 0,
    "start_time": "2024-03-17T19:20:26.321Z"
   },
   {
    "duration": 0,
    "start_time": "2024-03-17T19:20:26.322Z"
   },
   {
    "duration": 0,
    "start_time": "2024-03-17T19:20:26.323Z"
   },
   {
    "duration": 0,
    "start_time": "2024-03-17T19:20:26.324Z"
   },
   {
    "duration": 0,
    "start_time": "2024-03-17T19:20:26.326Z"
   },
   {
    "duration": 0,
    "start_time": "2024-03-17T19:20:26.328Z"
   },
   {
    "duration": 0,
    "start_time": "2024-03-17T19:20:26.329Z"
   },
   {
    "duration": 0,
    "start_time": "2024-03-17T19:20:26.331Z"
   },
   {
    "duration": 0,
    "start_time": "2024-03-17T19:20:26.332Z"
   },
   {
    "duration": 0,
    "start_time": "2024-03-17T19:20:26.333Z"
   },
   {
    "duration": 0,
    "start_time": "2024-03-17T19:20:26.335Z"
   },
   {
    "duration": 0,
    "start_time": "2024-03-17T19:20:26.336Z"
   },
   {
    "duration": 0,
    "start_time": "2024-03-17T19:20:26.338Z"
   },
   {
    "duration": 0,
    "start_time": "2024-03-17T19:20:26.339Z"
   },
   {
    "duration": 0,
    "start_time": "2024-03-17T19:20:26.340Z"
   },
   {
    "duration": 0,
    "start_time": "2024-03-17T19:20:26.342Z"
   },
   {
    "duration": 0,
    "start_time": "2024-03-17T19:20:26.343Z"
   },
   {
    "duration": 0,
    "start_time": "2024-03-17T19:20:26.344Z"
   },
   {
    "duration": 0,
    "start_time": "2024-03-17T19:20:26.345Z"
   },
   {
    "duration": 0,
    "start_time": "2024-03-17T19:20:26.347Z"
   },
   {
    "duration": 0,
    "start_time": "2024-03-17T19:20:26.348Z"
   },
   {
    "duration": 5405,
    "start_time": "2024-03-17T19:22:23.504Z"
   },
   {
    "duration": 1591,
    "start_time": "2024-03-17T19:22:30.147Z"
   },
   {
    "duration": 46,
    "start_time": "2024-03-17T19:22:34.544Z"
   },
   {
    "duration": 7,
    "start_time": "2024-03-17T19:22:35.559Z"
   },
   {
    "duration": 15,
    "start_time": "2024-03-17T19:22:36.624Z"
   },
   {
    "duration": 11,
    "start_time": "2024-03-17T19:22:38.524Z"
   },
   {
    "duration": 43,
    "start_time": "2024-03-17T19:22:39.744Z"
   },
   {
    "duration": 10,
    "start_time": "2024-03-17T19:22:45.036Z"
   },
   {
    "duration": 282,
    "start_time": "2024-03-17T19:22:48.048Z"
   },
   {
    "duration": 4,
    "start_time": "2024-03-17T19:22:59.352Z"
   },
   {
    "duration": 4,
    "start_time": "2024-03-17T19:23:02.421Z"
   },
   {
    "duration": 5,
    "start_time": "2024-03-17T19:23:04.178Z"
   },
   {
    "duration": 7,
    "start_time": "2024-03-17T19:23:05.033Z"
   },
   {
    "duration": 4,
    "start_time": "2024-03-17T19:23:06.822Z"
   },
   {
    "duration": 7,
    "start_time": "2024-03-17T19:23:07.692Z"
   },
   {
    "duration": 5469,
    "start_time": "2024-03-17T20:33:43.092Z"
   },
   {
    "duration": 1589,
    "start_time": "2024-03-17T20:33:48.564Z"
   },
   {
    "duration": 46,
    "start_time": "2024-03-17T20:33:50.155Z"
   },
   {
    "duration": 6,
    "start_time": "2024-03-17T20:33:50.204Z"
   },
   {
    "duration": 19,
    "start_time": "2024-03-17T20:33:50.213Z"
   },
   {
    "duration": 12,
    "start_time": "2024-03-17T20:33:50.234Z"
   },
   {
    "duration": 47,
    "start_time": "2024-03-17T20:33:50.248Z"
   },
   {
    "duration": 20,
    "start_time": "2024-03-17T20:33:50.297Z"
   },
   {
    "duration": 273,
    "start_time": "2024-03-17T20:33:50.320Z"
   },
   {
    "duration": 0,
    "start_time": "2024-03-17T20:33:50.597Z"
   },
   {
    "duration": 0,
    "start_time": "2024-03-17T20:33:50.598Z"
   },
   {
    "duration": 0,
    "start_time": "2024-03-17T20:33:50.600Z"
   },
   {
    "duration": 0,
    "start_time": "2024-03-17T20:33:50.601Z"
   },
   {
    "duration": 0,
    "start_time": "2024-03-17T20:33:50.602Z"
   },
   {
    "duration": 0,
    "start_time": "2024-03-17T20:33:50.603Z"
   },
   {
    "duration": 0,
    "start_time": "2024-03-17T20:33:50.615Z"
   },
   {
    "duration": 0,
    "start_time": "2024-03-17T20:33:50.616Z"
   },
   {
    "duration": 0,
    "start_time": "2024-03-17T20:33:50.617Z"
   },
   {
    "duration": 0,
    "start_time": "2024-03-17T20:33:50.618Z"
   },
   {
    "duration": 0,
    "start_time": "2024-03-17T20:33:50.619Z"
   },
   {
    "duration": 0,
    "start_time": "2024-03-17T20:33:50.621Z"
   },
   {
    "duration": 0,
    "start_time": "2024-03-17T20:33:50.622Z"
   },
   {
    "duration": 0,
    "start_time": "2024-03-17T20:33:50.623Z"
   },
   {
    "duration": 0,
    "start_time": "2024-03-17T20:33:50.624Z"
   },
   {
    "duration": 0,
    "start_time": "2024-03-17T20:33:50.625Z"
   },
   {
    "duration": 0,
    "start_time": "2024-03-17T20:33:50.626Z"
   },
   {
    "duration": 0,
    "start_time": "2024-03-17T20:33:50.628Z"
   },
   {
    "duration": 0,
    "start_time": "2024-03-17T20:33:50.629Z"
   },
   {
    "duration": 0,
    "start_time": "2024-03-17T20:33:50.630Z"
   },
   {
    "duration": 0,
    "start_time": "2024-03-17T20:33:50.631Z"
   },
   {
    "duration": 0,
    "start_time": "2024-03-17T20:33:50.632Z"
   },
   {
    "duration": 0,
    "start_time": "2024-03-17T20:33:50.633Z"
   },
   {
    "duration": 0,
    "start_time": "2024-03-17T20:33:50.635Z"
   },
   {
    "duration": 0,
    "start_time": "2024-03-17T20:33:50.636Z"
   },
   {
    "duration": 0,
    "start_time": "2024-03-17T20:33:50.637Z"
   },
   {
    "duration": 0,
    "start_time": "2024-03-17T20:33:50.638Z"
   },
   {
    "duration": 0,
    "start_time": "2024-03-17T20:33:50.640Z"
   },
   {
    "duration": 0,
    "start_time": "2024-03-17T20:33:50.641Z"
   },
   {
    "duration": 0,
    "start_time": "2024-03-17T20:33:50.642Z"
   },
   {
    "duration": 0,
    "start_time": "2024-03-17T20:33:50.644Z"
   },
   {
    "duration": 0,
    "start_time": "2024-03-17T20:33:50.644Z"
   },
   {
    "duration": 0,
    "start_time": "2024-03-17T20:33:50.646Z"
   },
   {
    "duration": 0,
    "start_time": "2024-03-17T20:33:50.647Z"
   },
   {
    "duration": 0,
    "start_time": "2024-03-17T20:33:50.648Z"
   },
   {
    "duration": 0,
    "start_time": "2024-03-17T20:33:50.650Z"
   },
   {
    "duration": 0,
    "start_time": "2024-03-17T20:33:50.651Z"
   },
   {
    "duration": 0,
    "start_time": "2024-03-17T20:33:50.716Z"
   },
   {
    "duration": 1,
    "start_time": "2024-03-17T20:33:50.717Z"
   },
   {
    "duration": 0,
    "start_time": "2024-03-17T20:33:50.719Z"
   },
   {
    "duration": 0,
    "start_time": "2024-03-17T20:33:50.720Z"
   },
   {
    "duration": 0,
    "start_time": "2024-03-17T20:33:50.721Z"
   },
   {
    "duration": 0,
    "start_time": "2024-03-17T20:33:50.722Z"
   },
   {
    "duration": 0,
    "start_time": "2024-03-17T20:33:50.723Z"
   },
   {
    "duration": 0,
    "start_time": "2024-03-17T20:33:50.724Z"
   },
   {
    "duration": 0,
    "start_time": "2024-03-17T20:33:50.726Z"
   },
   {
    "duration": 10,
    "start_time": "2024-03-17T20:34:04.239Z"
   },
   {
    "duration": 14,
    "start_time": "2024-03-17T20:35:30.532Z"
   },
   {
    "duration": 13,
    "start_time": "2024-03-17T20:35:37.458Z"
   },
   {
    "duration": 5424,
    "start_time": "2024-03-17T20:38:20.435Z"
   },
   {
    "duration": 1641,
    "start_time": "2024-03-17T20:38:25.862Z"
   },
   {
    "duration": 51,
    "start_time": "2024-03-17T20:38:27.505Z"
   },
   {
    "duration": 6,
    "start_time": "2024-03-17T20:38:27.560Z"
   },
   {
    "duration": 17,
    "start_time": "2024-03-17T20:38:27.568Z"
   },
   {
    "duration": 34,
    "start_time": "2024-03-17T20:38:27.588Z"
   },
   {
    "duration": 46,
    "start_time": "2024-03-17T20:38:27.624Z"
   },
   {
    "duration": 10,
    "start_time": "2024-03-17T20:38:27.672Z"
   },
   {
    "duration": 171,
    "start_time": "2024-03-17T20:38:27.684Z"
   },
   {
    "duration": 0,
    "start_time": "2024-03-17T20:38:27.861Z"
   },
   {
    "duration": 0,
    "start_time": "2024-03-17T20:38:27.863Z"
   },
   {
    "duration": 0,
    "start_time": "2024-03-17T20:38:27.865Z"
   },
   {
    "duration": 0,
    "start_time": "2024-03-17T20:38:27.867Z"
   },
   {
    "duration": 0,
    "start_time": "2024-03-17T20:38:27.868Z"
   },
   {
    "duration": 0,
    "start_time": "2024-03-17T20:38:27.870Z"
   },
   {
    "duration": 0,
    "start_time": "2024-03-17T20:38:27.872Z"
   },
   {
    "duration": 1,
    "start_time": "2024-03-17T20:38:27.873Z"
   },
   {
    "duration": 0,
    "start_time": "2024-03-17T20:38:27.876Z"
   },
   {
    "duration": 0,
    "start_time": "2024-03-17T20:38:27.877Z"
   },
   {
    "duration": 0,
    "start_time": "2024-03-17T20:38:27.879Z"
   },
   {
    "duration": 0,
    "start_time": "2024-03-17T20:38:27.881Z"
   },
   {
    "duration": 0,
    "start_time": "2024-03-17T20:38:27.882Z"
   },
   {
    "duration": 0,
    "start_time": "2024-03-17T20:38:27.915Z"
   },
   {
    "duration": 0,
    "start_time": "2024-03-17T20:38:27.917Z"
   },
   {
    "duration": 0,
    "start_time": "2024-03-17T20:38:27.919Z"
   },
   {
    "duration": 0,
    "start_time": "2024-03-17T20:38:27.922Z"
   },
   {
    "duration": 0,
    "start_time": "2024-03-17T20:38:27.924Z"
   },
   {
    "duration": 0,
    "start_time": "2024-03-17T20:38:27.925Z"
   },
   {
    "duration": 0,
    "start_time": "2024-03-17T20:38:27.927Z"
   },
   {
    "duration": 0,
    "start_time": "2024-03-17T20:38:27.930Z"
   },
   {
    "duration": 0,
    "start_time": "2024-03-17T20:38:27.931Z"
   },
   {
    "duration": 0,
    "start_time": "2024-03-17T20:38:27.935Z"
   },
   {
    "duration": 0,
    "start_time": "2024-03-17T20:38:27.936Z"
   },
   {
    "duration": 0,
    "start_time": "2024-03-17T20:38:27.938Z"
   },
   {
    "duration": 0,
    "start_time": "2024-03-17T20:38:27.939Z"
   },
   {
    "duration": 0,
    "start_time": "2024-03-17T20:38:27.941Z"
   },
   {
    "duration": 0,
    "start_time": "2024-03-17T20:38:27.943Z"
   },
   {
    "duration": 0,
    "start_time": "2024-03-17T20:38:27.945Z"
   },
   {
    "duration": 0,
    "start_time": "2024-03-17T20:38:27.946Z"
   },
   {
    "duration": 0,
    "start_time": "2024-03-17T20:38:27.948Z"
   },
   {
    "duration": 0,
    "start_time": "2024-03-17T20:38:27.950Z"
   },
   {
    "duration": 1,
    "start_time": "2024-03-17T20:38:27.951Z"
   },
   {
    "duration": 0,
    "start_time": "2024-03-17T20:38:28.014Z"
   },
   {
    "duration": 0,
    "start_time": "2024-03-17T20:38:28.016Z"
   },
   {
    "duration": 0,
    "start_time": "2024-03-17T20:38:28.019Z"
   },
   {
    "duration": 0,
    "start_time": "2024-03-17T20:38:28.020Z"
   },
   {
    "duration": 0,
    "start_time": "2024-03-17T20:38:28.023Z"
   },
   {
    "duration": 0,
    "start_time": "2024-03-17T20:38:28.025Z"
   },
   {
    "duration": 0,
    "start_time": "2024-03-17T20:38:28.027Z"
   },
   {
    "duration": 0,
    "start_time": "2024-03-17T20:38:28.028Z"
   },
   {
    "duration": 0,
    "start_time": "2024-03-17T20:38:28.029Z"
   },
   {
    "duration": 0,
    "start_time": "2024-03-17T20:38:28.032Z"
   },
   {
    "duration": 0,
    "start_time": "2024-03-17T20:38:28.033Z"
   },
   {
    "duration": 0,
    "start_time": "2024-03-17T20:38:28.034Z"
   },
   {
    "duration": 0,
    "start_time": "2024-03-17T20:38:28.036Z"
   },
   {
    "duration": 0,
    "start_time": "2024-03-17T20:38:28.037Z"
   },
   {
    "duration": 170,
    "start_time": "2024-03-17T20:38:35.140Z"
   },
   {
    "duration": 62,
    "start_time": "2024-03-18T08:44:01.747Z"
   },
   {
    "duration": 4773,
    "start_time": "2024-03-18T08:44:06.404Z"
   },
   {
    "duration": 1258,
    "start_time": "2024-03-18T08:44:11.179Z"
   },
   {
    "duration": 86,
    "start_time": "2024-03-18T08:44:12.438Z"
   },
   {
    "duration": 6,
    "start_time": "2024-03-18T08:44:12.526Z"
   },
   {
    "duration": 51,
    "start_time": "2024-03-18T08:44:12.534Z"
   },
   {
    "duration": 41,
    "start_time": "2024-03-18T08:44:12.587Z"
   },
   {
    "duration": 79,
    "start_time": "2024-03-18T08:44:12.630Z"
   },
   {
    "duration": 10,
    "start_time": "2024-03-18T08:44:12.711Z"
   },
   {
    "duration": 425,
    "start_time": "2024-03-18T08:44:12.722Z"
   },
   {
    "duration": 975,
    "start_time": "2024-03-18T08:44:13.148Z"
   },
   {
    "duration": 5,
    "start_time": "2024-03-18T08:44:14.125Z"
   },
   {
    "duration": 20,
    "start_time": "2024-03-18T08:44:14.132Z"
   },
   {
    "duration": 21,
    "start_time": "2024-03-18T08:44:14.153Z"
   },
   {
    "duration": 13,
    "start_time": "2024-03-18T08:44:14.177Z"
   },
   {
    "duration": 8,
    "start_time": "2024-03-18T08:44:14.191Z"
   },
   {
    "duration": 25,
    "start_time": "2024-03-18T08:44:14.200Z"
   },
   {
    "duration": 22,
    "start_time": "2024-03-18T08:44:14.227Z"
   },
   {
    "duration": 80,
    "start_time": "2024-03-18T08:44:14.251Z"
   },
   {
    "duration": 3,
    "start_time": "2024-03-18T08:44:14.333Z"
   },
   {
    "duration": 19,
    "start_time": "2024-03-18T08:44:14.337Z"
   },
   {
    "duration": 15,
    "start_time": "2024-03-18T08:44:14.358Z"
   },
   {
    "duration": 22,
    "start_time": "2024-03-18T08:44:14.374Z"
   },
   {
    "duration": 26,
    "start_time": "2024-03-18T08:44:14.397Z"
   },
   {
    "duration": 25,
    "start_time": "2024-03-18T08:44:14.425Z"
   },
   {
    "duration": 4,
    "start_time": "2024-03-18T08:44:14.451Z"
   },
   {
    "duration": 9,
    "start_time": "2024-03-18T08:44:14.464Z"
   },
   {
    "duration": 16464,
    "start_time": "2024-03-18T08:44:14.475Z"
   },
   {
    "duration": 129,
    "start_time": "2024-03-18T08:44:30.941Z"
   },
   {
    "duration": 497,
    "start_time": "2024-03-18T08:44:31.072Z"
   },
   {
    "duration": 6,
    "start_time": "2024-03-18T08:44:31.571Z"
   },
   {
    "duration": 103,
    "start_time": "2024-03-18T08:44:31.579Z"
   },
   {
    "duration": 500,
    "start_time": "2024-03-18T08:44:31.684Z"
   },
   {
    "duration": 16721,
    "start_time": "2024-03-18T08:44:32.185Z"
   },
   {
    "duration": 68,
    "start_time": "2024-03-18T08:44:48.907Z"
   },
   {
    "duration": 30,
    "start_time": "2024-03-18T08:44:49.065Z"
   },
   {
    "duration": 143,
    "start_time": "2024-03-18T08:44:49.097Z"
   },
   {
    "duration": 24277,
    "start_time": "2024-03-18T08:44:49.242Z"
   },
   {
    "duration": 49,
    "start_time": "2024-03-18T08:45:13.520Z"
   },
   {
    "duration": 599,
    "start_time": "2024-03-18T08:45:13.570Z"
   },
   {
    "duration": 7,
    "start_time": "2024-03-18T08:45:14.171Z"
   },
   {
    "duration": 113,
    "start_time": "2024-03-18T08:45:14.182Z"
   },
   {
    "duration": 11425,
    "start_time": "2024-03-18T08:45:14.296Z"
   },
   {
    "duration": 199,
    "start_time": "2024-03-18T08:45:25.723Z"
   },
   {
    "duration": 44,
    "start_time": "2024-03-18T08:45:25.923Z"
   },
   {
    "duration": 399,
    "start_time": "2024-03-18T08:45:25.969Z"
   },
   {
    "duration": 120,
    "start_time": "2024-03-18T08:45:26.369Z"
   },
   {
    "duration": 134,
    "start_time": "2024-03-18T08:45:26.491Z"
   },
   {
    "duration": 6,
    "start_time": "2024-03-18T08:45:26.627Z"
   },
   {
    "duration": 39,
    "start_time": "2024-03-18T08:45:26.635Z"
   },
   {
    "duration": 29,
    "start_time": "2024-03-18T08:45:26.676Z"
   }
  ],
  "kernelspec": {
   "display_name": "Python 3 (ipykernel)",
   "language": "python",
   "name": "python3"
  },
  "language_info": {
   "codemirror_mode": {
    "name": "ipython",
    "version": 3
   },
   "file_extension": ".py",
   "mimetype": "text/x-python",
   "name": "python",
   "nbconvert_exporter": "python",
   "pygments_lexer": "ipython3",
   "version": "3.9.16"
  },
  "toc": {
   "base_numbering": 1,
   "nav_menu": {},
   "number_sections": true,
   "sideBar": true,
   "skip_h1_title": true,
   "title_cell": "Содержание",
   "title_sidebar": "Contents",
   "toc_cell": true,
   "toc_position": {},
   "toc_section_display": true,
   "toc_window_display": false
  }
 },
 "nbformat": 4,
 "nbformat_minor": 2
}
