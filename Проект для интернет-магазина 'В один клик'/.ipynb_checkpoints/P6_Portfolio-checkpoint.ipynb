{
 "cells": [
  {
   "cell_type": "markdown",
   "metadata": {
    "id": "H6cQIZr3ElW1"
   },
   "source": [
    "# Проект обучение с учителем: качество модели"
   ]
  },
  {
   "cell_type": "markdown",
   "metadata": {},
   "source": [
    "Интернет-магазин «В один клик» продаёт разные товары: для детей, для дома, мелкую бытовую технику, косметику и даже продукты. Отчёт магазина за прошлый период показал, что активность покупателей начала снижаться. Привлекать новых клиентов уже не так эффективно: о магазине и так знает большая часть целевой аудитории. Возможный выход — удерживать активность постоянных клиентов. Сделать это можно с помощью персонализированных предложений.Необходимо разработать решение, которое позволит персонализировать предложения постоянным клиентам, чтобы увеличить их покупательскую активность."
   ]
  },
  {
   "cell_type": "markdown",
   "metadata": {},
   "source": [
    "**Задачи:**\n",
    "- Нужно промаркировать уровень финансовой активности постоянных покупателей. В компании принято выделять два уровня активности: «снизилась», если клиент стал покупать меньше товаров, и «прежний уровень».\n",
    "\n",
    "\n",
    "- Нужно собрать данные по клиентам по следующим группам:\n",
    "* 1)Признаки, которые описывают коммуникацию сотрудников компании с клиентом.\n",
    "* 2)Признаки, которые описывают продуктовое поведение покупателя. Например, какие товары покупает и как часто.\n",
    "* 3)Признаки, которые описывают покупательское поведение клиента. Например, сколько тратил в магазине.\n",
    "* 4)Признаки, которые описывают поведение покупателя на сайте. Например, как много страниц просматривает и сколько времени проводит на сайте.\n",
    "\n",
    "\n",
    "* Нужно построить модель, которая предскажет вероятность снижения покупательской активности клиента в следующие три месяца.\n",
    "\n",
    "\n",
    "* В исследование нужно включить дополнительные данные финансового департамента о прибыльности клиента: какой доход каждый покупатель приносил компании за последние три месяца.\n",
    "\n",
    "\n",
    "* Используя данные модели и данные о прибыльности клиентов, нужно выделить сегменты покупателей и разработать для них персонализированные предложения."
   ]
  },
  {
   "cell_type": "markdown",
   "metadata": {},
   "source": [
    "**Инструкция по выполнению проекта**\n",
    "* Разработать модель, которая предскажет вероятность снижения покупательской активности.\n",
    "* Выделить сегмент покупателей, проанализируйте его и предложите, как увеличить его покупательскую активность. Используйте данные моделирования, данные о прибыли покупателей и исходные данные (если понадобятся). По желанию вы можете проанализировать больше одного сегмента.\n"
   ]
  },
  {
   "cell_type": "markdown",
   "metadata": {},
   "source": [
    "## Загрузка данных"
   ]
  },
  {
   "cell_type": "code",
   "execution_count": 1,
   "metadata": {},
   "outputs": [],
   "source": [
    "!pip install scikit-learn==1.4.2 -q\n",
    "!pip install imblearn -q\n",
    "!pip install optuna -q\n",
    "!pip install shap -q\n",
    "!pip install phik -q\n",
    "!pip install mlxtend -q"
   ]
  },
  {
   "cell_type": "code",
   "execution_count": null,
   "metadata": {},
   "outputs": [],
   "source": [
    "import pandas as pd\n",
    "import numpy as np\n",
    "import scipy.stats as st\n",
    "import matplotlib.pyplot as plt\n",
    "import seaborn as sns\n",
    "import shap\n",
    "\n",
    "from sklearn.linear_model import LinearRegression, LogisticRegression\n",
    "from sklearn.tree import DecisionTreeClassifier\n",
    "from sklearn.neighbors import KNeighborsClassifier\n",
    "from sklearn.svm import SVC\n",
    "from sklearn.model_selection import GridSearchCV, RandomizedSearchCV\n",
    "from sklearn.impute import SimpleImputer\n",
    "from sklearn.pipeline import Pipeline\n",
    "from sklearn.compose import ColumnTransformer\n",
    "from phik.report import plot_correlation_matrix\n",
    "\n",
    "from imblearn.under_sampling import RandomUnderSampler\n",
    "from imblearn.over_sampling import SMOTE\n",
    "from sklearn.preprocessing import (\n",
    "    OneHotEncoder,\n",
    "    OrdinalEncoder, \n",
    "    StandardScaler, \n",
    "    MinMaxScaler,\n",
    "    RobustScaler\n",
    ")\n",
    "from sklearn.model_selection import train_test_split, cross_val_score\n",
    "from sklearn.compose import make_column_transformer\n",
    "from tqdm import tqdm\n",
    "\n",
    "from sklearn.utils import shuffle\n",
    "from sklearn.metrics import (\n",
    "    recall_score, r2_score, \n",
    "    confusion_matrix,\n",
    "    mean_absolute_error, \n",
    "    mean_squared_error, \n",
    "    precision_score, \n",
    "    accuracy_score,\n",
    "    roc_auc_score,\n",
    "    f1_score\n",
    ")"
   ]
  },
  {
   "cell_type": "code",
   "execution_count": null,
   "metadata": {},
   "outputs": [],
   "source": [
    "try:\n",
    "    market_file = pd.read_csv('/datasets/market_file.csv', sep=',', decimal = '.')\n",
    "    market_money = pd.read_csv('/datasets/market_money.csv', sep=',', decimal = '.')\n",
    "    market_time = pd.read_csv('/datasets/market_time.csv', sep=',', decimal = '.')\n",
    "    money = pd.read_csv('/datasets/money.csv', sep=';', decimal = ',')\n",
    "except:\n",
    "    market_file = pd.read_csv('https://code.s3.yandex.net/datasets/market_file.csv', sep=',', decimal = '.')\n",
    "    market_money = pd.read_csv('https://code.s3.yandex.net/datasets/market_money.csv', sep=',', decimal = '.')\n",
    "    market_time = pd.read_csv('https://code.s3.yandex.net/datasets/market_time.csv', sep=',', decimal = '.')\n",
    "    money = pd.read_csv('https://code.s3.yandex.net/datasets/money.csv', sep=';', decimal = ',')"
   ]
  },
  {
   "cell_type": "code",
   "execution_count": null,
   "metadata": {},
   "outputs": [],
   "source": [
    "display(market_file.head())\n",
    "display(market_money.head())\n",
    "display(market_time.head())\n",
    "money.head()"
   ]
  },
  {
   "cell_type": "code",
   "execution_count": null,
   "metadata": {},
   "outputs": [],
   "source": [
    "market_file.info()"
   ]
  },
  {
   "cell_type": "code",
   "execution_count": null,
   "metadata": {},
   "outputs": [],
   "source": [
    "market_money.info()"
   ]
  },
  {
   "cell_type": "code",
   "execution_count": null,
   "metadata": {},
   "outputs": [],
   "source": [
    "market_time.info()"
   ]
  },
  {
   "cell_type": "code",
   "execution_count": null,
   "metadata": {},
   "outputs": [],
   "source": [
    "money.info()"
   ]
  },
  {
   "cell_type": "markdown",
   "metadata": {},
   "source": [
    "**Вывод:** Файлы открыты и изучены,у нас в наличии 4 таблицы, одна основная и 3 с дополнительными данными.Посмотрел на основную информацию о таблицах,можно сразу сказать что пропусков нет и типы данных соответствуют значениям."
   ]
  },
  {
   "cell_type": "markdown",
   "metadata": {},
   "source": [
    "##  Предобработка данных\n"
   ]
  },
  {
   "cell_type": "code",
   "execution_count": null,
   "metadata": {},
   "outputs": [],
   "source": [
    "market_file.columns = market_file.columns.str.replace(' ', '_')\n",
    "market_file.columns = market_file.columns.str.lower()"
   ]
  },
  {
   "cell_type": "code",
   "execution_count": null,
   "metadata": {},
   "outputs": [],
   "source": [
    "market_file.duplicated().sum()"
   ]
  },
  {
   "cell_type": "code",
   "execution_count": null,
   "metadata": {},
   "outputs": [],
   "source": [
    "for column in market_file.columns:\n",
    "    unique_count = market_file[column].nunique()\n",
    "    unique_values = market_file[column].unique()\n",
    "    print(f\"Столбец '{column}' имеет {unique_count} unique values:\")\n",
    "    print(unique_values)"
   ]
  },
  {
   "cell_type": "code",
   "execution_count": null,
   "metadata": {},
   "outputs": [],
   "source": [
    "market_file['тип_сервиса'] = market_file['тип_сервиса'].str.replace('стандартт','стандарт')\n",
    "market_file['популярная_категория'] = market_file['популярная_категория'].str.replace('Косметика и аксесуары',\n",
    "                                                                                      'Косметика и акссесуары')\n",
    "display(market_file['тип_сервиса'].unique())\n",
    "market_file['популярная_категория'].unique()"
   ]
  },
  {
   "cell_type": "markdown",
   "metadata": {},
   "source": [
    "В таблице *market_file* названия столбцов привел в надлежащий вид,  дубликатов нет, изучил уникальные значения каждого столбца, поменял некоторые значения столбцов которые были написаны с ошибкой."
   ]
  },
  {
   "cell_type": "code",
   "execution_count": null,
   "metadata": {},
   "outputs": [],
   "source": [
    "market_money.columns = market_money.columns.str.lower()"
   ]
  },
  {
   "cell_type": "code",
   "execution_count": null,
   "metadata": {},
   "outputs": [],
   "source": [
    "for column in market_money.columns:\n",
    "    unique_count = market_money[column].nunique()\n",
    "    unique_values = market_money[column].unique()\n",
    "    print(f\"Столбец '{column}' имеет {unique_count} unique values:\")\n",
    "    print(unique_values)"
   ]
  },
  {
   "cell_type": "markdown",
   "metadata": {},
   "source": [
    "В таблице *market_money* названия столбцов привел в надлежащий вид, изучил уникальные значения каждого столбца."
   ]
  },
  {
   "cell_type": "code",
   "execution_count": null,
   "metadata": {},
   "outputs": [],
   "source": [
    "market_time.columns = market_time.columns.str.lower()"
   ]
  },
  {
   "cell_type": "code",
   "execution_count": null,
   "metadata": {
    "scrolled": true
   },
   "outputs": [],
   "source": [
    "for column in market_time.columns:\n",
    "    unique_count = market_time[column].nunique()\n",
    "    unique_values = market_time[column].unique()\n",
    "    print(f\"Столбец '{column}' имеет {unique_count} unique values:\")\n",
    "    print(unique_values)"
   ]
  },
  {
   "cell_type": "code",
   "execution_count": null,
   "metadata": {},
   "outputs": [],
   "source": [
    "market_time['период'] = market_time['период'].str.replace('предыдцщий_месяц','предыдущий_месяц')\n",
    "market_time['период'].unique()"
   ]
  },
  {
   "cell_type": "markdown",
   "metadata": {},
   "source": [
    "В таблице *market_time* названия столбцов привел в надлежащий вид, изучил уникальные значения каждого столбца, поменял значение 'предыдцщий_месяц' на 'предыдущий_месяц'."
   ]
  },
  {
   "cell_type": "code",
   "execution_count": null,
   "metadata": {},
   "outputs": [],
   "source": [
    "money.columns = money.columns.str.lower()"
   ]
  },
  {
   "cell_type": "code",
   "execution_count": null,
   "metadata": {},
   "outputs": [],
   "source": [
    "for column in money.columns:\n",
    "    unique_count = money[column].nunique()\n",
    "    unique_values = money[column].unique()\n",
    "    print(f\"Столбец '{column}' имеет {unique_count} unique values:\")\n",
    "    print(unique_values)"
   ]
  },
  {
   "cell_type": "markdown",
   "metadata": {},
   "source": [
    "В таблице *money* названия столбцов привел в надлежащий вид, изучил уникальные значения каждого столбца."
   ]
  },
  {
   "cell_type": "markdown",
   "metadata": {},
   "source": [
    "## Исследовательский анализ данных"
   ]
  },
  {
   "cell_type": "markdown",
   "metadata": {},
   "source": [
    "### исследовательский анализ данных"
   ]
  },
  {
   "cell_type": "code",
   "execution_count": null,
   "metadata": {},
   "outputs": [],
   "source": [
    "market_file.describe(include='all').T"
   ]
  },
  {
   "cell_type": "code",
   "execution_count": null,
   "metadata": {},
   "outputs": [],
   "source": [
    "market_file['покупательская_активность'].value_counts().plot(\n",
    "    kind='pie', autopct='%1.0f%%', colors={'w', 'y'});"
   ]
  },
  {
   "cell_type": "markdown",
   "metadata": {},
   "source": [
    "Целевой признак имеет два признака, для баланса применим стратификацию при разделении. "
   ]
  },
  {
   "cell_type": "code",
   "execution_count": null,
   "metadata": {},
   "outputs": [],
   "source": [
    "market_file.тип_сервиса.hist(bins = 3, figsize = (5,5));"
   ]
  },
  {
   "cell_type": "code",
   "execution_count": null,
   "metadata": {},
   "outputs": [],
   "source": [
    "market_file['тип_сервиса'].value_counts().plot( \n",
    "    kind='pie', autopct='%1.0f%%', colors={'w', 'y'});"
   ]
  },
  {
   "cell_type": "markdown",
   "metadata": {},
   "source": [
    "Клиентов с *премимум* подпиской 29%, остальные со стандартной."
   ]
  },
  {
   "cell_type": "code",
   "execution_count": null,
   "metadata": {},
   "outputs": [],
   "source": [
    "market_file['разрешить_сообщать'].value_counts().plot(\n",
    "    title='Популярные категории', \n",
    "    kind='pie', autopct='%1.0f%%', colors={'w', 'y'});"
   ]
  },
  {
   "cell_type": "markdown",
   "metadata": {},
   "source": [
    "Более 70% клиентво разрешили получать информацию о дополнительных акциях."
   ]
  },
  {
   "cell_type": "code",
   "execution_count": null,
   "metadata": {},
   "outputs": [],
   "source": [
    "market_file['популярная_категория'].value_counts().plot(\n",
    "    title='Популярные категории', \n",
    "    kind='pie', autopct='%1.0f%%', colors={'w', 'y'});"
   ]
  },
  {
   "cell_type": "markdown",
   "metadata": {},
   "source": [
    "Самая популярная категория *товары для детей*.Всего 6 категорий товаров."
   ]
  },
  {
   "cell_type": "code",
   "execution_count": null,
   "metadata": {},
   "outputs": [],
   "source": [
    "market_file['маркет_актив_тек_мес'].value_counts(ascending=True).plot.barh(\n",
    "    title='количество маркетинговых коммуникаций в текущем месяце.',\n",
    "    color='g'\n",
    ");"
   ]
  },
  {
   "cell_type": "markdown",
   "metadata": {},
   "source": [
    "Количество маркетинговых коммуникаций в текущем месяце от 3 до 5,больше всего значений рассылок приходится на 4."
   ]
  },
  {
   "cell_type": "code",
   "execution_count": null,
   "metadata": {},
   "outputs": [],
   "source": [
    "market_file.маркет_актив_6_мес.hist(bins = 50, figsize = (15,10));"
   ]
  },
  {
   "cell_type": "markdown",
   "metadata": {},
   "source": [
    "Среднемесячное значение маркетинговых коммуникаций компании,больше всего рассылок в среднем 4 шт"
   ]
  },
  {
   "cell_type": "code",
   "execution_count": null,
   "metadata": {},
   "outputs": [],
   "source": [
    "market_file.длительность.hist(bins = 100, figsize = (15,10));"
   ]
  },
  {
   "cell_type": "markdown",
   "metadata": {},
   "source": [
    "Длительность показывает сколько дней прошло с момента регистрации покупателя на сайте,значения от 3 месяцев до 3,5 лет"
   ]
  },
  {
   "cell_type": "code",
   "execution_count": null,
   "metadata": {},
   "outputs": [],
   "source": [
    "market_file.акционные_покупки.hist(bins = 50, figsize = (15,10));"
   ]
  },
  {
   "cell_type": "markdown",
   "metadata": {},
   "source": [
    "Данные о среднемесячной доли покупок по акции от общего числа покупок за последние 6 месяцев деляться на 2 группы,тех кто покупает до 50% от общего числа покупок и тех кто более 90% покупает по акции,от общего числа покупок."
   ]
  },
  {
   "cell_type": "code",
   "execution_count": null,
   "metadata": {},
   "outputs": [],
   "source": [
    "market_file['средний_просмотр_категорий_за_визит'].value_counts().plot(\n",
    "    title='Популярные категории', \n",
    "    kind='pie', autopct='%1.0f%%', colors={'w', 'y'});"
   ]
  },
  {
   "cell_type": "code",
   "execution_count": null,
   "metadata": {},
   "outputs": [],
   "source": [
    "market_file.средний_просмотр_категорий_за_визит.hist(bins = 15, figsize = (15,10));"
   ]
  },
  {
   "cell_type": "markdown",
   "metadata": {},
   "source": [
    "Более 350 пользователей просматривает в среднем 3 категории за визит, менее 100 человек просматривает в среднем все 6 категорий товаров."
   ]
  },
  {
   "cell_type": "code",
   "execution_count": null,
   "metadata": {
    "scrolled": true
   },
   "outputs": [],
   "source": [
    "market_file.неоплаченные_продукты_штук_квартал.hist(bins = 30, figsize = (15,10));"
   ]
  },
  {
   "cell_type": "markdown",
   "metadata": {},
   "source": [
    "Больше всего окупателей, не оплативших от 1 до 4 товаров в корзине."
   ]
  },
  {
   "cell_type": "code",
   "execution_count": null,
   "metadata": {},
   "outputs": [],
   "source": [
    "market_file.страниц_за_визит.hist(bins = 100, figsize = (15,10));"
   ]
  },
  {
   "cell_type": "markdown",
   "metadata": {},
   "source": [
    "Среднее количество страниц, которые просмотрели покупатели за один визит на сайт за последние 3 месяца варьируется от 1 до 20 и большее количество находится в диапазоне от 4 до 11."
   ]
  },
  {
   "cell_type": "code",
   "execution_count": null,
   "metadata": {},
   "outputs": [],
   "source": [
    "market_file.ошибка_сервиса.hist(bins = 20, figsize = (15,10));"
   ]
  },
  {
   "cell_type": "markdown",
   "metadata": {},
   "source": [
    "Число сбоев, которые коснулись покупателя во время посещения сайта варьируется от 1 до 9, с большими показателями от 2 до 5."
   ]
  },
  {
   "cell_type": "code",
   "execution_count": null,
   "metadata": {},
   "outputs": [],
   "source": [
    "market_money.describe(include='all').T"
   ]
  },
  {
   "cell_type": "code",
   "execution_count": null,
   "metadata": {},
   "outputs": [],
   "source": [
    "market_money.boxplot(column=['выручка'], figsize=(15,10), grid=True, vert=False)\n",
    "plt.title('Диаграмма размаха выручки', size=25);\n",
    "plt.show()"
   ]
  },
  {
   "cell_type": "code",
   "execution_count": null,
   "metadata": {
    "scrolled": true
   },
   "outputs": [],
   "source": [
    "market_money.query('выручка < 1 | выручка > 8000')"
   ]
  },
  {
   "cell_type": "markdown",
   "metadata": {},
   "source": [
    "Встолбце *выручка* имеется аномальное значение,которое выбивается из общей массы.Так же есть нулевые значения,надо их изучить подробнее."
   ]
  },
  {
   "cell_type": "code",
   "execution_count": null,
   "metadata": {},
   "outputs": [],
   "source": [
    " market_money.query('id == 215348 | id == 215357 |id == 215359 | id == 215380')"
   ]
  },
  {
   "cell_type": "markdown",
   "metadata": {},
   "source": [
    "Нулевые значения присутствуют только в определенный период у каждого пользователя,видимо это новые пользователи, ниже их удалю и не буду включать в обучение."
   ]
  },
  {
   "cell_type": "code",
   "execution_count": null,
   "metadata": {},
   "outputs": [],
   "source": [
    "market_money.loc[market_money['выручка'] >= 10000, 'выручка'] = market_money['выручка'].mean()"
   ]
  },
  {
   "cell_type": "markdown",
   "metadata": {},
   "source": [
    "Аномально высокое значени заменил на среднее значение столбца *выручка*."
   ]
  },
  {
   "cell_type": "code",
   "execution_count": null,
   "metadata": {},
   "outputs": [],
   "source": [
    "market_time_1 = market_time.query('период == \"предыдущий_месяц\"')"
   ]
  },
  {
   "cell_type": "code",
   "execution_count": null,
   "metadata": {},
   "outputs": [],
   "source": [
    "market_time_1.минут.hist(bins = 50, figsize = (15,10));"
   ]
  },
  {
   "cell_type": "code",
   "execution_count": null,
   "metadata": {},
   "outputs": [],
   "source": [
    "market_time_2 = market_time.query('период == \"текущий_месяц\"')"
   ]
  },
  {
   "cell_type": "code",
   "execution_count": null,
   "metadata": {},
   "outputs": [],
   "source": [
    "market_time_2.минут.hist(bins = 50, figsize = (15,10));"
   ]
  },
  {
   "cell_type": "code",
   "execution_count": null,
   "metadata": {},
   "outputs": [],
   "source": [
    "market_time_1.describe(include='all').T"
   ]
  },
  {
   "cell_type": "code",
   "execution_count": null,
   "metadata": {},
   "outputs": [],
   "source": [
    "market_time_2.describe(include='all').T"
   ]
  },
  {
   "cell_type": "markdown",
   "metadata": {},
   "source": [
    "Во все периоды примерно одинаковое значение времени от 4-5 до 23 со средним 13."
   ]
  },
  {
   "cell_type": "code",
   "execution_count": null,
   "metadata": {},
   "outputs": [],
   "source": [
    "money.прибыль.hist(bins = 100, figsize = (15,10));"
   ]
  },
  {
   "cell_type": "code",
   "execution_count": null,
   "metadata": {},
   "outputs": [],
   "source": [
    "money.describe(include='all').T"
   ]
  },
  {
   "cell_type": "markdown",
   "metadata": {},
   "source": [
    "В таблице *money* распределение нормальное со среднимв районе 4."
   ]
  },
  {
   "cell_type": "markdown",
   "metadata": {},
   "source": [
    "### Отберите клиентов с покупательской активностью не менее трёх месяцев"
   ]
  },
  {
   "cell_type": "code",
   "execution_count": null,
   "metadata": {
    "scrolled": true
   },
   "outputs": [],
   "source": [
    "market_money = market_money.query('выручка > 0')\n",
    "f = market_money['id'].value_counts()\n",
    "f.loc[ lambda x : x >= 3]"
   ]
  },
  {
   "cell_type": "code",
   "execution_count": null,
   "metadata": {},
   "outputs": [],
   "source": [
    "market_money = market_money.query('id != 215348 & id != 215357 & id != 215359')\n",
    "market_file = market_file.query('id != 215348 & id != 215357 & id != 215359')\n",
    "market_time = market_time.query('id != 215348 & id != 215357 & id != 215359')"
   ]
  },
  {
   "cell_type": "markdown",
   "metadata": {},
   "source": [
    "**Вывод:** Отобрал клиентов, купивших товар в каждом из 3 месяцев, их колличество 1297 человек."
   ]
  },
  {
   "cell_type": "markdown",
   "metadata": {},
   "source": [
    "## Объединение таблиц"
   ]
  },
  {
   "cell_type": "code",
   "execution_count": null,
   "metadata": {},
   "outputs": [],
   "source": [
    "market_money_1 = (market_money\n",
    "                           .query('период == \"текущий_месяц\"')\n",
    "                           .drop(['период'], axis=1)\n",
    "                           .rename(columns={'выручка': 'выручка_текущий_месяц'}))\n",
    "\n",
    "market_money_2 = (market_money\n",
    "                           .query('период == \"предыдущий_месяц\"')\n",
    "                           .drop(['период'], axis=1)\n",
    "                           .rename(columns={'выручка': 'выручка_предыдущий_месяц'}))\n",
    "\n",
    "market_money_3 = (market_money\n",
    "                              .query('период == \"препредыдущий_месяц\"')\n",
    "                              .drop(['период'], axis=1)\n",
    "                              .rename(columns={'выручка': 'выручка_предпредыдущий_месяц'}))\n",
    "\n",
    "market_time_1 = (market_time\n",
    "                          .query('период == \"текущий_месяц\"')\n",
    "                          .drop(['период'], axis=1)\n",
    "                          .rename(columns={'минут': 'время_текущий_месяц'}))\n",
    "\n",
    "market_time_2 = (market_time\n",
    "                          .query('период == \"предыдущий_месяц\"')\n",
    "                          .drop(['период'], axis=1)\n",
    "                          .rename(columns={'минут': 'время_предыдущий_месяц'}))"
   ]
  },
  {
   "cell_type": "code",
   "execution_count": null,
   "metadata": {},
   "outputs": [],
   "source": [
    "df_market = market_file.merge(market_money_1, on = 'id', how  ='outer')\n",
    "df_market = df_market.merge(market_money_2, on = 'id', how  ='outer')\n",
    "df_market = df_market.merge(market_money_3, on = 'id', how  ='outer')\n",
    "df_market = df_market.merge(market_time_1, on = 'id', how  ='outer')\n",
    "df_market = df_market.merge(market_time_2, on = 'id', how  ='outer')\n",
    "\n",
    "df_market.head()                              "
   ]
  },
  {
   "cell_type": "markdown",
   "metadata": {},
   "source": [
    "Объединил таблицы market_file.csv, market_money.csv, market_time.csv и разбил на  отдельные столбцы столбец *период* по выручке и времени."
   ]
  },
  {
   "cell_type": "markdown",
   "metadata": {},
   "source": [
    "## Корреляционный анализ"
   ]
  },
  {
   "cell_type": "code",
   "execution_count": null,
   "metadata": {},
   "outputs": [],
   "source": [
    "phik_overview = df_market.phik_matrix()\n",
    "\n",
    "plot_correlation_matrix(\n",
    "    phik_overview.values,\n",
    "    x_labels=phik_overview.columns,\n",
    "    y_labels=phik_overview.index,\n",
    "    vmin=0, vmax=1, color_map='Greens',\n",
    "    title=r'Корреляция $\\phi_K$',\n",
    "    fontsize_factor=1.5,\n",
    "    figsize=(15, 10)\n",
    ") ;"
   ]
  },
  {
   "cell_type": "markdown",
   "metadata": {},
   "source": [
    "**Вывод:** Сильная зависимость у столбцов *id* и покупательская_активность, при разделении df удалю его.Так же зависимость наблюдаем между предыдущим периодом выручки и текущим, между покупательской активностью количество страниц за визит и времени за предыдущий месяц.  "
   ]
  },
  {
   "cell_type": "markdown",
   "metadata": {},
   "source": [
    "## Использование пайплайнов"
   ]
  },
  {
   "cell_type": "code",
   "execution_count": null,
   "metadata": {},
   "outputs": [],
   "source": [
    "df_market['покупательская_активность'] = df_market['покупательская_активность'].apply(lambda x: 1 if x == 'Снизилась' else 0)"
   ]
  },
  {
   "cell_type": "code",
   "execution_count": null,
   "metadata": {},
   "outputs": [],
   "source": [
    "df_market['покупательская_активность'].unique()"
   ]
  },
  {
   "cell_type": "markdown",
   "metadata": {},
   "source": [
    "Заменил значения в целевом признаке на 1 и 0."
   ]
  },
  {
   "cell_type": "code",
   "execution_count": null,
   "metadata": {},
   "outputs": [],
   "source": [
    "RANDOM_STATE = 42\n",
    "TEST_SIZE = 0.25\n",
    "\n",
    "X = df_market.drop(columns=['покупательская_активность', 'id'])\n",
    "y = df_market['покупательская_активность']\n",
    "\n",
    "X_train, X_test, y_train, y_test = train_test_split(\n",
    "    X, \n",
    "    y, \n",
    "    random_state=RANDOM_STATE, \n",
    "    test_size=TEST_SIZE, \n",
    "    stratify=y\n",
    ") "
   ]
  },
  {
   "cell_type": "code",
   "execution_count": null,
   "metadata": {},
   "outputs": [],
   "source": [
    "y_test"
   ]
  },
  {
   "cell_type": "code",
   "execution_count": null,
   "metadata": {},
   "outputs": [],
   "source": [
    "for i in [X_train, X_test, y_train, y_test]:\n",
    "    print(i.shape)"
   ]
  },
  {
   "cell_type": "markdown",
   "metadata": {},
   "source": [
    "Разделил df на целовой признак и признаки,\n",
    "использовал стратификацию."
   ]
  },
  {
   "cell_type": "code",
   "execution_count": null,
   "metadata": {},
   "outputs": [],
   "source": [
    "fig, ax = plt.subplots(1,3, figsize=(12,4))\n",
    "y.value_counts().plot(kind='bar', ax=ax[0], rot=0)\n",
    "ax[0].set_title(\"Исходный датасет\")\n",
    "y_train.value_counts().plot(kind='bar', ax=ax[1], rot=0)\n",
    "ax[1].set_title(\"Train\")\n",
    "y_test.value_counts().plot(kind='bar', ax=ax[2], rot=0)\n",
    "ax[2].set_title(\"Test\")\n",
    "plt.show()"
   ]
  },
  {
   "cell_type": "markdown",
   "metadata": {},
   "source": [
    "Создам пайплайн, который выберет лучшую комбинацию модели и гиперпараметров. Использую модели:\n",
    "- DecisionTreeClassifier()с гиперпараметрами max_depth от 2 до 4 включительно и max_features от 2 до 4 включительно\n",
    "- SVC(kernel='linear', probability= True)\n",
    "- KNeighborsClassifier() с гиперпараметром n_neighbors от 2 до 4 включительно\n",
    "- LogisticRegression(solver='liblinear', penalty='l1') с гиперпараметром регуляризации С от 1 до 4 включительно.\n",
    "Так же использую два маштабирования StandardScaler()и MinMaxScaler(),OrdinalEncoder() для столбца *тип_сервиса* и OHE для остальных."
   ]
  },
  {
   "cell_type": "code",
   "execution_count": null,
   "metadata": {},
   "outputs": [],
   "source": [
    "ohe_columns = ['популярная_категория', 'разрешить_сообщать']\n",
    "\n",
    "ord_columns = ['тип_сервиса']\n",
    "\n",
    "num_columns = ['маркет_актив_6_мес', \n",
    "               'маркет_актив_тек_мес', \n",
    "               'длительность', \n",
    "               'акционные_покупки', \n",
    "               'средний_просмотр_категорий_за_визит', \n",
    "               'неоплаченные_продукты_штук_квартал', \n",
    "               'ошибка_сервиса', \n",
    "               'страниц_за_визит', \n",
    "               'выручка_текущий_месяц', \n",
    "               'выручка_предыдущий_месяц', \n",
    "               'выручка_предпредыдущий_месяц', \n",
    "               'время_текущий_месяц', \n",
    "               'время_предыдущий_месяц']"
   ]
  },
  {
   "cell_type": "code",
   "execution_count": null,
   "metadata": {},
   "outputs": [],
   "source": [
    "ohe_pipe = Pipeline([('ohe', OneHotEncoder(drop='first', sparse_output=False))]) "
   ]
  },
  {
   "cell_type": "code",
   "execution_count": null,
   "metadata": {},
   "outputs": [],
   "source": [
    "ord_pipe = Pipeline([('ord',  OrdinalEncoder(categories=[['премиум', 'стандарт']]))]) "
   ]
  },
  {
   "cell_type": "code",
   "execution_count": null,
   "metadata": {},
   "outputs": [],
   "source": [
    "data_preprocessor = ColumnTransformer(\n",
    "    [\n",
    "        ('ohe', ohe_pipe, ohe_columns),\n",
    "        ('ord', ord_pipe, ord_columns),\n",
    "        ('num', MinMaxScaler(), num_columns)\n",
    "    ], \n",
    "    remainder='passthrough'\n",
    ")"
   ]
  },
  {
   "cell_type": "code",
   "execution_count": null,
   "metadata": {},
   "outputs": [],
   "source": [
    "pipe_final = Pipeline([\n",
    "    ('preprocessor', data_preprocessor),\n",
    "    ('models', DecisionTreeClassifier(random_state=RANDOM_STATE))\n",
    "])"
   ]
  },
  {
   "cell_type": "code",
   "execution_count": null,
   "metadata": {},
   "outputs": [],
   "source": [
    "param_grid = [\n",
    "    # словарь для модели DecisionTreeClassifier()\n",
    "    {\n",
    "        'models': [DecisionTreeClassifier(random_state=RANDOM_STATE)],\n",
    "        'models__max_depth': range(2, 5),\n",
    "        'models__max_features':  range(2, 5),\n",
    "        'preprocessor__num': [StandardScaler(), MinMaxScaler(), 'passthrough']  \n",
    "    },\n",
    "    # словарь для модели SVC()\n",
    "    {\n",
    "        'models': [SVC(\n",
    "            kernel='linear',\n",
    "            random_state=RANDOM_STATE,\n",
    "            probability= True,\n",
    "        )],\n",
    "        'models__C': range(1, 5),\n",
    "        \n",
    "        'preprocessor__num': [StandardScaler(), MinMaxScaler(), 'passthrough']\n",
    "    },\n",
    "    # словарь для модели KNeighborsClassifier() \n",
    "    {\n",
    "        'models': [KNeighborsClassifier()],\n",
    "        'models__n_neighbors': range(2, 5),\n",
    "        'preprocessor__num': [StandardScaler(), MinMaxScaler(), 'passthrough']   \n",
    "    },\n",
    "\n",
    "    # словарь для модели LogisticRegression()\n",
    "    {\n",
    "        'models': [LogisticRegression(\n",
    "            random_state=RANDOM_STATE, \n",
    "            solver='liblinear', \n",
    "            penalty='l1'\n",
    "        )],\n",
    "        'models__C': range(1, 5),\n",
    "        'preprocessor__num': [StandardScaler(), MinMaxScaler(), 'passthrough']  \n",
    "    }\n",
    "]\n"
   ]
  },
  {
   "cell_type": "code",
   "execution_count": null,
   "metadata": {
    "scrolled": true
   },
   "outputs": [],
   "source": [
    "randomized_search = RandomizedSearchCV(\n",
    "    pipe_final, \n",
    "    param_grid, \n",
    "    scoring='roc_auc', \n",
    "    random_state=RANDOM_STATE,\n",
    "    n_jobs=-1\n",
    ")\n",
    "randomized_search.fit(X_train, y_train) ;"
   ]
  },
  {
   "cell_type": "markdown",
   "metadata": {},
   "source": [
    "Использовав пайплан,выявил лучшую модель на тренировочной выборке,выбрал метрику roc_auc, потомучто учитывает не только результаты классификации, но и вероятность предсказания всех классов, она учитывает работу модели при всех возможных значениях порогов и поэтому не зависит от одного конкретного. "
   ]
  },
  {
   "cell_type": "code",
   "execution_count": null,
   "metadata": {},
   "outputs": [],
   "source": [
    "print('Метрика ROC-AUC для лучшей модели:\\n', randomized_search.best_score_)\n",
    "print('\\nЛучшая модель и её параметры:\\n\\n', randomized_search.best_estimator_)"
   ]
  },
  {
   "cell_type": "code",
   "execution_count": null,
   "metadata": {},
   "outputs": [],
   "source": [
    "pd.set_option('display.max_colwidth', None)\n",
    "pd.DataFrame(randomized_search.cv_results_)[\n",
    "    ['std_test_score', 'rank_test_score', 'param_models', 'mean_test_score','params']\n",
    "].sort_values('rank_test_score')"
   ]
  },
  {
   "cell_type": "code",
   "execution_count": null,
   "metadata": {},
   "outputs": [],
   "source": [
    "pd.DataFrame(randomized_search.cv_results_)"
   ]
  },
  {
   "cell_type": "markdown",
   "metadata": {},
   "source": [
    "Лучшей моделью получилась LogisticRegression(penalty='l1', random_state=42, solver='liblinear') с гиперпараметром регуляризации С=1."
   ]
  },
  {
   "cell_type": "code",
   "execution_count": null,
   "metadata": {},
   "outputs": [],
   "source": [
    "ohe_encoder = OneHotEncoder(sparse_output=False, drop='first')\n",
    "X_train_ohe = ohe_encoder.fit_transform(X_train[ohe_columns])\n",
    "X_test_ohe = ohe_encoder.transform(X_test[ohe_columns])\n",
    "ohe_encoder_col_names = ohe_encoder.get_feature_names_out()\n",
    "\n",
    "ord_encoder = OrdinalEncoder()\n",
    "X_train_ord = ord_encoder.fit_transform(X_train[ord_columns])\n",
    "X_test_ord = ord_encoder.transform(X_test[ord_columns])\n",
    "ord_encoder_col_names = ord_encoder.get_feature_names_out()\n",
    "\n",
    "scaler = StandardScaler()\n",
    "X_train_scaled = scaler.fit_transform(X_train[num_columns])\n",
    "X_test_scaled = scaler.transform(X_test[num_columns])\n",
    "\n",
    "X_train_ohe = pd.DataFrame(X_train_ohe, columns=ohe_encoder_col_names)\n",
    "X_test_ohe = pd.DataFrame(X_test_ohe, columns=ohe_encoder_col_names)\n",
    "\n",
    "X_train_ord = pd.DataFrame(X_train_ord, columns=ord_encoder_col_names)\n",
    "X_test_ord = pd.DataFrame(X_test_ord, columns=ord_encoder_col_names)\n",
    "\n",
    "X_train_scaled = pd.DataFrame(X_train_scaled, columns=num_columns)\n",
    "X_test_scaled = pd.DataFrame(X_test_scaled, columns=num_columns)\n",
    "\n",
    "X_train_total = pd.concat([X_train_ohe, X_train_ord, X_train_scaled], axis=1)\n",
    "\n",
    "X_test_total = pd.concat([X_test_ohe, X_test_ord, X_test_scaled], axis=1)"
   ]
  },
  {
   "cell_type": "code",
   "execution_count": null,
   "metadata": {},
   "outputs": [],
   "source": [
    "for i in [X_train_total, X_test_total, y_train, y_test]:\n",
    "    print(i.shape)"
   ]
  },
  {
   "cell_type": "code",
   "execution_count": null,
   "metadata": {},
   "outputs": [],
   "source": [
    "clf =  LogisticRegression(penalty='l1', random_state=42, solver='liblinear', C=1) \n",
    "clf.fit(X_train_total, y_train)\n",
    "y_pred = clf.predict(X_test_total)\n",
    "\n",
    "clf_probas = clf.predict_proba(X_test_total)[:,1]\n",
    "\n",
    "print('Метрики модели:')\n",
    "roc_auc_cv = cross_val_score(clf, X_train_total, y_train, scoring='roc_auc').mean()\n",
    "print(f'ROC-AUC на тренировочной выборке: {round(roc_auc_cv, 3)}')\n",
    "print(f'ROC-AUC на тестовой выборке: {round(roc_auc_score(y_test, clf_probas), 3)}')\n",
    "\n",
    "clf_best_acc = accuracy_score(y_test, y_pred)\n",
    "print('Accuracy:', round(clf_best_acc, 3))\n",
    "\n",
    "clf_best_f1 = f1_score(y_test, y_pred, pos_label=1)\n",
    "print('F1-score:', round(clf_best_f1, 3))"
   ]
  },
  {
   "cell_type": "markdown",
   "metadata": {},
   "source": [
    "Обучил модель LogisticRegression() с лучшими параметрами на тестовой выборки, результаты не сильно отличаются от тренировочной, так же *Accuracy* и *F1-score* довольно хорошие"
   ]
  },
  {
   "cell_type": "code",
   "execution_count": null,
   "metadata": {},
   "outputs": [],
   "source": [
    "confusion_matrix= confusion_matrix(y_test, y_pred)\n",
    "\n",
    "confusion_matrix"
   ]
  },
  {
   "cell_type": "markdown",
   "metadata": {},
   "source": [
    "Построил матрицу ошибок:\n",
    "- класс 0 = 192 \n",
    "- класс 1 = 103\n",
    "- ошибка False Negative = 21\n",
    "- ошибка False Positive = 9 "
   ]
  },
  {
   "cell_type": "code",
   "execution_count": null,
   "metadata": {},
   "outputs": [],
   "source": [
    "# импорт класса дамми-модели \n",
    "from sklearn.dummy import DummyClassifier\n",
    "\n",
    "# создание и обучение модели DummyClassifier \n",
    "dummy_model = DummyClassifier(random_state=RANDOM_STATE)\n",
    "dummy_model.fit(X_train_total, y_train)\n",
    "\n",
    "# предсказание на тестовых данных\n",
    "dummy_model_preds = dummy_model.predict(X_test_total)\n",
    "dummy_model_probas = dummy_model.predict_proba(X_test_total)[:,1]\n",
    "\n",
    "# оценка качества модели по метрике accuracy\n",
    "dummy_acc = accuracy_score(y_test, dummy_model_preds)\n",
    "print('Model Accuracy =', round(dummy_acc, 2))\n",
    "\n",
    "dummy_roc = roc_auc_score(y_test, dummy_model_probas)\n",
    "print('ROC-AUC =', round(dummy_roc,2))\n",
    "\n",
    "# посчитайте и выведите F1-меру\n",
    "dummy_f1 = f1_score(y_test, dummy_model_preds, pos_label=1)\n",
    "print('F1-score =', round(dummy_f1,2))"
   ]
  },
  {
   "cell_type": "markdown",
   "metadata": {},
   "source": [
    "Проверил модель на адекватность. Метрики модели LogisticRegression() лучше чем DummyClassifier()"
   ]
  },
  {
   "cell_type": "markdown",
   "metadata": {},
   "source": [
    "## Анализ важности признаков"
   ]
  },
  {
   "cell_type": "code",
   "execution_count": null,
   "metadata": {},
   "outputs": [],
   "source": [
    "explainer = shap.LinearExplainer(clf, X_test_total)\n",
    "shap_values = explainer(X_test_total)\n",
    "\n",
    "shap.plots.beeswarm(shap_values) "
   ]
  },
  {
   "cell_type": "markdown",
   "metadata": {},
   "source": [
    "Большое влияние оказывает признак *страниц_за_визит*,негативные значения Шепли слева от центральной вертикальной линии означают, что признак склоняет модель отнести объекты к классу 0(такой признаки как *акционные_покупки*), а положительные справа — к классу 1(такой признак как *маркет_актив_6_мес*), остальные 11 признаков склоняют к классу 1"
   ]
  },
  {
   "cell_type": "code",
   "execution_count": null,
   "metadata": {},
   "outputs": [],
   "source": [
    "shap.plots.waterfall(shap_values[5]) "
   ]
  },
  {
   "cell_type": "markdown",
   "metadata": {},
   "source": [
    "Сильнее всего на классификацию влияет признак *время_текущий_месяц* и перетягивает предсказание в сторону класса 0,далее идет время_предыдущий_месяц и перетягивает предсказание в сторону класса 1. Значение f(x)=-1,496 на графике показывает, что наблюдение скорее относится к классу 0"
   ]
  },
  {
   "cell_type": "code",
   "execution_count": null,
   "metadata": {
    "scrolled": true
   },
   "outputs": [],
   "source": [
    "# shap.plots.bar(shap_values)"
   ]
  },
  {
   "cell_type": "markdown",
   "metadata": {},
   "source": [
    "## Сегментация покупателей"
   ]
  },
  {
   "cell_type": "code",
   "execution_count": null,
   "metadata": {},
   "outputs": [],
   "source": [
    "clf_best_probas_train = clf.predict_proba(X_train_total)[:,1]\n",
    "\n",
    "X_pred = clf.predict(X_train_total)\n",
    "\n",
    "total_train = pd.concat([X_train, y_train], axis=1)\n",
    "total_test = pd.concat([X_test, y_test], axis=1)\n",
    "\n",
    "total_train['predict_proba'] = clf_best_probas_train.tolist()\n",
    "total_train['прогноз_активности'] = X_pred.tolist()\n",
    "total_test['predict_proba'] = clf_probas.tolist()\n",
    "total_test['прогноз_активности'] = y_pred.tolist()\n",
    "\n",
    "final_df = pd.concat([total_train, total_test])\n",
    "final_df = pd.merge(final_df, df_market['id'], left_index=True, right_index=True)\n",
    "\n",
    "final_df['покупательская_активность'] = df_market['покупательская_активность'].apply(lambda x: 'cнизилась' if x == 1 else 'прежний уровень')\n",
    "\n",
    "final_df['прогноз_активности'] = final_df['прогноз_активности'].astype(int)\n",
    "final_df['прогноз_активности'] = final_df['прогноз_активности'].apply(lambda x: 'cнизится' if x == 1 else 'прежний уровень')\n",
    "\n",
    "final_df = final_df.merge(money, on='id')\n",
    "\n",
    "display(final_df.head(10))\n",
    "final_df.info()"
   ]
  },
  {
   "cell_type": "markdown",
   "metadata": {},
   "source": [
    "Добавил столбец *прогноз_активности*, *predict_proba*, он возвращает оценки вероятности для всех классов и таблицу с данными о среднемесячной прибыли магазина за последние 3 месяца"
   ]
  },
  {
   "cell_type": "code",
   "execution_count": null,
   "metadata": {},
   "outputs": [],
   "source": [
    "final_df.predict_proba.hist(bins = 200, figsize = (15,10));"
   ]
  },
  {
   "cell_type": "code",
   "execution_count": null,
   "metadata": {},
   "outputs": [],
   "source": [
    "final_df.прибыль.hist(bins = 200, figsize = (15,10));"
   ]
  },
  {
   "cell_type": "code",
   "execution_count": null,
   "metadata": {},
   "outputs": [],
   "source": [
    "target_audience = final_df.query('прибыль > 4 & predict_proba > 0.8')\n",
    "target_audience.shape"
   ]
  },
  {
   "cell_type": "markdown",
   "metadata": {},
   "source": [
    "Выбрал покупателей,которые принесли больше 4 среднемесячной прибыли(взял от пикового значения и более) и которые уйдут с вероятностью 80% и выше(в этом диапазоне наблюдается рост).Всего получилось 160 клиентов с которыми надо поработать и удержать. "
   ]
  },
  {
   "cell_type": "code",
   "execution_count": null,
   "metadata": {},
   "outputs": [],
   "source": [
    "target_audience['тип_сервиса'].value_counts().plot(\n",
    "    kind='pie', autopct='%1.0f%%', colors={'w', 'y'}) ;"
   ]
  },
  {
   "cell_type": "code",
   "execution_count": null,
   "metadata": {},
   "outputs": [],
   "source": [
    "target_audience['тип_сервиса'].value_counts(ascending=True).plot.barh(\n",
    "    title='Тип сервиса',\n",
    "    color='g'\n",
    ");"
   ]
  },
  {
   "cell_type": "markdown",
   "metadata": {},
   "source": [
    "Почти 30% клиентов имеют премиум подписку"
   ]
  },
  {
   "cell_type": "code",
   "execution_count": null,
   "metadata": {},
   "outputs": [],
   "source": [
    "target_audience.акционные_покупки.hist(bins = 20, figsize = (15,10));"
   ]
  },
  {
   "cell_type": "markdown",
   "metadata": {},
   "source": [
    "Большая доля клиентов готовы покупать акционные товары"
   ]
  },
  {
   "cell_type": "code",
   "execution_count": null,
   "metadata": {},
   "outputs": [],
   "source": [
    "segmentation = target_audience.query('акционные_покупки > 0.6')\n",
    "display(segmentation['популярная_категория'].value_counts())\n",
    "segmentation['популярная_категория'].value_counts().plot(\n",
    "    kind='pie', autopct='%1.0f%%', colors={'w', 'y'}) ;"
   ]
  },
  {
   "cell_type": "markdown",
   "metadata": {},
   "source": [
    "Выбрал покупателей которые имеют большую долю покупок по акции к соотношению от основных покупок(более 60%) и сгрупировал по популярным категориям"
   ]
  },
  {
   "cell_type": "code",
   "execution_count": null,
   "metadata": {},
   "outputs": [],
   "source": [
    "target_audience['разрешить_сообщать'].value_counts(ascending=True).plot.barh(\n",
    "    title='Согласие на предложения о товаре.',\n",
    "    color='g'\n",
    ");"
   ]
  },
  {
   "cell_type": "code",
   "execution_count": null,
   "metadata": {},
   "outputs": [],
   "source": [
    "display(segmentation['разрешить_сообщать'].value_counts())\n",
    "segmentation['разрешить_сообщать'].value_counts().plot(\n",
    "    kind='pie', autopct='%1.0f%%', colors={'w', 'y'}) ;"
   ]
  },
  {
   "cell_type": "markdown",
   "metadata": {},
   "source": [
    "Более 70% таких покупателей хотят получать информационные рассылки.Так же покупатели совершающие акционные покупки от 60 % от числа покупок, 44(75%) из них готовы получать сообщения об акциях"
   ]
  },
  {
   "cell_type": "code",
   "execution_count": null,
   "metadata": {},
   "outputs": [],
   "source": [
    "target_audience['популярная_категория'].value_counts().plot(\n",
    "    title='Популярные категории', \n",
    "    kind='pie', autopct='%1.0f%%', colors={'w', 'y'}) ;"
   ]
  },
  {
   "cell_type": "markdown",
   "metadata": {},
   "source": [
    "Доля *товаров для детей* и *косметика и аксессуары* у выбраных покупателей больше чем у всех покупателей магазина."
   ]
  },
  {
   "cell_type": "code",
   "execution_count": null,
   "metadata": {},
   "outputs": [],
   "source": [
    "target_audience['средний_просмотр_категорий_за_визит'].value_counts().plot( \n",
    "    kind='pie', autopct='%1.0f%%', colors={'w', 'y'}) ;"
   ]
  },
  {
   "cell_type": "markdown",
   "metadata": {},
   "source": [
    "Больше всего покупателей просмотрели 2 категории товаров,далее идет 3"
   ]
  },
  {
   "cell_type": "markdown",
   "metadata": {},
   "source": [
    "Предложение увеличения покупательской активности:\n",
    "- Промокоды покупателям.Большая доля клиентов готовы покупать по акции и готовы к рассылкам,можно предлагать промокоды по категориям,которыми они интересуются(до 2-х,по одному на категорию)\n",
    "- Категории *премиум* дать 2 категории товаров на которую дейстует скидка,каждый месяц меняя категории для увеличения процента покупок по категориям имеющим маленький процент\n",
    "- Категории *стандарт* дать скидку на переход в категорию *премиум* при покупки от 3-х товаров,тем самым переходя на пакет *премиум* они получат привелегии категории\n",
    "- Увеличить время проведения на сайте(тем самым скланить к покупке) за счет промокода на определенный список товаров. "
   ]
  },
  {
   "cell_type": "markdown",
   "metadata": {},
   "source": [
    "## Общий вывод"
   ]
  },
  {
   "cell_type": "markdown",
   "metadata": {},
   "source": [
    "По итогам проделанной работы было сделанно следующее:\n",
    "### Открыл файл с данными и изучил иформацию\n",
    "- Загрузил данные из файлов в датафреймы.\n",
    "- Вывел первые строки,изучил общую информацию о датафреймах.Данные представлены в 4 таблицах.\n",
    "### Предобработал данные\n",
    "- Проверил на дубликаты,таковых не обнаружил.\n",
    "- Названия столбцов в датафреймах перевел в нижний регистр и замени пробел на *_*\n",
    "- изучил уникальные значения во всех столбцах\n",
    "- заменил некоторые значения написанные с ошибкой\n",
    "### Провел исследовательский анализ данных\n",
    "- Вывел и изучил таблицы как категориальные, так и числовые\n",
    "- вывел основные статистические характеристики данных по каждому числовому признаку\n",
    "- заменил аномальное значение в столбце *выручка* на среднее по всему столбцу\n",
    "- отобрал клиентов с покупательской активностью менее 3-ч месяцев,таких клиентов оказалось 3-е\n",
    "### Объединил таблицы\n",
    "- Объединил 3 таблицы и разбил периоды в отдельные столбцы по показателям выручки и времени\n",
    "### Провел корреляционный анализ\n",
    "- Посмотрел на зависимость признаков, сильная зависимость у столбцов id и покупательская_активность.Так же зависимость наблюдаем между предыдущим периодом выручки и текущим, между покупательской активностью количество страниц за визит и времени за предыдущий месяц\n",
    "### Использовал пайплайн\n",
    "- Заменил значения в целевом признаке на 1 и 0\n",
    "- азделил df на целовой признак и признаки 75/25, использовал стратификацию\n",
    "Создад пайплайн, который выберал лучшую комбинацию модели и гиперпараметров. \n",
    "\n",
    "* DecisionTreeClassifier()с гиперпараметрами max_depth от 2 до 4 включительно и * max_features от 2 до 4 включительно\n",
    "* SVC()\n",
    "* KNeighborsClassifier() с гиперпараметром n_neighbors от 2 до 4 включительно\n",
    "* LogisticRegression(solver='liblinear', penalty='l1') с гиперпараметром регуляризации С от 1 до 4 включительно. \n",
    "- Так же использую два маштабирования StandardScaler()и MinMaxScaler(),OrdinalEncoder() для столбца тип_сервиса и OHE для остальных.\n",
    "- Лучшей моделью получилась LogisticRegression(penalty='l1', random_state=42, solver='liblinear') с гиперпараметром регуляризации С=1.\n",
    "- Далее кодировал,масштабировал и объединял данные для тестовой выборки\n",
    "- Обучил модель LogisticRegression() с лучшими параметрами на тестовой выборки, результаты не сильно отличаются от тренировочной, так же Accuracy и F1-score довольно хорошие\n",
    "- Проверил модель на адекватность. Метрики модели LogisticRegression() лучше чем DummyClassifier()\n",
    "### Провел анализ важности признаков  методом SHAP\n",
    "- Большое влияние оказывает признак страниц_за_визит,негативные значения Шепли слева от центральной вертикальной линии означают, что признак склоняет модель отнести объекты к классу 0(такой признаки как акционные_покупки), а положительные справа — к классу 1(такой признак как маркет_актив6мес), остальные 11 признаков склоняют к классу 1\n",
    "- Сильнее всего на классификацию влияет признак время_текущий_месяц и перетягивает предсказание в сторону класса 0,далее идет время_предыдущий_месяц и перетягивает предсказание в сторону класса 1. Значение f(x)=-1,496 на графике показывает, что наблюдение скорее относится к классу 0\n",
    "### Провел сегментация покупателей\n",
    "- Добавил столбец прогноз_активности, predict_proba, он возвращает оценки вероятности для всех классов и таблицу с данными о среднемесячной прибыли магазина за последние 3 месяца\n",
    "- Выбрал покупателей,которые принесли больше 4 среднемесячной прибыли(взял от пикового значения и более) и которые уйдут с вероятностью 80% и выше(в этом диапазоне наблюдается рост).Всего получилось 160 клиентов с которыми надо поработать и удержать\n",
    "\n",
    "Предложение увеличения покупательской активности:\n",
    "- Промокоды покупателям.Большая доля клиентов готовы покупать по акции и готовы к рассылкам,можно предлагать промокоды по категориям,которыми они интересуются(до 2-х,по одному на категорию)\n",
    "- Категории премиум дать 2 категории товаров на которую дейстует скидка,каждый месяц меняя категории для увеличения процента покупок по категориям имеющим маленький процент\n",
    "- Категории стандарт дать скидку на переход в категорию премиум при покупки от 3-х товаров,тем самым переходя на пакет премиум они получат привелегии категории\n",
    "- Увеличить время проведения на сайте(тем самым скланить к покупке) за счет промокода на определенный список товаров."
   ]
  },
  {
   "cell_type": "code",
   "execution_count": null,
   "metadata": {},
   "outputs": [],
   "source": []
  }
 ],
 "metadata": {
  "ExecuteTimeLog": [
   {
    "duration": 11864,
    "start_time": "2024-04-12T15:18:25.771Z"
   },
   {
    "duration": 1644,
    "start_time": "2024-04-12T15:19:22.846Z"
   },
   {
    "duration": 0,
    "start_time": "2024-04-12T15:19:24.492Z"
   },
   {
    "duration": 9191,
    "start_time": "2024-04-12T15:20:15.265Z"
   },
   {
    "duration": 618,
    "start_time": "2024-04-12T15:20:24.458Z"
   },
   {
    "duration": 0,
    "start_time": "2024-04-12T15:20:25.078Z"
   },
   {
    "duration": 7858,
    "start_time": "2024-04-12T15:21:38.605Z"
   },
   {
    "duration": 1945,
    "start_time": "2024-04-12T15:21:46.466Z"
   },
   {
    "duration": 0,
    "start_time": "2024-04-12T15:21:48.414Z"
   },
   {
    "duration": 57,
    "start_time": "2024-04-12T15:22:08.374Z"
   },
   {
    "duration": 377,
    "start_time": "2024-04-12T15:22:13.201Z"
   },
   {
    "duration": 19065,
    "start_time": "2024-04-12T15:23:02.112Z"
   },
   {
    "duration": 5,
    "start_time": "2024-04-12T15:23:21.180Z"
   },
   {
    "duration": 106,
    "start_time": "2024-04-12T15:23:21.187Z"
   },
   {
    "duration": 14,
    "start_time": "2024-04-12T16:08:10.015Z"
   },
   {
    "duration": 94,
    "start_time": "2024-04-12T16:09:28.020Z"
   },
   {
    "duration": 13,
    "start_time": "2024-04-12T16:09:28.959Z"
   },
   {
    "duration": 7,
    "start_time": "2024-04-12T16:10:15.298Z"
   },
   {
    "duration": 7,
    "start_time": "2024-04-12T16:10:16.669Z"
   },
   {
    "duration": 8,
    "start_time": "2024-04-12T16:10:17.631Z"
   },
   {
    "duration": 91,
    "start_time": "2024-04-12T16:11:38.614Z"
   },
   {
    "duration": 14,
    "start_time": "2024-04-12T16:11:39.170Z"
   },
   {
    "duration": 10,
    "start_time": "2024-04-12T16:11:40.604Z"
   },
   {
    "duration": 8,
    "start_time": "2024-04-12T16:11:42.107Z"
   },
   {
    "duration": 8,
    "start_time": "2024-04-12T16:11:43.141Z"
   },
   {
    "duration": 7,
    "start_time": "2024-04-12T16:11:47.606Z"
   },
   {
    "duration": 91,
    "start_time": "2024-04-12T16:11:58.812Z"
   },
   {
    "duration": 13,
    "start_time": "2024-04-12T16:11:59.552Z"
   },
   {
    "duration": 8,
    "start_time": "2024-04-12T16:12:00.064Z"
   },
   {
    "duration": 8,
    "start_time": "2024-04-12T16:12:00.818Z"
   },
   {
    "duration": 8,
    "start_time": "2024-04-12T16:12:01.607Z"
   },
   {
    "duration": 26,
    "start_time": "2024-04-12T16:21:07.315Z"
   },
   {
    "duration": 16312,
    "start_time": "2024-04-12T16:35:09.389Z"
   },
   {
    "duration": 15,
    "start_time": "2024-04-12T16:42:56.753Z"
   },
   {
    "duration": 7,
    "start_time": "2024-04-12T16:43:36.784Z"
   },
   {
    "duration": 22,
    "start_time": "2024-04-12T16:44:03.349Z"
   },
   {
    "duration": 12,
    "start_time": "2024-04-12T16:47:28.646Z"
   },
   {
    "duration": 6,
    "start_time": "2024-04-12T16:47:31.102Z"
   },
   {
    "duration": 12,
    "start_time": "2024-04-12T16:48:21.913Z"
   },
   {
    "duration": 6,
    "start_time": "2024-04-12T16:48:24.106Z"
   },
   {
    "duration": 11,
    "start_time": "2024-04-12T16:50:49.282Z"
   },
   {
    "duration": 5,
    "start_time": "2024-04-12T16:54:13.509Z"
   },
   {
    "duration": 20,
    "start_time": "2024-04-12T16:54:32.909Z"
   },
   {
    "duration": 12,
    "start_time": "2024-04-12T16:54:58.696Z"
   },
   {
    "duration": 11,
    "start_time": "2024-04-12T16:56:56.919Z"
   },
   {
    "duration": 3,
    "start_time": "2024-04-12T16:57:13.643Z"
   },
   {
    "duration": 11,
    "start_time": "2024-04-12T16:57:14.391Z"
   },
   {
    "duration": 3,
    "start_time": "2024-04-12T16:57:35.988Z"
   },
   {
    "duration": 11,
    "start_time": "2024-04-12T16:57:36.494Z"
   },
   {
    "duration": 3,
    "start_time": "2024-04-12T16:57:57.460Z"
   },
   {
    "duration": 11,
    "start_time": "2024-04-12T16:57:57.841Z"
   },
   {
    "duration": 27,
    "start_time": "2024-04-12T17:03:33.922Z"
   },
   {
    "duration": 12,
    "start_time": "2024-04-12T17:03:39.658Z"
   },
   {
    "duration": 13,
    "start_time": "2024-04-12T17:03:40.686Z"
   },
   {
    "duration": 4,
    "start_time": "2024-04-12T17:08:08.214Z"
   },
   {
    "duration": 3,
    "start_time": "2024-04-12T17:08:32.749Z"
   },
   {
    "duration": 8,
    "start_time": "2024-04-12T17:13:29.885Z"
   },
   {
    "duration": 11,
    "start_time": "2024-04-12T17:13:32.097Z"
   },
   {
    "duration": 45,
    "start_time": "2024-04-12T17:17:35.312Z"
   },
   {
    "duration": 15,
    "start_time": "2024-04-12T17:17:54.523Z"
   },
   {
    "duration": 9,
    "start_time": "2024-04-12T17:19:22.408Z"
   },
   {
    "duration": 14,
    "start_time": "2024-04-12T17:19:44.382Z"
   },
   {
    "duration": 6,
    "start_time": "2024-04-12T17:25:57.758Z"
   },
   {
    "duration": 5,
    "start_time": "2024-04-12T17:27:39.412Z"
   },
   {
    "duration": 4,
    "start_time": "2024-04-12T17:28:15.753Z"
   },
   {
    "duration": 5,
    "start_time": "2024-04-12T17:28:40.528Z"
   },
   {
    "duration": 10,
    "start_time": "2024-04-12T17:30:12.729Z"
   },
   {
    "duration": 85,
    "start_time": "2024-04-12T17:30:17.697Z"
   },
   {
    "duration": 14,
    "start_time": "2024-04-12T17:30:52.048Z"
   },
   {
    "duration": 12,
    "start_time": "2024-04-12T17:45:02.577Z"
   },
   {
    "duration": 10,
    "start_time": "2024-04-12T17:45:08.558Z"
   },
   {
    "duration": 14,
    "start_time": "2024-04-12T17:45:40.149Z"
   },
   {
    "duration": 13,
    "start_time": "2024-04-12T17:45:49.061Z"
   },
   {
    "duration": 18,
    "start_time": "2024-04-12T17:47:21.232Z"
   },
   {
    "duration": 19,
    "start_time": "2024-04-12T17:48:32.650Z"
   },
   {
    "duration": 17,
    "start_time": "2024-04-12T17:48:50.323Z"
   },
   {
    "duration": 8,
    "start_time": "2024-04-12T17:49:50.975Z"
   },
   {
    "duration": 8,
    "start_time": "2024-04-12T17:50:31.010Z"
   },
   {
    "duration": 10,
    "start_time": "2024-04-12T17:51:18.455Z"
   },
   {
    "duration": 1506,
    "start_time": "2024-04-12T17:55:45.045Z"
   },
   {
    "duration": 7,
    "start_time": "2024-04-12T17:56:56.231Z"
   },
   {
    "duration": 6,
    "start_time": "2024-04-12T17:57:06.667Z"
   },
   {
    "duration": 10,
    "start_time": "2024-04-12T17:57:57.844Z"
   },
   {
    "duration": 5,
    "start_time": "2024-04-12T18:05:20.555Z"
   },
   {
    "duration": 10,
    "start_time": "2024-04-12T18:05:42.837Z"
   },
   {
    "duration": 11,
    "start_time": "2024-04-12T18:05:49.396Z"
   },
   {
    "duration": 13,
    "start_time": "2024-04-12T18:14:25.852Z"
   },
   {
    "duration": 73,
    "start_time": "2024-04-12T18:15:12.577Z"
   },
   {
    "duration": 78,
    "start_time": "2024-04-12T18:15:19.954Z"
   },
   {
    "duration": 71,
    "start_time": "2024-04-12T18:15:24.516Z"
   },
   {
    "duration": 84,
    "start_time": "2024-04-12T18:15:42.045Z"
   },
   {
    "duration": 5,
    "start_time": "2024-04-12T18:15:43.139Z"
   },
   {
    "duration": 93,
    "start_time": "2024-04-12T18:15:47.928Z"
   },
   {
    "duration": 73,
    "start_time": "2024-04-12T18:15:59.036Z"
   },
   {
    "duration": 4,
    "start_time": "2024-04-12T18:16:03.513Z"
   },
   {
    "duration": 12,
    "start_time": "2024-04-12T18:16:09.653Z"
   },
   {
    "duration": 6,
    "start_time": "2024-04-12T18:17:59.140Z"
   },
   {
    "duration": 13,
    "start_time": "2024-04-12T18:18:02.805Z"
   },
   {
    "duration": 12,
    "start_time": "2024-04-12T18:18:27.473Z"
   },
   {
    "duration": 13,
    "start_time": "2024-04-12T18:19:26.660Z"
   },
   {
    "duration": 11,
    "start_time": "2024-04-12T18:19:45.296Z"
   },
   {
    "duration": 14,
    "start_time": "2024-04-12T18:21:46.095Z"
   },
   {
    "duration": 18,
    "start_time": "2024-04-12T18:23:12.861Z"
   },
   {
    "duration": 13,
    "start_time": "2024-04-12T18:23:21.473Z"
   },
   {
    "duration": 18,
    "start_time": "2024-04-12T18:27:07.347Z"
   },
   {
    "duration": 35,
    "start_time": "2024-04-12T18:28:18.457Z"
   },
   {
    "duration": 28,
    "start_time": "2024-04-12T18:28:29.286Z"
   },
   {
    "duration": 67,
    "start_time": "2024-04-12T18:32:15.597Z"
   },
   {
    "duration": 10,
    "start_time": "2024-04-12T18:32:26.819Z"
   },
   {
    "duration": 13,
    "start_time": "2024-04-12T18:32:32.411Z"
   },
   {
    "duration": 10,
    "start_time": "2024-04-12T18:32:57.994Z"
   },
   {
    "duration": 5,
    "start_time": "2024-04-12T18:49:13.189Z"
   },
   {
    "duration": 6,
    "start_time": "2024-04-12T18:49:31.518Z"
   },
   {
    "duration": 11,
    "start_time": "2024-04-12T18:50:08.119Z"
   },
   {
    "duration": 11,
    "start_time": "2024-04-12T18:50:29.788Z"
   },
   {
    "duration": 117,
    "start_time": "2024-04-12T18:50:53.633Z"
   },
   {
    "duration": 10,
    "start_time": "2024-04-12T18:50:57.705Z"
   },
   {
    "duration": 7,
    "start_time": "2024-04-12T18:51:15.998Z"
   },
   {
    "duration": 12,
    "start_time": "2024-04-12T18:52:16.699Z"
   },
   {
    "duration": 1091,
    "start_time": "2024-04-12T18:54:07.905Z"
   },
   {
    "duration": 6,
    "start_time": "2024-04-12T18:54:27.029Z"
   },
   {
    "duration": 7,
    "start_time": "2024-04-12T18:54:28.241Z"
   },
   {
    "duration": 9,
    "start_time": "2024-04-12T18:56:07.090Z"
   },
   {
    "duration": 15,
    "start_time": "2024-04-12T18:56:23.611Z"
   },
   {
    "duration": 10,
    "start_time": "2024-04-12T18:56:40.481Z"
   },
   {
    "duration": 49,
    "start_time": "2024-04-14T15:06:04.664Z"
   },
   {
    "duration": 24711,
    "start_time": "2024-04-14T15:06:33.408Z"
   },
   {
    "duration": 10,
    "start_time": "2024-04-14T15:06:58.122Z"
   },
   {
    "duration": 15678,
    "start_time": "2024-04-14T15:07:18.169Z"
   },
   {
    "duration": 1496,
    "start_time": "2024-04-14T15:07:33.850Z"
   },
   {
    "duration": 283,
    "start_time": "2024-04-14T15:07:35.348Z"
   },
   {
    "duration": 29,
    "start_time": "2024-04-14T15:07:35.634Z"
   },
   {
    "duration": 3,
    "start_time": "2024-04-14T15:07:35.664Z"
   },
   {
    "duration": 14,
    "start_time": "2024-04-14T15:07:35.669Z"
   },
   {
    "duration": 6,
    "start_time": "2024-04-14T15:07:35.685Z"
   },
   {
    "duration": 35,
    "start_time": "2024-04-14T15:07:35.692Z"
   },
   {
    "duration": 10,
    "start_time": "2024-04-14T15:07:35.728Z"
   },
   {
    "duration": 3,
    "start_time": "2024-04-14T15:07:35.740Z"
   },
   {
    "duration": 12,
    "start_time": "2024-04-14T15:07:35.745Z"
   },
   {
    "duration": 9,
    "start_time": "2024-04-14T15:07:35.758Z"
   },
   {
    "duration": 4,
    "start_time": "2024-04-14T15:07:35.769Z"
   },
   {
    "duration": 12,
    "start_time": "2024-04-14T15:07:35.815Z"
   },
   {
    "duration": 8,
    "start_time": "2024-04-14T15:07:35.830Z"
   },
   {
    "duration": 8,
    "start_time": "2024-04-14T15:07:35.839Z"
   },
   {
    "duration": 8,
    "start_time": "2024-04-14T15:07:35.848Z"
   },
   {
    "duration": 24,
    "start_time": "2024-04-14T15:07:35.858Z"
   },
   {
    "duration": 21,
    "start_time": "2024-04-14T15:07:35.884Z"
   },
   {
    "duration": 910,
    "start_time": "2024-04-14T15:07:35.915Z"
   },
   {
    "duration": 11,
    "start_time": "2024-04-14T15:07:36.827Z"
   },
   {
    "duration": 44,
    "start_time": "2024-04-14T15:10:24.358Z"
   },
   {
    "duration": 47,
    "start_time": "2024-04-14T15:10:36.095Z"
   },
   {
    "duration": 189,
    "start_time": "2024-04-14T15:10:41.951Z"
   },
   {
    "duration": 128,
    "start_time": "2024-04-14T15:13:03.768Z"
   },
   {
    "duration": 977,
    "start_time": "2024-04-14T15:15:22.020Z"
   },
   {
    "duration": 15,
    "start_time": "2024-04-14T15:15:30.081Z"
   },
   {
    "duration": 85,
    "start_time": "2024-04-14T15:18:51.695Z"
   },
   {
    "duration": 155,
    "start_time": "2024-04-14T15:21:35.460Z"
   },
   {
    "duration": 71,
    "start_time": "2024-04-14T15:28:12.315Z"
   },
   {
    "duration": 112,
    "start_time": "2024-04-14T15:28:17.885Z"
   },
   {
    "duration": 88,
    "start_time": "2024-04-14T15:28:50.603Z"
   },
   {
    "duration": 126,
    "start_time": "2024-04-14T15:29:36.435Z"
   },
   {
    "duration": 149,
    "start_time": "2024-04-14T15:29:43.802Z"
   },
   {
    "duration": 174,
    "start_time": "2024-04-14T15:29:47.672Z"
   },
   {
    "duration": 4,
    "start_time": "2024-04-14T15:32:30.895Z"
   },
   {
    "duration": 1049,
    "start_time": "2024-04-14T15:32:36.674Z"
   },
   {
    "duration": 154,
    "start_time": "2024-04-14T15:36:32.718Z"
   },
   {
    "duration": 14,
    "start_time": "2024-04-14T15:37:02.272Z"
   },
   {
    "duration": 12,
    "start_time": "2024-04-14T15:37:13.134Z"
   },
   {
    "duration": 142,
    "start_time": "2024-04-14T15:37:19.082Z"
   },
   {
    "duration": 138,
    "start_time": "2024-04-14T15:37:37.750Z"
   },
   {
    "duration": 55,
    "start_time": "2024-04-14T15:37:53.923Z"
   },
   {
    "duration": 125,
    "start_time": "2024-04-14T15:37:58.946Z"
   },
   {
    "duration": 15,
    "start_time": "2024-04-14T15:40:26.682Z"
   },
   {
    "duration": 143,
    "start_time": "2024-04-14T15:40:51.682Z"
   },
   {
    "duration": 146,
    "start_time": "2024-04-14T15:41:47.047Z"
   },
   {
    "duration": 10,
    "start_time": "2024-04-14T15:43:53.110Z"
   },
   {
    "duration": 9,
    "start_time": "2024-04-14T15:44:01.269Z"
   },
   {
    "duration": 243,
    "start_time": "2024-04-14T15:44:09.741Z"
   },
   {
    "duration": 249,
    "start_time": "2024-04-14T15:46:20.853Z"
   },
   {
    "duration": 122,
    "start_time": "2024-04-14T15:46:48.911Z"
   },
   {
    "duration": 125,
    "start_time": "2024-04-14T15:47:15.004Z"
   },
   {
    "duration": 1014,
    "start_time": "2024-04-14T15:47:51.519Z"
   },
   {
    "duration": 292,
    "start_time": "2024-04-14T15:47:55.776Z"
   },
   {
    "duration": 218,
    "start_time": "2024-04-14T15:48:15.946Z"
   },
   {
    "duration": 26,
    "start_time": "2024-04-14T15:49:24.822Z"
   },
   {
    "duration": 13,
    "start_time": "2024-04-14T15:50:18.587Z"
   },
   {
    "duration": 10,
    "start_time": "2024-04-14T15:50:26.632Z"
   },
   {
    "duration": 217,
    "start_time": "2024-04-14T15:50:28.361Z"
   },
   {
    "duration": 346,
    "start_time": "2024-04-14T15:50:40.207Z"
   },
   {
    "duration": 163,
    "start_time": "2024-04-14T15:56:45.503Z"
   },
   {
    "duration": 328,
    "start_time": "2024-04-14T15:57:04.667Z"
   },
   {
    "duration": 274,
    "start_time": "2024-04-14T15:57:18.597Z"
   },
   {
    "duration": 261,
    "start_time": "2024-04-14T15:58:29.449Z"
   },
   {
    "duration": 331,
    "start_time": "2024-04-14T15:58:35.634Z"
   },
   {
    "duration": 221,
    "start_time": "2024-04-14T15:58:40.191Z"
   },
   {
    "duration": 215,
    "start_time": "2024-04-14T15:59:28.999Z"
   },
   {
    "duration": 511,
    "start_time": "2024-04-14T15:59:37.073Z"
   },
   {
    "duration": 185,
    "start_time": "2024-04-14T15:59:40.707Z"
   },
   {
    "duration": 218,
    "start_time": "2024-04-14T15:59:47.277Z"
   },
   {
    "duration": 193,
    "start_time": "2024-04-14T15:59:51.110Z"
   },
   {
    "duration": 168,
    "start_time": "2024-04-14T15:59:55.182Z"
   },
   {
    "duration": 181,
    "start_time": "2024-04-14T15:59:59.344Z"
   },
   {
    "duration": 169,
    "start_time": "2024-04-14T16:00:02.419Z"
   },
   {
    "duration": 164,
    "start_time": "2024-04-14T16:00:05.352Z"
   },
   {
    "duration": 164,
    "start_time": "2024-04-14T16:00:08.378Z"
   },
   {
    "duration": 171,
    "start_time": "2024-04-14T16:00:12.344Z"
   },
   {
    "duration": 269,
    "start_time": "2024-04-14T16:00:55.932Z"
   },
   {
    "duration": 173,
    "start_time": "2024-04-14T16:01:06.152Z"
   },
   {
    "duration": 179,
    "start_time": "2024-04-14T16:01:18.464Z"
   },
   {
    "duration": 197,
    "start_time": "2024-04-14T16:01:48.295Z"
   },
   {
    "duration": 225,
    "start_time": "2024-04-14T16:01:55.989Z"
   },
   {
    "duration": 196,
    "start_time": "2024-04-14T16:02:27.184Z"
   },
   {
    "duration": 172,
    "start_time": "2024-04-14T16:02:38.818Z"
   },
   {
    "duration": 167,
    "start_time": "2024-04-14T16:02:45.178Z"
   },
   {
    "duration": 221,
    "start_time": "2024-04-14T16:18:08.755Z"
   },
   {
    "duration": 318,
    "start_time": "2024-04-14T16:18:44.816Z"
   },
   {
    "duration": 984,
    "start_time": "2024-04-14T16:19:52.273Z"
   },
   {
    "duration": 11,
    "start_time": "2024-04-14T16:21:16.655Z"
   },
   {
    "duration": 161,
    "start_time": "2024-04-14T16:21:23.003Z"
   },
   {
    "duration": 176,
    "start_time": "2024-04-14T16:21:41.064Z"
   },
   {
    "duration": 329,
    "start_time": "2024-04-14T16:21:53.234Z"
   },
   {
    "duration": 467,
    "start_time": "2024-04-14T16:22:07.531Z"
   },
   {
    "duration": 171,
    "start_time": "2024-04-14T16:22:11.593Z"
   },
   {
    "duration": 225,
    "start_time": "2024-04-14T16:22:57.779Z"
   },
   {
    "duration": 115,
    "start_time": "2024-04-14T16:23:30.601Z"
   },
   {
    "duration": 109,
    "start_time": "2024-04-14T16:23:34.287Z"
   },
   {
    "duration": 133,
    "start_time": "2024-04-14T16:26:31.626Z"
   },
   {
    "duration": 149,
    "start_time": "2024-04-14T16:27:35.855Z"
   },
   {
    "duration": 141,
    "start_time": "2024-04-14T16:27:52.658Z"
   },
   {
    "duration": 172,
    "start_time": "2024-04-14T16:28:14.633Z"
   },
   {
    "duration": 145,
    "start_time": "2024-04-14T16:28:24.102Z"
   },
   {
    "duration": 148,
    "start_time": "2024-04-14T16:28:29.674Z"
   },
   {
    "duration": 11,
    "start_time": "2024-04-14T16:30:25.332Z"
   },
   {
    "duration": 19,
    "start_time": "2024-04-14T16:31:04.728Z"
   },
   {
    "duration": 13,
    "start_time": "2024-04-14T16:31:11.670Z"
   },
   {
    "duration": 15,
    "start_time": "2024-04-14T16:31:15.945Z"
   },
   {
    "duration": 11,
    "start_time": "2024-04-14T16:31:20.911Z"
   },
   {
    "duration": 10,
    "start_time": "2024-04-14T16:31:25.511Z"
   },
   {
    "duration": 16,
    "start_time": "2024-04-14T16:31:28.081Z"
   },
   {
    "duration": 10,
    "start_time": "2024-04-14T16:31:36.048Z"
   },
   {
    "duration": 15,
    "start_time": "2024-04-14T16:33:11.863Z"
   },
   {
    "duration": 5,
    "start_time": "2024-04-14T16:39:51.486Z"
   },
   {
    "duration": 15,
    "start_time": "2024-04-14T16:39:55.525Z"
   },
   {
    "duration": 21,
    "start_time": "2024-04-14T16:40:12.240Z"
   },
   {
    "duration": 160,
    "start_time": "2024-04-14T17:06:25.476Z"
   },
   {
    "duration": 151,
    "start_time": "2024-04-14T17:06:46.223Z"
   },
   {
    "duration": 155,
    "start_time": "2024-04-14T17:06:56.338Z"
   },
   {
    "duration": 178,
    "start_time": "2024-04-14T17:07:47.849Z"
   },
   {
    "duration": 214,
    "start_time": "2024-04-14T17:07:52.686Z"
   },
   {
    "duration": 340,
    "start_time": "2024-04-14T17:08:44.454Z"
   },
   {
    "duration": 334,
    "start_time": "2024-04-14T17:08:49.058Z"
   },
   {
    "duration": 279,
    "start_time": "2024-04-14T17:08:55.832Z"
   },
   {
    "duration": 21,
    "start_time": "2024-04-14T17:15:08.036Z"
   },
   {
    "duration": 44,
    "start_time": "2024-04-14T17:15:38.068Z"
   },
   {
    "duration": 25,
    "start_time": "2024-04-14T17:16:05.202Z"
   },
   {
    "duration": 15,
    "start_time": "2024-04-14T17:27:53.699Z"
   },
   {
    "duration": 18,
    "start_time": "2024-04-14T17:28:01.008Z"
   },
   {
    "duration": 1066,
    "start_time": "2024-04-14T17:28:16.347Z"
   },
   {
    "duration": 1032,
    "start_time": "2024-04-14T17:29:04.174Z"
   },
   {
    "duration": 11,
    "start_time": "2024-04-14T17:29:39.303Z"
   },
   {
    "duration": 18,
    "start_time": "2024-04-14T17:29:50.528Z"
   },
   {
    "duration": 16,
    "start_time": "2024-04-14T17:59:27.718Z"
   },
   {
    "duration": 19,
    "start_time": "2024-04-14T18:00:08.691Z"
   },
   {
    "duration": 19,
    "start_time": "2024-04-14T18:02:12.184Z"
   },
   {
    "duration": 19,
    "start_time": "2024-04-14T18:02:21.792Z"
   },
   {
    "duration": 102,
    "start_time": "2024-04-14T18:02:32.377Z"
   },
   {
    "duration": 64,
    "start_time": "2024-04-14T18:03:08.704Z"
   },
   {
    "duration": 7,
    "start_time": "2024-04-14T18:08:27.435Z"
   },
   {
    "duration": 10,
    "start_time": "2024-04-14T18:08:31.078Z"
   },
   {
    "duration": 6,
    "start_time": "2024-04-14T18:10:01.664Z"
   },
   {
    "duration": 11,
    "start_time": "2024-04-14T18:10:04.160Z"
   },
   {
    "duration": 101,
    "start_time": "2024-04-14T18:10:15.902Z"
   },
   {
    "duration": 4,
    "start_time": "2024-04-14T18:10:59.291Z"
   },
   {
    "duration": 11,
    "start_time": "2024-04-14T18:11:00.878Z"
   },
   {
    "duration": 9,
    "start_time": "2024-04-14T18:11:26.126Z"
   },
   {
    "duration": 18,
    "start_time": "2024-04-14T18:11:27.143Z"
   },
   {
    "duration": 25,
    "start_time": "2024-04-14T18:15:38.559Z"
   },
   {
    "duration": 16,
    "start_time": "2024-04-14T18:20:41.215Z"
   },
   {
    "duration": 13,
    "start_time": "2024-04-14T18:23:32.776Z"
   },
   {
    "duration": 24,
    "start_time": "2024-04-14T18:24:19.683Z"
   },
   {
    "duration": 32,
    "start_time": "2024-04-14T18:24:23.843Z"
   },
   {
    "duration": 19,
    "start_time": "2024-04-14T18:25:02.531Z"
   },
   {
    "duration": 24,
    "start_time": "2024-04-14T18:25:03.765Z"
   },
   {
    "duration": 23,
    "start_time": "2024-04-14T18:25:29.675Z"
   },
   {
    "duration": 17,
    "start_time": "2024-04-14T18:25:45.212Z"
   },
   {
    "duration": 23,
    "start_time": "2024-04-14T18:25:50.973Z"
   },
   {
    "duration": 10,
    "start_time": "2024-04-14T18:26:27.530Z"
   },
   {
    "duration": 18,
    "start_time": "2024-04-14T18:26:43.719Z"
   },
   {
    "duration": 23,
    "start_time": "2024-04-14T18:28:27.337Z"
   },
   {
    "duration": 54,
    "start_time": "2024-04-14T18:28:35.916Z"
   },
   {
    "duration": 23,
    "start_time": "2024-04-14T18:28:53.204Z"
   },
   {
    "duration": 21,
    "start_time": "2024-04-14T18:31:05.537Z"
   },
   {
    "duration": 43,
    "start_time": "2024-04-14T18:31:06.807Z"
   },
   {
    "duration": 22,
    "start_time": "2024-04-14T18:31:15.853Z"
   },
   {
    "duration": 27,
    "start_time": "2024-04-14T18:31:46.340Z"
   },
   {
    "duration": 62,
    "start_time": "2024-04-14T18:34:56.015Z"
   },
   {
    "duration": 46,
    "start_time": "2024-04-14T18:35:53.536Z"
   },
   {
    "duration": 53,
    "start_time": "2024-04-14T18:36:07.627Z"
   },
   {
    "duration": 76,
    "start_time": "2024-04-14T18:36:42.107Z"
   },
   {
    "duration": 11,
    "start_time": "2024-04-14T18:38:24.199Z"
   },
   {
    "duration": 19,
    "start_time": "2024-04-14T18:38:30.547Z"
   },
   {
    "duration": 31,
    "start_time": "2024-04-14T18:38:31.719Z"
   },
   {
    "duration": 26,
    "start_time": "2024-04-14T18:38:49.661Z"
   },
   {
    "duration": 26,
    "start_time": "2024-04-14T18:39:22.359Z"
   },
   {
    "duration": 41,
    "start_time": "2024-04-14T18:39:28.506Z"
   },
   {
    "duration": 21,
    "start_time": "2024-04-14T18:39:33.034Z"
   },
   {
    "duration": 20,
    "start_time": "2024-04-14T18:40:48.348Z"
   },
   {
    "duration": 45,
    "start_time": "2024-04-14T18:40:49.680Z"
   },
   {
    "duration": 48,
    "start_time": "2024-04-14T18:41:54.436Z"
   },
   {
    "duration": 48,
    "start_time": "2024-04-14T18:42:54.168Z"
   },
   {
    "duration": 49,
    "start_time": "2024-04-14T18:43:45.719Z"
   },
   {
    "duration": 46,
    "start_time": "2024-04-14T18:44:07.869Z"
   },
   {
    "duration": 48,
    "start_time": "2024-04-14T18:44:56.554Z"
   },
   {
    "duration": 73,
    "start_time": "2024-04-14T18:45:35.231Z"
   },
   {
    "duration": 47,
    "start_time": "2024-04-14T18:46:32.131Z"
   },
   {
    "duration": 41,
    "start_time": "2024-04-14T18:46:51.315Z"
   },
   {
    "duration": 18900,
    "start_time": "2024-04-14T18:47:16.198Z"
   },
   {
    "duration": 1522,
    "start_time": "2024-04-14T18:47:35.101Z"
   },
   {
    "duration": 107,
    "start_time": "2024-04-14T18:47:36.628Z"
   },
   {
    "duration": 34,
    "start_time": "2024-04-14T18:47:36.738Z"
   },
   {
    "duration": 4,
    "start_time": "2024-04-14T18:47:36.774Z"
   },
   {
    "duration": 13,
    "start_time": "2024-04-14T18:47:36.779Z"
   },
   {
    "duration": 13,
    "start_time": "2024-04-14T18:47:36.793Z"
   },
   {
    "duration": 30,
    "start_time": "2024-04-14T18:47:36.807Z"
   },
   {
    "duration": 18,
    "start_time": "2024-04-14T18:47:36.840Z"
   },
   {
    "duration": 4,
    "start_time": "2024-04-14T18:47:36.861Z"
   },
   {
    "duration": 28,
    "start_time": "2024-04-14T18:47:36.867Z"
   },
   {
    "duration": 23,
    "start_time": "2024-04-14T18:47:36.918Z"
   },
   {
    "duration": 3,
    "start_time": "2024-04-14T18:47:36.944Z"
   },
   {
    "duration": 16,
    "start_time": "2024-04-14T18:47:36.950Z"
   },
   {
    "duration": 10,
    "start_time": "2024-04-14T18:47:36.969Z"
   },
   {
    "duration": 11,
    "start_time": "2024-04-14T18:47:36.981Z"
   },
   {
    "duration": 10,
    "start_time": "2024-04-14T18:47:37.014Z"
   },
   {
    "duration": 14,
    "start_time": "2024-04-14T18:47:37.035Z"
   },
   {
    "duration": 11,
    "start_time": "2024-04-14T18:47:37.051Z"
   },
   {
    "duration": 147,
    "start_time": "2024-04-14T18:47:37.063Z"
   },
   {
    "duration": 146,
    "start_time": "2024-04-14T18:47:37.211Z"
   },
   {
    "duration": 119,
    "start_time": "2024-04-14T18:47:37.360Z"
   },
   {
    "duration": 195,
    "start_time": "2024-04-14T18:47:37.480Z"
   },
   {
    "duration": 175,
    "start_time": "2024-04-14T18:47:37.676Z"
   },
   {
    "duration": 350,
    "start_time": "2024-04-14T18:47:37.853Z"
   },
   {
    "duration": 352,
    "start_time": "2024-04-14T18:47:38.205Z"
   },
   {
    "duration": 293,
    "start_time": "2024-04-14T18:47:38.559Z"
   },
   {
    "duration": 237,
    "start_time": "2024-04-14T18:47:38.858Z"
   },
   {
    "duration": 247,
    "start_time": "2024-04-14T18:47:39.096Z"
   },
   {
    "duration": 266,
    "start_time": "2024-04-14T18:47:39.345Z"
   },
   {
    "duration": 217,
    "start_time": "2024-04-14T18:47:39.612Z"
   },
   {
    "duration": 1034,
    "start_time": "2024-04-14T18:47:39.830Z"
   },
   {
    "duration": 74,
    "start_time": "2024-04-14T18:47:40.867Z"
   },
   {
    "duration": 172,
    "start_time": "2024-04-14T18:47:40.945Z"
   },
   {
    "duration": 19,
    "start_time": "2024-04-14T18:47:41.123Z"
   },
   {
    "duration": 13,
    "start_time": "2024-04-14T18:47:41.144Z"
   },
   {
    "duration": 6,
    "start_time": "2024-04-14T18:47:41.159Z"
   },
   {
    "duration": 142,
    "start_time": "2024-04-14T18:47:41.166Z"
   },
   {
    "duration": 273,
    "start_time": "2024-04-14T18:47:41.309Z"
   },
   {
    "duration": 20,
    "start_time": "2024-04-14T18:47:41.584Z"
   },
   {
    "duration": 344,
    "start_time": "2024-04-14T18:47:41.606Z"
   },
   {
    "duration": 18,
    "start_time": "2024-04-14T18:47:41.953Z"
   },
   {
    "duration": 10,
    "start_time": "2024-04-14T18:47:41.972Z"
   },
   {
    "duration": 50,
    "start_time": "2024-04-14T18:47:41.984Z"
   },
   {
    "duration": 34,
    "start_time": "2024-04-14T18:47:42.037Z"
   },
   {
    "duration": 38,
    "start_time": "2024-04-14T18:47:56.447Z"
   },
   {
    "duration": 38,
    "start_time": "2024-04-14T18:48:06.336Z"
   },
   {
    "duration": 58,
    "start_time": "2024-04-14T18:48:14.093Z"
   },
   {
    "duration": 53,
    "start_time": "2024-04-14T18:49:01.570Z"
   },
   {
    "duration": 18,
    "start_time": "2024-04-14T18:49:32.644Z"
   },
   {
    "duration": 47,
    "start_time": "2024-04-14T18:49:33.757Z"
   },
   {
    "duration": 18256,
    "start_time": "2024-04-14T18:49:44.413Z"
   },
   {
    "duration": 1483,
    "start_time": "2024-04-14T18:50:02.672Z"
   },
   {
    "duration": 97,
    "start_time": "2024-04-14T18:50:04.156Z"
   },
   {
    "duration": 33,
    "start_time": "2024-04-14T18:50:04.255Z"
   },
   {
    "duration": 4,
    "start_time": "2024-04-14T18:50:04.290Z"
   },
   {
    "duration": 14,
    "start_time": "2024-04-14T18:50:04.296Z"
   },
   {
    "duration": 12,
    "start_time": "2024-04-14T18:50:04.312Z"
   },
   {
    "duration": 26,
    "start_time": "2024-04-14T18:50:04.326Z"
   },
   {
    "duration": 13,
    "start_time": "2024-04-14T18:50:04.353Z"
   },
   {
    "duration": 4,
    "start_time": "2024-04-14T18:50:04.367Z"
   },
   {
    "duration": 50,
    "start_time": "2024-04-14T18:50:04.373Z"
   },
   {
    "duration": 11,
    "start_time": "2024-04-14T18:50:04.425Z"
   },
   {
    "duration": 3,
    "start_time": "2024-04-14T18:50:04.438Z"
   },
   {
    "duration": 16,
    "start_time": "2024-04-14T18:50:04.445Z"
   },
   {
    "duration": 8,
    "start_time": "2024-04-14T18:50:04.462Z"
   },
   {
    "duration": 44,
    "start_time": "2024-04-14T18:50:04.471Z"
   },
   {
    "duration": 5,
    "start_time": "2024-04-14T18:50:04.517Z"
   },
   {
    "duration": 19,
    "start_time": "2024-04-14T18:50:04.524Z"
   },
   {
    "duration": 11,
    "start_time": "2024-04-14T18:50:04.549Z"
   },
   {
    "duration": 154,
    "start_time": "2024-04-14T18:50:04.562Z"
   },
   {
    "duration": 180,
    "start_time": "2024-04-14T18:50:04.718Z"
   },
   {
    "duration": 131,
    "start_time": "2024-04-14T18:50:04.900Z"
   },
   {
    "duration": 176,
    "start_time": "2024-04-14T18:50:05.036Z"
   },
   {
    "duration": 166,
    "start_time": "2024-04-14T18:50:05.214Z"
   },
   {
    "duration": 399,
    "start_time": "2024-04-14T18:50:05.381Z"
   },
   {
    "duration": 362,
    "start_time": "2024-04-14T18:50:05.782Z"
   },
   {
    "duration": 272,
    "start_time": "2024-04-14T18:50:06.146Z"
   },
   {
    "duration": 241,
    "start_time": "2024-04-14T18:50:06.420Z"
   },
   {
    "duration": 242,
    "start_time": "2024-04-14T18:50:06.663Z"
   },
   {
    "duration": 307,
    "start_time": "2024-04-14T18:50:06.907Z"
   },
   {
    "duration": 225,
    "start_time": "2024-04-14T18:50:07.217Z"
   },
   {
    "duration": 1047,
    "start_time": "2024-04-14T18:50:07.445Z"
   },
   {
    "duration": 87,
    "start_time": "2024-04-14T18:50:08.494Z"
   },
   {
    "duration": 203,
    "start_time": "2024-04-14T18:50:08.583Z"
   },
   {
    "duration": 12,
    "start_time": "2024-04-14T18:50:08.788Z"
   },
   {
    "duration": 23,
    "start_time": "2024-04-14T18:50:08.801Z"
   },
   {
    "duration": 5,
    "start_time": "2024-04-14T18:50:08.826Z"
   },
   {
    "duration": 157,
    "start_time": "2024-04-14T18:50:08.833Z"
   },
   {
    "duration": 271,
    "start_time": "2024-04-14T18:50:08.992Z"
   },
   {
    "duration": 20,
    "start_time": "2024-04-14T18:50:09.264Z"
   },
   {
    "duration": 339,
    "start_time": "2024-04-14T18:50:09.288Z"
   },
   {
    "duration": 25,
    "start_time": "2024-04-14T18:50:09.629Z"
   },
   {
    "duration": 8,
    "start_time": "2024-04-14T18:50:09.656Z"
   },
   {
    "duration": 18,
    "start_time": "2024-04-14T18:50:09.666Z"
   },
   {
    "duration": 80,
    "start_time": "2024-04-14T18:50:09.685Z"
   },
   {
    "duration": 57,
    "start_time": "2024-04-14T18:50:57.702Z"
   },
   {
    "duration": 27,
    "start_time": "2024-04-14T18:51:35.754Z"
   },
   {
    "duration": 45,
    "start_time": "2024-04-14T18:51:37.227Z"
   },
   {
    "duration": 47,
    "start_time": "2024-04-14T18:53:18.148Z"
   },
   {
    "duration": 42,
    "start_time": "2024-04-14T18:54:52.622Z"
   },
   {
    "duration": 944,
    "start_time": "2024-04-14T18:55:56.400Z"
   },
   {
    "duration": 1584,
    "start_time": "2024-04-14T18:56:19.584Z"
   },
   {
    "duration": 1654,
    "start_time": "2024-04-14T18:59:38.526Z"
   },
   {
    "duration": 1653,
    "start_time": "2024-04-14T18:59:48.090Z"
   },
   {
    "duration": 16473,
    "start_time": "2024-04-14T19:11:29.084Z"
   },
   {
    "duration": 1267,
    "start_time": "2024-04-14T19:11:45.560Z"
   },
   {
    "duration": 95,
    "start_time": "2024-04-14T19:11:46.829Z"
   },
   {
    "duration": 32,
    "start_time": "2024-04-14T19:11:46.927Z"
   },
   {
    "duration": 3,
    "start_time": "2024-04-14T19:11:46.960Z"
   },
   {
    "duration": 23,
    "start_time": "2024-04-14T19:11:46.965Z"
   },
   {
    "duration": 29,
    "start_time": "2024-04-14T19:11:46.990Z"
   },
   {
    "duration": 19,
    "start_time": "2024-04-14T19:11:47.021Z"
   },
   {
    "duration": 11,
    "start_time": "2024-04-14T19:11:47.042Z"
   },
   {
    "duration": 4,
    "start_time": "2024-04-14T19:11:47.056Z"
   },
   {
    "duration": 11,
    "start_time": "2024-04-14T19:11:47.061Z"
   },
   {
    "duration": 43,
    "start_time": "2024-04-14T19:11:47.073Z"
   },
   {
    "duration": 3,
    "start_time": "2024-04-14T19:11:47.118Z"
   },
   {
    "duration": 13,
    "start_time": "2024-04-14T19:11:47.123Z"
   },
   {
    "duration": 6,
    "start_time": "2024-04-14T19:11:47.138Z"
   },
   {
    "duration": 6,
    "start_time": "2024-04-14T19:11:47.146Z"
   },
   {
    "duration": 3,
    "start_time": "2024-04-14T19:11:47.154Z"
   },
   {
    "duration": 11,
    "start_time": "2024-04-14T19:11:47.158Z"
   },
   {
    "duration": 49,
    "start_time": "2024-04-14T19:11:47.170Z"
   },
   {
    "duration": 113,
    "start_time": "2024-04-14T19:11:47.221Z"
   },
   {
    "duration": 120,
    "start_time": "2024-04-14T19:11:47.336Z"
   },
   {
    "duration": 96,
    "start_time": "2024-04-14T19:11:47.457Z"
   },
   {
    "duration": 144,
    "start_time": "2024-04-14T19:11:47.555Z"
   },
   {
    "duration": 127,
    "start_time": "2024-04-14T19:11:47.700Z"
   },
   {
    "duration": 327,
    "start_time": "2024-04-14T19:11:47.832Z"
   },
   {
    "duration": 327,
    "start_time": "2024-04-14T19:11:48.160Z"
   },
   {
    "duration": 257,
    "start_time": "2024-04-14T19:11:48.488Z"
   },
   {
    "duration": 210,
    "start_time": "2024-04-14T19:11:48.748Z"
   },
   {
    "duration": 216,
    "start_time": "2024-04-14T19:11:48.960Z"
   },
   {
    "duration": 253,
    "start_time": "2024-04-14T19:11:49.178Z"
   },
   {
    "duration": 195,
    "start_time": "2024-04-14T19:11:49.432Z"
   },
   {
    "duration": 42,
    "start_time": "2024-04-14T19:11:49.629Z"
   },
   {
    "duration": 179,
    "start_time": "2024-04-14T19:11:49.672Z"
   },
   {
    "duration": 10,
    "start_time": "2024-04-14T19:11:49.853Z"
   },
   {
    "duration": 12,
    "start_time": "2024-04-14T19:11:49.865Z"
   },
   {
    "duration": 10,
    "start_time": "2024-04-14T19:11:49.879Z"
   },
   {
    "duration": 45,
    "start_time": "2024-04-14T19:11:49.891Z"
   },
   {
    "duration": 241,
    "start_time": "2024-04-14T19:11:49.938Z"
   },
   {
    "duration": 36,
    "start_time": "2024-04-14T19:11:50.181Z"
   },
   {
    "duration": 376,
    "start_time": "2024-04-14T19:11:50.218Z"
   },
   {
    "duration": 24,
    "start_time": "2024-04-14T19:11:50.596Z"
   },
   {
    "duration": 9,
    "start_time": "2024-04-14T19:11:50.622Z"
   },
   {
    "duration": 20,
    "start_time": "2024-04-14T19:11:50.633Z"
   },
   {
    "duration": 69,
    "start_time": "2024-04-14T19:11:50.654Z"
   },
   {
    "duration": 1651,
    "start_time": "2024-04-14T19:11:50.725Z"
   },
   {
    "duration": 134,
    "start_time": "2024-04-14T19:11:52.377Z"
   },
   {
    "duration": 2880,
    "start_time": "2024-04-14T19:13:28.966Z"
   },
   {
    "duration": 3653,
    "start_time": "2024-04-14T19:15:19.881Z"
   },
   {
    "duration": 3735,
    "start_time": "2024-04-14T19:18:34.203Z"
   },
   {
    "duration": 4027,
    "start_time": "2024-04-14T19:20:02.520Z"
   },
   {
    "duration": 3962,
    "start_time": "2024-04-14T19:24:34.409Z"
   },
   {
    "duration": 4079,
    "start_time": "2024-04-14T19:24:45.125Z"
   },
   {
    "duration": 3888,
    "start_time": "2024-04-14T19:25:04.388Z"
   },
   {
    "duration": 3695,
    "start_time": "2024-04-14T19:25:23.528Z"
   },
   {
    "duration": 50,
    "start_time": "2024-04-15T16:59:30.187Z"
   },
   {
    "duration": 25996,
    "start_time": "2024-04-15T16:59:50.572Z"
   },
   {
    "duration": 1451,
    "start_time": "2024-04-15T17:00:16.571Z"
   },
   {
    "duration": 346,
    "start_time": "2024-04-15T17:00:18.024Z"
   },
   {
    "duration": 27,
    "start_time": "2024-04-15T17:00:18.371Z"
   },
   {
    "duration": 3,
    "start_time": "2024-04-15T17:00:18.400Z"
   },
   {
    "duration": 19,
    "start_time": "2024-04-15T17:00:18.404Z"
   },
   {
    "duration": 6,
    "start_time": "2024-04-15T17:00:18.424Z"
   },
   {
    "duration": 19,
    "start_time": "2024-04-15T17:00:18.431Z"
   },
   {
    "duration": 14,
    "start_time": "2024-04-15T17:00:18.451Z"
   },
   {
    "duration": 6,
    "start_time": "2024-04-15T17:00:18.467Z"
   },
   {
    "duration": 16,
    "start_time": "2024-04-15T17:00:18.475Z"
   },
   {
    "duration": 9,
    "start_time": "2024-04-15T17:00:18.492Z"
   },
   {
    "duration": 28,
    "start_time": "2024-04-15T17:00:18.503Z"
   },
   {
    "duration": 16,
    "start_time": "2024-04-15T17:00:18.533Z"
   },
   {
    "duration": 25,
    "start_time": "2024-04-15T17:00:18.551Z"
   },
   {
    "duration": 17,
    "start_time": "2024-04-15T17:00:18.577Z"
   },
   {
    "duration": 11,
    "start_time": "2024-04-15T17:00:18.595Z"
   },
   {
    "duration": 15,
    "start_time": "2024-04-15T17:00:18.607Z"
   },
   {
    "duration": 17,
    "start_time": "2024-04-15T17:00:18.623Z"
   },
   {
    "duration": 119,
    "start_time": "2024-04-15T17:00:18.642Z"
   },
   {
    "duration": 100,
    "start_time": "2024-04-15T17:00:18.763Z"
   },
   {
    "duration": 106,
    "start_time": "2024-04-15T17:00:18.864Z"
   },
   {
    "duration": 136,
    "start_time": "2024-04-15T17:00:18.972Z"
   },
   {
    "duration": 116,
    "start_time": "2024-04-15T17:00:19.110Z"
   },
   {
    "duration": 275,
    "start_time": "2024-04-15T17:00:19.227Z"
   },
   {
    "duration": 256,
    "start_time": "2024-04-15T17:00:19.504Z"
   },
   {
    "duration": 220,
    "start_time": "2024-04-15T17:00:19.761Z"
   },
   {
    "duration": 187,
    "start_time": "2024-04-15T17:00:19.983Z"
   },
   {
    "duration": 193,
    "start_time": "2024-04-15T17:00:20.172Z"
   },
   {
    "duration": 234,
    "start_time": "2024-04-15T17:00:20.367Z"
   },
   {
    "duration": 161,
    "start_time": "2024-04-15T17:00:20.602Z"
   },
   {
    "duration": 38,
    "start_time": "2024-04-15T17:00:20.764Z"
   },
   {
    "duration": 147,
    "start_time": "2024-04-15T17:00:20.804Z"
   },
   {
    "duration": 15,
    "start_time": "2024-04-15T17:00:20.952Z"
   },
   {
    "duration": 46,
    "start_time": "2024-04-15T17:00:20.968Z"
   },
   {
    "duration": 32,
    "start_time": "2024-04-15T17:00:21.015Z"
   },
   {
    "duration": 50,
    "start_time": "2024-04-15T17:00:21.049Z"
   },
   {
    "duration": 215,
    "start_time": "2024-04-15T17:00:21.100Z"
   },
   {
    "duration": 18,
    "start_time": "2024-04-15T17:00:21.317Z"
   },
   {
    "duration": 446,
    "start_time": "2024-04-15T17:00:21.336Z"
   },
   {
    "duration": 19,
    "start_time": "2024-04-15T17:00:21.786Z"
   },
   {
    "duration": 9,
    "start_time": "2024-04-15T17:00:21.807Z"
   },
   {
    "duration": 18,
    "start_time": "2024-04-15T17:00:21.817Z"
   },
   {
    "duration": 60,
    "start_time": "2024-04-15T17:00:21.836Z"
   },
   {
    "duration": 1510,
    "start_time": "2024-04-15T17:00:21.898Z"
   },
   {
    "duration": 3477,
    "start_time": "2024-04-15T17:00:23.410Z"
   },
   {
    "duration": 4,
    "start_time": "2024-04-15T17:00:26.888Z"
   },
   {
    "duration": 75,
    "start_time": "2024-04-15T17:04:38.996Z"
   },
   {
    "duration": 6,
    "start_time": "2024-04-15T17:04:44.116Z"
   },
   {
    "duration": 5,
    "start_time": "2024-04-15T17:04:53.337Z"
   },
   {
    "duration": 78,
    "start_time": "2024-04-15T17:05:54.876Z"
   },
   {
    "duration": 5,
    "start_time": "2024-04-15T17:06:17.684Z"
   },
   {
    "duration": 4,
    "start_time": "2024-04-15T17:06:44.691Z"
   },
   {
    "duration": 5,
    "start_time": "2024-04-15T17:06:45.928Z"
   },
   {
    "duration": 79,
    "start_time": "2024-04-15T17:06:47.089Z"
   },
   {
    "duration": 24,
    "start_time": "2024-04-15T17:07:13.007Z"
   },
   {
    "duration": 14668,
    "start_time": "2024-04-15T17:07:51.068Z"
   },
   {
    "duration": 1309,
    "start_time": "2024-04-15T17:08:05.738Z"
   },
   {
    "duration": 86,
    "start_time": "2024-04-15T17:08:07.049Z"
   },
   {
    "duration": 30,
    "start_time": "2024-04-15T17:08:07.136Z"
   },
   {
    "duration": 3,
    "start_time": "2024-04-15T17:08:07.169Z"
   },
   {
    "duration": 19,
    "start_time": "2024-04-15T17:08:07.174Z"
   },
   {
    "duration": 34,
    "start_time": "2024-04-15T17:08:07.194Z"
   },
   {
    "duration": 36,
    "start_time": "2024-04-15T17:08:07.230Z"
   },
   {
    "duration": 19,
    "start_time": "2024-04-15T17:08:07.267Z"
   },
   {
    "duration": 24,
    "start_time": "2024-04-15T17:08:07.287Z"
   },
   {
    "duration": 16,
    "start_time": "2024-04-15T17:08:07.313Z"
   },
   {
    "duration": 14,
    "start_time": "2024-04-15T17:08:07.330Z"
   },
   {
    "duration": 21,
    "start_time": "2024-04-15T17:08:07.346Z"
   },
   {
    "duration": 26,
    "start_time": "2024-04-15T17:08:07.370Z"
   },
   {
    "duration": 43,
    "start_time": "2024-04-15T17:08:07.398Z"
   },
   {
    "duration": 29,
    "start_time": "2024-04-15T17:08:07.443Z"
   },
   {
    "duration": 17,
    "start_time": "2024-04-15T17:08:07.474Z"
   },
   {
    "duration": 21,
    "start_time": "2024-04-15T17:08:07.493Z"
   },
   {
    "duration": 14,
    "start_time": "2024-04-15T17:08:07.516Z"
   },
   {
    "duration": 108,
    "start_time": "2024-04-15T17:08:07.532Z"
   },
   {
    "duration": 128,
    "start_time": "2024-04-15T17:08:07.642Z"
   },
   {
    "duration": 100,
    "start_time": "2024-04-15T17:08:07.771Z"
   },
   {
    "duration": 162,
    "start_time": "2024-04-15T17:08:07.873Z"
   },
   {
    "duration": 112,
    "start_time": "2024-04-15T17:08:08.037Z"
   },
   {
    "duration": 287,
    "start_time": "2024-04-15T17:08:08.150Z"
   },
   {
    "duration": 257,
    "start_time": "2024-04-15T17:08:08.439Z"
   },
   {
    "duration": 213,
    "start_time": "2024-04-15T17:08:08.698Z"
   },
   {
    "duration": 171,
    "start_time": "2024-04-15T17:08:08.913Z"
   },
   {
    "duration": 205,
    "start_time": "2024-04-15T17:08:09.085Z"
   },
   {
    "duration": 213,
    "start_time": "2024-04-15T17:08:09.291Z"
   },
   {
    "duration": 177,
    "start_time": "2024-04-15T17:08:09.506Z"
   },
   {
    "duration": 37,
    "start_time": "2024-04-15T17:08:09.685Z"
   },
   {
    "duration": 151,
    "start_time": "2024-04-15T17:08:09.725Z"
   },
   {
    "duration": 10,
    "start_time": "2024-04-15T17:08:09.878Z"
   },
   {
    "duration": 13,
    "start_time": "2024-04-15T17:08:09.889Z"
   },
   {
    "duration": 6,
    "start_time": "2024-04-15T17:08:09.903Z"
   },
   {
    "duration": 28,
    "start_time": "2024-04-15T17:08:09.910Z"
   },
   {
    "duration": 224,
    "start_time": "2024-04-15T17:08:09.940Z"
   },
   {
    "duration": 20,
    "start_time": "2024-04-15T17:08:10.166Z"
   },
   {
    "duration": 433,
    "start_time": "2024-04-15T17:08:10.187Z"
   },
   {
    "duration": 21,
    "start_time": "2024-04-15T17:08:10.625Z"
   },
   {
    "duration": 18,
    "start_time": "2024-04-15T17:08:10.648Z"
   },
   {
    "duration": 22,
    "start_time": "2024-04-15T17:08:10.667Z"
   },
   {
    "duration": 43,
    "start_time": "2024-04-15T17:08:10.690Z"
   },
   {
    "duration": 1554,
    "start_time": "2024-04-15T17:08:10.735Z"
   },
   {
    "duration": 3531,
    "start_time": "2024-04-15T17:08:12.290Z"
   },
   {
    "duration": 38,
    "start_time": "2024-04-15T17:08:15.823Z"
   },
   {
    "duration": 2,
    "start_time": "2024-04-15T17:08:15.863Z"
   },
   {
    "duration": 25,
    "start_time": "2024-04-15T17:08:15.867Z"
   },
   {
    "duration": 10,
    "start_time": "2024-04-15T17:08:15.894Z"
   },
   {
    "duration": 5,
    "start_time": "2024-04-15T17:12:31.419Z"
   },
   {
    "duration": 4,
    "start_time": "2024-04-15T17:12:32.337Z"
   },
   {
    "duration": 83,
    "start_time": "2024-04-15T17:12:37.315Z"
   },
   {
    "duration": 97,
    "start_time": "2024-04-15T17:12:52.691Z"
   },
   {
    "duration": 6,
    "start_time": "2024-04-15T17:28:54.084Z"
   },
   {
    "duration": 7,
    "start_time": "2024-04-15T17:29:17.702Z"
   },
   {
    "duration": 364,
    "start_time": "2024-04-15T17:30:31.906Z"
   },
   {
    "duration": 4,
    "start_time": "2024-04-15T17:32:30.638Z"
   },
   {
    "duration": 5,
    "start_time": "2024-04-15T17:33:45.608Z"
   },
   {
    "duration": 5,
    "start_time": "2024-04-15T17:35:47.373Z"
   },
   {
    "duration": 17,
    "start_time": "2024-04-15T17:36:59.154Z"
   },
   {
    "duration": 4,
    "start_time": "2024-04-15T17:37:16.009Z"
   },
   {
    "duration": 116,
    "start_time": "2024-04-15T17:44:39.107Z"
   },
   {
    "duration": 6,
    "start_time": "2024-04-15T17:45:24.331Z"
   },
   {
    "duration": 4,
    "start_time": "2024-04-15T17:45:31.089Z"
   },
   {
    "duration": 4,
    "start_time": "2024-04-15T17:56:59.082Z"
   },
   {
    "duration": 3,
    "start_time": "2024-04-15T18:02:44.855Z"
   },
   {
    "duration": 3,
    "start_time": "2024-04-15T18:07:52.734Z"
   },
   {
    "duration": 3,
    "start_time": "2024-04-15T18:08:31.975Z"
   },
   {
    "duration": 6,
    "start_time": "2024-04-15T18:27:40.431Z"
   },
   {
    "duration": 20,
    "start_time": "2024-04-15T18:27:43.985Z"
   },
   {
    "duration": 8590,
    "start_time": "2024-04-15T18:28:34.034Z"
   },
   {
    "duration": 0,
    "start_time": "2024-04-15T18:28:42.627Z"
   },
   {
    "duration": 9,
    "start_time": "2024-04-15T18:29:37.372Z"
   },
   {
    "duration": 10,
    "start_time": "2024-04-15T18:30:10.664Z"
   },
   {
    "duration": 13,
    "start_time": "2024-04-15T18:30:11.139Z"
   },
   {
    "duration": 14921,
    "start_time": "2024-04-15T18:33:24.545Z"
   },
   {
    "duration": 1268,
    "start_time": "2024-04-15T18:33:39.468Z"
   },
   {
    "duration": 85,
    "start_time": "2024-04-15T18:33:40.738Z"
   },
   {
    "duration": 30,
    "start_time": "2024-04-15T18:33:40.825Z"
   },
   {
    "duration": 4,
    "start_time": "2024-04-15T18:33:40.857Z"
   },
   {
    "duration": 13,
    "start_time": "2024-04-15T18:33:40.863Z"
   },
   {
    "duration": 6,
    "start_time": "2024-04-15T18:33:40.878Z"
   },
   {
    "duration": 21,
    "start_time": "2024-04-15T18:33:40.886Z"
   },
   {
    "duration": 11,
    "start_time": "2024-04-15T18:33:40.909Z"
   },
   {
    "duration": 4,
    "start_time": "2024-04-15T18:33:40.923Z"
   },
   {
    "duration": 41,
    "start_time": "2024-04-15T18:33:40.928Z"
   },
   {
    "duration": 7,
    "start_time": "2024-04-15T18:33:40.970Z"
   },
   {
    "duration": 5,
    "start_time": "2024-04-15T18:33:40.979Z"
   },
   {
    "duration": 17,
    "start_time": "2024-04-15T18:33:40.986Z"
   },
   {
    "duration": 9,
    "start_time": "2024-04-15T18:33:41.005Z"
   },
   {
    "duration": 17,
    "start_time": "2024-04-15T18:33:41.016Z"
   },
   {
    "duration": 4,
    "start_time": "2024-04-15T18:33:41.060Z"
   },
   {
    "duration": 11,
    "start_time": "2024-04-15T18:33:41.066Z"
   },
   {
    "duration": 29,
    "start_time": "2024-04-15T18:33:41.078Z"
   },
   {
    "duration": 129,
    "start_time": "2024-04-15T18:33:41.109Z"
   },
   {
    "duration": 119,
    "start_time": "2024-04-15T18:33:41.240Z"
   },
   {
    "duration": 87,
    "start_time": "2024-04-15T18:33:41.360Z"
   },
   {
    "duration": 155,
    "start_time": "2024-04-15T18:33:41.458Z"
   },
   {
    "duration": 114,
    "start_time": "2024-04-15T18:33:41.615Z"
   },
   {
    "duration": 302,
    "start_time": "2024-04-15T18:33:41.730Z"
   },
   {
    "duration": 274,
    "start_time": "2024-04-15T18:33:42.033Z"
   },
   {
    "duration": 226,
    "start_time": "2024-04-15T18:33:42.309Z"
   },
   {
    "duration": 209,
    "start_time": "2024-04-15T18:33:42.538Z"
   },
   {
    "duration": 180,
    "start_time": "2024-04-15T18:33:42.748Z"
   },
   {
    "duration": 222,
    "start_time": "2024-04-15T18:33:42.930Z"
   },
   {
    "duration": 172,
    "start_time": "2024-04-15T18:33:43.158Z"
   },
   {
    "duration": 46,
    "start_time": "2024-04-15T18:33:43.332Z"
   },
   {
    "duration": 163,
    "start_time": "2024-04-15T18:33:43.380Z"
   },
   {
    "duration": 22,
    "start_time": "2024-04-15T18:33:43.545Z"
   },
   {
    "duration": 13,
    "start_time": "2024-04-15T18:33:43.569Z"
   },
   {
    "duration": 8,
    "start_time": "2024-04-15T18:33:43.584Z"
   },
   {
    "duration": 26,
    "start_time": "2024-04-15T18:33:43.593Z"
   },
   {
    "duration": 232,
    "start_time": "2024-04-15T18:33:43.621Z"
   },
   {
    "duration": 20,
    "start_time": "2024-04-15T18:33:43.858Z"
   },
   {
    "duration": 379,
    "start_time": "2024-04-15T18:33:43.880Z"
   },
   {
    "duration": 18,
    "start_time": "2024-04-15T18:33:44.260Z"
   },
   {
    "duration": 9,
    "start_time": "2024-04-15T18:33:44.279Z"
   },
   {
    "duration": 18,
    "start_time": "2024-04-15T18:33:44.289Z"
   },
   {
    "duration": 61,
    "start_time": "2024-04-15T18:33:44.308Z"
   },
   {
    "duration": 1499,
    "start_time": "2024-04-15T18:33:44.371Z"
   },
   {
    "duration": 3614,
    "start_time": "2024-04-15T18:33:45.872Z"
   },
   {
    "duration": 27,
    "start_time": "2024-04-15T18:33:49.488Z"
   },
   {
    "duration": 5,
    "start_time": "2024-04-15T18:33:49.518Z"
   },
   {
    "duration": 35,
    "start_time": "2024-04-15T18:33:49.525Z"
   },
   {
    "duration": 109,
    "start_time": "2024-04-15T18:33:49.561Z"
   },
   {
    "duration": 8,
    "start_time": "2024-04-15T18:33:49.671Z"
   },
   {
    "duration": 5,
    "start_time": "2024-04-15T18:33:49.680Z"
   },
   {
    "duration": 269,
    "start_time": "2024-04-15T18:33:49.686Z"
   },
   {
    "duration": 3,
    "start_time": "2024-04-15T18:33:49.957Z"
   },
   {
    "duration": 6,
    "start_time": "2024-04-15T18:33:49.961Z"
   },
   {
    "duration": 7,
    "start_time": "2024-04-15T18:33:49.968Z"
   },
   {
    "duration": 7,
    "start_time": "2024-04-15T18:33:49.976Z"
   },
   {
    "duration": 12,
    "start_time": "2024-04-15T18:33:49.984Z"
   },
   {
    "duration": 5,
    "start_time": "2024-04-15T18:33:49.998Z"
   },
   {
    "duration": 1727,
    "start_time": "2024-04-15T18:33:50.004Z"
   },
   {
    "duration": 16,
    "start_time": "2024-04-15T18:33:51.733Z"
   },
   {
    "duration": 39,
    "start_time": "2024-04-15T18:33:51.750Z"
   },
   {
    "duration": 18,
    "start_time": "2024-04-15T18:33:51.790Z"
   },
   {
    "duration": 7,
    "start_time": "2024-04-15T18:36:03.402Z"
   },
   {
    "duration": 1106,
    "start_time": "2024-04-15T18:36:04.519Z"
   },
   {
    "duration": 24,
    "start_time": "2024-04-15T18:36:08.568Z"
   },
   {
    "duration": 14862,
    "start_time": "2024-04-15T18:36:20.433Z"
   },
   {
    "duration": 2466,
    "start_time": "2024-04-15T18:36:35.298Z"
   },
   {
    "duration": 85,
    "start_time": "2024-04-15T18:36:37.766Z"
   },
   {
    "duration": 34,
    "start_time": "2024-04-15T18:36:37.853Z"
   },
   {
    "duration": 6,
    "start_time": "2024-04-15T18:36:37.890Z"
   },
   {
    "duration": 40,
    "start_time": "2024-04-15T18:36:37.898Z"
   },
   {
    "duration": 9,
    "start_time": "2024-04-15T18:36:37.940Z"
   },
   {
    "duration": 26,
    "start_time": "2024-04-15T18:36:37.951Z"
   },
   {
    "duration": 16,
    "start_time": "2024-04-15T18:36:37.979Z"
   },
   {
    "duration": 4,
    "start_time": "2024-04-15T18:36:37.996Z"
   },
   {
    "duration": 32,
    "start_time": "2024-04-15T18:36:38.002Z"
   },
   {
    "duration": 13,
    "start_time": "2024-04-15T18:36:38.036Z"
   },
   {
    "duration": 4,
    "start_time": "2024-04-15T18:36:38.058Z"
   },
   {
    "duration": 19,
    "start_time": "2024-04-15T18:36:38.065Z"
   },
   {
    "duration": 9,
    "start_time": "2024-04-15T18:36:38.085Z"
   },
   {
    "duration": 7,
    "start_time": "2024-04-15T18:36:38.095Z"
   },
   {
    "duration": 6,
    "start_time": "2024-04-15T18:36:38.104Z"
   },
   {
    "duration": 13,
    "start_time": "2024-04-15T18:36:38.112Z"
   },
   {
    "duration": 39,
    "start_time": "2024-04-15T18:36:38.127Z"
   },
   {
    "duration": 113,
    "start_time": "2024-04-15T18:36:38.168Z"
   },
   {
    "duration": 110,
    "start_time": "2024-04-15T18:36:38.283Z"
   },
   {
    "duration": 89,
    "start_time": "2024-04-15T18:36:38.395Z"
   },
   {
    "duration": 144,
    "start_time": "2024-04-15T18:36:38.486Z"
   },
   {
    "duration": 125,
    "start_time": "2024-04-15T18:36:38.631Z"
   },
   {
    "duration": 283,
    "start_time": "2024-04-15T18:36:38.757Z"
   },
   {
    "duration": 278,
    "start_time": "2024-04-15T18:36:39.042Z"
   },
   {
    "duration": 248,
    "start_time": "2024-04-15T18:36:39.321Z"
   },
   {
    "duration": 171,
    "start_time": "2024-04-15T18:36:39.571Z"
   },
   {
    "duration": 168,
    "start_time": "2024-04-15T18:36:39.743Z"
   },
   {
    "duration": 216,
    "start_time": "2024-04-15T18:36:39.912Z"
   },
   {
    "duration": 184,
    "start_time": "2024-04-15T18:36:40.130Z"
   },
   {
    "duration": 46,
    "start_time": "2024-04-15T18:36:40.316Z"
   },
   {
    "duration": 150,
    "start_time": "2024-04-15T18:36:40.364Z"
   },
   {
    "duration": 11,
    "start_time": "2024-04-15T18:36:40.516Z"
   },
   {
    "duration": 15,
    "start_time": "2024-04-15T18:36:40.528Z"
   },
   {
    "duration": 17,
    "start_time": "2024-04-15T18:36:40.544Z"
   },
   {
    "duration": 31,
    "start_time": "2024-04-15T18:36:40.562Z"
   },
   {
    "duration": 227,
    "start_time": "2024-04-15T18:36:40.595Z"
   },
   {
    "duration": 20,
    "start_time": "2024-04-15T18:36:40.824Z"
   },
   {
    "duration": 362,
    "start_time": "2024-04-15T18:36:40.858Z"
   },
   {
    "duration": 18,
    "start_time": "2024-04-15T18:36:41.225Z"
   },
   {
    "duration": 21,
    "start_time": "2024-04-15T18:36:41.244Z"
   },
   {
    "duration": 25,
    "start_time": "2024-04-15T18:36:41.267Z"
   },
   {
    "duration": 41,
    "start_time": "2024-04-15T18:36:41.294Z"
   },
   {
    "duration": 1553,
    "start_time": "2024-04-15T18:36:41.336Z"
   },
   {
    "duration": 3574,
    "start_time": "2024-04-15T18:36:42.891Z"
   },
   {
    "duration": 26,
    "start_time": "2024-04-15T18:36:46.467Z"
   },
   {
    "duration": 46,
    "start_time": "2024-04-15T18:36:46.495Z"
   },
   {
    "duration": 36,
    "start_time": "2024-04-15T18:36:46.543Z"
   },
   {
    "duration": 130,
    "start_time": "2024-04-15T18:36:46.581Z"
   },
   {
    "duration": 8,
    "start_time": "2024-04-15T18:36:46.712Z"
   },
   {
    "duration": 54,
    "start_time": "2024-04-15T18:36:46.722Z"
   },
   {
    "duration": 254,
    "start_time": "2024-04-15T18:36:46.777Z"
   },
   {
    "duration": 3,
    "start_time": "2024-04-15T18:36:47.033Z"
   },
   {
    "duration": 20,
    "start_time": "2024-04-15T18:36:47.038Z"
   },
   {
    "duration": 4,
    "start_time": "2024-04-15T18:36:47.060Z"
   },
   {
    "duration": 4,
    "start_time": "2024-04-15T18:36:47.066Z"
   },
   {
    "duration": 7,
    "start_time": "2024-04-15T18:36:47.072Z"
   },
   {
    "duration": 5,
    "start_time": "2024-04-15T18:36:47.080Z"
   },
   {
    "duration": 1154,
    "start_time": "2024-04-15T18:36:47.086Z"
   },
   {
    "duration": 28,
    "start_time": "2024-04-15T18:36:48.242Z"
   },
   {
    "duration": 30,
    "start_time": "2024-04-15T18:36:48.271Z"
   },
   {
    "duration": 14,
    "start_time": "2024-04-15T18:36:48.303Z"
   },
   {
    "duration": 6,
    "start_time": "2024-04-15T18:37:34.382Z"
   },
   {
    "duration": 1585,
    "start_time": "2024-04-15T18:37:35.076Z"
   },
   {
    "duration": 17,
    "start_time": "2024-04-15T18:37:36.831Z"
   },
   {
    "duration": 139,
    "start_time": "2024-04-15T18:44:16.554Z"
   },
   {
    "duration": 30,
    "start_time": "2024-04-15T18:45:20.000Z"
   },
   {
    "duration": 509,
    "start_time": "2024-04-15T18:46:19.435Z"
   },
   {
    "duration": 3,
    "start_time": "2024-04-15T18:47:44.277Z"
   },
   {
    "duration": 2391,
    "start_time": "2024-04-15T18:47:44.913Z"
   },
   {
    "duration": 3,
    "start_time": "2024-04-15T18:48:49.577Z"
   },
   {
    "duration": 2505,
    "start_time": "2024-04-15T18:48:50.110Z"
   },
   {
    "duration": 3,
    "start_time": "2024-04-15T18:50:35.154Z"
   },
   {
    "duration": 2186,
    "start_time": "2024-04-15T18:50:35.657Z"
   },
   {
    "duration": 55,
    "start_time": "2024-04-15T18:51:58.245Z"
   },
   {
    "duration": 11,
    "start_time": "2024-04-15T18:53:46.295Z"
   },
   {
    "duration": 10,
    "start_time": "2024-04-15T18:54:18.977Z"
   },
   {
    "duration": 3509,
    "start_time": "2024-04-15T18:54:31.573Z"
   },
   {
    "duration": 15218,
    "start_time": "2024-04-15T18:56:06.119Z"
   },
   {
    "duration": 1331,
    "start_time": "2024-04-15T18:56:21.340Z"
   },
   {
    "duration": 92,
    "start_time": "2024-04-15T18:56:22.672Z"
   },
   {
    "duration": 28,
    "start_time": "2024-04-15T18:56:22.766Z"
   },
   {
    "duration": 5,
    "start_time": "2024-04-15T18:56:22.797Z"
   },
   {
    "duration": 20,
    "start_time": "2024-04-15T18:56:22.804Z"
   },
   {
    "duration": 8,
    "start_time": "2024-04-15T18:56:22.826Z"
   },
   {
    "duration": 15,
    "start_time": "2024-04-15T18:56:22.858Z"
   },
   {
    "duration": 9,
    "start_time": "2024-04-15T18:56:22.874Z"
   },
   {
    "duration": 9,
    "start_time": "2024-04-15T18:56:22.885Z"
   },
   {
    "duration": 16,
    "start_time": "2024-04-15T18:56:22.896Z"
   },
   {
    "duration": 8,
    "start_time": "2024-04-15T18:56:22.913Z"
   },
   {
    "duration": 15,
    "start_time": "2024-04-15T18:56:22.922Z"
   },
   {
    "duration": 26,
    "start_time": "2024-04-15T18:56:22.939Z"
   },
   {
    "duration": 7,
    "start_time": "2024-04-15T18:56:22.967Z"
   },
   {
    "duration": 15,
    "start_time": "2024-04-15T18:56:22.975Z"
   },
   {
    "duration": 13,
    "start_time": "2024-04-15T18:56:22.991Z"
   },
   {
    "duration": 11,
    "start_time": "2024-04-15T18:56:23.005Z"
   },
   {
    "duration": 9,
    "start_time": "2024-04-15T18:56:23.018Z"
   },
   {
    "duration": 113,
    "start_time": "2024-04-15T18:56:23.029Z"
   },
   {
    "duration": 118,
    "start_time": "2024-04-15T18:56:23.144Z"
   },
   {
    "duration": 84,
    "start_time": "2024-04-15T18:56:23.263Z"
   },
   {
    "duration": 143,
    "start_time": "2024-04-15T18:56:23.358Z"
   },
   {
    "duration": 117,
    "start_time": "2024-04-15T18:56:23.503Z"
   },
   {
    "duration": 289,
    "start_time": "2024-04-15T18:56:23.621Z"
   },
   {
    "duration": 283,
    "start_time": "2024-04-15T18:56:23.912Z"
   },
   {
    "duration": 224,
    "start_time": "2024-04-15T18:56:24.197Z"
   },
   {
    "duration": 180,
    "start_time": "2024-04-15T18:56:24.426Z"
   },
   {
    "duration": 177,
    "start_time": "2024-04-15T18:56:24.608Z"
   },
   {
    "duration": 217,
    "start_time": "2024-04-15T18:56:24.787Z"
   },
   {
    "duration": 169,
    "start_time": "2024-04-15T18:56:25.006Z"
   },
   {
    "duration": 38,
    "start_time": "2024-04-15T18:56:25.177Z"
   },
   {
    "duration": 193,
    "start_time": "2024-04-15T18:56:25.217Z"
   },
   {
    "duration": 10,
    "start_time": "2024-04-15T18:56:25.412Z"
   },
   {
    "duration": 50,
    "start_time": "2024-04-15T18:56:25.423Z"
   },
   {
    "duration": 27,
    "start_time": "2024-04-15T18:56:25.475Z"
   },
   {
    "duration": 31,
    "start_time": "2024-04-15T18:56:25.504Z"
   },
   {
    "duration": 222,
    "start_time": "2024-04-15T18:56:25.537Z"
   },
   {
    "duration": 29,
    "start_time": "2024-04-15T18:56:25.762Z"
   },
   {
    "duration": 391,
    "start_time": "2024-04-15T18:56:25.793Z"
   },
   {
    "duration": 24,
    "start_time": "2024-04-15T18:56:26.186Z"
   },
   {
    "duration": 12,
    "start_time": "2024-04-15T18:56:26.213Z"
   },
   {
    "duration": 48,
    "start_time": "2024-04-15T18:56:26.227Z"
   },
   {
    "duration": 43,
    "start_time": "2024-04-15T18:56:26.277Z"
   },
   {
    "duration": 1572,
    "start_time": "2024-04-15T18:56:26.322Z"
   },
   {
    "duration": 3668,
    "start_time": "2024-04-15T18:56:27.896Z"
   },
   {
    "duration": 24,
    "start_time": "2024-04-15T18:56:31.565Z"
   },
   {
    "duration": 34,
    "start_time": "2024-04-15T18:56:31.590Z"
   },
   {
    "duration": 40,
    "start_time": "2024-04-15T18:56:31.626Z"
   },
   {
    "duration": 141,
    "start_time": "2024-04-15T18:56:31.668Z"
   },
   {
    "duration": 8,
    "start_time": "2024-04-15T18:56:31.811Z"
   },
   {
    "duration": 44,
    "start_time": "2024-04-15T18:56:31.820Z"
   },
   {
    "duration": 301,
    "start_time": "2024-04-15T18:56:31.866Z"
   },
   {
    "duration": 4,
    "start_time": "2024-04-15T18:56:32.168Z"
   },
   {
    "duration": 51,
    "start_time": "2024-04-15T18:56:32.173Z"
   },
   {
    "duration": 70,
    "start_time": "2024-04-15T18:56:32.226Z"
   },
   {
    "duration": 23,
    "start_time": "2024-04-15T18:56:32.298Z"
   },
   {
    "duration": 17,
    "start_time": "2024-04-15T18:56:32.323Z"
   },
   {
    "duration": 14,
    "start_time": "2024-04-15T18:56:32.342Z"
   },
   {
    "duration": 1707,
    "start_time": "2024-04-15T18:56:32.357Z"
   },
   {
    "duration": 18,
    "start_time": "2024-04-15T18:56:34.065Z"
   },
   {
    "duration": 31,
    "start_time": "2024-04-15T18:56:34.085Z"
   },
   {
    "duration": 18,
    "start_time": "2024-04-15T18:56:34.118Z"
   },
   {
    "duration": 45,
    "start_time": "2024-04-15T18:56:34.137Z"
   },
   {
    "duration": 2,
    "start_time": "2024-04-15T18:56:34.184Z"
   },
   {
    "duration": 82,
    "start_time": "2024-04-15T18:56:34.188Z"
   },
   {
    "duration": 3576,
    "start_time": "2024-04-15T18:56:34.272Z"
   },
   {
    "duration": 51,
    "start_time": "2024-04-15T18:57:24.240Z"
   },
   {
    "duration": 6,
    "start_time": "2024-04-15T19:04:55.252Z"
   },
   {
    "duration": 23,
    "start_time": "2024-04-15T19:09:47.606Z"
   },
   {
    "duration": 141,
    "start_time": "2024-04-15T19:14:30.338Z"
   },
   {
    "duration": 30,
    "start_time": "2024-04-15T19:15:09.308Z"
   },
   {
    "duration": 20,
    "start_time": "2024-04-15T19:25:54.494Z"
   },
   {
    "duration": 21,
    "start_time": "2024-04-15T19:26:20.621Z"
   },
   {
    "duration": 5,
    "start_time": "2024-04-15T19:26:21.612Z"
   },
   {
    "duration": 3,
    "start_time": "2024-04-15T19:26:25.434Z"
   },
   {
    "duration": 53,
    "start_time": "2024-04-15T19:26:26.434Z"
   },
   {
    "duration": 14843,
    "start_time": "2024-04-15T19:26:34.922Z"
   },
   {
    "duration": 1243,
    "start_time": "2024-04-15T19:26:49.767Z"
   },
   {
    "duration": 86,
    "start_time": "2024-04-15T19:26:51.012Z"
   },
   {
    "duration": 33,
    "start_time": "2024-04-15T19:26:51.100Z"
   },
   {
    "duration": 3,
    "start_time": "2024-04-15T19:26:51.135Z"
   },
   {
    "duration": 19,
    "start_time": "2024-04-15T19:26:51.140Z"
   },
   {
    "duration": 9,
    "start_time": "2024-04-15T19:26:51.161Z"
   },
   {
    "duration": 23,
    "start_time": "2024-04-15T19:26:51.172Z"
   },
   {
    "duration": 14,
    "start_time": "2024-04-15T19:26:51.197Z"
   },
   {
    "duration": 23,
    "start_time": "2024-04-15T19:26:51.214Z"
   },
   {
    "duration": 21,
    "start_time": "2024-04-15T19:26:51.239Z"
   },
   {
    "duration": 23,
    "start_time": "2024-04-15T19:26:51.262Z"
   },
   {
    "duration": 12,
    "start_time": "2024-04-15T19:26:51.286Z"
   },
   {
    "duration": 17,
    "start_time": "2024-04-15T19:26:51.300Z"
   },
   {
    "duration": 9,
    "start_time": "2024-04-15T19:26:51.319Z"
   },
   {
    "duration": 6,
    "start_time": "2024-04-15T19:26:51.330Z"
   },
   {
    "duration": 6,
    "start_time": "2024-04-15T19:26:51.338Z"
   },
   {
    "duration": 27,
    "start_time": "2024-04-15T19:26:51.346Z"
   },
   {
    "duration": 13,
    "start_time": "2024-04-15T19:26:51.375Z"
   },
   {
    "duration": 106,
    "start_time": "2024-04-15T19:26:51.390Z"
   },
   {
    "duration": 111,
    "start_time": "2024-04-15T19:26:51.497Z"
   },
   {
    "duration": 87,
    "start_time": "2024-04-15T19:26:51.610Z"
   },
   {
    "duration": 139,
    "start_time": "2024-04-15T19:26:51.699Z"
   },
   {
    "duration": 109,
    "start_time": "2024-04-15T19:26:51.840Z"
   },
   {
    "duration": 282,
    "start_time": "2024-04-15T19:26:51.958Z"
   },
   {
    "duration": 270,
    "start_time": "2024-04-15T19:26:52.242Z"
   },
   {
    "duration": 218,
    "start_time": "2024-04-15T19:26:52.514Z"
   },
   {
    "duration": 168,
    "start_time": "2024-04-15T19:26:52.736Z"
   },
   {
    "duration": 176,
    "start_time": "2024-04-15T19:26:52.905Z"
   },
   {
    "duration": 210,
    "start_time": "2024-04-15T19:26:53.082Z"
   },
   {
    "duration": 161,
    "start_time": "2024-04-15T19:26:53.293Z"
   },
   {
    "duration": 38,
    "start_time": "2024-04-15T19:26:53.459Z"
   },
   {
    "duration": 160,
    "start_time": "2024-04-15T19:26:53.499Z"
   },
   {
    "duration": 12,
    "start_time": "2024-04-15T19:26:53.660Z"
   },
   {
    "duration": 11,
    "start_time": "2024-04-15T19:26:53.674Z"
   },
   {
    "duration": 5,
    "start_time": "2024-04-15T19:26:53.687Z"
   },
   {
    "duration": 21,
    "start_time": "2024-04-15T19:26:53.694Z"
   },
   {
    "duration": 247,
    "start_time": "2024-04-15T19:26:53.716Z"
   },
   {
    "duration": 21,
    "start_time": "2024-04-15T19:26:53.965Z"
   },
   {
    "duration": 349,
    "start_time": "2024-04-15T19:26:53.988Z"
   },
   {
    "duration": 24,
    "start_time": "2024-04-15T19:26:54.339Z"
   },
   {
    "duration": 8,
    "start_time": "2024-04-15T19:26:54.364Z"
   },
   {
    "duration": 16,
    "start_time": "2024-04-15T19:26:54.373Z"
   },
   {
    "duration": 37,
    "start_time": "2024-04-15T19:26:54.391Z"
   },
   {
    "duration": 1515,
    "start_time": "2024-04-15T19:26:54.430Z"
   },
   {
    "duration": 3546,
    "start_time": "2024-04-15T19:26:55.947Z"
   },
   {
    "duration": 4,
    "start_time": "2024-04-15T19:26:59.494Z"
   },
   {
    "duration": 16,
    "start_time": "2024-04-15T19:26:59.500Z"
   },
   {
    "duration": 106,
    "start_time": "2024-04-15T19:26:59.518Z"
   },
   {
    "duration": 9,
    "start_time": "2024-04-15T19:26:59.625Z"
   },
   {
    "duration": 4,
    "start_time": "2024-04-15T19:26:59.635Z"
   },
   {
    "duration": 250,
    "start_time": "2024-04-15T19:26:59.659Z"
   },
   {
    "duration": 4,
    "start_time": "2024-04-15T19:26:59.911Z"
   },
   {
    "duration": 10,
    "start_time": "2024-04-15T19:26:59.916Z"
   },
   {
    "duration": 11,
    "start_time": "2024-04-15T19:26:59.928Z"
   },
   {
    "duration": 9,
    "start_time": "2024-04-15T19:26:59.940Z"
   },
   {
    "duration": 8,
    "start_time": "2024-04-15T19:26:59.950Z"
   },
   {
    "duration": 5,
    "start_time": "2024-04-15T19:26:59.960Z"
   },
   {
    "duration": 1664,
    "start_time": "2024-04-15T19:26:59.967Z"
   },
   {
    "duration": 16,
    "start_time": "2024-04-15T19:27:01.633Z"
   },
   {
    "duration": 78,
    "start_time": "2024-04-15T19:27:01.650Z"
   },
   {
    "duration": 48,
    "start_time": "2024-04-15T19:27:01.730Z"
   },
   {
    "duration": 73,
    "start_time": "2024-04-15T19:27:01.780Z"
   },
   {
    "duration": 52,
    "start_time": "2024-04-15T19:27:01.855Z"
   },
   {
    "duration": 240,
    "start_time": "2024-04-15T19:27:01.909Z"
   },
   {
    "duration": 0,
    "start_time": "2024-04-15T19:27:02.150Z"
   },
   {
    "duration": 0,
    "start_time": "2024-04-15T19:27:02.152Z"
   },
   {
    "duration": 25059,
    "start_time": "2024-04-16T16:01:40.728Z"
   },
   {
    "duration": 1455,
    "start_time": "2024-04-16T16:02:05.790Z"
   },
   {
    "duration": 277,
    "start_time": "2024-04-16T16:02:07.247Z"
   },
   {
    "duration": 28,
    "start_time": "2024-04-16T16:02:07.527Z"
   },
   {
    "duration": 4,
    "start_time": "2024-04-16T16:02:07.556Z"
   },
   {
    "duration": 15,
    "start_time": "2024-04-16T16:02:07.561Z"
   },
   {
    "duration": 6,
    "start_time": "2024-04-16T16:02:07.578Z"
   },
   {
    "duration": 40,
    "start_time": "2024-04-16T16:02:07.585Z"
   },
   {
    "duration": 10,
    "start_time": "2024-04-16T16:02:07.626Z"
   },
   {
    "duration": 4,
    "start_time": "2024-04-16T16:02:07.638Z"
   },
   {
    "duration": 11,
    "start_time": "2024-04-16T16:02:07.643Z"
   },
   {
    "duration": 8,
    "start_time": "2024-04-16T16:02:07.655Z"
   },
   {
    "duration": 4,
    "start_time": "2024-04-16T16:02:07.664Z"
   },
   {
    "duration": 47,
    "start_time": "2024-04-16T16:02:07.669Z"
   },
   {
    "duration": 16,
    "start_time": "2024-04-16T16:02:07.718Z"
   },
   {
    "duration": 11,
    "start_time": "2024-04-16T16:02:07.735Z"
   },
   {
    "duration": 4,
    "start_time": "2024-04-16T16:02:07.747Z"
   },
   {
    "duration": 13,
    "start_time": "2024-04-16T16:02:07.752Z"
   },
   {
    "duration": 13,
    "start_time": "2024-04-16T16:02:07.767Z"
   },
   {
    "duration": 117,
    "start_time": "2024-04-16T16:02:07.781Z"
   },
   {
    "duration": 116,
    "start_time": "2024-04-16T16:02:07.900Z"
   },
   {
    "duration": 101,
    "start_time": "2024-04-16T16:02:08.017Z"
   },
   {
    "duration": 169,
    "start_time": "2024-04-16T16:02:08.119Z"
   },
   {
    "duration": 125,
    "start_time": "2024-04-16T16:02:08.290Z"
   },
   {
    "duration": 302,
    "start_time": "2024-04-16T16:02:08.416Z"
   },
   {
    "duration": 269,
    "start_time": "2024-04-16T16:02:08.719Z"
   },
   {
    "duration": 223,
    "start_time": "2024-04-16T16:02:08.990Z"
   },
   {
    "duration": 171,
    "start_time": "2024-04-16T16:02:09.217Z"
   },
   {
    "duration": 176,
    "start_time": "2024-04-16T16:02:09.389Z"
   },
   {
    "duration": 225,
    "start_time": "2024-04-16T16:02:09.566Z"
   },
   {
    "duration": 189,
    "start_time": "2024-04-16T16:02:09.793Z"
   },
   {
    "duration": 42,
    "start_time": "2024-04-16T16:02:09.984Z"
   },
   {
    "duration": 150,
    "start_time": "2024-04-16T16:02:10.027Z"
   },
   {
    "duration": 10,
    "start_time": "2024-04-16T16:02:10.179Z"
   },
   {
    "duration": 24,
    "start_time": "2024-04-16T16:02:10.190Z"
   },
   {
    "duration": 4,
    "start_time": "2024-04-16T16:02:10.216Z"
   },
   {
    "duration": 20,
    "start_time": "2024-04-16T16:02:10.222Z"
   },
   {
    "duration": 221,
    "start_time": "2024-04-16T16:02:10.244Z"
   },
   {
    "duration": 19,
    "start_time": "2024-04-16T16:02:10.467Z"
   },
   {
    "duration": 360,
    "start_time": "2024-04-16T16:02:10.487Z"
   },
   {
    "duration": 15,
    "start_time": "2024-04-16T16:02:10.849Z"
   },
   {
    "duration": 7,
    "start_time": "2024-04-16T16:02:10.866Z"
   },
   {
    "duration": 16,
    "start_time": "2024-04-16T16:02:10.874Z"
   },
   {
    "duration": 63,
    "start_time": "2024-04-16T16:02:10.892Z"
   },
   {
    "duration": 1631,
    "start_time": "2024-04-16T16:02:10.956Z"
   },
   {
    "duration": 3649,
    "start_time": "2024-04-16T16:02:12.588Z"
   },
   {
    "duration": 4,
    "start_time": "2024-04-16T16:02:16.239Z"
   },
   {
    "duration": 13,
    "start_time": "2024-04-16T16:02:16.245Z"
   },
   {
    "duration": 111,
    "start_time": "2024-04-16T16:02:16.260Z"
   },
   {
    "duration": 8,
    "start_time": "2024-04-16T16:02:16.372Z"
   },
   {
    "duration": 7,
    "start_time": "2024-04-16T16:02:16.381Z"
   },
   {
    "duration": 264,
    "start_time": "2024-04-16T16:02:16.389Z"
   },
   {
    "duration": 3,
    "start_time": "2024-04-16T16:02:16.654Z"
   },
   {
    "duration": 8,
    "start_time": "2024-04-16T16:02:16.659Z"
   },
   {
    "duration": 21,
    "start_time": "2024-04-16T16:02:16.668Z"
   },
   {
    "duration": 24,
    "start_time": "2024-04-16T16:02:16.690Z"
   },
   {
    "duration": 13,
    "start_time": "2024-04-16T16:02:16.715Z"
   },
   {
    "duration": 16,
    "start_time": "2024-04-16T16:02:16.729Z"
   },
   {
    "duration": 1676,
    "start_time": "2024-04-16T16:02:16.746Z"
   },
   {
    "duration": 16,
    "start_time": "2024-04-16T16:02:18.424Z"
   },
   {
    "duration": 33,
    "start_time": "2024-04-16T16:02:18.442Z"
   },
   {
    "duration": 21,
    "start_time": "2024-04-16T16:02:18.477Z"
   },
   {
    "duration": 4,
    "start_time": "2024-04-16T16:02:18.515Z"
   },
   {
    "duration": 15,
    "start_time": "2024-04-16T16:02:18.521Z"
   },
   {
    "duration": 122,
    "start_time": "2024-04-16T16:02:18.538Z"
   },
   {
    "duration": 0,
    "start_time": "2024-04-16T16:02:18.661Z"
   },
   {
    "duration": 0,
    "start_time": "2024-04-16T16:02:18.662Z"
   },
   {
    "duration": 11,
    "start_time": "2024-04-16T16:05:54.794Z"
   },
   {
    "duration": 11,
    "start_time": "2024-04-16T16:06:10.017Z"
   },
   {
    "duration": 10,
    "start_time": "2024-04-16T16:06:30.351Z"
   },
   {
    "duration": 54,
    "start_time": "2024-04-16T16:06:41.353Z"
   },
   {
    "duration": 51,
    "start_time": "2024-04-16T16:07:02.972Z"
   },
   {
    "duration": 53,
    "start_time": "2024-04-16T16:07:39.374Z"
   },
   {
    "duration": 57,
    "start_time": "2024-04-16T16:07:45.804Z"
   },
   {
    "duration": 5,
    "start_time": "2024-04-16T16:08:57.190Z"
   },
   {
    "duration": 3525,
    "start_time": "2024-04-16T16:09:03.811Z"
   },
   {
    "duration": 6,
    "start_time": "2024-04-16T16:14:33.451Z"
   },
   {
    "duration": 13,
    "start_time": "2024-04-16T16:15:23.955Z"
   },
   {
    "duration": 21,
    "start_time": "2024-04-16T16:16:00.902Z"
   },
   {
    "duration": 10,
    "start_time": "2024-04-16T16:16:35.667Z"
   },
   {
    "duration": 10,
    "start_time": "2024-04-16T16:19:36.349Z"
   },
   {
    "duration": 12,
    "start_time": "2024-04-16T16:19:58.261Z"
   },
   {
    "duration": 10,
    "start_time": "2024-04-16T16:20:10.219Z"
   },
   {
    "duration": 16,
    "start_time": "2024-04-16T16:20:31.892Z"
   },
   {
    "duration": 49,
    "start_time": "2024-04-16T16:20:55.937Z"
   },
   {
    "duration": 9,
    "start_time": "2024-04-16T16:21:05.123Z"
   },
   {
    "duration": 5,
    "start_time": "2024-04-16T16:21:08.326Z"
   },
   {
    "duration": 34,
    "start_time": "2024-04-16T16:29:03.908Z"
   },
   {
    "duration": 206,
    "start_time": "2024-04-16T16:29:04.459Z"
   },
   {
    "duration": 218,
    "start_time": "2024-04-16T16:30:33.099Z"
   },
   {
    "duration": 53,
    "start_time": "2024-04-16T16:30:53.248Z"
   },
   {
    "duration": 2490,
    "start_time": "2024-04-16T16:34:19.562Z"
   },
   {
    "duration": 1208,
    "start_time": "2024-04-16T16:34:27.289Z"
   },
   {
    "duration": 2640,
    "start_time": "2024-04-16T16:34:35.410Z"
   },
   {
    "duration": 58,
    "start_time": "2024-04-16T16:36:34.554Z"
   },
   {
    "duration": 435,
    "start_time": "2024-04-16T16:36:48.026Z"
   },
   {
    "duration": 835,
    "start_time": "2024-04-16T16:37:00.340Z"
   },
   {
    "duration": 989,
    "start_time": "2024-04-16T16:38:39.038Z"
   },
   {
    "duration": 162,
    "start_time": "2024-04-16T16:39:43.042Z"
   },
   {
    "duration": 163,
    "start_time": "2024-04-16T16:42:15.173Z"
   },
   {
    "duration": 251,
    "start_time": "2024-04-16T16:43:25.077Z"
   },
   {
    "duration": 177,
    "start_time": "2024-04-16T16:58:29.425Z"
   },
   {
    "duration": 15276,
    "start_time": "2024-04-16T16:58:44.108Z"
   },
   {
    "duration": 1299,
    "start_time": "2024-04-16T16:58:59.386Z"
   },
   {
    "duration": 94,
    "start_time": "2024-04-16T16:59:00.687Z"
   },
   {
    "duration": 39,
    "start_time": "2024-04-16T16:59:00.782Z"
   },
   {
    "duration": 48,
    "start_time": "2024-04-16T16:59:00.824Z"
   },
   {
    "duration": 131,
    "start_time": "2024-04-16T16:59:00.874Z"
   },
   {
    "duration": 94,
    "start_time": "2024-04-16T16:59:01.007Z"
   },
   {
    "duration": 156,
    "start_time": "2024-04-16T16:59:01.103Z"
   },
   {
    "duration": 107,
    "start_time": "2024-04-16T16:59:01.260Z"
   },
   {
    "duration": 78,
    "start_time": "2024-04-16T16:59:01.368Z"
   },
   {
    "duration": 65,
    "start_time": "2024-04-16T16:59:01.448Z"
   },
   {
    "duration": 32,
    "start_time": "2024-04-16T16:59:01.514Z"
   },
   {
    "duration": 89,
    "start_time": "2024-04-16T16:59:01.548Z"
   },
   {
    "duration": 111,
    "start_time": "2024-04-16T16:59:01.640Z"
   },
   {
    "duration": 49,
    "start_time": "2024-04-16T16:59:01.753Z"
   },
   {
    "duration": 29,
    "start_time": "2024-04-16T16:59:01.803Z"
   },
   {
    "duration": 25,
    "start_time": "2024-04-16T16:59:01.834Z"
   },
   {
    "duration": 25,
    "start_time": "2024-04-16T16:59:01.861Z"
   },
   {
    "duration": 33,
    "start_time": "2024-04-16T16:59:01.888Z"
   },
   {
    "duration": 106,
    "start_time": "2024-04-16T16:59:01.922Z"
   },
   {
    "duration": 112,
    "start_time": "2024-04-16T16:59:02.029Z"
   },
   {
    "duration": 97,
    "start_time": "2024-04-16T16:59:02.142Z"
   },
   {
    "duration": 139,
    "start_time": "2024-04-16T16:59:02.241Z"
   },
   {
    "duration": 124,
    "start_time": "2024-04-16T16:59:02.381Z"
   },
   {
    "duration": 305,
    "start_time": "2024-04-16T16:59:02.507Z"
   },
   {
    "duration": 279,
    "start_time": "2024-04-16T16:59:02.814Z"
   },
   {
    "duration": 223,
    "start_time": "2024-04-16T16:59:03.095Z"
   },
   {
    "duration": 172,
    "start_time": "2024-04-16T16:59:03.321Z"
   },
   {
    "duration": 182,
    "start_time": "2024-04-16T16:59:03.495Z"
   },
   {
    "duration": 226,
    "start_time": "2024-04-16T16:59:03.679Z"
   },
   {
    "duration": 175,
    "start_time": "2024-04-16T16:59:03.906Z"
   },
   {
    "duration": 65,
    "start_time": "2024-04-16T16:59:04.082Z"
   },
   {
    "duration": 165,
    "start_time": "2024-04-16T16:59:04.149Z"
   },
   {
    "duration": 12,
    "start_time": "2024-04-16T16:59:04.316Z"
   },
   {
    "duration": 12,
    "start_time": "2024-04-16T16:59:04.330Z"
   },
   {
    "duration": 5,
    "start_time": "2024-04-16T16:59:04.344Z"
   },
   {
    "duration": 22,
    "start_time": "2024-04-16T16:59:04.351Z"
   },
   {
    "duration": 241,
    "start_time": "2024-04-16T16:59:04.375Z"
   },
   {
    "duration": 19,
    "start_time": "2024-04-16T16:59:04.618Z"
   },
   {
    "duration": 402,
    "start_time": "2024-04-16T16:59:04.639Z"
   },
   {
    "duration": 17,
    "start_time": "2024-04-16T16:59:05.045Z"
   },
   {
    "duration": 12,
    "start_time": "2024-04-16T16:59:05.063Z"
   },
   {
    "duration": 18,
    "start_time": "2024-04-16T16:59:05.076Z"
   },
   {
    "duration": 59,
    "start_time": "2024-04-16T16:59:05.096Z"
   },
   {
    "duration": 1599,
    "start_time": "2024-04-16T16:59:05.156Z"
   },
   {
    "duration": 3652,
    "start_time": "2024-04-16T16:59:06.757Z"
   },
   {
    "duration": 5,
    "start_time": "2024-04-16T16:59:10.410Z"
   },
   {
    "duration": 8,
    "start_time": "2024-04-16T16:59:10.416Z"
   },
   {
    "duration": 115,
    "start_time": "2024-04-16T16:59:10.425Z"
   },
   {
    "duration": 7,
    "start_time": "2024-04-16T16:59:10.541Z"
   },
   {
    "duration": 10,
    "start_time": "2024-04-16T16:59:10.550Z"
   },
   {
    "duration": 298,
    "start_time": "2024-04-16T16:59:10.561Z"
   },
   {
    "duration": 5,
    "start_time": "2024-04-16T16:59:10.861Z"
   },
   {
    "duration": 11,
    "start_time": "2024-04-16T16:59:10.868Z"
   },
   {
    "duration": 4,
    "start_time": "2024-04-16T16:59:10.881Z"
   },
   {
    "duration": 4,
    "start_time": "2024-04-16T16:59:10.887Z"
   },
   {
    "duration": 23,
    "start_time": "2024-04-16T16:59:10.893Z"
   },
   {
    "duration": 5,
    "start_time": "2024-04-16T16:59:10.918Z"
   },
   {
    "duration": 1657,
    "start_time": "2024-04-16T16:59:10.924Z"
   },
   {
    "duration": 18,
    "start_time": "2024-04-16T16:59:12.582Z"
   },
   {
    "duration": 41,
    "start_time": "2024-04-16T16:59:12.602Z"
   },
   {
    "duration": 22,
    "start_time": "2024-04-16T16:59:12.645Z"
   },
   {
    "duration": 4,
    "start_time": "2024-04-16T16:59:12.669Z"
   },
   {
    "duration": 3,
    "start_time": "2024-04-16T16:59:12.675Z"
   },
   {
    "duration": 236,
    "start_time": "2024-04-16T16:59:12.680Z"
   },
   {
    "duration": 0,
    "start_time": "2024-04-16T16:59:12.918Z"
   },
   {
    "duration": 0,
    "start_time": "2024-04-16T16:59:12.919Z"
   },
   {
    "duration": 0,
    "start_time": "2024-04-16T16:59:12.921Z"
   },
   {
    "duration": 0,
    "start_time": "2024-04-16T16:59:12.922Z"
   },
   {
    "duration": 0,
    "start_time": "2024-04-16T16:59:12.923Z"
   },
   {
    "duration": 0,
    "start_time": "2024-04-16T16:59:12.924Z"
   },
   {
    "duration": 71,
    "start_time": "2024-04-16T16:59:42.759Z"
   },
   {
    "duration": 51,
    "start_time": "2024-04-16T16:59:49.075Z"
   },
   {
    "duration": 6,
    "start_time": "2024-04-16T16:59:53.751Z"
   },
   {
    "duration": 11,
    "start_time": "2024-04-16T16:59:55.129Z"
   },
   {
    "duration": 2566,
    "start_time": "2024-04-16T16:59:56.522Z"
   },
   {
    "duration": 375,
    "start_time": "2024-04-16T16:59:59.090Z"
   },
   {
    "duration": 9,
    "start_time": "2024-04-16T16:59:59.843Z"
   },
   {
    "duration": 10,
    "start_time": "2024-04-16T17:00:00.611Z"
   },
   {
    "duration": 758,
    "start_time": "2024-04-16T17:00:43.433Z"
   },
   {
    "duration": 1100,
    "start_time": "2024-04-16T17:00:45.255Z"
   },
   {
    "duration": 146,
    "start_time": "2024-04-16T17:00:51.953Z"
   },
   {
    "duration": 11,
    "start_time": "2024-04-16T17:01:18.007Z"
   },
   {
    "duration": 152,
    "start_time": "2024-04-16T17:01:25.900Z"
   },
   {
    "duration": 13,
    "start_time": "2024-04-16T17:10:53.115Z"
   },
   {
    "duration": 178,
    "start_time": "2024-04-16T17:31:49.516Z"
   },
   {
    "duration": 5,
    "start_time": "2024-04-16T17:32:31.182Z"
   },
   {
    "duration": 14678,
    "start_time": "2024-04-16T17:32:45.032Z"
   },
   {
    "duration": 1266,
    "start_time": "2024-04-16T17:32:59.713Z"
   },
   {
    "duration": 93,
    "start_time": "2024-04-16T17:33:00.982Z"
   },
   {
    "duration": 28,
    "start_time": "2024-04-16T17:33:01.078Z"
   },
   {
    "duration": 23,
    "start_time": "2024-04-16T17:33:01.107Z"
   },
   {
    "duration": 56,
    "start_time": "2024-04-16T17:33:01.131Z"
   },
   {
    "duration": 63,
    "start_time": "2024-04-16T17:33:01.188Z"
   },
   {
    "duration": 54,
    "start_time": "2024-04-16T17:33:01.253Z"
   },
   {
    "duration": 49,
    "start_time": "2024-04-16T17:33:01.308Z"
   },
   {
    "duration": 37,
    "start_time": "2024-04-16T17:33:01.359Z"
   },
   {
    "duration": 53,
    "start_time": "2024-04-16T17:33:01.397Z"
   },
   {
    "duration": 38,
    "start_time": "2024-04-16T17:33:01.452Z"
   },
   {
    "duration": 80,
    "start_time": "2024-04-16T17:33:01.492Z"
   },
   {
    "duration": 32,
    "start_time": "2024-04-16T17:33:01.574Z"
   },
   {
    "duration": 47,
    "start_time": "2024-04-16T17:33:01.608Z"
   },
   {
    "duration": 39,
    "start_time": "2024-04-16T17:33:01.656Z"
   },
   {
    "duration": 25,
    "start_time": "2024-04-16T17:33:01.696Z"
   },
   {
    "duration": 21,
    "start_time": "2024-04-16T17:33:01.723Z"
   },
   {
    "duration": 16,
    "start_time": "2024-04-16T17:33:01.746Z"
   },
   {
    "duration": 104,
    "start_time": "2024-04-16T17:33:01.764Z"
   },
   {
    "duration": 113,
    "start_time": "2024-04-16T17:33:01.870Z"
   },
   {
    "duration": 94,
    "start_time": "2024-04-16T17:33:01.985Z"
   },
   {
    "duration": 145,
    "start_time": "2024-04-16T17:33:02.081Z"
   },
   {
    "duration": 113,
    "start_time": "2024-04-16T17:33:02.228Z"
   },
   {
    "duration": 284,
    "start_time": "2024-04-16T17:33:02.342Z"
   },
   {
    "duration": 269,
    "start_time": "2024-04-16T17:33:02.628Z"
   },
   {
    "duration": 225,
    "start_time": "2024-04-16T17:33:02.899Z"
   },
   {
    "duration": 198,
    "start_time": "2024-04-16T17:33:03.126Z"
   },
   {
    "duration": 183,
    "start_time": "2024-04-16T17:33:03.325Z"
   },
   {
    "duration": 208,
    "start_time": "2024-04-16T17:33:03.514Z"
   },
   {
    "duration": 165,
    "start_time": "2024-04-16T17:33:03.723Z"
   },
   {
    "duration": 46,
    "start_time": "2024-04-16T17:33:03.890Z"
   },
   {
    "duration": 144,
    "start_time": "2024-04-16T17:33:03.938Z"
   },
   {
    "duration": 11,
    "start_time": "2024-04-16T17:33:04.084Z"
   },
   {
    "duration": 24,
    "start_time": "2024-04-16T17:33:04.096Z"
   },
   {
    "duration": 4,
    "start_time": "2024-04-16T17:33:04.121Z"
   },
   {
    "duration": 32,
    "start_time": "2024-04-16T17:33:04.127Z"
   },
   {
    "duration": 235,
    "start_time": "2024-04-16T17:33:04.161Z"
   },
   {
    "duration": 29,
    "start_time": "2024-04-16T17:33:04.397Z"
   },
   {
    "duration": 386,
    "start_time": "2024-04-16T17:33:04.430Z"
   },
   {
    "duration": 17,
    "start_time": "2024-04-16T17:33:04.818Z"
   },
   {
    "duration": 9,
    "start_time": "2024-04-16T17:33:04.837Z"
   },
   {
    "duration": 18,
    "start_time": "2024-04-16T17:33:04.847Z"
   },
   {
    "duration": 66,
    "start_time": "2024-04-16T17:33:04.866Z"
   },
   {
    "duration": 1537,
    "start_time": "2024-04-16T17:33:04.934Z"
   },
   {
    "duration": 3598,
    "start_time": "2024-04-16T17:33:06.472Z"
   },
   {
    "duration": 5,
    "start_time": "2024-04-16T17:33:10.071Z"
   },
   {
    "duration": 29,
    "start_time": "2024-04-16T17:33:10.077Z"
   },
   {
    "duration": 106,
    "start_time": "2024-04-16T17:33:10.108Z"
   },
   {
    "duration": 7,
    "start_time": "2024-04-16T17:33:10.216Z"
   },
   {
    "duration": 8,
    "start_time": "2024-04-16T17:33:10.224Z"
   },
   {
    "duration": 254,
    "start_time": "2024-04-16T17:33:10.233Z"
   },
   {
    "duration": 4,
    "start_time": "2024-04-16T17:33:10.488Z"
   },
   {
    "duration": 9,
    "start_time": "2024-04-16T17:33:10.493Z"
   },
   {
    "duration": 13,
    "start_time": "2024-04-16T17:33:10.503Z"
   },
   {
    "duration": 7,
    "start_time": "2024-04-16T17:33:10.518Z"
   },
   {
    "duration": 15,
    "start_time": "2024-04-16T17:33:10.526Z"
   },
   {
    "duration": 13,
    "start_time": "2024-04-16T17:33:10.543Z"
   },
   {
    "duration": 1618,
    "start_time": "2024-04-16T17:33:10.557Z"
   },
   {
    "duration": 17,
    "start_time": "2024-04-16T17:33:12.177Z"
   },
   {
    "duration": 43,
    "start_time": "2024-04-16T17:33:12.195Z"
   },
   {
    "duration": 20,
    "start_time": "2024-04-16T17:33:12.239Z"
   },
   {
    "duration": 3,
    "start_time": "2024-04-16T17:33:12.261Z"
   },
   {
    "duration": 7,
    "start_time": "2024-04-16T17:33:12.265Z"
   },
   {
    "duration": 65,
    "start_time": "2024-04-16T17:33:12.273Z"
   },
   {
    "duration": 4,
    "start_time": "2024-04-16T17:33:12.339Z"
   },
   {
    "duration": 9,
    "start_time": "2024-04-16T17:33:12.345Z"
   },
   {
    "duration": 2525,
    "start_time": "2024-04-16T17:33:12.355Z"
   },
   {
    "duration": 1108,
    "start_time": "2024-04-16T17:33:14.882Z"
   },
   {
    "duration": 1151,
    "start_time": "2024-04-16T17:33:15.991Z"
   },
   {
    "duration": 272,
    "start_time": "2024-04-16T17:33:17.143Z"
   },
   {
    "duration": 0,
    "start_time": "2024-04-16T17:33:17.416Z"
   },
   {
    "duration": 0,
    "start_time": "2024-04-16T17:33:17.417Z"
   },
   {
    "duration": 0,
    "start_time": "2024-04-16T17:33:17.418Z"
   },
   {
    "duration": 11,
    "start_time": "2024-04-16T17:33:59.350Z"
   },
   {
    "duration": 227,
    "start_time": "2024-04-16T17:34:08.910Z"
   },
   {
    "duration": 23,
    "start_time": "2024-04-16T17:44:20.052Z"
   },
   {
    "duration": 219,
    "start_time": "2024-04-16T17:44:28.408Z"
   },
   {
    "duration": 24,
    "start_time": "2024-04-16T17:44:59.392Z"
   },
   {
    "duration": 34,
    "start_time": "2024-04-16T17:45:08.498Z"
   },
   {
    "duration": 232,
    "start_time": "2024-04-16T17:45:16.313Z"
   },
   {
    "duration": 167,
    "start_time": "2024-04-16T17:48:30.123Z"
   },
   {
    "duration": 227,
    "start_time": "2024-04-16T18:01:26.512Z"
   },
   {
    "duration": 7,
    "start_time": "2024-04-16T18:57:52.615Z"
   },
   {
    "duration": 12,
    "start_time": "2024-04-16T18:57:53.618Z"
   },
   {
    "duration": 31,
    "start_time": "2024-04-16T19:02:25.984Z"
   },
   {
    "duration": 99,
    "start_time": "2024-04-16T19:02:32.126Z"
   },
   {
    "duration": 144,
    "start_time": "2024-04-16T19:03:18.780Z"
   },
   {
    "duration": 15348,
    "start_time": "2024-04-16T19:03:42.961Z"
   },
   {
    "duration": 1264,
    "start_time": "2024-04-16T19:03:58.312Z"
   },
   {
    "duration": 92,
    "start_time": "2024-04-16T19:03:59.577Z"
   },
   {
    "duration": 28,
    "start_time": "2024-04-16T19:03:59.671Z"
   },
   {
    "duration": 3,
    "start_time": "2024-04-16T19:03:59.701Z"
   },
   {
    "duration": 13,
    "start_time": "2024-04-16T19:03:59.706Z"
   },
   {
    "duration": 8,
    "start_time": "2024-04-16T19:03:59.720Z"
   },
   {
    "duration": 15,
    "start_time": "2024-04-16T19:03:59.729Z"
   },
   {
    "duration": 9,
    "start_time": "2024-04-16T19:03:59.746Z"
   },
   {
    "duration": 14,
    "start_time": "2024-04-16T19:03:59.757Z"
   },
   {
    "duration": 11,
    "start_time": "2024-04-16T19:03:59.772Z"
   },
   {
    "duration": 7,
    "start_time": "2024-04-16T19:03:59.814Z"
   },
   {
    "duration": 3,
    "start_time": "2024-04-16T19:03:59.823Z"
   },
   {
    "duration": 9,
    "start_time": "2024-04-16T19:03:59.827Z"
   },
   {
    "duration": 6,
    "start_time": "2024-04-16T19:03:59.838Z"
   },
   {
    "duration": 12,
    "start_time": "2024-04-16T19:03:59.845Z"
   },
   {
    "duration": 11,
    "start_time": "2024-04-16T19:03:59.858Z"
   },
   {
    "duration": 44,
    "start_time": "2024-04-16T19:03:59.871Z"
   },
   {
    "duration": 8,
    "start_time": "2024-04-16T19:03:59.917Z"
   },
   {
    "duration": 114,
    "start_time": "2024-04-16T19:03:59.927Z"
   },
   {
    "duration": 117,
    "start_time": "2024-04-16T19:04:00.043Z"
   },
   {
    "duration": 97,
    "start_time": "2024-04-16T19:04:00.162Z"
   },
   {
    "duration": 177,
    "start_time": "2024-04-16T19:04:00.261Z"
   },
   {
    "duration": 130,
    "start_time": "2024-04-16T19:04:00.440Z"
   },
   {
    "duration": 318,
    "start_time": "2024-04-16T19:04:00.572Z"
   },
   {
    "duration": 271,
    "start_time": "2024-04-16T19:04:00.894Z"
   },
   {
    "duration": 240,
    "start_time": "2024-04-16T19:04:01.167Z"
   },
   {
    "duration": 178,
    "start_time": "2024-04-16T19:04:01.417Z"
   },
   {
    "duration": 204,
    "start_time": "2024-04-16T19:04:01.597Z"
   },
   {
    "duration": 268,
    "start_time": "2024-04-16T19:04:01.803Z"
   },
   {
    "duration": 176,
    "start_time": "2024-04-16T19:04:02.072Z"
   },
   {
    "duration": 39,
    "start_time": "2024-04-16T19:04:02.250Z"
   },
   {
    "duration": 158,
    "start_time": "2024-04-16T19:04:02.291Z"
   },
   {
    "duration": 11,
    "start_time": "2024-04-16T19:04:02.450Z"
   },
   {
    "duration": 54,
    "start_time": "2024-04-16T19:04:02.463Z"
   },
   {
    "duration": 4,
    "start_time": "2024-04-16T19:04:02.519Z"
   },
   {
    "duration": 24,
    "start_time": "2024-04-16T19:04:02.524Z"
   },
   {
    "duration": 234,
    "start_time": "2024-04-16T19:04:02.550Z"
   },
   {
    "duration": 19,
    "start_time": "2024-04-16T19:04:02.786Z"
   },
   {
    "duration": 373,
    "start_time": "2024-04-16T19:04:02.815Z"
   },
   {
    "duration": 28,
    "start_time": "2024-04-16T19:04:03.190Z"
   },
   {
    "duration": 10,
    "start_time": "2024-04-16T19:04:03.220Z"
   },
   {
    "duration": 19,
    "start_time": "2024-04-16T19:04:03.232Z"
   },
   {
    "duration": 78,
    "start_time": "2024-04-16T19:04:03.253Z"
   },
   {
    "duration": 1606,
    "start_time": "2024-04-16T19:04:03.333Z"
   },
   {
    "duration": 3770,
    "start_time": "2024-04-16T19:04:04.940Z"
   },
   {
    "duration": 5,
    "start_time": "2024-04-16T19:04:08.711Z"
   },
   {
    "duration": 15,
    "start_time": "2024-04-16T19:04:08.718Z"
   },
   {
    "duration": 139,
    "start_time": "2024-04-16T19:04:08.735Z"
   },
   {
    "duration": 9,
    "start_time": "2024-04-16T19:04:08.875Z"
   },
   {
    "duration": 4,
    "start_time": "2024-04-16T19:04:08.886Z"
   },
   {
    "duration": 289,
    "start_time": "2024-04-16T19:04:08.892Z"
   },
   {
    "duration": 4,
    "start_time": "2024-04-16T19:04:09.183Z"
   },
   {
    "duration": 5,
    "start_time": "2024-04-16T19:04:09.188Z"
   },
   {
    "duration": 7,
    "start_time": "2024-04-16T19:04:09.194Z"
   },
   {
    "duration": 13,
    "start_time": "2024-04-16T19:04:09.202Z"
   },
   {
    "duration": 3,
    "start_time": "2024-04-16T19:04:09.218Z"
   },
   {
    "duration": 6,
    "start_time": "2024-04-16T19:04:09.223Z"
   },
   {
    "duration": 1695,
    "start_time": "2024-04-16T19:04:09.231Z"
   },
   {
    "duration": 22,
    "start_time": "2024-04-16T19:04:10.930Z"
   },
   {
    "duration": 52,
    "start_time": "2024-04-16T19:04:10.955Z"
   },
   {
    "duration": 35,
    "start_time": "2024-04-16T19:04:11.015Z"
   },
   {
    "duration": 4,
    "start_time": "2024-04-16T19:04:11.053Z"
   },
   {
    "duration": 3,
    "start_time": "2024-04-16T19:04:11.058Z"
   },
   {
    "duration": 80,
    "start_time": "2024-04-16T19:04:11.063Z"
   },
   {
    "duration": 5,
    "start_time": "2024-04-16T19:04:11.145Z"
   },
   {
    "duration": 15,
    "start_time": "2024-04-16T19:04:11.151Z"
   },
   {
    "duration": 2576,
    "start_time": "2024-04-16T19:04:11.168Z"
   },
   {
    "duration": 1213,
    "start_time": "2024-04-16T19:04:13.746Z"
   },
   {
    "duration": 1305,
    "start_time": "2024-04-16T19:04:14.961Z"
   },
   {
    "duration": 4,
    "start_time": "2024-04-16T19:04:16.267Z"
   },
   {
    "duration": 6,
    "start_time": "2024-04-16T19:04:16.272Z"
   },
   {
    "duration": 19,
    "start_time": "2024-04-16T19:04:16.280Z"
   },
   {
    "duration": 7,
    "start_time": "2024-04-16T19:04:16.301Z"
   },
   {
    "duration": 163,
    "start_time": "2024-04-16T19:04:16.315Z"
   },
   {
    "duration": 0,
    "start_time": "2024-04-16T19:04:16.480Z"
   },
   {
    "duration": 4,
    "start_time": "2024-04-16T19:06:11.180Z"
   },
   {
    "duration": 16,
    "start_time": "2024-04-16T19:06:12.404Z"
   },
   {
    "duration": 11,
    "start_time": "2024-04-16T19:06:47.177Z"
   },
   {
    "duration": 5,
    "start_time": "2024-04-16T19:07:08.114Z"
   },
   {
    "duration": 7,
    "start_time": "2024-04-16T19:07:09.855Z"
   },
   {
    "duration": 15270,
    "start_time": "2024-04-16T19:15:22.977Z"
   },
   {
    "duration": 1290,
    "start_time": "2024-04-16T19:15:38.249Z"
   },
   {
    "duration": 92,
    "start_time": "2024-04-16T19:15:39.543Z"
   },
   {
    "duration": 27,
    "start_time": "2024-04-16T19:15:39.637Z"
   },
   {
    "duration": 4,
    "start_time": "2024-04-16T19:15:39.666Z"
   },
   {
    "duration": 13,
    "start_time": "2024-04-16T19:15:39.672Z"
   },
   {
    "duration": 6,
    "start_time": "2024-04-16T19:15:39.687Z"
   },
   {
    "duration": 29,
    "start_time": "2024-04-16T19:15:39.694Z"
   },
   {
    "duration": 9,
    "start_time": "2024-04-16T19:15:39.725Z"
   },
   {
    "duration": 2,
    "start_time": "2024-04-16T19:15:39.736Z"
   },
   {
    "duration": 12,
    "start_time": "2024-04-16T19:15:39.740Z"
   },
   {
    "duration": 7,
    "start_time": "2024-04-16T19:15:39.753Z"
   },
   {
    "duration": 3,
    "start_time": "2024-04-16T19:15:39.763Z"
   },
   {
    "duration": 57,
    "start_time": "2024-04-16T19:15:39.767Z"
   },
   {
    "duration": 7,
    "start_time": "2024-04-16T19:15:39.826Z"
   },
   {
    "duration": 7,
    "start_time": "2024-04-16T19:15:39.835Z"
   },
   {
    "duration": 10,
    "start_time": "2024-04-16T19:15:39.843Z"
   },
   {
    "duration": 17,
    "start_time": "2024-04-16T19:15:39.854Z"
   },
   {
    "duration": 47,
    "start_time": "2024-04-16T19:15:39.873Z"
   },
   {
    "duration": 109,
    "start_time": "2024-04-16T19:15:39.921Z"
   },
   {
    "duration": 118,
    "start_time": "2024-04-16T19:15:40.031Z"
   },
   {
    "duration": 115,
    "start_time": "2024-04-16T19:15:40.151Z"
   },
   {
    "duration": 146,
    "start_time": "2024-04-16T19:15:40.268Z"
   },
   {
    "duration": 129,
    "start_time": "2024-04-16T19:15:40.416Z"
   },
   {
    "duration": 318,
    "start_time": "2024-04-16T19:15:40.547Z"
   },
   {
    "duration": 319,
    "start_time": "2024-04-16T19:15:40.867Z"
   },
   {
    "duration": 238,
    "start_time": "2024-04-16T19:15:41.188Z"
   },
   {
    "duration": 185,
    "start_time": "2024-04-16T19:15:41.427Z"
   },
   {
    "duration": 189,
    "start_time": "2024-04-16T19:15:41.615Z"
   },
   {
    "duration": 242,
    "start_time": "2024-04-16T19:15:41.806Z"
   },
   {
    "duration": 179,
    "start_time": "2024-04-16T19:15:42.050Z"
   },
   {
    "duration": 48,
    "start_time": "2024-04-16T19:15:42.230Z"
   },
   {
    "duration": 160,
    "start_time": "2024-04-16T19:15:42.280Z"
   },
   {
    "duration": 10,
    "start_time": "2024-04-16T19:15:42.441Z"
   },
   {
    "duration": 13,
    "start_time": "2024-04-16T19:15:42.452Z"
   },
   {
    "duration": 4,
    "start_time": "2024-04-16T19:15:42.466Z"
   },
   {
    "duration": 22,
    "start_time": "2024-04-16T19:15:42.471Z"
   },
   {
    "duration": 209,
    "start_time": "2024-04-16T19:15:42.515Z"
   },
   {
    "duration": 19,
    "start_time": "2024-04-16T19:15:42.725Z"
   },
   {
    "duration": 367,
    "start_time": "2024-04-16T19:15:42.747Z"
   },
   {
    "duration": 15,
    "start_time": "2024-04-16T19:15:43.116Z"
   },
   {
    "duration": 15,
    "start_time": "2024-04-16T19:15:43.133Z"
   },
   {
    "duration": 15,
    "start_time": "2024-04-16T19:15:43.150Z"
   },
   {
    "duration": 57,
    "start_time": "2024-04-16T19:15:43.166Z"
   },
   {
    "duration": 1507,
    "start_time": "2024-04-16T19:15:43.224Z"
   },
   {
    "duration": 3569,
    "start_time": "2024-04-16T19:15:44.732Z"
   },
   {
    "duration": 2,
    "start_time": "2024-04-16T19:15:48.303Z"
   },
   {
    "duration": 9,
    "start_time": "2024-04-16T19:15:48.307Z"
   },
   {
    "duration": 4,
    "start_time": "2024-04-16T19:15:48.318Z"
   },
   {
    "duration": 9,
    "start_time": "2024-04-16T19:15:48.323Z"
   },
   {
    "duration": 17,
    "start_time": "2024-04-16T19:15:48.333Z"
   },
   {
    "duration": 256,
    "start_time": "2024-04-16T19:15:48.351Z"
   },
   {
    "duration": 3,
    "start_time": "2024-04-16T19:15:48.614Z"
   },
   {
    "duration": 4,
    "start_time": "2024-04-16T19:15:48.618Z"
   },
   {
    "duration": 16,
    "start_time": "2024-04-16T19:15:48.623Z"
   },
   {
    "duration": 6,
    "start_time": "2024-04-16T19:15:48.640Z"
   },
   {
    "duration": 3,
    "start_time": "2024-04-16T19:15:48.647Z"
   },
   {
    "duration": 4,
    "start_time": "2024-04-16T19:15:48.652Z"
   },
   {
    "duration": 1642,
    "start_time": "2024-04-16T19:15:48.657Z"
   },
   {
    "duration": 19,
    "start_time": "2024-04-16T19:15:50.300Z"
   },
   {
    "duration": 35,
    "start_time": "2024-04-16T19:15:50.321Z"
   },
   {
    "duration": 21,
    "start_time": "2024-04-16T19:15:50.358Z"
   },
   {
    "duration": 4,
    "start_time": "2024-04-16T19:15:50.381Z"
   },
   {
    "duration": 29,
    "start_time": "2024-04-16T19:15:50.387Z"
   },
   {
    "duration": 191,
    "start_time": "2024-04-16T19:15:50.417Z"
   },
   {
    "duration": 0,
    "start_time": "2024-04-16T19:15:50.610Z"
   },
   {
    "duration": 0,
    "start_time": "2024-04-16T19:15:50.615Z"
   },
   {
    "duration": 0,
    "start_time": "2024-04-16T19:15:50.616Z"
   },
   {
    "duration": 0,
    "start_time": "2024-04-16T19:15:50.617Z"
   },
   {
    "duration": 0,
    "start_time": "2024-04-16T19:15:50.618Z"
   },
   {
    "duration": 0,
    "start_time": "2024-04-16T19:15:50.620Z"
   },
   {
    "duration": 0,
    "start_time": "2024-04-16T19:15:50.620Z"
   },
   {
    "duration": 0,
    "start_time": "2024-04-16T19:15:50.621Z"
   },
   {
    "duration": 0,
    "start_time": "2024-04-16T19:15:50.622Z"
   },
   {
    "duration": 0,
    "start_time": "2024-04-16T19:15:50.623Z"
   },
   {
    "duration": 0,
    "start_time": "2024-04-16T19:15:50.624Z"
   },
   {
    "duration": 0,
    "start_time": "2024-04-16T19:15:50.625Z"
   },
   {
    "duration": 0,
    "start_time": "2024-04-16T19:15:50.626Z"
   },
   {
    "duration": 14757,
    "start_time": "2024-04-16T19:43:55.829Z"
   },
   {
    "duration": 1279,
    "start_time": "2024-04-16T19:44:10.588Z"
   },
   {
    "duration": 92,
    "start_time": "2024-04-16T19:44:11.868Z"
   },
   {
    "duration": 29,
    "start_time": "2024-04-16T19:44:11.963Z"
   },
   {
    "duration": 3,
    "start_time": "2024-04-16T19:44:11.994Z"
   },
   {
    "duration": 19,
    "start_time": "2024-04-16T19:44:11.999Z"
   },
   {
    "duration": 8,
    "start_time": "2024-04-16T19:44:12.020Z"
   },
   {
    "duration": 15,
    "start_time": "2024-04-16T19:44:12.029Z"
   },
   {
    "duration": 10,
    "start_time": "2024-04-16T19:44:12.046Z"
   },
   {
    "duration": 16,
    "start_time": "2024-04-16T19:44:12.059Z"
   },
   {
    "duration": 11,
    "start_time": "2024-04-16T19:44:12.076Z"
   },
   {
    "duration": 32,
    "start_time": "2024-04-16T19:44:12.088Z"
   },
   {
    "duration": 10,
    "start_time": "2024-04-16T19:44:12.121Z"
   },
   {
    "duration": 14,
    "start_time": "2024-04-16T19:44:12.133Z"
   },
   {
    "duration": 7,
    "start_time": "2024-04-16T19:44:12.149Z"
   },
   {
    "duration": 20,
    "start_time": "2024-04-16T19:44:12.158Z"
   },
   {
    "duration": 4,
    "start_time": "2024-04-16T19:44:12.179Z"
   },
   {
    "duration": 10,
    "start_time": "2024-04-16T19:44:12.184Z"
   },
   {
    "duration": 9,
    "start_time": "2024-04-16T19:44:12.215Z"
   },
   {
    "duration": 110,
    "start_time": "2024-04-16T19:44:12.225Z"
   },
   {
    "duration": 113,
    "start_time": "2024-04-16T19:44:12.337Z"
   },
   {
    "duration": 92,
    "start_time": "2024-04-16T19:44:12.452Z"
   },
   {
    "duration": 152,
    "start_time": "2024-04-16T19:44:12.546Z"
   },
   {
    "duration": 121,
    "start_time": "2024-04-16T19:44:12.700Z"
   },
   {
    "duration": 292,
    "start_time": "2024-04-16T19:44:12.823Z"
   },
   {
    "duration": 266,
    "start_time": "2024-04-16T19:44:13.116Z"
   },
   {
    "duration": 218,
    "start_time": "2024-04-16T19:44:13.383Z"
   },
   {
    "duration": 177,
    "start_time": "2024-04-16T19:44:13.605Z"
   },
   {
    "duration": 214,
    "start_time": "2024-04-16T19:44:13.783Z"
   },
   {
    "duration": 225,
    "start_time": "2024-04-16T19:44:13.998Z"
   },
   {
    "duration": 178,
    "start_time": "2024-04-16T19:44:14.224Z"
   },
   {
    "duration": 45,
    "start_time": "2024-04-16T19:44:14.403Z"
   },
   {
    "duration": 152,
    "start_time": "2024-04-16T19:44:14.450Z"
   },
   {
    "duration": 16,
    "start_time": "2024-04-16T19:44:14.604Z"
   },
   {
    "duration": 11,
    "start_time": "2024-04-16T19:44:14.622Z"
   },
   {
    "duration": 4,
    "start_time": "2024-04-16T19:44:14.635Z"
   },
   {
    "duration": 20,
    "start_time": "2024-04-16T19:44:14.641Z"
   },
   {
    "duration": 266,
    "start_time": "2024-04-16T19:44:14.663Z"
   },
   {
    "duration": 20,
    "start_time": "2024-04-16T19:44:14.931Z"
   },
   {
    "duration": 370,
    "start_time": "2024-04-16T19:44:14.952Z"
   },
   {
    "duration": 17,
    "start_time": "2024-04-16T19:44:15.324Z"
   },
   {
    "duration": 23,
    "start_time": "2024-04-16T19:44:15.342Z"
   },
   {
    "duration": 33,
    "start_time": "2024-04-16T19:44:15.366Z"
   },
   {
    "duration": 60,
    "start_time": "2024-04-16T19:44:15.400Z"
   },
   {
    "duration": 1578,
    "start_time": "2024-04-16T19:44:15.461Z"
   },
   {
    "duration": 3553,
    "start_time": "2024-04-16T19:44:17.040Z"
   },
   {
    "duration": 5,
    "start_time": "2024-04-16T19:44:20.594Z"
   },
   {
    "duration": 17,
    "start_time": "2024-04-16T19:44:20.600Z"
   },
   {
    "duration": 102,
    "start_time": "2024-04-16T19:44:20.619Z"
   },
   {
    "duration": 7,
    "start_time": "2024-04-16T19:44:20.722Z"
   },
   {
    "duration": 10,
    "start_time": "2024-04-16T19:44:20.731Z"
   },
   {
    "duration": 268,
    "start_time": "2024-04-16T19:44:20.743Z"
   },
   {
    "duration": 4,
    "start_time": "2024-04-16T19:44:21.013Z"
   },
   {
    "duration": 5,
    "start_time": "2024-04-16T19:44:21.018Z"
   },
   {
    "duration": 5,
    "start_time": "2024-04-16T19:44:21.024Z"
   },
   {
    "duration": 3,
    "start_time": "2024-04-16T19:44:21.030Z"
   },
   {
    "duration": 4,
    "start_time": "2024-04-16T19:44:21.035Z"
   },
   {
    "duration": 4,
    "start_time": "2024-04-16T19:44:21.041Z"
   },
   {
    "duration": 1633,
    "start_time": "2024-04-16T19:44:21.046Z"
   },
   {
    "duration": 18,
    "start_time": "2024-04-16T19:44:22.681Z"
   },
   {
    "duration": 45,
    "start_time": "2024-04-16T19:44:22.701Z"
   },
   {
    "duration": 38,
    "start_time": "2024-04-16T19:44:22.748Z"
   },
   {
    "duration": 3,
    "start_time": "2024-04-16T19:44:22.788Z"
   },
   {
    "duration": 10,
    "start_time": "2024-04-16T19:44:22.793Z"
   },
   {
    "duration": 58,
    "start_time": "2024-04-16T19:44:22.805Z"
   },
   {
    "duration": 5,
    "start_time": "2024-04-16T19:44:22.864Z"
   },
   {
    "duration": 16,
    "start_time": "2024-04-16T19:44:22.871Z"
   },
   {
    "duration": 2548,
    "start_time": "2024-04-16T19:44:22.889Z"
   },
   {
    "duration": 1155,
    "start_time": "2024-04-16T19:44:25.439Z"
   },
   {
    "duration": 1130,
    "start_time": "2024-04-16T19:44:26.596Z"
   },
   {
    "duration": 2,
    "start_time": "2024-04-16T19:44:27.728Z"
   },
   {
    "duration": 6,
    "start_time": "2024-04-16T19:44:27.732Z"
   },
   {
    "duration": 6,
    "start_time": "2024-04-16T19:44:27.739Z"
   },
   {
    "duration": 11,
    "start_time": "2024-04-16T19:44:27.746Z"
   },
   {
    "duration": 8,
    "start_time": "2024-04-16T19:44:27.758Z"
   },
   {
    "duration": 12,
    "start_time": "2024-04-16T19:44:27.768Z"
   },
   {
    "duration": 164,
    "start_time": "2024-04-16T19:44:27.781Z"
   },
   {
    "duration": 0,
    "start_time": "2024-04-16T19:44:27.947Z"
   },
   {
    "duration": 4,
    "start_time": "2024-04-16T19:45:17.647Z"
   },
   {
    "duration": 204,
    "start_time": "2024-04-16T19:56:45.713Z"
   },
   {
    "duration": 102,
    "start_time": "2024-04-16T19:57:25.419Z"
   },
   {
    "duration": 48,
    "start_time": "2024-04-16T19:57:43.775Z"
   },
   {
    "duration": 137,
    "start_time": "2024-04-16T20:06:52.480Z"
   },
   {
    "duration": 2,
    "start_time": "2024-04-16T20:09:57.533Z"
   },
   {
    "duration": 8,
    "start_time": "2024-04-16T20:11:06.143Z"
   },
   {
    "duration": 11,
    "start_time": "2024-04-16T20:11:13.630Z"
   },
   {
    "duration": 16,
    "start_time": "2024-04-16T20:11:20.351Z"
   },
   {
    "duration": 70,
    "start_time": "2024-04-16T20:11:34.649Z"
   },
   {
    "duration": 31,
    "start_time": "2024-04-16T20:11:43.201Z"
   },
   {
    "duration": 205,
    "start_time": "2024-04-16T20:11:56.714Z"
   },
   {
    "duration": 167,
    "start_time": "2024-04-16T20:12:15.764Z"
   },
   {
    "duration": 26579,
    "start_time": "2024-04-17T15:53:39.360Z"
   },
   {
    "duration": 1543,
    "start_time": "2024-04-17T15:54:05.941Z"
   },
   {
    "duration": 335,
    "start_time": "2024-04-17T15:54:07.486Z"
   },
   {
    "duration": 23,
    "start_time": "2024-04-17T15:54:07.822Z"
   },
   {
    "duration": 3,
    "start_time": "2024-04-17T15:54:07.846Z"
   },
   {
    "duration": 12,
    "start_time": "2024-04-17T15:54:07.850Z"
   },
   {
    "duration": 4,
    "start_time": "2024-04-17T15:54:07.863Z"
   },
   {
    "duration": 16,
    "start_time": "2024-04-17T15:54:07.868Z"
   },
   {
    "duration": 8,
    "start_time": "2024-04-17T15:54:07.885Z"
   },
   {
    "duration": 2,
    "start_time": "2024-04-17T15:54:07.895Z"
   },
   {
    "duration": 13,
    "start_time": "2024-04-17T15:54:07.899Z"
   },
   {
    "duration": 6,
    "start_time": "2024-04-17T15:54:07.913Z"
   },
   {
    "duration": 3,
    "start_time": "2024-04-17T15:54:07.920Z"
   },
   {
    "duration": 14,
    "start_time": "2024-04-17T15:54:07.924Z"
   },
   {
    "duration": 5,
    "start_time": "2024-04-17T15:54:07.939Z"
   },
   {
    "duration": 9,
    "start_time": "2024-04-17T15:54:07.945Z"
   },
   {
    "duration": 11,
    "start_time": "2024-04-17T15:54:07.955Z"
   },
   {
    "duration": 19,
    "start_time": "2024-04-17T15:54:07.967Z"
   },
   {
    "duration": 16,
    "start_time": "2024-04-17T15:54:07.987Z"
   },
   {
    "duration": 81,
    "start_time": "2024-04-17T15:54:08.005Z"
   },
   {
    "duration": 80,
    "start_time": "2024-04-17T15:54:08.087Z"
   },
   {
    "duration": 78,
    "start_time": "2024-04-17T15:54:08.169Z"
   },
   {
    "duration": 118,
    "start_time": "2024-04-17T15:54:08.248Z"
   },
   {
    "duration": 94,
    "start_time": "2024-04-17T15:54:08.367Z"
   },
   {
    "duration": 175,
    "start_time": "2024-04-17T15:54:08.463Z"
   },
   {
    "duration": 207,
    "start_time": "2024-04-17T15:54:08.639Z"
   },
   {
    "duration": 244,
    "start_time": "2024-04-17T15:54:08.847Z"
   },
   {
    "duration": 143,
    "start_time": "2024-04-17T15:54:09.094Z"
   },
   {
    "duration": 148,
    "start_time": "2024-04-17T15:54:09.238Z"
   },
   {
    "duration": 180,
    "start_time": "2024-04-17T15:54:09.387Z"
   },
   {
    "duration": 132,
    "start_time": "2024-04-17T15:54:09.568Z"
   },
   {
    "duration": 30,
    "start_time": "2024-04-17T15:54:09.701Z"
   },
   {
    "duration": 130,
    "start_time": "2024-04-17T15:54:09.732Z"
   },
   {
    "duration": 9,
    "start_time": "2024-04-17T15:54:09.863Z"
   },
   {
    "duration": 18,
    "start_time": "2024-04-17T15:54:09.873Z"
   },
   {
    "duration": 4,
    "start_time": "2024-04-17T15:54:09.892Z"
   },
   {
    "duration": 18,
    "start_time": "2024-04-17T15:54:09.897Z"
   },
   {
    "duration": 169,
    "start_time": "2024-04-17T15:54:09.916Z"
   },
   {
    "duration": 16,
    "start_time": "2024-04-17T15:54:10.086Z"
   },
   {
    "duration": 205,
    "start_time": "2024-04-17T15:54:10.103Z"
   },
   {
    "duration": 13,
    "start_time": "2024-04-17T15:54:10.309Z"
   },
   {
    "duration": 27,
    "start_time": "2024-04-17T15:54:10.323Z"
   },
   {
    "duration": 19,
    "start_time": "2024-04-17T15:54:10.351Z"
   },
   {
    "duration": 35,
    "start_time": "2024-04-17T15:54:10.372Z"
   },
   {
    "duration": 1333,
    "start_time": "2024-04-17T15:54:10.408Z"
   },
   {
    "duration": 2760,
    "start_time": "2024-04-17T15:54:11.742Z"
   },
   {
    "duration": 4,
    "start_time": "2024-04-17T15:54:14.503Z"
   },
   {
    "duration": 8,
    "start_time": "2024-04-17T15:54:14.508Z"
   },
   {
    "duration": 89,
    "start_time": "2024-04-17T15:54:14.517Z"
   },
   {
    "duration": 6,
    "start_time": "2024-04-17T15:54:14.607Z"
   },
   {
    "duration": 6,
    "start_time": "2024-04-17T15:54:14.614Z"
   },
   {
    "duration": 201,
    "start_time": "2024-04-17T15:54:14.621Z"
   },
   {
    "duration": 2,
    "start_time": "2024-04-17T15:54:14.823Z"
   },
   {
    "duration": 5,
    "start_time": "2024-04-17T15:54:14.826Z"
   },
   {
    "duration": 6,
    "start_time": "2024-04-17T15:54:14.832Z"
   },
   {
    "duration": 3,
    "start_time": "2024-04-17T15:54:14.839Z"
   },
   {
    "duration": 3,
    "start_time": "2024-04-17T15:54:14.843Z"
   },
   {
    "duration": 4,
    "start_time": "2024-04-17T15:54:14.847Z"
   },
   {
    "duration": 1397,
    "start_time": "2024-04-17T15:54:14.852Z"
   },
   {
    "duration": 15,
    "start_time": "2024-04-17T15:54:16.251Z"
   },
   {
    "duration": 35,
    "start_time": "2024-04-17T15:54:16.267Z"
   },
   {
    "duration": 17,
    "start_time": "2024-04-17T15:54:16.303Z"
   },
   {
    "duration": 5,
    "start_time": "2024-04-17T15:54:16.321Z"
   },
   {
    "duration": 5,
    "start_time": "2024-04-17T15:54:16.327Z"
   },
   {
    "duration": 53,
    "start_time": "2024-04-17T15:54:16.333Z"
   },
   {
    "duration": 4,
    "start_time": "2024-04-17T15:54:16.387Z"
   },
   {
    "duration": 8,
    "start_time": "2024-04-17T15:54:16.392Z"
   },
   {
    "duration": 591,
    "start_time": "2024-04-17T15:54:16.401Z"
   },
   {
    "duration": 994,
    "start_time": "2024-04-17T15:54:16.993Z"
   },
   {
    "duration": 2,
    "start_time": "2024-04-17T15:54:17.988Z"
   },
   {
    "duration": 616,
    "start_time": "2024-04-17T15:54:17.991Z"
   },
   {
    "duration": 330,
    "start_time": "2024-04-17T15:54:18.608Z"
   },
   {
    "duration": 6,
    "start_time": "2024-04-17T15:54:18.940Z"
   },
   {
    "duration": 7,
    "start_time": "2024-04-17T15:54:18.947Z"
   },
   {
    "duration": 18,
    "start_time": "2024-04-17T15:54:18.956Z"
   },
   {
    "duration": 6,
    "start_time": "2024-04-17T15:54:18.976Z"
   },
   {
    "duration": 3,
    "start_time": "2024-04-17T15:54:18.984Z"
   },
   {
    "duration": 196,
    "start_time": "2024-04-17T15:54:18.989Z"
   },
   {
    "duration": 220,
    "start_time": "2024-04-17T15:57:25.989Z"
   },
   {
    "duration": 2,
    "start_time": "2024-04-17T15:57:40.294Z"
   },
   {
    "duration": 463,
    "start_time": "2024-04-17T15:59:11.056Z"
   },
   {
    "duration": 844,
    "start_time": "2024-04-17T15:59:15.143Z"
   },
   {
    "duration": 106,
    "start_time": "2024-04-17T15:59:22.339Z"
   },
   {
    "duration": 104,
    "start_time": "2024-04-17T15:59:27.754Z"
   },
   {
    "duration": 2,
    "start_time": "2024-04-17T16:00:50.818Z"
   },
   {
    "duration": 17,
    "start_time": "2024-04-17T16:08:47.405Z"
   },
   {
    "duration": 18659,
    "start_time": "2024-04-17T16:27:54.222Z"
   },
   {
    "duration": 1597,
    "start_time": "2024-04-17T16:28:12.883Z"
   },
   {
    "duration": 81,
    "start_time": "2024-04-17T16:28:14.481Z"
   },
   {
    "duration": 30,
    "start_time": "2024-04-17T16:28:14.563Z"
   },
   {
    "duration": 3,
    "start_time": "2024-04-17T16:28:14.595Z"
   },
   {
    "duration": 16,
    "start_time": "2024-04-17T16:28:14.599Z"
   },
   {
    "duration": 6,
    "start_time": "2024-04-17T16:28:14.616Z"
   },
   {
    "duration": 12,
    "start_time": "2024-04-17T16:28:14.623Z"
   },
   {
    "duration": 7,
    "start_time": "2024-04-17T16:28:14.636Z"
   },
   {
    "duration": 2,
    "start_time": "2024-04-17T16:28:14.644Z"
   },
   {
    "duration": 11,
    "start_time": "2024-04-17T16:28:14.647Z"
   },
   {
    "duration": 30,
    "start_time": "2024-04-17T16:28:14.659Z"
   },
   {
    "duration": 3,
    "start_time": "2024-04-17T16:28:14.690Z"
   },
   {
    "duration": 24,
    "start_time": "2024-04-17T16:28:14.696Z"
   },
   {
    "duration": 6,
    "start_time": "2024-04-17T16:28:14.721Z"
   },
   {
    "duration": 8,
    "start_time": "2024-04-17T16:28:14.728Z"
   },
   {
    "duration": 4,
    "start_time": "2024-04-17T16:28:14.737Z"
   },
   {
    "duration": 8,
    "start_time": "2024-04-17T16:28:14.742Z"
   },
   {
    "duration": 17,
    "start_time": "2024-04-17T16:28:14.751Z"
   },
   {
    "duration": 90,
    "start_time": "2024-04-17T16:28:14.769Z"
   },
   {
    "duration": 102,
    "start_time": "2024-04-17T16:28:14.860Z"
   },
   {
    "duration": 82,
    "start_time": "2024-04-17T16:28:14.963Z"
   },
   {
    "duration": 119,
    "start_time": "2024-04-17T16:28:15.046Z"
   },
   {
    "duration": 107,
    "start_time": "2024-04-17T16:28:15.166Z"
   },
   {
    "duration": 202,
    "start_time": "2024-04-17T16:28:15.274Z"
   },
   {
    "duration": 331,
    "start_time": "2024-04-17T16:28:15.477Z"
   },
   {
    "duration": 185,
    "start_time": "2024-04-17T16:28:15.809Z"
   },
   {
    "duration": 136,
    "start_time": "2024-04-17T16:28:16.001Z"
   },
   {
    "duration": 171,
    "start_time": "2024-04-17T16:28:16.139Z"
   },
   {
    "duration": 208,
    "start_time": "2024-04-17T16:28:16.311Z"
   },
   {
    "duration": 157,
    "start_time": "2024-04-17T16:28:16.520Z"
   },
   {
    "duration": 49,
    "start_time": "2024-04-17T16:28:16.679Z"
   },
   {
    "duration": 131,
    "start_time": "2024-04-17T16:28:16.730Z"
   },
   {
    "duration": 8,
    "start_time": "2024-04-17T16:28:16.863Z"
   },
   {
    "duration": 37,
    "start_time": "2024-04-17T16:28:16.872Z"
   },
   {
    "duration": 23,
    "start_time": "2024-04-17T16:28:16.911Z"
   },
   {
    "duration": 40,
    "start_time": "2024-04-17T16:28:16.935Z"
   },
   {
    "duration": 192,
    "start_time": "2024-04-17T16:28:16.976Z"
   },
   {
    "duration": 21,
    "start_time": "2024-04-17T16:28:17.169Z"
   },
   {
    "duration": 248,
    "start_time": "2024-04-17T16:28:17.194Z"
   },
   {
    "duration": 12,
    "start_time": "2024-04-17T16:28:17.446Z"
   },
   {
    "duration": 39,
    "start_time": "2024-04-17T16:28:17.460Z"
   },
   {
    "duration": 103,
    "start_time": "2024-04-17T16:28:17.500Z"
   },
   {
    "duration": 40,
    "start_time": "2024-04-17T16:28:17.604Z"
   },
   {
    "duration": 1364,
    "start_time": "2024-04-17T16:28:17.645Z"
   },
   {
    "duration": 3053,
    "start_time": "2024-04-17T16:28:19.011Z"
   },
   {
    "duration": 4,
    "start_time": "2024-04-17T16:28:22.066Z"
   },
   {
    "duration": 36,
    "start_time": "2024-04-17T16:28:22.071Z"
   },
   {
    "duration": 114,
    "start_time": "2024-04-17T16:28:22.108Z"
   },
   {
    "duration": 7,
    "start_time": "2024-04-17T16:28:22.223Z"
   },
   {
    "duration": 20,
    "start_time": "2024-04-17T16:28:22.232Z"
   },
   {
    "duration": 241,
    "start_time": "2024-04-17T16:28:22.254Z"
   },
   {
    "duration": 5,
    "start_time": "2024-04-17T16:28:22.496Z"
   },
   {
    "duration": 139,
    "start_time": "2024-04-17T16:28:22.502Z"
   },
   {
    "duration": 0,
    "start_time": "2024-04-17T16:28:22.642Z"
   },
   {
    "duration": 0,
    "start_time": "2024-04-17T16:28:22.643Z"
   },
   {
    "duration": 0,
    "start_time": "2024-04-17T16:28:22.644Z"
   },
   {
    "duration": 0,
    "start_time": "2024-04-17T16:28:22.645Z"
   },
   {
    "duration": 0,
    "start_time": "2024-04-17T16:28:22.646Z"
   },
   {
    "duration": 0,
    "start_time": "2024-04-17T16:28:22.647Z"
   },
   {
    "duration": 0,
    "start_time": "2024-04-17T16:28:22.648Z"
   },
   {
    "duration": 0,
    "start_time": "2024-04-17T16:28:22.648Z"
   },
   {
    "duration": 0,
    "start_time": "2024-04-17T16:28:22.649Z"
   },
   {
    "duration": 0,
    "start_time": "2024-04-17T16:28:22.650Z"
   },
   {
    "duration": 0,
    "start_time": "2024-04-17T16:28:22.651Z"
   },
   {
    "duration": 0,
    "start_time": "2024-04-17T16:28:22.652Z"
   },
   {
    "duration": 0,
    "start_time": "2024-04-17T16:28:22.653Z"
   },
   {
    "duration": 0,
    "start_time": "2024-04-17T16:28:22.654Z"
   },
   {
    "duration": 0,
    "start_time": "2024-04-17T16:28:22.654Z"
   },
   {
    "duration": 0,
    "start_time": "2024-04-17T16:28:22.655Z"
   },
   {
    "duration": 0,
    "start_time": "2024-04-17T16:28:22.656Z"
   },
   {
    "duration": 0,
    "start_time": "2024-04-17T16:28:22.657Z"
   },
   {
    "duration": 0,
    "start_time": "2024-04-17T16:28:22.658Z"
   },
   {
    "duration": 0,
    "start_time": "2024-04-17T16:28:22.659Z"
   },
   {
    "duration": 0,
    "start_time": "2024-04-17T16:28:22.693Z"
   },
   {
    "duration": 0,
    "start_time": "2024-04-17T16:28:22.694Z"
   },
   {
    "duration": 0,
    "start_time": "2024-04-17T16:28:22.695Z"
   },
   {
    "duration": 0,
    "start_time": "2024-04-17T16:28:22.696Z"
   },
   {
    "duration": 3,
    "start_time": "2024-04-17T16:29:47.249Z"
   },
   {
    "duration": 3,
    "start_time": "2024-04-17T16:29:48.963Z"
   },
   {
    "duration": 3,
    "start_time": "2024-04-17T16:29:50.701Z"
   },
   {
    "duration": 2,
    "start_time": "2024-04-17T16:29:51.206Z"
   },
   {
    "duration": 4,
    "start_time": "2024-04-17T16:29:51.925Z"
   },
   {
    "duration": 1523,
    "start_time": "2024-04-17T16:29:52.492Z"
   },
   {
    "duration": 16,
    "start_time": "2024-04-17T16:29:54.221Z"
   },
   {
    "duration": 18,
    "start_time": "2024-04-17T16:29:57.618Z"
   },
   {
    "duration": 26,
    "start_time": "2024-04-17T16:29:59.554Z"
   },
   {
    "duration": 16,
    "start_time": "2024-04-17T16:30:03.408Z"
   },
   {
    "duration": 18,
    "start_time": "2024-04-17T16:30:18.264Z"
   },
   {
    "duration": 4,
    "start_time": "2024-04-17T16:30:20.712Z"
   },
   {
    "duration": 109,
    "start_time": "2024-04-17T16:30:24.094Z"
   },
   {
    "duration": 5,
    "start_time": "2024-04-17T16:30:27.129Z"
   },
   {
    "duration": 10,
    "start_time": "2024-04-17T16:31:03.394Z"
   },
   {
    "duration": 88,
    "start_time": "2024-04-17T16:31:07.311Z"
   },
   {
    "duration": 8,
    "start_time": "2024-04-17T16:31:14.909Z"
   },
   {
    "duration": 8,
    "start_time": "2024-04-17T16:31:21.717Z"
   },
   {
    "duration": 12,
    "start_time": "2024-04-17T16:31:29.544Z"
   },
   {
    "duration": 505,
    "start_time": "2024-04-17T16:31:35.998Z"
   },
   {
    "duration": 1016,
    "start_time": "2024-04-17T16:31:39.884Z"
   },
   {
    "duration": 112,
    "start_time": "2024-04-17T16:31:43.514Z"
   },
   {
    "duration": 42,
    "start_time": "2024-04-17T16:35:02.153Z"
   },
   {
    "duration": 71,
    "start_time": "2024-04-17T16:37:35.616Z"
   },
   {
    "duration": 3,
    "start_time": "2024-04-17T16:37:48.890Z"
   },
   {
    "duration": 90,
    "start_time": "2024-04-17T16:38:10.099Z"
   },
   {
    "duration": 86,
    "start_time": "2024-04-17T16:42:36.201Z"
   },
   {
    "duration": 98,
    "start_time": "2024-04-17T16:43:57.494Z"
   },
   {
    "duration": 142,
    "start_time": "2024-04-17T16:44:05.158Z"
   },
   {
    "duration": 194,
    "start_time": "2024-04-17T17:18:13.996Z"
   },
   {
    "duration": 1600,
    "start_time": "2024-04-17T17:18:45.768Z"
   },
   {
    "duration": 176,
    "start_time": "2024-04-17T17:18:56.221Z"
   },
   {
    "duration": 80,
    "start_time": "2024-04-17T17:19:32.802Z"
   },
   {
    "duration": 1406,
    "start_time": "2024-04-17T17:19:41.829Z"
   },
   {
    "duration": 1497,
    "start_time": "2024-04-17T17:20:30.421Z"
   },
   {
    "duration": 208,
    "start_time": "2024-04-17T17:21:04.084Z"
   },
   {
    "duration": 1376,
    "start_time": "2024-04-17T17:21:23.764Z"
   },
   {
    "duration": 151,
    "start_time": "2024-04-17T17:21:39.742Z"
   },
   {
    "duration": 192,
    "start_time": "2024-04-17T17:22:56.006Z"
   },
   {
    "duration": 181,
    "start_time": "2024-04-17T17:23:13.606Z"
   },
   {
    "duration": 11,
    "start_time": "2024-04-17T17:24:06.172Z"
   },
   {
    "duration": 194,
    "start_time": "2024-04-17T17:24:25.491Z"
   },
   {
    "duration": 11,
    "start_time": "2024-04-17T17:24:27.221Z"
   },
   {
    "duration": 190,
    "start_time": "2024-04-17T17:25:42.895Z"
   },
   {
    "duration": 143,
    "start_time": "2024-04-17T17:26:09.341Z"
   },
   {
    "duration": 130,
    "start_time": "2024-04-17T17:26:19.557Z"
   },
   {
    "duration": 180,
    "start_time": "2024-04-17T17:27:11.808Z"
   },
   {
    "duration": 189,
    "start_time": "2024-04-17T17:28:34.696Z"
   },
   {
    "duration": 3641,
    "start_time": "2024-04-17T17:28:47.200Z"
   },
   {
    "duration": 47,
    "start_time": "2024-04-17T17:29:44.745Z"
   },
   {
    "duration": 10,
    "start_time": "2024-04-17T17:29:46.069Z"
   },
   {
    "duration": 2736,
    "start_time": "2024-04-17T17:29:54.631Z"
   },
   {
    "duration": 187,
    "start_time": "2024-04-17T17:30:06.707Z"
   },
   {
    "duration": 4,
    "start_time": "2024-04-17T17:30:25.337Z"
   },
   {
    "duration": 126,
    "start_time": "2024-04-17T17:57:38.267Z"
   },
   {
    "duration": 74,
    "start_time": "2024-04-17T17:59:59.165Z"
   },
   {
    "duration": 221,
    "start_time": "2024-04-17T18:00:54.165Z"
   },
   {
    "duration": 73,
    "start_time": "2024-04-17T18:01:05.472Z"
   },
   {
    "duration": 221,
    "start_time": "2024-04-17T18:06:31.365Z"
   },
   {
    "duration": 29,
    "start_time": "2024-04-17T18:32:58.707Z"
   },
   {
    "duration": 31,
    "start_time": "2024-04-17T18:35:22.187Z"
   },
   {
    "duration": 28,
    "start_time": "2024-04-17T19:40:30.299Z"
   },
   {
    "duration": 72,
    "start_time": "2024-04-17T19:41:46.501Z"
   },
   {
    "duration": 7,
    "start_time": "2024-04-17T19:41:53.455Z"
   },
   {
    "duration": 102,
    "start_time": "2024-04-17T19:41:59.193Z"
   },
   {
    "duration": 4,
    "start_time": "2024-04-17T19:42:15.008Z"
   },
   {
    "duration": 94,
    "start_time": "2024-04-17T19:42:24.467Z"
   },
   {
    "duration": 71,
    "start_time": "2024-04-17T19:42:52.748Z"
   },
   {
    "duration": 71,
    "start_time": "2024-04-17T19:42:59.674Z"
   },
   {
    "duration": 168,
    "start_time": "2024-04-17T19:43:21.500Z"
   },
   {
    "duration": 254,
    "start_time": "2024-04-17T19:43:26.646Z"
   },
   {
    "duration": 382,
    "start_time": "2024-04-17T19:44:28.206Z"
   },
   {
    "duration": 4,
    "start_time": "2024-04-17T19:44:54.249Z"
   },
   {
    "duration": 5,
    "start_time": "2024-04-17T19:45:00.046Z"
   },
   {
    "duration": 6,
    "start_time": "2024-04-17T19:45:04.617Z"
   },
   {
    "duration": 5,
    "start_time": "2024-04-17T19:45:44.522Z"
   },
   {
    "duration": 5,
    "start_time": "2024-04-17T19:45:52.356Z"
   },
   {
    "duration": 55,
    "start_time": "2024-04-17T19:46:04.013Z"
   },
   {
    "duration": 4,
    "start_time": "2024-04-17T19:47:18.413Z"
   },
   {
    "duration": 3,
    "start_time": "2024-04-17T19:47:36.696Z"
   },
   {
    "duration": 5,
    "start_time": "2024-04-17T19:47:45.121Z"
   },
   {
    "duration": 5,
    "start_time": "2024-04-17T19:48:00.630Z"
   },
   {
    "duration": 5,
    "start_time": "2024-04-17T19:48:51.441Z"
   },
   {
    "duration": 29,
    "start_time": "2024-04-17T19:49:00.230Z"
   },
   {
    "duration": 4,
    "start_time": "2024-04-17T19:55:23.871Z"
   },
   {
    "duration": 8,
    "start_time": "2024-04-17T19:55:28.323Z"
   },
   {
    "duration": 12,
    "start_time": "2024-04-17T19:55:32.266Z"
   },
   {
    "duration": 2,
    "start_time": "2024-04-17T19:55:47.259Z"
   },
   {
    "duration": 5,
    "start_time": "2024-04-17T19:57:57.054Z"
   },
   {
    "duration": 8,
    "start_time": "2024-04-17T19:58:39.796Z"
   },
   {
    "duration": 134,
    "start_time": "2024-04-17T19:58:56.061Z"
   },
   {
    "duration": 4,
    "start_time": "2024-04-17T19:58:58.546Z"
   },
   {
    "duration": 211,
    "start_time": "2024-04-17T20:01:21.587Z"
   },
   {
    "duration": 9,
    "start_time": "2024-04-17T20:01:34.299Z"
   },
   {
    "duration": 331,
    "start_time": "2024-04-17T20:03:16.126Z"
   },
   {
    "duration": 31,
    "start_time": "2024-04-17T20:04:27.478Z"
   },
   {
    "duration": 29,
    "start_time": "2024-04-17T20:05:09.428Z"
   },
   {
    "duration": 31,
    "start_time": "2024-04-17T20:05:21.151Z"
   },
   {
    "duration": 47,
    "start_time": "2024-04-17T20:05:26.127Z"
   },
   {
    "duration": 40,
    "start_time": "2024-04-17T20:05:43.823Z"
   },
   {
    "duration": 39,
    "start_time": "2024-04-17T20:06:06.690Z"
   },
   {
    "duration": 27,
    "start_time": "2024-04-17T20:06:22.279Z"
   },
   {
    "duration": 18,
    "start_time": "2024-04-17T20:07:32.765Z"
   },
   {
    "duration": 12,
    "start_time": "2024-04-17T20:08:46.108Z"
   },
   {
    "duration": 4,
    "start_time": "2024-04-17T20:10:56.025Z"
   },
   {
    "duration": 7,
    "start_time": "2024-04-17T20:11:04.645Z"
   },
   {
    "duration": 45,
    "start_time": "2024-04-17T20:11:11.458Z"
   },
   {
    "duration": 25,
    "start_time": "2024-04-17T20:11:24.752Z"
   },
   {
    "duration": 190,
    "start_time": "2024-04-17T20:23:10.867Z"
   },
   {
    "duration": 92,
    "start_time": "2024-04-17T20:23:30.154Z"
   },
   {
    "duration": 5,
    "start_time": "2024-04-17T20:24:26.421Z"
   },
   {
    "duration": 3,
    "start_time": "2024-04-17T20:24:32.936Z"
   },
   {
    "duration": 10,
    "start_time": "2024-04-17T20:24:40.886Z"
   },
   {
    "duration": 4,
    "start_time": "2024-04-17T20:24:45.009Z"
   },
   {
    "duration": 396,
    "start_time": "2024-04-17T20:25:59.145Z"
   },
   {
    "duration": 140,
    "start_time": "2024-04-17T20:26:07.462Z"
   },
   {
    "duration": 123,
    "start_time": "2024-04-17T20:28:40.403Z"
   },
   {
    "duration": 84,
    "start_time": "2024-04-17T20:28:59.443Z"
   },
   {
    "duration": 9,
    "start_time": "2024-04-17T20:29:58.010Z"
   },
   {
    "duration": 128,
    "start_time": "2024-04-17T20:30:06.190Z"
   },
   {
    "duration": 110,
    "start_time": "2024-04-17T20:33:11.157Z"
   },
   {
    "duration": 83,
    "start_time": "2024-04-17T20:33:33.062Z"
   },
   {
    "duration": 111,
    "start_time": "2024-04-17T20:33:36.041Z"
   },
   {
    "duration": 147,
    "start_time": "2024-04-17T20:34:07.088Z"
   },
   {
    "duration": 56,
    "start_time": "2024-04-18T12:33:58.659Z"
   },
   {
    "duration": 26931,
    "start_time": "2024-04-18T12:34:07.977Z"
   },
   {
    "duration": 2052,
    "start_time": "2024-04-18T12:34:34.910Z"
   },
   {
    "duration": 359,
    "start_time": "2024-04-18T12:34:36.964Z"
   },
   {
    "duration": 43,
    "start_time": "2024-04-18T12:34:37.325Z"
   },
   {
    "duration": 13,
    "start_time": "2024-04-18T12:34:37.370Z"
   },
   {
    "duration": 21,
    "start_time": "2024-04-18T12:34:37.385Z"
   },
   {
    "duration": 17,
    "start_time": "2024-04-18T12:34:37.408Z"
   },
   {
    "duration": 39,
    "start_time": "2024-04-18T12:34:37.427Z"
   },
   {
    "duration": 10,
    "start_time": "2024-04-18T12:34:37.468Z"
   },
   {
    "duration": 10,
    "start_time": "2024-04-18T12:34:37.480Z"
   },
   {
    "duration": 16,
    "start_time": "2024-04-18T12:34:37.491Z"
   },
   {
    "duration": 17,
    "start_time": "2024-04-18T12:34:37.508Z"
   },
   {
    "duration": 12,
    "start_time": "2024-04-18T12:34:37.527Z"
   },
   {
    "duration": 98,
    "start_time": "2024-04-18T12:34:37.540Z"
   },
   {
    "duration": 14,
    "start_time": "2024-04-18T12:34:37.639Z"
   },
   {
    "duration": 8,
    "start_time": "2024-04-18T12:34:37.654Z"
   },
   {
    "duration": 67,
    "start_time": "2024-04-18T12:34:37.663Z"
   },
   {
    "duration": 26,
    "start_time": "2024-04-18T12:34:37.732Z"
   },
   {
    "duration": 16,
    "start_time": "2024-04-18T12:34:37.760Z"
   },
   {
    "duration": 112,
    "start_time": "2024-04-18T12:34:37.778Z"
   },
   {
    "duration": 124,
    "start_time": "2024-04-18T12:34:37.892Z"
   },
   {
    "duration": 104,
    "start_time": "2024-04-18T12:34:38.017Z"
   },
   {
    "duration": 154,
    "start_time": "2024-04-18T12:34:38.123Z"
   },
   {
    "duration": 123,
    "start_time": "2024-04-18T12:34:38.279Z"
   },
   {
    "duration": 223,
    "start_time": "2024-04-18T12:34:38.403Z"
   },
   {
    "duration": 381,
    "start_time": "2024-04-18T12:34:38.627Z"
   },
   {
    "duration": 236,
    "start_time": "2024-04-18T12:34:39.009Z"
   },
   {
    "duration": 184,
    "start_time": "2024-04-18T12:34:39.250Z"
   },
   {
    "duration": 199,
    "start_time": "2024-04-18T12:34:39.435Z"
   },
   {
    "duration": 250,
    "start_time": "2024-04-18T12:34:39.636Z"
   },
   {
    "duration": 182,
    "start_time": "2024-04-18T12:34:39.892Z"
   },
   {
    "duration": 48,
    "start_time": "2024-04-18T12:34:40.076Z"
   },
   {
    "duration": 159,
    "start_time": "2024-04-18T12:34:40.126Z"
   },
   {
    "duration": 14,
    "start_time": "2024-04-18T12:34:40.286Z"
   },
   {
    "duration": 25,
    "start_time": "2024-04-18T12:34:40.302Z"
   },
   {
    "duration": 33,
    "start_time": "2024-04-18T12:34:40.329Z"
   },
   {
    "duration": 40,
    "start_time": "2024-04-18T12:34:40.364Z"
   },
   {
    "duration": 232,
    "start_time": "2024-04-18T12:34:40.406Z"
   },
   {
    "duration": 21,
    "start_time": "2024-04-18T12:34:40.640Z"
   },
   {
    "duration": 310,
    "start_time": "2024-04-18T12:34:40.663Z"
   },
   {
    "duration": 18,
    "start_time": "2024-04-18T12:34:40.975Z"
   },
   {
    "duration": 34,
    "start_time": "2024-04-18T12:34:40.994Z"
   },
   {
    "duration": 151,
    "start_time": "2024-04-18T12:34:41.029Z"
   },
   {
    "duration": 49,
    "start_time": "2024-04-18T12:34:41.181Z"
   },
   {
    "duration": 1712,
    "start_time": "2024-04-18T12:34:41.232Z"
   },
   {
    "duration": 3965,
    "start_time": "2024-04-18T12:34:42.945Z"
   },
   {
    "duration": 4,
    "start_time": "2024-04-18T12:34:46.912Z"
   },
   {
    "duration": 52,
    "start_time": "2024-04-18T12:34:46.918Z"
   },
   {
    "duration": 125,
    "start_time": "2024-04-18T12:34:46.972Z"
   },
   {
    "duration": 9,
    "start_time": "2024-04-18T12:34:47.099Z"
   },
   {
    "duration": 12,
    "start_time": "2024-04-18T12:34:47.110Z"
   },
   {
    "duration": 285,
    "start_time": "2024-04-18T12:34:47.124Z"
   },
   {
    "duration": 5,
    "start_time": "2024-04-18T12:34:47.411Z"
   },
   {
    "duration": 8,
    "start_time": "2024-04-18T12:34:47.418Z"
   },
   {
    "duration": 23,
    "start_time": "2024-04-18T12:34:47.428Z"
   },
   {
    "duration": 7,
    "start_time": "2024-04-18T12:34:47.453Z"
   },
   {
    "duration": 10,
    "start_time": "2024-04-18T12:34:47.461Z"
   },
   {
    "duration": 32,
    "start_time": "2024-04-18T12:34:47.472Z"
   },
   {
    "duration": 1851,
    "start_time": "2024-04-18T12:34:47.505Z"
   },
   {
    "duration": 19,
    "start_time": "2024-04-18T12:34:49.358Z"
   },
   {
    "duration": 35,
    "start_time": "2024-04-18T12:34:49.378Z"
   },
   {
    "duration": 33,
    "start_time": "2024-04-18T12:34:49.414Z"
   },
   {
    "duration": 45,
    "start_time": "2024-04-18T12:34:49.449Z"
   },
   {
    "duration": 4,
    "start_time": "2024-04-18T12:34:49.496Z"
   },
   {
    "duration": 148,
    "start_time": "2024-04-18T12:34:49.502Z"
   },
   {
    "duration": 6,
    "start_time": "2024-04-18T12:34:49.652Z"
   },
   {
    "duration": 13,
    "start_time": "2024-04-18T12:34:49.660Z"
   },
   {
    "duration": 695,
    "start_time": "2024-04-18T12:34:49.675Z"
   },
   {
    "duration": 1142,
    "start_time": "2024-04-18T12:34:50.372Z"
   },
   {
    "duration": 3,
    "start_time": "2024-04-18T12:34:51.515Z"
   },
   {
    "duration": 22,
    "start_time": "2024-04-18T12:34:51.519Z"
   },
   {
    "duration": 16,
    "start_time": "2024-04-18T12:34:51.543Z"
   },
   {
    "duration": 40,
    "start_time": "2024-04-18T12:34:51.560Z"
   },
   {
    "duration": 5,
    "start_time": "2024-04-18T12:34:51.602Z"
   },
   {
    "duration": 227,
    "start_time": "2024-04-18T12:34:51.610Z"
   },
   {
    "duration": 165,
    "start_time": "2024-04-18T12:34:51.839Z"
   },
   {
    "duration": 0,
    "start_time": "2024-04-18T12:34:52.006Z"
   },
   {
    "duration": 0,
    "start_time": "2024-04-18T12:34:52.008Z"
   },
   {
    "duration": 0,
    "start_time": "2024-04-18T12:34:52.009Z"
   },
   {
    "duration": 0,
    "start_time": "2024-04-18T12:34:52.010Z"
   },
   {
    "duration": 0,
    "start_time": "2024-04-18T12:34:52.012Z"
   },
   {
    "duration": 0,
    "start_time": "2024-04-18T12:34:52.013Z"
   },
   {
    "duration": 0,
    "start_time": "2024-04-18T12:34:52.014Z"
   },
   {
    "duration": 0,
    "start_time": "2024-04-18T12:34:52.015Z"
   },
   {
    "duration": 0,
    "start_time": "2024-04-18T12:34:52.017Z"
   },
   {
    "duration": 425,
    "start_time": "2024-04-18T12:44:57.259Z"
   },
   {
    "duration": 14,
    "start_time": "2024-04-18T12:44:58.774Z"
   },
   {
    "duration": 8,
    "start_time": "2024-04-18T12:44:59.228Z"
   },
   {
    "duration": 16,
    "start_time": "2024-04-18T12:45:00.864Z"
   },
   {
    "duration": 1102,
    "start_time": "2024-04-18T12:45:01.494Z"
   },
   {
    "duration": 0,
    "start_time": "2024-04-18T12:45:02.597Z"
   },
   {
    "duration": 12,
    "start_time": "2024-04-18T12:45:15.167Z"
   },
   {
    "duration": 12,
    "start_time": "2024-04-18T12:45:42.672Z"
   },
   {
    "duration": 11,
    "start_time": "2024-04-18T12:47:43.116Z"
   },
   {
    "duration": 12,
    "start_time": "2024-04-18T12:47:45.627Z"
   },
   {
    "duration": 10,
    "start_time": "2024-04-18T12:48:17.523Z"
   },
   {
    "duration": 410,
    "start_time": "2024-04-18T12:48:18.906Z"
   },
   {
    "duration": 65,
    "start_time": "2024-04-18T12:48:22.819Z"
   },
   {
    "duration": 103,
    "start_time": "2024-04-18T12:48:24.665Z"
   },
   {
    "duration": 327,
    "start_time": "2024-04-18T12:48:29.608Z"
   },
   {
    "duration": 110,
    "start_time": "2024-04-18T12:48:30.409Z"
   },
   {
    "duration": 172,
    "start_time": "2024-04-18T12:48:31.034Z"
   },
   {
    "duration": 191,
    "start_time": "2024-04-18T12:48:31.782Z"
   },
   {
    "duration": 149,
    "start_time": "2024-04-18T12:48:35.267Z"
   },
   {
    "duration": 13,
    "start_time": "2024-04-18T13:09:29.438Z"
   },
   {
    "duration": 151,
    "start_time": "2024-04-18T13:09:41.180Z"
   },
   {
    "duration": 128,
    "start_time": "2024-04-18T13:10:13.304Z"
   },
   {
    "duration": 130,
    "start_time": "2024-04-18T13:10:36.944Z"
   },
   {
    "duration": 138,
    "start_time": "2024-04-18T13:10:51.947Z"
   },
   {
    "duration": 145,
    "start_time": "2024-04-18T13:11:01.710Z"
   },
   {
    "duration": 135,
    "start_time": "2024-04-18T13:11:09.273Z"
   },
   {
    "duration": 122,
    "start_time": "2024-04-18T13:11:15.102Z"
   },
   {
    "duration": 129,
    "start_time": "2024-04-18T13:11:20.056Z"
   },
   {
    "duration": 141,
    "start_time": "2024-04-18T13:11:48.224Z"
   },
   {
    "duration": 149,
    "start_time": "2024-04-18T13:12:06.514Z"
   },
   {
    "duration": 130,
    "start_time": "2024-04-18T13:12:14.324Z"
   },
   {
    "duration": 136,
    "start_time": "2024-04-18T13:12:32.306Z"
   },
   {
    "duration": 127,
    "start_time": "2024-04-18T13:13:43.061Z"
   },
   {
    "duration": 129,
    "start_time": "2024-04-18T13:13:58.907Z"
   },
   {
    "duration": 251,
    "start_time": "2024-04-18T14:10:38.327Z"
   },
   {
    "duration": 91,
    "start_time": "2024-04-18T14:12:34.895Z"
   },
   {
    "duration": 76,
    "start_time": "2024-04-18T14:12:48.904Z"
   },
   {
    "duration": 87,
    "start_time": "2024-04-18T14:12:55.857Z"
   },
   {
    "duration": 81,
    "start_time": "2024-04-18T14:16:44.430Z"
   },
   {
    "duration": 75,
    "start_time": "2024-04-18T14:17:07.493Z"
   },
   {
    "duration": 85,
    "start_time": "2024-04-18T14:17:18.160Z"
   },
   {
    "duration": 92,
    "start_time": "2024-04-18T14:18:50.322Z"
   },
   {
    "duration": 631,
    "start_time": "2024-04-18T15:13:49.884Z"
   },
   {
    "duration": 110,
    "start_time": "2024-04-18T15:17:01.372Z"
   },
   {
    "duration": 282,
    "start_time": "2024-04-18T15:56:51.596Z"
   },
   {
    "duration": 187,
    "start_time": "2024-04-18T16:01:04.698Z"
   },
   {
    "duration": 16048,
    "start_time": "2024-04-18T16:13:52.759Z"
   },
   {
    "duration": 1841,
    "start_time": "2024-04-18T16:14:08.809Z"
   },
   {
    "duration": 84,
    "start_time": "2024-04-18T16:14:10.652Z"
   },
   {
    "duration": 30,
    "start_time": "2024-04-18T16:14:10.738Z"
   },
   {
    "duration": 13,
    "start_time": "2024-04-18T16:14:10.771Z"
   },
   {
    "duration": 19,
    "start_time": "2024-04-18T16:14:10.786Z"
   },
   {
    "duration": 20,
    "start_time": "2024-04-18T16:14:10.807Z"
   },
   {
    "duration": 12,
    "start_time": "2024-04-18T16:14:10.829Z"
   },
   {
    "duration": 14,
    "start_time": "2024-04-18T16:14:10.842Z"
   },
   {
    "duration": 12,
    "start_time": "2024-04-18T16:14:10.858Z"
   },
   {
    "duration": 30,
    "start_time": "2024-04-18T16:14:10.872Z"
   },
   {
    "duration": 9,
    "start_time": "2024-04-18T16:14:10.904Z"
   },
   {
    "duration": 3,
    "start_time": "2024-04-18T16:14:10.915Z"
   },
   {
    "duration": 8,
    "start_time": "2024-04-18T16:14:10.921Z"
   },
   {
    "duration": 16,
    "start_time": "2024-04-18T16:14:10.930Z"
   },
   {
    "duration": 12,
    "start_time": "2024-04-18T16:14:10.948Z"
   },
   {
    "duration": 7,
    "start_time": "2024-04-18T16:14:10.961Z"
   },
   {
    "duration": 3,
    "start_time": "2024-04-18T16:14:10.992Z"
   },
   {
    "duration": 11,
    "start_time": "2024-04-18T16:14:10.997Z"
   },
   {
    "duration": 40,
    "start_time": "2024-04-18T16:14:11.011Z"
   },
   {
    "duration": 123,
    "start_time": "2024-04-18T16:14:11.053Z"
   },
   {
    "duration": 114,
    "start_time": "2024-04-18T16:14:11.178Z"
   },
   {
    "duration": 74,
    "start_time": "2024-04-18T16:14:11.294Z"
   },
   {
    "duration": 95,
    "start_time": "2024-04-18T16:14:11.369Z"
   },
   {
    "duration": 147,
    "start_time": "2024-04-18T16:14:11.465Z"
   },
   {
    "duration": 131,
    "start_time": "2024-04-18T16:14:11.614Z"
   },
   {
    "duration": 236,
    "start_time": "2024-04-18T16:14:11.747Z"
   },
   {
    "duration": 405,
    "start_time": "2024-04-18T16:14:11.985Z"
   },
   {
    "duration": 236,
    "start_time": "2024-04-18T16:14:12.392Z"
   },
   {
    "duration": 119,
    "start_time": "2024-04-18T16:14:12.630Z"
   },
   {
    "duration": 192,
    "start_time": "2024-04-18T16:14:12.750Z"
   },
   {
    "duration": 195,
    "start_time": "2024-04-18T16:14:12.943Z"
   },
   {
    "duration": 322,
    "start_time": "2024-04-18T16:14:13.140Z"
   },
   {
    "duration": 196,
    "start_time": "2024-04-18T16:14:13.464Z"
   },
   {
    "duration": 30,
    "start_time": "2024-04-18T16:14:13.663Z"
   },
   {
    "duration": 165,
    "start_time": "2024-04-18T16:14:13.695Z"
   },
   {
    "duration": 12,
    "start_time": "2024-04-18T16:14:13.862Z"
   },
   {
    "duration": 19,
    "start_time": "2024-04-18T16:14:13.891Z"
   },
   {
    "duration": 32,
    "start_time": "2024-04-18T16:14:13.912Z"
   },
   {
    "duration": 245,
    "start_time": "2024-04-18T16:14:13.946Z"
   },
   {
    "duration": 21,
    "start_time": "2024-04-18T16:14:14.196Z"
   },
   {
    "duration": 447,
    "start_time": "2024-04-18T16:14:14.218Z"
   },
   {
    "duration": 25,
    "start_time": "2024-04-18T16:14:14.667Z"
   },
   {
    "duration": 9,
    "start_time": "2024-04-18T16:14:14.694Z"
   },
   {
    "duration": 33,
    "start_time": "2024-04-18T16:14:14.705Z"
   },
   {
    "duration": 63,
    "start_time": "2024-04-18T16:14:14.739Z"
   },
   {
    "duration": 1674,
    "start_time": "2024-04-18T16:14:14.803Z"
   },
   {
    "duration": 4031,
    "start_time": "2024-04-18T16:14:16.480Z"
   },
   {
    "duration": 4,
    "start_time": "2024-04-18T16:14:20.513Z"
   },
   {
    "duration": 13,
    "start_time": "2024-04-18T16:14:20.519Z"
   },
   {
    "duration": 119,
    "start_time": "2024-04-18T16:14:20.534Z"
   },
   {
    "duration": 8,
    "start_time": "2024-04-18T16:14:20.655Z"
   },
   {
    "duration": 6,
    "start_time": "2024-04-18T16:14:20.665Z"
   },
   {
    "duration": 269,
    "start_time": "2024-04-18T16:14:20.672Z"
   },
   {
    "duration": 4,
    "start_time": "2024-04-18T16:14:20.942Z"
   },
   {
    "duration": 33,
    "start_time": "2024-04-18T16:14:20.947Z"
   },
   {
    "duration": 15,
    "start_time": "2024-04-18T16:14:20.982Z"
   },
   {
    "duration": 18,
    "start_time": "2024-04-18T16:14:20.998Z"
   },
   {
    "duration": 42,
    "start_time": "2024-04-18T16:14:21.018Z"
   },
   {
    "duration": 34,
    "start_time": "2024-04-18T16:14:21.062Z"
   },
   {
    "duration": 2017,
    "start_time": "2024-04-18T16:14:21.098Z"
   },
   {
    "duration": 19,
    "start_time": "2024-04-18T16:14:23.117Z"
   },
   {
    "duration": 24,
    "start_time": "2024-04-18T16:14:23.138Z"
   },
   {
    "duration": 57,
    "start_time": "2024-04-18T16:14:23.163Z"
   },
   {
    "duration": 52,
    "start_time": "2024-04-18T16:14:23.222Z"
   },
   {
    "duration": 8,
    "start_time": "2024-04-18T16:14:23.276Z"
   },
   {
    "duration": 140,
    "start_time": "2024-04-18T16:14:23.286Z"
   },
   {
    "duration": 5,
    "start_time": "2024-04-18T16:14:23.428Z"
   },
   {
    "duration": 13,
    "start_time": "2024-04-18T16:14:23.435Z"
   },
   {
    "duration": 640,
    "start_time": "2024-04-18T16:14:23.450Z"
   },
   {
    "duration": 1026,
    "start_time": "2024-04-18T16:14:24.092Z"
   },
   {
    "duration": 3,
    "start_time": "2024-04-18T16:14:25.119Z"
   },
   {
    "duration": 18,
    "start_time": "2024-04-18T16:14:25.123Z"
   },
   {
    "duration": 8,
    "start_time": "2024-04-18T16:14:25.143Z"
   },
   {
    "duration": 41,
    "start_time": "2024-04-18T16:14:25.152Z"
   },
   {
    "duration": 9,
    "start_time": "2024-04-18T16:14:25.195Z"
   },
   {
    "duration": 227,
    "start_time": "2024-04-18T16:14:25.206Z"
   },
   {
    "duration": 470,
    "start_time": "2024-04-18T16:14:25.436Z"
   },
   {
    "duration": 8,
    "start_time": "2024-04-18T16:14:25.908Z"
   },
   {
    "duration": 637,
    "start_time": "2024-04-18T16:14:25.918Z"
   },
   {
    "duration": 74,
    "start_time": "2024-04-18T16:14:26.556Z"
   },
   {
    "duration": 121,
    "start_time": "2024-04-18T16:14:26.632Z"
   },
   {
    "duration": 203,
    "start_time": "2024-04-18T16:14:26.755Z"
   },
   {
    "duration": 145,
    "start_time": "2024-04-18T16:14:26.960Z"
   },
   {
    "duration": 193,
    "start_time": "2024-04-18T16:14:27.107Z"
   },
   {
    "duration": 214,
    "start_time": "2024-04-18T16:14:27.301Z"
   },
   {
    "duration": 175,
    "start_time": "2024-04-18T16:14:27.517Z"
   },
   {
    "duration": 169,
    "start_time": "2024-04-18T16:34:05.581Z"
   },
   {
    "duration": 6,
    "start_time": "2024-04-18T16:34:11.980Z"
   },
   {
    "duration": 230,
    "start_time": "2024-04-18T16:34:14.740Z"
   },
   {
    "duration": 8,
    "start_time": "2024-04-18T16:36:37.540Z"
   },
   {
    "duration": 5,
    "start_time": "2024-04-18T16:36:41.113Z"
   },
   {
    "duration": 240,
    "start_time": "2024-04-18T16:36:56.991Z"
   },
   {
    "duration": 22,
    "start_time": "2024-04-18T16:37:18.374Z"
   },
   {
    "duration": 22,
    "start_time": "2024-04-18T16:37:27.126Z"
   },
   {
    "duration": 20,
    "start_time": "2024-04-18T16:38:08.146Z"
   },
   {
    "duration": 19,
    "start_time": "2024-04-18T16:38:08.772Z"
   },
   {
    "duration": 6,
    "start_time": "2024-04-18T16:38:21.569Z"
   },
   {
    "duration": 256,
    "start_time": "2024-04-18T16:38:22.034Z"
   },
   {
    "duration": 5,
    "start_time": "2024-04-18T16:38:24.475Z"
   },
   {
    "duration": 299,
    "start_time": "2024-04-18T16:38:24.911Z"
   },
   {
    "duration": 21,
    "start_time": "2024-04-18T16:38:26.198Z"
   },
   {
    "duration": 20,
    "start_time": "2024-04-18T16:38:27.220Z"
   },
   {
    "duration": 10,
    "start_time": "2024-04-18T16:52:06.559Z"
   },
   {
    "duration": 9,
    "start_time": "2024-04-18T16:52:13.581Z"
   },
   {
    "duration": 12,
    "start_time": "2024-04-18T16:59:02.371Z"
   },
   {
    "duration": 20,
    "start_time": "2024-04-18T16:59:29.104Z"
   },
   {
    "duration": 15923,
    "start_time": "2024-04-18T16:59:47.944Z"
   },
   {
    "duration": 1838,
    "start_time": "2024-04-18T17:00:03.869Z"
   },
   {
    "duration": 84,
    "start_time": "2024-04-18T17:00:05.709Z"
   },
   {
    "duration": 28,
    "start_time": "2024-04-18T17:00:05.795Z"
   },
   {
    "duration": 12,
    "start_time": "2024-04-18T17:00:05.825Z"
   },
   {
    "duration": 52,
    "start_time": "2024-04-18T17:00:05.839Z"
   },
   {
    "duration": 34,
    "start_time": "2024-04-18T17:00:05.892Z"
   },
   {
    "duration": 38,
    "start_time": "2024-04-18T17:00:05.929Z"
   },
   {
    "duration": 12,
    "start_time": "2024-04-18T17:00:05.969Z"
   },
   {
    "duration": 13,
    "start_time": "2024-04-18T17:00:05.984Z"
   },
   {
    "duration": 16,
    "start_time": "2024-04-18T17:00:05.999Z"
   },
   {
    "duration": 11,
    "start_time": "2024-04-18T17:00:06.016Z"
   },
   {
    "duration": 7,
    "start_time": "2024-04-18T17:00:06.029Z"
   },
   {
    "duration": 34,
    "start_time": "2024-04-18T17:00:06.038Z"
   },
   {
    "duration": 32,
    "start_time": "2024-04-18T17:00:06.075Z"
   },
   {
    "duration": 21,
    "start_time": "2024-04-18T17:00:06.109Z"
   },
   {
    "duration": 25,
    "start_time": "2024-04-18T17:00:06.131Z"
   },
   {
    "duration": 9,
    "start_time": "2024-04-18T17:00:06.158Z"
   },
   {
    "duration": 27,
    "start_time": "2024-04-18T17:00:06.169Z"
   },
   {
    "duration": 40,
    "start_time": "2024-04-18T17:00:06.198Z"
   },
   {
    "duration": 112,
    "start_time": "2024-04-18T17:00:06.240Z"
   },
   {
    "duration": 100,
    "start_time": "2024-04-18T17:00:06.353Z"
   },
   {
    "duration": 83,
    "start_time": "2024-04-18T17:00:06.456Z"
   },
   {
    "duration": 91,
    "start_time": "2024-04-18T17:00:06.542Z"
   },
   {
    "duration": 141,
    "start_time": "2024-04-18T17:00:06.635Z"
   },
   {
    "duration": 135,
    "start_time": "2024-04-18T17:00:06.778Z"
   },
   {
    "duration": 228,
    "start_time": "2024-04-18T17:00:06.915Z"
   },
   {
    "duration": 387,
    "start_time": "2024-04-18T17:00:07.147Z"
   },
   {
    "duration": 249,
    "start_time": "2024-04-18T17:00:07.536Z"
   },
   {
    "duration": 114,
    "start_time": "2024-04-18T17:00:07.791Z"
   },
   {
    "duration": 186,
    "start_time": "2024-04-18T17:00:07.907Z"
   },
   {
    "duration": 180,
    "start_time": "2024-04-18T17:00:08.095Z"
   },
   {
    "duration": 284,
    "start_time": "2024-04-18T17:00:08.276Z"
   },
   {
    "duration": 168,
    "start_time": "2024-04-18T17:00:08.561Z"
   },
   {
    "duration": 22,
    "start_time": "2024-04-18T17:00:08.731Z"
   },
   {
    "duration": 164,
    "start_time": "2024-04-18T17:00:08.755Z"
   },
   {
    "duration": 11,
    "start_time": "2024-04-18T17:00:08.921Z"
   },
   {
    "duration": 39,
    "start_time": "2024-04-18T17:00:08.933Z"
   },
   {
    "duration": 6,
    "start_time": "2024-04-18T17:00:08.974Z"
   },
   {
    "duration": 22,
    "start_time": "2024-04-18T17:00:08.981Z"
   },
   {
    "duration": 245,
    "start_time": "2024-04-18T17:00:09.005Z"
   },
   {
    "duration": 5,
    "start_time": "2024-04-18T17:00:09.251Z"
   },
   {
    "duration": 393,
    "start_time": "2024-04-18T17:00:09.258Z"
   },
   {
    "duration": 21,
    "start_time": "2024-04-18T17:00:09.653Z"
   },
   {
    "duration": 31,
    "start_time": "2024-04-18T17:00:09.676Z"
   },
   {
    "duration": 294,
    "start_time": "2024-04-18T17:00:09.709Z"
   },
   {
    "duration": 21,
    "start_time": "2024-04-18T17:00:10.004Z"
   },
   {
    "duration": 25,
    "start_time": "2024-04-18T17:00:10.027Z"
   },
   {
    "duration": 170,
    "start_time": "2024-04-18T17:00:10.054Z"
   },
   {
    "duration": 0,
    "start_time": "2024-04-18T17:00:10.225Z"
   },
   {
    "duration": 0,
    "start_time": "2024-04-18T17:00:10.226Z"
   },
   {
    "duration": 0,
    "start_time": "2024-04-18T17:00:10.228Z"
   },
   {
    "duration": 0,
    "start_time": "2024-04-18T17:00:10.230Z"
   },
   {
    "duration": 0,
    "start_time": "2024-04-18T17:00:10.232Z"
   },
   {
    "duration": 0,
    "start_time": "2024-04-18T17:00:10.233Z"
   },
   {
    "duration": 0,
    "start_time": "2024-04-18T17:00:10.235Z"
   },
   {
    "duration": 0,
    "start_time": "2024-04-18T17:00:10.237Z"
   },
   {
    "duration": 0,
    "start_time": "2024-04-18T17:00:10.238Z"
   },
   {
    "duration": 0,
    "start_time": "2024-04-18T17:00:10.240Z"
   },
   {
    "duration": 0,
    "start_time": "2024-04-18T17:00:10.241Z"
   },
   {
    "duration": 0,
    "start_time": "2024-04-18T17:00:10.242Z"
   },
   {
    "duration": 0,
    "start_time": "2024-04-18T17:00:10.244Z"
   },
   {
    "duration": 0,
    "start_time": "2024-04-18T17:00:10.245Z"
   },
   {
    "duration": 0,
    "start_time": "2024-04-18T17:00:10.246Z"
   },
   {
    "duration": 0,
    "start_time": "2024-04-18T17:00:10.247Z"
   },
   {
    "duration": 0,
    "start_time": "2024-04-18T17:00:10.248Z"
   },
   {
    "duration": 0,
    "start_time": "2024-04-18T17:00:10.249Z"
   },
   {
    "duration": 0,
    "start_time": "2024-04-18T17:00:10.250Z"
   },
   {
    "duration": 0,
    "start_time": "2024-04-18T17:00:10.251Z"
   },
   {
    "duration": 0,
    "start_time": "2024-04-18T17:00:10.253Z"
   },
   {
    "duration": 0,
    "start_time": "2024-04-18T17:00:10.292Z"
   },
   {
    "duration": 0,
    "start_time": "2024-04-18T17:00:10.293Z"
   },
   {
    "duration": 0,
    "start_time": "2024-04-18T17:00:10.294Z"
   },
   {
    "duration": 0,
    "start_time": "2024-04-18T17:00:10.295Z"
   },
   {
    "duration": 0,
    "start_time": "2024-04-18T17:00:10.296Z"
   },
   {
    "duration": 0,
    "start_time": "2024-04-18T17:00:10.297Z"
   },
   {
    "duration": 0,
    "start_time": "2024-04-18T17:00:10.298Z"
   },
   {
    "duration": 0,
    "start_time": "2024-04-18T17:00:10.300Z"
   },
   {
    "duration": 0,
    "start_time": "2024-04-18T17:00:10.301Z"
   },
   {
    "duration": 0,
    "start_time": "2024-04-18T17:00:10.302Z"
   },
   {
    "duration": 0,
    "start_time": "2024-04-18T17:00:10.303Z"
   },
   {
    "duration": 0,
    "start_time": "2024-04-18T17:00:10.304Z"
   },
   {
    "duration": 0,
    "start_time": "2024-04-18T17:00:10.306Z"
   },
   {
    "duration": 0,
    "start_time": "2024-04-18T17:00:10.307Z"
   },
   {
    "duration": 0,
    "start_time": "2024-04-18T17:00:10.308Z"
   },
   {
    "duration": 0,
    "start_time": "2024-04-18T17:00:10.310Z"
   },
   {
    "duration": 0,
    "start_time": "2024-04-18T17:00:10.311Z"
   },
   {
    "duration": 0,
    "start_time": "2024-04-18T17:00:10.313Z"
   },
   {
    "duration": 0,
    "start_time": "2024-04-18T17:00:10.314Z"
   },
   {
    "duration": 0,
    "start_time": "2024-04-18T17:00:10.315Z"
   },
   {
    "duration": 0,
    "start_time": "2024-04-18T17:00:10.317Z"
   },
   {
    "duration": 11,
    "start_time": "2024-04-18T17:02:07.363Z"
   },
   {
    "duration": 17,
    "start_time": "2024-04-18T17:02:11.619Z"
   },
   {
    "duration": 15886,
    "start_time": "2024-04-18T17:02:27.344Z"
   },
   {
    "duration": 1899,
    "start_time": "2024-04-18T17:02:43.233Z"
   },
   {
    "duration": 87,
    "start_time": "2024-04-18T17:02:45.134Z"
   },
   {
    "duration": 335,
    "start_time": "2024-04-18T17:02:45.223Z"
   },
   {
    "duration": 12,
    "start_time": "2024-04-18T17:02:45.560Z"
   },
   {
    "duration": 43,
    "start_time": "2024-04-18T17:02:45.574Z"
   },
   {
    "duration": 27,
    "start_time": "2024-04-18T17:02:45.619Z"
   },
   {
    "duration": 33,
    "start_time": "2024-04-18T17:02:45.648Z"
   },
   {
    "duration": 19,
    "start_time": "2024-04-18T17:02:45.683Z"
   },
   {
    "duration": 48,
    "start_time": "2024-04-18T17:02:45.706Z"
   },
   {
    "duration": 77,
    "start_time": "2024-04-18T17:02:45.756Z"
   },
   {
    "duration": 42,
    "start_time": "2024-04-18T17:02:45.835Z"
   },
   {
    "duration": 30,
    "start_time": "2024-04-18T17:02:45.879Z"
   },
   {
    "duration": 17,
    "start_time": "2024-04-18T17:02:45.911Z"
   },
   {
    "duration": 7,
    "start_time": "2024-04-18T17:02:45.930Z"
   },
   {
    "duration": 12,
    "start_time": "2024-04-18T17:02:45.939Z"
   },
   {
    "duration": 8,
    "start_time": "2024-04-18T17:02:45.953Z"
   },
   {
    "duration": 13,
    "start_time": "2024-04-18T17:02:45.962Z"
   },
   {
    "duration": 12,
    "start_time": "2024-04-18T17:02:45.977Z"
   },
   {
    "duration": 55,
    "start_time": "2024-04-18T17:02:45.991Z"
   },
   {
    "duration": 140,
    "start_time": "2024-04-18T17:02:46.048Z"
   },
   {
    "duration": 106,
    "start_time": "2024-04-18T17:02:46.190Z"
   },
   {
    "duration": 93,
    "start_time": "2024-04-18T17:02:46.298Z"
   },
   {
    "duration": 84,
    "start_time": "2024-04-18T17:02:46.393Z"
   },
   {
    "duration": 151,
    "start_time": "2024-04-18T17:02:46.491Z"
   },
   {
    "duration": 136,
    "start_time": "2024-04-18T17:02:46.644Z"
   },
   {
    "duration": 239,
    "start_time": "2024-04-18T17:02:46.782Z"
   },
   {
    "duration": 419,
    "start_time": "2024-04-18T17:02:47.026Z"
   },
   {
    "duration": 270,
    "start_time": "2024-04-18T17:02:47.447Z"
   },
   {
    "duration": 153,
    "start_time": "2024-04-18T17:02:47.719Z"
   },
   {
    "duration": 193,
    "start_time": "2024-04-18T17:02:47.874Z"
   },
   {
    "duration": 215,
    "start_time": "2024-04-18T17:02:48.069Z"
   },
   {
    "duration": 315,
    "start_time": "2024-04-18T17:02:48.286Z"
   },
   {
    "duration": 175,
    "start_time": "2024-04-18T17:02:48.603Z"
   },
   {
    "duration": 26,
    "start_time": "2024-04-18T17:02:48.780Z"
   },
   {
    "duration": 166,
    "start_time": "2024-04-18T17:02:48.808Z"
   },
   {
    "duration": 18,
    "start_time": "2024-04-18T17:02:48.975Z"
   },
   {
    "duration": 21,
    "start_time": "2024-04-18T17:02:48.995Z"
   },
   {
    "duration": 10,
    "start_time": "2024-04-18T17:02:49.018Z"
   },
   {
    "duration": 6,
    "start_time": "2024-04-18T17:02:49.030Z"
   },
   {
    "duration": 256,
    "start_time": "2024-04-18T17:02:49.037Z"
   },
   {
    "duration": 5,
    "start_time": "2024-04-18T17:02:49.295Z"
   },
   {
    "duration": 372,
    "start_time": "2024-04-18T17:02:49.301Z"
   },
   {
    "duration": 30,
    "start_time": "2024-04-18T17:02:49.674Z"
   },
   {
    "duration": 55,
    "start_time": "2024-04-18T17:02:49.706Z"
   },
   {
    "duration": 334,
    "start_time": "2024-04-18T17:02:49.762Z"
   },
   {
    "duration": 20,
    "start_time": "2024-04-18T17:02:50.098Z"
   },
   {
    "duration": 42,
    "start_time": "2024-04-18T17:02:50.119Z"
   },
   {
    "duration": 46,
    "start_time": "2024-04-18T17:02:50.163Z"
   },
   {
    "duration": 67,
    "start_time": "2024-04-18T17:02:50.211Z"
   },
   {
    "duration": 1619,
    "start_time": "2024-04-18T17:02:50.280Z"
   },
   {
    "duration": 3827,
    "start_time": "2024-04-18T17:02:51.901Z"
   },
   {
    "duration": 7,
    "start_time": "2024-04-18T17:02:55.731Z"
   },
   {
    "duration": 8,
    "start_time": "2024-04-18T17:02:55.740Z"
   },
   {
    "duration": 150,
    "start_time": "2024-04-18T17:02:55.749Z"
   },
   {
    "duration": 9,
    "start_time": "2024-04-18T17:02:55.901Z"
   },
   {
    "duration": 12,
    "start_time": "2024-04-18T17:02:55.912Z"
   },
   {
    "duration": 445,
    "start_time": "2024-04-18T17:02:55.927Z"
   },
   {
    "duration": 5,
    "start_time": "2024-04-18T17:02:56.373Z"
   },
   {
    "duration": 23,
    "start_time": "2024-04-18T17:02:56.380Z"
   },
   {
    "duration": 6,
    "start_time": "2024-04-18T17:02:56.406Z"
   },
   {
    "duration": 17,
    "start_time": "2024-04-18T17:02:56.415Z"
   },
   {
    "duration": 16,
    "start_time": "2024-04-18T17:02:56.434Z"
   },
   {
    "duration": 11,
    "start_time": "2024-04-18T17:02:56.453Z"
   },
   {
    "duration": 1923,
    "start_time": "2024-04-18T17:02:56.466Z"
   },
   {
    "duration": 20,
    "start_time": "2024-04-18T17:02:58.391Z"
   },
   {
    "duration": 63,
    "start_time": "2024-04-18T17:02:58.413Z"
   },
   {
    "duration": 52,
    "start_time": "2024-04-18T17:02:58.478Z"
   },
   {
    "duration": 23,
    "start_time": "2024-04-18T17:02:58.532Z"
   },
   {
    "duration": 12,
    "start_time": "2024-04-18T17:02:58.557Z"
   },
   {
    "duration": 145,
    "start_time": "2024-04-18T17:02:58.570Z"
   },
   {
    "duration": 5,
    "start_time": "2024-04-18T17:02:58.717Z"
   },
   {
    "duration": 22,
    "start_time": "2024-04-18T17:02:58.724Z"
   },
   {
    "duration": 732,
    "start_time": "2024-04-18T17:02:58.747Z"
   },
   {
    "duration": 1037,
    "start_time": "2024-04-18T17:02:59.481Z"
   },
   {
    "duration": 3,
    "start_time": "2024-04-18T17:03:00.520Z"
   },
   {
    "duration": 102,
    "start_time": "2024-04-18T17:03:00.525Z"
   },
   {
    "duration": 255,
    "start_time": "2024-04-18T17:03:00.628Z"
   },
   {
    "duration": 219,
    "start_time": "2024-04-18T17:03:00.885Z"
   },
   {
    "duration": 410,
    "start_time": "2024-04-18T17:03:01.106Z"
   },
   {
    "duration": 296,
    "start_time": "2024-04-18T17:03:01.518Z"
   },
   {
    "duration": 454,
    "start_time": "2024-04-18T17:03:01.821Z"
   },
   {
    "duration": 15,
    "start_time": "2024-04-18T17:03:02.276Z"
   },
   {
    "duration": 568,
    "start_time": "2024-04-18T17:03:02.293Z"
   },
   {
    "duration": 72,
    "start_time": "2024-04-18T17:03:02.863Z"
   },
   {
    "duration": 119,
    "start_time": "2024-04-18T17:03:02.937Z"
   },
   {
    "duration": 170,
    "start_time": "2024-04-18T17:03:03.058Z"
   },
   {
    "duration": 121,
    "start_time": "2024-04-18T17:03:03.229Z"
   },
   {
    "duration": 179,
    "start_time": "2024-04-18T17:03:03.352Z"
   },
   {
    "duration": 202,
    "start_time": "2024-04-18T17:03:03.532Z"
   },
   {
    "duration": 144,
    "start_time": "2024-04-18T17:03:03.735Z"
   },
   {
    "duration": 10,
    "start_time": "2024-04-18T17:04:38.701Z"
   },
   {
    "duration": 19,
    "start_time": "2024-04-18T17:04:41.618Z"
   },
   {
    "duration": 47,
    "start_time": "2024-04-18T17:04:46.598Z"
   },
   {
    "duration": 10,
    "start_time": "2024-04-18T17:05:50.367Z"
   },
   {
    "duration": 19,
    "start_time": "2024-04-18T17:05:52.915Z"
   },
   {
    "duration": 42,
    "start_time": "2024-04-18T17:05:54.188Z"
   },
   {
    "duration": 187,
    "start_time": "2024-04-18T17:06:33.388Z"
   },
   {
    "duration": 43,
    "start_time": "2024-04-18T17:06:56.996Z"
   },
   {
    "duration": 5,
    "start_time": "2024-04-18T17:08:49.490Z"
   },
   {
    "duration": 18,
    "start_time": "2024-04-18T17:17:13.669Z"
   },
   {
    "duration": 15,
    "start_time": "2024-04-18T17:18:19.001Z"
   },
   {
    "duration": 10,
    "start_time": "2024-04-18T17:24:53.040Z"
   },
   {
    "duration": 6,
    "start_time": "2024-04-18T17:24:56.639Z"
   },
   {
    "duration": 11,
    "start_time": "2024-04-18T17:25:14.301Z"
   },
   {
    "duration": 11,
    "start_time": "2024-04-18T17:25:26.498Z"
   },
   {
    "duration": 5,
    "start_time": "2024-04-18T17:25:36.323Z"
   },
   {
    "duration": 11,
    "start_time": "2024-04-18T17:26:28.463Z"
   },
   {
    "duration": 15715,
    "start_time": "2024-04-18T17:26:43.298Z"
   },
   {
    "duration": 1834,
    "start_time": "2024-04-18T17:26:59.015Z"
   },
   {
    "duration": 86,
    "start_time": "2024-04-18T17:27:00.851Z"
   },
   {
    "duration": 110,
    "start_time": "2024-04-18T17:27:00.939Z"
   },
   {
    "duration": 94,
    "start_time": "2024-04-18T17:27:01.051Z"
   },
   {
    "duration": 222,
    "start_time": "2024-04-18T17:27:01.147Z"
   },
   {
    "duration": 193,
    "start_time": "2024-04-18T17:27:01.371Z"
   },
   {
    "duration": 62,
    "start_time": "2024-04-18T17:27:01.566Z"
   },
   {
    "duration": 129,
    "start_time": "2024-04-18T17:27:01.629Z"
   },
   {
    "duration": 194,
    "start_time": "2024-04-18T17:27:01.761Z"
   },
   {
    "duration": 58,
    "start_time": "2024-04-18T17:27:01.956Z"
   },
   {
    "duration": 63,
    "start_time": "2024-04-18T17:27:02.015Z"
   },
   {
    "duration": 102,
    "start_time": "2024-04-18T17:27:02.080Z"
   },
   {
    "duration": 99,
    "start_time": "2024-04-18T17:27:02.183Z"
   },
   {
    "duration": 223,
    "start_time": "2024-04-18T17:27:02.284Z"
   },
   {
    "duration": 551,
    "start_time": "2024-04-18T17:27:02.508Z"
   },
   {
    "duration": 343,
    "start_time": "2024-04-18T17:27:03.061Z"
   },
   {
    "duration": 35,
    "start_time": "2024-04-18T17:27:03.406Z"
   },
   {
    "duration": 24,
    "start_time": "2024-04-18T17:27:03.443Z"
   },
   {
    "duration": 56,
    "start_time": "2024-04-18T17:27:03.469Z"
   },
   {
    "duration": 95,
    "start_time": "2024-04-18T17:27:03.527Z"
   },
   {
    "duration": 100,
    "start_time": "2024-04-18T17:27:03.625Z"
   },
   {
    "duration": 84,
    "start_time": "2024-04-18T17:27:03.727Z"
   },
   {
    "duration": 92,
    "start_time": "2024-04-18T17:27:03.813Z"
   },
   {
    "duration": 140,
    "start_time": "2024-04-18T17:27:03.907Z"
   },
   {
    "duration": 134,
    "start_time": "2024-04-18T17:27:04.048Z"
   },
   {
    "duration": 244,
    "start_time": "2024-04-18T17:27:04.184Z"
   },
   {
    "duration": 380,
    "start_time": "2024-04-18T17:27:04.432Z"
   },
   {
    "duration": 223,
    "start_time": "2024-04-18T17:27:04.813Z"
   },
   {
    "duration": 114,
    "start_time": "2024-04-18T17:27:05.038Z"
   },
   {
    "duration": 183,
    "start_time": "2024-04-18T17:27:05.153Z"
   },
   {
    "duration": 200,
    "start_time": "2024-04-18T17:27:05.338Z"
   },
   {
    "duration": 284,
    "start_time": "2024-04-18T17:27:05.540Z"
   },
   {
    "duration": 192,
    "start_time": "2024-04-18T17:27:05.826Z"
   },
   {
    "duration": 21,
    "start_time": "2024-04-18T17:27:06.020Z"
   },
   {
    "duration": 162,
    "start_time": "2024-04-18T17:27:06.043Z"
   },
   {
    "duration": 11,
    "start_time": "2024-04-18T17:27:06.206Z"
   },
   {
    "duration": 35,
    "start_time": "2024-04-18T17:27:06.219Z"
   },
   {
    "duration": 37,
    "start_time": "2024-04-18T17:27:06.256Z"
   },
   {
    "duration": 7,
    "start_time": "2024-04-18T17:27:06.295Z"
   },
   {
    "duration": 225,
    "start_time": "2024-04-18T17:27:06.303Z"
   },
   {
    "duration": 5,
    "start_time": "2024-04-18T17:27:06.530Z"
   },
   {
    "duration": 352,
    "start_time": "2024-04-18T17:27:06.537Z"
   },
   {
    "duration": 20,
    "start_time": "2024-04-18T17:27:06.892Z"
   },
   {
    "duration": 27,
    "start_time": "2024-04-18T17:27:06.914Z"
   },
   {
    "duration": 285,
    "start_time": "2024-04-18T17:27:06.943Z"
   },
   {
    "duration": 18,
    "start_time": "2024-04-18T17:27:07.230Z"
   },
   {
    "duration": 12,
    "start_time": "2024-04-18T17:27:07.250Z"
   },
   {
    "duration": 193,
    "start_time": "2024-04-18T17:27:07.264Z"
   },
   {
    "duration": 0,
    "start_time": "2024-04-18T17:27:07.459Z"
   },
   {
    "duration": 0,
    "start_time": "2024-04-18T17:27:07.460Z"
   },
   {
    "duration": 0,
    "start_time": "2024-04-18T17:27:07.461Z"
   },
   {
    "duration": 0,
    "start_time": "2024-04-18T17:27:07.462Z"
   },
   {
    "duration": 1,
    "start_time": "2024-04-18T17:27:07.463Z"
   },
   {
    "duration": 0,
    "start_time": "2024-04-18T17:27:07.465Z"
   },
   {
    "duration": 0,
    "start_time": "2024-04-18T17:27:07.466Z"
   },
   {
    "duration": 0,
    "start_time": "2024-04-18T17:27:07.468Z"
   },
   {
    "duration": 0,
    "start_time": "2024-04-18T17:27:07.469Z"
   },
   {
    "duration": 0,
    "start_time": "2024-04-18T17:27:07.470Z"
   },
   {
    "duration": 0,
    "start_time": "2024-04-18T17:27:07.492Z"
   },
   {
    "duration": 0,
    "start_time": "2024-04-18T17:27:07.493Z"
   },
   {
    "duration": 0,
    "start_time": "2024-04-18T17:27:07.494Z"
   },
   {
    "duration": 0,
    "start_time": "2024-04-18T17:27:07.495Z"
   },
   {
    "duration": 0,
    "start_time": "2024-04-18T17:27:07.496Z"
   },
   {
    "duration": 0,
    "start_time": "2024-04-18T17:27:07.497Z"
   },
   {
    "duration": 0,
    "start_time": "2024-04-18T17:27:07.498Z"
   },
   {
    "duration": 0,
    "start_time": "2024-04-18T17:27:07.500Z"
   },
   {
    "duration": 0,
    "start_time": "2024-04-18T17:27:07.501Z"
   },
   {
    "duration": 1,
    "start_time": "2024-04-18T17:27:07.502Z"
   },
   {
    "duration": 0,
    "start_time": "2024-04-18T17:27:07.504Z"
   },
   {
    "duration": 0,
    "start_time": "2024-04-18T17:27:07.505Z"
   },
   {
    "duration": 0,
    "start_time": "2024-04-18T17:27:07.506Z"
   },
   {
    "duration": 0,
    "start_time": "2024-04-18T17:27:07.507Z"
   },
   {
    "duration": 0,
    "start_time": "2024-04-18T17:27:07.508Z"
   },
   {
    "duration": 0,
    "start_time": "2024-04-18T17:27:07.509Z"
   },
   {
    "duration": 0,
    "start_time": "2024-04-18T17:27:07.510Z"
   },
   {
    "duration": 0,
    "start_time": "2024-04-18T17:27:07.511Z"
   },
   {
    "duration": 0,
    "start_time": "2024-04-18T17:27:07.513Z"
   },
   {
    "duration": 0,
    "start_time": "2024-04-18T17:27:07.514Z"
   },
   {
    "duration": 0,
    "start_time": "2024-04-18T17:27:07.515Z"
   },
   {
    "duration": 0,
    "start_time": "2024-04-18T17:27:07.516Z"
   },
   {
    "duration": 0,
    "start_time": "2024-04-18T17:27:07.517Z"
   },
   {
    "duration": 0,
    "start_time": "2024-04-18T17:27:07.518Z"
   },
   {
    "duration": 0,
    "start_time": "2024-04-18T17:27:07.520Z"
   },
   {
    "duration": 0,
    "start_time": "2024-04-18T17:27:07.521Z"
   },
   {
    "duration": 0,
    "start_time": "2024-04-18T17:27:07.523Z"
   },
   {
    "duration": 0,
    "start_time": "2024-04-18T17:27:07.524Z"
   },
   {
    "duration": 0,
    "start_time": "2024-04-18T17:27:07.525Z"
   },
   {
    "duration": 0,
    "start_time": "2024-04-18T17:27:07.527Z"
   },
   {
    "duration": 1,
    "start_time": "2024-04-18T17:27:07.598Z"
   },
   {
    "duration": 0,
    "start_time": "2024-04-18T17:27:07.600Z"
   },
   {
    "duration": 0,
    "start_time": "2024-04-18T17:27:07.602Z"
   },
   {
    "duration": 0,
    "start_time": "2024-04-18T17:27:07.603Z"
   },
   {
    "duration": 0,
    "start_time": "2024-04-18T17:27:07.605Z"
   },
   {
    "duration": 28,
    "start_time": "2024-04-18T17:27:47.694Z"
   },
   {
    "duration": 5,
    "start_time": "2024-04-18T17:28:04.370Z"
   },
   {
    "duration": 4,
    "start_time": "2024-04-18T17:28:08.732Z"
   },
   {
    "duration": 7,
    "start_time": "2024-04-18T17:28:36.493Z"
   },
   {
    "duration": 6,
    "start_time": "2024-04-18T17:28:39.147Z"
   },
   {
    "duration": 7,
    "start_time": "2024-04-18T17:29:01.659Z"
   },
   {
    "duration": 4,
    "start_time": "2024-04-18T17:29:03.197Z"
   },
   {
    "duration": 21,
    "start_time": "2024-04-18T17:29:41.931Z"
   },
   {
    "duration": 49,
    "start_time": "2024-04-18T18:17:07.202Z"
   },
   {
    "duration": 16299,
    "start_time": "2024-04-18T18:17:46.159Z"
   },
   {
    "duration": 1843,
    "start_time": "2024-04-18T18:18:02.460Z"
   },
   {
    "duration": 85,
    "start_time": "2024-04-18T18:18:04.304Z"
   },
   {
    "duration": 32,
    "start_time": "2024-04-18T18:18:04.391Z"
   },
   {
    "duration": 13,
    "start_time": "2024-04-18T18:18:04.425Z"
   },
   {
    "duration": 37,
    "start_time": "2024-04-18T18:18:04.440Z"
   },
   {
    "duration": 26,
    "start_time": "2024-04-18T18:18:04.478Z"
   },
   {
    "duration": 41,
    "start_time": "2024-04-18T18:18:04.505Z"
   },
   {
    "duration": 26,
    "start_time": "2024-04-18T18:18:04.548Z"
   },
   {
    "duration": 28,
    "start_time": "2024-04-18T18:18:04.576Z"
   },
   {
    "duration": 42,
    "start_time": "2024-04-18T18:18:04.606Z"
   },
   {
    "duration": 19,
    "start_time": "2024-04-18T18:18:04.649Z"
   },
   {
    "duration": 46,
    "start_time": "2024-04-18T18:18:04.669Z"
   },
   {
    "duration": 39,
    "start_time": "2024-04-18T18:18:04.716Z"
   },
   {
    "duration": 45,
    "start_time": "2024-04-18T18:18:04.756Z"
   },
   {
    "duration": 22,
    "start_time": "2024-04-18T18:18:04.803Z"
   },
   {
    "duration": 41,
    "start_time": "2024-04-18T18:18:04.827Z"
   },
   {
    "duration": 24,
    "start_time": "2024-04-18T18:18:04.870Z"
   },
   {
    "duration": 32,
    "start_time": "2024-04-18T18:18:04.896Z"
   },
   {
    "duration": 46,
    "start_time": "2024-04-18T18:18:04.930Z"
   },
   {
    "duration": 94,
    "start_time": "2024-04-18T18:18:04.978Z"
   },
   {
    "duration": 107,
    "start_time": "2024-04-18T18:18:05.073Z"
   },
   {
    "duration": 78,
    "start_time": "2024-04-18T18:18:05.182Z"
   },
   {
    "duration": 95,
    "start_time": "2024-04-18T18:18:05.262Z"
   },
   {
    "duration": 149,
    "start_time": "2024-04-18T18:18:05.359Z"
   },
   {
    "duration": 121,
    "start_time": "2024-04-18T18:18:05.510Z"
   },
   {
    "duration": 236,
    "start_time": "2024-04-18T18:18:05.633Z"
   },
   {
    "duration": 403,
    "start_time": "2024-04-18T18:18:05.874Z"
   },
   {
    "duration": 251,
    "start_time": "2024-04-18T18:18:06.279Z"
   },
   {
    "duration": 125,
    "start_time": "2024-04-18T18:18:06.532Z"
   },
   {
    "duration": 193,
    "start_time": "2024-04-18T18:18:06.658Z"
   },
   {
    "duration": 197,
    "start_time": "2024-04-18T18:18:06.853Z"
   },
   {
    "duration": 308,
    "start_time": "2024-04-18T18:18:07.052Z"
   },
   {
    "duration": 180,
    "start_time": "2024-04-18T18:18:07.362Z"
   },
   {
    "duration": 21,
    "start_time": "2024-04-18T18:18:07.544Z"
   },
   {
    "duration": 183,
    "start_time": "2024-04-18T18:18:07.567Z"
   },
   {
    "duration": 14,
    "start_time": "2024-04-18T18:18:07.751Z"
   },
   {
    "duration": 27,
    "start_time": "2024-04-18T18:18:07.767Z"
   },
   {
    "duration": 6,
    "start_time": "2024-04-18T18:18:07.796Z"
   },
   {
    "duration": 14,
    "start_time": "2024-04-18T18:18:07.804Z"
   },
   {
    "duration": 269,
    "start_time": "2024-04-18T18:18:07.820Z"
   },
   {
    "duration": 6,
    "start_time": "2024-04-18T18:18:08.091Z"
   },
   {
    "duration": 361,
    "start_time": "2024-04-18T18:18:08.098Z"
   },
   {
    "duration": 31,
    "start_time": "2024-04-18T18:18:08.461Z"
   },
   {
    "duration": 20,
    "start_time": "2024-04-18T18:18:08.493Z"
   },
   {
    "duration": 274,
    "start_time": "2024-04-18T18:18:08.515Z"
   },
   {
    "duration": 17,
    "start_time": "2024-04-18T18:18:08.791Z"
   },
   {
    "duration": 9,
    "start_time": "2024-04-18T18:18:08.810Z"
   },
   {
    "duration": 22,
    "start_time": "2024-04-18T18:18:08.820Z"
   },
   {
    "duration": 16,
    "start_time": "2024-04-18T18:18:08.843Z"
   },
   {
    "duration": 25,
    "start_time": "2024-04-18T18:18:08.860Z"
   },
   {
    "duration": 49,
    "start_time": "2024-04-18T18:18:08.887Z"
   },
   {
    "duration": 1550,
    "start_time": "2024-04-18T18:18:08.938Z"
   },
   {
    "duration": 3769,
    "start_time": "2024-04-18T18:18:10.489Z"
   },
   {
    "duration": 5,
    "start_time": "2024-04-18T18:18:14.259Z"
   },
   {
    "duration": 10,
    "start_time": "2024-04-18T18:18:14.265Z"
   },
   {
    "duration": 117,
    "start_time": "2024-04-18T18:18:14.277Z"
   },
   {
    "duration": 8,
    "start_time": "2024-04-18T18:18:14.395Z"
   },
   {
    "duration": 18,
    "start_time": "2024-04-18T18:18:14.405Z"
   },
   {
    "duration": 403,
    "start_time": "2024-04-18T18:18:14.424Z"
   },
   {
    "duration": 3,
    "start_time": "2024-04-18T18:18:14.830Z"
   },
   {
    "duration": 15,
    "start_time": "2024-04-18T18:18:14.835Z"
   },
   {
    "duration": 22,
    "start_time": "2024-04-18T18:18:14.852Z"
   },
   {
    "duration": 22,
    "start_time": "2024-04-18T18:18:14.876Z"
   },
   {
    "duration": 7,
    "start_time": "2024-04-18T18:18:14.900Z"
   },
   {
    "duration": 7,
    "start_time": "2024-04-18T18:18:14.908Z"
   },
   {
    "duration": 948,
    "start_time": "2024-04-18T18:18:14.916Z"
   },
   {
    "duration": 27,
    "start_time": "2024-04-18T18:18:15.866Z"
   },
   {
    "duration": 57,
    "start_time": "2024-04-18T18:18:15.895Z"
   },
   {
    "duration": 102,
    "start_time": "2024-04-18T18:18:15.953Z"
   },
   {
    "duration": 56,
    "start_time": "2024-04-18T18:18:16.057Z"
   },
   {
    "duration": 19,
    "start_time": "2024-04-18T18:18:16.114Z"
   },
   {
    "duration": 183,
    "start_time": "2024-04-18T18:18:16.135Z"
   },
   {
    "duration": 0,
    "start_time": "2024-04-18T18:18:16.320Z"
   },
   {
    "duration": 0,
    "start_time": "2024-04-18T18:18:16.322Z"
   },
   {
    "duration": 0,
    "start_time": "2024-04-18T18:18:16.323Z"
   },
   {
    "duration": 0,
    "start_time": "2024-04-18T18:18:16.324Z"
   },
   {
    "duration": 0,
    "start_time": "2024-04-18T18:18:16.326Z"
   },
   {
    "duration": 0,
    "start_time": "2024-04-18T18:18:16.327Z"
   },
   {
    "duration": 0,
    "start_time": "2024-04-18T18:18:16.329Z"
   },
   {
    "duration": 0,
    "start_time": "2024-04-18T18:18:16.330Z"
   },
   {
    "duration": 0,
    "start_time": "2024-04-18T18:18:16.331Z"
   },
   {
    "duration": 0,
    "start_time": "2024-04-18T18:18:16.334Z"
   },
   {
    "duration": 0,
    "start_time": "2024-04-18T18:18:16.335Z"
   },
   {
    "duration": 0,
    "start_time": "2024-04-18T18:18:16.336Z"
   },
   {
    "duration": 0,
    "start_time": "2024-04-18T18:18:16.337Z"
   },
   {
    "duration": 0,
    "start_time": "2024-04-18T18:18:16.339Z"
   },
   {
    "duration": 0,
    "start_time": "2024-04-18T18:18:16.340Z"
   },
   {
    "duration": 0,
    "start_time": "2024-04-18T18:18:16.341Z"
   },
   {
    "duration": 0,
    "start_time": "2024-04-18T18:18:16.342Z"
   },
   {
    "duration": 0,
    "start_time": "2024-04-18T18:18:16.344Z"
   },
   {
    "duration": 0,
    "start_time": "2024-04-18T18:18:16.344Z"
   },
   {
    "duration": 0,
    "start_time": "2024-04-18T18:18:16.345Z"
   },
   {
    "duration": 11,
    "start_time": "2024-04-18T18:21:13.853Z"
   },
   {
    "duration": 5,
    "start_time": "2024-04-18T18:21:30.897Z"
   },
   {
    "duration": 6,
    "start_time": "2024-04-18T18:21:44.674Z"
   },
   {
    "duration": 20,
    "start_time": "2024-04-18T18:21:48.676Z"
   },
   {
    "duration": 46,
    "start_time": "2024-04-18T18:21:49.872Z"
   },
   {
    "duration": 15698,
    "start_time": "2024-04-18T18:22:00.444Z"
   },
   {
    "duration": 1790,
    "start_time": "2024-04-18T18:22:16.145Z"
   },
   {
    "duration": 86,
    "start_time": "2024-04-18T18:22:17.937Z"
   },
   {
    "duration": 33,
    "start_time": "2024-04-18T18:22:18.025Z"
   },
   {
    "duration": 30,
    "start_time": "2024-04-18T18:22:18.059Z"
   },
   {
    "duration": 47,
    "start_time": "2024-04-18T18:22:18.091Z"
   },
   {
    "duration": 41,
    "start_time": "2024-04-18T18:22:18.139Z"
   },
   {
    "duration": 43,
    "start_time": "2024-04-18T18:22:18.181Z"
   },
   {
    "duration": 59,
    "start_time": "2024-04-18T18:22:18.226Z"
   },
   {
    "duration": 28,
    "start_time": "2024-04-18T18:22:18.288Z"
   },
   {
    "duration": 18,
    "start_time": "2024-04-18T18:22:18.317Z"
   },
   {
    "duration": 10,
    "start_time": "2024-04-18T18:22:18.337Z"
   },
   {
    "duration": 11,
    "start_time": "2024-04-18T18:22:18.348Z"
   },
   {
    "duration": 37,
    "start_time": "2024-04-18T18:22:18.361Z"
   },
   {
    "duration": 44,
    "start_time": "2024-04-18T18:22:18.400Z"
   },
   {
    "duration": 45,
    "start_time": "2024-04-18T18:22:18.446Z"
   },
   {
    "duration": 13,
    "start_time": "2024-04-18T18:22:18.494Z"
   },
   {
    "duration": 15,
    "start_time": "2024-04-18T18:22:18.509Z"
   },
   {
    "duration": 14,
    "start_time": "2024-04-18T18:22:18.525Z"
   },
   {
    "duration": 58,
    "start_time": "2024-04-18T18:22:18.540Z"
   },
   {
    "duration": 94,
    "start_time": "2024-04-18T18:22:18.599Z"
   },
   {
    "duration": 102,
    "start_time": "2024-04-18T18:22:18.694Z"
   },
   {
    "duration": 71,
    "start_time": "2024-04-18T18:22:18.798Z"
   },
   {
    "duration": 95,
    "start_time": "2024-04-18T18:22:18.871Z"
   },
   {
    "duration": 141,
    "start_time": "2024-04-18T18:22:18.968Z"
   },
   {
    "duration": 125,
    "start_time": "2024-04-18T18:22:19.110Z"
   },
   {
    "duration": 219,
    "start_time": "2024-04-18T18:22:19.236Z"
   },
   {
    "duration": 404,
    "start_time": "2024-04-18T18:22:19.459Z"
   },
   {
    "duration": 255,
    "start_time": "2024-04-18T18:22:19.865Z"
   },
   {
    "duration": 125,
    "start_time": "2024-04-18T18:22:20.122Z"
   },
   {
    "duration": 178,
    "start_time": "2024-04-18T18:22:20.248Z"
   },
   {
    "duration": 187,
    "start_time": "2024-04-18T18:22:20.427Z"
   },
   {
    "duration": 302,
    "start_time": "2024-04-18T18:22:20.615Z"
   },
   {
    "duration": 184,
    "start_time": "2024-04-18T18:22:20.918Z"
   },
   {
    "duration": 21,
    "start_time": "2024-04-18T18:22:21.104Z"
   },
   {
    "duration": 178,
    "start_time": "2024-04-18T18:22:21.126Z"
   },
   {
    "duration": 12,
    "start_time": "2024-04-18T18:22:21.306Z"
   },
   {
    "duration": 53,
    "start_time": "2024-04-18T18:22:21.319Z"
   },
   {
    "duration": 43,
    "start_time": "2024-04-18T18:22:21.374Z"
   },
   {
    "duration": 48,
    "start_time": "2024-04-18T18:22:21.419Z"
   },
   {
    "duration": 257,
    "start_time": "2024-04-18T18:22:21.469Z"
   },
   {
    "duration": 5,
    "start_time": "2024-04-18T18:22:21.728Z"
   },
   {
    "duration": 380,
    "start_time": "2024-04-18T18:22:21.735Z"
   },
   {
    "duration": 20,
    "start_time": "2024-04-18T18:22:22.117Z"
   },
   {
    "duration": 73,
    "start_time": "2024-04-18T18:22:22.138Z"
   },
   {
    "duration": 289,
    "start_time": "2024-04-18T18:22:22.212Z"
   },
   {
    "duration": 18,
    "start_time": "2024-04-18T18:22:22.503Z"
   },
   {
    "duration": 40,
    "start_time": "2024-04-18T18:22:22.523Z"
   },
   {
    "duration": 27,
    "start_time": "2024-04-18T18:22:22.565Z"
   },
   {
    "duration": 34,
    "start_time": "2024-04-18T18:22:22.593Z"
   },
   {
    "duration": 34,
    "start_time": "2024-04-18T18:22:22.629Z"
   },
   {
    "duration": 21,
    "start_time": "2024-04-18T18:22:22.664Z"
   },
   {
    "duration": 42,
    "start_time": "2024-04-18T18:22:22.687Z"
   },
   {
    "duration": 72,
    "start_time": "2024-04-18T18:22:22.731Z"
   },
   {
    "duration": 1591,
    "start_time": "2024-04-18T18:22:22.806Z"
   },
   {
    "duration": 3800,
    "start_time": "2024-04-18T18:22:24.398Z"
   },
   {
    "duration": 5,
    "start_time": "2024-04-18T18:22:28.200Z"
   },
   {
    "duration": 31,
    "start_time": "2024-04-18T18:22:28.206Z"
   },
   {
    "duration": 103,
    "start_time": "2024-04-18T18:22:28.240Z"
   },
   {
    "duration": 8,
    "start_time": "2024-04-18T18:22:28.344Z"
   },
   {
    "duration": 18,
    "start_time": "2024-04-18T18:22:28.354Z"
   },
   {
    "duration": 389,
    "start_time": "2024-04-18T18:22:28.373Z"
   },
   {
    "duration": 4,
    "start_time": "2024-04-18T18:22:28.763Z"
   },
   {
    "duration": 8,
    "start_time": "2024-04-18T18:22:28.768Z"
   },
   {
    "duration": 6,
    "start_time": "2024-04-18T18:22:28.777Z"
   },
   {
    "duration": 8,
    "start_time": "2024-04-18T18:22:28.784Z"
   },
   {
    "duration": 12,
    "start_time": "2024-04-18T18:22:28.794Z"
   },
   {
    "duration": 7,
    "start_time": "2024-04-18T18:22:28.808Z"
   },
   {
    "duration": 1582,
    "start_time": "2024-04-18T18:22:28.816Z"
   },
   {
    "duration": 20,
    "start_time": "2024-04-18T18:22:30.400Z"
   },
   {
    "duration": 450,
    "start_time": "2024-04-18T18:22:30.422Z"
   },
   {
    "duration": 381,
    "start_time": "2024-04-18T18:22:30.874Z"
   },
   {
    "duration": 429,
    "start_time": "2024-04-18T18:22:31.257Z"
   },
   {
    "duration": 67,
    "start_time": "2024-04-18T18:22:31.688Z"
   },
   {
    "duration": 150,
    "start_time": "2024-04-18T18:22:31.756Z"
   },
   {
    "duration": 13,
    "start_time": "2024-04-18T18:22:31.908Z"
   },
   {
    "duration": 125,
    "start_time": "2024-04-18T18:22:31.923Z"
   },
   {
    "duration": 726,
    "start_time": "2024-04-18T18:22:32.049Z"
   },
   {
    "duration": 1215,
    "start_time": "2024-04-18T18:22:32.777Z"
   },
   {
    "duration": 3,
    "start_time": "2024-04-18T18:22:33.994Z"
   },
   {
    "duration": 13,
    "start_time": "2024-04-18T18:22:33.998Z"
   },
   {
    "duration": 2,
    "start_time": "2024-04-18T18:22:34.018Z"
   },
   {
    "duration": 6,
    "start_time": "2024-04-18T18:22:34.022Z"
   },
   {
    "duration": 33,
    "start_time": "2024-04-18T18:22:34.029Z"
   },
   {
    "duration": 260,
    "start_time": "2024-04-18T18:22:34.064Z"
   },
   {
    "duration": 415,
    "start_time": "2024-04-18T18:22:34.326Z"
   },
   {
    "duration": 7,
    "start_time": "2024-04-18T18:22:34.743Z"
   },
   {
    "duration": 587,
    "start_time": "2024-04-18T18:22:34.751Z"
   },
   {
    "duration": 84,
    "start_time": "2024-04-18T18:22:35.340Z"
   },
   {
    "duration": 128,
    "start_time": "2024-04-18T18:22:35.425Z"
   },
   {
    "duration": 196,
    "start_time": "2024-04-18T18:22:35.555Z"
   },
   {
    "duration": 126,
    "start_time": "2024-04-18T18:22:35.752Z"
   },
   {
    "duration": 183,
    "start_time": "2024-04-18T18:22:35.880Z"
   },
   {
    "duration": 211,
    "start_time": "2024-04-18T18:22:36.065Z"
   },
   {
    "duration": 141,
    "start_time": "2024-04-18T18:22:36.277Z"
   },
   {
    "duration": 3668,
    "start_time": "2024-04-18T18:24:03.989Z"
   },
   {
    "duration": 79,
    "start_time": "2024-04-18T18:33:49.634Z"
   },
   {
    "duration": 289,
    "start_time": "2024-04-18T18:57:21.345Z"
   },
   {
    "duration": 2,
    "start_time": "2024-04-18T18:57:31.370Z"
   },
   {
    "duration": 13,
    "start_time": "2024-04-18T19:09:49.552Z"
   },
   {
    "duration": 34,
    "start_time": "2024-04-18T19:09:54.124Z"
   },
   {
    "duration": 395,
    "start_time": "2024-04-18T19:14:26.275Z"
   },
   {
    "duration": 200,
    "start_time": "2024-04-18T19:14:39.514Z"
   },
   {
    "duration": 163,
    "start_time": "2024-04-18T19:17:11.161Z"
   },
   {
    "duration": 8,
    "start_time": "2024-04-18T19:25:10.327Z"
   },
   {
    "duration": 431,
    "start_time": "2024-04-18T19:27:33.945Z"
   },
   {
    "duration": 113,
    "start_time": "2024-04-18T19:30:09.700Z"
   },
   {
    "duration": 112,
    "start_time": "2024-04-18T19:31:34.099Z"
   },
   {
    "duration": 79,
    "start_time": "2024-04-18T19:35:03.968Z"
   },
   {
    "duration": 73,
    "start_time": "2024-04-18T19:35:40.227Z"
   },
   {
    "duration": 13,
    "start_time": "2024-04-18T19:44:10.207Z"
   },
   {
    "duration": 12,
    "start_time": "2024-04-18T19:44:28.435Z"
   },
   {
    "duration": 30,
    "start_time": "2024-04-18T19:45:15.133Z"
   },
   {
    "duration": 34,
    "start_time": "2024-04-18T19:45:41.746Z"
   },
   {
    "duration": 30,
    "start_time": "2024-04-18T19:45:55.613Z"
   },
   {
    "duration": 8,
    "start_time": "2024-04-18T19:48:04.639Z"
   },
   {
    "duration": 131,
    "start_time": "2024-04-18T19:49:44.317Z"
   },
   {
    "duration": 128,
    "start_time": "2024-04-18T19:50:02.600Z"
   },
   {
    "duration": 84,
    "start_time": "2024-04-18T19:55:06.042Z"
   },
   {
    "duration": 129,
    "start_time": "2024-04-18T19:57:53.742Z"
   },
   {
    "duration": 87,
    "start_time": "2024-04-18T19:59:53.714Z"
   },
   {
    "duration": 125,
    "start_time": "2024-04-18T20:08:42.657Z"
   },
   {
    "duration": 75,
    "start_time": "2024-04-18T20:10:13.155Z"
   },
   {
    "duration": 12,
    "start_time": "2024-04-18T20:11:28.706Z"
   },
   {
    "duration": 147,
    "start_time": "2024-04-18T20:11:34.938Z"
   },
   {
    "duration": 97,
    "start_time": "2024-04-18T20:11:36.722Z"
   },
   {
    "duration": 82,
    "start_time": "2024-04-18T20:11:37.451Z"
   },
   {
    "duration": 230,
    "start_time": "2024-04-18T20:12:02.554Z"
   },
   {
    "duration": 118,
    "start_time": "2024-04-18T20:31:30.303Z"
   },
   {
    "duration": 109,
    "start_time": "2024-04-18T20:31:52.540Z"
   },
   {
    "duration": 1290,
    "start_time": "2024-04-18T20:32:56.697Z"
   },
   {
    "duration": 56,
    "start_time": "2024-04-18T20:33:17.881Z"
   },
   {
    "duration": 26,
    "start_time": "2024-04-18T20:33:29.860Z"
   },
   {
    "duration": 15520,
    "start_time": "2024-04-18T21:20:37.810Z"
   },
   {
    "duration": 1789,
    "start_time": "2024-04-18T21:20:53.333Z"
   },
   {
    "duration": 84,
    "start_time": "2024-04-18T21:20:55.124Z"
   },
   {
    "duration": 29,
    "start_time": "2024-04-18T21:20:55.210Z"
   },
   {
    "duration": 13,
    "start_time": "2024-04-18T21:20:55.241Z"
   },
   {
    "duration": 23,
    "start_time": "2024-04-18T21:20:55.255Z"
   },
   {
    "duration": 28,
    "start_time": "2024-04-18T21:20:55.280Z"
   },
   {
    "duration": 11,
    "start_time": "2024-04-18T21:20:55.309Z"
   },
   {
    "duration": 14,
    "start_time": "2024-04-18T21:20:55.321Z"
   },
   {
    "duration": 9,
    "start_time": "2024-04-18T21:20:55.338Z"
   },
   {
    "duration": 22,
    "start_time": "2024-04-18T21:20:55.349Z"
   },
   {
    "duration": 24,
    "start_time": "2024-04-18T21:20:55.372Z"
   },
   {
    "duration": 46,
    "start_time": "2024-04-18T21:20:55.397Z"
   },
   {
    "duration": 17,
    "start_time": "2024-04-18T21:20:55.445Z"
   },
   {
    "duration": 3,
    "start_time": "2024-04-18T21:20:55.464Z"
   },
   {
    "duration": 24,
    "start_time": "2024-04-18T21:20:55.468Z"
   },
   {
    "duration": 19,
    "start_time": "2024-04-18T21:20:55.494Z"
   },
   {
    "duration": 3,
    "start_time": "2024-04-18T21:20:55.515Z"
   },
   {
    "duration": 19,
    "start_time": "2024-04-18T21:20:55.520Z"
   },
   {
    "duration": 39,
    "start_time": "2024-04-18T21:20:55.541Z"
   },
   {
    "duration": 93,
    "start_time": "2024-04-18T21:20:55.582Z"
   },
   {
    "duration": 103,
    "start_time": "2024-04-18T21:20:55.677Z"
   },
   {
    "duration": 75,
    "start_time": "2024-04-18T21:20:55.782Z"
   },
   {
    "duration": 97,
    "start_time": "2024-04-18T21:20:55.859Z"
   },
   {
    "duration": 149,
    "start_time": "2024-04-18T21:20:55.958Z"
   },
   {
    "duration": 117,
    "start_time": "2024-04-18T21:20:56.109Z"
   },
   {
    "duration": 229,
    "start_time": "2024-04-18T21:20:56.228Z"
   },
   {
    "duration": 395,
    "start_time": "2024-04-18T21:20:56.462Z"
   },
   {
    "duration": 265,
    "start_time": "2024-04-18T21:20:56.859Z"
   },
   {
    "duration": 129,
    "start_time": "2024-04-18T21:20:57.126Z"
   },
   {
    "duration": 203,
    "start_time": "2024-04-18T21:20:57.256Z"
   },
   {
    "duration": 217,
    "start_time": "2024-04-18T21:20:57.461Z"
   },
   {
    "duration": 331,
    "start_time": "2024-04-18T21:20:57.680Z"
   },
   {
    "duration": 207,
    "start_time": "2024-04-18T21:20:58.013Z"
   },
   {
    "duration": 20,
    "start_time": "2024-04-18T21:20:58.222Z"
   },
   {
    "duration": 169,
    "start_time": "2024-04-18T21:20:58.244Z"
   },
   {
    "duration": 12,
    "start_time": "2024-04-18T21:20:58.414Z"
   },
   {
    "duration": 24,
    "start_time": "2024-04-18T21:20:58.428Z"
   },
   {
    "duration": 9,
    "start_time": "2024-04-18T21:20:58.454Z"
   },
   {
    "duration": 16,
    "start_time": "2024-04-18T21:20:58.464Z"
   },
   {
    "duration": 225,
    "start_time": "2024-04-18T21:20:58.492Z"
   },
   {
    "duration": 5,
    "start_time": "2024-04-18T21:20:58.719Z"
   },
   {
    "duration": 375,
    "start_time": "2024-04-18T21:20:58.725Z"
   },
   {
    "duration": 21,
    "start_time": "2024-04-18T21:20:59.101Z"
   },
   {
    "duration": 22,
    "start_time": "2024-04-18T21:20:59.124Z"
   },
   {
    "duration": 288,
    "start_time": "2024-04-18T21:20:59.148Z"
   },
   {
    "duration": 19,
    "start_time": "2024-04-18T21:20:59.438Z"
   },
   {
    "duration": 38,
    "start_time": "2024-04-18T21:20:59.459Z"
   },
   {
    "duration": 13,
    "start_time": "2024-04-18T21:20:59.499Z"
   },
   {
    "duration": 19,
    "start_time": "2024-04-18T21:20:59.514Z"
   },
   {
    "duration": 66,
    "start_time": "2024-04-18T21:20:59.534Z"
   },
   {
    "duration": 3746,
    "start_time": "2024-04-18T21:20:59.602Z"
   },
   {
    "duration": 4,
    "start_time": "2024-04-18T21:21:03.350Z"
   },
   {
    "duration": 35,
    "start_time": "2024-04-18T21:21:03.356Z"
   },
   {
    "duration": 12,
    "start_time": "2024-04-18T21:21:03.392Z"
   },
   {
    "duration": 8,
    "start_time": "2024-04-18T21:21:03.405Z"
   },
   {
    "duration": 278,
    "start_time": "2024-04-18T21:21:03.415Z"
   },
   {
    "duration": 3,
    "start_time": "2024-04-18T21:21:03.695Z"
   },
   {
    "duration": 25,
    "start_time": "2024-04-18T21:21:03.700Z"
   },
   {
    "duration": 8,
    "start_time": "2024-04-18T21:21:03.727Z"
   },
   {
    "duration": 24,
    "start_time": "2024-04-18T21:21:03.737Z"
   },
   {
    "duration": 35,
    "start_time": "2024-04-18T21:21:03.762Z"
   },
   {
    "duration": 8,
    "start_time": "2024-04-18T21:21:03.798Z"
   },
   {
    "duration": 1564,
    "start_time": "2024-04-18T21:21:03.808Z"
   },
   {
    "duration": 32,
    "start_time": "2024-04-18T21:21:05.375Z"
   },
   {
    "duration": 42,
    "start_time": "2024-04-18T21:21:05.408Z"
   },
   {
    "duration": 32,
    "start_time": "2024-04-18T21:21:05.451Z"
   },
   {
    "duration": 33,
    "start_time": "2024-04-18T21:21:05.492Z"
   },
   {
    "duration": 3,
    "start_time": "2024-04-18T21:21:05.527Z"
   },
   {
    "duration": 132,
    "start_time": "2024-04-18T21:21:05.532Z"
   },
   {
    "duration": 6,
    "start_time": "2024-04-18T21:21:05.665Z"
   },
   {
    "duration": 21,
    "start_time": "2024-04-18T21:21:05.673Z"
   },
   {
    "duration": 662,
    "start_time": "2024-04-18T21:21:05.696Z"
   },
   {
    "duration": 1152,
    "start_time": "2024-04-18T21:21:06.361Z"
   },
   {
    "duration": 2,
    "start_time": "2024-04-18T21:21:07.515Z"
   },
   {
    "duration": 210,
    "start_time": "2024-04-18T21:21:07.519Z"
   },
   {
    "duration": 441,
    "start_time": "2024-04-18T21:21:07.731Z"
   },
   {
    "duration": 416,
    "start_time": "2024-04-18T21:21:08.175Z"
   },
   {
    "duration": 8,
    "start_time": "2024-04-18T21:21:08.593Z"
   },
   {
    "duration": 93,
    "start_time": "2024-04-18T21:21:08.603Z"
   },
   {
    "duration": 239,
    "start_time": "2024-04-18T21:21:08.697Z"
   },
   {
    "duration": 181,
    "start_time": "2024-04-18T21:21:08.941Z"
   },
   {
    "duration": 139,
    "start_time": "2024-04-18T21:21:09.124Z"
   },
   {
    "duration": 118,
    "start_time": "2024-04-18T21:21:09.265Z"
   },
   {
    "duration": 83,
    "start_time": "2024-04-18T21:21:09.385Z"
   },
   {
    "duration": 150,
    "start_time": "2024-04-18T21:21:09.470Z"
   },
   {
    "duration": 115,
    "start_time": "2024-04-18T21:21:09.622Z"
   },
   {
    "duration": 26190,
    "start_time": "2024-04-19T06:14:37.163Z"
   },
   {
    "duration": 2160,
    "start_time": "2024-04-19T06:15:03.355Z"
   },
   {
    "duration": 260,
    "start_time": "2024-04-19T06:15:05.517Z"
   },
   {
    "duration": 29,
    "start_time": "2024-04-19T06:15:05.780Z"
   },
   {
    "duration": 39,
    "start_time": "2024-04-19T06:15:05.810Z"
   },
   {
    "duration": 38,
    "start_time": "2024-04-19T06:15:05.850Z"
   },
   {
    "duration": 12,
    "start_time": "2024-04-19T06:15:05.890Z"
   },
   {
    "duration": 31,
    "start_time": "2024-04-19T06:15:05.903Z"
   },
   {
    "duration": 39,
    "start_time": "2024-04-19T06:15:05.935Z"
   },
   {
    "duration": 25,
    "start_time": "2024-04-19T06:15:05.977Z"
   },
   {
    "duration": 18,
    "start_time": "2024-04-19T06:15:06.004Z"
   },
   {
    "duration": 10,
    "start_time": "2024-04-19T06:15:06.024Z"
   },
   {
    "duration": 55,
    "start_time": "2024-04-19T06:15:06.036Z"
   },
   {
    "duration": 16,
    "start_time": "2024-04-19T06:15:06.093Z"
   },
   {
    "duration": 18,
    "start_time": "2024-04-19T06:15:06.110Z"
   },
   {
    "duration": 47,
    "start_time": "2024-04-19T06:15:06.130Z"
   },
   {
    "duration": 18,
    "start_time": "2024-04-19T06:15:06.179Z"
   },
   {
    "duration": 10,
    "start_time": "2024-04-19T06:15:06.199Z"
   },
   {
    "duration": 15,
    "start_time": "2024-04-19T06:15:06.211Z"
   },
   {
    "duration": 43,
    "start_time": "2024-04-19T06:15:06.228Z"
   },
   {
    "duration": 85,
    "start_time": "2024-04-19T06:15:06.272Z"
   },
   {
    "duration": 88,
    "start_time": "2024-04-19T06:15:06.359Z"
   },
   {
    "duration": 78,
    "start_time": "2024-04-19T06:15:06.449Z"
   },
   {
    "duration": 78,
    "start_time": "2024-04-19T06:15:06.528Z"
   },
   {
    "duration": 122,
    "start_time": "2024-04-19T06:15:06.607Z"
   },
   {
    "duration": 111,
    "start_time": "2024-04-19T06:15:06.731Z"
   },
   {
    "duration": 207,
    "start_time": "2024-04-19T06:15:06.843Z"
   },
   {
    "duration": 359,
    "start_time": "2024-04-19T06:15:07.054Z"
   },
   {
    "duration": 222,
    "start_time": "2024-04-19T06:15:07.415Z"
   },
   {
    "duration": 108,
    "start_time": "2024-04-19T06:15:07.638Z"
   },
   {
    "duration": 182,
    "start_time": "2024-04-19T06:15:07.747Z"
   },
   {
    "duration": 175,
    "start_time": "2024-04-19T06:15:07.930Z"
   },
   {
    "duration": 256,
    "start_time": "2024-04-19T06:15:08.106Z"
   },
   {
    "duration": 156,
    "start_time": "2024-04-19T06:15:08.364Z"
   },
   {
    "duration": 19,
    "start_time": "2024-04-19T06:15:08.522Z"
   },
   {
    "duration": 159,
    "start_time": "2024-04-19T06:15:08.543Z"
   },
   {
    "duration": 10,
    "start_time": "2024-04-19T06:15:08.704Z"
   },
   {
    "duration": 16,
    "start_time": "2024-04-19T06:15:08.715Z"
   },
   {
    "duration": 5,
    "start_time": "2024-04-19T06:15:08.732Z"
   },
   {
    "duration": 26,
    "start_time": "2024-04-19T06:15:08.739Z"
   },
   {
    "duration": 254,
    "start_time": "2024-04-19T06:15:08.767Z"
   },
   {
    "duration": 6,
    "start_time": "2024-04-19T06:15:09.023Z"
   },
   {
    "duration": 350,
    "start_time": "2024-04-19T06:15:09.031Z"
   },
   {
    "duration": 25,
    "start_time": "2024-04-19T06:15:09.383Z"
   },
   {
    "duration": 19,
    "start_time": "2024-04-19T06:15:09.410Z"
   },
   {
    "duration": 291,
    "start_time": "2024-04-19T06:15:09.430Z"
   },
   {
    "duration": 19,
    "start_time": "2024-04-19T06:15:09.722Z"
   },
   {
    "duration": 24,
    "start_time": "2024-04-19T06:15:09.742Z"
   },
   {
    "duration": 11,
    "start_time": "2024-04-19T06:15:09.767Z"
   },
   {
    "duration": 18,
    "start_time": "2024-04-19T06:15:09.780Z"
   },
   {
    "duration": 38,
    "start_time": "2024-04-19T06:15:09.800Z"
   },
   {
    "duration": 6109,
    "start_time": "2024-04-19T06:15:09.839Z"
   },
   {
    "duration": 4,
    "start_time": "2024-04-19T06:15:15.950Z"
   },
   {
    "duration": 25,
    "start_time": "2024-04-19T06:15:15.955Z"
   },
   {
    "duration": 17,
    "start_time": "2024-04-19T06:15:15.981Z"
   },
   {
    "duration": 5,
    "start_time": "2024-04-19T06:15:16.000Z"
   },
   {
    "duration": 238,
    "start_time": "2024-04-19T06:15:16.006Z"
   },
   {
    "duration": 3,
    "start_time": "2024-04-19T06:15:16.245Z"
   },
   {
    "duration": 26,
    "start_time": "2024-04-19T06:15:16.249Z"
   },
   {
    "duration": 6,
    "start_time": "2024-04-19T06:15:16.276Z"
   },
   {
    "duration": 22,
    "start_time": "2024-04-19T06:15:16.283Z"
   },
   {
    "duration": 18,
    "start_time": "2024-04-19T06:15:16.306Z"
   },
   {
    "duration": 7,
    "start_time": "2024-04-19T06:15:16.326Z"
   },
   {
    "duration": 1977,
    "start_time": "2024-04-19T06:15:16.334Z"
   },
   {
    "duration": 18,
    "start_time": "2024-04-19T06:15:18.313Z"
   },
   {
    "duration": 33,
    "start_time": "2024-04-19T06:15:18.332Z"
   },
   {
    "duration": 35,
    "start_time": "2024-04-19T06:15:18.367Z"
   },
   {
    "duration": 26,
    "start_time": "2024-04-19T06:15:18.404Z"
   },
   {
    "duration": 24,
    "start_time": "2024-04-19T06:15:18.431Z"
   },
   {
    "duration": 126,
    "start_time": "2024-04-19T06:15:18.456Z"
   },
   {
    "duration": 5,
    "start_time": "2024-04-19T06:15:18.584Z"
   },
   {
    "duration": 17,
    "start_time": "2024-04-19T06:15:18.591Z"
   },
   {
    "duration": 684,
    "start_time": "2024-04-19T06:15:18.610Z"
   },
   {
    "duration": 1496,
    "start_time": "2024-04-19T06:15:19.295Z"
   },
   {
    "duration": 72,
    "start_time": "2024-04-19T06:15:20.793Z"
   },
   {
    "duration": 229,
    "start_time": "2024-04-19T06:15:20.867Z"
   },
   {
    "duration": 382,
    "start_time": "2024-04-19T06:15:21.097Z"
   },
   {
    "duration": 377,
    "start_time": "2024-04-19T06:15:21.481Z"
   },
   {
    "duration": 9,
    "start_time": "2024-04-19T06:15:21.860Z"
   },
   {
    "duration": 84,
    "start_time": "2024-04-19T06:15:21.870Z"
   },
   {
    "duration": 211,
    "start_time": "2024-04-19T06:15:21.956Z"
   },
   {
    "duration": 169,
    "start_time": "2024-04-19T06:15:22.172Z"
   },
   {
    "duration": 134,
    "start_time": "2024-04-19T06:15:22.342Z"
   },
   {
    "duration": 101,
    "start_time": "2024-04-19T06:15:22.478Z"
   },
   {
    "duration": 100,
    "start_time": "2024-04-19T06:15:22.581Z"
   },
   {
    "duration": 132,
    "start_time": "2024-04-19T06:15:22.683Z"
   },
   {
    "duration": 109,
    "start_time": "2024-04-19T06:15:22.817Z"
   },
   {
    "duration": 79,
    "start_time": "2024-04-19T13:07:52.431Z"
   },
   {
    "duration": 73,
    "start_time": "2024-04-19T13:17:13.770Z"
   },
   {
    "duration": 84,
    "start_time": "2024-04-19T13:17:23.318Z"
   },
   {
    "duration": 46,
    "start_time": "2024-04-19T13:17:28.987Z"
   },
   {
    "duration": 7,
    "start_time": "2024-04-19T13:17:34.111Z"
   },
   {
    "duration": 75,
    "start_time": "2024-04-19T13:18:38.200Z"
   },
   {
    "duration": 7,
    "start_time": "2024-04-19T13:18:54.124Z"
   },
   {
    "duration": 25375,
    "start_time": "2024-04-19T13:19:07.922Z"
   },
   {
    "duration": 2000,
    "start_time": "2024-04-19T13:19:33.300Z"
   },
   {
    "duration": 348,
    "start_time": "2024-04-19T13:19:35.302Z"
   },
   {
    "duration": 32,
    "start_time": "2024-04-19T13:19:35.652Z"
   },
   {
    "duration": 19,
    "start_time": "2024-04-19T13:19:35.686Z"
   },
   {
    "duration": 31,
    "start_time": "2024-04-19T13:19:35.706Z"
   },
   {
    "duration": 19,
    "start_time": "2024-04-19T13:19:35.740Z"
   },
   {
    "duration": 18,
    "start_time": "2024-04-19T13:19:35.761Z"
   },
   {
    "duration": 24,
    "start_time": "2024-04-19T13:19:35.780Z"
   },
   {
    "duration": 18,
    "start_time": "2024-04-19T13:19:35.806Z"
   },
   {
    "duration": 23,
    "start_time": "2024-04-19T13:19:35.826Z"
   },
   {
    "duration": 23,
    "start_time": "2024-04-19T13:19:35.851Z"
   },
   {
    "duration": 5,
    "start_time": "2024-04-19T13:19:35.875Z"
   },
   {
    "duration": 19,
    "start_time": "2024-04-19T13:19:35.883Z"
   },
   {
    "duration": 4,
    "start_time": "2024-04-19T13:19:35.903Z"
   },
   {
    "duration": 25,
    "start_time": "2024-04-19T13:19:35.908Z"
   },
   {
    "duration": 10,
    "start_time": "2024-04-19T13:19:35.935Z"
   },
   {
    "duration": 9,
    "start_time": "2024-04-19T13:19:35.947Z"
   },
   {
    "duration": 11,
    "start_time": "2024-04-19T13:19:35.957Z"
   },
   {
    "duration": 58,
    "start_time": "2024-04-19T13:19:35.969Z"
   },
   {
    "duration": 119,
    "start_time": "2024-04-19T13:19:36.029Z"
   },
   {
    "duration": 88,
    "start_time": "2024-04-19T13:19:36.150Z"
   },
   {
    "duration": 81,
    "start_time": "2024-04-19T13:19:36.239Z"
   },
   {
    "duration": 94,
    "start_time": "2024-04-19T13:19:36.321Z"
   },
   {
    "duration": 143,
    "start_time": "2024-04-19T13:19:36.416Z"
   },
   {
    "duration": 123,
    "start_time": "2024-04-19T13:19:36.561Z"
   },
   {
    "duration": 249,
    "start_time": "2024-04-19T13:19:36.685Z"
   },
   {
    "duration": 385,
    "start_time": "2024-04-19T13:19:36.935Z"
   },
   {
    "duration": 225,
    "start_time": "2024-04-19T13:19:37.322Z"
   },
   {
    "duration": 115,
    "start_time": "2024-04-19T13:19:37.549Z"
   },
   {
    "duration": 193,
    "start_time": "2024-04-19T13:19:37.666Z"
   },
   {
    "duration": 195,
    "start_time": "2024-04-19T13:19:37.861Z"
   },
   {
    "duration": 300,
    "start_time": "2024-04-19T13:19:38.058Z"
   },
   {
    "duration": 173,
    "start_time": "2024-04-19T13:19:38.359Z"
   },
   {
    "duration": 22,
    "start_time": "2024-04-19T13:19:38.533Z"
   },
   {
    "duration": 166,
    "start_time": "2024-04-19T13:19:38.556Z"
   },
   {
    "duration": 10,
    "start_time": "2024-04-19T13:19:38.724Z"
   },
   {
    "duration": 17,
    "start_time": "2024-04-19T13:19:38.736Z"
   },
   {
    "duration": 8,
    "start_time": "2024-04-19T13:19:38.755Z"
   },
   {
    "duration": 8,
    "start_time": "2024-04-19T13:19:38.764Z"
   },
   {
    "duration": 229,
    "start_time": "2024-04-19T13:19:38.792Z"
   },
   {
    "duration": 5,
    "start_time": "2024-04-19T13:19:39.023Z"
   },
   {
    "duration": 345,
    "start_time": "2024-04-19T13:19:39.030Z"
   },
   {
    "duration": 30,
    "start_time": "2024-04-19T13:19:39.376Z"
   },
   {
    "duration": 24,
    "start_time": "2024-04-19T13:19:39.407Z"
   },
   {
    "duration": 276,
    "start_time": "2024-04-19T13:19:39.433Z"
   },
   {
    "duration": 19,
    "start_time": "2024-04-19T13:19:39.711Z"
   },
   {
    "duration": 11,
    "start_time": "2024-04-19T13:19:39.732Z"
   },
   {
    "duration": 13,
    "start_time": "2024-04-19T13:19:39.745Z"
   },
   {
    "duration": 52,
    "start_time": "2024-04-19T13:19:39.759Z"
   },
   {
    "duration": 151,
    "start_time": "2024-04-19T13:19:39.814Z"
   },
   {
    "duration": 0,
    "start_time": "2024-04-19T13:19:39.966Z"
   },
   {
    "duration": 0,
    "start_time": "2024-04-19T13:19:39.968Z"
   },
   {
    "duration": 0,
    "start_time": "2024-04-19T13:19:39.970Z"
   },
   {
    "duration": 0,
    "start_time": "2024-04-19T13:19:39.972Z"
   },
   {
    "duration": 0,
    "start_time": "2024-04-19T13:19:39.973Z"
   },
   {
    "duration": 0,
    "start_time": "2024-04-19T13:19:39.974Z"
   },
   {
    "duration": 0,
    "start_time": "2024-04-19T13:19:40.000Z"
   },
   {
    "duration": 0,
    "start_time": "2024-04-19T13:19:40.002Z"
   },
   {
    "duration": 0,
    "start_time": "2024-04-19T13:19:40.004Z"
   },
   {
    "duration": 0,
    "start_time": "2024-04-19T13:19:40.005Z"
   },
   {
    "duration": 0,
    "start_time": "2024-04-19T13:19:40.006Z"
   },
   {
    "duration": 0,
    "start_time": "2024-04-19T13:19:40.007Z"
   },
   {
    "duration": 0,
    "start_time": "2024-04-19T13:19:40.008Z"
   },
   {
    "duration": 0,
    "start_time": "2024-04-19T13:19:40.009Z"
   },
   {
    "duration": 0,
    "start_time": "2024-04-19T13:19:40.011Z"
   },
   {
    "duration": 0,
    "start_time": "2024-04-19T13:19:40.012Z"
   },
   {
    "duration": 0,
    "start_time": "2024-04-19T13:19:40.013Z"
   },
   {
    "duration": 0,
    "start_time": "2024-04-19T13:19:40.015Z"
   },
   {
    "duration": 0,
    "start_time": "2024-04-19T13:19:40.016Z"
   },
   {
    "duration": 0,
    "start_time": "2024-04-19T13:19:40.017Z"
   },
   {
    "duration": 0,
    "start_time": "2024-04-19T13:19:40.019Z"
   },
   {
    "duration": 0,
    "start_time": "2024-04-19T13:19:40.020Z"
   },
   {
    "duration": 0,
    "start_time": "2024-04-19T13:19:40.022Z"
   },
   {
    "duration": 0,
    "start_time": "2024-04-19T13:19:40.023Z"
   },
   {
    "duration": 0,
    "start_time": "2024-04-19T13:19:40.025Z"
   },
   {
    "duration": 0,
    "start_time": "2024-04-19T13:19:40.026Z"
   },
   {
    "duration": 0,
    "start_time": "2024-04-19T13:19:40.028Z"
   },
   {
    "duration": 0,
    "start_time": "2024-04-19T13:19:40.030Z"
   },
   {
    "duration": 0,
    "start_time": "2024-04-19T13:19:40.030Z"
   },
   {
    "duration": 0,
    "start_time": "2024-04-19T13:19:40.031Z"
   },
   {
    "duration": 0,
    "start_time": "2024-04-19T13:19:40.032Z"
   },
   {
    "duration": 0,
    "start_time": "2024-04-19T13:19:40.034Z"
   },
   {
    "duration": 0,
    "start_time": "2024-04-19T13:19:40.035Z"
   },
   {
    "duration": 0,
    "start_time": "2024-04-19T13:19:40.036Z"
   },
   {
    "duration": 0,
    "start_time": "2024-04-19T13:19:40.037Z"
   },
   {
    "duration": 0,
    "start_time": "2024-04-19T13:19:40.038Z"
   },
   {
    "duration": 38,
    "start_time": "2024-04-19T13:20:04.418Z"
   },
   {
    "duration": 4045,
    "start_time": "2024-04-19T13:20:10.787Z"
   },
   {
    "duration": 5,
    "start_time": "2024-04-19T13:20:16.691Z"
   },
   {
    "duration": 5,
    "start_time": "2024-04-19T13:20:17.846Z"
   },
   {
    "duration": 8,
    "start_time": "2024-04-19T13:20:19.231Z"
   },
   {
    "duration": 4,
    "start_time": "2024-04-19T13:20:19.975Z"
   },
   {
    "duration": 253,
    "start_time": "2024-04-19T13:20:23.544Z"
   },
   {
    "duration": 4,
    "start_time": "2024-04-19T13:20:26.800Z"
   },
   {
    "duration": 3,
    "start_time": "2024-04-19T13:20:28.028Z"
   },
   {
    "duration": 3,
    "start_time": "2024-04-19T13:20:29.696Z"
   },
   {
    "duration": 3,
    "start_time": "2024-04-19T13:20:30.203Z"
   },
   {
    "duration": 3,
    "start_time": "2024-04-19T13:20:31.114Z"
   },
   {
    "duration": 6,
    "start_time": "2024-04-19T13:20:32.354Z"
   },
   {
    "duration": 6,
    "start_time": "2024-04-19T13:29:39.892Z"
   },
   {
    "duration": 1541,
    "start_time": "2024-04-19T13:29:45.224Z"
   },
   {
    "duration": 19,
    "start_time": "2024-04-19T13:29:52.730Z"
   },
   {
    "duration": 26,
    "start_time": "2024-04-19T13:29:59.942Z"
   },
   {
    "duration": 3,
    "start_time": "2024-04-19T13:31:27.990Z"
   },
   {
    "duration": 23,
    "start_time": "2024-04-19T13:31:29.444Z"
   },
   {
    "duration": 23,
    "start_time": "2024-04-19T13:31:41.580Z"
   },
   {
    "duration": 79,
    "start_time": "2024-04-19T13:32:28.302Z"
   },
   {
    "duration": 6,
    "start_time": "2024-04-19T13:33:50.572Z"
   },
   {
    "duration": 1284,
    "start_time": "2024-04-19T13:33:54.510Z"
   },
   {
    "duration": 20,
    "start_time": "2024-04-19T13:33:58.222Z"
   },
   {
    "duration": 24,
    "start_time": "2024-04-19T13:33:59.393Z"
   },
   {
    "duration": 81,
    "start_time": "2024-04-19T13:36:15.472Z"
   },
   {
    "duration": 5,
    "start_time": "2024-04-19T13:36:25.938Z"
   },
   {
    "duration": 1364,
    "start_time": "2024-04-19T13:36:30.945Z"
   },
   {
    "duration": 19,
    "start_time": "2024-04-19T13:36:33.918Z"
   },
   {
    "duration": 22,
    "start_time": "2024-04-19T13:36:54.762Z"
   },
   {
    "duration": 7,
    "start_time": "2024-04-19T14:17:49.622Z"
   },
   {
    "duration": 1257,
    "start_time": "2024-04-19T14:17:52.759Z"
   },
   {
    "duration": 18,
    "start_time": "2024-04-19T14:17:58.224Z"
   },
   {
    "duration": 23,
    "start_time": "2024-04-19T14:18:01.351Z"
   },
   {
    "duration": 16107,
    "start_time": "2024-04-19T14:18:16.932Z"
   },
   {
    "duration": 1798,
    "start_time": "2024-04-19T14:18:33.042Z"
   },
   {
    "duration": 83,
    "start_time": "2024-04-19T14:18:34.842Z"
   },
   {
    "duration": 30,
    "start_time": "2024-04-19T14:18:34.928Z"
   },
   {
    "duration": 13,
    "start_time": "2024-04-19T14:18:34.959Z"
   },
   {
    "duration": 19,
    "start_time": "2024-04-19T14:18:34.974Z"
   },
   {
    "duration": 35,
    "start_time": "2024-04-19T14:18:34.994Z"
   },
   {
    "duration": 30,
    "start_time": "2024-04-19T14:18:35.031Z"
   },
   {
    "duration": 28,
    "start_time": "2024-04-19T14:18:35.063Z"
   },
   {
    "duration": 28,
    "start_time": "2024-04-19T14:18:35.094Z"
   },
   {
    "duration": 38,
    "start_time": "2024-04-19T14:18:35.123Z"
   },
   {
    "duration": 9,
    "start_time": "2024-04-19T14:18:35.163Z"
   },
   {
    "duration": 10,
    "start_time": "2024-04-19T14:18:35.174Z"
   },
   {
    "duration": 20,
    "start_time": "2024-04-19T14:18:35.186Z"
   },
   {
    "duration": 32,
    "start_time": "2024-04-19T14:18:35.207Z"
   },
   {
    "duration": 12,
    "start_time": "2024-04-19T14:18:35.241Z"
   },
   {
    "duration": 7,
    "start_time": "2024-04-19T14:18:35.255Z"
   },
   {
    "duration": 9,
    "start_time": "2024-04-19T14:18:35.263Z"
   },
   {
    "duration": 52,
    "start_time": "2024-04-19T14:18:35.274Z"
   },
   {
    "duration": 57,
    "start_time": "2024-04-19T14:18:35.328Z"
   },
   {
    "duration": 93,
    "start_time": "2024-04-19T14:18:35.386Z"
   },
   {
    "duration": 91,
    "start_time": "2024-04-19T14:18:35.481Z"
   },
   {
    "duration": 88,
    "start_time": "2024-04-19T14:18:35.574Z"
   },
   {
    "duration": 91,
    "start_time": "2024-04-19T14:18:35.663Z"
   },
   {
    "duration": 158,
    "start_time": "2024-04-19T14:18:35.755Z"
   },
   {
    "duration": 138,
    "start_time": "2024-04-19T14:18:35.915Z"
   },
   {
    "duration": 239,
    "start_time": "2024-04-19T14:18:36.055Z"
   },
   {
    "duration": 398,
    "start_time": "2024-04-19T14:18:36.298Z"
   },
   {
    "duration": 247,
    "start_time": "2024-04-19T14:18:36.698Z"
   },
   {
    "duration": 123,
    "start_time": "2024-04-19T14:18:36.948Z"
   },
   {
    "duration": 200,
    "start_time": "2024-04-19T14:18:37.073Z"
   },
   {
    "duration": 212,
    "start_time": "2024-04-19T14:18:37.275Z"
   },
   {
    "duration": 310,
    "start_time": "2024-04-19T14:18:37.491Z"
   },
   {
    "duration": 188,
    "start_time": "2024-04-19T14:18:37.803Z"
   },
   {
    "duration": 23,
    "start_time": "2024-04-19T14:18:37.993Z"
   },
   {
    "duration": 176,
    "start_time": "2024-04-19T14:18:38.018Z"
   },
   {
    "duration": 12,
    "start_time": "2024-04-19T14:18:38.196Z"
   },
   {
    "duration": 17,
    "start_time": "2024-04-19T14:18:38.209Z"
   },
   {
    "duration": 10,
    "start_time": "2024-04-19T14:18:38.228Z"
   },
   {
    "duration": 17,
    "start_time": "2024-04-19T14:18:38.239Z"
   },
   {
    "duration": 241,
    "start_time": "2024-04-19T14:18:38.258Z"
   },
   {
    "duration": 6,
    "start_time": "2024-04-19T14:18:38.500Z"
   },
   {
    "duration": 404,
    "start_time": "2024-04-19T14:18:38.508Z"
   },
   {
    "duration": 23,
    "start_time": "2024-04-19T14:18:38.914Z"
   },
   {
    "duration": 21,
    "start_time": "2024-04-19T14:18:38.939Z"
   },
   {
    "duration": 299,
    "start_time": "2024-04-19T14:18:38.962Z"
   },
   {
    "duration": 18,
    "start_time": "2024-04-19T14:18:39.263Z"
   },
   {
    "duration": 9,
    "start_time": "2024-04-19T14:18:39.292Z"
   },
   {
    "duration": 20,
    "start_time": "2024-04-19T14:18:39.303Z"
   },
   {
    "duration": 39,
    "start_time": "2024-04-19T14:18:39.325Z"
   },
   {
    "duration": 141,
    "start_time": "2024-04-19T14:18:39.365Z"
   },
   {
    "duration": 0,
    "start_time": "2024-04-19T14:18:39.509Z"
   },
   {
    "duration": 0,
    "start_time": "2024-04-19T14:18:39.510Z"
   },
   {
    "duration": 0,
    "start_time": "2024-04-19T14:18:39.512Z"
   },
   {
    "duration": 0,
    "start_time": "2024-04-19T14:18:39.513Z"
   },
   {
    "duration": 0,
    "start_time": "2024-04-19T14:18:39.515Z"
   },
   {
    "duration": 0,
    "start_time": "2024-04-19T14:18:39.517Z"
   },
   {
    "duration": 0,
    "start_time": "2024-04-19T14:18:39.518Z"
   },
   {
    "duration": 0,
    "start_time": "2024-04-19T14:18:39.520Z"
   },
   {
    "duration": 0,
    "start_time": "2024-04-19T14:18:39.521Z"
   },
   {
    "duration": 0,
    "start_time": "2024-04-19T14:18:39.522Z"
   },
   {
    "duration": 0,
    "start_time": "2024-04-19T14:18:39.524Z"
   },
   {
    "duration": 0,
    "start_time": "2024-04-19T14:18:39.526Z"
   },
   {
    "duration": 0,
    "start_time": "2024-04-19T14:18:39.527Z"
   },
   {
    "duration": 0,
    "start_time": "2024-04-19T14:18:39.529Z"
   },
   {
    "duration": 0,
    "start_time": "2024-04-19T14:18:39.530Z"
   },
   {
    "duration": 0,
    "start_time": "2024-04-19T14:18:39.532Z"
   },
   {
    "duration": 0,
    "start_time": "2024-04-19T14:18:39.533Z"
   },
   {
    "duration": 0,
    "start_time": "2024-04-19T14:18:39.534Z"
   },
   {
    "duration": 0,
    "start_time": "2024-04-19T14:18:39.535Z"
   },
   {
    "duration": 0,
    "start_time": "2024-04-19T14:18:39.536Z"
   },
   {
    "duration": 0,
    "start_time": "2024-04-19T14:18:39.537Z"
   },
   {
    "duration": 0,
    "start_time": "2024-04-19T14:18:39.539Z"
   },
   {
    "duration": 1,
    "start_time": "2024-04-19T14:18:39.539Z"
   },
   {
    "duration": 0,
    "start_time": "2024-04-19T14:18:39.591Z"
   },
   {
    "duration": 0,
    "start_time": "2024-04-19T14:18:39.593Z"
   },
   {
    "duration": 0,
    "start_time": "2024-04-19T14:18:39.595Z"
   },
   {
    "duration": 0,
    "start_time": "2024-04-19T14:18:39.596Z"
   },
   {
    "duration": 0,
    "start_time": "2024-04-19T14:18:39.597Z"
   },
   {
    "duration": 0,
    "start_time": "2024-04-19T14:18:39.598Z"
   },
   {
    "duration": 0,
    "start_time": "2024-04-19T14:18:39.599Z"
   },
   {
    "duration": 0,
    "start_time": "2024-04-19T14:18:39.600Z"
   },
   {
    "duration": 0,
    "start_time": "2024-04-19T14:18:39.601Z"
   },
   {
    "duration": 0,
    "start_time": "2024-04-19T14:18:39.602Z"
   },
   {
    "duration": 0,
    "start_time": "2024-04-19T14:18:39.603Z"
   },
   {
    "duration": 0,
    "start_time": "2024-04-19T14:18:39.605Z"
   },
   {
    "duration": 0,
    "start_time": "2024-04-19T14:18:39.606Z"
   },
   {
    "duration": 36,
    "start_time": "2024-04-19T14:23:26.903Z"
   },
   {
    "duration": 3898,
    "start_time": "2024-04-19T14:23:31.162Z"
   },
   {
    "duration": 5,
    "start_time": "2024-04-19T14:23:35.062Z"
   },
   {
    "duration": 25,
    "start_time": "2024-04-19T14:23:35.068Z"
   },
   {
    "duration": 40,
    "start_time": "2024-04-19T14:23:35.095Z"
   },
   {
    "duration": 34,
    "start_time": "2024-04-19T14:23:35.137Z"
   },
   {
    "duration": 293,
    "start_time": "2024-04-19T14:23:35.173Z"
   },
   {
    "duration": 3,
    "start_time": "2024-04-19T14:23:35.469Z"
   },
   {
    "duration": 35,
    "start_time": "2024-04-19T14:23:35.474Z"
   },
   {
    "duration": 26,
    "start_time": "2024-04-19T14:23:35.511Z"
   },
   {
    "duration": 17,
    "start_time": "2024-04-19T14:23:35.540Z"
   },
   {
    "duration": 8,
    "start_time": "2024-04-19T14:23:35.559Z"
   },
   {
    "duration": 5,
    "start_time": "2024-04-19T14:23:35.973Z"
   },
   {
    "duration": 1656,
    "start_time": "2024-04-19T14:23:37.164Z"
   },
   {
    "duration": 20,
    "start_time": "2024-04-19T14:23:38.822Z"
   },
   {
    "duration": 55,
    "start_time": "2024-04-19T14:23:38.844Z"
   },
   {
    "duration": 16078,
    "start_time": "2024-04-19T14:24:47.480Z"
   },
   {
    "duration": 1896,
    "start_time": "2024-04-19T14:25:03.561Z"
   },
   {
    "duration": 84,
    "start_time": "2024-04-19T14:25:05.458Z"
   },
   {
    "duration": 31,
    "start_time": "2024-04-19T14:25:05.544Z"
   },
   {
    "duration": 32,
    "start_time": "2024-04-19T14:25:05.577Z"
   },
   {
    "duration": 29,
    "start_time": "2024-04-19T14:25:05.611Z"
   },
   {
    "duration": 12,
    "start_time": "2024-04-19T14:25:05.642Z"
   },
   {
    "duration": 21,
    "start_time": "2024-04-19T14:25:05.656Z"
   },
   {
    "duration": 16,
    "start_time": "2024-04-19T14:25:05.679Z"
   },
   {
    "duration": 10,
    "start_time": "2024-04-19T14:25:05.696Z"
   },
   {
    "duration": 44,
    "start_time": "2024-04-19T14:25:05.707Z"
   },
   {
    "duration": 14,
    "start_time": "2024-04-19T14:25:05.752Z"
   },
   {
    "duration": 3,
    "start_time": "2024-04-19T14:25:05.768Z"
   },
   {
    "duration": 22,
    "start_time": "2024-04-19T14:25:05.774Z"
   },
   {
    "duration": 3,
    "start_time": "2024-04-19T14:25:05.798Z"
   },
   {
    "duration": 49,
    "start_time": "2024-04-19T14:25:05.803Z"
   },
   {
    "duration": 22,
    "start_time": "2024-04-19T14:25:05.855Z"
   },
   {
    "duration": 26,
    "start_time": "2024-04-19T14:25:05.878Z"
   },
   {
    "duration": 47,
    "start_time": "2024-04-19T14:25:05.905Z"
   },
   {
    "duration": 47,
    "start_time": "2024-04-19T14:25:05.954Z"
   },
   {
    "duration": 107,
    "start_time": "2024-04-19T14:25:06.003Z"
   },
   {
    "duration": 109,
    "start_time": "2024-04-19T14:25:06.112Z"
   },
   {
    "duration": 89,
    "start_time": "2024-04-19T14:25:06.223Z"
   },
   {
    "duration": 97,
    "start_time": "2024-04-19T14:25:06.315Z"
   },
   {
    "duration": 149,
    "start_time": "2024-04-19T14:25:06.414Z"
   },
   {
    "duration": 130,
    "start_time": "2024-04-19T14:25:06.565Z"
   },
   {
    "duration": 244,
    "start_time": "2024-04-19T14:25:06.697Z"
   },
   {
    "duration": 415,
    "start_time": "2024-04-19T14:25:06.942Z"
   },
   {
    "duration": 274,
    "start_time": "2024-04-19T14:25:07.359Z"
   },
   {
    "duration": 129,
    "start_time": "2024-04-19T14:25:07.635Z"
   },
   {
    "duration": 187,
    "start_time": "2024-04-19T14:25:07.765Z"
   },
   {
    "duration": 205,
    "start_time": "2024-04-19T14:25:07.954Z"
   },
   {
    "duration": 295,
    "start_time": "2024-04-19T14:25:08.161Z"
   },
   {
    "duration": 179,
    "start_time": "2024-04-19T14:25:08.458Z"
   },
   {
    "duration": 23,
    "start_time": "2024-04-19T14:25:08.639Z"
   },
   {
    "duration": 169,
    "start_time": "2024-04-19T14:25:08.664Z"
   },
   {
    "duration": 11,
    "start_time": "2024-04-19T14:25:08.836Z"
   },
   {
    "duration": 21,
    "start_time": "2024-04-19T14:25:08.849Z"
   },
   {
    "duration": 21,
    "start_time": "2024-04-19T14:25:08.872Z"
   },
   {
    "duration": 5,
    "start_time": "2024-04-19T14:25:08.895Z"
   },
   {
    "duration": 272,
    "start_time": "2024-04-19T14:25:08.905Z"
   },
   {
    "duration": 6,
    "start_time": "2024-04-19T14:25:09.178Z"
   },
   {
    "duration": 366,
    "start_time": "2024-04-19T14:25:09.185Z"
   },
   {
    "duration": 23,
    "start_time": "2024-04-19T14:25:09.553Z"
   },
   {
    "duration": 37,
    "start_time": "2024-04-19T14:25:09.578Z"
   },
   {
    "duration": 315,
    "start_time": "2024-04-19T14:25:09.617Z"
   },
   {
    "duration": 19,
    "start_time": "2024-04-19T14:25:09.934Z"
   },
   {
    "duration": 14,
    "start_time": "2024-04-19T14:25:09.955Z"
   },
   {
    "duration": 29,
    "start_time": "2024-04-19T14:25:09.971Z"
   },
   {
    "duration": 81,
    "start_time": "2024-04-19T14:25:10.002Z"
   },
   {
    "duration": 55,
    "start_time": "2024-04-19T14:25:10.084Z"
   },
   {
    "duration": 3956,
    "start_time": "2024-04-19T14:25:10.140Z"
   },
   {
    "duration": 4,
    "start_time": "2024-04-19T14:25:14.098Z"
   },
   {
    "duration": 26,
    "start_time": "2024-04-19T14:25:14.104Z"
   },
   {
    "duration": 16,
    "start_time": "2024-04-19T14:25:14.132Z"
   },
   {
    "duration": 8,
    "start_time": "2024-04-19T14:25:14.150Z"
   },
   {
    "duration": 257,
    "start_time": "2024-04-19T14:25:14.160Z"
   },
   {
    "duration": 3,
    "start_time": "2024-04-19T14:25:14.419Z"
   },
   {
    "duration": 7,
    "start_time": "2024-04-19T14:25:14.424Z"
   },
   {
    "duration": 6,
    "start_time": "2024-04-19T14:25:14.433Z"
   },
   {
    "duration": 17,
    "start_time": "2024-04-19T14:25:14.440Z"
   },
   {
    "duration": 9,
    "start_time": "2024-04-19T14:25:14.459Z"
   },
   {
    "duration": 6,
    "start_time": "2024-04-19T14:25:14.470Z"
   },
   {
    "duration": 1664,
    "start_time": "2024-04-19T14:25:14.478Z"
   },
   {
    "duration": 23,
    "start_time": "2024-04-19T14:25:16.144Z"
   },
   {
    "duration": 79,
    "start_time": "2024-04-19T14:25:16.168Z"
   },
   {
    "duration": 62,
    "start_time": "2024-04-19T14:25:16.249Z"
   },
   {
    "duration": 54,
    "start_time": "2024-04-19T14:25:16.313Z"
   },
   {
    "duration": 137,
    "start_time": "2024-04-19T14:25:16.369Z"
   },
   {
    "duration": 7,
    "start_time": "2024-04-19T14:25:16.508Z"
   },
   {
    "duration": 44,
    "start_time": "2024-04-19T14:25:16.517Z"
   },
   {
    "duration": 626,
    "start_time": "2024-04-19T14:25:16.563Z"
   },
   {
    "duration": 1208,
    "start_time": "2024-04-19T14:25:17.191Z"
   },
   {
    "duration": 3,
    "start_time": "2024-04-19T14:25:18.401Z"
   },
   {
    "duration": 233,
    "start_time": "2024-04-19T14:25:18.406Z"
   },
   {
    "duration": 415,
    "start_time": "2024-04-19T14:25:18.640Z"
   },
   {
    "duration": 408,
    "start_time": "2024-04-19T14:25:19.057Z"
   },
   {
    "duration": 8,
    "start_time": "2024-04-19T14:25:19.466Z"
   },
   {
    "duration": 92,
    "start_time": "2024-04-19T14:25:19.475Z"
   },
   {
    "duration": 251,
    "start_time": "2024-04-19T14:25:19.568Z"
   },
   {
    "duration": 213,
    "start_time": "2024-04-19T14:25:19.821Z"
   },
   {
    "duration": 142,
    "start_time": "2024-04-19T14:25:20.036Z"
   },
   {
    "duration": 126,
    "start_time": "2024-04-19T14:25:20.180Z"
   },
   {
    "duration": 88,
    "start_time": "2024-04-19T14:25:20.307Z"
   },
   {
    "duration": 147,
    "start_time": "2024-04-19T14:25:20.397Z"
   },
   {
    "duration": 113,
    "start_time": "2024-04-19T14:25:20.545Z"
   },
   {
    "duration": 16003,
    "start_time": "2024-04-19T14:25:42.289Z"
   },
   {
    "duration": 1823,
    "start_time": "2024-04-19T14:25:58.295Z"
   },
   {
    "duration": 85,
    "start_time": "2024-04-19T14:26:00.120Z"
   },
   {
    "duration": 390,
    "start_time": "2024-04-19T14:26:00.207Z"
   },
   {
    "duration": 864,
    "start_time": "2024-04-19T14:26:00.600Z"
   },
   {
    "duration": 64,
    "start_time": "2024-04-19T14:26:01.466Z"
   },
   {
    "duration": 137,
    "start_time": "2024-04-19T14:26:01.532Z"
   },
   {
    "duration": 58,
    "start_time": "2024-04-19T14:26:01.671Z"
   },
   {
    "duration": 50,
    "start_time": "2024-04-19T14:26:01.732Z"
   },
   {
    "duration": 91,
    "start_time": "2024-04-19T14:26:01.783Z"
   },
   {
    "duration": 238,
    "start_time": "2024-04-19T14:26:01.876Z"
   },
   {
    "duration": 27,
    "start_time": "2024-04-19T14:26:02.116Z"
   },
   {
    "duration": 44,
    "start_time": "2024-04-19T14:26:02.145Z"
   },
   {
    "duration": 56,
    "start_time": "2024-04-19T14:26:02.193Z"
   },
   {
    "duration": 25,
    "start_time": "2024-04-19T14:26:02.251Z"
   },
   {
    "duration": 14,
    "start_time": "2024-04-19T14:26:02.278Z"
   },
   {
    "duration": 29,
    "start_time": "2024-04-19T14:26:02.294Z"
   },
   {
    "duration": 49,
    "start_time": "2024-04-19T14:26:02.325Z"
   },
   {
    "duration": 110,
    "start_time": "2024-04-19T14:26:02.375Z"
   },
   {
    "duration": 144,
    "start_time": "2024-04-19T14:26:02.487Z"
   },
   {
    "duration": 100,
    "start_time": "2024-04-19T14:26:02.632Z"
   },
   {
    "duration": 98,
    "start_time": "2024-04-19T14:26:02.733Z"
   },
   {
    "duration": 98,
    "start_time": "2024-04-19T14:26:02.832Z"
   },
   {
    "duration": 96,
    "start_time": "2024-04-19T14:26:02.932Z"
   },
   {
    "duration": 151,
    "start_time": "2024-04-19T14:26:03.029Z"
   },
   {
    "duration": 139,
    "start_time": "2024-04-19T14:26:03.181Z"
   },
   {
    "duration": 226,
    "start_time": "2024-04-19T14:26:03.321Z"
   },
   {
    "duration": 397,
    "start_time": "2024-04-19T14:26:03.548Z"
   },
   {
    "duration": 237,
    "start_time": "2024-04-19T14:26:03.947Z"
   },
   {
    "duration": 114,
    "start_time": "2024-04-19T14:26:04.185Z"
   },
   {
    "duration": 176,
    "start_time": "2024-04-19T14:26:04.300Z"
   },
   {
    "duration": 199,
    "start_time": "2024-04-19T14:26:04.478Z"
   },
   {
    "duration": 282,
    "start_time": "2024-04-19T14:26:04.679Z"
   },
   {
    "duration": 166,
    "start_time": "2024-04-19T14:26:04.963Z"
   },
   {
    "duration": 20,
    "start_time": "2024-04-19T14:26:05.130Z"
   },
   {
    "duration": 156,
    "start_time": "2024-04-19T14:26:05.152Z"
   },
   {
    "duration": 12,
    "start_time": "2024-04-19T14:26:05.310Z"
   },
   {
    "duration": 24,
    "start_time": "2024-04-19T14:26:05.324Z"
   },
   {
    "duration": 18,
    "start_time": "2024-04-19T14:26:05.350Z"
   },
   {
    "duration": 20,
    "start_time": "2024-04-19T14:26:05.370Z"
   },
   {
    "duration": 236,
    "start_time": "2024-04-19T14:26:05.395Z"
   },
   {
    "duration": 6,
    "start_time": "2024-04-19T14:26:05.632Z"
   },
   {
    "duration": 383,
    "start_time": "2024-04-19T14:26:05.639Z"
   },
   {
    "duration": 26,
    "start_time": "2024-04-19T14:26:06.023Z"
   },
   {
    "duration": 42,
    "start_time": "2024-04-19T14:26:06.051Z"
   },
   {
    "duration": 315,
    "start_time": "2024-04-19T14:26:06.094Z"
   },
   {
    "duration": 18,
    "start_time": "2024-04-19T14:26:06.411Z"
   },
   {
    "duration": 23,
    "start_time": "2024-04-19T14:26:06.430Z"
   },
   {
    "duration": 11,
    "start_time": "2024-04-19T14:26:06.455Z"
   },
   {
    "duration": 33,
    "start_time": "2024-04-19T14:26:06.467Z"
   },
   {
    "duration": 35,
    "start_time": "2024-04-19T14:26:06.502Z"
   },
   {
    "duration": 3782,
    "start_time": "2024-04-19T14:26:06.538Z"
   },
   {
    "duration": 5,
    "start_time": "2024-04-19T14:26:10.322Z"
   },
   {
    "duration": 22,
    "start_time": "2024-04-19T14:26:10.329Z"
   },
   {
    "duration": 28,
    "start_time": "2024-04-19T14:26:10.353Z"
   },
   {
    "duration": 34,
    "start_time": "2024-04-19T14:26:10.383Z"
   },
   {
    "duration": 297,
    "start_time": "2024-04-19T14:26:10.419Z"
   },
   {
    "duration": 3,
    "start_time": "2024-04-19T14:26:10.718Z"
   },
   {
    "duration": 55,
    "start_time": "2024-04-19T14:26:10.723Z"
   },
   {
    "duration": 35,
    "start_time": "2024-04-19T14:26:10.779Z"
   },
   {
    "duration": 32,
    "start_time": "2024-04-19T14:26:10.816Z"
   },
   {
    "duration": 25,
    "start_time": "2024-04-19T14:26:10.849Z"
   },
   {
    "duration": 30,
    "start_time": "2024-04-19T14:26:10.876Z"
   },
   {
    "duration": 1619,
    "start_time": "2024-04-19T14:26:10.907Z"
   },
   {
    "duration": 18,
    "start_time": "2024-04-19T14:26:12.528Z"
   },
   {
    "duration": 26,
    "start_time": "2024-04-19T14:26:12.547Z"
   },
   {
    "duration": 46,
    "start_time": "2024-04-19T14:26:12.574Z"
   },
   {
    "duration": 32,
    "start_time": "2024-04-19T14:26:12.622Z"
   },
   {
    "duration": 134,
    "start_time": "2024-04-19T14:26:12.655Z"
   },
   {
    "duration": 5,
    "start_time": "2024-04-19T14:26:12.792Z"
   },
   {
    "duration": 12,
    "start_time": "2024-04-19T14:26:12.799Z"
   },
   {
    "duration": 808,
    "start_time": "2024-04-19T14:26:12.813Z"
   },
   {
    "duration": 1302,
    "start_time": "2024-04-19T14:26:13.622Z"
   },
   {
    "duration": 3,
    "start_time": "2024-04-19T14:26:14.925Z"
   },
   {
    "duration": 208,
    "start_time": "2024-04-19T14:26:14.929Z"
   },
   {
    "duration": 520,
    "start_time": "2024-04-19T14:26:15.139Z"
   },
   {
    "duration": 420,
    "start_time": "2024-04-19T14:26:15.661Z"
   },
   {
    "duration": 13,
    "start_time": "2024-04-19T14:26:16.083Z"
   },
   {
    "duration": 93,
    "start_time": "2024-04-19T14:26:16.098Z"
   },
   {
    "duration": 233,
    "start_time": "2024-04-19T14:26:16.193Z"
   },
   {
    "duration": 179,
    "start_time": "2024-04-19T14:26:16.428Z"
   },
   {
    "duration": 143,
    "start_time": "2024-04-19T14:26:16.608Z"
   },
   {
    "duration": 124,
    "start_time": "2024-04-19T14:26:16.752Z"
   },
   {
    "duration": 78,
    "start_time": "2024-04-19T14:26:16.877Z"
   },
   {
    "duration": 141,
    "start_time": "2024-04-19T14:26:16.956Z"
   },
   {
    "duration": 112,
    "start_time": "2024-04-19T14:26:17.099Z"
   },
   {
    "duration": 16145,
    "start_time": "2024-04-19T14:27:04.592Z"
   },
   {
    "duration": 1876,
    "start_time": "2024-04-19T14:27:20.740Z"
   },
   {
    "duration": 93,
    "start_time": "2024-04-19T14:27:22.618Z"
   },
   {
    "duration": 42,
    "start_time": "2024-04-19T14:27:22.714Z"
   },
   {
    "duration": 50,
    "start_time": "2024-04-19T14:27:22.758Z"
   },
   {
    "duration": 67,
    "start_time": "2024-04-19T14:27:22.811Z"
   },
   {
    "duration": 53,
    "start_time": "2024-04-19T14:27:22.880Z"
   },
   {
    "duration": 49,
    "start_time": "2024-04-19T14:27:22.935Z"
   },
   {
    "duration": 24,
    "start_time": "2024-04-19T14:27:22.986Z"
   },
   {
    "duration": 26,
    "start_time": "2024-04-19T14:27:23.014Z"
   },
   {
    "duration": 47,
    "start_time": "2024-04-19T14:27:23.042Z"
   },
   {
    "duration": 59,
    "start_time": "2024-04-19T14:27:23.091Z"
   },
   {
    "duration": 71,
    "start_time": "2024-04-19T14:27:23.152Z"
   },
   {
    "duration": 38,
    "start_time": "2024-04-19T14:27:23.225Z"
   },
   {
    "duration": 30,
    "start_time": "2024-04-19T14:27:23.266Z"
   },
   {
    "duration": 32,
    "start_time": "2024-04-19T14:27:23.297Z"
   },
   {
    "duration": 53,
    "start_time": "2024-04-19T14:27:23.331Z"
   },
   {
    "duration": 129,
    "start_time": "2024-04-19T14:27:23.386Z"
   },
   {
    "duration": 117,
    "start_time": "2024-04-19T14:27:23.517Z"
   },
   {
    "duration": 75,
    "start_time": "2024-04-19T14:27:23.636Z"
   },
   {
    "duration": 103,
    "start_time": "2024-04-19T14:27:23.712Z"
   },
   {
    "duration": 105,
    "start_time": "2024-04-19T14:27:23.817Z"
   },
   {
    "duration": 88,
    "start_time": "2024-04-19T14:27:23.923Z"
   },
   {
    "duration": 103,
    "start_time": "2024-04-19T14:27:24.013Z"
   },
   {
    "duration": 164,
    "start_time": "2024-04-19T14:27:24.118Z"
   },
   {
    "duration": 129,
    "start_time": "2024-04-19T14:27:24.284Z"
   },
   {
    "duration": 240,
    "start_time": "2024-04-19T14:27:24.414Z"
   },
   {
    "duration": 403,
    "start_time": "2024-04-19T14:27:24.658Z"
   },
   {
    "duration": 279,
    "start_time": "2024-04-19T14:27:25.063Z"
   },
   {
    "duration": 118,
    "start_time": "2024-04-19T14:27:25.344Z"
   },
   {
    "duration": 197,
    "start_time": "2024-04-19T14:27:25.463Z"
   },
   {
    "duration": 361,
    "start_time": "2024-04-19T14:27:25.662Z"
   },
   {
    "duration": 392,
    "start_time": "2024-04-19T14:27:26.024Z"
   },
   {
    "duration": 181,
    "start_time": "2024-04-19T14:27:26.418Z"
   },
   {
    "duration": 21,
    "start_time": "2024-04-19T14:27:26.600Z"
   },
   {
    "duration": 171,
    "start_time": "2024-04-19T14:27:26.623Z"
   },
   {
    "duration": 12,
    "start_time": "2024-04-19T14:27:26.795Z"
   },
   {
    "duration": 18,
    "start_time": "2024-04-19T14:27:26.808Z"
   },
   {
    "duration": 13,
    "start_time": "2024-04-19T14:27:26.827Z"
   },
   {
    "duration": 11,
    "start_time": "2024-04-19T14:27:26.842Z"
   },
   {
    "duration": 256,
    "start_time": "2024-04-19T14:27:26.855Z"
   },
   {
    "duration": 6,
    "start_time": "2024-04-19T14:27:27.112Z"
   },
   {
    "duration": 376,
    "start_time": "2024-04-19T14:27:27.120Z"
   },
   {
    "duration": 20,
    "start_time": "2024-04-19T14:27:27.498Z"
   },
   {
    "duration": 20,
    "start_time": "2024-04-19T14:27:27.519Z"
   },
   {
    "duration": 307,
    "start_time": "2024-04-19T14:27:27.541Z"
   },
   {
    "duration": 17,
    "start_time": "2024-04-19T14:27:27.849Z"
   },
   {
    "duration": 27,
    "start_time": "2024-04-19T14:27:27.868Z"
   },
   {
    "duration": 12,
    "start_time": "2024-04-19T14:27:27.897Z"
   },
   {
    "duration": 22,
    "start_time": "2024-04-19T14:27:27.910Z"
   },
   {
    "duration": 44,
    "start_time": "2024-04-19T14:27:27.933Z"
   },
   {
    "duration": 3889,
    "start_time": "2024-04-19T14:27:27.991Z"
   },
   {
    "duration": 4,
    "start_time": "2024-04-19T14:27:31.882Z"
   },
   {
    "duration": 324,
    "start_time": "2024-04-19T14:27:31.888Z"
   },
   {
    "duration": 187,
    "start_time": "2024-04-19T14:27:32.214Z"
   },
   {
    "duration": 6,
    "start_time": "2024-04-19T14:27:32.403Z"
   },
   {
    "duration": 258,
    "start_time": "2024-04-19T14:27:32.410Z"
   },
   {
    "duration": 3,
    "start_time": "2024-04-19T14:27:32.670Z"
   },
   {
    "duration": 23,
    "start_time": "2024-04-19T14:27:32.675Z"
   },
   {
    "duration": 8,
    "start_time": "2024-04-19T14:27:32.700Z"
   },
   {
    "duration": 9,
    "start_time": "2024-04-19T14:27:32.709Z"
   },
   {
    "duration": 14,
    "start_time": "2024-04-19T14:27:32.720Z"
   },
   {
    "duration": 21,
    "start_time": "2024-04-19T14:27:32.735Z"
   },
   {
    "duration": 1568,
    "start_time": "2024-04-19T14:27:32.758Z"
   },
   {
    "duration": 20,
    "start_time": "2024-04-19T14:27:34.328Z"
   },
   {
    "duration": 38,
    "start_time": "2024-04-19T14:27:34.349Z"
   },
   {
    "duration": 47,
    "start_time": "2024-04-19T14:27:34.391Z"
   },
   {
    "duration": 26,
    "start_time": "2024-04-19T14:27:34.440Z"
   },
   {
    "duration": 139,
    "start_time": "2024-04-19T14:27:34.468Z"
   },
   {
    "duration": 6,
    "start_time": "2024-04-19T14:27:34.608Z"
   },
   {
    "duration": 31,
    "start_time": "2024-04-19T14:27:34.616Z"
   },
   {
    "duration": 638,
    "start_time": "2024-04-19T14:27:34.649Z"
   },
   {
    "duration": 1204,
    "start_time": "2024-04-19T14:27:35.288Z"
   },
   {
    "duration": 3,
    "start_time": "2024-04-19T14:27:36.493Z"
   },
   {
    "duration": 240,
    "start_time": "2024-04-19T14:27:36.497Z"
   },
   {
    "duration": 432,
    "start_time": "2024-04-19T14:27:36.739Z"
   },
   {
    "duration": 432,
    "start_time": "2024-04-19T14:27:37.173Z"
   },
   {
    "duration": 8,
    "start_time": "2024-04-19T14:27:37.607Z"
   },
   {
    "duration": 89,
    "start_time": "2024-04-19T14:27:37.616Z"
   },
   {
    "duration": 240,
    "start_time": "2024-04-19T14:27:37.707Z"
   },
   {
    "duration": 181,
    "start_time": "2024-04-19T14:27:37.948Z"
   },
   {
    "duration": 140,
    "start_time": "2024-04-19T14:27:38.135Z"
   },
   {
    "duration": 107,
    "start_time": "2024-04-19T14:27:38.276Z"
   },
   {
    "duration": 73,
    "start_time": "2024-04-19T14:27:38.391Z"
   },
   {
    "duration": 149,
    "start_time": "2024-04-19T14:27:38.466Z"
   },
   {
    "duration": 111,
    "start_time": "2024-04-19T14:27:38.617Z"
   },
   {
    "duration": 15963,
    "start_time": "2024-04-19T14:56:27.560Z"
   },
   {
    "duration": 1808,
    "start_time": "2024-04-19T14:56:43.526Z"
   },
   {
    "duration": 84,
    "start_time": "2024-04-19T14:56:45.335Z"
   },
   {
    "duration": 30,
    "start_time": "2024-04-19T14:56:45.422Z"
   },
   {
    "duration": 12,
    "start_time": "2024-04-19T14:56:45.454Z"
   },
   {
    "duration": 38,
    "start_time": "2024-04-19T14:56:45.468Z"
   },
   {
    "duration": 31,
    "start_time": "2024-04-19T14:56:45.508Z"
   },
   {
    "duration": 38,
    "start_time": "2024-04-19T14:56:45.541Z"
   },
   {
    "duration": 27,
    "start_time": "2024-04-19T14:56:45.581Z"
   },
   {
    "duration": 25,
    "start_time": "2024-04-19T14:56:45.611Z"
   },
   {
    "duration": 49,
    "start_time": "2024-04-19T14:56:45.638Z"
   },
   {
    "duration": 11,
    "start_time": "2024-04-19T14:56:45.688Z"
   },
   {
    "duration": 24,
    "start_time": "2024-04-19T14:56:45.700Z"
   },
   {
    "duration": 24,
    "start_time": "2024-04-19T14:56:45.725Z"
   },
   {
    "duration": 7,
    "start_time": "2024-04-19T14:56:45.750Z"
   },
   {
    "duration": 8,
    "start_time": "2024-04-19T14:56:45.759Z"
   },
   {
    "duration": 6,
    "start_time": "2024-04-19T14:56:45.769Z"
   },
   {
    "duration": 7,
    "start_time": "2024-04-19T14:56:45.777Z"
   },
   {
    "duration": 14,
    "start_time": "2024-04-19T14:56:45.785Z"
   },
   {
    "duration": 39,
    "start_time": "2024-04-19T14:56:45.800Z"
   },
   {
    "duration": 98,
    "start_time": "2024-04-19T14:56:45.840Z"
   },
   {
    "duration": 104,
    "start_time": "2024-04-19T14:56:45.940Z"
   },
   {
    "duration": 79,
    "start_time": "2024-04-19T14:56:46.045Z"
   },
   {
    "duration": 84,
    "start_time": "2024-04-19T14:56:46.126Z"
   },
   {
    "duration": 149,
    "start_time": "2024-04-19T14:56:46.212Z"
   },
   {
    "duration": 147,
    "start_time": "2024-04-19T14:56:46.363Z"
   },
   {
    "duration": 256,
    "start_time": "2024-04-19T14:56:46.513Z"
   },
   {
    "duration": 401,
    "start_time": "2024-04-19T14:56:46.775Z"
   },
   {
    "duration": 231,
    "start_time": "2024-04-19T14:56:47.178Z"
   },
   {
    "duration": 115,
    "start_time": "2024-04-19T14:56:47.411Z"
   },
   {
    "duration": 201,
    "start_time": "2024-04-19T14:56:47.528Z"
   },
   {
    "duration": 213,
    "start_time": "2024-04-19T14:56:47.730Z"
   },
   {
    "duration": 340,
    "start_time": "2024-04-19T14:56:47.945Z"
   },
   {
    "duration": 176,
    "start_time": "2024-04-19T14:56:48.290Z"
   },
   {
    "duration": 24,
    "start_time": "2024-04-19T14:56:48.468Z"
   },
   {
    "duration": 153,
    "start_time": "2024-04-19T14:56:48.494Z"
   },
   {
    "duration": 11,
    "start_time": "2024-04-19T14:56:48.648Z"
   },
   {
    "duration": 15,
    "start_time": "2024-04-19T14:56:48.661Z"
   },
   {
    "duration": 5,
    "start_time": "2024-04-19T14:56:48.691Z"
   },
   {
    "duration": 10,
    "start_time": "2024-04-19T14:56:48.697Z"
   },
   {
    "duration": 244,
    "start_time": "2024-04-19T14:56:48.708Z"
   },
   {
    "duration": 6,
    "start_time": "2024-04-19T14:56:48.954Z"
   },
   {
    "duration": 369,
    "start_time": "2024-04-19T14:56:48.962Z"
   },
   {
    "duration": 22,
    "start_time": "2024-04-19T14:56:49.332Z"
   },
   {
    "duration": 42,
    "start_time": "2024-04-19T14:56:49.356Z"
   },
   {
    "duration": 317,
    "start_time": "2024-04-19T14:56:49.400Z"
   },
   {
    "duration": 19,
    "start_time": "2024-04-19T14:56:49.719Z"
   },
   {
    "duration": 11,
    "start_time": "2024-04-19T14:56:49.740Z"
   },
   {
    "duration": 41,
    "start_time": "2024-04-19T14:56:49.753Z"
   },
   {
    "duration": 22,
    "start_time": "2024-04-19T14:56:49.796Z"
   },
   {
    "duration": 41,
    "start_time": "2024-04-19T14:56:49.821Z"
   },
   {
    "duration": 3868,
    "start_time": "2024-04-19T14:56:49.863Z"
   },
   {
    "duration": 5,
    "start_time": "2024-04-19T14:56:53.733Z"
   },
   {
    "duration": 34,
    "start_time": "2024-04-19T14:56:53.739Z"
   },
   {
    "duration": 8,
    "start_time": "2024-04-19T14:56:53.775Z"
   },
   {
    "duration": 7,
    "start_time": "2024-04-19T14:56:53.784Z"
   },
   {
    "duration": 281,
    "start_time": "2024-04-19T14:56:53.793Z"
   },
   {
    "duration": 3,
    "start_time": "2024-04-19T14:56:54.076Z"
   },
   {
    "duration": 10,
    "start_time": "2024-04-19T14:56:54.081Z"
   },
   {
    "duration": 5,
    "start_time": "2024-04-19T14:56:54.093Z"
   },
   {
    "duration": 8,
    "start_time": "2024-04-19T14:56:54.100Z"
   },
   {
    "duration": 20,
    "start_time": "2024-04-19T14:56:54.110Z"
   },
   {
    "duration": 18,
    "start_time": "2024-04-19T14:56:54.132Z"
   },
   {
    "duration": 1592,
    "start_time": "2024-04-19T14:56:54.151Z"
   },
   {
    "duration": 19,
    "start_time": "2024-04-19T14:56:55.745Z"
   },
   {
    "duration": 38,
    "start_time": "2024-04-19T14:56:55.766Z"
   },
   {
    "duration": 34,
    "start_time": "2024-04-19T14:56:55.807Z"
   },
   {
    "duration": 12,
    "start_time": "2024-04-19T14:56:55.844Z"
   },
   {
    "duration": 5946,
    "start_time": "2024-04-19T14:56:55.858Z"
   },
   {
    "duration": 168,
    "start_time": "2024-04-19T14:57:01.806Z"
   },
   {
    "duration": 0,
    "start_time": "2024-04-19T14:57:01.976Z"
   },
   {
    "duration": 0,
    "start_time": "2024-04-19T14:57:01.977Z"
   },
   {
    "duration": 0,
    "start_time": "2024-04-19T14:57:01.978Z"
   },
   {
    "duration": 0,
    "start_time": "2024-04-19T14:57:01.980Z"
   },
   {
    "duration": 0,
    "start_time": "2024-04-19T14:57:01.981Z"
   },
   {
    "duration": 0,
    "start_time": "2024-04-19T14:57:01.982Z"
   },
   {
    "duration": 0,
    "start_time": "2024-04-19T14:57:01.983Z"
   },
   {
    "duration": 0,
    "start_time": "2024-04-19T14:57:01.992Z"
   },
   {
    "duration": 0,
    "start_time": "2024-04-19T14:57:01.993Z"
   },
   {
    "duration": 0,
    "start_time": "2024-04-19T14:57:01.994Z"
   },
   {
    "duration": 0,
    "start_time": "2024-04-19T14:57:01.995Z"
   },
   {
    "duration": 0,
    "start_time": "2024-04-19T14:57:01.996Z"
   },
   {
    "duration": 0,
    "start_time": "2024-04-19T14:57:01.997Z"
   },
   {
    "duration": 0,
    "start_time": "2024-04-19T14:57:01.998Z"
   },
   {
    "duration": 0,
    "start_time": "2024-04-19T14:57:02.000Z"
   },
   {
    "duration": 0,
    "start_time": "2024-04-19T14:57:02.001Z"
   },
   {
    "duration": 0,
    "start_time": "2024-04-19T14:57:02.002Z"
   },
   {
    "duration": 0,
    "start_time": "2024-04-19T14:57:02.004Z"
   },
   {
    "duration": 3,
    "start_time": "2024-04-19T14:57:20.625Z"
   },
   {
    "duration": 6,
    "start_time": "2024-04-19T14:58:39.656Z"
   },
   {
    "duration": 13,
    "start_time": "2024-04-19T14:58:48.232Z"
   },
   {
    "duration": 14,
    "start_time": "2024-04-19T14:59:07.616Z"
   },
   {
    "duration": 11,
    "start_time": "2024-04-19T14:59:20.759Z"
   },
   {
    "duration": 14,
    "start_time": "2024-04-19T14:59:42.777Z"
   },
   {
    "duration": 14,
    "start_time": "2024-04-19T15:00:16.901Z"
   },
   {
    "duration": 12,
    "start_time": "2024-04-19T15:01:18.078Z"
   },
   {
    "duration": 15466,
    "start_time": "2024-04-19T15:05:30.961Z"
   },
   {
    "duration": 1812,
    "start_time": "2024-04-19T15:05:46.429Z"
   },
   {
    "duration": 83,
    "start_time": "2024-04-19T15:05:48.242Z"
   },
   {
    "duration": 32,
    "start_time": "2024-04-19T15:05:48.328Z"
   },
   {
    "duration": 14,
    "start_time": "2024-04-19T15:05:48.361Z"
   },
   {
    "duration": 22,
    "start_time": "2024-04-19T15:05:48.377Z"
   },
   {
    "duration": 11,
    "start_time": "2024-04-19T15:05:48.401Z"
   },
   {
    "duration": 43,
    "start_time": "2024-04-19T15:05:48.414Z"
   },
   {
    "duration": 13,
    "start_time": "2024-04-19T15:05:48.459Z"
   },
   {
    "duration": 24,
    "start_time": "2024-04-19T15:05:48.476Z"
   },
   {
    "duration": 24,
    "start_time": "2024-04-19T15:05:48.502Z"
   },
   {
    "duration": 9,
    "start_time": "2024-04-19T15:05:48.528Z"
   },
   {
    "duration": 7,
    "start_time": "2024-04-19T15:05:48.538Z"
   },
   {
    "duration": 23,
    "start_time": "2024-04-19T15:05:48.547Z"
   },
   {
    "duration": 18,
    "start_time": "2024-04-19T15:05:48.571Z"
   },
   {
    "duration": 20,
    "start_time": "2024-04-19T15:05:48.591Z"
   },
   {
    "duration": 13,
    "start_time": "2024-04-19T15:05:48.613Z"
   },
   {
    "duration": 8,
    "start_time": "2024-04-19T15:05:48.628Z"
   },
   {
    "duration": 11,
    "start_time": "2024-04-19T15:05:48.637Z"
   },
   {
    "duration": 41,
    "start_time": "2024-04-19T15:05:48.649Z"
   },
   {
    "duration": 90,
    "start_time": "2024-04-19T15:05:48.692Z"
   },
   {
    "duration": 86,
    "start_time": "2024-04-19T15:05:48.790Z"
   },
   {
    "duration": 85,
    "start_time": "2024-04-19T15:05:48.878Z"
   },
   {
    "duration": 90,
    "start_time": "2024-04-19T15:05:48.965Z"
   },
   {
    "duration": 139,
    "start_time": "2024-04-19T15:05:49.057Z"
   },
   {
    "duration": 141,
    "start_time": "2024-04-19T15:05:49.199Z"
   },
   {
    "duration": 245,
    "start_time": "2024-04-19T15:05:49.342Z"
   },
   {
    "duration": 401,
    "start_time": "2024-04-19T15:05:49.592Z"
   },
   {
    "duration": 241,
    "start_time": "2024-04-19T15:05:49.995Z"
   },
   {
    "duration": 126,
    "start_time": "2024-04-19T15:05:50.237Z"
   },
   {
    "duration": 191,
    "start_time": "2024-04-19T15:05:50.364Z"
   },
   {
    "duration": 213,
    "start_time": "2024-04-19T15:05:50.557Z"
   },
   {
    "duration": 319,
    "start_time": "2024-04-19T15:05:50.772Z"
   },
   {
    "duration": 190,
    "start_time": "2024-04-19T15:05:51.093Z"
   },
   {
    "duration": 27,
    "start_time": "2024-04-19T15:05:51.284Z"
   },
   {
    "duration": 263,
    "start_time": "2024-04-19T15:05:51.313Z"
   },
   {
    "duration": 12,
    "start_time": "2024-04-19T15:05:51.577Z"
   },
   {
    "duration": 36,
    "start_time": "2024-04-19T15:05:51.591Z"
   },
   {
    "duration": 19,
    "start_time": "2024-04-19T15:05:51.629Z"
   },
   {
    "duration": 8,
    "start_time": "2024-04-19T15:05:51.649Z"
   },
   {
    "duration": 262,
    "start_time": "2024-04-19T15:05:51.658Z"
   },
   {
    "duration": 5,
    "start_time": "2024-04-19T15:05:51.922Z"
   },
   {
    "duration": 393,
    "start_time": "2024-04-19T15:05:51.929Z"
   },
   {
    "duration": 28,
    "start_time": "2024-04-19T15:05:52.324Z"
   },
   {
    "duration": 38,
    "start_time": "2024-04-19T15:05:52.354Z"
   },
   {
    "duration": 285,
    "start_time": "2024-04-19T15:05:52.395Z"
   },
   {
    "duration": 23,
    "start_time": "2024-04-19T15:05:52.682Z"
   },
   {
    "duration": 9,
    "start_time": "2024-04-19T15:05:52.706Z"
   },
   {
    "duration": 16,
    "start_time": "2024-04-19T15:05:52.717Z"
   },
   {
    "duration": 32,
    "start_time": "2024-04-19T15:05:52.734Z"
   },
   {
    "duration": 44,
    "start_time": "2024-04-19T15:05:52.768Z"
   },
   {
    "duration": 3832,
    "start_time": "2024-04-19T15:05:52.814Z"
   },
   {
    "duration": 5,
    "start_time": "2024-04-19T15:05:56.647Z"
   },
   {
    "duration": 15,
    "start_time": "2024-04-19T15:05:56.653Z"
   },
   {
    "duration": 89,
    "start_time": "2024-04-19T15:05:56.670Z"
   },
   {
    "duration": 226,
    "start_time": "2024-04-19T15:05:56.761Z"
   },
   {
    "duration": 338,
    "start_time": "2024-04-19T15:05:56.989Z"
   },
   {
    "duration": 4,
    "start_time": "2024-04-19T15:05:57.328Z"
   },
   {
    "duration": 11,
    "start_time": "2024-04-19T15:05:57.334Z"
   },
   {
    "duration": 5,
    "start_time": "2024-04-19T15:05:57.347Z"
   },
   {
    "duration": 20,
    "start_time": "2024-04-19T15:05:57.354Z"
   },
   {
    "duration": 26,
    "start_time": "2024-04-19T15:05:57.376Z"
   },
   {
    "duration": 36,
    "start_time": "2024-04-19T15:05:57.405Z"
   },
   {
    "duration": 1726,
    "start_time": "2024-04-19T15:05:57.443Z"
   },
   {
    "duration": 20,
    "start_time": "2024-04-19T15:05:59.171Z"
   },
   {
    "duration": 37,
    "start_time": "2024-04-19T15:05:59.192Z"
   },
   {
    "duration": 41,
    "start_time": "2024-04-19T15:05:59.231Z"
   },
   {
    "duration": 5938,
    "start_time": "2024-04-19T15:05:59.273Z"
   },
   {
    "duration": 3,
    "start_time": "2024-04-19T15:06:05.213Z"
   },
   {
    "duration": 21,
    "start_time": "2024-04-19T15:06:05.218Z"
   },
   {
    "duration": 37,
    "start_time": "2024-04-19T15:06:05.241Z"
   },
   {
    "duration": 179,
    "start_time": "2024-04-19T15:06:05.280Z"
   },
   {
    "duration": 0,
    "start_time": "2024-04-19T15:06:05.461Z"
   },
   {
    "duration": 0,
    "start_time": "2024-04-19T15:06:05.462Z"
   },
   {
    "duration": 0,
    "start_time": "2024-04-19T15:06:05.464Z"
   },
   {
    "duration": 0,
    "start_time": "2024-04-19T15:06:05.465Z"
   },
   {
    "duration": 0,
    "start_time": "2024-04-19T15:06:05.466Z"
   },
   {
    "duration": 0,
    "start_time": "2024-04-19T15:06:05.468Z"
   },
   {
    "duration": 0,
    "start_time": "2024-04-19T15:06:05.469Z"
   },
   {
    "duration": 0,
    "start_time": "2024-04-19T15:06:05.470Z"
   },
   {
    "duration": 0,
    "start_time": "2024-04-19T15:06:05.472Z"
   },
   {
    "duration": 0,
    "start_time": "2024-04-19T15:06:05.473Z"
   },
   {
    "duration": 0,
    "start_time": "2024-04-19T15:06:05.491Z"
   },
   {
    "duration": 0,
    "start_time": "2024-04-19T15:06:05.492Z"
   },
   {
    "duration": 0,
    "start_time": "2024-04-19T15:06:05.493Z"
   },
   {
    "duration": 0,
    "start_time": "2024-04-19T15:06:05.494Z"
   },
   {
    "duration": 17,
    "start_time": "2024-04-19T15:10:33.389Z"
   },
   {
    "duration": 13,
    "start_time": "2024-04-19T15:11:46.993Z"
   },
   {
    "duration": 13,
    "start_time": "2024-04-19T15:13:30.776Z"
   },
   {
    "duration": 12,
    "start_time": "2024-04-19T15:13:57.405Z"
   },
   {
    "duration": 25,
    "start_time": "2024-04-19T15:14:01.577Z"
   },
   {
    "duration": 23,
    "start_time": "2024-04-19T15:15:13.953Z"
   },
   {
    "duration": 6,
    "start_time": "2024-04-19T15:16:16.840Z"
   },
   {
    "duration": 25,
    "start_time": "2024-04-19T15:16:20.747Z"
   },
   {
    "duration": 20,
    "start_time": "2024-04-19T15:19:54.221Z"
   },
   {
    "duration": 22,
    "start_time": "2024-04-19T15:19:56.724Z"
   },
   {
    "duration": 17,
    "start_time": "2024-04-19T15:22:09.421Z"
   },
   {
    "duration": 16,
    "start_time": "2024-04-19T15:22:20.485Z"
   },
   {
    "duration": 12,
    "start_time": "2024-04-19T15:23:10.950Z"
   },
   {
    "duration": 21,
    "start_time": "2024-04-19T15:23:12.643Z"
   },
   {
    "duration": 21,
    "start_time": "2024-04-19T15:24:06.927Z"
   },
   {
    "duration": 29,
    "start_time": "2024-04-19T15:24:26.015Z"
   },
   {
    "duration": 22,
    "start_time": "2024-04-19T15:24:28.461Z"
   },
   {
    "duration": 21,
    "start_time": "2024-04-19T15:24:51.435Z"
   },
   {
    "duration": 22,
    "start_time": "2024-04-19T15:24:52.638Z"
   },
   {
    "duration": 21,
    "start_time": "2024-04-19T15:25:03.455Z"
   },
   {
    "duration": 23,
    "start_time": "2024-04-19T15:25:33.999Z"
   },
   {
    "duration": 24,
    "start_time": "2024-04-19T15:25:36.317Z"
   },
   {
    "duration": 3,
    "start_time": "2024-04-19T15:26:16.851Z"
   },
   {
    "duration": 18,
    "start_time": "2024-04-19T15:27:27.594Z"
   },
   {
    "duration": 17,
    "start_time": "2024-04-19T15:28:51.062Z"
   },
   {
    "duration": 4,
    "start_time": "2024-04-19T15:28:58.222Z"
   },
   {
    "duration": 16859,
    "start_time": "2024-04-19T15:29:19.470Z"
   },
   {
    "duration": 1930,
    "start_time": "2024-04-19T15:29:36.331Z"
   },
   {
    "duration": 84,
    "start_time": "2024-04-19T15:29:38.263Z"
   },
   {
    "duration": 30,
    "start_time": "2024-04-19T15:29:38.349Z"
   },
   {
    "duration": 13,
    "start_time": "2024-04-19T15:29:38.381Z"
   },
   {
    "duration": 11,
    "start_time": "2024-04-19T15:29:38.395Z"
   },
   {
    "duration": 35,
    "start_time": "2024-04-19T15:29:38.408Z"
   },
   {
    "duration": 31,
    "start_time": "2024-04-19T15:29:38.445Z"
   },
   {
    "duration": 5,
    "start_time": "2024-04-19T15:29:38.477Z"
   },
   {
    "duration": 11,
    "start_time": "2024-04-19T15:29:38.483Z"
   },
   {
    "duration": 15,
    "start_time": "2024-04-19T15:29:38.496Z"
   },
   {
    "duration": 10,
    "start_time": "2024-04-19T15:29:38.513Z"
   },
   {
    "duration": 10,
    "start_time": "2024-04-19T15:29:38.524Z"
   },
   {
    "duration": 8,
    "start_time": "2024-04-19T15:29:38.537Z"
   },
   {
    "duration": 7,
    "start_time": "2024-04-19T15:29:38.547Z"
   },
   {
    "duration": 14,
    "start_time": "2024-04-19T15:29:38.556Z"
   },
   {
    "duration": 21,
    "start_time": "2024-04-19T15:29:38.572Z"
   },
   {
    "duration": 11,
    "start_time": "2024-04-19T15:29:38.595Z"
   },
   {
    "duration": 14,
    "start_time": "2024-04-19T15:29:38.608Z"
   },
   {
    "duration": 40,
    "start_time": "2024-04-19T15:29:38.624Z"
   },
   {
    "duration": 111,
    "start_time": "2024-04-19T15:29:38.666Z"
   },
   {
    "duration": 112,
    "start_time": "2024-04-19T15:29:38.779Z"
   },
   {
    "duration": 76,
    "start_time": "2024-04-19T15:29:38.893Z"
   },
   {
    "duration": 101,
    "start_time": "2024-04-19T15:29:38.972Z"
   },
   {
    "duration": 165,
    "start_time": "2024-04-19T15:29:39.074Z"
   },
   {
    "duration": 132,
    "start_time": "2024-04-19T15:29:39.241Z"
   },
   {
    "duration": 258,
    "start_time": "2024-04-19T15:29:39.375Z"
   },
   {
    "duration": 411,
    "start_time": "2024-04-19T15:29:39.635Z"
   },
   {
    "duration": 249,
    "start_time": "2024-04-19T15:29:40.047Z"
   },
   {
    "duration": 126,
    "start_time": "2024-04-19T15:29:40.299Z"
   },
   {
    "duration": 191,
    "start_time": "2024-04-19T15:29:40.427Z"
   },
   {
    "duration": 215,
    "start_time": "2024-04-19T15:29:40.620Z"
   },
   {
    "duration": 313,
    "start_time": "2024-04-19T15:29:40.837Z"
   },
   {
    "duration": 182,
    "start_time": "2024-04-19T15:29:41.152Z"
   },
   {
    "duration": 21,
    "start_time": "2024-04-19T15:29:41.336Z"
   },
   {
    "duration": 172,
    "start_time": "2024-04-19T15:29:41.359Z"
   },
   {
    "duration": 12,
    "start_time": "2024-04-19T15:29:41.532Z"
   },
   {
    "duration": 13,
    "start_time": "2024-04-19T15:29:41.545Z"
   },
   {
    "duration": 12,
    "start_time": "2024-04-19T15:29:41.560Z"
   },
   {
    "duration": 27,
    "start_time": "2024-04-19T15:29:41.573Z"
   },
   {
    "duration": 234,
    "start_time": "2024-04-19T15:29:41.605Z"
   },
   {
    "duration": 5,
    "start_time": "2024-04-19T15:29:41.841Z"
   },
   {
    "duration": 430,
    "start_time": "2024-04-19T15:29:41.848Z"
   },
   {
    "duration": 36,
    "start_time": "2024-04-19T15:29:42.280Z"
   },
   {
    "duration": 29,
    "start_time": "2024-04-19T15:29:42.317Z"
   },
   {
    "duration": 307,
    "start_time": "2024-04-19T15:29:42.348Z"
   },
   {
    "duration": 21,
    "start_time": "2024-04-19T15:29:42.658Z"
   },
   {
    "duration": 24,
    "start_time": "2024-04-19T15:29:42.691Z"
   },
   {
    "duration": 28,
    "start_time": "2024-04-19T15:29:42.717Z"
   },
   {
    "duration": 20,
    "start_time": "2024-04-19T15:29:42.747Z"
   },
   {
    "duration": 42,
    "start_time": "2024-04-19T15:29:42.769Z"
   },
   {
    "duration": 3938,
    "start_time": "2024-04-19T15:29:42.813Z"
   },
   {
    "duration": 6,
    "start_time": "2024-04-19T15:29:46.754Z"
   },
   {
    "duration": 31,
    "start_time": "2024-04-19T15:29:46.762Z"
   },
   {
    "duration": 38,
    "start_time": "2024-04-19T15:29:46.794Z"
   },
   {
    "duration": 15,
    "start_time": "2024-04-19T15:29:46.834Z"
   },
   {
    "duration": 286,
    "start_time": "2024-04-19T15:29:46.851Z"
   },
   {
    "duration": 4,
    "start_time": "2024-04-19T15:29:47.139Z"
   },
   {
    "duration": 29,
    "start_time": "2024-04-19T15:29:47.145Z"
   },
   {
    "duration": 11,
    "start_time": "2024-04-19T15:29:47.176Z"
   },
   {
    "duration": 14,
    "start_time": "2024-04-19T15:29:47.188Z"
   },
   {
    "duration": 4,
    "start_time": "2024-04-19T15:29:47.204Z"
   },
   {
    "duration": 6,
    "start_time": "2024-04-19T15:29:47.209Z"
   },
   {
    "duration": 1647,
    "start_time": "2024-04-19T15:29:47.216Z"
   },
   {
    "duration": 27,
    "start_time": "2024-04-19T15:29:48.865Z"
   },
   {
    "duration": 56,
    "start_time": "2024-04-19T15:29:48.894Z"
   },
   {
    "duration": 58,
    "start_time": "2024-04-19T15:29:48.952Z"
   },
   {
    "duration": 60,
    "start_time": "2024-04-19T15:29:49.012Z"
   },
   {
    "duration": 6087,
    "start_time": "2024-04-19T15:29:49.074Z"
   },
   {
    "duration": 4,
    "start_time": "2024-04-19T15:29:55.163Z"
   },
   {
    "duration": 75,
    "start_time": "2024-04-19T15:29:55.169Z"
   },
   {
    "duration": 53,
    "start_time": "2024-04-19T15:29:55.246Z"
   },
   {
    "duration": 199,
    "start_time": "2024-04-19T15:29:55.301Z"
   },
   {
    "duration": 0,
    "start_time": "2024-04-19T15:29:55.503Z"
   },
   {
    "duration": 0,
    "start_time": "2024-04-19T15:29:55.504Z"
   },
   {
    "duration": 0,
    "start_time": "2024-04-19T15:29:55.505Z"
   },
   {
    "duration": 0,
    "start_time": "2024-04-19T15:29:55.506Z"
   },
   {
    "duration": 0,
    "start_time": "2024-04-19T15:29:55.507Z"
   },
   {
    "duration": 0,
    "start_time": "2024-04-19T15:29:55.508Z"
   },
   {
    "duration": 0,
    "start_time": "2024-04-19T15:29:55.509Z"
   },
   {
    "duration": 0,
    "start_time": "2024-04-19T15:29:55.510Z"
   },
   {
    "duration": 0,
    "start_time": "2024-04-19T15:29:55.511Z"
   },
   {
    "duration": 0,
    "start_time": "2024-04-19T15:29:55.512Z"
   },
   {
    "duration": 0,
    "start_time": "2024-04-19T15:29:55.513Z"
   },
   {
    "duration": 0,
    "start_time": "2024-04-19T15:29:55.514Z"
   },
   {
    "duration": 0,
    "start_time": "2024-04-19T15:29:55.515Z"
   },
   {
    "duration": 0,
    "start_time": "2024-04-19T15:29:55.516Z"
   },
   {
    "duration": 11,
    "start_time": "2024-04-19T15:30:36.291Z"
   },
   {
    "duration": 12,
    "start_time": "2024-04-19T15:30:48.258Z"
   },
   {
    "duration": 15,
    "start_time": "2024-04-19T15:38:09.266Z"
   },
   {
    "duration": 4,
    "start_time": "2024-04-19T15:38:17.978Z"
   },
   {
    "duration": 113,
    "start_time": "2024-04-19T15:38:34.279Z"
   },
   {
    "duration": 1227,
    "start_time": "2024-04-19T15:40:44.772Z"
   },
   {
    "duration": 11,
    "start_time": "2024-04-19T15:42:38.700Z"
   },
   {
    "duration": 10,
    "start_time": "2024-04-19T15:42:49.431Z"
   },
   {
    "duration": 14,
    "start_time": "2024-04-19T15:42:57.084Z"
   },
   {
    "duration": 16483,
    "start_time": "2024-04-19T15:43:03.723Z"
   },
   {
    "duration": 1827,
    "start_time": "2024-04-19T15:43:20.209Z"
   },
   {
    "duration": 83,
    "start_time": "2024-04-19T15:43:22.038Z"
   },
   {
    "duration": 33,
    "start_time": "2024-04-19T15:43:22.123Z"
   },
   {
    "duration": 15,
    "start_time": "2024-04-19T15:43:22.158Z"
   },
   {
    "duration": 15,
    "start_time": "2024-04-19T15:43:22.175Z"
   },
   {
    "duration": 14,
    "start_time": "2024-04-19T15:43:22.191Z"
   },
   {
    "duration": 13,
    "start_time": "2024-04-19T15:43:22.207Z"
   },
   {
    "duration": 32,
    "start_time": "2024-04-19T15:43:22.222Z"
   },
   {
    "duration": 16,
    "start_time": "2024-04-19T15:43:22.256Z"
   },
   {
    "duration": 47,
    "start_time": "2024-04-19T15:43:22.274Z"
   },
   {
    "duration": 28,
    "start_time": "2024-04-19T15:43:22.323Z"
   },
   {
    "duration": 9,
    "start_time": "2024-04-19T15:43:22.353Z"
   },
   {
    "duration": 23,
    "start_time": "2024-04-19T15:43:22.366Z"
   },
   {
    "duration": 7,
    "start_time": "2024-04-19T15:43:22.391Z"
   },
   {
    "duration": 24,
    "start_time": "2024-04-19T15:43:22.400Z"
   },
   {
    "duration": 22,
    "start_time": "2024-04-19T15:43:22.426Z"
   },
   {
    "duration": 27,
    "start_time": "2024-04-19T15:43:22.450Z"
   },
   {
    "duration": 37,
    "start_time": "2024-04-19T15:43:22.479Z"
   },
   {
    "duration": 72,
    "start_time": "2024-04-19T15:43:22.517Z"
   },
   {
    "duration": 93,
    "start_time": "2024-04-19T15:43:22.591Z"
   },
   {
    "duration": 93,
    "start_time": "2024-04-19T15:43:22.686Z"
   },
   {
    "duration": 88,
    "start_time": "2024-04-19T15:43:22.792Z"
   },
   {
    "duration": 81,
    "start_time": "2024-04-19T15:43:22.891Z"
   },
   {
    "duration": 158,
    "start_time": "2024-04-19T15:43:22.974Z"
   },
   {
    "duration": 129,
    "start_time": "2024-04-19T15:43:23.133Z"
   },
   {
    "duration": 238,
    "start_time": "2024-04-19T15:43:23.264Z"
   },
   {
    "duration": 396,
    "start_time": "2024-04-19T15:43:23.504Z"
   },
   {
    "duration": 263,
    "start_time": "2024-04-19T15:43:23.902Z"
   },
   {
    "duration": 117,
    "start_time": "2024-04-19T15:43:24.167Z"
   },
   {
    "duration": 195,
    "start_time": "2024-04-19T15:43:24.290Z"
   },
   {
    "duration": 192,
    "start_time": "2024-04-19T15:43:24.487Z"
   },
   {
    "duration": 300,
    "start_time": "2024-04-19T15:43:24.681Z"
   },
   {
    "duration": 182,
    "start_time": "2024-04-19T15:43:24.983Z"
   },
   {
    "duration": 35,
    "start_time": "2024-04-19T15:43:25.167Z"
   },
   {
    "duration": 159,
    "start_time": "2024-04-19T15:43:25.204Z"
   },
   {
    "duration": 12,
    "start_time": "2024-04-19T15:43:25.365Z"
   },
   {
    "duration": 38,
    "start_time": "2024-04-19T15:43:25.378Z"
   },
   {
    "duration": 52,
    "start_time": "2024-04-19T15:43:25.419Z"
   },
   {
    "duration": 22,
    "start_time": "2024-04-19T15:43:25.474Z"
   },
   {
    "duration": 364,
    "start_time": "2024-04-19T15:43:25.503Z"
   },
   {
    "duration": 5,
    "start_time": "2024-04-19T15:43:25.868Z"
   },
   {
    "duration": 449,
    "start_time": "2024-04-19T15:43:25.875Z"
   },
   {
    "duration": 74,
    "start_time": "2024-04-19T15:43:26.326Z"
   },
   {
    "duration": 21,
    "start_time": "2024-04-19T15:43:26.401Z"
   },
   {
    "duration": 347,
    "start_time": "2024-04-19T15:43:26.424Z"
   },
   {
    "duration": 27,
    "start_time": "2024-04-19T15:43:26.773Z"
   },
   {
    "duration": 50,
    "start_time": "2024-04-19T15:43:26.802Z"
   },
   {
    "duration": 37,
    "start_time": "2024-04-19T15:43:26.853Z"
   },
   {
    "duration": 34,
    "start_time": "2024-04-19T15:43:26.892Z"
   },
   {
    "duration": 40,
    "start_time": "2024-04-19T15:43:26.928Z"
   },
   {
    "duration": 3952,
    "start_time": "2024-04-19T15:43:26.969Z"
   },
   {
    "duration": 5,
    "start_time": "2024-04-19T15:43:30.923Z"
   },
   {
    "duration": 170,
    "start_time": "2024-04-19T15:43:30.929Z"
   },
   {
    "duration": 163,
    "start_time": "2024-04-19T15:43:31.100Z"
   },
   {
    "duration": 89,
    "start_time": "2024-04-19T15:43:31.265Z"
   },
   {
    "duration": 325,
    "start_time": "2024-04-19T15:43:31.356Z"
   },
   {
    "duration": 8,
    "start_time": "2024-04-19T15:43:31.683Z"
   },
   {
    "duration": 61,
    "start_time": "2024-04-19T15:43:31.693Z"
   },
   {
    "duration": 37,
    "start_time": "2024-04-19T15:43:31.756Z"
   },
   {
    "duration": 30,
    "start_time": "2024-04-19T15:43:31.795Z"
   },
   {
    "duration": 40,
    "start_time": "2024-04-19T15:43:31.827Z"
   },
   {
    "duration": 86,
    "start_time": "2024-04-19T15:43:31.869Z"
   },
   {
    "duration": 1736,
    "start_time": "2024-04-19T15:43:31.956Z"
   },
   {
    "duration": 21,
    "start_time": "2024-04-19T15:43:33.694Z"
   },
   {
    "duration": 24,
    "start_time": "2024-04-19T15:43:33.717Z"
   },
   {
    "duration": 57,
    "start_time": "2024-04-19T15:43:33.743Z"
   },
   {
    "duration": 3,
    "start_time": "2024-04-19T15:43:33.802Z"
   },
   {
    "duration": 124,
    "start_time": "2024-04-19T15:43:33.806Z"
   },
   {
    "duration": 5948,
    "start_time": "2024-04-19T15:43:33.931Z"
   },
   {
    "duration": 4,
    "start_time": "2024-04-19T15:43:39.881Z"
   },
   {
    "duration": 13,
    "start_time": "2024-04-19T15:43:39.892Z"
   },
   {
    "duration": 30,
    "start_time": "2024-04-19T15:43:39.907Z"
   },
   {
    "duration": 24,
    "start_time": "2024-04-19T15:43:39.939Z"
   },
   {
    "duration": 207,
    "start_time": "2024-04-19T15:43:39.965Z"
   },
   {
    "duration": 0,
    "start_time": "2024-04-19T15:43:40.174Z"
   },
   {
    "duration": 0,
    "start_time": "2024-04-19T15:43:40.175Z"
   },
   {
    "duration": 0,
    "start_time": "2024-04-19T15:43:40.177Z"
   },
   {
    "duration": 0,
    "start_time": "2024-04-19T15:43:40.192Z"
   },
   {
    "duration": 0,
    "start_time": "2024-04-19T15:43:40.192Z"
   },
   {
    "duration": 0,
    "start_time": "2024-04-19T15:43:40.194Z"
   },
   {
    "duration": 0,
    "start_time": "2024-04-19T15:43:40.195Z"
   },
   {
    "duration": 0,
    "start_time": "2024-04-19T15:43:40.196Z"
   },
   {
    "duration": 0,
    "start_time": "2024-04-19T15:43:40.197Z"
   },
   {
    "duration": 0,
    "start_time": "2024-04-19T15:43:40.199Z"
   },
   {
    "duration": 0,
    "start_time": "2024-04-19T15:43:40.200Z"
   },
   {
    "duration": 0,
    "start_time": "2024-04-19T15:43:40.201Z"
   },
   {
    "duration": 0,
    "start_time": "2024-04-19T15:43:40.202Z"
   },
   {
    "duration": 0,
    "start_time": "2024-04-19T15:43:40.203Z"
   },
   {
    "duration": 26,
    "start_time": "2024-04-19T15:47:16.588Z"
   },
   {
    "duration": 4,
    "start_time": "2024-04-19T15:47:17.422Z"
   },
   {
    "duration": 2226,
    "start_time": "2024-04-19T15:47:18.256Z"
   },
   {
    "duration": 77,
    "start_time": "2024-04-19T15:49:35.449Z"
   },
   {
    "duration": 8,
    "start_time": "2024-04-19T15:49:49.186Z"
   },
   {
    "duration": 6,
    "start_time": "2024-04-19T16:12:09.874Z"
   },
   {
    "duration": 3290,
    "start_time": "2024-04-19T16:12:21.549Z"
   },
   {
    "duration": 20,
    "start_time": "2024-04-19T16:12:32.719Z"
   },
   {
    "duration": 16339,
    "start_time": "2024-04-19T16:12:53.912Z"
   },
   {
    "duration": 1861,
    "start_time": "2024-04-19T16:13:10.254Z"
   },
   {
    "duration": 86,
    "start_time": "2024-04-19T16:13:12.117Z"
   },
   {
    "duration": 33,
    "start_time": "2024-04-19T16:13:12.205Z"
   },
   {
    "duration": 14,
    "start_time": "2024-04-19T16:13:12.239Z"
   },
   {
    "duration": 16,
    "start_time": "2024-04-19T16:13:12.255Z"
   },
   {
    "duration": 27,
    "start_time": "2024-04-19T16:13:12.272Z"
   },
   {
    "duration": 18,
    "start_time": "2024-04-19T16:13:12.301Z"
   },
   {
    "duration": 12,
    "start_time": "2024-04-19T16:13:12.321Z"
   },
   {
    "duration": 13,
    "start_time": "2024-04-19T16:13:12.335Z"
   },
   {
    "duration": 34,
    "start_time": "2024-04-19T16:13:12.350Z"
   },
   {
    "duration": 11,
    "start_time": "2024-04-19T16:13:12.386Z"
   },
   {
    "duration": 11,
    "start_time": "2024-04-19T16:13:12.398Z"
   },
   {
    "duration": 21,
    "start_time": "2024-04-19T16:13:12.410Z"
   },
   {
    "duration": 23,
    "start_time": "2024-04-19T16:13:12.432Z"
   },
   {
    "duration": 11,
    "start_time": "2024-04-19T16:13:12.457Z"
   },
   {
    "duration": 9,
    "start_time": "2024-04-19T16:13:12.469Z"
   },
   {
    "duration": 6,
    "start_time": "2024-04-19T16:13:12.479Z"
   },
   {
    "duration": 22,
    "start_time": "2024-04-19T16:13:12.486Z"
   },
   {
    "duration": 59,
    "start_time": "2024-04-19T16:13:12.510Z"
   },
   {
    "duration": 93,
    "start_time": "2024-04-19T16:13:12.571Z"
   },
   {
    "duration": 92,
    "start_time": "2024-04-19T16:13:12.665Z"
   },
   {
    "duration": 89,
    "start_time": "2024-04-19T16:13:12.759Z"
   },
   {
    "duration": 94,
    "start_time": "2024-04-19T16:13:12.850Z"
   },
   {
    "duration": 151,
    "start_time": "2024-04-19T16:13:12.946Z"
   },
   {
    "duration": 143,
    "start_time": "2024-04-19T16:13:13.100Z"
   },
   {
    "duration": 227,
    "start_time": "2024-04-19T16:13:13.245Z"
   },
   {
    "duration": 384,
    "start_time": "2024-04-19T16:13:13.478Z"
   },
   {
    "duration": 239,
    "start_time": "2024-04-19T16:13:13.864Z"
   },
   {
    "duration": 114,
    "start_time": "2024-04-19T16:13:14.105Z"
   },
   {
    "duration": 185,
    "start_time": "2024-04-19T16:13:14.221Z"
   },
   {
    "duration": 214,
    "start_time": "2024-04-19T16:13:14.408Z"
   },
   {
    "duration": 308,
    "start_time": "2024-04-19T16:13:14.624Z"
   },
   {
    "duration": 182,
    "start_time": "2024-04-19T16:13:14.933Z"
   },
   {
    "duration": 22,
    "start_time": "2024-04-19T16:13:15.116Z"
   },
   {
    "duration": 623,
    "start_time": "2024-04-19T16:13:15.140Z"
   },
   {
    "duration": 10,
    "start_time": "2024-04-19T16:13:15.765Z"
   },
   {
    "duration": 35,
    "start_time": "2024-04-19T16:13:15.777Z"
   },
   {
    "duration": 36,
    "start_time": "2024-04-19T16:13:15.814Z"
   },
   {
    "duration": 59,
    "start_time": "2024-04-19T16:13:15.852Z"
   },
   {
    "duration": 291,
    "start_time": "2024-04-19T16:13:15.912Z"
   },
   {
    "duration": 5,
    "start_time": "2024-04-19T16:13:16.205Z"
   },
   {
    "duration": 400,
    "start_time": "2024-04-19T16:13:16.212Z"
   },
   {
    "duration": 21,
    "start_time": "2024-04-19T16:13:16.614Z"
   },
   {
    "duration": 22,
    "start_time": "2024-04-19T16:13:16.637Z"
   },
   {
    "duration": 292,
    "start_time": "2024-04-19T16:13:16.661Z"
   },
   {
    "duration": 18,
    "start_time": "2024-04-19T16:13:16.955Z"
   },
   {
    "duration": 26,
    "start_time": "2024-04-19T16:13:16.974Z"
   },
   {
    "duration": 31,
    "start_time": "2024-04-19T16:13:17.002Z"
   },
   {
    "duration": 28,
    "start_time": "2024-04-19T16:13:17.035Z"
   },
   {
    "duration": 43,
    "start_time": "2024-04-19T16:13:17.065Z"
   },
   {
    "duration": 3817,
    "start_time": "2024-04-19T16:13:17.109Z"
   },
   {
    "duration": 6,
    "start_time": "2024-04-19T16:13:20.928Z"
   },
   {
    "duration": 211,
    "start_time": "2024-04-19T16:13:20.936Z"
   },
   {
    "duration": 45,
    "start_time": "2024-04-19T16:13:21.148Z"
   },
   {
    "duration": 41,
    "start_time": "2024-04-19T16:13:21.196Z"
   },
   {
    "duration": 311,
    "start_time": "2024-04-19T16:13:21.239Z"
   },
   {
    "duration": 3,
    "start_time": "2024-04-19T16:13:21.552Z"
   },
   {
    "duration": 36,
    "start_time": "2024-04-19T16:13:21.557Z"
   },
   {
    "duration": 9,
    "start_time": "2024-04-19T16:13:21.595Z"
   },
   {
    "duration": 4,
    "start_time": "2024-04-19T16:13:21.605Z"
   },
   {
    "duration": 6,
    "start_time": "2024-04-19T16:13:21.611Z"
   },
   {
    "duration": 25,
    "start_time": "2024-04-19T16:13:21.618Z"
   },
   {
    "duration": 3748,
    "start_time": "2024-04-19T16:13:21.645Z"
   },
   {
    "duration": 21,
    "start_time": "2024-04-19T16:13:25.395Z"
   },
   {
    "duration": 75,
    "start_time": "2024-04-19T16:13:25.418Z"
   },
   {
    "duration": 34,
    "start_time": "2024-04-19T16:13:25.494Z"
   },
   {
    "duration": 12,
    "start_time": "2024-04-19T16:13:25.530Z"
   },
   {
    "duration": 57,
    "start_time": "2024-04-19T16:13:25.543Z"
   },
   {
    "duration": 4,
    "start_time": "2024-04-19T16:13:25.601Z"
   },
   {
    "duration": 2342,
    "start_time": "2024-04-19T16:13:25.606Z"
   },
   {
    "duration": 6,
    "start_time": "2024-04-19T16:13:27.950Z"
   },
   {
    "duration": 25,
    "start_time": "2024-04-19T16:13:27.958Z"
   },
   {
    "duration": 168,
    "start_time": "2024-04-19T16:13:27.991Z"
   },
   {
    "duration": 0,
    "start_time": "2024-04-19T16:13:28.161Z"
   },
   {
    "duration": 0,
    "start_time": "2024-04-19T16:13:28.162Z"
   },
   {
    "duration": 0,
    "start_time": "2024-04-19T16:13:28.163Z"
   },
   {
    "duration": 0,
    "start_time": "2024-04-19T16:13:28.164Z"
   },
   {
    "duration": 0,
    "start_time": "2024-04-19T16:13:28.165Z"
   },
   {
    "duration": 0,
    "start_time": "2024-04-19T16:13:28.167Z"
   },
   {
    "duration": 0,
    "start_time": "2024-04-19T16:13:28.168Z"
   },
   {
    "duration": 0,
    "start_time": "2024-04-19T16:13:28.169Z"
   },
   {
    "duration": 0,
    "start_time": "2024-04-19T16:13:28.170Z"
   },
   {
    "duration": 0,
    "start_time": "2024-04-19T16:13:28.171Z"
   },
   {
    "duration": 0,
    "start_time": "2024-04-19T16:13:28.192Z"
   },
   {
    "duration": 0,
    "start_time": "2024-04-19T16:13:28.193Z"
   },
   {
    "duration": 0,
    "start_time": "2024-04-19T16:13:28.195Z"
   },
   {
    "duration": 0,
    "start_time": "2024-04-19T16:13:28.196Z"
   },
   {
    "duration": 6,
    "start_time": "2024-04-19T16:14:11.002Z"
   },
   {
    "duration": 2314,
    "start_time": "2024-04-19T16:14:13.713Z"
   },
   {
    "duration": 21,
    "start_time": "2024-04-19T16:14:19.570Z"
   },
   {
    "duration": 23,
    "start_time": "2024-04-19T16:14:28.932Z"
   },
   {
    "duration": 76,
    "start_time": "2024-04-19T16:16:09.244Z"
   },
   {
    "duration": 1295,
    "start_time": "2024-04-19T16:16:14.910Z"
   },
   {
    "duration": 6,
    "start_time": "2024-04-19T16:19:00.728Z"
   },
   {
    "duration": 653,
    "start_time": "2024-04-19T16:19:07.528Z"
   },
   {
    "duration": 15531,
    "start_time": "2024-04-19T16:19:38.339Z"
   },
   {
    "duration": 1839,
    "start_time": "2024-04-19T16:19:53.872Z"
   },
   {
    "duration": 83,
    "start_time": "2024-04-19T16:19:55.713Z"
   },
   {
    "duration": 29,
    "start_time": "2024-04-19T16:19:55.798Z"
   },
   {
    "duration": 13,
    "start_time": "2024-04-19T16:19:55.829Z"
   },
   {
    "duration": 25,
    "start_time": "2024-04-19T16:19:55.843Z"
   },
   {
    "duration": 61,
    "start_time": "2024-04-19T16:19:55.870Z"
   },
   {
    "duration": 41,
    "start_time": "2024-04-19T16:19:55.933Z"
   },
   {
    "duration": 58,
    "start_time": "2024-04-19T16:19:55.975Z"
   },
   {
    "duration": 62,
    "start_time": "2024-04-19T16:19:56.034Z"
   },
   {
    "duration": 30,
    "start_time": "2024-04-19T16:19:56.098Z"
   },
   {
    "duration": 38,
    "start_time": "2024-04-19T16:19:56.129Z"
   },
   {
    "duration": 24,
    "start_time": "2024-04-19T16:19:56.168Z"
   },
   {
    "duration": 16,
    "start_time": "2024-04-19T16:19:56.195Z"
   },
   {
    "duration": 21,
    "start_time": "2024-04-19T16:19:56.212Z"
   },
   {
    "duration": 20,
    "start_time": "2024-04-19T16:19:56.234Z"
   },
   {
    "duration": 13,
    "start_time": "2024-04-19T16:19:56.256Z"
   },
   {
    "duration": 16,
    "start_time": "2024-04-19T16:19:56.270Z"
   },
   {
    "duration": 35,
    "start_time": "2024-04-19T16:19:56.287Z"
   },
   {
    "duration": 71,
    "start_time": "2024-04-19T16:19:56.323Z"
   },
   {
    "duration": 99,
    "start_time": "2024-04-19T16:19:56.396Z"
   },
   {
    "duration": 99,
    "start_time": "2024-04-19T16:19:56.496Z"
   },
   {
    "duration": 74,
    "start_time": "2024-04-19T16:19:56.597Z"
   },
   {
    "duration": 118,
    "start_time": "2024-04-19T16:19:56.673Z"
   },
   {
    "duration": 144,
    "start_time": "2024-04-19T16:19:56.794Z"
   },
   {
    "duration": 130,
    "start_time": "2024-04-19T16:19:56.940Z"
   },
   {
    "duration": 240,
    "start_time": "2024-04-19T16:19:57.072Z"
   },
   {
    "duration": 403,
    "start_time": "2024-04-19T16:19:57.314Z"
   },
   {
    "duration": 229,
    "start_time": "2024-04-19T16:19:57.719Z"
   },
   {
    "duration": 121,
    "start_time": "2024-04-19T16:19:57.950Z"
   },
   {
    "duration": 183,
    "start_time": "2024-04-19T16:19:58.072Z"
   },
   {
    "duration": 192,
    "start_time": "2024-04-19T16:19:58.257Z"
   },
   {
    "duration": 291,
    "start_time": "2024-04-19T16:19:58.450Z"
   },
   {
    "duration": 186,
    "start_time": "2024-04-19T16:19:58.743Z"
   },
   {
    "duration": 20,
    "start_time": "2024-04-19T16:19:58.931Z"
   },
   {
    "duration": 171,
    "start_time": "2024-04-19T16:19:58.952Z"
   },
   {
    "duration": 10,
    "start_time": "2024-04-19T16:19:59.125Z"
   },
   {
    "duration": 50,
    "start_time": "2024-04-19T16:19:59.137Z"
   },
   {
    "duration": 67,
    "start_time": "2024-04-19T16:19:59.188Z"
   },
   {
    "duration": 20,
    "start_time": "2024-04-19T16:19:59.257Z"
   },
   {
    "duration": 223,
    "start_time": "2024-04-19T16:19:59.281Z"
   },
   {
    "duration": 5,
    "start_time": "2024-04-19T16:19:59.506Z"
   },
   {
    "duration": 387,
    "start_time": "2024-04-19T16:19:59.513Z"
   },
   {
    "duration": 27,
    "start_time": "2024-04-19T16:19:59.903Z"
   },
   {
    "duration": 22,
    "start_time": "2024-04-19T16:19:59.931Z"
   },
   {
    "duration": 346,
    "start_time": "2024-04-19T16:19:59.954Z"
   },
   {
    "duration": 493,
    "start_time": "2024-04-19T16:20:00.302Z"
   },
   {
    "duration": 934,
    "start_time": "2024-04-19T16:20:00.796Z"
   },
   {
    "duration": 376,
    "start_time": "2024-04-19T16:20:01.731Z"
   },
   {
    "duration": 255,
    "start_time": "2024-04-19T16:20:02.109Z"
   },
   {
    "duration": 743,
    "start_time": "2024-04-19T16:20:02.366Z"
   },
   {
    "duration": 4273,
    "start_time": "2024-04-19T16:20:03.111Z"
   },
   {
    "duration": 4,
    "start_time": "2024-04-19T16:20:07.385Z"
   },
   {
    "duration": 24,
    "start_time": "2024-04-19T16:20:07.391Z"
   },
   {
    "duration": 17,
    "start_time": "2024-04-19T16:20:07.417Z"
   },
   {
    "duration": 7,
    "start_time": "2024-04-19T16:20:07.436Z"
   },
   {
    "duration": 284,
    "start_time": "2024-04-19T16:20:07.445Z"
   },
   {
    "duration": 3,
    "start_time": "2024-04-19T16:20:07.731Z"
   },
   {
    "duration": 12,
    "start_time": "2024-04-19T16:20:07.736Z"
   },
   {
    "duration": 18,
    "start_time": "2024-04-19T16:20:07.750Z"
   },
   {
    "duration": 6,
    "start_time": "2024-04-19T16:20:07.770Z"
   },
   {
    "duration": 5,
    "start_time": "2024-04-19T16:20:07.778Z"
   },
   {
    "duration": 12,
    "start_time": "2024-04-19T16:20:07.786Z"
   },
   {
    "duration": 1029,
    "start_time": "2024-04-19T16:20:07.800Z"
   },
   {
    "duration": 0,
    "start_time": "2024-04-19T16:20:08.831Z"
   },
   {
    "duration": 0,
    "start_time": "2024-04-19T16:20:08.833Z"
   },
   {
    "duration": 0,
    "start_time": "2024-04-19T16:20:08.834Z"
   },
   {
    "duration": 0,
    "start_time": "2024-04-19T16:20:08.836Z"
   },
   {
    "duration": 0,
    "start_time": "2024-04-19T16:20:08.837Z"
   },
   {
    "duration": 0,
    "start_time": "2024-04-19T16:20:08.838Z"
   },
   {
    "duration": 0,
    "start_time": "2024-04-19T16:20:08.840Z"
   },
   {
    "duration": 0,
    "start_time": "2024-04-19T16:20:08.841Z"
   },
   {
    "duration": 0,
    "start_time": "2024-04-19T16:20:08.843Z"
   },
   {
    "duration": 0,
    "start_time": "2024-04-19T16:20:08.844Z"
   },
   {
    "duration": 0,
    "start_time": "2024-04-19T16:20:08.845Z"
   },
   {
    "duration": 0,
    "start_time": "2024-04-19T16:20:08.846Z"
   },
   {
    "duration": 0,
    "start_time": "2024-04-19T16:20:08.847Z"
   },
   {
    "duration": 0,
    "start_time": "2024-04-19T16:20:08.848Z"
   },
   {
    "duration": 0,
    "start_time": "2024-04-19T16:20:08.850Z"
   },
   {
    "duration": 0,
    "start_time": "2024-04-19T16:20:08.851Z"
   },
   {
    "duration": 0,
    "start_time": "2024-04-19T16:20:08.852Z"
   },
   {
    "duration": 0,
    "start_time": "2024-04-19T16:20:08.853Z"
   },
   {
    "duration": 0,
    "start_time": "2024-04-19T16:20:08.892Z"
   },
   {
    "duration": 0,
    "start_time": "2024-04-19T16:20:08.894Z"
   },
   {
    "duration": 0,
    "start_time": "2024-04-19T16:20:08.895Z"
   },
   {
    "duration": 0,
    "start_time": "2024-04-19T16:20:08.897Z"
   },
   {
    "duration": 0,
    "start_time": "2024-04-19T16:20:08.899Z"
   },
   {
    "duration": 0,
    "start_time": "2024-04-19T16:20:08.901Z"
   },
   {
    "duration": 5,
    "start_time": "2024-04-19T16:24:38.460Z"
   },
   {
    "duration": 621,
    "start_time": "2024-04-19T16:24:40.992Z"
   },
   {
    "duration": 15892,
    "start_time": "2024-04-19T16:24:56.037Z"
   },
   {
    "duration": 1769,
    "start_time": "2024-04-19T16:25:11.932Z"
   },
   {
    "duration": 83,
    "start_time": "2024-04-19T16:25:13.702Z"
   },
   {
    "duration": 28,
    "start_time": "2024-04-19T16:25:13.787Z"
   },
   {
    "duration": 16,
    "start_time": "2024-04-19T16:25:13.817Z"
   },
   {
    "duration": 25,
    "start_time": "2024-04-19T16:25:13.835Z"
   },
   {
    "duration": 11,
    "start_time": "2024-04-19T16:25:13.862Z"
   },
   {
    "duration": 20,
    "start_time": "2024-04-19T16:25:13.874Z"
   },
   {
    "duration": 9,
    "start_time": "2024-04-19T16:25:13.896Z"
   },
   {
    "duration": 20,
    "start_time": "2024-04-19T16:25:13.907Z"
   },
   {
    "duration": 30,
    "start_time": "2024-04-19T16:25:13.928Z"
   },
   {
    "duration": 10,
    "start_time": "2024-04-19T16:25:13.959Z"
   },
   {
    "duration": 4,
    "start_time": "2024-04-19T16:25:13.971Z"
   },
   {
    "duration": 22,
    "start_time": "2024-04-19T16:25:13.979Z"
   },
   {
    "duration": 4,
    "start_time": "2024-04-19T16:25:14.003Z"
   },
   {
    "duration": 20,
    "start_time": "2024-04-19T16:25:14.009Z"
   },
   {
    "duration": 23,
    "start_time": "2024-04-19T16:25:14.032Z"
   },
   {
    "duration": 37,
    "start_time": "2024-04-19T16:25:14.057Z"
   },
   {
    "duration": 25,
    "start_time": "2024-04-19T16:25:14.096Z"
   },
   {
    "duration": 62,
    "start_time": "2024-04-19T16:25:14.123Z"
   },
   {
    "duration": 94,
    "start_time": "2024-04-19T16:25:14.187Z"
   },
   {
    "duration": 108,
    "start_time": "2024-04-19T16:25:14.292Z"
   },
   {
    "duration": 69,
    "start_time": "2024-04-19T16:25:14.401Z"
   },
   {
    "duration": 85,
    "start_time": "2024-04-19T16:25:14.472Z"
   },
   {
    "duration": 133,
    "start_time": "2024-04-19T16:25:14.558Z"
   },
   {
    "duration": 117,
    "start_time": "2024-04-19T16:25:14.693Z"
   },
   {
    "duration": 218,
    "start_time": "2024-04-19T16:25:14.812Z"
   },
   {
    "duration": 378,
    "start_time": "2024-04-19T16:25:15.032Z"
   },
   {
    "duration": 319,
    "start_time": "2024-04-19T16:25:15.412Z"
   },
   {
    "duration": 176,
    "start_time": "2024-04-19T16:25:15.733Z"
   },
   {
    "duration": 176,
    "start_time": "2024-04-19T16:25:15.911Z"
   },
   {
    "duration": 184,
    "start_time": "2024-04-19T16:25:16.091Z"
   },
   {
    "duration": 287,
    "start_time": "2024-04-19T16:25:16.277Z"
   },
   {
    "duration": 178,
    "start_time": "2024-04-19T16:25:16.566Z"
   },
   {
    "duration": 21,
    "start_time": "2024-04-19T16:25:16.746Z"
   },
   {
    "duration": 166,
    "start_time": "2024-04-19T16:25:16.769Z"
   },
   {
    "duration": 11,
    "start_time": "2024-04-19T16:25:16.937Z"
   },
   {
    "duration": 12,
    "start_time": "2024-04-19T16:25:16.950Z"
   },
   {
    "duration": 4,
    "start_time": "2024-04-19T16:25:16.964Z"
   },
   {
    "duration": 6,
    "start_time": "2024-04-19T16:25:16.992Z"
   },
   {
    "duration": 241,
    "start_time": "2024-04-19T16:25:17.003Z"
   },
   {
    "duration": 5,
    "start_time": "2024-04-19T16:25:17.245Z"
   },
   {
    "duration": 362,
    "start_time": "2024-04-19T16:25:17.251Z"
   },
   {
    "duration": 21,
    "start_time": "2024-04-19T16:25:17.614Z"
   },
   {
    "duration": 44,
    "start_time": "2024-04-19T16:25:17.637Z"
   },
   {
    "duration": 274,
    "start_time": "2024-04-19T16:25:17.683Z"
   },
   {
    "duration": 23,
    "start_time": "2024-04-19T16:25:17.958Z"
   },
   {
    "duration": 16,
    "start_time": "2024-04-19T16:25:17.992Z"
   },
   {
    "duration": 50,
    "start_time": "2024-04-19T16:25:18.010Z"
   },
   {
    "duration": 79,
    "start_time": "2024-04-19T16:25:18.061Z"
   },
   {
    "duration": 47,
    "start_time": "2024-04-19T16:25:18.142Z"
   },
   {
    "duration": 3713,
    "start_time": "2024-04-19T16:25:18.191Z"
   },
   {
    "duration": 5,
    "start_time": "2024-04-19T16:25:21.905Z"
   },
   {
    "duration": 26,
    "start_time": "2024-04-19T16:25:21.911Z"
   },
   {
    "duration": 15,
    "start_time": "2024-04-19T16:25:21.939Z"
   },
   {
    "duration": 3,
    "start_time": "2024-04-19T16:25:21.956Z"
   },
   {
    "duration": 274,
    "start_time": "2024-04-19T16:25:21.961Z"
   },
   {
    "duration": 3,
    "start_time": "2024-04-19T16:25:22.236Z"
   },
   {
    "duration": 27,
    "start_time": "2024-04-19T16:25:22.241Z"
   },
   {
    "duration": 11,
    "start_time": "2024-04-19T16:25:22.270Z"
   },
   {
    "duration": 20,
    "start_time": "2024-04-19T16:25:22.282Z"
   },
   {
    "duration": 5,
    "start_time": "2024-04-19T16:25:22.303Z"
   },
   {
    "duration": 12,
    "start_time": "2024-04-19T16:25:22.310Z"
   },
   {
    "duration": 1088,
    "start_time": "2024-04-19T16:25:22.324Z"
   },
   {
    "duration": 0,
    "start_time": "2024-04-19T16:25:23.414Z"
   },
   {
    "duration": 0,
    "start_time": "2024-04-19T16:25:23.416Z"
   },
   {
    "duration": 0,
    "start_time": "2024-04-19T16:25:23.417Z"
   },
   {
    "duration": 0,
    "start_time": "2024-04-19T16:25:23.419Z"
   },
   {
    "duration": 0,
    "start_time": "2024-04-19T16:25:23.420Z"
   },
   {
    "duration": 0,
    "start_time": "2024-04-19T16:25:23.422Z"
   },
   {
    "duration": 0,
    "start_time": "2024-04-19T16:25:23.423Z"
   },
   {
    "duration": 0,
    "start_time": "2024-04-19T16:25:23.425Z"
   },
   {
    "duration": 0,
    "start_time": "2024-04-19T16:25:23.426Z"
   },
   {
    "duration": 0,
    "start_time": "2024-04-19T16:25:23.427Z"
   },
   {
    "duration": 0,
    "start_time": "2024-04-19T16:25:23.428Z"
   },
   {
    "duration": 0,
    "start_time": "2024-04-19T16:25:23.430Z"
   },
   {
    "duration": 0,
    "start_time": "2024-04-19T16:25:23.431Z"
   },
   {
    "duration": 0,
    "start_time": "2024-04-19T16:25:23.432Z"
   },
   {
    "duration": 0,
    "start_time": "2024-04-19T16:25:23.433Z"
   },
   {
    "duration": 0,
    "start_time": "2024-04-19T16:25:23.434Z"
   },
   {
    "duration": 0,
    "start_time": "2024-04-19T16:25:23.435Z"
   },
   {
    "duration": 0,
    "start_time": "2024-04-19T16:25:23.436Z"
   },
   {
    "duration": 0,
    "start_time": "2024-04-19T16:25:23.437Z"
   },
   {
    "duration": 0,
    "start_time": "2024-04-19T16:25:23.438Z"
   },
   {
    "duration": 0,
    "start_time": "2024-04-19T16:25:23.439Z"
   },
   {
    "duration": 0,
    "start_time": "2024-04-19T16:25:23.440Z"
   },
   {
    "duration": 0,
    "start_time": "2024-04-19T16:25:23.441Z"
   },
   {
    "duration": 0,
    "start_time": "2024-04-19T16:25:23.491Z"
   },
   {
    "duration": 6,
    "start_time": "2024-04-19T16:27:06.114Z"
   },
   {
    "duration": 1200,
    "start_time": "2024-04-19T16:27:11.683Z"
   },
   {
    "duration": 20,
    "start_time": "2024-04-19T16:27:17.105Z"
   },
   {
    "duration": 5,
    "start_time": "2024-04-19T16:38:55.172Z"
   },
   {
    "duration": 1474,
    "start_time": "2024-04-19T16:38:57.860Z"
   },
   {
    "duration": 15920,
    "start_time": "2024-04-19T16:44:50.298Z"
   },
   {
    "duration": 1810,
    "start_time": "2024-04-19T16:45:06.220Z"
   },
   {
    "duration": 87,
    "start_time": "2024-04-19T16:45:08.031Z"
   },
   {
    "duration": 34,
    "start_time": "2024-04-19T16:45:08.120Z"
   },
   {
    "duration": 12,
    "start_time": "2024-04-19T16:45:08.156Z"
   },
   {
    "duration": 11,
    "start_time": "2024-04-19T16:45:08.170Z"
   },
   {
    "duration": 18,
    "start_time": "2024-04-19T16:45:08.183Z"
   },
   {
    "duration": 14,
    "start_time": "2024-04-19T16:45:08.203Z"
   },
   {
    "duration": 6,
    "start_time": "2024-04-19T16:45:08.219Z"
   },
   {
    "duration": 12,
    "start_time": "2024-04-19T16:45:08.228Z"
   },
   {
    "duration": 16,
    "start_time": "2024-04-19T16:45:08.241Z"
   },
   {
    "duration": 36,
    "start_time": "2024-04-19T16:45:08.259Z"
   },
   {
    "duration": 3,
    "start_time": "2024-04-19T16:45:08.297Z"
   },
   {
    "duration": 30,
    "start_time": "2024-04-19T16:45:08.302Z"
   },
   {
    "duration": 3,
    "start_time": "2024-04-19T16:45:08.334Z"
   },
   {
    "duration": 9,
    "start_time": "2024-04-19T16:45:08.339Z"
   },
   {
    "duration": 7,
    "start_time": "2024-04-19T16:45:08.349Z"
   },
   {
    "duration": 5,
    "start_time": "2024-04-19T16:45:08.357Z"
   },
   {
    "duration": 31,
    "start_time": "2024-04-19T16:45:08.363Z"
   },
   {
    "duration": 42,
    "start_time": "2024-04-19T16:45:08.395Z"
   },
   {
    "duration": 128,
    "start_time": "2024-04-19T16:45:08.439Z"
   },
   {
    "duration": 91,
    "start_time": "2024-04-19T16:45:08.569Z"
   },
   {
    "duration": 82,
    "start_time": "2024-04-19T16:45:08.661Z"
   },
   {
    "duration": 89,
    "start_time": "2024-04-19T16:45:08.744Z"
   },
   {
    "duration": 142,
    "start_time": "2024-04-19T16:45:08.834Z"
   },
   {
    "duration": 130,
    "start_time": "2024-04-19T16:45:08.977Z"
   },
   {
    "duration": 233,
    "start_time": "2024-04-19T16:45:09.108Z"
   },
   {
    "duration": 394,
    "start_time": "2024-04-19T16:45:09.345Z"
   },
   {
    "duration": 251,
    "start_time": "2024-04-19T16:45:09.740Z"
   },
   {
    "duration": 116,
    "start_time": "2024-04-19T16:45:09.993Z"
   },
   {
    "duration": 191,
    "start_time": "2024-04-19T16:45:10.110Z"
   },
   {
    "duration": 196,
    "start_time": "2024-04-19T16:45:10.302Z"
   },
   {
    "duration": 286,
    "start_time": "2024-04-19T16:45:10.500Z"
   },
   {
    "duration": 175,
    "start_time": "2024-04-19T16:45:10.787Z"
   },
   {
    "duration": 30,
    "start_time": "2024-04-19T16:45:10.963Z"
   },
   {
    "duration": 160,
    "start_time": "2024-04-19T16:45:10.995Z"
   },
   {
    "duration": 12,
    "start_time": "2024-04-19T16:45:11.157Z"
   },
   {
    "duration": 29,
    "start_time": "2024-04-19T16:45:11.170Z"
   },
   {
    "duration": 6,
    "start_time": "2024-04-19T16:45:11.201Z"
   },
   {
    "duration": 7,
    "start_time": "2024-04-19T16:45:11.209Z"
   },
   {
    "duration": 264,
    "start_time": "2024-04-19T16:45:11.218Z"
   },
   {
    "duration": 9,
    "start_time": "2024-04-19T16:45:11.484Z"
   },
   {
    "duration": 354,
    "start_time": "2024-04-19T16:45:11.495Z"
   },
   {
    "duration": 20,
    "start_time": "2024-04-19T16:45:11.851Z"
   },
   {
    "duration": 34,
    "start_time": "2024-04-19T16:45:11.872Z"
   },
   {
    "duration": 296,
    "start_time": "2024-04-19T16:45:11.908Z"
   },
   {
    "duration": 18,
    "start_time": "2024-04-19T16:45:12.206Z"
   },
   {
    "duration": 10,
    "start_time": "2024-04-19T16:45:12.226Z"
   },
   {
    "duration": 15,
    "start_time": "2024-04-19T16:45:12.238Z"
   },
   {
    "duration": 47,
    "start_time": "2024-04-19T16:45:12.254Z"
   },
   {
    "duration": 36,
    "start_time": "2024-04-19T16:45:12.303Z"
   },
   {
    "duration": 3746,
    "start_time": "2024-04-19T16:45:12.341Z"
   },
   {
    "duration": 5,
    "start_time": "2024-04-19T16:45:16.089Z"
   },
   {
    "duration": 29,
    "start_time": "2024-04-19T16:45:16.095Z"
   },
   {
    "duration": 124,
    "start_time": "2024-04-19T16:45:16.125Z"
   },
   {
    "duration": 75,
    "start_time": "2024-04-19T16:45:16.251Z"
   },
   {
    "duration": 293,
    "start_time": "2024-04-19T16:45:16.328Z"
   },
   {
    "duration": 3,
    "start_time": "2024-04-19T16:45:16.623Z"
   },
   {
    "duration": 22,
    "start_time": "2024-04-19T16:45:16.628Z"
   },
   {
    "duration": 28,
    "start_time": "2024-04-19T16:45:16.652Z"
   },
   {
    "duration": 11,
    "start_time": "2024-04-19T16:45:16.682Z"
   },
   {
    "duration": 14,
    "start_time": "2024-04-19T16:45:16.694Z"
   },
   {
    "duration": 45,
    "start_time": "2024-04-19T16:45:16.710Z"
   },
   {
    "duration": 1610,
    "start_time": "2024-04-19T16:45:16.757Z"
   },
   {
    "duration": 0,
    "start_time": "2024-04-19T16:45:18.369Z"
   },
   {
    "duration": 0,
    "start_time": "2024-04-19T16:45:18.370Z"
   },
   {
    "duration": 0,
    "start_time": "2024-04-19T16:45:18.371Z"
   },
   {
    "duration": 0,
    "start_time": "2024-04-19T16:45:18.372Z"
   },
   {
    "duration": 0,
    "start_time": "2024-04-19T16:45:18.373Z"
   },
   {
    "duration": 0,
    "start_time": "2024-04-19T16:45:18.374Z"
   },
   {
    "duration": 0,
    "start_time": "2024-04-19T16:45:18.375Z"
   },
   {
    "duration": 0,
    "start_time": "2024-04-19T16:45:18.377Z"
   },
   {
    "duration": 0,
    "start_time": "2024-04-19T16:45:18.392Z"
   },
   {
    "duration": 0,
    "start_time": "2024-04-19T16:45:18.393Z"
   },
   {
    "duration": 0,
    "start_time": "2024-04-19T16:45:18.394Z"
   },
   {
    "duration": 0,
    "start_time": "2024-04-19T16:45:18.395Z"
   },
   {
    "duration": 0,
    "start_time": "2024-04-19T16:45:18.396Z"
   },
   {
    "duration": 0,
    "start_time": "2024-04-19T16:45:18.397Z"
   },
   {
    "duration": 0,
    "start_time": "2024-04-19T16:45:18.398Z"
   },
   {
    "duration": 0,
    "start_time": "2024-04-19T16:45:18.399Z"
   },
   {
    "duration": 0,
    "start_time": "2024-04-19T16:45:18.401Z"
   },
   {
    "duration": 0,
    "start_time": "2024-04-19T16:45:18.402Z"
   },
   {
    "duration": 0,
    "start_time": "2024-04-19T16:45:18.403Z"
   },
   {
    "duration": 0,
    "start_time": "2024-04-19T16:45:18.404Z"
   },
   {
    "duration": 0,
    "start_time": "2024-04-19T16:45:18.405Z"
   },
   {
    "duration": 0,
    "start_time": "2024-04-19T16:45:18.406Z"
   },
   {
    "duration": 0,
    "start_time": "2024-04-19T16:45:18.407Z"
   },
   {
    "duration": 0,
    "start_time": "2024-04-19T16:45:18.409Z"
   },
   {
    "duration": 5,
    "start_time": "2024-04-19T16:46:38.946Z"
   },
   {
    "duration": 1404,
    "start_time": "2024-04-19T16:46:42.157Z"
   },
   {
    "duration": 20,
    "start_time": "2024-04-19T16:46:46.422Z"
   },
   {
    "duration": 26,
    "start_time": "2024-04-19T16:46:50.713Z"
   },
   {
    "duration": 34,
    "start_time": "2024-04-19T16:46:54.663Z"
   },
   {
    "duration": 3,
    "start_time": "2024-04-19T16:47:04.903Z"
   },
   {
    "duration": 30,
    "start_time": "2024-04-19T16:49:27.368Z"
   },
   {
    "duration": 4,
    "start_time": "2024-04-19T16:49:29.317Z"
   },
   {
    "duration": 23,
    "start_time": "2024-04-19T16:49:38.257Z"
   },
   {
    "duration": 4,
    "start_time": "2024-04-19T16:49:43.806Z"
   },
   {
    "duration": 16105,
    "start_time": "2024-04-19T16:49:50.678Z"
   },
   {
    "duration": 1847,
    "start_time": "2024-04-19T16:50:06.785Z"
   },
   {
    "duration": 84,
    "start_time": "2024-04-19T16:50:08.633Z"
   },
   {
    "duration": 36,
    "start_time": "2024-04-19T16:50:08.719Z"
   },
   {
    "duration": 13,
    "start_time": "2024-04-19T16:50:08.757Z"
   },
   {
    "duration": 20,
    "start_time": "2024-04-19T16:50:08.772Z"
   },
   {
    "duration": 16,
    "start_time": "2024-04-19T16:50:08.795Z"
   },
   {
    "duration": 13,
    "start_time": "2024-04-19T16:50:08.813Z"
   },
   {
    "duration": 5,
    "start_time": "2024-04-19T16:50:08.828Z"
   },
   {
    "duration": 11,
    "start_time": "2024-04-19T16:50:08.835Z"
   },
   {
    "duration": 50,
    "start_time": "2024-04-19T16:50:08.847Z"
   },
   {
    "duration": 10,
    "start_time": "2024-04-19T16:50:08.899Z"
   },
   {
    "duration": 3,
    "start_time": "2024-04-19T16:50:08.910Z"
   },
   {
    "duration": 8,
    "start_time": "2024-04-19T16:50:08.917Z"
   },
   {
    "duration": 3,
    "start_time": "2024-04-19T16:50:08.927Z"
   },
   {
    "duration": 8,
    "start_time": "2024-04-19T16:50:08.932Z"
   },
   {
    "duration": 6,
    "start_time": "2024-04-19T16:50:08.942Z"
   },
   {
    "duration": 43,
    "start_time": "2024-04-19T16:50:08.950Z"
   },
   {
    "duration": 18,
    "start_time": "2024-04-19T16:50:08.999Z"
   },
   {
    "duration": 42,
    "start_time": "2024-04-19T16:50:09.019Z"
   },
   {
    "duration": 134,
    "start_time": "2024-04-19T16:50:09.063Z"
   },
   {
    "duration": 89,
    "start_time": "2024-04-19T16:50:09.199Z"
   },
   {
    "duration": 76,
    "start_time": "2024-04-19T16:50:09.292Z"
   },
   {
    "duration": 109,
    "start_time": "2024-04-19T16:50:09.370Z"
   },
   {
    "duration": 147,
    "start_time": "2024-04-19T16:50:09.491Z"
   },
   {
    "duration": 135,
    "start_time": "2024-04-19T16:50:09.640Z"
   },
   {
    "duration": 243,
    "start_time": "2024-04-19T16:50:09.777Z"
   },
   {
    "duration": 391,
    "start_time": "2024-04-19T16:50:10.022Z"
   },
   {
    "duration": 250,
    "start_time": "2024-04-19T16:50:10.415Z"
   },
   {
    "duration": 136,
    "start_time": "2024-04-19T16:50:10.666Z"
   },
   {
    "duration": 192,
    "start_time": "2024-04-19T16:50:10.804Z"
   },
   {
    "duration": 198,
    "start_time": "2024-04-19T16:50:10.999Z"
   },
   {
    "duration": 298,
    "start_time": "2024-04-19T16:50:11.199Z"
   },
   {
    "duration": 178,
    "start_time": "2024-04-19T16:50:11.499Z"
   },
   {
    "duration": 30,
    "start_time": "2024-04-19T16:50:11.679Z"
   },
   {
    "duration": 159,
    "start_time": "2024-04-19T16:50:11.711Z"
   },
   {
    "duration": 19,
    "start_time": "2024-04-19T16:50:11.872Z"
   },
   {
    "duration": 27,
    "start_time": "2024-04-19T16:50:11.893Z"
   },
   {
    "duration": 6,
    "start_time": "2024-04-19T16:50:11.922Z"
   },
   {
    "duration": 10,
    "start_time": "2024-04-19T16:50:11.929Z"
   },
   {
    "duration": 253,
    "start_time": "2024-04-19T16:50:11.943Z"
   },
   {
    "duration": 5,
    "start_time": "2024-04-19T16:50:12.198Z"
   },
   {
    "duration": 366,
    "start_time": "2024-04-19T16:50:12.204Z"
   },
   {
    "duration": 30,
    "start_time": "2024-04-19T16:50:12.572Z"
   },
   {
    "duration": 24,
    "start_time": "2024-04-19T16:50:12.604Z"
   },
   {
    "duration": 266,
    "start_time": "2024-04-19T16:50:12.629Z"
   },
   {
    "duration": 17,
    "start_time": "2024-04-19T16:50:12.897Z"
   },
   {
    "duration": 9,
    "start_time": "2024-04-19T16:50:12.915Z"
   },
   {
    "duration": 10,
    "start_time": "2024-04-19T16:50:12.925Z"
   },
   {
    "duration": 17,
    "start_time": "2024-04-19T16:50:12.937Z"
   },
   {
    "duration": 62,
    "start_time": "2024-04-19T16:50:12.955Z"
   },
   {
    "duration": 3813,
    "start_time": "2024-04-19T16:50:13.018Z"
   },
   {
    "duration": 5,
    "start_time": "2024-04-19T16:50:16.833Z"
   },
   {
    "duration": 19,
    "start_time": "2024-04-19T16:50:16.840Z"
   },
   {
    "duration": 29,
    "start_time": "2024-04-19T16:50:16.861Z"
   },
   {
    "duration": 23,
    "start_time": "2024-04-19T16:50:16.892Z"
   },
   {
    "duration": 289,
    "start_time": "2024-04-19T16:50:16.917Z"
   },
   {
    "duration": 4,
    "start_time": "2024-04-19T16:50:17.208Z"
   },
   {
    "duration": 10,
    "start_time": "2024-04-19T16:50:17.213Z"
   },
   {
    "duration": 6,
    "start_time": "2024-04-19T16:50:17.224Z"
   },
   {
    "duration": 29,
    "start_time": "2024-04-19T16:50:17.231Z"
   },
   {
    "duration": 10,
    "start_time": "2024-04-19T16:50:17.262Z"
   },
   {
    "duration": 7,
    "start_time": "2024-04-19T16:50:17.273Z"
   },
   {
    "duration": 1494,
    "start_time": "2024-04-19T16:50:17.282Z"
   },
   {
    "duration": 28,
    "start_time": "2024-04-19T16:50:18.779Z"
   },
   {
    "duration": 38,
    "start_time": "2024-04-19T16:50:18.809Z"
   },
   {
    "duration": 49,
    "start_time": "2024-04-19T16:50:18.849Z"
   },
   {
    "duration": 28,
    "start_time": "2024-04-19T16:50:18.900Z"
   },
   {
    "duration": 46,
    "start_time": "2024-04-19T16:50:18.930Z"
   },
   {
    "duration": 4,
    "start_time": "2024-04-19T16:50:18.978Z"
   },
   {
    "duration": 163,
    "start_time": "2024-04-19T16:50:18.984Z"
   },
   {
    "duration": 0,
    "start_time": "2024-04-19T16:50:19.148Z"
   },
   {
    "duration": 0,
    "start_time": "2024-04-19T16:50:19.150Z"
   },
   {
    "duration": 0,
    "start_time": "2024-04-19T16:50:19.151Z"
   },
   {
    "duration": 0,
    "start_time": "2024-04-19T16:50:19.152Z"
   },
   {
    "duration": 0,
    "start_time": "2024-04-19T16:50:19.154Z"
   },
   {
    "duration": 0,
    "start_time": "2024-04-19T16:50:19.155Z"
   },
   {
    "duration": 0,
    "start_time": "2024-04-19T16:50:19.157Z"
   },
   {
    "duration": 0,
    "start_time": "2024-04-19T16:50:19.159Z"
   },
   {
    "duration": 0,
    "start_time": "2024-04-19T16:50:19.160Z"
   },
   {
    "duration": 0,
    "start_time": "2024-04-19T16:50:19.161Z"
   },
   {
    "duration": 0,
    "start_time": "2024-04-19T16:50:19.192Z"
   },
   {
    "duration": 0,
    "start_time": "2024-04-19T16:50:19.194Z"
   },
   {
    "duration": 0,
    "start_time": "2024-04-19T16:50:19.196Z"
   },
   {
    "duration": 0,
    "start_time": "2024-04-19T16:50:19.197Z"
   },
   {
    "duration": 0,
    "start_time": "2024-04-19T16:50:19.198Z"
   },
   {
    "duration": 0,
    "start_time": "2024-04-19T16:50:19.200Z"
   },
   {
    "duration": 0,
    "start_time": "2024-04-19T16:50:19.201Z"
   },
   {
    "duration": 22,
    "start_time": "2024-04-19T16:51:28.153Z"
   },
   {
    "duration": 3,
    "start_time": "2024-04-19T16:51:29.145Z"
   },
   {
    "duration": 21,
    "start_time": "2024-04-19T16:52:45.697Z"
   },
   {
    "duration": 20,
    "start_time": "2024-04-19T16:52:57.322Z"
   },
   {
    "duration": 15502,
    "start_time": "2024-04-19T16:53:04.644Z"
   },
   {
    "duration": 1730,
    "start_time": "2024-04-19T16:53:20.149Z"
   },
   {
    "duration": 84,
    "start_time": "2024-04-19T16:53:21.881Z"
   },
   {
    "duration": 30,
    "start_time": "2024-04-19T16:53:21.967Z"
   },
   {
    "duration": 13,
    "start_time": "2024-04-19T16:53:21.999Z"
   },
   {
    "duration": 13,
    "start_time": "2024-04-19T16:53:22.013Z"
   },
   {
    "duration": 14,
    "start_time": "2024-04-19T16:53:22.028Z"
   },
   {
    "duration": 25,
    "start_time": "2024-04-19T16:53:22.044Z"
   },
   {
    "duration": 27,
    "start_time": "2024-04-19T16:53:22.071Z"
   },
   {
    "duration": 24,
    "start_time": "2024-04-19T16:53:22.102Z"
   },
   {
    "duration": 20,
    "start_time": "2024-04-19T16:53:22.128Z"
   },
   {
    "duration": 11,
    "start_time": "2024-04-19T16:53:22.150Z"
   },
   {
    "duration": 10,
    "start_time": "2024-04-19T16:53:22.162Z"
   },
   {
    "duration": 16,
    "start_time": "2024-04-19T16:53:22.173Z"
   },
   {
    "duration": 11,
    "start_time": "2024-04-19T16:53:22.191Z"
   },
   {
    "duration": 30,
    "start_time": "2024-04-19T16:53:22.204Z"
   },
   {
    "duration": 14,
    "start_time": "2024-04-19T16:53:22.235Z"
   },
   {
    "duration": 16,
    "start_time": "2024-04-19T16:53:22.251Z"
   },
   {
    "duration": 23,
    "start_time": "2024-04-19T16:53:22.269Z"
   },
   {
    "duration": 65,
    "start_time": "2024-04-19T16:53:22.295Z"
   },
   {
    "duration": 95,
    "start_time": "2024-04-19T16:53:22.362Z"
   },
   {
    "duration": 91,
    "start_time": "2024-04-19T16:53:22.459Z"
   },
   {
    "duration": 84,
    "start_time": "2024-04-19T16:53:22.552Z"
   },
   {
    "duration": 90,
    "start_time": "2024-04-19T16:53:22.637Z"
   },
   {
    "duration": 144,
    "start_time": "2024-04-19T16:53:22.729Z"
   },
   {
    "duration": 118,
    "start_time": "2024-04-19T16:53:22.875Z"
   },
   {
    "duration": 229,
    "start_time": "2024-04-19T16:53:22.994Z"
   },
   {
    "duration": 388,
    "start_time": "2024-04-19T16:53:23.227Z"
   },
   {
    "duration": 229,
    "start_time": "2024-04-19T16:53:23.616Z"
   },
   {
    "duration": 116,
    "start_time": "2024-04-19T16:53:23.847Z"
   },
   {
    "duration": 188,
    "start_time": "2024-04-19T16:53:23.964Z"
   },
   {
    "duration": 200,
    "start_time": "2024-04-19T16:53:24.154Z"
   },
   {
    "duration": 349,
    "start_time": "2024-04-19T16:53:24.356Z"
   },
   {
    "duration": 175,
    "start_time": "2024-04-19T16:53:24.706Z"
   },
   {
    "duration": 24,
    "start_time": "2024-04-19T16:53:24.882Z"
   },
   {
    "duration": 292,
    "start_time": "2024-04-19T16:53:24.907Z"
   },
   {
    "duration": 14,
    "start_time": "2024-04-19T16:53:25.202Z"
   },
   {
    "duration": 61,
    "start_time": "2024-04-19T16:53:25.218Z"
   },
   {
    "duration": 54,
    "start_time": "2024-04-19T16:53:25.281Z"
   },
   {
    "duration": 17,
    "start_time": "2024-04-19T16:53:25.338Z"
   },
   {
    "duration": 231,
    "start_time": "2024-04-19T16:53:25.356Z"
   },
   {
    "duration": 6,
    "start_time": "2024-04-19T16:53:25.592Z"
   },
   {
    "duration": 362,
    "start_time": "2024-04-19T16:53:25.599Z"
   },
   {
    "duration": 29,
    "start_time": "2024-04-19T16:53:25.962Z"
   },
   {
    "duration": 24,
    "start_time": "2024-04-19T16:53:25.993Z"
   },
   {
    "duration": 290,
    "start_time": "2024-04-19T16:53:26.019Z"
   },
   {
    "duration": 18,
    "start_time": "2024-04-19T16:53:26.313Z"
   },
   {
    "duration": 12,
    "start_time": "2024-04-19T16:53:26.333Z"
   },
   {
    "duration": 17,
    "start_time": "2024-04-19T16:53:26.346Z"
   },
   {
    "duration": 36,
    "start_time": "2024-04-19T16:53:26.365Z"
   },
   {
    "duration": 52,
    "start_time": "2024-04-19T16:53:26.403Z"
   },
   {
    "duration": 3767,
    "start_time": "2024-04-19T16:53:26.457Z"
   },
   {
    "duration": 4,
    "start_time": "2024-04-19T16:53:30.226Z"
   },
   {
    "duration": 503,
    "start_time": "2024-04-19T16:53:30.232Z"
   },
   {
    "duration": 76,
    "start_time": "2024-04-19T16:53:30.737Z"
   },
   {
    "duration": 56,
    "start_time": "2024-04-19T16:53:30.815Z"
   },
   {
    "duration": 285,
    "start_time": "2024-04-19T16:53:30.873Z"
   },
   {
    "duration": 3,
    "start_time": "2024-04-19T16:53:31.160Z"
   },
   {
    "duration": 56,
    "start_time": "2024-04-19T16:53:31.164Z"
   },
   {
    "duration": 39,
    "start_time": "2024-04-19T16:53:31.222Z"
   },
   {
    "duration": 30,
    "start_time": "2024-04-19T16:53:31.263Z"
   },
   {
    "duration": 31,
    "start_time": "2024-04-19T16:53:31.295Z"
   },
   {
    "duration": 33,
    "start_time": "2024-04-19T16:53:31.328Z"
   },
   {
    "duration": 1492,
    "start_time": "2024-04-19T16:53:31.363Z"
   },
   {
    "duration": 19,
    "start_time": "2024-04-19T16:53:32.857Z"
   },
   {
    "duration": 32,
    "start_time": "2024-04-19T16:53:32.878Z"
   },
   {
    "duration": 30,
    "start_time": "2024-04-19T16:53:32.911Z"
   },
   {
    "duration": 21,
    "start_time": "2024-04-19T16:53:32.943Z"
   },
   {
    "duration": 53,
    "start_time": "2024-04-19T16:53:32.965Z"
   },
   {
    "duration": 6,
    "start_time": "2024-04-19T16:53:33.019Z"
   },
   {
    "duration": 155,
    "start_time": "2024-04-19T16:53:33.026Z"
   },
   {
    "duration": 0,
    "start_time": "2024-04-19T16:53:33.183Z"
   },
   {
    "duration": 0,
    "start_time": "2024-04-19T16:53:33.184Z"
   },
   {
    "duration": 0,
    "start_time": "2024-04-19T16:53:33.185Z"
   },
   {
    "duration": 0,
    "start_time": "2024-04-19T16:53:33.186Z"
   },
   {
    "duration": 0,
    "start_time": "2024-04-19T16:53:33.191Z"
   },
   {
    "duration": 0,
    "start_time": "2024-04-19T16:53:33.192Z"
   },
   {
    "duration": 0,
    "start_time": "2024-04-19T16:53:33.193Z"
   },
   {
    "duration": 0,
    "start_time": "2024-04-19T16:53:33.194Z"
   },
   {
    "duration": 0,
    "start_time": "2024-04-19T16:53:33.195Z"
   },
   {
    "duration": 0,
    "start_time": "2024-04-19T16:53:33.196Z"
   },
   {
    "duration": 0,
    "start_time": "2024-04-19T16:53:33.197Z"
   },
   {
    "duration": 0,
    "start_time": "2024-04-19T16:53:33.199Z"
   },
   {
    "duration": 0,
    "start_time": "2024-04-19T16:53:33.199Z"
   },
   {
    "duration": 0,
    "start_time": "2024-04-19T16:53:33.201Z"
   },
   {
    "duration": 1,
    "start_time": "2024-04-19T16:53:33.202Z"
   },
   {
    "duration": 0,
    "start_time": "2024-04-19T16:53:33.204Z"
   },
   {
    "duration": 0,
    "start_time": "2024-04-19T16:53:33.205Z"
   },
   {
    "duration": 63,
    "start_time": "2024-04-19T16:53:52.468Z"
   },
   {
    "duration": 7,
    "start_time": "2024-04-19T16:54:00.120Z"
   },
   {
    "duration": 15737,
    "start_time": "2024-04-19T16:54:10.100Z"
   },
   {
    "duration": 1753,
    "start_time": "2024-04-19T16:54:25.840Z"
   },
   {
    "duration": 86,
    "start_time": "2024-04-19T16:54:27.595Z"
   },
   {
    "duration": 28,
    "start_time": "2024-04-19T16:54:27.682Z"
   },
   {
    "duration": 21,
    "start_time": "2024-04-19T16:54:27.712Z"
   },
   {
    "duration": 10,
    "start_time": "2024-04-19T16:54:27.735Z"
   },
   {
    "duration": 17,
    "start_time": "2024-04-19T16:54:27.746Z"
   },
   {
    "duration": 12,
    "start_time": "2024-04-19T16:54:27.765Z"
   },
   {
    "duration": 12,
    "start_time": "2024-04-19T16:54:27.779Z"
   },
   {
    "duration": 24,
    "start_time": "2024-04-19T16:54:27.793Z"
   },
   {
    "duration": 17,
    "start_time": "2024-04-19T16:54:27.819Z"
   },
   {
    "duration": 10,
    "start_time": "2024-04-19T16:54:27.838Z"
   },
   {
    "duration": 4,
    "start_time": "2024-04-19T16:54:27.849Z"
   },
   {
    "duration": 12,
    "start_time": "2024-04-19T16:54:27.856Z"
   },
   {
    "duration": 23,
    "start_time": "2024-04-19T16:54:27.870Z"
   },
   {
    "duration": 11,
    "start_time": "2024-04-19T16:54:27.894Z"
   },
   {
    "duration": 18,
    "start_time": "2024-04-19T16:54:27.907Z"
   },
   {
    "duration": 6,
    "start_time": "2024-04-19T16:54:27.927Z"
   },
   {
    "duration": 12,
    "start_time": "2024-04-19T16:54:27.935Z"
   },
   {
    "duration": 44,
    "start_time": "2024-04-19T16:54:27.948Z"
   },
   {
    "duration": 100,
    "start_time": "2024-04-19T16:54:27.994Z"
   },
   {
    "duration": 83,
    "start_time": "2024-04-19T16:54:28.096Z"
   },
   {
    "duration": 73,
    "start_time": "2024-04-19T16:54:28.191Z"
   },
   {
    "duration": 90,
    "start_time": "2024-04-19T16:54:28.265Z"
   },
   {
    "duration": 137,
    "start_time": "2024-04-19T16:54:28.357Z"
   },
   {
    "duration": 121,
    "start_time": "2024-04-19T16:54:28.495Z"
   },
   {
    "duration": 236,
    "start_time": "2024-04-19T16:54:28.617Z"
   },
   {
    "duration": 370,
    "start_time": "2024-04-19T16:54:28.854Z"
   },
   {
    "duration": 223,
    "start_time": "2024-04-19T16:54:29.226Z"
   },
   {
    "duration": 112,
    "start_time": "2024-04-19T16:54:29.450Z"
   },
   {
    "duration": 171,
    "start_time": "2024-04-19T16:54:29.563Z"
   },
   {
    "duration": 206,
    "start_time": "2024-04-19T16:54:29.735Z"
   },
   {
    "duration": 300,
    "start_time": "2024-04-19T16:54:29.942Z"
   },
   {
    "duration": 186,
    "start_time": "2024-04-19T16:54:30.243Z"
   },
   {
    "duration": 21,
    "start_time": "2024-04-19T16:54:30.430Z"
   },
   {
    "duration": 249,
    "start_time": "2024-04-19T16:54:30.452Z"
   },
   {
    "duration": 11,
    "start_time": "2024-04-19T16:54:30.703Z"
   },
   {
    "duration": 437,
    "start_time": "2024-04-19T16:54:30.715Z"
   },
   {
    "duration": 484,
    "start_time": "2024-04-19T16:54:31.154Z"
   },
   {
    "duration": 24,
    "start_time": "2024-04-19T16:54:31.640Z"
   },
   {
    "duration": 258,
    "start_time": "2024-04-19T16:54:31.669Z"
   },
   {
    "duration": 5,
    "start_time": "2024-04-19T16:54:31.929Z"
   },
   {
    "duration": 362,
    "start_time": "2024-04-19T16:54:31.936Z"
   },
   {
    "duration": 21,
    "start_time": "2024-04-19T16:54:32.300Z"
   },
   {
    "duration": 26,
    "start_time": "2024-04-19T16:54:32.322Z"
   },
   {
    "duration": 263,
    "start_time": "2024-04-19T16:54:32.350Z"
   },
   {
    "duration": 16,
    "start_time": "2024-04-19T16:54:32.615Z"
   },
   {
    "duration": 10,
    "start_time": "2024-04-19T16:54:32.633Z"
   },
   {
    "duration": 13,
    "start_time": "2024-04-19T16:54:32.645Z"
   },
   {
    "duration": 35,
    "start_time": "2024-04-19T16:54:32.660Z"
   },
   {
    "duration": 33,
    "start_time": "2024-04-19T16:54:32.696Z"
   },
   {
    "duration": 3654,
    "start_time": "2024-04-19T16:54:32.730Z"
   },
   {
    "duration": 6,
    "start_time": "2024-04-19T16:54:36.386Z"
   },
   {
    "duration": 24,
    "start_time": "2024-04-19T16:54:36.393Z"
   },
   {
    "duration": 24,
    "start_time": "2024-04-19T16:54:36.419Z"
   },
   {
    "duration": 7,
    "start_time": "2024-04-19T16:54:36.445Z"
   },
   {
    "duration": 257,
    "start_time": "2024-04-19T16:54:36.453Z"
   },
   {
    "duration": 4,
    "start_time": "2024-04-19T16:54:36.711Z"
   },
   {
    "duration": 8,
    "start_time": "2024-04-19T16:54:36.717Z"
   },
   {
    "duration": 14,
    "start_time": "2024-04-19T16:54:36.726Z"
   },
   {
    "duration": 12,
    "start_time": "2024-04-19T16:54:36.741Z"
   },
   {
    "duration": 11,
    "start_time": "2024-04-19T16:54:36.754Z"
   },
   {
    "duration": 10,
    "start_time": "2024-04-19T16:54:36.766Z"
   },
   {
    "duration": 1493,
    "start_time": "2024-04-19T16:54:36.778Z"
   },
   {
    "duration": 25,
    "start_time": "2024-04-19T16:54:38.273Z"
   },
   {
    "duration": 23,
    "start_time": "2024-04-19T16:54:38.300Z"
   },
   {
    "duration": 33,
    "start_time": "2024-04-19T16:54:38.324Z"
   },
   {
    "duration": 4,
    "start_time": "2024-04-19T16:54:38.359Z"
   },
   {
    "duration": 43,
    "start_time": "2024-04-19T16:54:38.364Z"
   },
   {
    "duration": 6,
    "start_time": "2024-04-19T16:54:38.409Z"
   },
   {
    "duration": 74,
    "start_time": "2024-04-19T16:54:38.417Z"
   },
   {
    "duration": 7,
    "start_time": "2024-04-19T16:54:38.493Z"
   },
   {
    "duration": 28,
    "start_time": "2024-04-19T16:54:38.501Z"
   },
   {
    "duration": 165,
    "start_time": "2024-04-19T16:54:38.531Z"
   },
   {
    "duration": 0,
    "start_time": "2024-04-19T16:54:38.698Z"
   },
   {
    "duration": 0,
    "start_time": "2024-04-19T16:54:38.699Z"
   },
   {
    "duration": 0,
    "start_time": "2024-04-19T16:54:38.701Z"
   },
   {
    "duration": 0,
    "start_time": "2024-04-19T16:54:38.702Z"
   },
   {
    "duration": 0,
    "start_time": "2024-04-19T16:54:38.704Z"
   },
   {
    "duration": 0,
    "start_time": "2024-04-19T16:54:38.706Z"
   },
   {
    "duration": 0,
    "start_time": "2024-04-19T16:54:38.707Z"
   },
   {
    "duration": 0,
    "start_time": "2024-04-19T16:54:38.708Z"
   },
   {
    "duration": 0,
    "start_time": "2024-04-19T16:54:38.710Z"
   },
   {
    "duration": 0,
    "start_time": "2024-04-19T16:54:38.711Z"
   },
   {
    "duration": 0,
    "start_time": "2024-04-19T16:54:38.713Z"
   },
   {
    "duration": 0,
    "start_time": "2024-04-19T16:54:38.714Z"
   },
   {
    "duration": 0,
    "start_time": "2024-04-19T16:54:38.715Z"
   },
   {
    "duration": 0,
    "start_time": "2024-04-19T16:54:38.716Z"
   },
   {
    "duration": 96,
    "start_time": "2024-04-19T16:55:15.583Z"
   },
   {
    "duration": 15622,
    "start_time": "2024-04-19T16:55:27.973Z"
   },
   {
    "duration": 1786,
    "start_time": "2024-04-19T16:55:43.598Z"
   },
   {
    "duration": 83,
    "start_time": "2024-04-19T16:55:45.386Z"
   },
   {
    "duration": 29,
    "start_time": "2024-04-19T16:55:45.471Z"
   },
   {
    "duration": 17,
    "start_time": "2024-04-19T16:55:45.501Z"
   },
   {
    "duration": 22,
    "start_time": "2024-04-19T16:55:45.520Z"
   },
   {
    "duration": 30,
    "start_time": "2024-04-19T16:55:45.543Z"
   },
   {
    "duration": 31,
    "start_time": "2024-04-19T16:55:45.574Z"
   },
   {
    "duration": 20,
    "start_time": "2024-04-19T16:55:45.606Z"
   },
   {
    "duration": 41,
    "start_time": "2024-04-19T16:55:45.628Z"
   },
   {
    "duration": 23,
    "start_time": "2024-04-19T16:55:45.671Z"
   },
   {
    "duration": 14,
    "start_time": "2024-04-19T16:55:45.696Z"
   },
   {
    "duration": 21,
    "start_time": "2024-04-19T16:55:45.711Z"
   },
   {
    "duration": 29,
    "start_time": "2024-04-19T16:55:45.734Z"
   },
   {
    "duration": 26,
    "start_time": "2024-04-19T16:55:45.764Z"
   },
   {
    "duration": 17,
    "start_time": "2024-04-19T16:55:45.792Z"
   },
   {
    "duration": 32,
    "start_time": "2024-04-19T16:55:45.811Z"
   },
   {
    "duration": 26,
    "start_time": "2024-04-19T16:55:45.844Z"
   },
   {
    "duration": 18,
    "start_time": "2024-04-19T16:55:45.871Z"
   },
   {
    "duration": 41,
    "start_time": "2024-04-19T16:55:45.891Z"
   },
   {
    "duration": 102,
    "start_time": "2024-04-19T16:55:45.933Z"
   },
   {
    "duration": 94,
    "start_time": "2024-04-19T16:55:46.036Z"
   },
   {
    "duration": 78,
    "start_time": "2024-04-19T16:55:46.132Z"
   },
   {
    "duration": 85,
    "start_time": "2024-04-19T16:55:46.211Z"
   },
   {
    "duration": 141,
    "start_time": "2024-04-19T16:55:46.298Z"
   },
   {
    "duration": 152,
    "start_time": "2024-04-19T16:55:46.441Z"
   },
   {
    "duration": 246,
    "start_time": "2024-04-19T16:55:46.595Z"
   },
   {
    "duration": 400,
    "start_time": "2024-04-19T16:55:46.846Z"
   },
   {
    "duration": 236,
    "start_time": "2024-04-19T16:55:47.247Z"
   },
   {
    "duration": 115,
    "start_time": "2024-04-19T16:55:47.485Z"
   },
   {
    "duration": 182,
    "start_time": "2024-04-19T16:55:47.602Z"
   },
   {
    "duration": 191,
    "start_time": "2024-04-19T16:55:47.786Z"
   },
   {
    "duration": 334,
    "start_time": "2024-04-19T16:55:47.979Z"
   },
   {
    "duration": 177,
    "start_time": "2024-04-19T16:55:48.315Z"
   },
   {
    "duration": 21,
    "start_time": "2024-04-19T16:55:48.493Z"
   },
   {
    "duration": 157,
    "start_time": "2024-04-19T16:55:48.516Z"
   },
   {
    "duration": 18,
    "start_time": "2024-04-19T16:55:48.674Z"
   },
   {
    "duration": 13,
    "start_time": "2024-04-19T16:55:48.693Z"
   },
   {
    "duration": 16,
    "start_time": "2024-04-19T16:55:48.708Z"
   },
   {
    "duration": 11,
    "start_time": "2024-04-19T16:55:48.726Z"
   },
   {
    "duration": 224,
    "start_time": "2024-04-19T16:55:48.739Z"
   },
   {
    "duration": 5,
    "start_time": "2024-04-19T16:55:48.964Z"
   },
   {
    "duration": 369,
    "start_time": "2024-04-19T16:55:48.971Z"
   },
   {
    "duration": 28,
    "start_time": "2024-04-19T16:55:49.342Z"
   },
   {
    "duration": 38,
    "start_time": "2024-04-19T16:55:49.372Z"
   },
   {
    "duration": 307,
    "start_time": "2024-04-19T16:55:49.412Z"
   },
   {
    "duration": 17,
    "start_time": "2024-04-19T16:55:49.721Z"
   },
   {
    "duration": 14,
    "start_time": "2024-04-19T16:55:49.740Z"
   },
   {
    "duration": 33,
    "start_time": "2024-04-19T16:55:49.756Z"
   },
   {
    "duration": 32,
    "start_time": "2024-04-19T16:55:49.791Z"
   },
   {
    "duration": 50,
    "start_time": "2024-04-19T16:55:49.825Z"
   },
   {
    "duration": 3735,
    "start_time": "2024-04-19T16:55:49.877Z"
   },
   {
    "duration": 4,
    "start_time": "2024-04-19T16:55:53.614Z"
   },
   {
    "duration": 14,
    "start_time": "2024-04-19T16:55:53.620Z"
   },
   {
    "duration": 10,
    "start_time": "2024-04-19T16:55:53.636Z"
   },
   {
    "duration": 5,
    "start_time": "2024-04-19T16:55:53.648Z"
   },
   {
    "duration": 291,
    "start_time": "2024-04-19T16:55:53.654Z"
   },
   {
    "duration": 3,
    "start_time": "2024-04-19T16:55:53.947Z"
   },
   {
    "duration": 16,
    "start_time": "2024-04-19T16:55:53.952Z"
   },
   {
    "duration": 8,
    "start_time": "2024-04-19T16:55:53.969Z"
   },
   {
    "duration": 6,
    "start_time": "2024-04-19T16:55:53.979Z"
   },
   {
    "duration": 12,
    "start_time": "2024-04-19T16:55:53.986Z"
   },
   {
    "duration": 12,
    "start_time": "2024-04-19T16:55:54.000Z"
   },
   {
    "duration": 1442,
    "start_time": "2024-04-19T16:55:54.013Z"
   },
   {
    "duration": 19,
    "start_time": "2024-04-19T16:55:55.457Z"
   },
   {
    "duration": 35,
    "start_time": "2024-04-19T16:55:55.478Z"
   },
   {
    "duration": 45,
    "start_time": "2024-04-19T16:55:55.514Z"
   },
   {
    "duration": 33,
    "start_time": "2024-04-19T16:55:55.560Z"
   },
   {
    "duration": 51,
    "start_time": "2024-04-19T16:55:55.595Z"
   },
   {
    "duration": 10,
    "start_time": "2024-04-19T16:55:55.648Z"
   },
   {
    "duration": 94,
    "start_time": "2024-04-19T16:55:55.659Z"
   },
   {
    "duration": 6,
    "start_time": "2024-04-19T16:55:55.754Z"
   },
   {
    "duration": 25,
    "start_time": "2024-04-19T16:55:55.761Z"
   },
   {
    "duration": 265,
    "start_time": "2024-04-19T16:55:55.787Z"
   },
   {
    "duration": 0,
    "start_time": "2024-04-19T16:55:56.054Z"
   },
   {
    "duration": 0,
    "start_time": "2024-04-19T16:55:56.056Z"
   },
   {
    "duration": 0,
    "start_time": "2024-04-19T16:55:56.057Z"
   },
   {
    "duration": 0,
    "start_time": "2024-04-19T16:55:56.059Z"
   },
   {
    "duration": 0,
    "start_time": "2024-04-19T16:55:56.060Z"
   },
   {
    "duration": 0,
    "start_time": "2024-04-19T16:55:56.061Z"
   },
   {
    "duration": 0,
    "start_time": "2024-04-19T16:55:56.062Z"
   },
   {
    "duration": 0,
    "start_time": "2024-04-19T16:55:56.064Z"
   },
   {
    "duration": 0,
    "start_time": "2024-04-19T16:55:56.065Z"
   },
   {
    "duration": 0,
    "start_time": "2024-04-19T16:55:56.067Z"
   },
   {
    "duration": 0,
    "start_time": "2024-04-19T16:55:56.068Z"
   },
   {
    "duration": 0,
    "start_time": "2024-04-19T16:55:56.069Z"
   },
   {
    "duration": 0,
    "start_time": "2024-04-19T16:55:56.070Z"
   },
   {
    "duration": 0,
    "start_time": "2024-04-19T16:55:56.071Z"
   },
   {
    "duration": 600,
    "start_time": "2024-04-19T16:56:18.227Z"
   },
   {
    "duration": 1200,
    "start_time": "2024-04-19T16:56:20.502Z"
   },
   {
    "duration": 155,
    "start_time": "2024-04-19T16:56:26.833Z"
   },
   {
    "duration": 15789,
    "start_time": "2024-04-19T16:56:46.284Z"
   },
   {
    "duration": 1827,
    "start_time": "2024-04-19T16:57:02.075Z"
   },
   {
    "duration": 84,
    "start_time": "2024-04-19T16:57:03.904Z"
   },
   {
    "duration": 32,
    "start_time": "2024-04-19T16:57:03.990Z"
   },
   {
    "duration": 113,
    "start_time": "2024-04-19T16:57:04.023Z"
   },
   {
    "duration": 61,
    "start_time": "2024-04-19T16:57:04.138Z"
   },
   {
    "duration": 40,
    "start_time": "2024-04-19T16:57:04.200Z"
   },
   {
    "duration": 27,
    "start_time": "2024-04-19T16:57:04.241Z"
   },
   {
    "duration": 23,
    "start_time": "2024-04-19T16:57:04.270Z"
   },
   {
    "duration": 25,
    "start_time": "2024-04-19T16:57:04.297Z"
   },
   {
    "duration": 31,
    "start_time": "2024-04-19T16:57:04.324Z"
   },
   {
    "duration": 45,
    "start_time": "2024-04-19T16:57:04.357Z"
   },
   {
    "duration": 38,
    "start_time": "2024-04-19T16:57:04.404Z"
   },
   {
    "duration": 43,
    "start_time": "2024-04-19T16:57:04.444Z"
   },
   {
    "duration": 28,
    "start_time": "2024-04-19T16:57:04.489Z"
   },
   {
    "duration": 20,
    "start_time": "2024-04-19T16:57:04.519Z"
   },
   {
    "duration": 20,
    "start_time": "2024-04-19T16:57:04.540Z"
   },
   {
    "duration": 13,
    "start_time": "2024-04-19T16:57:04.562Z"
   },
   {
    "duration": 25,
    "start_time": "2024-04-19T16:57:04.577Z"
   },
   {
    "duration": 67,
    "start_time": "2024-04-19T16:57:04.604Z"
   },
   {
    "duration": 89,
    "start_time": "2024-04-19T16:57:04.673Z"
   },
   {
    "duration": 92,
    "start_time": "2024-04-19T16:57:04.764Z"
   },
   {
    "duration": 86,
    "start_time": "2024-04-19T16:57:04.858Z"
   },
   {
    "duration": 86,
    "start_time": "2024-04-19T16:57:04.946Z"
   },
   {
    "duration": 137,
    "start_time": "2024-04-19T16:57:05.034Z"
   },
   {
    "duration": 129,
    "start_time": "2024-04-19T16:57:05.172Z"
   },
   {
    "duration": 232,
    "start_time": "2024-04-19T16:57:05.303Z"
   },
   {
    "duration": 399,
    "start_time": "2024-04-19T16:57:05.540Z"
   },
   {
    "duration": 228,
    "start_time": "2024-04-19T16:57:05.941Z"
   },
   {
    "duration": 111,
    "start_time": "2024-04-19T16:57:06.171Z"
   },
   {
    "duration": 184,
    "start_time": "2024-04-19T16:57:06.292Z"
   },
   {
    "duration": 199,
    "start_time": "2024-04-19T16:57:06.479Z"
   },
   {
    "duration": 303,
    "start_time": "2024-04-19T16:57:06.680Z"
   },
   {
    "duration": 178,
    "start_time": "2024-04-19T16:57:06.985Z"
   },
   {
    "duration": 30,
    "start_time": "2024-04-19T16:57:07.164Z"
   },
   {
    "duration": 177,
    "start_time": "2024-04-19T16:57:07.196Z"
   },
   {
    "duration": 11,
    "start_time": "2024-04-19T16:57:07.375Z"
   },
   {
    "duration": 14,
    "start_time": "2024-04-19T16:57:07.392Z"
   },
   {
    "duration": 10,
    "start_time": "2024-04-19T16:57:07.408Z"
   },
   {
    "duration": 13,
    "start_time": "2024-04-19T16:57:07.420Z"
   },
   {
    "duration": 233,
    "start_time": "2024-04-19T16:57:07.435Z"
   },
   {
    "duration": 6,
    "start_time": "2024-04-19T16:57:07.671Z"
   },
   {
    "duration": 383,
    "start_time": "2024-04-19T16:57:07.691Z"
   },
   {
    "duration": 33,
    "start_time": "2024-04-19T16:57:08.075Z"
   },
   {
    "duration": 21,
    "start_time": "2024-04-19T16:57:08.111Z"
   },
   {
    "duration": 285,
    "start_time": "2024-04-19T16:57:08.133Z"
   },
   {
    "duration": 18,
    "start_time": "2024-04-19T16:57:08.419Z"
   },
   {
    "duration": 13,
    "start_time": "2024-04-19T16:57:08.438Z"
   },
   {
    "duration": 11,
    "start_time": "2024-04-19T16:57:08.452Z"
   },
   {
    "duration": 41,
    "start_time": "2024-04-19T16:57:08.464Z"
   },
   {
    "duration": 36,
    "start_time": "2024-04-19T16:57:08.506Z"
   },
   {
    "duration": 3874,
    "start_time": "2024-04-19T16:57:08.544Z"
   },
   {
    "duration": 4,
    "start_time": "2024-04-19T16:57:12.420Z"
   },
   {
    "duration": 43,
    "start_time": "2024-04-19T16:57:12.426Z"
   },
   {
    "duration": 38,
    "start_time": "2024-04-19T16:57:12.471Z"
   },
   {
    "duration": 3,
    "start_time": "2024-04-19T16:57:12.511Z"
   },
   {
    "duration": 259,
    "start_time": "2024-04-19T16:57:12.515Z"
   },
   {
    "duration": 3,
    "start_time": "2024-04-19T16:57:12.776Z"
   },
   {
    "duration": 12,
    "start_time": "2024-04-19T16:57:12.781Z"
   },
   {
    "duration": 10,
    "start_time": "2024-04-19T16:57:12.794Z"
   },
   {
    "duration": 11,
    "start_time": "2024-04-19T16:57:12.806Z"
   },
   {
    "duration": 5,
    "start_time": "2024-04-19T16:57:12.819Z"
   },
   {
    "duration": 7,
    "start_time": "2024-04-19T16:57:12.826Z"
   },
   {
    "duration": 1444,
    "start_time": "2024-04-19T16:57:12.834Z"
   },
   {
    "duration": 38,
    "start_time": "2024-04-19T16:57:14.280Z"
   },
   {
    "duration": 25,
    "start_time": "2024-04-19T16:57:14.320Z"
   },
   {
    "duration": 48,
    "start_time": "2024-04-19T16:57:14.346Z"
   },
   {
    "duration": 25,
    "start_time": "2024-04-19T16:57:14.396Z"
   },
   {
    "duration": 33,
    "start_time": "2024-04-19T16:57:14.423Z"
   },
   {
    "duration": 9,
    "start_time": "2024-04-19T16:57:14.457Z"
   },
   {
    "duration": 69,
    "start_time": "2024-04-19T16:57:14.468Z"
   },
   {
    "duration": 5,
    "start_time": "2024-04-19T16:57:14.539Z"
   },
   {
    "duration": 59,
    "start_time": "2024-04-19T16:57:14.546Z"
   },
   {
    "duration": 629,
    "start_time": "2024-04-19T16:57:14.607Z"
   },
   {
    "duration": 1354,
    "start_time": "2024-04-19T16:57:15.238Z"
   },
   {
    "duration": 2,
    "start_time": "2024-04-19T16:57:16.594Z"
   },
   {
    "duration": 346,
    "start_time": "2024-04-19T16:57:16.598Z"
   },
   {
    "duration": 0,
    "start_time": "2024-04-19T16:57:16.946Z"
   },
   {
    "duration": 0,
    "start_time": "2024-04-19T16:57:16.948Z"
   },
   {
    "duration": 0,
    "start_time": "2024-04-19T16:57:16.949Z"
   },
   {
    "duration": 0,
    "start_time": "2024-04-19T16:57:16.951Z"
   },
   {
    "duration": 0,
    "start_time": "2024-04-19T16:57:16.953Z"
   },
   {
    "duration": 0,
    "start_time": "2024-04-19T16:57:16.955Z"
   },
   {
    "duration": 0,
    "start_time": "2024-04-19T16:57:16.956Z"
   },
   {
    "duration": 1,
    "start_time": "2024-04-19T16:57:16.957Z"
   },
   {
    "duration": 0,
    "start_time": "2024-04-19T16:57:16.959Z"
   },
   {
    "duration": 0,
    "start_time": "2024-04-19T16:57:16.961Z"
   },
   {
    "duration": 0,
    "start_time": "2024-04-19T16:57:16.963Z"
   },
   {
    "duration": 15705,
    "start_time": "2024-04-19T16:58:06.884Z"
   },
   {
    "duration": 1801,
    "start_time": "2024-04-19T16:58:22.591Z"
   },
   {
    "duration": 83,
    "start_time": "2024-04-19T16:58:24.394Z"
   },
   {
    "duration": 31,
    "start_time": "2024-04-19T16:58:24.479Z"
   },
   {
    "duration": 11,
    "start_time": "2024-04-19T16:58:24.513Z"
   },
   {
    "duration": 29,
    "start_time": "2024-04-19T16:58:24.526Z"
   },
   {
    "duration": 16,
    "start_time": "2024-04-19T16:58:24.557Z"
   },
   {
    "duration": 21,
    "start_time": "2024-04-19T16:58:24.574Z"
   },
   {
    "duration": 16,
    "start_time": "2024-04-19T16:58:24.597Z"
   },
   {
    "duration": 9,
    "start_time": "2024-04-19T16:58:24.614Z"
   },
   {
    "duration": 19,
    "start_time": "2024-04-19T16:58:24.624Z"
   },
   {
    "duration": 10,
    "start_time": "2024-04-19T16:58:24.644Z"
   },
   {
    "duration": 9,
    "start_time": "2024-04-19T16:58:24.655Z"
   },
   {
    "duration": 8,
    "start_time": "2024-04-19T16:58:24.667Z"
   },
   {
    "duration": 16,
    "start_time": "2024-04-19T16:58:24.677Z"
   },
   {
    "duration": 10,
    "start_time": "2024-04-19T16:58:24.694Z"
   },
   {
    "duration": 7,
    "start_time": "2024-04-19T16:58:24.705Z"
   },
   {
    "duration": 13,
    "start_time": "2024-04-19T16:58:24.713Z"
   },
   {
    "duration": 15,
    "start_time": "2024-04-19T16:58:24.727Z"
   },
   {
    "duration": 54,
    "start_time": "2024-04-19T16:58:24.744Z"
   },
   {
    "duration": 99,
    "start_time": "2024-04-19T16:58:24.800Z"
   },
   {
    "duration": 100,
    "start_time": "2024-04-19T16:58:24.901Z"
   },
   {
    "duration": 73,
    "start_time": "2024-04-19T16:58:25.003Z"
   },
   {
    "duration": 93,
    "start_time": "2024-04-19T16:58:25.078Z"
   },
   {
    "duration": 162,
    "start_time": "2024-04-19T16:58:25.173Z"
   },
   {
    "duration": 124,
    "start_time": "2024-04-19T16:58:25.337Z"
   },
   {
    "duration": 230,
    "start_time": "2024-04-19T16:58:25.463Z"
   },
   {
    "duration": 382,
    "start_time": "2024-04-19T16:58:25.695Z"
   },
   {
    "duration": 229,
    "start_time": "2024-04-19T16:58:26.079Z"
   },
   {
    "duration": 110,
    "start_time": "2024-04-19T16:58:26.310Z"
   },
   {
    "duration": 187,
    "start_time": "2024-04-19T16:58:26.422Z"
   },
   {
    "duration": 201,
    "start_time": "2024-04-19T16:58:26.611Z"
   },
   {
    "duration": 292,
    "start_time": "2024-04-19T16:58:26.813Z"
   },
   {
    "duration": 174,
    "start_time": "2024-04-19T16:58:27.107Z"
   },
   {
    "duration": 25,
    "start_time": "2024-04-19T16:58:27.283Z"
   },
   {
    "duration": 151,
    "start_time": "2024-04-19T16:58:27.309Z"
   },
   {
    "duration": 11,
    "start_time": "2024-04-19T16:58:27.462Z"
   },
   {
    "duration": 38,
    "start_time": "2024-04-19T16:58:27.474Z"
   },
   {
    "duration": 5,
    "start_time": "2024-04-19T16:58:27.513Z"
   },
   {
    "duration": 30,
    "start_time": "2024-04-19T16:58:27.519Z"
   },
   {
    "duration": 227,
    "start_time": "2024-04-19T16:58:27.553Z"
   },
   {
    "duration": 6,
    "start_time": "2024-04-19T16:58:27.781Z"
   },
   {
    "duration": 372,
    "start_time": "2024-04-19T16:58:27.788Z"
   },
   {
    "duration": 21,
    "start_time": "2024-04-19T16:58:28.162Z"
   },
   {
    "duration": 21,
    "start_time": "2024-04-19T16:58:28.191Z"
   },
   {
    "duration": 281,
    "start_time": "2024-04-19T16:58:28.214Z"
   },
   {
    "duration": 17,
    "start_time": "2024-04-19T16:58:28.496Z"
   },
   {
    "duration": 12,
    "start_time": "2024-04-19T16:58:28.515Z"
   },
   {
    "duration": 15,
    "start_time": "2024-04-19T16:58:28.529Z"
   },
   {
    "duration": 22,
    "start_time": "2024-04-19T16:58:28.545Z"
   },
   {
    "duration": 54,
    "start_time": "2024-04-19T16:58:28.569Z"
   },
   {
    "duration": 3776,
    "start_time": "2024-04-19T16:58:28.625Z"
   },
   {
    "duration": 4,
    "start_time": "2024-04-19T16:58:32.403Z"
   },
   {
    "duration": 438,
    "start_time": "2024-04-19T16:58:32.409Z"
   },
   {
    "duration": 26,
    "start_time": "2024-04-19T16:58:32.848Z"
   },
   {
    "duration": 6,
    "start_time": "2024-04-19T16:58:32.876Z"
   },
   {
    "duration": 291,
    "start_time": "2024-04-19T16:58:32.883Z"
   },
   {
    "duration": 3,
    "start_time": "2024-04-19T16:58:33.176Z"
   },
   {
    "duration": 29,
    "start_time": "2024-04-19T16:58:33.180Z"
   },
   {
    "duration": 13,
    "start_time": "2024-04-19T16:58:33.212Z"
   },
   {
    "duration": 11,
    "start_time": "2024-04-19T16:58:33.226Z"
   },
   {
    "duration": 17,
    "start_time": "2024-04-19T16:58:33.239Z"
   },
   {
    "duration": 13,
    "start_time": "2024-04-19T16:58:33.257Z"
   },
   {
    "duration": 1476,
    "start_time": "2024-04-19T16:58:33.272Z"
   },
   {
    "duration": 20,
    "start_time": "2024-04-19T16:58:34.749Z"
   },
   {
    "duration": 36,
    "start_time": "2024-04-19T16:58:34.771Z"
   },
   {
    "duration": 49,
    "start_time": "2024-04-19T16:58:34.809Z"
   },
   {
    "duration": 2,
    "start_time": "2024-04-19T16:58:34.860Z"
   },
   {
    "duration": 24,
    "start_time": "2024-04-19T16:58:34.864Z"
   },
   {
    "duration": 3,
    "start_time": "2024-04-19T16:58:34.889Z"
   },
   {
    "duration": 84,
    "start_time": "2024-04-19T16:58:34.894Z"
   },
   {
    "duration": 6,
    "start_time": "2024-04-19T16:58:34.979Z"
   },
   {
    "duration": 17,
    "start_time": "2024-04-19T16:58:34.986Z"
   },
   {
    "duration": 628,
    "start_time": "2024-04-19T16:58:35.005Z"
   },
   {
    "duration": 1170,
    "start_time": "2024-04-19T16:58:35.634Z"
   },
   {
    "duration": 2,
    "start_time": "2024-04-19T16:58:36.806Z"
   },
   {
    "duration": 219,
    "start_time": "2024-04-19T16:58:36.810Z"
   },
   {
    "duration": 431,
    "start_time": "2024-04-19T16:58:37.031Z"
   },
   {
    "duration": 410,
    "start_time": "2024-04-19T16:58:37.463Z"
   },
   {
    "duration": 8,
    "start_time": "2024-04-19T16:58:37.874Z"
   },
   {
    "duration": 76,
    "start_time": "2024-04-19T16:58:37.891Z"
   },
   {
    "duration": 275,
    "start_time": "2024-04-19T16:58:37.969Z"
   },
   {
    "duration": 180,
    "start_time": "2024-04-19T16:58:38.246Z"
   },
   {
    "duration": 140,
    "start_time": "2024-04-19T16:58:38.428Z"
   },
   {
    "duration": 112,
    "start_time": "2024-04-19T16:58:38.569Z"
   },
   {
    "duration": 83,
    "start_time": "2024-04-19T16:58:38.682Z"
   },
   {
    "duration": 143,
    "start_time": "2024-04-19T16:58:38.766Z"
   },
   {
    "duration": 114,
    "start_time": "2024-04-19T16:58:38.911Z"
   },
   {
    "duration": 83,
    "start_time": "2024-04-19T17:02:54.133Z"
   },
   {
    "duration": 80,
    "start_time": "2024-04-19T18:50:58.590Z"
   },
   {
    "duration": 15902,
    "start_time": "2024-04-19T18:51:10.096Z"
   },
   {
    "duration": 1800,
    "start_time": "2024-04-19T18:51:26.001Z"
   },
   {
    "duration": 83,
    "start_time": "2024-04-19T18:51:27.803Z"
   },
   {
    "duration": 30,
    "start_time": "2024-04-19T18:51:27.887Z"
   },
   {
    "duration": 35,
    "start_time": "2024-04-19T18:51:27.919Z"
   },
   {
    "duration": 10,
    "start_time": "2024-04-19T18:51:27.956Z"
   },
   {
    "duration": 12,
    "start_time": "2024-04-19T18:51:27.968Z"
   },
   {
    "duration": 29,
    "start_time": "2024-04-19T18:51:27.981Z"
   },
   {
    "duration": 12,
    "start_time": "2024-04-19T18:51:28.012Z"
   },
   {
    "duration": 10,
    "start_time": "2024-04-19T18:51:28.025Z"
   },
   {
    "duration": 15,
    "start_time": "2024-04-19T18:51:28.037Z"
   },
   {
    "duration": 10,
    "start_time": "2024-04-19T18:51:28.054Z"
   },
   {
    "duration": 4,
    "start_time": "2024-04-19T18:51:28.066Z"
   },
   {
    "duration": 9,
    "start_time": "2024-04-19T18:51:28.091Z"
   },
   {
    "duration": 4,
    "start_time": "2024-04-19T18:51:28.101Z"
   },
   {
    "duration": 10,
    "start_time": "2024-04-19T18:51:28.106Z"
   },
   {
    "duration": 7,
    "start_time": "2024-04-19T18:51:28.118Z"
   },
   {
    "duration": 17,
    "start_time": "2024-04-19T18:51:28.126Z"
   },
   {
    "duration": 16,
    "start_time": "2024-04-19T18:51:28.144Z"
   },
   {
    "duration": 60,
    "start_time": "2024-04-19T18:51:28.162Z"
   },
   {
    "duration": 96,
    "start_time": "2024-04-19T18:51:28.223Z"
   },
   {
    "duration": 93,
    "start_time": "2024-04-19T18:51:28.321Z"
   },
   {
    "duration": 79,
    "start_time": "2024-04-19T18:51:28.415Z"
   },
   {
    "duration": 76,
    "start_time": "2024-04-19T18:51:28.495Z"
   },
   {
    "duration": 145,
    "start_time": "2024-04-19T18:51:28.573Z"
   },
   {
    "duration": 120,
    "start_time": "2024-04-19T18:51:28.719Z"
   },
   {
    "duration": 234,
    "start_time": "2024-04-19T18:51:28.841Z"
   },
   {
    "duration": 363,
    "start_time": "2024-04-19T18:51:29.076Z"
   },
   {
    "duration": 219,
    "start_time": "2024-04-19T18:51:29.440Z"
   },
   {
    "duration": 113,
    "start_time": "2024-04-19T18:51:29.661Z"
   },
   {
    "duration": 185,
    "start_time": "2024-04-19T18:51:29.775Z"
   },
   {
    "duration": 212,
    "start_time": "2024-04-19T18:51:29.962Z"
   },
   {
    "duration": 298,
    "start_time": "2024-04-19T18:51:30.176Z"
   },
   {
    "duration": 271,
    "start_time": "2024-04-19T18:51:30.476Z"
   },
   {
    "duration": 326,
    "start_time": "2024-04-19T18:51:30.749Z"
   },
   {
    "duration": 211,
    "start_time": "2024-04-19T18:51:31.076Z"
   },
   {
    "duration": 125,
    "start_time": "2024-04-19T18:51:31.289Z"
   },
   {
    "duration": 321,
    "start_time": "2024-04-19T18:51:31.417Z"
   },
   {
    "duration": 82,
    "start_time": "2024-04-19T18:51:31.740Z"
   },
   {
    "duration": 26,
    "start_time": "2024-04-19T18:51:31.823Z"
   },
   {
    "duration": 258,
    "start_time": "2024-04-19T18:51:31.854Z"
   },
   {
    "duration": 5,
    "start_time": "2024-04-19T18:51:32.113Z"
   },
   {
    "duration": 369,
    "start_time": "2024-04-19T18:51:32.120Z"
   },
   {
    "duration": 133,
    "start_time": "2024-04-19T18:51:32.490Z"
   },
   {
    "duration": 97,
    "start_time": "2024-04-19T18:51:32.625Z"
   },
   {
    "duration": 275,
    "start_time": "2024-04-19T18:51:32.724Z"
   },
   {
    "duration": 18,
    "start_time": "2024-04-19T18:51:33.001Z"
   },
   {
    "duration": 9,
    "start_time": "2024-04-19T18:51:33.021Z"
   },
   {
    "duration": 10,
    "start_time": "2024-04-19T18:51:33.031Z"
   },
   {
    "duration": 24,
    "start_time": "2024-04-19T18:51:33.043Z"
   },
   {
    "duration": 55,
    "start_time": "2024-04-19T18:51:33.069Z"
   },
   {
    "duration": 3758,
    "start_time": "2024-04-19T18:51:33.125Z"
   },
   {
    "duration": 7,
    "start_time": "2024-04-19T18:51:36.885Z"
   },
   {
    "duration": 11,
    "start_time": "2024-04-19T18:51:36.894Z"
   },
   {
    "duration": 15,
    "start_time": "2024-04-19T18:51:36.907Z"
   },
   {
    "duration": 16,
    "start_time": "2024-04-19T18:51:36.923Z"
   },
   {
    "duration": 284,
    "start_time": "2024-04-19T18:51:36.940Z"
   },
   {
    "duration": 5,
    "start_time": "2024-04-19T18:51:37.225Z"
   },
   {
    "duration": 14,
    "start_time": "2024-04-19T18:51:37.231Z"
   },
   {
    "duration": 4,
    "start_time": "2024-04-19T18:51:37.247Z"
   },
   {
    "duration": 7,
    "start_time": "2024-04-19T18:51:37.253Z"
   },
   {
    "duration": 7,
    "start_time": "2024-04-19T18:51:37.261Z"
   },
   {
    "duration": 6,
    "start_time": "2024-04-19T18:51:37.270Z"
   },
   {
    "duration": 1504,
    "start_time": "2024-04-19T18:51:37.278Z"
   },
   {
    "duration": 22,
    "start_time": "2024-04-19T18:51:38.784Z"
   },
   {
    "duration": 40,
    "start_time": "2024-04-19T18:51:38.808Z"
   },
   {
    "duration": 38,
    "start_time": "2024-04-19T18:51:38.851Z"
   },
   {
    "duration": 7,
    "start_time": "2024-04-19T18:51:38.891Z"
   },
   {
    "duration": 34,
    "start_time": "2024-04-19T18:51:38.900Z"
   },
   {
    "duration": 4,
    "start_time": "2024-04-19T18:51:38.936Z"
   },
   {
    "duration": 81,
    "start_time": "2024-04-19T18:51:38.942Z"
   },
   {
    "duration": 6,
    "start_time": "2024-04-19T18:51:39.024Z"
   },
   {
    "duration": 14,
    "start_time": "2024-04-19T18:51:39.031Z"
   },
   {
    "duration": 705,
    "start_time": "2024-04-19T18:51:39.046Z"
   },
   {
    "duration": 1369,
    "start_time": "2024-04-19T18:51:39.753Z"
   },
   {
    "duration": 2,
    "start_time": "2024-04-19T18:51:41.124Z"
   },
   {
    "duration": 308,
    "start_time": "2024-04-19T18:51:41.127Z"
   },
   {
    "duration": 440,
    "start_time": "2024-04-19T18:51:41.437Z"
   },
   {
    "duration": 430,
    "start_time": "2024-04-19T18:51:41.879Z"
   },
   {
    "duration": 9,
    "start_time": "2024-04-19T18:51:42.311Z"
   },
   {
    "duration": 90,
    "start_time": "2024-04-19T18:51:42.321Z"
   },
   {
    "duration": 241,
    "start_time": "2024-04-19T18:51:42.413Z"
   },
   {
    "duration": 180,
    "start_time": "2024-04-19T18:51:42.656Z"
   },
   {
    "duration": 150,
    "start_time": "2024-04-19T18:51:42.838Z"
   },
   {
    "duration": 118,
    "start_time": "2024-04-19T18:51:42.992Z"
   },
   {
    "duration": 94,
    "start_time": "2024-04-19T18:51:43.112Z"
   },
   {
    "duration": 141,
    "start_time": "2024-04-19T18:51:43.207Z"
   },
   {
    "duration": 114,
    "start_time": "2024-04-19T18:51:43.349Z"
   },
   {
    "duration": 26225,
    "start_time": "2024-04-20T09:37:22.253Z"
   },
   {
    "duration": 2781,
    "start_time": "2024-04-20T09:37:48.481Z"
   },
   {
    "duration": 84,
    "start_time": "2024-04-20T09:37:51.264Z"
   },
   {
    "duration": 28,
    "start_time": "2024-04-20T09:37:51.350Z"
   },
   {
    "duration": 11,
    "start_time": "2024-04-20T09:37:51.380Z"
   },
   {
    "duration": 10,
    "start_time": "2024-04-20T09:37:51.393Z"
   },
   {
    "duration": 14,
    "start_time": "2024-04-20T09:37:51.405Z"
   },
   {
    "duration": 14,
    "start_time": "2024-04-20T09:37:51.420Z"
   },
   {
    "duration": 4,
    "start_time": "2024-04-20T09:37:51.435Z"
   },
   {
    "duration": 8,
    "start_time": "2024-04-20T09:37:51.458Z"
   },
   {
    "duration": 15,
    "start_time": "2024-04-20T09:37:51.467Z"
   },
   {
    "duration": 20,
    "start_time": "2024-04-20T09:37:51.484Z"
   },
   {
    "duration": 4,
    "start_time": "2024-04-20T09:37:51.505Z"
   },
   {
    "duration": 20,
    "start_time": "2024-04-20T09:37:51.510Z"
   },
   {
    "duration": 7,
    "start_time": "2024-04-20T09:37:51.532Z"
   },
   {
    "duration": 20,
    "start_time": "2024-04-20T09:37:51.541Z"
   },
   {
    "duration": 5,
    "start_time": "2024-04-20T09:37:51.563Z"
   },
   {
    "duration": 4,
    "start_time": "2024-04-20T09:37:51.570Z"
   },
   {
    "duration": 8,
    "start_time": "2024-04-20T09:37:51.575Z"
   },
   {
    "duration": 44,
    "start_time": "2024-04-20T09:37:51.584Z"
   },
   {
    "duration": 131,
    "start_time": "2024-04-20T09:37:51.629Z"
   },
   {
    "duration": 217,
    "start_time": "2024-04-20T09:37:51.762Z"
   },
   {
    "duration": 89,
    "start_time": "2024-04-20T09:37:51.981Z"
   },
   {
    "duration": 186,
    "start_time": "2024-04-20T09:37:52.073Z"
   },
   {
    "duration": 226,
    "start_time": "2024-04-20T09:37:52.261Z"
   },
   {
    "duration": 341,
    "start_time": "2024-04-20T09:37:52.559Z"
   },
   {
    "duration": 356,
    "start_time": "2024-04-20T09:37:52.902Z"
   },
   {
    "duration": 361,
    "start_time": "2024-04-20T09:37:53.262Z"
   },
   {
    "duration": 390,
    "start_time": "2024-04-20T09:37:53.625Z"
   },
   {
    "duration": 160,
    "start_time": "2024-04-20T09:37:54.017Z"
   },
   {
    "duration": 341,
    "start_time": "2024-04-20T09:37:54.179Z"
   },
   {
    "duration": 305,
    "start_time": "2024-04-20T09:37:54.522Z"
   },
   {
    "duration": 373,
    "start_time": "2024-04-20T09:37:54.829Z"
   },
   {
    "duration": 268,
    "start_time": "2024-04-20T09:37:55.204Z"
   },
   {
    "duration": 19,
    "start_time": "2024-04-20T09:37:55.474Z"
   },
   {
    "duration": 223,
    "start_time": "2024-04-20T09:37:55.495Z"
   },
   {
    "duration": 10,
    "start_time": "2024-04-20T09:37:55.719Z"
   },
   {
    "duration": 12,
    "start_time": "2024-04-20T09:37:55.731Z"
   },
   {
    "duration": 4,
    "start_time": "2024-04-20T09:37:55.759Z"
   },
   {
    "duration": 6,
    "start_time": "2024-04-20T09:37:55.765Z"
   },
   {
    "duration": 295,
    "start_time": "2024-04-20T09:37:55.772Z"
   },
   {
    "duration": 5,
    "start_time": "2024-04-20T09:37:56.068Z"
   },
   {
    "duration": 432,
    "start_time": "2024-04-20T09:37:56.075Z"
   },
   {
    "duration": 21,
    "start_time": "2024-04-20T09:37:56.508Z"
   },
   {
    "duration": 36,
    "start_time": "2024-04-20T09:37:56.531Z"
   },
   {
    "duration": 365,
    "start_time": "2024-04-20T09:37:56.569Z"
   },
   {
    "duration": 25,
    "start_time": "2024-04-20T09:37:56.935Z"
   },
   {
    "duration": 8,
    "start_time": "2024-04-20T09:37:56.961Z"
   },
   {
    "duration": 12,
    "start_time": "2024-04-20T09:37:56.971Z"
   },
   {
    "duration": 16,
    "start_time": "2024-04-20T09:37:56.985Z"
   },
   {
    "duration": 31,
    "start_time": "2024-04-20T09:37:57.003Z"
   },
   {
    "duration": 3136,
    "start_time": "2024-04-20T09:37:57.035Z"
   },
   {
    "duration": 4,
    "start_time": "2024-04-20T09:38:00.173Z"
   },
   {
    "duration": 470,
    "start_time": "2024-04-20T09:38:00.179Z"
   },
   {
    "duration": 189,
    "start_time": "2024-04-20T09:38:00.650Z"
   },
   {
    "duration": 75,
    "start_time": "2024-04-20T09:38:00.840Z"
   },
   {
    "duration": 401,
    "start_time": "2024-04-20T09:38:00.917Z"
   },
   {
    "duration": 3,
    "start_time": "2024-04-20T09:38:01.319Z"
   },
   {
    "duration": 359,
    "start_time": "2024-04-20T09:38:01.324Z"
   },
   {
    "duration": 142,
    "start_time": "2024-04-20T09:38:01.684Z"
   },
   {
    "duration": 69,
    "start_time": "2024-04-20T09:38:01.828Z"
   },
   {
    "duration": 92,
    "start_time": "2024-04-20T09:38:01.898Z"
   },
   {
    "duration": 48,
    "start_time": "2024-04-20T09:38:01.992Z"
   },
   {
    "duration": 3403,
    "start_time": "2024-04-20T09:38:02.041Z"
   },
   {
    "duration": 22,
    "start_time": "2024-04-20T09:38:05.446Z"
   },
   {
    "duration": 43,
    "start_time": "2024-04-20T09:38:05.470Z"
   },
   {
    "duration": 42,
    "start_time": "2024-04-20T09:38:05.514Z"
   },
   {
    "duration": 25,
    "start_time": "2024-04-20T09:38:05.558Z"
   },
   {
    "duration": 32,
    "start_time": "2024-04-20T09:38:05.585Z"
   },
   {
    "duration": 4,
    "start_time": "2024-04-20T09:38:05.618Z"
   },
   {
    "duration": 68,
    "start_time": "2024-04-20T09:38:05.623Z"
   },
   {
    "duration": 21,
    "start_time": "2024-04-20T09:44:47.898Z"
   },
   {
    "duration": 3,
    "start_time": "2024-04-20T09:44:49.091Z"
   },
   {
    "duration": 61,
    "start_time": "2024-04-20T09:44:49.878Z"
   },
   {
    "duration": 5,
    "start_time": "2024-04-20T09:44:51.553Z"
   },
   {
    "duration": 11,
    "start_time": "2024-04-20T09:44:52.594Z"
   },
   {
    "duration": 588,
    "start_time": "2024-04-20T09:44:54.341Z"
   },
   {
    "duration": 1069,
    "start_time": "2024-04-20T09:44:56.595Z"
   },
   {
    "duration": 349,
    "start_time": "2024-04-20T09:45:00.037Z"
   },
   {
    "duration": 24278,
    "start_time": "2024-04-20T10:38:08.688Z"
   },
   {
    "duration": 2141,
    "start_time": "2024-04-20T10:38:32.968Z"
   },
   {
    "duration": 337,
    "start_time": "2024-04-20T10:38:35.111Z"
   },
   {
    "duration": 28,
    "start_time": "2024-04-20T10:38:35.450Z"
   },
   {
    "duration": 14,
    "start_time": "2024-04-20T10:38:35.480Z"
   },
   {
    "duration": 16,
    "start_time": "2024-04-20T10:38:35.496Z"
   },
   {
    "duration": 27,
    "start_time": "2024-04-20T10:38:35.513Z"
   },
   {
    "duration": 10,
    "start_time": "2024-04-20T10:38:35.542Z"
   },
   {
    "duration": 15,
    "start_time": "2024-04-20T10:38:35.554Z"
   },
   {
    "duration": 17,
    "start_time": "2024-04-20T10:38:35.572Z"
   },
   {
    "duration": 19,
    "start_time": "2024-04-20T10:38:35.591Z"
   },
   {
    "duration": 10,
    "start_time": "2024-04-20T10:38:35.611Z"
   },
   {
    "duration": 19,
    "start_time": "2024-04-20T10:38:35.622Z"
   },
   {
    "duration": 11,
    "start_time": "2024-04-20T10:38:35.643Z"
   },
   {
    "duration": 12,
    "start_time": "2024-04-20T10:38:35.656Z"
   },
   {
    "duration": 8,
    "start_time": "2024-04-20T10:38:35.669Z"
   },
   {
    "duration": 8,
    "start_time": "2024-04-20T10:38:35.678Z"
   },
   {
    "duration": 20,
    "start_time": "2024-04-20T10:38:35.688Z"
   },
   {
    "duration": 15,
    "start_time": "2024-04-20T10:38:35.710Z"
   },
   {
    "duration": 54,
    "start_time": "2024-04-20T10:38:35.727Z"
   },
   {
    "duration": 96,
    "start_time": "2024-04-20T10:38:35.782Z"
   },
   {
    "duration": 93,
    "start_time": "2024-04-20T10:38:35.880Z"
   },
   {
    "duration": 68,
    "start_time": "2024-04-20T10:38:35.974Z"
   },
   {
    "duration": 85,
    "start_time": "2024-04-20T10:38:36.044Z"
   },
   {
    "duration": 131,
    "start_time": "2024-04-20T10:38:36.130Z"
   },
   {
    "duration": 134,
    "start_time": "2024-04-20T10:38:36.262Z"
   },
   {
    "duration": 209,
    "start_time": "2024-04-20T10:38:36.398Z"
   },
   {
    "duration": 352,
    "start_time": "2024-04-20T10:38:36.611Z"
   },
   {
    "duration": 217,
    "start_time": "2024-04-20T10:38:36.970Z"
   },
   {
    "duration": 104,
    "start_time": "2024-04-20T10:38:37.188Z"
   },
   {
    "duration": 180,
    "start_time": "2024-04-20T10:38:37.294Z"
   },
   {
    "duration": 198,
    "start_time": "2024-04-20T10:38:37.476Z"
   },
   {
    "duration": 272,
    "start_time": "2024-04-20T10:38:37.676Z"
   },
   {
    "duration": 169,
    "start_time": "2024-04-20T10:38:37.950Z"
   },
   {
    "duration": 21,
    "start_time": "2024-04-20T10:38:38.121Z"
   },
   {
    "duration": 157,
    "start_time": "2024-04-20T10:38:38.144Z"
   },
   {
    "duration": 10,
    "start_time": "2024-04-20T10:38:38.303Z"
   },
   {
    "duration": 22,
    "start_time": "2024-04-20T10:38:38.314Z"
   },
   {
    "duration": 14,
    "start_time": "2024-04-20T10:38:38.338Z"
   },
   {
    "duration": 7,
    "start_time": "2024-04-20T10:38:38.353Z"
   },
   {
    "duration": 219,
    "start_time": "2024-04-20T10:38:38.361Z"
   },
   {
    "duration": 6,
    "start_time": "2024-04-20T10:38:38.582Z"
   },
   {
    "duration": 347,
    "start_time": "2024-04-20T10:38:38.590Z"
   },
   {
    "duration": 18,
    "start_time": "2024-04-20T10:38:38.939Z"
   },
   {
    "duration": 26,
    "start_time": "2024-04-20T10:38:38.958Z"
   },
   {
    "duration": 248,
    "start_time": "2024-04-20T10:38:38.986Z"
   },
   {
    "duration": 16,
    "start_time": "2024-04-20T10:38:39.235Z"
   },
   {
    "duration": 17,
    "start_time": "2024-04-20T10:38:39.253Z"
   },
   {
    "duration": 9,
    "start_time": "2024-04-20T10:38:39.272Z"
   },
   {
    "duration": 19,
    "start_time": "2024-04-20T10:38:39.282Z"
   },
   {
    "duration": 30,
    "start_time": "2024-04-20T10:38:39.302Z"
   },
   {
    "duration": 3739,
    "start_time": "2024-04-20T10:38:39.334Z"
   },
   {
    "duration": 4,
    "start_time": "2024-04-20T10:38:43.075Z"
   },
   {
    "duration": 28,
    "start_time": "2024-04-20T10:38:43.081Z"
   },
   {
    "duration": 9,
    "start_time": "2024-04-20T10:38:43.110Z"
   },
   {
    "duration": 7,
    "start_time": "2024-04-20T10:38:43.120Z"
   },
   {
    "duration": 241,
    "start_time": "2024-04-20T10:38:43.128Z"
   },
   {
    "duration": 4,
    "start_time": "2024-04-20T10:38:43.370Z"
   },
   {
    "duration": 10,
    "start_time": "2024-04-20T10:38:43.375Z"
   },
   {
    "duration": 4,
    "start_time": "2024-04-20T10:38:43.387Z"
   },
   {
    "duration": 5,
    "start_time": "2024-04-20T10:38:43.393Z"
   },
   {
    "duration": 6,
    "start_time": "2024-04-20T10:38:43.399Z"
   },
   {
    "duration": 9,
    "start_time": "2024-04-20T10:38:43.406Z"
   },
   {
    "duration": 3413,
    "start_time": "2024-04-20T10:38:43.416Z"
   },
   {
    "duration": 30,
    "start_time": "2024-04-20T10:38:46.832Z"
   },
   {
    "duration": 25,
    "start_time": "2024-04-20T10:38:46.870Z"
   },
   {
    "duration": 46,
    "start_time": "2024-04-20T10:38:46.897Z"
   },
   {
    "duration": 13,
    "start_time": "2024-04-20T10:38:46.944Z"
   },
   {
    "duration": 41,
    "start_time": "2024-04-20T10:38:46.959Z"
   },
   {
    "duration": 4,
    "start_time": "2024-04-20T10:38:47.001Z"
   },
   {
    "duration": 72,
    "start_time": "2024-04-20T10:38:47.007Z"
   },
   {
    "duration": 6,
    "start_time": "2024-04-20T10:38:47.080Z"
   },
   {
    "duration": 12,
    "start_time": "2024-04-20T10:38:47.087Z"
   },
   {
    "duration": 597,
    "start_time": "2024-04-20T10:38:47.100Z"
   },
   {
    "duration": 1082,
    "start_time": "2024-04-20T10:38:47.698Z"
   },
   {
    "duration": 284,
    "start_time": "2024-04-20T10:38:48.782Z"
   },
   {
    "duration": 0,
    "start_time": "2024-04-20T10:38:49.069Z"
   },
   {
    "duration": 0,
    "start_time": "2024-04-20T10:38:49.071Z"
   },
   {
    "duration": 0,
    "start_time": "2024-04-20T10:38:49.072Z"
   },
   {
    "duration": 0,
    "start_time": "2024-04-20T10:38:49.074Z"
   },
   {
    "duration": 0,
    "start_time": "2024-04-20T10:38:49.075Z"
   },
   {
    "duration": 0,
    "start_time": "2024-04-20T10:38:49.077Z"
   },
   {
    "duration": 0,
    "start_time": "2024-04-20T10:38:49.078Z"
   },
   {
    "duration": 0,
    "start_time": "2024-04-20T10:38:49.080Z"
   },
   {
    "duration": 0,
    "start_time": "2024-04-20T10:38:49.081Z"
   },
   {
    "duration": 0,
    "start_time": "2024-04-20T10:38:49.083Z"
   },
   {
    "duration": 0,
    "start_time": "2024-04-20T10:38:49.084Z"
   },
   {
    "duration": 0,
    "start_time": "2024-04-20T10:38:49.086Z"
   },
   {
    "duration": 16,
    "start_time": "2024-08-14T17:39:51.683Z"
   },
   {
    "duration": 4,
    "start_time": "2024-08-14T17:40:00.744Z"
   },
   {
    "duration": 4,
    "start_time": "2024-08-14T17:40:16.131Z"
   },
   {
    "duration": 5,
    "start_time": "2024-08-14T17:40:26.274Z"
   },
   {
    "duration": 3,
    "start_time": "2024-08-14T17:41:51.153Z"
   },
   {
    "duration": 3,
    "start_time": "2024-08-14T17:42:45.382Z"
   },
   {
    "duration": 4,
    "start_time": "2024-08-14T17:43:18.140Z"
   },
   {
    "duration": 4,
    "start_time": "2024-08-14T17:43:29.306Z"
   },
   {
    "duration": 3,
    "start_time": "2024-08-14T17:43:36.820Z"
   },
   {
    "duration": 4,
    "start_time": "2024-08-14T17:43:41.221Z"
   },
   {
    "duration": 4,
    "start_time": "2024-08-14T17:43:52.296Z"
   },
   {
    "duration": 4,
    "start_time": "2024-08-14T17:44:02.933Z"
   },
   {
    "duration": 4,
    "start_time": "2024-08-14T17:44:18.042Z"
   },
   {
    "duration": 3,
    "start_time": "2024-08-14T17:44:24.204Z"
   },
   {
    "duration": 4,
    "start_time": "2024-08-14T17:44:32.240Z"
   },
   {
    "duration": 4,
    "start_time": "2024-08-14T17:45:06.796Z"
   },
   {
    "duration": 5,
    "start_time": "2024-08-14T17:45:25.422Z"
   },
   {
    "duration": 4,
    "start_time": "2024-08-14T17:45:29.961Z"
   },
   {
    "duration": 4,
    "start_time": "2024-08-14T17:49:48.891Z"
   },
   {
    "duration": 4,
    "start_time": "2024-08-14T17:49:53.019Z"
   },
   {
    "duration": 3,
    "start_time": "2024-08-14T17:50:23.804Z"
   },
   {
    "duration": 3,
    "start_time": "2024-08-14T17:50:45.654Z"
   },
   {
    "duration": 43,
    "start_time": "2024-08-14T18:20:54.031Z"
   },
   {
    "duration": 3,
    "start_time": "2024-08-14T18:20:59.393Z"
   },
   {
    "duration": 3,
    "start_time": "2024-08-14T18:21:11.396Z"
   },
   {
    "duration": 3,
    "start_time": "2024-08-14T18:21:43.311Z"
   },
   {
    "duration": 3,
    "start_time": "2024-08-14T18:21:54.442Z"
   },
   {
    "duration": 4,
    "start_time": "2024-08-14T18:22:23.908Z"
   },
   {
    "duration": 3,
    "start_time": "2024-08-14T18:22:44.016Z"
   },
   {
    "duration": 3,
    "start_time": "2024-08-14T18:22:51.878Z"
   },
   {
    "duration": 12,
    "start_time": "2024-09-23T18:43:03.900Z"
   },
   {
    "duration": 8,
    "start_time": "2024-09-23T18:43:18.631Z"
   },
   {
    "duration": 4,
    "start_time": "2024-09-23T19:13:13.520Z"
   },
   {
    "duration": 4,
    "start_time": "2024-09-23T19:13:20.960Z"
   },
   {
    "duration": 4,
    "start_time": "2024-09-23T19:57:14.179Z"
   }
  ],
  "colab": {
   "provenance": []
  },
  "kernelspec": {
   "display_name": "Python 3 (ipykernel)",
   "language": "python",
   "name": "python3"
  },
  "language_info": {
   "codemirror_mode": {
    "name": "ipython",
    "version": 3
   },
   "file_extension": ".py",
   "mimetype": "text/x-python",
   "name": "python",
   "nbconvert_exporter": "python",
   "pygments_lexer": "ipython3",
   "version": "3.9.16"
  },
  "toc": {
   "base_numbering": 1,
   "nav_menu": {},
   "number_sections": true,
   "sideBar": true,
   "skip_h1_title": true,
   "title_cell": "Table of Contents",
   "title_sidebar": "Contents",
   "toc_cell": false,
   "toc_position": {},
   "toc_section_display": true,
   "toc_window_display": false
  }
 },
 "nbformat": 4,
 "nbformat_minor": 1
}
