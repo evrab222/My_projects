{
 "cells": [
  {
   "cell_type": "markdown",
   "metadata": {},
   "source": [
    "# Рекомендация тарифов операторов мобильной связи «Мегалайн»"
   ]
  },
  {
   "cell_type": "markdown",
   "metadata": {},
   "source": [
    "В вашем распоряжении данные о поведении клиентов, которые уже перешли на эти тарифы (из проекта курса «Статистический анализ данных»). Нужно построить модель для задачи классификации, которая выберет подходящий тариф. Предобработка данных не понадобится — вы её уже сделали.\n",
    "\n",
    "Нужно построить модель с максимально большим значением *accuracy*. Нужно довести долю правильных ответов по крайней мере до 0.75. Проверить *accuracy* на тестовой выборке."
   ]
  },
  {
   "cell_type": "markdown",
   "metadata": {},
   "source": [
    "## Откройте и изучите файл"
   ]
  },
  {
   "cell_type": "code",
   "execution_count": 1,
   "metadata": {},
   "outputs": [],
   "source": [
    "import pandas as pd\n",
    "import numpy as np\n",
    "import matplotlib.pyplot as plt\n",
    "\n",
    "from sklearn.tree import DecisionTreeClassifier\n",
    "from sklearn.tree import plot_tree \n",
    "from sklearn import tree\n",
    "from sklearn.ensemble import RandomForestClassifier\n",
    "from sklearn.linear_model import LogisticRegression\n",
    "from sklearn.dummy import DummyClassifier\n",
    "from sklearn.metrics import accuracy_score, confusion_matrix\n",
    "from sklearn.model_selection import train_test_split\n",
    "from tqdm import tqdm\n",
    "\n",
    "\n"
   ]
  },
  {
   "cell_type": "code",
   "execution_count": 2,
   "metadata": {},
   "outputs": [],
   "source": [
    "try:\n",
    "    df = pd.read_csv('/datasets/users_behavior.csv', sep=',')\n",
    "except:\n",
    "    df = pd.read_csv('https://code.s3.yandex.net/datasets/datasets/users_behavior.csv', sep=',')"
   ]
  },
  {
   "cell_type": "code",
   "execution_count": 3,
   "metadata": {},
   "outputs": [
    {
     "data": {
      "text/html": [
       "<div>\n",
       "<style scoped>\n",
       "    .dataframe tbody tr th:only-of-type {\n",
       "        vertical-align: middle;\n",
       "    }\n",
       "\n",
       "    .dataframe tbody tr th {\n",
       "        vertical-align: top;\n",
       "    }\n",
       "\n",
       "    .dataframe thead th {\n",
       "        text-align: right;\n",
       "    }\n",
       "</style>\n",
       "<table border=\"1\" class=\"dataframe\">\n",
       "  <thead>\n",
       "    <tr style=\"text-align: right;\">\n",
       "      <th></th>\n",
       "      <th>calls</th>\n",
       "      <th>minutes</th>\n",
       "      <th>messages</th>\n",
       "      <th>mb_used</th>\n",
       "      <th>is_ultra</th>\n",
       "    </tr>\n",
       "  </thead>\n",
       "  <tbody>\n",
       "    <tr>\n",
       "      <th>0</th>\n",
       "      <td>40.0</td>\n",
       "      <td>311.90</td>\n",
       "      <td>83.0</td>\n",
       "      <td>19915.42</td>\n",
       "      <td>0</td>\n",
       "    </tr>\n",
       "    <tr>\n",
       "      <th>1</th>\n",
       "      <td>85.0</td>\n",
       "      <td>516.75</td>\n",
       "      <td>56.0</td>\n",
       "      <td>22696.96</td>\n",
       "      <td>0</td>\n",
       "    </tr>\n",
       "    <tr>\n",
       "      <th>2</th>\n",
       "      <td>77.0</td>\n",
       "      <td>467.66</td>\n",
       "      <td>86.0</td>\n",
       "      <td>21060.45</td>\n",
       "      <td>0</td>\n",
       "    </tr>\n",
       "    <tr>\n",
       "      <th>3</th>\n",
       "      <td>106.0</td>\n",
       "      <td>745.53</td>\n",
       "      <td>81.0</td>\n",
       "      <td>8437.39</td>\n",
       "      <td>1</td>\n",
       "    </tr>\n",
       "    <tr>\n",
       "      <th>4</th>\n",
       "      <td>66.0</td>\n",
       "      <td>418.74</td>\n",
       "      <td>1.0</td>\n",
       "      <td>14502.75</td>\n",
       "      <td>0</td>\n",
       "    </tr>\n",
       "    <tr>\n",
       "      <th>5</th>\n",
       "      <td>58.0</td>\n",
       "      <td>344.56</td>\n",
       "      <td>21.0</td>\n",
       "      <td>15823.37</td>\n",
       "      <td>0</td>\n",
       "    </tr>\n",
       "    <tr>\n",
       "      <th>6</th>\n",
       "      <td>57.0</td>\n",
       "      <td>431.64</td>\n",
       "      <td>20.0</td>\n",
       "      <td>3738.90</td>\n",
       "      <td>1</td>\n",
       "    </tr>\n",
       "    <tr>\n",
       "      <th>7</th>\n",
       "      <td>15.0</td>\n",
       "      <td>132.40</td>\n",
       "      <td>6.0</td>\n",
       "      <td>21911.60</td>\n",
       "      <td>0</td>\n",
       "    </tr>\n",
       "    <tr>\n",
       "      <th>8</th>\n",
       "      <td>7.0</td>\n",
       "      <td>43.39</td>\n",
       "      <td>3.0</td>\n",
       "      <td>2538.67</td>\n",
       "      <td>1</td>\n",
       "    </tr>\n",
       "    <tr>\n",
       "      <th>9</th>\n",
       "      <td>90.0</td>\n",
       "      <td>665.41</td>\n",
       "      <td>38.0</td>\n",
       "      <td>17358.61</td>\n",
       "      <td>0</td>\n",
       "    </tr>\n",
       "    <tr>\n",
       "      <th>10</th>\n",
       "      <td>82.0</td>\n",
       "      <td>560.51</td>\n",
       "      <td>20.0</td>\n",
       "      <td>9619.53</td>\n",
       "      <td>1</td>\n",
       "    </tr>\n",
       "    <tr>\n",
       "      <th>11</th>\n",
       "      <td>45.0</td>\n",
       "      <td>344.32</td>\n",
       "      <td>13.0</td>\n",
       "      <td>19898.81</td>\n",
       "      <td>0</td>\n",
       "    </tr>\n",
       "    <tr>\n",
       "      <th>12</th>\n",
       "      <td>51.0</td>\n",
       "      <td>437.13</td>\n",
       "      <td>61.0</td>\n",
       "      <td>21523.58</td>\n",
       "      <td>0</td>\n",
       "    </tr>\n",
       "    <tr>\n",
       "      <th>13</th>\n",
       "      <td>56.0</td>\n",
       "      <td>433.07</td>\n",
       "      <td>16.0</td>\n",
       "      <td>16702.36</td>\n",
       "      <td>0</td>\n",
       "    </tr>\n",
       "    <tr>\n",
       "      <th>14</th>\n",
       "      <td>108.0</td>\n",
       "      <td>587.90</td>\n",
       "      <td>0.0</td>\n",
       "      <td>14406.50</td>\n",
       "      <td>1</td>\n",
       "    </tr>\n",
       "    <tr>\n",
       "      <th>15</th>\n",
       "      <td>6.0</td>\n",
       "      <td>22.13</td>\n",
       "      <td>0.0</td>\n",
       "      <td>2710.09</td>\n",
       "      <td>0</td>\n",
       "    </tr>\n",
       "    <tr>\n",
       "      <th>16</th>\n",
       "      <td>2.0</td>\n",
       "      <td>18.73</td>\n",
       "      <td>0.0</td>\n",
       "      <td>588.89</td>\n",
       "      <td>0</td>\n",
       "    </tr>\n",
       "    <tr>\n",
       "      <th>17</th>\n",
       "      <td>26.0</td>\n",
       "      <td>163.62</td>\n",
       "      <td>4.0</td>\n",
       "      <td>16870.34</td>\n",
       "      <td>0</td>\n",
       "    </tr>\n",
       "    <tr>\n",
       "      <th>18</th>\n",
       "      <td>79.0</td>\n",
       "      <td>532.62</td>\n",
       "      <td>90.0</td>\n",
       "      <td>19908.31</td>\n",
       "      <td>0</td>\n",
       "    </tr>\n",
       "    <tr>\n",
       "      <th>19</th>\n",
       "      <td>49.0</td>\n",
       "      <td>341.67</td>\n",
       "      <td>81.0</td>\n",
       "      <td>11770.28</td>\n",
       "      <td>1</td>\n",
       "    </tr>\n",
       "  </tbody>\n",
       "</table>\n",
       "</div>"
      ],
      "text/plain": [
       "    calls  minutes  messages   mb_used  is_ultra\n",
       "0    40.0   311.90      83.0  19915.42         0\n",
       "1    85.0   516.75      56.0  22696.96         0\n",
       "2    77.0   467.66      86.0  21060.45         0\n",
       "3   106.0   745.53      81.0   8437.39         1\n",
       "4    66.0   418.74       1.0  14502.75         0\n",
       "5    58.0   344.56      21.0  15823.37         0\n",
       "6    57.0   431.64      20.0   3738.90         1\n",
       "7    15.0   132.40       6.0  21911.60         0\n",
       "8     7.0    43.39       3.0   2538.67         1\n",
       "9    90.0   665.41      38.0  17358.61         0\n",
       "10   82.0   560.51      20.0   9619.53         1\n",
       "11   45.0   344.32      13.0  19898.81         0\n",
       "12   51.0   437.13      61.0  21523.58         0\n",
       "13   56.0   433.07      16.0  16702.36         0\n",
       "14  108.0   587.90       0.0  14406.50         1\n",
       "15    6.0    22.13       0.0   2710.09         0\n",
       "16    2.0    18.73       0.0    588.89         0\n",
       "17   26.0   163.62       4.0  16870.34         0\n",
       "18   79.0   532.62      90.0  19908.31         0\n",
       "19   49.0   341.67      81.0  11770.28         1"
      ]
     },
     "execution_count": 3,
     "metadata": {},
     "output_type": "execute_result"
    }
   ],
   "source": [
    "df.head(20)"
   ]
  },
  {
   "cell_type": "code",
   "execution_count": 4,
   "metadata": {},
   "outputs": [
    {
     "name": "stdout",
     "output_type": "stream",
     "text": [
      "<class 'pandas.core.frame.DataFrame'>\n",
      "RangeIndex: 3214 entries, 0 to 3213\n",
      "Data columns (total 5 columns):\n",
      " #   Column    Non-Null Count  Dtype  \n",
      "---  ------    --------------  -----  \n",
      " 0   calls     3214 non-null   float64\n",
      " 1   minutes   3214 non-null   float64\n",
      " 2   messages  3214 non-null   float64\n",
      " 3   mb_used   3214 non-null   float64\n",
      " 4   is_ultra  3214 non-null   int64  \n",
      "dtypes: float64(4), int64(1)\n",
      "memory usage: 125.7 KB\n"
     ]
    }
   ],
   "source": [
    "df.info()"
   ]
  },
  {
   "cell_type": "code",
   "execution_count": 5,
   "metadata": {},
   "outputs": [
    {
     "data": {
      "text/html": [
       "<div>\n",
       "<style scoped>\n",
       "    .dataframe tbody tr th:only-of-type {\n",
       "        vertical-align: middle;\n",
       "    }\n",
       "\n",
       "    .dataframe tbody tr th {\n",
       "        vertical-align: top;\n",
       "    }\n",
       "\n",
       "    .dataframe thead th {\n",
       "        text-align: right;\n",
       "    }\n",
       "</style>\n",
       "<table border=\"1\" class=\"dataframe\">\n",
       "  <thead>\n",
       "    <tr style=\"text-align: right;\">\n",
       "      <th></th>\n",
       "      <th>calls</th>\n",
       "      <th>minutes</th>\n",
       "      <th>messages</th>\n",
       "      <th>mb_used</th>\n",
       "      <th>is_ultra</th>\n",
       "    </tr>\n",
       "  </thead>\n",
       "  <tbody>\n",
       "    <tr>\n",
       "      <th>count</th>\n",
       "      <td>3214.000000</td>\n",
       "      <td>3214.000000</td>\n",
       "      <td>3214.000000</td>\n",
       "      <td>3214.000000</td>\n",
       "      <td>3214.000000</td>\n",
       "    </tr>\n",
       "    <tr>\n",
       "      <th>mean</th>\n",
       "      <td>63.038892</td>\n",
       "      <td>438.208787</td>\n",
       "      <td>38.281269</td>\n",
       "      <td>17207.673836</td>\n",
       "      <td>0.306472</td>\n",
       "    </tr>\n",
       "    <tr>\n",
       "      <th>std</th>\n",
       "      <td>33.236368</td>\n",
       "      <td>234.569872</td>\n",
       "      <td>36.148326</td>\n",
       "      <td>7570.968246</td>\n",
       "      <td>0.461100</td>\n",
       "    </tr>\n",
       "    <tr>\n",
       "      <th>min</th>\n",
       "      <td>0.000000</td>\n",
       "      <td>0.000000</td>\n",
       "      <td>0.000000</td>\n",
       "      <td>0.000000</td>\n",
       "      <td>0.000000</td>\n",
       "    </tr>\n",
       "    <tr>\n",
       "      <th>25%</th>\n",
       "      <td>40.000000</td>\n",
       "      <td>274.575000</td>\n",
       "      <td>9.000000</td>\n",
       "      <td>12491.902500</td>\n",
       "      <td>0.000000</td>\n",
       "    </tr>\n",
       "    <tr>\n",
       "      <th>50%</th>\n",
       "      <td>62.000000</td>\n",
       "      <td>430.600000</td>\n",
       "      <td>30.000000</td>\n",
       "      <td>16943.235000</td>\n",
       "      <td>0.000000</td>\n",
       "    </tr>\n",
       "    <tr>\n",
       "      <th>75%</th>\n",
       "      <td>82.000000</td>\n",
       "      <td>571.927500</td>\n",
       "      <td>57.000000</td>\n",
       "      <td>21424.700000</td>\n",
       "      <td>1.000000</td>\n",
       "    </tr>\n",
       "    <tr>\n",
       "      <th>max</th>\n",
       "      <td>244.000000</td>\n",
       "      <td>1632.060000</td>\n",
       "      <td>224.000000</td>\n",
       "      <td>49745.730000</td>\n",
       "      <td>1.000000</td>\n",
       "    </tr>\n",
       "  </tbody>\n",
       "</table>\n",
       "</div>"
      ],
      "text/plain": [
       "             calls      minutes     messages       mb_used     is_ultra\n",
       "count  3214.000000  3214.000000  3214.000000   3214.000000  3214.000000\n",
       "mean     63.038892   438.208787    38.281269  17207.673836     0.306472\n",
       "std      33.236368   234.569872    36.148326   7570.968246     0.461100\n",
       "min       0.000000     0.000000     0.000000      0.000000     0.000000\n",
       "25%      40.000000   274.575000     9.000000  12491.902500     0.000000\n",
       "50%      62.000000   430.600000    30.000000  16943.235000     0.000000\n",
       "75%      82.000000   571.927500    57.000000  21424.700000     1.000000\n",
       "max     244.000000  1632.060000   224.000000  49745.730000     1.000000"
      ]
     },
     "execution_count": 5,
     "metadata": {},
     "output_type": "execute_result"
    }
   ],
   "source": [
    "df.describe()"
   ]
  },
  {
   "cell_type": "code",
   "execution_count": 6,
   "metadata": {},
   "outputs": [
    {
     "name": "stdout",
     "output_type": "stream",
     "text": [
      "calls       985\n",
      "minutes     985\n",
      "messages    985\n",
      "mb_used     985\n",
      "is_ultra    985\n",
      "dtype: int64\n",
      "calls       2229\n",
      "minutes     2229\n",
      "messages    2229\n",
      "mb_used     2229\n",
      "is_ultra    2229\n",
      "dtype: int64\n"
     ]
    }
   ],
   "source": [
    "print(df[df['is_ultra'] == 1].count())\n",
    "print(df[df['is_ultra'] == 0].count())"
   ]
  },
  {
   "cell_type": "code",
   "execution_count": 7,
   "metadata": {},
   "outputs": [
    {
     "name": "stdout",
     "output_type": "stream",
     "text": [
      "0.9820832355742293\n",
      "0.1773845012176953\n",
      "0.28644151203505447\n",
      "0.17311022580969077\n",
      "0.2809669350882149\n",
      "0.19572112095582148\n"
     ]
    }
   ],
   "source": [
    "print(df['calls'].corr(df['minutes']))\n",
    "print(df['calls'].corr(df['messages']))\n",
    "print(df['calls'].corr(df['mb_used']))\n",
    "print(df['messages'].corr(df['minutes']))\n",
    "print(df['mb_used'].corr(df['minutes']))\n",
    "print(df['mb_used'].corr(df['messages']))"
   ]
  },
  {
   "cell_type": "markdown",
   "metadata": {},
   "source": [
    "**Вывод:** Файл открыт и изучен,у нас в наличии 4 столбца и 3214 строк,пропусков нет,имеют нужный формат,данные готовы для работы.  Посмотрел на балансировку классов, абонентов с тарифом \"смарт\" почти в 2.3 раза больше, чем с тарифом \"ультра\", это видно по средней и медиане.Наблюдается мультиколлинеарность между *calls* и *minutes*."
   ]
  },
  {
   "cell_type": "markdown",
   "metadata": {},
   "source": [
    "## Разбейте данные на выборки"
   ]
  },
  {
   "cell_type": "code",
   "execution_count": 8,
   "metadata": {},
   "outputs": [],
   "source": [
    "features = df.drop(['is_ultra'], axis=1)\n",
    "target = df['is_ultra']"
   ]
  },
  {
   "cell_type": "code",
   "execution_count": 9,
   "metadata": {
    "scrolled": true
   },
   "outputs": [
    {
     "name": "stdout",
     "output_type": "stream",
     "text": [
      "(3214, 4)\n",
      "(3214,)\n"
     ]
    }
   ],
   "source": [
    "print(features.shape)\n",
    "print(target.shape)"
   ]
  },
  {
   "cell_type": "code",
   "execution_count": 10,
   "metadata": {},
   "outputs": [],
   "source": [
    "features_train, features_test, target_train, target_test = train_test_split(features, target, \n",
    "                                                                            test_size=0.4, random_state=12345,\n",
    "                                                                            stratify=target)\n",
    "features_valid, features_test, target_valid, target_test = train_test_split(features_test, target_test, \n",
    "                                                                            test_size=0.5, random_state=12345, \n",
    "                                                                            stratify=target_test)"
   ]
  },
  {
   "cell_type": "code",
   "execution_count": 11,
   "metadata": {},
   "outputs": [
    {
     "name": "stdout",
     "output_type": "stream",
     "text": [
      "(1928, 4)\n",
      "(1928,)\n",
      "(643, 4)\n",
      "(643,)\n",
      "(643, 4)\n",
      "(643,)\n"
     ]
    }
   ],
   "source": [
    "print(features_train.shape)\n",
    "print(target_train.shape)\n",
    "print(features_test.shape)\n",
    "print(target_test.shape)\n",
    "print(features_valid.shape)\n",
    "print(target_valid.shape)"
   ]
  },
  {
   "cell_type": "markdown",
   "metadata": {},
   "source": [
    "**Вывод:** Данные были разбиты на *признаки* и *целевые признаки*,далее с соотношением 3:1:1 разбили на *тренировочную*,*тестовую* и *валидационную* соответственно,при проверке все соотношения совпадают."
   ]
  },
  {
   "cell_type": "markdown",
   "metadata": {},
   "source": [
    "## Исследуйте модели"
   ]
  },
  {
   "cell_type": "code",
   "execution_count": 12,
   "metadata": {},
   "outputs": [
    {
     "name": "stderr",
     "output_type": "stream",
     "text": [
      "100%|██████████| 19/19 [00:04<00:00,  4.42it/s]"
     ]
    },
    {
     "name": "stdout",
     "output_type": "stream",
     "text": [
      "Accuracy наилучшей модели на валидационной выборке: 0.8118195956454122\n",
      "Depth на валидационной выборке: 8\n",
      "Число деревьев: 19\n"
     ]
    },
    {
     "name": "stderr",
     "output_type": "stream",
     "text": [
      "\n"
     ]
    }
   ],
   "source": [
    "best_model_rf = None\n",
    "best_result_rf = 0\n",
    "best_depth_rf = 0\n",
    "best_est_rf = 0\n",
    "for est in tqdm(range(1, 20)):\n",
    "    for depth in range(1,9):\n",
    "        model_rf = RandomForestClassifier(random_state=12345, n_estimators=est, max_depth=depth) \n",
    "        model_rf.fit(features_train, target_train)\n",
    "        result_rf = model_rf.score(features_valid, target_valid)\n",
    "        if result_rf > best_result_rf:\n",
    "            best_model_rf = model_rf\n",
    "            best_result_rf = result_rf\n",
    "            best_est_rf = est\n",
    "            best_depth_rf = depth\n",
    "print(\"Accuracy наилучшей модели на валидационной выборке:\", best_result_rf)\n",
    "print(\"Depth на валидационной выборке:\", best_depth_rf)\n",
    "print(\"Число деревьев:\", best_est_rf)"
   ]
  },
  {
   "cell_type": "markdown",
   "metadata": {},
   "source": [
    "**Вывод:** Исследован алгоритм *случайный лес*, взята глубина от 1 до 9 и числом деревьев от 1 до 20.Наилучшая модель на валидационной выборке с глубиной 8 и числом деревьев равных 19, ресурсозатратность же равна 4.98 it/s."
   ]
  },
  {
   "cell_type": "code",
   "execution_count": 13,
   "metadata": {},
   "outputs": [
    {
     "name": "stdout",
     "output_type": "stream",
     "text": [
      "Accuracy валидационной выборки логической регрессии = 0.7418351477449455\n"
     ]
    }
   ],
   "source": [
    "model_lr = LogisticRegression(random_state=12345, solver='lbfgs', max_iter=1000).fit(features_valid, target_valid)\n",
    "predictions_lr = model_lr.predict(features_valid) \n",
    "model_lr = accuracy_score(target_valid, predictions_lr) \n",
    "        \n",
    "print('Accuracy валидационной выборки логической регрессии =', model_lr)"
   ]
  },
  {
   "cell_type": "markdown",
   "metadata": {},
   "source": [
    "**Вывод:** При проверки валидационной выборки алгоритма *логической регрессии* Accuracy = 0.7418351477449455."
   ]
  },
  {
   "cell_type": "code",
   "execution_count": 14,
   "metadata": {},
   "outputs": [
    {
     "name": "stderr",
     "output_type": "stream",
     "text": [
      "100%|██████████| 9/9 [00:00<00:00, 174.90it/s]"
     ]
    },
    {
     "name": "stdout",
     "output_type": "stream",
     "text": [
      "Accuracy наилучшей модели на валидационной выборке: 0.80248833592535\n",
      "Максимальная глубина = 8\n"
     ]
    },
    {
     "name": "stderr",
     "output_type": "stream",
     "text": [
      "\n"
     ]
    }
   ],
   "source": [
    "best_model_dt = None\n",
    "best_depth_dt = 0\n",
    "best_result_dt = 0\n",
    "for depth in tqdm(range(1, 10)):\n",
    "    model_dt = DecisionTreeClassifier(random_state=12345, max_depth = depth).fit(features_train, target_train)\n",
    "    predictions_valid_dt = model_dt.predict(features_valid)\n",
    "    result_dt = accuracy_score(predictions_valid_dt, target_valid)\n",
    "    if best_result_dt < result_dt:\n",
    "        best_model_dt = model_dt\n",
    "        best_depth_dt = depth\n",
    "        best_result_dt = result_dt\n",
    "print('Accuracy наилучшей модели на валидационной выборке:', best_result_dt)\n",
    "print('Максимальная глубина =', best_depth_dt)"
   ]
  },
  {
   "cell_type": "code",
   "execution_count": 15,
   "metadata": {},
   "outputs": [
    {
     "data": {
      "image/png": "[encoded data removed]",
      "text/plain": [
       "<Figure size 2520x1440 with 1 Axes>"
      ]
     },
     "metadata": {
      "needs_background": "light"
     },
     "output_type": "display_data"
    }
   ],
   "source": [
    "from sklearn import tree\n",
    "import matplotlib.pyplot as plt\n",
    "fig = plt.figure(figsize=(35,20))\n",
    "_ = tree.plot_tree(best_model_dt, \n",
    "                   feature_names=features.columns.values, \n",
    "                   class_names=['Smart','Ultra'],\n",
    "                   filled=True,\n",
    "                   fontsize = 15,\n",
    "                   max_depth = 3\n",
    "                   )"
   ]
  },
  {
   "cell_type": "code",
   "execution_count": 16,
   "metadata": {},
   "outputs": [
    {
     "data": {
      "text/plain": [
       "{'ccp_alpha': 0.0,\n",
       " 'class_weight': None,\n",
       " 'criterion': 'gini',\n",
       " 'max_depth': 9,\n",
       " 'max_features': None,\n",
       " 'max_leaf_nodes': None,\n",
       " 'min_impurity_decrease': 0.0,\n",
       " 'min_impurity_split': None,\n",
       " 'min_samples_leaf': 1,\n",
       " 'min_samples_split': 2,\n",
       " 'min_weight_fraction_leaf': 0.0,\n",
       " 'random_state': 12345,\n",
       " 'splitter': 'best'}"
      ]
     },
     "execution_count": 16,
     "metadata": {},
     "output_type": "execute_result"
    }
   ],
   "source": [
    "model_dt.get_params()"
   ]
  },
  {
   "cell_type": "markdown",
   "metadata": {},
   "source": [
    "**Вывод:** Исследован алгоритм *дерево решений* на валидационной выборке, большее *Accuracy* у глубины равной 8, ресурсозатратность равна 147.05 it/s."
   ]
  },
  {
   "cell_type": "markdown",
   "metadata": {},
   "source": [
    "**Общий вывод:** Лучше всего показал себя алгоритм *случайный лес* с результатом  = 0.8118195956454122."
   ]
  },
  {
   "cell_type": "markdown",
   "metadata": {},
   "source": [
    "## Проверьте модель на тестовой выборке"
   ]
  },
  {
   "cell_type": "code",
   "execution_count": 17,
   "metadata": {},
   "outputs": [
    {
     "name": "stdout",
     "output_type": "stream",
     "text": [
      "Accuracy RandomForestClassifier на тестовой выборке: 0.807153965785381\n"
     ]
    }
   ],
   "source": [
    "model_rf = RandomForestClassifier(random_state=12345, n_estimators = 19, max_depth = 8).fit(features_train, target_train)\n",
    "predictions_test = model_rf.predict(features_test)\n",
    "result_test = accuracy_score(predictions_test, target_test)\n",
    "print('Accuracy RandomForestClassifier на тестовой выборке:', result_test)"
   ]
  },
  {
   "cell_type": "markdown",
   "metadata": {},
   "source": [
    "**Вывод:** Так как алгоритм *случайный лес* дал лучший результат,он был проверен на тестовой выборке,резульат = 0.807153965785381.Можно заметить что результаты *Accuracy* при обучении *случайного леса* и проверки его на тестовой выборке примерно равны."
   ]
  },
  {
   "cell_type": "markdown",
   "metadata": {},
   "source": [
    "## (бонус) Проверьте модели на адекватность"
   ]
  },
  {
   "cell_type": "code",
   "execution_count": 18,
   "metadata": {},
   "outputs": [
    {
     "name": "stdout",
     "output_type": "stream",
     "text": [
      "Accuracy на адекватность = 0.6936236391912908\n"
     ]
    }
   ],
   "source": [
    "model_dc = DummyClassifier(strategy='most_frequent', random_state=12345).fit(features_train, target_train)\n",
    "result_dc = model_dc.score(features_valid, target_valid)\n",
    "\n",
    "print('Accuracy на адекватность =', result_dc)"
   ]
  },
  {
   "cell_type": "markdown",
   "metadata": {},
   "source": [
    "**Вывод:** Проверили алгоритм на адекватность, выбрали стратегию *most_frequent*, *Accuracy* = 0.6936236391912908."
   ]
  },
  {
   "cell_type": "markdown",
   "metadata": {},
   "source": [
    "## Вывод"
   ]
  },
  {
   "cell_type": "markdown",
   "metadata": {},
   "source": [
    "- Предоставленные данные изучены, DataFrame имеет 4 столбца и 3214 строк,пропусков нет, имеют нужный формат по каждому столбцу.Посмотрел на балансировку классов, абонентов с тарифом \"смарт\" почти в 2.3 раза больше, чем с тарифом \"ультра\", это видно по средней и медиане.Наблюдается мультиколлинеарность между calls и minutes.\n",
    "- были исследованы алгоритмы Decision Tree Classifier,Logistic Regression и RandomForestClassifier, наилучший показатель Accuracy у RandomForestClassifier с гиперпараметрами *n_estimators* равным - 19 и *max_depth* равным 8 и *Accuracy* равен значению 0.8118195956454122.\n",
    "- Алгоритм RandomForestClassifier с гиперапараметрами n_estimators равным - 19 и max_depth равным 8 была проверена на тестовой выборке и Accuracy равен значению 0.807153965785381.\n",
    "- Проверил алгоритм RandomForestClassifier на адекватность, выбрав стратегию *most_frequent*, Accuracy равен значению 0.6936236391912908.\n",
    "\n",
    "Можно заметить что результаты лучшей модели *Accuracy* при обучении *случайного леса* и проверки его на тестовой выборке примерно равны.\n"
   ]
  },
  {
   "cell_type": "markdown",
   "metadata": {},
   "source": [
    "## Чек-лист готовности проекта"
   ]
  },
  {
   "cell_type": "markdown",
   "metadata": {},
   "source": [
    "Поставьте 'x' в выполненных пунктах. Далее нажмите Shift+Enter."
   ]
  },
  {
   "cell_type": "markdown",
   "metadata": {},
   "source": [
    "- [x] Jupyter Notebook открыт\n",
    "- [x] Весь код исполняется без ошибок\n",
    "- [x] Ячейки с кодом расположены в порядке исполнения\n",
    "- [x] Выполнено задание 1: данные загружены и изучены\n",
    "- [x] Выполнено задание 2: данные разбиты на три выборки\n",
    "- [x] Выполнено задание 3: проведено исследование моделей\n",
    "    - [x] Рассмотрено больше одной модели\n",
    "    - [x] Рассмотрено хотя бы 3 значения гипепараметров для какой-нибудь модели\n",
    "    - [x] Написаны выводы по результатам исследования\n",
    "- [x] Выполнено задание 3: Проведено тестирование\n",
    "- [x] Удалось достичь accuracy не меньше 0.75\n"
   ]
  },
  {
   "cell_type": "code",
   "execution_count": null,
   "metadata": {},
   "outputs": [],
   "source": []
  }
 ],
 "metadata": {
  "ExecuteTimeLog": [
   {
    "duration": 380,
    "start_time": "2023-05-31T11:46:27.240Z"
   },
   {
    "duration": 118,
    "start_time": "2023-05-31T11:46:27.914Z"
   },
   {
    "duration": 14,
    "start_time": "2023-05-31T11:46:39.020Z"
   },
   {
    "duration": 29,
    "start_time": "2023-05-31T11:46:48.336Z"
   },
   {
    "duration": 14,
    "start_time": "2023-05-31T11:46:51.894Z"
   },
   {
    "duration": 10,
    "start_time": "2023-05-31T11:47:11.850Z"
   },
   {
    "duration": 13,
    "start_time": "2023-05-31T11:47:15.206Z"
   },
   {
    "duration": 12,
    "start_time": "2023-05-31T11:47:27.312Z"
   },
   {
    "duration": 68,
    "start_time": "2023-05-31T11:48:47.938Z"
   },
   {
    "duration": 7,
    "start_time": "2023-05-31T11:48:54.606Z"
   },
   {
    "duration": 90,
    "start_time": "2023-06-01T10:18:26.049Z"
   },
   {
    "duration": 442,
    "start_time": "2023-06-01T10:18:32.662Z"
   },
   {
    "duration": 71,
    "start_time": "2023-06-01T10:18:33.543Z"
   },
   {
    "duration": 25,
    "start_time": "2023-06-01T10:18:34.090Z"
   },
   {
    "duration": 21,
    "start_time": "2023-06-01T10:18:34.840Z"
   },
   {
    "duration": 11,
    "start_time": "2023-06-01T10:18:35.634Z"
   },
   {
    "duration": 8,
    "start_time": "2023-06-01T10:18:45.345Z"
   },
   {
    "duration": 4,
    "start_time": "2023-06-01T10:20:54.953Z"
   },
   {
    "duration": 7,
    "start_time": "2023-06-01T10:29:34.961Z"
   },
   {
    "duration": 48,
    "start_time": "2023-06-01T10:29:49.365Z"
   },
   {
    "duration": 5,
    "start_time": "2023-06-01T10:30:07.519Z"
   },
   {
    "duration": 4,
    "start_time": "2023-06-01T10:30:16.593Z"
   },
   {
    "duration": 8,
    "start_time": "2023-06-01T10:30:47.579Z"
   },
   {
    "duration": 8,
    "start_time": "2023-06-01T10:30:51.445Z"
   },
   {
    "duration": 1766,
    "start_time": "2023-06-01T10:32:03.459Z"
   },
   {
    "duration": 122,
    "start_time": "2023-06-01T10:34:20.818Z"
   },
   {
    "duration": 57,
    "start_time": "2023-06-01T10:34:31.193Z"
   },
   {
    "duration": 18,
    "start_time": "2023-06-01T10:38:31.390Z"
   },
   {
    "duration": 59,
    "start_time": "2023-06-01T10:39:20.811Z"
   },
   {
    "duration": 1737,
    "start_time": "2023-06-01T10:39:34.655Z"
   },
   {
    "duration": 39,
    "start_time": "2023-06-01T10:39:36.395Z"
   },
   {
    "duration": 41,
    "start_time": "2023-06-01T10:39:36.436Z"
   },
   {
    "duration": 14,
    "start_time": "2023-06-01T10:39:36.480Z"
   },
   {
    "duration": 12,
    "start_time": "2023-06-01T10:39:36.497Z"
   },
   {
    "duration": 18,
    "start_time": "2023-06-01T10:39:36.511Z"
   },
   {
    "duration": 5,
    "start_time": "2023-06-01T10:39:36.530Z"
   },
   {
    "duration": 246,
    "start_time": "2023-06-01T10:39:36.537Z"
   },
   {
    "duration": 43,
    "start_time": "2023-06-01T10:49:36.358Z"
   },
   {
    "duration": 5,
    "start_time": "2023-06-01T10:50:18.465Z"
   },
   {
    "duration": 29,
    "start_time": "2023-06-01T10:50:22.468Z"
   },
   {
    "duration": 207,
    "start_time": "2023-06-01T10:55:11.146Z"
   },
   {
    "duration": 215,
    "start_time": "2023-06-01T10:55:20.880Z"
   },
   {
    "duration": 250,
    "start_time": "2023-06-01T10:56:01.943Z"
   },
   {
    "duration": 2231,
    "start_time": "2023-06-01T10:56:34.094Z"
   },
   {
    "duration": 91,
    "start_time": "2023-06-01T10:56:36.338Z"
   },
   {
    "duration": 95,
    "start_time": "2023-06-01T10:56:36.442Z"
   },
   {
    "duration": 54,
    "start_time": "2023-06-01T10:56:36.555Z"
   },
   {
    "duration": 19,
    "start_time": "2023-06-01T10:56:36.618Z"
   },
   {
    "duration": 19,
    "start_time": "2023-06-01T10:56:36.645Z"
   },
   {
    "duration": 26,
    "start_time": "2023-06-01T10:56:36.671Z"
   },
   {
    "duration": 262,
    "start_time": "2023-06-01T10:56:36.699Z"
   },
   {
    "duration": 112,
    "start_time": "2023-06-01T10:56:52.779Z"
   },
   {
    "duration": 1576,
    "start_time": "2023-06-01T11:09:18.861Z"
   },
   {
    "duration": 37,
    "start_time": "2023-06-01T11:09:20.443Z"
   },
   {
    "duration": 34,
    "start_time": "2023-06-01T11:09:20.482Z"
   },
   {
    "duration": 22,
    "start_time": "2023-06-01T11:09:20.518Z"
   },
   {
    "duration": 21,
    "start_time": "2023-06-01T11:09:20.543Z"
   },
   {
    "duration": 25,
    "start_time": "2023-06-01T11:09:20.566Z"
   },
   {
    "duration": 20,
    "start_time": "2023-06-01T11:09:20.593Z"
   },
   {
    "duration": 71,
    "start_time": "2023-06-01T11:09:20.616Z"
   },
   {
    "duration": 1132,
    "start_time": "2023-06-01T13:28:11.224Z"
   },
   {
    "duration": 31,
    "start_time": "2023-06-01T13:28:13.137Z"
   },
   {
    "duration": 29,
    "start_time": "2023-06-01T13:28:15.557Z"
   },
   {
    "duration": 14,
    "start_time": "2023-06-01T13:28:19.814Z"
   },
   {
    "duration": 5,
    "start_time": "2023-06-01T13:28:32.916Z"
   },
   {
    "duration": 6,
    "start_time": "2023-06-01T13:28:34.553Z"
   },
   {
    "duration": 6,
    "start_time": "2023-06-01T13:28:45.262Z"
   },
   {
    "duration": 4,
    "start_time": "2023-06-01T13:28:46.652Z"
   },
   {
    "duration": 50,
    "start_time": "2023-06-01T13:28:48.390Z"
   },
   {
    "duration": 1344,
    "start_time": "2023-06-01T13:39:29.536Z"
   },
   {
    "duration": 35,
    "start_time": "2023-06-01T13:39:31.779Z"
   },
   {
    "duration": 26,
    "start_time": "2023-06-01T13:39:32.873Z"
   },
   {
    "duration": 12,
    "start_time": "2023-06-01T13:39:35.532Z"
   },
   {
    "duration": 108,
    "start_time": "2023-06-01T13:39:37.574Z"
   },
   {
    "duration": 5,
    "start_time": "2023-06-01T13:39:43.870Z"
   },
   {
    "duration": 6,
    "start_time": "2023-06-01T13:39:48.888Z"
   },
   {
    "duration": 11,
    "start_time": "2023-06-01T13:39:51.022Z"
   },
   {
    "duration": 6,
    "start_time": "2023-06-01T13:40:02.467Z"
   },
   {
    "duration": 4,
    "start_time": "2023-06-01T13:40:15.490Z"
   },
   {
    "duration": 6,
    "start_time": "2023-06-01T13:40:19.166Z"
   },
   {
    "duration": 6,
    "start_time": "2023-06-01T13:40:20.900Z"
   },
   {
    "duration": 4,
    "start_time": "2023-06-01T13:40:23.515Z"
   },
   {
    "duration": 5,
    "start_time": "2023-06-01T13:40:26.927Z"
   },
   {
    "duration": 5,
    "start_time": "2023-06-01T13:40:34.189Z"
   },
   {
    "duration": 50,
    "start_time": "2023-06-01T13:40:35.784Z"
   },
   {
    "duration": 5,
    "start_time": "2023-06-01T13:40:40.597Z"
   },
   {
    "duration": 5,
    "start_time": "2023-06-01T13:40:42.276Z"
   },
   {
    "duration": 395,
    "start_time": "2023-06-01T13:40:45.682Z"
   },
   {
    "duration": 5,
    "start_time": "2023-06-01T13:40:50.447Z"
   },
   {
    "duration": 4,
    "start_time": "2023-06-01T13:40:52.253Z"
   },
   {
    "duration": 659,
    "start_time": "2023-06-01T13:44:28.266Z"
   },
   {
    "duration": 251,
    "start_time": "2023-06-01T13:46:07.178Z"
   },
   {
    "duration": 318,
    "start_time": "2023-06-01T13:46:20.514Z"
   },
   {
    "duration": 388,
    "start_time": "2023-06-01T13:46:30.855Z"
   },
   {
    "duration": 171,
    "start_time": "2023-06-01T13:46:43.456Z"
   },
   {
    "duration": 1027,
    "start_time": "2023-06-01T16:25:56.854Z"
   },
   {
    "duration": 127,
    "start_time": "2023-06-01T16:25:59.706Z"
   },
   {
    "duration": 18,
    "start_time": "2023-06-01T16:26:00.762Z"
   },
   {
    "duration": 1120,
    "start_time": "2023-06-01T16:26:47.101Z"
   },
   {
    "duration": 30,
    "start_time": "2023-06-01T16:26:48.862Z"
   },
   {
    "duration": 19,
    "start_time": "2023-06-01T16:26:49.491Z"
   },
   {
    "duration": 4,
    "start_time": "2023-06-01T16:26:57.154Z"
   },
   {
    "duration": 3,
    "start_time": "2023-06-01T16:26:59.689Z"
   },
   {
    "duration": 3,
    "start_time": "2023-06-01T16:27:01.462Z"
   },
   {
    "duration": 97,
    "start_time": "2023-06-01T16:27:11.075Z"
   },
   {
    "duration": 10,
    "start_time": "2023-06-01T16:29:32.062Z"
   },
   {
    "duration": 1145,
    "start_time": "2023-06-01T16:29:39.704Z"
   },
   {
    "duration": 29,
    "start_time": "2023-06-01T16:29:41.370Z"
   },
   {
    "duration": 17,
    "start_time": "2023-06-01T16:29:42.066Z"
   },
   {
    "duration": 3,
    "start_time": "2023-06-01T16:29:47.962Z"
   },
   {
    "duration": 5,
    "start_time": "2023-06-01T16:29:49.823Z"
   },
   {
    "duration": 4,
    "start_time": "2023-06-01T16:29:50.454Z"
   },
   {
    "duration": 116,
    "start_time": "2023-06-01T16:29:52.838Z"
   },
   {
    "duration": 3,
    "start_time": "2023-06-01T16:30:23.073Z"
   },
   {
    "duration": 14,
    "start_time": "2023-06-01T16:30:24.692Z"
   },
   {
    "duration": 1132,
    "start_time": "2023-06-01T16:30:33.966Z"
   },
   {
    "duration": 31,
    "start_time": "2023-06-01T16:30:35.100Z"
   },
   {
    "duration": 24,
    "start_time": "2023-06-01T16:30:35.559Z"
   },
   {
    "duration": 4,
    "start_time": "2023-06-01T16:30:39.278Z"
   },
   {
    "duration": 109,
    "start_time": "2023-06-01T16:30:39.917Z"
   },
   {
    "duration": 13,
    "start_time": "2023-06-01T16:31:57.091Z"
   },
   {
    "duration": 6,
    "start_time": "2023-06-01T16:32:25.366Z"
   },
   {
    "duration": 4,
    "start_time": "2023-06-01T16:32:32.177Z"
   },
   {
    "duration": 4,
    "start_time": "2023-06-01T16:32:34.295Z"
   },
   {
    "duration": 4,
    "start_time": "2023-06-01T16:32:55.787Z"
   },
   {
    "duration": 4,
    "start_time": "2023-06-01T16:33:49.166Z"
   },
   {
    "duration": 6,
    "start_time": "2023-06-01T16:34:18.778Z"
   },
   {
    "duration": 252,
    "start_time": "2023-06-01T17:04:51.597Z"
   },
   {
    "duration": 17,
    "start_time": "2023-06-01T17:13:22.677Z"
   },
   {
    "duration": 19,
    "start_time": "2023-06-01T17:14:04.257Z"
   },
   {
    "duration": 21,
    "start_time": "2023-06-01T17:14:22.854Z"
   },
   {
    "duration": 20,
    "start_time": "2023-06-01T17:15:23.403Z"
   },
   {
    "duration": 20,
    "start_time": "2023-06-01T17:15:41.606Z"
   },
   {
    "duration": 1247,
    "start_time": "2023-06-03T13:52:00.792Z"
   },
   {
    "duration": 125,
    "start_time": "2023-06-03T13:52:02.042Z"
   },
   {
    "duration": 21,
    "start_time": "2023-06-03T13:52:02.169Z"
   },
   {
    "duration": 14,
    "start_time": "2023-06-03T13:52:02.192Z"
   },
   {
    "duration": 7,
    "start_time": "2023-06-03T13:52:02.208Z"
   },
   {
    "duration": 151,
    "start_time": "2023-06-03T13:52:02.216Z"
   },
   {
    "duration": 0,
    "start_time": "2023-06-03T13:52:02.369Z"
   },
   {
    "duration": 0,
    "start_time": "2023-06-03T13:52:02.370Z"
   },
   {
    "duration": 0,
    "start_time": "2023-06-03T13:52:02.371Z"
   },
   {
    "duration": 0,
    "start_time": "2023-06-03T13:52:02.373Z"
   },
   {
    "duration": 0,
    "start_time": "2023-06-03T13:52:02.374Z"
   },
   {
    "duration": 0,
    "start_time": "2023-06-03T13:52:02.375Z"
   },
   {
    "duration": 0,
    "start_time": "2023-06-03T13:52:02.376Z"
   },
   {
    "duration": 4,
    "start_time": "2023-06-03T13:52:52.789Z"
   },
   {
    "duration": 5,
    "start_time": "2023-06-03T13:52:53.825Z"
   },
   {
    "duration": 7,
    "start_time": "2023-06-03T13:52:57.883Z"
   },
   {
    "duration": 252,
    "start_time": "2023-06-03T13:53:00.747Z"
   },
   {
    "duration": 19,
    "start_time": "2023-06-03T13:53:07.938Z"
   },
   {
    "duration": 41,
    "start_time": "2023-06-03T13:54:21.662Z"
   },
   {
    "duration": 38,
    "start_time": "2023-06-03T13:59:57.084Z"
   },
   {
    "duration": 1136,
    "start_time": "2023-06-03T14:11:37.401Z"
   },
   {
    "duration": 30,
    "start_time": "2023-06-03T14:11:38.539Z"
   },
   {
    "duration": 22,
    "start_time": "2023-06-03T14:11:38.571Z"
   },
   {
    "duration": 15,
    "start_time": "2023-06-03T14:11:38.596Z"
   },
   {
    "duration": 15,
    "start_time": "2023-06-03T14:11:38.613Z"
   },
   {
    "duration": 12,
    "start_time": "2023-06-03T14:11:38.638Z"
   },
   {
    "duration": 7,
    "start_time": "2023-06-03T14:11:38.652Z"
   },
   {
    "duration": 13,
    "start_time": "2023-06-03T14:11:38.660Z"
   },
   {
    "duration": 23616,
    "start_time": "2023-06-03T14:11:38.675Z"
   },
   {
    "duration": 21,
    "start_time": "2023-06-03T14:12:02.293Z"
   },
   {
    "duration": 39,
    "start_time": "2023-06-03T14:12:02.325Z"
   },
   {
    "duration": 24,
    "start_time": "2023-06-03T14:12:02.366Z"
   },
   {
    "duration": 69,
    "start_time": "2023-06-03T14:12:02.392Z"
   },
   {
    "duration": 239,
    "start_time": "2023-06-03T14:14:01.110Z"
   },
   {
    "duration": 31,
    "start_time": "2023-06-03T14:15:40.852Z"
   },
   {
    "duration": 101,
    "start_time": "2023-06-03T14:16:49.360Z"
   },
   {
    "duration": 112,
    "start_time": "2023-06-03T14:18:33.234Z"
   },
   {
    "duration": 157,
    "start_time": "2023-06-03T14:25:42.899Z"
   },
   {
    "duration": 167,
    "start_time": "2023-06-03T14:26:27.248Z"
   },
   {
    "duration": 4460,
    "start_time": "2023-06-03T14:28:10.970Z"
   },
   {
    "duration": 4499,
    "start_time": "2023-06-03T14:28:27.593Z"
   },
   {
    "duration": 678,
    "start_time": "2023-06-03T14:28:48.630Z"
   },
   {
    "duration": 1288,
    "start_time": "2023-06-03T14:28:55.808Z"
   },
   {
    "duration": 2369,
    "start_time": "2023-06-03T14:29:02.170Z"
   },
   {
    "duration": 1086,
    "start_time": "2023-06-03T14:29:10.696Z"
   },
   {
    "duration": 1597,
    "start_time": "2023-06-03T14:29:17.902Z"
   },
   {
    "duration": 1173,
    "start_time": "2023-06-03T14:31:14.899Z"
   },
   {
    "duration": 29,
    "start_time": "2023-06-03T14:31:16.073Z"
   },
   {
    "duration": 19,
    "start_time": "2023-06-03T14:31:16.103Z"
   },
   {
    "duration": 20,
    "start_time": "2023-06-03T14:31:16.124Z"
   },
   {
    "duration": 4,
    "start_time": "2023-06-03T14:31:16.150Z"
   },
   {
    "duration": 11,
    "start_time": "2023-06-03T14:31:16.157Z"
   },
   {
    "duration": 7,
    "start_time": "2023-06-03T14:31:16.170Z"
   },
   {
    "duration": 7,
    "start_time": "2023-06-03T14:31:16.178Z"
   },
   {
    "duration": 1319,
    "start_time": "2023-06-03T14:31:16.187Z"
   },
   {
    "duration": 50,
    "start_time": "2023-06-03T14:31:17.510Z"
   },
   {
    "duration": 127,
    "start_time": "2023-06-03T14:31:17.562Z"
   },
   {
    "duration": 53,
    "start_time": "2023-06-03T14:31:17.692Z"
   },
   {
    "duration": 39,
    "start_time": "2023-06-03T14:31:17.747Z"
   },
   {
    "duration": 63,
    "start_time": "2023-06-03T14:31:17.788Z"
   },
   {
    "duration": 14937,
    "start_time": "2023-06-03T14:32:12.200Z"
   },
   {
    "duration": 4370,
    "start_time": "2023-06-03T14:34:26.717Z"
   },
   {
    "duration": 4689,
    "start_time": "2023-06-03T14:35:05.668Z"
   },
   {
    "duration": 17,
    "start_time": "2023-06-03T14:35:19.851Z"
   },
   {
    "duration": 19,
    "start_time": "2023-06-03T14:35:29.052Z"
   },
   {
    "duration": 454,
    "start_time": "2023-06-03T14:37:49.291Z"
   },
   {
    "duration": 463,
    "start_time": "2023-06-03T14:38:36.643Z"
   },
   {
    "duration": 49,
    "start_time": "2023-06-03T15:51:36.712Z"
   },
   {
    "duration": 53,
    "start_time": "2023-06-03T15:51:46.714Z"
   },
   {
    "duration": 49,
    "start_time": "2023-06-03T15:53:14.583Z"
   },
   {
    "duration": 57,
    "start_time": "2023-06-03T15:54:35.403Z"
   },
   {
    "duration": 1282,
    "start_time": "2023-06-03T15:54:42.501Z"
   },
   {
    "duration": 29,
    "start_time": "2023-06-03T15:54:43.785Z"
   },
   {
    "duration": 34,
    "start_time": "2023-06-03T15:54:43.816Z"
   },
   {
    "duration": 11,
    "start_time": "2023-06-03T15:54:43.852Z"
   },
   {
    "duration": 16,
    "start_time": "2023-06-03T15:54:43.865Z"
   },
   {
    "duration": 12,
    "start_time": "2023-06-03T15:54:43.882Z"
   },
   {
    "duration": 5,
    "start_time": "2023-06-03T15:54:43.896Z"
   },
   {
    "duration": 11,
    "start_time": "2023-06-03T15:54:43.902Z"
   },
   {
    "duration": 3914,
    "start_time": "2023-06-03T15:54:43.914Z"
   },
   {
    "duration": 21,
    "start_time": "2023-06-03T15:54:47.839Z"
   },
   {
    "duration": 71,
    "start_time": "2023-06-03T15:54:47.861Z"
   },
   {
    "duration": 31,
    "start_time": "2023-06-03T15:54:47.934Z"
   },
   {
    "duration": 25,
    "start_time": "2023-06-03T15:54:47.967Z"
   },
   {
    "duration": 52,
    "start_time": "2023-06-03T15:54:47.993Z"
   },
   {
    "duration": 110,
    "start_time": "2023-06-03T16:05:21.928Z"
   },
   {
    "duration": 1113,
    "start_time": "2023-06-03T16:06:03.935Z"
   },
   {
    "duration": 29,
    "start_time": "2023-06-03T16:06:05.050Z"
   },
   {
    "duration": 18,
    "start_time": "2023-06-03T16:06:05.084Z"
   },
   {
    "duration": 11,
    "start_time": "2023-06-03T16:06:05.104Z"
   },
   {
    "duration": 26,
    "start_time": "2023-06-03T16:06:05.116Z"
   },
   {
    "duration": 24,
    "start_time": "2023-06-03T16:06:05.144Z"
   },
   {
    "duration": 10,
    "start_time": "2023-06-03T16:06:05.170Z"
   },
   {
    "duration": 22,
    "start_time": "2023-06-03T16:06:05.182Z"
   },
   {
    "duration": 3691,
    "start_time": "2023-06-03T16:06:05.206Z"
   },
   {
    "duration": 27,
    "start_time": "2023-06-03T16:06:08.898Z"
   },
   {
    "duration": 111,
    "start_time": "2023-06-03T16:06:08.927Z"
   },
   {
    "duration": 0,
    "start_time": "2023-06-03T16:06:09.039Z"
   },
   {
    "duration": 0,
    "start_time": "2023-06-03T16:06:09.041Z"
   },
   {
    "duration": 0,
    "start_time": "2023-06-03T16:06:09.042Z"
   },
   {
    "duration": 25,
    "start_time": "2023-06-03T16:06:34.983Z"
   },
   {
    "duration": 1070,
    "start_time": "2023-06-03T16:06:43.380Z"
   },
   {
    "duration": 30,
    "start_time": "2023-06-03T16:06:44.451Z"
   },
   {
    "duration": 19,
    "start_time": "2023-06-03T16:06:44.483Z"
   },
   {
    "duration": 11,
    "start_time": "2023-06-03T16:06:44.504Z"
   },
   {
    "duration": 5,
    "start_time": "2023-06-03T16:06:44.518Z"
   },
   {
    "duration": 7,
    "start_time": "2023-06-03T16:06:44.525Z"
   },
   {
    "duration": 5,
    "start_time": "2023-06-03T16:06:44.534Z"
   },
   {
    "duration": 11,
    "start_time": "2023-06-03T16:06:44.541Z"
   },
   {
    "duration": 3731,
    "start_time": "2023-06-03T16:06:44.553Z"
   },
   {
    "duration": 20,
    "start_time": "2023-06-03T16:06:48.285Z"
   },
   {
    "duration": 125,
    "start_time": "2023-06-03T16:06:48.306Z"
   },
   {
    "duration": 0,
    "start_time": "2023-06-03T16:06:48.432Z"
   },
   {
    "duration": 0,
    "start_time": "2023-06-03T16:06:48.433Z"
   },
   {
    "duration": 0,
    "start_time": "2023-06-03T16:06:48.434Z"
   },
   {
    "duration": 20,
    "start_time": "2023-06-03T16:07:58.277Z"
   },
   {
    "duration": 991,
    "start_time": "2023-06-03T16:09:01.468Z"
   },
   {
    "duration": 28,
    "start_time": "2023-06-03T16:09:02.461Z"
   },
   {
    "duration": 17,
    "start_time": "2023-06-03T16:09:02.491Z"
   },
   {
    "duration": 21,
    "start_time": "2023-06-03T16:09:02.509Z"
   },
   {
    "duration": 13,
    "start_time": "2023-06-03T16:09:02.532Z"
   },
   {
    "duration": 18,
    "start_time": "2023-06-03T16:09:02.546Z"
   },
   {
    "duration": 40,
    "start_time": "2023-06-03T16:09:02.565Z"
   },
   {
    "duration": 16,
    "start_time": "2023-06-03T16:09:02.606Z"
   },
   {
    "duration": 3664,
    "start_time": "2023-06-03T16:09:02.623Z"
   },
   {
    "duration": 18,
    "start_time": "2023-06-03T16:09:06.288Z"
   },
   {
    "duration": 112,
    "start_time": "2023-06-03T16:09:06.307Z"
   },
   {
    "duration": 0,
    "start_time": "2023-06-03T16:09:06.425Z"
   },
   {
    "duration": 0,
    "start_time": "2023-06-03T16:09:06.426Z"
   },
   {
    "duration": 0,
    "start_time": "2023-06-03T16:09:06.427Z"
   },
   {
    "duration": 20,
    "start_time": "2023-06-03T16:13:36.347Z"
   },
   {
    "duration": 22,
    "start_time": "2023-06-03T16:14:11.319Z"
   },
   {
    "duration": 17,
    "start_time": "2023-06-03T16:14:18.849Z"
   },
   {
    "duration": 64,
    "start_time": "2023-06-03T16:14:23.009Z"
   },
   {
    "duration": 22,
    "start_time": "2023-06-03T16:17:38.776Z"
   },
   {
    "duration": 1143,
    "start_time": "2023-06-03T16:17:49.716Z"
   },
   {
    "duration": 31,
    "start_time": "2023-06-03T16:17:50.861Z"
   },
   {
    "duration": 26,
    "start_time": "2023-06-03T16:17:50.894Z"
   },
   {
    "duration": 10,
    "start_time": "2023-06-03T16:17:50.922Z"
   },
   {
    "duration": 25,
    "start_time": "2023-06-03T16:17:50.934Z"
   },
   {
    "duration": 27,
    "start_time": "2023-06-03T16:17:50.960Z"
   },
   {
    "duration": 20,
    "start_time": "2023-06-03T16:17:50.989Z"
   },
   {
    "duration": 17,
    "start_time": "2023-06-03T16:17:51.011Z"
   },
   {
    "duration": 3788,
    "start_time": "2023-06-03T16:17:51.029Z"
   },
   {
    "duration": 33,
    "start_time": "2023-06-03T16:17:54.819Z"
   },
   {
    "duration": 148,
    "start_time": "2023-06-03T16:17:54.854Z"
   },
   {
    "duration": 0,
    "start_time": "2023-06-03T16:17:55.004Z"
   },
   {
    "duration": 0,
    "start_time": "2023-06-03T16:17:55.005Z"
   },
   {
    "duration": 0,
    "start_time": "2023-06-03T16:17:55.007Z"
   },
   {
    "duration": 4,
    "start_time": "2023-06-03T16:21:11.057Z"
   },
   {
    "duration": 31,
    "start_time": "2023-06-03T16:21:14.039Z"
   },
   {
    "duration": 12,
    "start_time": "2023-06-03T16:21:22.903Z"
   },
   {
    "duration": 10,
    "start_time": "2023-06-03T16:21:23.073Z"
   },
   {
    "duration": 4,
    "start_time": "2023-06-03T16:21:23.657Z"
   },
   {
    "duration": 7,
    "start_time": "2023-06-03T16:21:23.933Z"
   },
   {
    "duration": 6,
    "start_time": "2023-06-03T16:21:24.520Z"
   },
   {
    "duration": 8,
    "start_time": "2023-06-03T16:21:24.951Z"
   },
   {
    "duration": 3871,
    "start_time": "2023-06-03T16:21:26.200Z"
   },
   {
    "duration": 26,
    "start_time": "2023-06-03T16:21:32.144Z"
   },
   {
    "duration": 20,
    "start_time": "2023-06-03T16:21:33.367Z"
   },
   {
    "duration": 23,
    "start_time": "2023-06-03T16:21:41.256Z"
   },
   {
    "duration": 1113,
    "start_time": "2023-06-03T16:21:53.497Z"
   },
   {
    "duration": 46,
    "start_time": "2023-06-03T16:21:54.612Z"
   },
   {
    "duration": 19,
    "start_time": "2023-06-03T16:21:54.659Z"
   },
   {
    "duration": 11,
    "start_time": "2023-06-03T16:21:54.679Z"
   },
   {
    "duration": 5,
    "start_time": "2023-06-03T16:21:54.692Z"
   },
   {
    "duration": 22,
    "start_time": "2023-06-03T16:21:54.699Z"
   },
   {
    "duration": 63,
    "start_time": "2023-06-03T16:21:54.722Z"
   },
   {
    "duration": 70,
    "start_time": "2023-06-03T16:21:54.787Z"
   },
   {
    "duration": 4092,
    "start_time": "2023-06-03T16:21:54.859Z"
   },
   {
    "duration": 33,
    "start_time": "2023-06-03T16:21:58.954Z"
   },
   {
    "duration": 148,
    "start_time": "2023-06-03T16:21:58.989Z"
   },
   {
    "duration": 0,
    "start_time": "2023-06-03T16:21:59.138Z"
   },
   {
    "duration": 0,
    "start_time": "2023-06-03T16:21:59.139Z"
   },
   {
    "duration": 0,
    "start_time": "2023-06-03T16:21:59.140Z"
   },
   {
    "duration": 31,
    "start_time": "2023-06-03T16:42:13.954Z"
   },
   {
    "duration": 49,
    "start_time": "2023-06-03T16:46:08.274Z"
   },
   {
    "duration": 53,
    "start_time": "2023-06-03T16:47:02.546Z"
   },
   {
    "duration": 863,
    "start_time": "2023-06-03T16:47:13.591Z"
   },
   {
    "duration": 972,
    "start_time": "2023-06-03T16:48:14.190Z"
   },
   {
    "duration": 1047,
    "start_time": "2023-06-03T16:48:40.877Z"
   },
   {
    "duration": 452,
    "start_time": "2023-06-03T16:49:03.688Z"
   },
   {
    "duration": 9,
    "start_time": "2023-06-03T16:49:10.506Z"
   },
   {
    "duration": 62,
    "start_time": "2023-06-03T16:49:15.134Z"
   },
   {
    "duration": 74,
    "start_time": "2023-06-03T16:49:20.060Z"
   },
   {
    "duration": 52,
    "start_time": "2023-06-03T16:49:23.997Z"
   },
   {
    "duration": 58,
    "start_time": "2023-06-03T16:49:27.929Z"
   },
   {
    "duration": 35,
    "start_time": "2023-06-03T16:49:31.146Z"
   },
   {
    "duration": 30,
    "start_time": "2023-06-03T16:49:34.283Z"
   },
   {
    "duration": 25,
    "start_time": "2023-06-03T16:49:37.526Z"
   },
   {
    "duration": 19,
    "start_time": "2023-06-03T16:49:39.606Z"
   },
   {
    "duration": 14,
    "start_time": "2023-06-03T16:49:42.074Z"
   },
   {
    "duration": 19,
    "start_time": "2023-06-03T16:49:46.212Z"
   },
   {
    "duration": 14,
    "start_time": "2023-06-03T16:49:51.968Z"
   },
   {
    "duration": 1318,
    "start_time": "2023-06-03T16:49:58.557Z"
   },
   {
    "duration": 23,
    "start_time": "2023-06-03T16:50:15.575Z"
   },
   {
    "duration": 3805,
    "start_time": "2023-06-03T16:51:48.914Z"
   },
   {
    "duration": 20,
    "start_time": "2023-06-03T16:51:54.663Z"
   },
   {
    "duration": 22,
    "start_time": "2023-06-03T16:51:57.344Z"
   },
   {
    "duration": 28,
    "start_time": "2023-06-03T16:52:00.281Z"
   },
   {
    "duration": 21,
    "start_time": "2023-06-03T16:52:25.823Z"
   },
   {
    "duration": 32,
    "start_time": "2023-06-03T16:52:34.889Z"
   },
   {
    "duration": 19,
    "start_time": "2023-06-03T16:52:54.387Z"
   },
   {
    "duration": 88,
    "start_time": "2023-06-03T16:53:04.967Z"
   },
   {
    "duration": 86,
    "start_time": "2023-06-03T16:53:09.582Z"
   },
   {
    "duration": 21,
    "start_time": "2023-06-03T16:53:14.120Z"
   },
   {
    "duration": 30,
    "start_time": "2023-06-03T16:53:21.100Z"
   },
   {
    "duration": 17,
    "start_time": "2023-06-03T16:53:29.316Z"
   },
   {
    "duration": 91,
    "start_time": "2023-06-03T16:53:51.058Z"
   },
   {
    "duration": 80,
    "start_time": "2023-06-03T16:53:53.818Z"
   },
   {
    "duration": 78,
    "start_time": "2023-06-03T16:54:03.104Z"
   },
   {
    "duration": 88,
    "start_time": "2023-06-03T16:54:06.334Z"
   },
   {
    "duration": 96,
    "start_time": "2023-06-03T16:54:12.326Z"
   },
   {
    "duration": 100,
    "start_time": "2023-06-03T16:54:14.794Z"
   },
   {
    "duration": 24,
    "start_time": "2023-06-03T16:54:17.813Z"
   },
   {
    "duration": 21,
    "start_time": "2023-06-03T16:54:24.980Z"
   },
   {
    "duration": 29,
    "start_time": "2023-06-03T17:05:14.499Z"
   },
   {
    "duration": 14,
    "start_time": "2023-06-03T17:06:49.382Z"
   },
   {
    "duration": 66,
    "start_time": "2023-06-03T17:07:08.215Z"
   },
   {
    "duration": 62,
    "start_time": "2023-06-03T17:07:58.359Z"
   },
   {
    "duration": 59,
    "start_time": "2023-06-03T17:08:06.363Z"
   },
   {
    "duration": 20,
    "start_time": "2023-06-03T17:10:54.565Z"
   },
   {
    "duration": 29,
    "start_time": "2023-06-03T17:13:16.910Z"
   },
   {
    "duration": 44,
    "start_time": "2023-06-03T17:14:35.635Z"
   },
   {
    "duration": 1066,
    "start_time": "2023-06-05T15:57:57.399Z"
   },
   {
    "duration": 161,
    "start_time": "2023-06-05T15:57:58.467Z"
   },
   {
    "duration": 17,
    "start_time": "2023-06-05T15:57:58.631Z"
   },
   {
    "duration": 9,
    "start_time": "2023-06-05T15:57:58.649Z"
   },
   {
    "duration": 5,
    "start_time": "2023-06-05T15:57:58.659Z"
   },
   {
    "duration": 7,
    "start_time": "2023-06-05T15:57:58.665Z"
   },
   {
    "duration": 6,
    "start_time": "2023-06-05T15:57:58.673Z"
   },
   {
    "duration": 8,
    "start_time": "2023-06-05T15:57:58.680Z"
   },
   {
    "duration": 3469,
    "start_time": "2023-06-05T15:57:58.689Z"
   },
   {
    "duration": 18,
    "start_time": "2023-06-05T15:58:02.160Z"
   },
   {
    "duration": 119,
    "start_time": "2023-06-05T15:58:02.185Z"
   },
   {
    "duration": 65,
    "start_time": "2023-06-05T15:58:02.305Z"
   },
   {
    "duration": 27,
    "start_time": "2023-06-05T15:58:02.372Z"
   },
   {
    "duration": 104,
    "start_time": "2023-06-05T16:00:06.981Z"
   },
   {
    "duration": 90,
    "start_time": "2023-06-05T16:00:30.327Z"
   },
   {
    "duration": 189,
    "start_time": "2023-06-05T16:02:16.348Z"
   },
   {
    "duration": 11,
    "start_time": "2023-06-05T16:02:21.180Z"
   },
   {
    "duration": 104,
    "start_time": "2023-06-05T16:02:30.262Z"
   },
   {
    "duration": 75,
    "start_time": "2023-06-05T16:02:33.496Z"
   },
   {
    "duration": 85,
    "start_time": "2023-06-05T16:02:47.262Z"
   },
   {
    "duration": 11,
    "start_time": "2023-06-05T16:03:42.191Z"
   },
   {
    "duration": 101,
    "start_time": "2023-06-05T16:03:44.828Z"
   },
   {
    "duration": 100,
    "start_time": "2023-06-05T16:04:50.626Z"
   },
   {
    "duration": 12,
    "start_time": "2023-06-05T16:04:56.397Z"
   },
   {
    "duration": 11,
    "start_time": "2023-06-05T16:05:45.060Z"
   },
   {
    "duration": 12,
    "start_time": "2023-06-05T16:05:52.860Z"
   },
   {
    "duration": 10,
    "start_time": "2023-06-05T16:06:07.419Z"
   },
   {
    "duration": 12,
    "start_time": "2023-06-05T16:06:17.606Z"
   },
   {
    "duration": 1117,
    "start_time": "2023-06-05T16:06:29.393Z"
   },
   {
    "duration": 30,
    "start_time": "2023-06-05T16:06:30.512Z"
   },
   {
    "duration": 32,
    "start_time": "2023-06-05T16:06:30.544Z"
   },
   {
    "duration": 34,
    "start_time": "2023-06-05T16:06:30.578Z"
   },
   {
    "duration": 38,
    "start_time": "2023-06-05T16:06:30.614Z"
   },
   {
    "duration": 33,
    "start_time": "2023-06-05T16:06:30.653Z"
   },
   {
    "duration": 31,
    "start_time": "2023-06-05T16:06:30.687Z"
   },
   {
    "duration": 43,
    "start_time": "2023-06-05T16:06:30.719Z"
   },
   {
    "duration": 3460,
    "start_time": "2023-06-05T16:06:30.763Z"
   },
   {
    "duration": 16,
    "start_time": "2023-06-05T16:06:34.225Z"
   },
   {
    "duration": 68,
    "start_time": "2023-06-05T16:06:34.243Z"
   },
   {
    "duration": 36,
    "start_time": "2023-06-05T16:06:34.313Z"
   },
   {
    "duration": 116,
    "start_time": "2023-06-05T16:06:34.350Z"
   },
   {
    "duration": 6,
    "start_time": "2023-06-05T16:08:18.602Z"
   },
   {
    "duration": 6,
    "start_time": "2023-06-05T16:08:48.892Z"
   },
   {
    "duration": 89,
    "start_time": "2023-06-05T16:08:53.899Z"
   },
   {
    "duration": 5,
    "start_time": "2023-06-05T16:09:01.334Z"
   },
   {
    "duration": 6,
    "start_time": "2023-06-05T16:17:21.147Z"
   },
   {
    "duration": 3,
    "start_time": "2023-06-05T16:21:51.098Z"
   },
   {
    "duration": 4,
    "start_time": "2023-06-05T16:23:44.902Z"
   },
   {
    "duration": 4,
    "start_time": "2023-06-05T16:24:40.791Z"
   },
   {
    "duration": 3,
    "start_time": "2023-06-05T16:25:14.987Z"
   },
   {
    "duration": 3,
    "start_time": "2023-06-05T16:25:15.586Z"
   },
   {
    "duration": 3,
    "start_time": "2023-06-05T16:25:23.106Z"
   },
   {
    "duration": 90,
    "start_time": "2023-06-05T16:39:20.991Z"
   },
   {
    "duration": 56,
    "start_time": "2023-06-05T17:01:05.597Z"
   },
   {
    "duration": 1390,
    "start_time": "2023-06-05T18:47:59.660Z"
   },
   {
    "duration": 30,
    "start_time": "2023-06-05T18:48:01.052Z"
   },
   {
    "duration": 17,
    "start_time": "2023-06-05T18:48:01.083Z"
   },
   {
    "duration": 39,
    "start_time": "2023-06-05T18:48:01.101Z"
   },
   {
    "duration": 30,
    "start_time": "2023-06-05T18:48:01.142Z"
   },
   {
    "duration": 48,
    "start_time": "2023-06-05T18:48:01.174Z"
   },
   {
    "duration": 34,
    "start_time": "2023-06-05T18:48:01.224Z"
   },
   {
    "duration": 50,
    "start_time": "2023-06-05T18:48:01.260Z"
   },
   {
    "duration": 3495,
    "start_time": "2023-06-05T18:48:01.311Z"
   },
   {
    "duration": 15,
    "start_time": "2023-06-05T18:48:04.808Z"
   },
   {
    "duration": 63,
    "start_time": "2023-06-05T18:48:04.824Z"
   },
   {
    "duration": 34,
    "start_time": "2023-06-05T18:48:04.889Z"
   },
   {
    "duration": 4,
    "start_time": "2023-06-05T18:48:04.924Z"
   },
   {
    "duration": 2487,
    "start_time": "2023-06-05T19:14:41.740Z"
   },
   {
    "duration": 72,
    "start_time": "2023-06-05T19:14:44.232Z"
   },
   {
    "duration": 20,
    "start_time": "2023-06-05T19:14:44.306Z"
   },
   {
    "duration": 12,
    "start_time": "2023-06-05T19:14:44.330Z"
   },
   {
    "duration": 4,
    "start_time": "2023-06-05T19:14:44.344Z"
   },
   {
    "duration": 6,
    "start_time": "2023-06-05T19:14:44.349Z"
   },
   {
    "duration": 8,
    "start_time": "2023-06-05T19:14:44.356Z"
   },
   {
    "duration": 6,
    "start_time": "2023-06-05T19:14:44.365Z"
   },
   {
    "duration": 4279,
    "start_time": "2023-06-05T19:14:44.373Z"
   },
   {
    "duration": 22,
    "start_time": "2023-06-05T19:14:48.654Z"
   },
   {
    "duration": 82,
    "start_time": "2023-06-05T19:14:48.678Z"
   },
   {
    "duration": 41,
    "start_time": "2023-06-05T19:14:48.762Z"
   },
   {
    "duration": 22,
    "start_time": "2023-06-05T19:14:48.805Z"
   },
   {
    "duration": 1093,
    "start_time": "2023-06-08T13:53:19.326Z"
   },
   {
    "duration": 143,
    "start_time": "2023-06-08T13:53:20.421Z"
   },
   {
    "duration": 18,
    "start_time": "2023-06-08T13:53:20.565Z"
   },
   {
    "duration": 44,
    "start_time": "2023-06-08T13:53:20.598Z"
   },
   {
    "duration": 69,
    "start_time": "2023-06-08T13:53:20.644Z"
   },
   {
    "duration": 7,
    "start_time": "2023-06-08T13:53:20.715Z"
   },
   {
    "duration": 19,
    "start_time": "2023-06-08T13:53:20.723Z"
   },
   {
    "duration": 14,
    "start_time": "2023-06-08T13:53:20.744Z"
   },
   {
    "duration": 47,
    "start_time": "2023-06-08T13:53:20.759Z"
   },
   {
    "duration": 3827,
    "start_time": "2023-06-08T13:53:20.807Z"
   },
   {
    "duration": 15,
    "start_time": "2023-06-08T13:53:24.635Z"
   },
   {
    "duration": 72,
    "start_time": "2023-06-08T13:53:24.651Z"
   },
   {
    "duration": 36,
    "start_time": "2023-06-08T13:53:24.724Z"
   },
   {
    "duration": 5,
    "start_time": "2023-06-08T13:53:24.762Z"
   },
   {
    "duration": 13,
    "start_time": "2023-06-08T14:01:11.816Z"
   },
   {
    "duration": 6,
    "start_time": "2023-06-08T14:13:05.764Z"
   },
   {
    "duration": 15,
    "start_time": "2023-06-08T14:13:06.583Z"
   },
   {
    "duration": 113,
    "start_time": "2023-06-08T14:14:39.213Z"
   },
   {
    "duration": 1078,
    "start_time": "2023-06-08T14:15:32.940Z"
   },
   {
    "duration": 31,
    "start_time": "2023-06-08T14:15:34.020Z"
   },
   {
    "duration": 16,
    "start_time": "2023-06-08T14:15:34.053Z"
   },
   {
    "duration": 48,
    "start_time": "2023-06-08T14:15:34.071Z"
   },
   {
    "duration": 22,
    "start_time": "2023-06-08T14:15:34.121Z"
   },
   {
    "duration": 11,
    "start_time": "2023-06-08T14:15:34.145Z"
   },
   {
    "duration": 4,
    "start_time": "2023-06-08T14:15:34.157Z"
   },
   {
    "duration": 7,
    "start_time": "2023-06-08T14:15:34.162Z"
   },
   {
    "duration": 11,
    "start_time": "2023-06-08T14:15:34.171Z"
   },
   {
    "duration": 15,
    "start_time": "2023-06-08T14:15:34.184Z"
   },
   {
    "duration": 3947,
    "start_time": "2023-06-08T14:15:34.204Z"
   },
   {
    "duration": 18,
    "start_time": "2023-06-08T14:15:38.153Z"
   },
   {
    "duration": 84,
    "start_time": "2023-06-08T14:15:38.173Z"
   },
   {
    "duration": 49,
    "start_time": "2023-06-08T14:15:38.259Z"
   },
   {
    "duration": 5,
    "start_time": "2023-06-08T14:15:38.311Z"
   },
   {
    "duration": 78,
    "start_time": "2023-06-08T14:16:43.420Z"
   },
   {
    "duration": 4061,
    "start_time": "2023-06-08T14:23:49.561Z"
   },
   {
    "duration": 3718,
    "start_time": "2023-06-08T14:25:01.549Z"
   },
   {
    "duration": 63,
    "start_time": "2023-06-08T14:25:34.100Z"
   },
   {
    "duration": 3598,
    "start_time": "2023-06-08T14:25:39.000Z"
   },
   {
    "duration": 1036,
    "start_time": "2023-06-08T14:25:51.423Z"
   },
   {
    "duration": 45,
    "start_time": "2023-06-08T14:25:52.461Z"
   },
   {
    "duration": 24,
    "start_time": "2023-06-08T14:25:52.508Z"
   },
   {
    "duration": 11,
    "start_time": "2023-06-08T14:25:52.533Z"
   },
   {
    "duration": 37,
    "start_time": "2023-06-08T14:25:52.546Z"
   },
   {
    "duration": 32,
    "start_time": "2023-06-08T14:25:52.590Z"
   },
   {
    "duration": 4,
    "start_time": "2023-06-08T14:25:52.624Z"
   },
   {
    "duration": 12,
    "start_time": "2023-06-08T14:25:52.629Z"
   },
   {
    "duration": 15,
    "start_time": "2023-06-08T14:25:52.642Z"
   },
   {
    "duration": 12,
    "start_time": "2023-06-08T14:25:52.658Z"
   },
   {
    "duration": 3922,
    "start_time": "2023-06-08T14:25:52.672Z"
   },
   {
    "duration": 18,
    "start_time": "2023-06-08T14:25:56.596Z"
   },
   {
    "duration": 79,
    "start_time": "2023-06-08T14:25:56.615Z"
   },
   {
    "duration": 38,
    "start_time": "2023-06-08T14:25:56.697Z"
   },
   {
    "duration": 4,
    "start_time": "2023-06-08T14:25:56.737Z"
   },
   {
    "duration": 8,
    "start_time": "2023-06-08T14:26:58.873Z"
   },
   {
    "duration": 6,
    "start_time": "2023-06-08T14:27:01.844Z"
   },
   {
    "duration": 3815,
    "start_time": "2023-06-08T14:27:04.540Z"
   },
   {
    "duration": 3593,
    "start_time": "2023-06-08T14:27:40.119Z"
   },
   {
    "duration": 39,
    "start_time": "2023-06-08T14:28:23.719Z"
   },
   {
    "duration": 5,
    "start_time": "2023-06-08T14:28:31.730Z"
   },
   {
    "duration": 63,
    "start_time": "2023-06-08T14:29:48.575Z"
   },
   {
    "duration": 18,
    "start_time": "2023-06-08T14:29:56.655Z"
   },
   {
    "duration": 60,
    "start_time": "2023-06-08T14:31:44.267Z"
   },
   {
    "duration": 55,
    "start_time": "2023-06-08T14:31:49.301Z"
   },
   {
    "duration": 7,
    "start_time": "2023-06-08T14:35:19.605Z"
   },
   {
    "duration": 5,
    "start_time": "2023-06-08T14:35:21.497Z"
   },
   {
    "duration": 3892,
    "start_time": "2023-06-08T14:35:26.401Z"
   },
   {
    "duration": 21,
    "start_time": "2023-06-08T14:36:20.908Z"
   },
   {
    "duration": 68,
    "start_time": "2023-06-08T14:36:28.844Z"
   },
   {
    "duration": 994,
    "start_time": "2023-06-08T14:37:54.939Z"
   },
   {
    "duration": 29,
    "start_time": "2023-06-08T14:37:55.935Z"
   },
   {
    "duration": 17,
    "start_time": "2023-06-08T14:37:55.966Z"
   },
   {
    "duration": 22,
    "start_time": "2023-06-08T14:37:55.984Z"
   },
   {
    "duration": 33,
    "start_time": "2023-06-08T14:37:56.011Z"
   },
   {
    "duration": 10,
    "start_time": "2023-06-08T14:37:56.046Z"
   },
   {
    "duration": 3,
    "start_time": "2023-06-08T14:37:56.058Z"
   },
   {
    "duration": 17,
    "start_time": "2023-06-08T14:37:56.062Z"
   },
   {
    "duration": 40,
    "start_time": "2023-06-08T14:37:56.080Z"
   },
   {
    "duration": 8,
    "start_time": "2023-06-08T14:37:56.121Z"
   },
   {
    "duration": 3783,
    "start_time": "2023-06-08T14:37:56.131Z"
   },
   {
    "duration": 19,
    "start_time": "2023-06-08T14:37:59.916Z"
   },
   {
    "duration": 76,
    "start_time": "2023-06-08T14:37:59.936Z"
   },
   {
    "duration": 38,
    "start_time": "2023-06-08T14:38:00.015Z"
   },
   {
    "duration": 11,
    "start_time": "2023-06-08T14:38:00.055Z"
   },
   {
    "duration": 3952,
    "start_time": "2023-06-08T14:43:21.350Z"
   },
   {
    "duration": 60,
    "start_time": "2023-06-08T14:44:51.655Z"
   },
   {
    "duration": 19,
    "start_time": "2023-06-08T14:46:00.811Z"
   },
   {
    "duration": 57,
    "start_time": "2023-06-08T14:46:11.712Z"
   },
   {
    "duration": 35,
    "start_time": "2023-06-08T14:46:53.513Z"
   },
   {
    "duration": 5,
    "start_time": "2023-06-08T14:47:31.951Z"
   },
   {
    "duration": 1302,
    "start_time": "2023-06-08T14:48:43.412Z"
   },
   {
    "duration": 29,
    "start_time": "2023-06-08T14:48:44.716Z"
   },
   {
    "duration": 17,
    "start_time": "2023-06-08T14:48:44.746Z"
   },
   {
    "duration": 42,
    "start_time": "2023-06-08T14:48:44.764Z"
   },
   {
    "duration": 34,
    "start_time": "2023-06-08T14:48:44.808Z"
   },
   {
    "duration": 17,
    "start_time": "2023-06-08T14:48:44.843Z"
   },
   {
    "duration": 2,
    "start_time": "2023-06-08T14:48:44.862Z"
   },
   {
    "duration": 5,
    "start_time": "2023-06-08T14:48:44.866Z"
   },
   {
    "duration": 38,
    "start_time": "2023-06-08T14:48:44.873Z"
   },
   {
    "duration": 15,
    "start_time": "2023-06-08T14:48:44.912Z"
   },
   {
    "duration": 3713,
    "start_time": "2023-06-08T14:48:44.928Z"
   },
   {
    "duration": 19,
    "start_time": "2023-06-08T14:48:48.642Z"
   },
   {
    "duration": 154,
    "start_time": "2023-06-08T14:48:48.663Z"
   },
   {
    "duration": 34,
    "start_time": "2023-06-08T14:48:48.820Z"
   },
   {
    "duration": 4,
    "start_time": "2023-06-08T14:48:48.855Z"
   },
   {
    "duration": 53,
    "start_time": "2023-06-11T11:36:59.202Z"
   },
   {
    "duration": 1204,
    "start_time": "2023-06-11T11:37:02.980Z"
   },
   {
    "duration": 66,
    "start_time": "2023-06-11T11:37:05.385Z"
   },
   {
    "duration": 23,
    "start_time": "2023-06-11T11:37:06.586Z"
   },
   {
    "duration": 12,
    "start_time": "2023-06-11T11:37:08.154Z"
   },
   {
    "duration": 25,
    "start_time": "2023-06-11T11:37:09.456Z"
   },
   {
    "duration": 67,
    "start_time": "2023-06-11T11:37:10.659Z"
   },
   {
    "duration": 14,
    "start_time": "2023-06-11T11:37:20.111Z"
   },
   {
    "duration": 9,
    "start_time": "2023-06-11T11:37:42.588Z"
   },
   {
    "duration": 10,
    "start_time": "2023-06-11T11:37:59.561Z"
   },
   {
    "duration": 22,
    "start_time": "2023-06-11T11:38:09.025Z"
   },
   {
    "duration": 10,
    "start_time": "2023-06-11T11:39:02.203Z"
   },
   {
    "duration": 15,
    "start_time": "2023-06-11T11:39:27.853Z"
   },
   {
    "duration": 5,
    "start_time": "2023-06-11T11:39:35.757Z"
   },
   {
    "duration": 1694,
    "start_time": "2023-06-11T11:39:48.491Z"
   },
   {
    "duration": 1797,
    "start_time": "2023-06-11T11:40:17.668Z"
   },
   {
    "duration": 10,
    "start_time": "2023-06-11T11:40:31.575Z"
   },
   {
    "duration": 13,
    "start_time": "2023-06-11T11:40:58.265Z"
   },
   {
    "duration": 7,
    "start_time": "2023-06-11T12:03:43.163Z"
   },
   {
    "duration": 9,
    "start_time": "2023-06-11T12:05:54.970Z"
   },
   {
    "duration": 7,
    "start_time": "2023-06-11T12:20:07.954Z"
   },
   {
    "duration": 43,
    "start_time": "2023-06-11T12:20:12.355Z"
   },
   {
    "duration": 10,
    "start_time": "2023-06-11T12:24:16.888Z"
   },
   {
    "duration": 643,
    "start_time": "2023-06-11T12:24:54.422Z"
   },
   {
    "duration": 70,
    "start_time": "2023-06-11T12:25:02.396Z"
   },
   {
    "duration": 1622,
    "start_time": "2023-06-11T12:26:13.784Z"
   },
   {
    "duration": 30,
    "start_time": "2023-06-11T12:26:15.409Z"
   },
   {
    "duration": 22,
    "start_time": "2023-06-11T12:26:15.441Z"
   },
   {
    "duration": 15,
    "start_time": "2023-06-11T12:26:15.464Z"
   },
   {
    "duration": 26,
    "start_time": "2023-06-11T12:26:15.483Z"
   },
   {
    "duration": 11,
    "start_time": "2023-06-11T12:26:15.510Z"
   },
   {
    "duration": 48,
    "start_time": "2023-06-11T12:26:15.523Z"
   },
   {
    "duration": 7,
    "start_time": "2023-06-11T12:26:15.578Z"
   },
   {
    "duration": 4,
    "start_time": "2023-06-11T12:26:15.586Z"
   },
   {
    "duration": 9,
    "start_time": "2023-06-11T12:26:15.591Z"
   },
   {
    "duration": 4,
    "start_time": "2023-06-11T12:26:15.601Z"
   },
   {
    "duration": 4687,
    "start_time": "2023-06-11T12:26:15.607Z"
   },
   {
    "duration": 40,
    "start_time": "2023-06-11T12:26:20.297Z"
   },
   {
    "duration": 78,
    "start_time": "2023-06-11T12:26:20.340Z"
   },
   {
    "duration": 172,
    "start_time": "2023-06-11T12:26:20.421Z"
   },
   {
    "duration": 0,
    "start_time": "2023-06-11T12:26:20.595Z"
   },
   {
    "duration": 0,
    "start_time": "2023-06-11T12:26:20.597Z"
   },
   {
    "duration": 8,
    "start_time": "2023-06-11T12:29:07.101Z"
   },
   {
    "duration": 34,
    "start_time": "2023-06-11T12:29:07.986Z"
   },
   {
    "duration": 17,
    "start_time": "2023-06-11T12:30:15.979Z"
   },
   {
    "duration": 45,
    "start_time": "2023-06-11T12:30:16.680Z"
   },
   {
    "duration": 129,
    "start_time": "2023-06-11T12:30:46.510Z"
   },
   {
    "duration": 132,
    "start_time": "2023-06-11T12:31:00.254Z"
   },
   {
    "duration": 1626,
    "start_time": "2023-06-11T12:31:08.880Z"
   },
   {
    "duration": 32,
    "start_time": "2023-06-11T12:31:10.509Z"
   },
   {
    "duration": 25,
    "start_time": "2023-06-11T12:31:10.543Z"
   },
   {
    "duration": 26,
    "start_time": "2023-06-11T12:31:10.570Z"
   },
   {
    "duration": 30,
    "start_time": "2023-06-11T12:31:10.599Z"
   },
   {
    "duration": 10,
    "start_time": "2023-06-11T12:31:10.630Z"
   },
   {
    "duration": 43,
    "start_time": "2023-06-11T12:31:10.642Z"
   },
   {
    "duration": 18,
    "start_time": "2023-06-11T12:31:10.687Z"
   },
   {
    "duration": 6,
    "start_time": "2023-06-11T12:31:10.707Z"
   },
   {
    "duration": 10,
    "start_time": "2023-06-11T12:31:10.715Z"
   },
   {
    "duration": 4,
    "start_time": "2023-06-11T12:31:10.727Z"
   },
   {
    "duration": 4633,
    "start_time": "2023-06-11T12:31:10.733Z"
   },
   {
    "duration": 37,
    "start_time": "2023-06-11T12:31:15.377Z"
   },
   {
    "duration": 10,
    "start_time": "2023-06-11T12:31:15.416Z"
   },
   {
    "duration": 171,
    "start_time": "2023-06-11T12:31:15.428Z"
   },
   {
    "duration": 0,
    "start_time": "2023-06-11T12:31:15.602Z"
   },
   {
    "duration": 0,
    "start_time": "2023-06-11T12:31:15.603Z"
   },
   {
    "duration": 0,
    "start_time": "2023-06-11T12:31:15.604Z"
   },
   {
    "duration": 1858,
    "start_time": "2023-06-11T12:35:01.704Z"
   },
   {
    "duration": 0,
    "start_time": "2023-06-11T12:35:03.565Z"
   },
   {
    "duration": 0,
    "start_time": "2023-06-11T12:35:03.566Z"
   },
   {
    "duration": 0,
    "start_time": "2023-06-11T12:35:03.568Z"
   },
   {
    "duration": 0,
    "start_time": "2023-06-11T12:35:03.569Z"
   },
   {
    "duration": 0,
    "start_time": "2023-06-11T12:35:03.571Z"
   },
   {
    "duration": 0,
    "start_time": "2023-06-11T12:35:03.572Z"
   },
   {
    "duration": 0,
    "start_time": "2023-06-11T12:35:03.574Z"
   },
   {
    "duration": 0,
    "start_time": "2023-06-11T12:35:03.575Z"
   },
   {
    "duration": 0,
    "start_time": "2023-06-11T12:35:03.577Z"
   },
   {
    "duration": 0,
    "start_time": "2023-06-11T12:35:03.578Z"
   },
   {
    "duration": 0,
    "start_time": "2023-06-11T12:35:03.579Z"
   },
   {
    "duration": 0,
    "start_time": "2023-06-11T12:35:03.581Z"
   },
   {
    "duration": 0,
    "start_time": "2023-06-11T12:35:03.582Z"
   },
   {
    "duration": 0,
    "start_time": "2023-06-11T12:35:03.590Z"
   },
   {
    "duration": 0,
    "start_time": "2023-06-11T12:35:03.591Z"
   },
   {
    "duration": 0,
    "start_time": "2023-06-11T12:35:03.594Z"
   },
   {
    "duration": 0,
    "start_time": "2023-06-11T12:35:03.595Z"
   },
   {
    "duration": 1686,
    "start_time": "2023-06-11T12:35:19.176Z"
   },
   {
    "duration": 43,
    "start_time": "2023-06-11T12:35:20.864Z"
   },
   {
    "duration": 20,
    "start_time": "2023-06-11T12:35:20.909Z"
   },
   {
    "duration": 13,
    "start_time": "2023-06-11T12:35:20.931Z"
   },
   {
    "duration": 58,
    "start_time": "2023-06-11T12:35:20.946Z"
   },
   {
    "duration": 11,
    "start_time": "2023-06-11T12:35:21.006Z"
   },
   {
    "duration": 27,
    "start_time": "2023-06-11T12:35:21.020Z"
   },
   {
    "duration": 4,
    "start_time": "2023-06-11T12:35:21.049Z"
   },
   {
    "duration": 20,
    "start_time": "2023-06-11T12:35:21.055Z"
   },
   {
    "duration": 17,
    "start_time": "2023-06-11T12:35:21.078Z"
   },
   {
    "duration": 27,
    "start_time": "2023-06-11T12:35:21.097Z"
   },
   {
    "duration": 4901,
    "start_time": "2023-06-11T12:35:21.126Z"
   },
   {
    "duration": 59,
    "start_time": "2023-06-11T12:35:26.029Z"
   },
   {
    "duration": 11,
    "start_time": "2023-06-11T12:35:26.092Z"
   },
   {
    "duration": 169,
    "start_time": "2023-06-11T12:35:26.105Z"
   },
   {
    "duration": 0,
    "start_time": "2023-06-11T12:35:26.281Z"
   },
   {
    "duration": 0,
    "start_time": "2023-06-11T12:35:26.282Z"
   },
   {
    "duration": 0,
    "start_time": "2023-06-11T12:35:26.283Z"
   },
   {
    "duration": 19,
    "start_time": "2023-06-11T12:35:57.464Z"
   },
   {
    "duration": 48,
    "start_time": "2023-06-11T12:35:58.372Z"
   },
   {
    "duration": 165,
    "start_time": "2023-06-11T12:36:52.184Z"
   },
   {
    "duration": 1589,
    "start_time": "2023-06-11T12:38:21.108Z"
   },
   {
    "duration": 32,
    "start_time": "2023-06-11T12:38:22.699Z"
   },
   {
    "duration": 20,
    "start_time": "2023-06-11T12:38:22.733Z"
   },
   {
    "duration": 88,
    "start_time": "2023-06-11T12:38:22.755Z"
   },
   {
    "duration": 47,
    "start_time": "2023-06-11T12:38:22.845Z"
   },
   {
    "duration": 12,
    "start_time": "2023-06-11T12:38:22.894Z"
   },
   {
    "duration": 12,
    "start_time": "2023-06-11T12:38:22.908Z"
   },
   {
    "duration": 7,
    "start_time": "2023-06-11T12:38:22.922Z"
   },
   {
    "duration": 37,
    "start_time": "2023-06-11T12:38:22.931Z"
   },
   {
    "duration": 17,
    "start_time": "2023-06-11T12:38:22.972Z"
   },
   {
    "duration": 5,
    "start_time": "2023-06-11T12:38:22.990Z"
   },
   {
    "duration": 4949,
    "start_time": "2023-06-11T12:38:22.996Z"
   },
   {
    "duration": 45,
    "start_time": "2023-06-11T12:38:27.947Z"
   },
   {
    "duration": 11,
    "start_time": "2023-06-11T12:38:27.994Z"
   },
   {
    "duration": 313,
    "start_time": "2023-06-11T12:38:28.007Z"
   },
   {
    "duration": 0,
    "start_time": "2023-06-11T12:38:28.322Z"
   },
   {
    "duration": 0,
    "start_time": "2023-06-11T12:38:28.323Z"
   },
   {
    "duration": 0,
    "start_time": "2023-06-11T12:38:28.325Z"
   },
   {
    "duration": 34,
    "start_time": "2023-06-11T12:38:52.174Z"
   },
   {
    "duration": 68,
    "start_time": "2023-06-11T12:38:56.179Z"
   },
   {
    "duration": 159,
    "start_time": "2023-06-11T12:39:04.188Z"
   },
   {
    "duration": 4,
    "start_time": "2023-06-11T12:41:55.385Z"
   },
   {
    "duration": 147,
    "start_time": "2023-06-11T12:42:02.575Z"
   },
   {
    "duration": 148,
    "start_time": "2023-06-11T12:42:20.654Z"
   },
   {
    "duration": 1524,
    "start_time": "2023-06-11T17:42:23.370Z"
   },
   {
    "duration": 140,
    "start_time": "2023-06-11T17:42:24.897Z"
   },
   {
    "duration": 16,
    "start_time": "2023-06-11T17:42:25.041Z"
   },
   {
    "duration": 21,
    "start_time": "2023-06-11T17:42:25.059Z"
   },
   {
    "duration": 29,
    "start_time": "2023-06-11T17:42:25.085Z"
   },
   {
    "duration": 10,
    "start_time": "2023-06-11T17:42:25.116Z"
   },
   {
    "duration": 13,
    "start_time": "2023-06-11T17:42:25.128Z"
   },
   {
    "duration": 6,
    "start_time": "2023-06-11T17:42:25.143Z"
   },
   {
    "duration": 10,
    "start_time": "2023-06-11T17:42:25.151Z"
   },
   {
    "duration": 13,
    "start_time": "2023-06-11T17:42:25.173Z"
   },
   {
    "duration": 17,
    "start_time": "2023-06-11T17:42:25.190Z"
   },
   {
    "duration": 3712,
    "start_time": "2023-06-11T17:42:25.209Z"
   },
   {
    "duration": 27,
    "start_time": "2023-06-11T17:42:28.922Z"
   },
   {
    "duration": 27,
    "start_time": "2023-06-11T17:42:28.952Z"
   },
   {
    "duration": 220,
    "start_time": "2023-06-11T17:42:28.984Z"
   },
   {
    "duration": 0,
    "start_time": "2023-06-11T17:42:29.205Z"
   },
   {
    "duration": 0,
    "start_time": "2023-06-11T17:42:29.207Z"
   },
   {
    "duration": 0,
    "start_time": "2023-06-11T17:42:29.207Z"
   },
   {
    "duration": 0,
    "start_time": "2023-06-11T17:42:29.208Z"
   },
   {
    "duration": 55,
    "start_time": "2023-06-11T17:43:02.795Z"
   },
   {
    "duration": 116,
    "start_time": "2023-06-11T17:43:06.122Z"
   },
   {
    "duration": 129,
    "start_time": "2023-06-11T17:43:24.865Z"
   },
   {
    "duration": 92,
    "start_time": "2023-06-11T17:43:34.588Z"
   },
   {
    "duration": 88,
    "start_time": "2023-06-11T17:43:54.829Z"
   },
   {
    "duration": 98,
    "start_time": "2023-06-11T17:44:00.986Z"
   },
   {
    "duration": 161,
    "start_time": "2023-06-11T17:45:35.724Z"
   },
   {
    "duration": 7154,
    "start_time": "2023-06-11T17:45:51.793Z"
   },
   {
    "duration": 9,
    "start_time": "2023-06-11T17:46:10.018Z"
   },
   {
    "duration": 437,
    "start_time": "2023-06-11T17:46:18.424Z"
   },
   {
    "duration": 94,
    "start_time": "2023-06-11T17:47:15.690Z"
   },
   {
    "duration": 9,
    "start_time": "2023-06-11T17:47:22.042Z"
   },
   {
    "duration": 486,
    "start_time": "2023-06-11T17:47:22.734Z"
   },
   {
    "duration": 607,
    "start_time": "2023-06-11T17:47:43.680Z"
   },
   {
    "duration": 556,
    "start_time": "2023-06-11T17:48:45.957Z"
   },
   {
    "duration": 15,
    "start_time": "2023-06-11T17:52:54.686Z"
   },
   {
    "duration": 583,
    "start_time": "2023-06-11T17:52:57.022Z"
   },
   {
    "duration": 8,
    "start_time": "2023-06-11T17:55:24.885Z"
   },
   {
    "duration": 454,
    "start_time": "2023-06-11T17:55:27.585Z"
   },
   {
    "duration": 12,
    "start_time": "2023-06-11T17:55:40.570Z"
   },
   {
    "duration": 537,
    "start_time": "2023-06-11T17:55:48.950Z"
   },
   {
    "duration": 132,
    "start_time": "2023-06-11T17:59:42.358Z"
   },
   {
    "duration": 149,
    "start_time": "2023-06-11T17:59:54.511Z"
   },
   {
    "duration": 166,
    "start_time": "2023-06-11T18:00:20.689Z"
   },
   {
    "duration": 558,
    "start_time": "2023-06-11T18:00:39.642Z"
   },
   {
    "duration": 7,
    "start_time": "2023-06-11T18:05:27.667Z"
   },
   {
    "duration": 84,
    "start_time": "2023-06-11T18:16:54.871Z"
   },
   {
    "duration": 14,
    "start_time": "2023-06-11T18:17:01.044Z"
   },
   {
    "duration": 8,
    "start_time": "2023-06-11T18:21:08.860Z"
   },
   {
    "duration": 561,
    "start_time": "2023-06-11T18:21:11.663Z"
   },
   {
    "duration": 4,
    "start_time": "2023-06-11T20:19:14.586Z"
   },
   {
    "duration": 1415,
    "start_time": "2023-06-11T20:21:11.608Z"
   },
   {
    "duration": 31,
    "start_time": "2023-06-11T20:21:13.026Z"
   },
   {
    "duration": 18,
    "start_time": "2023-06-11T20:21:13.058Z"
   },
   {
    "duration": 45,
    "start_time": "2023-06-11T20:21:13.077Z"
   },
   {
    "duration": 35,
    "start_time": "2023-06-11T20:21:13.124Z"
   },
   {
    "duration": 9,
    "start_time": "2023-06-11T20:21:13.161Z"
   },
   {
    "duration": 16,
    "start_time": "2023-06-11T20:21:13.177Z"
   },
   {
    "duration": 22,
    "start_time": "2023-06-11T20:21:13.195Z"
   },
   {
    "duration": 13,
    "start_time": "2023-06-11T20:21:13.219Z"
   },
   {
    "duration": 12,
    "start_time": "2023-06-11T20:21:13.234Z"
   },
   {
    "duration": 8,
    "start_time": "2023-06-11T20:21:13.248Z"
   },
   {
    "duration": 3829,
    "start_time": "2023-06-11T20:21:13.257Z"
   },
   {
    "duration": 30,
    "start_time": "2023-06-11T20:21:17.088Z"
   },
   {
    "duration": 75,
    "start_time": "2023-06-11T20:21:17.120Z"
   },
   {
    "duration": 9,
    "start_time": "2023-06-11T20:21:17.198Z"
   },
   {
    "duration": 492,
    "start_time": "2023-06-11T20:21:17.208Z"
   },
   {
    "duration": 5,
    "start_time": "2023-06-11T20:21:17.702Z"
   },
   {
    "duration": 59,
    "start_time": "2023-06-11T20:21:17.708Z"
   },
   {
    "duration": 6,
    "start_time": "2023-06-11T20:21:17.769Z"
   },
   {
    "duration": 1309,
    "start_time": "2023-06-11T20:52:24.370Z"
   },
   {
    "duration": 30,
    "start_time": "2023-06-11T20:52:25.681Z"
   },
   {
    "duration": 16,
    "start_time": "2023-06-11T20:52:25.713Z"
   },
   {
    "duration": 11,
    "start_time": "2023-06-11T20:52:25.731Z"
   },
   {
    "duration": 20,
    "start_time": "2023-06-11T20:52:25.744Z"
   },
   {
    "duration": 12,
    "start_time": "2023-06-11T20:52:25.765Z"
   },
   {
    "duration": 20,
    "start_time": "2023-06-11T20:52:25.779Z"
   },
   {
    "duration": 4,
    "start_time": "2023-06-11T20:52:25.801Z"
   },
   {
    "duration": 7,
    "start_time": "2023-06-11T20:52:25.806Z"
   },
   {
    "duration": 33,
    "start_time": "2023-06-11T20:52:25.814Z"
   },
   {
    "duration": 10,
    "start_time": "2023-06-11T20:52:25.848Z"
   },
   {
    "duration": 3466,
    "start_time": "2023-06-11T20:52:25.859Z"
   },
   {
    "duration": 24,
    "start_time": "2023-06-11T20:52:29.327Z"
   },
   {
    "duration": 67,
    "start_time": "2023-06-11T20:52:29.354Z"
   },
   {
    "duration": 9,
    "start_time": "2023-06-11T20:52:29.423Z"
   },
   {
    "duration": 462,
    "start_time": "2023-06-11T20:52:29.434Z"
   },
   {
    "duration": 5,
    "start_time": "2023-06-11T20:52:29.898Z"
   },
   {
    "duration": 44,
    "start_time": "2023-06-11T20:52:29.904Z"
   },
   {
    "duration": 4,
    "start_time": "2023-06-11T20:52:29.950Z"
   },
   {
    "duration": 1311,
    "start_time": "2023-06-11T21:08:20.493Z"
   },
   {
    "duration": 30,
    "start_time": "2023-06-11T21:08:21.806Z"
   },
   {
    "duration": 15,
    "start_time": "2023-06-11T21:08:21.838Z"
   },
   {
    "duration": 10,
    "start_time": "2023-06-11T21:08:21.854Z"
   },
   {
    "duration": 44,
    "start_time": "2023-06-11T21:08:21.866Z"
   },
   {
    "duration": 9,
    "start_time": "2023-06-11T21:08:21.911Z"
   },
   {
    "duration": 9,
    "start_time": "2023-06-11T21:08:21.921Z"
   },
   {
    "duration": 4,
    "start_time": "2023-06-11T21:08:21.931Z"
   },
   {
    "duration": 9,
    "start_time": "2023-06-11T21:08:21.936Z"
   },
   {
    "duration": 21,
    "start_time": "2023-06-11T21:08:21.946Z"
   },
   {
    "duration": 9,
    "start_time": "2023-06-11T21:08:21.969Z"
   },
   {
    "duration": 3537,
    "start_time": "2023-06-11T21:08:21.980Z"
   },
   {
    "duration": 24,
    "start_time": "2023-06-11T21:08:25.518Z"
   },
   {
    "duration": 68,
    "start_time": "2023-06-11T21:08:25.545Z"
   },
   {
    "duration": 8,
    "start_time": "2023-06-11T21:08:25.615Z"
   },
   {
    "duration": 484,
    "start_time": "2023-06-11T21:08:25.624Z"
   },
   {
    "duration": 5,
    "start_time": "2023-06-11T21:08:26.110Z"
   },
   {
    "duration": 45,
    "start_time": "2023-06-11T21:08:26.117Z"
   },
   {
    "duration": 6,
    "start_time": "2023-06-11T21:08:26.164Z"
   },
   {
    "duration": 1430,
    "start_time": "2023-06-11T21:12:56.095Z"
   },
   {
    "duration": 31,
    "start_time": "2023-06-11T21:12:57.527Z"
   },
   {
    "duration": 19,
    "start_time": "2023-06-11T21:12:57.560Z"
   },
   {
    "duration": 12,
    "start_time": "2023-06-11T21:12:57.581Z"
   },
   {
    "duration": 29,
    "start_time": "2023-06-11T21:12:57.594Z"
   },
   {
    "duration": 9,
    "start_time": "2023-06-11T21:12:57.625Z"
   },
   {
    "duration": 8,
    "start_time": "2023-06-11T21:12:57.636Z"
   },
   {
    "duration": 26,
    "start_time": "2023-06-11T21:12:57.646Z"
   },
   {
    "duration": 4,
    "start_time": "2023-06-11T21:12:57.673Z"
   },
   {
    "duration": 10,
    "start_time": "2023-06-11T21:12:57.679Z"
   },
   {
    "duration": 4,
    "start_time": "2023-06-11T21:12:57.691Z"
   },
   {
    "duration": 3913,
    "start_time": "2023-06-11T21:12:57.696Z"
   },
   {
    "duration": 25,
    "start_time": "2023-06-11T21:13:01.610Z"
   },
   {
    "duration": 78,
    "start_time": "2023-06-11T21:13:01.637Z"
   },
   {
    "duration": 20,
    "start_time": "2023-06-11T21:13:01.717Z"
   },
   {
    "duration": 510,
    "start_time": "2023-06-11T21:13:01.738Z"
   },
   {
    "duration": 4,
    "start_time": "2023-06-11T21:13:02.251Z"
   },
   {
    "duration": 54,
    "start_time": "2023-06-11T21:13:02.256Z"
   },
   {
    "duration": 4,
    "start_time": "2023-06-11T21:13:02.312Z"
   },
   {
    "duration": 1602,
    "start_time": "2023-06-12T06:26:51.926Z"
   },
   {
    "duration": 134,
    "start_time": "2023-06-12T06:26:53.531Z"
   },
   {
    "duration": 33,
    "start_time": "2023-06-12T06:26:53.667Z"
   },
   {
    "duration": 14,
    "start_time": "2023-06-12T06:26:53.703Z"
   },
   {
    "duration": 23,
    "start_time": "2023-06-12T06:26:53.719Z"
   },
   {
    "duration": 9,
    "start_time": "2023-06-12T06:26:53.743Z"
   },
   {
    "duration": 8,
    "start_time": "2023-06-12T06:26:53.754Z"
   },
   {
    "duration": 9,
    "start_time": "2023-06-12T06:26:53.776Z"
   },
   {
    "duration": 20,
    "start_time": "2023-06-12T06:26:53.787Z"
   },
   {
    "duration": 11,
    "start_time": "2023-06-12T06:26:53.809Z"
   },
   {
    "duration": 4,
    "start_time": "2023-06-12T06:26:53.822Z"
   },
   {
    "duration": 4122,
    "start_time": "2023-06-12T06:26:53.828Z"
   },
   {
    "duration": 38,
    "start_time": "2023-06-12T06:26:57.952Z"
   },
   {
    "duration": 66,
    "start_time": "2023-06-12T06:26:57.992Z"
   },
   {
    "duration": 13,
    "start_time": "2023-06-12T06:26:58.074Z"
   },
   {
    "duration": 528,
    "start_time": "2023-06-12T06:26:58.089Z"
   },
   {
    "duration": 4,
    "start_time": "2023-06-12T06:26:58.619Z"
   },
   {
    "duration": 67,
    "start_time": "2023-06-12T06:26:58.625Z"
   },
   {
    "duration": 9,
    "start_time": "2023-06-12T06:26:58.709Z"
   },
   {
    "duration": 163,
    "start_time": "2023-06-12T06:32:05.558Z"
   },
   {
    "duration": 108,
    "start_time": "2023-06-12T06:32:25.643Z"
   },
   {
    "duration": 13,
    "start_time": "2023-06-12T06:33:02.157Z"
   },
   {
    "duration": 1295,
    "start_time": "2023-06-12T06:33:27.309Z"
   },
   {
    "duration": 33,
    "start_time": "2023-06-12T06:33:28.606Z"
   },
   {
    "duration": 23,
    "start_time": "2023-06-12T06:33:28.641Z"
   },
   {
    "duration": 25,
    "start_time": "2023-06-12T06:33:28.666Z"
   },
   {
    "duration": 48,
    "start_time": "2023-06-12T06:33:28.693Z"
   },
   {
    "duration": 8,
    "start_time": "2023-06-12T06:33:28.743Z"
   },
   {
    "duration": 9,
    "start_time": "2023-06-12T06:33:28.753Z"
   },
   {
    "duration": 4,
    "start_time": "2023-06-12T06:33:28.763Z"
   },
   {
    "duration": 32,
    "start_time": "2023-06-12T06:33:28.771Z"
   },
   {
    "duration": 11,
    "start_time": "2023-06-12T06:33:28.805Z"
   },
   {
    "duration": 8,
    "start_time": "2023-06-12T06:33:28.818Z"
   },
   {
    "duration": 3827,
    "start_time": "2023-06-12T06:33:28.827Z"
   },
   {
    "duration": 50,
    "start_time": "2023-06-12T06:33:32.656Z"
   },
   {
    "duration": 52,
    "start_time": "2023-06-12T06:33:32.709Z"
   },
   {
    "duration": 10,
    "start_time": "2023-06-12T06:33:32.774Z"
   },
   {
    "duration": 520,
    "start_time": "2023-06-12T06:33:32.785Z"
   },
   {
    "duration": 114,
    "start_time": "2023-06-12T06:33:33.308Z"
   },
   {
    "duration": 0,
    "start_time": "2023-06-12T06:33:33.424Z"
   },
   {
    "duration": 0,
    "start_time": "2023-06-12T06:33:33.425Z"
   },
   {
    "duration": 0,
    "start_time": "2023-06-12T06:33:33.427Z"
   },
   {
    "duration": 13,
    "start_time": "2023-06-12T06:34:31.015Z"
   },
   {
    "duration": 1143,
    "start_time": "2023-06-12T06:35:10.818Z"
   },
   {
    "duration": 1477,
    "start_time": "2023-06-12T06:36:46.290Z"
   },
   {
    "duration": 45,
    "start_time": "2023-06-12T06:36:47.771Z"
   },
   {
    "duration": 19,
    "start_time": "2023-06-12T06:36:47.817Z"
   },
   {
    "duration": 15,
    "start_time": "2023-06-12T06:36:47.837Z"
   },
   {
    "duration": 29,
    "start_time": "2023-06-12T06:36:47.853Z"
   },
   {
    "duration": 28,
    "start_time": "2023-06-12T06:36:47.884Z"
   },
   {
    "duration": 10,
    "start_time": "2023-06-12T06:36:47.914Z"
   },
   {
    "duration": 4,
    "start_time": "2023-06-12T06:36:47.926Z"
   },
   {
    "duration": 6,
    "start_time": "2023-06-12T06:36:47.932Z"
   },
   {
    "duration": 13,
    "start_time": "2023-06-12T06:36:47.942Z"
   },
   {
    "duration": 33,
    "start_time": "2023-06-12T06:36:47.957Z"
   },
   {
    "duration": 4555,
    "start_time": "2023-06-12T06:36:47.991Z"
   },
   {
    "duration": 38,
    "start_time": "2023-06-12T06:36:52.547Z"
   },
   {
    "duration": 55,
    "start_time": "2023-06-12T06:36:52.589Z"
   },
   {
    "duration": 9,
    "start_time": "2023-06-12T06:36:52.646Z"
   },
   {
    "duration": 533,
    "start_time": "2023-06-12T06:36:52.656Z"
   },
   {
    "duration": 1042,
    "start_time": "2023-06-12T06:36:53.191Z"
   },
   {
    "duration": 5,
    "start_time": "2023-06-12T06:36:54.235Z"
   },
   {
    "duration": 82,
    "start_time": "2023-06-12T06:36:54.242Z"
   },
   {
    "duration": 6,
    "start_time": "2023-06-12T06:36:54.326Z"
   },
   {
    "duration": 1187,
    "start_time": "2023-06-12T07:47:47.918Z"
   },
   {
    "duration": 1482,
    "start_time": "2023-06-12T07:57:46.268Z"
   },
   {
    "duration": 38,
    "start_time": "2023-06-12T07:57:47.752Z"
   },
   {
    "duration": 18,
    "start_time": "2023-06-12T07:57:47.792Z"
   },
   {
    "duration": 10,
    "start_time": "2023-06-12T07:57:47.812Z"
   },
   {
    "duration": 23,
    "start_time": "2023-06-12T07:57:47.825Z"
   },
   {
    "duration": 26,
    "start_time": "2023-06-12T07:57:47.850Z"
   },
   {
    "duration": 13,
    "start_time": "2023-06-12T07:57:47.878Z"
   },
   {
    "duration": 5,
    "start_time": "2023-06-12T07:57:47.893Z"
   },
   {
    "duration": 19,
    "start_time": "2023-06-12T07:57:47.900Z"
   },
   {
    "duration": 14,
    "start_time": "2023-06-12T07:57:47.920Z"
   },
   {
    "duration": 5,
    "start_time": "2023-06-12T07:57:47.936Z"
   },
   {
    "duration": 4124,
    "start_time": "2023-06-12T07:57:47.943Z"
   },
   {
    "duration": 30,
    "start_time": "2023-06-12T07:57:52.069Z"
   },
   {
    "duration": 81,
    "start_time": "2023-06-12T07:57:52.102Z"
   },
   {
    "duration": 1083,
    "start_time": "2023-06-12T07:57:52.185Z"
   },
   {
    "duration": 5,
    "start_time": "2023-06-12T07:57:53.270Z"
   },
   {
    "duration": 97,
    "start_time": "2023-06-12T07:57:53.276Z"
   },
   {
    "duration": 5,
    "start_time": "2023-06-12T07:57:53.374Z"
   },
   {
    "duration": 55,
    "start_time": "2023-06-12T07:59:37.985Z"
   },
   {
    "duration": 1456,
    "start_time": "2023-06-12T07:59:44.521Z"
   },
   {
    "duration": 37,
    "start_time": "2023-06-12T07:59:45.979Z"
   },
   {
    "duration": 18,
    "start_time": "2023-06-12T07:59:46.017Z"
   },
   {
    "duration": 12,
    "start_time": "2023-06-12T07:59:46.037Z"
   },
   {
    "duration": 36,
    "start_time": "2023-06-12T07:59:46.051Z"
   },
   {
    "duration": 17,
    "start_time": "2023-06-12T07:59:46.088Z"
   },
   {
    "duration": 18,
    "start_time": "2023-06-12T07:59:46.106Z"
   },
   {
    "duration": 13,
    "start_time": "2023-06-12T07:59:46.126Z"
   },
   {
    "duration": 13,
    "start_time": "2023-06-12T07:59:46.141Z"
   },
   {
    "duration": 19,
    "start_time": "2023-06-12T07:59:46.155Z"
   },
   {
    "duration": 27,
    "start_time": "2023-06-12T07:59:46.176Z"
   },
   {
    "duration": 4320,
    "start_time": "2023-06-12T07:59:46.204Z"
   },
   {
    "duration": 27,
    "start_time": "2023-06-12T07:59:50.525Z"
   },
   {
    "duration": 76,
    "start_time": "2023-06-12T07:59:50.555Z"
   },
   {
    "duration": 1031,
    "start_time": "2023-06-12T07:59:50.633Z"
   },
   {
    "duration": 6,
    "start_time": "2023-06-12T07:59:51.666Z"
   },
   {
    "duration": 89,
    "start_time": "2023-06-12T07:59:51.673Z"
   },
   {
    "duration": 5,
    "start_time": "2023-06-12T07:59:51.764Z"
   }
  ],
  "kernelspec": {
   "display_name": "Python 3 (ipykernel)",
   "language": "python",
   "name": "python3"
  },
  "language_info": {
   "codemirror_mode": {
    "name": "ipython",
    "version": 3
   },
   "file_extension": ".py",
   "mimetype": "text/x-python",
   "name": "python",
   "nbconvert_exporter": "python",
   "pygments_lexer": "ipython3",
   "version": "3.9.16"
  },
  "toc": {
   "base_numbering": 1,
   "nav_menu": {},
   "number_sections": true,
   "sideBar": true,
   "skip_h1_title": true,
   "title_cell": "Table of Contents",
   "title_sidebar": "Contents",
   "toc_cell": false,
   "toc_position": {},
   "toc_section_display": true,
   "toc_window_display": false
  }
 },
 "nbformat": 4,
 "nbformat_minor": 2
}
