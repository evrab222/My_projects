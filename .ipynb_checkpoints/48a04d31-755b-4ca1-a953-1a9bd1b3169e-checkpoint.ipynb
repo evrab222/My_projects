{
 "cells": [
  {
   "cell_type": "markdown",
   "metadata": {},
   "source": [
    "# Сборный проект № 1. Анализ компьютерного интернет-магазина «Стримчик»"
   ]
  },
  {
   "cell_type": "markdown",
   "metadata": {},
   "source": [
    "Анализируем интернет-магазине «Стримчик», который продаёт по всему миру компьютерные игры.В нашем распоряжении некоторые данные,нужно взглянуть на доступную информацию,предобработать данные,выбрать актуальную информацию,провести анализ и сравнительную статистику,так же проверить гипотезы для построения прогноза на 2017 год."
   ]
  },
  {
   "cell_type": "markdown",
   "metadata": {},
   "source": [
    "### Шаг. Откройте файл с данными и изучите общую информацию"
   ]
  },
  {
   "cell_type": "code",
   "execution_count": 1,
   "metadata": {},
   "outputs": [],
   "source": [
    "import pandas as pd\n",
    "\n",
    "import numpy as np\n",
    "\n",
    "import matplotlib.pyplot as plt\n",
    "\n",
    "import seaborn as sns\n",
    "\n",
    "from scipy import stats as st"
   ]
  },
  {
   "cell_type": "code",
   "execution_count": 4,
   "metadata": {},
   "outputs": [],
   "source": [
    "try:\n",
    "    df = pd.read_csv('/datasets/games.csv', sep=',')\n",
    "except:\n",
    "    df = pd.read_csv('https://code.s3.yandex.net/datasets/games.csv', sep=',')"
   ]
  },
  {
   "cell_type": "code",
   "execution_count": 5,
   "metadata": {},
   "outputs": [
    {
     "data": {
      "text/html": [
       "<div>\n",
       "<style scoped>\n",
       "    .dataframe tbody tr th:only-of-type {\n",
       "        vertical-align: middle;\n",
       "    }\n",
       "\n",
       "    .dataframe tbody tr th {\n",
       "        vertical-align: top;\n",
       "    }\n",
       "\n",
       "    .dataframe thead th {\n",
       "        text-align: right;\n",
       "    }\n",
       "</style>\n",
       "<table border=\"1\" class=\"dataframe\">\n",
       "  <thead>\n",
       "    <tr style=\"text-align: right;\">\n",
       "      <th></th>\n",
       "      <th>Name</th>\n",
       "      <th>Platform</th>\n",
       "      <th>Year_of_Release</th>\n",
       "      <th>Genre</th>\n",
       "      <th>NA_sales</th>\n",
       "      <th>EU_sales</th>\n",
       "      <th>JP_sales</th>\n",
       "      <th>Other_sales</th>\n",
       "      <th>Critic_Score</th>\n",
       "      <th>User_Score</th>\n",
       "      <th>Rating</th>\n",
       "    </tr>\n",
       "  </thead>\n",
       "  <tbody>\n",
       "    <tr>\n",
       "      <th>0</th>\n",
       "      <td>Wii Sports</td>\n",
       "      <td>Wii</td>\n",
       "      <td>2006.0</td>\n",
       "      <td>Sports</td>\n",
       "      <td>41.36</td>\n",
       "      <td>28.96</td>\n",
       "      <td>3.77</td>\n",
       "      <td>8.45</td>\n",
       "      <td>76.0</td>\n",
       "      <td>8</td>\n",
       "      <td>E</td>\n",
       "    </tr>\n",
       "    <tr>\n",
       "      <th>1</th>\n",
       "      <td>Super Mario Bros.</td>\n",
       "      <td>NES</td>\n",
       "      <td>1985.0</td>\n",
       "      <td>Platform</td>\n",
       "      <td>29.08</td>\n",
       "      <td>3.58</td>\n",
       "      <td>6.81</td>\n",
       "      <td>0.77</td>\n",
       "      <td>NaN</td>\n",
       "      <td>NaN</td>\n",
       "      <td>NaN</td>\n",
       "    </tr>\n",
       "    <tr>\n",
       "      <th>2</th>\n",
       "      <td>Mario Kart Wii</td>\n",
       "      <td>Wii</td>\n",
       "      <td>2008.0</td>\n",
       "      <td>Racing</td>\n",
       "      <td>15.68</td>\n",
       "      <td>12.76</td>\n",
       "      <td>3.79</td>\n",
       "      <td>3.29</td>\n",
       "      <td>82.0</td>\n",
       "      <td>8.3</td>\n",
       "      <td>E</td>\n",
       "    </tr>\n",
       "    <tr>\n",
       "      <th>3</th>\n",
       "      <td>Wii Sports Resort</td>\n",
       "      <td>Wii</td>\n",
       "      <td>2009.0</td>\n",
       "      <td>Sports</td>\n",
       "      <td>15.61</td>\n",
       "      <td>10.93</td>\n",
       "      <td>3.28</td>\n",
       "      <td>2.95</td>\n",
       "      <td>80.0</td>\n",
       "      <td>8</td>\n",
       "      <td>E</td>\n",
       "    </tr>\n",
       "    <tr>\n",
       "      <th>4</th>\n",
       "      <td>Pokemon Red/Pokemon Blue</td>\n",
       "      <td>GB</td>\n",
       "      <td>1996.0</td>\n",
       "      <td>Role-Playing</td>\n",
       "      <td>11.27</td>\n",
       "      <td>8.89</td>\n",
       "      <td>10.22</td>\n",
       "      <td>1.00</td>\n",
       "      <td>NaN</td>\n",
       "      <td>NaN</td>\n",
       "      <td>NaN</td>\n",
       "    </tr>\n",
       "    <tr>\n",
       "      <th>5</th>\n",
       "      <td>Tetris</td>\n",
       "      <td>GB</td>\n",
       "      <td>1989.0</td>\n",
       "      <td>Puzzle</td>\n",
       "      <td>23.20</td>\n",
       "      <td>2.26</td>\n",
       "      <td>4.22</td>\n",
       "      <td>0.58</td>\n",
       "      <td>NaN</td>\n",
       "      <td>NaN</td>\n",
       "      <td>NaN</td>\n",
       "    </tr>\n",
       "    <tr>\n",
       "      <th>6</th>\n",
       "      <td>New Super Mario Bros.</td>\n",
       "      <td>DS</td>\n",
       "      <td>2006.0</td>\n",
       "      <td>Platform</td>\n",
       "      <td>11.28</td>\n",
       "      <td>9.14</td>\n",
       "      <td>6.50</td>\n",
       "      <td>2.88</td>\n",
       "      <td>89.0</td>\n",
       "      <td>8.5</td>\n",
       "      <td>E</td>\n",
       "    </tr>\n",
       "    <tr>\n",
       "      <th>7</th>\n",
       "      <td>Wii Play</td>\n",
       "      <td>Wii</td>\n",
       "      <td>2006.0</td>\n",
       "      <td>Misc</td>\n",
       "      <td>13.96</td>\n",
       "      <td>9.18</td>\n",
       "      <td>2.93</td>\n",
       "      <td>2.84</td>\n",
       "      <td>58.0</td>\n",
       "      <td>6.6</td>\n",
       "      <td>E</td>\n",
       "    </tr>\n",
       "    <tr>\n",
       "      <th>8</th>\n",
       "      <td>New Super Mario Bros. Wii</td>\n",
       "      <td>Wii</td>\n",
       "      <td>2009.0</td>\n",
       "      <td>Platform</td>\n",
       "      <td>14.44</td>\n",
       "      <td>6.94</td>\n",
       "      <td>4.70</td>\n",
       "      <td>2.24</td>\n",
       "      <td>87.0</td>\n",
       "      <td>8.4</td>\n",
       "      <td>E</td>\n",
       "    </tr>\n",
       "    <tr>\n",
       "      <th>9</th>\n",
       "      <td>Duck Hunt</td>\n",
       "      <td>NES</td>\n",
       "      <td>1984.0</td>\n",
       "      <td>Shooter</td>\n",
       "      <td>26.93</td>\n",
       "      <td>0.63</td>\n",
       "      <td>0.28</td>\n",
       "      <td>0.47</td>\n",
       "      <td>NaN</td>\n",
       "      <td>NaN</td>\n",
       "      <td>NaN</td>\n",
       "    </tr>\n",
       "    <tr>\n",
       "      <th>10</th>\n",
       "      <td>Nintendogs</td>\n",
       "      <td>DS</td>\n",
       "      <td>2005.0</td>\n",
       "      <td>Simulation</td>\n",
       "      <td>9.05</td>\n",
       "      <td>10.95</td>\n",
       "      <td>1.93</td>\n",
       "      <td>2.74</td>\n",
       "      <td>NaN</td>\n",
       "      <td>NaN</td>\n",
       "      <td>NaN</td>\n",
       "    </tr>\n",
       "    <tr>\n",
       "      <th>11</th>\n",
       "      <td>Mario Kart DS</td>\n",
       "      <td>DS</td>\n",
       "      <td>2005.0</td>\n",
       "      <td>Racing</td>\n",
       "      <td>9.71</td>\n",
       "      <td>7.47</td>\n",
       "      <td>4.13</td>\n",
       "      <td>1.90</td>\n",
       "      <td>91.0</td>\n",
       "      <td>8.6</td>\n",
       "      <td>E</td>\n",
       "    </tr>\n",
       "    <tr>\n",
       "      <th>12</th>\n",
       "      <td>Pokemon Gold/Pokemon Silver</td>\n",
       "      <td>GB</td>\n",
       "      <td>1999.0</td>\n",
       "      <td>Role-Playing</td>\n",
       "      <td>9.00</td>\n",
       "      <td>6.18</td>\n",
       "      <td>7.20</td>\n",
       "      <td>0.71</td>\n",
       "      <td>NaN</td>\n",
       "      <td>NaN</td>\n",
       "      <td>NaN</td>\n",
       "    </tr>\n",
       "    <tr>\n",
       "      <th>13</th>\n",
       "      <td>Wii Fit</td>\n",
       "      <td>Wii</td>\n",
       "      <td>2007.0</td>\n",
       "      <td>Sports</td>\n",
       "      <td>8.92</td>\n",
       "      <td>8.03</td>\n",
       "      <td>3.60</td>\n",
       "      <td>2.15</td>\n",
       "      <td>80.0</td>\n",
       "      <td>7.7</td>\n",
       "      <td>E</td>\n",
       "    </tr>\n",
       "    <tr>\n",
       "      <th>14</th>\n",
       "      <td>Kinect Adventures!</td>\n",
       "      <td>X360</td>\n",
       "      <td>2010.0</td>\n",
       "      <td>Misc</td>\n",
       "      <td>15.00</td>\n",
       "      <td>4.89</td>\n",
       "      <td>0.24</td>\n",
       "      <td>1.69</td>\n",
       "      <td>61.0</td>\n",
       "      <td>6.3</td>\n",
       "      <td>E</td>\n",
       "    </tr>\n",
       "    <tr>\n",
       "      <th>15</th>\n",
       "      <td>Wii Fit Plus</td>\n",
       "      <td>Wii</td>\n",
       "      <td>2009.0</td>\n",
       "      <td>Sports</td>\n",
       "      <td>9.01</td>\n",
       "      <td>8.49</td>\n",
       "      <td>2.53</td>\n",
       "      <td>1.77</td>\n",
       "      <td>80.0</td>\n",
       "      <td>7.4</td>\n",
       "      <td>E</td>\n",
       "    </tr>\n",
       "    <tr>\n",
       "      <th>16</th>\n",
       "      <td>Grand Theft Auto V</td>\n",
       "      <td>PS3</td>\n",
       "      <td>2013.0</td>\n",
       "      <td>Action</td>\n",
       "      <td>7.02</td>\n",
       "      <td>9.09</td>\n",
       "      <td>0.98</td>\n",
       "      <td>3.96</td>\n",
       "      <td>97.0</td>\n",
       "      <td>8.2</td>\n",
       "      <td>M</td>\n",
       "    </tr>\n",
       "    <tr>\n",
       "      <th>17</th>\n",
       "      <td>Grand Theft Auto: San Andreas</td>\n",
       "      <td>PS2</td>\n",
       "      <td>2004.0</td>\n",
       "      <td>Action</td>\n",
       "      <td>9.43</td>\n",
       "      <td>0.40</td>\n",
       "      <td>0.41</td>\n",
       "      <td>10.57</td>\n",
       "      <td>95.0</td>\n",
       "      <td>9</td>\n",
       "      <td>M</td>\n",
       "    </tr>\n",
       "    <tr>\n",
       "      <th>18</th>\n",
       "      <td>Super Mario World</td>\n",
       "      <td>SNES</td>\n",
       "      <td>1990.0</td>\n",
       "      <td>Platform</td>\n",
       "      <td>12.78</td>\n",
       "      <td>3.75</td>\n",
       "      <td>3.54</td>\n",
       "      <td>0.55</td>\n",
       "      <td>NaN</td>\n",
       "      <td>NaN</td>\n",
       "      <td>NaN</td>\n",
       "    </tr>\n",
       "    <tr>\n",
       "      <th>19</th>\n",
       "      <td>Brain Age: Train Your Brain in Minutes a Day</td>\n",
       "      <td>DS</td>\n",
       "      <td>2005.0</td>\n",
       "      <td>Misc</td>\n",
       "      <td>4.74</td>\n",
       "      <td>9.20</td>\n",
       "      <td>4.16</td>\n",
       "      <td>2.04</td>\n",
       "      <td>77.0</td>\n",
       "      <td>7.9</td>\n",
       "      <td>E</td>\n",
       "    </tr>\n",
       "  </tbody>\n",
       "</table>\n",
       "</div>"
      ],
      "text/plain": [
       "                                            Name Platform  Year_of_Release  \\\n",
       "0                                     Wii Sports      Wii           2006.0   \n",
       "1                              Super Mario Bros.      NES           1985.0   \n",
       "2                                 Mario Kart Wii      Wii           2008.0   \n",
       "3                              Wii Sports Resort      Wii           2009.0   \n",
       "4                       Pokemon Red/Pokemon Blue       GB           1996.0   \n",
       "5                                         Tetris       GB           1989.0   \n",
       "6                          New Super Mario Bros.       DS           2006.0   \n",
       "7                                       Wii Play      Wii           2006.0   \n",
       "8                      New Super Mario Bros. Wii      Wii           2009.0   \n",
       "9                                      Duck Hunt      NES           1984.0   \n",
       "10                                    Nintendogs       DS           2005.0   \n",
       "11                                 Mario Kart DS       DS           2005.0   \n",
       "12                   Pokemon Gold/Pokemon Silver       GB           1999.0   \n",
       "13                                       Wii Fit      Wii           2007.0   \n",
       "14                            Kinect Adventures!     X360           2010.0   \n",
       "15                                  Wii Fit Plus      Wii           2009.0   \n",
       "16                            Grand Theft Auto V      PS3           2013.0   \n",
       "17                 Grand Theft Auto: San Andreas      PS2           2004.0   \n",
       "18                             Super Mario World     SNES           1990.0   \n",
       "19  Brain Age: Train Your Brain in Minutes a Day       DS           2005.0   \n",
       "\n",
       "           Genre  NA_sales  EU_sales  JP_sales  Other_sales  Critic_Score  \\\n",
       "0         Sports     41.36     28.96      3.77         8.45          76.0   \n",
       "1       Platform     29.08      3.58      6.81         0.77           NaN   \n",
       "2         Racing     15.68     12.76      3.79         3.29          82.0   \n",
       "3         Sports     15.61     10.93      3.28         2.95          80.0   \n",
       "4   Role-Playing     11.27      8.89     10.22         1.00           NaN   \n",
       "5         Puzzle     23.20      2.26      4.22         0.58           NaN   \n",
       "6       Platform     11.28      9.14      6.50         2.88          89.0   \n",
       "7           Misc     13.96      9.18      2.93         2.84          58.0   \n",
       "8       Platform     14.44      6.94      4.70         2.24          87.0   \n",
       "9        Shooter     26.93      0.63      0.28         0.47           NaN   \n",
       "10    Simulation      9.05     10.95      1.93         2.74           NaN   \n",
       "11        Racing      9.71      7.47      4.13         1.90          91.0   \n",
       "12  Role-Playing      9.00      6.18      7.20         0.71           NaN   \n",
       "13        Sports      8.92      8.03      3.60         2.15          80.0   \n",
       "14          Misc     15.00      4.89      0.24         1.69          61.0   \n",
       "15        Sports      9.01      8.49      2.53         1.77          80.0   \n",
       "16        Action      7.02      9.09      0.98         3.96          97.0   \n",
       "17        Action      9.43      0.40      0.41        10.57          95.0   \n",
       "18      Platform     12.78      3.75      3.54         0.55           NaN   \n",
       "19          Misc      4.74      9.20      4.16         2.04          77.0   \n",
       "\n",
       "   User_Score Rating  \n",
       "0           8      E  \n",
       "1         NaN    NaN  \n",
       "2         8.3      E  \n",
       "3           8      E  \n",
       "4         NaN    NaN  \n",
       "5         NaN    NaN  \n",
       "6         8.5      E  \n",
       "7         6.6      E  \n",
       "8         8.4      E  \n",
       "9         NaN    NaN  \n",
       "10        NaN    NaN  \n",
       "11        8.6      E  \n",
       "12        NaN    NaN  \n",
       "13        7.7      E  \n",
       "14        6.3      E  \n",
       "15        7.4      E  \n",
       "16        8.2      M  \n",
       "17          9      M  \n",
       "18        NaN    NaN  \n",
       "19        7.9      E  "
      ]
     },
     "execution_count": 5,
     "metadata": {},
     "output_type": "execute_result"
    }
   ],
   "source": [
    "df.head(20)"
   ]
  },
  {
   "cell_type": "code",
   "execution_count": 4,
   "metadata": {},
   "outputs": [
    {
     "name": "stdout",
     "output_type": "stream",
     "text": [
      "<class 'pandas.core.frame.DataFrame'>\n",
      "RangeIndex: 16715 entries, 0 to 16714\n",
      "Data columns (total 11 columns):\n",
      " #   Column           Non-Null Count  Dtype  \n",
      "---  ------           --------------  -----  \n",
      " 0   Name             16713 non-null  object \n",
      " 1   Platform         16715 non-null  object \n",
      " 2   Year_of_Release  16446 non-null  float64\n",
      " 3   Genre            16713 non-null  object \n",
      " 4   NA_sales         16715 non-null  float64\n",
      " 5   EU_sales         16715 non-null  float64\n",
      " 6   JP_sales         16715 non-null  float64\n",
      " 7   Other_sales      16715 non-null  float64\n",
      " 8   Critic_Score     8137 non-null   float64\n",
      " 9   User_Score       10014 non-null  object \n",
      " 10  Rating           9949 non-null   object \n",
      "dtypes: float64(6), object(5)\n",
      "memory usage: 1.4+ MB\n"
     ]
    }
   ],
   "source": [
    "df.info()"
   ]
  },
  {
   "cell_type": "code",
   "execution_count": 5,
   "metadata": {},
   "outputs": [
    {
     "data": {
      "text/html": [
       "<div>\n",
       "<style scoped>\n",
       "    .dataframe tbody tr th:only-of-type {\n",
       "        vertical-align: middle;\n",
       "    }\n",
       "\n",
       "    .dataframe tbody tr th {\n",
       "        vertical-align: top;\n",
       "    }\n",
       "\n",
       "    .dataframe thead th {\n",
       "        text-align: right;\n",
       "    }\n",
       "</style>\n",
       "<table border=\"1\" class=\"dataframe\">\n",
       "  <thead>\n",
       "    <tr style=\"text-align: right;\">\n",
       "      <th></th>\n",
       "      <th>Year_of_Release</th>\n",
       "      <th>NA_sales</th>\n",
       "      <th>EU_sales</th>\n",
       "      <th>JP_sales</th>\n",
       "      <th>Other_sales</th>\n",
       "      <th>Critic_Score</th>\n",
       "    </tr>\n",
       "  </thead>\n",
       "  <tbody>\n",
       "    <tr>\n",
       "      <th>count</th>\n",
       "      <td>16446.000000</td>\n",
       "      <td>16715.000000</td>\n",
       "      <td>16715.000000</td>\n",
       "      <td>16715.000000</td>\n",
       "      <td>16715.000000</td>\n",
       "      <td>8137.000000</td>\n",
       "    </tr>\n",
       "    <tr>\n",
       "      <th>mean</th>\n",
       "      <td>2006.484616</td>\n",
       "      <td>0.263377</td>\n",
       "      <td>0.145060</td>\n",
       "      <td>0.077617</td>\n",
       "      <td>0.047342</td>\n",
       "      <td>68.967679</td>\n",
       "    </tr>\n",
       "    <tr>\n",
       "      <th>std</th>\n",
       "      <td>5.877050</td>\n",
       "      <td>0.813604</td>\n",
       "      <td>0.503339</td>\n",
       "      <td>0.308853</td>\n",
       "      <td>0.186731</td>\n",
       "      <td>13.938165</td>\n",
       "    </tr>\n",
       "    <tr>\n",
       "      <th>min</th>\n",
       "      <td>1980.000000</td>\n",
       "      <td>0.000000</td>\n",
       "      <td>0.000000</td>\n",
       "      <td>0.000000</td>\n",
       "      <td>0.000000</td>\n",
       "      <td>13.000000</td>\n",
       "    </tr>\n",
       "    <tr>\n",
       "      <th>25%</th>\n",
       "      <td>2003.000000</td>\n",
       "      <td>0.000000</td>\n",
       "      <td>0.000000</td>\n",
       "      <td>0.000000</td>\n",
       "      <td>0.000000</td>\n",
       "      <td>60.000000</td>\n",
       "    </tr>\n",
       "    <tr>\n",
       "      <th>50%</th>\n",
       "      <td>2007.000000</td>\n",
       "      <td>0.080000</td>\n",
       "      <td>0.020000</td>\n",
       "      <td>0.000000</td>\n",
       "      <td>0.010000</td>\n",
       "      <td>71.000000</td>\n",
       "    </tr>\n",
       "    <tr>\n",
       "      <th>75%</th>\n",
       "      <td>2010.000000</td>\n",
       "      <td>0.240000</td>\n",
       "      <td>0.110000</td>\n",
       "      <td>0.040000</td>\n",
       "      <td>0.030000</td>\n",
       "      <td>79.000000</td>\n",
       "    </tr>\n",
       "    <tr>\n",
       "      <th>max</th>\n",
       "      <td>2016.000000</td>\n",
       "      <td>41.360000</td>\n",
       "      <td>28.960000</td>\n",
       "      <td>10.220000</td>\n",
       "      <td>10.570000</td>\n",
       "      <td>98.000000</td>\n",
       "    </tr>\n",
       "  </tbody>\n",
       "</table>\n",
       "</div>"
      ],
      "text/plain": [
       "       Year_of_Release      NA_sales      EU_sales      JP_sales  \\\n",
       "count     16446.000000  16715.000000  16715.000000  16715.000000   \n",
       "mean       2006.484616      0.263377      0.145060      0.077617   \n",
       "std           5.877050      0.813604      0.503339      0.308853   \n",
       "min        1980.000000      0.000000      0.000000      0.000000   \n",
       "25%        2003.000000      0.000000      0.000000      0.000000   \n",
       "50%        2007.000000      0.080000      0.020000      0.000000   \n",
       "75%        2010.000000      0.240000      0.110000      0.040000   \n",
       "max        2016.000000     41.360000     28.960000     10.220000   \n",
       "\n",
       "        Other_sales  Critic_Score  \n",
       "count  16715.000000   8137.000000  \n",
       "mean       0.047342     68.967679  \n",
       "std        0.186731     13.938165  \n",
       "min        0.000000     13.000000  \n",
       "25%        0.000000     60.000000  \n",
       "50%        0.010000     71.000000  \n",
       "75%        0.030000     79.000000  \n",
       "max       10.570000     98.000000  "
      ]
     },
     "execution_count": 5,
     "metadata": {},
     "output_type": "execute_result"
    }
   ],
   "source": [
    "df.describe()"
   ]
  },
  {
   "cell_type": "code",
   "execution_count": 6,
   "metadata": {
    "scrolled": true
   },
   "outputs": [
    {
     "data": {
      "image/png": "[encoded data removed]",
      "text/plain": [
       "<Figure size 1080x1440 with 6 Axes>"
      ]
     },
     "metadata": {
      "needs_background": "light"
     },
     "output_type": "display_data"
    }
   ],
   "source": [
    "df.hist(figsize=(15, 20));"
   ]
  },
  {
   "cell_type": "markdown",
   "metadata": {},
   "source": [
    "**Вывод:** Подключил необходимые библиотеки, скачал датасет и изучил общую информацию по таблице."
   ]
  },
  {
   "cell_type": "markdown",
   "metadata": {},
   "source": [
    "### Шаг. Подготовьте данные"
   ]
  },
  {
   "cell_type": "markdown",
   "metadata": {},
   "source": [
    "#### Замена названия столбцов (приведем к нижнему регистру)"
   ]
  },
  {
   "cell_type": "code",
   "execution_count": 7,
   "metadata": {},
   "outputs": [],
   "source": [
    "df.columns = df.columns.str.lower()"
   ]
  },
  {
   "cell_type": "markdown",
   "metadata": {},
   "source": [
    "Перевел название столбцов в нижний регистр."
   ]
  },
  {
   "cell_type": "code",
   "execution_count": 8,
   "metadata": {
    "scrolled": false
   },
   "outputs": [
    {
     "data": {
      "text/plain": [
       "name                  2\n",
       "platform              0\n",
       "year_of_release     269\n",
       "genre                 2\n",
       "na_sales              0\n",
       "eu_sales              0\n",
       "jp_sales              0\n",
       "other_sales           0\n",
       "critic_score       8578\n",
       "user_score         6701\n",
       "rating             6766\n",
       "dtype: int64"
      ]
     },
     "execution_count": 8,
     "metadata": {},
     "output_type": "execute_result"
    }
   ],
   "source": [
    "df.isna().sum()"
   ]
  },
  {
   "cell_type": "code",
   "execution_count": 9,
   "metadata": {
    "scrolled": false
   },
   "outputs": [
    {
     "data": {
      "text/html": [
       "<div>\n",
       "<style scoped>\n",
       "    .dataframe tbody tr th:only-of-type {\n",
       "        vertical-align: middle;\n",
       "    }\n",
       "\n",
       "    .dataframe tbody tr th {\n",
       "        vertical-align: top;\n",
       "    }\n",
       "\n",
       "    .dataframe thead th {\n",
       "        text-align: right;\n",
       "    }\n",
       "</style>\n",
       "<table border=\"1\" class=\"dataframe\">\n",
       "  <thead>\n",
       "    <tr style=\"text-align: right;\">\n",
       "      <th></th>\n",
       "      <th>name</th>\n",
       "      <th>platform</th>\n",
       "      <th>year_of_release</th>\n",
       "      <th>genre</th>\n",
       "      <th>na_sales</th>\n",
       "      <th>eu_sales</th>\n",
       "      <th>jp_sales</th>\n",
       "      <th>other_sales</th>\n",
       "      <th>critic_score</th>\n",
       "      <th>user_score</th>\n",
       "      <th>rating</th>\n",
       "    </tr>\n",
       "  </thead>\n",
       "  <tbody>\n",
       "    <tr>\n",
       "      <th>659</th>\n",
       "      <td>NaN</td>\n",
       "      <td>GEN</td>\n",
       "      <td>1993.0</td>\n",
       "      <td>NaN</td>\n",
       "      <td>1.78</td>\n",
       "      <td>0.53</td>\n",
       "      <td>0.00</td>\n",
       "      <td>0.08</td>\n",
       "      <td>NaN</td>\n",
       "      <td>NaN</td>\n",
       "      <td>NaN</td>\n",
       "    </tr>\n",
       "    <tr>\n",
       "      <th>14244</th>\n",
       "      <td>NaN</td>\n",
       "      <td>GEN</td>\n",
       "      <td>1993.0</td>\n",
       "      <td>NaN</td>\n",
       "      <td>0.00</td>\n",
       "      <td>0.00</td>\n",
       "      <td>0.03</td>\n",
       "      <td>0.00</td>\n",
       "      <td>NaN</td>\n",
       "      <td>NaN</td>\n",
       "      <td>NaN</td>\n",
       "    </tr>\n",
       "  </tbody>\n",
       "</table>\n",
       "</div>"
      ],
      "text/plain": [
       "      name platform  year_of_release genre  na_sales  eu_sales  jp_sales  \\\n",
       "659    NaN      GEN           1993.0   NaN      1.78      0.53      0.00   \n",
       "14244  NaN      GEN           1993.0   NaN      0.00      0.00      0.03   \n",
       "\n",
       "       other_sales  critic_score user_score rating  \n",
       "659           0.08           NaN        NaN    NaN  \n",
       "14244         0.00           NaN        NaN    NaN  "
      ]
     },
     "execution_count": 9,
     "metadata": {},
     "output_type": "execute_result"
    }
   ],
   "source": [
    "df.query('genre.isnull()')"
   ]
  },
  {
   "cell_type": "code",
   "execution_count": 10,
   "metadata": {},
   "outputs": [],
   "source": [
    "df.dropna(subset=['name'], inplace=True)"
   ]
  },
  {
   "cell_type": "markdown",
   "metadata": {},
   "source": [
    "Посмотрел на пропуски в столбцах,в столбце 'name' их нечем заменить,удалим эти строки(так же удалятся строки со столбцом 'genre')."
   ]
  },
  {
   "cell_type": "code",
   "execution_count": 11,
   "metadata": {
    "scrolled": true
   },
   "outputs": [],
   "source": [
    "release = df.query('year_of_release.notnull()')"
   ]
  },
  {
   "cell_type": "code",
   "execution_count": 12,
   "metadata": {},
   "outputs": [],
   "source": [
    "def function_release(row, **kwargs):\n",
    "    \n",
    "    rows = release[release['name'] == row['name']]\n",
    "    \n",
    "    if len(rows) > 0:\n",
    "        \n",
    "        return rows.iloc[0]['year_of_release']\n",
    "    \n",
    "    return row['year_of_release']\n",
    "\n",
    "df['year_of_release'] = df.apply(function_release, axis=1)"
   ]
  },
  {
   "cell_type": "code",
   "execution_count": 13,
   "metadata": {
    "scrolled": true
   },
   "outputs": [
    {
     "data": {
      "text/html": [
       "<div>\n",
       "<style scoped>\n",
       "    .dataframe tbody tr th:only-of-type {\n",
       "        vertical-align: middle;\n",
       "    }\n",
       "\n",
       "    .dataframe tbody tr th {\n",
       "        vertical-align: top;\n",
       "    }\n",
       "\n",
       "    .dataframe thead th {\n",
       "        text-align: right;\n",
       "    }\n",
       "</style>\n",
       "<table border=\"1\" class=\"dataframe\">\n",
       "  <thead>\n",
       "    <tr style=\"text-align: right;\">\n",
       "      <th></th>\n",
       "      <th>name</th>\n",
       "      <th>platform</th>\n",
       "      <th>year_of_release</th>\n",
       "      <th>genre</th>\n",
       "      <th>na_sales</th>\n",
       "      <th>eu_sales</th>\n",
       "      <th>jp_sales</th>\n",
       "      <th>other_sales</th>\n",
       "      <th>critic_score</th>\n",
       "      <th>user_score</th>\n",
       "      <th>rating</th>\n",
       "    </tr>\n",
       "  </thead>\n",
       "  <tbody>\n",
       "    <tr>\n",
       "      <th>475</th>\n",
       "      <td>wwe Smackdown vs. Raw 2006</td>\n",
       "      <td>PS2</td>\n",
       "      <td>NaN</td>\n",
       "      <td>Fighting</td>\n",
       "      <td>1.57</td>\n",
       "      <td>1.02</td>\n",
       "      <td>0.00</td>\n",
       "      <td>0.41</td>\n",
       "      <td>NaN</td>\n",
       "      <td>NaN</td>\n",
       "      <td>NaN</td>\n",
       "    </tr>\n",
       "    <tr>\n",
       "      <th>627</th>\n",
       "      <td>Rock Band</td>\n",
       "      <td>X360</td>\n",
       "      <td>NaN</td>\n",
       "      <td>Misc</td>\n",
       "      <td>1.93</td>\n",
       "      <td>0.33</td>\n",
       "      <td>0.00</td>\n",
       "      <td>0.21</td>\n",
       "      <td>92.0</td>\n",
       "      <td>8.2</td>\n",
       "      <td>T</td>\n",
       "    </tr>\n",
       "    <tr>\n",
       "      <th>657</th>\n",
       "      <td>Frogger's Adventures: Temple of the Frog</td>\n",
       "      <td>GBA</td>\n",
       "      <td>NaN</td>\n",
       "      <td>Adventure</td>\n",
       "      <td>2.15</td>\n",
       "      <td>0.18</td>\n",
       "      <td>0.00</td>\n",
       "      <td>0.07</td>\n",
       "      <td>73.0</td>\n",
       "      <td>tbd</td>\n",
       "      <td>E</td>\n",
       "    </tr>\n",
       "    <tr>\n",
       "      <th>805</th>\n",
       "      <td>Rock Band</td>\n",
       "      <td>Wii</td>\n",
       "      <td>NaN</td>\n",
       "      <td>Misc</td>\n",
       "      <td>1.33</td>\n",
       "      <td>0.56</td>\n",
       "      <td>0.00</td>\n",
       "      <td>0.20</td>\n",
       "      <td>80.0</td>\n",
       "      <td>6.3</td>\n",
       "      <td>T</td>\n",
       "    </tr>\n",
       "    <tr>\n",
       "      <th>1142</th>\n",
       "      <td>Rock Band</td>\n",
       "      <td>PS3</td>\n",
       "      <td>NaN</td>\n",
       "      <td>Misc</td>\n",
       "      <td>0.99</td>\n",
       "      <td>0.41</td>\n",
       "      <td>0.00</td>\n",
       "      <td>0.22</td>\n",
       "      <td>92.0</td>\n",
       "      <td>8.4</td>\n",
       "      <td>T</td>\n",
       "    </tr>\n",
       "    <tr>\n",
       "      <th>...</th>\n",
       "      <td>...</td>\n",
       "      <td>...</td>\n",
       "      <td>...</td>\n",
       "      <td>...</td>\n",
       "      <td>...</td>\n",
       "      <td>...</td>\n",
       "      <td>...</td>\n",
       "      <td>...</td>\n",
       "      <td>...</td>\n",
       "      <td>...</td>\n",
       "      <td>...</td>\n",
       "    </tr>\n",
       "    <tr>\n",
       "      <th>16277</th>\n",
       "      <td>Homeworld Remastered Collection</td>\n",
       "      <td>PC</td>\n",
       "      <td>NaN</td>\n",
       "      <td>Strategy</td>\n",
       "      <td>0.00</td>\n",
       "      <td>0.01</td>\n",
       "      <td>0.00</td>\n",
       "      <td>0.00</td>\n",
       "      <td>86.0</td>\n",
       "      <td>8.2</td>\n",
       "      <td>E10+</td>\n",
       "    </tr>\n",
       "    <tr>\n",
       "      <th>16288</th>\n",
       "      <td>Shorts</td>\n",
       "      <td>DS</td>\n",
       "      <td>NaN</td>\n",
       "      <td>Platform</td>\n",
       "      <td>0.01</td>\n",
       "      <td>0.00</td>\n",
       "      <td>0.00</td>\n",
       "      <td>0.00</td>\n",
       "      <td>NaN</td>\n",
       "      <td>tbd</td>\n",
       "      <td>E10+</td>\n",
       "    </tr>\n",
       "    <tr>\n",
       "      <th>16348</th>\n",
       "      <td>Agarest Senki: Re-appearance</td>\n",
       "      <td>PS3</td>\n",
       "      <td>NaN</td>\n",
       "      <td>Role-Playing</td>\n",
       "      <td>0.00</td>\n",
       "      <td>0.00</td>\n",
       "      <td>0.01</td>\n",
       "      <td>0.00</td>\n",
       "      <td>NaN</td>\n",
       "      <td>NaN</td>\n",
       "      <td>NaN</td>\n",
       "    </tr>\n",
       "    <tr>\n",
       "      <th>16458</th>\n",
       "      <td>Hakuouki: Shinsengumi Kitan</td>\n",
       "      <td>PS3</td>\n",
       "      <td>NaN</td>\n",
       "      <td>Adventure</td>\n",
       "      <td>0.01</td>\n",
       "      <td>0.00</td>\n",
       "      <td>0.00</td>\n",
       "      <td>0.00</td>\n",
       "      <td>NaN</td>\n",
       "      <td>NaN</td>\n",
       "      <td>NaN</td>\n",
       "    </tr>\n",
       "    <tr>\n",
       "      <th>16522</th>\n",
       "      <td>Virtua Quest</td>\n",
       "      <td>GC</td>\n",
       "      <td>NaN</td>\n",
       "      <td>Role-Playing</td>\n",
       "      <td>0.01</td>\n",
       "      <td>0.00</td>\n",
       "      <td>0.00</td>\n",
       "      <td>0.00</td>\n",
       "      <td>55.0</td>\n",
       "      <td>5.5</td>\n",
       "      <td>T</td>\n",
       "    </tr>\n",
       "  </tbody>\n",
       "</table>\n",
       "<p>146 rows × 11 columns</p>\n",
       "</div>"
      ],
      "text/plain": [
       "                                           name platform  year_of_release  \\\n",
       "475                  wwe Smackdown vs. Raw 2006      PS2              NaN   \n",
       "627                                   Rock Band     X360              NaN   \n",
       "657    Frogger's Adventures: Temple of the Frog      GBA              NaN   \n",
       "805                                   Rock Band      Wii              NaN   \n",
       "1142                                  Rock Band      PS3              NaN   \n",
       "...                                         ...      ...              ...   \n",
       "16277           Homeworld Remastered Collection       PC              NaN   \n",
       "16288                                    Shorts       DS              NaN   \n",
       "16348              Agarest Senki: Re-appearance      PS3              NaN   \n",
       "16458               Hakuouki: Shinsengumi Kitan      PS3              NaN   \n",
       "16522                              Virtua Quest       GC              NaN   \n",
       "\n",
       "              genre  na_sales  eu_sales  jp_sales  other_sales  critic_score  \\\n",
       "475        Fighting      1.57      1.02      0.00         0.41           NaN   \n",
       "627            Misc      1.93      0.33      0.00         0.21          92.0   \n",
       "657       Adventure      2.15      0.18      0.00         0.07          73.0   \n",
       "805            Misc      1.33      0.56      0.00         0.20          80.0   \n",
       "1142           Misc      0.99      0.41      0.00         0.22          92.0   \n",
       "...             ...       ...       ...       ...          ...           ...   \n",
       "16277      Strategy      0.00      0.01      0.00         0.00          86.0   \n",
       "16288      Platform      0.01      0.00      0.00         0.00           NaN   \n",
       "16348  Role-Playing      0.00      0.00      0.01         0.00           NaN   \n",
       "16458     Adventure      0.01      0.00      0.00         0.00           NaN   \n",
       "16522  Role-Playing      0.01      0.00      0.00         0.00          55.0   \n",
       "\n",
       "      user_score rating  \n",
       "475          NaN    NaN  \n",
       "627          8.2      T  \n",
       "657          tbd      E  \n",
       "805          6.3      T  \n",
       "1142         8.4      T  \n",
       "...          ...    ...  \n",
       "16277        8.2   E10+  \n",
       "16288        tbd   E10+  \n",
       "16348        NaN    NaN  \n",
       "16458        NaN    NaN  \n",
       "16522        5.5      T  \n",
       "\n",
       "[146 rows x 11 columns]"
      ]
     },
     "execution_count": 13,
     "metadata": {},
     "output_type": "execute_result"
    }
   ],
   "source": [
    "df.query('year_of_release.isnull()')"
   ]
  },
  {
   "cell_type": "code",
   "execution_count": 14,
   "metadata": {},
   "outputs": [],
   "source": [
    "df.dropna(subset=['year_of_release'], inplace=True)"
   ]
  },
  {
   "cell_type": "markdown",
   "metadata": {},
   "source": [
    "Так как многие игры выпускались на разных платформах, то некоторые пропуски даты релиза можно заменить анологичными,имеющиемся в одних и тех же играх на других платформах,опэтому в  столбце \"year_of_release\" с помощью фунуции заменил их на анологичные,остальные строки удалил."
   ]
  },
  {
   "cell_type": "code",
   "execution_count": 15,
   "metadata": {
    "scrolled": true
   },
   "outputs": [
    {
     "data": {
      "text/plain": [
       "array(['8', nan, '8.3', '8.5', '6.6', '8.4', '8.6', '7.7', '6.3', '7.4',\n",
       "       '8.2', '9', '7.9', '8.1', '8.7', '7.1', '3.4', '5.3', '4.8', '3.2',\n",
       "       '8.9', '6.4', '7.8', '7.5', '2.6', '7.2', '9.2', '7', '7.3', '4.3',\n",
       "       '7.6', '5.7', '5', '9.1', '6.5', 'tbd', '8.8', '6.9', '9.4', '6.8',\n",
       "       '6.1', '6.7', '5.4', '4', '4.9', '4.5', '9.3', '6.2', '4.2', '6',\n",
       "       '3.7', '4.1', '5.8', '5.6', '5.5', '4.4', '4.6', '5.9', '3.9',\n",
       "       '3.1', '2.9', '5.2', '3.3', '4.7', '5.1', '3.5', '2.5', '1.9', '3',\n",
       "       '2.7', '2.2', '2', '9.5', '2.1', '3.6', '2.8', '1.8', '3.8', '0',\n",
       "       '1.6', '9.6', '2.4', '1.7', '1.1', '0.3', '1.5', '0.7', '1.2',\n",
       "       '2.3', '0.5', '1.3', '0.2', '0.6', '1.4', '0.9', '1', '9.7'],\n",
       "      dtype=object)"
      ]
     },
     "execution_count": 15,
     "metadata": {},
     "output_type": "execute_result"
    }
   ],
   "source": [
    "df['user_score'].unique()"
   ]
  },
  {
   "cell_type": "code",
   "execution_count": 16,
   "metadata": {},
   "outputs": [],
   "source": [
    "df['user_score'] = pd.to_numeric(df['user_score'], errors='coerce')"
   ]
  },
  {
   "cell_type": "markdown",
   "metadata": {},
   "source": [
    "Присутствует аббревиатура 'tbd' значит (to be determined, to be done) в столбце с оценкой пользователей,данным способом заменим их на nan."
   ]
  },
  {
   "cell_type": "markdown",
   "metadata": {},
   "source": [
    "Пропуски в столбцах 'user_score' и 'critic_score' заменил на значения-индикаторы."
   ]
  },
  {
   "cell_type": "code",
   "execution_count": 18,
   "metadata": {},
   "outputs": [],
   "source": [
    "df.loc[df['rating'] == 'K-A', 'rating'] = 'E'"
   ]
  },
  {
   "cell_type": "code",
   "execution_count": 19,
   "metadata": {},
   "outputs": [],
   "source": [
    "df['rating'].fillna(value='NDA', inplace=True)"
   ]
  },
  {
   "cell_type": "code",
   "execution_count": 20,
   "metadata": {},
   "outputs": [
    {
     "data": {
      "text/plain": [
       "array(['E', 'NDA', 'M', 'T', 'E10+', 'AO', 'EC', 'RP'], dtype=object)"
      ]
     },
     "execution_count": 20,
     "metadata": {},
     "output_type": "execute_result"
    }
   ],
   "source": [
    "df['rating'].unique()"
   ]
  },
  {
   "cell_type": "markdown",
   "metadata": {},
   "source": [
    "В столбце 'rating' заменим анологичное категории рейтингу 'K-A' на используемый сейчас значение 'E',пропуски замолним аббревиатурой NDA(нет данных),она будет служить маркером. "
   ]
  },
  {
   "cell_type": "code",
   "execution_count": 21,
   "metadata": {
    "scrolled": true
   },
   "outputs": [
    {
     "data": {
      "text/plain": [
       "name                  0\n",
       "platform              0\n",
       "year_of_release       0\n",
       "genre                 0\n",
       "na_sales              0\n",
       "eu_sales              0\n",
       "jp_sales              0\n",
       "other_sales           0\n",
       "critic_score       8492\n",
       "user_score         9027\n",
       "rating                0\n",
       "dtype: int64"
      ]
     },
     "execution_count": 21,
     "metadata": {},
     "output_type": "execute_result"
    }
   ],
   "source": [
    "df.isna().sum()"
   ]
  },
  {
   "cell_type": "code",
   "execution_count": 22,
   "metadata": {},
   "outputs": [],
   "source": [
    "df['year_of_release'] = df['year_of_release'].astype(int)"
   ]
  },
  {
   "cell_type": "markdown",
   "metadata": {},
   "source": [
    "Заменил тип данных в столбеце 'year_of_release' на (int64)"
   ]
  },
  {
   "cell_type": "code",
   "execution_count": 23,
   "metadata": {
    "scrolled": true
   },
   "outputs": [
    {
     "name": "stdout",
     "output_type": "stream",
     "text": [
      "<class 'pandas.core.frame.DataFrame'>\n",
      "Int64Index: 16567 entries, 0 to 16714\n",
      "Data columns (total 11 columns):\n",
      " #   Column           Non-Null Count  Dtype  \n",
      "---  ------           --------------  -----  \n",
      " 0   name             16567 non-null  object \n",
      " 1   platform         16567 non-null  object \n",
      " 2   year_of_release  16567 non-null  int64  \n",
      " 3   genre            16567 non-null  object \n",
      " 4   na_sales         16567 non-null  float64\n",
      " 5   eu_sales         16567 non-null  float64\n",
      " 6   jp_sales         16567 non-null  float64\n",
      " 7   other_sales      16567 non-null  float64\n",
      " 8   critic_score     8075 non-null   float64\n",
      " 9   user_score       7540 non-null   float64\n",
      " 10  rating           16567 non-null  object \n",
      "dtypes: float64(6), int64(1), object(4)\n",
      "memory usage: 1.5+ MB\n"
     ]
    }
   ],
   "source": [
    "df.info()"
   ]
  },
  {
   "cell_type": "code",
   "execution_count": 24,
   "metadata": {},
   "outputs": [
    {
     "data": {
      "text/plain": [
       "0"
      ]
     },
     "execution_count": 24,
     "metadata": {},
     "output_type": "execute_result"
    }
   ],
   "source": [
    "df.duplicated().sum()"
   ]
  },
  {
   "cell_type": "markdown",
   "metadata": {},
   "source": [
    "Если взять весь датасет,то дубликатов нет"
   ]
  },
  {
   "cell_type": "code",
   "execution_count": 25,
   "metadata": {
    "scrolled": false
   },
   "outputs": [
    {
     "data": {
      "text/plain": [
       "8"
      ]
     },
     "execution_count": 25,
     "metadata": {},
     "output_type": "execute_result"
    }
   ],
   "source": [
    "df.duplicated(subset = ['name', 'platform', 'year_of_release'], keep=False).sum()"
   ]
  },
  {
   "cell_type": "code",
   "execution_count": 26,
   "metadata": {},
   "outputs": [],
   "source": [
    "df.drop_duplicates(subset = ['name', 'platform', 'year_of_release'], keep='first', inplace=True)"
   ]
  },
  {
   "cell_type": "code",
   "execution_count": 27,
   "metadata": {},
   "outputs": [],
   "source": [
    "df.reset_index(drop= True , inplace= True )"
   ]
  },
  {
   "cell_type": "markdown",
   "metadata": {},
   "source": [
    "Взглянув на данные по трем столбцам присутствуют дубликаты,оставил первый,второй удалил,сбросил индексы."
   ]
  },
  {
   "cell_type": "code",
   "execution_count": 28,
   "metadata": {},
   "outputs": [],
   "source": [
    "df['sum_sales'] = df[['na_sales','eu_sales','jp_sales', 'other_sales']].sum(axis = 1)"
   ]
  },
  {
   "cell_type": "markdown",
   "metadata": {},
   "source": [
    "Добавил столбец с общей суммой продаж по миру."
   ]
  },
  {
   "cell_type": "markdown",
   "metadata": {},
   "source": [
    "**Вывод:** На данном шаге были обработаны данные по датафрейму,название столбцов приведены в нижний регистр,пропуски в столбцах удалил,где это было возможно,другие заменил либо на аналогичные, либо на маркеры,процент потери 0,9,сбросил индексы,заменил неиспользуемую категорию рейтинга на актульную и добавил столбец с суммой продаж по всем регионам."
   ]
  },
  {
   "cell_type": "markdown",
   "metadata": {},
   "source": [
    "### Шаг. Проведите исследовательский анализ данных"
   ]
  },
  {
   "cell_type": "markdown",
   "metadata": {},
   "source": [
    "#### Cколько игр выпускалось в разные годы"
   ]
  },
  {
   "cell_type": "code",
   "execution_count": 29,
   "metadata": {
    "scrolled": true
   },
   "outputs": [
    {
     "data": {
      "text/html": [
       "<div>\n",
       "<style scoped>\n",
       "    .dataframe tbody tr th:only-of-type {\n",
       "        vertical-align: middle;\n",
       "    }\n",
       "\n",
       "    .dataframe tbody tr th {\n",
       "        vertical-align: top;\n",
       "    }\n",
       "\n",
       "    .dataframe thead th {\n",
       "        text-align: right;\n",
       "    }\n",
       "</style>\n",
       "<table border=\"1\" class=\"dataframe\">\n",
       "  <thead>\n",
       "    <tr style=\"text-align: right;\">\n",
       "      <th></th>\n",
       "      <th>year_of_release</th>\n",
       "    </tr>\n",
       "  </thead>\n",
       "  <tbody>\n",
       "    <tr>\n",
       "      <th>2008</th>\n",
       "      <td>1433</td>\n",
       "    </tr>\n",
       "    <tr>\n",
       "      <th>2009</th>\n",
       "      <td>1426</td>\n",
       "    </tr>\n",
       "    <tr>\n",
       "      <th>2010</th>\n",
       "      <td>1264</td>\n",
       "    </tr>\n",
       "    <tr>\n",
       "      <th>2007</th>\n",
       "      <td>1208</td>\n",
       "    </tr>\n",
       "    <tr>\n",
       "      <th>2011</th>\n",
       "      <td>1167</td>\n",
       "    </tr>\n",
       "    <tr>\n",
       "      <th>2006</th>\n",
       "      <td>1016</td>\n",
       "    </tr>\n",
       "    <tr>\n",
       "      <th>2005</th>\n",
       "      <td>931</td>\n",
       "    </tr>\n",
       "    <tr>\n",
       "      <th>2002</th>\n",
       "      <td>828</td>\n",
       "    </tr>\n",
       "    <tr>\n",
       "      <th>2004</th>\n",
       "      <td>783</td>\n",
       "    </tr>\n",
       "    <tr>\n",
       "      <th>2003</th>\n",
       "      <td>747</td>\n",
       "    </tr>\n",
       "    <tr>\n",
       "      <th>2012</th>\n",
       "      <td>671</td>\n",
       "    </tr>\n",
       "    <tr>\n",
       "      <th>2015</th>\n",
       "      <td>581</td>\n",
       "    </tr>\n",
       "    <tr>\n",
       "      <th>2014</th>\n",
       "      <td>551</td>\n",
       "    </tr>\n",
       "    <tr>\n",
       "      <th>2013</th>\n",
       "      <td>535</td>\n",
       "    </tr>\n",
       "    <tr>\n",
       "      <th>2001</th>\n",
       "      <td>526</td>\n",
       "    </tr>\n",
       "    <tr>\n",
       "      <th>2016</th>\n",
       "      <td>475</td>\n",
       "    </tr>\n",
       "    <tr>\n",
       "      <th>1998</th>\n",
       "      <td>401</td>\n",
       "    </tr>\n",
       "    <tr>\n",
       "      <th>2000</th>\n",
       "      <td>353</td>\n",
       "    </tr>\n",
       "    <tr>\n",
       "      <th>1999</th>\n",
       "      <td>331</td>\n",
       "    </tr>\n",
       "    <tr>\n",
       "      <th>1997</th>\n",
       "      <td>301</td>\n",
       "    </tr>\n",
       "    <tr>\n",
       "      <th>1996</th>\n",
       "      <td>275</td>\n",
       "    </tr>\n",
       "    <tr>\n",
       "      <th>1995</th>\n",
       "      <td>212</td>\n",
       "    </tr>\n",
       "    <tr>\n",
       "      <th>1994</th>\n",
       "      <td>149</td>\n",
       "    </tr>\n",
       "    <tr>\n",
       "      <th>1993</th>\n",
       "      <td>61</td>\n",
       "    </tr>\n",
       "    <tr>\n",
       "      <th>1992</th>\n",
       "      <td>52</td>\n",
       "    </tr>\n",
       "    <tr>\n",
       "      <th>1991</th>\n",
       "      <td>49</td>\n",
       "    </tr>\n",
       "    <tr>\n",
       "      <th>1981</th>\n",
       "      <td>44</td>\n",
       "    </tr>\n",
       "    <tr>\n",
       "      <th>1982</th>\n",
       "      <td>37</td>\n",
       "    </tr>\n",
       "    <tr>\n",
       "      <th>1986</th>\n",
       "      <td>24</td>\n",
       "    </tr>\n",
       "    <tr>\n",
       "      <th>1989</th>\n",
       "      <td>21</td>\n",
       "    </tr>\n",
       "    <tr>\n",
       "      <th>1983</th>\n",
       "      <td>19</td>\n",
       "    </tr>\n",
       "    <tr>\n",
       "      <th>1985</th>\n",
       "      <td>17</td>\n",
       "    </tr>\n",
       "    <tr>\n",
       "      <th>1987</th>\n",
       "      <td>16</td>\n",
       "    </tr>\n",
       "    <tr>\n",
       "      <th>1984</th>\n",
       "      <td>16</td>\n",
       "    </tr>\n",
       "    <tr>\n",
       "      <th>1990</th>\n",
       "      <td>15</td>\n",
       "    </tr>\n",
       "    <tr>\n",
       "      <th>1980</th>\n",
       "      <td>14</td>\n",
       "    </tr>\n",
       "    <tr>\n",
       "      <th>1988</th>\n",
       "      <td>14</td>\n",
       "    </tr>\n",
       "  </tbody>\n",
       "</table>\n",
       "</div>"
      ],
      "text/plain": [
       "      year_of_release\n",
       "2008             1433\n",
       "2009             1426\n",
       "2010             1264\n",
       "2007             1208\n",
       "2011             1167\n",
       "2006             1016\n",
       "2005              931\n",
       "2002              828\n",
       "2004              783\n",
       "2003              747\n",
       "2012              671\n",
       "2015              581\n",
       "2014              551\n",
       "2013              535\n",
       "2001              526\n",
       "2016              475\n",
       "1998              401\n",
       "2000              353\n",
       "1999              331\n",
       "1997              301\n",
       "1996              275\n",
       "1995              212\n",
       "1994              149\n",
       "1993               61\n",
       "1992               52\n",
       "1991               49\n",
       "1981               44\n",
       "1982               37\n",
       "1986               24\n",
       "1989               21\n",
       "1983               19\n",
       "1985               17\n",
       "1987               16\n",
       "1984               16\n",
       "1990               15\n",
       "1980               14\n",
       "1988               14"
      ]
     },
     "execution_count": 29,
     "metadata": {},
     "output_type": "execute_result"
    }
   ],
   "source": [
    "df['year_of_release'].value_counts().to_frame()"
   ]
  },
  {
   "cell_type": "code",
   "execution_count": 30,
   "metadata": {},
   "outputs": [
    {
     "data": {
      "text/plain": [
       "[Text(0.5, 0, 'Год релиза'), Text(0, 0.5, 'Количество')]"
      ]
     },
     "execution_count": 30,
     "metadata": {},
     "output_type": "execute_result"
    },
    {
     "data": {
      "image/png": "[encoded data removed]",
      "text/plain": [
       "<Figure size 1080x648 with 1 Axes>"
      ]
     },
     "metadata": {
      "needs_background": "light"
     },
     "output_type": "display_data"
    }
   ],
   "source": [
    "(df.pivot_table(index='year_of_release', values='name', aggfunc='count')\n",
    "   .plot.bar(legend=False, figsize = (15,9), title='Количество релизов игр в период с 1980-2016')\n",
    "   .set(xlabel='Год релиза', ylabel='Количество')\n",
    ")"
   ]
  },
  {
   "cell_type": "markdown",
   "metadata": {},
   "source": [
    "**Вывод:** Судя по данным,до 1995 года выпускалось до 200 игр в год,что очень мало и не является актуальным периодом для анализа.Пик пришелся с 2006 по 2011 год,далее идет спад вплоть до 2016 года."
   ]
  },
  {
   "cell_type": "markdown",
   "metadata": {},
   "source": [
    "#### Kак менялись продажи по платформам по годам"
   ]
  },
  {
   "cell_type": "code",
   "execution_count": 31,
   "metadata": {},
   "outputs": [
    {
     "data": {
      "text/html": [
       "<div>\n",
       "<style scoped>\n",
       "    .dataframe tbody tr th:only-of-type {\n",
       "        vertical-align: middle;\n",
       "    }\n",
       "\n",
       "    .dataframe tbody tr th {\n",
       "        vertical-align: top;\n",
       "    }\n",
       "\n",
       "    .dataframe thead th {\n",
       "        text-align: right;\n",
       "    }\n",
       "</style>\n",
       "<table border=\"1\" class=\"dataframe\">\n",
       "  <thead>\n",
       "    <tr style=\"text-align: right;\">\n",
       "      <th></th>\n",
       "      <th>platform</th>\n",
       "      <th>sum_sales</th>\n",
       "    </tr>\n",
       "  </thead>\n",
       "  <tbody>\n",
       "    <tr>\n",
       "      <th>0</th>\n",
       "      <td>PS2</td>\n",
       "      <td>1247.16</td>\n",
       "    </tr>\n",
       "    <tr>\n",
       "      <th>1</th>\n",
       "      <td>X360</td>\n",
       "      <td>965.36</td>\n",
       "    </tr>\n",
       "    <tr>\n",
       "      <th>2</th>\n",
       "      <td>PS3</td>\n",
       "      <td>934.70</td>\n",
       "    </tr>\n",
       "    <tr>\n",
       "      <th>3</th>\n",
       "      <td>Wii</td>\n",
       "      <td>903.31</td>\n",
       "    </tr>\n",
       "    <tr>\n",
       "      <th>4</th>\n",
       "      <td>DS</td>\n",
       "      <td>804.28</td>\n",
       "    </tr>\n",
       "    <tr>\n",
       "      <th>5</th>\n",
       "      <td>PS</td>\n",
       "      <td>727.58</td>\n",
       "    </tr>\n",
       "    <tr>\n",
       "      <th>6</th>\n",
       "      <td>PS4</td>\n",
       "      <td>314.14</td>\n",
       "    </tr>\n",
       "    <tr>\n",
       "      <th>7</th>\n",
       "      <td>GBA</td>\n",
       "      <td>313.73</td>\n",
       "    </tr>\n",
       "    <tr>\n",
       "      <th>8</th>\n",
       "      <td>PSP</td>\n",
       "      <td>293.57</td>\n",
       "    </tr>\n",
       "    <tr>\n",
       "      <th>9</th>\n",
       "      <td>PC</td>\n",
       "      <td>258.78</td>\n",
       "    </tr>\n",
       "    <tr>\n",
       "      <th>10</th>\n",
       "      <td>3DS</td>\n",
       "      <td>258.53</td>\n",
       "    </tr>\n",
       "    <tr>\n",
       "      <th>11</th>\n",
       "      <td>XB</td>\n",
       "      <td>256.69</td>\n",
       "    </tr>\n",
       "    <tr>\n",
       "      <th>12</th>\n",
       "      <td>GB</td>\n",
       "      <td>254.43</td>\n",
       "    </tr>\n",
       "    <tr>\n",
       "      <th>13</th>\n",
       "      <td>NES</td>\n",
       "      <td>251.05</td>\n",
       "    </tr>\n",
       "    <tr>\n",
       "      <th>14</th>\n",
       "      <td>N64</td>\n",
       "      <td>218.48</td>\n",
       "    </tr>\n",
       "    <tr>\n",
       "      <th>15</th>\n",
       "      <td>SNES</td>\n",
       "      <td>200.04</td>\n",
       "    </tr>\n",
       "    <tr>\n",
       "      <th>16</th>\n",
       "      <td>GC</td>\n",
       "      <td>198.66</td>\n",
       "    </tr>\n",
       "    <tr>\n",
       "      <th>17</th>\n",
       "      <td>XOne</td>\n",
       "      <td>159.32</td>\n",
       "    </tr>\n",
       "    <tr>\n",
       "      <th>18</th>\n",
       "      <td>2600</td>\n",
       "      <td>89.01</td>\n",
       "    </tr>\n",
       "    <tr>\n",
       "      <th>19</th>\n",
       "      <td>WiiU</td>\n",
       "      <td>82.19</td>\n",
       "    </tr>\n",
       "    <tr>\n",
       "      <th>20</th>\n",
       "      <td>PSV</td>\n",
       "      <td>53.81</td>\n",
       "    </tr>\n",
       "    <tr>\n",
       "      <th>21</th>\n",
       "      <td>SAT</td>\n",
       "      <td>33.59</td>\n",
       "    </tr>\n",
       "    <tr>\n",
       "      <th>22</th>\n",
       "      <td>GEN</td>\n",
       "      <td>28.35</td>\n",
       "    </tr>\n",
       "    <tr>\n",
       "      <th>23</th>\n",
       "      <td>DC</td>\n",
       "      <td>15.95</td>\n",
       "    </tr>\n",
       "    <tr>\n",
       "      <th>24</th>\n",
       "      <td>SCD</td>\n",
       "      <td>1.86</td>\n",
       "    </tr>\n",
       "    <tr>\n",
       "      <th>25</th>\n",
       "      <td>NG</td>\n",
       "      <td>1.44</td>\n",
       "    </tr>\n",
       "    <tr>\n",
       "      <th>26</th>\n",
       "      <td>WS</td>\n",
       "      <td>1.42</td>\n",
       "    </tr>\n",
       "    <tr>\n",
       "      <th>27</th>\n",
       "      <td>TG16</td>\n",
       "      <td>0.16</td>\n",
       "    </tr>\n",
       "    <tr>\n",
       "      <th>28</th>\n",
       "      <td>3DO</td>\n",
       "      <td>0.10</td>\n",
       "    </tr>\n",
       "    <tr>\n",
       "      <th>29</th>\n",
       "      <td>GG</td>\n",
       "      <td>0.04</td>\n",
       "    </tr>\n",
       "    <tr>\n",
       "      <th>30</th>\n",
       "      <td>PCFX</td>\n",
       "      <td>0.03</td>\n",
       "    </tr>\n",
       "  </tbody>\n",
       "</table>\n",
       "</div>"
      ],
      "text/plain": [
       "   platform  sum_sales\n",
       "0       PS2    1247.16\n",
       "1      X360     965.36\n",
       "2       PS3     934.70\n",
       "3       Wii     903.31\n",
       "4        DS     804.28\n",
       "5        PS     727.58\n",
       "6       PS4     314.14\n",
       "7       GBA     313.73\n",
       "8       PSP     293.57\n",
       "9        PC     258.78\n",
       "10      3DS     258.53\n",
       "11       XB     256.69\n",
       "12       GB     254.43\n",
       "13      NES     251.05\n",
       "14      N64     218.48\n",
       "15     SNES     200.04\n",
       "16       GC     198.66\n",
       "17     XOne     159.32\n",
       "18     2600      89.01\n",
       "19     WiiU      82.19\n",
       "20      PSV      53.81\n",
       "21      SAT      33.59\n",
       "22      GEN      28.35\n",
       "23       DC      15.95\n",
       "24      SCD       1.86\n",
       "25       NG       1.44\n",
       "26       WS       1.42\n",
       "27     TG16       0.16\n",
       "28      3DO       0.10\n",
       "29       GG       0.04\n",
       "30     PCFX       0.03"
      ]
     },
     "execution_count": 31,
     "metadata": {},
     "output_type": "execute_result"
    }
   ],
   "source": [
    "df_platform = df.pivot_table(index='platform', values='sum_sales', aggfunc='sum').sort_values(by='sum_sales', ascending=False)\n",
    "df_platform = df_platform.reset_index()\n",
    "df_platform"
   ]
  },
  {
   "cell_type": "code",
   "execution_count": 32,
   "metadata": {},
   "outputs": [
    {
     "data": {
      "image/png": "[encoded data removed]",
      "text/plain": [
       "<Figure size 864x360 with 1 Axes>"
      ]
     },
     "metadata": {
      "needs_background": "light"
     },
     "output_type": "display_data"
    }
   ],
   "source": [
    "df_platform.plot.bar(x='platform', y='sum_sales',figsize=(12, 5));\n",
    "\n",
    "plt.show()"
   ]
  },
  {
   "cell_type": "code",
   "execution_count": 33,
   "metadata": {},
   "outputs": [
    {
     "data": {
      "text/plain": [
       "['PS2', 'X360', 'PS3', 'Wii', 'DS', 'PS']"
      ]
     },
     "execution_count": 33,
     "metadata": {},
     "output_type": "execute_result"
    }
   ],
   "source": [
    "top_platforms = df_platform.query('sum_sales > 400')['platform'].tolist()\n",
    "top_platforms"
   ]
  },
  {
   "cell_type": "code",
   "execution_count": 34,
   "metadata": {
    "scrolled": false
   },
   "outputs": [
    {
     "data": {
      "image/png": "[encoded data removed]",
      "text/plain": [
       "<Figure size 864x360 with 1 Axes>"
      ]
     },
     "metadata": {
      "needs_background": "light"
     },
     "output_type": "display_data"
    }
   ],
   "source": [
    "for name in top_platforms:\n",
    "    (df.query('platform == @name')\n",
    "       .pivot_table(index = 'year_of_release', values = 'sum_sales', aggfunc ='sum')['sum_sales']\n",
    "       .plot(figsize=(12, 5), label=name, grid=True)\n",
    "    )\n",
    "    plt.title('Топ 6 платформ по суммарным продажам по годам')\n",
    "    plt.xlabel('год выпуска')\n",
    "    plt.ylabel('Cуммарные продажи')\n",
    "    plt.legend()"
   ]
  },
  {
   "cell_type": "markdown",
   "metadata": {},
   "source": [
    "**Вывод:** Взяв топ 6 платформ с наибольшими суммарными продажами и построив распределение по годам, можно сделать вывод что средний срок жизни платформы около 10 лет."
   ]
  },
  {
   "cell_type": "markdown",
   "metadata": {},
   "source": [
    "Учитывая высокую динамичность рынка,можно сделать выводы что актуальным периодом будет с 2013 - 2016,иначе мы рисскуем взять платформы,которые уже не актуальны и не подойдут для анализа."
   ]
  },
  {
   "cell_type": "code",
   "execution_count": 35,
   "metadata": {},
   "outputs": [],
   "source": [
    "df_actual = df.query('year_of_release > 2012')"
   ]
  },
  {
   "cell_type": "markdown",
   "metadata": {},
   "source": [
    "#### Какие платформы лидируют по продажам, растут или падают"
   ]
  },
  {
   "cell_type": "code",
   "execution_count": 36,
   "metadata": {},
   "outputs": [
    {
     "data": {
      "text/html": [
       "<div>\n",
       "<style scoped>\n",
       "    .dataframe tbody tr th:only-of-type {\n",
       "        vertical-align: middle;\n",
       "    }\n",
       "\n",
       "    .dataframe tbody tr th {\n",
       "        vertical-align: top;\n",
       "    }\n",
       "\n",
       "    .dataframe thead th {\n",
       "        text-align: right;\n",
       "    }\n",
       "</style>\n",
       "<table border=\"1\" class=\"dataframe\">\n",
       "  <thead>\n",
       "    <tr style=\"text-align: right;\">\n",
       "      <th></th>\n",
       "      <th>platform</th>\n",
       "      <th>sum_sales</th>\n",
       "    </tr>\n",
       "  </thead>\n",
       "  <tbody>\n",
       "    <tr>\n",
       "      <th>0</th>\n",
       "      <td>PS4</td>\n",
       "      <td>306.64</td>\n",
       "    </tr>\n",
       "    <tr>\n",
       "      <th>1</th>\n",
       "      <td>PS3</td>\n",
       "      <td>173.98</td>\n",
       "    </tr>\n",
       "    <tr>\n",
       "      <th>2</th>\n",
       "      <td>XOne</td>\n",
       "      <td>157.04</td>\n",
       "    </tr>\n",
       "    <tr>\n",
       "      <th>3</th>\n",
       "      <td>3DS</td>\n",
       "      <td>136.88</td>\n",
       "    </tr>\n",
       "    <tr>\n",
       "      <th>4</th>\n",
       "      <td>X360</td>\n",
       "      <td>134.24</td>\n",
       "    </tr>\n",
       "    <tr>\n",
       "      <th>5</th>\n",
       "      <td>WiiU</td>\n",
       "      <td>61.62</td>\n",
       "    </tr>\n",
       "    <tr>\n",
       "      <th>6</th>\n",
       "      <td>PC</td>\n",
       "      <td>40.11</td>\n",
       "    </tr>\n",
       "    <tr>\n",
       "      <th>7</th>\n",
       "      <td>PSV</td>\n",
       "      <td>30.49</td>\n",
       "    </tr>\n",
       "    <tr>\n",
       "      <th>8</th>\n",
       "      <td>Wii</td>\n",
       "      <td>13.71</td>\n",
       "    </tr>\n",
       "    <tr>\n",
       "      <th>9</th>\n",
       "      <td>PSP</td>\n",
       "      <td>4.56</td>\n",
       "    </tr>\n",
       "    <tr>\n",
       "      <th>10</th>\n",
       "      <td>DS</td>\n",
       "      <td>1.84</td>\n",
       "    </tr>\n",
       "    <tr>\n",
       "      <th>11</th>\n",
       "      <td>PS2</td>\n",
       "      <td>0.06</td>\n",
       "    </tr>\n",
       "  </tbody>\n",
       "</table>\n",
       "</div>"
      ],
      "text/plain": [
       "   platform  sum_sales\n",
       "0       PS4     306.64\n",
       "1       PS3     173.98\n",
       "2      XOne     157.04\n",
       "3       3DS     136.88\n",
       "4      X360     134.24\n",
       "5      WiiU      61.62\n",
       "6        PC      40.11\n",
       "7       PSV      30.49\n",
       "8       Wii      13.71\n",
       "9       PSP       4.56\n",
       "10       DS       1.84\n",
       "11      PS2       0.06"
      ]
     },
     "execution_count": 36,
     "metadata": {},
     "output_type": "execute_result"
    }
   ],
   "source": [
    "platform_leader = (df_actual.pivot_table(index = 'platform', values = 'sum_sales', aggfunc ='sum')\n",
    "         .sort_values(by='sum_sales', ascending=False)\n",
    "         .reset_index()\n",
    ")\n",
    "platform_leader"
   ]
  },
  {
   "cell_type": "code",
   "execution_count": 37,
   "metadata": {},
   "outputs": [],
   "source": [
    "top_platforms = platform_leader.query('sum_sales > 5')['platform'].tolist()"
   ]
  },
  {
   "cell_type": "code",
   "execution_count": 38,
   "metadata": {},
   "outputs": [
    {
     "data": {
      "image/png": "[encoded data removed]",
      "text/plain": [
       "<Figure size 864x432 with 1 Axes>"
      ]
     },
     "metadata": {
      "needs_background": "light"
     },
     "output_type": "display_data"
    }
   ],
   "source": [
    "for name in top_platforms:\n",
    "    (df_actual.query('platform == @name')\n",
    "       .pivot_table(index = 'year_of_release', values = 'sum_sales', aggfunc ='sum')['sum_sales']\n",
    "       .plot(figsize=(12, 6), label=name, grid=True)\n",
    "    )\n",
    "    plt.title('Динамика продаж топ-10 платформ за период 2013-2016')\n",
    "    plt.xlabel('год выпуска')\n",
    "    plt.ylabel('Cуммарные продажи')\n",
    "    plt.legend()"
   ]
  },
  {
   "cell_type": "markdown",
   "metadata": {},
   "source": [
    "**Вывод:** Построив график динамики продаж за выбранный \"Актуальный период\",можно выделить две крупные платформы,это PS4 и Xone,эти две платформы потенциально прибыльные,у многих платформ наблюдается спад,видимо жизненый цикл заканчивается,это такие платформы как PS3,X360,3DS."
   ]
  },
  {
   "cell_type": "markdown",
   "metadata": {},
   "source": [
    "#### Постром график «ящик с усами» по глобальным продажам игр в разбивке по 5 актуальным платформам"
   ]
  },
  {
   "cell_type": "code",
   "execution_count": 39,
   "metadata": {
    "scrolled": false
   },
   "outputs": [
    {
     "data": {
      "image/png": "[encoded data removed]",
      "text/plain": [
       "<Figure size 1224x504 with 1 Axes>"
      ]
     },
     "metadata": {
      "needs_background": "light"
     },
     "output_type": "display_data"
    }
   ],
   "source": [
    "list_platforms = df_actual\n",
    "list_platforms = ['PS4', 'XOne', 'PC', '3DS', 'WiiU']\n",
    "df_with = df[df['platform'].isin(list_platforms)]\n",
    "\n",
    "plt.figure(figsize=(17, 7))\n",
    "plt.xlim(-0.1, 4)\n",
    "plt.title('«ящик с усами» по глобальным продажам игр в разбивке по платформам')\n",
    "sns.boxplot(x='sum_sales', y='platform', data=df_with)\n",
    "plt.xlabel('cуммарные продажи')\n",
    "plt.ylabel('платформы')\n",
    "plt.grid(True);"
   ]
  },
  {
   "cell_type": "markdown",
   "metadata": {},
   "source": [
    "**Вывод:** Как мы видим лидером продаж является PS4,у нее и самый большой межквартильный размах,PC уступает всем конкурентам и размах у нее самый маленький,что может нам сказать о стабильности в продажах.Медианна у PS4, XOne и Wii примерно одинаковая,у PC, 3DS поменьше.Судя по частоте выбросов у PC самое плотное.Наличие выбросов показывает что в зависимости от игры,эсть топ продаж,которые опережают среднее значение."
   ]
  },
  {
   "cell_type": "markdown",
   "metadata": {},
   "source": [
    "#### Как влияют на продажи внутри одной популярной платформы(PS2) отзывы пользователей и критиков"
   ]
  },
  {
   "cell_type": "code",
   "execution_count": 40,
   "metadata": {},
   "outputs": [],
   "source": [
    "df_critic = df[df['platform'] == 'PS2']"
   ]
  },
  {
   "cell_type": "code",
   "execution_count": 41,
   "metadata": {},
   "outputs": [
    {
     "data": {
      "text/plain": [
       "0.3954055368563989"
      ]
     },
     "execution_count": 41,
     "metadata": {},
     "output_type": "execute_result"
    },
    {
     "data": {
      "image/png": "[encoded data removed]",
      "text/plain": [
       "<Figure size 1080x576 with 1 Axes>"
      ]
     },
     "metadata": {
      "needs_background": "light"
     },
     "output_type": "display_data"
    }
   ],
   "source": [
    "df_critic.plot.scatter(x='critic_score' , y='sum_sales', subplots=True, figsize=(15,8), c = 'b', s = 20)\n",
    "\n",
    "plt.title('Диаграмма рассеяния')\n",
    "plt.xlabel('Оценка критиков')\n",
    "plt.ylabel('Суммарные продажи')\n",
    "\n",
    "df_critic['critic_score'].corr(df_critic['sum_sales'])"
   ]
  },
  {
   "cell_type": "code",
   "execution_count": 42,
   "metadata": {},
   "outputs": [],
   "source": [
    "df_user = df[df['platform'] == 'PS2']"
   ]
  },
  {
   "cell_type": "code",
   "execution_count": 43,
   "metadata": {},
   "outputs": [
    {
     "data": {
      "text/plain": [
       "0.17378036664164548"
      ]
     },
     "execution_count": 43,
     "metadata": {},
     "output_type": "execute_result"
    },
    {
     "data": {
      "image/png": "[encoded data removed]",
      "text/plain": [
       "<Figure size 1080x576 with 1 Axes>"
      ]
     },
     "metadata": {
      "needs_background": "light"
     },
     "output_type": "display_data"
    }
   ],
   "source": [
    "df_user.plot.scatter(x='user_score' , y='sum_sales', subplots=True, figsize=(15,8), c = 'b', s = 20)\n",
    "\n",
    "plt.title('Диаграмма рассеяния')\n",
    "plt.xlabel('Оценка пользователей')\n",
    "plt.ylabel('Суммарные продажи')\n",
    "\n",
    "df_user['user_score'].corr(df_user['sum_sales'])"
   ]
  },
  {
   "cell_type": "markdown",
   "metadata": {},
   "source": [
    "**Вывод:** Как мы видим по диаграммам и значению корреляции,можно сделать вывод что зависимость между оценками и продажами есть,между оценками критиков и продажами связь сильнее,так же судя по диаграммам частота встречаемости значений в верхнем правом углу у критиков выше,что говорит о более высокой связи нежели у пользователей."
   ]
  },
  {
   "cell_type": "markdown",
   "metadata": {},
   "source": [
    "#### Соотнесите выводы с продажами игр на других платформах"
   ]
  },
  {
   "cell_type": "markdown",
   "metadata": {},
   "source": [
    "Корреляция на платформе XOne"
   ]
  },
  {
   "cell_type": "code",
   "execution_count": 44,
   "metadata": {},
   "outputs": [
    {
     "data": {
      "text/plain": [
       "0.4169983280084017"
      ]
     },
     "execution_count": 44,
     "metadata": {},
     "output_type": "execute_result"
    }
   ],
   "source": [
    "(df.query('platform == \"XOne\"')['critic_score']\n",
    "  .corr(df.query('platform == \"XOne\"')['sum_sales'])\n",
    ")"
   ]
  },
  {
   "cell_type": "code",
   "execution_count": 45,
   "metadata": {},
   "outputs": [
    {
     "data": {
      "text/plain": [
       "-0.06892505328279414"
      ]
     },
     "execution_count": 45,
     "metadata": {},
     "output_type": "execute_result"
    }
   ],
   "source": [
    "(df.query('platform == \"XOne\"')['user_score']\n",
    "  .corr(df.query('platform == \"XOne\"')['sum_sales'])\n",
    ")"
   ]
  },
  {
   "cell_type": "markdown",
   "metadata": {},
   "source": [
    "Корреляция на платформе PS4"
   ]
  },
  {
   "cell_type": "code",
   "execution_count": 46,
   "metadata": {},
   "outputs": [
    {
     "data": {
      "text/plain": [
       "0.40656790206178095"
      ]
     },
     "execution_count": 46,
     "metadata": {},
     "output_type": "execute_result"
    }
   ],
   "source": [
    "(df.query('platform == \"PS4\"')['critic_score']\n",
    "  .corr(df.query('platform == \"PS4\"')['sum_sales'])\n",
    ")"
   ]
  },
  {
   "cell_type": "code",
   "execution_count": 47,
   "metadata": {},
   "outputs": [
    {
     "data": {
      "text/plain": [
       "-0.031957110204556376"
      ]
     },
     "execution_count": 47,
     "metadata": {},
     "output_type": "execute_result"
    }
   ],
   "source": [
    "(df.query('platform == \"PS4\"')['user_score']\n",
    "  .corr(df.query('platform == \"PS4\"')['sum_sales'])\n",
    ")"
   ]
  },
  {
   "cell_type": "markdown",
   "metadata": {},
   "source": [
    "**Вывод:** Значения корреляций различаются, но общая тенденция проглядывается. Оценка критиков немного сильнее коррелирует с продажами, хотя эта связь не такая сильная. Корреляции между  оценками пользователей и продажами совсем нет. Можно сказать что оценки экспертов хоть как то,но влияют на продажи и оценки пользователей не влияют. "
   ]
  },
  {
   "cell_type": "markdown",
   "metadata": {},
   "source": [
    "#### Общее распределение игр по жанрам"
   ]
  },
  {
   "cell_type": "code",
   "execution_count": 48,
   "metadata": {},
   "outputs": [
    {
     "data": {
      "image/png": "[encoded data removed]",
      "text/plain": [
       "<Figure size 864x432 with 1 Axes>"
      ]
     },
     "metadata": {
      "needs_background": "light"
     },
     "output_type": "display_data"
    }
   ],
   "source": [
    "(df_actual.pivot_table(index='genre', values='sum_sales', aggfunc='sum')\n",
    "          .sort_values('sum_sales', ascending=False)\n",
    "          .plot.bar(y='sum_sales', figsize=(12, 6), legend=False, title='Топ жанров по продажам')\n",
    "          .set(xlabel='Жанры', ylabel='Общие продажи')\n",
    ")\n",
    "\n",
    "plt.show()"
   ]
  },
  {
   "cell_type": "markdown",
   "metadata": {},
   "source": [
    "Судя по графику,можно было сказать что самый популярный жанр Action, затем идет Shooter,за ним Sport,посмотрим на диаграмму размаха."
   ]
  },
  {
   "cell_type": "code",
   "execution_count": 49,
   "metadata": {
    "scrolled": true
   },
   "outputs": [
    {
     "data": {
      "image/png": "[encoded data removed]",
      "text/plain": [
       "<Figure size 1440x720 with 1 Axes>"
      ]
     },
     "metadata": {
      "needs_background": "light"
     },
     "output_type": "display_data"
    }
   ],
   "source": [
    "(df_actual[['sum_sales', 'genre']].boxplot(column='sum_sales', by='genre', figsize=(20,10))\n",
    ")\n",
    "plt.title('Диаграммы размаха продаж по жанрам')\n",
    "plt.xlabel('Жанры')\n",
    "plt.ylabel('Общие продажи')\n",
    "\n",
    "plt.ylim(0, 4)\n",
    "plt.show()"
   ]
  },
  {
   "cell_type": "code",
   "execution_count": 50,
   "metadata": {},
   "outputs": [
    {
     "data": {
      "text/html": [
       "<div>\n",
       "<style scoped>\n",
       "    .dataframe tbody tr th:only-of-type {\n",
       "        vertical-align: middle;\n",
       "    }\n",
       "\n",
       "    .dataframe tbody tr th {\n",
       "        vertical-align: top;\n",
       "    }\n",
       "\n",
       "    .dataframe thead tr th {\n",
       "        text-align: left;\n",
       "    }\n",
       "\n",
       "    .dataframe thead tr:last-of-type th {\n",
       "        text-align: right;\n",
       "    }\n",
       "</style>\n",
       "<table border=\"1\" class=\"dataframe\">\n",
       "  <thead>\n",
       "    <tr>\n",
       "      <th></th>\n",
       "      <th>count</th>\n",
       "      <th>mean</th>\n",
       "      <th>std</th>\n",
       "      <th>sum</th>\n",
       "      <th>median</th>\n",
       "    </tr>\n",
       "    <tr>\n",
       "      <th></th>\n",
       "      <th>sum_sales</th>\n",
       "      <th>sum_sales</th>\n",
       "      <th>sum_sales</th>\n",
       "      <th>sum_sales</th>\n",
       "      <th>sum_sales</th>\n",
       "    </tr>\n",
       "    <tr>\n",
       "      <th>genre</th>\n",
       "      <th></th>\n",
       "      <th></th>\n",
       "      <th></th>\n",
       "      <th></th>\n",
       "      <th></th>\n",
       "    </tr>\n",
       "  </thead>\n",
       "  <tbody>\n",
       "    <tr>\n",
       "      <th>Shooter</th>\n",
       "      <td>182</td>\n",
       "      <td>1.275275</td>\n",
       "      <td>2.033393</td>\n",
       "      <td>232.10</td>\n",
       "      <td>0.485</td>\n",
       "    </tr>\n",
       "    <tr>\n",
       "      <th>Sports</th>\n",
       "      <td>213</td>\n",
       "      <td>0.706808</td>\n",
       "      <td>1.221402</td>\n",
       "      <td>150.55</td>\n",
       "      <td>0.240</td>\n",
       "    </tr>\n",
       "    <tr>\n",
       "      <th>Platform</th>\n",
       "      <td>73</td>\n",
       "      <td>0.557945</td>\n",
       "      <td>0.797059</td>\n",
       "      <td>40.73</td>\n",
       "      <td>0.210</td>\n",
       "    </tr>\n",
       "    <tr>\n",
       "      <th>Fighting</th>\n",
       "      <td>75</td>\n",
       "      <td>0.462533</td>\n",
       "      <td>1.079994</td>\n",
       "      <td>34.69</td>\n",
       "      <td>0.130</td>\n",
       "    </tr>\n",
       "    <tr>\n",
       "      <th>Role-Playing</th>\n",
       "      <td>256</td>\n",
       "      <td>0.497461</td>\n",
       "      <td>1.428548</td>\n",
       "      <td>127.35</td>\n",
       "      <td>0.120</td>\n",
       "    </tr>\n",
       "    <tr>\n",
       "      <th>Racing</th>\n",
       "      <td>83</td>\n",
       "      <td>0.477229</td>\n",
       "      <td>0.974187</td>\n",
       "      <td>39.61</td>\n",
       "      <td>0.120</td>\n",
       "    </tr>\n",
       "    <tr>\n",
       "      <th>Action</th>\n",
       "      <td>740</td>\n",
       "      <td>0.427135</td>\n",
       "      <td>1.273341</td>\n",
       "      <td>316.08</td>\n",
       "      <td>0.110</td>\n",
       "    </tr>\n",
       "    <tr>\n",
       "      <th>Misc</th>\n",
       "      <td>154</td>\n",
       "      <td>0.409091</td>\n",
       "      <td>1.010488</td>\n",
       "      <td>63.00</td>\n",
       "      <td>0.105</td>\n",
       "    </tr>\n",
       "    <tr>\n",
       "      <th>Simulation</th>\n",
       "      <td>60</td>\n",
       "      <td>0.354000</td>\n",
       "      <td>0.862936</td>\n",
       "      <td>21.24</td>\n",
       "      <td>0.095</td>\n",
       "    </tr>\n",
       "    <tr>\n",
       "      <th>Strategy</th>\n",
       "      <td>55</td>\n",
       "      <td>0.182727</td>\n",
       "      <td>0.281263</td>\n",
       "      <td>10.05</td>\n",
       "      <td>0.080</td>\n",
       "    </tr>\n",
       "    <tr>\n",
       "      <th>Puzzle</th>\n",
       "      <td>17</td>\n",
       "      <td>0.186471</td>\n",
       "      <td>0.325172</td>\n",
       "      <td>3.17</td>\n",
       "      <td>0.060</td>\n",
       "    </tr>\n",
       "    <tr>\n",
       "      <th>Adventure</th>\n",
       "      <td>234</td>\n",
       "      <td>0.096581</td>\n",
       "      <td>0.219819</td>\n",
       "      <td>22.60</td>\n",
       "      <td>0.030</td>\n",
       "    </tr>\n",
       "  </tbody>\n",
       "</table>\n",
       "</div>"
      ],
      "text/plain": [
       "                 count      mean       std       sum    median\n",
       "             sum_sales sum_sales sum_sales sum_sales sum_sales\n",
       "genre                                                         \n",
       "Shooter            182  1.275275  2.033393    232.10     0.485\n",
       "Sports             213  0.706808  1.221402    150.55     0.240\n",
       "Platform            73  0.557945  0.797059     40.73     0.210\n",
       "Fighting            75  0.462533  1.079994     34.69     0.130\n",
       "Role-Playing       256  0.497461  1.428548    127.35     0.120\n",
       "Racing              83  0.477229  0.974187     39.61     0.120\n",
       "Action             740  0.427135  1.273341    316.08     0.110\n",
       "Misc               154  0.409091  1.010488     63.00     0.105\n",
       "Simulation          60  0.354000  0.862936     21.24     0.095\n",
       "Strategy            55  0.182727  0.281263     10.05     0.080\n",
       "Puzzle              17  0.186471  0.325172      3.17     0.060\n",
       "Adventure          234  0.096581  0.219819     22.60     0.030"
      ]
     },
     "execution_count": 50,
     "metadata": {},
     "output_type": "execute_result"
    }
   ],
   "source": [
    "(df_actual.pivot_table(index='genre', values='sum_sales', \n",
    "                aggfunc=['count', 'mean', 'std', 'sum', 'median'])\n",
    " .sort_values(('median', 'sum_sales'), ascending=False)\n",
    ")"
   ]
  },
  {
   "cell_type": "markdown",
   "metadata": {},
   "source": [
    "**Вывод:** \n",
    "- Судя по диаграмме размаха,самый прибыльный жанр является Shooter и судя по межквартильному размаху и судя мо медианне,и этот жанр сильно выделяется на фоне других.\n",
    "- Если обратить внимание на диагрумму,то жанр Adventure является не очень прибыльным жанром,хотя у него очень много выбросов,в отличие от такого же менее прибыльно чем все остальные жанры: Puzzle.\n",
    "- Так же не плохо себ показывают жанры Sport и  Platform."
   ]
  },
  {
   "cell_type": "markdown",
   "metadata": {},
   "source": [
    "### Шаг. Составьте портрет пользователя каждого региона"
   ]
  },
  {
   "cell_type": "markdown",
   "metadata": {},
   "source": [
    "#### Самые популярные платформы (топ-5)"
   ]
  },
  {
   "cell_type": "code",
   "execution_count": 51,
   "metadata": {},
   "outputs": [
    {
     "data": {
      "image/png": "[encoded data removed]",
      "text/plain": [
       "<Figure size 1080x360 with 1 Axes>"
      ]
     },
     "metadata": {},
     "output_type": "display_data"
    },
    {
     "data": {
      "image/png": "[encoded data removed]",
      "text/plain": [
       "<Figure size 1080x360 with 1 Axes>"
      ]
     },
     "metadata": {},
     "output_type": "display_data"
    },
    {
     "data": {
      "image/png": "[encoded data removed]",
      "text/plain": [
       "<Figure size 1080x360 with 1 Axes>"
      ]
     },
     "metadata": {},
     "output_type": "display_data"
    }
   ],
   "source": [
    "def function(index, values):\n",
    "    \n",
    "    pivot_function = df_actual.pivot_table(index=index, values=values, aggfunc='sum').sort_values(values, ascending=False).head()\n",
    "    pivot_function =  pivot_function.plot(kind='pie', autopct='%1.0f%%', subplots=True, figsize=(15, 5), title = values)\n",
    " \n",
    "    plt.legend('', frameon=False)\n",
    "    plt.ylabel('')\n",
    "    plt.show()\n",
    "    return  pivot_function\n",
    "function(index='platform', values = 'na_sales')\n",
    "function(index='platform', values = 'eu_sales')\n",
    "function(index='platform', values = 'jp_sales');"
   ]
  },
  {
   "cell_type": "markdown",
   "metadata": {},
   "source": [
    "**Вывод:** В разных регионах преобладают разные платформы.\n",
    "- В NA первое и второе место с примерно равными продажами делят PS4 и XAone соответственно.Далее идут устаревшие платформы  PS3 и X360,пятерку замыкает 3DS с 9%. \n",
    "- В EU большую долю занимают PS разных поколений, PS4 42%, PS3 20%, далее идут XBOX разных поколений XOne и X360,замыкают пятерку 3DS с 10%. \n",
    "- В JP большую долю занимает 3DS c 49%, PS3 не потерявший свою популярность на втором месте с 17%, далее PSV с 14%, PS4 с 12% и WiiU c 8% соответственно."
   ]
  },
  {
   "cell_type": "markdown",
   "metadata": {},
   "source": [
    "#### Самые популярные жанры (топ-5)"
   ]
  },
  {
   "cell_type": "code",
   "execution_count": 52,
   "metadata": {},
   "outputs": [
    {
     "data": {
      "image/png": "[encoded data removed]",
      "text/plain": [
       "<Figure size 1080x360 with 1 Axes>"
      ]
     },
     "metadata": {},
     "output_type": "display_data"
    },
    {
     "data": {
      "image/png": "[encoded data removed]",
      "text/plain": [
       "<Figure size 1080x360 with 1 Axes>"
      ]
     },
     "metadata": {},
     "output_type": "display_data"
    },
    {
     "data": {
      "image/png": "[encoded data removed]",
      "text/plain": [
       "<Figure size 1080x360 with 1 Axes>"
      ]
     },
     "metadata": {},
     "output_type": "display_data"
    }
   ],
   "source": [
    "def function(index, values):\n",
    "    \n",
    "    pivot_function = df_actual.pivot_table(index=index, values=values, aggfunc='sum').sort_values(values, ascending=False).head()\n",
    "    pivot_function =  pivot_function.plot(kind='pie', autopct='%1.0f%%', subplots=True, figsize=(15, 5), title = values);\n",
    " \n",
    "    plt.legend('', frameon=False)\n",
    "    plt.ylabel('')\n",
    "    plt.show()\n",
    "    return  pivot_function\n",
    "function(index='genre', values = 'na_sales')\n",
    "function(index='genre', values = 'eu_sales')\n",
    "function(index='genre', values = 'jp_sales');"
   ]
  },
  {
   "cell_type": "markdown",
   "metadata": {},
   "source": [
    "**Вывод:**  В NA и В EU преобладают примерно одинаковые жанры, в JP они разительно отличаются.\n",
    "- В NA первое и второе место с примерно равными продажами делят Action и Shooter соответственно.Далее идут Sport и Role-Playing,пятерку замыкает Misc c 7%. \n",
    "- В EU почти тоже самое, первое и второе место с примерно равными продажами делят Action и Shooter соответственно.Далее идут Sport и Role-Playing,пятерку замыкает Racing c 6%.\n",
    "- В JP большую долю занимает Role-Playing c 42%, далее идет жанр Action с 36%, остальные значительно отстают и не занимают больше 10% каждый, долю рынка."
   ]
  },
  {
   "cell_type": "markdown",
   "metadata": {},
   "source": [
    "#### Влияет ли рейтинг ESRB на продажи в отдельном регионе"
   ]
  },
  {
   "cell_type": "code",
   "execution_count": 53,
   "metadata": {},
   "outputs": [
    {
     "data": {
      "text/html": [
       "<div>\n",
       "<style scoped>\n",
       "    .dataframe tbody tr th:only-of-type {\n",
       "        vertical-align: middle;\n",
       "    }\n",
       "\n",
       "    .dataframe tbody tr th {\n",
       "        vertical-align: top;\n",
       "    }\n",
       "\n",
       "    .dataframe thead th {\n",
       "        text-align: right;\n",
       "    }\n",
       "</style>\n",
       "<table border=\"1\" class=\"dataframe\">\n",
       "  <thead>\n",
       "    <tr style=\"text-align: right;\">\n",
       "      <th></th>\n",
       "      <th>na_sales</th>\n",
       "    </tr>\n",
       "    <tr>\n",
       "      <th>rating</th>\n",
       "      <th></th>\n",
       "    </tr>\n",
       "  </thead>\n",
       "  <tbody>\n",
       "    <tr>\n",
       "      <th>M</th>\n",
       "      <td>162.15</td>\n",
       "    </tr>\n",
       "    <tr>\n",
       "      <th>NDA</th>\n",
       "      <td>81.79</td>\n",
       "    </tr>\n",
       "    <tr>\n",
       "      <th>E</th>\n",
       "      <td>78.89</td>\n",
       "    </tr>\n",
       "    <tr>\n",
       "      <th>E10+</th>\n",
       "      <td>54.23</td>\n",
       "    </tr>\n",
       "    <tr>\n",
       "      <th>T</th>\n",
       "      <td>49.59</td>\n",
       "    </tr>\n",
       "  </tbody>\n",
       "</table>\n",
       "</div>"
      ],
      "text/plain": [
       "        na_sales\n",
       "rating          \n",
       "M         162.15\n",
       "NDA        81.79\n",
       "E          78.89\n",
       "E10+       54.23\n",
       "T          49.59"
      ]
     },
     "execution_count": 53,
     "metadata": {},
     "output_type": "execute_result"
    }
   ],
   "source": [
    "(df_actual.pivot_table(index='rating', values='na_sales', aggfunc='sum')\n",
    "          .sort_values('na_sales', ascending=False)\n",
    ")"
   ]
  },
  {
   "cell_type": "code",
   "execution_count": 54,
   "metadata": {},
   "outputs": [
    {
     "data": {
      "text/html": [
       "<div>\n",
       "<style scoped>\n",
       "    .dataframe tbody tr th:only-of-type {\n",
       "        vertical-align: middle;\n",
       "    }\n",
       "\n",
       "    .dataframe tbody tr th {\n",
       "        vertical-align: top;\n",
       "    }\n",
       "\n",
       "    .dataframe thead th {\n",
       "        text-align: right;\n",
       "    }\n",
       "</style>\n",
       "<table border=\"1\" class=\"dataframe\">\n",
       "  <thead>\n",
       "    <tr style=\"text-align: right;\">\n",
       "      <th></th>\n",
       "      <th>eu_sales</th>\n",
       "    </tr>\n",
       "    <tr>\n",
       "      <th>rating</th>\n",
       "      <th></th>\n",
       "    </tr>\n",
       "  </thead>\n",
       "  <tbody>\n",
       "    <tr>\n",
       "      <th>M</th>\n",
       "      <td>142.84</td>\n",
       "    </tr>\n",
       "    <tr>\n",
       "      <th>E</th>\n",
       "      <td>83.14</td>\n",
       "    </tr>\n",
       "    <tr>\n",
       "      <th>NDA</th>\n",
       "      <td>72.75</td>\n",
       "    </tr>\n",
       "    <tr>\n",
       "      <th>E10+</th>\n",
       "      <td>42.65</td>\n",
       "    </tr>\n",
       "    <tr>\n",
       "      <th>T</th>\n",
       "      <td>41.94</td>\n",
       "    </tr>\n",
       "  </tbody>\n",
       "</table>\n",
       "</div>"
      ],
      "text/plain": [
       "        eu_sales\n",
       "rating          \n",
       "M         142.84\n",
       "E          83.14\n",
       "NDA        72.75\n",
       "E10+       42.65\n",
       "T          41.94"
      ]
     },
     "execution_count": 54,
     "metadata": {},
     "output_type": "execute_result"
    }
   ],
   "source": [
    "(df_actual.pivot_table(index='rating', values='eu_sales', aggfunc='sum')\n",
    " .sort_values('eu_sales', ascending=False)\n",
    ")"
   ]
  },
  {
   "cell_type": "code",
   "execution_count": 55,
   "metadata": {},
   "outputs": [
    {
     "data": {
      "text/html": [
       "<div>\n",
       "<style scoped>\n",
       "    .dataframe tbody tr th:only-of-type {\n",
       "        vertical-align: middle;\n",
       "    }\n",
       "\n",
       "    .dataframe tbody tr th {\n",
       "        vertical-align: top;\n",
       "    }\n",
       "\n",
       "    .dataframe thead th {\n",
       "        text-align: right;\n",
       "    }\n",
       "</style>\n",
       "<table border=\"1\" class=\"dataframe\">\n",
       "  <thead>\n",
       "    <tr style=\"text-align: right;\">\n",
       "      <th></th>\n",
       "      <th>jp_sales</th>\n",
       "    </tr>\n",
       "    <tr>\n",
       "      <th>rating</th>\n",
       "      <th></th>\n",
       "    </tr>\n",
       "  </thead>\n",
       "  <tbody>\n",
       "    <tr>\n",
       "      <th>NDA</th>\n",
       "      <td>80.15</td>\n",
       "    </tr>\n",
       "    <tr>\n",
       "      <th>T</th>\n",
       "      <td>19.79</td>\n",
       "    </tr>\n",
       "    <tr>\n",
       "      <th>E</th>\n",
       "      <td>15.12</td>\n",
       "    </tr>\n",
       "    <tr>\n",
       "      <th>M</th>\n",
       "      <td>13.53</td>\n",
       "    </tr>\n",
       "    <tr>\n",
       "      <th>E10+</th>\n",
       "      <td>5.89</td>\n",
       "    </tr>\n",
       "  </tbody>\n",
       "</table>\n",
       "</div>"
      ],
      "text/plain": [
       "        jp_sales\n",
       "rating          \n",
       "NDA        80.15\n",
       "T          19.79\n",
       "E          15.12\n",
       "M          13.53\n",
       "E10+        5.89"
      ]
     },
     "execution_count": 55,
     "metadata": {},
     "output_type": "execute_result"
    }
   ],
   "source": [
    "(df_actual.pivot_table(index='rating', values='jp_sales', aggfunc='sum')\n",
    " .sort_values('jp_sales', ascending=False)\n",
    ")\n"
   ]
  },
  {
   "cell_type": "code",
   "execution_count": 56,
   "metadata": {
    "scrolled": false
   },
   "outputs": [
    {
     "data": {
      "image/png": "[encoded data removed]",
      "text/plain": [
       "<Figure size 1224x288 with 1 Axes>"
      ]
     },
     "metadata": {
      "needs_background": "light"
     },
     "output_type": "display_data"
    }
   ],
   "source": [
    "(df_actual.pivot_table(index='rating', values=['na_sales', 'eu_sales', 'jp_sales'], aggfunc='sum')\n",
    " .sort_values('na_sales', ascending=False)\n",
    " .plot.bar(grid=True, figsize=(17, 4))\n",
    ")\n",
    "plt.title('Зависимость рейтинга ESRB на продажи по регионам')\n",
    "plt.xlabel('Категории рейтинга')\n",
    "plt.ylabel('Количество продаж')\n",
    "plt.legend(['EU', 'JP', 'NA'])\n",
    "plt.show()"
   ]
  },
  {
   "cell_type": "markdown",
   "metadata": {},
   "source": [
    "**Вывод:** Большое количество группы с пропусками во всех регионах расспределились примерно одинаково.В NA и EU места распределились одинаково и каждое значение в возрасной категории М примерно одинаково продалось.В JP ситуация разительно другая,больше всего продаж с категорией Т,а вот в NA и EU эта категория занимает последнее место.Судя по тому что в NA и EU ситуация одинаковая,думаю рейтинг ESRB влияет на эти регионы,а вот на JP нет."
   ]
  },
  {
   "cell_type": "markdown",
   "metadata": {},
   "source": [
    "### Шаг. Проверьте гипотезы"
   ]
  },
  {
   "cell_type": "markdown",
   "metadata": {},
   "source": [
    "#### Средние пользовательские рейтинги платформ Xbox One и PC одинаковые"
   ]
  },
  {
   "cell_type": "markdown",
   "metadata": {},
   "source": [
    "- Нулевая гипотеза: cредние пользовательские рейтинги платформ Xbox One и PC одинаковые.\n",
    "- Альтернативная гипотеза: cредние пользовательские рейтинги платформ Xbox One и PC разные."
   ]
  },
  {
   "cell_type": "code",
   "execution_count": 57,
   "metadata": {},
   "outputs": [
    {
     "name": "stdout",
     "output_type": "stream",
     "text": [
      "p-value: 0.16926241222611163\n",
      "Нет оснований отвергнуть нулевую гипотезу\n"
     ]
    }
   ],
   "source": [
    "first_group_platform = df_actual.query('platform == \"XOne\" & user_score > 0')\n",
    "\n",
    "second_group_platform = df_actual.query('platform == \"PC\" & user_score > 0')\n",
    "\n",
    "alpha = .05\n",
    "\n",
    "results = st.ttest_ind(\n",
    "    first_group_platform['user_score'], \n",
    "    second_group_platform['user_score'])\n",
    "\n",
    "print(f'p-value: {results.pvalue}')\n",
    "\n",
    "\n",
    "if results.pvalue < alpha:\n",
    "    print('Отвергаем нулевую гипотезу')\n",
    "else:\n",
    "    print('Нет оснований отвергнуть нулевую гипотезу')"
   ]
  },
  {
   "cell_type": "markdown",
   "metadata": {},
   "source": [
    "**Вывод:** Подтвердили нулевую гипотезу,есть основания говорить, что  cредние пользовательские рейтинги платформ Xbox One и PC одинаковые."
   ]
  },
  {
   "cell_type": "markdown",
   "metadata": {},
   "source": [
    "#### Средние пользовательские рейтинги жанров Action (англ. «действие», экшен-игры) и Sports (англ. «спортивные соревнования») разные"
   ]
  },
  {
   "cell_type": "markdown",
   "metadata": {},
   "source": [
    "- Нулевая гипотеза: средние пользовательские рейтинги жанров Action (англ. «действие», экшен-игры) и Sports (англ. «спортивные соревнования») одинаковые.\n",
    "- Альтернативная гипотеза: средние пользовательские рейтинги жанров Action (англ. «действие», экшен-игры) и Sports (англ. «спортивные соревнования») разные."
   ]
  },
  {
   "cell_type": "code",
   "execution_count": 58,
   "metadata": {},
   "outputs": [
    {
     "name": "stdout",
     "output_type": "stream",
     "text": [
      "p-value: 4.9104336460424685e-27\n",
      "Отвергаем нулевую гипотезу\n"
     ]
    }
   ],
   "source": [
    "first_group_genre = df_actual.query('genre == \"Action\" & user_score > 0')\n",
    "\n",
    "second_group_genre = df_actual.query('genre == \"Sports\" & user_score > 0')\n",
    "\n",
    "alpha = .05\n",
    "\n",
    "results = st.ttest_ind(\n",
    "    first_group_genre['user_score'], \n",
    "    second_group_genre['user_score'])\n",
    "\n",
    "print(f'p-value: {results.pvalue}')\n",
    "\n",
    "\n",
    "if results.pvalue < alpha:\n",
    "    print('Отвергаем нулевую гипотезу')\n",
    "else:\n",
    "    print('Нет оснований отвергнуть нулевую гипотезу')"
   ]
  },
  {
   "cell_type": "markdown",
   "metadata": {},
   "source": [
    "**Вывод:** Отвергли нулевую гипотезу,средние пользовательские рейтинги жанров Action (англ. «действие», экшен-игры) и Sports (англ. «спортивные соревнования») разные."
   ]
  },
  {
   "cell_type": "markdown",
   "metadata": {},
   "source": [
    "### Шаг. Напишите общий вывод"
   ]
  },
  {
   "cell_type": "markdown",
   "metadata": {},
   "source": [
    "По итогам проделанной работы было сделанно следующее:\n",
    "#### Открыл файл с данными и изучил иформацию\n",
    "- Загрузил данные из файла в датафрейм.\n",
    "- Вывел первые строки,изучил общую информацию о датафрейме.Данные представлены за период с 1980 - 2016 годы,есть названия игр,их жанр и продажи в разных регионах,так же есть оценки и возрастной рейтинг.\n",
    "#### Предобработал данные\n",
    "- Перевел название столбцов в нижний регистр.\n",
    "- Удалил строки с пропусками в столбцах 'name' и 'genre',в общей сложности их количество ровняется двум.\n",
    "- С помощью функции заменил пропуски в графе год релиза на тот год,который представлен у игры на другой платформе,далее удалил 146 строк.\n",
    "- Аббревиатуру 'tbd',что значит (to be determined, to be done) в столбце с оценкой пользователей,данным способом заменим их на nan.\n",
    "- Пропуски в столбцах 'user_score' и 'critic_score' оставил без изменений,их заполнять либо удалять нет смысла.\n",
    "- В столбце 'rating' заменим анологичное категории рейтингу 'K-A' на используемый сейчас значение 'E',пропуски замолним аббревиатурой NDA(нет данных),она будет служить маркером.\n",
    "- Заменил тип данных в столбеце 'year_of_release' на (int64).\n",
    "- Взглянув на данные по трем столбцам присутствуют дубликаты,оставил первый,второй удалил,сбросил индексы.Если взять весь датасет,то дубликатов нет.\n",
    "#### Провел исследовательский анализ данных\n",
    "- Вывел и изучил количество игр в разные годы.Судя по данным,до 1995 года выпускалось до 200 игр в год,что очень мало и не является актуальным периодом для анализа.Пик пришелся с 2006 по 2011 год,далее идет спад вплоть до 2016 года.\n",
    "- Вывел и изучил как менялись продажи по платформам по годам.Взяв топ 6 платформ с наибольшими суммарными продажами и построив распределение по годам, можно сделать вывод что средний срок жизни платформы около 10 лет.\n",
    "- Изучил какие платформы лидируют по продажам, растут или падают.Учитывая высокую динамичность рынка,можно сделать выводы что актуальным периодом будет с 2013 - 2016,иначе мы рисскуем взять платформы,которые уже не актуальны и не подойдут для анализа.\n",
    "- Построив график динамики продаж за выбранный \"Актуальный период\",можно выделить две крупные платформы,это PS4 и Xone,эти две платформы потенциально прибыльные,у многих платформ наблюдается спад,видимо жизненый цикл заканчивается,это такие платформы как PS3,X360,3DS.\n",
    "-  Построиил график «ящик с усами» по глобальным продажам игр в разбивке по 5 актуальным платформам.Лидером продаж является PS4,у нее и самый большой межквартильный размах,PC уступает всем конкурентам и размах у нее самый маленький,что может нам сказать о стабильности в продажах.Медианна у PS4, XOne и Wii примерно одинаковая,у PC, 3DS поменьше.Судя по частоте выбросов у PC самое плотное.Наличие выбросов показывает что в зависимости от игры,эсть топ продаж,которые опережают среднее значение.\n",
    "- Изучил влияние отзывов пользователей и критиков на продажи внутри одной популярной платформы(PS2).Судя по диаграммам и значению корреляции,можно сделать вывод что зависимость между оценками и продажами есть,между оценками критиков и продажами связь сильнее,так же судя по диаграммам частота встречаемости значений в верхнем правом углу у критиков выше,что говорит о более высокой связи нежели у пользователей.\n",
    "- Соотнес выводы с продажами игр на других платформах.Значения корреляций различаются, но общая тенденция проглядывается. Оценка критиков немного сильнее коррелирует с продажами, хотя эта связь не такая сильная. Корреляции между оценками пользователей и продажами нет. Можно сказать что оценки экспертов хоть как то,но влияют на продажи и оценки пользователей не влияют.\n",
    "- Сделал  Общее распределение игр по жанрам,построил диаграмму размаха.Судя по диаграмме размаха,самый прибыльный жанр является Shooter и судя по межквартильному размаху и судя мо медианне,и этот жанр сильно выделяется на фоне других.Если обратить внимание на диагрумму,то жанр Adventure является не очень прибыльным жанром,хотя у него очень много выбросов,в отличие от такого же менее прибыльно чем все остальные жанры: Puzzle.Так же не плохо себ показывают жанры Sport и Platform.\n",
    "#### Составил портрет пользователя каждого региона\n",
    "Самые популярные платформы (топ-5):\n",
    "В разных регионах преобладают разные платформы.\n",
    "- В NA первое и второе место с примерно равными продажами делят PS4 и XAone соответственно.Далее идут устаревшие платформы PS3 и X360,пятерку замыкает 3DS с 9%.\n",
    "- В EU большую долю занимают PS разных поколений, PS4 42%, PS3 20%, далее идут XBOX разных поколений XOne и X360,замыкают пятерку 3DS с 10%.\n",
    "- В JP большую долю занимает 3DS c 49%, PS3 не потерявший свою популярность на втором месте с 17%, далее PSV с 14%, PS4 с 12% и WiiU c 8% соответственно.\n",
    "Самые популярные жанры (топ-5):\n",
    "- В NA первое и второе место с примерно равными продажами делят Action и Shooter соответственно.Далее идут Sport и Role-Playing,пятерку замыкает Misc c 7%.\n",
    "- В EU почти тоже самое, первое и второе место с примерно равными продажами делят Action и Shooter соответственно.Далее идут Sport и Role-Playing,пятерку замыкает Racing c 6%.\n",
    "- В JP большую долю занимает Role-Playing c 42%, далее идет жанр Action с 36%, остальные значительно отстают и не занимают больше 10% каждый, долю рынка.\n",
    "Изучил Влияет ли рейтинг ESRB на продажи в отдельном регионе.Большое количество группы с пропусками во всех регионах расспределились примерно одинаково.В NA и EU места распределились одинаково и каждое значение в возрасной категории М примерно одинаково продалось.В JP ситуация разительно другая,больше всего продаж с категорией Т,а вот в NA и EU эта категория занимает последнее место.Судя по тому что в NA и EU ситуация одинаковая,думаю рейтинг ESRB влияет на эти регионы,а вот на JP нет.\n",
    "#### Проверил гипотезы\n",
    "- Средние пользовательские рейтинги платформ Xbox One и PC одинаковые.Нулевая гипотеза: cредние пользовательские рейтинги платформ Xbox One и PC одинаковые.Альтернативная гипотеза: cредние пользовательские рейтинги платформ Xbox One и PC разные. p-value: 0.1692,подтвердили нулевую гипотезу,есть основания говорить, что cредние пользовательские рейтинги платформ Xbox One и PC одинаковые.\n",
    "- Средние пользовательские рейтинги жанров Action (англ. «действие», экшен-игры) и Sports (англ. «спортивные соревнования») разные. Нулевая гипотеза: средние пользовательские рейтинги жанров Action (англ. «действие», экшен-игры) и Sports (англ. «спортивные соревнования») одинаковые.Альтернативная гипотеза: средние пользовательские рейтинги жанров Action (англ. «действие», экшен-игры) и Sports (англ. «спортивные соревнования») разные. p-value: 4.9104336460424685e-27, отвергли нулевую гипотезу,средние пользовательские рейтинги жанров Action (англ. «действие», экшен-игры) и Sports (англ. «спортивные соревнования») разные.\n",
    "В обоих случая проверяли гипотезу о равенстве средних двух генеральных совокупностей."
   ]
  },
  {
   "cell_type": "code",
   "execution_count": null,
   "metadata": {},
   "outputs": [],
   "source": []
  }
 ],
 "metadata": {
  "ExecuteTimeLog": [
   {
    "duration": 732,
    "start_time": "2023-05-24T19:34:21.272Z"
   },
   {
    "duration": 195,
    "start_time": "2023-05-24T19:34:22.262Z"
   },
   {
    "duration": 64,
    "start_time": "2023-05-24T19:34:35.257Z"
   },
   {
    "duration": 2,
    "start_time": "2023-05-24T19:34:38.967Z"
   },
   {
    "duration": 52,
    "start_time": "2023-05-24T19:34:39.541Z"
   },
   {
    "duration": 11,
    "start_time": "2023-05-24T19:34:40.053Z"
   },
   {
    "duration": 3135,
    "start_time": "2023-05-24T19:34:53.016Z"
   },
   {
    "duration": 0,
    "start_time": "2023-05-24T19:34:56.153Z"
   },
   {
    "duration": 56,
    "start_time": "2023-05-24T19:37:04.351Z"
   },
   {
    "duration": 28,
    "start_time": "2023-05-24T19:37:05.453Z"
   },
   {
    "duration": 556,
    "start_time": "2023-05-24T19:38:28.962Z"
   },
   {
    "duration": 49,
    "start_time": "2023-05-24T19:38:30.060Z"
   },
   {
    "duration": 25,
    "start_time": "2023-05-24T19:38:31.092Z"
   },
   {
    "duration": 17,
    "start_time": "2023-05-24T19:39:24.083Z"
   },
   {
    "duration": 13,
    "start_time": "2023-05-24T19:39:37.166Z"
   },
   {
    "duration": 752,
    "start_time": "2023-05-24T19:51:12.380Z"
   },
   {
    "duration": 69,
    "start_time": "2023-05-24T19:56:53.855Z"
   },
   {
    "duration": 7,
    "start_time": "2023-05-24T19:57:13.209Z"
   },
   {
    "duration": 639,
    "start_time": "2023-05-24T19:57:38.812Z"
   },
   {
    "duration": 52,
    "start_time": "2023-05-24T19:57:39.453Z"
   },
   {
    "duration": 23,
    "start_time": "2023-05-24T19:57:39.506Z"
   },
   {
    "duration": 14,
    "start_time": "2023-05-24T19:57:39.531Z"
   },
   {
    "duration": 767,
    "start_time": "2023-05-24T19:57:39.546Z"
   },
   {
    "duration": 72,
    "start_time": "2023-05-24T19:57:40.315Z"
   },
   {
    "duration": 27,
    "start_time": "2023-05-24T19:58:25.299Z"
   },
   {
    "duration": 4,
    "start_time": "2023-05-24T19:59:39.537Z"
   },
   {
    "duration": 18,
    "start_time": "2023-05-24T19:59:42.655Z"
   },
   {
    "duration": 23,
    "start_time": "2023-05-24T20:03:04.550Z"
   },
   {
    "duration": 18,
    "start_time": "2023-05-24T20:03:07.011Z"
   },
   {
    "duration": 12,
    "start_time": "2023-05-24T20:03:28.873Z"
   },
   {
    "duration": 620,
    "start_time": "2023-05-24T20:03:36.988Z"
   },
   {
    "duration": 50,
    "start_time": "2023-05-24T20:03:37.610Z"
   },
   {
    "duration": 28,
    "start_time": "2023-05-24T20:03:37.662Z"
   },
   {
    "duration": 19,
    "start_time": "2023-05-24T20:03:37.693Z"
   },
   {
    "duration": 40,
    "start_time": "2023-05-24T20:03:37.714Z"
   },
   {
    "duration": 681,
    "start_time": "2023-05-24T20:03:37.756Z"
   },
   {
    "duration": 3,
    "start_time": "2023-05-24T20:03:38.439Z"
   },
   {
    "duration": 18,
    "start_time": "2023-05-24T20:03:38.444Z"
   },
   {
    "duration": 9,
    "start_time": "2023-05-24T20:03:38.464Z"
   },
   {
    "duration": 32,
    "start_time": "2023-05-24T20:03:38.476Z"
   },
   {
    "duration": 15,
    "start_time": "2023-05-24T20:04:19.163Z"
   },
   {
    "duration": 566,
    "start_time": "2023-05-24T20:04:31.767Z"
   },
   {
    "duration": 51,
    "start_time": "2023-05-24T20:04:32.334Z"
   },
   {
    "duration": 4,
    "start_time": "2023-05-24T20:04:37.606Z"
   },
   {
    "duration": 10,
    "start_time": "2023-05-24T20:04:38.946Z"
   },
   {
    "duration": 23,
    "start_time": "2023-05-24T20:04:39.967Z"
   },
   {
    "duration": 11,
    "start_time": "2023-05-24T20:05:02.213Z"
   },
   {
    "duration": 16,
    "start_time": "2023-05-24T20:05:04.322Z"
   },
   {
    "duration": 12,
    "start_time": "2023-05-24T20:05:12.607Z"
   },
   {
    "duration": 648,
    "start_time": "2023-05-24T20:07:52.253Z"
   },
   {
    "duration": 50,
    "start_time": "2023-05-24T20:07:53.526Z"
   },
   {
    "duration": 91,
    "start_time": "2023-05-24T20:08:02.324Z"
   },
   {
    "duration": 536,
    "start_time": "2023-05-24T20:08:23.256Z"
   },
   {
    "duration": 50,
    "start_time": "2023-05-24T20:08:24.355Z"
   },
   {
    "duration": 4,
    "start_time": "2023-05-24T20:08:32.080Z"
   },
   {
    "duration": 9,
    "start_time": "2023-05-24T20:08:34.724Z"
   },
   {
    "duration": 16,
    "start_time": "2023-05-24T20:08:38.712Z"
   },
   {
    "duration": 85,
    "start_time": "2023-05-24T20:27:14.839Z"
   },
   {
    "duration": 17,
    "start_time": "2023-05-24T20:27:56.244Z"
   },
   {
    "duration": 902,
    "start_time": "2023-05-25T14:26:02.560Z"
   },
   {
    "duration": 270,
    "start_time": "2023-05-25T14:26:03.464Z"
   },
   {
    "duration": 26,
    "start_time": "2023-05-25T14:26:03.736Z"
   },
   {
    "duration": 15,
    "start_time": "2023-05-25T14:26:03.764Z"
   },
   {
    "duration": 44,
    "start_time": "2023-05-25T14:26:03.782Z"
   },
   {
    "duration": 796,
    "start_time": "2023-05-25T14:26:03.828Z"
   },
   {
    "duration": 6,
    "start_time": "2023-05-25T14:26:04.626Z"
   },
   {
    "duration": 24,
    "start_time": "2023-05-25T14:26:04.633Z"
   },
   {
    "duration": 30,
    "start_time": "2023-05-25T14:26:04.659Z"
   },
   {
    "duration": 8,
    "start_time": "2023-05-25T14:26:04.691Z"
   },
   {
    "duration": 29,
    "start_time": "2023-05-25T14:26:04.700Z"
   },
   {
    "duration": 24,
    "start_time": "2023-05-25T14:28:09.737Z"
   },
   {
    "duration": 119,
    "start_time": "2023-05-25T14:28:57.808Z"
   },
   {
    "duration": 32,
    "start_time": "2023-05-25T14:29:13.226Z"
   },
   {
    "duration": 26,
    "start_time": "2023-05-25T14:31:12.085Z"
   },
   {
    "duration": 10,
    "start_time": "2023-05-25T14:45:21.738Z"
   },
   {
    "duration": 16,
    "start_time": "2023-05-25T14:45:24.487Z"
   },
   {
    "duration": 24,
    "start_time": "2023-05-25T14:45:27.462Z"
   },
   {
    "duration": 22,
    "start_time": "2023-05-25T14:45:36.471Z"
   },
   {
    "duration": 12,
    "start_time": "2023-05-25T14:46:45.130Z"
   },
   {
    "duration": 712,
    "start_time": "2023-05-25T14:46:52.948Z"
   },
   {
    "duration": 53,
    "start_time": "2023-05-25T14:46:54.149Z"
   },
   {
    "duration": 4,
    "start_time": "2023-05-25T14:47:02.015Z"
   },
   {
    "duration": 22,
    "start_time": "2023-05-25T14:47:07.025Z"
   },
   {
    "duration": 23,
    "start_time": "2023-05-25T14:47:16.213Z"
   },
   {
    "duration": 13,
    "start_time": "2023-05-25T14:50:11.343Z"
   },
   {
    "duration": 12,
    "start_time": "2023-05-25T14:50:19.178Z"
   },
   {
    "duration": 13,
    "start_time": "2023-05-25T14:50:36.402Z"
   },
   {
    "duration": 9,
    "start_time": "2023-05-25T14:50:38.663Z"
   },
   {
    "duration": 24,
    "start_time": "2023-05-25T14:51:28.817Z"
   },
   {
    "duration": 36,
    "start_time": "2023-05-25T14:52:15.947Z"
   },
   {
    "duration": 26,
    "start_time": "2023-05-25T14:52:32.401Z"
   },
   {
    "duration": 2,
    "start_time": "2023-05-25T14:55:38.519Z"
   },
   {
    "duration": 8,
    "start_time": "2023-05-25T14:55:48.428Z"
   },
   {
    "duration": 87,
    "start_time": "2023-05-25T14:59:49.634Z"
   },
   {
    "duration": 11,
    "start_time": "2023-05-25T14:59:58.372Z"
   },
   {
    "duration": 22788,
    "start_time": "2023-05-25T15:00:01.394Z"
   },
   {
    "duration": 27,
    "start_time": "2023-05-25T15:00:44.209Z"
   },
   {
    "duration": 8,
    "start_time": "2023-05-25T15:01:06.394Z"
   },
   {
    "duration": 26,
    "start_time": "2023-05-25T15:01:08.817Z"
   },
   {
    "duration": 744,
    "start_time": "2023-05-25T15:04:17.882Z"
   },
   {
    "duration": 58,
    "start_time": "2023-05-25T15:04:18.629Z"
   },
   {
    "duration": 3,
    "start_time": "2023-05-25T15:04:24.550Z"
   },
   {
    "duration": 23,
    "start_time": "2023-05-25T15:04:30.699Z"
   },
   {
    "duration": 10,
    "start_time": "2023-05-25T15:04:32.123Z"
   },
   {
    "duration": 8,
    "start_time": "2023-05-25T15:04:34.418Z"
   },
   {
    "duration": 22102,
    "start_time": "2023-05-25T15:04:58.738Z"
   },
   {
    "duration": 32,
    "start_time": "2023-05-25T15:05:20.842Z"
   },
   {
    "duration": 30,
    "start_time": "2023-05-25T15:05:58.859Z"
   },
   {
    "duration": 3,
    "start_time": "2023-05-25T15:07:14.917Z"
   },
   {
    "duration": 93,
    "start_time": "2023-05-25T15:07:14.922Z"
   },
   {
    "duration": 24,
    "start_time": "2023-05-25T15:07:15.016Z"
   },
   {
    "duration": 50,
    "start_time": "2023-05-25T15:07:15.041Z"
   },
   {
    "duration": 38,
    "start_time": "2023-05-25T15:07:15.093Z"
   },
   {
    "duration": 951,
    "start_time": "2023-05-25T15:07:15.133Z"
   },
   {
    "duration": 4,
    "start_time": "2023-05-25T15:07:16.086Z"
   },
   {
    "duration": 16,
    "start_time": "2023-05-25T15:07:16.092Z"
   },
   {
    "duration": 28,
    "start_time": "2023-05-25T15:07:16.109Z"
   },
   {
    "duration": 36,
    "start_time": "2023-05-25T15:07:16.139Z"
   },
   {
    "duration": 23,
    "start_time": "2023-05-25T15:07:16.177Z"
   },
   {
    "duration": 23417,
    "start_time": "2023-05-25T15:07:16.204Z"
   },
   {
    "duration": 49,
    "start_time": "2023-05-25T15:07:39.623Z"
   },
   {
    "duration": 8,
    "start_time": "2023-05-25T15:07:39.676Z"
   },
   {
    "duration": 37,
    "start_time": "2023-05-25T15:07:39.686Z"
   },
   {
    "duration": 27,
    "start_time": "2023-05-25T15:07:39.725Z"
   },
   {
    "duration": 4,
    "start_time": "2023-05-25T15:08:31.394Z"
   },
   {
    "duration": 32,
    "start_time": "2023-05-25T15:08:35.438Z"
   },
   {
    "duration": 14,
    "start_time": "2023-05-25T15:08:52.566Z"
   },
   {
    "duration": 13,
    "start_time": "2023-05-25T15:11:57.731Z"
   },
   {
    "duration": 13,
    "start_time": "2023-05-25T15:12:10.002Z"
   },
   {
    "duration": 6,
    "start_time": "2023-05-25T15:22:04.744Z"
   },
   {
    "duration": 10,
    "start_time": "2023-05-25T15:22:54.000Z"
   },
   {
    "duration": 13,
    "start_time": "2023-05-25T15:26:38.675Z"
   },
   {
    "duration": 5,
    "start_time": "2023-05-25T15:26:51.972Z"
   },
   {
    "duration": 5,
    "start_time": "2023-05-25T15:26:54.474Z"
   },
   {
    "duration": 6,
    "start_time": "2023-05-25T15:31:32.619Z"
   },
   {
    "duration": 5,
    "start_time": "2023-05-25T15:37:10.434Z"
   },
   {
    "duration": 6,
    "start_time": "2023-05-25T15:37:12.870Z"
   },
   {
    "duration": 6,
    "start_time": "2023-05-25T15:46:49.134Z"
   },
   {
    "duration": 5,
    "start_time": "2023-05-25T15:46:50.373Z"
   },
   {
    "duration": 4,
    "start_time": "2023-05-25T15:49:16.389Z"
   },
   {
    "duration": 5,
    "start_time": "2023-05-25T15:49:20.983Z"
   },
   {
    "duration": 4,
    "start_time": "2023-05-25T15:49:22.482Z"
   },
   {
    "duration": 5,
    "start_time": "2023-05-25T15:49:23.103Z"
   },
   {
    "duration": 10,
    "start_time": "2023-05-25T15:49:40.060Z"
   },
   {
    "duration": 4,
    "start_time": "2023-05-25T15:50:53.044Z"
   },
   {
    "duration": 5,
    "start_time": "2023-05-25T15:50:53.532Z"
   },
   {
    "duration": 5,
    "start_time": "2023-05-25T15:51:02.466Z"
   },
   {
    "duration": 5,
    "start_time": "2023-05-25T15:51:02.911Z"
   },
   {
    "duration": 691,
    "start_time": "2023-05-25T15:51:07.648Z"
   },
   {
    "duration": 65,
    "start_time": "2023-05-25T15:51:08.342Z"
   },
   {
    "duration": 26,
    "start_time": "2023-05-25T15:51:08.412Z"
   },
   {
    "duration": 22,
    "start_time": "2023-05-25T15:51:08.441Z"
   },
   {
    "duration": 34,
    "start_time": "2023-05-25T15:51:08.465Z"
   },
   {
    "duration": 842,
    "start_time": "2023-05-25T15:51:08.501Z"
   },
   {
    "duration": 11,
    "start_time": "2023-05-25T15:51:09.345Z"
   },
   {
    "duration": 25,
    "start_time": "2023-05-25T15:51:09.358Z"
   },
   {
    "duration": 35,
    "start_time": "2023-05-25T15:51:09.385Z"
   },
   {
    "duration": 9,
    "start_time": "2023-05-25T15:51:09.422Z"
   },
   {
    "duration": 17,
    "start_time": "2023-05-25T15:51:09.433Z"
   },
   {
    "duration": 21161,
    "start_time": "2023-05-25T15:51:09.452Z"
   },
   {
    "duration": 23,
    "start_time": "2023-05-25T15:51:30.616Z"
   },
   {
    "duration": 38,
    "start_time": "2023-05-25T15:51:30.640Z"
   },
   {
    "duration": 57,
    "start_time": "2023-05-25T15:51:30.680Z"
   },
   {
    "duration": 60,
    "start_time": "2023-05-25T15:51:30.739Z"
   },
   {
    "duration": 74,
    "start_time": "2023-05-25T15:51:30.801Z"
   },
   {
    "duration": 53,
    "start_time": "2023-05-25T15:51:30.877Z"
   },
   {
    "duration": 88,
    "start_time": "2023-05-25T15:51:30.932Z"
   },
   {
    "duration": 74,
    "start_time": "2023-05-25T15:51:31.022Z"
   },
   {
    "duration": 57,
    "start_time": "2023-05-25T15:51:31.098Z"
   },
   {
    "duration": 61,
    "start_time": "2023-05-25T15:51:31.157Z"
   },
   {
    "duration": 57,
    "start_time": "2023-05-25T15:51:31.219Z"
   },
   {
    "duration": 5,
    "start_time": "2023-05-25T15:59:07.442Z"
   },
   {
    "duration": 12,
    "start_time": "2023-05-25T15:59:12.634Z"
   },
   {
    "duration": 6,
    "start_time": "2023-05-25T15:59:22.934Z"
   },
   {
    "duration": 5,
    "start_time": "2023-05-25T15:59:33.218Z"
   },
   {
    "duration": 9,
    "start_time": "2023-05-25T15:59:47.044Z"
   },
   {
    "duration": 12,
    "start_time": "2023-05-25T15:59:54.023Z"
   },
   {
    "duration": 23,
    "start_time": "2023-05-25T16:00:10.260Z"
   },
   {
    "duration": 22,
    "start_time": "2023-05-25T16:00:49.742Z"
   },
   {
    "duration": 6,
    "start_time": "2023-05-25T16:00:55.526Z"
   },
   {
    "duration": 4,
    "start_time": "2023-05-25T16:01:54.791Z"
   },
   {
    "duration": 6,
    "start_time": "2023-05-25T16:02:00.338Z"
   },
   {
    "duration": 9,
    "start_time": "2023-05-25T16:02:16.519Z"
   },
   {
    "duration": 16,
    "start_time": "2023-05-25T16:02:51.704Z"
   },
   {
    "duration": 4,
    "start_time": "2023-05-25T16:04:20.390Z"
   },
   {
    "duration": 79,
    "start_time": "2023-05-25T16:04:30.342Z"
   },
   {
    "duration": 14,
    "start_time": "2023-05-25T16:04:35.821Z"
   },
   {
    "duration": 786,
    "start_time": "2023-05-25T16:07:20.674Z"
   },
   {
    "duration": 56,
    "start_time": "2023-05-25T16:07:23.809Z"
   },
   {
    "duration": 4,
    "start_time": "2023-05-25T16:07:35.644Z"
   },
   {
    "duration": 18,
    "start_time": "2023-05-25T16:08:02.625Z"
   },
   {
    "duration": 92,
    "start_time": "2023-05-25T16:08:06.074Z"
   },
   {
    "duration": 10,
    "start_time": "2023-05-25T16:08:11.574Z"
   },
   {
    "duration": 9,
    "start_time": "2023-05-25T16:09:00.013Z"
   },
   {
    "duration": 705,
    "start_time": "2023-05-25T16:09:09.848Z"
   },
   {
    "duration": 53,
    "start_time": "2023-05-25T16:09:10.557Z"
   },
   {
    "duration": 26,
    "start_time": "2023-05-25T16:09:10.613Z"
   },
   {
    "duration": 15,
    "start_time": "2023-05-25T16:09:10.641Z"
   },
   {
    "duration": 47,
    "start_time": "2023-05-25T16:09:10.658Z"
   },
   {
    "duration": 792,
    "start_time": "2023-05-25T16:09:10.707Z"
   },
   {
    "duration": 4,
    "start_time": "2023-05-25T16:09:11.501Z"
   },
   {
    "duration": 11,
    "start_time": "2023-05-25T16:09:11.507Z"
   },
   {
    "duration": 19,
    "start_time": "2023-05-25T16:09:11.520Z"
   },
   {
    "duration": 10,
    "start_time": "2023-05-25T16:09:11.558Z"
   },
   {
    "duration": 8,
    "start_time": "2023-05-25T16:09:11.570Z"
   },
   {
    "duration": 20461,
    "start_time": "2023-05-25T16:09:11.580Z"
   },
   {
    "duration": 29,
    "start_time": "2023-05-25T16:09:32.043Z"
   },
   {
    "duration": 7,
    "start_time": "2023-05-25T16:09:32.074Z"
   },
   {
    "duration": 4,
    "start_time": "2023-05-25T16:09:32.083Z"
   },
   {
    "duration": 5,
    "start_time": "2023-05-25T16:09:32.089Z"
   },
   {
    "duration": 12,
    "start_time": "2023-05-25T16:09:32.096Z"
   },
   {
    "duration": 17,
    "start_time": "2023-05-25T16:09:32.110Z"
   },
   {
    "duration": 11,
    "start_time": "2023-05-25T16:09:32.129Z"
   },
   {
    "duration": 4,
    "start_time": "2023-05-25T16:09:32.157Z"
   },
   {
    "duration": 22,
    "start_time": "2023-05-25T16:09:32.163Z"
   },
   {
    "duration": 11,
    "start_time": "2023-05-25T16:09:32.187Z"
   },
   {
    "duration": 70,
    "start_time": "2023-05-25T16:09:32.200Z"
   },
   {
    "duration": 0,
    "start_time": "2023-05-25T16:09:32.272Z"
   },
   {
    "duration": 0,
    "start_time": "2023-05-25T16:09:32.273Z"
   },
   {
    "duration": 17,
    "start_time": "2023-05-25T16:10:00.738Z"
   },
   {
    "duration": 17,
    "start_time": "2023-05-25T16:10:01.697Z"
   },
   {
    "duration": 23,
    "start_time": "2023-05-25T16:10:13.311Z"
   },
   {
    "duration": 6,
    "start_time": "2023-05-25T16:13:05.586Z"
   },
   {
    "duration": 23,
    "start_time": "2023-05-25T16:13:07.769Z"
   },
   {
    "duration": 112,
    "start_time": "2023-05-25T16:14:31.423Z"
   },
   {
    "duration": 17,
    "start_time": "2023-05-25T16:14:52.768Z"
   },
   {
    "duration": 14,
    "start_time": "2023-05-25T16:15:34.063Z"
   },
   {
    "duration": 667,
    "start_time": "2023-05-25T16:18:20.189Z"
   },
   {
    "duration": 53,
    "start_time": "2023-05-25T16:18:20.859Z"
   },
   {
    "duration": 24,
    "start_time": "2023-05-25T16:18:20.914Z"
   },
   {
    "duration": 14,
    "start_time": "2023-05-25T16:18:20.940Z"
   },
   {
    "duration": 30,
    "start_time": "2023-05-25T16:18:20.957Z"
   },
   {
    "duration": 796,
    "start_time": "2023-05-25T16:18:20.989Z"
   },
   {
    "duration": 3,
    "start_time": "2023-05-25T16:18:21.787Z"
   },
   {
    "duration": 11,
    "start_time": "2023-05-25T16:18:21.792Z"
   },
   {
    "duration": 17,
    "start_time": "2023-05-25T16:18:21.805Z"
   },
   {
    "duration": 34,
    "start_time": "2023-05-25T16:18:21.823Z"
   },
   {
    "duration": 97,
    "start_time": "2023-05-25T16:18:21.859Z"
   },
   {
    "duration": 20109,
    "start_time": "2023-05-25T16:18:21.958Z"
   },
   {
    "duration": 24,
    "start_time": "2023-05-25T16:18:42.069Z"
   },
   {
    "duration": 6,
    "start_time": "2023-05-25T16:18:42.096Z"
   },
   {
    "duration": 3,
    "start_time": "2023-05-25T16:18:42.104Z"
   },
   {
    "duration": 6,
    "start_time": "2023-05-25T16:18:42.108Z"
   },
   {
    "duration": 8,
    "start_time": "2023-05-25T16:18:42.116Z"
   },
   {
    "duration": 5,
    "start_time": "2023-05-25T16:18:42.126Z"
   },
   {
    "duration": 6,
    "start_time": "2023-05-25T16:18:42.132Z"
   },
   {
    "duration": 15,
    "start_time": "2023-05-25T16:18:42.139Z"
   },
   {
    "duration": 34,
    "start_time": "2023-05-25T16:18:42.156Z"
   },
   {
    "duration": 12,
    "start_time": "2023-05-25T16:18:42.191Z"
   },
   {
    "duration": 5,
    "start_time": "2023-05-25T16:18:42.204Z"
   },
   {
    "duration": 19,
    "start_time": "2023-05-25T16:18:42.210Z"
   },
   {
    "duration": 15,
    "start_time": "2023-05-25T16:18:42.230Z"
   },
   {
    "duration": 5,
    "start_time": "2023-05-25T16:18:42.246Z"
   },
   {
    "duration": 50,
    "start_time": "2023-05-25T16:27:12.945Z"
   },
   {
    "duration": 8,
    "start_time": "2023-05-25T16:27:48.475Z"
   },
   {
    "duration": 700,
    "start_time": "2023-05-25T16:27:58.483Z"
   },
   {
    "duration": 53,
    "start_time": "2023-05-25T16:27:59.185Z"
   },
   {
    "duration": 26,
    "start_time": "2023-05-25T16:27:59.240Z"
   },
   {
    "duration": 15,
    "start_time": "2023-05-25T16:27:59.268Z"
   },
   {
    "duration": 43,
    "start_time": "2023-05-25T16:27:59.285Z"
   },
   {
    "duration": 771,
    "start_time": "2023-05-25T16:27:59.330Z"
   },
   {
    "duration": 3,
    "start_time": "2023-05-25T16:28:00.103Z"
   },
   {
    "duration": 38,
    "start_time": "2023-05-25T16:28:00.108Z"
   },
   {
    "duration": 37,
    "start_time": "2023-05-25T16:28:00.148Z"
   },
   {
    "duration": 21,
    "start_time": "2023-05-25T16:28:00.188Z"
   },
   {
    "duration": 26,
    "start_time": "2023-05-25T16:28:00.210Z"
   },
   {
    "duration": 20418,
    "start_time": "2023-05-25T16:28:00.238Z"
   },
   {
    "duration": 26,
    "start_time": "2023-05-25T16:28:20.658Z"
   },
   {
    "duration": 7,
    "start_time": "2023-05-25T16:28:20.687Z"
   },
   {
    "duration": 22,
    "start_time": "2023-05-25T16:28:20.695Z"
   },
   {
    "duration": 6,
    "start_time": "2023-05-25T16:28:20.719Z"
   },
   {
    "duration": 30,
    "start_time": "2023-05-25T16:28:20.727Z"
   },
   {
    "duration": 5,
    "start_time": "2023-05-25T16:28:20.759Z"
   },
   {
    "duration": 10,
    "start_time": "2023-05-25T16:28:20.766Z"
   },
   {
    "duration": 26,
    "start_time": "2023-05-25T16:28:20.778Z"
   },
   {
    "duration": 15,
    "start_time": "2023-05-25T16:28:20.806Z"
   },
   {
    "duration": 12,
    "start_time": "2023-05-25T16:28:20.824Z"
   },
   {
    "duration": 11,
    "start_time": "2023-05-25T16:28:20.838Z"
   },
   {
    "duration": 18,
    "start_time": "2023-05-25T16:28:20.851Z"
   },
   {
    "duration": 16,
    "start_time": "2023-05-25T16:28:20.871Z"
   },
   {
    "duration": 5,
    "start_time": "2023-05-25T16:28:20.890Z"
   },
   {
    "duration": 329,
    "start_time": "2023-05-25T16:28:20.898Z"
   },
   {
    "duration": 536,
    "start_time": "2023-05-25T16:31:06.951Z"
   },
   {
    "duration": 9,
    "start_time": "2023-05-25T16:31:46.262Z"
   },
   {
    "duration": 141,
    "start_time": "2023-05-25T16:34:45.548Z"
   },
   {
    "duration": 264,
    "start_time": "2023-05-25T16:34:58.710Z"
   },
   {
    "duration": 231,
    "start_time": "2023-05-25T16:35:57.754Z"
   },
   {
    "duration": 132,
    "start_time": "2023-05-25T16:37:00.790Z"
   },
   {
    "duration": 5,
    "start_time": "2023-05-25T16:38:46.477Z"
   },
   {
    "duration": 133,
    "start_time": "2023-05-25T16:38:53.213Z"
   },
   {
    "duration": 148,
    "start_time": "2023-05-25T16:39:09.708Z"
   },
   {
    "duration": 357,
    "start_time": "2023-05-25T16:40:38.084Z"
   },
   {
    "duration": 8,
    "start_time": "2023-05-25T16:40:55.640Z"
   },
   {
    "duration": 11,
    "start_time": "2023-05-25T16:45:38.403Z"
   },
   {
    "duration": 26,
    "start_time": "2023-05-25T17:39:40.378Z"
   },
   {
    "duration": 15,
    "start_time": "2023-05-25T17:40:21.331Z"
   },
   {
    "duration": 14,
    "start_time": "2023-05-25T17:43:00.670Z"
   },
   {
    "duration": 22,
    "start_time": "2023-05-25T17:43:07.427Z"
   },
   {
    "duration": 25,
    "start_time": "2023-05-25T17:43:45.440Z"
   },
   {
    "duration": 124,
    "start_time": "2023-05-25T17:44:13.926Z"
   },
   {
    "duration": 17,
    "start_time": "2023-05-25T17:44:36.571Z"
   },
   {
    "duration": 24,
    "start_time": "2023-05-25T17:44:53.371Z"
   },
   {
    "duration": 16,
    "start_time": "2023-05-25T17:45:04.483Z"
   },
   {
    "duration": 20,
    "start_time": "2023-05-25T17:45:38.044Z"
   },
   {
    "duration": 16,
    "start_time": "2023-05-25T17:45:52.178Z"
   },
   {
    "duration": 20,
    "start_time": "2023-05-25T17:47:09.719Z"
   },
   {
    "duration": 19,
    "start_time": "2023-05-25T17:47:24.434Z"
   },
   {
    "duration": 17,
    "start_time": "2023-05-25T17:47:33.035Z"
   },
   {
    "duration": 11,
    "start_time": "2023-05-25T17:50:54.670Z"
   },
   {
    "duration": 12,
    "start_time": "2023-05-25T17:54:55.431Z"
   },
   {
    "duration": 164,
    "start_time": "2023-05-25T17:58:45.348Z"
   },
   {
    "duration": 1291,
    "start_time": "2023-05-25T17:59:13.013Z"
   },
   {
    "duration": 56,
    "start_time": "2023-05-25T17:59:14.306Z"
   },
   {
    "duration": 26,
    "start_time": "2023-05-25T17:59:14.365Z"
   },
   {
    "duration": 18,
    "start_time": "2023-05-25T17:59:14.394Z"
   },
   {
    "duration": 57,
    "start_time": "2023-05-25T17:59:14.415Z"
   },
   {
    "duration": 810,
    "start_time": "2023-05-25T17:59:14.474Z"
   },
   {
    "duration": 3,
    "start_time": "2023-05-25T17:59:15.285Z"
   },
   {
    "duration": 11,
    "start_time": "2023-05-25T17:59:15.290Z"
   },
   {
    "duration": 31,
    "start_time": "2023-05-25T17:59:15.302Z"
   },
   {
    "duration": 22,
    "start_time": "2023-05-25T17:59:15.337Z"
   },
   {
    "duration": 9,
    "start_time": "2023-05-25T17:59:15.361Z"
   },
   {
    "duration": 19875,
    "start_time": "2023-05-25T17:59:15.372Z"
   },
   {
    "duration": 30,
    "start_time": "2023-05-25T17:59:35.248Z"
   },
   {
    "duration": 6,
    "start_time": "2023-05-25T17:59:35.280Z"
   },
   {
    "duration": 4,
    "start_time": "2023-05-25T17:59:35.288Z"
   },
   {
    "duration": 8,
    "start_time": "2023-05-25T17:59:35.293Z"
   },
   {
    "duration": 8,
    "start_time": "2023-05-25T17:59:35.302Z"
   },
   {
    "duration": 6,
    "start_time": "2023-05-25T17:59:35.312Z"
   },
   {
    "duration": 38,
    "start_time": "2023-05-25T17:59:35.319Z"
   },
   {
    "duration": 4,
    "start_time": "2023-05-25T17:59:35.359Z"
   },
   {
    "duration": 8,
    "start_time": "2023-05-25T17:59:35.364Z"
   },
   {
    "duration": 9,
    "start_time": "2023-05-25T17:59:35.374Z"
   },
   {
    "duration": 4,
    "start_time": "2023-05-25T17:59:35.384Z"
   },
   {
    "duration": 13,
    "start_time": "2023-05-25T17:59:35.390Z"
   },
   {
    "duration": 14,
    "start_time": "2023-05-25T17:59:35.405Z"
   },
   {
    "duration": 39,
    "start_time": "2023-05-25T17:59:35.421Z"
   },
   {
    "duration": 30,
    "start_time": "2023-05-25T17:59:35.461Z"
   },
   {
    "duration": 329,
    "start_time": "2023-05-25T17:59:35.495Z"
   },
   {
    "duration": 31,
    "start_time": "2023-05-25T17:59:35.826Z"
   },
   {
    "duration": 19,
    "start_time": "2023-05-25T17:59:35.859Z"
   },
   {
    "duration": 151,
    "start_time": "2023-05-25T17:59:35.880Z"
   },
   {
    "duration": 11,
    "start_time": "2023-05-25T17:59:36.033Z"
   },
   {
    "duration": 23,
    "start_time": "2023-05-25T18:02:55.956Z"
   },
   {
    "duration": 20,
    "start_time": "2023-05-25T18:03:15.504Z"
   },
   {
    "duration": 361,
    "start_time": "2023-05-25T18:04:44.037Z"
   },
   {
    "duration": 106,
    "start_time": "2023-05-25T18:04:52.337Z"
   },
   {
    "duration": 235,
    "start_time": "2023-05-25T18:05:58.921Z"
   },
   {
    "duration": 19,
    "start_time": "2023-05-25T18:06:51.036Z"
   },
   {
    "duration": 271,
    "start_time": "2023-05-25T18:08:21.099Z"
   },
   {
    "duration": 134,
    "start_time": "2023-05-25T18:08:30.978Z"
   },
   {
    "duration": 249,
    "start_time": "2023-05-25T18:08:51.203Z"
   },
   {
    "duration": 244,
    "start_time": "2023-05-25T18:09:01.865Z"
   },
   {
    "duration": 266,
    "start_time": "2023-05-25T18:09:28.434Z"
   },
   {
    "duration": 404,
    "start_time": "2023-05-25T18:10:49.222Z"
   },
   {
    "duration": 256,
    "start_time": "2023-05-25T18:12:49.208Z"
   },
   {
    "duration": 292,
    "start_time": "2023-05-25T18:13:07.411Z"
   },
   {
    "duration": 11,
    "start_time": "2023-05-25T18:15:30.297Z"
   },
   {
    "duration": 100,
    "start_time": "2023-05-25T18:20:46.737Z"
   },
   {
    "duration": 1839,
    "start_time": "2023-05-25T18:20:54.448Z"
   },
   {
    "duration": 1703,
    "start_time": "2023-05-25T18:21:45.421Z"
   },
   {
    "duration": 1715,
    "start_time": "2023-05-25T18:22:30.604Z"
   },
   {
    "duration": 1213,
    "start_time": "2023-05-25T18:22:38.081Z"
   },
   {
    "duration": 50,
    "start_time": "2023-05-25T18:22:39.296Z"
   },
   {
    "duration": 23,
    "start_time": "2023-05-25T18:22:39.348Z"
   },
   {
    "duration": 13,
    "start_time": "2023-05-25T18:22:39.373Z"
   },
   {
    "duration": 29,
    "start_time": "2023-05-25T18:22:39.387Z"
   },
   {
    "duration": 764,
    "start_time": "2023-05-25T18:22:39.417Z"
   },
   {
    "duration": 4,
    "start_time": "2023-05-25T18:22:40.183Z"
   },
   {
    "duration": 17,
    "start_time": "2023-05-25T18:22:40.189Z"
   },
   {
    "duration": 17,
    "start_time": "2023-05-25T18:22:40.208Z"
   },
   {
    "duration": 28,
    "start_time": "2023-05-25T18:22:40.228Z"
   },
   {
    "duration": 9,
    "start_time": "2023-05-25T18:22:40.258Z"
   },
   {
    "duration": 20336,
    "start_time": "2023-05-25T18:22:40.268Z"
   },
   {
    "duration": 23,
    "start_time": "2023-05-25T18:23:00.606Z"
   },
   {
    "duration": 43,
    "start_time": "2023-05-25T18:23:00.631Z"
   },
   {
    "duration": 57,
    "start_time": "2023-05-25T18:23:00.676Z"
   },
   {
    "duration": 53,
    "start_time": "2023-05-25T18:23:00.735Z"
   },
   {
    "duration": 50,
    "start_time": "2023-05-25T18:23:00.790Z"
   },
   {
    "duration": 54,
    "start_time": "2023-05-25T18:23:00.842Z"
   },
   {
    "duration": 56,
    "start_time": "2023-05-25T18:23:00.898Z"
   },
   {
    "duration": 52,
    "start_time": "2023-05-25T18:23:00.957Z"
   },
   {
    "duration": 64,
    "start_time": "2023-05-25T18:23:01.011Z"
   },
   {
    "duration": 32,
    "start_time": "2023-05-25T18:23:01.077Z"
   },
   {
    "duration": 51,
    "start_time": "2023-05-25T18:23:01.110Z"
   },
   {
    "duration": 37,
    "start_time": "2023-05-25T18:23:01.162Z"
   },
   {
    "duration": 24,
    "start_time": "2023-05-25T18:23:01.201Z"
   },
   {
    "duration": 59,
    "start_time": "2023-05-25T18:23:01.228Z"
   },
   {
    "duration": 425,
    "start_time": "2023-05-25T18:23:01.288Z"
   },
   {
    "duration": 24,
    "start_time": "2023-05-25T18:23:01.716Z"
   },
   {
    "duration": 1830,
    "start_time": "2023-05-25T18:23:01.743Z"
   },
   {
    "duration": 0,
    "start_time": "2023-05-25T18:23:03.575Z"
   },
   {
    "duration": 0,
    "start_time": "2023-05-25T18:23:03.577Z"
   },
   {
    "duration": 0,
    "start_time": "2023-05-25T18:23:03.578Z"
   },
   {
    "duration": 22,
    "start_time": "2023-05-25T18:23:19.658Z"
   },
   {
    "duration": 380,
    "start_time": "2023-05-25T18:23:23.150Z"
   },
   {
    "duration": 3296,
    "start_time": "2023-05-25T18:30:13.892Z"
   },
   {
    "duration": 152,
    "start_time": "2023-05-25T18:37:28.178Z"
   },
   {
    "duration": 29,
    "start_time": "2023-05-25T18:37:34.975Z"
   },
   {
    "duration": 243,
    "start_time": "2023-05-25T18:38:06.284Z"
   },
   {
    "duration": 221,
    "start_time": "2023-05-25T18:40:06.231Z"
   },
   {
    "duration": 46,
    "start_time": "2023-05-25T18:42:38.912Z"
   },
   {
    "duration": 5645,
    "start_time": "2023-05-25T18:42:54.632Z"
   },
   {
    "duration": 24,
    "start_time": "2023-05-25T18:44:02.076Z"
   },
   {
    "duration": 16,
    "start_time": "2023-05-25T18:47:49.214Z"
   },
   {
    "duration": 6,
    "start_time": "2023-05-25T18:48:50.126Z"
   },
   {
    "duration": 8,
    "start_time": "2023-05-25T18:49:00.854Z"
   },
   {
    "duration": 5772,
    "start_time": "2023-05-25T18:50:03.284Z"
   },
   {
    "duration": 5849,
    "start_time": "2023-05-25T18:50:26.678Z"
   },
   {
    "duration": 117,
    "start_time": "2023-05-25T18:52:46.023Z"
   },
   {
    "duration": 1646,
    "start_time": "2023-05-25T18:53:48.983Z"
   },
   {
    "duration": 143,
    "start_time": "2023-05-25T18:54:02.434Z"
   },
   {
    "duration": 142,
    "start_time": "2023-05-25T18:56:57.476Z"
   },
   {
    "duration": 285,
    "start_time": "2023-05-25T18:57:49.304Z"
   },
   {
    "duration": 19,
    "start_time": "2023-05-25T18:58:04.620Z"
   },
   {
    "duration": 115,
    "start_time": "2023-05-25T18:59:10.940Z"
   },
   {
    "duration": 111,
    "start_time": "2023-05-25T18:59:45.404Z"
   },
   {
    "duration": 154,
    "start_time": "2023-05-25T19:00:03.372Z"
   },
   {
    "duration": 1230,
    "start_time": "2023-05-25T19:00:08.006Z"
   },
   {
    "duration": 54,
    "start_time": "2023-05-25T19:00:09.239Z"
   },
   {
    "duration": 26,
    "start_time": "2023-05-25T19:00:09.296Z"
   },
   {
    "duration": 16,
    "start_time": "2023-05-25T19:00:09.324Z"
   },
   {
    "duration": 31,
    "start_time": "2023-05-25T19:00:09.355Z"
   },
   {
    "duration": 721,
    "start_time": "2023-05-25T19:00:09.388Z"
   },
   {
    "duration": 4,
    "start_time": "2023-05-25T19:00:10.111Z"
   },
   {
    "duration": 18,
    "start_time": "2023-05-25T19:00:10.117Z"
   },
   {
    "duration": 43,
    "start_time": "2023-05-25T19:00:10.137Z"
   },
   {
    "duration": 9,
    "start_time": "2023-05-25T19:00:10.182Z"
   },
   {
    "duration": 13,
    "start_time": "2023-05-25T19:00:10.192Z"
   },
   {
    "duration": 19984,
    "start_time": "2023-05-25T19:00:10.207Z"
   },
   {
    "duration": 21,
    "start_time": "2023-05-25T19:00:30.193Z"
   },
   {
    "duration": 29,
    "start_time": "2023-05-25T19:00:30.216Z"
   },
   {
    "duration": 11,
    "start_time": "2023-05-25T19:00:30.247Z"
   },
   {
    "duration": 50,
    "start_time": "2023-05-25T19:00:30.260Z"
   },
   {
    "duration": 36,
    "start_time": "2023-05-25T19:00:30.312Z"
   },
   {
    "duration": 65,
    "start_time": "2023-05-25T19:00:30.350Z"
   },
   {
    "duration": 90,
    "start_time": "2023-05-25T19:00:30.417Z"
   },
   {
    "duration": 63,
    "start_time": "2023-05-25T19:00:30.509Z"
   },
   {
    "duration": 54,
    "start_time": "2023-05-25T19:00:30.574Z"
   },
   {
    "duration": 66,
    "start_time": "2023-05-25T19:00:30.629Z"
   },
   {
    "duration": 64,
    "start_time": "2023-05-25T19:00:30.697Z"
   },
   {
    "duration": 64,
    "start_time": "2023-05-25T19:00:30.763Z"
   },
   {
    "duration": 61,
    "start_time": "2023-05-25T19:00:30.829Z"
   },
   {
    "duration": 95,
    "start_time": "2023-05-25T19:00:30.892Z"
   },
   {
    "duration": 351,
    "start_time": "2023-05-25T19:00:30.989Z"
   },
   {
    "duration": 31,
    "start_time": "2023-05-25T19:00:31.342Z"
   },
   {
    "duration": 38,
    "start_time": "2023-05-25T19:00:31.376Z"
   },
   {
    "duration": 383,
    "start_time": "2023-05-25T19:00:31.415Z"
   },
   {
    "duration": 7,
    "start_time": "2023-05-25T19:00:31.800Z"
   },
   {
    "duration": 100,
    "start_time": "2023-05-25T19:00:31.809Z"
   },
   {
    "duration": 102,
    "start_time": "2023-05-25T19:02:09.074Z"
   },
   {
    "duration": 108,
    "start_time": "2023-05-25T19:02:29.247Z"
   },
   {
    "duration": 24,
    "start_time": "2023-05-25T19:02:34.857Z"
   },
   {
    "duration": 19,
    "start_time": "2023-05-25T19:03:23.160Z"
   },
   {
    "duration": 160,
    "start_time": "2023-05-25T19:04:28.926Z"
   },
   {
    "duration": 164,
    "start_time": "2023-05-25T19:13:44.449Z"
   },
   {
    "duration": 158,
    "start_time": "2023-05-25T19:14:16.732Z"
   },
   {
    "duration": 167,
    "start_time": "2023-05-25T19:14:59.079Z"
   },
   {
    "duration": 23,
    "start_time": "2023-05-25T19:25:06.547Z"
   },
   {
    "duration": 111,
    "start_time": "2023-05-25T19:26:12.226Z"
   },
   {
    "duration": 154,
    "start_time": "2023-05-25T19:26:17.638Z"
   },
   {
    "duration": 1305,
    "start_time": "2023-05-25T20:53:31.286Z"
   },
   {
    "duration": 54,
    "start_time": "2023-05-25T20:53:32.593Z"
   },
   {
    "duration": 35,
    "start_time": "2023-05-25T20:53:32.648Z"
   },
   {
    "duration": 44,
    "start_time": "2023-05-25T20:53:32.684Z"
   },
   {
    "duration": 41,
    "start_time": "2023-05-25T20:53:32.730Z"
   },
   {
    "duration": 821,
    "start_time": "2023-05-25T20:53:32.772Z"
   },
   {
    "duration": 4,
    "start_time": "2023-05-25T20:53:33.595Z"
   },
   {
    "duration": 15,
    "start_time": "2023-05-25T20:53:33.601Z"
   },
   {
    "duration": 18,
    "start_time": "2023-05-25T20:53:33.618Z"
   },
   {
    "duration": 32,
    "start_time": "2023-05-25T20:53:33.638Z"
   },
   {
    "duration": 8,
    "start_time": "2023-05-25T20:53:33.679Z"
   },
   {
    "duration": 21082,
    "start_time": "2023-05-25T20:53:33.689Z"
   },
   {
    "duration": 25,
    "start_time": "2023-05-25T20:53:54.774Z"
   },
   {
    "duration": 13,
    "start_time": "2023-05-25T20:53:54.803Z"
   },
   {
    "duration": 9,
    "start_time": "2023-05-25T20:53:54.819Z"
   },
   {
    "duration": 32,
    "start_time": "2023-05-25T20:53:54.830Z"
   },
   {
    "duration": 15,
    "start_time": "2023-05-25T20:53:54.864Z"
   },
   {
    "duration": 10,
    "start_time": "2023-05-25T20:53:54.881Z"
   },
   {
    "duration": 7,
    "start_time": "2023-05-25T20:53:54.893Z"
   },
   {
    "duration": 19,
    "start_time": "2023-05-25T20:53:54.902Z"
   },
   {
    "duration": 30,
    "start_time": "2023-05-25T20:53:54.923Z"
   },
   {
    "duration": 15,
    "start_time": "2023-05-25T20:53:54.955Z"
   },
   {
    "duration": 19,
    "start_time": "2023-05-25T20:53:54.977Z"
   },
   {
    "duration": 24,
    "start_time": "2023-05-25T20:53:54.999Z"
   },
   {
    "duration": 6,
    "start_time": "2023-05-25T20:53:55.026Z"
   },
   {
    "duration": 30,
    "start_time": "2023-05-25T20:53:55.035Z"
   },
   {
    "duration": 342,
    "start_time": "2023-05-25T20:53:55.066Z"
   },
   {
    "duration": 26,
    "start_time": "2023-05-25T20:53:55.410Z"
   },
   {
    "duration": 36,
    "start_time": "2023-05-25T20:53:55.438Z"
   },
   {
    "duration": 410,
    "start_time": "2023-05-25T20:53:55.476Z"
   },
   {
    "duration": 7,
    "start_time": "2023-05-25T20:53:55.887Z"
   },
   {
    "duration": 120,
    "start_time": "2023-05-25T20:53:55.896Z"
   },
   {
    "duration": 119,
    "start_time": "2023-05-25T20:55:42.289Z"
   },
   {
    "duration": 24,
    "start_time": "2023-05-25T20:55:52.978Z"
   },
   {
    "duration": 172,
    "start_time": "2023-05-25T20:56:15.814Z"
   },
   {
    "duration": 187,
    "start_time": "2023-05-25T20:57:31.022Z"
   },
   {
    "duration": 157,
    "start_time": "2023-05-25T21:12:51.121Z"
   },
   {
    "duration": 7,
    "start_time": "2023-05-25T21:12:56.515Z"
   },
   {
    "duration": 172,
    "start_time": "2023-05-25T21:12:57.347Z"
   },
   {
    "duration": 18,
    "start_time": "2023-05-25T21:13:03.096Z"
   },
   {
    "duration": 181,
    "start_time": "2023-05-25T21:15:57.189Z"
   },
   {
    "duration": 163,
    "start_time": "2023-05-25T21:16:09.183Z"
   },
   {
    "duration": 18,
    "start_time": "2023-05-25T21:16:36.076Z"
   },
   {
    "duration": 22,
    "start_time": "2023-05-25T21:17:21.661Z"
   },
   {
    "duration": 154,
    "start_time": "2023-05-25T21:17:50.352Z"
   },
   {
    "duration": 131,
    "start_time": "2023-05-25T21:18:33.315Z"
   },
   {
    "duration": 524,
    "start_time": "2023-05-25T21:19:01.832Z"
   },
   {
    "duration": 167,
    "start_time": "2023-05-25T21:19:16.292Z"
   },
   {
    "duration": 161,
    "start_time": "2023-05-25T21:19:38.380Z"
   },
   {
    "duration": 167,
    "start_time": "2023-05-25T21:19:55.915Z"
   },
   {
    "duration": 244,
    "start_time": "2023-05-25T21:20:22.118Z"
   },
   {
    "duration": 162,
    "start_time": "2023-05-25T21:20:36.468Z"
   },
   {
    "duration": 15,
    "start_time": "2023-05-25T21:25:47.721Z"
   },
   {
    "duration": 308,
    "start_time": "2023-05-25T21:25:56.354Z"
   },
   {
    "duration": 299,
    "start_time": "2023-05-25T21:26:36.534Z"
   },
   {
    "duration": 179,
    "start_time": "2023-05-25T21:27:09.114Z"
   },
   {
    "duration": 155,
    "start_time": "2023-05-25T21:27:43.894Z"
   },
   {
    "duration": 155,
    "start_time": "2023-05-25T21:28:20.840Z"
   },
   {
    "duration": 290,
    "start_time": "2023-05-25T21:28:22.708Z"
   },
   {
    "duration": 1031,
    "start_time": "2023-05-25T21:29:11.811Z"
   },
   {
    "duration": 285,
    "start_time": "2023-05-25T21:29:51.773Z"
   },
   {
    "duration": 317,
    "start_time": "2023-05-25T21:30:56.801Z"
   },
   {
    "duration": 308,
    "start_time": "2023-05-25T21:31:07.388Z"
   },
   {
    "duration": 16,
    "start_time": "2023-05-25T21:31:53.073Z"
   },
   {
    "duration": 2135,
    "start_time": "2023-05-25T21:32:03.440Z"
   },
   {
    "duration": 1877,
    "start_time": "2023-05-25T21:32:05.640Z"
   },
   {
    "duration": 9,
    "start_time": "2023-05-25T21:32:19.350Z"
   },
   {
    "duration": 296,
    "start_time": "2023-05-25T21:32:21.224Z"
   },
   {
    "duration": 286,
    "start_time": "2023-05-25T21:32:21.851Z"
   },
   {
    "duration": 297,
    "start_time": "2023-05-25T21:33:32.278Z"
   },
   {
    "duration": 320,
    "start_time": "2023-05-25T21:34:35.081Z"
   },
   {
    "duration": 302,
    "start_time": "2023-05-25T21:34:44.304Z"
   },
   {
    "duration": 436,
    "start_time": "2023-05-25T21:35:31.857Z"
   },
   {
    "duration": 290,
    "start_time": "2023-05-25T21:35:59.949Z"
   },
   {
    "duration": 306,
    "start_time": "2023-05-25T21:36:07.073Z"
   },
   {
    "duration": 296,
    "start_time": "2023-05-25T21:36:14.802Z"
   },
   {
    "duration": 30,
    "start_time": "2023-05-25T21:38:11.983Z"
   },
   {
    "duration": 28,
    "start_time": "2023-05-25T21:38:20.210Z"
   },
   {
    "duration": 275,
    "start_time": "2023-05-25T21:38:26.050Z"
   },
   {
    "duration": 295,
    "start_time": "2023-05-25T21:39:04.589Z"
   },
   {
    "duration": 289,
    "start_time": "2023-05-25T21:40:27.503Z"
   },
   {
    "duration": 1354,
    "start_time": "2023-05-26T05:44:14.874Z"
   },
   {
    "duration": 144,
    "start_time": "2023-05-26T05:44:17.631Z"
   },
   {
    "duration": 36,
    "start_time": "2023-05-26T05:44:20.985Z"
   },
   {
    "duration": 34,
    "start_time": "2023-05-26T05:44:21.049Z"
   },
   {
    "duration": 35,
    "start_time": "2023-05-26T05:44:21.729Z"
   },
   {
    "duration": 1430,
    "start_time": "2023-05-26T05:44:22.537Z"
   },
   {
    "duration": 4,
    "start_time": "2023-05-26T05:44:24.507Z"
   },
   {
    "duration": 9,
    "start_time": "2023-05-26T05:44:25.486Z"
   },
   {
    "duration": 16,
    "start_time": "2023-05-26T05:44:25.780Z"
   },
   {
    "duration": 11,
    "start_time": "2023-05-26T05:44:28.806Z"
   },
   {
    "duration": 11,
    "start_time": "2023-05-26T05:44:28.820Z"
   },
   {
    "duration": 1162,
    "start_time": "2023-05-26T05:55:10.716Z"
   },
   {
    "duration": 50,
    "start_time": "2023-05-26T05:55:11.880Z"
   },
   {
    "duration": 32,
    "start_time": "2023-05-26T05:55:11.932Z"
   },
   {
    "duration": 28,
    "start_time": "2023-05-26T05:55:11.967Z"
   },
   {
    "duration": 28,
    "start_time": "2023-05-26T05:55:11.998Z"
   },
   {
    "duration": 760,
    "start_time": "2023-05-26T05:55:12.028Z"
   },
   {
    "duration": 4,
    "start_time": "2023-05-26T05:55:12.790Z"
   },
   {
    "duration": 13,
    "start_time": "2023-05-26T05:55:12.795Z"
   },
   {
    "duration": 34,
    "start_time": "2023-05-26T05:55:12.809Z"
   },
   {
    "duration": 12,
    "start_time": "2023-05-26T05:55:12.846Z"
   },
   {
    "duration": 15,
    "start_time": "2023-05-26T05:55:12.860Z"
   },
   {
    "duration": 20979,
    "start_time": "2023-05-26T05:55:12.876Z"
   },
   {
    "duration": 21,
    "start_time": "2023-05-26T05:55:33.857Z"
   },
   {
    "duration": 6,
    "start_time": "2023-05-26T05:55:33.880Z"
   },
   {
    "duration": 7,
    "start_time": "2023-05-26T05:55:33.887Z"
   },
   {
    "duration": 9,
    "start_time": "2023-05-26T05:55:33.896Z"
   },
   {
    "duration": 15,
    "start_time": "2023-05-26T05:55:33.906Z"
   },
   {
    "duration": 24,
    "start_time": "2023-05-26T05:55:33.923Z"
   },
   {
    "duration": 8,
    "start_time": "2023-05-26T05:55:33.948Z"
   },
   {
    "duration": 7,
    "start_time": "2023-05-26T05:55:33.958Z"
   },
   {
    "duration": 10,
    "start_time": "2023-05-26T05:55:33.967Z"
   },
   {
    "duration": 4,
    "start_time": "2023-05-26T05:55:33.978Z"
   },
   {
    "duration": 14,
    "start_time": "2023-05-26T05:55:33.983Z"
   },
   {
    "duration": 13,
    "start_time": "2023-05-26T05:55:33.999Z"
   },
   {
    "duration": 6,
    "start_time": "2023-05-26T05:55:34.013Z"
   },
   {
    "duration": 13,
    "start_time": "2023-05-26T05:55:34.041Z"
   },
   {
    "duration": 342,
    "start_time": "2023-05-26T05:55:34.056Z"
   },
   {
    "duration": 22,
    "start_time": "2023-05-26T05:55:34.401Z"
   },
   {
    "duration": 40,
    "start_time": "2023-05-26T05:55:34.425Z"
   },
   {
    "duration": 370,
    "start_time": "2023-05-26T05:55:34.466Z"
   },
   {
    "duration": 16,
    "start_time": "2023-05-26T05:55:34.838Z"
   },
   {
    "duration": 295,
    "start_time": "2023-05-26T05:55:34.856Z"
   },
   {
    "duration": 113,
    "start_time": "2023-05-26T05:55:35.152Z"
   },
   {
    "duration": 22,
    "start_time": "2023-05-26T06:02:48.966Z"
   },
   {
    "duration": 16,
    "start_time": "2023-05-26T06:04:29.366Z"
   },
   {
    "duration": 24,
    "start_time": "2023-05-26T06:04:41.111Z"
   },
   {
    "duration": 19,
    "start_time": "2023-05-26T06:06:02.035Z"
   },
   {
    "duration": 18,
    "start_time": "2023-05-26T06:06:31.260Z"
   },
   {
    "duration": 25,
    "start_time": "2023-05-26T06:06:58.877Z"
   },
   {
    "duration": 47,
    "start_time": "2023-05-26T06:07:43.036Z"
   },
   {
    "duration": 47,
    "start_time": "2023-05-26T06:08:05.884Z"
   },
   {
    "duration": 24,
    "start_time": "2023-05-26T06:08:27.379Z"
   },
   {
    "duration": 24,
    "start_time": "2023-05-26T06:22:21.860Z"
   },
   {
    "duration": 611,
    "start_time": "2023-05-26T06:24:38.227Z"
   },
   {
    "duration": 13,
    "start_time": "2023-05-26T06:29:02.625Z"
   },
   {
    "duration": 19,
    "start_time": "2023-05-26T06:29:14.803Z"
   },
   {
    "duration": 20,
    "start_time": "2023-05-26T06:29:30.489Z"
   },
   {
    "duration": 14,
    "start_time": "2023-05-26T06:30:18.618Z"
   },
   {
    "duration": 19,
    "start_time": "2023-05-26T06:31:08.641Z"
   },
   {
    "duration": 22,
    "start_time": "2023-05-26T06:31:20.925Z"
   },
   {
    "duration": 734,
    "start_time": "2023-05-26T06:32:26.883Z"
   },
   {
    "duration": 797,
    "start_time": "2023-05-26T06:34:23.072Z"
   },
   {
    "duration": 29,
    "start_time": "2023-05-26T06:35:18.427Z"
   },
   {
    "duration": 21,
    "start_time": "2023-05-26T06:36:04.978Z"
   },
   {
    "duration": 143,
    "start_time": "2023-05-26T06:36:42.786Z"
   },
   {
    "duration": 3,
    "start_time": "2023-05-26T06:36:46.677Z"
   },
   {
    "duration": 3,
    "start_time": "2023-05-26T06:36:48.067Z"
   },
   {
    "duration": 6,
    "start_time": "2023-05-26T06:36:54.192Z"
   },
   {
    "duration": 25,
    "start_time": "2023-05-26T06:37:27.565Z"
   },
   {
    "duration": 7,
    "start_time": "2023-05-26T06:37:54.795Z"
   },
   {
    "duration": 10,
    "start_time": "2023-05-26T06:38:02.332Z"
   },
   {
    "duration": 15,
    "start_time": "2023-05-26T06:38:29.806Z"
   },
   {
    "duration": 7,
    "start_time": "2023-05-26T06:38:30.210Z"
   },
   {
    "duration": 731,
    "start_time": "2023-05-26T06:39:00.612Z"
   },
   {
    "duration": 845,
    "start_time": "2023-05-26T06:39:53.026Z"
   },
   {
    "duration": 664,
    "start_time": "2023-05-26T06:42:21.835Z"
   },
   {
    "duration": 29,
    "start_time": "2023-05-26T06:44:14.221Z"
   },
   {
    "duration": 22,
    "start_time": "2023-05-26T06:46:14.962Z"
   },
   {
    "duration": 6,
    "start_time": "2023-05-26T06:46:17.269Z"
   },
   {
    "duration": 577,
    "start_time": "2023-05-26T06:46:17.930Z"
   },
   {
    "duration": 497,
    "start_time": "2023-05-26T06:47:07.415Z"
   },
   {
    "duration": 106,
    "start_time": "2023-05-26T06:55:37.058Z"
   },
   {
    "duration": 2103,
    "start_time": "2023-05-26T06:55:44.428Z"
   },
   {
    "duration": 2270,
    "start_time": "2023-05-26T06:59:03.670Z"
   },
   {
    "duration": 247,
    "start_time": "2023-05-26T07:00:40.730Z"
   },
   {
    "duration": 21,
    "start_time": "2023-05-26T07:01:46.776Z"
   },
   {
    "duration": 20,
    "start_time": "2023-05-26T07:02:06.295Z"
   },
   {
    "duration": 143,
    "start_time": "2023-05-26T07:03:40.376Z"
   },
   {
    "duration": 150,
    "start_time": "2023-05-26T07:03:58.509Z"
   },
   {
    "duration": 151,
    "start_time": "2023-05-26T07:04:48.724Z"
   },
   {
    "duration": 16,
    "start_time": "2023-05-26T07:05:26.015Z"
   },
   {
    "duration": 17,
    "start_time": "2023-05-26T07:05:45.672Z"
   },
   {
    "duration": 198,
    "start_time": "2023-05-26T07:08:34.184Z"
   },
   {
    "duration": 179,
    "start_time": "2023-05-26T07:08:46.840Z"
   },
   {
    "duration": 222,
    "start_time": "2023-05-26T07:11:16.276Z"
   },
   {
    "duration": 249,
    "start_time": "2023-05-26T07:11:37.788Z"
   },
   {
    "duration": 236,
    "start_time": "2023-05-26T07:11:55.002Z"
   },
   {
    "duration": 365,
    "start_time": "2023-05-26T07:12:37.143Z"
   },
   {
    "duration": 493,
    "start_time": "2023-05-26T07:12:45.204Z"
   },
   {
    "duration": 342,
    "start_time": "2023-05-26T07:12:55.490Z"
   },
   {
    "duration": 310,
    "start_time": "2023-05-26T07:13:45.363Z"
   },
   {
    "duration": 205,
    "start_time": "2023-05-26T07:14:07.684Z"
   },
   {
    "duration": 234,
    "start_time": "2023-05-26T07:14:17.483Z"
   },
   {
    "duration": 258,
    "start_time": "2023-05-26T07:14:56.160Z"
   },
   {
    "duration": 241,
    "start_time": "2023-05-26T07:15:00.880Z"
   },
   {
    "duration": 306,
    "start_time": "2023-05-26T07:15:07.622Z"
   },
   {
    "duration": 308,
    "start_time": "2023-05-26T07:15:15.323Z"
   },
   {
    "duration": 331,
    "start_time": "2023-05-26T07:16:17.287Z"
   },
   {
    "duration": 90,
    "start_time": "2023-05-26T07:16:57.415Z"
   },
   {
    "duration": 397,
    "start_time": "2023-05-26T07:17:08.440Z"
   },
   {
    "duration": 275,
    "start_time": "2023-05-26T07:17:28.624Z"
   },
   {
    "duration": 257,
    "start_time": "2023-05-26T07:18:38.741Z"
   },
   {
    "duration": 227,
    "start_time": "2023-05-26T07:19:03.072Z"
   },
   {
    "duration": 224,
    "start_time": "2023-05-26T07:20:09.234Z"
   },
   {
    "duration": 243,
    "start_time": "2023-05-26T07:20:22.463Z"
   },
   {
    "duration": 297,
    "start_time": "2023-05-26T07:26:49.741Z"
   },
   {
    "duration": 299,
    "start_time": "2023-05-26T07:27:16.153Z"
   },
   {
    "duration": 318,
    "start_time": "2023-05-26T07:27:29.502Z"
   },
   {
    "duration": 290,
    "start_time": "2023-05-26T07:27:38.180Z"
   },
   {
    "duration": 312,
    "start_time": "2023-05-26T07:28:19.868Z"
   },
   {
    "duration": 477,
    "start_time": "2023-05-26T07:29:18.245Z"
   },
   {
    "duration": 292,
    "start_time": "2023-05-26T07:30:19.128Z"
   },
   {
    "duration": 223,
    "start_time": "2023-05-26T07:30:33.812Z"
   },
   {
    "duration": 261,
    "start_time": "2023-05-26T07:30:43.070Z"
   },
   {
    "duration": 321,
    "start_time": "2023-05-26T07:30:56.640Z"
   },
   {
    "duration": 315,
    "start_time": "2023-05-26T07:31:08.270Z"
   },
   {
    "duration": 367,
    "start_time": "2023-05-26T07:32:23.697Z"
   },
   {
    "duration": 307,
    "start_time": "2023-05-26T07:34:39.212Z"
   },
   {
    "duration": 333,
    "start_time": "2023-05-26T07:34:46.972Z"
   },
   {
    "duration": 275,
    "start_time": "2023-05-26T07:34:56.542Z"
   },
   {
    "duration": 320,
    "start_time": "2023-05-26T07:35:03.916Z"
   },
   {
    "duration": 410,
    "start_time": "2023-05-26T07:35:42.617Z"
   },
   {
    "duration": 279,
    "start_time": "2023-05-26T07:35:52.714Z"
   },
   {
    "duration": 277,
    "start_time": "2023-05-26T07:36:04.222Z"
   },
   {
    "duration": 285,
    "start_time": "2023-05-26T07:53:47.536Z"
   },
   {
    "duration": 265,
    "start_time": "2023-05-26T07:54:00.745Z"
   },
   {
    "duration": 311,
    "start_time": "2023-05-26T07:54:23.892Z"
   },
   {
    "duration": 258,
    "start_time": "2023-05-26T07:56:51.468Z"
   },
   {
    "duration": 264,
    "start_time": "2023-05-26T07:57:02.868Z"
   },
   {
    "duration": 321,
    "start_time": "2023-05-26T07:57:47.437Z"
   },
   {
    "duration": 192,
    "start_time": "2023-05-26T08:33:46.296Z"
   },
   {
    "duration": 259,
    "start_time": "2023-05-26T08:34:18.505Z"
   },
   {
    "duration": 9,
    "start_time": "2023-05-26T08:35:58.871Z"
   },
   {
    "duration": 174,
    "start_time": "2023-05-26T08:36:21.495Z"
   },
   {
    "duration": 308,
    "start_time": "2023-05-26T08:38:57.770Z"
   },
   {
    "duration": 161,
    "start_time": "2023-05-26T08:39:52.920Z"
   },
   {
    "duration": 211,
    "start_time": "2023-05-26T08:40:35.010Z"
   },
   {
    "duration": 190,
    "start_time": "2023-05-26T08:41:00.885Z"
   },
   {
    "duration": 220,
    "start_time": "2023-05-26T08:41:58.120Z"
   },
   {
    "duration": 222,
    "start_time": "2023-05-26T08:42:24.370Z"
   },
   {
    "duration": 154,
    "start_time": "2023-05-26T08:43:34.934Z"
   },
   {
    "duration": 25,
    "start_time": "2023-05-26T08:44:22.772Z"
   },
   {
    "duration": 24,
    "start_time": "2023-05-26T08:44:42.979Z"
   },
   {
    "duration": 19,
    "start_time": "2023-05-26T08:44:50.873Z"
   },
   {
    "duration": 17,
    "start_time": "2023-05-26T08:45:04.572Z"
   },
   {
    "duration": 22,
    "start_time": "2023-05-26T08:45:11.529Z"
   },
   {
    "duration": 19,
    "start_time": "2023-05-26T08:45:18.501Z"
   },
   {
    "duration": 178,
    "start_time": "2023-05-26T08:45:32.472Z"
   },
   {
    "duration": 18,
    "start_time": "2023-05-26T08:46:01.866Z"
   },
   {
    "duration": 26,
    "start_time": "2023-05-26T08:46:22.574Z"
   },
   {
    "duration": 22,
    "start_time": "2023-05-26T08:46:32.562Z"
   },
   {
    "duration": 144,
    "start_time": "2023-05-26T08:47:03.696Z"
   },
   {
    "duration": 164,
    "start_time": "2023-05-26T08:47:09.173Z"
   },
   {
    "duration": 148,
    "start_time": "2023-05-26T08:47:27.408Z"
   },
   {
    "duration": 171,
    "start_time": "2023-05-26T08:47:55.612Z"
   },
   {
    "duration": 157,
    "start_time": "2023-05-26T08:48:16.654Z"
   },
   {
    "duration": 171,
    "start_time": "2023-05-26T08:48:35.009Z"
   },
   {
    "duration": 289,
    "start_time": "2023-05-26T08:48:42.196Z"
   },
   {
    "duration": 165,
    "start_time": "2023-05-26T08:48:56.611Z"
   },
   {
    "duration": 157,
    "start_time": "2023-05-26T08:49:06.995Z"
   },
   {
    "duration": 33,
    "start_time": "2023-05-26T08:49:20.090Z"
   },
   {
    "duration": 38,
    "start_time": "2023-05-26T08:49:27.030Z"
   },
   {
    "duration": 13,
    "start_time": "2023-05-26T08:52:55.391Z"
   },
   {
    "duration": 181,
    "start_time": "2023-05-26T08:53:16.786Z"
   },
   {
    "duration": 27,
    "start_time": "2023-05-26T08:58:55.495Z"
   },
   {
    "duration": 197,
    "start_time": "2023-05-26T09:00:55.621Z"
   },
   {
    "duration": 129,
    "start_time": "2023-05-26T09:01:06.724Z"
   },
   {
    "duration": 89,
    "start_time": "2023-05-26T09:01:18.725Z"
   },
   {
    "duration": 13,
    "start_time": "2023-05-26T09:01:30.409Z"
   },
   {
    "duration": 22,
    "start_time": "2023-05-26T09:01:42.533Z"
   },
   {
    "duration": 29,
    "start_time": "2023-05-26T09:02:41.325Z"
   },
   {
    "duration": 28,
    "start_time": "2023-05-26T09:58:00.921Z"
   },
   {
    "duration": 15,
    "start_time": "2023-05-26T09:58:41.154Z"
   },
   {
    "duration": 41,
    "start_time": "2023-05-26T09:59:23.481Z"
   },
   {
    "duration": 25,
    "start_time": "2023-05-26T09:59:31.655Z"
   },
   {
    "duration": 27,
    "start_time": "2023-05-26T10:00:01.530Z"
   },
   {
    "duration": 23,
    "start_time": "2023-05-26T10:00:20.827Z"
   },
   {
    "duration": 24,
    "start_time": "2023-05-26T10:00:47.490Z"
   },
   {
    "duration": 24,
    "start_time": "2023-05-26T10:01:26.720Z"
   },
   {
    "duration": 20,
    "start_time": "2023-05-26T10:01:40.830Z"
   },
   {
    "duration": 24,
    "start_time": "2023-05-26T10:01:53.706Z"
   },
   {
    "duration": 25,
    "start_time": "2023-05-26T10:02:39.797Z"
   },
   {
    "duration": 20,
    "start_time": "2023-05-26T10:02:58.972Z"
   },
   {
    "duration": 17,
    "start_time": "2023-05-26T10:03:08.011Z"
   },
   {
    "duration": 23,
    "start_time": "2023-05-26T10:03:13.310Z"
   },
   {
    "duration": 22,
    "start_time": "2023-05-26T10:03:39.526Z"
   },
   {
    "duration": 201,
    "start_time": "2023-05-26T10:04:54.252Z"
   },
   {
    "duration": 40,
    "start_time": "2023-05-26T10:04:59.542Z"
   },
   {
    "duration": 296,
    "start_time": "2023-05-26T10:05:52.370Z"
   },
   {
    "duration": 111,
    "start_time": "2023-05-26T10:07:23.187Z"
   },
   {
    "duration": 111,
    "start_time": "2023-05-26T10:07:32.678Z"
   },
   {
    "duration": 169,
    "start_time": "2023-05-26T10:07:44.796Z"
   },
   {
    "duration": 151,
    "start_time": "2023-05-26T10:07:59.939Z"
   },
   {
    "duration": 244,
    "start_time": "2023-05-26T10:08:10.121Z"
   },
   {
    "duration": 156,
    "start_time": "2023-05-26T10:08:52.861Z"
   },
   {
    "duration": 197,
    "start_time": "2023-05-26T10:09:17.764Z"
   },
   {
    "duration": 215,
    "start_time": "2023-05-26T10:10:56.843Z"
   },
   {
    "duration": 149,
    "start_time": "2023-05-26T10:13:55.874Z"
   },
   {
    "duration": 238,
    "start_time": "2023-05-26T10:14:09.280Z"
   },
   {
    "duration": 103,
    "start_time": "2023-05-26T10:14:41.118Z"
   },
   {
    "duration": 9,
    "start_time": "2023-05-26T10:14:53.567Z"
   },
   {
    "duration": 315,
    "start_time": "2023-05-26T10:15:02.322Z"
   },
   {
    "duration": 4,
    "start_time": "2023-05-26T10:15:06.912Z"
   },
   {
    "duration": 5,
    "start_time": "2023-05-26T10:15:10.897Z"
   },
   {
    "duration": 5,
    "start_time": "2023-05-26T10:15:14.210Z"
   },
   {
    "duration": 149,
    "start_time": "2023-05-26T10:15:32.517Z"
   },
   {
    "duration": 117,
    "start_time": "2023-05-26T10:16:11.286Z"
   },
   {
    "duration": 244,
    "start_time": "2023-05-26T10:16:17.465Z"
   },
   {
    "duration": 190,
    "start_time": "2023-05-26T11:18:44.048Z"
   },
   {
    "duration": 188,
    "start_time": "2023-05-26T11:18:58.398Z"
   },
   {
    "duration": 301,
    "start_time": "2023-05-26T11:19:06.418Z"
   },
   {
    "duration": 172,
    "start_time": "2023-05-26T11:20:18.335Z"
   },
   {
    "duration": 205,
    "start_time": "2023-05-26T11:20:38.158Z"
   },
   {
    "duration": 161,
    "start_time": "2023-05-26T11:21:34.897Z"
   },
   {
    "duration": 153,
    "start_time": "2023-05-26T11:21:42.653Z"
   },
   {
    "duration": 163,
    "start_time": "2023-05-26T11:22:29.043Z"
   },
   {
    "duration": 141,
    "start_time": "2023-05-26T11:22:44.639Z"
   },
   {
    "duration": 140,
    "start_time": "2023-05-26T11:22:49.127Z"
   },
   {
    "duration": 177,
    "start_time": "2023-05-26T11:24:18.837Z"
   },
   {
    "duration": 225,
    "start_time": "2023-05-26T11:24:28.045Z"
   },
   {
    "duration": 185,
    "start_time": "2023-05-26T11:24:36.128Z"
   },
   {
    "duration": 157,
    "start_time": "2023-05-26T11:25:17.506Z"
   },
   {
    "duration": 5,
    "start_time": "2023-05-26T11:31:45.222Z"
   },
   {
    "duration": 98,
    "start_time": "2023-05-26T11:32:20.817Z"
   },
   {
    "duration": 72,
    "start_time": "2023-05-26T11:32:39.922Z"
   },
   {
    "duration": 11,
    "start_time": "2023-05-26T11:32:48.696Z"
   },
   {
    "duration": 12,
    "start_time": "2023-05-26T11:33:02.928Z"
   },
   {
    "duration": 11,
    "start_time": "2023-05-26T11:33:07.732Z"
   },
   {
    "duration": 12,
    "start_time": "2023-05-26T11:33:24.120Z"
   },
   {
    "duration": 163,
    "start_time": "2023-05-26T11:34:01.867Z"
   },
   {
    "duration": 173,
    "start_time": "2023-05-26T11:34:25.693Z"
   },
   {
    "duration": 7,
    "start_time": "2023-05-26T11:35:24.463Z"
   },
   {
    "duration": 161,
    "start_time": "2023-05-26T11:36:02.101Z"
   },
   {
    "duration": 13,
    "start_time": "2023-05-26T11:36:12.571Z"
   },
   {
    "duration": 99,
    "start_time": "2023-05-26T11:37:25.314Z"
   },
   {
    "duration": 152,
    "start_time": "2023-05-26T11:37:29.899Z"
   },
   {
    "duration": 191,
    "start_time": "2023-05-26T11:37:39.849Z"
   },
   {
    "duration": 15,
    "start_time": "2023-05-26T11:40:39.517Z"
   },
   {
    "duration": 15,
    "start_time": "2023-05-26T11:41:59.817Z"
   },
   {
    "duration": 16,
    "start_time": "2023-05-26T11:42:58.000Z"
   },
   {
    "duration": 16,
    "start_time": "2023-05-26T11:47:32.108Z"
   },
   {
    "duration": 32,
    "start_time": "2023-05-26T11:56:30.193Z"
   },
   {
    "duration": 253,
    "start_time": "2023-05-26T11:56:54.507Z"
   },
   {
    "duration": 144,
    "start_time": "2023-05-26T11:57:22.919Z"
   },
   {
    "duration": 136,
    "start_time": "2023-05-26T11:58:59.523Z"
   },
   {
    "duration": 1594,
    "start_time": "2023-05-26T12:16:23.874Z"
   },
   {
    "duration": 51,
    "start_time": "2023-05-26T12:16:25.470Z"
   },
   {
    "duration": 23,
    "start_time": "2023-05-26T12:16:25.523Z"
   },
   {
    "duration": 19,
    "start_time": "2023-05-26T12:16:25.548Z"
   },
   {
    "duration": 29,
    "start_time": "2023-05-26T12:16:25.569Z"
   },
   {
    "duration": 768,
    "start_time": "2023-05-26T12:16:25.600Z"
   },
   {
    "duration": 4,
    "start_time": "2023-05-26T12:16:26.371Z"
   },
   {
    "duration": 16,
    "start_time": "2023-05-26T12:16:26.377Z"
   },
   {
    "duration": 18,
    "start_time": "2023-05-26T12:16:26.396Z"
   },
   {
    "duration": 33,
    "start_time": "2023-05-26T12:16:26.416Z"
   },
   {
    "duration": 38,
    "start_time": "2023-05-26T12:16:26.451Z"
   },
   {
    "duration": 21124,
    "start_time": "2023-05-26T12:16:26.491Z"
   },
   {
    "duration": 39,
    "start_time": "2023-05-26T12:16:47.617Z"
   },
   {
    "duration": 7,
    "start_time": "2023-05-26T12:16:47.658Z"
   },
   {
    "duration": 14,
    "start_time": "2023-05-26T12:16:47.666Z"
   },
   {
    "duration": 14,
    "start_time": "2023-05-26T12:16:47.681Z"
   },
   {
    "duration": 6,
    "start_time": "2023-05-26T12:16:47.696Z"
   },
   {
    "duration": 7,
    "start_time": "2023-05-26T12:16:47.703Z"
   },
   {
    "duration": 6,
    "start_time": "2023-05-26T12:16:47.712Z"
   },
   {
    "duration": 6,
    "start_time": "2023-05-26T12:16:47.720Z"
   },
   {
    "duration": 14,
    "start_time": "2023-05-26T12:16:47.728Z"
   },
   {
    "duration": 15,
    "start_time": "2023-05-26T12:16:47.744Z"
   },
   {
    "duration": 13,
    "start_time": "2023-05-26T12:16:47.761Z"
   },
   {
    "duration": 12,
    "start_time": "2023-05-26T12:16:47.775Z"
   },
   {
    "duration": 4,
    "start_time": "2023-05-26T12:16:47.789Z"
   },
   {
    "duration": 23,
    "start_time": "2023-05-26T12:16:47.794Z"
   },
   {
    "duration": 310,
    "start_time": "2023-05-26T12:16:47.818Z"
   },
   {
    "duration": 29,
    "start_time": "2023-05-26T12:16:48.131Z"
   },
   {
    "duration": 430,
    "start_time": "2023-05-26T12:16:48.162Z"
   },
   {
    "duration": 7,
    "start_time": "2023-05-26T12:16:48.594Z"
   },
   {
    "duration": 314,
    "start_time": "2023-05-26T12:16:48.603Z"
   },
   {
    "duration": 38,
    "start_time": "2023-05-26T12:16:48.918Z"
   },
   {
    "duration": 5,
    "start_time": "2023-05-26T12:16:48.958Z"
   },
   {
    "duration": 495,
    "start_time": "2023-05-26T12:16:48.965Z"
   },
   {
    "duration": 220,
    "start_time": "2023-05-26T12:16:49.462Z"
   },
   {
    "duration": 22,
    "start_time": "2023-05-26T12:16:49.684Z"
   },
   {
    "duration": 177,
    "start_time": "2023-05-26T12:16:49.709Z"
   },
   {
    "duration": 213,
    "start_time": "2023-05-26T12:16:49.888Z"
   },
   {
    "duration": 193,
    "start_time": "2023-05-26T12:16:50.103Z"
   },
   {
    "duration": 183,
    "start_time": "2023-05-26T12:16:50.298Z"
   },
   {
    "duration": 248,
    "start_time": "2023-05-26T12:16:50.485Z"
   },
   {
    "duration": 35,
    "start_time": "2023-05-26T12:16:50.734Z"
   },
   {
    "duration": 146,
    "start_time": "2023-05-26T12:16:50.771Z"
   },
   {
    "duration": 167,
    "start_time": "2023-05-26T12:16:50.919Z"
   },
   {
    "duration": 7,
    "start_time": "2023-05-26T12:17:21.115Z"
   },
   {
    "duration": 12495,
    "start_time": "2023-05-26T12:18:19.620Z"
   },
   {
    "duration": 20242,
    "start_time": "2023-05-26T12:19:44.154Z"
   },
   {
    "duration": 17970,
    "start_time": "2023-05-26T12:20:16.340Z"
   },
   {
    "duration": 7,
    "start_time": "2023-05-26T12:22:40.786Z"
   },
   {
    "duration": 6,
    "start_time": "2023-05-26T12:23:05.805Z"
   },
   {
    "duration": 14,
    "start_time": "2023-05-26T12:23:18.547Z"
   },
   {
    "duration": 7,
    "start_time": "2023-05-26T12:23:38.975Z"
   },
   {
    "duration": 12,
    "start_time": "2023-05-26T12:25:26.925Z"
   },
   {
    "duration": 18,
    "start_time": "2023-05-26T12:25:36.374Z"
   },
   {
    "duration": 17,
    "start_time": "2023-05-26T12:26:45.621Z"
   },
   {
    "duration": 18,
    "start_time": "2023-05-26T12:27:31.515Z"
   },
   {
    "duration": 19,
    "start_time": "2023-05-26T12:33:40.636Z"
   },
   {
    "duration": 20,
    "start_time": "2023-05-26T12:33:54.170Z"
   },
   {
    "duration": 12,
    "start_time": "2023-05-26T12:34:11.685Z"
   },
   {
    "duration": 351,
    "start_time": "2023-05-26T12:40:36.035Z"
   },
   {
    "duration": 323,
    "start_time": "2023-05-26T12:41:01.138Z"
   },
   {
    "duration": 1256,
    "start_time": "2023-05-26T12:41:30.147Z"
   },
   {
    "duration": 56,
    "start_time": "2023-05-26T12:41:31.405Z"
   },
   {
    "duration": 39,
    "start_time": "2023-05-26T12:41:31.463Z"
   },
   {
    "duration": 115,
    "start_time": "2023-05-26T12:41:31.503Z"
   },
   {
    "duration": 131,
    "start_time": "2023-05-26T12:41:31.621Z"
   },
   {
    "duration": 916,
    "start_time": "2023-05-26T12:41:31.753Z"
   },
   {
    "duration": 4,
    "start_time": "2023-05-26T12:41:32.671Z"
   },
   {
    "duration": 62,
    "start_time": "2023-05-26T12:41:32.677Z"
   },
   {
    "duration": 28,
    "start_time": "2023-05-26T12:41:32.740Z"
   },
   {
    "duration": 23,
    "start_time": "2023-05-26T12:41:32.770Z"
   },
   {
    "duration": 18,
    "start_time": "2023-05-26T12:41:32.794Z"
   },
   {
    "duration": 21019,
    "start_time": "2023-05-26T12:41:32.814Z"
   },
   {
    "duration": 26,
    "start_time": "2023-05-26T12:41:53.835Z"
   },
   {
    "duration": 490,
    "start_time": "2023-05-26T12:41:53.864Z"
   },
   {
    "duration": 0,
    "start_time": "2023-05-26T12:41:54.357Z"
   },
   {
    "duration": 0,
    "start_time": "2023-05-26T12:41:54.359Z"
   },
   {
    "duration": 0,
    "start_time": "2023-05-26T12:41:54.360Z"
   },
   {
    "duration": 0,
    "start_time": "2023-05-26T12:41:54.361Z"
   },
   {
    "duration": 0,
    "start_time": "2023-05-26T12:41:54.362Z"
   },
   {
    "duration": 0,
    "start_time": "2023-05-26T12:41:54.363Z"
   },
   {
    "duration": 0,
    "start_time": "2023-05-26T12:41:54.364Z"
   },
   {
    "duration": 0,
    "start_time": "2023-05-26T12:41:54.365Z"
   },
   {
    "duration": 0,
    "start_time": "2023-05-26T12:41:54.366Z"
   },
   {
    "duration": 0,
    "start_time": "2023-05-26T12:41:54.367Z"
   },
   {
    "duration": 0,
    "start_time": "2023-05-26T12:41:54.368Z"
   },
   {
    "duration": 0,
    "start_time": "2023-05-26T12:41:54.371Z"
   },
   {
    "duration": 0,
    "start_time": "2023-05-26T12:41:54.372Z"
   },
   {
    "duration": 0,
    "start_time": "2023-05-26T12:41:54.373Z"
   },
   {
    "duration": 0,
    "start_time": "2023-05-26T12:41:54.374Z"
   },
   {
    "duration": 0,
    "start_time": "2023-05-26T12:41:54.376Z"
   },
   {
    "duration": 0,
    "start_time": "2023-05-26T12:41:54.377Z"
   },
   {
    "duration": 0,
    "start_time": "2023-05-26T12:41:54.378Z"
   },
   {
    "duration": 0,
    "start_time": "2023-05-26T12:41:54.379Z"
   },
   {
    "duration": 0,
    "start_time": "2023-05-26T12:41:54.380Z"
   },
   {
    "duration": 0,
    "start_time": "2023-05-26T12:41:54.381Z"
   },
   {
    "duration": 0,
    "start_time": "2023-05-26T12:41:54.382Z"
   },
   {
    "duration": 0,
    "start_time": "2023-05-26T12:41:54.383Z"
   },
   {
    "duration": 0,
    "start_time": "2023-05-26T12:41:54.384Z"
   },
   {
    "duration": 0,
    "start_time": "2023-05-26T12:41:54.385Z"
   },
   {
    "duration": 0,
    "start_time": "2023-05-26T12:41:54.386Z"
   },
   {
    "duration": 0,
    "start_time": "2023-05-26T12:41:54.387Z"
   },
   {
    "duration": 0,
    "start_time": "2023-05-26T12:41:54.389Z"
   },
   {
    "duration": 0,
    "start_time": "2023-05-26T12:41:54.390Z"
   },
   {
    "duration": 0,
    "start_time": "2023-05-26T12:41:54.391Z"
   },
   {
    "duration": 0,
    "start_time": "2023-05-26T12:41:54.392Z"
   },
   {
    "duration": 0,
    "start_time": "2023-05-26T12:41:54.393Z"
   },
   {
    "duration": 116,
    "start_time": "2023-05-26T12:42:21.922Z"
   },
   {
    "duration": 307,
    "start_time": "2023-05-26T12:43:32.647Z"
   },
   {
    "duration": 16,
    "start_time": "2023-05-26T12:43:43.209Z"
   },
   {
    "duration": 11,
    "start_time": "2023-05-26T12:43:56.142Z"
   },
   {
    "duration": 15,
    "start_time": "2023-05-26T12:46:27.346Z"
   },
   {
    "duration": 19,
    "start_time": "2023-05-26T12:46:34.692Z"
   },
   {
    "duration": 10,
    "start_time": "2023-05-26T12:46:54.984Z"
   },
   {
    "duration": 15,
    "start_time": "2023-05-26T12:48:21.976Z"
   },
   {
    "duration": 10,
    "start_time": "2023-05-26T12:48:38.522Z"
   },
   {
    "duration": 11,
    "start_time": "2023-05-26T12:49:27.412Z"
   },
   {
    "duration": 10,
    "start_time": "2023-05-26T12:49:36.447Z"
   },
   {
    "duration": 10,
    "start_time": "2023-05-26T12:49:43.484Z"
   },
   {
    "duration": 9,
    "start_time": "2023-05-26T12:50:09.331Z"
   },
   {
    "duration": 1141,
    "start_time": "2023-05-26T12:50:43.948Z"
   },
   {
    "duration": 54,
    "start_time": "2023-05-26T12:50:45.091Z"
   },
   {
    "duration": 36,
    "start_time": "2023-05-26T12:50:45.148Z"
   },
   {
    "duration": 14,
    "start_time": "2023-05-26T12:50:45.187Z"
   },
   {
    "duration": 58,
    "start_time": "2023-05-26T12:50:45.203Z"
   },
   {
    "duration": 755,
    "start_time": "2023-05-26T12:50:45.263Z"
   },
   {
    "duration": 4,
    "start_time": "2023-05-26T12:50:46.020Z"
   },
   {
    "duration": 19,
    "start_time": "2023-05-26T12:50:46.025Z"
   },
   {
    "duration": 17,
    "start_time": "2023-05-26T12:50:46.046Z"
   },
   {
    "duration": 8,
    "start_time": "2023-05-26T12:50:46.066Z"
   },
   {
    "duration": 12,
    "start_time": "2023-05-26T12:50:46.076Z"
   },
   {
    "duration": 20446,
    "start_time": "2023-05-26T12:50:46.090Z"
   },
   {
    "duration": 24,
    "start_time": "2023-05-26T12:51:06.537Z"
   },
   {
    "duration": 17,
    "start_time": "2023-05-26T12:51:06.563Z"
   },
   {
    "duration": 27,
    "start_time": "2023-05-26T12:51:06.581Z"
   },
   {
    "duration": 40,
    "start_time": "2023-05-26T12:51:06.609Z"
   },
   {
    "duration": 7,
    "start_time": "2023-05-26T12:51:06.651Z"
   },
   {
    "duration": 10,
    "start_time": "2023-05-26T12:51:06.660Z"
   },
   {
    "duration": 14,
    "start_time": "2023-05-26T12:51:06.671Z"
   },
   {
    "duration": 7,
    "start_time": "2023-05-26T12:51:06.687Z"
   },
   {
    "duration": 8,
    "start_time": "2023-05-26T12:51:06.696Z"
   },
   {
    "duration": 13,
    "start_time": "2023-05-26T12:51:06.705Z"
   },
   {
    "duration": 13,
    "start_time": "2023-05-26T12:51:06.720Z"
   },
   {
    "duration": 11,
    "start_time": "2023-05-26T12:51:06.743Z"
   },
   {
    "duration": 10,
    "start_time": "2023-05-26T12:51:06.756Z"
   },
   {
    "duration": 16,
    "start_time": "2023-05-26T12:51:06.768Z"
   },
   {
    "duration": 15,
    "start_time": "2023-05-26T12:51:06.786Z"
   },
   {
    "duration": 4,
    "start_time": "2023-05-26T12:51:06.804Z"
   },
   {
    "duration": 32,
    "start_time": "2023-05-26T12:51:06.810Z"
   },
   {
    "duration": 328,
    "start_time": "2023-05-26T12:51:06.844Z"
   },
   {
    "duration": 18,
    "start_time": "2023-05-26T12:51:07.174Z"
   },
   {
    "duration": 398,
    "start_time": "2023-05-26T12:51:07.193Z"
   },
   {
    "duration": 7,
    "start_time": "2023-05-26T12:51:07.592Z"
   },
   {
    "duration": 300,
    "start_time": "2023-05-26T12:51:07.601Z"
   },
   {
    "duration": 19,
    "start_time": "2023-05-26T12:51:07.903Z"
   },
   {
    "duration": 18,
    "start_time": "2023-05-26T12:51:07.924Z"
   },
   {
    "duration": 568,
    "start_time": "2023-05-26T12:51:07.943Z"
   },
   {
    "duration": 224,
    "start_time": "2023-05-26T12:51:08.513Z"
   },
   {
    "duration": 24,
    "start_time": "2023-05-26T12:51:08.739Z"
   },
   {
    "duration": 171,
    "start_time": "2023-05-26T12:51:08.765Z"
   },
   {
    "duration": 207,
    "start_time": "2023-05-26T12:51:08.942Z"
   },
   {
    "duration": 223,
    "start_time": "2023-05-26T12:51:09.151Z"
   },
   {
    "duration": 188,
    "start_time": "2023-05-26T12:51:09.376Z"
   },
   {
    "duration": 244,
    "start_time": "2023-05-26T12:51:09.565Z"
   },
   {
    "duration": 33,
    "start_time": "2023-05-26T12:51:09.810Z"
   },
   {
    "duration": 156,
    "start_time": "2023-05-26T12:51:09.845Z"
   },
   {
    "duration": 164,
    "start_time": "2023-05-26T12:51:10.003Z"
   },
   {
    "duration": 10,
    "start_time": "2023-05-26T12:51:18.521Z"
   },
   {
    "duration": 38,
    "start_time": "2023-05-26T12:51:40.061Z"
   },
   {
    "duration": 11,
    "start_time": "2023-05-26T12:51:44.093Z"
   },
   {
    "duration": 1175,
    "start_time": "2023-05-26T12:54:17.887Z"
   },
   {
    "duration": 51,
    "start_time": "2023-05-26T12:54:19.064Z"
   },
   {
    "duration": 4,
    "start_time": "2023-05-26T12:54:23.104Z"
   },
   {
    "duration": 12,
    "start_time": "2023-05-26T12:54:40.870Z"
   },
   {
    "duration": 11,
    "start_time": "2023-05-26T12:54:53.854Z"
   },
   {
    "duration": 13,
    "start_time": "2023-05-26T12:54:56.571Z"
   },
   {
    "duration": 15,
    "start_time": "2023-05-26T12:55:25.679Z"
   },
   {
    "duration": 1184,
    "start_time": "2023-05-26T12:56:45.654Z"
   },
   {
    "duration": 51,
    "start_time": "2023-05-26T12:56:46.841Z"
   },
   {
    "duration": 30,
    "start_time": "2023-05-26T12:56:46.894Z"
   },
   {
    "duration": 15,
    "start_time": "2023-05-26T12:56:46.926Z"
   },
   {
    "duration": 29,
    "start_time": "2023-05-26T12:56:46.942Z"
   },
   {
    "duration": 740,
    "start_time": "2023-05-26T12:56:46.973Z"
   },
   {
    "duration": 3,
    "start_time": "2023-05-26T12:56:47.715Z"
   },
   {
    "duration": 12,
    "start_time": "2023-05-26T12:56:47.720Z"
   },
   {
    "duration": 17,
    "start_time": "2023-05-26T12:56:47.742Z"
   },
   {
    "duration": 9,
    "start_time": "2023-05-26T12:56:47.761Z"
   },
   {
    "duration": 12,
    "start_time": "2023-05-26T12:56:47.771Z"
   },
   {
    "duration": 21480,
    "start_time": "2023-05-26T12:56:47.784Z"
   },
   {
    "duration": 27,
    "start_time": "2023-05-26T12:57:09.266Z"
   },
   {
    "duration": 10,
    "start_time": "2023-05-26T12:57:09.295Z"
   },
   {
    "duration": 10,
    "start_time": "2023-05-26T12:57:09.307Z"
   },
   {
    "duration": 13,
    "start_time": "2023-05-26T12:57:09.318Z"
   },
   {
    "duration": 4,
    "start_time": "2023-05-26T12:57:09.341Z"
   },
   {
    "duration": 6,
    "start_time": "2023-05-26T12:57:09.347Z"
   },
   {
    "duration": 6,
    "start_time": "2023-05-26T12:57:09.355Z"
   },
   {
    "duration": 7,
    "start_time": "2023-05-26T12:57:09.363Z"
   },
   {
    "duration": 9,
    "start_time": "2023-05-26T12:57:09.371Z"
   },
   {
    "duration": 4,
    "start_time": "2023-05-26T12:57:09.382Z"
   },
   {
    "duration": 15,
    "start_time": "2023-05-26T12:57:09.388Z"
   },
   {
    "duration": 45,
    "start_time": "2023-05-26T12:57:09.405Z"
   },
   {
    "duration": 10,
    "start_time": "2023-05-26T12:57:09.452Z"
   },
   {
    "duration": 22,
    "start_time": "2023-05-26T12:57:09.464Z"
   },
   {
    "duration": 6,
    "start_time": "2023-05-26T12:57:09.488Z"
   },
   {
    "duration": 20,
    "start_time": "2023-05-26T12:57:09.497Z"
   },
   {
    "duration": 304,
    "start_time": "2023-05-26T12:57:09.519Z"
   },
   {
    "duration": 22,
    "start_time": "2023-05-26T12:57:09.825Z"
   },
   {
    "duration": 381,
    "start_time": "2023-05-26T12:57:09.849Z"
   },
   {
    "duration": 12,
    "start_time": "2023-05-26T12:57:10.232Z"
   },
   {
    "duration": 278,
    "start_time": "2023-05-26T12:57:10.245Z"
   },
   {
    "duration": 23,
    "start_time": "2023-05-26T12:57:10.524Z"
   },
   {
    "duration": 5,
    "start_time": "2023-05-26T12:57:10.548Z"
   },
   {
    "duration": 463,
    "start_time": "2023-05-26T12:57:10.554Z"
   },
   {
    "duration": 218,
    "start_time": "2023-05-26T12:57:11.019Z"
   },
   {
    "duration": 24,
    "start_time": "2023-05-26T12:57:11.239Z"
   },
   {
    "duration": 157,
    "start_time": "2023-05-26T12:57:11.265Z"
   },
   {
    "duration": 201,
    "start_time": "2023-05-26T12:57:11.424Z"
   },
   {
    "duration": 195,
    "start_time": "2023-05-26T12:57:11.627Z"
   },
   {
    "duration": 187,
    "start_time": "2023-05-26T12:57:11.823Z"
   },
   {
    "duration": 241,
    "start_time": "2023-05-26T12:57:12.011Z"
   },
   {
    "duration": 21,
    "start_time": "2023-05-26T12:57:12.254Z"
   },
   {
    "duration": 150,
    "start_time": "2023-05-26T12:57:12.277Z"
   },
   {
    "duration": 159,
    "start_time": "2023-05-26T12:57:12.429Z"
   },
   {
    "duration": 193,
    "start_time": "2023-05-26T12:58:12.213Z"
   },
   {
    "duration": 200,
    "start_time": "2023-05-26T12:58:21.454Z"
   },
   {
    "duration": 201,
    "start_time": "2023-05-26T12:58:29.854Z"
   },
   {
    "duration": 231,
    "start_time": "2023-05-26T12:58:38.750Z"
   },
   {
    "duration": 163,
    "start_time": "2023-05-26T13:01:20.152Z"
   },
   {
    "duration": 118,
    "start_time": "2023-05-26T13:02:21.634Z"
   },
   {
    "duration": 173,
    "start_time": "2023-05-26T13:02:41.693Z"
   },
   {
    "duration": 146,
    "start_time": "2023-05-26T13:03:26.205Z"
   },
   {
    "duration": 31,
    "start_time": "2023-05-26T13:05:46.373Z"
   },
   {
    "duration": 32,
    "start_time": "2023-05-26T13:06:40.720Z"
   },
   {
    "duration": 159,
    "start_time": "2023-05-26T13:06:52.189Z"
   },
   {
    "duration": 267,
    "start_time": "2023-05-26T13:07:01.724Z"
   },
   {
    "duration": 90,
    "start_time": "2023-05-26T13:08:09.439Z"
   },
   {
    "duration": 75,
    "start_time": "2023-05-26T13:08:19.868Z"
   },
   {
    "duration": 81,
    "start_time": "2023-05-26T13:08:28.031Z"
   },
   {
    "duration": 142,
    "start_time": "2023-05-26T13:08:31.529Z"
   },
   {
    "duration": 112,
    "start_time": "2023-05-26T13:08:44.892Z"
   },
   {
    "duration": 81,
    "start_time": "2023-05-26T13:08:54.385Z"
   },
   {
    "duration": 71,
    "start_time": "2023-05-26T13:09:14.747Z"
   },
   {
    "duration": 73,
    "start_time": "2023-05-26T13:09:41.942Z"
   },
   {
    "duration": 113,
    "start_time": "2023-05-26T13:09:52.793Z"
   },
   {
    "duration": 188,
    "start_time": "2023-05-26T13:10:22.635Z"
   },
   {
    "duration": 159,
    "start_time": "2023-05-26T13:11:56.210Z"
   },
   {
    "duration": 212,
    "start_time": "2023-05-26T13:12:17.714Z"
   },
   {
    "duration": 155,
    "start_time": "2023-05-26T13:12:39.493Z"
   },
   {
    "duration": 185,
    "start_time": "2023-05-26T13:12:50.921Z"
   },
   {
    "duration": 149,
    "start_time": "2023-05-26T13:14:45.421Z"
   },
   {
    "duration": 159,
    "start_time": "2023-05-26T13:15:44.492Z"
   },
   {
    "duration": 18,
    "start_time": "2023-05-26T13:16:24.692Z"
   },
   {
    "duration": 15,
    "start_time": "2023-05-26T13:17:33.615Z"
   },
   {
    "duration": 17,
    "start_time": "2023-05-26T13:17:43.429Z"
   },
   {
    "duration": 15,
    "start_time": "2023-05-26T13:18:25.824Z"
   },
   {
    "duration": 21,
    "start_time": "2023-05-26T13:18:37.820Z"
   },
   {
    "duration": 216,
    "start_time": "2023-05-26T13:19:18.894Z"
   },
   {
    "duration": 176,
    "start_time": "2023-05-26T13:19:32.692Z"
   },
   {
    "duration": 178,
    "start_time": "2023-05-26T13:19:46.492Z"
   },
   {
    "duration": 182,
    "start_time": "2023-05-26T13:20:01.289Z"
   },
   {
    "duration": 277,
    "start_time": "2023-05-26T13:38:45.270Z"
   },
   {
    "duration": 165,
    "start_time": "2023-05-26T13:39:04.860Z"
   },
   {
    "duration": 192,
    "start_time": "2023-05-26T13:39:20.465Z"
   },
   {
    "duration": 19,
    "start_time": "2023-05-26T13:39:49.518Z"
   },
   {
    "duration": 159,
    "start_time": "2023-05-26T13:41:32.631Z"
   },
   {
    "duration": 207,
    "start_time": "2023-05-26T13:41:51.034Z"
   },
   {
    "duration": 27,
    "start_time": "2023-05-26T13:42:21.973Z"
   },
   {
    "duration": 18,
    "start_time": "2023-05-26T13:42:29.357Z"
   },
   {
    "duration": 18,
    "start_time": "2023-05-26T13:42:55.742Z"
   },
   {
    "duration": 176,
    "start_time": "2023-05-26T13:43:01.056Z"
   },
   {
    "duration": 172,
    "start_time": "2023-05-26T13:43:58.017Z"
   },
   {
    "duration": 24,
    "start_time": "2023-05-26T13:44:04.396Z"
   },
   {
    "duration": 178,
    "start_time": "2023-05-26T13:44:42.317Z"
   },
   {
    "duration": 252,
    "start_time": "2023-05-26T13:44:46.554Z"
   },
   {
    "duration": 23,
    "start_time": "2023-05-26T13:51:42.263Z"
   },
   {
    "duration": 194,
    "start_time": "2023-05-26T14:02:42.426Z"
   },
   {
    "duration": 221,
    "start_time": "2023-05-26T14:03:37.870Z"
   },
   {
    "duration": 225,
    "start_time": "2023-05-26T14:04:09.354Z"
   },
   {
    "duration": 325,
    "start_time": "2023-05-26T14:04:16.047Z"
   },
   {
    "duration": 214,
    "start_time": "2023-05-26T14:04:24.656Z"
   },
   {
    "duration": 225,
    "start_time": "2023-05-26T14:04:32.220Z"
   },
   {
    "duration": 214,
    "start_time": "2023-05-26T14:04:51.513Z"
   },
   {
    "duration": 224,
    "start_time": "2023-05-26T14:04:56.560Z"
   },
   {
    "duration": 216,
    "start_time": "2023-05-26T14:05:00.790Z"
   },
   {
    "duration": 230,
    "start_time": "2023-05-26T14:05:05.102Z"
   },
   {
    "duration": 232,
    "start_time": "2023-05-26T14:05:09.110Z"
   },
   {
    "duration": 223,
    "start_time": "2023-05-26T14:06:19.712Z"
   },
   {
    "duration": 194,
    "start_time": "2023-05-26T14:07:19.001Z"
   },
   {
    "duration": 210,
    "start_time": "2023-05-26T14:07:24.445Z"
   },
   {
    "duration": 316,
    "start_time": "2023-05-26T14:08:32.094Z"
   },
   {
    "duration": 212,
    "start_time": "2023-05-26T14:08:41.358Z"
   },
   {
    "duration": 230,
    "start_time": "2023-05-26T14:08:48.454Z"
   },
   {
    "duration": 218,
    "start_time": "2023-05-26T14:09:10.354Z"
   },
   {
    "duration": 217,
    "start_time": "2023-05-26T14:10:07.651Z"
   },
   {
    "duration": 230,
    "start_time": "2023-05-26T14:10:12.630Z"
   },
   {
    "duration": 210,
    "start_time": "2023-05-26T14:10:43.365Z"
   },
   {
    "duration": 213,
    "start_time": "2023-05-26T14:12:28.593Z"
   },
   {
    "duration": 243,
    "start_time": "2023-05-26T14:12:57.214Z"
   },
   {
    "duration": 227,
    "start_time": "2023-05-26T14:13:21.248Z"
   },
   {
    "duration": 223,
    "start_time": "2023-05-26T14:14:11.712Z"
   },
   {
    "duration": 597,
    "start_time": "2023-05-26T14:15:09.483Z"
   },
   {
    "duration": 522,
    "start_time": "2023-05-26T14:15:42.280Z"
   },
   {
    "duration": 487,
    "start_time": "2023-05-26T14:15:48.786Z"
   },
   {
    "duration": 535,
    "start_time": "2023-05-26T14:16:00.866Z"
   },
   {
    "duration": 487,
    "start_time": "2023-05-26T14:16:09.324Z"
   },
   {
    "duration": 676,
    "start_time": "2023-05-26T14:16:13.780Z"
   },
   {
    "duration": 553,
    "start_time": "2023-05-26T14:16:18.157Z"
   },
   {
    "duration": 529,
    "start_time": "2023-05-26T14:16:31.288Z"
   },
   {
    "duration": 550,
    "start_time": "2023-05-26T14:17:32.901Z"
   },
   {
    "duration": 507,
    "start_time": "2023-05-26T14:18:02.198Z"
   },
   {
    "duration": 523,
    "start_time": "2023-05-26T14:18:07.266Z"
   },
   {
    "duration": 651,
    "start_time": "2023-05-26T14:18:29.169Z"
   },
   {
    "duration": 523,
    "start_time": "2023-05-26T14:18:48.912Z"
   },
   {
    "duration": 112,
    "start_time": "2023-05-26T14:19:06.324Z"
   },
   {
    "duration": 76,
    "start_time": "2023-05-26T14:19:14.759Z"
   },
   {
    "duration": 528,
    "start_time": "2023-05-26T14:19:30.017Z"
   },
   {
    "duration": 531,
    "start_time": "2023-05-26T14:20:32.802Z"
   },
   {
    "duration": 132,
    "start_time": "2023-05-26T14:47:40.138Z"
   },
   {
    "duration": 128,
    "start_time": "2023-05-26T14:47:55.477Z"
   },
   {
    "duration": 135,
    "start_time": "2023-05-26T14:48:06.345Z"
   },
   {
    "duration": 19,
    "start_time": "2023-05-26T14:59:02.045Z"
   },
   {
    "duration": 425,
    "start_time": "2023-05-26T14:59:24.939Z"
   },
   {
    "duration": 322,
    "start_time": "2023-05-26T14:59:37.205Z"
   },
   {
    "duration": 209,
    "start_time": "2023-05-26T15:00:19.563Z"
   },
   {
    "duration": 290,
    "start_time": "2023-05-26T15:01:16.815Z"
   },
   {
    "duration": 341,
    "start_time": "2023-05-26T15:01:28.991Z"
   },
   {
    "duration": 342,
    "start_time": "2023-05-26T15:02:02.493Z"
   },
   {
    "duration": 437,
    "start_time": "2023-05-26T15:02:08.347Z"
   },
   {
    "duration": 350,
    "start_time": "2023-05-26T15:02:15.197Z"
   },
   {
    "duration": 361,
    "start_time": "2023-05-26T15:03:51.020Z"
   },
   {
    "duration": 362,
    "start_time": "2023-05-26T15:04:01.834Z"
   },
   {
    "duration": 399,
    "start_time": "2023-05-26T15:04:07.907Z"
   },
   {
    "duration": 441,
    "start_time": "2023-05-26T15:04:14.308Z"
   },
   {
    "duration": 374,
    "start_time": "2023-05-26T15:04:23.434Z"
   },
   {
    "duration": 473,
    "start_time": "2023-05-26T15:04:28.319Z"
   },
   {
    "duration": 376,
    "start_time": "2023-05-26T15:04:35.643Z"
   },
   {
    "duration": 355,
    "start_time": "2023-05-26T15:05:23.648Z"
   },
   {
    "duration": 346,
    "start_time": "2023-05-26T15:05:37.813Z"
   },
   {
    "duration": 9,
    "start_time": "2023-05-26T15:07:53.343Z"
   },
   {
    "duration": 16,
    "start_time": "2023-05-26T15:08:06.115Z"
   },
   {
    "duration": 18,
    "start_time": "2023-05-26T15:08:21.914Z"
   },
   {
    "duration": 51,
    "start_time": "2023-05-26T15:09:37.601Z"
   },
   {
    "duration": 18,
    "start_time": "2023-05-26T15:11:14.949Z"
   },
   {
    "duration": 171,
    "start_time": "2023-05-26T15:12:22.810Z"
   },
   {
    "duration": 62,
    "start_time": "2023-05-26T15:12:41.555Z"
   },
   {
    "duration": 79,
    "start_time": "2023-05-26T15:15:07.544Z"
   },
   {
    "duration": 50,
    "start_time": "2023-05-26T15:15:17.609Z"
   },
   {
    "duration": 68,
    "start_time": "2023-05-26T15:15:56.138Z"
   },
   {
    "duration": 56,
    "start_time": "2023-05-26T15:16:07.542Z"
   },
   {
    "duration": 64,
    "start_time": "2023-05-26T15:16:31.928Z"
   },
   {
    "duration": 61,
    "start_time": "2023-05-26T15:16:58.955Z"
   },
   {
    "duration": 341,
    "start_time": "2023-05-26T15:17:31.767Z"
   },
   {
    "duration": 171,
    "start_time": "2023-05-26T15:18:29.041Z"
   },
   {
    "duration": 214,
    "start_time": "2023-05-26T15:18:39.142Z"
   },
   {
    "duration": 166,
    "start_time": "2023-05-26T15:19:09.607Z"
   },
   {
    "duration": 25,
    "start_time": "2023-05-26T15:44:20.967Z"
   },
   {
    "duration": 17,
    "start_time": "2023-05-26T15:53:10.422Z"
   },
   {
    "duration": 1196,
    "start_time": "2023-05-26T15:53:48.273Z"
   },
   {
    "duration": 66,
    "start_time": "2023-05-26T15:53:49.471Z"
   },
   {
    "duration": 37,
    "start_time": "2023-05-26T15:53:49.539Z"
   },
   {
    "duration": 23,
    "start_time": "2023-05-26T15:53:49.578Z"
   },
   {
    "duration": 67,
    "start_time": "2023-05-26T15:53:49.605Z"
   },
   {
    "duration": 966,
    "start_time": "2023-05-26T15:53:49.674Z"
   },
   {
    "duration": 6,
    "start_time": "2023-05-26T15:53:50.642Z"
   },
   {
    "duration": 20,
    "start_time": "2023-05-26T15:53:50.650Z"
   },
   {
    "duration": 18,
    "start_time": "2023-05-26T15:53:50.671Z"
   },
   {
    "duration": 9,
    "start_time": "2023-05-26T15:53:50.691Z"
   },
   {
    "duration": 43,
    "start_time": "2023-05-26T15:53:50.702Z"
   },
   {
    "duration": 22588,
    "start_time": "2023-05-26T15:53:50.747Z"
   },
   {
    "duration": 36,
    "start_time": "2023-05-26T15:54:13.341Z"
   },
   {
    "duration": 9,
    "start_time": "2023-05-26T15:54:13.382Z"
   },
   {
    "duration": 13,
    "start_time": "2023-05-26T15:54:13.394Z"
   },
   {
    "duration": 35,
    "start_time": "2023-05-26T15:54:13.409Z"
   },
   {
    "duration": 11,
    "start_time": "2023-05-26T15:54:13.446Z"
   },
   {
    "duration": 10,
    "start_time": "2023-05-26T15:54:13.459Z"
   },
   {
    "duration": 9,
    "start_time": "2023-05-26T15:54:13.471Z"
   },
   {
    "duration": 17,
    "start_time": "2023-05-26T15:54:13.482Z"
   },
   {
    "duration": 14,
    "start_time": "2023-05-26T15:54:13.500Z"
   },
   {
    "duration": 5,
    "start_time": "2023-05-26T15:54:13.516Z"
   },
   {
    "duration": 34,
    "start_time": "2023-05-26T15:54:13.523Z"
   },
   {
    "duration": 20,
    "start_time": "2023-05-26T15:54:13.559Z"
   },
   {
    "duration": 13,
    "start_time": "2023-05-26T15:54:13.582Z"
   },
   {
    "duration": 14,
    "start_time": "2023-05-26T15:54:13.597Z"
   },
   {
    "duration": 33,
    "start_time": "2023-05-26T15:54:13.613Z"
   },
   {
    "duration": 17,
    "start_time": "2023-05-26T15:54:13.648Z"
   },
   {
    "duration": 342,
    "start_time": "2023-05-26T15:54:13.667Z"
   },
   {
    "duration": 32,
    "start_time": "2023-05-26T15:54:14.011Z"
   },
   {
    "duration": 420,
    "start_time": "2023-05-26T15:54:14.045Z"
   },
   {
    "duration": 8,
    "start_time": "2023-05-26T15:54:14.467Z"
   },
   {
    "duration": 302,
    "start_time": "2023-05-26T15:54:14.477Z"
   },
   {
    "duration": 24,
    "start_time": "2023-05-26T15:54:14.781Z"
   },
   {
    "duration": 5,
    "start_time": "2023-05-26T15:54:14.807Z"
   },
   {
    "duration": 498,
    "start_time": "2023-05-26T15:54:14.814Z"
   },
   {
    "duration": 241,
    "start_time": "2023-05-26T15:54:15.314Z"
   },
   {
    "duration": 168,
    "start_time": "2023-05-26T15:54:15.557Z"
   },
   {
    "duration": 209,
    "start_time": "2023-05-26T15:54:15.726Z"
   },
   {
    "duration": 211,
    "start_time": "2023-05-26T15:54:15.942Z"
   },
   {
    "duration": 194,
    "start_time": "2023-05-26T15:54:16.157Z"
   },
   {
    "duration": 564,
    "start_time": "2023-05-26T15:54:16.353Z"
   },
   {
    "duration": 69,
    "start_time": "2023-05-26T15:54:16.920Z"
   },
   {
    "duration": 206,
    "start_time": "2023-05-26T15:54:16.992Z"
   },
   {
    "duration": 204,
    "start_time": "2023-05-26T15:54:17.201Z"
   },
   {
    "duration": 160,
    "start_time": "2023-05-26T15:54:17.407Z"
   },
   {
    "duration": 186,
    "start_time": "2023-05-26T15:54:17.569Z"
   },
   {
    "duration": 240,
    "start_time": "2023-05-26T15:54:17.757Z"
   },
   {
    "duration": 192,
    "start_time": "2023-05-26T15:54:17.998Z"
   },
   {
    "duration": 21,
    "start_time": "2023-05-26T15:54:18.192Z"
   },
   {
    "duration": 37,
    "start_time": "2023-05-26T15:54:18.217Z"
   },
   {
    "duration": 24,
    "start_time": "2023-05-26T15:54:18.257Z"
   },
   {
    "duration": 325,
    "start_time": "2023-05-26T15:54:18.283Z"
   },
   {
    "duration": 38,
    "start_time": "2023-05-26T15:54:18.610Z"
   },
   {
    "duration": 167,
    "start_time": "2023-05-26T15:54:18.650Z"
   },
   {
    "duration": 12,
    "start_time": "2023-05-26T15:54:39.113Z"
   },
   {
    "duration": 13,
    "start_time": "2023-05-26T15:55:19.553Z"
   },
   {
    "duration": 15,
    "start_time": "2023-05-26T15:55:57.801Z"
   },
   {
    "duration": 12,
    "start_time": "2023-05-26T15:58:03.098Z"
   },
   {
    "duration": 11,
    "start_time": "2023-05-26T15:58:17.097Z"
   },
   {
    "duration": 16,
    "start_time": "2023-05-26T15:58:29.021Z"
   },
   {
    "duration": 12,
    "start_time": "2023-05-26T16:01:53.064Z"
   },
   {
    "duration": 15,
    "start_time": "2023-05-26T16:02:52.698Z"
   },
   {
    "duration": 13,
    "start_time": "2023-05-26T16:21:02.057Z"
   },
   {
    "duration": 13,
    "start_time": "2023-05-26T16:21:23.495Z"
   },
   {
    "duration": 15,
    "start_time": "2023-05-26T16:21:32.794Z"
   },
   {
    "duration": 14,
    "start_time": "2023-05-26T16:21:38.596Z"
   },
   {
    "duration": 14,
    "start_time": "2023-05-26T16:22:02.034Z"
   },
   {
    "duration": 14,
    "start_time": "2023-05-26T16:22:09.860Z"
   },
   {
    "duration": 13,
    "start_time": "2023-05-26T16:22:14.579Z"
   },
   {
    "duration": 20,
    "start_time": "2023-05-26T16:38:11.642Z"
   },
   {
    "duration": 19942,
    "start_time": "2023-05-26T16:38:26.358Z"
   },
   {
    "duration": 10,
    "start_time": "2023-05-26T16:38:49.639Z"
   },
   {
    "duration": 20365,
    "start_time": "2023-05-26T16:42:17.012Z"
   },
   {
    "duration": 20686,
    "start_time": "2023-05-26T16:46:30.824Z"
   },
   {
    "duration": 12,
    "start_time": "2023-05-26T16:46:51.512Z"
   },
   {
    "duration": 1151,
    "start_time": "2023-05-26T16:47:12.747Z"
   },
   {
    "duration": 55,
    "start_time": "2023-05-26T16:47:13.901Z"
   },
   {
    "duration": 23,
    "start_time": "2023-05-26T16:47:13.957Z"
   },
   {
    "duration": 19,
    "start_time": "2023-05-26T16:47:13.981Z"
   },
   {
    "duration": 51,
    "start_time": "2023-05-26T16:47:14.003Z"
   },
   {
    "duration": 748,
    "start_time": "2023-05-26T16:47:14.056Z"
   },
   {
    "duration": 3,
    "start_time": "2023-05-26T16:47:14.805Z"
   },
   {
    "duration": 11,
    "start_time": "2023-05-26T16:47:14.811Z"
   },
   {
    "duration": 28,
    "start_time": "2023-05-26T16:47:14.824Z"
   },
   {
    "duration": 10,
    "start_time": "2023-05-26T16:47:14.855Z"
   },
   {
    "duration": 9,
    "start_time": "2023-05-26T16:47:14.866Z"
   },
   {
    "duration": 20401,
    "start_time": "2023-05-26T16:47:14.876Z"
   },
   {
    "duration": 22,
    "start_time": "2023-05-26T16:47:35.279Z"
   },
   {
    "duration": 11,
    "start_time": "2023-05-26T16:47:35.303Z"
   },
   {
    "duration": 7,
    "start_time": "2023-05-26T16:47:35.315Z"
   },
   {
    "duration": 26,
    "start_time": "2023-05-26T16:47:35.323Z"
   },
   {
    "duration": 14,
    "start_time": "2023-05-26T16:47:35.350Z"
   },
   {
    "duration": 6,
    "start_time": "2023-05-26T16:47:35.366Z"
   },
   {
    "duration": 7,
    "start_time": "2023-05-26T16:47:35.374Z"
   },
   {
    "duration": 10,
    "start_time": "2023-05-26T16:47:35.382Z"
   },
   {
    "duration": 23,
    "start_time": "2023-05-26T16:47:35.394Z"
   },
   {
    "duration": 10,
    "start_time": "2023-05-26T16:47:35.418Z"
   },
   {
    "duration": 27,
    "start_time": "2023-05-26T16:47:35.429Z"
   },
   {
    "duration": 19,
    "start_time": "2023-05-26T16:47:35.458Z"
   },
   {
    "duration": 9,
    "start_time": "2023-05-26T16:47:35.479Z"
   },
   {
    "duration": 12,
    "start_time": "2023-05-26T16:47:35.489Z"
   },
   {
    "duration": 5,
    "start_time": "2023-05-26T16:47:35.502Z"
   },
   {
    "duration": 12,
    "start_time": "2023-05-26T16:47:35.508Z"
   },
   {
    "duration": 317,
    "start_time": "2023-05-26T16:47:35.522Z"
   },
   {
    "duration": 29,
    "start_time": "2023-05-26T16:47:35.841Z"
   },
   {
    "duration": 368,
    "start_time": "2023-05-26T16:47:35.871Z"
   },
   {
    "duration": 10,
    "start_time": "2023-05-26T16:47:36.241Z"
   },
   {
    "duration": 274,
    "start_time": "2023-05-26T16:47:36.256Z"
   },
   {
    "duration": 32,
    "start_time": "2023-05-26T16:47:36.532Z"
   },
   {
    "duration": 10,
    "start_time": "2023-05-26T16:47:36.565Z"
   },
   {
    "duration": 542,
    "start_time": "2023-05-26T16:47:36.577Z"
   },
   {
    "duration": 231,
    "start_time": "2023-05-26T16:47:37.120Z"
   },
   {
    "duration": 140,
    "start_time": "2023-05-26T16:47:37.353Z"
   },
   {
    "duration": 194,
    "start_time": "2023-05-26T16:47:37.495Z"
   },
   {
    "duration": 191,
    "start_time": "2023-05-26T16:47:37.691Z"
   },
   {
    "duration": 294,
    "start_time": "2023-05-26T16:47:37.885Z"
   },
   {
    "duration": 375,
    "start_time": "2023-05-26T16:47:38.180Z"
   },
   {
    "duration": 40,
    "start_time": "2023-05-26T16:47:38.557Z"
   },
   {
    "duration": 154,
    "start_time": "2023-05-26T16:47:38.598Z"
   },
   {
    "duration": 135,
    "start_time": "2023-05-26T16:47:38.754Z"
   },
   {
    "duration": 137,
    "start_time": "2023-05-26T16:47:38.890Z"
   },
   {
    "duration": 155,
    "start_time": "2023-05-26T16:47:39.028Z"
   },
   {
    "duration": 170,
    "start_time": "2023-05-26T16:47:39.185Z"
   },
   {
    "duration": 142,
    "start_time": "2023-05-26T16:47:39.356Z"
   },
   {
    "duration": 16,
    "start_time": "2023-05-26T16:47:39.500Z"
   },
   {
    "duration": 29,
    "start_time": "2023-05-26T16:47:39.518Z"
   },
   {
    "duration": 20,
    "start_time": "2023-05-26T16:47:39.548Z"
   },
   {
    "duration": 215,
    "start_time": "2023-05-26T16:47:39.569Z"
   },
   {
    "duration": 21,
    "start_time": "2023-05-26T16:47:39.785Z"
   },
   {
    "duration": 11,
    "start_time": "2023-05-26T16:47:39.807Z"
   },
   {
    "duration": 36,
    "start_time": "2023-05-26T16:47:39.819Z"
   },
   {
    "duration": 11,
    "start_time": "2023-05-26T16:47:39.857Z"
   },
   {
    "duration": 1311,
    "start_time": "2023-05-26T16:59:17.771Z"
   },
   {
    "duration": 58,
    "start_time": "2023-05-26T16:59:19.616Z"
   },
   {
    "duration": 3,
    "start_time": "2023-05-26T16:59:28.661Z"
   },
   {
    "duration": 14,
    "start_time": "2023-05-26T16:59:32.575Z"
   },
   {
    "duration": 420,
    "start_time": "2023-05-26T16:59:37.261Z"
   },
   {
    "duration": 1228,
    "start_time": "2023-05-26T17:02:34.123Z"
   },
   {
    "duration": 52,
    "start_time": "2023-05-26T17:02:35.353Z"
   },
   {
    "duration": 25,
    "start_time": "2023-05-26T17:02:35.407Z"
   },
   {
    "duration": 21,
    "start_time": "2023-05-26T17:02:35.435Z"
   },
   {
    "duration": 27,
    "start_time": "2023-05-26T17:02:35.458Z"
   },
   {
    "duration": 749,
    "start_time": "2023-05-26T17:02:35.486Z"
   },
   {
    "duration": 8,
    "start_time": "2023-05-26T17:02:36.241Z"
   },
   {
    "duration": 16,
    "start_time": "2023-05-26T17:02:36.252Z"
   },
   {
    "duration": 21,
    "start_time": "2023-05-26T17:02:36.270Z"
   },
   {
    "duration": 7,
    "start_time": "2023-05-26T17:02:36.293Z"
   },
   {
    "duration": 20,
    "start_time": "2023-05-26T17:02:36.301Z"
   },
   {
    "duration": 20502,
    "start_time": "2023-05-26T17:02:36.323Z"
   },
   {
    "duration": 35,
    "start_time": "2023-05-26T17:02:56.827Z"
   },
   {
    "duration": 9,
    "start_time": "2023-05-26T17:02:56.864Z"
   },
   {
    "duration": 14,
    "start_time": "2023-05-26T17:02:56.874Z"
   },
   {
    "duration": 28,
    "start_time": "2023-05-26T17:02:56.890Z"
   },
   {
    "duration": 25,
    "start_time": "2023-05-26T17:02:56.919Z"
   },
   {
    "duration": 156,
    "start_time": "2023-05-26T17:02:56.945Z"
   },
   {
    "duration": 0,
    "start_time": "2023-05-26T17:02:57.104Z"
   },
   {
    "duration": 0,
    "start_time": "2023-05-26T17:02:57.106Z"
   },
   {
    "duration": 0,
    "start_time": "2023-05-26T17:02:57.107Z"
   },
   {
    "duration": 0,
    "start_time": "2023-05-26T17:02:57.108Z"
   },
   {
    "duration": 0,
    "start_time": "2023-05-26T17:02:57.109Z"
   },
   {
    "duration": 0,
    "start_time": "2023-05-26T17:02:57.110Z"
   },
   {
    "duration": 0,
    "start_time": "2023-05-26T17:02:57.112Z"
   },
   {
    "duration": 0,
    "start_time": "2023-05-26T17:02:57.113Z"
   },
   {
    "duration": 0,
    "start_time": "2023-05-26T17:02:57.114Z"
   },
   {
    "duration": 0,
    "start_time": "2023-05-26T17:02:57.115Z"
   },
   {
    "duration": 0,
    "start_time": "2023-05-26T17:02:57.117Z"
   },
   {
    "duration": 0,
    "start_time": "2023-05-26T17:02:57.118Z"
   },
   {
    "duration": 0,
    "start_time": "2023-05-26T17:02:57.118Z"
   },
   {
    "duration": 0,
    "start_time": "2023-05-26T17:02:57.145Z"
   },
   {
    "duration": 0,
    "start_time": "2023-05-26T17:02:57.146Z"
   },
   {
    "duration": 0,
    "start_time": "2023-05-26T17:02:57.149Z"
   },
   {
    "duration": 0,
    "start_time": "2023-05-26T17:02:57.150Z"
   },
   {
    "duration": 0,
    "start_time": "2023-05-26T17:02:57.150Z"
   },
   {
    "duration": 0,
    "start_time": "2023-05-26T17:02:57.151Z"
   },
   {
    "duration": 0,
    "start_time": "2023-05-26T17:02:57.152Z"
   },
   {
    "duration": 0,
    "start_time": "2023-05-26T17:02:57.153Z"
   },
   {
    "duration": 0,
    "start_time": "2023-05-26T17:02:57.154Z"
   },
   {
    "duration": 0,
    "start_time": "2023-05-26T17:02:57.159Z"
   },
   {
    "duration": 0,
    "start_time": "2023-05-26T17:02:57.160Z"
   },
   {
    "duration": 0,
    "start_time": "2023-05-26T17:02:57.161Z"
   },
   {
    "duration": 0,
    "start_time": "2023-05-26T17:02:57.162Z"
   },
   {
    "duration": 0,
    "start_time": "2023-05-26T17:02:57.162Z"
   },
   {
    "duration": 0,
    "start_time": "2023-05-26T17:02:57.163Z"
   },
   {
    "duration": 0,
    "start_time": "2023-05-26T17:02:57.164Z"
   },
   {
    "duration": 0,
    "start_time": "2023-05-26T17:02:57.165Z"
   },
   {
    "duration": 0,
    "start_time": "2023-05-26T17:02:57.166Z"
   },
   {
    "duration": 1,
    "start_time": "2023-05-26T17:02:57.167Z"
   },
   {
    "duration": 0,
    "start_time": "2023-05-26T17:02:57.168Z"
   },
   {
    "duration": 0,
    "start_time": "2023-05-26T17:02:57.170Z"
   },
   {
    "duration": 0,
    "start_time": "2023-05-26T17:02:57.170Z"
   },
   {
    "duration": 0,
    "start_time": "2023-05-26T17:02:57.172Z"
   },
   {
    "duration": 0,
    "start_time": "2023-05-26T17:02:57.173Z"
   },
   {
    "duration": 0,
    "start_time": "2023-05-26T17:02:57.174Z"
   },
   {
    "duration": 0,
    "start_time": "2023-05-26T17:02:57.174Z"
   },
   {
    "duration": 5,
    "start_time": "2023-05-26T17:03:40.853Z"
   },
   {
    "duration": 5,
    "start_time": "2023-05-26T17:03:52.257Z"
   },
   {
    "duration": 7,
    "start_time": "2023-05-26T17:03:52.838Z"
   },
   {
    "duration": 9,
    "start_time": "2023-05-26T17:03:54.927Z"
   },
   {
    "duration": 86,
    "start_time": "2023-05-26T17:08:44.189Z"
   },
   {
    "duration": 1186,
    "start_time": "2023-05-26T17:20:59.455Z"
   },
   {
    "duration": 52,
    "start_time": "2023-05-26T17:21:00.653Z"
   },
   {
    "duration": 24,
    "start_time": "2023-05-26T17:21:00.708Z"
   },
   {
    "duration": 23,
    "start_time": "2023-05-26T17:21:00.734Z"
   },
   {
    "duration": 60,
    "start_time": "2023-05-26T17:21:00.758Z"
   },
   {
    "duration": 787,
    "start_time": "2023-05-26T17:21:00.820Z"
   },
   {
    "duration": 4,
    "start_time": "2023-05-26T17:21:01.609Z"
   },
   {
    "duration": 54,
    "start_time": "2023-05-26T17:21:01.614Z"
   },
   {
    "duration": 42,
    "start_time": "2023-05-26T17:21:01.670Z"
   },
   {
    "duration": 10,
    "start_time": "2023-05-26T17:21:01.714Z"
   },
   {
    "duration": 33,
    "start_time": "2023-05-26T17:21:01.726Z"
   },
   {
    "duration": 20293,
    "start_time": "2023-05-26T17:21:01.761Z"
   },
   {
    "duration": 24,
    "start_time": "2023-05-26T17:21:22.056Z"
   },
   {
    "duration": 14,
    "start_time": "2023-05-26T17:21:22.081Z"
   },
   {
    "duration": 9,
    "start_time": "2023-05-26T17:21:22.097Z"
   },
   {
    "duration": 12,
    "start_time": "2023-05-26T17:21:22.108Z"
   },
   {
    "duration": 9,
    "start_time": "2023-05-26T17:21:22.122Z"
   },
   {
    "duration": 43,
    "start_time": "2023-05-26T17:21:22.132Z"
   },
   {
    "duration": 8,
    "start_time": "2023-05-26T17:21:22.177Z"
   },
   {
    "duration": 8,
    "start_time": "2023-05-26T17:21:22.186Z"
   },
   {
    "duration": 12,
    "start_time": "2023-05-26T17:21:22.196Z"
   },
   {
    "duration": 3,
    "start_time": "2023-05-26T17:21:22.210Z"
   },
   {
    "duration": 14,
    "start_time": "2023-05-26T17:21:22.214Z"
   },
   {
    "duration": 12,
    "start_time": "2023-05-26T17:21:22.230Z"
   },
   {
    "duration": 13,
    "start_time": "2023-05-26T17:21:22.243Z"
   },
   {
    "duration": 13,
    "start_time": "2023-05-26T17:21:22.258Z"
   },
   {
    "duration": 5,
    "start_time": "2023-05-26T17:21:22.272Z"
   },
   {
    "duration": 10,
    "start_time": "2023-05-26T17:21:22.280Z"
   },
   {
    "duration": 325,
    "start_time": "2023-05-26T17:21:22.291Z"
   },
   {
    "duration": 40,
    "start_time": "2023-05-26T17:21:22.617Z"
   },
   {
    "duration": 355,
    "start_time": "2023-05-26T17:21:22.658Z"
   },
   {
    "duration": 6,
    "start_time": "2023-05-26T17:21:23.014Z"
   },
   {
    "duration": 282,
    "start_time": "2023-05-26T17:21:23.022Z"
   },
   {
    "duration": 18,
    "start_time": "2023-05-26T17:21:23.305Z"
   },
   {
    "duration": 31,
    "start_time": "2023-05-26T17:21:23.325Z"
   },
   {
    "duration": 528,
    "start_time": "2023-05-26T17:21:23.358Z"
   },
   {
    "duration": 227,
    "start_time": "2023-05-26T17:21:23.889Z"
   },
   {
    "duration": 168,
    "start_time": "2023-05-26T17:21:24.118Z"
   },
   {
    "duration": 194,
    "start_time": "2023-05-26T17:21:24.288Z"
   },
   {
    "duration": 188,
    "start_time": "2023-05-26T17:21:24.484Z"
   },
   {
    "duration": 283,
    "start_time": "2023-05-26T17:21:24.674Z"
   },
   {
    "duration": 327,
    "start_time": "2023-05-26T17:21:24.960Z"
   },
   {
    "duration": 40,
    "start_time": "2023-05-26T17:21:25.289Z"
   },
   {
    "duration": 155,
    "start_time": "2023-05-26T17:21:25.330Z"
   },
   {
    "duration": 150,
    "start_time": "2023-05-26T17:21:25.486Z"
   },
   {
    "duration": 149,
    "start_time": "2023-05-26T17:21:25.638Z"
   },
   {
    "duration": 150,
    "start_time": "2023-05-26T17:21:25.789Z"
   },
   {
    "duration": 139,
    "start_time": "2023-05-26T17:21:25.952Z"
   },
   {
    "duration": 163,
    "start_time": "2023-05-26T17:21:26.093Z"
   },
   {
    "duration": 17,
    "start_time": "2023-05-26T17:21:26.258Z"
   },
   {
    "duration": 16,
    "start_time": "2023-05-26T17:21:26.277Z"
   },
   {
    "duration": 16,
    "start_time": "2023-05-26T17:21:26.294Z"
   },
   {
    "duration": 245,
    "start_time": "2023-05-26T17:21:26.311Z"
   },
   {
    "duration": 24,
    "start_time": "2023-05-26T17:21:26.558Z"
   },
   {
    "duration": 11,
    "start_time": "2023-05-26T17:21:26.584Z"
   },
   {
    "duration": 10,
    "start_time": "2023-05-26T17:21:26.597Z"
   },
   {
    "duration": 11,
    "start_time": "2023-05-26T17:21:26.609Z"
   },
   {
    "duration": 23,
    "start_time": "2023-05-26T17:27:35.698Z"
   },
   {
    "duration": 13,
    "start_time": "2023-05-26T17:27:46.901Z"
   },
   {
    "duration": 4,
    "start_time": "2023-05-26T17:29:05.938Z"
   },
   {
    "duration": 13,
    "start_time": "2023-05-26T17:29:18.188Z"
   },
   {
    "duration": 384,
    "start_time": "2023-05-26T17:45:48.478Z"
   },
   {
    "duration": 276,
    "start_time": "2023-05-26T17:56:55.805Z"
   },
   {
    "duration": 1153,
    "start_time": "2023-05-26T17:57:41.403Z"
   },
   {
    "duration": 51,
    "start_time": "2023-05-26T17:57:42.558Z"
   },
   {
    "duration": 24,
    "start_time": "2023-05-26T17:57:42.611Z"
   },
   {
    "duration": 13,
    "start_time": "2023-05-26T17:57:42.637Z"
   },
   {
    "duration": 28,
    "start_time": "2023-05-26T17:57:42.652Z"
   },
   {
    "duration": 742,
    "start_time": "2023-05-26T17:57:42.682Z"
   },
   {
    "duration": 3,
    "start_time": "2023-05-26T17:57:43.426Z"
   },
   {
    "duration": 17,
    "start_time": "2023-05-26T17:57:43.431Z"
   },
   {
    "duration": 16,
    "start_time": "2023-05-26T17:57:43.450Z"
   },
   {
    "duration": 8,
    "start_time": "2023-05-26T17:57:43.467Z"
   },
   {
    "duration": 7,
    "start_time": "2023-05-26T17:57:43.477Z"
   },
   {
    "duration": 19429,
    "start_time": "2023-05-26T17:57:43.608Z"
   },
   {
    "duration": 23,
    "start_time": "2023-05-26T17:58:03.039Z"
   },
   {
    "duration": 9,
    "start_time": "2023-05-26T17:58:03.063Z"
   },
   {
    "duration": 7,
    "start_time": "2023-05-26T17:58:03.074Z"
   },
   {
    "duration": 11,
    "start_time": "2023-05-26T17:58:03.083Z"
   },
   {
    "duration": 11,
    "start_time": "2023-05-26T17:58:03.095Z"
   },
   {
    "duration": 10,
    "start_time": "2023-05-26T17:58:03.108Z"
   },
   {
    "duration": 8,
    "start_time": "2023-05-26T17:58:03.119Z"
   },
   {
    "duration": 16,
    "start_time": "2023-05-26T17:58:03.128Z"
   },
   {
    "duration": 20,
    "start_time": "2023-05-26T17:58:03.146Z"
   },
   {
    "duration": 12,
    "start_time": "2023-05-26T17:58:03.168Z"
   },
   {
    "duration": 21,
    "start_time": "2023-05-26T17:58:03.181Z"
   },
   {
    "duration": 17,
    "start_time": "2023-05-26T17:58:03.203Z"
   },
   {
    "duration": 8,
    "start_time": "2023-05-26T17:58:03.222Z"
   },
   {
    "duration": 15,
    "start_time": "2023-05-26T17:58:03.232Z"
   },
   {
    "duration": 4,
    "start_time": "2023-05-26T17:58:03.249Z"
   },
   {
    "duration": 6,
    "start_time": "2023-05-26T17:58:03.254Z"
   },
   {
    "duration": 19610,
    "start_time": "2023-05-26T17:58:09.507Z"
   },
   {
    "duration": 12,
    "start_time": "2023-05-26T17:58:29.119Z"
   },
   {
    "duration": 6,
    "start_time": "2023-05-26T17:58:29.142Z"
   },
   {
    "duration": 7,
    "start_time": "2023-05-26T17:58:29.150Z"
   },
   {
    "duration": 5,
    "start_time": "2023-05-26T17:58:29.158Z"
   },
   {
    "duration": 5,
    "start_time": "2023-05-26T17:58:29.165Z"
   },
   {
    "duration": 6,
    "start_time": "2023-05-26T17:58:29.171Z"
   },
   {
    "duration": 11,
    "start_time": "2023-05-26T17:58:29.178Z"
   },
   {
    "duration": 15,
    "start_time": "2023-05-26T17:58:29.191Z"
   },
   {
    "duration": 13,
    "start_time": "2023-05-26T17:58:29.209Z"
   },
   {
    "duration": 22,
    "start_time": "2023-05-26T17:58:29.223Z"
   },
   {
    "duration": 18,
    "start_time": "2023-05-26T17:58:29.248Z"
   },
   {
    "duration": 17,
    "start_time": "2023-05-26T17:58:29.268Z"
   },
   {
    "duration": 9,
    "start_time": "2023-05-26T17:58:29.286Z"
   },
   {
    "duration": 8,
    "start_time": "2023-05-26T17:58:29.297Z"
   },
   {
    "duration": 3,
    "start_time": "2023-05-26T17:58:29.306Z"
   },
   {
    "duration": 34,
    "start_time": "2023-05-26T17:58:29.311Z"
   },
   {
    "duration": 9,
    "start_time": "2023-05-26T17:58:40.142Z"
   },
   {
    "duration": 303,
    "start_time": "2023-05-26T17:58:47.860Z"
   },
   {
    "duration": 18,
    "start_time": "2023-05-26T17:58:50.773Z"
   },
   {
    "duration": 361,
    "start_time": "2023-05-26T17:58:54.096Z"
   },
   {
    "duration": 6,
    "start_time": "2023-05-26T17:58:56.476Z"
   },
   {
    "duration": 281,
    "start_time": "2023-05-26T17:58:57.977Z"
   },
   {
    "duration": 303,
    "start_time": "2023-05-26T17:59:20.740Z"
   },
   {
    "duration": 324,
    "start_time": "2023-05-26T17:59:29.910Z"
   },
   {
    "duration": 315,
    "start_time": "2023-05-26T17:59:43.527Z"
   },
   {
    "duration": 100,
    "start_time": "2023-05-26T18:06:27.755Z"
   },
   {
    "duration": 1178,
    "start_time": "2023-05-26T18:06:40.677Z"
   },
   {
    "duration": 52,
    "start_time": "2023-05-26T18:06:41.857Z"
   },
   {
    "duration": 24,
    "start_time": "2023-05-26T18:06:41.910Z"
   },
   {
    "duration": 15,
    "start_time": "2023-05-26T18:06:41.936Z"
   },
   {
    "duration": 28,
    "start_time": "2023-05-26T18:06:41.953Z"
   },
   {
    "duration": 797,
    "start_time": "2023-05-26T18:06:41.983Z"
   },
   {
    "duration": 3,
    "start_time": "2023-05-26T18:06:42.782Z"
   },
   {
    "duration": 14,
    "start_time": "2023-05-26T18:06:42.787Z"
   },
   {
    "duration": 16,
    "start_time": "2023-05-26T18:06:42.802Z"
   },
   {
    "duration": 22,
    "start_time": "2023-05-26T18:06:42.820Z"
   },
   {
    "duration": 10,
    "start_time": "2023-05-26T18:06:42.843Z"
   },
   {
    "duration": 19502,
    "start_time": "2023-05-26T18:06:42.855Z"
   },
   {
    "duration": 23,
    "start_time": "2023-05-26T18:07:02.358Z"
   },
   {
    "duration": 5,
    "start_time": "2023-05-26T18:07:02.383Z"
   },
   {
    "duration": 15,
    "start_time": "2023-05-26T18:07:02.390Z"
   },
   {
    "duration": 17,
    "start_time": "2023-05-26T18:07:02.407Z"
   },
   {
    "duration": 12,
    "start_time": "2023-05-26T18:07:02.426Z"
   },
   {
    "duration": 8,
    "start_time": "2023-05-26T18:07:02.441Z"
   },
   {
    "duration": 19,
    "start_time": "2023-05-26T18:07:02.451Z"
   },
   {
    "duration": 7,
    "start_time": "2023-05-26T18:07:02.472Z"
   },
   {
    "duration": 15,
    "start_time": "2023-05-26T18:07:02.480Z"
   },
   {
    "duration": 4,
    "start_time": "2023-05-26T18:07:02.497Z"
   },
   {
    "duration": 16,
    "start_time": "2023-05-26T18:07:02.502Z"
   },
   {
    "duration": 22,
    "start_time": "2023-05-26T18:07:02.520Z"
   },
   {
    "duration": 9,
    "start_time": "2023-05-26T18:07:02.544Z"
   },
   {
    "duration": 12,
    "start_time": "2023-05-26T18:07:02.555Z"
   },
   {
    "duration": 3,
    "start_time": "2023-05-26T18:07:02.569Z"
   },
   {
    "duration": 10,
    "start_time": "2023-05-26T18:07:02.577Z"
   },
   {
    "duration": 16,
    "start_time": "2023-05-26T18:07:02.588Z"
   },
   {
    "duration": 338,
    "start_time": "2023-05-26T18:07:02.606Z"
   },
   {
    "duration": 20,
    "start_time": "2023-05-26T18:07:02.946Z"
   },
   {
    "duration": 396,
    "start_time": "2023-05-26T18:07:02.968Z"
   },
   {
    "duration": 8,
    "start_time": "2023-05-26T18:07:03.366Z"
   },
   {
    "duration": 310,
    "start_time": "2023-05-26T18:07:03.376Z"
   },
   {
    "duration": 20,
    "start_time": "2023-05-26T18:07:03.688Z"
   },
   {
    "duration": 5,
    "start_time": "2023-05-26T18:07:03.709Z"
   },
   {
    "duration": 471,
    "start_time": "2023-05-26T18:07:03.716Z"
   },
   {
    "duration": 212,
    "start_time": "2023-05-26T18:07:04.189Z"
   },
   {
    "duration": 138,
    "start_time": "2023-05-26T18:07:04.403Z"
   },
   {
    "duration": 189,
    "start_time": "2023-05-26T18:07:04.543Z"
   },
   {
    "duration": 177,
    "start_time": "2023-05-26T18:07:04.734Z"
   },
   {
    "duration": 179,
    "start_time": "2023-05-26T18:07:04.912Z"
   },
   {
    "duration": 402,
    "start_time": "2023-05-26T18:07:05.092Z"
   },
   {
    "duration": 38,
    "start_time": "2023-05-26T18:07:05.495Z"
   },
   {
    "duration": 139,
    "start_time": "2023-05-26T18:07:05.542Z"
   },
   {
    "duration": 159,
    "start_time": "2023-05-26T18:07:05.683Z"
   },
   {
    "duration": 139,
    "start_time": "2023-05-26T18:07:05.844Z"
   },
   {
    "duration": 148,
    "start_time": "2023-05-26T18:07:05.984Z"
   },
   {
    "duration": 138,
    "start_time": "2023-05-26T18:07:06.134Z"
   },
   {
    "duration": 146,
    "start_time": "2023-05-26T18:07:06.274Z"
   },
   {
    "duration": 28,
    "start_time": "2023-05-26T18:07:06.422Z"
   },
   {
    "duration": 17,
    "start_time": "2023-05-26T18:07:06.451Z"
   },
   {
    "duration": 16,
    "start_time": "2023-05-26T18:07:06.469Z"
   },
   {
    "duration": 222,
    "start_time": "2023-05-26T18:07:06.486Z"
   },
   {
    "duration": 34,
    "start_time": "2023-05-26T18:07:06.709Z"
   },
   {
    "duration": 11,
    "start_time": "2023-05-26T18:07:06.745Z"
   },
   {
    "duration": 15,
    "start_time": "2023-05-26T18:07:06.758Z"
   },
   {
    "duration": 31,
    "start_time": "2023-05-26T18:07:06.774Z"
   },
   {
    "duration": 536,
    "start_time": "2023-05-26T18:08:06.649Z"
   },
   {
    "duration": 428,
    "start_time": "2023-05-26T18:08:51.778Z"
   },
   {
    "duration": 19,
    "start_time": "2023-05-26T18:10:19.205Z"
   },
   {
    "duration": 18,
    "start_time": "2023-05-26T18:11:03.220Z"
   },
   {
    "duration": 6,
    "start_time": "2023-05-26T18:11:05.609Z"
   },
   {
    "duration": 5,
    "start_time": "2023-05-26T18:11:35.639Z"
   },
   {
    "duration": 415,
    "start_time": "2023-05-26T18:12:06.337Z"
   },
   {
    "duration": 409,
    "start_time": "2023-05-26T18:12:25.554Z"
   },
   {
    "duration": 385,
    "start_time": "2023-05-26T18:18:44.421Z"
   },
   {
    "duration": 284,
    "start_time": "2023-05-26T18:30:25.742Z"
   },
   {
    "duration": 106,
    "start_time": "2023-05-26T20:21:02.219Z"
   },
   {
    "duration": 165,
    "start_time": "2023-05-26T20:21:27.288Z"
   },
   {
    "duration": 156,
    "start_time": "2023-05-26T20:22:53.812Z"
   },
   {
    "duration": 146,
    "start_time": "2023-05-26T20:23:47.611Z"
   },
   {
    "duration": 6,
    "start_time": "2023-05-26T20:24:00.167Z"
   },
   {
    "duration": 162,
    "start_time": "2023-05-26T20:24:01.293Z"
   },
   {
    "duration": 18,
    "start_time": "2023-05-26T20:26:29.119Z"
   },
   {
    "duration": 17,
    "start_time": "2023-05-26T20:26:58.340Z"
   },
   {
    "duration": 15,
    "start_time": "2023-05-26T20:27:15.720Z"
   },
   {
    "duration": 15,
    "start_time": "2023-05-26T20:27:21.811Z"
   },
   {
    "duration": 1207,
    "start_time": "2023-05-26T20:27:35.931Z"
   },
   {
    "duration": 50,
    "start_time": "2023-05-26T20:27:37.140Z"
   },
   {
    "duration": 24,
    "start_time": "2023-05-26T20:27:37.191Z"
   },
   {
    "duration": 14,
    "start_time": "2023-05-26T20:27:37.217Z"
   },
   {
    "duration": 29,
    "start_time": "2023-05-26T20:27:37.233Z"
   },
   {
    "duration": 731,
    "start_time": "2023-05-26T20:27:37.263Z"
   },
   {
    "duration": 4,
    "start_time": "2023-05-26T20:27:37.996Z"
   },
   {
    "duration": 12,
    "start_time": "2023-05-26T20:27:38.002Z"
   },
   {
    "duration": 33,
    "start_time": "2023-05-26T20:27:38.016Z"
   },
   {
    "duration": 9,
    "start_time": "2023-05-26T20:27:38.052Z"
   },
   {
    "duration": 9,
    "start_time": "2023-05-26T20:27:38.063Z"
   },
   {
    "duration": 20852,
    "start_time": "2023-05-26T20:27:38.074Z"
   },
   {
    "duration": 42,
    "start_time": "2023-05-26T20:27:58.928Z"
   },
   {
    "duration": 6,
    "start_time": "2023-05-26T20:27:58.972Z"
   },
   {
    "duration": 10,
    "start_time": "2023-05-26T20:27:58.980Z"
   },
   {
    "duration": 14,
    "start_time": "2023-05-26T20:27:58.991Z"
   },
   {
    "duration": 10,
    "start_time": "2023-05-26T20:27:59.007Z"
   },
   {
    "duration": 13,
    "start_time": "2023-05-26T20:27:59.019Z"
   },
   {
    "duration": 9,
    "start_time": "2023-05-26T20:27:59.035Z"
   },
   {
    "duration": 12,
    "start_time": "2023-05-26T20:27:59.046Z"
   },
   {
    "duration": 17,
    "start_time": "2023-05-26T20:27:59.060Z"
   },
   {
    "duration": 7,
    "start_time": "2023-05-26T20:27:59.079Z"
   },
   {
    "duration": 27,
    "start_time": "2023-05-26T20:27:59.089Z"
   },
   {
    "duration": 22,
    "start_time": "2023-05-26T20:27:59.117Z"
   },
   {
    "duration": 21,
    "start_time": "2023-05-26T20:27:59.141Z"
   },
   {
    "duration": 13,
    "start_time": "2023-05-26T20:27:59.164Z"
   },
   {
    "duration": 4,
    "start_time": "2023-05-26T20:27:59.179Z"
   },
   {
    "duration": 13,
    "start_time": "2023-05-26T20:27:59.188Z"
   },
   {
    "duration": 16,
    "start_time": "2023-05-26T20:27:59.203Z"
   },
   {
    "duration": 629,
    "start_time": "2023-05-26T20:27:59.221Z"
   },
   {
    "duration": 22,
    "start_time": "2023-05-26T20:27:59.853Z"
   },
   {
    "duration": 451,
    "start_time": "2023-05-26T20:27:59.877Z"
   },
   {
    "duration": 12,
    "start_time": "2023-05-26T20:28:00.330Z"
   },
   {
    "duration": 328,
    "start_time": "2023-05-26T20:28:00.344Z"
   },
   {
    "duration": 18,
    "start_time": "2023-05-26T20:28:00.674Z"
   },
   {
    "duration": 43,
    "start_time": "2023-05-26T20:28:00.694Z"
   },
   {
    "duration": 449,
    "start_time": "2023-05-26T20:28:00.739Z"
   },
   {
    "duration": 235,
    "start_time": "2023-05-26T20:28:01.190Z"
   },
   {
    "duration": 122,
    "start_time": "2023-05-26T20:28:01.428Z"
   },
   {
    "duration": 1,
    "start_time": "2023-05-26T20:28:01.552Z"
   },
   {
    "duration": 0,
    "start_time": "2023-05-26T20:28:01.554Z"
   },
   {
    "duration": 0,
    "start_time": "2023-05-26T20:28:01.556Z"
   },
   {
    "duration": 0,
    "start_time": "2023-05-26T20:28:01.558Z"
   },
   {
    "duration": 1,
    "start_time": "2023-05-26T20:28:01.559Z"
   },
   {
    "duration": 0,
    "start_time": "2023-05-26T20:28:01.561Z"
   },
   {
    "duration": 0,
    "start_time": "2023-05-26T20:28:01.563Z"
   },
   {
    "duration": 0,
    "start_time": "2023-05-26T20:28:01.564Z"
   },
   {
    "duration": 0,
    "start_time": "2023-05-26T20:28:01.566Z"
   },
   {
    "duration": 0,
    "start_time": "2023-05-26T20:28:01.567Z"
   },
   {
    "duration": 0,
    "start_time": "2023-05-26T20:28:01.569Z"
   },
   {
    "duration": 0,
    "start_time": "2023-05-26T20:28:01.570Z"
   },
   {
    "duration": 0,
    "start_time": "2023-05-26T20:28:01.572Z"
   },
   {
    "duration": 0,
    "start_time": "2023-05-26T20:28:01.573Z"
   },
   {
    "duration": 0,
    "start_time": "2023-05-26T20:28:01.574Z"
   },
   {
    "duration": 0,
    "start_time": "2023-05-26T20:28:01.575Z"
   },
   {
    "duration": 0,
    "start_time": "2023-05-26T20:28:01.577Z"
   },
   {
    "duration": 0,
    "start_time": "2023-05-26T20:28:01.578Z"
   },
   {
    "duration": 0,
    "start_time": "2023-05-26T20:28:01.579Z"
   },
   {
    "duration": 0,
    "start_time": "2023-05-26T20:28:01.581Z"
   },
   {
    "duration": 200,
    "start_time": "2023-05-26T20:29:21.729Z"
   },
   {
    "duration": 7,
    "start_time": "2023-05-26T20:31:06.877Z"
   },
   {
    "duration": 176,
    "start_time": "2023-05-26T20:31:39.445Z"
   },
   {
    "duration": 6,
    "start_time": "2023-05-26T20:32:53.181Z"
   },
   {
    "duration": 168,
    "start_time": "2023-05-26T20:33:06.321Z"
   },
   {
    "duration": 8,
    "start_time": "2023-05-26T20:33:58.319Z"
   },
   {
    "duration": 173,
    "start_time": "2023-05-26T20:34:00.723Z"
   },
   {
    "duration": 173,
    "start_time": "2023-05-26T20:34:18.509Z"
   },
   {
    "duration": 249,
    "start_time": "2023-05-26T20:35:06.926Z"
   },
   {
    "duration": 170,
    "start_time": "2023-05-26T20:36:03.289Z"
   },
   {
    "duration": 165,
    "start_time": "2023-05-26T20:38:09.014Z"
   },
   {
    "duration": 7,
    "start_time": "2023-05-26T20:39:19.694Z"
   },
   {
    "duration": 179,
    "start_time": "2023-05-26T20:39:20.539Z"
   },
   {
    "duration": 168,
    "start_time": "2023-05-26T20:40:07.681Z"
   },
   {
    "duration": 166,
    "start_time": "2023-05-26T20:42:03.251Z"
   },
   {
    "duration": 218,
    "start_time": "2023-05-26T20:43:59.130Z"
   },
   {
    "duration": 8,
    "start_time": "2023-05-26T20:45:51.035Z"
   },
   {
    "duration": 176,
    "start_time": "2023-05-26T20:45:51.918Z"
   },
   {
    "duration": 8,
    "start_time": "2023-05-26T20:46:10.890Z"
   },
   {
    "duration": 175,
    "start_time": "2023-05-26T20:46:11.836Z"
   },
   {
    "duration": 9,
    "start_time": "2023-05-26T20:47:21.090Z"
   },
   {
    "duration": 164,
    "start_time": "2023-05-26T20:47:23.262Z"
   },
   {
    "duration": 10,
    "start_time": "2023-05-26T20:47:38.818Z"
   },
   {
    "duration": 182,
    "start_time": "2023-05-26T20:47:39.417Z"
   },
   {
    "duration": 7,
    "start_time": "2023-05-26T20:48:25.399Z"
   },
   {
    "duration": 160,
    "start_time": "2023-05-26T20:48:26.113Z"
   },
   {
    "duration": 7,
    "start_time": "2023-05-26T20:48:27.143Z"
   },
   {
    "duration": 175,
    "start_time": "2023-05-26T20:48:28.402Z"
   },
   {
    "duration": 8,
    "start_time": "2023-05-26T21:09:29.436Z"
   },
   {
    "duration": 14,
    "start_time": "2023-05-26T21:10:52.225Z"
   },
   {
    "duration": 9,
    "start_time": "2023-05-26T21:11:05.360Z"
   },
   {
    "duration": 18,
    "start_time": "2023-05-26T21:13:14.414Z"
   },
   {
    "duration": 12,
    "start_time": "2023-05-26T21:13:29.125Z"
   },
   {
    "duration": 14,
    "start_time": "2023-05-26T21:13:56.761Z"
   },
   {
    "duration": 16,
    "start_time": "2023-05-26T21:14:12.353Z"
   },
   {
    "duration": 6,
    "start_time": "2023-05-26T21:14:13.861Z"
   },
   {
    "duration": 18,
    "start_time": "2023-05-26T21:15:28.302Z"
   },
   {
    "duration": 11,
    "start_time": "2023-05-26T21:29:44.298Z"
   },
   {
    "duration": 11,
    "start_time": "2023-05-26T21:30:25.490Z"
   },
   {
    "duration": 12,
    "start_time": "2023-05-26T21:31:10.986Z"
   },
   {
    "duration": 12,
    "start_time": "2023-05-26T21:32:13.053Z"
   },
   {
    "duration": 11,
    "start_time": "2023-05-26T21:32:14.258Z"
   },
   {
    "duration": 78,
    "start_time": "2023-05-26T21:39:13.294Z"
   },
   {
    "duration": 276,
    "start_time": "2023-05-26T21:41:45.809Z"
   },
   {
    "duration": 323,
    "start_time": "2023-05-26T21:41:47.525Z"
   },
   {
    "duration": 66,
    "start_time": "2023-05-26T21:41:48.545Z"
   },
   {
    "duration": 9,
    "start_time": "2023-05-26T21:48:46.448Z"
   },
   {
    "duration": 6,
    "start_time": "2023-05-26T21:49:50.886Z"
   },
   {
    "duration": 6,
    "start_time": "2023-05-26T21:49:52.057Z"
   },
   {
    "duration": 173,
    "start_time": "2023-05-26T21:49:53.287Z"
   },
   {
    "duration": 10,
    "start_time": "2023-05-26T21:50:50.641Z"
   },
   {
    "duration": 171,
    "start_time": "2023-05-26T21:50:51.652Z"
   },
   {
    "duration": 12,
    "start_time": "2023-05-26T21:51:42.398Z"
   },
   {
    "duration": 202,
    "start_time": "2023-05-26T21:52:08.040Z"
   },
   {
    "duration": 319,
    "start_time": "2023-05-26T21:52:40.829Z"
   },
   {
    "duration": 45,
    "start_time": "2023-05-26T21:53:08.191Z"
   },
   {
    "duration": 10,
    "start_time": "2023-05-26T21:54:22.291Z"
   },
   {
    "duration": 12,
    "start_time": "2023-05-26T21:54:28.491Z"
   },
   {
    "duration": 26,
    "start_time": "2023-05-26T21:54:32.228Z"
   },
   {
    "duration": 13,
    "start_time": "2023-05-26T21:54:44.793Z"
   },
   {
    "duration": 12,
    "start_time": "2023-05-26T21:54:54.487Z"
   },
   {
    "duration": 11,
    "start_time": "2023-05-26T21:55:11.224Z"
   },
   {
    "duration": 37,
    "start_time": "2023-05-26T21:57:02.438Z"
   },
   {
    "duration": 35,
    "start_time": "2023-05-26T21:57:15.755Z"
   },
   {
    "duration": 373,
    "start_time": "2023-05-26T22:05:07.787Z"
   },
   {
    "duration": 463,
    "start_time": "2023-05-26T22:06:23.887Z"
   },
   {
    "duration": 460,
    "start_time": "2023-05-26T22:22:16.819Z"
   },
   {
    "duration": 542,
    "start_time": "2023-05-26T22:22:41.668Z"
   },
   {
    "duration": 220,
    "start_time": "2023-05-26T22:33:31.863Z"
   },
   {
    "duration": 225,
    "start_time": "2023-05-26T22:33:54.585Z"
   },
   {
    "duration": 166,
    "start_time": "2023-05-26T22:33:55.284Z"
   },
   {
    "duration": 206,
    "start_time": "2023-05-26T22:33:55.892Z"
   },
   {
    "duration": 422,
    "start_time": "2023-05-26T22:33:56.405Z"
   },
   {
    "duration": 193,
    "start_time": "2023-05-26T22:33:56.897Z"
   },
   {
    "duration": 19,
    "start_time": "2023-05-26T22:33:57.388Z"
   },
   {
    "duration": 22,
    "start_time": "2023-05-26T22:33:57.892Z"
   },
   {
    "duration": 23,
    "start_time": "2023-05-26T22:34:00.973Z"
   },
   {
    "duration": 337,
    "start_time": "2023-05-26T22:34:01.768Z"
   },
   {
    "duration": 149,
    "start_time": "2023-05-26T22:36:14.480Z"
   },
   {
    "duration": 182,
    "start_time": "2023-05-26T22:36:42.636Z"
   },
   {
    "duration": 13,
    "start_time": "2023-05-26T22:38:34.370Z"
   },
   {
    "duration": 4,
    "start_time": "2023-05-26T22:38:46.727Z"
   },
   {
    "duration": 533,
    "start_time": "2023-05-26T22:38:54.810Z"
   },
   {
    "duration": 499,
    "start_time": "2023-05-26T22:39:46.709Z"
   },
   {
    "duration": 535,
    "start_time": "2023-05-26T22:40:11.216Z"
   },
   {
    "duration": 613,
    "start_time": "2023-05-26T22:40:39.388Z"
   },
   {
    "duration": 548,
    "start_time": "2023-05-26T22:42:23.980Z"
   },
   {
    "duration": 578,
    "start_time": "2023-05-26T22:43:24.818Z"
   },
   {
    "duration": 503,
    "start_time": "2023-05-26T22:44:49.206Z"
   },
   {
    "duration": 565,
    "start_time": "2023-05-26T22:45:04.973Z"
   },
   {
    "duration": 177,
    "start_time": "2023-05-26T22:46:13.696Z"
   },
   {
    "duration": 496,
    "start_time": "2023-05-26T22:59:50.285Z"
   },
   {
    "duration": 523,
    "start_time": "2023-05-26T23:00:25.259Z"
   },
   {
    "duration": 90,
    "start_time": "2023-05-26T23:02:08.092Z"
   },
   {
    "duration": 23,
    "start_time": "2023-05-26T23:15:43.928Z"
   },
   {
    "duration": 14,
    "start_time": "2023-05-26T23:17:28.492Z"
   },
   {
    "duration": 565,
    "start_time": "2023-05-26T23:21:22.856Z"
   },
   {
    "duration": 159,
    "start_time": "2023-05-26T23:22:03.728Z"
   },
   {
    "duration": 135,
    "start_time": "2023-05-26T23:22:37.186Z"
   },
   {
    "duration": 218,
    "start_time": "2023-05-26T23:23:43.020Z"
   },
   {
    "duration": 615,
    "start_time": "2023-05-26T23:24:39.497Z"
   },
   {
    "duration": 556,
    "start_time": "2023-05-26T23:25:04.742Z"
   },
   {
    "duration": 194,
    "start_time": "2023-05-26T23:26:32.385Z"
   },
   {
    "duration": 98,
    "start_time": "2023-05-26T23:26:47.667Z"
   },
   {
    "duration": 136,
    "start_time": "2023-05-26T23:27:19.790Z"
   },
   {
    "duration": 526,
    "start_time": "2023-05-26T23:27:29.924Z"
   },
   {
    "duration": 496,
    "start_time": "2023-05-26T23:28:35.363Z"
   },
   {
    "duration": 543,
    "start_time": "2023-05-26T23:29:30.767Z"
   },
   {
    "duration": 292,
    "start_time": "2023-05-27T00:09:27.410Z"
   },
   {
    "duration": 452,
    "start_time": "2023-05-27T00:10:08.246Z"
   },
   {
    "duration": 19,
    "start_time": "2023-05-27T00:10:58.120Z"
   },
   {
    "duration": 11,
    "start_time": "2023-05-27T00:14:41.401Z"
   },
   {
    "duration": 10,
    "start_time": "2023-05-27T00:14:43.785Z"
   },
   {
    "duration": 11,
    "start_time": "2023-05-27T00:14:52.622Z"
   },
   {
    "duration": 11,
    "start_time": "2023-05-27T00:27:45.079Z"
   },
   {
    "duration": 11,
    "start_time": "2023-05-27T00:28:26.971Z"
   },
   {
    "duration": 11,
    "start_time": "2023-05-27T00:29:55.258Z"
   },
   {
    "duration": 10,
    "start_time": "2023-05-27T00:30:17.973Z"
   },
   {
    "duration": 1212,
    "start_time": "2023-05-27T01:02:50.802Z"
   },
   {
    "duration": 63,
    "start_time": "2023-05-27T01:02:52.016Z"
   },
   {
    "duration": 28,
    "start_time": "2023-05-27T01:02:52.080Z"
   },
   {
    "duration": 19,
    "start_time": "2023-05-27T01:02:52.110Z"
   },
   {
    "duration": 34,
    "start_time": "2023-05-27T01:02:52.149Z"
   },
   {
    "duration": 825,
    "start_time": "2023-05-27T01:02:52.185Z"
   },
   {
    "duration": 4,
    "start_time": "2023-05-27T01:02:53.012Z"
   },
   {
    "duration": 30,
    "start_time": "2023-05-27T01:02:53.018Z"
   },
   {
    "duration": 24,
    "start_time": "2023-05-27T01:02:53.050Z"
   },
   {
    "duration": 11,
    "start_time": "2023-05-27T01:02:53.076Z"
   },
   {
    "duration": 8,
    "start_time": "2023-05-27T01:02:53.088Z"
   },
   {
    "duration": 21329,
    "start_time": "2023-05-27T01:02:53.098Z"
   },
   {
    "duration": 39,
    "start_time": "2023-05-27T01:03:14.429Z"
   },
   {
    "duration": 7,
    "start_time": "2023-05-27T01:03:14.471Z"
   },
   {
    "duration": 9,
    "start_time": "2023-05-27T01:03:14.480Z"
   },
   {
    "duration": 15,
    "start_time": "2023-05-27T01:03:14.490Z"
   },
   {
    "duration": 16,
    "start_time": "2023-05-27T01:03:14.507Z"
   },
   {
    "duration": 11,
    "start_time": "2023-05-27T01:03:14.525Z"
   },
   {
    "duration": 17,
    "start_time": "2023-05-27T01:03:14.541Z"
   },
   {
    "duration": 10,
    "start_time": "2023-05-27T01:03:14.559Z"
   },
   {
    "duration": 13,
    "start_time": "2023-05-27T01:03:14.571Z"
   },
   {
    "duration": 5,
    "start_time": "2023-05-27T01:03:14.585Z"
   },
   {
    "duration": 25,
    "start_time": "2023-05-27T01:03:14.592Z"
   },
   {
    "duration": 29,
    "start_time": "2023-05-27T01:03:14.619Z"
   },
   {
    "duration": 15,
    "start_time": "2023-05-27T01:03:14.649Z"
   },
   {
    "duration": 18,
    "start_time": "2023-05-27T01:03:14.665Z"
   },
   {
    "duration": 22,
    "start_time": "2023-05-27T01:03:14.684Z"
   },
   {
    "duration": 17,
    "start_time": "2023-05-27T01:03:14.708Z"
   },
   {
    "duration": 27,
    "start_time": "2023-05-27T01:03:14.726Z"
   },
   {
    "duration": 328,
    "start_time": "2023-05-27T01:03:14.755Z"
   },
   {
    "duration": 18,
    "start_time": "2023-05-27T01:03:15.085Z"
   },
   {
    "duration": 399,
    "start_time": "2023-05-27T01:03:15.105Z"
   },
   {
    "duration": 7,
    "start_time": "2023-05-27T01:03:15.506Z"
   },
   {
    "duration": 308,
    "start_time": "2023-05-27T01:03:15.515Z"
   },
   {
    "duration": 32,
    "start_time": "2023-05-27T01:03:15.825Z"
   },
   {
    "duration": 6,
    "start_time": "2023-05-27T01:03:15.859Z"
   },
   {
    "duration": 432,
    "start_time": "2023-05-27T01:03:15.867Z"
   },
   {
    "duration": 238,
    "start_time": "2023-05-27T01:03:16.301Z"
   },
   {
    "duration": 8,
    "start_time": "2023-05-27T01:03:16.548Z"
   },
   {
    "duration": 7,
    "start_time": "2023-05-27T01:03:16.558Z"
   },
   {
    "duration": 196,
    "start_time": "2023-05-27T01:03:16.568Z"
   },
   {
    "duration": 8,
    "start_time": "2023-05-27T01:03:16.766Z"
   },
   {
    "duration": 203,
    "start_time": "2023-05-27T01:03:16.775Z"
   },
   {
    "duration": 12,
    "start_time": "2023-05-27T01:03:16.980Z"
   },
   {
    "duration": 11,
    "start_time": "2023-05-27T01:03:16.993Z"
   },
   {
    "duration": 47,
    "start_time": "2023-05-27T01:03:17.006Z"
   },
   {
    "duration": 12,
    "start_time": "2023-05-27T01:03:17.055Z"
   },
   {
    "duration": 192,
    "start_time": "2023-05-27T01:03:17.069Z"
   },
   {
    "duration": 442,
    "start_time": "2023-05-27T01:03:17.263Z"
   },
   {
    "duration": 55,
    "start_time": "2023-05-27T01:03:17.706Z"
   },
   {
    "duration": 502,
    "start_time": "2023-05-27T01:03:17.763Z"
   },
   {
    "duration": 526,
    "start_time": "2023-05-27T01:03:18.267Z"
   },
   {
    "duration": 18,
    "start_time": "2023-05-27T01:03:18.796Z"
   },
   {
    "duration": 44,
    "start_time": "2023-05-27T01:03:18.816Z"
   },
   {
    "duration": 23,
    "start_time": "2023-05-27T01:03:18.862Z"
   },
   {
    "duration": 212,
    "start_time": "2023-05-27T01:03:18.887Z"
   },
   {
    "duration": 13,
    "start_time": "2023-05-27T01:03:19.101Z"
   },
   {
    "duration": 39,
    "start_time": "2023-05-27T01:03:19.115Z"
   },
   {
    "duration": 1612,
    "start_time": "2023-05-27T17:03:58.304Z"
   },
   {
    "duration": 145,
    "start_time": "2023-05-27T17:03:59.919Z"
   },
   {
    "duration": 39,
    "start_time": "2023-05-27T17:04:00.070Z"
   },
   {
    "duration": 18,
    "start_time": "2023-05-27T17:04:00.111Z"
   },
   {
    "duration": 43,
    "start_time": "2023-05-27T17:04:00.219Z"
   },
   {
    "duration": 934,
    "start_time": "2023-05-27T17:04:00.788Z"
   },
   {
    "duration": 1298,
    "start_time": "2023-05-27T19:28:50.069Z"
   },
   {
    "duration": 185,
    "start_time": "2023-05-27T19:28:51.369Z"
   },
   {
    "duration": 24,
    "start_time": "2023-05-27T19:28:51.556Z"
   },
   {
    "duration": 15,
    "start_time": "2023-05-27T19:28:51.582Z"
   },
   {
    "duration": 28,
    "start_time": "2023-05-27T19:28:51.599Z"
   },
   {
    "duration": 741,
    "start_time": "2023-05-27T19:28:51.629Z"
   },
   {
    "duration": 4,
    "start_time": "2023-05-27T19:28:52.371Z"
   },
   {
    "duration": 25,
    "start_time": "2023-05-27T19:28:52.376Z"
   },
   {
    "duration": 44,
    "start_time": "2023-05-27T19:28:52.403Z"
   },
   {
    "duration": 9,
    "start_time": "2023-05-27T19:28:52.451Z"
   },
   {
    "duration": 10,
    "start_time": "2023-05-27T19:28:52.461Z"
   },
   {
    "duration": 20200,
    "start_time": "2023-05-27T19:28:52.473Z"
   },
   {
    "duration": 22,
    "start_time": "2023-05-27T19:29:12.675Z"
   },
   {
    "duration": 6,
    "start_time": "2023-05-27T19:29:12.698Z"
   },
   {
    "duration": 5,
    "start_time": "2023-05-27T19:29:12.705Z"
   },
   {
    "duration": 11,
    "start_time": "2023-05-27T19:29:12.711Z"
   },
   {
    "duration": 3,
    "start_time": "2023-05-27T19:29:12.724Z"
   },
   {
    "duration": 24,
    "start_time": "2023-05-27T19:29:12.729Z"
   },
   {
    "duration": 4,
    "start_time": "2023-05-27T19:29:12.755Z"
   },
   {
    "duration": 6,
    "start_time": "2023-05-27T19:29:12.760Z"
   },
   {
    "duration": 7,
    "start_time": "2023-05-27T19:29:12.768Z"
   },
   {
    "duration": 3,
    "start_time": "2023-05-27T19:29:12.777Z"
   },
   {
    "duration": 14,
    "start_time": "2023-05-27T19:29:12.782Z"
   },
   {
    "duration": 12,
    "start_time": "2023-05-27T19:29:12.797Z"
   },
   {
    "duration": 44,
    "start_time": "2023-05-27T19:29:12.810Z"
   },
   {
    "duration": 9,
    "start_time": "2023-05-27T19:29:12.855Z"
   },
   {
    "duration": 2,
    "start_time": "2023-05-27T19:29:12.866Z"
   },
   {
    "duration": 8,
    "start_time": "2023-05-27T19:29:12.871Z"
   },
   {
    "duration": 9,
    "start_time": "2023-05-27T19:29:12.881Z"
   },
   {
    "duration": 349,
    "start_time": "2023-05-27T19:29:12.892Z"
   },
   {
    "duration": 23,
    "start_time": "2023-05-27T19:29:13.243Z"
   },
   {
    "duration": 372,
    "start_time": "2023-05-27T19:29:13.268Z"
   },
   {
    "duration": 10,
    "start_time": "2023-05-27T19:29:13.641Z"
   },
   {
    "duration": 292,
    "start_time": "2023-05-27T19:29:13.652Z"
   },
   {
    "duration": 17,
    "start_time": "2023-05-27T19:29:13.946Z"
   },
   {
    "duration": 5,
    "start_time": "2023-05-27T19:29:13.964Z"
   },
   {
    "duration": 509,
    "start_time": "2023-05-27T19:29:13.971Z"
   },
   {
    "duration": 202,
    "start_time": "2023-05-27T19:29:14.482Z"
   },
   {
    "duration": 7,
    "start_time": "2023-05-27T19:29:14.686Z"
   },
   {
    "duration": 7,
    "start_time": "2023-05-27T19:29:14.694Z"
   },
   {
    "duration": 185,
    "start_time": "2023-05-27T19:29:14.702Z"
   },
   {
    "duration": 7,
    "start_time": "2023-05-27T19:29:14.888Z"
   },
   {
    "duration": 189,
    "start_time": "2023-05-27T19:29:14.897Z"
   },
   {
    "duration": 18,
    "start_time": "2023-05-27T19:29:15.087Z"
   },
   {
    "duration": 14,
    "start_time": "2023-05-27T19:29:15.106Z"
   },
   {
    "duration": 9,
    "start_time": "2023-05-27T19:29:15.121Z"
   },
   {
    "duration": 26,
    "start_time": "2023-05-27T19:29:15.132Z"
   },
   {
    "duration": 184,
    "start_time": "2023-05-27T19:29:15.160Z"
   },
   {
    "duration": 412,
    "start_time": "2023-05-27T19:29:15.345Z"
   },
   {
    "duration": 40,
    "start_time": "2023-05-27T19:29:15.759Z"
   },
   {
    "duration": 433,
    "start_time": "2023-05-27T19:29:15.801Z"
   },
   {
    "duration": 479,
    "start_time": "2023-05-27T19:29:16.237Z"
   },
   {
    "duration": 17,
    "start_time": "2023-05-27T19:29:16.718Z"
   },
   {
    "duration": 17,
    "start_time": "2023-05-27T19:29:16.750Z"
   },
   {
    "duration": 15,
    "start_time": "2023-05-27T19:29:16.769Z"
   },
   {
    "duration": 220,
    "start_time": "2023-05-27T19:29:16.785Z"
   },
   {
    "duration": 9,
    "start_time": "2023-05-27T19:29:17.007Z"
   },
   {
    "duration": 11,
    "start_time": "2023-05-27T19:29:17.018Z"
   },
   {
    "duration": 1184,
    "start_time": "2023-05-27T19:30:13.968Z"
   },
   {
    "duration": 51,
    "start_time": "2023-05-27T19:30:15.154Z"
   },
   {
    "duration": 24,
    "start_time": "2023-05-27T19:30:15.207Z"
   },
   {
    "duration": 13,
    "start_time": "2023-05-27T19:30:15.233Z"
   },
   {
    "duration": 28,
    "start_time": "2023-05-27T19:30:15.249Z"
   },
   {
    "duration": 736,
    "start_time": "2023-05-27T19:30:15.279Z"
   },
   {
    "duration": 3,
    "start_time": "2023-05-27T19:30:16.018Z"
   },
   {
    "duration": 8,
    "start_time": "2023-05-27T19:30:16.502Z"
   },
   {
    "duration": 17,
    "start_time": "2023-05-27T19:30:16.692Z"
   },
   {
    "duration": 8,
    "start_time": "2023-05-27T19:30:16.873Z"
   },
   {
    "duration": 7,
    "start_time": "2023-05-27T19:30:17.665Z"
   },
   {
    "duration": 19779,
    "start_time": "2023-05-27T19:30:17.882Z"
   },
   {
    "duration": 21,
    "start_time": "2023-05-27T19:30:37.662Z"
   },
   {
    "duration": 5,
    "start_time": "2023-05-27T19:30:37.685Z"
   },
   {
    "duration": 5,
    "start_time": "2023-05-27T19:30:37.692Z"
   },
   {
    "duration": 7,
    "start_time": "2023-05-27T19:30:37.698Z"
   },
   {
    "duration": 5,
    "start_time": "2023-05-27T19:30:49.795Z"
   },
   {
    "duration": 4,
    "start_time": "2023-05-27T19:30:51.355Z"
   },
   {
    "duration": 5,
    "start_time": "2023-05-27T19:30:52.695Z"
   },
   {
    "duration": 8,
    "start_time": "2023-05-27T19:30:58.798Z"
   },
   {
    "duration": 4,
    "start_time": "2023-05-27T19:31:04.559Z"
   },
   {
    "duration": 13,
    "start_time": "2023-05-27T19:31:09.826Z"
   },
   {
    "duration": 13,
    "start_time": "2023-05-27T19:31:15.683Z"
   },
   {
    "duration": 9,
    "start_time": "2023-05-27T19:31:17.076Z"
   },
   {
    "duration": 9,
    "start_time": "2023-05-27T19:31:17.904Z"
   },
   {
    "duration": 3,
    "start_time": "2023-05-27T19:31:18.530Z"
   },
   {
    "duration": 6,
    "start_time": "2023-05-27T19:31:23.640Z"
   },
   {
    "duration": 8,
    "start_time": "2023-05-27T19:31:45.263Z"
   },
   {
    "duration": 1135,
    "start_time": "2023-05-27T19:35:27.718Z"
   },
   {
    "duration": 49,
    "start_time": "2023-05-27T19:35:28.855Z"
   },
   {
    "duration": 23,
    "start_time": "2023-05-27T19:35:28.906Z"
   },
   {
    "duration": 14,
    "start_time": "2023-05-27T19:35:28.931Z"
   },
   {
    "duration": 28,
    "start_time": "2023-05-27T19:35:28.947Z"
   },
   {
    "duration": 992,
    "start_time": "2023-05-27T19:35:28.976Z"
   },
   {
    "duration": 4,
    "start_time": "2023-05-27T19:35:29.969Z"
   },
   {
    "duration": 11,
    "start_time": "2023-05-27T19:35:29.974Z"
   },
   {
    "duration": 64,
    "start_time": "2023-05-27T19:35:29.987Z"
   },
   {
    "duration": 9,
    "start_time": "2023-05-27T19:35:30.053Z"
   },
   {
    "duration": 28,
    "start_time": "2023-05-27T19:35:30.063Z"
   },
   {
    "duration": 20093,
    "start_time": "2023-05-27T19:35:30.093Z"
   },
   {
    "duration": 25,
    "start_time": "2023-05-27T19:35:50.188Z"
   },
   {
    "duration": 6,
    "start_time": "2023-05-27T19:35:50.217Z"
   },
   {
    "duration": 27,
    "start_time": "2023-05-27T19:35:50.224Z"
   },
   {
    "duration": 7,
    "start_time": "2023-05-27T19:35:50.253Z"
   },
   {
    "duration": 5,
    "start_time": "2023-05-27T19:35:50.261Z"
   },
   {
    "duration": 14,
    "start_time": "2023-05-27T19:35:50.268Z"
   },
   {
    "duration": 23,
    "start_time": "2023-05-27T19:35:50.284Z"
   },
   {
    "duration": 11,
    "start_time": "2023-05-27T19:35:50.309Z"
   },
   {
    "duration": 10,
    "start_time": "2023-05-27T19:35:50.322Z"
   },
   {
    "duration": 4,
    "start_time": "2023-05-27T19:35:50.334Z"
   },
   {
    "duration": 15,
    "start_time": "2023-05-27T19:35:50.339Z"
   },
   {
    "duration": 12,
    "start_time": "2023-05-27T19:35:50.356Z"
   },
   {
    "duration": 9,
    "start_time": "2023-05-27T19:35:50.370Z"
   },
   {
    "duration": 9,
    "start_time": "2023-05-27T19:35:50.380Z"
   },
   {
    "duration": 3,
    "start_time": "2023-05-27T19:35:50.391Z"
   },
   {
    "duration": 6,
    "start_time": "2023-05-27T19:35:50.396Z"
   },
   {
    "duration": 9,
    "start_time": "2023-05-27T19:35:50.403Z"
   },
   {
    "duration": 330,
    "start_time": "2023-05-27T19:35:50.454Z"
   },
   {
    "duration": 1108,
    "start_time": "2023-05-27T19:38:19.050Z"
   },
   {
    "duration": 52,
    "start_time": "2023-05-27T19:38:20.160Z"
   },
   {
    "duration": 23,
    "start_time": "2023-05-27T19:38:20.214Z"
   },
   {
    "duration": 16,
    "start_time": "2023-05-27T19:38:20.239Z"
   },
   {
    "duration": 38,
    "start_time": "2023-05-27T19:38:20.257Z"
   },
   {
    "duration": 754,
    "start_time": "2023-05-27T19:38:20.297Z"
   },
   {
    "duration": 3,
    "start_time": "2023-05-27T19:38:21.053Z"
   },
   {
    "duration": 12,
    "start_time": "2023-05-27T19:38:21.058Z"
   },
   {
    "duration": 21,
    "start_time": "2023-05-27T19:38:21.072Z"
   },
   {
    "duration": 9,
    "start_time": "2023-05-27T19:38:21.095Z"
   },
   {
    "duration": 8,
    "start_time": "2023-05-27T19:38:21.105Z"
   },
   {
    "duration": 20340,
    "start_time": "2023-05-27T19:38:21.115Z"
   },
   {
    "duration": 23,
    "start_time": "2023-05-27T19:38:41.457Z"
   },
   {
    "duration": 6,
    "start_time": "2023-05-27T19:38:41.483Z"
   },
   {
    "duration": 5,
    "start_time": "2023-05-27T19:38:41.491Z"
   },
   {
    "duration": 10,
    "start_time": "2023-05-27T19:38:41.497Z"
   },
   {
    "duration": 3,
    "start_time": "2023-05-27T19:38:41.508Z"
   },
   {
    "duration": 5,
    "start_time": "2023-05-27T19:38:41.513Z"
   },
   {
    "duration": 6,
    "start_time": "2023-05-27T19:38:41.549Z"
   },
   {
    "duration": 8,
    "start_time": "2023-05-27T19:38:41.556Z"
   },
   {
    "duration": 9,
    "start_time": "2023-05-27T19:38:41.566Z"
   },
   {
    "duration": 4,
    "start_time": "2023-05-27T19:38:41.577Z"
   },
   {
    "duration": 14,
    "start_time": "2023-05-27T19:38:41.583Z"
   },
   {
    "duration": 14,
    "start_time": "2023-05-27T19:38:41.599Z"
   },
   {
    "duration": 9,
    "start_time": "2023-05-27T19:38:41.651Z"
   },
   {
    "duration": 9,
    "start_time": "2023-05-27T19:38:41.661Z"
   },
   {
    "duration": 3,
    "start_time": "2023-05-27T19:38:41.671Z"
   },
   {
    "duration": 11,
    "start_time": "2023-05-27T19:38:41.675Z"
   },
   {
    "duration": 8,
    "start_time": "2023-05-27T19:38:41.687Z"
   },
   {
    "duration": 322,
    "start_time": "2023-05-27T19:38:41.696Z"
   },
   {
    "duration": 3,
    "start_time": "2023-05-27T19:38:42.019Z"
   },
   {
    "duration": 30,
    "start_time": "2023-05-27T19:38:42.024Z"
   },
   {
    "duration": 347,
    "start_time": "2023-05-27T19:38:42.056Z"
   },
   {
    "duration": 7,
    "start_time": "2023-05-27T19:38:42.404Z"
   },
   {
    "duration": 316,
    "start_time": "2023-05-27T19:38:42.413Z"
   },
   {
    "duration": 21,
    "start_time": "2023-05-27T19:38:42.730Z"
   },
   {
    "duration": 5,
    "start_time": "2023-05-27T19:38:42.752Z"
   },
   {
    "duration": 404,
    "start_time": "2023-05-27T19:38:42.759Z"
   },
   {
    "duration": 204,
    "start_time": "2023-05-27T19:38:43.165Z"
   },
   {
    "duration": 6,
    "start_time": "2023-05-27T19:38:43.370Z"
   },
   {
    "duration": 8,
    "start_time": "2023-05-27T19:38:43.379Z"
   },
   {
    "duration": 188,
    "start_time": "2023-05-27T19:38:43.388Z"
   },
   {
    "duration": 9,
    "start_time": "2023-05-27T19:38:43.577Z"
   },
   {
    "duration": 175,
    "start_time": "2023-05-27T19:38:43.587Z"
   },
   {
    "duration": 10,
    "start_time": "2023-05-27T19:38:43.763Z"
   },
   {
    "duration": 9,
    "start_time": "2023-05-27T19:38:43.775Z"
   },
   {
    "duration": 10,
    "start_time": "2023-05-27T19:38:43.785Z"
   },
   {
    "duration": 9,
    "start_time": "2023-05-27T19:38:43.797Z"
   },
   {
    "duration": 192,
    "start_time": "2023-05-27T19:38:43.807Z"
   },
   {
    "duration": 448,
    "start_time": "2023-05-27T19:38:44.000Z"
   },
   {
    "duration": 40,
    "start_time": "2023-05-27T19:38:44.449Z"
   },
   {
    "duration": 418,
    "start_time": "2023-05-27T19:38:44.490Z"
   },
   {
    "duration": 471,
    "start_time": "2023-05-27T19:38:44.909Z"
   },
   {
    "duration": 15,
    "start_time": "2023-05-27T19:38:45.382Z"
   },
   {
    "duration": 14,
    "start_time": "2023-05-27T19:38:45.398Z"
   },
   {
    "duration": 18,
    "start_time": "2023-05-27T19:38:45.413Z"
   },
   {
    "duration": 212,
    "start_time": "2023-05-27T19:38:45.432Z"
   },
   {
    "duration": 11,
    "start_time": "2023-05-27T19:38:45.646Z"
   },
   {
    "duration": 10,
    "start_time": "2023-05-27T19:38:45.658Z"
   },
   {
    "duration": 100,
    "start_time": "2023-05-27T19:39:12.917Z"
   },
   {
    "duration": 1173,
    "start_time": "2023-05-27T19:42:26.668Z"
   },
   {
    "duration": 51,
    "start_time": "2023-05-27T19:42:27.843Z"
   },
   {
    "duration": 23,
    "start_time": "2023-05-27T19:42:27.895Z"
   },
   {
    "duration": 16,
    "start_time": "2023-05-27T19:42:27.920Z"
   },
   {
    "duration": 31,
    "start_time": "2023-05-27T19:42:27.938Z"
   },
   {
    "duration": 749,
    "start_time": "2023-05-27T19:42:27.970Z"
   },
   {
    "duration": 4,
    "start_time": "2023-05-27T19:42:28.720Z"
   },
   {
    "duration": 15,
    "start_time": "2023-05-27T19:42:28.725Z"
   },
   {
    "duration": 16,
    "start_time": "2023-05-27T19:42:28.750Z"
   },
   {
    "duration": 7,
    "start_time": "2023-05-27T19:42:28.768Z"
   },
   {
    "duration": 7,
    "start_time": "2023-05-27T19:42:28.777Z"
   },
   {
    "duration": 19630,
    "start_time": "2023-05-27T19:42:28.786Z"
   },
   {
    "duration": 22,
    "start_time": "2023-05-27T19:42:48.417Z"
   },
   {
    "duration": 6,
    "start_time": "2023-05-27T19:42:48.449Z"
   },
   {
    "duration": 5,
    "start_time": "2023-05-27T19:42:48.457Z"
   },
   {
    "duration": 8,
    "start_time": "2023-05-27T19:42:48.463Z"
   },
   {
    "duration": 4,
    "start_time": "2023-05-27T19:42:48.473Z"
   },
   {
    "duration": 6,
    "start_time": "2023-05-27T19:42:48.478Z"
   },
   {
    "duration": 5,
    "start_time": "2023-05-27T19:42:48.485Z"
   },
   {
    "duration": 5,
    "start_time": "2023-05-27T19:42:48.492Z"
   },
   {
    "duration": 8,
    "start_time": "2023-05-27T19:42:48.499Z"
   },
   {
    "duration": 44,
    "start_time": "2023-05-27T19:42:48.508Z"
   },
   {
    "duration": 19,
    "start_time": "2023-05-27T19:42:48.555Z"
   },
   {
    "duration": 13,
    "start_time": "2023-05-27T19:42:48.576Z"
   },
   {
    "duration": 9,
    "start_time": "2023-05-27T19:42:48.590Z"
   },
   {
    "duration": 9,
    "start_time": "2023-05-27T19:42:48.601Z"
   },
   {
    "duration": 3,
    "start_time": "2023-05-27T19:42:48.611Z"
   },
   {
    "duration": 5,
    "start_time": "2023-05-27T19:42:48.650Z"
   },
   {
    "duration": 10,
    "start_time": "2023-05-27T19:42:48.657Z"
   },
   {
    "duration": 6,
    "start_time": "2023-05-27T19:42:48.668Z"
   },
   {
    "duration": 224,
    "start_time": "2023-05-27T19:42:48.676Z"
   },
   {
    "duration": 0,
    "start_time": "2023-05-27T19:42:48.902Z"
   },
   {
    "duration": 0,
    "start_time": "2023-05-27T19:42:48.903Z"
   },
   {
    "duration": 0,
    "start_time": "2023-05-27T19:42:48.905Z"
   },
   {
    "duration": 0,
    "start_time": "2023-05-27T19:42:48.905Z"
   },
   {
    "duration": 0,
    "start_time": "2023-05-27T19:42:48.906Z"
   },
   {
    "duration": 0,
    "start_time": "2023-05-27T19:42:48.907Z"
   },
   {
    "duration": 0,
    "start_time": "2023-05-27T19:42:48.909Z"
   },
   {
    "duration": 0,
    "start_time": "2023-05-27T19:42:48.909Z"
   },
   {
    "duration": 0,
    "start_time": "2023-05-27T19:42:48.910Z"
   },
   {
    "duration": 0,
    "start_time": "2023-05-27T19:42:48.912Z"
   },
   {
    "duration": 0,
    "start_time": "2023-05-27T19:42:48.913Z"
   },
   {
    "duration": 0,
    "start_time": "2023-05-27T19:42:48.913Z"
   },
   {
    "duration": 0,
    "start_time": "2023-05-27T19:42:48.914Z"
   },
   {
    "duration": 0,
    "start_time": "2023-05-27T19:42:48.915Z"
   },
   {
    "duration": 0,
    "start_time": "2023-05-27T19:42:48.916Z"
   },
   {
    "duration": 0,
    "start_time": "2023-05-27T19:42:48.917Z"
   },
   {
    "duration": 0,
    "start_time": "2023-05-27T19:42:48.919Z"
   },
   {
    "duration": 0,
    "start_time": "2023-05-27T19:42:48.920Z"
   },
   {
    "duration": 0,
    "start_time": "2023-05-27T19:42:48.951Z"
   },
   {
    "duration": 0,
    "start_time": "2023-05-27T19:42:48.952Z"
   },
   {
    "duration": 0,
    "start_time": "2023-05-27T19:42:48.953Z"
   },
   {
    "duration": 1,
    "start_time": "2023-05-27T19:42:48.954Z"
   },
   {
    "duration": 0,
    "start_time": "2023-05-27T19:42:48.956Z"
   },
   {
    "duration": 0,
    "start_time": "2023-05-27T19:42:48.957Z"
   },
   {
    "duration": 0,
    "start_time": "2023-05-27T19:42:48.959Z"
   },
   {
    "duration": 0,
    "start_time": "2023-05-27T19:42:48.960Z"
   },
   {
    "duration": 0,
    "start_time": "2023-05-27T19:42:48.962Z"
   },
   {
    "duration": 0,
    "start_time": "2023-05-27T19:42:48.962Z"
   },
   {
    "duration": 9,
    "start_time": "2023-05-27T19:44:59.188Z"
   },
   {
    "duration": 1050,
    "start_time": "2023-05-27T19:46:17.500Z"
   },
   {
    "duration": 51,
    "start_time": "2023-05-27T19:46:19.608Z"
   },
   {
    "duration": 4,
    "start_time": "2023-05-27T19:46:30.100Z"
   },
   {
    "duration": 14,
    "start_time": "2023-05-27T19:46:41.215Z"
   },
   {
    "duration": 111,
    "start_time": "2023-05-27T19:46:46.536Z"
   },
   {
    "duration": 130,
    "start_time": "2023-05-27T19:48:54.673Z"
   },
   {
    "duration": 282,
    "start_time": "2023-05-27T19:53:15.889Z"
   },
   {
    "duration": 275,
    "start_time": "2023-05-27T19:54:09.023Z"
   },
   {
    "duration": 19,
    "start_time": "2023-05-27T19:57:52.174Z"
   },
   {
    "duration": 329,
    "start_time": "2023-05-27T19:58:07.550Z"
   },
   {
    "duration": 382,
    "start_time": "2023-05-27T19:58:16.143Z"
   },
   {
    "duration": 413,
    "start_time": "2023-05-27T19:58:23.594Z"
   },
   {
    "duration": 419,
    "start_time": "2023-05-27T19:58:41.783Z"
   },
   {
    "duration": 354,
    "start_time": "2023-05-27T19:59:36.645Z"
   },
   {
    "duration": 160,
    "start_time": "2023-05-27T20:01:01.368Z"
   },
   {
    "duration": 338,
    "start_time": "2023-05-27T20:01:07.081Z"
   },
   {
    "duration": 357,
    "start_time": "2023-05-27T20:01:54.993Z"
   },
   {
    "duration": 372,
    "start_time": "2023-05-27T20:02:15.593Z"
   },
   {
    "duration": 310,
    "start_time": "2023-05-27T20:02:23.089Z"
   },
   {
    "duration": 301,
    "start_time": "2023-05-27T20:02:31.924Z"
   },
   {
    "duration": 126,
    "start_time": "2023-05-27T20:04:24.807Z"
   },
   {
    "duration": 324,
    "start_time": "2023-05-27T20:04:32.612Z"
   },
   {
    "duration": 158,
    "start_time": "2023-05-27T20:04:41.056Z"
   },
   {
    "duration": 162,
    "start_time": "2023-05-27T20:04:53.926Z"
   },
   {
    "duration": 351,
    "start_time": "2023-05-27T20:04:58.462Z"
   },
   {
    "duration": 440,
    "start_time": "2023-05-27T20:06:08.487Z"
   },
   {
    "duration": 153,
    "start_time": "2023-05-27T20:06:18.844Z"
   },
   {
    "duration": 116,
    "start_time": "2023-05-27T20:06:23.590Z"
   },
   {
    "duration": 349,
    "start_time": "2023-05-27T20:06:26.689Z"
   },
   {
    "duration": 13,
    "start_time": "2023-05-27T20:13:19.410Z"
   },
   {
    "duration": 1171,
    "start_time": "2023-05-27T20:13:25.383Z"
   },
   {
    "duration": 64,
    "start_time": "2023-05-27T20:13:26.556Z"
   },
   {
    "duration": 26,
    "start_time": "2023-05-27T20:13:26.622Z"
   },
   {
    "duration": 15,
    "start_time": "2023-05-27T20:13:26.649Z"
   },
   {
    "duration": 30,
    "start_time": "2023-05-27T20:13:26.666Z"
   },
   {
    "duration": 806,
    "start_time": "2023-05-27T20:13:26.698Z"
   },
   {
    "duration": 4,
    "start_time": "2023-05-27T20:13:27.505Z"
   },
   {
    "duration": 10,
    "start_time": "2023-05-27T20:13:27.511Z"
   },
   {
    "duration": 37,
    "start_time": "2023-05-27T20:13:27.522Z"
   },
   {
    "duration": 8,
    "start_time": "2023-05-27T20:13:27.560Z"
   },
   {
    "duration": 9,
    "start_time": "2023-05-27T20:13:27.569Z"
   },
   {
    "duration": 21035,
    "start_time": "2023-05-27T20:13:27.579Z"
   },
   {
    "duration": 25,
    "start_time": "2023-05-27T20:13:48.616Z"
   },
   {
    "duration": 8,
    "start_time": "2023-05-27T20:13:48.651Z"
   },
   {
    "duration": 8,
    "start_time": "2023-05-27T20:13:48.660Z"
   },
   {
    "duration": 8,
    "start_time": "2023-05-27T20:13:48.670Z"
   },
   {
    "duration": 3,
    "start_time": "2023-05-27T20:13:48.679Z"
   },
   {
    "duration": 8,
    "start_time": "2023-05-27T20:13:48.684Z"
   },
   {
    "duration": 6,
    "start_time": "2023-05-27T20:13:48.693Z"
   },
   {
    "duration": 7,
    "start_time": "2023-05-27T20:13:48.700Z"
   },
   {
    "duration": 46,
    "start_time": "2023-05-27T20:13:48.708Z"
   },
   {
    "duration": 4,
    "start_time": "2023-05-27T20:13:48.755Z"
   },
   {
    "duration": 15,
    "start_time": "2023-05-27T20:13:48.761Z"
   },
   {
    "duration": 17,
    "start_time": "2023-05-27T20:13:48.777Z"
   },
   {
    "duration": 12,
    "start_time": "2023-05-27T20:13:48.796Z"
   },
   {
    "duration": 50,
    "start_time": "2023-05-27T20:13:48.810Z"
   },
   {
    "duration": 3,
    "start_time": "2023-05-27T20:13:48.862Z"
   },
   {
    "duration": 13,
    "start_time": "2023-05-27T20:13:48.867Z"
   },
   {
    "duration": 12,
    "start_time": "2023-05-27T20:13:48.882Z"
   },
   {
    "duration": 369,
    "start_time": "2023-05-27T20:13:48.895Z"
   },
   {
    "duration": 19,
    "start_time": "2023-05-27T20:13:49.266Z"
   },
   {
    "duration": 295,
    "start_time": "2023-05-27T20:13:49.287Z"
   },
   {
    "duration": 7,
    "start_time": "2023-05-27T20:13:49.584Z"
   },
   {
    "duration": 383,
    "start_time": "2023-05-27T20:13:49.593Z"
   },
   {
    "duration": 17,
    "start_time": "2023-05-27T20:13:49.978Z"
   },
   {
    "duration": 5,
    "start_time": "2023-05-27T20:13:49.996Z"
   },
   {
    "duration": 469,
    "start_time": "2023-05-27T20:13:50.003Z"
   },
   {
    "duration": 226,
    "start_time": "2023-05-27T20:13:50.475Z"
   },
   {
    "duration": 6,
    "start_time": "2023-05-27T20:13:50.703Z"
   },
   {
    "duration": 19,
    "start_time": "2023-05-27T20:13:50.711Z"
   },
   {
    "duration": 189,
    "start_time": "2023-05-27T20:13:50.734Z"
   },
   {
    "duration": 9,
    "start_time": "2023-05-27T20:13:50.925Z"
   },
   {
    "duration": 181,
    "start_time": "2023-05-27T20:13:50.935Z"
   },
   {
    "duration": 12,
    "start_time": "2023-05-27T20:13:51.119Z"
   },
   {
    "duration": 27,
    "start_time": "2023-05-27T20:13:51.133Z"
   },
   {
    "duration": 15,
    "start_time": "2023-05-27T20:13:51.161Z"
   },
   {
    "duration": 26,
    "start_time": "2023-05-27T20:13:51.178Z"
   },
   {
    "duration": 180,
    "start_time": "2023-05-27T20:13:51.206Z"
   },
   {
    "duration": 364,
    "start_time": "2023-05-27T20:13:51.388Z"
   },
   {
    "duration": 42,
    "start_time": "2023-05-27T20:13:51.754Z"
   },
   {
    "duration": 544,
    "start_time": "2023-05-27T20:13:51.798Z"
   },
   {
    "duration": 480,
    "start_time": "2023-05-27T20:13:52.350Z"
   },
   {
    "duration": 25,
    "start_time": "2023-05-27T20:13:52.832Z"
   },
   {
    "duration": 51,
    "start_time": "2023-05-27T20:13:52.859Z"
   },
   {
    "duration": 29,
    "start_time": "2023-05-27T20:13:52.912Z"
   },
   {
    "duration": 196,
    "start_time": "2023-05-27T20:13:52.943Z"
   },
   {
    "duration": 22,
    "start_time": "2023-05-27T20:13:53.141Z"
   },
   {
    "duration": 15,
    "start_time": "2023-05-27T20:13:53.165Z"
   },
   {
    "duration": 18,
    "start_time": "2023-05-27T20:16:15.702Z"
   },
   {
    "duration": 270,
    "start_time": "2023-05-27T20:16:29.093Z"
   },
   {
    "duration": 7,
    "start_time": "2023-05-27T20:17:05.216Z"
   },
   {
    "duration": 283,
    "start_time": "2023-05-27T20:17:05.881Z"
   },
   {
    "duration": 6,
    "start_time": "2023-05-27T20:18:18.500Z"
   },
   {
    "duration": 16,
    "start_time": "2023-05-27T20:19:39.426Z"
   },
   {
    "duration": 15,
    "start_time": "2023-05-27T20:20:19.376Z"
   },
   {
    "duration": 4,
    "start_time": "2023-05-27T20:20:37.179Z"
   },
   {
    "duration": 483,
    "start_time": "2023-05-27T20:20:41.457Z"
   },
   {
    "duration": 209,
    "start_time": "2023-05-27T20:21:47.179Z"
   },
   {
    "duration": 212,
    "start_time": "2023-05-27T20:22:10.326Z"
   },
   {
    "duration": 225,
    "start_time": "2023-05-27T20:22:23.241Z"
   },
   {
    "duration": 1210,
    "start_time": "2023-05-27T20:22:47.250Z"
   },
   {
    "duration": 52,
    "start_time": "2023-05-27T20:22:48.462Z"
   },
   {
    "duration": 24,
    "start_time": "2023-05-27T20:22:48.516Z"
   },
   {
    "duration": 15,
    "start_time": "2023-05-27T20:22:48.542Z"
   },
   {
    "duration": 29,
    "start_time": "2023-05-27T20:22:48.559Z"
   },
   {
    "duration": 809,
    "start_time": "2023-05-27T20:22:48.590Z"
   },
   {
    "duration": 3,
    "start_time": "2023-05-27T20:22:49.400Z"
   },
   {
    "duration": 10,
    "start_time": "2023-05-27T20:22:49.405Z"
   },
   {
    "duration": 36,
    "start_time": "2023-05-27T20:22:49.417Z"
   },
   {
    "duration": 8,
    "start_time": "2023-05-27T20:22:49.456Z"
   },
   {
    "duration": 7,
    "start_time": "2023-05-27T20:22:49.466Z"
   },
   {
    "duration": 21014,
    "start_time": "2023-05-27T20:22:49.475Z"
   },
   {
    "duration": 25,
    "start_time": "2023-05-27T20:23:10.491Z"
   },
   {
    "duration": 7,
    "start_time": "2023-05-27T20:23:10.517Z"
   },
   {
    "duration": 4,
    "start_time": "2023-05-27T20:23:10.525Z"
   },
   {
    "duration": 8,
    "start_time": "2023-05-27T20:23:10.550Z"
   },
   {
    "duration": 6,
    "start_time": "2023-05-27T20:23:10.559Z"
   },
   {
    "duration": 6,
    "start_time": "2023-05-27T20:23:10.566Z"
   },
   {
    "duration": 6,
    "start_time": "2023-05-27T20:23:10.573Z"
   },
   {
    "duration": 6,
    "start_time": "2023-05-27T20:23:10.580Z"
   },
   {
    "duration": 7,
    "start_time": "2023-05-27T20:23:10.587Z"
   },
   {
    "duration": 4,
    "start_time": "2023-05-27T20:23:10.595Z"
   },
   {
    "duration": 14,
    "start_time": "2023-05-27T20:23:10.600Z"
   },
   {
    "duration": 44,
    "start_time": "2023-05-27T20:23:10.615Z"
   },
   {
    "duration": 9,
    "start_time": "2023-05-27T20:23:10.661Z"
   },
   {
    "duration": 9,
    "start_time": "2023-05-27T20:23:10.671Z"
   },
   {
    "duration": 3,
    "start_time": "2023-05-27T20:23:10.682Z"
   },
   {
    "duration": 5,
    "start_time": "2023-05-27T20:23:10.689Z"
   },
   {
    "duration": 8,
    "start_time": "2023-05-27T20:23:10.695Z"
   },
   {
    "duration": 375,
    "start_time": "2023-05-27T20:23:10.704Z"
   },
   {
    "duration": 17,
    "start_time": "2023-05-27T20:23:11.081Z"
   },
   {
    "duration": 278,
    "start_time": "2023-05-27T20:23:11.100Z"
   },
   {
    "duration": 5,
    "start_time": "2023-05-27T20:23:11.380Z"
   },
   {
    "duration": 368,
    "start_time": "2023-05-27T20:23:11.387Z"
   },
   {
    "duration": 6,
    "start_time": "2023-05-27T20:23:11.757Z"
   },
   {
    "duration": 121,
    "start_time": "2023-05-27T20:23:11.765Z"
   },
   {
    "duration": 0,
    "start_time": "2023-05-27T20:23:11.887Z"
   },
   {
    "duration": 0,
    "start_time": "2023-05-27T20:23:11.888Z"
   },
   {
    "duration": 0,
    "start_time": "2023-05-27T20:23:11.889Z"
   },
   {
    "duration": 0,
    "start_time": "2023-05-27T20:23:11.890Z"
   },
   {
    "duration": 0,
    "start_time": "2023-05-27T20:23:11.892Z"
   },
   {
    "duration": 0,
    "start_time": "2023-05-27T20:23:11.893Z"
   },
   {
    "duration": 0,
    "start_time": "2023-05-27T20:23:11.894Z"
   },
   {
    "duration": 0,
    "start_time": "2023-05-27T20:23:11.895Z"
   },
   {
    "duration": 0,
    "start_time": "2023-05-27T20:23:11.896Z"
   },
   {
    "duration": 0,
    "start_time": "2023-05-27T20:23:11.897Z"
   },
   {
    "duration": 0,
    "start_time": "2023-05-27T20:23:11.898Z"
   },
   {
    "duration": 0,
    "start_time": "2023-05-27T20:23:11.899Z"
   },
   {
    "duration": 0,
    "start_time": "2023-05-27T20:23:11.900Z"
   },
   {
    "duration": 0,
    "start_time": "2023-05-27T20:23:11.901Z"
   },
   {
    "duration": 0,
    "start_time": "2023-05-27T20:23:11.902Z"
   },
   {
    "duration": 0,
    "start_time": "2023-05-27T20:23:11.903Z"
   },
   {
    "duration": 0,
    "start_time": "2023-05-27T20:23:11.904Z"
   },
   {
    "duration": 0,
    "start_time": "2023-05-27T20:23:11.905Z"
   },
   {
    "duration": 0,
    "start_time": "2023-05-27T20:23:11.906Z"
   },
   {
    "duration": 0,
    "start_time": "2023-05-27T20:23:11.907Z"
   },
   {
    "duration": 0,
    "start_time": "2023-05-27T20:23:11.908Z"
   },
   {
    "duration": 0,
    "start_time": "2023-05-27T20:23:11.909Z"
   },
   {
    "duration": 15,
    "start_time": "2023-05-27T20:25:00.123Z"
   },
   {
    "duration": 5,
    "start_time": "2023-05-27T20:25:28.037Z"
   },
   {
    "duration": 409,
    "start_time": "2023-05-27T20:25:28.818Z"
   },
   {
    "duration": 202,
    "start_time": "2023-05-27T20:25:37.281Z"
   },
   {
    "duration": 9,
    "start_time": "2023-05-27T20:26:26.418Z"
   },
   {
    "duration": 5,
    "start_time": "2023-05-27T20:26:45.399Z"
   },
   {
    "duration": 168,
    "start_time": "2023-05-27T20:26:53.047Z"
   },
   {
    "duration": 5,
    "start_time": "2023-05-27T20:27:39.383Z"
   },
   {
    "duration": 162,
    "start_time": "2023-05-27T20:27:40.558Z"
   },
   {
    "duration": 167,
    "start_time": "2023-05-27T20:27:55.756Z"
   },
   {
    "duration": 171,
    "start_time": "2023-05-27T20:29:12.657Z"
   },
   {
    "duration": 197,
    "start_time": "2023-05-27T20:29:23.914Z"
   },
   {
    "duration": 7,
    "start_time": "2023-05-27T20:29:27.990Z"
   },
   {
    "duration": 173,
    "start_time": "2023-05-27T20:29:30.615Z"
   },
   {
    "duration": 1092,
    "start_time": "2023-05-27T20:29:42.759Z"
   },
   {
    "duration": 49,
    "start_time": "2023-05-27T20:29:43.853Z"
   },
   {
    "duration": 23,
    "start_time": "2023-05-27T20:29:43.903Z"
   },
   {
    "duration": 14,
    "start_time": "2023-05-27T20:29:43.928Z"
   },
   {
    "duration": 31,
    "start_time": "2023-05-27T20:29:43.945Z"
   },
   {
    "duration": 804,
    "start_time": "2023-05-27T20:29:43.978Z"
   },
   {
    "duration": 3,
    "start_time": "2023-05-27T20:29:44.784Z"
   },
   {
    "duration": 11,
    "start_time": "2023-05-27T20:29:44.788Z"
   },
   {
    "duration": 17,
    "start_time": "2023-05-27T20:29:44.801Z"
   },
   {
    "duration": 32,
    "start_time": "2023-05-27T20:29:44.820Z"
   },
   {
    "duration": 9,
    "start_time": "2023-05-27T20:29:44.853Z"
   },
   {
    "duration": 20763,
    "start_time": "2023-05-27T20:29:44.864Z"
   },
   {
    "duration": 29,
    "start_time": "2023-05-27T20:30:05.628Z"
   },
   {
    "duration": 6,
    "start_time": "2023-05-27T20:30:05.660Z"
   },
   {
    "duration": 23,
    "start_time": "2023-05-27T20:30:05.668Z"
   },
   {
    "duration": 10,
    "start_time": "2023-05-27T20:30:05.693Z"
   },
   {
    "duration": 4,
    "start_time": "2023-05-27T20:30:05.704Z"
   },
   {
    "duration": 5,
    "start_time": "2023-05-27T20:30:05.710Z"
   },
   {
    "duration": 6,
    "start_time": "2023-05-27T20:30:05.717Z"
   },
   {
    "duration": 15,
    "start_time": "2023-05-27T20:30:05.725Z"
   },
   {
    "duration": 20,
    "start_time": "2023-05-27T20:30:05.741Z"
   },
   {
    "duration": 4,
    "start_time": "2023-05-27T20:30:05.763Z"
   },
   {
    "duration": 13,
    "start_time": "2023-05-27T20:30:05.768Z"
   },
   {
    "duration": 31,
    "start_time": "2023-05-27T20:30:05.782Z"
   },
   {
    "duration": 9,
    "start_time": "2023-05-27T20:30:05.815Z"
   },
   {
    "duration": 9,
    "start_time": "2023-05-27T20:30:05.825Z"
   },
   {
    "duration": 3,
    "start_time": "2023-05-27T20:30:05.835Z"
   },
   {
    "duration": 90,
    "start_time": "2023-05-27T20:30:05.849Z"
   },
   {
    "duration": 0,
    "start_time": "2023-05-27T20:30:05.941Z"
   },
   {
    "duration": 0,
    "start_time": "2023-05-27T20:30:05.951Z"
   },
   {
    "duration": 0,
    "start_time": "2023-05-27T20:30:05.952Z"
   },
   {
    "duration": 0,
    "start_time": "2023-05-27T20:30:05.953Z"
   },
   {
    "duration": 0,
    "start_time": "2023-05-27T20:30:05.954Z"
   },
   {
    "duration": 0,
    "start_time": "2023-05-27T20:30:05.956Z"
   },
   {
    "duration": 0,
    "start_time": "2023-05-27T20:30:05.956Z"
   },
   {
    "duration": 0,
    "start_time": "2023-05-27T20:30:05.957Z"
   },
   {
    "duration": 0,
    "start_time": "2023-05-27T20:30:05.958Z"
   },
   {
    "duration": 0,
    "start_time": "2023-05-27T20:30:05.959Z"
   },
   {
    "duration": 0,
    "start_time": "2023-05-27T20:30:05.960Z"
   },
   {
    "duration": 0,
    "start_time": "2023-05-27T20:30:05.961Z"
   },
   {
    "duration": 0,
    "start_time": "2023-05-27T20:30:05.962Z"
   },
   {
    "duration": 0,
    "start_time": "2023-05-27T20:30:05.963Z"
   },
   {
    "duration": 0,
    "start_time": "2023-05-27T20:30:05.964Z"
   },
   {
    "duration": 0,
    "start_time": "2023-05-27T20:30:05.965Z"
   },
   {
    "duration": 0,
    "start_time": "2023-05-27T20:30:05.966Z"
   },
   {
    "duration": 0,
    "start_time": "2023-05-27T20:30:05.967Z"
   },
   {
    "duration": 0,
    "start_time": "2023-05-27T20:30:05.968Z"
   },
   {
    "duration": 0,
    "start_time": "2023-05-27T20:30:05.968Z"
   },
   {
    "duration": 0,
    "start_time": "2023-05-27T20:30:05.969Z"
   },
   {
    "duration": 0,
    "start_time": "2023-05-27T20:30:05.970Z"
   },
   {
    "duration": 0,
    "start_time": "2023-05-27T20:30:05.972Z"
   },
   {
    "duration": 0,
    "start_time": "2023-05-27T20:30:05.973Z"
   },
   {
    "duration": 0,
    "start_time": "2023-05-27T20:30:05.974Z"
   },
   {
    "duration": 0,
    "start_time": "2023-05-27T20:30:05.975Z"
   },
   {
    "duration": 0,
    "start_time": "2023-05-27T20:30:05.976Z"
   },
   {
    "duration": 0,
    "start_time": "2023-05-27T20:30:05.977Z"
   },
   {
    "duration": 0,
    "start_time": "2023-05-27T20:30:05.978Z"
   },
   {
    "duration": 5,
    "start_time": "2023-05-27T20:31:03.673Z"
   },
   {
    "duration": 9,
    "start_time": "2023-05-27T20:31:12.382Z"
   },
   {
    "duration": 326,
    "start_time": "2023-05-27T20:31:16.526Z"
   },
   {
    "duration": 16,
    "start_time": "2023-05-27T20:31:23.289Z"
   },
   {
    "duration": 277,
    "start_time": "2023-05-27T20:31:24.289Z"
   },
   {
    "duration": 7,
    "start_time": "2023-05-27T20:31:24.859Z"
   },
   {
    "duration": 344,
    "start_time": "2023-05-27T20:31:25.988Z"
   },
   {
    "duration": 6,
    "start_time": "2023-05-27T20:31:31.358Z"
   },
   {
    "duration": 15,
    "start_time": "2023-05-27T20:31:33.295Z"
   },
   {
    "duration": 5,
    "start_time": "2023-05-27T20:31:36.940Z"
   },
   {
    "duration": 409,
    "start_time": "2023-05-27T20:31:44.779Z"
   },
   {
    "duration": 214,
    "start_time": "2023-05-27T20:31:52.480Z"
   },
   {
    "duration": 179,
    "start_time": "2023-05-27T20:31:58.768Z"
   },
   {
    "duration": 195,
    "start_time": "2023-05-27T20:33:31.675Z"
   },
   {
    "duration": 183,
    "start_time": "2023-05-27T20:34:03.907Z"
   },
   {
    "duration": 5,
    "start_time": "2023-05-27T20:36:03.599Z"
   },
   {
    "duration": 161,
    "start_time": "2023-05-27T20:36:05.811Z"
   },
   {
    "duration": 8,
    "start_time": "2023-05-27T20:36:21.171Z"
   },
   {
    "duration": 176,
    "start_time": "2023-05-27T20:36:22.017Z"
   },
   {
    "duration": 7,
    "start_time": "2023-05-27T20:36:37.077Z"
   },
   {
    "duration": 167,
    "start_time": "2023-05-27T20:36:37.995Z"
   },
   {
    "duration": 15,
    "start_time": "2023-05-27T20:37:19.259Z"
   },
   {
    "duration": 11,
    "start_time": "2023-05-27T20:39:18.362Z"
   },
   {
    "duration": 14,
    "start_time": "2023-05-27T20:39:21.154Z"
   },
   {
    "duration": 10,
    "start_time": "2023-05-27T20:39:45.107Z"
   },
   {
    "duration": 10,
    "start_time": "2023-05-27T20:40:15.732Z"
   },
   {
    "duration": 12,
    "start_time": "2023-05-27T20:40:33.507Z"
   },
   {
    "duration": 11,
    "start_time": "2023-05-27T20:42:50.958Z"
   },
   {
    "duration": 13,
    "start_time": "2023-05-27T20:44:04.035Z"
   },
   {
    "duration": 11,
    "start_time": "2023-05-27T20:44:21.493Z"
   },
   {
    "duration": 10,
    "start_time": "2023-05-27T20:44:36.951Z"
   },
   {
    "duration": 1134,
    "start_time": "2023-05-27T20:45:04.011Z"
   },
   {
    "duration": 50,
    "start_time": "2023-05-27T20:45:05.147Z"
   },
   {
    "duration": 22,
    "start_time": "2023-05-27T20:45:05.199Z"
   },
   {
    "duration": 15,
    "start_time": "2023-05-27T20:45:05.223Z"
   },
   {
    "duration": 28,
    "start_time": "2023-05-27T20:45:05.240Z"
   },
   {
    "duration": 746,
    "start_time": "2023-05-27T20:45:05.270Z"
   },
   {
    "duration": 3,
    "start_time": "2023-05-27T20:45:06.017Z"
   },
   {
    "duration": 10,
    "start_time": "2023-05-27T20:45:06.022Z"
   },
   {
    "duration": 28,
    "start_time": "2023-05-27T20:45:06.033Z"
   },
   {
    "duration": 11,
    "start_time": "2023-05-27T20:45:06.063Z"
   },
   {
    "duration": 11,
    "start_time": "2023-05-27T20:45:06.076Z"
   },
   {
    "duration": 20756,
    "start_time": "2023-05-27T20:45:06.089Z"
   },
   {
    "duration": 21,
    "start_time": "2023-05-27T20:45:26.849Z"
   },
   {
    "duration": 10,
    "start_time": "2023-05-27T20:45:26.873Z"
   },
   {
    "duration": 19,
    "start_time": "2023-05-27T20:45:26.884Z"
   },
   {
    "duration": 9,
    "start_time": "2023-05-27T20:45:26.904Z"
   },
   {
    "duration": 16,
    "start_time": "2023-05-27T20:45:26.914Z"
   },
   {
    "duration": 23,
    "start_time": "2023-05-27T20:45:26.932Z"
   },
   {
    "duration": 5,
    "start_time": "2023-05-27T20:45:26.956Z"
   },
   {
    "duration": 6,
    "start_time": "2023-05-27T20:45:26.963Z"
   },
   {
    "duration": 12,
    "start_time": "2023-05-27T20:45:26.971Z"
   },
   {
    "duration": 7,
    "start_time": "2023-05-27T20:45:26.984Z"
   },
   {
    "duration": 20,
    "start_time": "2023-05-27T20:45:26.993Z"
   },
   {
    "duration": 15,
    "start_time": "2023-05-27T20:45:27.015Z"
   },
   {
    "duration": 27,
    "start_time": "2023-05-27T20:45:27.033Z"
   },
   {
    "duration": 14,
    "start_time": "2023-05-27T20:45:27.063Z"
   },
   {
    "duration": 3,
    "start_time": "2023-05-27T20:45:27.079Z"
   },
   {
    "duration": 7,
    "start_time": "2023-05-27T20:45:27.084Z"
   },
   {
    "duration": 9,
    "start_time": "2023-05-27T20:45:27.093Z"
   },
   {
    "duration": 370,
    "start_time": "2023-05-27T20:45:27.104Z"
   },
   {
    "duration": 17,
    "start_time": "2023-05-27T20:45:27.476Z"
   },
   {
    "duration": 277,
    "start_time": "2023-05-27T20:45:27.494Z"
   },
   {
    "duration": 8,
    "start_time": "2023-05-27T20:45:27.772Z"
   },
   {
    "duration": 354,
    "start_time": "2023-05-27T20:45:27.781Z"
   },
   {
    "duration": 6,
    "start_time": "2023-05-27T20:45:28.136Z"
   },
   {
    "duration": 14,
    "start_time": "2023-05-27T20:45:28.150Z"
   },
   {
    "duration": 9,
    "start_time": "2023-05-27T20:45:28.165Z"
   },
   {
    "duration": 413,
    "start_time": "2023-05-27T20:45:28.175Z"
   },
   {
    "duration": 214,
    "start_time": "2023-05-27T20:45:28.589Z"
   },
   {
    "duration": 5,
    "start_time": "2023-05-27T20:45:28.804Z"
   },
   {
    "duration": 195,
    "start_time": "2023-05-27T20:45:28.813Z"
   },
   {
    "duration": 5,
    "start_time": "2023-05-27T20:45:29.009Z"
   },
   {
    "duration": 341,
    "start_time": "2023-05-27T20:45:29.016Z"
   },
   {
    "duration": 12,
    "start_time": "2023-05-27T20:45:29.360Z"
   },
   {
    "duration": 11,
    "start_time": "2023-05-27T20:45:29.374Z"
   },
   {
    "duration": 68,
    "start_time": "2023-05-27T20:45:29.386Z"
   },
   {
    "duration": 11,
    "start_time": "2023-05-27T20:45:29.456Z"
   },
   {
    "duration": 196,
    "start_time": "2023-05-27T20:45:29.469Z"
   },
   {
    "duration": 0,
    "start_time": "2023-05-27T20:45:29.667Z"
   },
   {
    "duration": 0,
    "start_time": "2023-05-27T20:45:29.668Z"
   },
   {
    "duration": 0,
    "start_time": "2023-05-27T20:45:29.669Z"
   },
   {
    "duration": 0,
    "start_time": "2023-05-27T20:45:29.670Z"
   },
   {
    "duration": 0,
    "start_time": "2023-05-27T20:45:29.671Z"
   },
   {
    "duration": 0,
    "start_time": "2023-05-27T20:45:29.672Z"
   },
   {
    "duration": 0,
    "start_time": "2023-05-27T20:45:29.673Z"
   },
   {
    "duration": 0,
    "start_time": "2023-05-27T20:45:29.673Z"
   },
   {
    "duration": 0,
    "start_time": "2023-05-27T20:45:29.674Z"
   },
   {
    "duration": 0,
    "start_time": "2023-05-27T20:45:29.676Z"
   },
   {
    "duration": 15,
    "start_time": "2023-05-27T20:46:52.890Z"
   },
   {
    "duration": 14,
    "start_time": "2023-05-27T20:46:59.403Z"
   },
   {
    "duration": 1268,
    "start_time": "2023-05-27T20:47:19.315Z"
   },
   {
    "duration": 49,
    "start_time": "2023-05-27T20:47:20.585Z"
   },
   {
    "duration": 92,
    "start_time": "2023-05-27T20:49:35.197Z"
   },
   {
    "duration": 1137,
    "start_time": "2023-05-27T20:49:42.602Z"
   },
   {
    "duration": 64,
    "start_time": "2023-05-27T20:49:43.741Z"
   },
   {
    "duration": 22,
    "start_time": "2023-05-27T20:49:43.806Z"
   },
   {
    "duration": 13,
    "start_time": "2023-05-27T20:49:43.830Z"
   },
   {
    "duration": 27,
    "start_time": "2023-05-27T20:49:43.845Z"
   },
   {
    "duration": 860,
    "start_time": "2023-05-27T20:49:43.874Z"
   },
   {
    "duration": 26,
    "start_time": "2023-05-27T20:49:44.736Z"
   },
   {
    "duration": 10,
    "start_time": "2023-05-27T20:49:44.764Z"
   },
   {
    "duration": 22,
    "start_time": "2023-05-27T20:49:44.776Z"
   },
   {
    "duration": 7,
    "start_time": "2023-05-27T20:49:44.800Z"
   },
   {
    "duration": 7,
    "start_time": "2023-05-27T20:49:44.808Z"
   },
   {
    "duration": 21555,
    "start_time": "2023-05-27T20:49:44.817Z"
   },
   {
    "duration": 21,
    "start_time": "2023-05-27T20:50:06.374Z"
   },
   {
    "duration": 8,
    "start_time": "2023-05-27T20:50:06.452Z"
   },
   {
    "duration": 7,
    "start_time": "2023-05-27T20:50:06.462Z"
   },
   {
    "duration": 10,
    "start_time": "2023-05-27T20:50:06.471Z"
   },
   {
    "duration": 5,
    "start_time": "2023-05-27T20:50:06.483Z"
   },
   {
    "duration": 65,
    "start_time": "2023-05-27T20:50:06.490Z"
   },
   {
    "duration": 11,
    "start_time": "2023-05-27T20:50:06.558Z"
   },
   {
    "duration": 12,
    "start_time": "2023-05-27T20:50:06.571Z"
   },
   {
    "duration": 9,
    "start_time": "2023-05-27T20:50:06.584Z"
   },
   {
    "duration": 3,
    "start_time": "2023-05-27T20:50:06.594Z"
   },
   {
    "duration": 74,
    "start_time": "2023-05-27T20:50:06.599Z"
   },
   {
    "duration": 13,
    "start_time": "2023-05-27T20:50:06.674Z"
   },
   {
    "duration": 62,
    "start_time": "2023-05-27T20:50:06.688Z"
   },
   {
    "duration": 17,
    "start_time": "2023-05-27T20:50:06.753Z"
   },
   {
    "duration": 3,
    "start_time": "2023-05-27T20:50:06.773Z"
   },
   {
    "duration": 15,
    "start_time": "2023-05-27T20:50:06.778Z"
   },
   {
    "duration": 56,
    "start_time": "2023-05-27T20:50:06.795Z"
   },
   {
    "duration": 723,
    "start_time": "2023-05-27T20:50:06.852Z"
   },
   {
    "duration": 18,
    "start_time": "2023-05-27T20:50:07.576Z"
   },
   {
    "duration": 299,
    "start_time": "2023-05-27T20:50:07.595Z"
   },
   {
    "duration": 6,
    "start_time": "2023-05-27T20:50:07.895Z"
   },
   {
    "duration": 398,
    "start_time": "2023-05-27T20:50:07.902Z"
   },
   {
    "duration": 5,
    "start_time": "2023-05-27T20:50:08.302Z"
   },
   {
    "duration": 18,
    "start_time": "2023-05-27T20:50:08.309Z"
   },
   {
    "duration": 4,
    "start_time": "2023-05-27T20:50:08.328Z"
   },
   {
    "duration": 467,
    "start_time": "2023-05-27T20:50:08.350Z"
   },
   {
    "duration": 226,
    "start_time": "2023-05-27T20:50:08.819Z"
   },
   {
    "duration": 5,
    "start_time": "2023-05-27T20:50:09.047Z"
   },
   {
    "duration": 211,
    "start_time": "2023-05-27T20:50:09.058Z"
   },
   {
    "duration": 6,
    "start_time": "2023-05-27T20:50:09.271Z"
   },
   {
    "duration": 203,
    "start_time": "2023-05-27T20:50:09.279Z"
   },
   {
    "duration": 9,
    "start_time": "2023-05-27T20:50:09.483Z"
   },
   {
    "duration": 12,
    "start_time": "2023-05-27T20:50:09.494Z"
   },
   {
    "duration": 17,
    "start_time": "2023-05-27T20:50:09.507Z"
   },
   {
    "duration": 25,
    "start_time": "2023-05-27T20:50:09.525Z"
   },
   {
    "duration": 109,
    "start_time": "2023-05-27T20:50:09.556Z"
   },
   {
    "duration": 0,
    "start_time": "2023-05-27T20:50:09.667Z"
   },
   {
    "duration": 0,
    "start_time": "2023-05-27T20:50:09.668Z"
   },
   {
    "duration": 0,
    "start_time": "2023-05-27T20:50:09.669Z"
   },
   {
    "duration": 0,
    "start_time": "2023-05-27T20:50:09.670Z"
   },
   {
    "duration": 0,
    "start_time": "2023-05-27T20:50:09.671Z"
   },
   {
    "duration": 0,
    "start_time": "2023-05-27T20:50:09.672Z"
   },
   {
    "duration": 0,
    "start_time": "2023-05-27T20:50:09.673Z"
   },
   {
    "duration": 0,
    "start_time": "2023-05-27T20:50:09.674Z"
   },
   {
    "duration": 0,
    "start_time": "2023-05-27T20:50:09.675Z"
   },
   {
    "duration": 0,
    "start_time": "2023-05-27T20:50:09.676Z"
   },
   {
    "duration": 11,
    "start_time": "2023-05-27T20:51:37.493Z"
   },
   {
    "duration": 1228,
    "start_time": "2023-05-27T20:51:57.751Z"
   },
   {
    "duration": 51,
    "start_time": "2023-05-27T20:51:58.981Z"
   },
   {
    "duration": 29,
    "start_time": "2023-05-27T20:51:59.034Z"
   },
   {
    "duration": 13,
    "start_time": "2023-05-27T20:51:59.065Z"
   },
   {
    "duration": 27,
    "start_time": "2023-05-27T20:51:59.080Z"
   },
   {
    "duration": 773,
    "start_time": "2023-05-27T20:51:59.108Z"
   },
   {
    "duration": 4,
    "start_time": "2023-05-27T20:51:59.883Z"
   },
   {
    "duration": 12,
    "start_time": "2023-05-27T20:51:59.889Z"
   },
   {
    "duration": 21,
    "start_time": "2023-05-27T20:51:59.903Z"
   },
   {
    "duration": 33,
    "start_time": "2023-05-27T20:51:59.927Z"
   },
   {
    "duration": 10,
    "start_time": "2023-05-27T20:51:59.963Z"
   },
   {
    "duration": 24536,
    "start_time": "2023-05-27T20:51:59.975Z"
   },
   {
    "duration": 26,
    "start_time": "2023-05-27T20:52:24.512Z"
   },
   {
    "duration": 16,
    "start_time": "2023-05-27T20:52:24.550Z"
   },
   {
    "duration": 7,
    "start_time": "2023-05-27T20:52:24.568Z"
   },
   {
    "duration": 12,
    "start_time": "2023-05-27T20:52:24.577Z"
   },
   {
    "duration": 20,
    "start_time": "2023-05-27T20:52:24.591Z"
   },
   {
    "duration": 11,
    "start_time": "2023-05-27T20:52:24.613Z"
   },
   {
    "duration": 8,
    "start_time": "2023-05-27T20:52:24.626Z"
   },
   {
    "duration": 12,
    "start_time": "2023-05-27T20:52:24.636Z"
   },
   {
    "duration": 10,
    "start_time": "2023-05-27T20:52:24.649Z"
   },
   {
    "duration": 5,
    "start_time": "2023-05-27T20:52:24.661Z"
   },
   {
    "duration": 21,
    "start_time": "2023-05-27T20:52:24.668Z"
   },
   {
    "duration": 13,
    "start_time": "2023-05-27T20:52:24.691Z"
   },
   {
    "duration": 9,
    "start_time": "2023-05-27T20:52:24.706Z"
   },
   {
    "duration": 40,
    "start_time": "2023-05-27T20:52:24.718Z"
   },
   {
    "duration": 6,
    "start_time": "2023-05-27T20:52:24.760Z"
   },
   {
    "duration": 6,
    "start_time": "2023-05-27T20:52:24.774Z"
   },
   {
    "duration": 8,
    "start_time": "2023-05-27T20:52:24.781Z"
   },
   {
    "duration": 371,
    "start_time": "2023-05-27T20:52:24.791Z"
   },
   {
    "duration": 19,
    "start_time": "2023-05-27T20:52:25.164Z"
   },
   {
    "duration": 299,
    "start_time": "2023-05-27T20:52:25.185Z"
   },
   {
    "duration": 9,
    "start_time": "2023-05-27T20:52:25.486Z"
   },
   {
    "duration": 393,
    "start_time": "2023-05-27T20:52:25.497Z"
   },
   {
    "duration": 6,
    "start_time": "2023-05-27T20:52:25.891Z"
   },
   {
    "duration": 20,
    "start_time": "2023-05-27T20:52:25.898Z"
   },
   {
    "duration": 5,
    "start_time": "2023-05-27T20:52:25.919Z"
   },
   {
    "duration": 471,
    "start_time": "2023-05-27T20:52:25.925Z"
   },
   {
    "duration": 225,
    "start_time": "2023-05-27T20:52:26.398Z"
   },
   {
    "duration": 5,
    "start_time": "2023-05-27T20:52:26.624Z"
   },
   {
    "duration": 196,
    "start_time": "2023-05-27T20:52:26.630Z"
   },
   {
    "duration": 6,
    "start_time": "2023-05-27T20:52:26.827Z"
   },
   {
    "duration": 192,
    "start_time": "2023-05-27T20:52:26.834Z"
   },
   {
    "duration": 9,
    "start_time": "2023-05-27T20:52:27.028Z"
   },
   {
    "duration": 23,
    "start_time": "2023-05-27T20:52:27.038Z"
   },
   {
    "duration": 15,
    "start_time": "2023-05-27T20:52:27.063Z"
   },
   {
    "duration": 15,
    "start_time": "2023-05-27T20:52:27.081Z"
   },
   {
    "duration": 163,
    "start_time": "2023-05-27T20:52:27.099Z"
   },
   {
    "duration": 0,
    "start_time": "2023-05-27T20:52:27.266Z"
   },
   {
    "duration": 0,
    "start_time": "2023-05-27T20:52:27.269Z"
   },
   {
    "duration": 0,
    "start_time": "2023-05-27T20:52:27.271Z"
   },
   {
    "duration": 0,
    "start_time": "2023-05-27T20:52:27.272Z"
   },
   {
    "duration": 0,
    "start_time": "2023-05-27T20:52:27.274Z"
   },
   {
    "duration": 0,
    "start_time": "2023-05-27T20:52:27.275Z"
   },
   {
    "duration": 0,
    "start_time": "2023-05-27T20:52:27.277Z"
   },
   {
    "duration": 0,
    "start_time": "2023-05-27T20:52:27.278Z"
   },
   {
    "duration": 0,
    "start_time": "2023-05-27T20:52:27.280Z"
   },
   {
    "duration": 0,
    "start_time": "2023-05-27T20:52:27.281Z"
   },
   {
    "duration": 12,
    "start_time": "2023-05-27T20:52:45.840Z"
   },
   {
    "duration": 1269,
    "start_time": "2023-05-27T20:54:47.712Z"
   },
   {
    "duration": 54,
    "start_time": "2023-05-27T20:54:48.983Z"
   },
   {
    "duration": 41,
    "start_time": "2023-05-27T20:54:49.038Z"
   },
   {
    "duration": 16,
    "start_time": "2023-05-27T20:54:49.082Z"
   },
   {
    "duration": 57,
    "start_time": "2023-05-27T20:54:49.101Z"
   },
   {
    "duration": 896,
    "start_time": "2023-05-27T20:54:49.162Z"
   },
   {
    "duration": 3,
    "start_time": "2023-05-27T20:54:50.060Z"
   },
   {
    "duration": 58,
    "start_time": "2023-05-27T20:54:50.067Z"
   },
   {
    "duration": 35,
    "start_time": "2023-05-27T20:54:50.127Z"
   },
   {
    "duration": 10,
    "start_time": "2023-05-27T20:54:50.164Z"
   },
   {
    "duration": 13,
    "start_time": "2023-05-27T20:54:50.176Z"
   },
   {
    "duration": 22900,
    "start_time": "2023-05-27T20:54:50.191Z"
   },
   {
    "duration": 81,
    "start_time": "2023-05-27T20:55:13.094Z"
   },
   {
    "duration": 7,
    "start_time": "2023-05-27T20:55:13.177Z"
   },
   {
    "duration": 6,
    "start_time": "2023-05-27T20:55:13.185Z"
   },
   {
    "duration": 63,
    "start_time": "2023-05-27T20:55:13.192Z"
   },
   {
    "duration": 2,
    "start_time": "2023-05-27T20:55:13.268Z"
   },
   {
    "duration": 6,
    "start_time": "2023-05-27T20:55:13.271Z"
   },
   {
    "duration": 5,
    "start_time": "2023-05-27T20:55:13.279Z"
   },
   {
    "duration": 6,
    "start_time": "2023-05-27T20:55:13.285Z"
   },
   {
    "duration": 7,
    "start_time": "2023-05-27T20:55:13.293Z"
   },
   {
    "duration": 8,
    "start_time": "2023-05-27T20:55:13.349Z"
   },
   {
    "duration": 39,
    "start_time": "2023-05-27T20:55:13.359Z"
   },
   {
    "duration": 67,
    "start_time": "2023-05-27T20:55:13.400Z"
   },
   {
    "duration": 10,
    "start_time": "2023-05-27T20:55:13.469Z"
   },
   {
    "duration": 13,
    "start_time": "2023-05-27T20:55:13.480Z"
   },
   {
    "duration": 58,
    "start_time": "2023-05-27T20:55:13.495Z"
   },
   {
    "duration": 9,
    "start_time": "2023-05-27T20:55:13.561Z"
   },
   {
    "duration": 8,
    "start_time": "2023-05-27T20:55:13.572Z"
   },
   {
    "duration": 739,
    "start_time": "2023-05-27T20:55:13.582Z"
   },
   {
    "duration": 40,
    "start_time": "2023-05-27T20:55:14.323Z"
   },
   {
    "duration": 306,
    "start_time": "2023-05-27T20:55:14.365Z"
   },
   {
    "duration": 8,
    "start_time": "2023-05-27T20:55:14.672Z"
   },
   {
    "duration": 389,
    "start_time": "2023-05-27T20:55:14.681Z"
   },
   {
    "duration": 5,
    "start_time": "2023-05-27T20:55:15.072Z"
   },
   {
    "duration": 21,
    "start_time": "2023-05-27T20:55:15.079Z"
   },
   {
    "duration": 19,
    "start_time": "2023-05-27T20:55:15.101Z"
   },
   {
    "duration": 470,
    "start_time": "2023-05-27T20:55:15.122Z"
   },
   {
    "duration": 219,
    "start_time": "2023-05-27T20:55:15.594Z"
   },
   {
    "duration": 6,
    "start_time": "2023-05-27T20:55:15.815Z"
   },
   {
    "duration": 191,
    "start_time": "2023-05-27T20:55:15.826Z"
   },
   {
    "duration": 5,
    "start_time": "2023-05-27T20:55:16.019Z"
   },
   {
    "duration": 193,
    "start_time": "2023-05-27T20:55:16.025Z"
   },
   {
    "duration": 14,
    "start_time": "2023-05-27T20:55:16.220Z"
   },
   {
    "duration": 27,
    "start_time": "2023-05-27T20:55:16.236Z"
   },
   {
    "duration": 13,
    "start_time": "2023-05-27T20:55:16.265Z"
   },
   {
    "duration": 9,
    "start_time": "2023-05-27T20:55:16.280Z"
   },
   {
    "duration": 119,
    "start_time": "2023-05-27T20:55:16.290Z"
   },
   {
    "duration": 0,
    "start_time": "2023-05-27T20:55:16.411Z"
   },
   {
    "duration": 0,
    "start_time": "2023-05-27T20:55:16.412Z"
   },
   {
    "duration": 0,
    "start_time": "2023-05-27T20:55:16.413Z"
   },
   {
    "duration": 0,
    "start_time": "2023-05-27T20:55:16.414Z"
   },
   {
    "duration": 0,
    "start_time": "2023-05-27T20:55:16.415Z"
   },
   {
    "duration": 0,
    "start_time": "2023-05-27T20:55:16.416Z"
   },
   {
    "duration": 0,
    "start_time": "2023-05-27T20:55:16.417Z"
   },
   {
    "duration": 0,
    "start_time": "2023-05-27T20:55:16.418Z"
   },
   {
    "duration": 0,
    "start_time": "2023-05-27T20:55:16.419Z"
   },
   {
    "duration": 0,
    "start_time": "2023-05-27T20:55:16.420Z"
   },
   {
    "duration": 10,
    "start_time": "2023-05-27T20:56:48.789Z"
   },
   {
    "duration": 1124,
    "start_time": "2023-05-27T20:57:35.939Z"
   },
   {
    "duration": 52,
    "start_time": "2023-05-27T20:57:37.065Z"
   },
   {
    "duration": 22,
    "start_time": "2023-05-27T20:57:37.119Z"
   },
   {
    "duration": 28,
    "start_time": "2023-05-27T20:57:37.144Z"
   },
   {
    "duration": 29,
    "start_time": "2023-05-27T20:57:37.174Z"
   },
   {
    "duration": 779,
    "start_time": "2023-05-27T20:57:37.205Z"
   },
   {
    "duration": 3,
    "start_time": "2023-05-27T20:57:37.985Z"
   },
   {
    "duration": 10,
    "start_time": "2023-05-27T20:57:37.990Z"
   },
   {
    "duration": 17,
    "start_time": "2023-05-27T20:57:38.002Z"
   },
   {
    "duration": 33,
    "start_time": "2023-05-27T20:57:38.021Z"
   },
   {
    "duration": 9,
    "start_time": "2023-05-27T20:57:38.055Z"
   },
   {
    "duration": 20371,
    "start_time": "2023-05-27T20:57:38.066Z"
   },
   {
    "duration": 35,
    "start_time": "2023-05-27T20:57:58.438Z"
   },
   {
    "duration": 8,
    "start_time": "2023-05-27T20:57:58.475Z"
   },
   {
    "duration": 5,
    "start_time": "2023-05-27T20:57:58.485Z"
   },
   {
    "duration": 11,
    "start_time": "2023-05-27T20:57:58.492Z"
   },
   {
    "duration": 2,
    "start_time": "2023-05-27T20:57:58.506Z"
   },
   {
    "duration": 5,
    "start_time": "2023-05-27T20:57:58.510Z"
   },
   {
    "duration": 42,
    "start_time": "2023-05-27T20:57:58.516Z"
   },
   {
    "duration": 12,
    "start_time": "2023-05-27T20:57:58.559Z"
   },
   {
    "duration": 10,
    "start_time": "2023-05-27T20:57:58.572Z"
   },
   {
    "duration": 4,
    "start_time": "2023-05-27T20:57:58.583Z"
   },
   {
    "duration": 14,
    "start_time": "2023-05-27T20:57:58.588Z"
   },
   {
    "duration": 12,
    "start_time": "2023-05-27T20:57:58.603Z"
   },
   {
    "duration": 8,
    "start_time": "2023-05-27T20:57:58.616Z"
   },
   {
    "duration": 28,
    "start_time": "2023-05-27T20:57:58.625Z"
   },
   {
    "duration": 3,
    "start_time": "2023-05-27T20:57:58.655Z"
   },
   {
    "duration": 6,
    "start_time": "2023-05-27T20:57:58.661Z"
   },
   {
    "duration": 13,
    "start_time": "2023-05-27T20:57:58.669Z"
   },
   {
    "duration": 345,
    "start_time": "2023-05-27T20:57:58.684Z"
   },
   {
    "duration": 32,
    "start_time": "2023-05-27T20:57:59.032Z"
   },
   {
    "duration": 276,
    "start_time": "2023-05-27T20:57:59.066Z"
   },
   {
    "duration": 13,
    "start_time": "2023-05-27T20:57:59.343Z"
   },
   {
    "duration": 392,
    "start_time": "2023-05-27T20:57:59.358Z"
   },
   {
    "duration": 6,
    "start_time": "2023-05-27T20:57:59.752Z"
   },
   {
    "duration": 46,
    "start_time": "2023-05-27T20:57:59.759Z"
   },
   {
    "duration": 19,
    "start_time": "2023-05-27T20:57:59.807Z"
   },
   {
    "duration": 437,
    "start_time": "2023-05-27T20:57:59.827Z"
   },
   {
    "duration": 225,
    "start_time": "2023-05-27T20:58:00.266Z"
   },
   {
    "duration": 6,
    "start_time": "2023-05-27T20:58:00.493Z"
   },
   {
    "duration": 218,
    "start_time": "2023-05-27T20:58:00.501Z"
   },
   {
    "duration": 5,
    "start_time": "2023-05-27T20:58:00.721Z"
   },
   {
    "duration": 195,
    "start_time": "2023-05-27T20:58:00.728Z"
   },
   {
    "duration": 11,
    "start_time": "2023-05-27T20:58:00.925Z"
   },
   {
    "duration": 37,
    "start_time": "2023-05-27T20:58:00.937Z"
   },
   {
    "duration": 27,
    "start_time": "2023-05-27T20:58:00.976Z"
   },
   {
    "duration": 27,
    "start_time": "2023-05-27T20:58:01.005Z"
   },
   {
    "duration": 209,
    "start_time": "2023-05-27T20:58:01.033Z"
   },
   {
    "duration": 350,
    "start_time": "2023-05-27T20:58:01.244Z"
   },
   {
    "duration": 39,
    "start_time": "2023-05-27T20:58:01.596Z"
   },
   {
    "duration": 565,
    "start_time": "2023-05-27T20:58:01.636Z"
   },
   {
    "duration": 528,
    "start_time": "2023-05-27T20:58:02.202Z"
   },
   {
    "duration": 30,
    "start_time": "2023-05-27T20:58:02.732Z"
   },
   {
    "duration": 15,
    "start_time": "2023-05-27T20:58:02.765Z"
   },
   {
    "duration": 15,
    "start_time": "2023-05-27T20:58:02.781Z"
   },
   {
    "duration": 212,
    "start_time": "2023-05-27T20:58:02.798Z"
   },
   {
    "duration": 10,
    "start_time": "2023-05-27T20:58:03.012Z"
   },
   {
    "duration": 10,
    "start_time": "2023-05-27T20:58:03.024Z"
   },
   {
    "duration": 197,
    "start_time": "2023-05-27T20:58:49.168Z"
   },
   {
    "duration": 212,
    "start_time": "2023-05-27T21:00:28.834Z"
   },
   {
    "duration": 357,
    "start_time": "2023-05-27T21:00:56.366Z"
   },
   {
    "duration": 539,
    "start_time": "2023-05-27T21:01:41.623Z"
   },
   {
    "duration": 518,
    "start_time": "2023-05-27T21:02:01.628Z"
   },
   {
    "duration": 19,
    "start_time": "2023-05-27T21:04:52.400Z"
   },
   {
    "duration": 19,
    "start_time": "2023-05-27T21:05:15.948Z"
   },
   {
    "duration": 15,
    "start_time": "2023-05-27T21:05:29.360Z"
   },
   {
    "duration": 246,
    "start_time": "2023-05-27T21:05:49.052Z"
   },
   {
    "duration": 207,
    "start_time": "2023-05-27T21:07:21.434Z"
   },
   {
    "duration": 204,
    "start_time": "2023-05-27T21:07:58.831Z"
   },
   {
    "duration": 10,
    "start_time": "2023-05-27T21:11:26.889Z"
   },
   {
    "duration": 10,
    "start_time": "2023-05-27T21:11:58.007Z"
   },
   {
    "duration": 9,
    "start_time": "2023-05-27T21:12:53.104Z"
   },
   {
    "duration": 5,
    "start_time": "2023-05-27T21:13:57.079Z"
   },
   {
    "duration": 136,
    "start_time": "2023-05-27T21:14:02.533Z"
   },
   {
    "duration": 30,
    "start_time": "2023-05-27T21:14:23.889Z"
   },
   {
    "duration": 11,
    "start_time": "2023-05-27T21:14:45.006Z"
   },
   {
    "duration": 11,
    "start_time": "2023-05-27T21:17:21.683Z"
   },
   {
    "duration": 132,
    "start_time": "2023-05-27T21:37:52.575Z"
   },
   {
    "duration": 20,
    "start_time": "2023-05-27T21:39:34.623Z"
   },
   {
    "duration": 172,
    "start_time": "2023-05-27T21:40:08.289Z"
   },
   {
    "duration": 201,
    "start_time": "2023-05-27T21:40:42.424Z"
   },
   {
    "duration": 241,
    "start_time": "2023-05-27T21:40:55.603Z"
   },
   {
    "duration": 19,
    "start_time": "2023-05-27T21:41:35.700Z"
   },
   {
    "duration": 1133,
    "start_time": "2023-05-27T21:49:52.918Z"
   },
   {
    "duration": 49,
    "start_time": "2023-05-27T21:49:54.053Z"
   },
   {
    "duration": 23,
    "start_time": "2023-05-27T21:49:54.103Z"
   },
   {
    "duration": 13,
    "start_time": "2023-05-27T21:49:54.128Z"
   },
   {
    "duration": 35,
    "start_time": "2023-05-27T21:49:54.143Z"
   },
   {
    "duration": 791,
    "start_time": "2023-05-27T21:49:54.180Z"
   },
   {
    "duration": 3,
    "start_time": "2023-05-27T21:49:54.973Z"
   },
   {
    "duration": 12,
    "start_time": "2023-05-27T21:49:54.978Z"
   },
   {
    "duration": 16,
    "start_time": "2023-05-27T21:49:54.992Z"
   },
   {
    "duration": 11,
    "start_time": "2023-05-27T21:49:55.012Z"
   },
   {
    "duration": 27,
    "start_time": "2023-05-27T21:49:55.024Z"
   },
   {
    "duration": 21388,
    "start_time": "2023-05-27T21:49:55.053Z"
   },
   {
    "duration": 28,
    "start_time": "2023-05-27T21:50:16.442Z"
   },
   {
    "duration": 11,
    "start_time": "2023-05-27T21:50:16.472Z"
   },
   {
    "duration": 7,
    "start_time": "2023-05-27T21:50:16.485Z"
   },
   {
    "duration": 11,
    "start_time": "2023-05-27T21:50:16.493Z"
   },
   {
    "duration": 5,
    "start_time": "2023-05-27T21:50:16.505Z"
   },
   {
    "duration": 6,
    "start_time": "2023-05-27T21:50:16.511Z"
   },
   {
    "duration": 9,
    "start_time": "2023-05-27T21:50:16.518Z"
   },
   {
    "duration": 5,
    "start_time": "2023-05-27T21:50:16.549Z"
   },
   {
    "duration": 14,
    "start_time": "2023-05-27T21:50:16.556Z"
   },
   {
    "duration": 4,
    "start_time": "2023-05-27T21:50:16.572Z"
   },
   {
    "duration": 17,
    "start_time": "2023-05-27T21:50:16.577Z"
   },
   {
    "duration": 18,
    "start_time": "2023-05-27T21:50:16.596Z"
   },
   {
    "duration": 39,
    "start_time": "2023-05-27T21:50:16.616Z"
   },
   {
    "duration": 13,
    "start_time": "2023-05-27T21:50:16.657Z"
   },
   {
    "duration": 3,
    "start_time": "2023-05-27T21:50:16.672Z"
   },
   {
    "duration": 6,
    "start_time": "2023-05-27T21:50:16.680Z"
   },
   {
    "duration": 10,
    "start_time": "2023-05-27T21:50:16.688Z"
   },
   {
    "duration": 354,
    "start_time": "2023-05-27T21:50:16.699Z"
   },
   {
    "duration": 18,
    "start_time": "2023-05-27T21:50:17.055Z"
   },
   {
    "duration": 290,
    "start_time": "2023-05-27T21:50:17.075Z"
   },
   {
    "duration": 7,
    "start_time": "2023-05-27T21:50:17.367Z"
   },
   {
    "duration": 371,
    "start_time": "2023-05-27T21:50:17.375Z"
   },
   {
    "duration": 6,
    "start_time": "2023-05-27T21:50:17.749Z"
   },
   {
    "duration": 18,
    "start_time": "2023-05-27T21:50:17.756Z"
   },
   {
    "duration": 5,
    "start_time": "2023-05-27T21:50:17.775Z"
   },
   {
    "duration": 451,
    "start_time": "2023-05-27T21:50:17.781Z"
   },
   {
    "duration": 208,
    "start_time": "2023-05-27T21:50:18.233Z"
   },
   {
    "duration": 11,
    "start_time": "2023-05-27T21:50:18.442Z"
   },
   {
    "duration": 179,
    "start_time": "2023-05-27T21:50:18.455Z"
   },
   {
    "duration": 5,
    "start_time": "2023-05-27T21:50:18.636Z"
   },
   {
    "duration": 173,
    "start_time": "2023-05-27T21:50:18.650Z"
   },
   {
    "duration": 11,
    "start_time": "2023-05-27T21:50:18.824Z"
   },
   {
    "duration": 23,
    "start_time": "2023-05-27T21:50:18.836Z"
   },
   {
    "duration": 26,
    "start_time": "2023-05-27T21:50:18.860Z"
   },
   {
    "duration": 9,
    "start_time": "2023-05-27T21:50:18.888Z"
   },
   {
    "duration": 185,
    "start_time": "2023-05-27T21:50:18.899Z"
   },
   {
    "duration": 338,
    "start_time": "2023-05-27T21:50:19.085Z"
   },
   {
    "duration": 42,
    "start_time": "2023-05-27T21:50:19.425Z"
   },
   {
    "duration": 500,
    "start_time": "2023-05-27T21:50:19.469Z"
   },
   {
    "duration": 456,
    "start_time": "2023-05-27T21:50:19.971Z"
   },
   {
    "duration": 22,
    "start_time": "2023-05-27T21:50:20.429Z"
   },
   {
    "duration": 17,
    "start_time": "2023-05-27T21:50:20.453Z"
   },
   {
    "duration": 13,
    "start_time": "2023-05-27T21:50:20.472Z"
   },
   {
    "duration": 209,
    "start_time": "2023-05-27T21:50:20.487Z"
   },
   {
    "duration": 11,
    "start_time": "2023-05-27T21:50:20.697Z"
   },
   {
    "duration": 20,
    "start_time": "2023-05-27T21:50:20.710Z"
   },
   {
    "duration": 104,
    "start_time": "2023-05-27T21:51:42.618Z"
   },
   {
    "duration": 317,
    "start_time": "2023-05-27T21:51:51.784Z"
   },
   {
    "duration": 369,
    "start_time": "2023-05-27T21:53:26.526Z"
   },
   {
    "duration": 265,
    "start_time": "2023-05-27T21:54:00.693Z"
   },
   {
    "duration": 213,
    "start_time": "2023-05-27T21:58:05.107Z"
   },
   {
    "duration": 194,
    "start_time": "2023-05-27T21:58:13.632Z"
   },
   {
    "duration": 189,
    "start_time": "2023-05-27T21:58:55.725Z"
   },
   {
    "duration": 1161,
    "start_time": "2023-05-27T22:00:33.586Z"
   },
   {
    "duration": 50,
    "start_time": "2023-05-27T22:00:34.749Z"
   },
   {
    "duration": 23,
    "start_time": "2023-05-27T22:00:34.801Z"
   },
   {
    "duration": 13,
    "start_time": "2023-05-27T22:00:34.826Z"
   },
   {
    "duration": 30,
    "start_time": "2023-05-27T22:00:34.841Z"
   },
   {
    "duration": 722,
    "start_time": "2023-05-27T22:00:34.873Z"
   },
   {
    "duration": 3,
    "start_time": "2023-05-27T22:00:35.597Z"
   },
   {
    "duration": 11,
    "start_time": "2023-05-27T22:00:35.601Z"
   },
   {
    "duration": 14,
    "start_time": "2023-05-27T22:00:35.614Z"
   },
   {
    "duration": 21,
    "start_time": "2023-05-27T22:00:35.629Z"
   },
   {
    "duration": 8,
    "start_time": "2023-05-27T22:00:35.651Z"
   },
   {
    "duration": 20290,
    "start_time": "2023-05-27T22:00:35.660Z"
   },
   {
    "duration": 29,
    "start_time": "2023-05-27T22:00:55.952Z"
   },
   {
    "duration": 6,
    "start_time": "2023-05-27T22:00:55.985Z"
   },
   {
    "duration": 5,
    "start_time": "2023-05-27T22:00:55.993Z"
   },
   {
    "duration": 8,
    "start_time": "2023-05-27T22:00:56.000Z"
   },
   {
    "duration": 3,
    "start_time": "2023-05-27T22:00:56.009Z"
   },
   {
    "duration": 36,
    "start_time": "2023-05-27T22:00:56.014Z"
   },
   {
    "duration": 4,
    "start_time": "2023-05-27T22:00:56.051Z"
   },
   {
    "duration": 7,
    "start_time": "2023-05-27T22:00:56.057Z"
   },
   {
    "duration": 8,
    "start_time": "2023-05-27T22:00:56.065Z"
   },
   {
    "duration": 4,
    "start_time": "2023-05-27T22:00:56.074Z"
   },
   {
    "duration": 13,
    "start_time": "2023-05-27T22:00:56.080Z"
   },
   {
    "duration": 11,
    "start_time": "2023-05-27T22:00:56.094Z"
   },
   {
    "duration": 7,
    "start_time": "2023-05-27T22:00:56.107Z"
   },
   {
    "duration": 40,
    "start_time": "2023-05-27T22:00:56.116Z"
   },
   {
    "duration": 3,
    "start_time": "2023-05-27T22:00:56.157Z"
   },
   {
    "duration": 6,
    "start_time": "2023-05-27T22:00:56.161Z"
   },
   {
    "duration": 9,
    "start_time": "2023-05-27T22:00:56.168Z"
   },
   {
    "duration": 343,
    "start_time": "2023-05-27T22:00:56.178Z"
   },
   {
    "duration": 16,
    "start_time": "2023-05-27T22:00:56.523Z"
   },
   {
    "duration": 292,
    "start_time": "2023-05-27T22:00:56.550Z"
   },
   {
    "duration": 10,
    "start_time": "2023-05-27T22:00:56.844Z"
   },
   {
    "duration": 370,
    "start_time": "2023-05-27T22:00:56.855Z"
   },
   {
    "duration": 7,
    "start_time": "2023-05-27T22:00:57.227Z"
   },
   {
    "duration": 26,
    "start_time": "2023-05-27T22:00:57.236Z"
   },
   {
    "duration": 5,
    "start_time": "2023-05-27T22:00:57.264Z"
   },
   {
    "duration": 429,
    "start_time": "2023-05-27T22:00:57.271Z"
   },
   {
    "duration": 209,
    "start_time": "2023-05-27T22:00:57.702Z"
   },
   {
    "duration": 6,
    "start_time": "2023-05-27T22:00:57.913Z"
   },
   {
    "duration": 188,
    "start_time": "2023-05-27T22:00:57.922Z"
   },
   {
    "duration": 5,
    "start_time": "2023-05-27T22:00:58.111Z"
   },
   {
    "duration": 194,
    "start_time": "2023-05-27T22:00:58.117Z"
   },
   {
    "duration": 10,
    "start_time": "2023-05-27T22:00:58.313Z"
   },
   {
    "duration": 9,
    "start_time": "2023-05-27T22:00:58.325Z"
   },
   {
    "duration": 22,
    "start_time": "2023-05-27T22:00:58.336Z"
   },
   {
    "duration": 11,
    "start_time": "2023-05-27T22:00:58.360Z"
   },
   {
    "duration": 208,
    "start_time": "2023-05-27T22:00:58.373Z"
   },
   {
    "duration": 332,
    "start_time": "2023-05-27T22:00:58.582Z"
   },
   {
    "duration": 47,
    "start_time": "2023-05-27T22:00:58.916Z"
   },
   {
    "duration": 484,
    "start_time": "2023-05-27T22:00:58.964Z"
   },
   {
    "duration": 455,
    "start_time": "2023-05-27T22:00:59.449Z"
   },
   {
    "duration": 16,
    "start_time": "2023-05-27T22:00:59.906Z"
   },
   {
    "duration": 31,
    "start_time": "2023-05-27T22:00:59.924Z"
   },
   {
    "duration": 14,
    "start_time": "2023-05-27T22:00:59.957Z"
   },
   {
    "duration": 224,
    "start_time": "2023-05-27T22:00:59.973Z"
   },
   {
    "duration": 10,
    "start_time": "2023-05-27T22:01:00.198Z"
   },
   {
    "duration": 62,
    "start_time": "2023-05-27T22:01:00.210Z"
   },
   {
    "duration": 1144,
    "start_time": "2023-05-27T22:05:11.045Z"
   },
   {
    "duration": 50,
    "start_time": "2023-05-27T22:05:12.190Z"
   },
   {
    "duration": 25,
    "start_time": "2023-05-27T22:05:12.241Z"
   },
   {
    "duration": 13,
    "start_time": "2023-05-27T22:05:12.268Z"
   },
   {
    "duration": 37,
    "start_time": "2023-05-27T22:05:12.283Z"
   },
   {
    "duration": 747,
    "start_time": "2023-05-27T22:05:12.321Z"
   },
   {
    "duration": 3,
    "start_time": "2023-05-27T22:05:13.070Z"
   },
   {
    "duration": 14,
    "start_time": "2023-05-27T22:05:13.075Z"
   },
   {
    "duration": 16,
    "start_time": "2023-05-27T22:05:13.091Z"
   },
   {
    "duration": 8,
    "start_time": "2023-05-27T22:05:13.109Z"
   },
   {
    "duration": 32,
    "start_time": "2023-05-27T22:05:13.118Z"
   },
   {
    "duration": 19898,
    "start_time": "2023-05-27T22:05:13.152Z"
   },
   {
    "duration": 28,
    "start_time": "2023-05-27T22:05:33.051Z"
   },
   {
    "duration": 7,
    "start_time": "2023-05-27T22:05:33.083Z"
   },
   {
    "duration": 11,
    "start_time": "2023-05-27T22:05:33.091Z"
   },
   {
    "duration": 24,
    "start_time": "2023-05-27T22:05:33.104Z"
   },
   {
    "duration": 6,
    "start_time": "2023-05-27T22:05:33.130Z"
   },
   {
    "duration": 15,
    "start_time": "2023-05-27T22:05:33.138Z"
   },
   {
    "duration": 7,
    "start_time": "2023-05-27T22:05:33.155Z"
   },
   {
    "duration": 7,
    "start_time": "2023-05-27T22:05:33.164Z"
   },
   {
    "duration": 19,
    "start_time": "2023-05-27T22:05:33.173Z"
   },
   {
    "duration": 5,
    "start_time": "2023-05-27T22:05:33.194Z"
   },
   {
    "duration": 22,
    "start_time": "2023-05-27T22:05:33.201Z"
   },
   {
    "duration": 33,
    "start_time": "2023-05-27T22:05:33.225Z"
   },
   {
    "duration": 10,
    "start_time": "2023-05-27T22:05:33.260Z"
   },
   {
    "duration": 12,
    "start_time": "2023-05-27T22:05:33.272Z"
   },
   {
    "duration": 3,
    "start_time": "2023-05-27T22:05:33.286Z"
   },
   {
    "duration": 10,
    "start_time": "2023-05-27T22:05:33.291Z"
   },
   {
    "duration": 8,
    "start_time": "2023-05-27T22:05:33.303Z"
   },
   {
    "duration": 393,
    "start_time": "2023-05-27T22:05:33.313Z"
   },
   {
    "duration": 18,
    "start_time": "2023-05-27T22:05:33.709Z"
   },
   {
    "duration": 304,
    "start_time": "2023-05-27T22:05:33.729Z"
   },
   {
    "duration": 15,
    "start_time": "2023-05-27T22:05:34.036Z"
   },
   {
    "duration": 468,
    "start_time": "2023-05-27T22:05:34.053Z"
   },
   {
    "duration": 5,
    "start_time": "2023-05-27T22:05:34.523Z"
   },
   {
    "duration": 28,
    "start_time": "2023-05-27T22:05:34.529Z"
   },
   {
    "duration": 4,
    "start_time": "2023-05-27T22:05:34.559Z"
   },
   {
    "duration": 419,
    "start_time": "2023-05-27T22:05:34.565Z"
   },
   {
    "duration": 201,
    "start_time": "2023-05-27T22:05:34.985Z"
   },
   {
    "duration": 5,
    "start_time": "2023-05-27T22:05:35.187Z"
   },
   {
    "duration": 196,
    "start_time": "2023-05-27T22:05:35.196Z"
   },
   {
    "duration": 5,
    "start_time": "2023-05-27T22:05:35.394Z"
   },
   {
    "duration": 183,
    "start_time": "2023-05-27T22:05:35.400Z"
   },
   {
    "duration": 10,
    "start_time": "2023-05-27T22:05:35.585Z"
   },
   {
    "duration": 12,
    "start_time": "2023-05-27T22:05:35.597Z"
   },
   {
    "duration": 10,
    "start_time": "2023-05-27T22:05:35.610Z"
   },
   {
    "duration": 36,
    "start_time": "2023-05-27T22:05:35.621Z"
   },
   {
    "duration": 180,
    "start_time": "2023-05-27T22:05:35.659Z"
   },
   {
    "duration": 331,
    "start_time": "2023-05-27T22:05:35.841Z"
   },
   {
    "duration": 33,
    "start_time": "2023-05-27T22:05:36.173Z"
   },
   {
    "duration": 516,
    "start_time": "2023-05-27T22:05:36.207Z"
   },
   {
    "duration": 455,
    "start_time": "2023-05-27T22:05:36.724Z"
   },
   {
    "duration": 15,
    "start_time": "2023-05-27T22:05:37.181Z"
   },
   {
    "duration": 18,
    "start_time": "2023-05-27T22:05:37.198Z"
   },
   {
    "duration": 41,
    "start_time": "2023-05-27T22:05:37.217Z"
   },
   {
    "duration": 259,
    "start_time": "2023-05-27T22:05:37.261Z"
   },
   {
    "duration": 11,
    "start_time": "2023-05-27T22:05:37.521Z"
   },
   {
    "duration": 23,
    "start_time": "2023-05-27T22:05:37.535Z"
   },
   {
    "duration": 1155,
    "start_time": "2024-03-17T10:41:03.477Z"
   },
   {
    "duration": 100,
    "start_time": "2024-03-17T10:41:14.761Z"
   },
   {
    "duration": 23,
    "start_time": "2024-03-17T10:41:15.462Z"
   },
   {
    "duration": 52,
    "start_time": "2024-03-17T10:41:24.147Z"
   },
   {
    "duration": 24,
    "start_time": "2024-03-17T10:41:25.039Z"
   },
   {
    "duration": 14,
    "start_time": "2024-08-31T16:17:22.275Z"
   },
   {
    "duration": 3,
    "start_time": "2024-08-31T16:17:46.569Z"
   },
   {
    "duration": 4,
    "start_time": "2024-08-31T16:17:58.234Z"
   },
   {
    "duration": 3,
    "start_time": "2024-08-31T16:18:11.055Z"
   },
   {
    "duration": 1071,
    "start_time": "2024-08-31T16:23:56.791Z"
   },
   {
    "duration": 1138,
    "start_time": "2024-08-31T16:24:09.482Z"
   },
   {
    "duration": 2300,
    "start_time": "2024-08-31T16:24:24.165Z"
   },
   {
    "duration": 1017,
    "start_time": "2024-08-31T16:25:12.292Z"
   },
   {
    "duration": 49,
    "start_time": "2024-08-31T16:25:29.365Z"
   },
   {
    "duration": 41,
    "start_time": "2024-08-31T16:25:33.475Z"
   },
   {
    "duration": 1059,
    "start_time": "2024-08-31T16:26:31.322Z"
   },
   {
    "duration": 1083,
    "start_time": "2024-08-31T16:27:06.438Z"
   },
   {
    "duration": 45,
    "start_time": "2024-08-31T16:27:55.102Z"
   },
   {
    "duration": 7,
    "start_time": "2024-08-31T16:27:59.488Z"
   },
   {
    "duration": 7,
    "start_time": "2024-08-31T16:28:27.608Z"
   },
   {
    "duration": 122,
    "start_time": "2024-08-31T16:28:35.457Z"
   },
   {
    "duration": 4311,
    "start_time": "2024-08-31T16:28:41.453Z"
   },
   {
    "duration": 1018,
    "start_time": "2024-08-31T16:28:53.992Z"
   },
   {
    "duration": 10,
    "start_time": "2024-08-31T16:29:02.037Z"
   },
   {
    "duration": 11,
    "start_time": "2024-08-31T16:30:22.294Z"
   },
   {
    "duration": 2172,
    "start_time": "2024-08-31T16:31:27.626Z"
   },
   {
    "duration": 11,
    "start_time": "2024-08-31T16:32:22.159Z"
   },
   {
    "duration": 11,
    "start_time": "2024-08-31T16:33:36.461Z"
   },
   {
    "duration": 1071,
    "start_time": "2024-08-31T16:33:43.225Z"
   },
   {
    "duration": 117,
    "start_time": "2024-08-31T16:33:55.355Z"
   },
   {
    "duration": 94,
    "start_time": "2024-08-31T16:34:28.282Z"
   },
   {
    "duration": 46,
    "start_time": "2024-08-31T16:34:47.473Z"
   },
   {
    "duration": 121,
    "start_time": "2024-08-31T16:34:59.958Z"
   },
   {
    "duration": 2134,
    "start_time": "2024-08-31T16:35:31.141Z"
   },
   {
    "duration": 52,
    "start_time": "2024-08-31T16:36:31.888Z"
   },
   {
    "duration": 86,
    "start_time": "2024-08-31T16:36:48.772Z"
   },
   {
    "duration": 6,
    "start_time": "2024-08-31T16:36:57.216Z"
   },
   {
    "duration": 7,
    "start_time": "2024-08-31T16:37:17.056Z"
   },
   {
    "duration": 83,
    "start_time": "2024-08-31T16:37:32.620Z"
   },
   {
    "duration": 10,
    "start_time": "2024-08-31T16:39:42.392Z"
   },
   {
    "duration": 11,
    "start_time": "2024-08-31T16:41:30.745Z"
   },
   {
    "duration": 61,
    "start_time": "2024-08-31T16:42:17.015Z"
   },
   {
    "duration": 3,
    "start_time": "2024-08-31T16:42:25.710Z"
   },
   {
    "duration": 1081,
    "start_time": "2024-08-31T16:42:30.938Z"
   },
   {
    "duration": 10,
    "start_time": "2024-08-31T16:42:42.965Z"
   },
   {
    "duration": 10,
    "start_time": "2024-08-31T16:42:54.261Z"
   },
   {
    "duration": 1132,
    "start_time": "2024-08-31T16:42:58.361Z"
   },
   {
    "duration": 3,
    "start_time": "2024-08-31T16:43:14.885Z"
   },
   {
    "duration": 76,
    "start_time": "2024-08-31T16:43:28.415Z"
   },
   {
    "duration": 1053,
    "start_time": "2024-08-31T16:43:34.110Z"
   },
   {
    "duration": 10,
    "start_time": "2024-08-31T16:43:38.895Z"
   }
  ],
  "kernelspec": {
   "display_name": "Python 3 (ipykernel)",
   "language": "python",
   "name": "python3"
  },
  "language_info": {
   "codemirror_mode": {
    "name": "ipython",
    "version": 3
   },
   "file_extension": ".py",
   "mimetype": "text/x-python",
   "name": "python",
   "nbconvert_exporter": "python",
   "pygments_lexer": "ipython3",
   "version": "3.9.16"
  },
  "toc": {
   "base_numbering": 1,
   "nav_menu": {},
   "number_sections": true,
   "sideBar": true,
   "skip_h1_title": true,
   "title_cell": "Table of Contents",
   "title_sidebar": "Contents",
   "toc_cell": false,
   "toc_position": {
    "height": "calc(100% - 180px)",
    "left": "10px",
    "top": "150px",
    "width": "290.875px"
   },
   "toc_section_display": true,
   "toc_window_display": false
  }
 },
 "nbformat": 4,
 "nbformat_minor": 2
}
