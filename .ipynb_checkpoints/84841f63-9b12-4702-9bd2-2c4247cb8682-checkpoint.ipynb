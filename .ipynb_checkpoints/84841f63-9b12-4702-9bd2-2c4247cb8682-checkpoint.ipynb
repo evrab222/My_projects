{
 "cells": [
  {
   "cell_type": "markdown",
   "id": "8f087ed4",
   "metadata": {},
   "source": [
    "#  Исследование сервиса аренды самокатов GoFast.\n",
    "В вашем распоряжении данные о некоторых пользователях из нескольких городов, а также об их поездках. Нужно проанализировать данные и проверить некоторые гипотезы, которые могут помочь бизнесу вырасти.Из данных у нас в наличии три таблицы,первая с данными о пользователях,вторая с поездками пользователей и третья с тарифами(с подпиской и без нее).Нужно будет загрузить данные,проверить их на пропуски и дубликаты,провести анализ данных,добавить новые столбцы,объеденить таблицы,посчитать выручку и проверить гипотезы."
   ]
  },
  {
   "cell_type": "markdown",
   "id": "c42cbe00",
   "metadata": {},
   "source": [
    "#### Шаг 1. Загрузка данных"
   ]
  },
  {
   "cell_type": "code",
   "execution_count": 1,
   "id": "72576667",
   "metadata": {},
   "outputs": [],
   "source": [
    "import pandas as pd\n",
    "\n",
    "import numpy as np\n",
    "\n",
    "from scipy import stats as st\n",
    "\n",
    "import matplotlib.pyplot as plt"
   ]
  },
  {
   "cell_type": "code",
   "execution_count": 2,
   "id": "eff9f206",
   "metadata": {},
   "outputs": [],
   "source": [
    "try:\n",
    "    users = pd.read_csv('/datasets/users_go.csv', sep=',')\n",
    "    rides = pd.read_csv('/datasets/rides_go.csv', sep=',')\n",
    "    subscriptions = pd.read_csv('/datasets/subscriptions_go.csv', sep=',')\n",
    "except:\n",
    "    users = pd.read_csv('/datasets/users_go.csv', sep=',')\n",
    "    rides = pd.read_csv('/datasets/rides_go.csv', sep=',')\n",
    "    subscriptions = pd.read_csv('/datasets/subscriptions_go.csv', sep=',')"
   ]
  },
  {
   "cell_type": "code",
   "execution_count": 3,
   "id": "80fe750e",
   "metadata": {},
   "outputs": [
    {
     "data": {
      "text/html": [
       "<div>\n",
       "<style scoped>\n",
       "    .dataframe tbody tr th:only-of-type {\n",
       "        vertical-align: middle;\n",
       "    }\n",
       "\n",
       "    .dataframe tbody tr th {\n",
       "        vertical-align: top;\n",
       "    }\n",
       "\n",
       "    .dataframe thead th {\n",
       "        text-align: right;\n",
       "    }\n",
       "</style>\n",
       "<table border=\"1\" class=\"dataframe\">\n",
       "  <thead>\n",
       "    <tr style=\"text-align: right;\">\n",
       "      <th></th>\n",
       "      <th>user_id</th>\n",
       "      <th>name</th>\n",
       "      <th>age</th>\n",
       "      <th>city</th>\n",
       "      <th>subscription_type</th>\n",
       "    </tr>\n",
       "  </thead>\n",
       "  <tbody>\n",
       "    <tr>\n",
       "      <th>0</th>\n",
       "      <td>1</td>\n",
       "      <td>Кира</td>\n",
       "      <td>22</td>\n",
       "      <td>Тюмень</td>\n",
       "      <td>ultra</td>\n",
       "    </tr>\n",
       "    <tr>\n",
       "      <th>1</th>\n",
       "      <td>2</td>\n",
       "      <td>Станислав</td>\n",
       "      <td>31</td>\n",
       "      <td>Омск</td>\n",
       "      <td>ultra</td>\n",
       "    </tr>\n",
       "    <tr>\n",
       "      <th>2</th>\n",
       "      <td>3</td>\n",
       "      <td>Алексей</td>\n",
       "      <td>20</td>\n",
       "      <td>Москва</td>\n",
       "      <td>ultra</td>\n",
       "    </tr>\n",
       "    <tr>\n",
       "      <th>3</th>\n",
       "      <td>4</td>\n",
       "      <td>Константин</td>\n",
       "      <td>26</td>\n",
       "      <td>Ростов-на-Дону</td>\n",
       "      <td>ultra</td>\n",
       "    </tr>\n",
       "    <tr>\n",
       "      <th>4</th>\n",
       "      <td>5</td>\n",
       "      <td>Адель</td>\n",
       "      <td>28</td>\n",
       "      <td>Омск</td>\n",
       "      <td>ultra</td>\n",
       "    </tr>\n",
       "    <tr>\n",
       "      <th>5</th>\n",
       "      <td>6</td>\n",
       "      <td>Регина</td>\n",
       "      <td>25</td>\n",
       "      <td>Краснодар</td>\n",
       "      <td>ultra</td>\n",
       "    </tr>\n",
       "    <tr>\n",
       "      <th>6</th>\n",
       "      <td>7</td>\n",
       "      <td>Игорь</td>\n",
       "      <td>23</td>\n",
       "      <td>Омск</td>\n",
       "      <td>ultra</td>\n",
       "    </tr>\n",
       "    <tr>\n",
       "      <th>7</th>\n",
       "      <td>8</td>\n",
       "      <td>Юрий</td>\n",
       "      <td>23</td>\n",
       "      <td>Краснодар</td>\n",
       "      <td>ultra</td>\n",
       "    </tr>\n",
       "    <tr>\n",
       "      <th>8</th>\n",
       "      <td>9</td>\n",
       "      <td>Ян</td>\n",
       "      <td>21</td>\n",
       "      <td>Пятигорск</td>\n",
       "      <td>ultra</td>\n",
       "    </tr>\n",
       "    <tr>\n",
       "      <th>9</th>\n",
       "      <td>10</td>\n",
       "      <td>Валерий</td>\n",
       "      <td>18</td>\n",
       "      <td>Екатеринбург</td>\n",
       "      <td>ultra</td>\n",
       "    </tr>\n",
       "  </tbody>\n",
       "</table>\n",
       "</div>"
      ],
      "text/plain": [
       "   user_id        name  age            city subscription_type\n",
       "0        1        Кира   22          Тюмень             ultra\n",
       "1        2   Станислав   31            Омск             ultra\n",
       "2        3     Алексей   20          Москва             ultra\n",
       "3        4  Константин   26  Ростов-на-Дону             ultra\n",
       "4        5       Адель   28            Омск             ultra\n",
       "5        6      Регина   25       Краснодар             ultra\n",
       "6        7       Игорь   23            Омск             ultra\n",
       "7        8        Юрий   23       Краснодар             ultra\n",
       "8        9          Ян   21       Пятигорск             ultra\n",
       "9       10     Валерий   18    Екатеринбург             ultra"
      ]
     },
     "execution_count": 3,
     "metadata": {},
     "output_type": "execute_result"
    }
   ],
   "source": [
    "users.head(10)"
   ]
  },
  {
   "cell_type": "code",
   "execution_count": 4,
   "id": "3d145edd",
   "metadata": {},
   "outputs": [
    {
     "name": "stdout",
     "output_type": "stream",
     "text": [
      "<class 'pandas.core.frame.DataFrame'>\n",
      "RangeIndex: 1565 entries, 0 to 1564\n",
      "Data columns (total 5 columns):\n",
      " #   Column             Non-Null Count  Dtype \n",
      "---  ------             --------------  ----- \n",
      " 0   user_id            1565 non-null   int64 \n",
      " 1   name               1565 non-null   object\n",
      " 2   age                1565 non-null   int64 \n",
      " 3   city               1565 non-null   object\n",
      " 4   subscription_type  1565 non-null   object\n",
      "dtypes: int64(2), object(3)\n",
      "memory usage: 61.3+ KB\n"
     ]
    }
   ],
   "source": [
    "users.info()"
   ]
  },
  {
   "cell_type": "code",
   "execution_count": 5,
   "id": "d9f7348a",
   "metadata": {},
   "outputs": [
    {
     "data": {
      "text/html": [
       "<div>\n",
       "<style scoped>\n",
       "    .dataframe tbody tr th:only-of-type {\n",
       "        vertical-align: middle;\n",
       "    }\n",
       "\n",
       "    .dataframe tbody tr th {\n",
       "        vertical-align: top;\n",
       "    }\n",
       "\n",
       "    .dataframe thead th {\n",
       "        text-align: right;\n",
       "    }\n",
       "</style>\n",
       "<table border=\"1\" class=\"dataframe\">\n",
       "  <thead>\n",
       "    <tr style=\"text-align: right;\">\n",
       "      <th></th>\n",
       "      <th>user_id</th>\n",
       "      <th>distance</th>\n",
       "      <th>duration</th>\n",
       "      <th>date</th>\n",
       "    </tr>\n",
       "  </thead>\n",
       "  <tbody>\n",
       "    <tr>\n",
       "      <th>0</th>\n",
       "      <td>1</td>\n",
       "      <td>4409.919140</td>\n",
       "      <td>25.599769</td>\n",
       "      <td>2021-01-01</td>\n",
       "    </tr>\n",
       "    <tr>\n",
       "      <th>1</th>\n",
       "      <td>1</td>\n",
       "      <td>2617.592153</td>\n",
       "      <td>15.816871</td>\n",
       "      <td>2021-01-18</td>\n",
       "    </tr>\n",
       "    <tr>\n",
       "      <th>2</th>\n",
       "      <td>1</td>\n",
       "      <td>754.159807</td>\n",
       "      <td>6.232113</td>\n",
       "      <td>2021-04-20</td>\n",
       "    </tr>\n",
       "    <tr>\n",
       "      <th>3</th>\n",
       "      <td>1</td>\n",
       "      <td>2694.783254</td>\n",
       "      <td>18.511000</td>\n",
       "      <td>2021-08-11</td>\n",
       "    </tr>\n",
       "    <tr>\n",
       "      <th>4</th>\n",
       "      <td>1</td>\n",
       "      <td>4028.687306</td>\n",
       "      <td>26.265803</td>\n",
       "      <td>2021-08-28</td>\n",
       "    </tr>\n",
       "    <tr>\n",
       "      <th>5</th>\n",
       "      <td>1</td>\n",
       "      <td>2770.890808</td>\n",
       "      <td>16.650138</td>\n",
       "      <td>2021-10-09</td>\n",
       "    </tr>\n",
       "    <tr>\n",
       "      <th>6</th>\n",
       "      <td>1</td>\n",
       "      <td>3039.020292</td>\n",
       "      <td>14.927879</td>\n",
       "      <td>2021-10-19</td>\n",
       "    </tr>\n",
       "    <tr>\n",
       "      <th>7</th>\n",
       "      <td>1</td>\n",
       "      <td>2842.118050</td>\n",
       "      <td>23.117468</td>\n",
       "      <td>2021-11-06</td>\n",
       "    </tr>\n",
       "    <tr>\n",
       "      <th>8</th>\n",
       "      <td>1</td>\n",
       "      <td>3412.690668</td>\n",
       "      <td>15.238072</td>\n",
       "      <td>2021-11-14</td>\n",
       "    </tr>\n",
       "    <tr>\n",
       "      <th>9</th>\n",
       "      <td>1</td>\n",
       "      <td>748.690645</td>\n",
       "      <td>15.041884</td>\n",
       "      <td>2021-11-22</td>\n",
       "    </tr>\n",
       "    <tr>\n",
       "      <th>10</th>\n",
       "      <td>1</td>\n",
       "      <td>4031.020195</td>\n",
       "      <td>17.674448</td>\n",
       "      <td>2021-12-14</td>\n",
       "    </tr>\n",
       "    <tr>\n",
       "      <th>11</th>\n",
       "      <td>1</td>\n",
       "      <td>2720.609748</td>\n",
       "      <td>9.529463</td>\n",
       "      <td>2021-12-22</td>\n",
       "    </tr>\n",
       "    <tr>\n",
       "      <th>12</th>\n",
       "      <td>2</td>\n",
       "      <td>3105.086678</td>\n",
       "      <td>24.307514</td>\n",
       "      <td>2021-03-15</td>\n",
       "    </tr>\n",
       "    <tr>\n",
       "      <th>13</th>\n",
       "      <td>2</td>\n",
       "      <td>3053.519401</td>\n",
       "      <td>11.543256</td>\n",
       "      <td>2021-03-18</td>\n",
       "    </tr>\n",
       "    <tr>\n",
       "      <th>14</th>\n",
       "      <td>2</td>\n",
       "      <td>4029.116927</td>\n",
       "      <td>25.109188</td>\n",
       "      <td>2021-03-23</td>\n",
       "    </tr>\n",
       "    <tr>\n",
       "      <th>15</th>\n",
       "      <td>2</td>\n",
       "      <td>2805.786329</td>\n",
       "      <td>20.652145</td>\n",
       "      <td>2021-04-08</td>\n",
       "    </tr>\n",
       "    <tr>\n",
       "      <th>16</th>\n",
       "      <td>2</td>\n",
       "      <td>3358.595495</td>\n",
       "      <td>18.396489</td>\n",
       "      <td>2021-04-13</td>\n",
       "    </tr>\n",
       "    <tr>\n",
       "      <th>17</th>\n",
       "      <td>2</td>\n",
       "      <td>3255.338202</td>\n",
       "      <td>13.851127</td>\n",
       "      <td>2021-06-20</td>\n",
       "    </tr>\n",
       "    <tr>\n",
       "      <th>18</th>\n",
       "      <td>2</td>\n",
       "      <td>3942.817648</td>\n",
       "      <td>20.142725</td>\n",
       "      <td>2021-07-02</td>\n",
       "    </tr>\n",
       "    <tr>\n",
       "      <th>19</th>\n",
       "      <td>2</td>\n",
       "      <td>2837.905316</td>\n",
       "      <td>26.027432</td>\n",
       "      <td>2021-07-18</td>\n",
       "    </tr>\n",
       "    <tr>\n",
       "      <th>20</th>\n",
       "      <td>2</td>\n",
       "      <td>923.007439</td>\n",
       "      <td>6.914760</td>\n",
       "      <td>2021-08-03</td>\n",
       "    </tr>\n",
       "    <tr>\n",
       "      <th>21</th>\n",
       "      <td>2</td>\n",
       "      <td>2824.636598</td>\n",
       "      <td>18.779128</td>\n",
       "      <td>2021-10-27</td>\n",
       "    </tr>\n",
       "    <tr>\n",
       "      <th>22</th>\n",
       "      <td>2</td>\n",
       "      <td>3828.248580</td>\n",
       "      <td>11.920514</td>\n",
       "      <td>2021-12-18</td>\n",
       "    </tr>\n",
       "    <tr>\n",
       "      <th>23</th>\n",
       "      <td>3</td>\n",
       "      <td>3061.777147</td>\n",
       "      <td>12.654443</td>\n",
       "      <td>2021-01-31</td>\n",
       "    </tr>\n",
       "    <tr>\n",
       "      <th>24</th>\n",
       "      <td>3</td>\n",
       "      <td>2560.495330</td>\n",
       "      <td>16.534984</td>\n",
       "      <td>2021-02-24</td>\n",
       "    </tr>\n",
       "    <tr>\n",
       "      <th>25</th>\n",
       "      <td>3</td>\n",
       "      <td>2860.656686</td>\n",
       "      <td>21.033653</td>\n",
       "      <td>2021-02-26</td>\n",
       "    </tr>\n",
       "    <tr>\n",
       "      <th>26</th>\n",
       "      <td>3</td>\n",
       "      <td>2956.651632</td>\n",
       "      <td>20.671364</td>\n",
       "      <td>2021-04-12</td>\n",
       "    </tr>\n",
       "    <tr>\n",
       "      <th>27</th>\n",
       "      <td>3</td>\n",
       "      <td>2756.975841</td>\n",
       "      <td>18.519025</td>\n",
       "      <td>2021-05-07</td>\n",
       "    </tr>\n",
       "    <tr>\n",
       "      <th>28</th>\n",
       "      <td>3</td>\n",
       "      <td>2837.317332</td>\n",
       "      <td>24.476276</td>\n",
       "      <td>2021-05-21</td>\n",
       "    </tr>\n",
       "    <tr>\n",
       "      <th>29</th>\n",
       "      <td>3</td>\n",
       "      <td>3469.733745</td>\n",
       "      <td>18.409201</td>\n",
       "      <td>2021-05-22</td>\n",
       "    </tr>\n",
       "  </tbody>\n",
       "</table>\n",
       "</div>"
      ],
      "text/plain": [
       "    user_id     distance   duration        date\n",
       "0         1  4409.919140  25.599769  2021-01-01\n",
       "1         1  2617.592153  15.816871  2021-01-18\n",
       "2         1   754.159807   6.232113  2021-04-20\n",
       "3         1  2694.783254  18.511000  2021-08-11\n",
       "4         1  4028.687306  26.265803  2021-08-28\n",
       "5         1  2770.890808  16.650138  2021-10-09\n",
       "6         1  3039.020292  14.927879  2021-10-19\n",
       "7         1  2842.118050  23.117468  2021-11-06\n",
       "8         1  3412.690668  15.238072  2021-11-14\n",
       "9         1   748.690645  15.041884  2021-11-22\n",
       "10        1  4031.020195  17.674448  2021-12-14\n",
       "11        1  2720.609748   9.529463  2021-12-22\n",
       "12        2  3105.086678  24.307514  2021-03-15\n",
       "13        2  3053.519401  11.543256  2021-03-18\n",
       "14        2  4029.116927  25.109188  2021-03-23\n",
       "15        2  2805.786329  20.652145  2021-04-08\n",
       "16        2  3358.595495  18.396489  2021-04-13\n",
       "17        2  3255.338202  13.851127  2021-06-20\n",
       "18        2  3942.817648  20.142725  2021-07-02\n",
       "19        2  2837.905316  26.027432  2021-07-18\n",
       "20        2   923.007439   6.914760  2021-08-03\n",
       "21        2  2824.636598  18.779128  2021-10-27\n",
       "22        2  3828.248580  11.920514  2021-12-18\n",
       "23        3  3061.777147  12.654443  2021-01-31\n",
       "24        3  2560.495330  16.534984  2021-02-24\n",
       "25        3  2860.656686  21.033653  2021-02-26\n",
       "26        3  2956.651632  20.671364  2021-04-12\n",
       "27        3  2756.975841  18.519025  2021-05-07\n",
       "28        3  2837.317332  24.476276  2021-05-21\n",
       "29        3  3469.733745  18.409201  2021-05-22"
      ]
     },
     "execution_count": 5,
     "metadata": {},
     "output_type": "execute_result"
    }
   ],
   "source": [
    "rides.head(30)"
   ]
  },
  {
   "cell_type": "code",
   "execution_count": 6,
   "id": "893391ef",
   "metadata": {},
   "outputs": [
    {
     "name": "stdout",
     "output_type": "stream",
     "text": [
      "<class 'pandas.core.frame.DataFrame'>\n",
      "RangeIndex: 18068 entries, 0 to 18067\n",
      "Data columns (total 4 columns):\n",
      " #   Column    Non-Null Count  Dtype  \n",
      "---  ------    --------------  -----  \n",
      " 0   user_id   18068 non-null  int64  \n",
      " 1   distance  18068 non-null  float64\n",
      " 2   duration  18068 non-null  float64\n",
      " 3   date      18068 non-null  object \n",
      "dtypes: float64(2), int64(1), object(1)\n",
      "memory usage: 564.8+ KB\n"
     ]
    }
   ],
   "source": [
    "rides.info()"
   ]
  },
  {
   "cell_type": "code",
   "execution_count": 7,
   "id": "5a63eb7e",
   "metadata": {},
   "outputs": [
    {
     "data": {
      "text/html": [
       "<div>\n",
       "<style scoped>\n",
       "    .dataframe tbody tr th:only-of-type {\n",
       "        vertical-align: middle;\n",
       "    }\n",
       "\n",
       "    .dataframe tbody tr th {\n",
       "        vertical-align: top;\n",
       "    }\n",
       "\n",
       "    .dataframe thead th {\n",
       "        text-align: right;\n",
       "    }\n",
       "</style>\n",
       "<table border=\"1\" class=\"dataframe\">\n",
       "  <thead>\n",
       "    <tr style=\"text-align: right;\">\n",
       "      <th></th>\n",
       "      <th>subscription_type</th>\n",
       "      <th>minute_price</th>\n",
       "      <th>start_ride_price</th>\n",
       "      <th>subscription_fee</th>\n",
       "    </tr>\n",
       "  </thead>\n",
       "  <tbody>\n",
       "    <tr>\n",
       "      <th>0</th>\n",
       "      <td>free</td>\n",
       "      <td>8</td>\n",
       "      <td>50</td>\n",
       "      <td>0</td>\n",
       "    </tr>\n",
       "    <tr>\n",
       "      <th>1</th>\n",
       "      <td>ultra</td>\n",
       "      <td>6</td>\n",
       "      <td>0</td>\n",
       "      <td>199</td>\n",
       "    </tr>\n",
       "  </tbody>\n",
       "</table>\n",
       "</div>"
      ],
      "text/plain": [
       "  subscription_type  minute_price  start_ride_price  subscription_fee\n",
       "0              free             8                50                 0\n",
       "1             ultra             6                 0               199"
      ]
     },
     "execution_count": 7,
     "metadata": {},
     "output_type": "execute_result"
    }
   ],
   "source": [
    "subscriptions"
   ]
  },
  {
   "cell_type": "markdown",
   "id": "f12a984b",
   "metadata": {},
   "source": [
    "**Вывод:** Мы имеем дело с тремя таблицами. В первой данные о пользователях, уникальный идентификатор пользователя, имя пользователя, возраст, город и тип подписки. Во второй данные о поездках, расстояние, продолжительность и дата сесии. В третьей тариф компании для пользователей с подпиской и без нее. Число пользоватей состовляет 1565 человек, каждый в среднем пользовался сервисом около 12 раз, есть те кто пользуется с подпиской и без нее, данные за 2021 год.\n"
   ]
  },
  {
   "cell_type": "markdown",
   "id": "e95ebca7",
   "metadata": {},
   "source": [
    "#### Предобработка данных"
   ]
  },
  {
   "cell_type": "markdown",
   "id": "0cb190c5",
   "metadata": {},
   "source": [
    "##### Работа со столбцом date"
   ]
  },
  {
   "cell_type": "code",
   "execution_count": 8,
   "id": "a6692a88",
   "metadata": {},
   "outputs": [],
   "source": [
    "rides['date'] = pd.to_datetime(rides['date'])"
   ]
  },
  {
   "cell_type": "markdown",
   "id": "36c034af",
   "metadata": {},
   "source": [
    "#####  Создание нового столбца с номером месяца"
   ]
  },
  {
   "cell_type": "code",
   "execution_count": 9,
   "id": "5c2b83bb",
   "metadata": {},
   "outputs": [],
   "source": [
    "rides['month'] = rides['date'].dt.month"
   ]
  },
  {
   "cell_type": "markdown",
   "id": "2b6a1533",
   "metadata": {},
   "source": [
    "##### Проверка наличия пропущенных значений и дубликатов в датафреймах."
   ]
  },
  {
   "cell_type": "code",
   "execution_count": 10,
   "id": "ece7c15a",
   "metadata": {},
   "outputs": [
    {
     "data": {
      "text/plain": [
       "user_id              0\n",
       "name                 0\n",
       "age                  0\n",
       "city                 0\n",
       "subscription_type    0\n",
       "dtype: int64"
      ]
     },
     "execution_count": 10,
     "metadata": {},
     "output_type": "execute_result"
    }
   ],
   "source": [
    "users.isna().sum()"
   ]
  },
  {
   "cell_type": "code",
   "execution_count": 11,
   "id": "c6f96720",
   "metadata": {},
   "outputs": [
    {
     "data": {
      "text/plain": [
       "user_id     0\n",
       "distance    0\n",
       "duration    0\n",
       "date        0\n",
       "month       0\n",
       "dtype: int64"
      ]
     },
     "execution_count": 11,
     "metadata": {},
     "output_type": "execute_result"
    }
   ],
   "source": [
    "rides.isna().sum()"
   ]
  },
  {
   "cell_type": "code",
   "execution_count": 12,
   "id": "a5f171f1",
   "metadata": {},
   "outputs": [
    {
     "data": {
      "text/plain": [
       "0"
      ]
     },
     "execution_count": 12,
     "metadata": {},
     "output_type": "execute_result"
    }
   ],
   "source": [
    "rides.duplicated().sum()"
   ]
  },
  {
   "cell_type": "code",
   "execution_count": 13,
   "id": "0f39a326",
   "metadata": {},
   "outputs": [
    {
     "data": {
      "text/plain": [
       "31"
      ]
     },
     "execution_count": 13,
     "metadata": {},
     "output_type": "execute_result"
    }
   ],
   "source": [
    "users.duplicated().sum()"
   ]
  },
  {
   "cell_type": "code",
   "execution_count": 14,
   "id": "7f8eb116",
   "metadata": {
    "scrolled": true
   },
   "outputs": [
    {
     "data": {
      "text/html": [
       "<div>\n",
       "<style scoped>\n",
       "    .dataframe tbody tr th:only-of-type {\n",
       "        vertical-align: middle;\n",
       "    }\n",
       "\n",
       "    .dataframe tbody tr th {\n",
       "        vertical-align: top;\n",
       "    }\n",
       "\n",
       "    .dataframe thead th {\n",
       "        text-align: right;\n",
       "    }\n",
       "</style>\n",
       "<table border=\"1\" class=\"dataframe\">\n",
       "  <thead>\n",
       "    <tr style=\"text-align: right;\">\n",
       "      <th></th>\n",
       "      <th>user_id</th>\n",
       "      <th>name</th>\n",
       "      <th>age</th>\n",
       "      <th>city</th>\n",
       "      <th>subscription_type</th>\n",
       "    </tr>\n",
       "  </thead>\n",
       "  <tbody>\n",
       "    <tr>\n",
       "      <th>15</th>\n",
       "      <td>16</td>\n",
       "      <td>Амалия</td>\n",
       "      <td>27</td>\n",
       "      <td>Краснодар</td>\n",
       "      <td>ultra</td>\n",
       "    </tr>\n",
       "    <tr>\n",
       "      <th>42</th>\n",
       "      <td>43</td>\n",
       "      <td>Стефания</td>\n",
       "      <td>22</td>\n",
       "      <td>Омск</td>\n",
       "      <td>ultra</td>\n",
       "    </tr>\n",
       "    <tr>\n",
       "      <th>46</th>\n",
       "      <td>47</td>\n",
       "      <td>Юрий</td>\n",
       "      <td>28</td>\n",
       "      <td>Тюмень</td>\n",
       "      <td>ultra</td>\n",
       "    </tr>\n",
       "    <tr>\n",
       "      <th>71</th>\n",
       "      <td>72</td>\n",
       "      <td>Никита</td>\n",
       "      <td>25</td>\n",
       "      <td>Москва</td>\n",
       "      <td>ultra</td>\n",
       "    </tr>\n",
       "    <tr>\n",
       "      <th>107</th>\n",
       "      <td>108</td>\n",
       "      <td>Влада</td>\n",
       "      <td>29</td>\n",
       "      <td>Тюмень</td>\n",
       "      <td>ultra</td>\n",
       "    </tr>\n",
       "    <tr>\n",
       "      <th>120</th>\n",
       "      <td>121</td>\n",
       "      <td>Алина</td>\n",
       "      <td>25</td>\n",
       "      <td>Пятигорск</td>\n",
       "      <td>ultra</td>\n",
       "    </tr>\n",
       "    <tr>\n",
       "      <th>126</th>\n",
       "      <td>127</td>\n",
       "      <td>Павел</td>\n",
       "      <td>25</td>\n",
       "      <td>Пятигорск</td>\n",
       "      <td>ultra</td>\n",
       "    </tr>\n",
       "    <tr>\n",
       "      <th>135</th>\n",
       "      <td>136</td>\n",
       "      <td>Марсель</td>\n",
       "      <td>25</td>\n",
       "      <td>Тюмень</td>\n",
       "      <td>ultra</td>\n",
       "    </tr>\n",
       "    <tr>\n",
       "      <th>152</th>\n",
       "      <td>153</td>\n",
       "      <td>Герман</td>\n",
       "      <td>23</td>\n",
       "      <td>Москва</td>\n",
       "      <td>ultra</td>\n",
       "    </tr>\n",
       "    <tr>\n",
       "      <th>203</th>\n",
       "      <td>204</td>\n",
       "      <td>Руслан</td>\n",
       "      <td>30</td>\n",
       "      <td>Пятигорск</td>\n",
       "      <td>ultra</td>\n",
       "    </tr>\n",
       "    <tr>\n",
       "      <th>208</th>\n",
       "      <td>209</td>\n",
       "      <td>Андрей</td>\n",
       "      <td>23</td>\n",
       "      <td>Омск</td>\n",
       "      <td>ultra</td>\n",
       "    </tr>\n",
       "    <tr>\n",
       "      <th>292</th>\n",
       "      <td>293</td>\n",
       "      <td>Агата</td>\n",
       "      <td>26</td>\n",
       "      <td>Краснодар</td>\n",
       "      <td>ultra</td>\n",
       "    </tr>\n",
       "    <tr>\n",
       "      <th>296</th>\n",
       "      <td>297</td>\n",
       "      <td>Егор</td>\n",
       "      <td>33</td>\n",
       "      <td>Пятигорск</td>\n",
       "      <td>ultra</td>\n",
       "    </tr>\n",
       "    <tr>\n",
       "      <th>306</th>\n",
       "      <td>307</td>\n",
       "      <td>Ясмина</td>\n",
       "      <td>19</td>\n",
       "      <td>Краснодар</td>\n",
       "      <td>ultra</td>\n",
       "    </tr>\n",
       "    <tr>\n",
       "      <th>402</th>\n",
       "      <td>403</td>\n",
       "      <td>Полина</td>\n",
       "      <td>19</td>\n",
       "      <td>Сочи</td>\n",
       "      <td>ultra</td>\n",
       "    </tr>\n",
       "    <tr>\n",
       "      <th>421</th>\n",
       "      <td>422</td>\n",
       "      <td>Кирилл</td>\n",
       "      <td>27</td>\n",
       "      <td>Сочи</td>\n",
       "      <td>ultra</td>\n",
       "    </tr>\n",
       "    <tr>\n",
       "      <th>610</th>\n",
       "      <td>611</td>\n",
       "      <td>Владимир</td>\n",
       "      <td>28</td>\n",
       "      <td>Омск</td>\n",
       "      <td>ultra</td>\n",
       "    </tr>\n",
       "    <tr>\n",
       "      <th>634</th>\n",
       "      <td>635</td>\n",
       "      <td>Герман</td>\n",
       "      <td>21</td>\n",
       "      <td>Москва</td>\n",
       "      <td>ultra</td>\n",
       "    </tr>\n",
       "    <tr>\n",
       "      <th>658</th>\n",
       "      <td>659</td>\n",
       "      <td>Злата</td>\n",
       "      <td>27</td>\n",
       "      <td>Ростов-на-Дону</td>\n",
       "      <td>ultra</td>\n",
       "    </tr>\n",
       "    <tr>\n",
       "      <th>665</th>\n",
       "      <td>666</td>\n",
       "      <td>Зарина</td>\n",
       "      <td>29</td>\n",
       "      <td>Москва</td>\n",
       "      <td>ultra</td>\n",
       "    </tr>\n",
       "    <tr>\n",
       "      <th>736</th>\n",
       "      <td>737</td>\n",
       "      <td>Мелания</td>\n",
       "      <td>27</td>\n",
       "      <td>Ростов-на-Дону</td>\n",
       "      <td>free</td>\n",
       "    </tr>\n",
       "    <tr>\n",
       "      <th>806</th>\n",
       "      <td>807</td>\n",
       "      <td>Александр</td>\n",
       "      <td>28</td>\n",
       "      <td>Екатеринбург</td>\n",
       "      <td>free</td>\n",
       "    </tr>\n",
       "    <tr>\n",
       "      <th>808</th>\n",
       "      <td>809</td>\n",
       "      <td>Юрий</td>\n",
       "      <td>26</td>\n",
       "      <td>Сочи</td>\n",
       "      <td>free</td>\n",
       "    </tr>\n",
       "    <tr>\n",
       "      <th>828</th>\n",
       "      <td>829</td>\n",
       "      <td>Федор</td>\n",
       "      <td>29</td>\n",
       "      <td>Пятигорск</td>\n",
       "      <td>free</td>\n",
       "    </tr>\n",
       "    <tr>\n",
       "      <th>907</th>\n",
       "      <td>908</td>\n",
       "      <td>Рустам</td>\n",
       "      <td>30</td>\n",
       "      <td>Тюмень</td>\n",
       "      <td>free</td>\n",
       "    </tr>\n",
       "    <tr>\n",
       "      <th>908</th>\n",
       "      <td>909</td>\n",
       "      <td>Константин</td>\n",
       "      <td>20</td>\n",
       "      <td>Екатеринбург</td>\n",
       "      <td>free</td>\n",
       "    </tr>\n",
       "    <tr>\n",
       "      <th>923</th>\n",
       "      <td>924</td>\n",
       "      <td>Мария</td>\n",
       "      <td>23</td>\n",
       "      <td>Пятигорск</td>\n",
       "      <td>free</td>\n",
       "    </tr>\n",
       "    <tr>\n",
       "      <th>1044</th>\n",
       "      <td>1045</td>\n",
       "      <td>Артемий</td>\n",
       "      <td>28</td>\n",
       "      <td>Ростов-на-Дону</td>\n",
       "      <td>free</td>\n",
       "    </tr>\n",
       "    <tr>\n",
       "      <th>1197</th>\n",
       "      <td>1198</td>\n",
       "      <td>Демид</td>\n",
       "      <td>29</td>\n",
       "      <td>Ростов-на-Дону</td>\n",
       "      <td>free</td>\n",
       "    </tr>\n",
       "    <tr>\n",
       "      <th>1236</th>\n",
       "      <td>1237</td>\n",
       "      <td>Евгения</td>\n",
       "      <td>23</td>\n",
       "      <td>Тюмень</td>\n",
       "      <td>free</td>\n",
       "    </tr>\n",
       "    <tr>\n",
       "      <th>1244</th>\n",
       "      <td>1245</td>\n",
       "      <td>Регина</td>\n",
       "      <td>27</td>\n",
       "      <td>Пятигорск</td>\n",
       "      <td>free</td>\n",
       "    </tr>\n",
       "  </tbody>\n",
       "</table>\n",
       "</div>"
      ],
      "text/plain": [
       "      user_id        name  age            city subscription_type\n",
       "15         16      Амалия   27       Краснодар             ultra\n",
       "42         43    Стефания   22            Омск             ultra\n",
       "46         47        Юрий   28          Тюмень             ultra\n",
       "71         72      Никита   25          Москва             ultra\n",
       "107       108       Влада   29          Тюмень             ultra\n",
       "120       121       Алина   25       Пятигорск             ultra\n",
       "126       127       Павел   25       Пятигорск             ultra\n",
       "135       136     Марсель   25          Тюмень             ultra\n",
       "152       153      Герман   23          Москва             ultra\n",
       "203       204      Руслан   30       Пятигорск             ultra\n",
       "208       209      Андрей   23            Омск             ultra\n",
       "292       293       Агата   26       Краснодар             ultra\n",
       "296       297        Егор   33       Пятигорск             ultra\n",
       "306       307      Ясмина   19       Краснодар             ultra\n",
       "402       403      Полина   19            Сочи             ultra\n",
       "421       422      Кирилл   27            Сочи             ultra\n",
       "610       611    Владимир   28            Омск             ultra\n",
       "634       635      Герман   21          Москва             ultra\n",
       "658       659       Злата   27  Ростов-на-Дону             ultra\n",
       "665       666      Зарина   29          Москва             ultra\n",
       "736       737     Мелания   27  Ростов-на-Дону              free\n",
       "806       807   Александр   28    Екатеринбург              free\n",
       "808       809        Юрий   26            Сочи              free\n",
       "828       829       Федор   29       Пятигорск              free\n",
       "907       908      Рустам   30          Тюмень              free\n",
       "908       909  Константин   20    Екатеринбург              free\n",
       "923       924       Мария   23       Пятигорск              free\n",
       "1044     1045     Артемий   28  Ростов-на-Дону              free\n",
       "1197     1198       Демид   29  Ростов-на-Дону              free\n",
       "1236     1237     Евгения   23          Тюмень              free\n",
       "1244     1245      Регина   27       Пятигорск              free"
      ]
     },
     "execution_count": 14,
     "metadata": {},
     "output_type": "execute_result"
    }
   ],
   "source": [
    "users[users.duplicated(subset = ['user_id','age', 'city', 'name'], keep = False)].head(31)"
   ]
  },
  {
   "cell_type": "code",
   "execution_count": 15,
   "id": "fb93a5a7",
   "metadata": {
    "scrolled": true
   },
   "outputs": [],
   "source": [
    "users = users.drop_duplicates()"
   ]
  },
  {
   "cell_type": "markdown",
   "id": "07e26d7b",
   "metadata": {},
   "source": [
    "**Вывод:** Привел столбец date к типу даты pandas, создал новый столбец с номером месяца на основе столбца date, проверил на пропуски три таблицы,пропусков нет, есть дубликаты в таблице в колличестве 31,удалил их, так как они будут мешать дальнейшему анализу."
   ]
  },
  {
   "cell_type": "markdown",
   "id": "212593c7",
   "metadata": {},
   "source": [
    "#### Исследовательский анализ данных"
   ]
  },
  {
   "cell_type": "markdown",
   "id": "410becd6",
   "metadata": {},
   "source": [
    "##### Частота встречаемости городов"
   ]
  },
  {
   "cell_type": "code",
   "execution_count": 16,
   "id": "395a208c",
   "metadata": {},
   "outputs": [
    {
     "data": {
      "text/html": [
       "<div>\n",
       "<style scoped>\n",
       "    .dataframe tbody tr th:only-of-type {\n",
       "        vertical-align: middle;\n",
       "    }\n",
       "\n",
       "    .dataframe tbody tr th {\n",
       "        vertical-align: top;\n",
       "    }\n",
       "\n",
       "    .dataframe thead th {\n",
       "        text-align: right;\n",
       "    }\n",
       "</style>\n",
       "<table border=\"1\" class=\"dataframe\">\n",
       "  <thead>\n",
       "    <tr style=\"text-align: right;\">\n",
       "      <th></th>\n",
       "      <th>city</th>\n",
       "    </tr>\n",
       "  </thead>\n",
       "  <tbody>\n",
       "    <tr>\n",
       "      <th>Пятигорск</th>\n",
       "      <td>219</td>\n",
       "    </tr>\n",
       "    <tr>\n",
       "      <th>Екатеринбург</th>\n",
       "      <td>204</td>\n",
       "    </tr>\n",
       "    <tr>\n",
       "      <th>Ростов-на-Дону</th>\n",
       "      <td>198</td>\n",
       "    </tr>\n",
       "    <tr>\n",
       "      <th>Краснодар</th>\n",
       "      <td>193</td>\n",
       "    </tr>\n",
       "    <tr>\n",
       "      <th>Сочи</th>\n",
       "      <td>189</td>\n",
       "    </tr>\n",
       "    <tr>\n",
       "      <th>Омск</th>\n",
       "      <td>183</td>\n",
       "    </tr>\n",
       "    <tr>\n",
       "      <th>Тюмень</th>\n",
       "      <td>180</td>\n",
       "    </tr>\n",
       "    <tr>\n",
       "      <th>Москва</th>\n",
       "      <td>168</td>\n",
       "    </tr>\n",
       "  </tbody>\n",
       "</table>\n",
       "</div>"
      ],
      "text/plain": [
       "                city\n",
       "Пятигорск        219\n",
       "Екатеринбург     204\n",
       "Ростов-на-Дону   198\n",
       "Краснодар        193\n",
       "Сочи             189\n",
       "Омск             183\n",
       "Тюмень           180\n",
       "Москва           168"
      ]
     },
     "execution_count": 16,
     "metadata": {},
     "output_type": "execute_result"
    }
   ],
   "source": [
    "users['city'].value_counts().to_frame()"
   ]
  },
  {
   "cell_type": "code",
   "execution_count": 17,
   "id": "caab7905",
   "metadata": {
    "scrolled": true
   },
   "outputs": [
    {
     "data": {
      "image/png": "[encoded data removed]",
      "text/plain": [
       "<Figure size 432x288 with 1 Axes>"
      ]
     },
     "metadata": {
      "needs_background": "light"
     },
     "output_type": "display_data"
    }
   ],
   "source": [
    "users['city'].value_counts().plot.barh(title='Частота встречаемости городов', xlabel='города', color='g');"
   ]
  },
  {
   "cell_type": "markdown",
   "id": "74fbbe5b",
   "metadata": {},
   "source": [
    "**Вывод:** Визуализировал информацию о частоте встречаемости городов, чаще всего сервисом пользовались Пятигорске - 219 раз, меньше всего в Москве - 168 раз."
   ]
  },
  {
   "cell_type": "markdown",
   "id": "e0738862",
   "metadata": {},
   "source": [
    "##### Соотношение пользователей с подпиской и без подписки"
   ]
  },
  {
   "cell_type": "code",
   "execution_count": 18,
   "id": "bc8e2bcc",
   "metadata": {},
   "outputs": [
    {
     "data": {
      "text/html": [
       "<div>\n",
       "<style scoped>\n",
       "    .dataframe tbody tr th:only-of-type {\n",
       "        vertical-align: middle;\n",
       "    }\n",
       "\n",
       "    .dataframe tbody tr th {\n",
       "        vertical-align: top;\n",
       "    }\n",
       "\n",
       "    .dataframe thead th {\n",
       "        text-align: right;\n",
       "    }\n",
       "</style>\n",
       "<table border=\"1\" class=\"dataframe\">\n",
       "  <thead>\n",
       "    <tr style=\"text-align: right;\">\n",
       "      <th></th>\n",
       "      <th>subscription_type</th>\n",
       "    </tr>\n",
       "  </thead>\n",
       "  <tbody>\n",
       "    <tr>\n",
       "      <th>free</th>\n",
       "      <td>835</td>\n",
       "    </tr>\n",
       "    <tr>\n",
       "      <th>ultra</th>\n",
       "      <td>699</td>\n",
       "    </tr>\n",
       "  </tbody>\n",
       "</table>\n",
       "</div>"
      ],
      "text/plain": [
       "       subscription_type\n",
       "free                 835\n",
       "ultra                699"
      ]
     },
     "execution_count": 18,
     "metadata": {},
     "output_type": "execute_result"
    }
   ],
   "source": [
    "users['subscription_type'].value_counts().to_frame()"
   ]
  },
  {
   "cell_type": "code",
   "execution_count": 19,
   "id": "41fbf6b7",
   "metadata": {},
   "outputs": [
    {
     "data": {
      "text/plain": [
       "'процент без подписки : 54.4%, процент c подпиской : 45.6%'"
      ]
     },
     "execution_count": 19,
     "metadata": {},
     "output_type": "execute_result"
    }
   ],
   "source": [
    "free_percent = users[users['subscription_type'] == 'free']['subscription_type'].count() / users['subscription_type'].count()\n",
    "\n",
    "ultra_percent = 1 - free_percent\n",
    "\n",
    "(f'процент без подписки : {free_percent:.1%}, процент c подпиской : {ultra_percent:.1%}')"
   ]
  },
  {
   "cell_type": "code",
   "execution_count": 20,
   "id": "3923fbec",
   "metadata": {
    "scrolled": true
   },
   "outputs": [
    {
     "data": {
      "image/png": "[encoded data removed]",
      "text/plain": [
       "<Figure size 432x288 with 1 Axes>"
      ]
     },
     "metadata": {},
     "output_type": "display_data"
    }
   ],
   "source": [
    "users['subscription_type'].value_counts().plot(\n",
    "    title='Отношение числа пользователей с подпиской и без', \n",
    "    kind='pie', autopct='%1.0f%%', colors={'r', 'g'});"
   ]
  },
  {
   "cell_type": "markdown",
   "id": "68789575",
   "metadata": {},
   "source": [
    "**Вывод:** Изучил данные о количестве пользователей с подпиской и без нее, число пользователей без подписки больше чем тех,кто с подпиской, а именно 54.4 % и 45.6% соответственно."
   ]
  },
  {
   "cell_type": "markdown",
   "id": "2eeaf6fb",
   "metadata": {},
   "source": [
    "##### Возраст пользователей"
   ]
  },
  {
   "cell_type": "code",
   "execution_count": 21,
   "id": "6cc49bf2",
   "metadata": {},
   "outputs": [
    {
     "data": {
      "text/html": [
       "<div>\n",
       "<style scoped>\n",
       "    .dataframe tbody tr th:only-of-type {\n",
       "        vertical-align: middle;\n",
       "    }\n",
       "\n",
       "    .dataframe tbody tr th {\n",
       "        vertical-align: top;\n",
       "    }\n",
       "\n",
       "    .dataframe thead th {\n",
       "        text-align: right;\n",
       "    }\n",
       "</style>\n",
       "<table border=\"1\" class=\"dataframe\">\n",
       "  <thead>\n",
       "    <tr style=\"text-align: right;\">\n",
       "      <th></th>\n",
       "      <th>age</th>\n",
       "    </tr>\n",
       "  </thead>\n",
       "  <tbody>\n",
       "    <tr>\n",
       "      <th>25</th>\n",
       "      <td>145</td>\n",
       "    </tr>\n",
       "    <tr>\n",
       "      <th>24</th>\n",
       "      <td>132</td>\n",
       "    </tr>\n",
       "    <tr>\n",
       "      <th>26</th>\n",
       "      <td>131</td>\n",
       "    </tr>\n",
       "    <tr>\n",
       "      <th>23</th>\n",
       "      <td>129</td>\n",
       "    </tr>\n",
       "    <tr>\n",
       "      <th>27</th>\n",
       "      <td>119</td>\n",
       "    </tr>\n",
       "    <tr>\n",
       "      <th>22</th>\n",
       "      <td>119</td>\n",
       "    </tr>\n",
       "    <tr>\n",
       "      <th>28</th>\n",
       "      <td>112</td>\n",
       "    </tr>\n",
       "    <tr>\n",
       "      <th>21</th>\n",
       "      <td>93</td>\n",
       "    </tr>\n",
       "    <tr>\n",
       "      <th>20</th>\n",
       "      <td>71</td>\n",
       "    </tr>\n",
       "    <tr>\n",
       "      <th>30</th>\n",
       "      <td>68</td>\n",
       "    </tr>\n",
       "    <tr>\n",
       "      <th>29</th>\n",
       "      <td>68</td>\n",
       "    </tr>\n",
       "    <tr>\n",
       "      <th>31</th>\n",
       "      <td>48</td>\n",
       "    </tr>\n",
       "    <tr>\n",
       "      <th>19</th>\n",
       "      <td>47</td>\n",
       "    </tr>\n",
       "    <tr>\n",
       "      <th>18</th>\n",
       "      <td>46</td>\n",
       "    </tr>\n",
       "    <tr>\n",
       "      <th>32</th>\n",
       "      <td>41</td>\n",
       "    </tr>\n",
       "    <tr>\n",
       "      <th>33</th>\n",
       "      <td>39</td>\n",
       "    </tr>\n",
       "    <tr>\n",
       "      <th>17</th>\n",
       "      <td>26</td>\n",
       "    </tr>\n",
       "    <tr>\n",
       "      <th>34</th>\n",
       "      <td>19</td>\n",
       "    </tr>\n",
       "    <tr>\n",
       "      <th>16</th>\n",
       "      <td>19</td>\n",
       "    </tr>\n",
       "    <tr>\n",
       "      <th>35</th>\n",
       "      <td>15</td>\n",
       "    </tr>\n",
       "    <tr>\n",
       "      <th>15</th>\n",
       "      <td>13</td>\n",
       "    </tr>\n",
       "    <tr>\n",
       "      <th>14</th>\n",
       "      <td>9</td>\n",
       "    </tr>\n",
       "    <tr>\n",
       "      <th>13</th>\n",
       "      <td>8</td>\n",
       "    </tr>\n",
       "    <tr>\n",
       "      <th>36</th>\n",
       "      <td>6</td>\n",
       "    </tr>\n",
       "    <tr>\n",
       "      <th>12</th>\n",
       "      <td>4</td>\n",
       "    </tr>\n",
       "    <tr>\n",
       "      <th>38</th>\n",
       "      <td>3</td>\n",
       "    </tr>\n",
       "    <tr>\n",
       "      <th>37</th>\n",
       "      <td>2</td>\n",
       "    </tr>\n",
       "    <tr>\n",
       "      <th>39</th>\n",
       "      <td>1</td>\n",
       "    </tr>\n",
       "    <tr>\n",
       "      <th>43</th>\n",
       "      <td>1</td>\n",
       "    </tr>\n",
       "  </tbody>\n",
       "</table>\n",
       "</div>"
      ],
      "text/plain": [
       "    age\n",
       "25  145\n",
       "24  132\n",
       "26  131\n",
       "23  129\n",
       "27  119\n",
       "22  119\n",
       "28  112\n",
       "21   93\n",
       "20   71\n",
       "30   68\n",
       "29   68\n",
       "31   48\n",
       "19   47\n",
       "18   46\n",
       "32   41\n",
       "33   39\n",
       "17   26\n",
       "34   19\n",
       "16   19\n",
       "35   15\n",
       "15   13\n",
       "14    9\n",
       "13    8\n",
       "36    6\n",
       "12    4\n",
       "38    3\n",
       "37    2\n",
       "39    1\n",
       "43    1"
      ]
     },
     "execution_count": 21,
     "metadata": {},
     "output_type": "execute_result"
    }
   ],
   "source": [
    "users['age'].value_counts().to_frame()"
   ]
  },
  {
   "cell_type": "code",
   "execution_count": 22,
   "id": "732234a1",
   "metadata": {},
   "outputs": [
    {
     "data": {
      "text/plain": [
       "count    1534.000000\n",
       "mean       24.903520\n",
       "std         4.572367\n",
       "min        12.000000\n",
       "25%        22.000000\n",
       "50%        25.000000\n",
       "75%        28.000000\n",
       "max        43.000000\n",
       "Name: age, dtype: float64"
      ]
     },
     "execution_count": 22,
     "metadata": {},
     "output_type": "execute_result"
    },
    {
     "data": {
      "image/png": "[encoded data removed]",
      "text/plain": [
       "<Figure size 1080x216 with 1 Axes>"
      ]
     },
     "metadata": {
      "needs_background": "light"
     },
     "output_type": "display_data"
    }
   ],
   "source": [
    "users.age.hist(bins = 150, figsize = (15,3));\n",
    "\n",
    "users['age'].describe()"
   ]
  },
  {
   "cell_type": "markdown",
   "id": "c7527ffa",
   "metadata": {},
   "source": [
    "**Вывод:** Больше всего польватей в возрасте 25 лет, меньше всего тем кому за 30 лет. Диапозон возрасной группы,которые чаще пользуются сервисом от 20 до 30.Основная часть данных с 22 до 28 лет."
   ]
  },
  {
   "cell_type": "markdown",
   "id": "07f2e949",
   "metadata": {},
   "source": [
    "##### Расстояние, которое пользователь преодолел за одну поездку"
   ]
  },
  {
   "cell_type": "code",
   "execution_count": 23,
   "id": "2440fbe4",
   "metadata": {},
   "outputs": [
    {
     "data": {
      "text/plain": [
       "count    18068.000000\n",
       "mean      3070.659976\n",
       "std       1116.831209\n",
       "min          0.855683\n",
       "25%       2543.226360\n",
       "50%       3133.609994\n",
       "75%       3776.222735\n",
       "max       7211.007745\n",
       "Name: distance, dtype: float64"
      ]
     },
     "execution_count": 23,
     "metadata": {},
     "output_type": "execute_result"
    },
    {
     "data": {
      "image/png": "[encoded data removed]",
      "text/plain": [
       "<Figure size 1080x216 with 1 Axes>"
      ]
     },
     "metadata": {
      "needs_background": "light"
     },
     "output_type": "display_data"
    }
   ],
   "source": [
    "rides.distance.hist(bins = 150, figsize = (15,3));\n",
    "\n",
    "rides['distance'].describe()"
   ]
  },
  {
   "cell_type": "code",
   "execution_count": 24,
   "id": "b0b9b608",
   "metadata": {},
   "outputs": [
    {
     "data": {
      "text/plain": [
       "count    541.000000\n",
       "mean      21.908398\n",
       "std        8.424680\n",
       "min        0.500000\n",
       "25%       19.012941\n",
       "50%       23.529532\n",
       "75%       27.204407\n",
       "max       40.823963\n",
       "Name: duration, dtype: float64"
      ]
     },
     "execution_count": 24,
     "metadata": {},
     "output_type": "execute_result"
    },
    {
     "data": {
      "image/png": "[encoded data removed]",
      "text/plain": [
       "<Figure size 1080x216 with 1 Axes>"
      ]
     },
     "metadata": {
      "needs_background": "light"
     },
     "output_type": "display_data"
    }
   ],
   "source": [
    "rides.distance.hist(bins = 40, figsize = (15,3), range = (5000,7400));\n",
    "\n",
    "rides.query('distance > 5000')['duration'].describe()"
   ]
  },
  {
   "cell_type": "code",
   "execution_count": 25,
   "id": "f21ccecb",
   "metadata": {},
   "outputs": [
    {
     "data": {
      "text/plain": [
       "count    1372.000000\n",
       "mean        9.555959\n",
       "std         3.823324\n",
       "min         2.035632\n",
       "25%         6.397153\n",
       "50%         9.336174\n",
       "75%        12.832299\n",
       "max        18.235650\n",
       "Name: duration, dtype: float64"
      ]
     },
     "execution_count": 25,
     "metadata": {},
     "output_type": "execute_result"
    },
    {
     "data": {
      "image/png": "[encoded data removed]",
      "text/plain": [
       "<Figure size 1080x216 with 1 Axes>"
      ]
     },
     "metadata": {
      "needs_background": "light"
     },
     "output_type": "display_data"
    }
   ],
   "source": [
    "rides.distance.hist(bins = 150, figsize = (15,3), range = (0,1000));\n",
    "\n",
    "rides.query('distance < 1000')['duration'].describe()"
   ]
  },
  {
   "cell_type": "markdown",
   "id": "303d5c22",
   "metadata": {},
   "source": [
    "**Вывод:** Взглянув на графики, можно утверждать что большинство пользователей проезжает расстояние в 3200 м за одну сессию, есть и такие кто проезжал более 7 км, и менее 200 м.Основная часть данных с 2543 м до 3776 м."
   ]
  },
  {
   "cell_type": "markdown",
   "id": "10ebcad2",
   "metadata": {},
   "source": [
    "##### Продолжительность поездок"
   ]
  },
  {
   "cell_type": "code",
   "execution_count": 26,
   "id": "77d29a76",
   "metadata": {
    "scrolled": true
   },
   "outputs": [
    {
     "data": {
      "text/plain": [
       "count    18068.000000\n",
       "mean        17.805011\n",
       "std          6.091051\n",
       "min          0.500000\n",
       "25%         13.597563\n",
       "50%         17.678395\n",
       "75%         21.724800\n",
       "max         40.823963\n",
       "Name: duration, dtype: float64"
      ]
     },
     "execution_count": 26,
     "metadata": {},
     "output_type": "execute_result"
    },
    {
     "data": {
      "image/png": "[encoded data removed]",
      "text/plain": [
       "<Figure size 1080x216 with 1 Axes>"
      ]
     },
     "metadata": {
      "needs_background": "light"
     },
     "output_type": "display_data"
    }
   ],
   "source": [
    "rides.duration.hist(bins = 250, figsize = (15,3));\n",
    "\n",
    "rides['duration'].describe()"
   ]
  },
  {
   "cell_type": "code",
   "execution_count": 27,
   "id": "1c3a0b19",
   "metadata": {},
   "outputs": [
    {
     "data": {
      "text/plain": [
       "count    543.000000\n",
       "mean      32.132113\n",
       "std        1.707219\n",
       "min       30.001753\n",
       "25%       30.792967\n",
       "50%       31.731236\n",
       "75%       33.080427\n",
       "max       40.823963\n",
       "Name: duration, dtype: float64"
      ]
     },
     "execution_count": 27,
     "metadata": {},
     "output_type": "execute_result"
    },
    {
     "data": {
      "image/png": "[encoded data removed]",
      "text/plain": [
       "<Figure size 1080x216 with 1 Axes>"
      ]
     },
     "metadata": {
      "needs_background": "light"
     },
     "output_type": "display_data"
    }
   ],
   "source": [
    "rides.duration.hist(bins = 40, figsize = (15,3), range = (30,45));\n",
    "\n",
    "rides.query('duration > 30')['duration'].describe()"
   ]
  },
  {
   "cell_type": "code",
   "execution_count": 28,
   "id": "00fb1f5b",
   "metadata": {},
   "outputs": [
    {
     "data": {
      "text/plain": [
       "count    278.000000\n",
       "mean       2.715662\n",
       "std        1.728951\n",
       "min        0.500000\n",
       "25%        0.500000\n",
       "50%        3.192398\n",
       "75%        4.316825\n",
       "max        4.998773\n",
       "Name: duration, dtype: float64"
      ]
     },
     "execution_count": 28,
     "metadata": {},
     "output_type": "execute_result"
    },
    {
     "data": {
      "image/png": "[encoded data removed]",
      "text/plain": [
       "<Figure size 1080x216 with 1 Axes>"
      ]
     },
     "metadata": {
      "needs_background": "light"
     },
     "output_type": "display_data"
    }
   ],
   "source": [
    "rides.duration.hist(bins = 40, figsize = (15,3), range = (0,5));\n",
    "\n",
    "rides.query('duration < 5')['duration'].describe()"
   ]
  },
  {
   "cell_type": "markdown",
   "id": "ca4c082d",
   "metadata": {},
   "source": [
    "**Вывод:** Взглянув на графики, можно утверждать что большинство пользователей пользуется сервисом около 18 минут, также есть пользователи, которые пользовались сервисом за одну сессию более 36 минут и те кто пользовались менее одной минуты.Основная часть данных с 13 до 21 минуты."
   ]
  },
  {
   "cell_type": "markdown",
   "id": "4ef51331",
   "metadata": {},
   "source": [
    "#### Объединение данных"
   ]
  },
  {
   "cell_type": "markdown",
   "id": "c2c56994",
   "metadata": {},
   "source": [
    "##### Объединение данных о пользователях, поездках и подписках в один датафрейм"
   ]
  },
  {
   "cell_type": "code",
   "execution_count": 29,
   "id": "617337c7",
   "metadata": {},
   "outputs": [],
   "source": [
    "data = users.merge(rides, on='user_id', how='left')"
   ]
  },
  {
   "cell_type": "code",
   "execution_count": 30,
   "id": "f32f3bf1",
   "metadata": {},
   "outputs": [
    {
     "data": {
      "text/html": [
       "<div>\n",
       "<style scoped>\n",
       "    .dataframe tbody tr th:only-of-type {\n",
       "        vertical-align: middle;\n",
       "    }\n",
       "\n",
       "    .dataframe tbody tr th {\n",
       "        vertical-align: top;\n",
       "    }\n",
       "\n",
       "    .dataframe thead th {\n",
       "        text-align: right;\n",
       "    }\n",
       "</style>\n",
       "<table border=\"1\" class=\"dataframe\">\n",
       "  <thead>\n",
       "    <tr style=\"text-align: right;\">\n",
       "      <th></th>\n",
       "      <th>user_id</th>\n",
       "      <th>name</th>\n",
       "      <th>age</th>\n",
       "      <th>city</th>\n",
       "      <th>subscription_type</th>\n",
       "      <th>distance</th>\n",
       "      <th>duration</th>\n",
       "      <th>date</th>\n",
       "      <th>month</th>\n",
       "      <th>minute_price</th>\n",
       "      <th>start_ride_price</th>\n",
       "      <th>subscription_fee</th>\n",
       "    </tr>\n",
       "  </thead>\n",
       "  <tbody>\n",
       "    <tr>\n",
       "      <th>0</th>\n",
       "      <td>1</td>\n",
       "      <td>Кира</td>\n",
       "      <td>22</td>\n",
       "      <td>Тюмень</td>\n",
       "      <td>ultra</td>\n",
       "      <td>4409.919140</td>\n",
       "      <td>25.599769</td>\n",
       "      <td>2021-01-01</td>\n",
       "      <td>1</td>\n",
       "      <td>6</td>\n",
       "      <td>0</td>\n",
       "      <td>199</td>\n",
       "    </tr>\n",
       "    <tr>\n",
       "      <th>1</th>\n",
       "      <td>1</td>\n",
       "      <td>Кира</td>\n",
       "      <td>22</td>\n",
       "      <td>Тюмень</td>\n",
       "      <td>ultra</td>\n",
       "      <td>2617.592153</td>\n",
       "      <td>15.816871</td>\n",
       "      <td>2021-01-18</td>\n",
       "      <td>1</td>\n",
       "      <td>6</td>\n",
       "      <td>0</td>\n",
       "      <td>199</td>\n",
       "    </tr>\n",
       "    <tr>\n",
       "      <th>2</th>\n",
       "      <td>1</td>\n",
       "      <td>Кира</td>\n",
       "      <td>22</td>\n",
       "      <td>Тюмень</td>\n",
       "      <td>ultra</td>\n",
       "      <td>754.159807</td>\n",
       "      <td>6.232113</td>\n",
       "      <td>2021-04-20</td>\n",
       "      <td>4</td>\n",
       "      <td>6</td>\n",
       "      <td>0</td>\n",
       "      <td>199</td>\n",
       "    </tr>\n",
       "    <tr>\n",
       "      <th>3</th>\n",
       "      <td>1</td>\n",
       "      <td>Кира</td>\n",
       "      <td>22</td>\n",
       "      <td>Тюмень</td>\n",
       "      <td>ultra</td>\n",
       "      <td>2694.783254</td>\n",
       "      <td>18.511000</td>\n",
       "      <td>2021-08-11</td>\n",
       "      <td>8</td>\n",
       "      <td>6</td>\n",
       "      <td>0</td>\n",
       "      <td>199</td>\n",
       "    </tr>\n",
       "    <tr>\n",
       "      <th>4</th>\n",
       "      <td>1</td>\n",
       "      <td>Кира</td>\n",
       "      <td>22</td>\n",
       "      <td>Тюмень</td>\n",
       "      <td>ultra</td>\n",
       "      <td>4028.687306</td>\n",
       "      <td>26.265803</td>\n",
       "      <td>2021-08-28</td>\n",
       "      <td>8</td>\n",
       "      <td>6</td>\n",
       "      <td>0</td>\n",
       "      <td>199</td>\n",
       "    </tr>\n",
       "    <tr>\n",
       "      <th>...</th>\n",
       "      <td>...</td>\n",
       "      <td>...</td>\n",
       "      <td>...</td>\n",
       "      <td>...</td>\n",
       "      <td>...</td>\n",
       "      <td>...</td>\n",
       "      <td>...</td>\n",
       "      <td>...</td>\n",
       "      <td>...</td>\n",
       "      <td>...</td>\n",
       "      <td>...</td>\n",
       "      <td>...</td>\n",
       "    </tr>\n",
       "    <tr>\n",
       "      <th>18063</th>\n",
       "      <td>1534</td>\n",
       "      <td>Альберт</td>\n",
       "      <td>25</td>\n",
       "      <td>Краснодар</td>\n",
       "      <td>free</td>\n",
       "      <td>3781.098080</td>\n",
       "      <td>19.822962</td>\n",
       "      <td>2021-11-04</td>\n",
       "      <td>11</td>\n",
       "      <td>8</td>\n",
       "      <td>50</td>\n",
       "      <td>0</td>\n",
       "    </tr>\n",
       "    <tr>\n",
       "      <th>18064</th>\n",
       "      <td>1534</td>\n",
       "      <td>Альберт</td>\n",
       "      <td>25</td>\n",
       "      <td>Краснодар</td>\n",
       "      <td>free</td>\n",
       "      <td>2840.423057</td>\n",
       "      <td>21.409799</td>\n",
       "      <td>2021-11-16</td>\n",
       "      <td>11</td>\n",
       "      <td>8</td>\n",
       "      <td>50</td>\n",
       "      <td>0</td>\n",
       "    </tr>\n",
       "    <tr>\n",
       "      <th>18065</th>\n",
       "      <td>1534</td>\n",
       "      <td>Альберт</td>\n",
       "      <td>25</td>\n",
       "      <td>Краснодар</td>\n",
       "      <td>free</td>\n",
       "      <td>3826.185507</td>\n",
       "      <td>18.435051</td>\n",
       "      <td>2021-11-18</td>\n",
       "      <td>11</td>\n",
       "      <td>8</td>\n",
       "      <td>50</td>\n",
       "      <td>0</td>\n",
       "    </tr>\n",
       "    <tr>\n",
       "      <th>18066</th>\n",
       "      <td>1534</td>\n",
       "      <td>Альберт</td>\n",
       "      <td>25</td>\n",
       "      <td>Краснодар</td>\n",
       "      <td>free</td>\n",
       "      <td>2902.308661</td>\n",
       "      <td>16.674362</td>\n",
       "      <td>2021-11-27</td>\n",
       "      <td>11</td>\n",
       "      <td>8</td>\n",
       "      <td>50</td>\n",
       "      <td>0</td>\n",
       "    </tr>\n",
       "    <tr>\n",
       "      <th>18067</th>\n",
       "      <td>1534</td>\n",
       "      <td>Альберт</td>\n",
       "      <td>25</td>\n",
       "      <td>Краснодар</td>\n",
       "      <td>free</td>\n",
       "      <td>2371.711192</td>\n",
       "      <td>15.893917</td>\n",
       "      <td>2021-12-29</td>\n",
       "      <td>12</td>\n",
       "      <td>8</td>\n",
       "      <td>50</td>\n",
       "      <td>0</td>\n",
       "    </tr>\n",
       "  </tbody>\n",
       "</table>\n",
       "<p>18068 rows × 12 columns</p>\n",
       "</div>"
      ],
      "text/plain": [
       "       user_id     name  age       city subscription_type     distance  \\\n",
       "0            1     Кира   22     Тюмень             ultra  4409.919140   \n",
       "1            1     Кира   22     Тюмень             ultra  2617.592153   \n",
       "2            1     Кира   22     Тюмень             ultra   754.159807   \n",
       "3            1     Кира   22     Тюмень             ultra  2694.783254   \n",
       "4            1     Кира   22     Тюмень             ultra  4028.687306   \n",
       "...        ...      ...  ...        ...               ...          ...   \n",
       "18063     1534  Альберт   25  Краснодар              free  3781.098080   \n",
       "18064     1534  Альберт   25  Краснодар              free  2840.423057   \n",
       "18065     1534  Альберт   25  Краснодар              free  3826.185507   \n",
       "18066     1534  Альберт   25  Краснодар              free  2902.308661   \n",
       "18067     1534  Альберт   25  Краснодар              free  2371.711192   \n",
       "\n",
       "        duration       date  month  minute_price  start_ride_price  \\\n",
       "0      25.599769 2021-01-01      1             6                 0   \n",
       "1      15.816871 2021-01-18      1             6                 0   \n",
       "2       6.232113 2021-04-20      4             6                 0   \n",
       "3      18.511000 2021-08-11      8             6                 0   \n",
       "4      26.265803 2021-08-28      8             6                 0   \n",
       "...          ...        ...    ...           ...               ...   \n",
       "18063  19.822962 2021-11-04     11             8                50   \n",
       "18064  21.409799 2021-11-16     11             8                50   \n",
       "18065  18.435051 2021-11-18     11             8                50   \n",
       "18066  16.674362 2021-11-27     11             8                50   \n",
       "18067  15.893917 2021-12-29     12             8                50   \n",
       "\n",
       "       subscription_fee  \n",
       "0                   199  \n",
       "1                   199  \n",
       "2                   199  \n",
       "3                   199  \n",
       "4                   199  \n",
       "...                 ...  \n",
       "18063                 0  \n",
       "18064                 0  \n",
       "18065                 0  \n",
       "18066                 0  \n",
       "18067                 0  \n",
       "\n",
       "[18068 rows x 12 columns]"
      ]
     },
     "execution_count": 30,
     "metadata": {},
     "output_type": "execute_result"
    }
   ],
   "source": [
    "df = data.merge(subscriptions, on='subscription_type', how='left')\n",
    "df"
   ]
  },
  {
   "cell_type": "markdown",
   "id": "cdddef1a",
   "metadata": {},
   "source": [
    "##### Создание датафреймов c данными о пользователях без подписки и с подпиской"
   ]
  },
  {
   "cell_type": "code",
   "execution_count": 31,
   "id": "5656a81b",
   "metadata": {},
   "outputs": [
    {
     "data": {
      "text/html": [
       "<div>\n",
       "<style scoped>\n",
       "    .dataframe tbody tr th:only-of-type {\n",
       "        vertical-align: middle;\n",
       "    }\n",
       "\n",
       "    .dataframe tbody tr th {\n",
       "        vertical-align: top;\n",
       "    }\n",
       "\n",
       "    .dataframe thead th {\n",
       "        text-align: right;\n",
       "    }\n",
       "</style>\n",
       "<table border=\"1\" class=\"dataframe\">\n",
       "  <thead>\n",
       "    <tr style=\"text-align: right;\">\n",
       "      <th></th>\n",
       "      <th>user_id</th>\n",
       "      <th>name</th>\n",
       "      <th>age</th>\n",
       "      <th>city</th>\n",
       "      <th>subscription_type</th>\n",
       "      <th>distance</th>\n",
       "      <th>duration</th>\n",
       "      <th>date</th>\n",
       "      <th>month</th>\n",
       "      <th>minute_price</th>\n",
       "      <th>start_ride_price</th>\n",
       "      <th>subscription_fee</th>\n",
       "    </tr>\n",
       "  </thead>\n",
       "  <tbody>\n",
       "    <tr>\n",
       "      <th>0</th>\n",
       "      <td>1</td>\n",
       "      <td>Кира</td>\n",
       "      <td>22</td>\n",
       "      <td>Тюмень</td>\n",
       "      <td>ultra</td>\n",
       "      <td>4409.919140</td>\n",
       "      <td>25.599769</td>\n",
       "      <td>2021-01-01</td>\n",
       "      <td>1</td>\n",
       "      <td>6</td>\n",
       "      <td>0</td>\n",
       "      <td>199</td>\n",
       "    </tr>\n",
       "    <tr>\n",
       "      <th>1</th>\n",
       "      <td>1</td>\n",
       "      <td>Кира</td>\n",
       "      <td>22</td>\n",
       "      <td>Тюмень</td>\n",
       "      <td>ultra</td>\n",
       "      <td>2617.592153</td>\n",
       "      <td>15.816871</td>\n",
       "      <td>2021-01-18</td>\n",
       "      <td>1</td>\n",
       "      <td>6</td>\n",
       "      <td>0</td>\n",
       "      <td>199</td>\n",
       "    </tr>\n",
       "    <tr>\n",
       "      <th>2</th>\n",
       "      <td>1</td>\n",
       "      <td>Кира</td>\n",
       "      <td>22</td>\n",
       "      <td>Тюмень</td>\n",
       "      <td>ultra</td>\n",
       "      <td>754.159807</td>\n",
       "      <td>6.232113</td>\n",
       "      <td>2021-04-20</td>\n",
       "      <td>4</td>\n",
       "      <td>6</td>\n",
       "      <td>0</td>\n",
       "      <td>199</td>\n",
       "    </tr>\n",
       "    <tr>\n",
       "      <th>3</th>\n",
       "      <td>1</td>\n",
       "      <td>Кира</td>\n",
       "      <td>22</td>\n",
       "      <td>Тюмень</td>\n",
       "      <td>ultra</td>\n",
       "      <td>2694.783254</td>\n",
       "      <td>18.511000</td>\n",
       "      <td>2021-08-11</td>\n",
       "      <td>8</td>\n",
       "      <td>6</td>\n",
       "      <td>0</td>\n",
       "      <td>199</td>\n",
       "    </tr>\n",
       "    <tr>\n",
       "      <th>4</th>\n",
       "      <td>1</td>\n",
       "      <td>Кира</td>\n",
       "      <td>22</td>\n",
       "      <td>Тюмень</td>\n",
       "      <td>ultra</td>\n",
       "      <td>4028.687306</td>\n",
       "      <td>26.265803</td>\n",
       "      <td>2021-08-28</td>\n",
       "      <td>8</td>\n",
       "      <td>6</td>\n",
       "      <td>0</td>\n",
       "      <td>199</td>\n",
       "    </tr>\n",
       "    <tr>\n",
       "      <th>...</th>\n",
       "      <td>...</td>\n",
       "      <td>...</td>\n",
       "      <td>...</td>\n",
       "      <td>...</td>\n",
       "      <td>...</td>\n",
       "      <td>...</td>\n",
       "      <td>...</td>\n",
       "      <td>...</td>\n",
       "      <td>...</td>\n",
       "      <td>...</td>\n",
       "      <td>...</td>\n",
       "      <td>...</td>\n",
       "    </tr>\n",
       "    <tr>\n",
       "      <th>6495</th>\n",
       "      <td>699</td>\n",
       "      <td>Оксана</td>\n",
       "      <td>22</td>\n",
       "      <td>Москва</td>\n",
       "      <td>ultra</td>\n",
       "      <td>3973.046497</td>\n",
       "      <td>24.671163</td>\n",
       "      <td>2021-08-29</td>\n",
       "      <td>8</td>\n",
       "      <td>6</td>\n",
       "      <td>0</td>\n",
       "      <td>199</td>\n",
       "    </tr>\n",
       "    <tr>\n",
       "      <th>6496</th>\n",
       "      <td>699</td>\n",
       "      <td>Оксана</td>\n",
       "      <td>22</td>\n",
       "      <td>Москва</td>\n",
       "      <td>ultra</td>\n",
       "      <td>3288.702563</td>\n",
       "      <td>15.892886</td>\n",
       "      <td>2021-09-12</td>\n",
       "      <td>9</td>\n",
       "      <td>6</td>\n",
       "      <td>0</td>\n",
       "      <td>199</td>\n",
       "    </tr>\n",
       "    <tr>\n",
       "      <th>6497</th>\n",
       "      <td>699</td>\n",
       "      <td>Оксана</td>\n",
       "      <td>22</td>\n",
       "      <td>Москва</td>\n",
       "      <td>ultra</td>\n",
       "      <td>3076.159348</td>\n",
       "      <td>14.389525</td>\n",
       "      <td>2021-09-26</td>\n",
       "      <td>9</td>\n",
       "      <td>6</td>\n",
       "      <td>0</td>\n",
       "      <td>199</td>\n",
       "    </tr>\n",
       "    <tr>\n",
       "      <th>6498</th>\n",
       "      <td>699</td>\n",
       "      <td>Оксана</td>\n",
       "      <td>22</td>\n",
       "      <td>Москва</td>\n",
       "      <td>ultra</td>\n",
       "      <td>4707.845501</td>\n",
       "      <td>15.839579</td>\n",
       "      <td>2021-10-17</td>\n",
       "      <td>10</td>\n",
       "      <td>6</td>\n",
       "      <td>0</td>\n",
       "      <td>199</td>\n",
       "    </tr>\n",
       "    <tr>\n",
       "      <th>6499</th>\n",
       "      <td>699</td>\n",
       "      <td>Оксана</td>\n",
       "      <td>22</td>\n",
       "      <td>Москва</td>\n",
       "      <td>ultra</td>\n",
       "      <td>3202.890770</td>\n",
       "      <td>25.217345</td>\n",
       "      <td>2021-12-03</td>\n",
       "      <td>12</td>\n",
       "      <td>6</td>\n",
       "      <td>0</td>\n",
       "      <td>199</td>\n",
       "    </tr>\n",
       "  </tbody>\n",
       "</table>\n",
       "<p>6500 rows × 12 columns</p>\n",
       "</div>"
      ],
      "text/plain": [
       "      user_id    name  age    city subscription_type     distance   duration  \\\n",
       "0           1    Кира   22  Тюмень             ultra  4409.919140  25.599769   \n",
       "1           1    Кира   22  Тюмень             ultra  2617.592153  15.816871   \n",
       "2           1    Кира   22  Тюмень             ultra   754.159807   6.232113   \n",
       "3           1    Кира   22  Тюмень             ultra  2694.783254  18.511000   \n",
       "4           1    Кира   22  Тюмень             ultra  4028.687306  26.265803   \n",
       "...       ...     ...  ...     ...               ...          ...        ...   \n",
       "6495      699  Оксана   22  Москва             ultra  3973.046497  24.671163   \n",
       "6496      699  Оксана   22  Москва             ultra  3288.702563  15.892886   \n",
       "6497      699  Оксана   22  Москва             ultra  3076.159348  14.389525   \n",
       "6498      699  Оксана   22  Москва             ultra  4707.845501  15.839579   \n",
       "6499      699  Оксана   22  Москва             ultra  3202.890770  25.217345   \n",
       "\n",
       "           date  month  minute_price  start_ride_price  subscription_fee  \n",
       "0    2021-01-01      1             6                 0               199  \n",
       "1    2021-01-18      1             6                 0               199  \n",
       "2    2021-04-20      4             6                 0               199  \n",
       "3    2021-08-11      8             6                 0               199  \n",
       "4    2021-08-28      8             6                 0               199  \n",
       "...         ...    ...           ...               ...               ...  \n",
       "6495 2021-08-29      8             6                 0               199  \n",
       "6496 2021-09-12      9             6                 0               199  \n",
       "6497 2021-09-26      9             6                 0               199  \n",
       "6498 2021-10-17     10             6                 0               199  \n",
       "6499 2021-12-03     12             6                 0               199  \n",
       "\n",
       "[6500 rows x 12 columns]"
      ]
     },
     "execution_count": 31,
     "metadata": {},
     "output_type": "execute_result"
    }
   ],
   "source": [
    "df_ultra = df.query('subscription_type == \"ultra\"')\n",
    "df_ultra"
   ]
  },
  {
   "cell_type": "code",
   "execution_count": 32,
   "id": "cedaf69c",
   "metadata": {},
   "outputs": [
    {
     "data": {
      "text/html": [
       "<div>\n",
       "<style scoped>\n",
       "    .dataframe tbody tr th:only-of-type {\n",
       "        vertical-align: middle;\n",
       "    }\n",
       "\n",
       "    .dataframe tbody tr th {\n",
       "        vertical-align: top;\n",
       "    }\n",
       "\n",
       "    .dataframe thead th {\n",
       "        text-align: right;\n",
       "    }\n",
       "</style>\n",
       "<table border=\"1\" class=\"dataframe\">\n",
       "  <thead>\n",
       "    <tr style=\"text-align: right;\">\n",
       "      <th></th>\n",
       "      <th>user_id</th>\n",
       "      <th>name</th>\n",
       "      <th>age</th>\n",
       "      <th>city</th>\n",
       "      <th>subscription_type</th>\n",
       "      <th>distance</th>\n",
       "      <th>duration</th>\n",
       "      <th>date</th>\n",
       "      <th>month</th>\n",
       "      <th>minute_price</th>\n",
       "      <th>start_ride_price</th>\n",
       "      <th>subscription_fee</th>\n",
       "    </tr>\n",
       "  </thead>\n",
       "  <tbody>\n",
       "    <tr>\n",
       "      <th>6500</th>\n",
       "      <td>700</td>\n",
       "      <td>Айдар</td>\n",
       "      <td>22</td>\n",
       "      <td>Омск</td>\n",
       "      <td>free</td>\n",
       "      <td>2515.690719</td>\n",
       "      <td>14.944286</td>\n",
       "      <td>2021-01-02</td>\n",
       "      <td>1</td>\n",
       "      <td>8</td>\n",
       "      <td>50</td>\n",
       "      <td>0</td>\n",
       "    </tr>\n",
       "    <tr>\n",
       "      <th>6501</th>\n",
       "      <td>700</td>\n",
       "      <td>Айдар</td>\n",
       "      <td>22</td>\n",
       "      <td>Омск</td>\n",
       "      <td>free</td>\n",
       "      <td>846.932642</td>\n",
       "      <td>16.234663</td>\n",
       "      <td>2021-02-01</td>\n",
       "      <td>2</td>\n",
       "      <td>8</td>\n",
       "      <td>50</td>\n",
       "      <td>0</td>\n",
       "    </tr>\n",
       "    <tr>\n",
       "      <th>6502</th>\n",
       "      <td>700</td>\n",
       "      <td>Айдар</td>\n",
       "      <td>22</td>\n",
       "      <td>Омск</td>\n",
       "      <td>free</td>\n",
       "      <td>4004.434142</td>\n",
       "      <td>20.016628</td>\n",
       "      <td>2021-02-04</td>\n",
       "      <td>2</td>\n",
       "      <td>8</td>\n",
       "      <td>50</td>\n",
       "      <td>0</td>\n",
       "    </tr>\n",
       "    <tr>\n",
       "      <th>6503</th>\n",
       "      <td>700</td>\n",
       "      <td>Айдар</td>\n",
       "      <td>22</td>\n",
       "      <td>Омск</td>\n",
       "      <td>free</td>\n",
       "      <td>1205.911290</td>\n",
       "      <td>9.782872</td>\n",
       "      <td>2021-02-10</td>\n",
       "      <td>2</td>\n",
       "      <td>8</td>\n",
       "      <td>50</td>\n",
       "      <td>0</td>\n",
       "    </tr>\n",
       "    <tr>\n",
       "      <th>6504</th>\n",
       "      <td>700</td>\n",
       "      <td>Айдар</td>\n",
       "      <td>22</td>\n",
       "      <td>Омск</td>\n",
       "      <td>free</td>\n",
       "      <td>3047.379435</td>\n",
       "      <td>17.427673</td>\n",
       "      <td>2021-02-14</td>\n",
       "      <td>2</td>\n",
       "      <td>8</td>\n",
       "      <td>50</td>\n",
       "      <td>0</td>\n",
       "    </tr>\n",
       "    <tr>\n",
       "      <th>...</th>\n",
       "      <td>...</td>\n",
       "      <td>...</td>\n",
       "      <td>...</td>\n",
       "      <td>...</td>\n",
       "      <td>...</td>\n",
       "      <td>...</td>\n",
       "      <td>...</td>\n",
       "      <td>...</td>\n",
       "      <td>...</td>\n",
       "      <td>...</td>\n",
       "      <td>...</td>\n",
       "      <td>...</td>\n",
       "    </tr>\n",
       "    <tr>\n",
       "      <th>18063</th>\n",
       "      <td>1534</td>\n",
       "      <td>Альберт</td>\n",
       "      <td>25</td>\n",
       "      <td>Краснодар</td>\n",
       "      <td>free</td>\n",
       "      <td>3781.098080</td>\n",
       "      <td>19.822962</td>\n",
       "      <td>2021-11-04</td>\n",
       "      <td>11</td>\n",
       "      <td>8</td>\n",
       "      <td>50</td>\n",
       "      <td>0</td>\n",
       "    </tr>\n",
       "    <tr>\n",
       "      <th>18064</th>\n",
       "      <td>1534</td>\n",
       "      <td>Альберт</td>\n",
       "      <td>25</td>\n",
       "      <td>Краснодар</td>\n",
       "      <td>free</td>\n",
       "      <td>2840.423057</td>\n",
       "      <td>21.409799</td>\n",
       "      <td>2021-11-16</td>\n",
       "      <td>11</td>\n",
       "      <td>8</td>\n",
       "      <td>50</td>\n",
       "      <td>0</td>\n",
       "    </tr>\n",
       "    <tr>\n",
       "      <th>18065</th>\n",
       "      <td>1534</td>\n",
       "      <td>Альберт</td>\n",
       "      <td>25</td>\n",
       "      <td>Краснодар</td>\n",
       "      <td>free</td>\n",
       "      <td>3826.185507</td>\n",
       "      <td>18.435051</td>\n",
       "      <td>2021-11-18</td>\n",
       "      <td>11</td>\n",
       "      <td>8</td>\n",
       "      <td>50</td>\n",
       "      <td>0</td>\n",
       "    </tr>\n",
       "    <tr>\n",
       "      <th>18066</th>\n",
       "      <td>1534</td>\n",
       "      <td>Альберт</td>\n",
       "      <td>25</td>\n",
       "      <td>Краснодар</td>\n",
       "      <td>free</td>\n",
       "      <td>2902.308661</td>\n",
       "      <td>16.674362</td>\n",
       "      <td>2021-11-27</td>\n",
       "      <td>11</td>\n",
       "      <td>8</td>\n",
       "      <td>50</td>\n",
       "      <td>0</td>\n",
       "    </tr>\n",
       "    <tr>\n",
       "      <th>18067</th>\n",
       "      <td>1534</td>\n",
       "      <td>Альберт</td>\n",
       "      <td>25</td>\n",
       "      <td>Краснодар</td>\n",
       "      <td>free</td>\n",
       "      <td>2371.711192</td>\n",
       "      <td>15.893917</td>\n",
       "      <td>2021-12-29</td>\n",
       "      <td>12</td>\n",
       "      <td>8</td>\n",
       "      <td>50</td>\n",
       "      <td>0</td>\n",
       "    </tr>\n",
       "  </tbody>\n",
       "</table>\n",
       "<p>11568 rows × 12 columns</p>\n",
       "</div>"
      ],
      "text/plain": [
       "       user_id     name  age       city subscription_type     distance  \\\n",
       "6500       700    Айдар   22       Омск              free  2515.690719   \n",
       "6501       700    Айдар   22       Омск              free   846.932642   \n",
       "6502       700    Айдар   22       Омск              free  4004.434142   \n",
       "6503       700    Айдар   22       Омск              free  1205.911290   \n",
       "6504       700    Айдар   22       Омск              free  3047.379435   \n",
       "...        ...      ...  ...        ...               ...          ...   \n",
       "18063     1534  Альберт   25  Краснодар              free  3781.098080   \n",
       "18064     1534  Альберт   25  Краснодар              free  2840.423057   \n",
       "18065     1534  Альберт   25  Краснодар              free  3826.185507   \n",
       "18066     1534  Альберт   25  Краснодар              free  2902.308661   \n",
       "18067     1534  Альберт   25  Краснодар              free  2371.711192   \n",
       "\n",
       "        duration       date  month  minute_price  start_ride_price  \\\n",
       "6500   14.944286 2021-01-02      1             8                50   \n",
       "6501   16.234663 2021-02-01      2             8                50   \n",
       "6502   20.016628 2021-02-04      2             8                50   \n",
       "6503    9.782872 2021-02-10      2             8                50   \n",
       "6504   17.427673 2021-02-14      2             8                50   \n",
       "...          ...        ...    ...           ...               ...   \n",
       "18063  19.822962 2021-11-04     11             8                50   \n",
       "18064  21.409799 2021-11-16     11             8                50   \n",
       "18065  18.435051 2021-11-18     11             8                50   \n",
       "18066  16.674362 2021-11-27     11             8                50   \n",
       "18067  15.893917 2021-12-29     12             8                50   \n",
       "\n",
       "       subscription_fee  \n",
       "6500                  0  \n",
       "6501                  0  \n",
       "6502                  0  \n",
       "6503                  0  \n",
       "6504                  0  \n",
       "...                 ...  \n",
       "18063                 0  \n",
       "18064                 0  \n",
       "18065                 0  \n",
       "18066                 0  \n",
       "18067                 0  \n",
       "\n",
       "[11568 rows x 12 columns]"
      ]
     },
     "execution_count": 32,
     "metadata": {},
     "output_type": "execute_result"
    }
   ],
   "source": [
    "df_free = df.query('subscription_type == \"free\"')\n",
    "df_free"
   ]
  },
  {
   "cell_type": "markdown",
   "id": "c37c980a",
   "metadata": {},
   "source": [
    "**Вывод:** Объеденил три таблицы в одну и создал две отдельные для пользователей с подпиской и без нее."
   ]
  },
  {
   "cell_type": "markdown",
   "id": "f72a2779",
   "metadata": {},
   "source": [
    "##### Визуализация информации о расстоянии и времени поездок для пользователей обеих категорий"
   ]
  },
  {
   "cell_type": "code",
   "execution_count": 33,
   "id": "d5f071ec",
   "metadata": {
    "scrolled": true
   },
   "outputs": [
    {
     "data": {
      "image/png": "[encoded data removed]",
      "text/plain": [
       "<Figure size 1080x216 with 1 Axes>"
      ]
     },
     "metadata": {
      "needs_background": "light"
     },
     "output_type": "display_data"
    }
   ],
   "source": [
    "df_ultra.distance.hist(bins = 150, figsize = (15,3));"
   ]
  },
  {
   "cell_type": "code",
   "execution_count": 34,
   "id": "54060593",
   "metadata": {},
   "outputs": [
    {
     "data": {
      "text/plain": [
       "count    6500.000000\n",
       "mean     3115.445388\n",
       "std       836.895330\n",
       "min       244.210438\n",
       "25%      2785.444017\n",
       "50%      3148.637229\n",
       "75%      3560.574425\n",
       "max      5699.769662\n",
       "Name: distance, dtype: float64"
      ]
     },
     "execution_count": 34,
     "metadata": {},
     "output_type": "execute_result"
    }
   ],
   "source": [
    "df_ultra['distance'].describe()"
   ]
  },
  {
   "cell_type": "code",
   "execution_count": 35,
   "id": "cf5bd6fc",
   "metadata": {},
   "outputs": [
    {
     "data": {
      "text/plain": [
       "sum  distance    20250.4\n",
       "dtype: float64"
      ]
     },
     "execution_count": 35,
     "metadata": {},
     "output_type": "execute_result"
    }
   ],
   "source": [
    "ultra_distance = df_ultra.pivot_table(index=['user_id'], values='distance',aggfunc=['sum']).sum() / 1000\n",
    "ultra_distance.round(1)"
   ]
  },
  {
   "cell_type": "code",
   "execution_count": 36,
   "id": "864fb8a0",
   "metadata": {
    "scrolled": true
   },
   "outputs": [
    {
     "data": {
      "image/png": "[encoded data removed]",
      "text/plain": [
       "<Figure size 1080x216 with 1 Axes>"
      ]
     },
     "metadata": {
      "needs_background": "light"
     },
     "output_type": "display_data"
    }
   ],
   "source": [
    "df_ultra.duration.hist(bins = 80, figsize = (15,3));"
   ]
  },
  {
   "cell_type": "code",
   "execution_count": 37,
   "id": "e154d6e0",
   "metadata": {},
   "outputs": [
    {
     "data": {
      "text/plain": [
       "count    6500.000000\n",
       "mean       18.541985\n",
       "std         5.572048\n",
       "min         3.760353\n",
       "25%        14.524654\n",
       "50%        18.178153\n",
       "75%        21.884129\n",
       "max        40.823963\n",
       "Name: duration, dtype: float64"
      ]
     },
     "execution_count": 37,
     "metadata": {},
     "output_type": "execute_result"
    }
   ],
   "source": [
    "df_ultra['duration'].describe()"
   ]
  },
  {
   "cell_type": "code",
   "execution_count": 38,
   "id": "f8da58f3",
   "metadata": {
    "scrolled": true
   },
   "outputs": [
    {
     "data": {
      "text/plain": [
       "sum  duration    2008.7\n",
       "dtype: float64"
      ]
     },
     "execution_count": 38,
     "metadata": {},
     "output_type": "execute_result"
    }
   ],
   "source": [
    "ultra_duration = df_ultra.pivot_table(index=['user_id'], values='duration',aggfunc=['sum']).sum() / 60\n",
    "ultra_duration.round(1)"
   ]
  },
  {
   "cell_type": "code",
   "execution_count": 39,
   "id": "381d69e0",
   "metadata": {},
   "outputs": [
    {
     "data": {
      "image/png": "[encoded data removed]",
      "text/plain": [
       "<Figure size 1080x216 with 1 Axes>"
      ]
     },
     "metadata": {
      "needs_background": "light"
     },
     "output_type": "display_data"
    }
   ],
   "source": [
    "df_free.distance.hist(bins = 150, figsize = (15,3));"
   ]
  },
  {
   "cell_type": "code",
   "execution_count": 40,
   "id": "5dcab2c2",
   "metadata": {},
   "outputs": [
    {
     "data": {
      "text/plain": [
       "count    11568.000000\n",
       "mean      3045.495282\n",
       "std       1246.173806\n",
       "min          0.855683\n",
       "25%       2366.562689\n",
       "50%       3114.648465\n",
       "75%       3905.697894\n",
       "max       7211.007745\n",
       "Name: distance, dtype: float64"
      ]
     },
     "execution_count": 40,
     "metadata": {},
     "output_type": "execute_result"
    }
   ],
   "source": [
    "df_free['distance'].describe()"
   ]
  },
  {
   "cell_type": "code",
   "execution_count": 41,
   "id": "1349efc3",
   "metadata": {},
   "outputs": [
    {
     "data": {
      "text/plain": [
       "sum  distance    35230.3\n",
       "dtype: float64"
      ]
     },
     "execution_count": 41,
     "metadata": {},
     "output_type": "execute_result"
    }
   ],
   "source": [
    "free_distance = df_free.pivot_table(index=['user_id'], values='distance',aggfunc=['sum']).sum() / 1000\n",
    "free_distance.round(1)"
   ]
  },
  {
   "cell_type": "code",
   "execution_count": 42,
   "id": "4a591c81",
   "metadata": {},
   "outputs": [
    {
     "data": {
      "image/png": "[encoded data removed]",
      "text/plain": [
       "<Figure size 1080x216 with 1 Axes>"
      ]
     },
     "metadata": {
      "needs_background": "light"
     },
     "output_type": "display_data"
    }
   ],
   "source": [
    "df_free.duration.hist(bins = 150, figsize = (15,3));"
   ]
  },
  {
   "cell_type": "code",
   "execution_count": 43,
   "id": "a20ad422",
   "metadata": {},
   "outputs": [
    {
     "data": {
      "text/plain": [
       "count    11568.000000\n",
       "mean        17.390909\n",
       "std          6.326803\n",
       "min          0.500000\n",
       "25%         12.958437\n",
       "50%         17.326890\n",
       "75%         21.594071\n",
       "max         34.948498\n",
       "Name: duration, dtype: float64"
      ]
     },
     "execution_count": 43,
     "metadata": {},
     "output_type": "execute_result"
    }
   ],
   "source": [
    "df_free['duration'].describe()"
   ]
  },
  {
   "cell_type": "code",
   "execution_count": 44,
   "id": "7a47b676",
   "metadata": {},
   "outputs": [
    {
     "data": {
      "text/plain": [
       "sum  duration    3353.0\n",
       "dtype: float64"
      ]
     },
     "execution_count": 44,
     "metadata": {},
     "output_type": "execute_result"
    }
   ],
   "source": [
    "free_duration = df_free.pivot_table(index=['user_id'], values='duration',aggfunc=['sum']).sum() / 60\n",
    "free_duration.round(1)"
   ]
  },
  {
   "cell_type": "markdown",
   "id": "8a15d173",
   "metadata": {},
   "source": [
    "**Вывод:** Визуализировал данные о расстоянии и времени поездок для пользователей обеих категорий, в среднем они проезжают одинаковое расстояние за одну сессию, а время затраченное на одну поездку и пользователей с подпиской в среднем больше на 1 минуту и составляет 18 минут. Изучив данные о сумме времени и дистанции поездок для обеих категорий, можно сказать что пользователи без подписки проехали больше и дольше, это логичный вывод,если брать в расчет их большее количество."
   ]
  },
  {
   "cell_type": "markdown",
   "id": "402d620f",
   "metadata": {},
   "source": [
    "####  Подсчёт выручки"
   ]
  },
  {
   "cell_type": "markdown",
   "id": "38545036",
   "metadata": {},
   "source": [
    "##### Датафрейм с агрегированными данными о поездках"
   ]
  },
  {
   "cell_type": "code",
   "execution_count": 45,
   "id": "53049e0a",
   "metadata": {},
   "outputs": [],
   "source": [
    "df['duration'] = np.ceil(df['duration'])\n",
    "df['distance'] = df['distance'].round(1)"
   ]
  },
  {
   "cell_type": "code",
   "execution_count": 46,
   "id": "a2d6fdce",
   "metadata": {
    "scrolled": false
   },
   "outputs": [
    {
     "data": {
      "text/html": [
       "<div>\n",
       "<style scoped>\n",
       "    .dataframe tbody tr th:only-of-type {\n",
       "        vertical-align: middle;\n",
       "    }\n",
       "\n",
       "    .dataframe tbody tr th {\n",
       "        vertical-align: top;\n",
       "    }\n",
       "\n",
       "    .dataframe thead th {\n",
       "        text-align: right;\n",
       "    }\n",
       "</style>\n",
       "<table border=\"1\" class=\"dataframe\">\n",
       "  <thead>\n",
       "    <tr style=\"text-align: right;\">\n",
       "      <th></th>\n",
       "      <th>user_id</th>\n",
       "      <th>month</th>\n",
       "      <th>subscription_type</th>\n",
       "      <th>minute_price</th>\n",
       "      <th>start_ride_price</th>\n",
       "      <th>subscription_fee</th>\n",
       "      <th>count</th>\n",
       "      <th>distance_sum</th>\n",
       "      <th>duration_sum</th>\n",
       "    </tr>\n",
       "  </thead>\n",
       "  <tbody>\n",
       "    <tr>\n",
       "      <th>0</th>\n",
       "      <td>1</td>\n",
       "      <td>1</td>\n",
       "      <td>ultra</td>\n",
       "      <td>6</td>\n",
       "      <td>0</td>\n",
       "      <td>199</td>\n",
       "      <td>2</td>\n",
       "      <td>7027.5</td>\n",
       "      <td>42.0</td>\n",
       "    </tr>\n",
       "    <tr>\n",
       "      <th>1</th>\n",
       "      <td>1</td>\n",
       "      <td>4</td>\n",
       "      <td>ultra</td>\n",
       "      <td>6</td>\n",
       "      <td>0</td>\n",
       "      <td>199</td>\n",
       "      <td>1</td>\n",
       "      <td>754.2</td>\n",
       "      <td>7.0</td>\n",
       "    </tr>\n",
       "    <tr>\n",
       "      <th>2</th>\n",
       "      <td>1</td>\n",
       "      <td>8</td>\n",
       "      <td>ultra</td>\n",
       "      <td>6</td>\n",
       "      <td>0</td>\n",
       "      <td>199</td>\n",
       "      <td>2</td>\n",
       "      <td>6723.5</td>\n",
       "      <td>46.0</td>\n",
       "    </tr>\n",
       "    <tr>\n",
       "      <th>3</th>\n",
       "      <td>1</td>\n",
       "      <td>10</td>\n",
       "      <td>ultra</td>\n",
       "      <td>6</td>\n",
       "      <td>0</td>\n",
       "      <td>199</td>\n",
       "      <td>2</td>\n",
       "      <td>5809.9</td>\n",
       "      <td>32.0</td>\n",
       "    </tr>\n",
       "    <tr>\n",
       "      <th>4</th>\n",
       "      <td>1</td>\n",
       "      <td>11</td>\n",
       "      <td>ultra</td>\n",
       "      <td>6</td>\n",
       "      <td>0</td>\n",
       "      <td>199</td>\n",
       "      <td>3</td>\n",
       "      <td>7003.5</td>\n",
       "      <td>56.0</td>\n",
       "    </tr>\n",
       "    <tr>\n",
       "      <th>...</th>\n",
       "      <td>...</td>\n",
       "      <td>...</td>\n",
       "      <td>...</td>\n",
       "      <td>...</td>\n",
       "      <td>...</td>\n",
       "      <td>...</td>\n",
       "      <td>...</td>\n",
       "      <td>...</td>\n",
       "      <td>...</td>\n",
       "    </tr>\n",
       "    <tr>\n",
       "      <th>11326</th>\n",
       "      <td>1534</td>\n",
       "      <td>6</td>\n",
       "      <td>free</td>\n",
       "      <td>8</td>\n",
       "      <td>50</td>\n",
       "      <td>0</td>\n",
       "      <td>2</td>\n",
       "      <td>3409.4</td>\n",
       "      <td>26.0</td>\n",
       "    </tr>\n",
       "    <tr>\n",
       "      <th>11327</th>\n",
       "      <td>1534</td>\n",
       "      <td>8</td>\n",
       "      <td>free</td>\n",
       "      <td>8</td>\n",
       "      <td>50</td>\n",
       "      <td>0</td>\n",
       "      <td>2</td>\n",
       "      <td>7622.4</td>\n",
       "      <td>48.0</td>\n",
       "    </tr>\n",
       "    <tr>\n",
       "      <th>11328</th>\n",
       "      <td>1534</td>\n",
       "      <td>9</td>\n",
       "      <td>free</td>\n",
       "      <td>8</td>\n",
       "      <td>50</td>\n",
       "      <td>0</td>\n",
       "      <td>1</td>\n",
       "      <td>4928.2</td>\n",
       "      <td>23.0</td>\n",
       "    </tr>\n",
       "    <tr>\n",
       "      <th>11329</th>\n",
       "      <td>1534</td>\n",
       "      <td>11</td>\n",
       "      <td>free</td>\n",
       "      <td>8</td>\n",
       "      <td>50</td>\n",
       "      <td>0</td>\n",
       "      <td>4</td>\n",
       "      <td>13350.0</td>\n",
       "      <td>78.0</td>\n",
       "    </tr>\n",
       "    <tr>\n",
       "      <th>11330</th>\n",
       "      <td>1534</td>\n",
       "      <td>12</td>\n",
       "      <td>free</td>\n",
       "      <td>8</td>\n",
       "      <td>50</td>\n",
       "      <td>0</td>\n",
       "      <td>1</td>\n",
       "      <td>2371.7</td>\n",
       "      <td>16.0</td>\n",
       "    </tr>\n",
       "  </tbody>\n",
       "</table>\n",
       "<p>11331 rows × 9 columns</p>\n",
       "</div>"
      ],
      "text/plain": [
       "       user_id  month subscription_type  minute_price  start_ride_price  \\\n",
       "0            1      1             ultra             6                 0   \n",
       "1            1      4             ultra             6                 0   \n",
       "2            1      8             ultra             6                 0   \n",
       "3            1     10             ultra             6                 0   \n",
       "4            1     11             ultra             6                 0   \n",
       "...        ...    ...               ...           ...               ...   \n",
       "11326     1534      6              free             8                50   \n",
       "11327     1534      8              free             8                50   \n",
       "11328     1534      9              free             8                50   \n",
       "11329     1534     11              free             8                50   \n",
       "11330     1534     12              free             8                50   \n",
       "\n",
       "       subscription_fee  count  distance_sum  duration_sum  \n",
       "0                   199      2        7027.5          42.0  \n",
       "1                   199      1         754.2           7.0  \n",
       "2                   199      2        6723.5          46.0  \n",
       "3                   199      2        5809.9          32.0  \n",
       "4                   199      3        7003.5          56.0  \n",
       "...                 ...    ...           ...           ...  \n",
       "11326                 0      2        3409.4          26.0  \n",
       "11327                 0      2        7622.4          48.0  \n",
       "11328                 0      1        4928.2          23.0  \n",
       "11329                 0      4       13350.0          78.0  \n",
       "11330                 0      1        2371.7          16.0  \n",
       "\n",
       "[11331 rows x 9 columns]"
      ]
     },
     "execution_count": 46,
     "metadata": {},
     "output_type": "execute_result"
    }
   ],
   "source": [
    "df2 = df.pivot_table(index=['user_id', 'month', 'subscription_type', 'minute_price', 'start_ride_price', 'subscription_fee'], values=['distance', 'duration'],aggfunc={'distance': ['count', np.sum], 'duration': np.sum})\n",
    "df3 = df2.reset_index()\n",
    "df3. columns = ['user_id', 'month', 'subscription_type', 'minute_price', 'start_ride_price', 'subscription_fee', 'count', 'distance_sum', 'duration_sum']\n",
    "df3"
   ]
  },
  {
   "cell_type": "markdown",
   "id": "2376a96b",
   "metadata": {},
   "source": [
    "##### Помесячная выручка каждого пользователя\t"
   ]
  },
  {
   "cell_type": "code",
   "execution_count": 47,
   "id": "f05a2316",
   "metadata": {},
   "outputs": [
    {
     "data": {
      "text/html": [
       "<div>\n",
       "<style scoped>\n",
       "    .dataframe tbody tr th:only-of-type {\n",
       "        vertical-align: middle;\n",
       "    }\n",
       "\n",
       "    .dataframe tbody tr th {\n",
       "        vertical-align: top;\n",
       "    }\n",
       "\n",
       "    .dataframe thead th {\n",
       "        text-align: right;\n",
       "    }\n",
       "</style>\n",
       "<table border=\"1\" class=\"dataframe\">\n",
       "  <thead>\n",
       "    <tr style=\"text-align: right;\">\n",
       "      <th></th>\n",
       "      <th>user_id</th>\n",
       "      <th>month</th>\n",
       "      <th>subscription_type</th>\n",
       "      <th>minute_price</th>\n",
       "      <th>start_ride_price</th>\n",
       "      <th>subscription_fee</th>\n",
       "      <th>count</th>\n",
       "      <th>distance_sum</th>\n",
       "      <th>duration_sum</th>\n",
       "      <th>revenue</th>\n",
       "    </tr>\n",
       "  </thead>\n",
       "  <tbody>\n",
       "    <tr>\n",
       "      <th>0</th>\n",
       "      <td>1</td>\n",
       "      <td>1</td>\n",
       "      <td>ultra</td>\n",
       "      <td>6</td>\n",
       "      <td>0</td>\n",
       "      <td>199</td>\n",
       "      <td>2</td>\n",
       "      <td>7027.5</td>\n",
       "      <td>42.0</td>\n",
       "      <td>451.0</td>\n",
       "    </tr>\n",
       "    <tr>\n",
       "      <th>1</th>\n",
       "      <td>1</td>\n",
       "      <td>4</td>\n",
       "      <td>ultra</td>\n",
       "      <td>6</td>\n",
       "      <td>0</td>\n",
       "      <td>199</td>\n",
       "      <td>1</td>\n",
       "      <td>754.2</td>\n",
       "      <td>7.0</td>\n",
       "      <td>241.0</td>\n",
       "    </tr>\n",
       "    <tr>\n",
       "      <th>2</th>\n",
       "      <td>1</td>\n",
       "      <td>8</td>\n",
       "      <td>ultra</td>\n",
       "      <td>6</td>\n",
       "      <td>0</td>\n",
       "      <td>199</td>\n",
       "      <td>2</td>\n",
       "      <td>6723.5</td>\n",
       "      <td>46.0</td>\n",
       "      <td>475.0</td>\n",
       "    </tr>\n",
       "    <tr>\n",
       "      <th>3</th>\n",
       "      <td>1</td>\n",
       "      <td>10</td>\n",
       "      <td>ultra</td>\n",
       "      <td>6</td>\n",
       "      <td>0</td>\n",
       "      <td>199</td>\n",
       "      <td>2</td>\n",
       "      <td>5809.9</td>\n",
       "      <td>32.0</td>\n",
       "      <td>391.0</td>\n",
       "    </tr>\n",
       "    <tr>\n",
       "      <th>4</th>\n",
       "      <td>1</td>\n",
       "      <td>11</td>\n",
       "      <td>ultra</td>\n",
       "      <td>6</td>\n",
       "      <td>0</td>\n",
       "      <td>199</td>\n",
       "      <td>3</td>\n",
       "      <td>7003.5</td>\n",
       "      <td>56.0</td>\n",
       "      <td>535.0</td>\n",
       "    </tr>\n",
       "    <tr>\n",
       "      <th>...</th>\n",
       "      <td>...</td>\n",
       "      <td>...</td>\n",
       "      <td>...</td>\n",
       "      <td>...</td>\n",
       "      <td>...</td>\n",
       "      <td>...</td>\n",
       "      <td>...</td>\n",
       "      <td>...</td>\n",
       "      <td>...</td>\n",
       "      <td>...</td>\n",
       "    </tr>\n",
       "    <tr>\n",
       "      <th>11326</th>\n",
       "      <td>1534</td>\n",
       "      <td>6</td>\n",
       "      <td>free</td>\n",
       "      <td>8</td>\n",
       "      <td>50</td>\n",
       "      <td>0</td>\n",
       "      <td>2</td>\n",
       "      <td>3409.4</td>\n",
       "      <td>26.0</td>\n",
       "      <td>308.0</td>\n",
       "    </tr>\n",
       "    <tr>\n",
       "      <th>11327</th>\n",
       "      <td>1534</td>\n",
       "      <td>8</td>\n",
       "      <td>free</td>\n",
       "      <td>8</td>\n",
       "      <td>50</td>\n",
       "      <td>0</td>\n",
       "      <td>2</td>\n",
       "      <td>7622.4</td>\n",
       "      <td>48.0</td>\n",
       "      <td>484.0</td>\n",
       "    </tr>\n",
       "    <tr>\n",
       "      <th>11328</th>\n",
       "      <td>1534</td>\n",
       "      <td>9</td>\n",
       "      <td>free</td>\n",
       "      <td>8</td>\n",
       "      <td>50</td>\n",
       "      <td>0</td>\n",
       "      <td>1</td>\n",
       "      <td>4928.2</td>\n",
       "      <td>23.0</td>\n",
       "      <td>234.0</td>\n",
       "    </tr>\n",
       "    <tr>\n",
       "      <th>11329</th>\n",
       "      <td>1534</td>\n",
       "      <td>11</td>\n",
       "      <td>free</td>\n",
       "      <td>8</td>\n",
       "      <td>50</td>\n",
       "      <td>0</td>\n",
       "      <td>4</td>\n",
       "      <td>13350.0</td>\n",
       "      <td>78.0</td>\n",
       "      <td>824.0</td>\n",
       "    </tr>\n",
       "    <tr>\n",
       "      <th>11330</th>\n",
       "      <td>1534</td>\n",
       "      <td>12</td>\n",
       "      <td>free</td>\n",
       "      <td>8</td>\n",
       "      <td>50</td>\n",
       "      <td>0</td>\n",
       "      <td>1</td>\n",
       "      <td>2371.7</td>\n",
       "      <td>16.0</td>\n",
       "      <td>178.0</td>\n",
       "    </tr>\n",
       "  </tbody>\n",
       "</table>\n",
       "<p>11331 rows × 10 columns</p>\n",
       "</div>"
      ],
      "text/plain": [
       "       user_id  month subscription_type  minute_price  start_ride_price  \\\n",
       "0            1      1             ultra             6                 0   \n",
       "1            1      4             ultra             6                 0   \n",
       "2            1      8             ultra             6                 0   \n",
       "3            1     10             ultra             6                 0   \n",
       "4            1     11             ultra             6                 0   \n",
       "...        ...    ...               ...           ...               ...   \n",
       "11326     1534      6              free             8                50   \n",
       "11327     1534      8              free             8                50   \n",
       "11328     1534      9              free             8                50   \n",
       "11329     1534     11              free             8                50   \n",
       "11330     1534     12              free             8                50   \n",
       "\n",
       "       subscription_fee  count  distance_sum  duration_sum  revenue  \n",
       "0                   199      2        7027.5          42.0    451.0  \n",
       "1                   199      1         754.2           7.0    241.0  \n",
       "2                   199      2        6723.5          46.0    475.0  \n",
       "3                   199      2        5809.9          32.0    391.0  \n",
       "4                   199      3        7003.5          56.0    535.0  \n",
       "...                 ...    ...           ...           ...      ...  \n",
       "11326                 0      2        3409.4          26.0    308.0  \n",
       "11327                 0      2        7622.4          48.0    484.0  \n",
       "11328                 0      1        4928.2          23.0    234.0  \n",
       "11329                 0      4       13350.0          78.0    824.0  \n",
       "11330                 0      1        2371.7          16.0    178.0  \n",
       "\n",
       "[11331 rows x 10 columns]"
      ]
     },
     "execution_count": 47,
     "metadata": {},
     "output_type": "execute_result"
    }
   ],
   "source": [
    "df3['revenue'] = df3['start_ride_price'] * df3['count'] + df3['minute_price'] * df3['duration_sum'] + df3['subscription_fee']\n",
    "df3"
   ]
  },
  {
   "cell_type": "code",
   "execution_count": 48,
   "id": "1eb30052",
   "metadata": {},
   "outputs": [
    {
     "data": {
      "text/plain": [
       "subscription_type\n",
       "free     328.641365\n",
       "ultra    362.792191\n",
       "Name: revenue, dtype: float64"
      ]
     },
     "execution_count": 48,
     "metadata": {},
     "output_type": "execute_result"
    }
   ],
   "source": [
    "# Код ревьюера\n",
    "df3.groupby('subscription_type')['revenue'].mean()"
   ]
  },
  {
   "cell_type": "markdown",
   "id": "abcf04ec",
   "metadata": {},
   "source": [
    "**Вывод:** На этом этапе я округлил продолжительность каждой поездки в каждой строке исходного датафрейма до следующего целого числа и округлил дистанцию до 1 знака. Далее я создал датафрейм с агрегированными данными о поездках на основе датафрейма с объединёнными данными и нашел суммарное расстояние, количество поездок и суммарное время для каждого пользователя за каждый месяц. Так же добавил столбец с помесячной выручкой, которую принёс каждый пользователь."
   ]
  },
  {
   "cell_type": "markdown",
   "id": "41545ac0",
   "metadata": {},
   "source": [
    "#### Шаг 6. Проверка гипотез"
   ]
  },
  {
   "cell_type": "markdown",
   "id": "bd07961d",
   "metadata": {},
   "source": [
    "##### Проверка гипотезы -  \" тратят ли пользователи с подпиской больше времени на поездки\""
   ]
  },
  {
   "cell_type": "markdown",
   "id": "da38d61a",
   "metadata": {},
   "source": [
    "- Нулевая гипотеза: средние значения времени пользователей из двух групп равны.\n",
    "- Альтернативная гипотеза: среднее значение времени пользователей с подпиской больше, чем среднее значение времени пользователей без подписки."
   ]
  },
  {
   "cell_type": "code",
   "execution_count": 49,
   "id": "99712fd5",
   "metadata": {},
   "outputs": [
    {
     "name": "stdout",
     "output_type": "stream",
     "text": [
      "p-value: 1.2804098316645618e-34\n",
      "Отвергаем нулевую гипотезу\n"
     ]
    }
   ],
   "source": [
    "alpha = .05\n",
    "\n",
    "results = st.ttest_ind(\n",
    "    df_ultra['duration'], \n",
    "    df_free['duration'], \n",
    "     alternative='greater')\n",
    "\n",
    "print(f'p-value: {results.pvalue}')\n",
    "\n",
    "\n",
    "if results.pvalue < alpha:\n",
    "    print('Отвергаем нулевую гипотезу')\n",
    "else:\n",
    "    print('Нет оснований отвергнуть нулевую гипотезу')"
   ]
  },
  {
   "cell_type": "markdown",
   "id": "2da56f12",
   "metadata": {},
   "source": [
    "**вывод:** Пользователи с подпиской тратят больше времени на поездки,чем те кто без."
   ]
  },
  {
   "cell_type": "markdown",
   "id": "b631134b",
   "metadata": {},
   "source": [
    "##### Проверка гипотезы - \"Можно ли сказать, что расстояние, которое проезжают пользователи с подпиской за одну поездку, не превышает 3130 метров\""
   ]
  },
  {
   "cell_type": "markdown",
   "id": "36357ea6",
   "metadata": {},
   "source": [
    "- Нулевая гипотеза: средние значения расстояния пользователей не превышает 3130 метров.\n",
    "- Альтернативная гипотеза:  среднее значения расстояния пользователей превышает 3130 метров."
   ]
  },
  {
   "cell_type": "code",
   "execution_count": 51,
   "id": "1a3c5b0f",
   "metadata": {},
   "outputs": [
    {
     "name": "stdout",
     "output_type": "stream",
     "text": [
      "p-значение: 0.9195368847849785\n",
      "Не получилось отвергнуть нулевую гипотезу\n"
     ]
    }
   ],
   "source": [
    "optimal_distance = 3130\n",
    "\n",
    "alpha = .05\n",
    "\n",
    "results = st.ttest_1samp(\n",
    "    df_ultra['distance'], \n",
    "    optimal_distance,\n",
    "      alternative='greater')\n",
    "\n",
    "print('p-значение:', results.pvalue)\n",
    "\n",
    "if (results.pvalue < alpha):\n",
    "    print('Отвергаем нулевую гипотезу')\n",
    "else:\n",
    "    print('Не получилось отвергнуть нулевую гипотезу')"
   ]
  },
  {
   "cell_type": "markdown",
   "id": "1d7c9608",
   "metadata": {},
   "source": [
    "**Вывод:** Средняя дитанция, которую проезжают пользователи с подпиской за одну поездку не превышает 3130 метров."
   ]
  },
  {
   "cell_type": "markdown",
   "id": "8ed0d3a2",
   "metadata": {},
   "source": [
    "##### Проверка гипотезы - \"будет ли помесячная выручка от пользователей с подпиской по месяцам выше, чем выручка от пользователей без подписки\""
   ]
  },
  {
   "cell_type": "markdown",
   "id": "0fb5c441",
   "metadata": {},
   "source": [
    "- Нулевая гипотеза: средние значения выручки пользователей из двух групп равны.\n",
    "- Альтернативная гипотеза: среднее значение выручки от пользователей с подпиской больше, чем среднее значение выручки от пользователей без подписки."
   ]
  },
  {
   "cell_type": "code",
   "execution_count": 52,
   "id": "81daf948",
   "metadata": {},
   "outputs": [
    {
     "name": "stdout",
     "output_type": "stream",
     "text": [
      "p-value: 1.8850394384715216e-31\n",
      "Отвергаем нулевую гипотезу\n"
     ]
    }
   ],
   "source": [
    "first_group_ultra = df3.query('subscription_type == \"ultra\"')\n",
    "\n",
    "second_group_free = df3.query('subscription_type == \"free\"')\n",
    "\n",
    "alpha = .05\n",
    "\n",
    "results = st.ttest_ind(\n",
    "    first_group_ultra['revenue'], \n",
    "    second_group_free['revenue'], \n",
    "     alternative='greater')\n",
    "\n",
    "print(f'p-value: {results.pvalue}')\n",
    "\n",
    "\n",
    "if results.pvalue < alpha:\n",
    "    print('Отвергаем нулевую гипотезу')\n",
    "else:\n",
    "    print('Нет оснований отвергнуть нулевую гипотезу')"
   ]
  },
  {
   "cell_type": "markdown",
   "id": "dc072a04",
   "metadata": {},
   "source": [
    "**Вывод:** Есть основания говорить, что выручка от пользователей с подпиской выше чем без нее."
   ]
  },
  {
   "cell_type": "markdown",
   "id": "844ccb9d",
   "metadata": {},
   "source": [
    "##### Выбор теста для проверки этой гипотезы"
   ]
  },
  {
   "cell_type": "markdown",
   "id": "1b4ea607",
   "metadata": {},
   "source": [
    "Представьте такую ситуацию: техническая команда сервиса обновила сервера, с которыми взаимодействует мобильное приложение. Она надеется, что из-за этого количество обращений в техподдержку значимо снизилось. Некоторый файл содержит для каждого пользователя данные о количестве обращений до обновления и после него. Какой тест вам понадобился бы для проверки этой гипотезы?\n",
    "\n",
    "Для проверки данной гипотезы,нам нужен метод о равенстве средних гипотез для зависимых (парных) выборок."
   ]
  },
  {
   "cell_type": "markdown",
   "id": "61213c5e",
   "metadata": {},
   "source": [
    "#### Шаг 7. Распределения"
   ]
  },
  {
   "cell_type": "markdown",
   "id": "49f539c3",
   "metadata": {},
   "source": [
    "#### Шаг Общий вывод"
   ]
  },
  {
   "cell_type": "markdown",
   "id": "85fcf46a",
   "metadata": {},
   "source": [
    "По итогам проделанной работы было сделанно следующее:\n",
    "##### Открыл файл с данными и изучил иформацию\n",
    "- Загрузил данные из файла в датафрейм.\n",
    "- Вывел первые строки каждого набора данных. Изучил общую информацию о каждом датафрейме.Число пользоватей состовляет 1565 человек, каждый в среднем пользовался сервисом около 12 раз, есть те кто пользуется с подпиской и без нее, данные за 2021 год.\n",
    "##### Предобработал данные\n",
    "- Привел столбец date к типу даты pandas.\n",
    "- Создал новый столбец с номером месяца на основе столбца date.\n",
    "- Проверил наличие пропущенных значений и дубликатов в датафреймах.Пропусков нет, есть дубликаты в таблице в колличестве 31,удалил их, так как они будут мешать дальнейшему анализу.\n",
    "##### Исследовательский анализ данных\n",
    "- Визуализировал информацию о частоте встречаемости городов, чаще всего сервисом пользовались Пятигорске - 219 раз, меньше всего в Москве - 168 раз.\n",
    "- Изучил данные о количестве пользователей с подпиской и без нее, число пользователей без подписки больше чем тех,кто с подпиской, а именно 54.4 % и 45.6% соответственно.\n",
    "- Изучил данные о возрасте пользователей, больше всего польватей в возрасте 25 лет, меньше всего тем кому за 30 лет. Диапозон возрасной группы,которые чаще пользуются сервисом от 20 до 30.Основная часть данных с 22 до 28 лет.\n",
    "- зучил данные о расстоянии, которое пользователь преодолел за одну поездку, можно утверждать что большинство пользователей проезжает расстояние в 3200 м за одну сессию, есть и такие кто проезжал более 7 км, и менее 200 м.Основная часть данных с 2543 м до 3776 м.\n",
    "- Изучил данные о времени пользования, можно утверждать что большинство пользователей пользуется сервисом около 18 минут, также есть пользователи, которые пользовались сервисом за одну сессию более 36 минут и те кто пользовались менее одной минуты.Основная часть данных с 13 до 21 минуты.\n",
    "##### Объединенил данные\n",
    "- Объеденил три таблицы в одну и создал две отдельные для пользователей с подпиской и без нее.\n",
    "- Визуализировал данные о расстоянии и времени поездок для пользователей обеих категорий, в среднем они проезжают одинаковое расстояние за одну сессию, а время затраченное на одну поездку и пользователей с подпиской в среднем больше на 1 минуту и составляет 18 минут. Изучив данные о сумме времени и дистанции поездок для обеих категорий, можно сказать что пользователи без подписки проехали больше и дольше, это логичный вывод,если брать в расчет их большее количество.\n",
    "##### Посчитал выручку\n",
    "-  На этом этапе я округлил продолжительность каждой поездки в каждой строке исходного датафрейма до следующего целого числа и округлил дистанцию до 1 знака. Далее я создал датафрейм с агрегированными данными о поездках на основе датафрейма с объединёнными данными и нашел суммарное расстояние, количество поездок и суммарное время для каждого пользователя за каждый месяц\n",
    "- Так же добавил столбец с помесячной выручкой, которую принёс каждый пользователь.\n",
    "##### Проверил гипотезы\n",
    "- Проверив гипотезу - \" тратят ли пользователи с подпиской больше времени на поездки,чем те кто без нее\".Нулевая гипотеза: средние значения времени пользователей из двух групп равны.Альтернативная гипотеза: среднее значение времени пользователей с подпиской больше, чем среднее значение времени пользователей без подписки.Пользователи с подпиской тратят больше времени на поездки,чем те кто без.\n",
    "- Проверив гипотезу - \"Можно ли сказать, что расстояние, которое проезжают пользователи с подпиской за одну поездку, не превышает 3130 метров\".Нулевая гипотеза: средние значения расстояния пользователей не превышает 3130 метров.Альтернативная гипотеза: среднее значения расстояния пользователей превышает 3130 метров. Можно сделать вывод что  Средняя дитанция, которую проезжают пользователи с подпиской за одну поездку не превышает 3130 метров.\n",
    "- Проверив гипотезу - \"будет ли помесячная выручка от пользователей с подпиской по месяцам выше, чем выручка от пользователей без подписки\",Нулевая гипотеза: средние значения выручки пользователей из двух групп равны.Альтернативная гипотеза: среднее значение выручки от пользователей с подпиской больше, чем среднее значение выручки от пользователей без подписки. Можно сделать вывод то выручка от пользователей с подпиской выше чем без нее.\n",
    "- Для проверки данной гипотезы,нам нужен метод о равенстве средних гипотез для зависимых (парных) выборок.\n",
    "\n",
    "  **Пользователи с подпиской являются более выгодными для компании.**\n"
   ]
  },
  {
   "cell_type": "code",
   "execution_count": null,
   "id": "cc17131c",
   "metadata": {},
   "outputs": [],
   "source": []
  }
 ],
 "metadata": {
  "ExecuteTimeLog": [
   {
    "duration": 842,
    "start_time": "2023-05-22T12:04:58.315Z"
   },
   {
    "duration": 153,
    "start_time": "2023-05-22T12:04:59.685Z"
   },
   {
    "duration": 80,
    "start_time": "2023-05-22T12:05:34.776Z"
   },
   {
    "duration": 92,
    "start_time": "2023-05-22T12:05:35.828Z"
   },
   {
    "duration": 55,
    "start_time": "2023-05-22T12:05:36.757Z"
   },
   {
    "duration": 13,
    "start_time": "2023-05-22T12:05:37.895Z"
   },
   {
    "duration": 7,
    "start_time": "2023-05-22T12:05:41.975Z"
   },
   {
    "duration": 6,
    "start_time": "2023-05-22T12:05:44.132Z"
   },
   {
    "duration": 744,
    "start_time": "2023-05-22T12:06:32.132Z"
   },
   {
    "duration": 30,
    "start_time": "2023-05-22T12:06:32.878Z"
   },
   {
    "duration": 39,
    "start_time": "2023-05-22T12:06:33.736Z"
   },
   {
    "duration": 28,
    "start_time": "2023-05-22T12:06:34.158Z"
   },
   {
    "duration": 11,
    "start_time": "2023-05-22T12:06:34.910Z"
   },
   {
    "duration": 7,
    "start_time": "2023-05-22T12:06:35.708Z"
   },
   {
    "duration": 31,
    "start_time": "2023-05-22T12:07:00.802Z"
   },
   {
    "duration": 38,
    "start_time": "2023-05-22T12:07:01.547Z"
   },
   {
    "duration": 27,
    "start_time": "2023-05-22T12:07:02.087Z"
   },
   {
    "duration": 12,
    "start_time": "2023-05-22T12:07:02.705Z"
   },
   {
    "duration": 6,
    "start_time": "2023-05-22T12:07:04.734Z"
   },
   {
    "duration": 29,
    "start_time": "2023-05-22T12:07:19.302Z"
   },
   {
    "duration": 29,
    "start_time": "2023-05-22T12:07:19.705Z"
   },
   {
    "duration": 17,
    "start_time": "2023-05-22T12:07:20.079Z"
   },
   {
    "duration": 10,
    "start_time": "2023-05-22T12:07:20.504Z"
   },
   {
    "duration": 10,
    "start_time": "2023-05-22T12:07:20.894Z"
   },
   {
    "duration": 8,
    "start_time": "2023-05-22T12:07:21.324Z"
   },
   {
    "duration": 12,
    "start_time": "2023-05-22T12:07:58.102Z"
   },
   {
    "duration": 7,
    "start_time": "2023-05-22T12:09:39.169Z"
   },
   {
    "duration": 9,
    "start_time": "2023-05-22T12:09:47.360Z"
   },
   {
    "duration": 20,
    "start_time": "2023-05-22T12:14:35.842Z"
   },
   {
    "duration": 421,
    "start_time": "2023-05-22T12:14:53.981Z"
   },
   {
    "duration": 15,
    "start_time": "2023-05-22T12:15:57.117Z"
   },
   {
    "duration": 12,
    "start_time": "2023-05-22T12:17:22.014Z"
   },
   {
    "duration": 8,
    "start_time": "2023-05-22T12:17:33.143Z"
   },
   {
    "duration": 88,
    "start_time": "2023-05-22T12:20:43.491Z"
   },
   {
    "duration": 8,
    "start_time": "2023-05-22T12:20:57.102Z"
   },
   {
    "duration": 27,
    "start_time": "2023-05-22T12:21:08.300Z"
   },
   {
    "duration": 28,
    "start_time": "2023-05-22T12:22:27.841Z"
   },
   {
    "duration": 86,
    "start_time": "2023-05-22T12:26:01.115Z"
   },
   {
    "duration": 31,
    "start_time": "2023-05-22T12:26:14.004Z"
   },
   {
    "duration": 10,
    "start_time": "2023-05-22T12:28:37.344Z"
   },
   {
    "duration": 17,
    "start_time": "2023-05-22T12:28:49.899Z"
   },
   {
    "duration": 5,
    "start_time": "2023-05-22T12:29:37.316Z"
   },
   {
    "duration": 10,
    "start_time": "2023-05-22T12:31:25.304Z"
   },
   {
    "duration": 9,
    "start_time": "2023-05-22T12:31:49.328Z"
   },
   {
    "duration": 16,
    "start_time": "2023-05-22T12:35:05.214Z"
   },
   {
    "duration": 19,
    "start_time": "2023-05-22T12:36:30.239Z"
   },
   {
    "duration": 8,
    "start_time": "2023-05-22T12:37:08.473Z"
   },
   {
    "duration": 8,
    "start_time": "2023-05-22T12:37:32.840Z"
   },
   {
    "duration": 7,
    "start_time": "2023-05-22T12:37:49.566Z"
   },
   {
    "duration": 8,
    "start_time": "2023-05-22T12:37:58.272Z"
   },
   {
    "duration": 13,
    "start_time": "2023-05-22T12:41:11.544Z"
   },
   {
    "duration": 5,
    "start_time": "2023-05-22T12:41:33.603Z"
   },
   {
    "duration": 11,
    "start_time": "2023-05-22T12:48:55.998Z"
   },
   {
    "duration": 11,
    "start_time": "2023-05-22T12:49:17.440Z"
   },
   {
    "duration": 11,
    "start_time": "2023-05-22T12:49:31.814Z"
   },
   {
    "duration": 10,
    "start_time": "2023-05-22T12:49:45.602Z"
   },
   {
    "duration": 13,
    "start_time": "2023-05-22T12:50:34.957Z"
   },
   {
    "duration": 26,
    "start_time": "2023-05-22T12:52:56.566Z"
   },
   {
    "duration": 8,
    "start_time": "2023-05-22T12:53:31.125Z"
   },
   {
    "duration": 6,
    "start_time": "2023-05-22T12:53:33.604Z"
   },
   {
    "duration": 10,
    "start_time": "2023-05-22T12:53:38.881Z"
   },
   {
    "duration": 27,
    "start_time": "2023-05-22T13:00:20.502Z"
   },
   {
    "duration": 12,
    "start_time": "2023-05-22T13:00:35.118Z"
   },
   {
    "duration": 14,
    "start_time": "2023-05-22T13:00:54.109Z"
   },
   {
    "duration": 10,
    "start_time": "2023-05-22T13:00:56.473Z"
   },
   {
    "duration": 15,
    "start_time": "2023-05-22T13:02:36.968Z"
   },
   {
    "duration": 9,
    "start_time": "2023-05-22T13:02:39.000Z"
   },
   {
    "duration": 5,
    "start_time": "2023-05-22T13:03:25.505Z"
   },
   {
    "duration": 10,
    "start_time": "2023-05-22T13:03:28.128Z"
   },
   {
    "duration": 15,
    "start_time": "2023-05-22T13:06:36.303Z"
   },
   {
    "duration": 5,
    "start_time": "2023-05-22T13:13:18.672Z"
   },
   {
    "duration": 191,
    "start_time": "2023-05-22T13:14:25.283Z"
   },
   {
    "duration": 190,
    "start_time": "2023-05-22T13:14:43.588Z"
   },
   {
    "duration": 268,
    "start_time": "2023-05-22T13:14:50.672Z"
   },
   {
    "duration": 547,
    "start_time": "2023-05-22T13:15:24.241Z"
   },
   {
    "duration": 223,
    "start_time": "2023-05-22T13:15:32.254Z"
   },
   {
    "duration": 15,
    "start_time": "2023-05-22T13:17:17.589Z"
   },
   {
    "duration": 22859,
    "start_time": "2023-05-22T13:19:49.214Z"
   },
   {
    "duration": 14,
    "start_time": "2023-05-22T13:22:28.495Z"
   },
   {
    "duration": 77,
    "start_time": "2023-05-22T13:22:50.020Z"
   },
   {
    "duration": 11,
    "start_time": "2023-05-22T13:22:54.473Z"
   },
   {
    "duration": 14,
    "start_time": "2023-05-22T13:25:25.425Z"
   },
   {
    "duration": 715,
    "start_time": "2023-05-22T13:25:35.527Z"
   },
   {
    "duration": 44,
    "start_time": "2023-05-22T13:25:36.244Z"
   },
   {
    "duration": 30,
    "start_time": "2023-05-22T13:25:36.289Z"
   },
   {
    "duration": 17,
    "start_time": "2023-05-22T13:25:36.320Z"
   },
   {
    "duration": 22,
    "start_time": "2023-05-22T13:25:36.340Z"
   },
   {
    "duration": 30,
    "start_time": "2023-05-22T13:25:36.370Z"
   },
   {
    "duration": 66,
    "start_time": "2023-05-22T13:25:36.402Z"
   },
   {
    "duration": 41,
    "start_time": "2023-05-22T13:25:36.473Z"
   },
   {
    "duration": 14,
    "start_time": "2023-05-22T13:25:36.516Z"
   },
   {
    "duration": 43,
    "start_time": "2023-05-22T13:25:36.532Z"
   },
   {
    "duration": 16,
    "start_time": "2023-05-22T13:25:36.577Z"
   },
   {
    "duration": 19,
    "start_time": "2023-05-22T13:25:36.595Z"
   },
   {
    "duration": 12,
    "start_time": "2023-05-22T13:25:36.616Z"
   },
   {
    "duration": 10,
    "start_time": "2023-05-22T13:25:36.631Z"
   },
   {
    "duration": 43,
    "start_time": "2023-05-22T13:25:36.643Z"
   },
   {
    "duration": 30,
    "start_time": "2023-05-22T13:25:36.688Z"
   },
   {
    "duration": 10,
    "start_time": "2023-05-22T13:25:36.719Z"
   },
   {
    "duration": 10,
    "start_time": "2023-05-22T13:25:36.731Z"
   },
   {
    "duration": 137,
    "start_time": "2023-05-22T13:25:36.743Z"
   },
   {
    "duration": 0,
    "start_time": "2023-05-22T13:25:36.882Z"
   },
   {
    "duration": 207,
    "start_time": "2023-05-22T13:27:45.396Z"
   },
   {
    "duration": 214,
    "start_time": "2023-05-22T13:28:53.114Z"
   },
   {
    "duration": 331,
    "start_time": "2023-05-22T13:29:44.803Z"
   },
   {
    "duration": 232,
    "start_time": "2023-05-22T13:29:58.077Z"
   },
   {
    "duration": 297,
    "start_time": "2023-05-22T13:30:08.264Z"
   },
   {
    "duration": 82,
    "start_time": "2023-05-22T13:34:03.340Z"
   },
   {
    "duration": 9,
    "start_time": "2023-05-22T13:34:06.673Z"
   },
   {
    "duration": 6,
    "start_time": "2023-05-22T13:34:19.967Z"
   },
   {
    "duration": 7,
    "start_time": "2023-05-22T13:34:25.402Z"
   },
   {
    "duration": 298,
    "start_time": "2023-05-22T13:39:33.708Z"
   },
   {
    "duration": 202,
    "start_time": "2023-05-22T13:39:48.727Z"
   },
   {
    "duration": 352,
    "start_time": "2023-05-22T13:39:57.465Z"
   },
   {
    "duration": 8,
    "start_time": "2023-05-22T13:40:22.520Z"
   },
   {
    "duration": 10,
    "start_time": "2023-05-22T13:40:53.208Z"
   },
   {
    "duration": 12,
    "start_time": "2023-05-22T13:41:07.139Z"
   },
   {
    "duration": 16,
    "start_time": "2023-05-22T13:44:40.621Z"
   },
   {
    "duration": 53,
    "start_time": "2023-05-22T13:44:59.154Z"
   },
   {
    "duration": 73,
    "start_time": "2023-05-22T13:46:30.342Z"
   },
   {
    "duration": 9,
    "start_time": "2023-05-22T13:48:12.975Z"
   },
   {
    "duration": 356,
    "start_time": "2023-05-22T13:49:06.845Z"
   },
   {
    "duration": 8,
    "start_time": "2023-05-22T13:49:08.164Z"
   },
   {
    "duration": 8,
    "start_time": "2023-05-22T13:50:14.629Z"
   },
   {
    "duration": 371,
    "start_time": "2023-05-22T13:51:20.891Z"
   },
   {
    "duration": 121,
    "start_time": "2023-05-22T13:51:36.359Z"
   },
   {
    "duration": 9,
    "start_time": "2023-05-22T13:51:59.460Z"
   },
   {
    "duration": 9,
    "start_time": "2023-05-22T13:52:24.346Z"
   },
   {
    "duration": 258,
    "start_time": "2023-05-22T13:52:25.000Z"
   },
   {
    "duration": 3,
    "start_time": "2023-05-22T13:53:47.417Z"
   },
   {
    "duration": 19,
    "start_time": "2023-05-22T13:53:57.810Z"
   },
   {
    "duration": 14,
    "start_time": "2023-05-22T13:54:42.945Z"
   },
   {
    "duration": 23,
    "start_time": "2023-05-22T14:02:47.437Z"
   },
   {
    "duration": 32,
    "start_time": "2023-05-22T14:09:03.881Z"
   },
   {
    "duration": 27,
    "start_time": "2023-05-22T14:09:15.611Z"
   },
   {
    "duration": 688,
    "start_time": "2023-05-22T14:09:38.176Z"
   },
   {
    "duration": 35,
    "start_time": "2023-05-22T14:09:38.867Z"
   },
   {
    "duration": 35,
    "start_time": "2023-05-22T14:09:38.905Z"
   },
   {
    "duration": 32,
    "start_time": "2023-05-22T14:09:38.942Z"
   },
   {
    "duration": 46,
    "start_time": "2023-05-22T14:09:38.977Z"
   },
   {
    "duration": 53,
    "start_time": "2023-05-22T14:09:39.025Z"
   },
   {
    "duration": 46,
    "start_time": "2023-05-22T14:09:39.081Z"
   },
   {
    "duration": 43,
    "start_time": "2023-05-22T14:09:39.129Z"
   },
   {
    "duration": 32,
    "start_time": "2023-05-22T14:09:39.173Z"
   },
   {
    "duration": 42,
    "start_time": "2023-05-22T14:09:39.207Z"
   },
   {
    "duration": 39,
    "start_time": "2023-05-22T14:09:39.252Z"
   },
   {
    "duration": 48,
    "start_time": "2023-05-22T14:09:39.294Z"
   },
   {
    "duration": 35,
    "start_time": "2023-05-22T14:09:39.344Z"
   },
   {
    "duration": 27,
    "start_time": "2023-05-22T14:09:39.382Z"
   },
   {
    "duration": 46,
    "start_time": "2023-05-22T14:09:39.411Z"
   },
   {
    "duration": 23,
    "start_time": "2023-05-22T14:09:39.459Z"
   },
   {
    "duration": 28,
    "start_time": "2023-05-22T14:09:39.484Z"
   },
   {
    "duration": 35,
    "start_time": "2023-05-22T14:09:39.514Z"
   },
   {
    "duration": 284,
    "start_time": "2023-05-22T14:09:39.551Z"
   },
   {
    "duration": 16,
    "start_time": "2023-05-22T14:09:39.837Z"
   },
   {
    "duration": 114,
    "start_time": "2023-05-22T14:09:39.855Z"
   },
   {
    "duration": 0,
    "start_time": "2023-05-22T14:09:39.972Z"
   },
   {
    "duration": 0,
    "start_time": "2023-05-22T14:09:39.974Z"
   },
   {
    "duration": 0,
    "start_time": "2023-05-22T14:09:39.975Z"
   },
   {
    "duration": 34,
    "start_time": "2023-05-22T14:11:59.130Z"
   },
   {
    "duration": 708,
    "start_time": "2023-05-22T14:12:17.471Z"
   },
   {
    "duration": 31,
    "start_time": "2023-05-22T14:12:18.181Z"
   },
   {
    "duration": 30,
    "start_time": "2023-05-22T14:12:18.213Z"
   },
   {
    "duration": 27,
    "start_time": "2023-05-22T14:12:18.245Z"
   },
   {
    "duration": 25,
    "start_time": "2023-05-22T14:12:18.275Z"
   },
   {
    "duration": 27,
    "start_time": "2023-05-22T14:12:18.301Z"
   },
   {
    "duration": 25,
    "start_time": "2023-05-22T14:12:18.330Z"
   },
   {
    "duration": 21,
    "start_time": "2023-05-22T14:12:18.357Z"
   },
   {
    "duration": 19,
    "start_time": "2023-05-22T14:12:18.380Z"
   },
   {
    "duration": 11,
    "start_time": "2023-05-22T14:12:18.401Z"
   },
   {
    "duration": 28,
    "start_time": "2023-05-22T14:12:18.414Z"
   },
   {
    "duration": 22,
    "start_time": "2023-05-22T14:12:18.444Z"
   },
   {
    "duration": 9,
    "start_time": "2023-05-22T14:12:18.468Z"
   },
   {
    "duration": 8,
    "start_time": "2023-05-22T14:12:18.480Z"
   },
   {
    "duration": 14,
    "start_time": "2023-05-22T14:12:18.489Z"
   },
   {
    "duration": 25,
    "start_time": "2023-05-22T14:12:18.504Z"
   },
   {
    "duration": 7,
    "start_time": "2023-05-22T14:12:18.531Z"
   },
   {
    "duration": 18,
    "start_time": "2023-05-22T14:12:18.540Z"
   },
   {
    "duration": 309,
    "start_time": "2023-05-22T14:12:18.560Z"
   },
   {
    "duration": 9,
    "start_time": "2023-05-22T14:12:18.870Z"
   },
   {
    "duration": 116,
    "start_time": "2023-05-22T14:12:18.880Z"
   },
   {
    "duration": 0,
    "start_time": "2023-05-22T14:12:18.998Z"
   },
   {
    "duration": 0,
    "start_time": "2023-05-22T14:12:19.000Z"
   },
   {
    "duration": 0,
    "start_time": "2023-05-22T14:12:19.001Z"
   },
   {
    "duration": 21,
    "start_time": "2023-05-22T14:13:11.153Z"
   },
   {
    "duration": 22,
    "start_time": "2023-05-22T14:13:32.738Z"
   },
   {
    "duration": 687,
    "start_time": "2023-05-22T14:13:39.066Z"
   },
   {
    "duration": 30,
    "start_time": "2023-05-22T14:13:39.755Z"
   },
   {
    "duration": 29,
    "start_time": "2023-05-22T14:13:39.787Z"
   },
   {
    "duration": 17,
    "start_time": "2023-05-22T14:13:39.817Z"
   },
   {
    "duration": 13,
    "start_time": "2023-05-22T14:13:39.836Z"
   },
   {
    "duration": 16,
    "start_time": "2023-05-22T14:13:39.851Z"
   },
   {
    "duration": 13,
    "start_time": "2023-05-22T14:13:39.868Z"
   },
   {
    "duration": 30,
    "start_time": "2023-05-22T14:13:39.883Z"
   },
   {
    "duration": 19,
    "start_time": "2023-05-22T14:13:39.915Z"
   },
   {
    "duration": 21,
    "start_time": "2023-05-22T14:13:39.936Z"
   },
   {
    "duration": 19,
    "start_time": "2023-05-22T14:13:39.959Z"
   },
   {
    "duration": 10,
    "start_time": "2023-05-22T14:13:39.979Z"
   },
   {
    "duration": 29,
    "start_time": "2023-05-22T14:13:39.991Z"
   },
   {
    "duration": 28,
    "start_time": "2023-05-22T14:13:40.023Z"
   },
   {
    "duration": 19,
    "start_time": "2023-05-22T14:13:40.053Z"
   },
   {
    "duration": 49,
    "start_time": "2023-05-22T14:13:40.074Z"
   },
   {
    "duration": 25,
    "start_time": "2023-05-22T14:13:40.125Z"
   },
   {
    "duration": 33,
    "start_time": "2023-05-22T14:13:40.152Z"
   },
   {
    "duration": 287,
    "start_time": "2023-05-22T14:13:40.187Z"
   },
   {
    "duration": 8,
    "start_time": "2023-05-22T14:13:40.476Z"
   },
   {
    "duration": 118,
    "start_time": "2023-05-22T14:13:40.486Z"
   },
   {
    "duration": 0,
    "start_time": "2023-05-22T14:13:40.606Z"
   },
   {
    "duration": 0,
    "start_time": "2023-05-22T14:13:40.607Z"
   },
   {
    "duration": 0,
    "start_time": "2023-05-22T14:13:40.608Z"
   },
   {
    "duration": 264,
    "start_time": "2023-05-22T14:15:34.028Z"
   },
   {
    "duration": 16,
    "start_time": "2023-05-22T14:16:20.347Z"
   },
   {
    "duration": 115,
    "start_time": "2023-05-22T14:20:33.896Z"
   },
   {
    "duration": 9,
    "start_time": "2023-05-22T14:20:34.968Z"
   },
   {
    "duration": 379,
    "start_time": "2023-05-22T14:20:35.389Z"
   },
   {
    "duration": 322,
    "start_time": "2023-05-22T14:21:51.529Z"
   },
   {
    "duration": 11,
    "start_time": "2023-05-22T14:23:18.104Z"
   },
   {
    "duration": 495,
    "start_time": "2023-05-22T14:23:43.112Z"
   },
   {
    "duration": 333,
    "start_time": "2023-05-22T14:24:16.091Z"
   },
   {
    "duration": 411,
    "start_time": "2023-05-22T14:26:46.937Z"
   },
   {
    "duration": 441,
    "start_time": "2023-05-22T14:27:00.105Z"
   },
   {
    "duration": 78,
    "start_time": "2023-05-22T14:35:59.025Z"
   },
   {
    "duration": 447,
    "start_time": "2023-05-22T14:36:06.027Z"
   },
   {
    "duration": 188,
    "start_time": "2023-05-22T14:36:30.190Z"
   },
   {
    "duration": 173,
    "start_time": "2023-05-22T14:37:01.444Z"
   },
   {
    "duration": 307,
    "start_time": "2023-05-22T14:38:01.475Z"
   },
   {
    "duration": 179,
    "start_time": "2023-05-22T14:38:14.751Z"
   },
   {
    "duration": 162,
    "start_time": "2023-05-22T14:39:03.760Z"
   },
   {
    "duration": 164,
    "start_time": "2023-05-22T14:39:26.994Z"
   },
   {
    "duration": 179,
    "start_time": "2023-05-22T14:39:42.301Z"
   },
   {
    "duration": 305,
    "start_time": "2023-05-22T14:39:55.320Z"
   },
   {
    "duration": 4,
    "start_time": "2023-05-22T14:49:35.149Z"
   },
   {
    "duration": 10,
    "start_time": "2023-05-22T14:50:08.506Z"
   },
   {
    "duration": 8,
    "start_time": "2023-05-22T14:50:14.551Z"
   },
   {
    "duration": 7,
    "start_time": "2023-05-22T14:50:40.257Z"
   },
   {
    "duration": 6,
    "start_time": "2023-05-22T14:53:04.045Z"
   },
   {
    "duration": 7,
    "start_time": "2023-05-22T14:53:16.229Z"
   },
   {
    "duration": 60,
    "start_time": "2023-05-22T14:53:27.723Z"
   },
   {
    "duration": 6,
    "start_time": "2023-05-22T14:55:18.410Z"
   },
   {
    "duration": 7,
    "start_time": "2023-05-22T14:56:23.018Z"
   },
   {
    "duration": 7,
    "start_time": "2023-05-22T14:56:34.854Z"
   },
   {
    "duration": 7,
    "start_time": "2023-05-22T14:58:28.923Z"
   },
   {
    "duration": 6,
    "start_time": "2023-05-22T14:58:39.808Z"
   },
   {
    "duration": 7,
    "start_time": "2023-05-22T15:00:43.241Z"
   },
   {
    "duration": 6,
    "start_time": "2023-05-22T15:01:23.320Z"
   },
   {
    "duration": 8,
    "start_time": "2023-05-22T15:01:28.846Z"
   },
   {
    "duration": 7,
    "start_time": "2023-05-22T15:01:31.771Z"
   },
   {
    "duration": 55,
    "start_time": "2023-05-22T15:01:36.209Z"
   },
   {
    "duration": 6,
    "start_time": "2023-05-22T15:01:42.740Z"
   },
   {
    "duration": 10,
    "start_time": "2023-05-22T15:04:14.439Z"
   },
   {
    "duration": 6,
    "start_time": "2023-05-22T15:04:56.140Z"
   },
   {
    "duration": 6,
    "start_time": "2023-05-22T15:05:02.842Z"
   },
   {
    "duration": 4,
    "start_time": "2023-05-22T15:05:21.507Z"
   },
   {
    "duration": 6,
    "start_time": "2023-05-22T15:05:40.475Z"
   },
   {
    "duration": 7,
    "start_time": "2023-05-22T15:05:55.852Z"
   },
   {
    "duration": 6,
    "start_time": "2023-05-22T15:06:18.668Z"
   },
   {
    "duration": 7,
    "start_time": "2023-05-22T15:07:47.225Z"
   },
   {
    "duration": 6,
    "start_time": "2023-05-22T15:08:10.245Z"
   },
   {
    "duration": 6,
    "start_time": "2023-05-22T15:08:43.307Z"
   },
   {
    "duration": 7,
    "start_time": "2023-05-22T15:09:08.783Z"
   },
   {
    "duration": 6,
    "start_time": "2023-05-22T15:10:13.215Z"
   },
   {
    "duration": 7,
    "start_time": "2023-05-22T15:10:23.338Z"
   },
   {
    "duration": 6,
    "start_time": "2023-05-22T15:12:36.293Z"
   },
   {
    "duration": 6,
    "start_time": "2023-05-22T15:12:43.591Z"
   },
   {
    "duration": 10,
    "start_time": "2023-05-22T15:57:29.155Z"
   },
   {
    "duration": 12,
    "start_time": "2023-05-22T15:57:37.621Z"
   },
   {
    "duration": 19,
    "start_time": "2023-05-22T15:57:42.805Z"
   },
   {
    "duration": 10,
    "start_time": "2023-05-22T16:09:52.798Z"
   },
   {
    "duration": 18,
    "start_time": "2023-05-22T16:10:01.039Z"
   },
   {
    "duration": 20,
    "start_time": "2023-05-22T16:11:16.639Z"
   },
   {
    "duration": 23,
    "start_time": "2023-05-22T16:11:42.593Z"
   },
   {
    "duration": 7,
    "start_time": "2023-05-22T16:15:39.661Z"
   },
   {
    "duration": 726,
    "start_time": "2023-05-22T16:15:56.640Z"
   },
   {
    "duration": 31,
    "start_time": "2023-05-22T16:15:57.368Z"
   },
   {
    "duration": 30,
    "start_time": "2023-05-22T16:15:57.401Z"
   },
   {
    "duration": 17,
    "start_time": "2023-05-22T16:15:57.433Z"
   },
   {
    "duration": 18,
    "start_time": "2023-05-22T16:15:57.452Z"
   },
   {
    "duration": 25,
    "start_time": "2023-05-22T16:15:57.473Z"
   },
   {
    "duration": 20,
    "start_time": "2023-05-22T16:15:57.500Z"
   },
   {
    "duration": 16,
    "start_time": "2023-05-22T16:15:57.522Z"
   },
   {
    "duration": 8,
    "start_time": "2023-05-22T16:15:57.540Z"
   },
   {
    "duration": 25,
    "start_time": "2023-05-22T16:15:57.550Z"
   },
   {
    "duration": 6,
    "start_time": "2023-05-22T16:15:57.577Z"
   },
   {
    "duration": 7,
    "start_time": "2023-05-22T16:15:57.585Z"
   },
   {
    "duration": 9,
    "start_time": "2023-05-22T16:15:57.594Z"
   },
   {
    "duration": 29,
    "start_time": "2023-05-22T16:15:57.607Z"
   },
   {
    "duration": 15,
    "start_time": "2023-05-22T16:15:57.638Z"
   },
   {
    "duration": 35,
    "start_time": "2023-05-22T16:15:57.655Z"
   },
   {
    "duration": 6,
    "start_time": "2023-05-22T16:15:57.692Z"
   },
   {
    "duration": 23,
    "start_time": "2023-05-22T16:15:57.699Z"
   },
   {
    "duration": 285,
    "start_time": "2023-05-22T16:15:57.724Z"
   },
   {
    "duration": 7,
    "start_time": "2023-05-22T16:15:58.011Z"
   },
   {
    "duration": 13,
    "start_time": "2023-05-22T16:15:58.020Z"
   },
   {
    "duration": 132,
    "start_time": "2023-05-22T16:15:58.035Z"
   },
   {
    "duration": 9,
    "start_time": "2023-05-22T16:15:58.169Z"
   },
   {
    "duration": 403,
    "start_time": "2023-05-22T16:15:58.180Z"
   },
   {
    "duration": 321,
    "start_time": "2023-05-22T16:15:58.585Z"
   },
   {
    "duration": 190,
    "start_time": "2023-05-22T16:15:58.908Z"
   },
   {
    "duration": 322,
    "start_time": "2023-05-22T16:15:59.100Z"
   },
   {
    "duration": 446,
    "start_time": "2023-05-22T16:15:59.424Z"
   },
   {
    "duration": 287,
    "start_time": "2023-05-22T16:15:59.871Z"
   },
   {
    "duration": 176,
    "start_time": "2023-05-22T16:16:00.159Z"
   },
   {
    "duration": 10,
    "start_time": "2023-05-22T16:16:00.345Z"
   },
   {
    "duration": 47,
    "start_time": "2023-05-22T16:16:00.357Z"
   },
   {
    "duration": 97,
    "start_time": "2023-05-22T16:19:31.199Z"
   },
   {
    "duration": 24,
    "start_time": "2023-05-22T16:19:46.943Z"
   },
   {
    "duration": 21,
    "start_time": "2023-05-22T16:20:08.951Z"
   },
   {
    "duration": 420,
    "start_time": "2023-05-22T16:27:46.195Z"
   },
   {
    "duration": 423,
    "start_time": "2023-05-22T16:27:48.271Z"
   },
   {
    "duration": 517,
    "start_time": "2023-05-22T16:27:48.882Z"
   },
   {
    "duration": 448,
    "start_time": "2023-05-22T16:27:49.643Z"
   },
   {
    "duration": 321,
    "start_time": "2023-05-22T16:28:15.863Z"
   },
   {
    "duration": 204,
    "start_time": "2023-05-22T16:28:28.042Z"
   },
   {
    "duration": 329,
    "start_time": "2023-05-22T16:28:37.323Z"
   },
   {
    "duration": 295,
    "start_time": "2023-05-22T16:28:47.758Z"
   },
   {
    "duration": 304,
    "start_time": "2023-05-22T16:29:27.037Z"
   },
   {
    "duration": 626,
    "start_time": "2023-05-22T16:40:34.998Z"
   },
   {
    "duration": 31,
    "start_time": "2023-05-22T16:40:35.626Z"
   },
   {
    "duration": 29,
    "start_time": "2023-05-22T16:40:35.659Z"
   },
   {
    "duration": 16,
    "start_time": "2023-05-22T16:40:35.690Z"
   },
   {
    "duration": 16,
    "start_time": "2023-05-22T16:40:35.709Z"
   },
   {
    "duration": 13,
    "start_time": "2023-05-22T16:40:35.727Z"
   },
   {
    "duration": 41,
    "start_time": "2023-05-22T16:40:35.742Z"
   },
   {
    "duration": 16,
    "start_time": "2023-05-22T16:40:35.785Z"
   },
   {
    "duration": 7,
    "start_time": "2023-05-22T16:40:35.803Z"
   },
   {
    "duration": 11,
    "start_time": "2023-05-22T16:40:35.812Z"
   },
   {
    "duration": 7,
    "start_time": "2023-05-22T16:40:35.825Z"
   },
   {
    "duration": 13,
    "start_time": "2023-05-22T16:40:35.834Z"
   },
   {
    "duration": 8,
    "start_time": "2023-05-22T16:40:35.848Z"
   },
   {
    "duration": 9,
    "start_time": "2023-05-22T16:40:35.859Z"
   },
   {
    "duration": 10,
    "start_time": "2023-05-22T16:40:35.869Z"
   },
   {
    "duration": 28,
    "start_time": "2023-05-22T16:40:35.881Z"
   },
   {
    "duration": 5,
    "start_time": "2023-05-22T16:40:35.911Z"
   },
   {
    "duration": 30,
    "start_time": "2023-05-22T16:40:35.918Z"
   },
   {
    "duration": 293,
    "start_time": "2023-05-22T16:40:35.950Z"
   },
   {
    "duration": 8,
    "start_time": "2023-05-22T16:40:36.246Z"
   },
   {
    "duration": 8,
    "start_time": "2023-05-22T16:40:36.256Z"
   },
   {
    "duration": 147,
    "start_time": "2023-05-22T16:40:36.265Z"
   },
   {
    "duration": 9,
    "start_time": "2023-05-22T16:40:36.413Z"
   },
   {
    "duration": 394,
    "start_time": "2023-05-22T16:40:36.424Z"
   },
   {
    "duration": 317,
    "start_time": "2023-05-22T16:40:36.819Z"
   },
   {
    "duration": 210,
    "start_time": "2023-05-22T16:40:37.138Z"
   },
   {
    "duration": 322,
    "start_time": "2023-05-22T16:40:37.350Z"
   },
   {
    "duration": 453,
    "start_time": "2023-05-22T16:40:37.674Z"
   },
   {
    "duration": 304,
    "start_time": "2023-05-22T16:40:38.129Z"
   },
   {
    "duration": 171,
    "start_time": "2023-05-22T16:40:38.435Z"
   },
   {
    "duration": 10,
    "start_time": "2023-05-22T16:40:38.608Z"
   },
   {
    "duration": 48,
    "start_time": "2023-05-22T16:40:38.620Z"
   },
   {
    "duration": 24,
    "start_time": "2023-05-22T16:40:38.670Z"
   },
   {
    "duration": 22,
    "start_time": "2023-05-22T16:40:38.696Z"
   },
   {
    "duration": 333,
    "start_time": "2023-05-22T16:40:38.720Z"
   },
   {
    "duration": 238,
    "start_time": "2023-05-22T16:40:39.056Z"
   },
   {
    "duration": 321,
    "start_time": "2023-05-22T16:40:39.296Z"
   },
   {
    "duration": 401,
    "start_time": "2023-05-22T16:40:39.619Z"
   },
   {
    "duration": 32,
    "start_time": "2023-05-22T16:40:40.022Z"
   },
   {
    "duration": 24,
    "start_time": "2023-05-22T16:44:59.921Z"
   },
   {
    "duration": 29,
    "start_time": "2023-05-22T16:45:31.145Z"
   },
   {
    "duration": 17,
    "start_time": "2023-05-22T16:47:33.403Z"
   },
   {
    "duration": 14,
    "start_time": "2023-05-22T16:47:48.041Z"
   },
   {
    "duration": 13,
    "start_time": "2023-05-22T16:48:33.317Z"
   },
   {
    "duration": 14,
    "start_time": "2023-05-22T16:49:04.750Z"
   },
   {
    "duration": 14,
    "start_time": "2023-05-22T16:50:56.388Z"
   },
   {
    "duration": 56,
    "start_time": "2023-05-22T16:51:25.558Z"
   },
   {
    "duration": 14,
    "start_time": "2023-05-22T16:51:32.892Z"
   },
   {
    "duration": 54,
    "start_time": "2023-05-22T16:51:43.046Z"
   },
   {
    "duration": 16,
    "start_time": "2023-05-22T16:52:03.924Z"
   },
   {
    "duration": 15,
    "start_time": "2023-05-22T16:53:13.201Z"
   },
   {
    "duration": 14,
    "start_time": "2023-05-22T16:53:59.552Z"
   },
   {
    "duration": 14,
    "start_time": "2023-05-22T16:54:20.998Z"
   },
   {
    "duration": 15,
    "start_time": "2023-05-22T16:54:39.923Z"
   },
   {
    "duration": 13,
    "start_time": "2023-05-22T16:57:23.240Z"
   },
   {
    "duration": 13,
    "start_time": "2023-05-22T16:58:03.577Z"
   },
   {
    "duration": 5,
    "start_time": "2023-05-22T17:00:15.063Z"
   },
   {
    "duration": 21,
    "start_time": "2023-05-22T17:00:32.137Z"
   },
   {
    "duration": 32,
    "start_time": "2023-05-22T17:02:01.540Z"
   },
   {
    "duration": 27,
    "start_time": "2023-05-22T17:02:40.309Z"
   },
   {
    "duration": 27,
    "start_time": "2023-05-22T17:05:48.619Z"
   },
   {
    "duration": 26,
    "start_time": "2023-05-22T17:06:17.899Z"
   },
   {
    "duration": 36,
    "start_time": "2023-05-22T17:09:46.439Z"
   },
   {
    "duration": 32,
    "start_time": "2023-05-22T17:12:14.095Z"
   },
   {
    "duration": 31,
    "start_time": "2023-05-22T17:13:05.875Z"
   },
   {
    "duration": 29,
    "start_time": "2023-05-22T17:13:43.839Z"
   },
   {
    "duration": 23,
    "start_time": "2023-05-22T17:14:16.832Z"
   },
   {
    "duration": 23,
    "start_time": "2023-05-22T17:18:45.589Z"
   },
   {
    "duration": 83,
    "start_time": "2023-05-22T17:20:45.189Z"
   },
   {
    "duration": 3,
    "start_time": "2023-05-22T17:22:05.836Z"
   },
   {
    "duration": 5,
    "start_time": "2023-05-22T17:22:16.223Z"
   },
   {
    "duration": 8,
    "start_time": "2023-05-22T17:24:13.434Z"
   },
   {
    "duration": 4,
    "start_time": "2023-05-22T17:24:21.337Z"
   },
   {
    "duration": 16,
    "start_time": "2023-05-22T17:25:10.414Z"
   },
   {
    "duration": 18,
    "start_time": "2023-05-22T17:25:50.103Z"
   },
   {
    "duration": 663,
    "start_time": "2023-05-22T17:27:55.146Z"
   },
   {
    "duration": 31,
    "start_time": "2023-05-22T17:27:55.811Z"
   },
   {
    "duration": 39,
    "start_time": "2023-05-22T17:27:55.844Z"
   },
   {
    "duration": 17,
    "start_time": "2023-05-22T17:27:55.886Z"
   },
   {
    "duration": 23,
    "start_time": "2023-05-22T17:27:55.905Z"
   },
   {
    "duration": 21,
    "start_time": "2023-05-22T17:27:55.930Z"
   },
   {
    "duration": 24,
    "start_time": "2023-05-22T17:27:55.953Z"
   },
   {
    "duration": 24,
    "start_time": "2023-05-22T17:27:55.979Z"
   },
   {
    "duration": 16,
    "start_time": "2023-05-22T17:27:56.006Z"
   },
   {
    "duration": 18,
    "start_time": "2023-05-22T17:27:56.026Z"
   },
   {
    "duration": 11,
    "start_time": "2023-05-22T17:27:56.046Z"
   },
   {
    "duration": 15,
    "start_time": "2023-05-22T17:27:56.058Z"
   },
   {
    "duration": 15,
    "start_time": "2023-05-22T17:27:56.075Z"
   },
   {
    "duration": 14,
    "start_time": "2023-05-22T17:27:56.092Z"
   },
   {
    "duration": 7,
    "start_time": "2023-05-22T17:27:56.109Z"
   },
   {
    "duration": 33,
    "start_time": "2023-05-22T17:27:56.118Z"
   },
   {
    "duration": 20,
    "start_time": "2023-05-22T17:27:56.153Z"
   },
   {
    "duration": 33,
    "start_time": "2023-05-22T17:27:56.175Z"
   },
   {
    "duration": 287,
    "start_time": "2023-05-22T17:27:56.211Z"
   },
   {
    "duration": 9,
    "start_time": "2023-05-22T17:27:56.500Z"
   },
   {
    "duration": 30,
    "start_time": "2023-05-22T17:27:56.510Z"
   },
   {
    "duration": 133,
    "start_time": "2023-05-22T17:27:56.542Z"
   },
   {
    "duration": 8,
    "start_time": "2023-05-22T17:27:56.677Z"
   },
   {
    "duration": 385,
    "start_time": "2023-05-22T17:27:56.687Z"
   },
   {
    "duration": 326,
    "start_time": "2023-05-22T17:27:57.073Z"
   },
   {
    "duration": 197,
    "start_time": "2023-05-22T17:27:57.402Z"
   },
   {
    "duration": 338,
    "start_time": "2023-05-22T17:27:57.601Z"
   },
   {
    "duration": 487,
    "start_time": "2023-05-22T17:27:57.942Z"
   },
   {
    "duration": 292,
    "start_time": "2023-05-22T17:27:58.430Z"
   },
   {
    "duration": 184,
    "start_time": "2023-05-22T17:27:58.724Z"
   },
   {
    "duration": 11,
    "start_time": "2023-05-22T17:27:58.910Z"
   },
   {
    "duration": 42,
    "start_time": "2023-05-22T17:27:58.924Z"
   },
   {
    "duration": 28,
    "start_time": "2023-05-22T17:27:58.968Z"
   },
   {
    "duration": 51,
    "start_time": "2023-05-22T17:27:58.998Z"
   },
   {
    "duration": 314,
    "start_time": "2023-05-22T17:27:59.051Z"
   },
   {
    "duration": 16,
    "start_time": "2023-05-22T17:27:59.367Z"
   },
   {
    "duration": 251,
    "start_time": "2023-05-22T17:27:59.385Z"
   },
   {
    "duration": 19,
    "start_time": "2023-05-22T17:27:59.638Z"
   },
   {
    "duration": 322,
    "start_time": "2023-05-22T17:27:59.658Z"
   },
   {
    "duration": 15,
    "start_time": "2023-05-22T17:27:59.982Z"
   },
   {
    "duration": 422,
    "start_time": "2023-05-22T17:27:59.999Z"
   },
   {
    "duration": 27,
    "start_time": "2023-05-22T17:28:00.423Z"
   },
   {
    "duration": 30,
    "start_time": "2023-05-22T17:28:00.452Z"
   },
   {
    "duration": 95,
    "start_time": "2023-05-22T17:28:00.484Z"
   },
   {
    "duration": 7,
    "start_time": "2023-05-22T17:29:52.790Z"
   },
   {
    "duration": 8,
    "start_time": "2023-05-22T17:36:03.239Z"
   },
   {
    "duration": 52,
    "start_time": "2023-05-22T17:40:08.032Z"
   },
   {
    "duration": 7,
    "start_time": "2023-05-22T17:42:45.184Z"
   },
   {
    "duration": 18,
    "start_time": "2023-05-22T17:43:32.138Z"
   },
   {
    "duration": 19,
    "start_time": "2023-05-22T17:44:31.133Z"
   },
   {
    "duration": 41,
    "start_time": "2023-05-22T17:46:25.049Z"
   },
   {
    "duration": 30,
    "start_time": "2023-05-22T17:47:01.846Z"
   },
   {
    "duration": 36,
    "start_time": "2023-05-22T17:47:50.339Z"
   },
   {
    "duration": 8,
    "start_time": "2023-05-22T17:55:55.983Z"
   },
   {
    "duration": 26,
    "start_time": "2023-05-22T17:57:12.240Z"
   },
   {
    "duration": 27,
    "start_time": "2023-05-22T17:57:27.060Z"
   },
   {
    "duration": 28,
    "start_time": "2023-05-22T17:58:15.021Z"
   },
   {
    "duration": 32,
    "start_time": "2023-05-22T17:58:35.601Z"
   },
   {
    "duration": 20,
    "start_time": "2023-05-22T19:40:57.542Z"
   },
   {
    "duration": 25,
    "start_time": "2023-05-22T19:41:24.134Z"
   },
   {
    "duration": 8,
    "start_time": "2023-05-22T19:42:37.493Z"
   },
   {
    "duration": 7,
    "start_time": "2023-05-22T19:44:21.024Z"
   },
   {
    "duration": 40,
    "start_time": "2023-05-22T19:44:46.123Z"
   },
   {
    "duration": 37,
    "start_time": "2023-05-22T19:45:24.691Z"
   },
   {
    "duration": 744,
    "start_time": "2023-05-22T19:45:31.761Z"
   },
   {
    "duration": 35,
    "start_time": "2023-05-22T19:45:32.507Z"
   },
   {
    "duration": 47,
    "start_time": "2023-05-22T19:45:32.543Z"
   },
   {
    "duration": 17,
    "start_time": "2023-05-22T19:45:32.592Z"
   },
   {
    "duration": 17,
    "start_time": "2023-05-22T19:45:32.612Z"
   },
   {
    "duration": 29,
    "start_time": "2023-05-22T19:45:32.631Z"
   },
   {
    "duration": 21,
    "start_time": "2023-05-22T19:45:32.662Z"
   },
   {
    "duration": 22,
    "start_time": "2023-05-22T19:45:32.685Z"
   },
   {
    "duration": 7,
    "start_time": "2023-05-22T19:45:32.709Z"
   },
   {
    "duration": 13,
    "start_time": "2023-05-22T19:45:32.718Z"
   },
   {
    "duration": 28,
    "start_time": "2023-05-22T19:45:32.733Z"
   },
   {
    "duration": 14,
    "start_time": "2023-05-22T19:45:32.763Z"
   },
   {
    "duration": 19,
    "start_time": "2023-05-22T19:45:32.779Z"
   },
   {
    "duration": 22,
    "start_time": "2023-05-22T19:45:32.801Z"
   },
   {
    "duration": 14,
    "start_time": "2023-05-22T19:45:32.824Z"
   },
   {
    "duration": 26,
    "start_time": "2023-05-22T19:45:32.840Z"
   },
   {
    "duration": 4,
    "start_time": "2023-05-22T19:45:32.868Z"
   },
   {
    "duration": 23,
    "start_time": "2023-05-22T19:45:32.874Z"
   },
   {
    "duration": 308,
    "start_time": "2023-05-22T19:45:32.899Z"
   },
   {
    "duration": 9,
    "start_time": "2023-05-22T19:45:33.209Z"
   },
   {
    "duration": 16,
    "start_time": "2023-05-22T19:45:33.220Z"
   },
   {
    "duration": 138,
    "start_time": "2023-05-22T19:45:33.237Z"
   },
   {
    "duration": 9,
    "start_time": "2023-05-22T19:45:33.376Z"
   },
   {
    "duration": 381,
    "start_time": "2023-05-22T19:45:33.386Z"
   },
   {
    "duration": 319,
    "start_time": "2023-05-22T19:45:33.768Z"
   },
   {
    "duration": 200,
    "start_time": "2023-05-22T19:45:34.088Z"
   },
   {
    "duration": 341,
    "start_time": "2023-05-22T19:45:34.290Z"
   },
   {
    "duration": 442,
    "start_time": "2023-05-22T19:45:34.633Z"
   },
   {
    "duration": 300,
    "start_time": "2023-05-22T19:45:35.077Z"
   },
   {
    "duration": 182,
    "start_time": "2023-05-22T19:45:35.379Z"
   },
   {
    "duration": 10,
    "start_time": "2023-05-22T19:45:35.563Z"
   },
   {
    "duration": 55,
    "start_time": "2023-05-22T19:45:35.575Z"
   },
   {
    "duration": 31,
    "start_time": "2023-05-22T19:45:35.631Z"
   },
   {
    "duration": 20,
    "start_time": "2023-05-22T19:45:35.664Z"
   },
   {
    "duration": 330,
    "start_time": "2023-05-22T19:45:35.686Z"
   },
   {
    "duration": 15,
    "start_time": "2023-05-22T19:45:36.017Z"
   },
   {
    "duration": 249,
    "start_time": "2023-05-22T19:45:36.033Z"
   },
   {
    "duration": 16,
    "start_time": "2023-05-22T19:45:36.284Z"
   },
   {
    "duration": 335,
    "start_time": "2023-05-22T19:45:36.301Z"
   },
   {
    "duration": 30,
    "start_time": "2023-05-22T19:45:36.639Z"
   },
   {
    "duration": 409,
    "start_time": "2023-05-22T19:45:36.673Z"
   },
   {
    "duration": 13,
    "start_time": "2023-05-22T19:45:37.084Z"
   },
   {
    "duration": 27,
    "start_time": "2023-05-22T19:45:37.099Z"
   },
   {
    "duration": 24,
    "start_time": "2023-05-22T19:45:37.149Z"
   },
   {
    "duration": 38,
    "start_time": "2023-05-22T19:45:37.176Z"
   },
   {
    "duration": 38,
    "start_time": "2023-05-22T19:45:58.436Z"
   },
   {
    "duration": 89,
    "start_time": "2023-05-22T19:46:11.593Z"
   },
   {
    "duration": 38,
    "start_time": "2023-05-22T19:46:23.538Z"
   },
   {
    "duration": 9,
    "start_time": "2023-05-22T20:00:57.393Z"
   },
   {
    "duration": 6,
    "start_time": "2023-05-22T20:05:36.551Z"
   },
   {
    "duration": 6,
    "start_time": "2023-05-22T20:05:58.931Z"
   },
   {
    "duration": 128,
    "start_time": "2023-05-22T20:08:14.681Z"
   },
   {
    "duration": 429,
    "start_time": "2023-05-22T20:09:00.150Z"
   },
   {
    "duration": 126,
    "start_time": "2023-05-22T20:09:43.048Z"
   },
   {
    "duration": 10,
    "start_time": "2023-05-22T20:15:57.349Z"
   },
   {
    "duration": 10,
    "start_time": "2023-05-22T20:18:15.750Z"
   },
   {
    "duration": 9,
    "start_time": "2023-05-22T20:19:38.367Z"
   },
   {
    "duration": 11,
    "start_time": "2023-05-22T20:21:06.448Z"
   },
   {
    "duration": 30,
    "start_time": "2023-05-22T20:24:31.724Z"
   },
   {
    "duration": 26,
    "start_time": "2023-05-22T20:24:51.498Z"
   },
   {
    "duration": 28,
    "start_time": "2023-05-22T20:25:04.797Z"
   },
   {
    "duration": 709,
    "start_time": "2023-05-22T20:25:12.173Z"
   },
   {
    "duration": 30,
    "start_time": "2023-05-22T20:25:12.885Z"
   },
   {
    "duration": 31,
    "start_time": "2023-05-22T20:25:12.917Z"
   },
   {
    "duration": 17,
    "start_time": "2023-05-22T20:25:12.950Z"
   },
   {
    "duration": 16,
    "start_time": "2023-05-22T20:25:12.970Z"
   },
   {
    "duration": 13,
    "start_time": "2023-05-22T20:25:12.988Z"
   },
   {
    "duration": 51,
    "start_time": "2023-05-22T20:25:13.003Z"
   },
   {
    "duration": 47,
    "start_time": "2023-05-22T20:25:13.056Z"
   },
   {
    "duration": 21,
    "start_time": "2023-05-22T20:25:13.105Z"
   },
   {
    "duration": 19,
    "start_time": "2023-05-22T20:25:13.129Z"
   },
   {
    "duration": 6,
    "start_time": "2023-05-22T20:25:13.150Z"
   },
   {
    "duration": 18,
    "start_time": "2023-05-22T20:25:13.158Z"
   },
   {
    "duration": 25,
    "start_time": "2023-05-22T20:25:13.178Z"
   },
   {
    "duration": 27,
    "start_time": "2023-05-22T20:25:13.204Z"
   },
   {
    "duration": 19,
    "start_time": "2023-05-22T20:25:13.233Z"
   },
   {
    "duration": 18,
    "start_time": "2023-05-22T20:25:13.254Z"
   },
   {
    "duration": 7,
    "start_time": "2023-05-22T20:25:13.274Z"
   },
   {
    "duration": 18,
    "start_time": "2023-05-22T20:25:13.283Z"
   },
   {
    "duration": 277,
    "start_time": "2023-05-22T20:25:13.304Z"
   },
   {
    "duration": 9,
    "start_time": "2023-05-22T20:25:13.582Z"
   },
   {
    "duration": 10,
    "start_time": "2023-05-22T20:25:13.593Z"
   },
   {
    "duration": 142,
    "start_time": "2023-05-22T20:25:13.606Z"
   },
   {
    "duration": 11,
    "start_time": "2023-05-22T20:25:13.750Z"
   },
   {
    "duration": 397,
    "start_time": "2023-05-22T20:25:13.763Z"
   },
   {
    "duration": 345,
    "start_time": "2023-05-22T20:25:14.163Z"
   },
   {
    "duration": 211,
    "start_time": "2023-05-22T20:25:14.511Z"
   },
   {
    "duration": 318,
    "start_time": "2023-05-22T20:25:14.724Z"
   },
   {
    "duration": 429,
    "start_time": "2023-05-22T20:25:15.048Z"
   },
   {
    "duration": 275,
    "start_time": "2023-05-22T20:25:15.479Z"
   },
   {
    "duration": 167,
    "start_time": "2023-05-22T20:25:15.756Z"
   },
   {
    "duration": 21,
    "start_time": "2023-05-22T20:25:15.925Z"
   },
   {
    "duration": 25,
    "start_time": "2023-05-22T20:25:15.948Z"
   },
   {
    "duration": 25,
    "start_time": "2023-05-22T20:25:15.975Z"
   },
   {
    "duration": 50,
    "start_time": "2023-05-22T20:25:16.001Z"
   },
   {
    "duration": 303,
    "start_time": "2023-05-22T20:25:16.053Z"
   },
   {
    "duration": 9,
    "start_time": "2023-05-22T20:25:16.358Z"
   },
   {
    "duration": 20,
    "start_time": "2023-05-22T20:25:16.369Z"
   },
   {
    "duration": 243,
    "start_time": "2023-05-22T20:25:16.391Z"
   },
   {
    "duration": 17,
    "start_time": "2023-05-22T20:25:16.636Z"
   },
   {
    "duration": 32,
    "start_time": "2023-05-22T20:25:16.655Z"
   },
   {
    "duration": 325,
    "start_time": "2023-05-22T20:25:16.689Z"
   },
   {
    "duration": 9,
    "start_time": "2023-05-22T20:25:17.016Z"
   },
   {
    "duration": 31,
    "start_time": "2023-05-22T20:25:17.026Z"
   },
   {
    "duration": 407,
    "start_time": "2023-05-22T20:25:17.059Z"
   },
   {
    "duration": 9,
    "start_time": "2023-05-22T20:25:17.468Z"
   },
   {
    "duration": 40,
    "start_time": "2023-05-22T20:25:17.479Z"
   },
   {
    "duration": 56,
    "start_time": "2023-05-22T20:25:17.521Z"
   },
   {
    "duration": 18,
    "start_time": "2023-05-22T20:25:17.579Z"
   },
   {
    "duration": 43,
    "start_time": "2023-05-22T20:25:17.599Z"
   },
   {
    "duration": 26,
    "start_time": "2023-05-22T20:26:01.999Z"
   },
   {
    "duration": 26,
    "start_time": "2023-05-22T20:26:14.723Z"
   },
   {
    "duration": 50,
    "start_time": "2023-05-22T20:27:02.391Z"
   },
   {
    "duration": 34,
    "start_time": "2023-05-22T20:27:50.211Z"
   },
   {
    "duration": 50,
    "start_time": "2023-05-22T20:29:59.462Z"
   },
   {
    "duration": 35,
    "start_time": "2023-05-22T20:34:44.781Z"
   },
   {
    "duration": 7,
    "start_time": "2023-05-22T20:35:36.248Z"
   },
   {
    "duration": 6,
    "start_time": "2023-05-22T20:36:01.547Z"
   },
   {
    "duration": 7,
    "start_time": "2023-05-22T20:36:13.894Z"
   },
   {
    "duration": 49,
    "start_time": "2023-05-23T07:32:50.955Z"
   },
   {
    "duration": 816,
    "start_time": "2023-05-23T07:32:57.707Z"
   },
   {
    "duration": 81,
    "start_time": "2023-05-23T07:32:58.525Z"
   },
   {
    "duration": 73,
    "start_time": "2023-05-23T07:32:58.608Z"
   },
   {
    "duration": 55,
    "start_time": "2023-05-23T07:32:58.683Z"
   },
   {
    "duration": 18,
    "start_time": "2023-05-23T07:32:58.740Z"
   },
   {
    "duration": 18,
    "start_time": "2023-05-23T07:32:58.760Z"
   },
   {
    "duration": 24,
    "start_time": "2023-05-23T07:32:58.781Z"
   },
   {
    "duration": 25,
    "start_time": "2023-05-23T07:32:58.806Z"
   },
   {
    "duration": 20,
    "start_time": "2023-05-23T07:32:58.832Z"
   },
   {
    "duration": 12,
    "start_time": "2023-05-23T07:32:58.857Z"
   },
   {
    "duration": 9,
    "start_time": "2023-05-23T07:32:58.872Z"
   },
   {
    "duration": 15,
    "start_time": "2023-05-23T07:32:58.883Z"
   },
   {
    "duration": 21,
    "start_time": "2023-05-23T07:32:58.899Z"
   },
   {
    "duration": 15,
    "start_time": "2023-05-23T07:32:58.922Z"
   },
   {
    "duration": 21,
    "start_time": "2023-05-23T07:32:58.938Z"
   },
   {
    "duration": 19,
    "start_time": "2023-05-23T07:32:58.962Z"
   },
   {
    "duration": 7,
    "start_time": "2023-05-23T07:32:58.984Z"
   },
   {
    "duration": 16,
    "start_time": "2023-05-23T07:32:58.993Z"
   },
   {
    "duration": 312,
    "start_time": "2023-05-23T07:32:59.010Z"
   },
   {
    "duration": 7,
    "start_time": "2023-05-23T07:32:59.324Z"
   },
   {
    "duration": 16,
    "start_time": "2023-05-23T07:32:59.332Z"
   },
   {
    "duration": 131,
    "start_time": "2023-05-23T07:32:59.351Z"
   },
   {
    "duration": 8,
    "start_time": "2023-05-23T07:32:59.484Z"
   },
   {
    "duration": 392,
    "start_time": "2023-05-23T07:32:59.494Z"
   },
   {
    "duration": 327,
    "start_time": "2023-05-23T07:32:59.887Z"
   },
   {
    "duration": 207,
    "start_time": "2023-05-23T07:33:00.216Z"
   },
   {
    "duration": 331,
    "start_time": "2023-05-23T07:33:00.424Z"
   },
   {
    "duration": 517,
    "start_time": "2023-05-23T07:33:00.759Z"
   },
   {
    "duration": 320,
    "start_time": "2023-05-23T07:33:01.278Z"
   },
   {
    "duration": 232,
    "start_time": "2023-05-23T07:33:01.600Z"
   },
   {
    "duration": 24,
    "start_time": "2023-05-23T07:33:01.835Z"
   },
   {
    "duration": 161,
    "start_time": "2023-05-23T07:33:01.862Z"
   },
   {
    "duration": 127,
    "start_time": "2023-05-23T07:33:02.025Z"
   },
   {
    "duration": 76,
    "start_time": "2023-05-23T07:33:02.154Z"
   },
   {
    "duration": 398,
    "start_time": "2023-05-23T07:33:02.232Z"
   },
   {
    "duration": 19,
    "start_time": "2023-05-23T07:33:02.632Z"
   },
   {
    "duration": 60,
    "start_time": "2023-05-23T07:33:02.653Z"
   },
   {
    "duration": 263,
    "start_time": "2023-05-23T07:33:02.715Z"
   },
   {
    "duration": 11,
    "start_time": "2023-05-23T07:33:02.981Z"
   },
   {
    "duration": 54,
    "start_time": "2023-05-23T07:33:02.994Z"
   },
   {
    "duration": 331,
    "start_time": "2023-05-23T07:33:03.050Z"
   },
   {
    "duration": 11,
    "start_time": "2023-05-23T07:33:03.384Z"
   },
   {
    "duration": 49,
    "start_time": "2023-05-23T07:33:03.396Z"
   },
   {
    "duration": 459,
    "start_time": "2023-05-23T07:33:03.448Z"
   },
   {
    "duration": 8,
    "start_time": "2023-05-23T07:33:03.909Z"
   },
   {
    "duration": 111,
    "start_time": "2023-05-23T07:33:03.919Z"
   },
   {
    "duration": 51,
    "start_time": "2023-05-23T07:33:04.032Z"
   },
   {
    "duration": 81,
    "start_time": "2023-05-23T07:33:04.085Z"
   },
   {
    "duration": 42,
    "start_time": "2023-05-23T07:33:04.168Z"
   },
   {
    "duration": 1324,
    "start_time": "2023-05-23T07:33:04.212Z"
   },
   {
    "duration": 2601,
    "start_time": "2023-05-23T07:33:22.175Z"
   },
   {
    "duration": 990,
    "start_time": "2023-05-23T07:34:37.299Z"
   },
   {
    "duration": 18,
    "start_time": "2023-05-23T07:34:55.578Z"
   },
   {
    "duration": 1591,
    "start_time": "2023-05-23T07:35:04.640Z"
   },
   {
    "duration": 677,
    "start_time": "2023-05-23T07:35:10.842Z"
   },
   {
    "duration": 34,
    "start_time": "2023-05-23T07:35:11.521Z"
   },
   {
    "duration": 40,
    "start_time": "2023-05-23T07:35:11.558Z"
   },
   {
    "duration": 17,
    "start_time": "2023-05-23T07:35:11.600Z"
   },
   {
    "duration": 18,
    "start_time": "2023-05-23T07:35:11.619Z"
   },
   {
    "duration": 37,
    "start_time": "2023-05-23T07:35:11.638Z"
   },
   {
    "duration": 55,
    "start_time": "2023-05-23T07:35:11.678Z"
   },
   {
    "duration": 51,
    "start_time": "2023-05-23T07:35:11.734Z"
   },
   {
    "duration": 27,
    "start_time": "2023-05-23T07:35:11.787Z"
   },
   {
    "duration": 41,
    "start_time": "2023-05-23T07:35:11.816Z"
   },
   {
    "duration": 14,
    "start_time": "2023-05-23T07:35:11.858Z"
   },
   {
    "duration": 30,
    "start_time": "2023-05-23T07:35:11.874Z"
   },
   {
    "duration": 24,
    "start_time": "2023-05-23T07:35:11.906Z"
   },
   {
    "duration": 34,
    "start_time": "2023-05-23T07:35:11.933Z"
   },
   {
    "duration": 11,
    "start_time": "2023-05-23T07:35:11.969Z"
   },
   {
    "duration": 14,
    "start_time": "2023-05-23T07:35:11.982Z"
   },
   {
    "duration": 20,
    "start_time": "2023-05-23T07:35:11.998Z"
   },
   {
    "duration": 11,
    "start_time": "2023-05-23T07:35:12.020Z"
   },
   {
    "duration": 302,
    "start_time": "2023-05-23T07:35:12.033Z"
   },
   {
    "duration": 16,
    "start_time": "2023-05-23T07:35:12.337Z"
   },
   {
    "duration": 16,
    "start_time": "2023-05-23T07:35:12.354Z"
   },
   {
    "duration": 166,
    "start_time": "2023-05-23T07:35:12.371Z"
   },
   {
    "duration": 13,
    "start_time": "2023-05-23T07:35:12.545Z"
   },
   {
    "duration": 402,
    "start_time": "2023-05-23T07:35:12.561Z"
   },
   {
    "duration": 373,
    "start_time": "2023-05-23T07:35:12.966Z"
   },
   {
    "duration": 197,
    "start_time": "2023-05-23T07:35:13.341Z"
   },
   {
    "duration": 359,
    "start_time": "2023-05-23T07:35:13.540Z"
   },
   {
    "duration": 465,
    "start_time": "2023-05-23T07:35:13.901Z"
   },
   {
    "duration": 289,
    "start_time": "2023-05-23T07:35:14.369Z"
   },
   {
    "duration": 176,
    "start_time": "2023-05-23T07:35:14.661Z"
   },
   {
    "duration": 11,
    "start_time": "2023-05-23T07:35:14.845Z"
   },
   {
    "duration": 29,
    "start_time": "2023-05-23T07:35:14.857Z"
   },
   {
    "duration": 23,
    "start_time": "2023-05-23T07:35:14.887Z"
   },
   {
    "duration": 39,
    "start_time": "2023-05-23T07:35:14.912Z"
   },
   {
    "duration": 300,
    "start_time": "2023-05-23T07:35:14.952Z"
   },
   {
    "duration": 11,
    "start_time": "2023-05-23T07:35:15.254Z"
   },
   {
    "duration": 29,
    "start_time": "2023-05-23T07:35:15.267Z"
   },
   {
    "duration": 220,
    "start_time": "2023-05-23T07:35:15.297Z"
   },
   {
    "duration": 9,
    "start_time": "2023-05-23T07:35:15.518Z"
   },
   {
    "duration": 27,
    "start_time": "2023-05-23T07:35:15.528Z"
   },
   {
    "duration": 304,
    "start_time": "2023-05-23T07:35:15.559Z"
   },
   {
    "duration": 9,
    "start_time": "2023-05-23T07:35:15.864Z"
   },
   {
    "duration": 18,
    "start_time": "2023-05-23T07:35:15.874Z"
   },
   {
    "duration": 396,
    "start_time": "2023-05-23T07:35:15.895Z"
   },
   {
    "duration": 9,
    "start_time": "2023-05-23T07:35:16.294Z"
   },
   {
    "duration": 15,
    "start_time": "2023-05-23T07:35:16.304Z"
   },
   {
    "duration": 40,
    "start_time": "2023-05-23T07:35:16.321Z"
   },
   {
    "duration": 27,
    "start_time": "2023-05-23T07:35:16.363Z"
   },
   {
    "duration": 27,
    "start_time": "2023-05-23T07:35:16.392Z"
   },
   {
    "duration": 1130,
    "start_time": "2023-05-23T07:35:16.421Z"
   },
   {
    "duration": 1055,
    "start_time": "2023-05-23T07:37:18.742Z"
   },
   {
    "duration": 23,
    "start_time": "2023-05-23T07:37:42.521Z"
   },
   {
    "duration": 36,
    "start_time": "2023-05-23T07:37:47.562Z"
   },
   {
    "duration": 19,
    "start_time": "2023-05-23T07:38:02.510Z"
   },
   {
    "duration": 11,
    "start_time": "2023-05-23T07:42:26.772Z"
   },
   {
    "duration": 27,
    "start_time": "2023-05-23T07:42:40.538Z"
   },
   {
    "duration": 56,
    "start_time": "2023-05-23T07:43:08.627Z"
   },
   {
    "duration": 569,
    "start_time": "2023-05-23T07:46:58.157Z"
   },
   {
    "duration": 23,
    "start_time": "2023-05-23T07:48:04.365Z"
   },
   {
    "duration": 32,
    "start_time": "2023-05-23T07:48:32.588Z"
   },
   {
    "duration": 24,
    "start_time": "2023-05-23T07:56:34.753Z"
   },
   {
    "duration": 32,
    "start_time": "2023-05-23T07:56:53.265Z"
   },
   {
    "duration": 30,
    "start_time": "2023-05-23T07:59:11.225Z"
   },
   {
    "duration": 375,
    "start_time": "2023-05-23T08:06:11.359Z"
   },
   {
    "duration": 327,
    "start_time": "2023-05-23T08:08:29.778Z"
   },
   {
    "duration": 54,
    "start_time": "2023-05-23T08:10:08.448Z"
   },
   {
    "duration": 53,
    "start_time": "2023-05-23T08:11:47.933Z"
   },
   {
    "duration": 105,
    "start_time": "2023-05-23T08:15:10.315Z"
   },
   {
    "duration": 93,
    "start_time": "2023-05-23T08:15:24.141Z"
   },
   {
    "duration": 120,
    "start_time": "2023-05-23T08:16:13.555Z"
   },
   {
    "duration": 69,
    "start_time": "2023-05-23T08:16:24.255Z"
   },
   {
    "duration": 94,
    "start_time": "2023-05-23T08:17:09.183Z"
   },
   {
    "duration": 57,
    "start_time": "2023-05-23T08:17:19.565Z"
   },
   {
    "duration": 47,
    "start_time": "2023-05-23T08:18:13.741Z"
   },
   {
    "duration": 57,
    "start_time": "2023-05-23T08:19:01.789Z"
   },
   {
    "duration": 5,
    "start_time": "2023-05-23T08:21:12.687Z"
   },
   {
    "duration": 18,
    "start_time": "2023-05-23T08:21:21.587Z"
   },
   {
    "duration": 23,
    "start_time": "2023-05-23T08:22:33.460Z"
   },
   {
    "duration": 50,
    "start_time": "2023-05-23T08:23:19.687Z"
   },
   {
    "duration": 192,
    "start_time": "2023-05-23T08:24:51.145Z"
   },
   {
    "duration": 713,
    "start_time": "2023-05-23T08:24:59.145Z"
   },
   {
    "duration": 73,
    "start_time": "2023-05-23T08:25:12.707Z"
   },
   {
    "duration": 20,
    "start_time": "2023-05-23T08:25:26.149Z"
   },
   {
    "duration": 1132,
    "start_time": "2023-05-23T09:40:26.581Z"
   },
   {
    "duration": 82,
    "start_time": "2023-05-23T09:40:27.715Z"
   },
   {
    "duration": 28,
    "start_time": "2023-05-23T09:40:27.798Z"
   },
   {
    "duration": 16,
    "start_time": "2023-05-23T09:40:27.828Z"
   },
   {
    "duration": 12,
    "start_time": "2023-05-23T09:40:27.847Z"
   },
   {
    "duration": 12,
    "start_time": "2023-05-23T09:40:27.860Z"
   },
   {
    "duration": 16,
    "start_time": "2023-05-23T09:40:27.873Z"
   },
   {
    "duration": 15,
    "start_time": "2023-05-23T09:40:27.890Z"
   },
   {
    "duration": 6,
    "start_time": "2023-05-23T09:40:27.907Z"
   },
   {
    "duration": 33,
    "start_time": "2023-05-23T09:40:27.914Z"
   },
   {
    "duration": 5,
    "start_time": "2023-05-23T09:40:27.948Z"
   },
   {
    "duration": 9,
    "start_time": "2023-05-23T09:40:27.955Z"
   },
   {
    "duration": 10,
    "start_time": "2023-05-23T09:40:27.966Z"
   },
   {
    "duration": 17,
    "start_time": "2023-05-23T09:40:27.979Z"
   },
   {
    "duration": 15,
    "start_time": "2023-05-23T09:40:27.998Z"
   },
   {
    "duration": 14,
    "start_time": "2023-05-23T09:40:28.015Z"
   },
   {
    "duration": 9,
    "start_time": "2023-05-23T09:40:28.031Z"
   },
   {
    "duration": 8,
    "start_time": "2023-05-23T09:40:28.045Z"
   },
   {
    "duration": 269,
    "start_time": "2023-05-23T09:40:28.055Z"
   },
   {
    "duration": 21,
    "start_time": "2023-05-23T09:40:28.325Z"
   },
   {
    "duration": 10,
    "start_time": "2023-05-23T09:40:28.348Z"
   },
   {
    "duration": 126,
    "start_time": "2023-05-23T09:40:28.360Z"
   },
   {
    "duration": 8,
    "start_time": "2023-05-23T09:40:28.488Z"
   },
   {
    "duration": 322,
    "start_time": "2023-05-23T09:40:28.497Z"
   },
   {
    "duration": 301,
    "start_time": "2023-05-23T09:40:28.821Z"
   },
   {
    "duration": 177,
    "start_time": "2023-05-23T09:40:29.124Z"
   },
   {
    "duration": 394,
    "start_time": "2023-05-23T09:40:29.302Z"
   },
   {
    "duration": 433,
    "start_time": "2023-05-23T09:40:29.698Z"
   },
   {
    "duration": 188,
    "start_time": "2023-05-23T09:40:30.133Z"
   },
   {
    "duration": 165,
    "start_time": "2023-05-23T09:40:30.323Z"
   },
   {
    "duration": 11,
    "start_time": "2023-05-23T09:40:30.490Z"
   },
   {
    "duration": 52,
    "start_time": "2023-05-23T09:40:30.502Z"
   },
   {
    "duration": 43,
    "start_time": "2023-05-23T09:40:30.555Z"
   },
   {
    "duration": 35,
    "start_time": "2023-05-23T09:40:30.599Z"
   },
   {
    "duration": 334,
    "start_time": "2023-05-23T09:40:30.636Z"
   },
   {
    "duration": 9,
    "start_time": "2023-05-23T09:40:30.972Z"
   },
   {
    "duration": 54,
    "start_time": "2023-05-23T09:40:30.983Z"
   },
   {
    "duration": 401,
    "start_time": "2023-05-23T09:40:31.039Z"
   },
   {
    "duration": 8,
    "start_time": "2023-05-23T09:40:31.445Z"
   },
   {
    "duration": 34,
    "start_time": "2023-05-23T09:40:31.455Z"
   },
   {
    "duration": 354,
    "start_time": "2023-05-23T09:40:31.493Z"
   },
   {
    "duration": 10,
    "start_time": "2023-05-23T09:40:31.849Z"
   },
   {
    "duration": 75,
    "start_time": "2023-05-23T09:40:31.861Z"
   },
   {
    "duration": 351,
    "start_time": "2023-05-23T09:40:31.939Z"
   },
   {
    "duration": 9,
    "start_time": "2023-05-23T09:40:32.292Z"
   },
   {
    "duration": 48,
    "start_time": "2023-05-23T09:40:32.302Z"
   },
   {
    "duration": 44,
    "start_time": "2023-05-23T09:40:32.352Z"
   },
   {
    "duration": 49,
    "start_time": "2023-05-23T09:40:32.398Z"
   },
   {
    "duration": 36,
    "start_time": "2023-05-23T09:40:32.449Z"
   },
   {
    "duration": 20,
    "start_time": "2023-05-23T10:01:36.486Z"
   },
   {
    "duration": 16,
    "start_time": "2023-05-23T10:02:42.391Z"
   },
   {
    "duration": 11,
    "start_time": "2023-05-23T10:06:04.076Z"
   },
   {
    "duration": 11,
    "start_time": "2023-05-23T10:06:15.889Z"
   },
   {
    "duration": 7,
    "start_time": "2023-05-23T10:06:48.893Z"
   },
   {
    "duration": 7,
    "start_time": "2023-05-23T10:07:15.169Z"
   },
   {
    "duration": 6,
    "start_time": "2023-05-23T10:07:33.952Z"
   },
   {
    "duration": 9,
    "start_time": "2023-05-23T10:17:19.537Z"
   },
   {
    "duration": 8,
    "start_time": "2023-05-23T10:18:26.355Z"
   },
   {
    "duration": 9,
    "start_time": "2023-05-23T10:18:43.269Z"
   },
   {
    "duration": 14,
    "start_time": "2023-05-23T10:22:23.045Z"
   },
   {
    "duration": 9,
    "start_time": "2023-05-23T10:37:02.888Z"
   },
   {
    "duration": 12,
    "start_time": "2023-05-23T10:37:06.898Z"
   },
   {
    "duration": 12,
    "start_time": "2023-05-23T10:37:21.579Z"
   },
   {
    "duration": 12,
    "start_time": "2023-05-23T10:45:40.891Z"
   },
   {
    "duration": 11,
    "start_time": "2023-05-23T10:46:47.195Z"
   },
   {
    "duration": 8,
    "start_time": "2023-05-23T10:46:59.542Z"
   },
   {
    "duration": 12,
    "start_time": "2023-05-23T10:49:30.314Z"
   },
   {
    "duration": 12,
    "start_time": "2023-05-23T10:51:15.997Z"
   },
   {
    "duration": 13,
    "start_time": "2023-05-23T10:52:20.243Z"
   },
   {
    "duration": 51,
    "start_time": "2023-05-23T11:00:24.056Z"
   },
   {
    "duration": 14,
    "start_time": "2023-05-23T11:18:10.904Z"
   },
   {
    "duration": 1106,
    "start_time": "2023-05-23T11:59:19.418Z"
   },
   {
    "duration": 86,
    "start_time": "2023-05-23T11:59:20.527Z"
   },
   {
    "duration": 30,
    "start_time": "2023-05-23T11:59:20.614Z"
   },
   {
    "duration": 17,
    "start_time": "2023-05-23T11:59:20.646Z"
   },
   {
    "duration": 13,
    "start_time": "2023-05-23T11:59:20.665Z"
   },
   {
    "duration": 21,
    "start_time": "2023-05-23T11:59:20.680Z"
   },
   {
    "duration": 22,
    "start_time": "2023-05-23T11:59:20.703Z"
   },
   {
    "duration": 42,
    "start_time": "2023-05-23T11:59:20.727Z"
   },
   {
    "duration": 20,
    "start_time": "2023-05-23T11:59:20.770Z"
   },
   {
    "duration": 30,
    "start_time": "2023-05-23T11:59:20.792Z"
   },
   {
    "duration": 24,
    "start_time": "2023-05-23T11:59:20.824Z"
   },
   {
    "duration": 24,
    "start_time": "2023-05-23T11:59:20.850Z"
   },
   {
    "duration": 19,
    "start_time": "2023-05-23T11:59:20.875Z"
   },
   {
    "duration": 26,
    "start_time": "2023-05-23T11:59:20.898Z"
   },
   {
    "duration": 20,
    "start_time": "2023-05-23T11:59:20.926Z"
   },
   {
    "duration": 32,
    "start_time": "2023-05-23T11:59:20.948Z"
   },
   {
    "duration": 18,
    "start_time": "2023-05-23T11:59:20.982Z"
   },
   {
    "duration": 11,
    "start_time": "2023-05-23T11:59:21.002Z"
   },
   {
    "duration": 278,
    "start_time": "2023-05-23T11:59:21.015Z"
   },
   {
    "duration": 8,
    "start_time": "2023-05-23T11:59:21.294Z"
   },
   {
    "duration": 8,
    "start_time": "2023-05-23T11:59:21.304Z"
   },
   {
    "duration": 134,
    "start_time": "2023-05-23T11:59:21.313Z"
   },
   {
    "duration": 10,
    "start_time": "2023-05-23T11:59:21.449Z"
   },
   {
    "duration": 340,
    "start_time": "2023-05-23T11:59:21.460Z"
   },
   {
    "duration": 346,
    "start_time": "2023-05-23T11:59:21.801Z"
   },
   {
    "duration": 190,
    "start_time": "2023-05-23T11:59:22.149Z"
   },
   {
    "duration": 498,
    "start_time": "2023-05-23T11:59:22.341Z"
   },
   {
    "duration": 522,
    "start_time": "2023-05-23T11:59:22.845Z"
   },
   {
    "duration": 204,
    "start_time": "2023-05-23T11:59:23.369Z"
   },
   {
    "duration": 179,
    "start_time": "2023-05-23T11:59:23.575Z"
   },
   {
    "duration": 11,
    "start_time": "2023-05-23T11:59:23.756Z"
   },
   {
    "duration": 26,
    "start_time": "2023-05-23T11:59:23.768Z"
   },
   {
    "duration": 25,
    "start_time": "2023-05-23T11:59:23.796Z"
   },
   {
    "duration": 23,
    "start_time": "2023-05-23T11:59:23.847Z"
   },
   {
    "duration": 348,
    "start_time": "2023-05-23T11:59:23.871Z"
   },
   {
    "duration": 9,
    "start_time": "2023-05-23T11:59:24.221Z"
   },
   {
    "duration": 43,
    "start_time": "2023-05-23T11:59:24.232Z"
   },
   {
    "duration": 354,
    "start_time": "2023-05-23T11:59:24.277Z"
   },
   {
    "duration": 16,
    "start_time": "2023-05-23T11:59:24.633Z"
   },
   {
    "duration": 26,
    "start_time": "2023-05-23T11:59:24.651Z"
   },
   {
    "duration": 495,
    "start_time": "2023-05-23T11:59:24.683Z"
   },
   {
    "duration": 10,
    "start_time": "2023-05-23T11:59:25.180Z"
   },
   {
    "duration": 29,
    "start_time": "2023-05-23T11:59:25.191Z"
   },
   {
    "duration": 330,
    "start_time": "2023-05-23T11:59:25.221Z"
   },
   {
    "duration": 9,
    "start_time": "2023-05-23T11:59:25.553Z"
   },
   {
    "duration": 30,
    "start_time": "2023-05-23T11:59:25.564Z"
   },
   {
    "duration": 12,
    "start_time": "2023-05-23T11:59:25.596Z"
   },
   {
    "duration": 59,
    "start_time": "2023-05-23T11:59:25.609Z"
   },
   {
    "duration": 21,
    "start_time": "2023-05-23T11:59:25.670Z"
   },
   {
    "duration": 28,
    "start_time": "2023-05-23T11:59:25.693Z"
   },
   {
    "duration": 27,
    "start_time": "2023-05-23T11:59:25.723Z"
   },
   {
    "duration": 30,
    "start_time": "2023-05-23T11:59:25.751Z"
   },
   {
    "duration": 1302,
    "start_time": "2023-05-24T04:24:25.855Z"
   },
   {
    "duration": 154,
    "start_time": "2023-05-24T04:24:27.160Z"
   },
   {
    "duration": 66,
    "start_time": "2023-05-24T04:24:27.316Z"
   },
   {
    "duration": 71,
    "start_time": "2023-05-24T04:24:27.384Z"
   },
   {
    "duration": 12,
    "start_time": "2023-05-24T04:24:27.457Z"
   },
   {
    "duration": 32,
    "start_time": "2023-05-24T04:24:27.470Z"
   },
   {
    "duration": 34,
    "start_time": "2023-05-24T04:24:27.507Z"
   },
   {
    "duration": 15,
    "start_time": "2023-05-24T04:24:27.543Z"
   },
   {
    "duration": 7,
    "start_time": "2023-05-24T04:24:27.559Z"
   },
   {
    "duration": 9,
    "start_time": "2023-05-24T04:24:27.567Z"
   },
   {
    "duration": 8,
    "start_time": "2023-05-24T04:24:27.578Z"
   },
   {
    "duration": 5,
    "start_time": "2023-05-24T04:24:27.588Z"
   },
   {
    "duration": 31,
    "start_time": "2023-05-24T04:24:27.597Z"
   },
   {
    "duration": 8,
    "start_time": "2023-05-24T04:24:27.631Z"
   },
   {
    "duration": 6,
    "start_time": "2023-05-24T04:24:27.641Z"
   },
   {
    "duration": 9,
    "start_time": "2023-05-24T04:24:27.649Z"
   },
   {
    "duration": 5,
    "start_time": "2023-05-24T04:24:27.659Z"
   },
   {
    "duration": 15,
    "start_time": "2023-05-24T04:24:27.666Z"
   },
   {
    "duration": 305,
    "start_time": "2023-05-24T04:24:27.682Z"
   },
   {
    "duration": 21,
    "start_time": "2023-05-24T04:24:27.988Z"
   },
   {
    "duration": 21,
    "start_time": "2023-05-24T04:24:28.014Z"
   },
   {
    "duration": 142,
    "start_time": "2023-05-24T04:24:28.036Z"
   },
   {
    "duration": 14,
    "start_time": "2023-05-24T04:24:28.180Z"
   },
   {
    "duration": 362,
    "start_time": "2023-05-24T04:24:28.211Z"
   },
   {
    "duration": 349,
    "start_time": "2023-05-24T04:24:28.575Z"
   },
   {
    "duration": 207,
    "start_time": "2023-05-24T04:24:28.926Z"
   },
   {
    "duration": 437,
    "start_time": "2023-05-24T04:24:29.135Z"
   },
   {
    "duration": 475,
    "start_time": "2023-05-24T04:24:29.574Z"
   },
   {
    "duration": 187,
    "start_time": "2023-05-24T04:24:30.050Z"
   },
   {
    "duration": 152,
    "start_time": "2023-05-24T04:24:30.238Z"
   },
   {
    "duration": 12,
    "start_time": "2023-05-24T04:24:30.395Z"
   },
   {
    "duration": 57,
    "start_time": "2023-05-24T04:24:30.409Z"
   },
   {
    "duration": 31,
    "start_time": "2023-05-24T04:24:30.468Z"
   },
   {
    "duration": 52,
    "start_time": "2023-05-24T04:24:30.503Z"
   },
   {
    "duration": 285,
    "start_time": "2023-05-24T04:24:30.557Z"
   },
   {
    "duration": 7,
    "start_time": "2023-05-24T04:24:30.843Z"
   },
   {
    "duration": 34,
    "start_time": "2023-05-24T04:24:30.851Z"
   },
   {
    "duration": 364,
    "start_time": "2023-05-24T04:24:30.887Z"
   },
   {
    "duration": 8,
    "start_time": "2023-05-24T04:24:31.253Z"
   },
   {
    "duration": 26,
    "start_time": "2023-05-24T04:24:31.263Z"
   },
   {
    "duration": 378,
    "start_time": "2023-05-24T04:24:31.294Z"
   },
   {
    "duration": 8,
    "start_time": "2023-05-24T04:24:31.674Z"
   },
   {
    "duration": 39,
    "start_time": "2023-05-24T04:24:31.695Z"
   },
   {
    "duration": 350,
    "start_time": "2023-05-24T04:24:31.736Z"
   },
   {
    "duration": 28,
    "start_time": "2023-05-24T04:24:32.088Z"
   },
   {
    "duration": 68,
    "start_time": "2023-05-24T04:24:32.119Z"
   },
   {
    "duration": 40,
    "start_time": "2023-05-24T04:24:32.189Z"
   },
   {
    "duration": 54,
    "start_time": "2023-05-24T04:24:32.231Z"
   },
   {
    "duration": 31,
    "start_time": "2023-05-24T04:24:32.287Z"
   },
   {
    "duration": 16,
    "start_time": "2023-05-24T04:24:32.321Z"
   },
   {
    "duration": 11,
    "start_time": "2023-05-24T04:24:32.338Z"
   },
   {
    "duration": 17,
    "start_time": "2023-05-24T04:24:32.351Z"
   },
   {
    "duration": 96,
    "start_time": "2023-05-24T04:36:54.144Z"
   },
   {
    "duration": 97,
    "start_time": "2023-05-24T04:38:45.462Z"
   },
   {
    "duration": 6,
    "start_time": "2023-05-24T04:38:50.063Z"
   },
   {
    "duration": 19,
    "start_time": "2023-05-24T04:41:25.831Z"
   },
   {
    "duration": 17,
    "start_time": "2023-05-24T04:41:36.571Z"
   },
   {
    "duration": 75,
    "start_time": "2023-05-24T04:42:38.795Z"
   },
   {
    "duration": 45,
    "start_time": "2023-05-24T06:26:31.656Z"
   },
   {
    "duration": 1271,
    "start_time": "2023-05-24T06:26:48.463Z"
   },
   {
    "duration": 244,
    "start_time": "2023-05-24T06:26:49.736Z"
   },
   {
    "duration": 18,
    "start_time": "2023-05-24T06:27:10.861Z"
   },
   {
    "duration": 13,
    "start_time": "2023-05-24T06:28:17.856Z"
   },
   {
    "duration": 15,
    "start_time": "2023-05-24T06:29:25.565Z"
   },
   {
    "duration": 14,
    "start_time": "2023-05-24T06:29:29.950Z"
   },
   {
    "duration": 19,
    "start_time": "2023-05-24T06:29:51.924Z"
   },
   {
    "duration": 12,
    "start_time": "2023-05-24T06:30:37.307Z"
   },
   {
    "duration": 13,
    "start_time": "2023-05-24T06:30:54.123Z"
   },
   {
    "duration": 985,
    "start_time": "2023-05-24T06:31:13.117Z"
   },
   {
    "duration": 118,
    "start_time": "2023-05-24T06:31:20.713Z"
   },
   {
    "duration": 17,
    "start_time": "2023-05-24T06:36:55.213Z"
   },
   {
    "duration": 14,
    "start_time": "2023-05-24T06:37:12.500Z"
   },
   {
    "duration": 18,
    "start_time": "2023-05-24T06:37:42.973Z"
   },
   {
    "duration": 16,
    "start_time": "2023-05-24T06:38:07.061Z"
   },
   {
    "duration": 151,
    "start_time": "2023-05-24T06:43:25.077Z"
   },
   {
    "duration": 17,
    "start_time": "2023-05-24T06:43:55.236Z"
   },
   {
    "duration": 15,
    "start_time": "2023-05-24T06:44:03.356Z"
   },
   {
    "duration": 965,
    "start_time": "2023-05-24T06:44:13.356Z"
   },
   {
    "duration": 117,
    "start_time": "2023-05-24T06:44:14.323Z"
   },
   {
    "duration": 103,
    "start_time": "2023-05-24T06:44:23.149Z"
   },
   {
    "duration": 24847,
    "start_time": "2023-05-24T06:46:29.853Z"
   },
   {
    "duration": 24,
    "start_time": "2023-05-24T06:47:19.193Z"
   },
   {
    "duration": 27143,
    "start_time": "2023-05-24T06:47:31.010Z"
   },
   {
    "duration": 21864,
    "start_time": "2023-05-24T06:51:31.614Z"
   },
   {
    "duration": 23161,
    "start_time": "2023-05-24T06:53:05.392Z"
   },
   {
    "duration": 16,
    "start_time": "2023-05-24T06:54:30.918Z"
   },
   {
    "duration": 13,
    "start_time": "2023-05-24T06:55:11.777Z"
   },
   {
    "duration": 11,
    "start_time": "2023-05-24T06:55:26.865Z"
   },
   {
    "duration": 13,
    "start_time": "2023-05-24T06:56:02.961Z"
   },
   {
    "duration": 1054,
    "start_time": "2023-05-24T06:56:17.603Z"
   },
   {
    "duration": 121,
    "start_time": "2023-05-24T06:56:18.658Z"
   },
   {
    "duration": 100,
    "start_time": "2023-05-24T06:56:32.579Z"
   },
   {
    "duration": 147,
    "start_time": "2023-05-24T06:56:50.961Z"
   },
   {
    "duration": 127,
    "start_time": "2023-05-24T06:58:15.353Z"
   },
   {
    "duration": 148,
    "start_time": "2023-05-24T06:59:25.475Z"
   },
   {
    "duration": 135,
    "start_time": "2023-05-24T06:59:32.065Z"
   },
   {
    "duration": 124,
    "start_time": "2023-05-24T06:59:54.974Z"
   },
   {
    "duration": 140,
    "start_time": "2023-05-24T07:02:46.416Z"
   },
   {
    "duration": 145,
    "start_time": "2023-05-24T07:03:30.125Z"
   },
   {
    "duration": 146,
    "start_time": "2023-05-24T07:03:43.449Z"
   },
   {
    "duration": 132,
    "start_time": "2023-05-24T07:06:06.040Z"
   },
   {
    "duration": 127,
    "start_time": "2023-05-24T07:06:17.117Z"
   },
   {
    "duration": 141,
    "start_time": "2023-05-24T07:07:01.639Z"
   },
   {
    "duration": 76,
    "start_time": "2023-05-24T07:09:05.649Z"
   },
   {
    "duration": 125,
    "start_time": "2023-05-24T07:09:37.999Z"
   },
   {
    "duration": 140,
    "start_time": "2023-05-24T07:09:54.819Z"
   },
   {
    "duration": 68,
    "start_time": "2023-05-24T07:10:13.408Z"
   },
   {
    "duration": 78,
    "start_time": "2023-05-24T07:10:53.765Z"
   },
   {
    "duration": 83,
    "start_time": "2023-05-24T07:11:54.307Z"
   },
   {
    "duration": 117,
    "start_time": "2023-05-24T07:13:00.807Z"
   },
   {
    "duration": 11,
    "start_time": "2023-05-24T07:13:10.996Z"
   },
   {
    "duration": 9,
    "start_time": "2023-05-24T07:13:24.273Z"
   },
   {
    "duration": 10,
    "start_time": "2023-05-24T07:13:28.109Z"
   },
   {
    "duration": 83,
    "start_time": "2023-05-24T07:14:09.764Z"
   },
   {
    "duration": 175,
    "start_time": "2023-05-24T07:16:43.340Z"
   },
   {
    "duration": 207,
    "start_time": "2023-05-24T07:16:54.385Z"
   },
   {
    "duration": 183,
    "start_time": "2023-05-24T07:21:16.165Z"
   },
   {
    "duration": 259,
    "start_time": "2023-05-24T07:21:55.199Z"
   },
   {
    "duration": 426,
    "start_time": "2023-05-24T07:22:29.860Z"
   },
   {
    "duration": 320,
    "start_time": "2023-05-24T07:23:46.656Z"
   },
   {
    "duration": 168,
    "start_time": "2023-05-24T07:24:19.816Z"
   },
   {
    "duration": 347,
    "start_time": "2023-05-24T07:24:34.508Z"
   },
   {
    "duration": 441,
    "start_time": "2023-05-24T07:25:08.089Z"
   },
   {
    "duration": 3845,
    "start_time": "2023-05-24T07:25:14.797Z"
   },
   {
    "duration": 310,
    "start_time": "2023-05-24T07:25:48.346Z"
   },
   {
    "duration": 288,
    "start_time": "2023-05-24T07:29:03.180Z"
   },
   {
    "duration": 160,
    "start_time": "2023-05-24T07:32:34.680Z"
   },
   {
    "duration": 9,
    "start_time": "2023-05-24T07:40:50.578Z"
   },
   {
    "duration": 1015,
    "start_time": "2023-05-24T07:40:57.894Z"
   },
   {
    "duration": 124,
    "start_time": "2023-05-24T07:40:58.911Z"
   },
   {
    "duration": 11,
    "start_time": "2023-05-24T07:40:59.037Z"
   },
   {
    "duration": 17,
    "start_time": "2023-05-24T07:40:59.050Z"
   },
   {
    "duration": 17,
    "start_time": "2023-05-24T07:40:59.068Z"
   },
   {
    "duration": 13,
    "start_time": "2023-05-24T07:40:59.086Z"
   },
   {
    "duration": 13,
    "start_time": "2023-05-24T07:40:59.101Z"
   },
   {
    "duration": 8,
    "start_time": "2023-05-24T07:40:59.115Z"
   },
   {
    "duration": 5,
    "start_time": "2023-05-24T07:40:59.125Z"
   },
   {
    "duration": 6,
    "start_time": "2023-05-24T07:40:59.132Z"
   },
   {
    "duration": 10,
    "start_time": "2023-05-24T07:40:59.139Z"
   },
   {
    "duration": 13,
    "start_time": "2023-05-24T07:40:59.150Z"
   },
   {
    "duration": 9,
    "start_time": "2023-05-24T07:40:59.164Z"
   },
   {
    "duration": 35,
    "start_time": "2023-05-24T07:40:59.175Z"
   },
   {
    "duration": 5,
    "start_time": "2023-05-24T07:40:59.212Z"
   },
   {
    "duration": 8,
    "start_time": "2023-05-24T07:40:59.219Z"
   },
   {
    "duration": 146,
    "start_time": "2023-05-24T07:40:59.229Z"
   },
   {
    "duration": 7,
    "start_time": "2023-05-24T07:40:59.377Z"
   },
   {
    "duration": 8,
    "start_time": "2023-05-24T07:40:59.395Z"
   },
   {
    "duration": 88,
    "start_time": "2023-05-24T07:40:59.406Z"
   },
   {
    "duration": 11,
    "start_time": "2023-05-24T07:40:59.496Z"
   },
   {
    "duration": 310,
    "start_time": "2023-05-24T07:40:59.509Z"
   },
   {
    "duration": 305,
    "start_time": "2023-05-24T07:40:59.821Z"
   },
   {
    "duration": 192,
    "start_time": "2023-05-24T07:41:00.128Z"
   },
   {
    "duration": 397,
    "start_time": "2023-05-24T07:41:00.321Z"
   },
   {
    "duration": 417,
    "start_time": "2023-05-24T07:41:00.720Z"
   },
   {
    "duration": 192,
    "start_time": "2023-05-24T07:41:01.138Z"
   },
   {
    "duration": 165,
    "start_time": "2023-05-24T07:41:01.333Z"
   },
   {
    "duration": 15,
    "start_time": "2023-05-24T07:41:01.500Z"
   },
   {
    "duration": 61,
    "start_time": "2023-05-24T07:41:01.517Z"
   },
   {
    "duration": 58,
    "start_time": "2023-05-24T07:41:01.579Z"
   },
   {
    "duration": 37,
    "start_time": "2023-05-24T07:41:01.638Z"
   },
   {
    "duration": 318,
    "start_time": "2023-05-24T07:41:01.677Z"
   },
   {
    "duration": 11,
    "start_time": "2023-05-24T07:41:01.997Z"
   },
   {
    "duration": 43,
    "start_time": "2023-05-24T07:41:02.009Z"
   },
   {
    "duration": 323,
    "start_time": "2023-05-24T07:41:02.053Z"
   },
   {
    "duration": 18,
    "start_time": "2023-05-24T07:41:02.378Z"
   },
   {
    "duration": 16,
    "start_time": "2023-05-24T07:41:02.398Z"
   },
   {
    "duration": 336,
    "start_time": "2023-05-24T07:41:02.416Z"
   },
   {
    "duration": 8,
    "start_time": "2023-05-24T07:41:02.754Z"
   },
   {
    "duration": 29,
    "start_time": "2023-05-24T07:41:02.764Z"
   },
   {
    "duration": 320,
    "start_time": "2023-05-24T07:41:02.795Z"
   },
   {
    "duration": 9,
    "start_time": "2023-05-24T07:41:03.117Z"
   },
   {
    "duration": 28,
    "start_time": "2023-05-24T07:41:03.127Z"
   },
   {
    "duration": 19,
    "start_time": "2023-05-24T07:41:03.156Z"
   },
   {
    "duration": 59,
    "start_time": "2023-05-24T07:41:03.176Z"
   },
   {
    "duration": 15,
    "start_time": "2023-05-24T07:41:03.237Z"
   },
   {
    "duration": 22,
    "start_time": "2023-05-24T07:41:03.253Z"
   },
   {
    "duration": 15,
    "start_time": "2023-05-24T07:41:03.277Z"
   },
   {
    "duration": 32,
    "start_time": "2023-05-24T07:41:03.294Z"
   },
   {
    "duration": 37,
    "start_time": "2023-05-24T07:41:03.327Z"
   },
   {
    "duration": 21,
    "start_time": "2023-05-24T07:41:03.366Z"
   },
   {
    "duration": 6,
    "start_time": "2023-05-24T07:53:41.265Z"
   },
   {
    "duration": 1070,
    "start_time": "2023-05-24T08:12:59.456Z"
   },
   {
    "duration": 125,
    "start_time": "2023-05-24T08:13:00.528Z"
   },
   {
    "duration": 12,
    "start_time": "2023-05-24T08:13:00.655Z"
   },
   {
    "duration": 23,
    "start_time": "2023-05-24T08:13:00.669Z"
   },
   {
    "duration": 32,
    "start_time": "2023-05-24T08:13:00.695Z"
   },
   {
    "duration": 34,
    "start_time": "2023-05-24T08:13:00.729Z"
   },
   {
    "duration": 30,
    "start_time": "2023-05-24T08:13:00.764Z"
   },
   {
    "duration": 35,
    "start_time": "2023-05-24T08:13:00.796Z"
   },
   {
    "duration": 26,
    "start_time": "2023-05-24T08:13:00.832Z"
   },
   {
    "duration": 28,
    "start_time": "2023-05-24T08:13:00.859Z"
   },
   {
    "duration": 40,
    "start_time": "2023-05-24T08:13:00.888Z"
   },
   {
    "duration": 18,
    "start_time": "2023-05-24T08:13:00.929Z"
   },
   {
    "duration": 26,
    "start_time": "2023-05-24T08:13:00.948Z"
   },
   {
    "duration": 66,
    "start_time": "2023-05-24T08:13:00.978Z"
   },
   {
    "duration": 28,
    "start_time": "2023-05-24T08:13:01.045Z"
   },
   {
    "duration": 75,
    "start_time": "2023-05-24T08:13:01.075Z"
   },
   {
    "duration": 172,
    "start_time": "2023-05-24T08:13:01.152Z"
   },
   {
    "duration": 7,
    "start_time": "2023-05-24T08:13:01.326Z"
   },
   {
    "duration": 53,
    "start_time": "2023-05-24T08:13:01.335Z"
   },
   {
    "duration": 162,
    "start_time": "2023-05-24T08:13:01.390Z"
   },
   {
    "duration": 8,
    "start_time": "2023-05-24T08:13:01.555Z"
   },
   {
    "duration": 329,
    "start_time": "2023-05-24T08:13:01.565Z"
   },
   {
    "duration": 323,
    "start_time": "2023-05-24T08:13:01.896Z"
   },
   {
    "duration": 182,
    "start_time": "2023-05-24T08:13:02.221Z"
   },
   {
    "duration": 360,
    "start_time": "2023-05-24T08:13:02.405Z"
   },
   {
    "duration": 394,
    "start_time": "2023-05-24T08:13:02.767Z"
   },
   {
    "duration": 186,
    "start_time": "2023-05-24T08:13:03.163Z"
   },
   {
    "duration": 162,
    "start_time": "2023-05-24T08:13:03.350Z"
   },
   {
    "duration": 9,
    "start_time": "2023-05-24T08:13:03.513Z"
   },
   {
    "duration": 36,
    "start_time": "2023-05-24T08:13:03.524Z"
   },
   {
    "duration": 43,
    "start_time": "2023-05-24T08:13:03.561Z"
   },
   {
    "duration": 22,
    "start_time": "2023-05-24T08:13:03.606Z"
   },
   {
    "duration": 287,
    "start_time": "2023-05-24T08:13:03.630Z"
   },
   {
    "duration": 12,
    "start_time": "2023-05-24T08:13:03.920Z"
   },
   {
    "duration": 25,
    "start_time": "2023-05-24T08:13:03.934Z"
   },
   {
    "duration": 347,
    "start_time": "2023-05-24T08:13:03.961Z"
   },
   {
    "duration": 9,
    "start_time": "2023-05-24T08:13:04.310Z"
   },
   {
    "duration": 16,
    "start_time": "2023-05-24T08:13:04.321Z"
   },
   {
    "duration": 293,
    "start_time": "2023-05-24T08:13:04.339Z"
   },
   {
    "duration": 11,
    "start_time": "2023-05-24T08:13:04.634Z"
   },
   {
    "duration": 18,
    "start_time": "2023-05-24T08:13:04.650Z"
   },
   {
    "duration": 326,
    "start_time": "2023-05-24T08:13:04.670Z"
   },
   {
    "duration": 9,
    "start_time": "2023-05-24T08:13:04.997Z"
   },
   {
    "duration": 27,
    "start_time": "2023-05-24T08:13:05.007Z"
   },
   {
    "duration": 8,
    "start_time": "2023-05-24T08:13:05.036Z"
   },
   {
    "duration": 50,
    "start_time": "2023-05-24T08:13:05.045Z"
   },
   {
    "duration": 16,
    "start_time": "2023-05-24T08:13:05.097Z"
   },
   {
    "duration": 6,
    "start_time": "2023-05-24T08:13:05.114Z"
   },
   {
    "duration": 7,
    "start_time": "2023-05-24T08:13:05.121Z"
   },
   {
    "duration": 103,
    "start_time": "2023-05-24T08:13:05.129Z"
   },
   {
    "duration": 0,
    "start_time": "2023-05-24T08:13:05.234Z"
   },
   {
    "duration": 0,
    "start_time": "2023-05-24T08:13:05.234Z"
   },
   {
    "duration": 7,
    "start_time": "2023-05-24T08:13:55.775Z"
   },
   {
    "duration": 1310,
    "start_time": "2023-05-24T11:17:00.778Z"
   },
   {
    "duration": 347,
    "start_time": "2023-05-24T11:17:02.091Z"
   },
   {
    "duration": 16,
    "start_time": "2023-05-24T11:17:02.440Z"
   },
   {
    "duration": 20,
    "start_time": "2023-05-24T11:17:02.459Z"
   },
   {
    "duration": 50,
    "start_time": "2023-05-24T11:17:02.480Z"
   },
   {
    "duration": 21,
    "start_time": "2023-05-24T11:17:02.532Z"
   },
   {
    "duration": 27,
    "start_time": "2023-05-24T11:17:02.555Z"
   },
   {
    "duration": 29,
    "start_time": "2023-05-24T11:17:02.583Z"
   },
   {
    "duration": 22,
    "start_time": "2023-05-24T11:17:02.613Z"
   },
   {
    "duration": 13,
    "start_time": "2023-05-24T11:17:02.638Z"
   },
   {
    "duration": 29,
    "start_time": "2023-05-24T11:17:02.653Z"
   },
   {
    "duration": 14,
    "start_time": "2023-05-24T11:17:02.684Z"
   },
   {
    "duration": 29,
    "start_time": "2023-05-24T11:17:02.700Z"
   },
   {
    "duration": 22,
    "start_time": "2023-05-24T11:17:02.730Z"
   },
   {
    "duration": 26,
    "start_time": "2023-05-24T11:17:02.754Z"
   },
   {
    "duration": 10,
    "start_time": "2023-05-24T11:17:02.782Z"
   },
   {
    "duration": 167,
    "start_time": "2023-05-24T11:17:02.793Z"
   },
   {
    "duration": 8,
    "start_time": "2023-05-24T11:17:02.962Z"
   },
   {
    "duration": 19,
    "start_time": "2023-05-24T11:17:02.972Z"
   },
   {
    "duration": 93,
    "start_time": "2023-05-24T11:17:02.994Z"
   },
   {
    "duration": 9,
    "start_time": "2023-05-24T11:17:03.088Z"
   },
   {
    "duration": 396,
    "start_time": "2023-05-24T11:17:03.098Z"
   },
   {
    "duration": 321,
    "start_time": "2023-05-24T11:17:03.495Z"
   },
   {
    "duration": 196,
    "start_time": "2023-05-24T11:17:03.818Z"
   },
   {
    "duration": 465,
    "start_time": "2023-05-24T11:17:04.016Z"
   },
   {
    "duration": 458,
    "start_time": "2023-05-24T11:17:04.483Z"
   },
   {
    "duration": 197,
    "start_time": "2023-05-24T11:17:04.943Z"
   },
   {
    "duration": 177,
    "start_time": "2023-05-24T11:17:05.143Z"
   },
   {
    "duration": 9,
    "start_time": "2023-05-24T11:17:05.322Z"
   },
   {
    "duration": 39,
    "start_time": "2023-05-24T11:17:05.332Z"
   },
   {
    "duration": 22,
    "start_time": "2023-05-24T11:17:05.373Z"
   },
   {
    "duration": 27,
    "start_time": "2023-05-24T11:17:05.396Z"
   },
   {
    "duration": 313,
    "start_time": "2023-05-24T11:17:05.424Z"
   },
   {
    "duration": 16,
    "start_time": "2023-05-24T11:17:05.738Z"
   },
   {
    "duration": 17,
    "start_time": "2023-05-24T11:17:05.756Z"
   },
   {
    "duration": 321,
    "start_time": "2023-05-24T11:17:05.775Z"
   },
   {
    "duration": 9,
    "start_time": "2023-05-24T11:17:06.097Z"
   },
   {
    "duration": 14,
    "start_time": "2023-05-24T11:17:06.107Z"
   },
   {
    "duration": 320,
    "start_time": "2023-05-24T11:17:06.123Z"
   },
   {
    "duration": 13,
    "start_time": "2023-05-24T11:17:06.445Z"
   },
   {
    "duration": 16,
    "start_time": "2023-05-24T11:17:06.460Z"
   },
   {
    "duration": 333,
    "start_time": "2023-05-24T11:17:06.478Z"
   },
   {
    "duration": 9,
    "start_time": "2023-05-24T11:17:06.812Z"
   },
   {
    "duration": 28,
    "start_time": "2023-05-24T11:17:06.822Z"
   },
   {
    "duration": 19,
    "start_time": "2023-05-24T11:17:06.852Z"
   },
   {
    "duration": 67,
    "start_time": "2023-05-24T11:17:06.873Z"
   },
   {
    "duration": 20,
    "start_time": "2023-05-24T11:17:06.942Z"
   },
   {
    "duration": 24,
    "start_time": "2023-05-24T11:17:06.964Z"
   },
   {
    "duration": 11,
    "start_time": "2023-05-24T11:17:06.990Z"
   },
   {
    "duration": 107,
    "start_time": "2023-05-24T11:17:07.003Z"
   },
   {
    "duration": 0,
    "start_time": "2023-05-24T11:17:07.112Z"
   },
   {
    "duration": 0,
    "start_time": "2023-05-24T11:17:07.113Z"
   },
   {
    "duration": 2,
    "start_time": "2023-05-24T11:20:46.803Z"
   },
   {
    "duration": 2,
    "start_time": "2023-05-24T11:20:49.868Z"
   },
   {
    "duration": 11,
    "start_time": "2023-05-24T11:20:49.872Z"
   },
   {
    "duration": 12,
    "start_time": "2023-05-24T11:20:49.885Z"
   },
   {
    "duration": 21,
    "start_time": "2023-05-24T11:21:26.449Z"
   },
   {
    "duration": 47,
    "start_time": "2023-05-24T11:48:00.659Z"
   },
   {
    "duration": 1171,
    "start_time": "2023-05-24T11:48:05.212Z"
   },
   {
    "duration": 353,
    "start_time": "2023-05-24T11:48:06.386Z"
   },
   {
    "duration": 13,
    "start_time": "2023-05-24T11:48:06.741Z"
   },
   {
    "duration": 14,
    "start_time": "2023-05-24T11:48:06.755Z"
   },
   {
    "duration": 16,
    "start_time": "2023-05-24T11:48:06.771Z"
   },
   {
    "duration": 12,
    "start_time": "2023-05-24T11:48:06.789Z"
   },
   {
    "duration": 8,
    "start_time": "2023-05-24T11:48:06.802Z"
   },
   {
    "duration": 11,
    "start_time": "2023-05-24T11:48:06.811Z"
   },
   {
    "duration": 6,
    "start_time": "2023-05-24T11:48:06.823Z"
   },
   {
    "duration": 31,
    "start_time": "2023-05-24T11:48:06.831Z"
   },
   {
    "duration": 9,
    "start_time": "2023-05-24T11:48:06.864Z"
   },
   {
    "duration": 9,
    "start_time": "2023-05-24T11:48:06.875Z"
   },
   {
    "duration": 6,
    "start_time": "2023-05-24T11:48:06.885Z"
   },
   {
    "duration": 13,
    "start_time": "2023-05-24T11:48:06.894Z"
   },
   {
    "duration": 5,
    "start_time": "2023-05-24T11:48:06.909Z"
   },
   {
    "duration": 47,
    "start_time": "2023-05-24T11:48:06.915Z"
   },
   {
    "duration": 150,
    "start_time": "2023-05-24T11:48:06.964Z"
   },
   {
    "duration": 8,
    "start_time": "2023-05-24T11:48:07.116Z"
   },
   {
    "duration": 8,
    "start_time": "2023-05-24T11:48:07.125Z"
   },
   {
    "duration": 109,
    "start_time": "2023-05-24T11:48:07.135Z"
   },
   {
    "duration": 17,
    "start_time": "2023-05-24T11:48:07.246Z"
   },
   {
    "duration": 330,
    "start_time": "2023-05-24T11:48:07.265Z"
   },
   {
    "duration": 303,
    "start_time": "2023-05-24T11:48:07.597Z"
   },
   {
    "duration": 203,
    "start_time": "2023-05-24T11:48:07.903Z"
   },
   {
    "duration": 436,
    "start_time": "2023-05-24T11:48:08.108Z"
   },
   {
    "duration": 499,
    "start_time": "2023-05-24T11:48:08.546Z"
   },
   {
    "duration": 213,
    "start_time": "2023-05-24T11:48:09.047Z"
   },
   {
    "duration": 175,
    "start_time": "2023-05-24T11:48:09.262Z"
   },
   {
    "duration": 9,
    "start_time": "2023-05-24T11:48:09.439Z"
   },
   {
    "duration": 37,
    "start_time": "2023-05-24T11:48:09.449Z"
   },
   {
    "duration": 22,
    "start_time": "2023-05-24T11:48:09.487Z"
   },
   {
    "duration": 21,
    "start_time": "2023-05-24T11:48:09.511Z"
   },
   {
    "duration": 291,
    "start_time": "2023-05-24T11:48:09.555Z"
   },
   {
    "duration": 15,
    "start_time": "2023-05-24T11:48:09.848Z"
   },
   {
    "duration": 12,
    "start_time": "2023-05-24T11:48:09.865Z"
   },
   {
    "duration": 349,
    "start_time": "2023-05-24T11:48:09.879Z"
   },
   {
    "duration": 8,
    "start_time": "2023-05-24T11:48:10.231Z"
   },
   {
    "duration": 23,
    "start_time": "2023-05-24T11:48:10.241Z"
   },
   {
    "duration": 320,
    "start_time": "2023-05-24T11:48:10.266Z"
   },
   {
    "duration": 11,
    "start_time": "2023-05-24T11:48:10.588Z"
   },
   {
    "duration": 18,
    "start_time": "2023-05-24T11:48:10.603Z"
   },
   {
    "duration": 318,
    "start_time": "2023-05-24T11:48:10.624Z"
   },
   {
    "duration": 18,
    "start_time": "2023-05-24T11:48:10.944Z"
   },
   {
    "duration": 15,
    "start_time": "2023-05-24T11:48:10.963Z"
   },
   {
    "duration": 4,
    "start_time": "2023-05-24T11:48:10.980Z"
   },
   {
    "duration": 73,
    "start_time": "2023-05-24T11:48:10.985Z"
   },
   {
    "duration": 21,
    "start_time": "2023-05-24T11:48:11.059Z"
   },
   {
    "duration": 9,
    "start_time": "2023-05-24T11:48:11.082Z"
   },
   {
    "duration": 7,
    "start_time": "2023-05-24T11:48:11.092Z"
   },
   {
    "duration": 12,
    "start_time": "2023-05-24T11:48:11.101Z"
   },
   {
    "duration": 17,
    "start_time": "2023-05-24T11:48:11.117Z"
   },
   {
    "duration": 27,
    "start_time": "2023-05-24T11:48:11.135Z"
   },
   {
    "duration": 1018,
    "start_time": "2023-05-24T11:51:56.403Z"
   },
   {
    "duration": 130,
    "start_time": "2023-05-24T11:51:57.424Z"
   },
   {
    "duration": 13,
    "start_time": "2023-05-24T11:51:57.556Z"
   },
   {
    "duration": 20,
    "start_time": "2023-05-24T11:51:57.571Z"
   },
   {
    "duration": 19,
    "start_time": "2023-05-24T11:51:57.593Z"
   },
   {
    "duration": 15,
    "start_time": "2023-05-24T11:51:57.613Z"
   },
   {
    "duration": 8,
    "start_time": "2023-05-24T11:51:57.630Z"
   },
   {
    "duration": 22,
    "start_time": "2023-05-24T11:51:57.639Z"
   },
   {
    "duration": 13,
    "start_time": "2023-05-24T11:51:57.663Z"
   },
   {
    "duration": 29,
    "start_time": "2023-05-24T11:51:57.678Z"
   },
   {
    "duration": 16,
    "start_time": "2023-05-24T11:51:57.709Z"
   },
   {
    "duration": 17,
    "start_time": "2023-05-24T11:51:57.727Z"
   },
   {
    "duration": 9,
    "start_time": "2023-05-24T11:51:57.746Z"
   },
   {
    "duration": 22,
    "start_time": "2023-05-24T11:51:57.758Z"
   },
   {
    "duration": 26,
    "start_time": "2023-05-24T11:51:57.782Z"
   },
   {
    "duration": 18,
    "start_time": "2023-05-24T11:51:57.810Z"
   },
   {
    "duration": 155,
    "start_time": "2023-05-24T11:51:57.830Z"
   },
   {
    "duration": 8,
    "start_time": "2023-05-24T11:51:57.986Z"
   },
   {
    "duration": 13,
    "start_time": "2023-05-24T11:51:57.996Z"
   },
   {
    "duration": 114,
    "start_time": "2023-05-24T11:51:58.010Z"
   },
   {
    "duration": 9,
    "start_time": "2023-05-24T11:51:58.125Z"
   },
   {
    "duration": 333,
    "start_time": "2023-05-24T11:51:58.135Z"
   },
   {
    "duration": 307,
    "start_time": "2023-05-24T11:51:58.469Z"
   },
   {
    "duration": 255,
    "start_time": "2023-05-24T11:51:58.778Z"
   },
   {
    "duration": 415,
    "start_time": "2023-05-24T11:51:59.035Z"
   },
   {
    "duration": 435,
    "start_time": "2023-05-24T11:51:59.456Z"
   },
   {
    "duration": 203,
    "start_time": "2023-05-24T11:51:59.893Z"
   },
   {
    "duration": 169,
    "start_time": "2023-05-24T11:52:00.098Z"
   },
   {
    "duration": 10,
    "start_time": "2023-05-24T11:52:00.269Z"
   },
   {
    "duration": 58,
    "start_time": "2023-05-24T11:52:00.281Z"
   },
   {
    "duration": 31,
    "start_time": "2023-05-24T11:52:00.341Z"
   },
   {
    "duration": 34,
    "start_time": "2023-05-24T11:52:00.374Z"
   },
   {
    "duration": 300,
    "start_time": "2023-05-24T11:52:00.410Z"
   },
   {
    "duration": 9,
    "start_time": "2023-05-24T11:52:00.711Z"
   },
   {
    "duration": 54,
    "start_time": "2023-05-24T11:52:00.722Z"
   },
   {
    "duration": 388,
    "start_time": "2023-05-24T11:52:00.777Z"
   },
   {
    "duration": 8,
    "start_time": "2023-05-24T11:52:01.167Z"
   },
   {
    "duration": 61,
    "start_time": "2023-05-24T11:52:01.177Z"
   },
   {
    "duration": 333,
    "start_time": "2023-05-24T11:52:01.239Z"
   },
   {
    "duration": 8,
    "start_time": "2023-05-24T11:52:01.574Z"
   },
   {
    "duration": 57,
    "start_time": "2023-05-24T11:52:01.586Z"
   },
   {
    "duration": 347,
    "start_time": "2023-05-24T11:52:01.645Z"
   },
   {
    "duration": 10,
    "start_time": "2023-05-24T11:52:01.994Z"
   },
   {
    "duration": 72,
    "start_time": "2023-05-24T11:52:02.006Z"
   },
   {
    "duration": 23,
    "start_time": "2023-05-24T11:52:02.080Z"
   },
   {
    "duration": 73,
    "start_time": "2023-05-24T11:52:02.104Z"
   },
   {
    "duration": 18,
    "start_time": "2023-05-24T11:52:02.179Z"
   },
   {
    "duration": 24,
    "start_time": "2023-05-24T11:52:02.199Z"
   },
   {
    "duration": 22,
    "start_time": "2023-05-24T11:52:02.225Z"
   },
   {
    "duration": 37,
    "start_time": "2023-05-24T11:52:02.249Z"
   },
   {
    "duration": 47,
    "start_time": "2023-05-24T11:52:02.288Z"
   },
   {
    "duration": 26,
    "start_time": "2023-05-24T11:52:02.336Z"
   },
   {
    "duration": 1055,
    "start_time": "2023-05-24T11:52:48.651Z"
   },
   {
    "duration": 138,
    "start_time": "2023-05-24T11:52:49.708Z"
   },
   {
    "duration": 15,
    "start_time": "2023-05-24T11:52:49.848Z"
   },
   {
    "duration": 12,
    "start_time": "2023-05-24T11:52:49.865Z"
   },
   {
    "duration": 13,
    "start_time": "2023-05-24T11:52:49.879Z"
   },
   {
    "duration": 24,
    "start_time": "2023-05-24T11:52:49.894Z"
   },
   {
    "duration": 6,
    "start_time": "2023-05-24T11:52:49.920Z"
   },
   {
    "duration": 14,
    "start_time": "2023-05-24T11:52:49.927Z"
   },
   {
    "duration": 17,
    "start_time": "2023-05-24T11:52:49.942Z"
   },
   {
    "duration": 6,
    "start_time": "2023-05-24T11:52:49.960Z"
   },
   {
    "duration": 7,
    "start_time": "2023-05-24T11:52:49.967Z"
   },
   {
    "duration": 8,
    "start_time": "2023-05-24T11:52:49.976Z"
   },
   {
    "duration": 6,
    "start_time": "2023-05-24T11:52:49.985Z"
   },
   {
    "duration": 15,
    "start_time": "2023-05-24T11:52:49.994Z"
   },
   {
    "duration": 5,
    "start_time": "2023-05-24T11:52:50.011Z"
   },
   {
    "duration": 45,
    "start_time": "2023-05-24T11:52:50.018Z"
   },
   {
    "duration": 157,
    "start_time": "2023-05-24T11:52:50.064Z"
   },
   {
    "duration": 8,
    "start_time": "2023-05-24T11:52:50.222Z"
   },
   {
    "duration": 13,
    "start_time": "2023-05-24T11:52:50.232Z"
   },
   {
    "duration": 90,
    "start_time": "2023-05-24T11:52:50.247Z"
   },
   {
    "duration": 22,
    "start_time": "2023-05-24T11:52:50.339Z"
   },
   {
    "duration": 324,
    "start_time": "2023-05-24T11:52:50.365Z"
   },
   {
    "duration": 304,
    "start_time": "2023-05-24T11:52:50.691Z"
   },
   {
    "duration": 190,
    "start_time": "2023-05-24T11:52:50.996Z"
   },
   {
    "duration": 398,
    "start_time": "2023-05-24T11:52:51.188Z"
   },
   {
    "duration": 423,
    "start_time": "2023-05-24T11:52:51.588Z"
   },
   {
    "duration": 199,
    "start_time": "2023-05-24T11:52:52.013Z"
   },
   {
    "duration": 171,
    "start_time": "2023-05-24T11:52:52.213Z"
   },
   {
    "duration": 11,
    "start_time": "2023-05-24T11:52:52.386Z"
   },
   {
    "duration": 51,
    "start_time": "2023-05-24T11:52:52.399Z"
   },
   {
    "duration": 30,
    "start_time": "2023-05-24T11:52:52.451Z"
   },
   {
    "duration": 20,
    "start_time": "2023-05-24T11:52:52.482Z"
   },
   {
    "duration": 301,
    "start_time": "2023-05-24T11:52:52.504Z"
   },
   {
    "duration": 9,
    "start_time": "2023-05-24T11:52:52.807Z"
   },
   {
    "duration": 15,
    "start_time": "2023-05-24T11:52:52.818Z"
   },
   {
    "duration": 349,
    "start_time": "2023-05-24T11:52:52.835Z"
   },
   {
    "duration": 10,
    "start_time": "2023-05-24T11:52:53.186Z"
   },
   {
    "duration": 20,
    "start_time": "2023-05-24T11:52:53.198Z"
   },
   {
    "duration": 319,
    "start_time": "2023-05-24T11:52:53.220Z"
   },
   {
    "duration": 15,
    "start_time": "2023-05-24T11:52:53.541Z"
   },
   {
    "duration": 14,
    "start_time": "2023-05-24T11:52:53.560Z"
   },
   {
    "duration": 305,
    "start_time": "2023-05-24T11:52:53.575Z"
   },
   {
    "duration": 9,
    "start_time": "2023-05-24T11:52:53.882Z"
   },
   {
    "duration": 14,
    "start_time": "2023-05-24T11:52:53.892Z"
   },
   {
    "duration": 4,
    "start_time": "2023-05-24T11:52:53.907Z"
   },
   {
    "duration": 74,
    "start_time": "2023-05-24T11:52:53.912Z"
   },
   {
    "duration": 18,
    "start_time": "2023-05-24T11:52:53.987Z"
   },
   {
    "duration": 7,
    "start_time": "2023-05-24T11:52:54.006Z"
   },
   {
    "duration": 4,
    "start_time": "2023-05-24T11:52:54.015Z"
   },
   {
    "duration": 20,
    "start_time": "2023-05-24T11:52:54.021Z"
   },
   {
    "duration": 15,
    "start_time": "2023-05-24T11:52:54.043Z"
   },
   {
    "duration": 19,
    "start_time": "2023-05-24T11:52:54.060Z"
   },
   {
    "duration": 1125,
    "start_time": "2023-05-24T19:17:17.682Z"
   },
   {
    "duration": 143,
    "start_time": "2023-05-24T19:17:18.809Z"
   },
   {
    "duration": 14,
    "start_time": "2023-05-24T19:17:18.953Z"
   },
   {
    "duration": 26,
    "start_time": "2023-05-24T19:17:18.970Z"
   },
   {
    "duration": 23,
    "start_time": "2023-05-24T19:17:18.998Z"
   },
   {
    "duration": 64,
    "start_time": "2023-05-24T19:17:19.022Z"
   },
   {
    "duration": 23,
    "start_time": "2023-05-24T19:17:19.088Z"
   },
   {
    "duration": 47,
    "start_time": "2023-05-24T19:17:19.113Z"
   },
   {
    "duration": 22,
    "start_time": "2023-05-24T19:17:19.161Z"
   },
   {
    "duration": 23,
    "start_time": "2023-05-24T19:17:19.187Z"
   },
   {
    "duration": 51,
    "start_time": "2023-05-24T19:17:19.211Z"
   },
   {
    "duration": 22,
    "start_time": "2023-05-24T19:17:19.264Z"
   },
   {
    "duration": 18,
    "start_time": "2023-05-24T19:17:19.288Z"
   },
   {
    "duration": 29,
    "start_time": "2023-05-24T19:17:19.307Z"
   },
   {
    "duration": 30,
    "start_time": "2023-05-24T19:17:19.338Z"
   },
   {
    "duration": 27,
    "start_time": "2023-05-24T19:17:19.369Z"
   },
   {
    "duration": 180,
    "start_time": "2023-05-24T19:17:19.398Z"
   },
   {
    "duration": 8,
    "start_time": "2023-05-24T19:17:19.580Z"
   },
   {
    "duration": 23,
    "start_time": "2023-05-24T19:17:19.590Z"
   },
   {
    "duration": 119,
    "start_time": "2023-05-24T19:17:19.615Z"
   },
   {
    "duration": 13,
    "start_time": "2023-05-24T19:17:19.744Z"
   },
   {
    "duration": 356,
    "start_time": "2023-05-24T19:17:19.759Z"
   },
   {
    "duration": 320,
    "start_time": "2023-05-24T19:17:20.124Z"
   },
   {
    "duration": 189,
    "start_time": "2023-05-24T19:17:20.449Z"
   },
   {
    "duration": 410,
    "start_time": "2023-05-24T19:17:20.639Z"
   },
   {
    "duration": 464,
    "start_time": "2023-05-24T19:17:21.053Z"
   },
   {
    "duration": 199,
    "start_time": "2023-05-24T19:17:21.519Z"
   },
   {
    "duration": 172,
    "start_time": "2023-05-24T19:17:21.726Z"
   },
   {
    "duration": 8,
    "start_time": "2023-05-24T19:17:21.900Z"
   },
   {
    "duration": 44,
    "start_time": "2023-05-24T19:17:21.909Z"
   },
   {
    "duration": 30,
    "start_time": "2023-05-24T19:17:21.955Z"
   },
   {
    "duration": 24,
    "start_time": "2023-05-24T19:17:21.987Z"
   },
   {
    "duration": 343,
    "start_time": "2023-05-24T19:17:22.012Z"
   },
   {
    "duration": 9,
    "start_time": "2023-05-24T19:17:22.357Z"
   },
   {
    "duration": 44,
    "start_time": "2023-05-24T19:17:22.368Z"
   },
   {
    "duration": 360,
    "start_time": "2023-05-24T19:17:22.414Z"
   },
   {
    "duration": 8,
    "start_time": "2023-05-24T19:17:22.775Z"
   },
   {
    "duration": 31,
    "start_time": "2023-05-24T19:17:22.784Z"
   },
   {
    "duration": 322,
    "start_time": "2023-05-24T19:17:22.816Z"
   },
   {
    "duration": 11,
    "start_time": "2023-05-24T19:17:23.145Z"
   },
   {
    "duration": 18,
    "start_time": "2023-05-24T19:17:23.158Z"
   },
   {
    "duration": 371,
    "start_time": "2023-05-24T19:17:23.178Z"
   },
   {
    "duration": 8,
    "start_time": "2023-05-24T19:17:23.555Z"
   },
   {
    "duration": 30,
    "start_time": "2023-05-24T19:17:23.564Z"
   },
   {
    "duration": 4,
    "start_time": "2023-05-24T19:17:23.596Z"
   },
   {
    "duration": 62,
    "start_time": "2023-05-24T19:17:23.602Z"
   },
   {
    "duration": 19,
    "start_time": "2023-05-24T19:17:23.665Z"
   },
   {
    "duration": 27,
    "start_time": "2023-05-24T19:17:23.685Z"
   },
   {
    "duration": 6,
    "start_time": "2023-05-24T19:17:23.713Z"
   },
   {
    "duration": 48,
    "start_time": "2023-05-24T19:17:23.733Z"
   },
   {
    "duration": 31,
    "start_time": "2023-05-24T19:17:23.783Z"
   },
   {
    "duration": 51,
    "start_time": "2023-05-24T19:17:23.816Z"
   }
  ],
  "kernelspec": {
   "display_name": "Python 3 (ipykernel)",
   "language": "python",
   "name": "python3"
  },
  "language_info": {
   "codemirror_mode": {
    "name": "ipython",
    "version": 3
   },
   "file_extension": ".py",
   "mimetype": "text/x-python",
   "name": "python",
   "nbconvert_exporter": "python",
   "pygments_lexer": "ipython3",
   "version": "3.9.16"
  },
  "toc": {
   "base_numbering": 1,
   "nav_menu": {},
   "number_sections": true,
   "sideBar": true,
   "skip_h1_title": true,
   "title_cell": "Table of Contents",
   "title_sidebar": "Contents",
   "toc_cell": false,
   "toc_position": {
    "height": "calc(100% - 180px)",
    "left": "10px",
    "top": "150px",
    "width": "290.875px"
   },
   "toc_section_display": true,
   "toc_window_display": false
  }
 },
 "nbformat": 4,
 "nbformat_minor": 5
}
